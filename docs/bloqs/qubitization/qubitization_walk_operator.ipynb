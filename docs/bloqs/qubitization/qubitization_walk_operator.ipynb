{
 "cells": [
  {
   "cell_type": "markdown",
   "id": "cfd6b8eb",
   "metadata": {
    "cq.autogen": "title_cell"
   },
   "source": [
    "# Qubitization Walk Operator\n",
    "\n",
    "Bloqs for constructing quantum walks from Select and Prepare operators.\n",
    "\n",
    "The spectrum of a quantum Hamiltonian can be encoded in the spectrum of a quantum \"walk\"\n",
    "operator. The Prepare and Select subroutines are carefully designed so that the Hamiltonian\n",
    "$H$ is encoded as a projection of Select onto the state prepared by Prepare:\n",
    "\n",
    "$$\n",
    "\\mathrm{PREPARE}|0\\rangle = |\\mathcal{L}\\rangle \\\\\n",
    "(\\langle \\mathcal{L} | \\otimes \\mathbb{1}) \\mathrm{SELECT} (|\\mathcal{L} \\rangle \\otimes \\mathbb{1}) = H / \\lambda\n",
    "$$.\n",
    "We first document the SelectOracle and PrepareOracle abstract base bloqs, and then show\n",
    "how they can be combined in `QubitizationWalkOperator`."
   ]
  },
  {
   "cell_type": "code",
   "execution_count": 1,
   "id": "b9661b50",
   "metadata": {
    "cq.autogen": "top_imports"
   },
   "outputs": [],
   "source": [
    "from qualtran import Bloq, CompositeBloq, BloqBuilder, Signature, Register\n",
    "from qualtran import QBit, QInt, QUInt, QAny\n",
    "from qualtran.drawing import show_bloq, show_call_graph, show_counts_sigma\n",
    "from typing import *\n",
    "import numpy as np\n",
    "import sympy\n",
    "import cirq"
   ]
  },
  {
   "cell_type": "markdown",
   "id": "399690ef",
   "metadata": {
    "cq.autogen": "SelectOracle.bloq_doc.md"
   },
   "source": [
    "## `SelectOracle`\n",
    "Abstract base class that defines the interface for a SELECT Oracle.\n",
    "\n",
    "The action of a SELECT oracle on a selection register $|l\\rangle$ and target register\n",
    "$|\\Psi\\rangle$ can be defined as:\n",
    "\n",
    "$$\n",
    "    \\mathrm{SELECT} = \\sum_{l}|l \\rangle \\langle l| \\otimes U_l\n",
    "$$\n",
    "\n",
    "In other words, the `SELECT` oracle applies $l$'th unitary $U_l$ on the target register\n",
    "$|\\Psi\\rangle$ when the selection register stores integer $l$.\n",
    "\n",
    "$$\n",
    "    \\mathrm{SELECT}|l\\rangle |\\Psi\\rangle = |l\\rangle U_{l}|\\Psi\\rangle\n",
    "$$"
   ]
  },
  {
   "cell_type": "code",
   "execution_count": 2,
   "id": "b2bae756",
   "metadata": {
    "cq.autogen": "SelectOracle.bloq_doc.py"
   },
   "outputs": [],
   "source": [
    "from qualtran.bloqs.multiplexers.select_base import SelectOracle"
   ]
  },
  {
   "cell_type": "markdown",
   "id": "774308d5",
   "metadata": {
    "cq.autogen": "PrepareOracle.bloq_doc.md"
   },
   "source": [
    "## `PrepareOracle`\n",
    "Abstract base class that defines the API for a PREPARE Oracle.\n",
    "\n",
    "Given a set of coefficients $\\{c_0, c_1, ..., c_{N - 1}\\}$, the PREPARE oracle is used to encode\n",
    "the coefficients as amplitudes of a state $|\\Psi\\rangle = \\sum_{l=0}^{N-1} \\sqrt{\\frac{c_l}{\\lambda}} |l\\rangle$\n",
    "where $\\lambda = \\sum_l |c_l|$, using a selection register $|l\\rangle$. In order to prepare such\n",
    "a state, the PREPARE circuit is also allowed to use a junk register that is entangled with\n",
    "selection register.\n",
    "\n",
    "Thus, the action of a PREPARE circuit on an input state $|0\\rangle$ can be defined as:\n",
    "\n",
    "$$\n",
    "    \\mathrm{PREPARE} |0\\rangle = \\sum_{l=0}^{N-1} \\sqrt{ \\frac{c_l}{\\lambda} } |l\\rangle |\\mathrm{junk}_l\\rangle\n",
    "$$"
   ]
  },
  {
   "cell_type": "code",
   "execution_count": 3,
   "id": "bba5bab6",
   "metadata": {
    "cq.autogen": "PrepareOracle.bloq_doc.py"
   },
   "outputs": [],
   "source": [
    "from qualtran.bloqs.state_preparation.prepare_base import PrepareOracle"
   ]
  },
  {
   "cell_type": "markdown",
   "id": "229ba8d6",
   "metadata": {
    "cq.autogen": "QubitizationWalkOperator.bloq_doc.md"
   },
   "source": [
    "## `QubitizationWalkOperator`\n",
    "Construct a Szegedy Quantum Walk operator using LCU oracles SELECT and PREPARE.\n",
    "\n",
    "For a Hamiltonian $H = \\sum_l w_l H_l$ (where coefficients $w_l > 0$ and $H_l$ are unitaries),\n",
    "This bloq constructs a Szegedy quantum walk operator $W = R_{L} \\cdot \\mathrm{SELECT}$,\n",
    "which is a product of two reflections:\n",
    " - $R_L = (2|L\\rangle\\langle L| - I)$ and\n",
    " - $\\mathrm{SELECT}=\\sum_l |l\\rangle\\langle l|H_l$.\n",
    "\n",
    "The action of $W$ partitions the Hilbert space into a direct sum of two-dimensional irreducible\n",
    "vector spaces giving it the name \"qubitization\".\n",
    "For an arbitrary eigenstate $|k\\rangle$ of $H$ with eigenvalue $E_k$,\n",
    "the two-dimensional space is spanned by $|L\\rangle|k\\rangle$ and\n",
    "an orthogonal state $\\phi_k$. In this space, $W$ implements a Pauli-Y rotation by an angle of\n",
    "$-2\\arccos(E_k / \\lambda)$ where $\\lambda = \\sum_l w_l$. That is,\n",
    "$W = e^{i \\arccos(E_k / \\lambda) Y}$.\n",
    "\n",
    "Thus, the walk operator $W$ encodes the spectrum of $H$ as a function of eigenphases of $W$,\n",
    "specifically $\\mathrm{spectrum}(H) = \\lambda \\cos(\\arg(\\mathrm{spectrum}(W)))$\n",
    "where $\\arg(e^{i\\phi}) = \\phi$.\n",
    "\n",
    "#### Parameters\n",
    " - `select`: The SELECT lcu gate implementing $\\mathrm{SELECT}=\\sum_{l}|l\\rangle\\langle l|H_{l}$.\n",
    " - `prepare`: Then PREPARE lcu gate implementing $\\mathrm{PREPARE}|0\\dots 0\\rangle = \\sum_l \\sqrt{\\frac{w_{l}}{\\lambda}} |l\\rangle = |L\\rangle$ \n",
    "\n",
    "#### References\n",
    " - [Encoding Electronic Spectra in Quantum Circuits with Linear T Complexity](https://arxiv.org/abs/1805.03662). Babbush et al. (2018). Figure 1.\n"
   ]
  },
  {
   "cell_type": "code",
   "execution_count": 4,
   "id": "15321e4d",
   "metadata": {
    "cq.autogen": "QubitizationWalkOperator.bloq_doc.py"
   },
   "outputs": [],
   "source": [
    "from qualtran.bloqs.qubitization import QubitizationWalkOperator"
   ]
  },
  {
   "cell_type": "markdown",
   "id": "96fc5764",
   "metadata": {
    "cq.autogen": "QubitizationWalkOperator.example_instances.md"
   },
   "source": [
    "### Example Instances"
   ]
  },
  {
   "cell_type": "code",
   "execution_count": 5,
   "id": "f8392371",
   "metadata": {
    "cq.autogen": "QubitizationWalkOperator.walk_op"
   },
   "outputs": [],
   "source": [
    "from qualtran.bloqs.chemistry.ising.walk_operator import get_walk_operator_for_1d_ising_model\n",
    "\n",
    "walk_op, _ = get_walk_operator_for_1d_ising_model(4, 2e-1)"
   ]
  },
  {
   "cell_type": "code",
   "execution_count": 6,
   "id": "610b41e2",
   "metadata": {
    "cq.autogen": "QubitizationWalkOperator.thc_walk_op"
   },
   "outputs": [],
   "source": [
    "from openfermion.resource_estimates.utils import QI\n",
    "\n",
    "from qualtran.bloqs.chemistry.thc.prepare_test import build_random_test_integrals\n",
    "from qualtran.bloqs.chemistry.thc.walk_operator import get_walk_operator_for_thc_ham\n",
    "\n",
    "# Li et al parameters from openfermion.resource_estimates.thc.compute_cost_thc_test\n",
    "num_spinorb = 152\n",
    "num_bits_state_prep = 10\n",
    "num_bits_rot = 20\n",
    "thc_dim = 450\n",
    "num_spat = num_spinorb // 2\n",
    "t_l, eta, zeta = build_random_test_integrals(thc_dim, num_spinorb // 2, seed=7)\n",
    "qroam_blocking_factor = np.power(2, QI(thc_dim + num_spat)[0])\n",
    "thc_walk_op = get_walk_operator_for_thc_ham(\n",
    "    t_l,\n",
    "    eta,\n",
    "    zeta,\n",
    "    num_bits_state_prep=num_bits_state_prep,\n",
    "    num_bits_theta=num_bits_rot,\n",
    "    kr1=qroam_blocking_factor,\n",
    "    kr2=qroam_blocking_factor,\n",
    ")"
   ]
  },
  {
   "cell_type": "code",
   "execution_count": 7,
   "id": "0832238d",
   "metadata": {
    "cq.autogen": "QubitizationWalkOperator.walk_op_chem_sparse"
   },
   "outputs": [],
   "source": [
    "from qualtran.bloqs.chemistry.sparse.prepare_test import build_random_test_integrals\n",
    "from qualtran.bloqs.chemistry.sparse.walk_operator import get_walk_operator_for_sparse_chem_ham\n",
    "\n",
    "num_spin_orb = 8\n",
    "num_bits_rot_aa = 8\n",
    "num_bits_state_prep = 12\n",
    "tpq, eris = build_random_test_integrals(num_spin_orb // 2)\n",
    "walk_op_chem_sparse = get_walk_operator_for_sparse_chem_ham(\n",
    "    tpq, eris, num_bits_rot_aa=num_bits_rot_aa, num_bits_state_prep=num_bits_state_prep\n",
    ")"
   ]
  },
  {
   "cell_type": "markdown",
   "id": "03c98002",
   "metadata": {
    "cq.autogen": "QubitizationWalkOperator.graphical_signature.md"
   },
   "source": [
    "#### Graphical Signature"
   ]
  },
  {
   "cell_type": "code",
   "execution_count": 8,
   "id": "9351cadf",
   "metadata": {
    "cq.autogen": "QubitizationWalkOperator.graphical_signature.py"
   },
   "outputs": [
    {
     "data": {
      "application/vnd.jupyter.widget-view+json": {
       "model_id": "32f9d6fac613415a893c9d029d0d53a7",
       "version_major": 2,
       "version_minor": 0
      },
      "text/plain": [
       "HBox(children=(Output(outputs=({'output_type': 'display_data', 'data': {'text/plain': '<IPython.core.display.M…"
      ]
     },
     "metadata": {},
     "output_type": "display_data"
    }
   ],
   "source": [
    "from qualtran.drawing import show_bloqs\n",
    "show_bloqs([walk_op, thc_walk_op, walk_op_chem_sparse],\n",
    "           ['`walk_op`', '`thc_walk_op`', '`walk_op_chem_sparse`'])"
   ]
  },
  {
   "cell_type": "markdown",
   "id": "1bacb706",
   "metadata": {
    "cq.autogen": "QubitizationWalkOperator.call_graph.md"
   },
   "source": [
    "### Call Graph"
   ]
  },
  {
   "cell_type": "code",
   "execution_count": 9,
   "id": "c675bcf0",
   "metadata": {
    "cq.autogen": "QubitizationWalkOperator.call_graph.py"
   },
   "outputs": [
    {
     "data": {
      "image/svg+xml": [
       "<svg xmlns=\"http://www.w3.org/2000/svg\" xmlns:xlink=\"http://www.w3.org/1999/xlink\" width=\"206pt\" height=\"131pt\" viewBox=\"0.00 0.00 206.00 131.00\">\n",
       "<g id=\"graph0\" class=\"graph\" transform=\"scale(1 1) rotate(0) translate(4 127)\">\n",
       "<title>counts</title>\n",
       "<polygon fill=\"white\" stroke=\"transparent\" points=\"-4,4 -4,-127 202,-127 202,4 -4,4\"/>\n",
       "<!-- b0 -->\n",
       "<g id=\"node1\" class=\"node\">\n",
       "<title>b0</title>\n",
       "<polygon fill=\"none\" stroke=\"black\" points=\"20,-93 20,-116 142,-116 142,-93 20,-93\"/>\n",
       "<text text-anchor=\"start\" x=\"26\" y=\"-102\" font-family=\"Times,serif\" font-size=\"10.00\">QubitizationWalkOperator</text>\n",
       "</g>\n",
       "<!-- b1 -->\n",
       "<g id=\"node2\" class=\"node\">\n",
       "<title>b1</title>\n",
       "<polygon fill=\"none\" stroke=\"black\" points=\"10,-6 10,-29 44,-29 44,-6 10,-6\"/>\n",
       "<text text-anchor=\"start\" x=\"16.5\" y=\"-15\" font-family=\"Times,serif\" font-size=\"10.00\">B[H]</text>\n",
       "</g>\n",
       "<!-- b0&#45;&gt;b1 -->\n",
       "<g id=\"edge1\" class=\"edge\">\n",
       "<title>b0-&gt;b1</title>\n",
       "<path fill=\"none\" stroke=\"black\" d=\"M70.07,-86.8C62.39,-74.7 51.97,-58.3 43.31,-44.67\"/>\n",
       "<polygon fill=\"black\" stroke=\"black\" points=\"46.23,-42.74 37.91,-36.18 40.32,-46.49 46.23,-42.74\"/>\n",
       "<text text-anchor=\"middle\" x=\"61.5\" y=\"-57.8\" font-family=\"Times,serif\" font-size=\"14.00\">1</text>\n",
       "</g>\n",
       "<!-- b2 -->\n",
       "<g id=\"node3\" class=\"node\">\n",
       "<title>b2</title>\n",
       "<polygon fill=\"none\" stroke=\"black\" points=\"80,-6 80,-29 190,-29 190,-6 80,-6\"/>\n",
       "<text text-anchor=\"start\" x=\"86\" y=\"-15\" font-family=\"Times,serif\" font-size=\"10.00\">ReflectionUsingPrepare</text>\n",
       "</g>\n",
       "<!-- b0&#45;&gt;b2 -->\n",
       "<g id=\"edge2\" class=\"edge\">\n",
       "<title>b0-&gt;b2</title>\n",
       "<path fill=\"none\" stroke=\"black\" d=\"M91.93,-86.8C99.61,-74.7 110.03,-58.3 118.69,-44.67\"/>\n",
       "<polygon fill=\"black\" stroke=\"black\" points=\"121.68,-46.49 124.09,-36.18 115.77,-42.74 121.68,-46.49\"/>\n",
       "<text text-anchor=\"middle\" x=\"114.5\" y=\"-57.8\" font-family=\"Times,serif\" font-size=\"14.00\">1</text>\n",
       "</g>\n",
       "</g>\n",
       "</svg>"
      ],
      "text/plain": [
       "<IPython.core.display.SVG object>"
      ]
     },
     "metadata": {},
     "output_type": "display_data"
    },
    {
     "data": {
      "text/markdown": [
       "#### Counts totals:\n",
       " - `B[H]`: 1\n",
       " - `ReflectionUsingPrepare`: 1"
      ],
      "text/plain": [
       "<IPython.core.display.Markdown object>"
      ]
     },
     "metadata": {},
     "output_type": "display_data"
    }
   ],
   "source": [
    "from qualtran.resource_counting.generalizers import ignore_split_join\n",
    "walk_op_g, walk_op_sigma = walk_op.call_graph(max_depth=1, generalizer=ignore_split_join)\n",
    "show_call_graph(walk_op_g)\n",
    "show_counts_sigma(walk_op_sigma)"
   ]
  }
 ],
 "metadata": {
  "kernelspec": {
   "display_name": "Python 3 (ipykernel)",
   "language": "python",
   "name": "python3"
  },
  "language_info": {
   "codemirror_mode": {
    "name": "ipython",
    "version": 3
   },
   "file_extension": ".py",
   "mimetype": "text/x-python",
   "name": "python",
   "nbconvert_exporter": "python",
   "pygments_lexer": "ipython3",
   "version": "3.11.8"
  },
  "widgets": {
   "application/vnd.jupyter.widget-state+json": {
    "state": {
     "149defcf423448d99c4822bee02eef0d": {
      "model_module": "@jupyter-widgets/base",
      "model_module_version": "2.0.0",
      "model_name": "LayoutModel",
      "state": {
       "_model_module": "@jupyter-widgets/base",
       "_model_module_version": "2.0.0",
       "_model_name": "LayoutModel",
       "_view_count": null,
       "_view_module": "@jupyter-widgets/base",
       "_view_module_version": "2.0.0",
       "_view_name": "LayoutView",
       "align_content": null,
       "align_items": null,
       "align_self": null,
       "border_bottom": null,
       "border_left": null,
       "border_right": null,
       "border_top": null,
       "bottom": null,
       "display": null,
       "flex": null,
       "flex_flow": null,
       "grid_area": null,
       "grid_auto_columns": null,
       "grid_auto_flow": null,
       "grid_auto_rows": null,
       "grid_column": null,
       "grid_gap": null,
       "grid_row": null,
       "grid_template_areas": null,
       "grid_template_columns": null,
       "grid_template_rows": null,
       "height": null,
       "justify_content": null,
       "justify_items": null,
       "left": null,
       "margin": null,
       "max_height": null,
       "max_width": null,
       "min_height": null,
       "min_width": null,
       "object_fit": null,
       "object_position": null,
       "order": null,
       "overflow": null,
       "padding": null,
       "right": null,
       "top": null,
       "visibility": null,
       "width": null
      }
     },
     "2230b7bccaa3405f92a899524289fb0d": {
      "model_module": "@jupyter-widgets/output",
      "model_module_version": "1.0.0",
      "model_name": "OutputModel",
      "state": {
       "_dom_classes": [],
       "_model_module": "@jupyter-widgets/output",
       "_model_module_version": "1.0.0",
       "_model_name": "OutputModel",
       "_view_count": null,
       "_view_module": "@jupyter-widgets/output",
       "_view_module_version": "1.0.0",
       "_view_name": "OutputView",
       "layout": "IPY_MODEL_6d776053a1d549c8a98cce89bf01502f",
       "msg_id": "",
       "outputs": [
        {
         "data": {
          "text/markdown": "`walk_op_chem_sparse`",
          "text/plain": "<IPython.core.display.Markdown object>"
         },
         "metadata": {},
         "output_type": "display_data"
        },
        {
         "data": {
          "image/svg+xml": "<svg xmlns=\"http://www.w3.org/2000/svg\" xmlns:xlink=\"http://www.w3.org/1999/xlink\" width=\"346pt\" height=\"746pt\" viewBox=\"0.00 0.00 346.00 746.00\">\n<g id=\"graph0\" class=\"graph\" transform=\"scale(1 1) rotate(0) translate(4 742)\">\n<title>my_graph</title>\n<polygon fill=\"white\" stroke=\"transparent\" points=\"-4,4 -4,-742 342,-742 342,4 -4,4\"/>\n<!-- swap_pq_G3 -->\n<g id=\"node1\" class=\"node\">\n<title>swap_pq_G3</title>\n<text text-anchor=\"middle\" x=\"37\" y=\"-716.3\" font-family=\"Times,serif\" font-size=\"14.00\">swap_pq</text>\n</g>\n<!-- QubitizationWalkOperator -->\n<g id=\"node15\" class=\"node\">\n<title>QubitizationWalkOperator</title>\n<polygon fill=\"none\" stroke=\"black\" points=\"111,-516 111,-533 227,-533 227,-516 111,-516\"/>\n<text text-anchor=\"start\" x=\"114\" y=\"-522\" font-family=\"Times,serif\" font-size=\"10.00\">QubitizationWalkOperator</text>\n<polygon fill=\"none\" stroke=\"black\" points=\"111,-495 111,-516 227,-516 227,-495 111,-495\"/>\n<text text-anchor=\"start\" x=\"144.5\" y=\"-501.8\" font-family=\"Times,serif\" font-size=\"14.00\">swap_pq</text>\n<polygon fill=\"none\" stroke=\"black\" points=\"111,-474 111,-495 227,-495 227,-474 111,-474\"/>\n<text text-anchor=\"start\" x=\"140\" y=\"-480.8\" font-family=\"Times,serif\" font-size=\"14.00\">swap_pqrs</text>\n<polygon fill=\"none\" stroke=\"black\" points=\"111,-453 111,-474 227,-474 227,-453 111,-453\"/>\n<text text-anchor=\"start\" x=\"154\" y=\"-459.8\" font-family=\"Times,serif\" font-size=\"14.00\">alpha</text>\n<polygon fill=\"none\" stroke=\"black\" points=\"111,-432 111,-453 227,-453 227,-432 111,-432\"/>\n<text text-anchor=\"start\" x=\"165.5\" y=\"-438.8\" font-family=\"Times,serif\" font-size=\"14.00\">d</text>\n<polygon fill=\"none\" stroke=\"black\" points=\"111,-411 111,-432 227,-432 227,-411 111,-411\"/>\n<text text-anchor=\"start\" x=\"152\" y=\"-417.8\" font-family=\"Times,serif\" font-size=\"14.00\">sigma</text>\n<polygon fill=\"none\" stroke=\"black\" points=\"111,-390 111,-411 227,-411 227,-390 111,-390\"/>\n<text text-anchor=\"start\" x=\"152\" y=\"-396.8\" font-family=\"Times,serif\" font-size=\"14.00\">rot_aa</text>\n<polygon fill=\"none\" stroke=\"black\" points=\"111,-369 111,-390 227,-390 227,-369 111,-369\"/>\n<text text-anchor=\"start\" x=\"148\" y=\"-375.8\" font-family=\"Times,serif\" font-size=\"14.00\">flag_1b</text>\n<polygon fill=\"none\" stroke=\"black\" points=\"111,-348 111,-369 227,-369 227,-348 111,-348\"/>\n<text text-anchor=\"start\" x=\"166\" y=\"-354.8\" font-family=\"Times,serif\" font-size=\"14.00\">s</text>\n<polygon fill=\"none\" stroke=\"black\" points=\"111,-327 111,-348 227,-348 227,-327 111,-327\"/>\n<text text-anchor=\"start\" x=\"165.5\" y=\"-333.8\" font-family=\"Times,serif\" font-size=\"14.00\">q</text>\n<polygon fill=\"none\" stroke=\"black\" points=\"111,-306 111,-327 227,-327 227,-306 111,-306\"/>\n<text text-anchor=\"start\" x=\"165.5\" y=\"-312.8\" font-family=\"Times,serif\" font-size=\"14.00\">p</text>\n<polygon fill=\"none\" stroke=\"black\" points=\"111,-285 111,-306 227,-306 227,-285 111,-285\"/>\n<text text-anchor=\"start\" x=\"146.5\" y=\"-291.8\" font-family=\"Times,serif\" font-size=\"14.00\">swap_rs</text>\n<polygon fill=\"none\" stroke=\"black\" points=\"111,-264 111,-285 227,-285 227,-264 111,-264\"/>\n<text text-anchor=\"start\" x=\"166.5\" y=\"-270.8\" font-family=\"Times,serif\" font-size=\"14.00\">r</text>\n<polygon fill=\"none\" stroke=\"black\" points=\"111,-243 111,-264 227,-264 227,-243 111,-243\"/>\n<text text-anchor=\"start\" x=\"157.5\" y=\"-249.8\" font-family=\"Times,serif\" font-size=\"14.00\">beta</text>\n<polygon fill=\"none\" stroke=\"black\" points=\"111,-222 111,-243 227,-243 227,-222 111,-222\"/>\n<text text-anchor=\"start\" x=\"160\" y=\"-228.8\" font-family=\"Times,serif\" font-size=\"14.00\">sys</text>\n</g>\n<!-- swap_pq_G3&#45;&gt;QubitizationWalkOperator -->\n<g id=\"edge1\" class=\"edge\">\n<title>swap_pq_G3:e-&gt;QubitizationWalkOperator:w</title>\n<path fill=\"none\" stroke=\"black\" d=\"M71,-720C99.4,-720 86.42,-687.63 93,-660 96.84,-643.9 94.01,-516.54 109.07,-506.61\"/>\n<ellipse fill=\"black\" stroke=\"black\" cx=\"110.05\" cy=\"-506.3\" rx=\"1\" ry=\"1\"/>\n<text text-anchor=\"middle\" x=\"92.5\" y=\"-668\" font-family=\"Times,serif\" font-size=\"10.00\">1</text>\n</g>\n<!-- swap_pqrs_G33 -->\n<g id=\"node2\" class=\"node\">\n<title>swap_pqrs_G33</title>\n<text text-anchor=\"middle\" x=\"37\" y=\"-662.3\" font-family=\"Times,serif\" font-size=\"14.00\">swap_pqrs</text>\n</g>\n<!-- swap_pqrs_G33&#45;&gt;QubitizationWalkOperator -->\n<g id=\"edge2\" class=\"edge\">\n<title>swap_pqrs_G33:e-&gt;QubitizationWalkOperator:w</title>\n<path fill=\"none\" stroke=\"black\" d=\"M74,-666C109.68,-666 85.7,-622.93 93,-588 97.6,-565.97 88.37,-489.96 108.92,-485.23\"/>\n<ellipse fill=\"black\" stroke=\"black\" cx=\"110.01\" cy=\"-485.11\" rx=\"1\" ry=\"1\"/>\n<text text-anchor=\"middle\" x=\"92.5\" y=\"-658\" font-family=\"Times,serif\" font-size=\"10.00\">1</text>\n</g>\n<!-- alpha_G14 -->\n<g id=\"node3\" class=\"node\">\n<title>alpha_G14</title>\n<text text-anchor=\"middle\" x=\"37\" y=\"-608.3\" font-family=\"Times,serif\" font-size=\"14.00\">alpha</text>\n</g>\n<!-- alpha_G14&#45;&gt;QubitizationWalkOperator -->\n<g id=\"edge3\" class=\"edge\">\n<title>alpha_G14:e-&gt;QubitizationWalkOperator:w</title>\n<path fill=\"none\" stroke=\"black\" d=\"M65,-612C133.07,-612 44.25,-467.45 108.64,-464.06\"/>\n<ellipse fill=\"black\" stroke=\"black\" cx=\"110\" cy=\"-464.03\" rx=\"1\" ry=\"1\"/>\n<text text-anchor=\"middle\" x=\"92.5\" y=\"-586\" font-family=\"Times,serif\" font-size=\"10.00\">1</text>\n</g>\n<!-- d_G10 -->\n<g id=\"node4\" class=\"node\">\n<title>d_G10</title>\n<text text-anchor=\"middle\" x=\"37\" y=\"-554.3\" font-family=\"Times,serif\" font-size=\"14.00\">d</text>\n</g>\n<!-- d_G10&#45;&gt;QubitizationWalkOperator -->\n<g id=\"edge4\" class=\"edge\">\n<title>d_G10:e-&gt;QubitizationWalkOperator:w</title>\n<path fill=\"none\" stroke=\"black\" d=\"M65,-558C119.3,-558 57.68,-446.12 108.81,-443.06\"/>\n<ellipse fill=\"black\" stroke=\"black\" cx=\"110\" cy=\"-443.03\" rx=\"1\" ry=\"1\"/>\n<text text-anchor=\"middle\" x=\"92.5\" y=\"-453\" font-family=\"Times,serif\" font-size=\"10.00\">7</text>\n</g>\n<!-- sigma_G18 -->\n<g id=\"node5\" class=\"node\">\n<title>sigma_G18</title>\n<text text-anchor=\"middle\" x=\"37\" y=\"-500.3\" font-family=\"Times,serif\" font-size=\"14.00\">sigma</text>\n</g>\n<!-- sigma_G18&#45;&gt;QubitizationWalkOperator -->\n<g id=\"edge5\" class=\"edge\">\n<title>sigma_G18:e-&gt;QubitizationWalkOperator:w</title>\n<path fill=\"none\" stroke=\"black\" d=\"M65,-504C105.97,-504 70.65,-425.17 108.64,-422.09\"/>\n<ellipse fill=\"black\" stroke=\"black\" cx=\"110\" cy=\"-422.04\" rx=\"1\" ry=\"1\"/>\n<text text-anchor=\"middle\" x=\"92.5\" y=\"-436\" font-family=\"Times,serif\" font-size=\"10.00\">12</text>\n</g>\n<!-- rot_aa_G38 -->\n<g id=\"node6\" class=\"node\">\n<title>rot_aa_G38</title>\n<text text-anchor=\"middle\" x=\"37\" y=\"-446.3\" font-family=\"Times,serif\" font-size=\"14.00\">rot_aa</text>\n</g>\n<!-- rot_aa_G38&#45;&gt;QubitizationWalkOperator -->\n<g id=\"edge6\" class=\"edge\">\n<title>rot_aa_G38:e-&gt;QubitizationWalkOperator:w</title>\n<path fill=\"none\" stroke=\"black\" d=\"M65,-450C94.17,-450 81.75,-403.27 108.97,-401.08\"/>\n<ellipse fill=\"black\" stroke=\"black\" cx=\"110\" cy=\"-401.04\" rx=\"1\" ry=\"1\"/>\n<text text-anchor=\"middle\" x=\"92.5\" y=\"-417\" font-family=\"Times,serif\" font-size=\"10.00\">1</text>\n</g>\n<!-- flag_1b_G9 -->\n<g id=\"node7\" class=\"node\">\n<title>flag_1b_G9</title>\n<text text-anchor=\"middle\" x=\"37\" y=\"-392.3\" font-family=\"Times,serif\" font-size=\"14.00\">flag_1b</text>\n</g>\n<!-- flag_1b_G9&#45;&gt;QubitizationWalkOperator -->\n<g id=\"edge7\" class=\"edge\">\n<title>flag_1b_G9:e-&gt;QubitizationWalkOperator:w</title>\n<path fill=\"none\" stroke=\"black\" d=\"M67,-396C87,-396 89.98,-381.23 108.64,-380.07\"/>\n<ellipse fill=\"black\" stroke=\"black\" cx=\"110\" cy=\"-380.03\" rx=\"1\" ry=\"1\"/>\n<text text-anchor=\"middle\" x=\"92.5\" y=\"-388\" font-family=\"Times,serif\" font-size=\"10.00\">1</text>\n</g>\n<!-- s_G23 -->\n<g id=\"node8\" class=\"node\">\n<title>s_G23</title>\n<text text-anchor=\"middle\" x=\"37\" y=\"-338.3\" font-family=\"Times,serif\" font-size=\"14.00\">s</text>\n</g>\n<!-- s_G23&#45;&gt;QubitizationWalkOperator -->\n<g id=\"edge8\" class=\"edge\">\n<title>s_G23:e-&gt;QubitizationWalkOperator:w</title>\n<path fill=\"none\" stroke=\"black\" d=\"M65,-342C85.8,-342 89.11,-356.77 108.55,-357.93\"/>\n<ellipse fill=\"black\" stroke=\"black\" cx=\"110\" cy=\"-357.97\" rx=\"1\" ry=\"1\"/>\n<text text-anchor=\"middle\" x=\"92.5\" y=\"-355\" font-family=\"Times,serif\" font-size=\"10.00\">2</text>\n</g>\n<!-- q_G34 -->\n<g id=\"node9\" class=\"node\">\n<title>q_G34</title>\n<text text-anchor=\"middle\" x=\"37\" y=\"-284.3\" font-family=\"Times,serif\" font-size=\"14.00\">q</text>\n</g>\n<!-- q_G34&#45;&gt;QubitizationWalkOperator -->\n<g id=\"edge9\" class=\"edge\">\n<title>q_G34:e-&gt;QubitizationWalkOperator:w</title>\n<path fill=\"none\" stroke=\"black\" d=\"M65,-288C94.17,-288 81.75,-334.73 108.97,-336.92\"/>\n<ellipse fill=\"black\" stroke=\"black\" cx=\"110\" cy=\"-336.96\" rx=\"1\" ry=\"1\"/>\n<text text-anchor=\"middle\" x=\"92.5\" y=\"-328\" font-family=\"Times,serif\" font-size=\"10.00\">2</text>\n</g>\n<!-- p_G0 -->\n<g id=\"node10\" class=\"node\">\n<title>p_G0</title>\n<text text-anchor=\"middle\" x=\"37\" y=\"-230.3\" font-family=\"Times,serif\" font-size=\"14.00\">p</text>\n</g>\n<!-- p_G0&#45;&gt;QubitizationWalkOperator -->\n<g id=\"edge10\" class=\"edge\">\n<title>p_G0:e-&gt;QubitizationWalkOperator:w</title>\n<path fill=\"none\" stroke=\"black\" d=\"M65,-234C105.97,-234 70.65,-312.83 108.64,-315.91\"/>\n<ellipse fill=\"black\" stroke=\"black\" cx=\"110\" cy=\"-315.96\" rx=\"1\" ry=\"1\"/>\n<text text-anchor=\"middle\" x=\"92.5\" y=\"-307\" font-family=\"Times,serif\" font-size=\"10.00\">2</text>\n</g>\n<!-- swap_rs_G35 -->\n<g id=\"node11\" class=\"node\">\n<title>swap_rs_G35</title>\n<text text-anchor=\"middle\" x=\"37\" y=\"-176.3\" font-family=\"Times,serif\" font-size=\"14.00\">swap_rs</text>\n</g>\n<!-- swap_rs_G35&#45;&gt;QubitizationWalkOperator -->\n<g id=\"edge11\" class=\"edge\">\n<title>swap_rs_G35:e-&gt;QubitizationWalkOperator:w</title>\n<path fill=\"none\" stroke=\"black\" d=\"M69,-180C122.67,-180 58.39,-291.88 108.84,-294.94\"/>\n<ellipse fill=\"black\" stroke=\"black\" cx=\"110\" cy=\"-294.97\" rx=\"1\" ry=\"1\"/>\n<text text-anchor=\"middle\" x=\"92.5\" y=\"-289\" font-family=\"Times,serif\" font-size=\"10.00\">1</text>\n</g>\n<!-- r_G11 -->\n<g id=\"node12\" class=\"node\">\n<title>r_G11</title>\n<text text-anchor=\"middle\" x=\"37\" y=\"-122.3\" font-family=\"Times,serif\" font-size=\"14.00\">r</text>\n</g>\n<!-- r_G11&#45;&gt;QubitizationWalkOperator -->\n<g id=\"edge12\" class=\"edge\">\n<title>r_G11:e-&gt;QubitizationWalkOperator:w</title>\n<path fill=\"none\" stroke=\"black\" d=\"M65,-126C133.07,-126 44.25,-270.55 108.64,-273.94\"/>\n<ellipse fill=\"black\" stroke=\"black\" cx=\"110\" cy=\"-273.97\" rx=\"1\" ry=\"1\"/>\n<text text-anchor=\"middle\" x=\"92.5\" y=\"-271\" font-family=\"Times,serif\" font-size=\"10.00\">2</text>\n</g>\n<!-- beta_G20 -->\n<g id=\"node13\" class=\"node\">\n<title>beta_G20</title>\n<text text-anchor=\"middle\" x=\"37\" y=\"-68.3\" font-family=\"Times,serif\" font-size=\"14.00\">beta</text>\n</g>\n<!-- beta_G20&#45;&gt;QubitizationWalkOperator -->\n<g id=\"edge13\" class=\"edge\">\n<title>beta_G20:e-&gt;QubitizationWalkOperator:w</title>\n<path fill=\"none\" stroke=\"black\" d=\"M65,-72C101.83,-72 83.57,-114.39 93,-150 98.76,-171.76 88.45,-248.02 108.92,-252.77\"/>\n<ellipse fill=\"black\" stroke=\"black\" cx=\"110.01\" cy=\"-252.89\" rx=\"1\" ry=\"1\"/>\n<text text-anchor=\"middle\" x=\"92.5\" y=\"-153\" font-family=\"Times,serif\" font-size=\"10.00\">1</text>\n</g>\n<!-- sys_G12 -->\n<g id=\"node14\" class=\"node\">\n<title>sys_G12</title>\n<text text-anchor=\"middle\" x=\"37\" y=\"-14.3\" font-family=\"Times,serif\" font-size=\"14.00\">sys</text>\n</g>\n<!-- sys_G12&#45;&gt;QubitizationWalkOperator -->\n<g id=\"edge14\" class=\"edge\">\n<title>sys_G12:e-&gt;QubitizationWalkOperator:w</title>\n<path fill=\"none\" stroke=\"black\" d=\"M65,-18C77.65,-18 70.77,-32.77 74,-45 74.16,-45.6 105.96,-209.43 110.48,-229.91\"/>\n<ellipse fill=\"black\" stroke=\"black\" cx=\"110.76\" cy=\"-231.03\" rx=\"1\" ry=\"1\"/>\n<text text-anchor=\"middle\" x=\"92.5\" y=\"-142\" font-family=\"Times,serif\" font-size=\"10.00\">8</text>\n</g>\n<!-- swap_pq_G8 -->\n<g id=\"node16\" class=\"node\">\n<title>swap_pq_G8</title>\n<text text-anchor=\"middle\" x=\"301\" y=\"-716.3\" font-family=\"Times,serif\" font-size=\"14.00\">swap_pq</text>\n</g>\n<!-- QubitizationWalkOperator&#45;&gt;swap_pq_G8 -->\n<g id=\"edge15\" class=\"edge\">\n<title>QubitizationWalkOperator:e-&gt;swap_pq_G8:w</title>\n<path fill=\"none\" stroke=\"black\" d=\"M227,-506C244.23,-506 241.01,-643.24 245,-660 251.4,-686.87 239.29,-718.23 264.76,-719.93\"/>\n<ellipse fill=\"black\" stroke=\"black\" cx=\"266\" cy=\"-719.97\" rx=\"1\" ry=\"1\"/>\n<text text-anchor=\"middle\" x=\"245.5\" y=\"-668\" font-family=\"Times,serif\" font-size=\"10.00\">1</text>\n</g>\n<!-- swap_pqrs_G22 -->\n<g id=\"node17\" class=\"node\">\n<title>swap_pqrs_G22</title>\n<text text-anchor=\"middle\" x=\"301\" y=\"-662.3\" font-family=\"Times,serif\" font-size=\"14.00\">swap_pqrs</text>\n</g>\n<!-- QubitizationWalkOperator&#45;&gt;swap_pqrs_G22 -->\n<g id=\"edge16\" class=\"edge\">\n<title>QubitizationWalkOperator:e-&gt;swap_pqrs_G22:w</title>\n<path fill=\"none\" stroke=\"black\" d=\"M227,-485C250.24,-485 240.25,-565.26 245,-588 252.15,-622.24 229.24,-664.32 261.98,-665.95\"/>\n<ellipse fill=\"black\" stroke=\"black\" cx=\"263\" cy=\"-665.98\" rx=\"1\" ry=\"1\"/>\n<text text-anchor=\"middle\" x=\"245.5\" y=\"-658\" font-family=\"Times,serif\" font-size=\"10.00\">1</text>\n</g>\n<!-- alpha_G26 -->\n<g id=\"node18\" class=\"node\">\n<title>alpha_G26</title>\n<text text-anchor=\"middle\" x=\"301\" y=\"-608.3\" font-family=\"Times,serif\" font-size=\"14.00\">alpha</text>\n</g>\n<!-- QubitizationWalkOperator&#45;&gt;alpha_G26 -->\n<g id=\"edge17\" class=\"edge\">\n<title>QubitizationWalkOperator:e-&gt;alpha_G26:w</title>\n<path fill=\"none\" stroke=\"black\" d=\"M227,-464C295.07,-464 206.25,-608.55 270.64,-611.94\"/>\n<ellipse fill=\"black\" stroke=\"black\" cx=\"272\" cy=\"-611.97\" rx=\"1\" ry=\"1\"/>\n<text text-anchor=\"middle\" x=\"245.5\" y=\"-586\" font-family=\"Times,serif\" font-size=\"10.00\">1</text>\n</g>\n<!-- d_G29 -->\n<g id=\"node19\" class=\"node\">\n<title>d_G29</title>\n<text text-anchor=\"middle\" x=\"301\" y=\"-554.3\" font-family=\"Times,serif\" font-size=\"14.00\">d</text>\n</g>\n<!-- QubitizationWalkOperator&#45;&gt;d_G29 -->\n<g id=\"edge18\" class=\"edge\">\n<title>QubitizationWalkOperator:e-&gt;d_G29:w</title>\n<path fill=\"none\" stroke=\"black\" d=\"M227,-443C281.3,-443 219.68,-554.88 270.81,-557.94\"/>\n<ellipse fill=\"black\" stroke=\"black\" cx=\"272\" cy=\"-557.97\" rx=\"1\" ry=\"1\"/>\n<text text-anchor=\"middle\" x=\"245.5\" y=\"-453\" font-family=\"Times,serif\" font-size=\"10.00\">7</text>\n</g>\n<!-- sigma_G27 -->\n<g id=\"node20\" class=\"node\">\n<title>sigma_G27</title>\n<text text-anchor=\"middle\" x=\"301\" y=\"-500.3\" font-family=\"Times,serif\" font-size=\"14.00\">sigma</text>\n</g>\n<!-- QubitizationWalkOperator&#45;&gt;sigma_G27 -->\n<g id=\"edge19\" class=\"edge\">\n<title>QubitizationWalkOperator:e-&gt;sigma_G27:w</title>\n<path fill=\"none\" stroke=\"black\" d=\"M227,-422C267.97,-422 232.65,-500.83 270.64,-503.91\"/>\n<ellipse fill=\"black\" stroke=\"black\" cx=\"272\" cy=\"-503.96\" rx=\"1\" ry=\"1\"/>\n<text text-anchor=\"middle\" x=\"245.5\" y=\"-436\" font-family=\"Times,serif\" font-size=\"10.00\">12</text>\n</g>\n<!-- rot_aa_G1 -->\n<g id=\"node21\" class=\"node\">\n<title>rot_aa_G1</title>\n<text text-anchor=\"middle\" x=\"301\" y=\"-446.3\" font-family=\"Times,serif\" font-size=\"14.00\">rot_aa</text>\n</g>\n<!-- QubitizationWalkOperator&#45;&gt;rot_aa_G1 -->\n<g id=\"edge20\" class=\"edge\">\n<title>QubitizationWalkOperator:e-&gt;rot_aa_G1:w</title>\n<path fill=\"none\" stroke=\"black\" d=\"M227,-401C256.17,-401 243.75,-447.73 270.97,-449.92\"/>\n<ellipse fill=\"black\" stroke=\"black\" cx=\"272\" cy=\"-449.96\" rx=\"1\" ry=\"1\"/>\n<text text-anchor=\"middle\" x=\"245.5\" y=\"-417\" font-family=\"Times,serif\" font-size=\"10.00\">1</text>\n</g>\n<!-- flag_1b_G15 -->\n<g id=\"node22\" class=\"node\">\n<title>flag_1b_G15</title>\n<text text-anchor=\"middle\" x=\"301\" y=\"-392.3\" font-family=\"Times,serif\" font-size=\"14.00\">flag_1b</text>\n</g>\n<!-- QubitizationWalkOperator&#45;&gt;flag_1b_G15 -->\n<g id=\"edge21\" class=\"edge\">\n<title>QubitizationWalkOperator:e-&gt;flag_1b_G15:w</title>\n<path fill=\"none\" stroke=\"black\" d=\"M227,-380C247,-380 249.98,-394.77 268.64,-395.93\"/>\n<ellipse fill=\"black\" stroke=\"black\" cx=\"270\" cy=\"-395.97\" rx=\"1\" ry=\"1\"/>\n<text text-anchor=\"middle\" x=\"245.5\" y=\"-388\" font-family=\"Times,serif\" font-size=\"10.00\">1</text>\n</g>\n<!-- s_G30 -->\n<g id=\"node23\" class=\"node\">\n<title>s_G30</title>\n<text text-anchor=\"middle\" x=\"301\" y=\"-338.3\" font-family=\"Times,serif\" font-size=\"14.00\">s</text>\n</g>\n<!-- QubitizationWalkOperator&#45;&gt;s_G30 -->\n<g id=\"edge22\" class=\"edge\">\n<title>QubitizationWalkOperator:e-&gt;s_G30:w</title>\n<path fill=\"none\" stroke=\"black\" d=\"M227,-358C247.8,-358 251.11,-343.23 270.55,-342.07\"/>\n<ellipse fill=\"black\" stroke=\"black\" cx=\"272\" cy=\"-342.03\" rx=\"1\" ry=\"1\"/>\n<text text-anchor=\"middle\" x=\"245.5\" y=\"-355\" font-family=\"Times,serif\" font-size=\"10.00\">2</text>\n</g>\n<!-- q_G40 -->\n<g id=\"node24\" class=\"node\">\n<title>q_G40</title>\n<text text-anchor=\"middle\" x=\"301\" y=\"-284.3\" font-family=\"Times,serif\" font-size=\"14.00\">q</text>\n</g>\n<!-- QubitizationWalkOperator&#45;&gt;q_G40 -->\n<g id=\"edge23\" class=\"edge\">\n<title>QubitizationWalkOperator:e-&gt;q_G40:w</title>\n<path fill=\"none\" stroke=\"black\" d=\"M227,-337C256.17,-337 243.75,-290.27 270.97,-288.08\"/>\n<ellipse fill=\"black\" stroke=\"black\" cx=\"272\" cy=\"-288.04\" rx=\"1\" ry=\"1\"/>\n<text text-anchor=\"middle\" x=\"245.5\" y=\"-328\" font-family=\"Times,serif\" font-size=\"10.00\">2</text>\n</g>\n<!-- p_G6 -->\n<g id=\"node25\" class=\"node\">\n<title>p_G6</title>\n<text text-anchor=\"middle\" x=\"301\" y=\"-230.3\" font-family=\"Times,serif\" font-size=\"14.00\">p</text>\n</g>\n<!-- QubitizationWalkOperator&#45;&gt;p_G6 -->\n<g id=\"edge24\" class=\"edge\">\n<title>QubitizationWalkOperator:e-&gt;p_G6:w</title>\n<path fill=\"none\" stroke=\"black\" d=\"M227,-316C267.97,-316 232.65,-237.17 270.64,-234.09\"/>\n<ellipse fill=\"black\" stroke=\"black\" cx=\"272\" cy=\"-234.04\" rx=\"1\" ry=\"1\"/>\n<text text-anchor=\"middle\" x=\"245.5\" y=\"-307\" font-family=\"Times,serif\" font-size=\"10.00\">2</text>\n</g>\n<!-- swap_rs_G4 -->\n<g id=\"node26\" class=\"node\">\n<title>swap_rs_G4</title>\n<text text-anchor=\"middle\" x=\"301\" y=\"-176.3\" font-family=\"Times,serif\" font-size=\"14.00\">swap_rs</text>\n</g>\n<!-- QubitizationWalkOperator&#45;&gt;swap_rs_G4 -->\n<g id=\"edge25\" class=\"edge\">\n<title>QubitizationWalkOperator:e-&gt;swap_rs_G4:w</title>\n<path fill=\"none\" stroke=\"black\" d=\"M227,-295C280.67,-295 216.39,-183.12 266.84,-180.06\"/>\n<ellipse fill=\"black\" stroke=\"black\" cx=\"268\" cy=\"-180.03\" rx=\"1\" ry=\"1\"/>\n<text text-anchor=\"middle\" x=\"245.5\" y=\"-289\" font-family=\"Times,serif\" font-size=\"10.00\">1</text>\n</g>\n<!-- r_G31 -->\n<g id=\"node27\" class=\"node\">\n<title>r_G31</title>\n<text text-anchor=\"middle\" x=\"301\" y=\"-122.3\" font-family=\"Times,serif\" font-size=\"14.00\">r</text>\n</g>\n<!-- QubitizationWalkOperator&#45;&gt;r_G31 -->\n<g id=\"edge26\" class=\"edge\">\n<title>QubitizationWalkOperator:e-&gt;r_G31:w</title>\n<path fill=\"none\" stroke=\"black\" d=\"M227,-274C295.07,-274 206.25,-129.45 270.64,-126.06\"/>\n<ellipse fill=\"black\" stroke=\"black\" cx=\"272\" cy=\"-126.03\" rx=\"1\" ry=\"1\"/>\n<text text-anchor=\"middle\" x=\"245.5\" y=\"-271\" font-family=\"Times,serif\" font-size=\"10.00\">2</text>\n</g>\n<!-- beta_G36 -->\n<g id=\"node28\" class=\"node\">\n<title>beta_G36</title>\n<text text-anchor=\"middle\" x=\"301\" y=\"-68.3\" font-family=\"Times,serif\" font-size=\"14.00\">beta</text>\n</g>\n<!-- QubitizationWalkOperator&#45;&gt;beta_G36 -->\n<g id=\"edge27\" class=\"edge\">\n<title>QubitizationWalkOperator:e-&gt;beta_G36:w</title>\n<path fill=\"none\" stroke=\"black\" d=\"M227,-253C250.24,-253 239.05,-172.46 245,-150 254.24,-115.09 236.87,-73.65 270.9,-72.05\"/>\n<ellipse fill=\"black\" stroke=\"black\" cx=\"272\" cy=\"-72.02\" rx=\"1\" ry=\"1\"/>\n<text text-anchor=\"middle\" x=\"245.5\" y=\"-153\" font-family=\"Times,serif\" font-size=\"10.00\">1</text>\n</g>\n<!-- sys_G32 -->\n<g id=\"node29\" class=\"node\">\n<title>sys_G32</title>\n<text text-anchor=\"middle\" x=\"301\" y=\"-14.3\" font-family=\"Times,serif\" font-size=\"14.00\">sys</text>\n</g>\n<!-- QubitizationWalkOperator&#45;&gt;sys_G32 -->\n<g id=\"edge28\" class=\"edge\">\n<title>QubitizationWalkOperator:e-&gt;sys_G32:w</title>\n<path fill=\"none\" stroke=\"black\" d=\"M227,-232C227.66,-232 263.83,-45.64 264,-45 267.03,-33.54 261.17,-19.84 270.85,-18.17\"/>\n<ellipse fill=\"black\" stroke=\"black\" cx=\"272\" cy=\"-18.08\" rx=\"1\" ry=\"1\"/>\n<text text-anchor=\"middle\" x=\"245.5\" y=\"-142\" font-family=\"Times,serif\" font-size=\"10.00\">8</text>\n</g>\n</g>\n</svg>",
          "text/plain": "<IPython.core.display.SVG object>"
         },
         "metadata": {},
         "output_type": "display_data"
        }
       ],
       "tabbable": null,
       "tooltip": null
      }
     },
     "2ee24e1b7c0d44c1901b5c8ce618d7ba": {
      "model_module": "@jupyter-widgets/output",
      "model_module_version": "1.0.0",
      "model_name": "OutputModel",
      "state": {
       "_dom_classes": [],
       "_model_module": "@jupyter-widgets/output",
       "_model_module_version": "1.0.0",
       "_model_name": "OutputModel",
       "_view_count": null,
       "_view_module": "@jupyter-widgets/output",
       "_view_module_version": "1.0.0",
       "_view_name": "OutputView",
       "layout": "IPY_MODEL_d519a0fe557f4159b6d498a7aebcb466",
       "msg_id": "",
       "outputs": [
        {
         "data": {
          "text/markdown": "`thc_walk_op`",
          "text/plain": "<IPython.core.display.Markdown object>"
         },
         "metadata": {},
         "output_type": "display_data"
        },
        {
         "data": {
          "image/svg+xml": "<svg xmlns=\"http://www.w3.org/2000/svg\" xmlns:xlink=\"http://www.w3.org/1999/xlink\" width=\"360pt\" height=\"584pt\" viewBox=\"0.00 0.00 360.00 584.00\">\n<g id=\"graph0\" class=\"graph\" transform=\"scale(1 1) rotate(0) translate(4 580)\">\n<title>my_graph</title>\n<polygon fill=\"white\" stroke=\"transparent\" points=\"-4,4 -4,-580 356,-580 356,4 -4,4\"/>\n<!-- succ_G25 -->\n<g id=\"node1\" class=\"node\">\n<title>succ_G25</title>\n<text text-anchor=\"middle\" x=\"40.5\" y=\"-554.3\" font-family=\"Times,serif\" font-size=\"14.00\">succ</text>\n</g>\n<!-- QubitizationWalkOperator -->\n<g id=\"node12\" class=\"node\">\n<title>QubitizationWalkOperator</title>\n<polygon fill=\"none\" stroke=\"black\" points=\"118,-404 118,-421 234,-421 234,-404 118,-404\"/>\n<text text-anchor=\"start\" x=\"121\" y=\"-410\" font-family=\"Times,serif\" font-size=\"10.00\">QubitizationWalkOperator</text>\n<polygon fill=\"none\" stroke=\"black\" points=\"118,-383 118,-404 234,-404 234,-383 118,-383\"/>\n<text text-anchor=\"start\" x=\"163.5\" y=\"-389.8\" font-family=\"Times,serif\" font-size=\"14.00\">succ</text>\n<polygon fill=\"none\" stroke=\"black\" points=\"118,-362 118,-383 234,-383 234,-362 118,-362\"/>\n<text text-anchor=\"start\" x=\"143.5\" y=\"-368.8\" font-family=\"Times,serif\" font-size=\"14.00\">nu_eq_mp1</text>\n<polygon fill=\"none\" stroke=\"black\" points=\"118,-341 118,-362 234,-362 234,-341 118,-341\"/>\n<text text-anchor=\"start\" x=\"166.5\" y=\"-347.8\" font-family=\"Times,serif\" font-size=\"14.00\">mu</text>\n<polygon fill=\"none\" stroke=\"black\" points=\"118,-320 118,-341 234,-341 234,-320 118,-320\"/>\n<text text-anchor=\"start\" x=\"169\" y=\"-326.8\" font-family=\"Times,serif\" font-size=\"14.00\">nu</text>\n<polygon fill=\"none\" stroke=\"black\" points=\"118,-299 118,-320 234,-320 234,-299 118,-299\"/>\n<text text-anchor=\"start\" x=\"157.5\" y=\"-305.8\" font-family=\"Times,serif\" font-size=\"14.00\">plus_b</text>\n<polygon fill=\"none\" stroke=\"black\" points=\"118,-278 118,-299 234,-299 234,-278 118,-278\"/>\n<text text-anchor=\"start\" x=\"152\" y=\"-284.8\" font-family=\"Times,serif\" font-size=\"14.00\">plus_mn</text>\n<polygon fill=\"none\" stroke=\"black\" points=\"118,-257 118,-278 234,-278 234,-257 118,-257\"/>\n<text text-anchor=\"start\" x=\"168\" y=\"-263.8\" font-family=\"Times,serif\" font-size=\"14.00\">rot</text>\n<polygon fill=\"none\" stroke=\"black\" points=\"118,-236 118,-257 234,-257 234,-236 118,-236\"/>\n<text text-anchor=\"start\" x=\"159\" y=\"-242.8\" font-family=\"Times,serif\" font-size=\"14.00\">sigma</text>\n<polygon fill=\"none\" stroke=\"black\" points=\"118,-215 118,-236 234,-236 234,-215 118,-215\"/>\n<text text-anchor=\"start\" x=\"158\" y=\"-221.8\" font-family=\"Times,serif\" font-size=\"14.00\">plus_a</text>\n<polygon fill=\"none\" stroke=\"black\" points=\"118,-194 118,-215 234,-215 234,-194 118,-194\"/>\n<text text-anchor=\"start\" x=\"160.5\" y=\"-200.8\" font-family=\"Times,serif\" font-size=\"14.00\">sys_a</text>\n<polygon fill=\"none\" stroke=\"black\" points=\"118,-173 118,-194 234,-194 234,-173 118,-173\"/>\n<text text-anchor=\"start\" x=\"160.5\" y=\"-179.8\" font-family=\"Times,serif\" font-size=\"14.00\">sys_b</text>\n</g>\n<!-- succ_G25&#45;&gt;QubitizationWalkOperator -->\n<g id=\"edge1\" class=\"edge\">\n<title>succ_G25:e-&gt;QubitizationWalkOperator:w</title>\n<path fill=\"none\" stroke=\"black\" d=\"M68.5,-558C81.72,-558 76.48,-543.43 81,-531 83.53,-524.05 106.91,-409.72 116.31,-395.46\"/>\n<ellipse fill=\"black\" stroke=\"black\" cx=\"117.24\" cy=\"-394.65\" rx=\"1\" ry=\"1\"/>\n<text text-anchor=\"middle\" x=\"99.5\" y=\"-454\" font-family=\"Times,serif\" font-size=\"10.00\">1</text>\n</g>\n<!-- nu_eq_mp1_G32 -->\n<g id=\"node2\" class=\"node\">\n<title>nu_eq_mp1_G32</title>\n<text text-anchor=\"middle\" x=\"40.5\" y=\"-500.3\" font-family=\"Times,serif\" font-size=\"14.00\">nu_eq_mp1</text>\n</g>\n<!-- nu_eq_mp1_G32&#45;&gt;QubitizationWalkOperator -->\n<g id=\"edge2\" class=\"edge\">\n<title>nu_eq_mp1_G32:e-&gt;QubitizationWalkOperator:w</title>\n<path fill=\"none\" stroke=\"black\" d=\"M81,-504C140.79,-504 59.45,-376.05 115.93,-373.05\"/>\n<ellipse fill=\"black\" stroke=\"black\" cx=\"117\" cy=\"-373.03\" rx=\"1\" ry=\"1\"/>\n<text text-anchor=\"middle\" x=\"99.5\" y=\"-441\" font-family=\"Times,serif\" font-size=\"10.00\">1</text>\n</g>\n<!-- mu_G11 -->\n<g id=\"node3\" class=\"node\">\n<title>mu_G11</title>\n<text text-anchor=\"middle\" x=\"40.5\" y=\"-446.3\" font-family=\"Times,serif\" font-size=\"14.00\">mu</text>\n</g>\n<!-- mu_G11&#45;&gt;QubitizationWalkOperator -->\n<g id=\"edge3\" class=\"edge\">\n<title>mu_G11:e-&gt;QubitizationWalkOperator:w</title>\n<path fill=\"none\" stroke=\"black\" d=\"M68.5,-450C116.53,-450 70.68,-355.04 115.78,-352.07\"/>\n<ellipse fill=\"black\" stroke=\"black\" cx=\"117\" cy=\"-352.03\" rx=\"1\" ry=\"1\"/>\n<text text-anchor=\"middle\" x=\"99.5\" y=\"-363\" font-family=\"Times,serif\" font-size=\"10.00\">9</text>\n</g>\n<!-- nu_G16 -->\n<g id=\"node4\" class=\"node\">\n<title>nu_G16</title>\n<text text-anchor=\"middle\" x=\"40.5\" y=\"-392.3\" font-family=\"Times,serif\" font-size=\"14.00\">nu</text>\n</g>\n<!-- nu_G16&#45;&gt;QubitizationWalkOperator -->\n<g id=\"edge4\" class=\"edge\">\n<title>nu_G16:e-&gt;QubitizationWalkOperator:w</title>\n<path fill=\"none\" stroke=\"black\" d=\"M68.5,-396C104.1,-396 82.57,-333.51 115.94,-331.07\"/>\n<ellipse fill=\"black\" stroke=\"black\" cx=\"117\" cy=\"-331.04\" rx=\"1\" ry=\"1\"/>\n<text text-anchor=\"middle\" x=\"99.5\" y=\"-344\" font-family=\"Times,serif\" font-size=\"10.00\">9</text>\n</g>\n<!-- plus_b_G10 -->\n<g id=\"node5\" class=\"node\">\n<title>plus_b_G10</title>\n<text text-anchor=\"middle\" x=\"40.5\" y=\"-338.3\" font-family=\"Times,serif\" font-size=\"14.00\">plus_b</text>\n</g>\n<!-- plus_b_G10&#45;&gt;QubitizationWalkOperator -->\n<g id=\"edge5\" class=\"edge\">\n<title>plus_b_G10:e-&gt;QubitizationWalkOperator:w</title>\n<path fill=\"none\" stroke=\"black\" d=\"M68.5,-342C93.98,-342 91.94,-311.73 115.92,-310.07\"/>\n<ellipse fill=\"black\" stroke=\"black\" cx=\"117\" cy=\"-310.03\" rx=\"1\" ry=\"1\"/>\n<text text-anchor=\"middle\" x=\"99.5\" y=\"-321\" font-family=\"Times,serif\" font-size=\"10.00\">1</text>\n</g>\n<!-- plus_mn_G15 -->\n<g id=\"node6\" class=\"node\">\n<title>plus_mn_G15</title>\n<text text-anchor=\"middle\" x=\"40.5\" y=\"-284.3\" font-family=\"Times,serif\" font-size=\"14.00\">plus_mn</text>\n</g>\n<!-- plus_mn_G15&#45;&gt;QubitizationWalkOperator -->\n<g id=\"edge6\" class=\"edge\">\n<title>plus_mn_G15:e-&gt;QubitizationWalkOperator:w</title>\n<path fill=\"none\" stroke=\"black\" d=\"M73.5,-288C92.51,-288 97.81,-288 115.75,-288\"/>\n<ellipse fill=\"black\" stroke=\"black\" cx=\"117\" cy=\"-288\" rx=\"1\" ry=\"1\"/>\n<text text-anchor=\"middle\" x=\"99.5\" y=\"-291\" font-family=\"Times,serif\" font-size=\"10.00\">1</text>\n</g>\n<!-- rot_G5 -->\n<g id=\"node7\" class=\"node\">\n<title>rot_G5</title>\n<text text-anchor=\"middle\" x=\"40.5\" y=\"-230.3\" font-family=\"Times,serif\" font-size=\"14.00\">rot</text>\n</g>\n<!-- rot_G5&#45;&gt;QubitizationWalkOperator -->\n<g id=\"edge7\" class=\"edge\">\n<title>rot_G5:e-&gt;QubitizationWalkOperator:w</title>\n<path fill=\"none\" stroke=\"black\" d=\"M68.5,-234C94.22,-234 91.72,-265.22 115.9,-266.93\"/>\n<ellipse fill=\"black\" stroke=\"black\" cx=\"117\" cy=\"-266.97\" rx=\"1\" ry=\"1\"/>\n<text text-anchor=\"middle\" x=\"99.5\" y=\"-262\" font-family=\"Times,serif\" font-size=\"10.00\">1</text>\n</g>\n<!-- sigma_G9 -->\n<g id=\"node8\" class=\"node\">\n<title>sigma_G9</title>\n<text text-anchor=\"middle\" x=\"40.5\" y=\"-176.3\" font-family=\"Times,serif\" font-size=\"14.00\">sigma</text>\n</g>\n<!-- sigma_G9&#45;&gt;QubitizationWalkOperator -->\n<g id=\"edge8\" class=\"edge\">\n<title>sigma_G9:e-&gt;QubitizationWalkOperator:w</title>\n<path fill=\"none\" stroke=\"black\" d=\"M68.5,-180C104.45,-180 82.24,-243.45 115.92,-245.93\"/>\n<ellipse fill=\"black\" stroke=\"black\" cx=\"117\" cy=\"-245.96\" rx=\"1\" ry=\"1\"/>\n<text text-anchor=\"middle\" x=\"99.5\" y=\"-237\" font-family=\"Times,serif\" font-size=\"10.00\">10</text>\n</g>\n<!-- plus_a_G21 -->\n<g id=\"node9\" class=\"node\">\n<title>plus_a_G21</title>\n<text text-anchor=\"middle\" x=\"40.5\" y=\"-122.3\" font-family=\"Times,serif\" font-size=\"14.00\">plus_a</text>\n</g>\n<!-- plus_a_G21&#45;&gt;QubitizationWalkOperator -->\n<g id=\"edge9\" class=\"edge\">\n<title>plus_a_G21:e-&gt;QubitizationWalkOperator:w</title>\n<path fill=\"none\" stroke=\"black\" d=\"M68.5,-126C116.92,-126 70.31,-221.93 115.77,-224.93\"/>\n<ellipse fill=\"black\" stroke=\"black\" cx=\"117\" cy=\"-224.97\" rx=\"1\" ry=\"1\"/>\n<text text-anchor=\"middle\" x=\"99.5\" y=\"-219\" font-family=\"Times,serif\" font-size=\"10.00\">1</text>\n</g>\n<!-- sys_a_G24 -->\n<g id=\"node10\" class=\"node\">\n<title>sys_a_G24</title>\n<text text-anchor=\"middle\" x=\"40.5\" y=\"-68.3\" font-family=\"Times,serif\" font-size=\"14.00\">sys_a</text>\n</g>\n<!-- sys_a_G24&#45;&gt;QubitizationWalkOperator -->\n<g id=\"edge10\" class=\"edge\">\n<title>sys_a_G24:e-&gt;QubitizationWalkOperator:w</title>\n<path fill=\"none\" stroke=\"black\" d=\"M68.5,-72C130.42,-72 57.1,-200.92 115.85,-203.95\"/>\n<ellipse fill=\"black\" stroke=\"black\" cx=\"117\" cy=\"-203.97\" rx=\"1\" ry=\"1\"/>\n<text text-anchor=\"middle\" x=\"99.5\" y=\"-199\" font-family=\"Times,serif\" font-size=\"10.00\">76</text>\n</g>\n<!-- sys_b_G23 -->\n<g id=\"node11\" class=\"node\">\n<title>sys_b_G23</title>\n<text text-anchor=\"middle\" x=\"40.5\" y=\"-14.3\" font-family=\"Times,serif\" font-size=\"14.00\">sys_b</text>\n</g>\n<!-- sys_b_G23&#45;&gt;QubitizationWalkOperator -->\n<g id=\"edge11\" class=\"edge\">\n<title>sys_b_G23:e-&gt;QubitizationWalkOperator:w</title>\n<path fill=\"none\" stroke=\"black\" d=\"M68.5,-18C144.31,-18 43.44,-179.79 115.81,-182.95\"/>\n<ellipse fill=\"black\" stroke=\"black\" cx=\"117\" cy=\"-182.98\" rx=\"1\" ry=\"1\"/>\n<text text-anchor=\"middle\" x=\"99.5\" y=\"-180\" font-family=\"Times,serif\" font-size=\"10.00\">76</text>\n</g>\n<!-- succ_G0 -->\n<g id=\"node13\" class=\"node\">\n<title>succ_G0</title>\n<text text-anchor=\"middle\" x=\"311.5\" y=\"-554.3\" font-family=\"Times,serif\" font-size=\"14.00\">succ</text>\n</g>\n<!-- QubitizationWalkOperator&#45;&gt;succ_G0 -->\n<g id=\"edge12\" class=\"edge\">\n<title>QubitizationWalkOperator:e-&gt;succ_G0:w</title>\n<path fill=\"none\" stroke=\"black\" d=\"M234,-394C241.88,-394 268.31,-523.59 271,-531 275.27,-542.75 270.82,-556.41 281.49,-557.87\"/>\n<ellipse fill=\"black\" stroke=\"black\" cx=\"282.5\" cy=\"-557.94\" rx=\"1\" ry=\"1\"/>\n<text text-anchor=\"middle\" x=\"252.5\" y=\"-454\" font-family=\"Times,serif\" font-size=\"10.00\">1</text>\n</g>\n<!-- nu_eq_mp1_G4 -->\n<g id=\"node14\" class=\"node\">\n<title>nu_eq_mp1_G4</title>\n<text text-anchor=\"middle\" x=\"311.5\" y=\"-500.3\" font-family=\"Times,serif\" font-size=\"14.00\">nu_eq_mp1</text>\n</g>\n<!-- QubitizationWalkOperator&#45;&gt;nu_eq_mp1_G4 -->\n<g id=\"edge13\" class=\"edge\">\n<title>QubitizationWalkOperator:e-&gt;nu_eq_mp1_G4:w</title>\n<path fill=\"none\" stroke=\"black\" d=\"M234,-373C293.79,-373 212.45,-500.95 268.93,-503.95\"/>\n<ellipse fill=\"black\" stroke=\"black\" cx=\"270\" cy=\"-503.97\" rx=\"1\" ry=\"1\"/>\n<text text-anchor=\"middle\" x=\"252.5\" y=\"-441\" font-family=\"Times,serif\" font-size=\"10.00\">1</text>\n</g>\n<!-- mu_G14 -->\n<g id=\"node15\" class=\"node\">\n<title>mu_G14</title>\n<text text-anchor=\"middle\" x=\"311.5\" y=\"-446.3\" font-family=\"Times,serif\" font-size=\"14.00\">mu</text>\n</g>\n<!-- QubitizationWalkOperator&#45;&gt;mu_G14 -->\n<g id=\"edge14\" class=\"edge\">\n<title>QubitizationWalkOperator:e-&gt;mu_G14:w</title>\n<path fill=\"none\" stroke=\"black\" d=\"M234,-352C282.03,-352 236.18,-446.96 281.28,-449.93\"/>\n<ellipse fill=\"black\" stroke=\"black\" cx=\"282.5\" cy=\"-449.97\" rx=\"1\" ry=\"1\"/>\n<text text-anchor=\"middle\" x=\"252.5\" y=\"-363\" font-family=\"Times,serif\" font-size=\"10.00\">9</text>\n</g>\n<!-- nu_G26 -->\n<g id=\"node16\" class=\"node\">\n<title>nu_G26</title>\n<text text-anchor=\"middle\" x=\"311.5\" y=\"-392.3\" font-family=\"Times,serif\" font-size=\"14.00\">nu</text>\n</g>\n<!-- QubitizationWalkOperator&#45;&gt;nu_G26 -->\n<g id=\"edge15\" class=\"edge\">\n<title>QubitizationWalkOperator:e-&gt;nu_G26:w</title>\n<path fill=\"none\" stroke=\"black\" d=\"M234,-331C269.6,-331 248.07,-393.49 281.44,-395.93\"/>\n<ellipse fill=\"black\" stroke=\"black\" cx=\"282.5\" cy=\"-395.96\" rx=\"1\" ry=\"1\"/>\n<text text-anchor=\"middle\" x=\"252.5\" y=\"-344\" font-family=\"Times,serif\" font-size=\"10.00\">9</text>\n</g>\n<!-- plus_b_G19 -->\n<g id=\"node17\" class=\"node\">\n<title>plus_b_G19</title>\n<text text-anchor=\"middle\" x=\"311.5\" y=\"-338.3\" font-family=\"Times,serif\" font-size=\"14.00\">plus_b</text>\n</g>\n<!-- QubitizationWalkOperator&#45;&gt;plus_b_G19 -->\n<g id=\"edge16\" class=\"edge\">\n<title>QubitizationWalkOperator:e-&gt;plus_b_G19:w</title>\n<path fill=\"none\" stroke=\"black\" d=\"M234,-310C259.48,-310 257.44,-340.27 281.42,-341.93\"/>\n<ellipse fill=\"black\" stroke=\"black\" cx=\"282.5\" cy=\"-341.97\" rx=\"1\" ry=\"1\"/>\n<text text-anchor=\"middle\" x=\"252.5\" y=\"-321\" font-family=\"Times,serif\" font-size=\"10.00\">1</text>\n</g>\n<!-- plus_mn_G28 -->\n<g id=\"node18\" class=\"node\">\n<title>plus_mn_G28</title>\n<text text-anchor=\"middle\" x=\"311.5\" y=\"-284.3\" font-family=\"Times,serif\" font-size=\"14.00\">plus_mn</text>\n</g>\n<!-- QubitizationWalkOperator&#45;&gt;plus_mn_G28 -->\n<g id=\"edge17\" class=\"edge\">\n<title>QubitizationWalkOperator:e-&gt;plus_mn_G28:w</title>\n<path fill=\"none\" stroke=\"black\" d=\"M234,-288C253.01,-288 258.31,-288 276.25,-288\"/>\n<ellipse fill=\"black\" stroke=\"black\" cx=\"277.5\" cy=\"-288\" rx=\"1\" ry=\"1\"/>\n<text text-anchor=\"middle\" x=\"252.5\" y=\"-291\" font-family=\"Times,serif\" font-size=\"10.00\">1</text>\n</g>\n<!-- rot_G8 -->\n<g id=\"node19\" class=\"node\">\n<title>rot_G8</title>\n<text text-anchor=\"middle\" x=\"311.5\" y=\"-230.3\" font-family=\"Times,serif\" font-size=\"14.00\">rot</text>\n</g>\n<!-- QubitizationWalkOperator&#45;&gt;rot_G8 -->\n<g id=\"edge18\" class=\"edge\">\n<title>QubitizationWalkOperator:e-&gt;rot_G8:w</title>\n<path fill=\"none\" stroke=\"black\" d=\"M234,-267C259.72,-267 257.22,-235.78 281.4,-234.07\"/>\n<ellipse fill=\"black\" stroke=\"black\" cx=\"282.5\" cy=\"-234.03\" rx=\"1\" ry=\"1\"/>\n<text text-anchor=\"middle\" x=\"252.5\" y=\"-262\" font-family=\"Times,serif\" font-size=\"10.00\">1</text>\n</g>\n<!-- sigma_G20 -->\n<g id=\"node20\" class=\"node\">\n<title>sigma_G20</title>\n<text text-anchor=\"middle\" x=\"311.5\" y=\"-176.3\" font-family=\"Times,serif\" font-size=\"14.00\">sigma</text>\n</g>\n<!-- QubitizationWalkOperator&#45;&gt;sigma_G20 -->\n<g id=\"edge19\" class=\"edge\">\n<title>QubitizationWalkOperator:e-&gt;sigma_G20:w</title>\n<path fill=\"none\" stroke=\"black\" d=\"M234,-246C269.95,-246 247.74,-182.55 281.42,-180.07\"/>\n<ellipse fill=\"black\" stroke=\"black\" cx=\"282.5\" cy=\"-180.04\" rx=\"1\" ry=\"1\"/>\n<text text-anchor=\"middle\" x=\"252.5\" y=\"-237\" font-family=\"Times,serif\" font-size=\"10.00\">10</text>\n</g>\n<!-- plus_a_G27 -->\n<g id=\"node21\" class=\"node\">\n<title>plus_a_G27</title>\n<text text-anchor=\"middle\" x=\"311.5\" y=\"-122.3\" font-family=\"Times,serif\" font-size=\"14.00\">plus_a</text>\n</g>\n<!-- QubitizationWalkOperator&#45;&gt;plus_a_G27 -->\n<g id=\"edge20\" class=\"edge\">\n<title>QubitizationWalkOperator:e-&gt;plus_a_G27:w</title>\n<path fill=\"none\" stroke=\"black\" d=\"M234,-225C282.42,-225 235.81,-129.07 281.27,-126.07\"/>\n<ellipse fill=\"black\" stroke=\"black\" cx=\"282.5\" cy=\"-126.03\" rx=\"1\" ry=\"1\"/>\n<text text-anchor=\"middle\" x=\"252.5\" y=\"-219\" font-family=\"Times,serif\" font-size=\"10.00\">1</text>\n</g>\n<!-- sys_a_G29 -->\n<g id=\"node22\" class=\"node\">\n<title>sys_a_G29</title>\n<text text-anchor=\"middle\" x=\"311.5\" y=\"-68.3\" font-family=\"Times,serif\" font-size=\"14.00\">sys_a</text>\n</g>\n<!-- QubitizationWalkOperator&#45;&gt;sys_a_G29 -->\n<g id=\"edge21\" class=\"edge\">\n<title>QubitizationWalkOperator:e-&gt;sys_a_G29:w</title>\n<path fill=\"none\" stroke=\"black\" d=\"M234,-204C295.92,-204 222.6,-75.08 281.35,-72.05\"/>\n<ellipse fill=\"black\" stroke=\"black\" cx=\"282.5\" cy=\"-72.03\" rx=\"1\" ry=\"1\"/>\n<text text-anchor=\"middle\" x=\"252.5\" y=\"-199\" font-family=\"Times,serif\" font-size=\"10.00\">76</text>\n</g>\n<!-- sys_b_G6 -->\n<g id=\"node23\" class=\"node\">\n<title>sys_b_G6</title>\n<text text-anchor=\"middle\" x=\"311.5\" y=\"-14.3\" font-family=\"Times,serif\" font-size=\"14.00\">sys_b</text>\n</g>\n<!-- QubitizationWalkOperator&#45;&gt;sys_b_G6 -->\n<g id=\"edge22\" class=\"edge\">\n<title>QubitizationWalkOperator:e-&gt;sys_b_G6:w</title>\n<path fill=\"none\" stroke=\"black\" d=\"M234,-183C309.81,-183 208.94,-21.21 281.31,-18.05\"/>\n<ellipse fill=\"black\" stroke=\"black\" cx=\"282.5\" cy=\"-18.02\" rx=\"1\" ry=\"1\"/>\n<text text-anchor=\"middle\" x=\"252.5\" y=\"-180\" font-family=\"Times,serif\" font-size=\"10.00\">76</text>\n</g>\n</g>\n</svg>",
          "text/plain": "<IPython.core.display.SVG object>"
         },
         "metadata": {},
         "output_type": "display_data"
        }
       ],
       "tabbable": null,
       "tooltip": null
      }
     },
     "32f9d6fac613415a893c9d029d0d53a7": {
      "model_module": "@jupyter-widgets/controls",
      "model_module_version": "2.0.0",
      "model_name": "HBoxModel",
      "state": {
       "_dom_classes": [],
       "_model_module": "@jupyter-widgets/controls",
       "_model_module_version": "2.0.0",
       "_model_name": "HBoxModel",
       "_view_count": null,
       "_view_module": "@jupyter-widgets/controls",
       "_view_module_version": "2.0.0",
       "_view_name": "HBoxView",
       "box_style": "",
       "children": [
        "IPY_MODEL_a87a3cb7f6e74c89b8ca29d2aad61447",
        "IPY_MODEL_2ee24e1b7c0d44c1901b5c8ce618d7ba",
        "IPY_MODEL_2230b7bccaa3405f92a899524289fb0d"
       ],
       "layout": "IPY_MODEL_149defcf423448d99c4822bee02eef0d",
       "tabbable": null,
       "tooltip": null
      }
     },
     "6d776053a1d549c8a98cce89bf01502f": {
      "model_module": "@jupyter-widgets/base",
      "model_module_version": "2.0.0",
      "model_name": "LayoutModel",
      "state": {
       "_model_module": "@jupyter-widgets/base",
       "_model_module_version": "2.0.0",
       "_model_name": "LayoutModel",
       "_view_count": null,
       "_view_module": "@jupyter-widgets/base",
       "_view_module_version": "2.0.0",
       "_view_name": "LayoutView",
       "align_content": null,
       "align_items": null,
       "align_self": null,
       "border_bottom": null,
       "border_left": null,
       "border_right": null,
       "border_top": null,
       "bottom": null,
       "display": null,
       "flex": null,
       "flex_flow": null,
       "grid_area": null,
       "grid_auto_columns": null,
       "grid_auto_flow": null,
       "grid_auto_rows": null,
       "grid_column": null,
       "grid_gap": null,
       "grid_row": null,
       "grid_template_areas": null,
       "grid_template_columns": null,
       "grid_template_rows": null,
       "height": null,
       "justify_content": null,
       "justify_items": null,
       "left": null,
       "margin": null,
       "max_height": null,
       "max_width": null,
       "min_height": null,
       "min_width": null,
       "object_fit": null,
       "object_position": null,
       "order": null,
       "overflow": null,
       "padding": null,
       "right": null,
       "top": null,
       "visibility": null,
       "width": null
      }
     },
     "8bc160012df24ea9bfe47a04cec9d6ee": {
      "model_module": "@jupyter-widgets/base",
      "model_module_version": "2.0.0",
      "model_name": "LayoutModel",
      "state": {
       "_model_module": "@jupyter-widgets/base",
       "_model_module_version": "2.0.0",
       "_model_name": "LayoutModel",
       "_view_count": null,
       "_view_module": "@jupyter-widgets/base",
       "_view_module_version": "2.0.0",
       "_view_name": "LayoutView",
       "align_content": null,
       "align_items": null,
       "align_self": null,
       "border_bottom": null,
       "border_left": null,
       "border_right": null,
       "border_top": null,
       "bottom": null,
       "display": null,
       "flex": null,
       "flex_flow": null,
       "grid_area": null,
       "grid_auto_columns": null,
       "grid_auto_flow": null,
       "grid_auto_rows": null,
       "grid_column": null,
       "grid_gap": null,
       "grid_row": null,
       "grid_template_areas": null,
       "grid_template_columns": null,
       "grid_template_rows": null,
       "height": null,
       "justify_content": null,
       "justify_items": null,
       "left": null,
       "margin": null,
       "max_height": null,
       "max_width": null,
       "min_height": null,
       "min_width": null,
       "object_fit": null,
       "object_position": null,
       "order": null,
       "overflow": null,
       "padding": null,
       "right": null,
       "top": null,
       "visibility": null,
       "width": null
      }
     },
     "a87a3cb7f6e74c89b8ca29d2aad61447": {
      "model_module": "@jupyter-widgets/output",
      "model_module_version": "1.0.0",
      "model_name": "OutputModel",
      "state": {
       "_dom_classes": [],
       "_model_module": "@jupyter-widgets/output",
       "_model_module_version": "1.0.0",
       "_model_name": "OutputModel",
       "_view_count": null,
       "_view_module": "@jupyter-widgets/output",
       "_view_module_version": "1.0.0",
       "_view_name": "OutputView",
       "layout": "IPY_MODEL_8bc160012df24ea9bfe47a04cec9d6ee",
       "msg_id": "",
       "outputs": [
        {
         "data": {
          "text/markdown": "`walk_op`",
          "text/plain": "<IPython.core.display.Markdown object>"
         },
         "metadata": {},
         "output_type": "display_data"
        },
        {
         "data": {
          "image/svg+xml": "<svg xmlns=\"http://www.w3.org/2000/svg\" xmlns:xlink=\"http://www.w3.org/1999/xlink\" width=\"328pt\" height=\"98pt\" viewBox=\"0.00 0.00 328.00 98.00\">\n<g id=\"graph0\" class=\"graph\" transform=\"scale(1 1) rotate(0) translate(4 94)\">\n<title>my_graph</title>\n<polygon fill=\"white\" stroke=\"transparent\" points=\"-4,4 -4,-94 324,-94 324,4 -4,4\"/>\n<!-- selection_G4 -->\n<g id=\"node1\" class=\"node\">\n<title>selection_G4</title>\n<text text-anchor=\"middle\" x=\"32.5\" y=\"-68.3\" font-family=\"Times,serif\" font-size=\"14.00\">selection</text>\n</g>\n<!-- QubitizationWalkOperator -->\n<g id=\"node3\" class=\"node\">\n<title>QubitizationWalkOperator</title>\n<polygon fill=\"none\" stroke=\"black\" points=\"102,-66 102,-83 218,-83 218,-66 102,-66\"/>\n<text text-anchor=\"start\" x=\"105\" y=\"-72\" font-family=\"Times,serif\" font-size=\"10.00\">QubitizationWalkOperator</text>\n<polygon fill=\"none\" stroke=\"black\" points=\"102,-45 102,-66 218,-66 218,-45 102,-45\"/>\n<text text-anchor=\"start\" x=\"135.5\" y=\"-51.8\" font-family=\"Times,serif\" font-size=\"14.00\">selection</text>\n<polygon fill=\"none\" stroke=\"black\" points=\"102,-24 102,-45 218,-45 218,-24 102,-24\"/>\n<text text-anchor=\"start\" x=\"144.5\" y=\"-30.8\" font-family=\"Times,serif\" font-size=\"14.00\">target</text>\n</g>\n<!-- selection_G4&#45;&gt;QubitizationWalkOperator -->\n<g id=\"edge1\" class=\"edge\">\n<title>selection_G4:e-&gt;QubitizationWalkOperator:w</title>\n<path fill=\"none\" stroke=\"black\" d=\"M65,-72C82.22,-72 83.97,-57.23 99.98,-56.07\"/>\n<ellipse fill=\"black\" stroke=\"black\" cx=\"101\" cy=\"-56.04\" rx=\"1\" ry=\"1\"/>\n<text text-anchor=\"middle\" x=\"83.5\" y=\"-67\" font-family=\"Times,serif\" font-size=\"10.00\">3</text>\n</g>\n<!-- target_G3 -->\n<g id=\"node2\" class=\"node\">\n<title>target_G3</title>\n<text text-anchor=\"middle\" x=\"32.5\" y=\"-14.3\" font-family=\"Times,serif\" font-size=\"14.00\">target</text>\n</g>\n<!-- target_G3&#45;&gt;QubitizationWalkOperator -->\n<g id=\"edge2\" class=\"edge\">\n<title>target_G3:e-&gt;QubitizationWalkOperator:w</title>\n<path fill=\"none\" stroke=\"black\" d=\"M60.5,-18C79.5,-18 82.05,-32.77 99.76,-33.93\"/>\n<ellipse fill=\"black\" stroke=\"black\" cx=\"101\" cy=\"-33.97\" rx=\"1\" ry=\"1\"/>\n<text text-anchor=\"middle\" x=\"83.5\" y=\"-31\" font-family=\"Times,serif\" font-size=\"10.00\">4</text>\n</g>\n<!-- selection_G0 -->\n<g id=\"node4\" class=\"node\">\n<title>selection_G0</title>\n<text text-anchor=\"middle\" x=\"287.5\" y=\"-68.3\" font-family=\"Times,serif\" font-size=\"14.00\">selection</text>\n</g>\n<!-- QubitizationWalkOperator&#45;&gt;selection_G0 -->\n<g id=\"edge3\" class=\"edge\">\n<title>QubitizationWalkOperator:e-&gt;selection_G0:w</title>\n<path fill=\"none\" stroke=\"black\" d=\"M218,-56C235.22,-56 236.97,-70.77 252.98,-71.93\"/>\n<ellipse fill=\"black\" stroke=\"black\" cx=\"254\" cy=\"-71.96\" rx=\"1\" ry=\"1\"/>\n<text text-anchor=\"middle\" x=\"236.5\" y=\"-67\" font-family=\"Times,serif\" font-size=\"10.00\">3</text>\n</g>\n<!-- target_G2 -->\n<g id=\"node5\" class=\"node\">\n<title>target_G2</title>\n<text text-anchor=\"middle\" x=\"287.5\" y=\"-14.3\" font-family=\"Times,serif\" font-size=\"14.00\">target</text>\n</g>\n<!-- QubitizationWalkOperator&#45;&gt;target_G2 -->\n<g id=\"edge4\" class=\"edge\">\n<title>QubitizationWalkOperator:e-&gt;target_G2:w</title>\n<path fill=\"none\" stroke=\"black\" d=\"M218,-34C237,-34 239.55,-19.23 257.26,-18.07\"/>\n<ellipse fill=\"black\" stroke=\"black\" cx=\"258.5\" cy=\"-18.03\" rx=\"1\" ry=\"1\"/>\n<text text-anchor=\"middle\" x=\"236.5\" y=\"-31\" font-family=\"Times,serif\" font-size=\"10.00\">4</text>\n</g>\n</g>\n</svg>",
          "text/plain": "<IPython.core.display.SVG object>"
         },
         "metadata": {},
         "output_type": "display_data"
        }
       ],
       "tabbable": null,
       "tooltip": null
      }
     },
     "d519a0fe557f4159b6d498a7aebcb466": {
      "model_module": "@jupyter-widgets/base",
      "model_module_version": "2.0.0",
      "model_name": "LayoutModel",
      "state": {
       "_model_module": "@jupyter-widgets/base",
       "_model_module_version": "2.0.0",
       "_model_name": "LayoutModel",
       "_view_count": null,
       "_view_module": "@jupyter-widgets/base",
       "_view_module_version": "2.0.0",
       "_view_name": "LayoutView",
       "align_content": null,
       "align_items": null,
       "align_self": null,
       "border_bottom": null,
       "border_left": null,
       "border_right": null,
       "border_top": null,
       "bottom": null,
       "display": null,
       "flex": null,
       "flex_flow": null,
       "grid_area": null,
       "grid_auto_columns": null,
       "grid_auto_flow": null,
       "grid_auto_rows": null,
       "grid_column": null,
       "grid_gap": null,
       "grid_row": null,
       "grid_template_areas": null,
       "grid_template_columns": null,
       "grid_template_rows": null,
       "height": null,
       "justify_content": null,
       "justify_items": null,
       "left": null,
       "margin": null,
       "max_height": null,
       "max_width": null,
       "min_height": null,
       "min_width": null,
       "object_fit": null,
       "object_position": null,
       "order": null,
       "overflow": null,
       "padding": null,
       "right": null,
       "top": null,
       "visibility": null,
       "width": null
      }
     }
    },
    "version_major": 2,
    "version_minor": 0
   }
  }
 },
 "nbformat": 4,
 "nbformat_minor": 5
}
