{
 "cells": [
  {
   "cell_type": "markdown",
   "id": "cfd6b8eb",
   "metadata": {
    "cq.autogen": "title_cell"
   },
   "source": [
    "# Qubitization Walk Operator\n",
    "\n",
    "Bloqs for constructing quantum walks from Select and Prepare operators.\n",
    "\n",
    "The spectrum of a quantum Hamiltonian can be encoded in the spectrum of a quantum \"walk\"\n",
    "operator. The Prepare and Select subroutines are carefully designed so that the Hamiltonian\n",
    "$H$ is encoded as a projection of Select onto the state prepared by Prepare:\n",
    "\n",
    "$$\n",
    "\\mathrm{PREPARE}|0\\rangle = |\\mathcal{L}\\rangle \\\\\n",
    "(\\langle \\mathcal{L} | \\otimes \\mathbb{1}) \\mathrm{SELECT} (|\\mathcal{L} \\rangle \\otimes \\mathbb{1}) = H / \\lambda\n",
    "$$.\n",
    "We first document the SelectOracle and PrepareOracle abstract base bloqs, and then show\n",
    "how they can be combined in `QubitizationWalkOperator`."
   ]
  },
  {
   "cell_type": "code",
   "execution_count": 1,
   "id": "b9661b50",
   "metadata": {
    "cq.autogen": "top_imports"
   },
   "outputs": [],
   "source": [
    "from qualtran import Bloq, CompositeBloq, BloqBuilder, Signature, Register\n",
    "from qualtran import QBit, QInt, QUInt, QAny\n",
    "from qualtran.drawing import show_bloq, show_call_graph, show_counts_sigma\n",
    "from typing import *\n",
    "import numpy as np\n",
    "import sympy\n",
    "import cirq"
   ]
  },
  {
   "cell_type": "markdown",
   "id": "399690ef",
   "metadata": {
    "cq.autogen": "SelectOracle.bloq_doc.md"
   },
   "source": [
    "## `SelectOracle`\n",
    "Abstract base class that defines the interface for a SELECT Oracle.\n",
    "\n",
    "The action of a SELECT oracle on a selection register $|l\\rangle$ and target register\n",
    "$|\\Psi\\rangle$ can be defined as:\n",
    "\n",
    "$$\n",
    "    \\mathrm{SELECT} = \\sum_{l}|l \\rangle \\langle l| \\otimes U_l\n",
    "$$\n",
    "\n",
    "In other words, the `SELECT` oracle applies $l$'th unitary $U_l$ on the target register\n",
    "$|\\Psi\\rangle$ when the selection register stores integer $l$.\n",
    "\n",
    "$$\n",
    "    \\mathrm{SELECT}|l\\rangle |\\Psi\\rangle = |l\\rangle U_{l}|\\Psi\\rangle\n",
    "$$"
   ]
  },
  {
   "cell_type": "code",
   "execution_count": 2,
   "id": "b2bae756",
   "metadata": {
    "cq.autogen": "SelectOracle.bloq_doc.py"
   },
   "outputs": [],
   "source": [
    "from qualtran.bloqs.multiplexers.select_base import SelectOracle"
   ]
  },
  {
   "cell_type": "markdown",
   "id": "774308d5",
   "metadata": {
    "cq.autogen": "PrepareOracle.bloq_doc.md"
   },
   "source": [
    "## `PrepareOracle`\n",
    "Abstract base class that defines the API for a PREPARE Oracle.\n",
    "\n",
    "Given a set of coefficients $\\{c_0, c_1, ..., c_{N - 1}\\}$, the PREPARE oracle is used to encode\n",
    "the coefficients as amplitudes of a state $|\\Psi\\rangle = \\sum_{l=0}^{N-1} \\sqrt{\\frac{c_l}{\\lambda}} |l\\rangle$\n",
    "where $\\lambda = \\sum_l |c_l|$, using a selection register $|l\\rangle$. In order to prepare such\n",
    "a state, the PREPARE circuit is also allowed to use a junk register that is entangled with\n",
    "selection register.\n",
    "\n",
    "Thus, the action of a PREPARE circuit on an input state $|0\\rangle$ can be defined as:\n",
    "\n",
    "$$\n",
    "    \\mathrm{PREPARE} |0\\rangle = \\sum_{l=0}^{N-1} \\sqrt{ \\frac{c_l}{\\lambda} } |l\\rangle |\\mathrm{junk}_l\\rangle\n",
    "$$"
   ]
  },
  {
   "cell_type": "code",
   "execution_count": 3,
   "id": "bba5bab6",
   "metadata": {
    "cq.autogen": "PrepareOracle.bloq_doc.py"
   },
   "outputs": [],
   "source": [
    "from qualtran.bloqs.state_preparation.prepare_base import PrepareOracle"
   ]
  },
  {
   "cell_type": "markdown",
   "id": "229ba8d6",
   "metadata": {
    "cq.autogen": "QubitizationWalkOperator.bloq_doc.md"
   },
   "source": [
    "## `QubitizationWalkOperator`\n",
    "Construct a Szegedy Quantum Walk operator using LCU oracles SELECT and PREPARE.\n",
    "\n",
    "For a Hamiltonian $H = \\sum_l w_l H_l$ (where coefficients $w_l > 0$ and $H_l$ are unitaries),\n",
    "This bloq constructs a Szegedy quantum walk operator $W = R_{L} \\cdot \\mathrm{SELECT}$,\n",
    "which is a product of two reflections:\n",
    " - $R_L = (2|L\\rangle\\langle L| - I)$ and\n",
    " - $\\mathrm{SELECT}=\\sum_l |l\\rangle\\langle l|H_l$.\n",
    "\n",
    "The action of $W$ partitions the Hilbert space into a direct sum of two-dimensional irreducible\n",
    "vector spaces giving it the name \"qubitization\".\n",
    "For an arbitrary eigenstate $|k\\rangle$ of $H$ with eigenvalue $E_k$,\n",
    "the two-dimensional space is spanned by $|L\\rangle|k\\rangle$ and\n",
    "an orthogonal state $\\phi_k$. In this space, $W$ implements a Pauli-Y rotation by an angle of\n",
    "$-2\\arccos(E_k / \\lambda)$ where $\\lambda = \\sum_l w_l$. That is,\n",
    "$W = e^{i \\arccos(E_k / \\lambda) Y}$.\n",
    "\n",
    "Thus, the walk operator $W$ encodes the spectrum of $H$ as a function of eigenphases of $W$,\n",
    "specifically $\\mathrm{spectrum}(H) = \\lambda \\cos(\\arg(\\mathrm{spectrum}(W)))$\n",
    "where $\\arg(e^{i\\phi}) = \\phi$.\n",
    "\n",
    "#### Parameters\n",
    " - `select`: The SELECT lcu gate implementing $\\mathrm{SELECT}=\\sum_{l}|l\\rangle\\langle l|H_{l}$.\n",
    " - `prepare`: Then PREPARE lcu gate implementing $\\mathrm{PREPARE}|0\\dots 0\\rangle = \\sum_l \\sqrt{\\frac{w_{l}}{\\lambda}} |l\\rangle = |L\\rangle$\n",
    " - `control_val`: If 0/1, a controlled version of the walk operator is constructed. Defaults to None, in which case the resulting walk operator is not controlled. \n",
    "\n",
    "#### References\n",
    " - [Encoding Electronic Spectra in Quantum Circuits with Linear T Complexity](https://arxiv.org/abs/1805.03662). Babbush et. al. (2018). Figure 1.\n"
   ]
  },
  {
   "cell_type": "code",
   "execution_count": 4,
   "id": "15321e4d",
   "metadata": {
    "cq.autogen": "QubitizationWalkOperator.bloq_doc.py"
   },
   "outputs": [],
   "source": [
    "from qualtran.bloqs.qubitization import QubitizationWalkOperator"
   ]
  },
  {
   "cell_type": "markdown",
   "id": "96fc5764",
   "metadata": {
    "cq.autogen": "QubitizationWalkOperator.example_instances.md"
   },
   "source": [
    "### Example Instances"
   ]
  },
  {
   "cell_type": "code",
   "execution_count": 5,
   "id": "f8392371",
   "metadata": {
    "cq.autogen": "QubitizationWalkOperator.walk_op"
   },
   "outputs": [],
   "source": [
    "from qualtran.bloqs.chemistry.ising.walk_operator import get_walk_operator_for_1d_ising_model\n",
    "\n",
    "walk_op, _ = get_walk_operator_for_1d_ising_model(4, 2e-1)"
   ]
  },
  {
   "cell_type": "code",
   "execution_count": 6,
   "id": "610b41e2",
   "metadata": {
    "cq.autogen": "QubitizationWalkOperator.thc_walk_op"
   },
   "outputs": [],
   "source": [
    "from openfermion.resource_estimates.utils import QI\n",
    "\n",
    "from qualtran.bloqs.chemistry.thc.prepare_test import build_random_test_integrals\n",
    "from qualtran.bloqs.chemistry.thc.walk_operator import get_walk_operator_for_thc_ham\n",
    "\n",
    "# Li et al parameters from openfermion.resource_estimates.thc.compute_cost_thc_test\n",
    "num_spinorb = 152\n",
    "num_bits_state_prep = 10\n",
    "num_bits_rot = 20\n",
    "thc_dim = 450\n",
    "num_spat = num_spinorb // 2\n",
    "t_l, eta, zeta = build_random_test_integrals(thc_dim, num_spinorb // 2, seed=7)\n",
    "qroam_blocking_factor = np.power(2, QI(thc_dim + num_spat)[0])\n",
    "thc_walk_op = get_walk_operator_for_thc_ham(\n",
    "    t_l,\n",
    "    eta,\n",
    "    zeta,\n",
    "    num_bits_state_prep=num_bits_state_prep,\n",
    "    num_bits_theta=num_bits_rot,\n",
    "    kr1=qroam_blocking_factor,\n",
    "    kr2=qroam_blocking_factor,\n",
    ")"
   ]
  },
  {
   "cell_type": "code",
   "execution_count": 7,
   "id": "0832238d",
   "metadata": {
    "cq.autogen": "QubitizationWalkOperator.walk_op_chem_sparse"
   },
   "outputs": [],
   "source": [
    "from qualtran.bloqs.chemistry.sparse.prepare_test import build_random_test_integrals\n",
    "from qualtran.bloqs.chemistry.sparse.walk_operator import get_walk_operator_for_sparse_chem_ham\n",
    "\n",
    "num_spin_orb = 8\n",
    "num_bits_rot_aa = 8\n",
    "num_bits_state_prep = 12\n",
    "tpq, eris = build_random_test_integrals(num_spin_orb // 2)\n",
    "walk_op_chem_sparse = get_walk_operator_for_sparse_chem_ham(\n",
    "    tpq, eris, num_bits_rot_aa=num_bits_rot_aa, num_bits_state_prep=num_bits_state_prep\n",
    ")"
   ]
  },
  {
   "cell_type": "markdown",
   "id": "03c98002",
   "metadata": {
    "cq.autogen": "QubitizationWalkOperator.graphical_signature.md"
   },
   "source": [
    "#### Graphical Signature"
   ]
  },
  {
   "cell_type": "code",
   "execution_count": 8,
   "id": "9351cadf",
   "metadata": {
    "cq.autogen": "QubitizationWalkOperator.graphical_signature.py"
   },
   "outputs": [
    {
     "data": {
      "application/vnd.jupyter.widget-view+json": {
       "model_id": "5dd0d0563fd64c7393c0a5415cb2da07",
       "version_major": 2,
       "version_minor": 0
      },
      "text/plain": [
       "HBox(children=(Output(outputs=({'output_type': 'display_data', 'data': {'text/plain': '<IPython.core.display.M…"
      ]
     },
     "metadata": {},
     "output_type": "display_data"
    }
   ],
   "source": [
    "from qualtran.drawing import show_bloqs\n",
    "show_bloqs([walk_op, thc_walk_op, walk_op_chem_sparse],\n",
    "           ['`walk_op`', '`thc_walk_op`', '`walk_op_chem_sparse`'])"
   ]
  },
  {
   "cell_type": "markdown",
   "id": "1bacb706",
   "metadata": {
    "cq.autogen": "QubitizationWalkOperator.call_graph.md"
   },
   "source": [
    "### Call Graph"
   ]
  },
  {
   "cell_type": "code",
   "execution_count": 9,
   "id": "c675bcf0",
   "metadata": {
    "cq.autogen": "QubitizationWalkOperator.call_graph.py"
   },
   "outputs": [
    {
     "data": {
      "image/svg+xml": [
       "<svg xmlns=\"http://www.w3.org/2000/svg\" xmlns:xlink=\"http://www.w3.org/1999/xlink\" width=\"840pt\" height=\"131pt\" viewBox=\"0.00 0.00 840.00 131.00\">\n",
       "<g id=\"graph0\" class=\"graph\" transform=\"scale(1 1) rotate(0) translate(4 127)\">\n",
       "<title>counts</title>\n",
       "<polygon fill=\"white\" stroke=\"transparent\" points=\"-4,4 -4,-127 836,-127 836,4 -4,4\"/>\n",
       "<!-- b0 -->\n",
       "<g id=\"node1\" class=\"node\">\n",
       "<title>b0</title>\n",
       "<polygon fill=\"none\" stroke=\"black\" points=\"592,-123 203,-123 203,-87 592,-87 592,-123\"/>\n",
       "<text text-anchor=\"start\" x=\"325\" y=\"-106.8\" font-family=\"Times,serif\" font-size=\"14.00\">QubitizationWalkOperator</text>\n",
       "<text text-anchor=\"start\" x=\"211\" y=\"-96\" font-family=\"monospace\" font-size=\"10.00\">block_encoding=SelectBl ..., control_val=None, uncompute=False</text>\n",
       "</g>\n",
       "<!-- b1 -->\n",
       "<g id=\"node2\" class=\"node\">\n",
       "<title>b1</title>\n",
       "<polygon fill=\"none\" stroke=\"black\" points=\"371,-36 0,-36 0,0 371,0 371,-36\"/>\n",
       "<text text-anchor=\"start\" x=\"171.5\" y=\"-19.8\" font-family=\"Times,serif\" font-size=\"14.00\">B[H]</text>\n",
       "<text text-anchor=\"start\" x=\"8\" y=\"-9\" font-family=\"monospace\" font-size=\"10.00\">select=SelectPa ..., prepare=StatePre ..., control_val=None</text>\n",
       "</g>\n",
       "<!-- b0&#45;&gt;b1 -->\n",
       "<g id=\"edge1\" class=\"edge\">\n",
       "<title>b0-&gt;b1</title>\n",
       "<path fill=\"none\" stroke=\"black\" d=\"M354.85,-86.9C321,-73.33 273.53,-54.29 237.46,-39.83\"/>\n",
       "<polygon fill=\"black\" stroke=\"black\" points=\"238.66,-36.54 228.08,-36.07 236.06,-43.04 238.66,-36.54\"/>\n",
       "<text text-anchor=\"middle\" x=\"308\" y=\"-57.8\" font-family=\"Times,serif\" font-size=\"14.00\">1</text>\n",
       "</g>\n",
       "<!-- b2 -->\n",
       "<g id=\"node3\" class=\"node\">\n",
       "<title>b2</title>\n",
       "<polygon fill=\"none\" stroke=\"black\" points=\"832,-36 389,-36 389,0 832,0 832,-36\"/>\n",
       "<text text-anchor=\"start\" x=\"545.5\" y=\"-19.8\" font-family=\"Times,serif\" font-size=\"14.00\">ReflectionUsingPrepare</text>\n",
       "<text text-anchor=\"start\" x=\"397\" y=\"-9\" font-family=\"monospace\" font-size=\"10.00\">prepare_gate=StatePre ..., control_val=None, global_phase=-1, eps=1e-11</text>\n",
       "</g>\n",
       "<!-- b0&#45;&gt;b2 -->\n",
       "<g id=\"edge2\" class=\"edge\">\n",
       "<title>b0-&gt;b2</title>\n",
       "<path fill=\"none\" stroke=\"black\" d=\"M440.35,-86.9C474.36,-73.33 522.06,-54.29 558.3,-39.83\"/>\n",
       "<polygon fill=\"black\" stroke=\"black\" points=\"559.73,-43.03 567.72,-36.07 557.14,-36.53 559.73,-43.03\"/>\n",
       "<text text-anchor=\"middle\" x=\"521\" y=\"-57.8\" font-family=\"Times,serif\" font-size=\"14.00\">1</text>\n",
       "</g>\n",
       "</g>\n",
       "</svg>"
      ],
      "text/plain": [
       "<IPython.core.display.SVG object>"
      ]
     },
     "metadata": {},
     "output_type": "display_data"
    },
    {
     "data": {
      "text/markdown": [
       "#### Counts totals:\n",
       " - `B[H]`: 1\n",
       " - `ReflectionUsingPrepare`: 1"
      ],
      "text/plain": [
       "<IPython.core.display.Markdown object>"
      ]
     },
     "metadata": {},
     "output_type": "display_data"
    }
   ],
   "source": [
    "from qualtran.resource_counting.generalizers import ignore_split_join\n",
    "walk_op_g, walk_op_sigma = walk_op.call_graph(max_depth=1, generalizer=ignore_split_join)\n",
    "show_call_graph(walk_op_g)\n",
    "show_counts_sigma(walk_op_sigma)"
   ]
  }
 ],
 "metadata": {
  "kernelspec": {
   "display_name": "Python 3 (ipykernel)",
   "language": "python",
   "name": "python3"
  },
  "language_info": {
   "codemirror_mode": {
    "name": "ipython",
    "version": 3
   },
   "file_extension": ".py",
   "mimetype": "text/x-python",
   "name": "python",
   "nbconvert_exporter": "python",
   "pygments_lexer": "ipython3",
   "version": "3.11.8"
  },
  "widgets": {
   "application/vnd.jupyter.widget-state+json": {
    "state": {
     "1e392aa3c4d248228941c9b571c2963c": {
      "model_module": "@jupyter-widgets/output",
      "model_module_version": "1.0.0",
      "model_name": "OutputModel",
      "state": {
       "_dom_classes": [],
       "_model_module": "@jupyter-widgets/output",
       "_model_module_version": "1.0.0",
       "_model_name": "OutputModel",
       "_view_count": null,
       "_view_module": "@jupyter-widgets/output",
       "_view_module_version": "1.0.0",
       "_view_name": "OutputView",
       "layout": "IPY_MODEL_2dc22050efae4457b32c041b564b6d15",
       "msg_id": "",
       "outputs": [
        {
         "data": {
          "text/markdown": "`walk_op_chem_sparse`",
          "text/plain": "<IPython.core.display.Markdown object>"
         },
         "metadata": {},
         "output_type": "display_data"
        },
        {
         "data": {
          "image/svg+xml": "<svg xmlns=\"http://www.w3.org/2000/svg\" xmlns:xlink=\"http://www.w3.org/1999/xlink\" width=\"346pt\" height=\"746pt\" viewBox=\"0.00 0.00 346.00 746.00\">\n<g id=\"graph0\" class=\"graph\" transform=\"scale(1 1) rotate(0) translate(4 742)\">\n<title>my_graph</title>\n<polygon fill=\"white\" stroke=\"transparent\" points=\"-4,4 -4,-742 342,-742 342,4 -4,4\"/>\n<!-- rot_aa_G21 -->\n<g id=\"node1\" class=\"node\">\n<title>rot_aa_G21</title>\n<text text-anchor=\"middle\" x=\"37\" y=\"-716.3\" font-family=\"Times,serif\" font-size=\"14.00\">rot_aa</text>\n</g>\n<!-- QubitizationWalkOperator -->\n<g id=\"node15\" class=\"node\">\n<title>QubitizationWalkOperator</title>\n<polygon fill=\"none\" stroke=\"black\" points=\"111,-516 111,-533 227,-533 227,-516 111,-516\"/>\n<text text-anchor=\"start\" x=\"114\" y=\"-522\" font-family=\"Times,serif\" font-size=\"10.00\">QubitizationWalkOperator</text>\n<polygon fill=\"none\" stroke=\"black\" points=\"111,-495 111,-516 227,-516 227,-495 111,-495\"/>\n<text text-anchor=\"start\" x=\"152\" y=\"-501.8\" font-family=\"Times,serif\" font-size=\"14.00\">rot_aa</text>\n<polygon fill=\"none\" stroke=\"black\" points=\"111,-474 111,-495 227,-495 227,-474 111,-474\"/>\n<text text-anchor=\"start\" x=\"154\" y=\"-480.8\" font-family=\"Times,serif\" font-size=\"14.00\">alpha</text>\n<polygon fill=\"none\" stroke=\"black\" points=\"111,-453 111,-474 227,-474 227,-453 111,-453\"/>\n<text text-anchor=\"start\" x=\"148\" y=\"-459.8\" font-family=\"Times,serif\" font-size=\"14.00\">flag_1b</text>\n<polygon fill=\"none\" stroke=\"black\" points=\"111,-432 111,-453 227,-453 227,-432 111,-432\"/>\n<text text-anchor=\"start\" x=\"157.5\" y=\"-438.8\" font-family=\"Times,serif\" font-size=\"14.00\">beta</text>\n<polygon fill=\"none\" stroke=\"black\" points=\"111,-411 111,-432 227,-432 227,-411 111,-411\"/>\n<text text-anchor=\"start\" x=\"144.5\" y=\"-417.8\" font-family=\"Times,serif\" font-size=\"14.00\">swap_pq</text>\n<polygon fill=\"none\" stroke=\"black\" points=\"111,-390 111,-411 227,-411 227,-390 111,-390\"/>\n<text text-anchor=\"start\" x=\"165.5\" y=\"-396.8\" font-family=\"Times,serif\" font-size=\"14.00\">q</text>\n<polygon fill=\"none\" stroke=\"black\" points=\"111,-369 111,-390 227,-390 227,-369 111,-369\"/>\n<text text-anchor=\"start\" x=\"166\" y=\"-375.8\" font-family=\"Times,serif\" font-size=\"14.00\">s</text>\n<polygon fill=\"none\" stroke=\"black\" points=\"111,-348 111,-369 227,-369 227,-348 111,-348\"/>\n<text text-anchor=\"start\" x=\"146.5\" y=\"-354.8\" font-family=\"Times,serif\" font-size=\"14.00\">swap_rs</text>\n<polygon fill=\"none\" stroke=\"black\" points=\"111,-327 111,-348 227,-348 227,-327 111,-327\"/>\n<text text-anchor=\"start\" x=\"140\" y=\"-333.8\" font-family=\"Times,serif\" font-size=\"14.00\">swap_pqrs</text>\n<polygon fill=\"none\" stroke=\"black\" points=\"111,-306 111,-327 227,-327 227,-306 111,-306\"/>\n<text text-anchor=\"start\" x=\"152\" y=\"-312.8\" font-family=\"Times,serif\" font-size=\"14.00\">sigma</text>\n<polygon fill=\"none\" stroke=\"black\" points=\"111,-285 111,-306 227,-306 227,-285 111,-285\"/>\n<text text-anchor=\"start\" x=\"165.5\" y=\"-291.8\" font-family=\"Times,serif\" font-size=\"14.00\">d</text>\n<polygon fill=\"none\" stroke=\"black\" points=\"111,-264 111,-285 227,-285 227,-264 111,-264\"/>\n<text text-anchor=\"start\" x=\"165.5\" y=\"-270.8\" font-family=\"Times,serif\" font-size=\"14.00\">p</text>\n<polygon fill=\"none\" stroke=\"black\" points=\"111,-243 111,-264 227,-264 227,-243 111,-243\"/>\n<text text-anchor=\"start\" x=\"166.5\" y=\"-249.8\" font-family=\"Times,serif\" font-size=\"14.00\">r</text>\n<polygon fill=\"none\" stroke=\"black\" points=\"111,-222 111,-243 227,-243 227,-222 111,-222\"/>\n<text text-anchor=\"start\" x=\"160\" y=\"-228.8\" font-family=\"Times,serif\" font-size=\"14.00\">sys</text>\n</g>\n<!-- rot_aa_G21&#45;&gt;QubitizationWalkOperator -->\n<g id=\"edge1\" class=\"edge\">\n<title>rot_aa_G21:e-&gt;QubitizationWalkOperator:w</title>\n<path fill=\"none\" stroke=\"black\" d=\"M65,-720C77.65,-720 70.65,-705.2 74,-693 84.49,-654.84 85.27,-644.82 93,-606 97.27,-584.55 88.97,-510.81 108.97,-506.22\"/>\n<ellipse fill=\"black\" stroke=\"black\" cx=\"110.01\" cy=\"-506.11\" rx=\"1\" ry=\"1\"/>\n<text text-anchor=\"middle\" x=\"92.5\" y=\"-613\" font-family=\"Times,serif\" font-size=\"10.00\">1</text>\n</g>\n<!-- alpha_G23 -->\n<g id=\"node2\" class=\"node\">\n<title>alpha_G23</title>\n<text text-anchor=\"middle\" x=\"37\" y=\"-662.3\" font-family=\"Times,serif\" font-size=\"14.00\">alpha</text>\n</g>\n<!-- alpha_G23&#45;&gt;QubitizationWalkOperator -->\n<g id=\"edge2\" class=\"edge\">\n<title>alpha_G23:e-&gt;QubitizationWalkOperator:w</title>\n<path fill=\"none\" stroke=\"black\" d=\"M65,-666C97.68,-666 84.15,-629.46 93,-598 99.7,-574.19 86.34,-489.79 109,-485.2\"/>\n<ellipse fill=\"black\" stroke=\"black\" cx=\"110\" cy=\"-485.1\" rx=\"1\" ry=\"1\"/>\n<text text-anchor=\"middle\" x=\"92.5\" y=\"-604\" font-family=\"Times,serif\" font-size=\"10.00\">1</text>\n</g>\n<!-- flag_1b_G36 -->\n<g id=\"node3\" class=\"node\">\n<title>flag_1b_G36</title>\n<text text-anchor=\"middle\" x=\"37\" y=\"-608.3\" font-family=\"Times,serif\" font-size=\"14.00\">flag_1b</text>\n</g>\n<!-- flag_1b_G36&#45;&gt;QubitizationWalkOperator -->\n<g id=\"edge3\" class=\"edge\">\n<title>flag_1b_G36:e-&gt;QubitizationWalkOperator:w</title>\n<path fill=\"none\" stroke=\"black\" d=\"M67,-612C134.82,-612 44.54,-467.45 108.65,-464.06\"/>\n<ellipse fill=\"black\" stroke=\"black\" cx=\"110\" cy=\"-464.03\" rx=\"1\" ry=\"1\"/>\n<text text-anchor=\"middle\" x=\"92.5\" y=\"-596\" font-family=\"Times,serif\" font-size=\"10.00\">1</text>\n</g>\n<!-- beta_G10 -->\n<g id=\"node4\" class=\"node\">\n<title>beta_G10</title>\n<text text-anchor=\"middle\" x=\"37\" y=\"-554.3\" font-family=\"Times,serif\" font-size=\"14.00\">beta</text>\n</g>\n<!-- beta_G10&#45;&gt;QubitizationWalkOperator -->\n<g id=\"edge4\" class=\"edge\">\n<title>beta_G10:e-&gt;QubitizationWalkOperator:w</title>\n<path fill=\"none\" stroke=\"black\" d=\"M65,-558C119.3,-558 57.68,-446.12 108.81,-443.06\"/>\n<ellipse fill=\"black\" stroke=\"black\" cx=\"110\" cy=\"-443.03\" rx=\"1\" ry=\"1\"/>\n<text text-anchor=\"middle\" x=\"92.5\" y=\"-453\" font-family=\"Times,serif\" font-size=\"10.00\">1</text>\n</g>\n<!-- swap_pq_G13 -->\n<g id=\"node5\" class=\"node\">\n<title>swap_pq_G13</title>\n<text text-anchor=\"middle\" x=\"37\" y=\"-500.3\" font-family=\"Times,serif\" font-size=\"14.00\">swap_pq</text>\n</g>\n<!-- swap_pq_G13&#45;&gt;QubitizationWalkOperator -->\n<g id=\"edge5\" class=\"edge\">\n<title>swap_pq_G13:e-&gt;QubitizationWalkOperator:w</title>\n<path fill=\"none\" stroke=\"black\" d=\"M71,-504C110.76,-504 72.02,-425.17 108.72,-422.09\"/>\n<ellipse fill=\"black\" stroke=\"black\" cx=\"110\" cy=\"-422.04\" rx=\"1\" ry=\"1\"/>\n<text text-anchor=\"middle\" x=\"92.5\" y=\"-442\" font-family=\"Times,serif\" font-size=\"10.00\">1</text>\n</g>\n<!-- q_G0 -->\n<g id=\"node6\" class=\"node\">\n<title>q_G0</title>\n<text text-anchor=\"middle\" x=\"37\" y=\"-446.3\" font-family=\"Times,serif\" font-size=\"14.00\">q</text>\n</g>\n<!-- q_G0&#45;&gt;QubitizationWalkOperator -->\n<g id=\"edge6\" class=\"edge\">\n<title>q_G0:e-&gt;QubitizationWalkOperator:w</title>\n<path fill=\"none\" stroke=\"black\" d=\"M65,-450C94.17,-450 81.75,-403.27 108.97,-401.08\"/>\n<ellipse fill=\"black\" stroke=\"black\" cx=\"110\" cy=\"-401.04\" rx=\"1\" ry=\"1\"/>\n<text text-anchor=\"middle\" x=\"92.5\" y=\"-417\" font-family=\"Times,serif\" font-size=\"10.00\">2</text>\n</g>\n<!-- s_G30 -->\n<g id=\"node7\" class=\"node\">\n<title>s_G30</title>\n<text text-anchor=\"middle\" x=\"37\" y=\"-392.3\" font-family=\"Times,serif\" font-size=\"14.00\">s</text>\n</g>\n<!-- s_G30&#45;&gt;QubitizationWalkOperator -->\n<g id=\"edge7\" class=\"edge\">\n<title>s_G30:e-&gt;QubitizationWalkOperator:w</title>\n<path fill=\"none\" stroke=\"black\" d=\"M65,-396C85.8,-396 89.11,-381.23 108.55,-380.07\"/>\n<ellipse fill=\"black\" stroke=\"black\" cx=\"110\" cy=\"-380.03\" rx=\"1\" ry=\"1\"/>\n<text text-anchor=\"middle\" x=\"92.5\" y=\"-388\" font-family=\"Times,serif\" font-size=\"10.00\">2</text>\n</g>\n<!-- swap_rs_G2 -->\n<g id=\"node8\" class=\"node\">\n<title>swap_rs_G2</title>\n<text text-anchor=\"middle\" x=\"37\" y=\"-338.3\" font-family=\"Times,serif\" font-size=\"14.00\">swap_rs</text>\n</g>\n<!-- swap_rs_G2&#45;&gt;QubitizationWalkOperator -->\n<g id=\"edge8\" class=\"edge\">\n<title>swap_rs_G2:e-&gt;QubitizationWalkOperator:w</title>\n<path fill=\"none\" stroke=\"black\" d=\"M69,-342C88.2,-342 90.84,-356.77 108.74,-357.93\"/>\n<ellipse fill=\"black\" stroke=\"black\" cx=\"110\" cy=\"-357.97\" rx=\"1\" ry=\"1\"/>\n<text text-anchor=\"middle\" x=\"92.5\" y=\"-354\" font-family=\"Times,serif\" font-size=\"10.00\">1</text>\n</g>\n<!-- swap_pqrs_G27 -->\n<g id=\"node9\" class=\"node\">\n<title>swap_pqrs_G27</title>\n<text text-anchor=\"middle\" x=\"37\" y=\"-284.3\" font-family=\"Times,serif\" font-size=\"14.00\">swap_pqrs</text>\n</g>\n<!-- swap_pqrs_G27&#45;&gt;QubitizationWalkOperator -->\n<g id=\"edge9\" class=\"edge\">\n<title>swap_pqrs_G27:e-&gt;QubitizationWalkOperator:w</title>\n<path fill=\"none\" stroke=\"black\" d=\"M74,-288C100.54,-288 84.64,-334.36 108.86,-336.89\"/>\n<ellipse fill=\"black\" stroke=\"black\" cx=\"110\" cy=\"-336.95\" rx=\"1\" ry=\"1\"/>\n<text text-anchor=\"middle\" x=\"92.5\" y=\"-316\" font-family=\"Times,serif\" font-size=\"10.00\">1</text>\n</g>\n<!-- sigma_G5 -->\n<g id=\"node10\" class=\"node\">\n<title>sigma_G5</title>\n<text text-anchor=\"middle\" x=\"37\" y=\"-230.3\" font-family=\"Times,serif\" font-size=\"14.00\">sigma</text>\n</g>\n<!-- sigma_G5&#45;&gt;QubitizationWalkOperator -->\n<g id=\"edge10\" class=\"edge\">\n<title>sigma_G5:e-&gt;QubitizationWalkOperator:w</title>\n<path fill=\"none\" stroke=\"black\" d=\"M65,-234C105.97,-234 70.65,-312.83 108.64,-315.91\"/>\n<ellipse fill=\"black\" stroke=\"black\" cx=\"110\" cy=\"-315.96\" rx=\"1\" ry=\"1\"/>\n<text text-anchor=\"middle\" x=\"92.5\" y=\"-307\" font-family=\"Times,serif\" font-size=\"10.00\">12</text>\n</g>\n<!-- d_G16 -->\n<g id=\"node11\" class=\"node\">\n<title>d_G16</title>\n<text text-anchor=\"middle\" x=\"37\" y=\"-176.3\" font-family=\"Times,serif\" font-size=\"14.00\">d</text>\n</g>\n<!-- d_G16&#45;&gt;QubitizationWalkOperator -->\n<g id=\"edge11\" class=\"edge\">\n<title>d_G16:e-&gt;QubitizationWalkOperator:w</title>\n<path fill=\"none\" stroke=\"black\" d=\"M65,-180C119.3,-180 57.68,-291.88 108.81,-294.94\"/>\n<ellipse fill=\"black\" stroke=\"black\" cx=\"110\" cy=\"-294.97\" rx=\"1\" ry=\"1\"/>\n<text text-anchor=\"middle\" x=\"92.5\" y=\"-290\" font-family=\"Times,serif\" font-size=\"10.00\">7</text>\n</g>\n<!-- p_G33 -->\n<g id=\"node12\" class=\"node\">\n<title>p_G33</title>\n<text text-anchor=\"middle\" x=\"37\" y=\"-122.3\" font-family=\"Times,serif\" font-size=\"14.00\">p</text>\n</g>\n<!-- p_G33&#45;&gt;QubitizationWalkOperator -->\n<g id=\"edge12\" class=\"edge\">\n<title>p_G33:e-&gt;QubitizationWalkOperator:w</title>\n<path fill=\"none\" stroke=\"black\" d=\"M65,-126C133.07,-126 44.25,-270.55 108.64,-273.94\"/>\n<ellipse fill=\"black\" stroke=\"black\" cx=\"110\" cy=\"-273.97\" rx=\"1\" ry=\"1\"/>\n<text text-anchor=\"middle\" x=\"92.5\" y=\"-271\" font-family=\"Times,serif\" font-size=\"10.00\">2</text>\n</g>\n<!-- r_G25 -->\n<g id=\"node13\" class=\"node\">\n<title>r_G25</title>\n<text text-anchor=\"middle\" x=\"37\" y=\"-68.3\" font-family=\"Times,serif\" font-size=\"14.00\">r</text>\n</g>\n<!-- r_G25&#45;&gt;QubitizationWalkOperator -->\n<g id=\"edge13\" class=\"edge\">\n<title>r_G25:e-&gt;QubitizationWalkOperator:w</title>\n<path fill=\"none\" stroke=\"black\" d=\"M65,-72C101.83,-72 83.57,-114.39 93,-150 98.76,-171.76 88.45,-248.02 108.92,-252.77\"/>\n<ellipse fill=\"black\" stroke=\"black\" cx=\"110.01\" cy=\"-252.89\" rx=\"1\" ry=\"1\"/>\n<text text-anchor=\"middle\" x=\"92.5\" y=\"-153\" font-family=\"Times,serif\" font-size=\"10.00\">2</text>\n</g>\n<!-- sys_G35 -->\n<g id=\"node14\" class=\"node\">\n<title>sys_G35</title>\n<text text-anchor=\"middle\" x=\"37\" y=\"-14.3\" font-family=\"Times,serif\" font-size=\"14.00\">sys</text>\n</g>\n<!-- sys_G35&#45;&gt;QubitizationWalkOperator -->\n<g id=\"edge14\" class=\"edge\">\n<title>sys_G35:e-&gt;QubitizationWalkOperator:w</title>\n<path fill=\"none\" stroke=\"black\" d=\"M65,-18C77.65,-18 70.77,-32.77 74,-45 74.16,-45.6 105.96,-209.43 110.48,-229.91\"/>\n<ellipse fill=\"black\" stroke=\"black\" cx=\"110.76\" cy=\"-231.03\" rx=\"1\" ry=\"1\"/>\n<text text-anchor=\"middle\" x=\"92.5\" y=\"-142\" font-family=\"Times,serif\" font-size=\"10.00\">8</text>\n</g>\n<!-- rot_aa_G26 -->\n<g id=\"node16\" class=\"node\">\n<title>rot_aa_G26</title>\n<text text-anchor=\"middle\" x=\"301\" y=\"-716.3\" font-family=\"Times,serif\" font-size=\"14.00\">rot_aa</text>\n</g>\n<!-- QubitizationWalkOperator&#45;&gt;rot_aa_G26 -->\n<g id=\"edge15\" class=\"edge\">\n<title>QubitizationWalkOperator:e-&gt;rot_aa_G26:w</title>\n<path fill=\"none\" stroke=\"black\" d=\"M227,-506C249.58,-506 240.59,-583.86 245,-606 252.73,-644.82 253.51,-654.84 264,-693 267.14,-704.43 261.19,-718.16 270.85,-719.83\"/>\n<ellipse fill=\"black\" stroke=\"black\" cx=\"272\" cy=\"-719.92\" rx=\"1\" ry=\"1\"/>\n<text text-anchor=\"middle\" x=\"245.5\" y=\"-613\" font-family=\"Times,serif\" font-size=\"10.00\">1</text>\n</g>\n<!-- alpha_G37 -->\n<g id=\"node17\" class=\"node\">\n<title>alpha_G37</title>\n<text text-anchor=\"middle\" x=\"301\" y=\"-662.3\" font-family=\"Times,serif\" font-size=\"14.00\">alpha</text>\n</g>\n<!-- QubitizationWalkOperator&#45;&gt;alpha_G37 -->\n<g id=\"edge16\" class=\"edge\">\n<title>QubitizationWalkOperator:e-&gt;alpha_G37:w</title>\n<path fill=\"none\" stroke=\"black\" d=\"M227,-485C252.43,-485 238.11,-573.52 245,-598 253.65,-628.72 240.94,-664.29 270.78,-665.94\"/>\n<ellipse fill=\"black\" stroke=\"black\" cx=\"272\" cy=\"-665.97\" rx=\"1\" ry=\"1\"/>\n<text text-anchor=\"middle\" x=\"245.5\" y=\"-604\" font-family=\"Times,serif\" font-size=\"10.00\">1</text>\n</g>\n<!-- flag_1b_G3 -->\n<g id=\"node18\" class=\"node\">\n<title>flag_1b_G3</title>\n<text text-anchor=\"middle\" x=\"301\" y=\"-608.3\" font-family=\"Times,serif\" font-size=\"14.00\">flag_1b</text>\n</g>\n<!-- QubitizationWalkOperator&#45;&gt;flag_1b_G3 -->\n<g id=\"edge17\" class=\"edge\">\n<title>QubitizationWalkOperator:e-&gt;flag_1b_G3:w</title>\n<path fill=\"none\" stroke=\"black\" d=\"M227,-464C294.82,-464 204.54,-608.55 268.65,-611.94\"/>\n<ellipse fill=\"black\" stroke=\"black\" cx=\"270\" cy=\"-611.97\" rx=\"1\" ry=\"1\"/>\n<text text-anchor=\"middle\" x=\"245.5\" y=\"-596\" font-family=\"Times,serif\" font-size=\"10.00\">1</text>\n</g>\n<!-- beta_G24 -->\n<g id=\"node19\" class=\"node\">\n<title>beta_G24</title>\n<text text-anchor=\"middle\" x=\"301\" y=\"-554.3\" font-family=\"Times,serif\" font-size=\"14.00\">beta</text>\n</g>\n<!-- QubitizationWalkOperator&#45;&gt;beta_G24 -->\n<g id=\"edge18\" class=\"edge\">\n<title>QubitizationWalkOperator:e-&gt;beta_G24:w</title>\n<path fill=\"none\" stroke=\"black\" d=\"M227,-443C281.3,-443 219.68,-554.88 270.81,-557.94\"/>\n<ellipse fill=\"black\" stroke=\"black\" cx=\"272\" cy=\"-557.97\" rx=\"1\" ry=\"1\"/>\n<text text-anchor=\"middle\" x=\"245.5\" y=\"-453\" font-family=\"Times,serif\" font-size=\"10.00\">1</text>\n</g>\n<!-- swap_pq_G28 -->\n<g id=\"node20\" class=\"node\">\n<title>swap_pq_G28</title>\n<text text-anchor=\"middle\" x=\"301\" y=\"-500.3\" font-family=\"Times,serif\" font-size=\"14.00\">swap_pq</text>\n</g>\n<!-- QubitizationWalkOperator&#45;&gt;swap_pq_G28 -->\n<g id=\"edge19\" class=\"edge\">\n<title>QubitizationWalkOperator:e-&gt;swap_pq_G28:w</title>\n<path fill=\"none\" stroke=\"black\" d=\"M227,-422C266.76,-422 228.02,-500.83 264.72,-503.91\"/>\n<ellipse fill=\"black\" stroke=\"black\" cx=\"266\" cy=\"-503.96\" rx=\"1\" ry=\"1\"/>\n<text text-anchor=\"middle\" x=\"245.5\" y=\"-442\" font-family=\"Times,serif\" font-size=\"10.00\">1</text>\n</g>\n<!-- q_G8 -->\n<g id=\"node21\" class=\"node\">\n<title>q_G8</title>\n<text text-anchor=\"middle\" x=\"301\" y=\"-446.3\" font-family=\"Times,serif\" font-size=\"14.00\">q</text>\n</g>\n<!-- QubitizationWalkOperator&#45;&gt;q_G8 -->\n<g id=\"edge20\" class=\"edge\">\n<title>QubitizationWalkOperator:e-&gt;q_G8:w</title>\n<path fill=\"none\" stroke=\"black\" d=\"M227,-401C256.17,-401 243.75,-447.73 270.97,-449.92\"/>\n<ellipse fill=\"black\" stroke=\"black\" cx=\"272\" cy=\"-449.96\" rx=\"1\" ry=\"1\"/>\n<text text-anchor=\"middle\" x=\"245.5\" y=\"-417\" font-family=\"Times,serif\" font-size=\"10.00\">2</text>\n</g>\n<!-- s_G1 -->\n<g id=\"node22\" class=\"node\">\n<title>s_G1</title>\n<text text-anchor=\"middle\" x=\"301\" y=\"-392.3\" font-family=\"Times,serif\" font-size=\"14.00\">s</text>\n</g>\n<!-- QubitizationWalkOperator&#45;&gt;s_G1 -->\n<g id=\"edge21\" class=\"edge\">\n<title>QubitizationWalkOperator:e-&gt;s_G1:w</title>\n<path fill=\"none\" stroke=\"black\" d=\"M227,-380C247.8,-380 251.11,-394.77 270.55,-395.93\"/>\n<ellipse fill=\"black\" stroke=\"black\" cx=\"272\" cy=\"-395.97\" rx=\"1\" ry=\"1\"/>\n<text text-anchor=\"middle\" x=\"245.5\" y=\"-388\" font-family=\"Times,serif\" font-size=\"10.00\">2</text>\n</g>\n<!-- swap_rs_G12 -->\n<g id=\"node23\" class=\"node\">\n<title>swap_rs_G12</title>\n<text text-anchor=\"middle\" x=\"301\" y=\"-338.3\" font-family=\"Times,serif\" font-size=\"14.00\">swap_rs</text>\n</g>\n<!-- QubitizationWalkOperator&#45;&gt;swap_rs_G12 -->\n<g id=\"edge22\" class=\"edge\">\n<title>QubitizationWalkOperator:e-&gt;swap_rs_G12:w</title>\n<path fill=\"none\" stroke=\"black\" d=\"M227,-358C246.2,-358 248.84,-343.23 266.74,-342.07\"/>\n<ellipse fill=\"black\" stroke=\"black\" cx=\"268\" cy=\"-342.03\" rx=\"1\" ry=\"1\"/>\n<text text-anchor=\"middle\" x=\"245.5\" y=\"-354\" font-family=\"Times,serif\" font-size=\"10.00\">1</text>\n</g>\n<!-- swap_pqrs_G34 -->\n<g id=\"node24\" class=\"node\">\n<title>swap_pqrs_G34</title>\n<text text-anchor=\"middle\" x=\"301\" y=\"-284.3\" font-family=\"Times,serif\" font-size=\"14.00\">swap_pqrs</text>\n</g>\n<!-- QubitizationWalkOperator&#45;&gt;swap_pqrs_G34 -->\n<g id=\"edge23\" class=\"edge\">\n<title>QubitizationWalkOperator:e-&gt;swap_pqrs_G34:w</title>\n<path fill=\"none\" stroke=\"black\" d=\"M227,-337C253.54,-337 237.64,-290.64 261.86,-288.11\"/>\n<ellipse fill=\"black\" stroke=\"black\" cx=\"263\" cy=\"-288.05\" rx=\"1\" ry=\"1\"/>\n<text text-anchor=\"middle\" x=\"245.5\" y=\"-316\" font-family=\"Times,serif\" font-size=\"10.00\">1</text>\n</g>\n<!-- sigma_G18 -->\n<g id=\"node25\" class=\"node\">\n<title>sigma_G18</title>\n<text text-anchor=\"middle\" x=\"301\" y=\"-230.3\" font-family=\"Times,serif\" font-size=\"14.00\">sigma</text>\n</g>\n<!-- QubitizationWalkOperator&#45;&gt;sigma_G18 -->\n<g id=\"edge24\" class=\"edge\">\n<title>QubitizationWalkOperator:e-&gt;sigma_G18:w</title>\n<path fill=\"none\" stroke=\"black\" d=\"M227,-316C267.97,-316 232.65,-237.17 270.64,-234.09\"/>\n<ellipse fill=\"black\" stroke=\"black\" cx=\"272\" cy=\"-234.04\" rx=\"1\" ry=\"1\"/>\n<text text-anchor=\"middle\" x=\"245.5\" y=\"-307\" font-family=\"Times,serif\" font-size=\"10.00\">12</text>\n</g>\n<!-- d_G29 -->\n<g id=\"node26\" class=\"node\">\n<title>d_G29</title>\n<text text-anchor=\"middle\" x=\"301\" y=\"-176.3\" font-family=\"Times,serif\" font-size=\"14.00\">d</text>\n</g>\n<!-- QubitizationWalkOperator&#45;&gt;d_G29 -->\n<g id=\"edge25\" class=\"edge\">\n<title>QubitizationWalkOperator:e-&gt;d_G29:w</title>\n<path fill=\"none\" stroke=\"black\" d=\"M227,-295C281.3,-295 219.68,-183.12 270.81,-180.06\"/>\n<ellipse fill=\"black\" stroke=\"black\" cx=\"272\" cy=\"-180.03\" rx=\"1\" ry=\"1\"/>\n<text text-anchor=\"middle\" x=\"245.5\" y=\"-290\" font-family=\"Times,serif\" font-size=\"10.00\">7</text>\n</g>\n<!-- p_G7 -->\n<g id=\"node27\" class=\"node\">\n<title>p_G7</title>\n<text text-anchor=\"middle\" x=\"301\" y=\"-122.3\" font-family=\"Times,serif\" font-size=\"14.00\">p</text>\n</g>\n<!-- QubitizationWalkOperator&#45;&gt;p_G7 -->\n<g id=\"edge26\" class=\"edge\">\n<title>QubitizationWalkOperator:e-&gt;p_G7:w</title>\n<path fill=\"none\" stroke=\"black\" d=\"M227,-274C295.07,-274 206.25,-129.45 270.64,-126.06\"/>\n<ellipse fill=\"black\" stroke=\"black\" cx=\"272\" cy=\"-126.03\" rx=\"1\" ry=\"1\"/>\n<text text-anchor=\"middle\" x=\"245.5\" y=\"-271\" font-family=\"Times,serif\" font-size=\"10.00\">2</text>\n</g>\n<!-- r_G38 -->\n<g id=\"node28\" class=\"node\">\n<title>r_G38</title>\n<text text-anchor=\"middle\" x=\"301\" y=\"-68.3\" font-family=\"Times,serif\" font-size=\"14.00\">r</text>\n</g>\n<!-- QubitizationWalkOperator&#45;&gt;r_G38 -->\n<g id=\"edge27\" class=\"edge\">\n<title>QubitizationWalkOperator:e-&gt;r_G38:w</title>\n<path fill=\"none\" stroke=\"black\" d=\"M227,-253C250.24,-253 239.05,-172.46 245,-150 254.24,-115.09 236.87,-73.65 270.9,-72.05\"/>\n<ellipse fill=\"black\" stroke=\"black\" cx=\"272\" cy=\"-72.02\" rx=\"1\" ry=\"1\"/>\n<text text-anchor=\"middle\" x=\"245.5\" y=\"-153\" font-family=\"Times,serif\" font-size=\"10.00\">2</text>\n</g>\n<!-- sys_G6 -->\n<g id=\"node29\" class=\"node\">\n<title>sys_G6</title>\n<text text-anchor=\"middle\" x=\"301\" y=\"-14.3\" font-family=\"Times,serif\" font-size=\"14.00\">sys</text>\n</g>\n<!-- QubitizationWalkOperator&#45;&gt;sys_G6 -->\n<g id=\"edge28\" class=\"edge\">\n<title>QubitizationWalkOperator:e-&gt;sys_G6:w</title>\n<path fill=\"none\" stroke=\"black\" d=\"M227,-232C227.66,-232 263.83,-45.64 264,-45 267.03,-33.54 261.17,-19.84 270.85,-18.17\"/>\n<ellipse fill=\"black\" stroke=\"black\" cx=\"272\" cy=\"-18.08\" rx=\"1\" ry=\"1\"/>\n<text text-anchor=\"middle\" x=\"245.5\" y=\"-142\" font-family=\"Times,serif\" font-size=\"10.00\">8</text>\n</g>\n</g>\n</svg>",
          "text/plain": "<IPython.core.display.SVG object>"
         },
         "metadata": {},
         "output_type": "display_data"
        }
       ],
       "tabbable": null,
       "tooltip": null
      }
     },
     "2dc22050efae4457b32c041b564b6d15": {
      "model_module": "@jupyter-widgets/base",
      "model_module_version": "2.0.0",
      "model_name": "LayoutModel",
      "state": {
       "_model_module": "@jupyter-widgets/base",
       "_model_module_version": "2.0.0",
       "_model_name": "LayoutModel",
       "_view_count": null,
       "_view_module": "@jupyter-widgets/base",
       "_view_module_version": "2.0.0",
       "_view_name": "LayoutView",
       "align_content": null,
       "align_items": null,
       "align_self": null,
       "border_bottom": null,
       "border_left": null,
       "border_right": null,
       "border_top": null,
       "bottom": null,
       "display": null,
       "flex": null,
       "flex_flow": null,
       "grid_area": null,
       "grid_auto_columns": null,
       "grid_auto_flow": null,
       "grid_auto_rows": null,
       "grid_column": null,
       "grid_gap": null,
       "grid_row": null,
       "grid_template_areas": null,
       "grid_template_columns": null,
       "grid_template_rows": null,
       "height": null,
       "justify_content": null,
       "justify_items": null,
       "left": null,
       "margin": null,
       "max_height": null,
       "max_width": null,
       "min_height": null,
       "min_width": null,
       "object_fit": null,
       "object_position": null,
       "order": null,
       "overflow": null,
       "padding": null,
       "right": null,
       "top": null,
       "visibility": null,
       "width": null
      }
     },
     "5324fcd6aca94767be5047fc41e54ded": {
      "model_module": "@jupyter-widgets/output",
      "model_module_version": "1.0.0",
      "model_name": "OutputModel",
      "state": {
       "_dom_classes": [],
       "_model_module": "@jupyter-widgets/output",
       "_model_module_version": "1.0.0",
       "_model_name": "OutputModel",
       "_view_count": null,
       "_view_module": "@jupyter-widgets/output",
       "_view_module_version": "1.0.0",
       "_view_name": "OutputView",
       "layout": "IPY_MODEL_d1f72102cb444c41b92957bf5cbd3da4",
       "msg_id": "",
       "outputs": [
        {
         "data": {
          "text/markdown": "`walk_op`",
          "text/plain": "<IPython.core.display.Markdown object>"
         },
         "metadata": {},
         "output_type": "display_data"
        },
        {
         "data": {
          "image/svg+xml": "<svg xmlns=\"http://www.w3.org/2000/svg\" xmlns:xlink=\"http://www.w3.org/1999/xlink\" width=\"328pt\" height=\"98pt\" viewBox=\"0.00 0.00 328.00 98.00\">\n<g id=\"graph0\" class=\"graph\" transform=\"scale(1 1) rotate(0) translate(4 94)\">\n<title>my_graph</title>\n<polygon fill=\"white\" stroke=\"transparent\" points=\"-4,4 -4,-94 324,-94 324,4 -4,4\"/>\n<!-- selection_G5 -->\n<g id=\"node1\" class=\"node\">\n<title>selection_G5</title>\n<text text-anchor=\"middle\" x=\"32.5\" y=\"-68.3\" font-family=\"Times,serif\" font-size=\"14.00\">selection</text>\n</g>\n<!-- QubitizationWalkOperator -->\n<g id=\"node3\" class=\"node\">\n<title>QubitizationWalkOperator</title>\n<polygon fill=\"none\" stroke=\"black\" points=\"102,-66 102,-83 218,-83 218,-66 102,-66\"/>\n<text text-anchor=\"start\" x=\"105\" y=\"-72\" font-family=\"Times,serif\" font-size=\"10.00\">QubitizationWalkOperator</text>\n<polygon fill=\"none\" stroke=\"black\" points=\"102,-45 102,-66 218,-66 218,-45 102,-45\"/>\n<text text-anchor=\"start\" x=\"135.5\" y=\"-51.8\" font-family=\"Times,serif\" font-size=\"14.00\">selection</text>\n<polygon fill=\"none\" stroke=\"black\" points=\"102,-24 102,-45 218,-45 218,-24 102,-24\"/>\n<text text-anchor=\"start\" x=\"144.5\" y=\"-30.8\" font-family=\"Times,serif\" font-size=\"14.00\">target</text>\n</g>\n<!-- selection_G5&#45;&gt;QubitizationWalkOperator -->\n<g id=\"edge1\" class=\"edge\">\n<title>selection_G5:e-&gt;QubitizationWalkOperator:w</title>\n<path fill=\"none\" stroke=\"black\" d=\"M65,-72C82.22,-72 83.97,-57.23 99.98,-56.07\"/>\n<ellipse fill=\"black\" stroke=\"black\" cx=\"101\" cy=\"-56.04\" rx=\"1\" ry=\"1\"/>\n<text text-anchor=\"middle\" x=\"83.5\" y=\"-67\" font-family=\"Times,serif\" font-size=\"10.00\">3</text>\n</g>\n<!-- target_G3 -->\n<g id=\"node2\" class=\"node\">\n<title>target_G3</title>\n<text text-anchor=\"middle\" x=\"32.5\" y=\"-14.3\" font-family=\"Times,serif\" font-size=\"14.00\">target</text>\n</g>\n<!-- target_G3&#45;&gt;QubitizationWalkOperator -->\n<g id=\"edge2\" class=\"edge\">\n<title>target_G3:e-&gt;QubitizationWalkOperator:w</title>\n<path fill=\"none\" stroke=\"black\" d=\"M60.5,-18C79.5,-18 82.05,-32.77 99.76,-33.93\"/>\n<ellipse fill=\"black\" stroke=\"black\" cx=\"101\" cy=\"-33.97\" rx=\"1\" ry=\"1\"/>\n<text text-anchor=\"middle\" x=\"83.5\" y=\"-31\" font-family=\"Times,serif\" font-size=\"10.00\">4</text>\n</g>\n<!-- selection_G2 -->\n<g id=\"node4\" class=\"node\">\n<title>selection_G2</title>\n<text text-anchor=\"middle\" x=\"287.5\" y=\"-68.3\" font-family=\"Times,serif\" font-size=\"14.00\">selection</text>\n</g>\n<!-- QubitizationWalkOperator&#45;&gt;selection_G2 -->\n<g id=\"edge3\" class=\"edge\">\n<title>QubitizationWalkOperator:e-&gt;selection_G2:w</title>\n<path fill=\"none\" stroke=\"black\" d=\"M218,-56C235.22,-56 236.97,-70.77 252.98,-71.93\"/>\n<ellipse fill=\"black\" stroke=\"black\" cx=\"254\" cy=\"-71.96\" rx=\"1\" ry=\"1\"/>\n<text text-anchor=\"middle\" x=\"236.5\" y=\"-67\" font-family=\"Times,serif\" font-size=\"10.00\">3</text>\n</g>\n<!-- target_G4 -->\n<g id=\"node5\" class=\"node\">\n<title>target_G4</title>\n<text text-anchor=\"middle\" x=\"287.5\" y=\"-14.3\" font-family=\"Times,serif\" font-size=\"14.00\">target</text>\n</g>\n<!-- QubitizationWalkOperator&#45;&gt;target_G4 -->\n<g id=\"edge4\" class=\"edge\">\n<title>QubitizationWalkOperator:e-&gt;target_G4:w</title>\n<path fill=\"none\" stroke=\"black\" d=\"M218,-34C237,-34 239.55,-19.23 257.26,-18.07\"/>\n<ellipse fill=\"black\" stroke=\"black\" cx=\"258.5\" cy=\"-18.03\" rx=\"1\" ry=\"1\"/>\n<text text-anchor=\"middle\" x=\"236.5\" y=\"-31\" font-family=\"Times,serif\" font-size=\"10.00\">4</text>\n</g>\n</g>\n</svg>",
          "text/plain": "<IPython.core.display.SVG object>"
         },
         "metadata": {},
         "output_type": "display_data"
        }
       ],
       "tabbable": null,
       "tooltip": null
      }
     },
     "5464b18becee4a95866534b173f1df77": {
      "model_module": "@jupyter-widgets/base",
      "model_module_version": "2.0.0",
      "model_name": "LayoutModel",
      "state": {
       "_model_module": "@jupyter-widgets/base",
       "_model_module_version": "2.0.0",
       "_model_name": "LayoutModel",
       "_view_count": null,
       "_view_module": "@jupyter-widgets/base",
       "_view_module_version": "2.0.0",
       "_view_name": "LayoutView",
       "align_content": null,
       "align_items": null,
       "align_self": null,
       "border_bottom": null,
       "border_left": null,
       "border_right": null,
       "border_top": null,
       "bottom": null,
       "display": null,
       "flex": null,
       "flex_flow": null,
       "grid_area": null,
       "grid_auto_columns": null,
       "grid_auto_flow": null,
       "grid_auto_rows": null,
       "grid_column": null,
       "grid_gap": null,
       "grid_row": null,
       "grid_template_areas": null,
       "grid_template_columns": null,
       "grid_template_rows": null,
       "height": null,
       "justify_content": null,
       "justify_items": null,
       "left": null,
       "margin": null,
       "max_height": null,
       "max_width": null,
       "min_height": null,
       "min_width": null,
       "object_fit": null,
       "object_position": null,
       "order": null,
       "overflow": null,
       "padding": null,
       "right": null,
       "top": null,
       "visibility": null,
       "width": null
      }
     },
     "5dd0d0563fd64c7393c0a5415cb2da07": {
      "model_module": "@jupyter-widgets/controls",
      "model_module_version": "2.0.0",
      "model_name": "HBoxModel",
      "state": {
       "_dom_classes": [],
       "_model_module": "@jupyter-widgets/controls",
       "_model_module_version": "2.0.0",
       "_model_name": "HBoxModel",
       "_view_count": null,
       "_view_module": "@jupyter-widgets/controls",
       "_view_module_version": "2.0.0",
       "_view_name": "HBoxView",
       "box_style": "",
       "children": [
        "IPY_MODEL_5324fcd6aca94767be5047fc41e54ded",
        "IPY_MODEL_c448a832456947fbac82c4d50d789874",
        "IPY_MODEL_1e392aa3c4d248228941c9b571c2963c"
       ],
       "layout": "IPY_MODEL_5464b18becee4a95866534b173f1df77",
       "tabbable": null,
       "tooltip": null
      }
     },
     "6d4cdfcb73be4ec4b99acc42dc0b81b7": {
      "model_module": "@jupyter-widgets/base",
      "model_module_version": "2.0.0",
      "model_name": "LayoutModel",
      "state": {
       "_model_module": "@jupyter-widgets/base",
       "_model_module_version": "2.0.0",
       "_model_name": "LayoutModel",
       "_view_count": null,
       "_view_module": "@jupyter-widgets/base",
       "_view_module_version": "2.0.0",
       "_view_name": "LayoutView",
       "align_content": null,
       "align_items": null,
       "align_self": null,
       "border_bottom": null,
       "border_left": null,
       "border_right": null,
       "border_top": null,
       "bottom": null,
       "display": null,
       "flex": null,
       "flex_flow": null,
       "grid_area": null,
       "grid_auto_columns": null,
       "grid_auto_flow": null,
       "grid_auto_rows": null,
       "grid_column": null,
       "grid_gap": null,
       "grid_row": null,
       "grid_template_areas": null,
       "grid_template_columns": null,
       "grid_template_rows": null,
       "height": null,
       "justify_content": null,
       "justify_items": null,
       "left": null,
       "margin": null,
       "max_height": null,
       "max_width": null,
       "min_height": null,
       "min_width": null,
       "object_fit": null,
       "object_position": null,
       "order": null,
       "overflow": null,
       "padding": null,
       "right": null,
       "top": null,
       "visibility": null,
       "width": null
      }
     },
     "c448a832456947fbac82c4d50d789874": {
      "model_module": "@jupyter-widgets/output",
      "model_module_version": "1.0.0",
      "model_name": "OutputModel",
      "state": {
       "_dom_classes": [],
       "_model_module": "@jupyter-widgets/output",
       "_model_module_version": "1.0.0",
       "_model_name": "OutputModel",
       "_view_count": null,
       "_view_module": "@jupyter-widgets/output",
       "_view_module_version": "1.0.0",
       "_view_name": "OutputView",
       "layout": "IPY_MODEL_6d4cdfcb73be4ec4b99acc42dc0b81b7",
       "msg_id": "",
       "outputs": [
        {
         "data": {
          "text/markdown": "`thc_walk_op`",
          "text/plain": "<IPython.core.display.Markdown object>"
         },
         "metadata": {},
         "output_type": "display_data"
        },
        {
         "data": {
          "image/svg+xml": "<svg xmlns=\"http://www.w3.org/2000/svg\" xmlns:xlink=\"http://www.w3.org/1999/xlink\" width=\"360pt\" height=\"584pt\" viewBox=\"0.00 0.00 360.00 584.00\">\n<g id=\"graph0\" class=\"graph\" transform=\"scale(1 1) rotate(0) translate(4 580)\">\n<title>my_graph</title>\n<polygon fill=\"white\" stroke=\"transparent\" points=\"-4,4 -4,-580 356,-580 356,4 -4,4\"/>\n<!-- rot_G13 -->\n<g id=\"node1\" class=\"node\">\n<title>rot_G13</title>\n<text text-anchor=\"middle\" x=\"40.5\" y=\"-554.3\" font-family=\"Times,serif\" font-size=\"14.00\">rot</text>\n</g>\n<!-- QubitizationWalkOperator -->\n<g id=\"node12\" class=\"node\">\n<title>QubitizationWalkOperator</title>\n<polygon fill=\"none\" stroke=\"black\" points=\"118,-404 118,-421 234,-421 234,-404 118,-404\"/>\n<text text-anchor=\"start\" x=\"121\" y=\"-410\" font-family=\"Times,serif\" font-size=\"10.00\">QubitizationWalkOperator</text>\n<polygon fill=\"none\" stroke=\"black\" points=\"118,-383 118,-404 234,-404 234,-383 118,-383\"/>\n<text text-anchor=\"start\" x=\"168\" y=\"-389.8\" font-family=\"Times,serif\" font-size=\"14.00\">rot</text>\n<polygon fill=\"none\" stroke=\"black\" points=\"118,-362 118,-383 234,-383 234,-362 118,-362\"/>\n<text text-anchor=\"start\" x=\"158\" y=\"-368.8\" font-family=\"Times,serif\" font-size=\"14.00\">plus_a</text>\n<polygon fill=\"none\" stroke=\"black\" points=\"118,-341 118,-362 234,-362 234,-341 118,-341\"/>\n<text text-anchor=\"start\" x=\"152\" y=\"-347.8\" font-family=\"Times,serif\" font-size=\"14.00\">plus_mn</text>\n<polygon fill=\"none\" stroke=\"black\" points=\"118,-320 118,-341 234,-341 234,-320 118,-320\"/>\n<text text-anchor=\"start\" x=\"159\" y=\"-326.8\" font-family=\"Times,serif\" font-size=\"14.00\">sigma</text>\n<polygon fill=\"none\" stroke=\"black\" points=\"118,-299 118,-320 234,-320 234,-299 118,-299\"/>\n<text text-anchor=\"start\" x=\"143.5\" y=\"-305.8\" font-family=\"Times,serif\" font-size=\"14.00\">nu_eq_mp1</text>\n<polygon fill=\"none\" stroke=\"black\" points=\"118,-278 118,-299 234,-299 234,-278 118,-278\"/>\n<text text-anchor=\"start\" x=\"166.5\" y=\"-284.8\" font-family=\"Times,serif\" font-size=\"14.00\">mu</text>\n<polygon fill=\"none\" stroke=\"black\" points=\"118,-257 118,-278 234,-278 234,-257 118,-257\"/>\n<text text-anchor=\"start\" x=\"169\" y=\"-263.8\" font-family=\"Times,serif\" font-size=\"14.00\">nu</text>\n<polygon fill=\"none\" stroke=\"black\" points=\"118,-236 118,-257 234,-257 234,-236 118,-236\"/>\n<text text-anchor=\"start\" x=\"163.5\" y=\"-242.8\" font-family=\"Times,serif\" font-size=\"14.00\">succ</text>\n<polygon fill=\"none\" stroke=\"black\" points=\"118,-215 118,-236 234,-236 234,-215 118,-215\"/>\n<text text-anchor=\"start\" x=\"157.5\" y=\"-221.8\" font-family=\"Times,serif\" font-size=\"14.00\">plus_b</text>\n<polygon fill=\"none\" stroke=\"black\" points=\"118,-194 118,-215 234,-215 234,-194 118,-194\"/>\n<text text-anchor=\"start\" x=\"160.5\" y=\"-200.8\" font-family=\"Times,serif\" font-size=\"14.00\">sys_a</text>\n<polygon fill=\"none\" stroke=\"black\" points=\"118,-173 118,-194 234,-194 234,-173 118,-173\"/>\n<text text-anchor=\"start\" x=\"160.5\" y=\"-179.8\" font-family=\"Times,serif\" font-size=\"14.00\">sys_b</text>\n</g>\n<!-- rot_G13&#45;&gt;QubitizationWalkOperator -->\n<g id=\"edge1\" class=\"edge\">\n<title>rot_G13:e-&gt;QubitizationWalkOperator:w</title>\n<path fill=\"none\" stroke=\"black\" d=\"M68.5,-558C143.89,-558 43.85,-397.19 115.82,-394.05\"/>\n<ellipse fill=\"black\" stroke=\"black\" cx=\"117\" cy=\"-394.02\" rx=\"1\" ry=\"1\"/>\n<text text-anchor=\"middle\" x=\"99.5\" y=\"-402\" font-family=\"Times,serif\" font-size=\"10.00\">1</text>\n</g>\n<!-- plus_a_G7 -->\n<g id=\"node2\" class=\"node\">\n<title>plus_a_G7</title>\n<text text-anchor=\"middle\" x=\"40.5\" y=\"-500.3\" font-family=\"Times,serif\" font-size=\"14.00\">plus_a</text>\n</g>\n<!-- plus_a_G7&#45;&gt;QubitizationWalkOperator -->\n<g id=\"edge2\" class=\"edge\">\n<title>plus_a_G7:e-&gt;QubitizationWalkOperator:w</title>\n<path fill=\"none\" stroke=\"black\" d=\"M68.5,-504C130.01,-504 57.5,-376.05 115.87,-373.05\"/>\n<ellipse fill=\"black\" stroke=\"black\" cx=\"117\" cy=\"-373.03\" rx=\"1\" ry=\"1\"/>\n<text text-anchor=\"middle\" x=\"99.5\" y=\"-382\" font-family=\"Times,serif\" font-size=\"10.00\">1</text>\n</g>\n<!-- plus_mn_G31 -->\n<g id=\"node3\" class=\"node\">\n<title>plus_mn_G31</title>\n<text text-anchor=\"middle\" x=\"40.5\" y=\"-446.3\" font-family=\"Times,serif\" font-size=\"14.00\">plus_mn</text>\n</g>\n<!-- plus_mn_G31&#45;&gt;QubitizationWalkOperator -->\n<g id=\"edge3\" class=\"edge\">\n<title>plus_mn_G31:e-&gt;QubitizationWalkOperator:w</title>\n<path fill=\"none\" stroke=\"black\" d=\"M73.5,-450C120.59,-450 71.74,-355.04 115.83,-352.07\"/>\n<ellipse fill=\"black\" stroke=\"black\" cx=\"117\" cy=\"-352.03\" rx=\"1\" ry=\"1\"/>\n<text text-anchor=\"middle\" x=\"99.5\" y=\"-365\" font-family=\"Times,serif\" font-size=\"10.00\">1</text>\n</g>\n<!-- sigma_G17 -->\n<g id=\"node4\" class=\"node\">\n<title>sigma_G17</title>\n<text text-anchor=\"middle\" x=\"40.5\" y=\"-392.3\" font-family=\"Times,serif\" font-size=\"14.00\">sigma</text>\n</g>\n<!-- sigma_G17&#45;&gt;QubitizationWalkOperator -->\n<g id=\"edge4\" class=\"edge\">\n<title>sigma_G17:e-&gt;QubitizationWalkOperator:w</title>\n<path fill=\"none\" stroke=\"black\" d=\"M68.5,-396C104.1,-396 82.57,-333.51 115.94,-331.07\"/>\n<ellipse fill=\"black\" stroke=\"black\" cx=\"117\" cy=\"-331.04\" rx=\"1\" ry=\"1\"/>\n<text text-anchor=\"middle\" x=\"99.5\" y=\"-344\" font-family=\"Times,serif\" font-size=\"10.00\">10</text>\n</g>\n<!-- nu_eq_mp1_G8 -->\n<g id=\"node5\" class=\"node\">\n<title>nu_eq_mp1_G8</title>\n<text text-anchor=\"middle\" x=\"40.5\" y=\"-338.3\" font-family=\"Times,serif\" font-size=\"14.00\">nu_eq_mp1</text>\n</g>\n<!-- nu_eq_mp1_G8&#45;&gt;QubitizationWalkOperator -->\n<g id=\"edge5\" class=\"edge\">\n<title>nu_eq_mp1_G8:e-&gt;QubitizationWalkOperator:w</title>\n<path fill=\"none\" stroke=\"black\" d=\"M81,-342C101.89,-342 96.72,-312.45 115.58,-310.14\"/>\n<ellipse fill=\"black\" stroke=\"black\" cx=\"117\" cy=\"-310.06\" rx=\"1\" ry=\"1\"/>\n<text text-anchor=\"middle\" x=\"99.5\" y=\"-329\" font-family=\"Times,serif\" font-size=\"10.00\">1</text>\n</g>\n<!-- mu_G5 -->\n<g id=\"node6\" class=\"node\">\n<title>mu_G5</title>\n<text text-anchor=\"middle\" x=\"40.5\" y=\"-284.3\" font-family=\"Times,serif\" font-size=\"14.00\">mu</text>\n</g>\n<!-- mu_G5&#45;&gt;QubitizationWalkOperator -->\n<g id=\"edge6\" class=\"edge\">\n<title>mu_G5:e-&gt;QubitizationWalkOperator:w</title>\n<path fill=\"none\" stroke=\"black\" d=\"M68.5,-288C89.81,-288 95.64,-288 115.98,-288\"/>\n<ellipse fill=\"black\" stroke=\"black\" cx=\"117\" cy=\"-288\" rx=\"1\" ry=\"1\"/>\n<text text-anchor=\"middle\" x=\"99.5\" y=\"-291\" font-family=\"Times,serif\" font-size=\"10.00\">9</text>\n</g>\n<!-- nu_G21 -->\n<g id=\"node7\" class=\"node\">\n<title>nu_G21</title>\n<text text-anchor=\"middle\" x=\"40.5\" y=\"-230.3\" font-family=\"Times,serif\" font-size=\"14.00\">nu</text>\n</g>\n<!-- nu_G21&#45;&gt;QubitizationWalkOperator -->\n<g id=\"edge7\" class=\"edge\">\n<title>nu_G21:e-&gt;QubitizationWalkOperator:w</title>\n<path fill=\"none\" stroke=\"black\" d=\"M68.5,-234C94.22,-234 91.72,-265.22 115.9,-266.93\"/>\n<ellipse fill=\"black\" stroke=\"black\" cx=\"117\" cy=\"-266.97\" rx=\"1\" ry=\"1\"/>\n<text text-anchor=\"middle\" x=\"99.5\" y=\"-262\" font-family=\"Times,serif\" font-size=\"10.00\">9</text>\n</g>\n<!-- succ_G27 -->\n<g id=\"node8\" class=\"node\">\n<title>succ_G27</title>\n<text text-anchor=\"middle\" x=\"40.5\" y=\"-176.3\" font-family=\"Times,serif\" font-size=\"14.00\">succ</text>\n</g>\n<!-- succ_G27&#45;&gt;QubitizationWalkOperator -->\n<g id=\"edge8\" class=\"edge\">\n<title>succ_G27:e-&gt;QubitizationWalkOperator:w</title>\n<path fill=\"none\" stroke=\"black\" d=\"M68.5,-180C104.45,-180 82.24,-243.45 115.92,-245.93\"/>\n<ellipse fill=\"black\" stroke=\"black\" cx=\"117\" cy=\"-245.96\" rx=\"1\" ry=\"1\"/>\n<text text-anchor=\"middle\" x=\"99.5\" y=\"-237\" font-family=\"Times,serif\" font-size=\"10.00\">1</text>\n</g>\n<!-- plus_b_G11 -->\n<g id=\"node9\" class=\"node\">\n<title>plus_b_G11</title>\n<text text-anchor=\"middle\" x=\"40.5\" y=\"-122.3\" font-family=\"Times,serif\" font-size=\"14.00\">plus_b</text>\n</g>\n<!-- plus_b_G11&#45;&gt;QubitizationWalkOperator -->\n<g id=\"edge9\" class=\"edge\">\n<title>plus_b_G11:e-&gt;QubitizationWalkOperator:w</title>\n<path fill=\"none\" stroke=\"black\" d=\"M68.5,-126C116.92,-126 70.31,-221.93 115.77,-224.93\"/>\n<ellipse fill=\"black\" stroke=\"black\" cx=\"117\" cy=\"-224.97\" rx=\"1\" ry=\"1\"/>\n<text text-anchor=\"middle\" x=\"99.5\" y=\"-219\" font-family=\"Times,serif\" font-size=\"10.00\">1</text>\n</g>\n<!-- sys_a_G19 -->\n<g id=\"node10\" class=\"node\">\n<title>sys_a_G19</title>\n<text text-anchor=\"middle\" x=\"40.5\" y=\"-68.3\" font-family=\"Times,serif\" font-size=\"14.00\">sys_a</text>\n</g>\n<!-- sys_a_G19&#45;&gt;QubitizationWalkOperator -->\n<g id=\"edge10\" class=\"edge\">\n<title>sys_a_G19:e-&gt;QubitizationWalkOperator:w</title>\n<path fill=\"none\" stroke=\"black\" d=\"M68.5,-72C130.42,-72 57.1,-200.92 115.85,-203.95\"/>\n<ellipse fill=\"black\" stroke=\"black\" cx=\"117\" cy=\"-203.97\" rx=\"1\" ry=\"1\"/>\n<text text-anchor=\"middle\" x=\"99.5\" y=\"-199\" font-family=\"Times,serif\" font-size=\"10.00\">76</text>\n</g>\n<!-- sys_b_G16 -->\n<g id=\"node11\" class=\"node\">\n<title>sys_b_G16</title>\n<text text-anchor=\"middle\" x=\"40.5\" y=\"-14.3\" font-family=\"Times,serif\" font-size=\"14.00\">sys_b</text>\n</g>\n<!-- sys_b_G16&#45;&gt;QubitizationWalkOperator -->\n<g id=\"edge11\" class=\"edge\">\n<title>sys_b_G16:e-&gt;QubitizationWalkOperator:w</title>\n<path fill=\"none\" stroke=\"black\" d=\"M68.5,-18C144.31,-18 43.44,-179.79 115.81,-182.95\"/>\n<ellipse fill=\"black\" stroke=\"black\" cx=\"117\" cy=\"-182.98\" rx=\"1\" ry=\"1\"/>\n<text text-anchor=\"middle\" x=\"99.5\" y=\"-180\" font-family=\"Times,serif\" font-size=\"10.00\">76</text>\n</g>\n<!-- rot_G26 -->\n<g id=\"node13\" class=\"node\">\n<title>rot_G26</title>\n<text text-anchor=\"middle\" x=\"311.5\" y=\"-554.3\" font-family=\"Times,serif\" font-size=\"14.00\">rot</text>\n</g>\n<!-- QubitizationWalkOperator&#45;&gt;rot_G26 -->\n<g id=\"edge12\" class=\"edge\">\n<title>QubitizationWalkOperator:e-&gt;rot_G26:w</title>\n<path fill=\"none\" stroke=\"black\" d=\"M234,-394C309.39,-394 209.35,-554.81 281.32,-557.95\"/>\n<ellipse fill=\"black\" stroke=\"black\" cx=\"282.5\" cy=\"-557.98\" rx=\"1\" ry=\"1\"/>\n<text text-anchor=\"middle\" x=\"252.5\" y=\"-402\" font-family=\"Times,serif\" font-size=\"10.00\">1</text>\n</g>\n<!-- plus_a_G22 -->\n<g id=\"node14\" class=\"node\">\n<title>plus_a_G22</title>\n<text text-anchor=\"middle\" x=\"311.5\" y=\"-500.3\" font-family=\"Times,serif\" font-size=\"14.00\">plus_a</text>\n</g>\n<!-- QubitizationWalkOperator&#45;&gt;plus_a_G22 -->\n<g id=\"edge13\" class=\"edge\">\n<title>QubitizationWalkOperator:e-&gt;plus_a_G22:w</title>\n<path fill=\"none\" stroke=\"black\" d=\"M234,-373C295.51,-373 223,-500.95 281.37,-503.95\"/>\n<ellipse fill=\"black\" stroke=\"black\" cx=\"282.5\" cy=\"-503.97\" rx=\"1\" ry=\"1\"/>\n<text text-anchor=\"middle\" x=\"252.5\" y=\"-382\" font-family=\"Times,serif\" font-size=\"10.00\">1</text>\n</g>\n<!-- plus_mn_G3 -->\n<g id=\"node15\" class=\"node\">\n<title>plus_mn_G3</title>\n<text text-anchor=\"middle\" x=\"311.5\" y=\"-446.3\" font-family=\"Times,serif\" font-size=\"14.00\">plus_mn</text>\n</g>\n<!-- QubitizationWalkOperator&#45;&gt;plus_mn_G3 -->\n<g id=\"edge14\" class=\"edge\">\n<title>QubitizationWalkOperator:e-&gt;plus_mn_G3:w</title>\n<path fill=\"none\" stroke=\"black\" d=\"M234,-352C281.09,-352 232.24,-446.96 276.33,-449.93\"/>\n<ellipse fill=\"black\" stroke=\"black\" cx=\"277.5\" cy=\"-449.97\" rx=\"1\" ry=\"1\"/>\n<text text-anchor=\"middle\" x=\"252.5\" y=\"-365\" font-family=\"Times,serif\" font-size=\"10.00\">1</text>\n</g>\n<!-- sigma_G30 -->\n<g id=\"node16\" class=\"node\">\n<title>sigma_G30</title>\n<text text-anchor=\"middle\" x=\"311.5\" y=\"-392.3\" font-family=\"Times,serif\" font-size=\"14.00\">sigma</text>\n</g>\n<!-- QubitizationWalkOperator&#45;&gt;sigma_G30 -->\n<g id=\"edge15\" class=\"edge\">\n<title>QubitizationWalkOperator:e-&gt;sigma_G30:w</title>\n<path fill=\"none\" stroke=\"black\" d=\"M234,-331C269.6,-331 248.07,-393.49 281.44,-395.93\"/>\n<ellipse fill=\"black\" stroke=\"black\" cx=\"282.5\" cy=\"-395.96\" rx=\"1\" ry=\"1\"/>\n<text text-anchor=\"middle\" x=\"252.5\" y=\"-344\" font-family=\"Times,serif\" font-size=\"10.00\">10</text>\n</g>\n<!-- nu_eq_mp1_G14 -->\n<g id=\"node17\" class=\"node\">\n<title>nu_eq_mp1_G14</title>\n<text text-anchor=\"middle\" x=\"311.5\" y=\"-338.3\" font-family=\"Times,serif\" font-size=\"14.00\">nu_eq_mp1</text>\n</g>\n<!-- QubitizationWalkOperator&#45;&gt;nu_eq_mp1_G14 -->\n<g id=\"edge16\" class=\"edge\">\n<title>QubitizationWalkOperator:e-&gt;nu_eq_mp1_G14:w</title>\n<path fill=\"none\" stroke=\"black\" d=\"M234,-310C254.89,-310 249.72,-339.55 268.58,-341.86\"/>\n<ellipse fill=\"black\" stroke=\"black\" cx=\"270\" cy=\"-341.94\" rx=\"1\" ry=\"1\"/>\n<text text-anchor=\"middle\" x=\"252.5\" y=\"-329\" font-family=\"Times,serif\" font-size=\"10.00\">1</text>\n</g>\n<!-- mu_G20 -->\n<g id=\"node18\" class=\"node\">\n<title>mu_G20</title>\n<text text-anchor=\"middle\" x=\"311.5\" y=\"-284.3\" font-family=\"Times,serif\" font-size=\"14.00\">mu</text>\n</g>\n<!-- QubitizationWalkOperator&#45;&gt;mu_G20 -->\n<g id=\"edge17\" class=\"edge\">\n<title>QubitizationWalkOperator:e-&gt;mu_G20:w</title>\n<path fill=\"none\" stroke=\"black\" d=\"M234,-288C255.31,-288 261.14,-288 281.48,-288\"/>\n<ellipse fill=\"black\" stroke=\"black\" cx=\"282.5\" cy=\"-288\" rx=\"1\" ry=\"1\"/>\n<text text-anchor=\"middle\" x=\"252.5\" y=\"-291\" font-family=\"Times,serif\" font-size=\"10.00\">9</text>\n</g>\n<!-- nu_G29 -->\n<g id=\"node19\" class=\"node\">\n<title>nu_G29</title>\n<text text-anchor=\"middle\" x=\"311.5\" y=\"-230.3\" font-family=\"Times,serif\" font-size=\"14.00\">nu</text>\n</g>\n<!-- QubitizationWalkOperator&#45;&gt;nu_G29 -->\n<g id=\"edge18\" class=\"edge\">\n<title>QubitizationWalkOperator:e-&gt;nu_G29:w</title>\n<path fill=\"none\" stroke=\"black\" d=\"M234,-267C259.72,-267 257.22,-235.78 281.4,-234.07\"/>\n<ellipse fill=\"black\" stroke=\"black\" cx=\"282.5\" cy=\"-234.03\" rx=\"1\" ry=\"1\"/>\n<text text-anchor=\"middle\" x=\"252.5\" y=\"-262\" font-family=\"Times,serif\" font-size=\"10.00\">9</text>\n</g>\n<!-- succ_G32 -->\n<g id=\"node20\" class=\"node\">\n<title>succ_G32</title>\n<text text-anchor=\"middle\" x=\"311.5\" y=\"-176.3\" font-family=\"Times,serif\" font-size=\"14.00\">succ</text>\n</g>\n<!-- QubitizationWalkOperator&#45;&gt;succ_G32 -->\n<g id=\"edge19\" class=\"edge\">\n<title>QubitizationWalkOperator:e-&gt;succ_G32:w</title>\n<path fill=\"none\" stroke=\"black\" d=\"M234,-246C269.95,-246 247.74,-182.55 281.42,-180.07\"/>\n<ellipse fill=\"black\" stroke=\"black\" cx=\"282.5\" cy=\"-180.04\" rx=\"1\" ry=\"1\"/>\n<text text-anchor=\"middle\" x=\"252.5\" y=\"-237\" font-family=\"Times,serif\" font-size=\"10.00\">1</text>\n</g>\n<!-- plus_b_G28 -->\n<g id=\"node21\" class=\"node\">\n<title>plus_b_G28</title>\n<text text-anchor=\"middle\" x=\"311.5\" y=\"-122.3\" font-family=\"Times,serif\" font-size=\"14.00\">plus_b</text>\n</g>\n<!-- QubitizationWalkOperator&#45;&gt;plus_b_G28 -->\n<g id=\"edge20\" class=\"edge\">\n<title>QubitizationWalkOperator:e-&gt;plus_b_G28:w</title>\n<path fill=\"none\" stroke=\"black\" d=\"M234,-225C282.42,-225 235.81,-129.07 281.27,-126.07\"/>\n<ellipse fill=\"black\" stroke=\"black\" cx=\"282.5\" cy=\"-126.03\" rx=\"1\" ry=\"1\"/>\n<text text-anchor=\"middle\" x=\"252.5\" y=\"-219\" font-family=\"Times,serif\" font-size=\"10.00\">1</text>\n</g>\n<!-- sys_a_G0 -->\n<g id=\"node22\" class=\"node\">\n<title>sys_a_G0</title>\n<text text-anchor=\"middle\" x=\"311.5\" y=\"-68.3\" font-family=\"Times,serif\" font-size=\"14.00\">sys_a</text>\n</g>\n<!-- QubitizationWalkOperator&#45;&gt;sys_a_G0 -->\n<g id=\"edge21\" class=\"edge\">\n<title>QubitizationWalkOperator:e-&gt;sys_a_G0:w</title>\n<path fill=\"none\" stroke=\"black\" d=\"M234,-204C295.92,-204 222.6,-75.08 281.35,-72.05\"/>\n<ellipse fill=\"black\" stroke=\"black\" cx=\"282.5\" cy=\"-72.03\" rx=\"1\" ry=\"1\"/>\n<text text-anchor=\"middle\" x=\"252.5\" y=\"-199\" font-family=\"Times,serif\" font-size=\"10.00\">76</text>\n</g>\n<!-- sys_b_G24 -->\n<g id=\"node23\" class=\"node\">\n<title>sys_b_G24</title>\n<text text-anchor=\"middle\" x=\"311.5\" y=\"-14.3\" font-family=\"Times,serif\" font-size=\"14.00\">sys_b</text>\n</g>\n<!-- QubitizationWalkOperator&#45;&gt;sys_b_G24 -->\n<g id=\"edge22\" class=\"edge\">\n<title>QubitizationWalkOperator:e-&gt;sys_b_G24:w</title>\n<path fill=\"none\" stroke=\"black\" d=\"M234,-183C309.81,-183 208.94,-21.21 281.31,-18.05\"/>\n<ellipse fill=\"black\" stroke=\"black\" cx=\"282.5\" cy=\"-18.02\" rx=\"1\" ry=\"1\"/>\n<text text-anchor=\"middle\" x=\"252.5\" y=\"-180\" font-family=\"Times,serif\" font-size=\"10.00\">76</text>\n</g>\n</g>\n</svg>",
          "text/plain": "<IPython.core.display.SVG object>"
         },
         "metadata": {},
         "output_type": "display_data"
        }
       ],
       "tabbable": null,
       "tooltip": null
      }
     },
     "d1f72102cb444c41b92957bf5cbd3da4": {
      "model_module": "@jupyter-widgets/base",
      "model_module_version": "2.0.0",
      "model_name": "LayoutModel",
      "state": {
       "_model_module": "@jupyter-widgets/base",
       "_model_module_version": "2.0.0",
       "_model_name": "LayoutModel",
       "_view_count": null,
       "_view_module": "@jupyter-widgets/base",
       "_view_module_version": "2.0.0",
       "_view_name": "LayoutView",
       "align_content": null,
       "align_items": null,
       "align_self": null,
       "border_bottom": null,
       "border_left": null,
       "border_right": null,
       "border_top": null,
       "bottom": null,
       "display": null,
       "flex": null,
       "flex_flow": null,
       "grid_area": null,
       "grid_auto_columns": null,
       "grid_auto_flow": null,
       "grid_auto_rows": null,
       "grid_column": null,
       "grid_gap": null,
       "grid_row": null,
       "grid_template_areas": null,
       "grid_template_columns": null,
       "grid_template_rows": null,
       "height": null,
       "justify_content": null,
       "justify_items": null,
       "left": null,
       "margin": null,
       "max_height": null,
       "max_width": null,
       "min_height": null,
       "min_width": null,
       "object_fit": null,
       "object_position": null,
       "order": null,
       "overflow": null,
       "padding": null,
       "right": null,
       "top": null,
       "visibility": null,
       "width": null
      }
     }
    },
    "version_major": 2,
    "version_minor": 0
   }
  }
 },
 "nbformat": 4,
 "nbformat_minor": 5
}
