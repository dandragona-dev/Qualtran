{
 "cells": [
  {
   "cell_type": "markdown",
   "id": "1db02357",
   "metadata": {
    "cq.autogen": "title_cell"
   },
   "source": [
    "# LCU Select/Prepare Oracles"
   ]
  },
  {
   "cell_type": "code",
   "execution_count": 1,
   "id": "04d2146c",
   "metadata": {
    "cq.autogen": "top_imports"
   },
   "outputs": [],
   "source": [
    "from qualtran import Bloq, CompositeBloq, BloqBuilder, Signature, Register\n",
    "from qualtran import QBit, QInt, QUInt, QAny\n",
    "from qualtran.drawing import show_bloq, show_call_graph, show_counts_sigma\n",
    "from typing import *\n",
    "import numpy as np\n",
    "import sympy\n",
    "import cirq"
   ]
  },
  {
   "cell_type": "markdown",
   "id": "e3e5ceaf",
   "metadata": {
    "cq.autogen": "SelectBlockEncoding.bloq_doc.md"
   },
   "source": [
    "## `SelectBlockEncoding`\n",
    "LCU based block encoding using SELECT and PREPARE oracles.\n",
    "\n",
    "Builds the block encoding via\n",
    "$$\n",
    "    B[H] = \\mathrm{SELECT}\n",
    "$$\n",
    "\n",
    "$$\n",
    "    \\mathrm{SELECT} |l\\rangle_a|\\psi\\rangle_s = |l\\rangle_a U_l |\\psi\\rangle_s.\n",
    "$$\n",
    "\n",
    "The Hamiltonian can be extracted via\n",
    "\n",
    "$$\n",
    "    \\langle G | B[H] | G \\rangle = H / \\alpha\n",
    "$$\n",
    "\n",
    "where\n",
    "\n",
    "$$\n",
    "    |G\\rangle = \\mathrm{PREPARE} |0\\rangle_a = \\sum_l \\sqrt{\\frac{w_l}{\\alpha}} |l\\rangle_a,\n",
    "$$\n",
    "\n",
    "The ancilla register is at least of size $\\log L$.\n",
    "\n",
    "In our implementations we typically split the ancilla registers into\n",
    "selection registers (i.e.  the $l$ registers above) and junk registers which\n",
    "are extra qubits needed by state preparation but not controlled upon during\n",
    "SELECT.\n",
    "\n",
    "#### Parameters\n",
    " - `select`: The bloq implementing the `SelectOracle` interface.\n",
    " - `prepare`: The bloq implementing the `PrepareOracle` interface. \n",
    "\n",
    "#### Registers\n",
    " - `selection`: The combined selection register.\n",
    " - `junk`: Additional junk registers not prepared upon.\n",
    " - `system`: The combined system register. \n",
    "\n",
    "#### References\n",
    " - [Hamiltonian Simulation by Qubitization](https://quantum-journal.org/papers/q-2019-07-12-163/).     Low et al. 2019. Sec 3.1, page 7 and 8 for high level overview and definitions. A     block encoding is called a standard form encoding there.\n",
    " - [The power of block-encoded matrix powers: improved regression techniques via faster Hamiltonian simulation](https://arxiv.org/abs/1804.01973).     Chakraborty et al. 2018. Definition 3 page 8.\n"
   ]
  },
  {
   "cell_type": "code",
   "execution_count": 2,
   "id": "9181470e",
   "metadata": {
    "cq.autogen": "SelectBlockEncoding.bloq_doc.py"
   },
   "outputs": [],
   "source": [
    "from qualtran.bloqs.block_encoding import SelectBlockEncoding"
   ]
  },
  {
   "cell_type": "markdown",
   "id": "8f58e56e",
   "metadata": {
    "cq.autogen": "SelectBlockEncoding.example_instances.md"
   },
   "source": [
    "### Example Instances"
   ]
  },
  {
   "cell_type": "code",
   "execution_count": 3,
   "id": "7d131d00",
   "metadata": {
    "cq.autogen": "SelectBlockEncoding.select_block"
   },
   "outputs": [],
   "source": [
    "from qualtran.bloqs.chemistry.hubbard_model.qubitization import PrepareHubbard, SelectHubbard\n",
    "\n",
    "# 3x3 hubbard model U/t = 4\n",
    "dim = 3\n",
    "select = SelectHubbard(x_dim=dim, y_dim=dim)\n",
    "U = 4\n",
    "t = 1\n",
    "prepare = PrepareHubbard(x_dim=dim, y_dim=dim, t=t, u=U)\n",
    "select_block = SelectBlockEncoding(select=select, prepare=prepare)"
   ]
  },
  {
   "cell_type": "code",
   "execution_count": 4,
   "id": "458571fe",
   "metadata": {
    "cq.autogen": "SelectBlockEncoding.black_box_select_block"
   },
   "outputs": [],
   "source": [
    "from qualtran.bloqs.chemistry.hubbard_model.qubitization import PrepareHubbard, SelectHubbard\n",
    "from qualtran.bloqs.multiplexers.black_box_select import BlackBoxSelect\n",
    "from qualtran.bloqs.state_preparation.black_box_prepare import BlackBoxPrepare\n",
    "\n",
    "# 3x3 hubbard model U/t = 4\n",
    "dim = 3\n",
    "select = SelectHubbard(x_dim=dim, y_dim=dim)\n",
    "U = 4\n",
    "t = 1\n",
    "prepare = PrepareHubbard(x_dim=dim, y_dim=dim, t=t, u=U)\n",
    "black_box_select_block = SelectBlockEncoding(\n",
    "    select=BlackBoxSelect(select), prepare=BlackBoxPrepare(prepare)\n",
    ")"
   ]
  },
  {
   "cell_type": "markdown",
   "id": "a6bc87e3",
   "metadata": {
    "cq.autogen": "SelectBlockEncoding.graphical_signature.md"
   },
   "source": [
    "#### Graphical Signature"
   ]
  },
  {
   "cell_type": "code",
   "execution_count": 5,
   "id": "09ec1aa0",
   "metadata": {
    "cq.autogen": "SelectBlockEncoding.graphical_signature.py"
   },
   "outputs": [
    {
     "data": {
      "application/vnd.jupyter.widget-view+json": {
       "model_id": "fd335c35f3e341cba0e7f3c3e78adf59",
       "version_major": 2,
       "version_minor": 0
      },
      "text/plain": [
       "HBox(children=(Output(outputs=({'output_type': 'display_data', 'data': {'text/plain': '<IPython.core.display.M…"
      ]
     },
     "metadata": {},
     "output_type": "display_data"
    }
   ],
   "source": [
    "from qualtran.drawing import show_bloqs\n",
    "show_bloqs([select_block, black_box_select_block],\n",
    "           ['`select_block`', '`black_box_select_block`'])"
   ]
  },
  {
   "cell_type": "markdown",
   "id": "5380c739",
   "metadata": {
    "cq.autogen": "SelectBlockEncoding.call_graph.md"
   },
   "source": [
    "### Call Graph"
   ]
  },
  {
   "cell_type": "code",
   "execution_count": 6,
   "id": "9ff80370",
   "metadata": {
    "cq.autogen": "SelectBlockEncoding.call_graph.py"
   },
   "outputs": [
    {
     "data": {
      "image/svg+xml": [
       "<svg xmlns=\"http://www.w3.org/2000/svg\" xmlns:xlink=\"http://www.w3.org/1999/xlink\" width=\"379pt\" height=\"131pt\" viewBox=\"0.00 0.00 379.00 131.00\">\n",
       "<g id=\"graph0\" class=\"graph\" transform=\"scale(1 1) rotate(0) translate(4 127)\">\n",
       "<title>counts</title>\n",
       "<polygon fill=\"white\" stroke=\"transparent\" points=\"-4,4 -4,-127 375,-127 375,4 -4,4\"/>\n",
       "<!-- b0 -->\n",
       "<g id=\"node1\" class=\"node\">\n",
       "<title>b0</title>\n",
       "<polygon fill=\"none\" stroke=\"black\" points=\"371,-123 0,-123 0,-87 371,-87 371,-123\"/>\n",
       "<text text-anchor=\"start\" x=\"171.5\" y=\"-106.8\" font-family=\"Times,serif\" font-size=\"14.00\">B[H]</text>\n",
       "<text text-anchor=\"start\" x=\"8\" y=\"-96\" font-family=\"monospace\" font-size=\"10.00\">select=SelectHu ..., prepare=PrepareH ..., control_val=None</text>\n",
       "</g>\n",
       "<!-- b1 -->\n",
       "<g id=\"node2\" class=\"node\">\n",
       "<title>b1</title>\n",
       "<polygon fill=\"none\" stroke=\"black\" points=\"296,-36 75,-36 75,0 296,0 296,-36\"/>\n",
       "<text text-anchor=\"start\" x=\"130\" y=\"-19.8\" font-family=\"Times,serif\" font-size=\"14.00\">SelectHubbard(3, 3)</text>\n",
       "<text text-anchor=\"start\" x=\"83\" y=\"-9\" font-family=\"monospace\" font-size=\"10.00\">x_dim=3, y_dim=3, control_val=None</text>\n",
       "</g>\n",
       "<!-- b0&#45;&gt;b1 -->\n",
       "<g id=\"edge1\" class=\"edge\">\n",
       "<title>b0-&gt;b1</title>\n",
       "<path fill=\"none\" stroke=\"black\" d=\"M185.5,-86.8C185.5,-75.16 185.5,-59.55 185.5,-46.24\"/>\n",
       "<polygon fill=\"black\" stroke=\"black\" points=\"189,-46.18 185.5,-36.18 182,-46.18 189,-46.18\"/>\n",
       "<text text-anchor=\"middle\" x=\"189\" y=\"-57.8\" font-family=\"Times,serif\" font-size=\"14.00\">1</text>\n",
       "</g>\n",
       "</g>\n",
       "</svg>"
      ],
      "text/plain": [
       "<IPython.core.display.SVG object>"
      ]
     },
     "metadata": {},
     "output_type": "display_data"
    },
    {
     "data": {
      "text/markdown": [
       "#### Counts totals:\n",
       " - `SelectHubbard(3, 3)`: 1"
      ],
      "text/plain": [
       "<IPython.core.display.Markdown object>"
      ]
     },
     "metadata": {},
     "output_type": "display_data"
    }
   ],
   "source": [
    "from qualtran.resource_counting.generalizers import ignore_split_join\n",
    "select_block_g, select_block_sigma = select_block.call_graph(max_depth=1, generalizer=ignore_split_join)\n",
    "show_call_graph(select_block_g)\n",
    "show_counts_sigma(select_block_sigma)"
   ]
  },
  {
   "cell_type": "markdown",
   "id": "32fd25a4",
   "metadata": {
    "cq.autogen": "LCUBlockEncoding.bloq_doc.md"
   },
   "source": [
    "## `LCUBlockEncoding`\n",
    "LCU based block encoding using SELECT and PREPARE oracles.\n",
    "\n",
    "Builds the standard block encoding from an LCU as\n",
    "$$\n",
    "    B[H] = \\mathrm{PREPARE}^\\dagger \\cdot \\mathrm{SELECT} \\cdot \\mathrm{PREPARE},\n",
    "$$\n",
    "where\n",
    "$$\n",
    "    \\mathrm{PREPARE} |0\\rangle_a = \\sum_l \\sqrt{\\frac{w_l}{\\alpha}} |l\\rangle_a,\n",
    "$$\n",
    "and\n",
    "$$\n",
    "    \\mathrm{SELECT} |l\\rangle_a|\\psi\\rangle_s = |l\\rangle_a U_l |\\psi\\rangle_s.\n",
    "$$\n",
    "\n",
    "The Hamiltonian can be extracted via\n",
    "$$\n",
    "    \\langle 0 | B[H] | 0 \\rangle = H / \\alpha,\n",
    "$$\n",
    "This differs from the `SelectBlockEncoding` which uses Prepare for the signal state, while here\n",
    "it is the identity operator.\n",
    "\n",
    "The ancilla register is at least of size $\\log L$.\n",
    "\n",
    "In our implementations we typically split the ancilla registers into\n",
    "selection registers (i.e.  the $l$ registers above) and junk registers which\n",
    "are extra qubits needed by state preparation but not controlled upon during\n",
    "SELECT.\n",
    "\n",
    "#### Parameters\n",
    " - `select`: The bloq implementing the `SelectOracle` interface.\n",
    " - `prepare`: The bloq implementing the `PrepareOracle` interface. \n",
    "\n",
    "#### Registers\n",
    " - `selection`: The combined selection register.\n",
    " - `junk`: Additional junk registers not prepared upon.\n",
    " - `system`: The combined system register. \n",
    "\n",
    "#### References\n",
    " - [Hamiltonian Simulation by Qubitization](https://quantum-journal.org/papers/q-2019-07-12-163/).     Low et al. 2019. Sec 3.1, page 7 and 8 for high level overview and definitions. A     block encoding is called a standard form encoding there.\n",
    " - [The power of block-encoded matrix powers: improved regression techniques via faster Hamiltonian simulation](https://arxiv.org/abs/1804.01973).     Chakraborty et al. 2018. Definition 3 page 8.\n"
   ]
  },
  {
   "cell_type": "code",
   "execution_count": 7,
   "id": "ca76dfc7",
   "metadata": {
    "cq.autogen": "LCUBlockEncoding.bloq_doc.py"
   },
   "outputs": [],
   "source": [
    "from qualtran.bloqs.block_encoding import LCUBlockEncoding"
   ]
  },
  {
   "cell_type": "markdown",
   "id": "40d371bf",
   "metadata": {
    "cq.autogen": "LCUBlockEncoding.example_instances.md"
   },
   "source": [
    "### Example Instances"
   ]
  },
  {
   "cell_type": "code",
   "execution_count": 8,
   "id": "50c25e40",
   "metadata": {
    "cq.autogen": "LCUBlockEncoding.lcu_block"
   },
   "outputs": [],
   "source": [
    "from qualtran.bloqs.chemistry.hubbard_model.qubitization import PrepareHubbard, SelectHubbard\n",
    "\n",
    "# 3x3 hubbard model U/t = 4\n",
    "dim = 3\n",
    "select = SelectHubbard(x_dim=dim, y_dim=dim)\n",
    "U = 4\n",
    "t = 1\n",
    "prepare = PrepareHubbard(x_dim=dim, y_dim=dim, t=t, u=U)\n",
    "lcu_block = LCUBlockEncoding(select=select, prepare=prepare)"
   ]
  },
  {
   "cell_type": "code",
   "execution_count": 9,
   "id": "3a4cd812",
   "metadata": {
    "cq.autogen": "LCUBlockEncoding.black_box_lcu_block"
   },
   "outputs": [],
   "source": [
    "from qualtran.bloqs.chemistry.hubbard_model.qubitization import PrepareHubbard, SelectHubbard\n",
    "from qualtran.bloqs.multiplexers.black_box_select import BlackBoxSelect\n",
    "from qualtran.bloqs.state_preparation.black_box_prepare import BlackBoxPrepare\n",
    "\n",
    "# 3x3 hubbard model U/t = 4\n",
    "dim = 3\n",
    "select = SelectHubbard(x_dim=dim, y_dim=dim)\n",
    "U = 4\n",
    "t = 1\n",
    "prepare = PrepareHubbard(x_dim=dim, y_dim=dim, t=t, u=U)\n",
    "black_box_lcu_block = LCUBlockEncoding(\n",
    "    select=BlackBoxSelect(select), prepare=BlackBoxPrepare(prepare)\n",
    ")"
   ]
  },
  {
   "cell_type": "markdown",
   "id": "ed0879fd",
   "metadata": {
    "cq.autogen": "LCUBlockEncoding.graphical_signature.md"
   },
   "source": [
    "#### Graphical Signature"
   ]
  },
  {
   "cell_type": "code",
   "execution_count": 10,
   "id": "d6c2332e",
   "metadata": {
    "cq.autogen": "LCUBlockEncoding.graphical_signature.py"
   },
   "outputs": [
    {
     "data": {
      "application/vnd.jupyter.widget-view+json": {
       "model_id": "619ce4d709bb4ad396f9c4f967eebbdc",
       "version_major": 2,
       "version_minor": 0
      },
      "text/plain": [
       "HBox(children=(Output(outputs=({'output_type': 'display_data', 'data': {'text/plain': '<IPython.core.display.M…"
      ]
     },
     "metadata": {},
     "output_type": "display_data"
    }
   ],
   "source": [
    "from qualtran.drawing import show_bloqs\n",
    "show_bloqs([lcu_block, black_box_lcu_block],\n",
    "           ['`lcu_block`', '`black_box_lcu_block`'])"
   ]
  },
  {
   "cell_type": "markdown",
   "id": "cda4ef58",
   "metadata": {
    "cq.autogen": "LCUBlockEncoding.call_graph.md"
   },
   "source": [
    "### Call Graph"
   ]
  },
  {
   "cell_type": "code",
   "execution_count": 11,
   "id": "c123b946",
   "metadata": {
    "cq.autogen": "LCUBlockEncoding.call_graph.py"
   },
   "outputs": [
    {
     "data": {
      "image/svg+xml": [
       "<svg xmlns=\"http://www.w3.org/2000/svg\" xmlns:xlink=\"http://www.w3.org/1999/xlink\" width=\"575pt\" height=\"131pt\" viewBox=\"0.00 0.00 575.00 131.00\">\n",
       "<g id=\"graph0\" class=\"graph\" transform=\"scale(1 1) rotate(0) translate(4 127)\">\n",
       "<title>counts</title>\n",
       "<polygon fill=\"white\" stroke=\"transparent\" points=\"-4,4 -4,-127 571,-127 571,4 -4,4\"/>\n",
       "<!-- b0 -->\n",
       "<g id=\"node1\" class=\"node\">\n",
       "<title>b0</title>\n",
       "<polygon fill=\"none\" stroke=\"black\" points=\"511,-123 140,-123 140,-87 511,-87 511,-123\"/>\n",
       "<text text-anchor=\"start\" x=\"311.5\" y=\"-106.8\" font-family=\"Times,serif\" font-size=\"14.00\">B[H]</text>\n",
       "<text text-anchor=\"start\" x=\"148\" y=\"-96\" font-family=\"monospace\" font-size=\"10.00\">select=SelectHu ..., prepare=PrepareH ..., control_val=None</text>\n",
       "</g>\n",
       "<!-- b1 -->\n",
       "<g id=\"node2\" class=\"node\">\n",
       "<title>b1</title>\n",
       "<polygon fill=\"none\" stroke=\"black\" points=\"221,-36 0,-36 0,0 221,0 221,-36\"/>\n",
       "<text text-anchor=\"start\" x=\"55\" y=\"-19.8\" font-family=\"Times,serif\" font-size=\"14.00\">SelectHubbard(3, 3)</text>\n",
       "<text text-anchor=\"start\" x=\"8\" y=\"-9\" font-family=\"monospace\" font-size=\"10.00\">x_dim=3, y_dim=3, control_val=None</text>\n",
       "</g>\n",
       "<!-- b0&#45;&gt;b1 -->\n",
       "<g id=\"edge1\" class=\"edge\">\n",
       "<title>b0-&gt;b1</title>\n",
       "<path fill=\"none\" stroke=\"black\" d=\"M282.25,-86.9C247.92,-73.33 199.78,-54.29 163.19,-39.83\"/>\n",
       "<polygon fill=\"black\" stroke=\"black\" points=\"164.27,-36.49 153.68,-36.07 161.69,-43 164.27,-36.49\"/>\n",
       "<text text-anchor=\"middle\" x=\"235\" y=\"-57.8\" font-family=\"Times,serif\" font-size=\"14.00\">1</text>\n",
       "</g>\n",
       "<!-- b2 -->\n",
       "<g id=\"node3\" class=\"node\">\n",
       "<title>b2</title>\n",
       "<polygon fill=\"none\" stroke=\"black\" points=\"412,-36 239,-36 239,0 412,0 412,-36\"/>\n",
       "<text text-anchor=\"start\" x=\"281\" y=\"-19.8\" font-family=\"Times,serif\" font-size=\"14.00\">PrepareHubbard</text>\n",
       "<text text-anchor=\"start\" x=\"247\" y=\"-9\" font-family=\"monospace\" font-size=\"10.00\">x_dim=3, y_dim=3, t=1, u=4</text>\n",
       "</g>\n",
       "<!-- b0&#45;&gt;b2 -->\n",
       "<g id=\"edge2\" class=\"edge\">\n",
       "<title>b0-&gt;b2</title>\n",
       "<path fill=\"none\" stroke=\"black\" d=\"M325.5,-86.8C325.5,-75.16 325.5,-59.55 325.5,-46.24\"/>\n",
       "<polygon fill=\"black\" stroke=\"black\" points=\"329,-46.18 325.5,-36.18 322,-46.18 329,-46.18\"/>\n",
       "<text text-anchor=\"middle\" x=\"329\" y=\"-57.8\" font-family=\"Times,serif\" font-size=\"14.00\">1</text>\n",
       "</g>\n",
       "<!-- b3 -->\n",
       "<g id=\"node4\" class=\"node\">\n",
       "<title>b3</title>\n",
       "<polygon fill=\"none\" stroke=\"black\" points=\"567,-36 430,-36 430,0 567,0 567,-36\"/>\n",
       "<text text-anchor=\"start\" x=\"450.5\" y=\"-19.8\" font-family=\"Times,serif\" font-size=\"14.00\">PrepareHubbard†</text>\n",
       "<text text-anchor=\"start\" x=\"438\" y=\"-9\" font-family=\"monospace\" font-size=\"10.00\">subbloq=PrepareH ...</text>\n",
       "</g>\n",
       "<!-- b0&#45;&gt;b3 -->\n",
       "<g id=\"edge3\" class=\"edge\">\n",
       "<title>b0-&gt;b3</title>\n",
       "<path fill=\"none\" stroke=\"black\" d=\"M360.51,-86.8C387.68,-73.45 425.51,-54.86 454.69,-40.52\"/>\n",
       "<polygon fill=\"black\" stroke=\"black\" points=\"456.41,-43.58 463.84,-36.03 453.32,-37.3 456.41,-43.58\"/>\n",
       "<text text-anchor=\"middle\" x=\"426\" y=\"-57.8\" font-family=\"Times,serif\" font-size=\"14.00\">1</text>\n",
       "</g>\n",
       "</g>\n",
       "</svg>"
      ],
      "text/plain": [
       "<IPython.core.display.SVG object>"
      ]
     },
     "metadata": {},
     "output_type": "display_data"
    },
    {
     "data": {
      "text/markdown": [
       "#### Counts totals:\n",
       " - `Adjoint(subbloq=PrepareHubbard)`: 1\n",
       " - `PrepareHubbard`: 1\n",
       " - `SelectHubbard(3, 3)`: 1"
      ],
      "text/plain": [
       "<IPython.core.display.Markdown object>"
      ]
     },
     "metadata": {},
     "output_type": "display_data"
    }
   ],
   "source": [
    "from qualtran.resource_counting.generalizers import ignore_split_join\n",
    "lcu_block_g, lcu_block_sigma = lcu_block.call_graph(max_depth=1, generalizer=ignore_split_join)\n",
    "show_call_graph(lcu_block_g)\n",
    "show_counts_sigma(lcu_block_sigma)"
   ]
  },
  {
   "cell_type": "markdown",
   "id": "41f35700",
   "metadata": {
    "cq.autogen": "SelectOracle.bloq_doc.md"
   },
   "source": [
    "## `SelectOracle`\n",
    "Abstract base class that defines the interface for a SELECT Oracle.\n",
    "\n",
    "The action of a SELECT oracle on a selection register $|l\\rangle$ and target register\n",
    "$|\\Psi\\rangle$ can be defined as:\n",
    "\n",
    "$$\n",
    "    \\mathrm{SELECT} = \\sum_{l}|l \\rangle \\langle l| \\otimes U_l\n",
    "$$\n",
    "\n",
    "In other words, the `SELECT` oracle applies $l$'th unitary $U_l$ on the target register\n",
    "$|\\Psi\\rangle$ when the selection register stores integer $l$.\n",
    "\n",
    "$$\n",
    "    \\mathrm{SELECT}|l\\rangle |\\Psi\\rangle = |l\\rangle U_{l}|\\Psi\\rangle\n",
    "$$"
   ]
  },
  {
   "cell_type": "code",
   "execution_count": 12,
   "id": "78c13d1e",
   "metadata": {
    "cq.autogen": "SelectOracle.bloq_doc.py"
   },
   "outputs": [],
   "source": [
    "from qualtran.bloqs.multiplexers.select_base import SelectOracle"
   ]
  },
  {
   "cell_type": "markdown",
   "id": "b02dcd74",
   "metadata": {
    "cq.autogen": "PrepareOracle.bloq_doc.md"
   },
   "source": [
    "## `PrepareOracle`\n",
    "Abstract base class that defines the API for a PREPARE Oracle.\n",
    "\n",
    "Given a set of coefficients $\\{c_0, c_1, ..., c_{N - 1}\\}$, the PREPARE oracle is used to encode\n",
    "the coefficients as amplitudes of a state $|\\Psi\\rangle = \\sum_{l=0}^{N-1} \\sqrt{\\frac{c_l}{\\lambda}} |l\\rangle$\n",
    "where $\\lambda = \\sum_l |c_l|$, using a selection register $|l\\rangle$. In order to prepare such\n",
    "a state, the PREPARE circuit is also allowed to use a junk register that is entangled with\n",
    "selection register.\n",
    "\n",
    "Thus, the action of a PREPARE circuit on an input state $|0\\rangle$ can be defined as:\n",
    "\n",
    "$$\n",
    "    \\mathrm{PREPARE} |0\\rangle = \\sum_{l=0}^{N-1} \\sqrt{ \\frac{c_l}{\\lambda} } |l\\rangle |\\mathrm{junk}_l\\rangle\n",
    "$$"
   ]
  },
  {
   "cell_type": "code",
   "execution_count": 13,
   "id": "ddb7db0b",
   "metadata": {
    "cq.autogen": "PrepareOracle.bloq_doc.py"
   },
   "outputs": [],
   "source": [
    "from qualtran.bloqs.state_preparation.prepare_base import PrepareOracle"
   ]
  },
  {
   "cell_type": "markdown",
   "id": "42020699",
   "metadata": {
    "cq.autogen": "BlackBoxSelect.bloq_doc.md"
   },
   "source": [
    "## `BlackBoxSelect`\n",
    "A 'black box' Select bloq.\n",
    "\n",
    "The `SELECT` operation applies the $l$'th unitary $U_{l}$ on the system register\n",
    "when the selection register stores integer $l$.\n",
    "When implementing specific `SelectOracle` bloqs, it is helpful to have multiple selection\n",
    "registers each with semantic meaning. For example: you could have spatial or spin coordinates\n",
    "on different, named registers. The `SelectOracle` interface encourages this. `BlackBoxSelect`\n",
    "uses the properties on the `SelectOracle` interface to provide a \"black box\" view of a select\n",
    "operation that just has a selection and system register.\n",
    "During decomposition, this bloq will use the `Partition` utility bloq to partition\n",
    "and route the parts of the unified selection register to the `Select` bloq.\n",
    "\n",
    "#### Parameters\n",
    " - `select`: The bloq implementing the `SelectOracle` interface. \n",
    "\n",
    "#### Registers\n",
    " - `selection`: The combined selection register\n",
    " - `system`: The combined system register\n"
   ]
  },
  {
   "cell_type": "code",
   "execution_count": 14,
   "id": "376ccda6",
   "metadata": {
    "cq.autogen": "BlackBoxSelect.bloq_doc.py"
   },
   "outputs": [],
   "source": [
    "from qualtran.bloqs.multiplexers.black_box_select import BlackBoxSelect"
   ]
  },
  {
   "cell_type": "markdown",
   "id": "110ccc87",
   "metadata": {
    "cq.autogen": "BlackBoxSelect.example_instances.md"
   },
   "source": [
    "### Example Instances"
   ]
  },
  {
   "cell_type": "code",
   "execution_count": 15,
   "id": "9e51fcd3",
   "metadata": {
    "cq.autogen": "BlackBoxSelect.black_box_select"
   },
   "outputs": [],
   "source": [
    "from qualtran.bloqs.chemistry.hubbard_model.qubitization import SelectHubbard\n",
    "\n",
    "select = SelectHubbard(2, 2)\n",
    "black_box_select = BlackBoxSelect(select=select)"
   ]
  },
  {
   "cell_type": "markdown",
   "id": "82924c73",
   "metadata": {
    "cq.autogen": "BlackBoxSelect.graphical_signature.md"
   },
   "source": [
    "#### Graphical Signature"
   ]
  },
  {
   "cell_type": "code",
   "execution_count": 16,
   "id": "18e17dd4",
   "metadata": {
    "cq.autogen": "BlackBoxSelect.graphical_signature.py"
   },
   "outputs": [
    {
     "data": {
      "application/vnd.jupyter.widget-view+json": {
       "model_id": "102c7f9fe17d4313971d927d733c9807",
       "version_major": 2,
       "version_minor": 0
      },
      "text/plain": [
       "HBox(children=(Output(outputs=({'output_type': 'display_data', 'data': {'text/plain': '<IPython.core.display.M…"
      ]
     },
     "metadata": {},
     "output_type": "display_data"
    }
   ],
   "source": [
    "from qualtran.drawing import show_bloqs\n",
    "show_bloqs([black_box_select],\n",
    "           ['`black_box_select`'])"
   ]
  },
  {
   "cell_type": "markdown",
   "id": "2c72ac9f",
   "metadata": {
    "cq.autogen": "BlackBoxSelect.call_graph.md"
   },
   "source": [
    "### Call Graph"
   ]
  },
  {
   "cell_type": "code",
   "execution_count": 17,
   "id": "625d42e4",
   "metadata": {
    "cq.autogen": "BlackBoxSelect.call_graph.py"
   },
   "outputs": [
    {
     "data": {
      "image/svg+xml": [
       "<svg xmlns=\"http://www.w3.org/2000/svg\" xmlns:xlink=\"http://www.w3.org/1999/xlink\" width=\"229pt\" height=\"131pt\" viewBox=\"0.00 0.00 229.00 131.00\">\n",
       "<g id=\"graph0\" class=\"graph\" transform=\"scale(1 1) rotate(0) translate(4 127)\">\n",
       "<title>counts</title>\n",
       "<polygon fill=\"white\" stroke=\"transparent\" points=\"-4,4 -4,-127 225,-127 225,4 -4,4\"/>\n",
       "<!-- b0 -->\n",
       "<g id=\"node1\" class=\"node\">\n",
       "<title>b0</title>\n",
       "<polygon fill=\"none\" stroke=\"black\" points=\"176,-123 45,-123 45,-87 176,-87 176,-123\"/>\n",
       "<text text-anchor=\"start\" x=\"85.5\" y=\"-106.8\" font-family=\"Times,serif\" font-size=\"14.00\">SELECT</text>\n",
       "<text text-anchor=\"start\" x=\"53\" y=\"-96\" font-family=\"monospace\" font-size=\"10.00\">select=SelectHu ...</text>\n",
       "</g>\n",
       "<!-- b1 -->\n",
       "<g id=\"node2\" class=\"node\">\n",
       "<title>b1</title>\n",
       "<polygon fill=\"none\" stroke=\"black\" points=\"221,-36 0,-36 0,0 221,0 221,-36\"/>\n",
       "<text text-anchor=\"start\" x=\"55\" y=\"-19.8\" font-family=\"Times,serif\" font-size=\"14.00\">SelectHubbard(2, 2)</text>\n",
       "<text text-anchor=\"start\" x=\"8\" y=\"-9\" font-family=\"monospace\" font-size=\"10.00\">x_dim=2, y_dim=2, control_val=None</text>\n",
       "</g>\n",
       "<!-- b0&#45;&gt;b1 -->\n",
       "<g id=\"edge1\" class=\"edge\">\n",
       "<title>b0-&gt;b1</title>\n",
       "<path fill=\"none\" stroke=\"black\" d=\"M110.5,-86.8C110.5,-75.16 110.5,-59.55 110.5,-46.24\"/>\n",
       "<polygon fill=\"black\" stroke=\"black\" points=\"114,-46.18 110.5,-36.18 107,-46.18 114,-46.18\"/>\n",
       "<text text-anchor=\"middle\" x=\"114\" y=\"-57.8\" font-family=\"Times,serif\" font-size=\"14.00\">1</text>\n",
       "</g>\n",
       "</g>\n",
       "</svg>"
      ],
      "text/plain": [
       "<IPython.core.display.SVG object>"
      ]
     },
     "metadata": {},
     "output_type": "display_data"
    },
    {
     "data": {
      "text/markdown": [
       "#### Counts totals:\n",
       " - `SelectHubbard(2, 2)`: 1"
      ],
      "text/plain": [
       "<IPython.core.display.Markdown object>"
      ]
     },
     "metadata": {},
     "output_type": "display_data"
    }
   ],
   "source": [
    "from qualtran.resource_counting.generalizers import ignore_split_join\n",
    "black_box_select_g, black_box_select_sigma = black_box_select.call_graph(max_depth=1, generalizer=ignore_split_join)\n",
    "show_call_graph(black_box_select_g)\n",
    "show_counts_sigma(black_box_select_sigma)"
   ]
  },
  {
   "cell_type": "markdown",
   "id": "2ca2f17d",
   "metadata": {
    "cq.autogen": "BlackBoxPrepare.bloq_doc.md"
   },
   "source": [
    "## `BlackBoxPrepare`\n",
    "Provide a black-box interface to `Prepare` bloqs.\n",
    "\n",
    "This wrapper uses `Partition` to combine descriptive selection\n",
    "registers into one register named \"selection\".\n",
    "\n",
    "#### Parameters\n",
    " - `prepare`: The bloq following the `Prepare` interface to wrap. \n",
    "\n",
    "#### Registers\n",
    " - `selection`: selection register.\n",
    " - `junk`: Additional junk registers not prepared upon.\n"
   ]
  },
  {
   "cell_type": "code",
   "execution_count": 18,
   "id": "74e65985",
   "metadata": {
    "cq.autogen": "BlackBoxPrepare.bloq_doc.py"
   },
   "outputs": [],
   "source": [
    "from qualtran.bloqs.state_preparation.black_box_prepare import BlackBoxPrepare"
   ]
  },
  {
   "cell_type": "markdown",
   "id": "ced36451",
   "metadata": {
    "cq.autogen": "BlackBoxPrepare.example_instances.md"
   },
   "source": [
    "### Example Instances"
   ]
  },
  {
   "cell_type": "code",
   "execution_count": 19,
   "id": "3f65b734",
   "metadata": {
    "cq.autogen": "BlackBoxPrepare.black_box_prepare"
   },
   "outputs": [],
   "source": [
    "from qualtran.bloqs.chemistry.hubbard_model.qubitization import PrepareHubbard\n",
    "\n",
    "prepare = PrepareHubbard(2, 2, 1, 4)\n",
    "black_box_prepare = BlackBoxPrepare(prepare=prepare)"
   ]
  },
  {
   "cell_type": "markdown",
   "id": "f8f9f1dd",
   "metadata": {
    "cq.autogen": "BlackBoxPrepare.graphical_signature.md"
   },
   "source": [
    "#### Graphical Signature"
   ]
  },
  {
   "cell_type": "code",
   "execution_count": 20,
   "id": "d31d4114",
   "metadata": {
    "cq.autogen": "BlackBoxPrepare.graphical_signature.py"
   },
   "outputs": [
    {
     "data": {
      "application/vnd.jupyter.widget-view+json": {
       "model_id": "6d914832aaaf477fa313821923f3b86d",
       "version_major": 2,
       "version_minor": 0
      },
      "text/plain": [
       "HBox(children=(Output(outputs=({'output_type': 'display_data', 'data': {'text/plain': '<IPython.core.display.M…"
      ]
     },
     "metadata": {},
     "output_type": "display_data"
    }
   ],
   "source": [
    "from qualtran.drawing import show_bloqs\n",
    "show_bloqs([black_box_prepare],\n",
    "           ['`black_box_prepare`'])"
   ]
  },
  {
   "cell_type": "markdown",
   "id": "a817505d",
   "metadata": {
    "cq.autogen": "BlackBoxPrepare.call_graph.md"
   },
   "source": [
    "### Call Graph"
   ]
  },
  {
   "cell_type": "code",
   "execution_count": 21,
   "id": "0383f93f",
   "metadata": {
    "cq.autogen": "BlackBoxPrepare.call_graph.py"
   },
   "outputs": [
    {
     "data": {
      "image/svg+xml": [
       "<svg xmlns=\"http://www.w3.org/2000/svg\" xmlns:xlink=\"http://www.w3.org/1999/xlink\" width=\"181pt\" height=\"131pt\" viewBox=\"0.00 0.00 181.00 131.00\">\n",
       "<g id=\"graph0\" class=\"graph\" transform=\"scale(1 1) rotate(0) translate(4 127)\">\n",
       "<title>counts</title>\n",
       "<polygon fill=\"white\" stroke=\"transparent\" points=\"-4,4 -4,-127 177,-127 177,4 -4,4\"/>\n",
       "<!-- b0 -->\n",
       "<g id=\"node1\" class=\"node\">\n",
       "<title>b0</title>\n",
       "<polygon fill=\"none\" stroke=\"black\" points=\"155,-123 18,-123 18,-87 155,-87 155,-123\"/>\n",
       "<text text-anchor=\"start\" x=\"74\" y=\"-106.8\" font-family=\"Times,serif\" font-size=\"14.00\">Prep</text>\n",
       "<text text-anchor=\"start\" x=\"26\" y=\"-96\" font-family=\"monospace\" font-size=\"10.00\">prepare=PrepareH ...</text>\n",
       "</g>\n",
       "<!-- b1 -->\n",
       "<g id=\"node2\" class=\"node\">\n",
       "<title>b1</title>\n",
       "<polygon fill=\"none\" stroke=\"black\" points=\"173,-36 0,-36 0,0 173,0 173,-36\"/>\n",
       "<text text-anchor=\"start\" x=\"42\" y=\"-19.8\" font-family=\"Times,serif\" font-size=\"14.00\">PrepareHubbard</text>\n",
       "<text text-anchor=\"start\" x=\"8\" y=\"-9\" font-family=\"monospace\" font-size=\"10.00\">x_dim=2, y_dim=2, t=1, u=4</text>\n",
       "</g>\n",
       "<!-- b0&#45;&gt;b1 -->\n",
       "<g id=\"edge1\" class=\"edge\">\n",
       "<title>b0-&gt;b1</title>\n",
       "<path fill=\"none\" stroke=\"black\" d=\"M86.5,-86.8C86.5,-75.16 86.5,-59.55 86.5,-46.24\"/>\n",
       "<polygon fill=\"black\" stroke=\"black\" points=\"90,-46.18 86.5,-36.18 83,-46.18 90,-46.18\"/>\n",
       "<text text-anchor=\"middle\" x=\"90\" y=\"-57.8\" font-family=\"Times,serif\" font-size=\"14.00\">1</text>\n",
       "</g>\n",
       "</g>\n",
       "</svg>"
      ],
      "text/plain": [
       "<IPython.core.display.SVG object>"
      ]
     },
     "metadata": {},
     "output_type": "display_data"
    },
    {
     "data": {
      "text/markdown": [
       "#### Counts totals:\n",
       " - `PrepareHubbard`: 1"
      ],
      "text/plain": [
       "<IPython.core.display.Markdown object>"
      ]
     },
     "metadata": {},
     "output_type": "display_data"
    }
   ],
   "source": [
    "from qualtran.resource_counting.generalizers import ignore_split_join\n",
    "black_box_prepare_g, black_box_prepare_sigma = black_box_prepare.call_graph(max_depth=1, generalizer=ignore_split_join)\n",
    "show_call_graph(black_box_prepare_g)\n",
    "show_counts_sigma(black_box_prepare_sigma)"
   ]
  }
 ],
 "metadata": {
  "kernelspec": {
   "display_name": "Python 3",
   "language": "python",
   "name": "python3"
  },
  "language_info": {
   "codemirror_mode": {
    "name": "ipython",
    "version": 3
   },
   "file_extension": ".py",
   "mimetype": "text/x-python",
   "name": "python",
   "nbconvert_exporter": "python",
   "pygments_lexer": "ipython3",
   "version": "3.11.8"
  },
  "widgets": {
   "application/vnd.jupyter.widget-state+json": {
    "state": {
     "07415548b63f45e7a90e794d2ecd8602": {
      "model_module": "@jupyter-widgets/base",
      "model_module_version": "2.0.0",
      "model_name": "LayoutModel",
      "state": {
       "_model_module": "@jupyter-widgets/base",
       "_model_module_version": "2.0.0",
       "_model_name": "LayoutModel",
       "_view_count": null,
       "_view_module": "@jupyter-widgets/base",
       "_view_module_version": "2.0.0",
       "_view_name": "LayoutView",
       "align_content": null,
       "align_items": null,
       "align_self": null,
       "border_bottom": null,
       "border_left": null,
       "border_right": null,
       "border_top": null,
       "bottom": null,
       "display": null,
       "flex": null,
       "flex_flow": null,
       "grid_area": null,
       "grid_auto_columns": null,
       "grid_auto_flow": null,
       "grid_auto_rows": null,
       "grid_column": null,
       "grid_gap": null,
       "grid_row": null,
       "grid_template_areas": null,
       "grid_template_columns": null,
       "grid_template_rows": null,
       "height": null,
       "justify_content": null,
       "justify_items": null,
       "left": null,
       "margin": null,
       "max_height": null,
       "max_width": null,
       "min_height": null,
       "min_width": null,
       "object_fit": null,
       "object_position": null,
       "order": null,
       "overflow": null,
       "padding": null,
       "right": null,
       "top": null,
       "visibility": null,
       "width": null
      }
     },
     "102c7f9fe17d4313971d927d733c9807": {
      "model_module": "@jupyter-widgets/controls",
      "model_module_version": "2.0.0",
      "model_name": "HBoxModel",
      "state": {
       "_dom_classes": [],
       "_model_module": "@jupyter-widgets/controls",
       "_model_module_version": "2.0.0",
       "_model_name": "HBoxModel",
       "_view_count": null,
       "_view_module": "@jupyter-widgets/controls",
       "_view_module_version": "2.0.0",
       "_view_name": "HBoxView",
       "box_style": "",
       "children": [
        "IPY_MODEL_9a2c646ced584061ac64f394fe0ca77b"
       ],
       "layout": "IPY_MODEL_07415548b63f45e7a90e794d2ecd8602",
       "tabbable": null,
       "tooltip": null
      }
     },
     "17dfbfc90b054cb2bb6073d6e1c07321": {
      "model_module": "@jupyter-widgets/output",
      "model_module_version": "1.0.0",
      "model_name": "OutputModel",
      "state": {
       "_dom_classes": [],
       "_model_module": "@jupyter-widgets/output",
       "_model_module_version": "1.0.0",
       "_model_name": "OutputModel",
       "_view_count": null,
       "_view_module": "@jupyter-widgets/output",
       "_view_module_version": "1.0.0",
       "_view_name": "OutputView",
       "layout": "IPY_MODEL_d61b7992b4c1406780b269eeaae3b6e2",
       "msg_id": "",
       "outputs": [
        {
         "data": {
          "text/markdown": "`lcu_block`",
          "text/plain": "<IPython.core.display.Markdown object>"
         },
         "metadata": {},
         "output_type": "display_data"
        },
        {
         "data": {
          "image/svg+xml": "<svg xmlns=\"http://www.w3.org/2000/svg\" xmlns:xlink=\"http://www.w3.org/1999/xlink\" width=\"227pt\" height=\"530pt\" viewBox=\"0.00 0.00 227.00 530.00\">\n<g id=\"graph0\" class=\"graph\" transform=\"scale(1 1) rotate(0) translate(4 526)\">\n<title>my_graph</title>\n<polygon fill=\"white\" stroke=\"transparent\" points=\"-4,4 -4,-526 223,-526 223,4 -4,4\"/>\n<!-- U_G11 -->\n<g id=\"node1\" class=\"node\">\n<title>U_G11</title>\n<text text-anchor=\"middle\" x=\"27\" y=\"-500.3\" font-family=\"Times,serif\" font-size=\"14.00\">U</text>\n</g>\n<!-- LCUBlockEncoding -->\n<g id=\"node11\" class=\"node\">\n<title>LCUBlockEncoding</title>\n<polygon fill=\"none\" stroke=\"black\" points=\"91.5,-366 91.5,-383 128.5,-383 128.5,-366 91.5,-366\"/>\n<text text-anchor=\"start\" x=\"99.5\" y=\"-372\" font-family=\"Times,serif\" font-size=\"10.00\">B[H]</text>\n<polygon fill=\"none\" stroke=\"black\" points=\"91.5,-345 91.5,-366 128.5,-366 128.5,-345 91.5,-345\"/>\n<text text-anchor=\"start\" x=\"105\" y=\"-351.8\" font-family=\"Times,serif\" font-size=\"14.00\">U</text>\n<polygon fill=\"none\" stroke=\"black\" points=\"91.5,-324 91.5,-345 128.5,-345 128.5,-324 91.5,-324\"/>\n<text text-anchor=\"start\" x=\"105\" y=\"-330.8\" font-family=\"Times,serif\" font-size=\"14.00\">V</text>\n<polygon fill=\"none\" stroke=\"black\" points=\"91.5,-303 91.5,-324 128.5,-324 128.5,-303 91.5,-303\"/>\n<text text-anchor=\"start\" x=\"99.5\" y=\"-309.8\" font-family=\"Times,serif\" font-size=\"14.00\">p_x</text>\n<polygon fill=\"none\" stroke=\"black\" points=\"91.5,-282 91.5,-303 128.5,-303 128.5,-282 91.5,-282\"/>\n<text text-anchor=\"start\" x=\"99.5\" y=\"-288.8\" font-family=\"Times,serif\" font-size=\"14.00\">p_y</text>\n<polygon fill=\"none\" stroke=\"black\" points=\"91.5,-261 91.5,-282 128.5,-282 128.5,-261 91.5,-261\"/>\n<text text-anchor=\"start\" x=\"95\" y=\"-267.8\" font-family=\"Times,serif\" font-size=\"14.00\">alpha</text>\n<polygon fill=\"none\" stroke=\"black\" points=\"91.5,-240 91.5,-261 128.5,-261 128.5,-240 91.5,-240\"/>\n<text text-anchor=\"start\" x=\"99.5\" y=\"-246.8\" font-family=\"Times,serif\" font-size=\"14.00\">q_x</text>\n<polygon fill=\"none\" stroke=\"black\" points=\"91.5,-219 91.5,-240 128.5,-240 128.5,-219 91.5,-219\"/>\n<text text-anchor=\"start\" x=\"99.5\" y=\"-225.8\" font-family=\"Times,serif\" font-size=\"14.00\">q_y</text>\n<polygon fill=\"none\" stroke=\"black\" points=\"91.5,-198 91.5,-219 128.5,-219 128.5,-198 91.5,-198\"/>\n<text text-anchor=\"start\" x=\"98.5\" y=\"-204.8\" font-family=\"Times,serif\" font-size=\"14.00\">beta</text>\n<polygon fill=\"none\" stroke=\"black\" points=\"91.5,-177 91.5,-198 128.5,-198 128.5,-177 91.5,-177\"/>\n<text text-anchor=\"start\" x=\"96\" y=\"-183.8\" font-family=\"Times,serif\" font-size=\"14.00\">temp</text>\n<polygon fill=\"none\" stroke=\"black\" points=\"91.5,-156 91.5,-177 128.5,-177 128.5,-156 91.5,-156\"/>\n<text text-anchor=\"start\" x=\"94.5\" y=\"-162.8\" font-family=\"Times,serif\" font-size=\"14.00\">target</text>\n</g>\n<!-- U_G11&#45;&gt;LCUBlockEncoding -->\n<g id=\"edge1\" class=\"edge\">\n<title>U_G11:e-&gt;LCUBlockEncoding:w</title>\n<path fill=\"none\" stroke=\"black\" d=\"M54,-504C87.11,-504 58.51,-362.86 88.72,-356.24\"/>\n<ellipse fill=\"black\" stroke=\"black\" cx=\"90.01\" cy=\"-356.1\" rx=\"1\" ry=\"1\"/>\n<text text-anchor=\"middle\" x=\"72.5\" y=\"-450\" font-family=\"Times,serif\" font-size=\"10.00\">1</text>\n</g>\n<!-- V_G23 -->\n<g id=\"node2\" class=\"node\">\n<title>V_G23</title>\n<text text-anchor=\"middle\" x=\"27\" y=\"-446.3\" font-family=\"Times,serif\" font-size=\"14.00\">V</text>\n</g>\n<!-- V_G23&#45;&gt;LCUBlockEncoding -->\n<g id=\"edge2\" class=\"edge\">\n<title>V_G23:e-&gt;LCUBlockEncoding:w</title>\n<path fill=\"none\" stroke=\"black\" d=\"M54,-450C80.11,-450 65.03,-341.2 88.89,-335.25\"/>\n<ellipse fill=\"black\" stroke=\"black\" cx=\"90.01\" cy=\"-335.12\" rx=\"1\" ry=\"1\"/>\n<text text-anchor=\"middle\" x=\"72.5\" y=\"-398\" font-family=\"Times,serif\" font-size=\"10.00\">1</text>\n</g>\n<!-- p_x_G28 -->\n<g id=\"node3\" class=\"node\">\n<title>p_x_G28</title>\n<text text-anchor=\"middle\" x=\"27\" y=\"-392.3\" font-family=\"Times,serif\" font-size=\"14.00\">p_x</text>\n</g>\n<!-- p_x_G28&#45;&gt;LCUBlockEncoding -->\n<g id=\"edge3\" class=\"edge\">\n<title>p_x_G28:e-&gt;LCUBlockEncoding:w</title>\n<path fill=\"none\" stroke=\"black\" d=\"M54,-396C93.2,-396 52.66,-317.17 88.75,-314.09\"/>\n<ellipse fill=\"black\" stroke=\"black\" cx=\"90\" cy=\"-314.04\" rx=\"1\" ry=\"1\"/>\n<text text-anchor=\"middle\" x=\"72.5\" y=\"-381\" font-family=\"Times,serif\" font-size=\"10.00\">2</text>\n</g>\n<!-- p_y_G15 -->\n<g id=\"node4\" class=\"node\">\n<title>p_y_G15</title>\n<text text-anchor=\"middle\" x=\"27\" y=\"-338.3\" font-family=\"Times,serif\" font-size=\"14.00\">p_y</text>\n</g>\n<!-- p_y_G15&#45;&gt;LCUBlockEncoding -->\n<g id=\"edge4\" class=\"edge\">\n<title>p_y_G15:e-&gt;LCUBlockEncoding:w</title>\n<path fill=\"none\" stroke=\"black\" d=\"M54,-342C80.54,-342 64.64,-295.64 88.86,-293.11\"/>\n<ellipse fill=\"black\" stroke=\"black\" cx=\"90\" cy=\"-293.05\" rx=\"1\" ry=\"1\"/>\n<text text-anchor=\"middle\" x=\"72.5\" y=\"-321\" font-family=\"Times,serif\" font-size=\"10.00\">2</text>\n</g>\n<!-- alpha_G26 -->\n<g id=\"node5\" class=\"node\">\n<title>alpha_G26</title>\n<text text-anchor=\"middle\" x=\"27\" y=\"-284.3\" font-family=\"Times,serif\" font-size=\"14.00\">alpha</text>\n</g>\n<!-- alpha_G26&#45;&gt;LCUBlockEncoding -->\n<g id=\"edge5\" class=\"edge\">\n<title>alpha_G26:e-&gt;LCUBlockEncoding:w</title>\n<path fill=\"none\" stroke=\"black\" d=\"M54,-288C71.22,-288 72.97,-273.23 88.98,-272.07\"/>\n<ellipse fill=\"black\" stroke=\"black\" cx=\"90\" cy=\"-272.04\" rx=\"1\" ry=\"1\"/>\n<text text-anchor=\"middle\" x=\"72.5\" y=\"-283\" font-family=\"Times,serif\" font-size=\"10.00\">1</text>\n</g>\n<!-- q_x_G19 -->\n<g id=\"node6\" class=\"node\">\n<title>q_x_G19</title>\n<text text-anchor=\"middle\" x=\"27\" y=\"-230.3\" font-family=\"Times,serif\" font-size=\"14.00\">q_x</text>\n</g>\n<!-- q_x_G19&#45;&gt;LCUBlockEncoding -->\n<g id=\"edge6\" class=\"edge\">\n<title>q_x_G19:e-&gt;LCUBlockEncoding:w</title>\n<path fill=\"none\" stroke=\"black\" d=\"M54,-234C71.22,-234 72.97,-248.77 88.98,-249.93\"/>\n<ellipse fill=\"black\" stroke=\"black\" cx=\"90\" cy=\"-249.96\" rx=\"1\" ry=\"1\"/>\n<text text-anchor=\"middle\" x=\"72.5\" y=\"-245\" font-family=\"Times,serif\" font-size=\"10.00\">2</text>\n</g>\n<!-- q_y_G14 -->\n<g id=\"node7\" class=\"node\">\n<title>q_y_G14</title>\n<text text-anchor=\"middle\" x=\"27\" y=\"-176.3\" font-family=\"Times,serif\" font-size=\"14.00\">q_y</text>\n</g>\n<!-- q_y_G14&#45;&gt;LCUBlockEncoding -->\n<g id=\"edge7\" class=\"edge\">\n<title>q_y_G14:e-&gt;LCUBlockEncoding:w</title>\n<path fill=\"none\" stroke=\"black\" d=\"M54,-180C80.54,-180 64.64,-226.36 88.86,-228.89\"/>\n<ellipse fill=\"black\" stroke=\"black\" cx=\"90\" cy=\"-228.95\" rx=\"1\" ry=\"1\"/>\n<text text-anchor=\"middle\" x=\"72.5\" y=\"-208\" font-family=\"Times,serif\" font-size=\"10.00\">2</text>\n</g>\n<!-- beta_G4 -->\n<g id=\"node8\" class=\"node\">\n<title>beta_G4</title>\n<text text-anchor=\"middle\" x=\"27\" y=\"-122.3\" font-family=\"Times,serif\" font-size=\"14.00\">beta</text>\n</g>\n<!-- beta_G4&#45;&gt;LCUBlockEncoding -->\n<g id=\"edge8\" class=\"edge\">\n<title>beta_G4:e-&gt;LCUBlockEncoding:w</title>\n<path fill=\"none\" stroke=\"black\" d=\"M54,-126C93.2,-126 52.66,-204.83 88.75,-207.91\"/>\n<ellipse fill=\"black\" stroke=\"black\" cx=\"90\" cy=\"-207.96\" rx=\"1\" ry=\"1\"/>\n<text text-anchor=\"middle\" x=\"72.5\" y=\"-193\" font-family=\"Times,serif\" font-size=\"10.00\">1</text>\n</g>\n<!-- temp_G20 -->\n<g id=\"node9\" class=\"node\">\n<title>temp_G20</title>\n<text text-anchor=\"middle\" x=\"27\" y=\"-68.3\" font-family=\"Times,serif\" font-size=\"14.00\">temp</text>\n</g>\n<!-- temp_G20&#45;&gt;LCUBlockEncoding -->\n<g id=\"edge9\" class=\"edge\">\n<title>temp_G20:e-&gt;LCUBlockEncoding:w</title>\n<path fill=\"none\" stroke=\"black\" d=\"M54,-72C80.11,-72 65.03,-180.8 88.89,-186.75\"/>\n<ellipse fill=\"black\" stroke=\"black\" cx=\"90.01\" cy=\"-186.88\" rx=\"1\" ry=\"1\"/>\n<text text-anchor=\"middle\" x=\"72.5\" y=\"-135\" font-family=\"Times,serif\" font-size=\"10.00\">2</text>\n</g>\n<!-- target_G21 -->\n<g id=\"node10\" class=\"node\">\n<title>target_G21</title>\n<text text-anchor=\"middle\" x=\"27\" y=\"-14.3\" font-family=\"Times,serif\" font-size=\"14.00\">target</text>\n</g>\n<!-- target_G21&#45;&gt;LCUBlockEncoding -->\n<g id=\"edge10\" class=\"edge\">\n<title>target_G21:e-&gt;LCUBlockEncoding:w</title>\n<path fill=\"none\" stroke=\"black\" d=\"M54,-18C87.11,-18 58.51,-159.14 88.72,-165.76\"/>\n<ellipse fill=\"black\" stroke=\"black\" cx=\"90.01\" cy=\"-165.9\" rx=\"1\" ry=\"1\"/>\n<text text-anchor=\"middle\" x=\"72.5\" y=\"-113\" font-family=\"Times,serif\" font-size=\"10.00\">18</text>\n</g>\n<!-- U_G10 -->\n<g id=\"node12\" class=\"node\">\n<title>U_G10</title>\n<text text-anchor=\"middle\" x=\"192\" y=\"-500.3\" font-family=\"Times,serif\" font-size=\"14.00\">U</text>\n</g>\n<!-- LCUBlockEncoding&#45;&gt;U_G10 -->\n<g id=\"edge11\" class=\"edge\">\n<title>LCUBlockEncoding:e-&gt;U_G10:w</title>\n<path fill=\"none\" stroke=\"black\" d=\"M128,-356C161.11,-356 132.51,-497.14 162.72,-503.76\"/>\n<ellipse fill=\"black\" stroke=\"black\" cx=\"164.01\" cy=\"-503.9\" rx=\"1\" ry=\"1\"/>\n<text text-anchor=\"middle\" x=\"146.5\" y=\"-450\" font-family=\"Times,serif\" font-size=\"10.00\">1</text>\n</g>\n<!-- V_G13 -->\n<g id=\"node13\" class=\"node\">\n<title>V_G13</title>\n<text text-anchor=\"middle\" x=\"192\" y=\"-446.3\" font-family=\"Times,serif\" font-size=\"14.00\">V</text>\n</g>\n<!-- LCUBlockEncoding&#45;&gt;V_G13 -->\n<g id=\"edge12\" class=\"edge\">\n<title>LCUBlockEncoding:e-&gt;V_G13:w</title>\n<path fill=\"none\" stroke=\"black\" d=\"M128,-335C154.11,-335 139.03,-443.8 162.89,-449.75\"/>\n<ellipse fill=\"black\" stroke=\"black\" cx=\"164.01\" cy=\"-449.88\" rx=\"1\" ry=\"1\"/>\n<text text-anchor=\"middle\" x=\"146.5\" y=\"-398\" font-family=\"Times,serif\" font-size=\"10.00\">1</text>\n</g>\n<!-- p_x_G9 -->\n<g id=\"node14\" class=\"node\">\n<title>p_x_G9</title>\n<text text-anchor=\"middle\" x=\"192\" y=\"-392.3\" font-family=\"Times,serif\" font-size=\"14.00\">p_x</text>\n</g>\n<!-- LCUBlockEncoding&#45;&gt;p_x_G9 -->\n<g id=\"edge13\" class=\"edge\">\n<title>LCUBlockEncoding:e-&gt;p_x_G9:w</title>\n<path fill=\"none\" stroke=\"black\" d=\"M128,-314C167.2,-314 126.66,-392.83 162.75,-395.91\"/>\n<ellipse fill=\"black\" stroke=\"black\" cx=\"164\" cy=\"-395.96\" rx=\"1\" ry=\"1\"/>\n<text text-anchor=\"middle\" x=\"146.5\" y=\"-381\" font-family=\"Times,serif\" font-size=\"10.00\">2</text>\n</g>\n<!-- p_y_G27 -->\n<g id=\"node15\" class=\"node\">\n<title>p_y_G27</title>\n<text text-anchor=\"middle\" x=\"192\" y=\"-338.3\" font-family=\"Times,serif\" font-size=\"14.00\">p_y</text>\n</g>\n<!-- LCUBlockEncoding&#45;&gt;p_y_G27 -->\n<g id=\"edge14\" class=\"edge\">\n<title>LCUBlockEncoding:e-&gt;p_y_G27:w</title>\n<path fill=\"none\" stroke=\"black\" d=\"M128,-293C154.54,-293 138.64,-339.36 162.86,-341.89\"/>\n<ellipse fill=\"black\" stroke=\"black\" cx=\"164\" cy=\"-341.95\" rx=\"1\" ry=\"1\"/>\n<text text-anchor=\"middle\" x=\"146.5\" y=\"-321\" font-family=\"Times,serif\" font-size=\"10.00\">2</text>\n</g>\n<!-- alpha_G16 -->\n<g id=\"node16\" class=\"node\">\n<title>alpha_G16</title>\n<text text-anchor=\"middle\" x=\"192\" y=\"-284.3\" font-family=\"Times,serif\" font-size=\"14.00\">alpha</text>\n</g>\n<!-- LCUBlockEncoding&#45;&gt;alpha_G16 -->\n<g id=\"edge15\" class=\"edge\">\n<title>LCUBlockEncoding:e-&gt;alpha_G16:w</title>\n<path fill=\"none\" stroke=\"black\" d=\"M128,-272C145.22,-272 146.97,-286.77 162.98,-287.93\"/>\n<ellipse fill=\"black\" stroke=\"black\" cx=\"164\" cy=\"-287.96\" rx=\"1\" ry=\"1\"/>\n<text text-anchor=\"middle\" x=\"146.5\" y=\"-283\" font-family=\"Times,serif\" font-size=\"10.00\">1</text>\n</g>\n<!-- q_x_G25 -->\n<g id=\"node17\" class=\"node\">\n<title>q_x_G25</title>\n<text text-anchor=\"middle\" x=\"192\" y=\"-230.3\" font-family=\"Times,serif\" font-size=\"14.00\">q_x</text>\n</g>\n<!-- LCUBlockEncoding&#45;&gt;q_x_G25 -->\n<g id=\"edge16\" class=\"edge\">\n<title>LCUBlockEncoding:e-&gt;q_x_G25:w</title>\n<path fill=\"none\" stroke=\"black\" d=\"M128,-250C145.22,-250 146.97,-235.23 162.98,-234.07\"/>\n<ellipse fill=\"black\" stroke=\"black\" cx=\"164\" cy=\"-234.04\" rx=\"1\" ry=\"1\"/>\n<text text-anchor=\"middle\" x=\"146.5\" y=\"-245\" font-family=\"Times,serif\" font-size=\"10.00\">2</text>\n</g>\n<!-- q_y_G1 -->\n<g id=\"node18\" class=\"node\">\n<title>q_y_G1</title>\n<text text-anchor=\"middle\" x=\"192\" y=\"-176.3\" font-family=\"Times,serif\" font-size=\"14.00\">q_y</text>\n</g>\n<!-- LCUBlockEncoding&#45;&gt;q_y_G1 -->\n<g id=\"edge17\" class=\"edge\">\n<title>LCUBlockEncoding:e-&gt;q_y_G1:w</title>\n<path fill=\"none\" stroke=\"black\" d=\"M128,-229C154.54,-229 138.64,-182.64 162.86,-180.11\"/>\n<ellipse fill=\"black\" stroke=\"black\" cx=\"164\" cy=\"-180.05\" rx=\"1\" ry=\"1\"/>\n<text text-anchor=\"middle\" x=\"146.5\" y=\"-208\" font-family=\"Times,serif\" font-size=\"10.00\">2</text>\n</g>\n<!-- beta_G18 -->\n<g id=\"node19\" class=\"node\">\n<title>beta_G18</title>\n<text text-anchor=\"middle\" x=\"192\" y=\"-122.3\" font-family=\"Times,serif\" font-size=\"14.00\">beta</text>\n</g>\n<!-- LCUBlockEncoding&#45;&gt;beta_G18 -->\n<g id=\"edge18\" class=\"edge\">\n<title>LCUBlockEncoding:e-&gt;beta_G18:w</title>\n<path fill=\"none\" stroke=\"black\" d=\"M128,-208C167.2,-208 126.66,-129.17 162.75,-126.09\"/>\n<ellipse fill=\"black\" stroke=\"black\" cx=\"164\" cy=\"-126.04\" rx=\"1\" ry=\"1\"/>\n<text text-anchor=\"middle\" x=\"146.5\" y=\"-193\" font-family=\"Times,serif\" font-size=\"10.00\">1</text>\n</g>\n<!-- temp_G8 -->\n<g id=\"node20\" class=\"node\">\n<title>temp_G8</title>\n<text text-anchor=\"middle\" x=\"192\" y=\"-68.3\" font-family=\"Times,serif\" font-size=\"14.00\">temp</text>\n</g>\n<!-- LCUBlockEncoding&#45;&gt;temp_G8 -->\n<g id=\"edge19\" class=\"edge\">\n<title>LCUBlockEncoding:e-&gt;temp_G8:w</title>\n<path fill=\"none\" stroke=\"black\" d=\"M128,-187C154.11,-187 139.03,-78.2 162.89,-72.25\"/>\n<ellipse fill=\"black\" stroke=\"black\" cx=\"164.01\" cy=\"-72.12\" rx=\"1\" ry=\"1\"/>\n<text text-anchor=\"middle\" x=\"146.5\" y=\"-135\" font-family=\"Times,serif\" font-size=\"10.00\">2</text>\n</g>\n<!-- target_G12 -->\n<g id=\"node21\" class=\"node\">\n<title>target_G12</title>\n<text text-anchor=\"middle\" x=\"192\" y=\"-14.3\" font-family=\"Times,serif\" font-size=\"14.00\">target</text>\n</g>\n<!-- LCUBlockEncoding&#45;&gt;target_G12 -->\n<g id=\"edge20\" class=\"edge\">\n<title>LCUBlockEncoding:e-&gt;target_G12:w</title>\n<path fill=\"none\" stroke=\"black\" d=\"M128,-166C161.11,-166 132.51,-24.86 162.72,-18.24\"/>\n<ellipse fill=\"black\" stroke=\"black\" cx=\"164.01\" cy=\"-18.1\" rx=\"1\" ry=\"1\"/>\n<text text-anchor=\"middle\" x=\"146.5\" y=\"-113\" font-family=\"Times,serif\" font-size=\"10.00\">18</text>\n</g>\n</g>\n</svg>",
          "text/plain": "<IPython.core.display.SVG object>"
         },
         "metadata": {},
         "output_type": "display_data"
        }
       ],
       "tabbable": null,
       "tooltip": null
      }
     },
     "310215a1c4584c04b256e9a3f04268c7": {
      "model_module": "@jupyter-widgets/output",
      "model_module_version": "1.0.0",
      "model_name": "OutputModel",
      "state": {
       "_dom_classes": [],
       "_model_module": "@jupyter-widgets/output",
       "_model_module_version": "1.0.0",
       "_model_name": "OutputModel",
       "_view_count": null,
       "_view_module": "@jupyter-widgets/output",
       "_view_module_version": "1.0.0",
       "_view_name": "OutputView",
       "layout": "IPY_MODEL_aba5c51329e4464bac578a37cabb74ba",
       "msg_id": "",
       "outputs": [
        {
         "data": {
          "text/markdown": "`select_block`",
          "text/plain": "<IPython.core.display.Markdown object>"
         },
         "metadata": {},
         "output_type": "display_data"
        },
        {
         "data": {
          "image/svg+xml": "<svg xmlns=\"http://www.w3.org/2000/svg\" xmlns:xlink=\"http://www.w3.org/1999/xlink\" width=\"227pt\" height=\"476pt\" viewBox=\"0.00 0.00 227.00 476.00\">\n<g id=\"graph0\" class=\"graph\" transform=\"scale(1 1) rotate(0) translate(4 472)\">\n<title>my_graph</title>\n<polygon fill=\"white\" stroke=\"transparent\" points=\"-4,4 -4,-472 223,-472 223,4 -4,4\"/>\n<!-- U_G8 -->\n<g id=\"node1\" class=\"node\">\n<title>U_G8</title>\n<text text-anchor=\"middle\" x=\"27\" y=\"-446.3\" font-family=\"Times,serif\" font-size=\"14.00\">U</text>\n</g>\n<!-- SelectBlockEncoding -->\n<g id=\"node10\" class=\"node\">\n<title>SelectBlockEncoding</title>\n<polygon fill=\"none\" stroke=\"black\" points=\"91.5,-329 91.5,-346 128.5,-346 128.5,-329 91.5,-329\"/>\n<text text-anchor=\"start\" x=\"99.5\" y=\"-335\" font-family=\"Times,serif\" font-size=\"10.00\">B[H]</text>\n<polygon fill=\"none\" stroke=\"black\" points=\"91.5,-308 91.5,-329 128.5,-329 128.5,-308 91.5,-308\"/>\n<text text-anchor=\"start\" x=\"105\" y=\"-314.8\" font-family=\"Times,serif\" font-size=\"14.00\">U</text>\n<polygon fill=\"none\" stroke=\"black\" points=\"91.5,-287 91.5,-308 128.5,-308 128.5,-287 91.5,-287\"/>\n<text text-anchor=\"start\" x=\"105\" y=\"-293.8\" font-family=\"Times,serif\" font-size=\"14.00\">V</text>\n<polygon fill=\"none\" stroke=\"black\" points=\"91.5,-266 91.5,-287 128.5,-287 128.5,-266 91.5,-266\"/>\n<text text-anchor=\"start\" x=\"99.5\" y=\"-272.8\" font-family=\"Times,serif\" font-size=\"14.00\">p_x</text>\n<polygon fill=\"none\" stroke=\"black\" points=\"91.5,-245 91.5,-266 128.5,-266 128.5,-245 91.5,-245\"/>\n<text text-anchor=\"start\" x=\"99.5\" y=\"-251.8\" font-family=\"Times,serif\" font-size=\"14.00\">p_y</text>\n<polygon fill=\"none\" stroke=\"black\" points=\"91.5,-224 91.5,-245 128.5,-245 128.5,-224 91.5,-224\"/>\n<text text-anchor=\"start\" x=\"95\" y=\"-230.8\" font-family=\"Times,serif\" font-size=\"14.00\">alpha</text>\n<polygon fill=\"none\" stroke=\"black\" points=\"91.5,-203 91.5,-224 128.5,-224 128.5,-203 91.5,-203\"/>\n<text text-anchor=\"start\" x=\"99.5\" y=\"-209.8\" font-family=\"Times,serif\" font-size=\"14.00\">q_x</text>\n<polygon fill=\"none\" stroke=\"black\" points=\"91.5,-182 91.5,-203 128.5,-203 128.5,-182 91.5,-182\"/>\n<text text-anchor=\"start\" x=\"99.5\" y=\"-188.8\" font-family=\"Times,serif\" font-size=\"14.00\">q_y</text>\n<polygon fill=\"none\" stroke=\"black\" points=\"91.5,-161 91.5,-182 128.5,-182 128.5,-161 91.5,-161\"/>\n<text text-anchor=\"start\" x=\"98.5\" y=\"-167.8\" font-family=\"Times,serif\" font-size=\"14.00\">beta</text>\n<polygon fill=\"none\" stroke=\"black\" points=\"91.5,-140 91.5,-161 128.5,-161 128.5,-140 91.5,-140\"/>\n<text text-anchor=\"start\" x=\"94.5\" y=\"-146.8\" font-family=\"Times,serif\" font-size=\"14.00\">target</text>\n</g>\n<!-- U_G8&#45;&gt;SelectBlockEncoding -->\n<g id=\"edge1\" class=\"edge\">\n<title>U_G8:e-&gt;SelectBlockEncoding:w</title>\n<path fill=\"none\" stroke=\"black\" d=\"M54,-450C83.54,-450 61.82,-325.07 88.96,-319.21\"/>\n<ellipse fill=\"black\" stroke=\"black\" cx=\"90.01\" cy=\"-319.1\" rx=\"1\" ry=\"1\"/>\n<text text-anchor=\"middle\" x=\"72.5\" y=\"-395\" font-family=\"Times,serif\" font-size=\"10.00\">1</text>\n</g>\n<!-- V_G20 -->\n<g id=\"node2\" class=\"node\">\n<title>V_G20</title>\n<text text-anchor=\"middle\" x=\"27\" y=\"-392.3\" font-family=\"Times,serif\" font-size=\"14.00\">V</text>\n</g>\n<!-- V_G20&#45;&gt;SelectBlockEncoding -->\n<g id=\"edge2\" class=\"edge\">\n<title>V_G20:e-&gt;SelectBlockEncoding:w</title>\n<path fill=\"none\" stroke=\"black\" d=\"M54,-396C76.55,-396 68.29,-304.03 88.91,-298.28\"/>\n<ellipse fill=\"black\" stroke=\"black\" cx=\"90.01\" cy=\"-298.13\" rx=\"1\" ry=\"1\"/>\n<text text-anchor=\"middle\" x=\"72.5\" y=\"-352\" font-family=\"Times,serif\" font-size=\"10.00\">1</text>\n</g>\n<!-- p_x_G26 -->\n<g id=\"node3\" class=\"node\">\n<title>p_x_G26</title>\n<text text-anchor=\"middle\" x=\"27\" y=\"-338.3\" font-family=\"Times,serif\" font-size=\"14.00\">p_x</text>\n</g>\n<!-- p_x_G26&#45;&gt;SelectBlockEncoding -->\n<g id=\"edge3\" class=\"edge\">\n<title>p_x_G26:e-&gt;SelectBlockEncoding:w</title>\n<path fill=\"none\" stroke=\"black\" d=\"M54,-342C86.46,-342 59.11,-280.01 88.76,-277.11\"/>\n<ellipse fill=\"black\" stroke=\"black\" cx=\"90\" cy=\"-277.05\" rx=\"1\" ry=\"1\"/>\n<text text-anchor=\"middle\" x=\"72.5\" y=\"-318\" font-family=\"Times,serif\" font-size=\"10.00\">2</text>\n</g>\n<!-- p_y_G13 -->\n<g id=\"node4\" class=\"node\">\n<title>p_y_G13</title>\n<text text-anchor=\"middle\" x=\"27\" y=\"-284.3\" font-family=\"Times,serif\" font-size=\"14.00\">p_y</text>\n</g>\n<!-- p_y_G13&#45;&gt;SelectBlockEncoding -->\n<g id=\"edge4\" class=\"edge\">\n<title>p_y_G13:e-&gt;SelectBlockEncoding:w</title>\n<path fill=\"none\" stroke=\"black\" d=\"M54,-288C74.89,-288 69.72,-258.45 88.58,-256.14\"/>\n<ellipse fill=\"black\" stroke=\"black\" cx=\"90\" cy=\"-256.06\" rx=\"1\" ry=\"1\"/>\n<text text-anchor=\"middle\" x=\"72.5\" y=\"-275\" font-family=\"Times,serif\" font-size=\"10.00\">2</text>\n</g>\n<!-- alpha_G22 -->\n<g id=\"node5\" class=\"node\">\n<title>alpha_G22</title>\n<text text-anchor=\"middle\" x=\"27\" y=\"-230.3\" font-family=\"Times,serif\" font-size=\"14.00\">alpha</text>\n</g>\n<!-- alpha_G22&#45;&gt;SelectBlockEncoding -->\n<g id=\"edge5\" class=\"edge\">\n<title>alpha_G22:e-&gt;SelectBlockEncoding:w</title>\n<path fill=\"none\" stroke=\"black\" d=\"M54,-234C69.67,-234 74.14,-234 88.77,-234\"/>\n<ellipse fill=\"black\" stroke=\"black\" cx=\"90\" cy=\"-234\" rx=\"1\" ry=\"1\"/>\n<text text-anchor=\"middle\" x=\"72.5\" y=\"-237\" font-family=\"Times,serif\" font-size=\"10.00\">1</text>\n</g>\n<!-- q_x_G16 -->\n<g id=\"node6\" class=\"node\">\n<title>q_x_G16</title>\n<text text-anchor=\"middle\" x=\"27\" y=\"-176.3\" font-family=\"Times,serif\" font-size=\"14.00\">q_x</text>\n</g>\n<!-- q_x_G16&#45;&gt;SelectBlockEncoding -->\n<g id=\"edge6\" class=\"edge\">\n<title>q_x_G16:e-&gt;SelectBlockEncoding:w</title>\n<path fill=\"none\" stroke=\"black\" d=\"M54,-180C75.17,-180 69.47,-210.47 88.55,-212.85\"/>\n<ellipse fill=\"black\" stroke=\"black\" cx=\"90\" cy=\"-212.94\" rx=\"1\" ry=\"1\"/>\n<text text-anchor=\"middle\" x=\"72.5\" y=\"-200\" font-family=\"Times,serif\" font-size=\"10.00\">2</text>\n</g>\n<!-- q_y_G11 -->\n<g id=\"node7\" class=\"node\">\n<title>q_y_G11</title>\n<text text-anchor=\"middle\" x=\"27\" y=\"-122.3\" font-family=\"Times,serif\" font-size=\"14.00\">q_y</text>\n</g>\n<!-- q_y_G11&#45;&gt;SelectBlockEncoding -->\n<g id=\"edge7\" class=\"edge\">\n<title>q_y_G11:e-&gt;SelectBlockEncoding:w</title>\n<path fill=\"none\" stroke=\"black\" d=\"M54,-126C86.84,-126 58.75,-188.94 88.74,-191.89\"/>\n<ellipse fill=\"black\" stroke=\"black\" cx=\"90\" cy=\"-191.95\" rx=\"1\" ry=\"1\"/>\n<text text-anchor=\"middle\" x=\"72.5\" y=\"-169\" font-family=\"Times,serif\" font-size=\"10.00\">2</text>\n</g>\n<!-- beta_G3 -->\n<g id=\"node8\" class=\"node\">\n<title>beta_G3</title>\n<text text-anchor=\"middle\" x=\"27\" y=\"-68.3\" font-family=\"Times,serif\" font-size=\"14.00\">beta</text>\n</g>\n<!-- beta_G3&#45;&gt;SelectBlockEncoding -->\n<g id=\"edge8\" class=\"edge\">\n<title>beta_G3:e-&gt;SelectBlockEncoding:w</title>\n<path fill=\"none\" stroke=\"black\" d=\"M54,-72C76.75,-72 68.1,-164.91 88.89,-170.72\"/>\n<ellipse fill=\"black\" stroke=\"black\" cx=\"90.01\" cy=\"-170.87\" rx=\"1\" ry=\"1\"/>\n<text text-anchor=\"middle\" x=\"72.5\" y=\"-127\" font-family=\"Times,serif\" font-size=\"10.00\">1</text>\n</g>\n<!-- target_G18 -->\n<g id=\"node9\" class=\"node\">\n<title>target_G18</title>\n<text text-anchor=\"middle\" x=\"27\" y=\"-14.3\" font-family=\"Times,serif\" font-size=\"14.00\">target</text>\n</g>\n<!-- target_G18&#45;&gt;SelectBlockEncoding -->\n<g id=\"edge9\" class=\"edge\">\n<title>target_G18:e-&gt;SelectBlockEncoding:w</title>\n<path fill=\"none\" stroke=\"black\" d=\"M54,-18C83.75,-18 61.63,-143.89 88.95,-149.79\"/>\n<ellipse fill=\"black\" stroke=\"black\" cx=\"90.01\" cy=\"-149.9\" rx=\"1\" ry=\"1\"/>\n<text text-anchor=\"middle\" x=\"72.5\" y=\"-95\" font-family=\"Times,serif\" font-size=\"10.00\">18</text>\n</g>\n<!-- U_G7 -->\n<g id=\"node11\" class=\"node\">\n<title>U_G7</title>\n<text text-anchor=\"middle\" x=\"192\" y=\"-446.3\" font-family=\"Times,serif\" font-size=\"14.00\">U</text>\n</g>\n<!-- SelectBlockEncoding&#45;&gt;U_G7 -->\n<g id=\"edge10\" class=\"edge\">\n<title>SelectBlockEncoding:e-&gt;U_G7:w</title>\n<path fill=\"none\" stroke=\"black\" d=\"M128,-319C157.54,-319 135.82,-443.93 162.96,-449.79\"/>\n<ellipse fill=\"black\" stroke=\"black\" cx=\"164.01\" cy=\"-449.9\" rx=\"1\" ry=\"1\"/>\n<text text-anchor=\"middle\" x=\"146.5\" y=\"-395\" font-family=\"Times,serif\" font-size=\"10.00\">1</text>\n</g>\n<!-- V_G10 -->\n<g id=\"node12\" class=\"node\">\n<title>V_G10</title>\n<text text-anchor=\"middle\" x=\"192\" y=\"-392.3\" font-family=\"Times,serif\" font-size=\"14.00\">V</text>\n</g>\n<!-- SelectBlockEncoding&#45;&gt;V_G10 -->\n<g id=\"edge11\" class=\"edge\">\n<title>SelectBlockEncoding:e-&gt;V_G10:w</title>\n<path fill=\"none\" stroke=\"black\" d=\"M128,-298C150.55,-298 142.29,-389.97 162.91,-395.72\"/>\n<ellipse fill=\"black\" stroke=\"black\" cx=\"164.01\" cy=\"-395.87\" rx=\"1\" ry=\"1\"/>\n<text text-anchor=\"middle\" x=\"146.5\" y=\"-352\" font-family=\"Times,serif\" font-size=\"10.00\">1</text>\n</g>\n<!-- p_x_G6 -->\n<g id=\"node13\" class=\"node\">\n<title>p_x_G6</title>\n<text text-anchor=\"middle\" x=\"192\" y=\"-338.3\" font-family=\"Times,serif\" font-size=\"14.00\">p_x</text>\n</g>\n<!-- SelectBlockEncoding&#45;&gt;p_x_G6 -->\n<g id=\"edge12\" class=\"edge\">\n<title>SelectBlockEncoding:e-&gt;p_x_G6:w</title>\n<path fill=\"none\" stroke=\"black\" d=\"M128,-277C160.46,-277 133.11,-338.99 162.76,-341.89\"/>\n<ellipse fill=\"black\" stroke=\"black\" cx=\"164\" cy=\"-341.95\" rx=\"1\" ry=\"1\"/>\n<text text-anchor=\"middle\" x=\"146.5\" y=\"-318\" font-family=\"Times,serif\" font-size=\"10.00\">2</text>\n</g>\n<!-- p_y_G23 -->\n<g id=\"node14\" class=\"node\">\n<title>p_y_G23</title>\n<text text-anchor=\"middle\" x=\"192\" y=\"-284.3\" font-family=\"Times,serif\" font-size=\"14.00\">p_y</text>\n</g>\n<!-- SelectBlockEncoding&#45;&gt;p_y_G23 -->\n<g id=\"edge13\" class=\"edge\">\n<title>SelectBlockEncoding:e-&gt;p_y_G23:w</title>\n<path fill=\"none\" stroke=\"black\" d=\"M128,-256C148.89,-256 143.72,-285.55 162.58,-287.86\"/>\n<ellipse fill=\"black\" stroke=\"black\" cx=\"164\" cy=\"-287.94\" rx=\"1\" ry=\"1\"/>\n<text text-anchor=\"middle\" x=\"146.5\" y=\"-275\" font-family=\"Times,serif\" font-size=\"10.00\">2</text>\n</g>\n<!-- alpha_G14 -->\n<g id=\"node15\" class=\"node\">\n<title>alpha_G14</title>\n<text text-anchor=\"middle\" x=\"192\" y=\"-230.3\" font-family=\"Times,serif\" font-size=\"14.00\">alpha</text>\n</g>\n<!-- SelectBlockEncoding&#45;&gt;alpha_G14 -->\n<g id=\"edge14\" class=\"edge\">\n<title>SelectBlockEncoding:e-&gt;alpha_G14:w</title>\n<path fill=\"none\" stroke=\"black\" d=\"M128,-234C143.67,-234 148.14,-234 162.77,-234\"/>\n<ellipse fill=\"black\" stroke=\"black\" cx=\"164\" cy=\"-234\" rx=\"1\" ry=\"1\"/>\n<text text-anchor=\"middle\" x=\"146.5\" y=\"-237\" font-family=\"Times,serif\" font-size=\"10.00\">1</text>\n</g>\n<!-- q_x_G24 -->\n<g id=\"node16\" class=\"node\">\n<title>q_x_G24</title>\n<text text-anchor=\"middle\" x=\"192\" y=\"-176.3\" font-family=\"Times,serif\" font-size=\"14.00\">q_x</text>\n</g>\n<!-- SelectBlockEncoding&#45;&gt;q_x_G24 -->\n<g id=\"edge15\" class=\"edge\">\n<title>SelectBlockEncoding:e-&gt;q_x_G24:w</title>\n<path fill=\"none\" stroke=\"black\" d=\"M128,-213C149.17,-213 143.47,-182.53 162.55,-180.15\"/>\n<ellipse fill=\"black\" stroke=\"black\" cx=\"164\" cy=\"-180.06\" rx=\"1\" ry=\"1\"/>\n<text text-anchor=\"middle\" x=\"146.5\" y=\"-200\" font-family=\"Times,serif\" font-size=\"10.00\">2</text>\n</g>\n<!-- q_y_G2 -->\n<g id=\"node17\" class=\"node\">\n<title>q_y_G2</title>\n<text text-anchor=\"middle\" x=\"192\" y=\"-122.3\" font-family=\"Times,serif\" font-size=\"14.00\">q_y</text>\n</g>\n<!-- SelectBlockEncoding&#45;&gt;q_y_G2 -->\n<g id=\"edge16\" class=\"edge\">\n<title>SelectBlockEncoding:e-&gt;q_y_G2:w</title>\n<path fill=\"none\" stroke=\"black\" d=\"M128,-192C160.84,-192 132.75,-129.06 162.74,-126.11\"/>\n<ellipse fill=\"black\" stroke=\"black\" cx=\"164\" cy=\"-126.05\" rx=\"1\" ry=\"1\"/>\n<text text-anchor=\"middle\" x=\"146.5\" y=\"-169\" font-family=\"Times,serif\" font-size=\"10.00\">2</text>\n</g>\n<!-- beta_G15 -->\n<g id=\"node18\" class=\"node\">\n<title>beta_G15</title>\n<text text-anchor=\"middle\" x=\"192\" y=\"-68.3\" font-family=\"Times,serif\" font-size=\"14.00\">beta</text>\n</g>\n<!-- SelectBlockEncoding&#45;&gt;beta_G15 -->\n<g id=\"edge17\" class=\"edge\">\n<title>SelectBlockEncoding:e-&gt;beta_G15:w</title>\n<path fill=\"none\" stroke=\"black\" d=\"M128,-171C150.75,-171 142.1,-78.09 162.89,-72.28\"/>\n<ellipse fill=\"black\" stroke=\"black\" cx=\"164.01\" cy=\"-72.13\" rx=\"1\" ry=\"1\"/>\n<text text-anchor=\"middle\" x=\"146.5\" y=\"-127\" font-family=\"Times,serif\" font-size=\"10.00\">1</text>\n</g>\n<!-- target_G9 -->\n<g id=\"node19\" class=\"node\">\n<title>target_G9</title>\n<text text-anchor=\"middle\" x=\"192\" y=\"-14.3\" font-family=\"Times,serif\" font-size=\"14.00\">target</text>\n</g>\n<!-- SelectBlockEncoding&#45;&gt;target_G9 -->\n<g id=\"edge18\" class=\"edge\">\n<title>SelectBlockEncoding:e-&gt;target_G9:w</title>\n<path fill=\"none\" stroke=\"black\" d=\"M128,-150C157.75,-150 135.63,-24.11 162.95,-18.21\"/>\n<ellipse fill=\"black\" stroke=\"black\" cx=\"164.01\" cy=\"-18.1\" rx=\"1\" ry=\"1\"/>\n<text text-anchor=\"middle\" x=\"146.5\" y=\"-95\" font-family=\"Times,serif\" font-size=\"10.00\">18</text>\n</g>\n</g>\n</svg>",
          "text/plain": "<IPython.core.display.SVG object>"
         },
         "metadata": {},
         "output_type": "display_data"
        }
       ],
       "tabbable": null,
       "tooltip": null
      }
     },
     "33489cbecc194a49b88d843b658968cb": {
      "model_module": "@jupyter-widgets/base",
      "model_module_version": "2.0.0",
      "model_name": "LayoutModel",
      "state": {
       "_model_module": "@jupyter-widgets/base",
       "_model_module_version": "2.0.0",
       "_model_name": "LayoutModel",
       "_view_count": null,
       "_view_module": "@jupyter-widgets/base",
       "_view_module_version": "2.0.0",
       "_view_name": "LayoutView",
       "align_content": null,
       "align_items": null,
       "align_self": null,
       "border_bottom": null,
       "border_left": null,
       "border_right": null,
       "border_top": null,
       "bottom": null,
       "display": null,
       "flex": null,
       "flex_flow": null,
       "grid_area": null,
       "grid_auto_columns": null,
       "grid_auto_flow": null,
       "grid_auto_rows": null,
       "grid_column": null,
       "grid_gap": null,
       "grid_row": null,
       "grid_template_areas": null,
       "grid_template_columns": null,
       "grid_template_rows": null,
       "height": null,
       "justify_content": null,
       "justify_items": null,
       "left": null,
       "margin": null,
       "max_height": null,
       "max_width": null,
       "min_height": null,
       "min_width": null,
       "object_fit": null,
       "object_position": null,
       "order": null,
       "overflow": null,
       "padding": null,
       "right": null,
       "top": null,
       "visibility": null,
       "width": null
      }
     },
     "48e6dd714d5546e184ab23319a4fe181": {
      "model_module": "@jupyter-widgets/output",
      "model_module_version": "1.0.0",
      "model_name": "OutputModel",
      "state": {
       "_dom_classes": [],
       "_model_module": "@jupyter-widgets/output",
       "_model_module_version": "1.0.0",
       "_model_name": "OutputModel",
       "_view_count": null,
       "_view_module": "@jupyter-widgets/output",
       "_view_module_version": "1.0.0",
       "_view_name": "OutputView",
       "layout": "IPY_MODEL_33489cbecc194a49b88d843b658968cb",
       "msg_id": "",
       "outputs": [
        {
         "data": {
          "text/markdown": "`black_box_lcu_block`",
          "text/plain": "<IPython.core.display.Markdown object>"
         },
         "metadata": {},
         "output_type": "display_data"
        },
        {
         "data": {
          "image/svg+xml": "<svg xmlns=\"http://www.w3.org/2000/svg\" xmlns:xlink=\"http://www.w3.org/1999/xlink\" width=\"267pt\" height=\"152pt\" viewBox=\"0.00 0.00 267.00 152.00\">\n<g id=\"graph0\" class=\"graph\" transform=\"scale(1 1) rotate(0) translate(4 148)\">\n<title>my_graph</title>\n<polygon fill=\"white\" stroke=\"transparent\" points=\"-4,4 -4,-148 263,-148 263,4 -4,4\"/>\n<!-- selection_G4 -->\n<g id=\"node1\" class=\"node\">\n<title>selection_G4</title>\n<text text-anchor=\"middle\" x=\"32.5\" y=\"-122.3\" font-family=\"Times,serif\" font-size=\"14.00\">selection</text>\n</g>\n<!-- LCUBlockEncoding -->\n<g id=\"node4\" class=\"node\">\n<title>LCUBlockEncoding</title>\n<polygon fill=\"none\" stroke=\"black\" points=\"102.5,-104 102.5,-121 157.5,-121 157.5,-104 102.5,-104\"/>\n<text text-anchor=\"start\" x=\"119.5\" y=\"-110\" font-family=\"Times,serif\" font-size=\"10.00\">B[H]</text>\n<polygon fill=\"none\" stroke=\"black\" points=\"102.5,-83 102.5,-104 157.5,-104 157.5,-83 102.5,-83\"/>\n<text text-anchor=\"start\" x=\"105.5\" y=\"-89.8\" font-family=\"Times,serif\" font-size=\"14.00\">selection</text>\n<polygon fill=\"none\" stroke=\"black\" points=\"102.5,-62 102.5,-83 157.5,-83 157.5,-62 102.5,-62\"/>\n<text text-anchor=\"start\" x=\"117.5\" y=\"-68.8\" font-family=\"Times,serif\" font-size=\"14.00\">junk</text>\n<polygon fill=\"none\" stroke=\"black\" points=\"102.5,-41 102.5,-62 157.5,-62 157.5,-41 102.5,-41\"/>\n<text text-anchor=\"start\" x=\"110.5\" y=\"-47.8\" font-family=\"Times,serif\" font-size=\"14.00\">system</text>\n</g>\n<!-- selection_G4&#45;&gt;LCUBlockEncoding -->\n<g id=\"edge1\" class=\"edge\">\n<title>selection_G4:e-&gt;LCUBlockEncoding:w</title>\n<path fill=\"none\" stroke=\"black\" d=\"M65,-126C85.89,-126 80.72,-96.45 99.58,-94.14\"/>\n<ellipse fill=\"black\" stroke=\"black\" cx=\"101\" cy=\"-94.06\" rx=\"1\" ry=\"1\"/>\n<text text-anchor=\"middle\" x=\"83.5\" y=\"-113\" font-family=\"Times,serif\" font-size=\"10.00\">12</text>\n</g>\n<!-- junk_G3 -->\n<g id=\"node2\" class=\"node\">\n<title>junk_G3</title>\n<text text-anchor=\"middle\" x=\"32.5\" y=\"-68.3\" font-family=\"Times,serif\" font-size=\"14.00\">junk</text>\n</g>\n<!-- junk_G3&#45;&gt;LCUBlockEncoding -->\n<g id=\"edge2\" class=\"edge\">\n<title>junk_G3:e-&gt;LCUBlockEncoding:w</title>\n<path fill=\"none\" stroke=\"black\" d=\"M60.5,-72C78.22,-72 83.17,-72 99.9,-72\"/>\n<ellipse fill=\"black\" stroke=\"black\" cx=\"101\" cy=\"-72\" rx=\"1\" ry=\"1\"/>\n<text text-anchor=\"middle\" x=\"83.5\" y=\"-75\" font-family=\"Times,serif\" font-size=\"10.00\">2</text>\n</g>\n<!-- system_G8 -->\n<g id=\"node3\" class=\"node\">\n<title>system_G8</title>\n<text text-anchor=\"middle\" x=\"32.5\" y=\"-14.3\" font-family=\"Times,serif\" font-size=\"14.00\">system</text>\n</g>\n<!-- system_G8&#45;&gt;LCUBlockEncoding -->\n<g id=\"edge3\" class=\"edge\">\n<title>system_G8:e-&gt;LCUBlockEncoding:w</title>\n<path fill=\"none\" stroke=\"black\" d=\"M61.5,-18C83.99,-18 79.12,-48.97 99.91,-50.91\"/>\n<ellipse fill=\"black\" stroke=\"black\" cx=\"101\" cy=\"-50.95\" rx=\"1\" ry=\"1\"/>\n<text text-anchor=\"middle\" x=\"83.5\" y=\"-42\" font-family=\"Times,serif\" font-size=\"10.00\">18</text>\n</g>\n<!-- selection_G0 -->\n<g id=\"node5\" class=\"node\">\n<title>selection_G0</title>\n<text text-anchor=\"middle\" x=\"226.5\" y=\"-122.3\" font-family=\"Times,serif\" font-size=\"14.00\">selection</text>\n</g>\n<!-- LCUBlockEncoding&#45;&gt;selection_G0 -->\n<g id=\"edge4\" class=\"edge\">\n<title>LCUBlockEncoding:e-&gt;selection_G0:w</title>\n<path fill=\"none\" stroke=\"black\" d=\"M157,-94C177.89,-94 172.72,-123.55 191.58,-125.86\"/>\n<ellipse fill=\"black\" stroke=\"black\" cx=\"193\" cy=\"-125.94\" rx=\"1\" ry=\"1\"/>\n<text text-anchor=\"middle\" x=\"175.5\" y=\"-113\" font-family=\"Times,serif\" font-size=\"10.00\">12</text>\n</g>\n<!-- junk_G6 -->\n<g id=\"node6\" class=\"node\">\n<title>junk_G6</title>\n<text text-anchor=\"middle\" x=\"226.5\" y=\"-68.3\" font-family=\"Times,serif\" font-size=\"14.00\">junk</text>\n</g>\n<!-- LCUBlockEncoding&#45;&gt;junk_G6 -->\n<g id=\"edge5\" class=\"edge\">\n<title>LCUBlockEncoding:e-&gt;junk_G6:w</title>\n<path fill=\"none\" stroke=\"black\" d=\"M157,-72C174.72,-72 179.67,-72 196.4,-72\"/>\n<ellipse fill=\"black\" stroke=\"black\" cx=\"197.5\" cy=\"-72\" rx=\"1\" ry=\"1\"/>\n<text text-anchor=\"middle\" x=\"175.5\" y=\"-75\" font-family=\"Times,serif\" font-size=\"10.00\">2</text>\n</g>\n<!-- system_G7 -->\n<g id=\"node7\" class=\"node\">\n<title>system_G7</title>\n<text text-anchor=\"middle\" x=\"226.5\" y=\"-14.3\" font-family=\"Times,serif\" font-size=\"14.00\">system</text>\n</g>\n<!-- LCUBlockEncoding&#45;&gt;system_G7 -->\n<g id=\"edge6\" class=\"edge\">\n<title>LCUBlockEncoding:e-&gt;system_G7:w</title>\n<path fill=\"none\" stroke=\"black\" d=\"M157,-51C179.49,-51 174.62,-20.03 195.41,-18.09\"/>\n<ellipse fill=\"black\" stroke=\"black\" cx=\"196.5\" cy=\"-18.05\" rx=\"1\" ry=\"1\"/>\n<text text-anchor=\"middle\" x=\"175.5\" y=\"-42\" font-family=\"Times,serif\" font-size=\"10.00\">18</text>\n</g>\n</g>\n</svg>",
          "text/plain": "<IPython.core.display.SVG object>"
         },
         "metadata": {},
         "output_type": "display_data"
        }
       ],
       "tabbable": null,
       "tooltip": null
      }
     },
     "522505eddb024c07852f91a070f4941d": {
      "model_module": "@jupyter-widgets/output",
      "model_module_version": "1.0.0",
      "model_name": "OutputModel",
      "state": {
       "_dom_classes": [],
       "_model_module": "@jupyter-widgets/output",
       "_model_module_version": "1.0.0",
       "_model_name": "OutputModel",
       "_view_count": null,
       "_view_module": "@jupyter-widgets/output",
       "_view_module_version": "1.0.0",
       "_view_name": "OutputView",
       "layout": "IPY_MODEL_89c098511c574805ba5794b9598b3ad4",
       "msg_id": "",
       "outputs": [
        {
         "data": {
          "text/markdown": "`black_box_prepare`",
          "text/plain": "<IPython.core.display.Markdown object>"
         },
         "metadata": {},
         "output_type": "display_data"
        },
        {
         "data": {
          "image/svg+xml": "<svg xmlns=\"http://www.w3.org/2000/svg\" xmlns:xlink=\"http://www.w3.org/1999/xlink\" width=\"267pt\" height=\"98pt\" viewBox=\"0.00 0.00 267.00 98.00\">\n<g id=\"graph0\" class=\"graph\" transform=\"scale(1 1) rotate(0) translate(4 94)\">\n<title>my_graph</title>\n<polygon fill=\"white\" stroke=\"transparent\" points=\"-4,4 -4,-94 263,-94 263,4 -4,4\"/>\n<!-- selection_G5 -->\n<g id=\"node1\" class=\"node\">\n<title>selection_G5</title>\n<text text-anchor=\"middle\" x=\"32.5\" y=\"-68.3\" font-family=\"Times,serif\" font-size=\"14.00\">selection</text>\n</g>\n<!-- BlackBoxPrepare -->\n<g id=\"node3\" class=\"node\">\n<title>BlackBoxPrepare</title>\n<polygon fill=\"none\" stroke=\"black\" points=\"102.5,-66 102.5,-83 157.5,-83 157.5,-66 102.5,-66\"/>\n<text text-anchor=\"start\" x=\"120.5\" y=\"-72\" font-family=\"Times,serif\" font-size=\"10.00\">Prep</text>\n<polygon fill=\"none\" stroke=\"black\" points=\"102.5,-45 102.5,-66 157.5,-66 157.5,-45 102.5,-45\"/>\n<text text-anchor=\"start\" x=\"105.5\" y=\"-51.8\" font-family=\"Times,serif\" font-size=\"14.00\">selection</text>\n<polygon fill=\"none\" stroke=\"black\" points=\"102.5,-24 102.5,-45 157.5,-45 157.5,-24 102.5,-24\"/>\n<text text-anchor=\"start\" x=\"117.5\" y=\"-30.8\" font-family=\"Times,serif\" font-size=\"14.00\">junk</text>\n</g>\n<!-- selection_G5&#45;&gt;BlackBoxPrepare -->\n<g id=\"edge1\" class=\"edge\">\n<title>selection_G5:e-&gt;BlackBoxPrepare:w</title>\n<path fill=\"none\" stroke=\"black\" d=\"M65,-72C82.22,-72 83.97,-57.23 99.98,-56.07\"/>\n<ellipse fill=\"black\" stroke=\"black\" cx=\"101\" cy=\"-56.04\" rx=\"1\" ry=\"1\"/>\n<text text-anchor=\"middle\" x=\"83.5\" y=\"-67\" font-family=\"Times,serif\" font-size=\"10.00\">8</text>\n</g>\n<!-- junk_G3 -->\n<g id=\"node2\" class=\"node\">\n<title>junk_G3</title>\n<text text-anchor=\"middle\" x=\"32.5\" y=\"-14.3\" font-family=\"Times,serif\" font-size=\"14.00\">junk</text>\n</g>\n<!-- junk_G3&#45;&gt;BlackBoxPrepare -->\n<g id=\"edge2\" class=\"edge\">\n<title>junk_G3:e-&gt;BlackBoxPrepare:w</title>\n<path fill=\"none\" stroke=\"black\" d=\"M60.5,-18C79.5,-18 82.05,-32.77 99.76,-33.93\"/>\n<ellipse fill=\"black\" stroke=\"black\" cx=\"101\" cy=\"-33.97\" rx=\"1\" ry=\"1\"/>\n<text text-anchor=\"middle\" x=\"83.5\" y=\"-31\" font-family=\"Times,serif\" font-size=\"10.00\">2</text>\n</g>\n<!-- selection_G2 -->\n<g id=\"node4\" class=\"node\">\n<title>selection_G2</title>\n<text text-anchor=\"middle\" x=\"226.5\" y=\"-68.3\" font-family=\"Times,serif\" font-size=\"14.00\">selection</text>\n</g>\n<!-- BlackBoxPrepare&#45;&gt;selection_G2 -->\n<g id=\"edge3\" class=\"edge\">\n<title>BlackBoxPrepare:e-&gt;selection_G2:w</title>\n<path fill=\"none\" stroke=\"black\" d=\"M157,-56C174.22,-56 175.97,-70.77 191.98,-71.93\"/>\n<ellipse fill=\"black\" stroke=\"black\" cx=\"193\" cy=\"-71.96\" rx=\"1\" ry=\"1\"/>\n<text text-anchor=\"middle\" x=\"175.5\" y=\"-67\" font-family=\"Times,serif\" font-size=\"10.00\">8</text>\n</g>\n<!-- junk_G0 -->\n<g id=\"node5\" class=\"node\">\n<title>junk_G0</title>\n<text text-anchor=\"middle\" x=\"226.5\" y=\"-14.3\" font-family=\"Times,serif\" font-size=\"14.00\">junk</text>\n</g>\n<!-- BlackBoxPrepare&#45;&gt;junk_G0 -->\n<g id=\"edge4\" class=\"edge\">\n<title>BlackBoxPrepare:e-&gt;junk_G0:w</title>\n<path fill=\"none\" stroke=\"black\" d=\"M157,-34C176,-34 178.55,-19.23 196.26,-18.07\"/>\n<ellipse fill=\"black\" stroke=\"black\" cx=\"197.5\" cy=\"-18.03\" rx=\"1\" ry=\"1\"/>\n<text text-anchor=\"middle\" x=\"175.5\" y=\"-31\" font-family=\"Times,serif\" font-size=\"10.00\">2</text>\n</g>\n</g>\n</svg>",
          "text/plain": "<IPython.core.display.SVG object>"
         },
         "metadata": {},
         "output_type": "display_data"
        }
       ],
       "tabbable": null,
       "tooltip": null
      }
     },
     "5623763493144226b3cf9be28e03b2a4": {
      "model_module": "@jupyter-widgets/base",
      "model_module_version": "2.0.0",
      "model_name": "LayoutModel",
      "state": {
       "_model_module": "@jupyter-widgets/base",
       "_model_module_version": "2.0.0",
       "_model_name": "LayoutModel",
       "_view_count": null,
       "_view_module": "@jupyter-widgets/base",
       "_view_module_version": "2.0.0",
       "_view_name": "LayoutView",
       "align_content": null,
       "align_items": null,
       "align_self": null,
       "border_bottom": null,
       "border_left": null,
       "border_right": null,
       "border_top": null,
       "bottom": null,
       "display": null,
       "flex": null,
       "flex_flow": null,
       "grid_area": null,
       "grid_auto_columns": null,
       "grid_auto_flow": null,
       "grid_auto_rows": null,
       "grid_column": null,
       "grid_gap": null,
       "grid_row": null,
       "grid_template_areas": null,
       "grid_template_columns": null,
       "grid_template_rows": null,
       "height": null,
       "justify_content": null,
       "justify_items": null,
       "left": null,
       "margin": null,
       "max_height": null,
       "max_width": null,
       "min_height": null,
       "min_width": null,
       "object_fit": null,
       "object_position": null,
       "order": null,
       "overflow": null,
       "padding": null,
       "right": null,
       "top": null,
       "visibility": null,
       "width": null
      }
     },
     "619ce4d709bb4ad396f9c4f967eebbdc": {
      "model_module": "@jupyter-widgets/controls",
      "model_module_version": "2.0.0",
      "model_name": "HBoxModel",
      "state": {
       "_dom_classes": [],
       "_model_module": "@jupyter-widgets/controls",
       "_model_module_version": "2.0.0",
       "_model_name": "HBoxModel",
       "_view_count": null,
       "_view_module": "@jupyter-widgets/controls",
       "_view_module_version": "2.0.0",
       "_view_name": "HBoxView",
       "box_style": "",
       "children": [
        "IPY_MODEL_17dfbfc90b054cb2bb6073d6e1c07321",
        "IPY_MODEL_48e6dd714d5546e184ab23319a4fe181"
       ],
       "layout": "IPY_MODEL_b720f228c7e944c581b3df76ec0cb910",
       "tabbable": null,
       "tooltip": null
      }
     },
     "6d80c7e5d92e47baa66c85395c146814": {
      "model_module": "@jupyter-widgets/base",
      "model_module_version": "2.0.0",
      "model_name": "LayoutModel",
      "state": {
       "_model_module": "@jupyter-widgets/base",
       "_model_module_version": "2.0.0",
       "_model_name": "LayoutModel",
       "_view_count": null,
       "_view_module": "@jupyter-widgets/base",
       "_view_module_version": "2.0.0",
       "_view_name": "LayoutView",
       "align_content": null,
       "align_items": null,
       "align_self": null,
       "border_bottom": null,
       "border_left": null,
       "border_right": null,
       "border_top": null,
       "bottom": null,
       "display": null,
       "flex": null,
       "flex_flow": null,
       "grid_area": null,
       "grid_auto_columns": null,
       "grid_auto_flow": null,
       "grid_auto_rows": null,
       "grid_column": null,
       "grid_gap": null,
       "grid_row": null,
       "grid_template_areas": null,
       "grid_template_columns": null,
       "grid_template_rows": null,
       "height": null,
       "justify_content": null,
       "justify_items": null,
       "left": null,
       "margin": null,
       "max_height": null,
       "max_width": null,
       "min_height": null,
       "min_width": null,
       "object_fit": null,
       "object_position": null,
       "order": null,
       "overflow": null,
       "padding": null,
       "right": null,
       "top": null,
       "visibility": null,
       "width": null
      }
     },
     "6d914832aaaf477fa313821923f3b86d": {
      "model_module": "@jupyter-widgets/controls",
      "model_module_version": "2.0.0",
      "model_name": "HBoxModel",
      "state": {
       "_dom_classes": [],
       "_model_module": "@jupyter-widgets/controls",
       "_model_module_version": "2.0.0",
       "_model_name": "HBoxModel",
       "_view_count": null,
       "_view_module": "@jupyter-widgets/controls",
       "_view_module_version": "2.0.0",
       "_view_name": "HBoxView",
       "box_style": "",
       "children": [
        "IPY_MODEL_522505eddb024c07852f91a070f4941d"
       ],
       "layout": "IPY_MODEL_6d80c7e5d92e47baa66c85395c146814",
       "tabbable": null,
       "tooltip": null
      }
     },
     "76eeed0d1d0643a381ab4f6887294195": {
      "model_module": "@jupyter-widgets/base",
      "model_module_version": "2.0.0",
      "model_name": "LayoutModel",
      "state": {
       "_model_module": "@jupyter-widgets/base",
       "_model_module_version": "2.0.0",
       "_model_name": "LayoutModel",
       "_view_count": null,
       "_view_module": "@jupyter-widgets/base",
       "_view_module_version": "2.0.0",
       "_view_name": "LayoutView",
       "align_content": null,
       "align_items": null,
       "align_self": null,
       "border_bottom": null,
       "border_left": null,
       "border_right": null,
       "border_top": null,
       "bottom": null,
       "display": null,
       "flex": null,
       "flex_flow": null,
       "grid_area": null,
       "grid_auto_columns": null,
       "grid_auto_flow": null,
       "grid_auto_rows": null,
       "grid_column": null,
       "grid_gap": null,
       "grid_row": null,
       "grid_template_areas": null,
       "grid_template_columns": null,
       "grid_template_rows": null,
       "height": null,
       "justify_content": null,
       "justify_items": null,
       "left": null,
       "margin": null,
       "max_height": null,
       "max_width": null,
       "min_height": null,
       "min_width": null,
       "object_fit": null,
       "object_position": null,
       "order": null,
       "overflow": null,
       "padding": null,
       "right": null,
       "top": null,
       "visibility": null,
       "width": null
      }
     },
     "89c098511c574805ba5794b9598b3ad4": {
      "model_module": "@jupyter-widgets/base",
      "model_module_version": "2.0.0",
      "model_name": "LayoutModel",
      "state": {
       "_model_module": "@jupyter-widgets/base",
       "_model_module_version": "2.0.0",
       "_model_name": "LayoutModel",
       "_view_count": null,
       "_view_module": "@jupyter-widgets/base",
       "_view_module_version": "2.0.0",
       "_view_name": "LayoutView",
       "align_content": null,
       "align_items": null,
       "align_self": null,
       "border_bottom": null,
       "border_left": null,
       "border_right": null,
       "border_top": null,
       "bottom": null,
       "display": null,
       "flex": null,
       "flex_flow": null,
       "grid_area": null,
       "grid_auto_columns": null,
       "grid_auto_flow": null,
       "grid_auto_rows": null,
       "grid_column": null,
       "grid_gap": null,
       "grid_row": null,
       "grid_template_areas": null,
       "grid_template_columns": null,
       "grid_template_rows": null,
       "height": null,
       "justify_content": null,
       "justify_items": null,
       "left": null,
       "margin": null,
       "max_height": null,
       "max_width": null,
       "min_height": null,
       "min_width": null,
       "object_fit": null,
       "object_position": null,
       "order": null,
       "overflow": null,
       "padding": null,
       "right": null,
       "top": null,
       "visibility": null,
       "width": null
      }
     },
     "9a2c646ced584061ac64f394fe0ca77b": {
      "model_module": "@jupyter-widgets/output",
      "model_module_version": "1.0.0",
      "model_name": "OutputModel",
      "state": {
       "_dom_classes": [],
       "_model_module": "@jupyter-widgets/output",
       "_model_module_version": "1.0.0",
       "_model_name": "OutputModel",
       "_view_count": null,
       "_view_module": "@jupyter-widgets/output",
       "_view_module_version": "1.0.0",
       "_view_name": "OutputView",
       "layout": "IPY_MODEL_f0b28464f7dc431299c8d055600cacd5",
       "msg_id": "",
       "outputs": [
        {
         "data": {
          "text/markdown": "`black_box_select`",
          "text/plain": "<IPython.core.display.Markdown object>"
         },
         "metadata": {},
         "output_type": "display_data"
        },
        {
         "data": {
          "image/svg+xml": "<svg xmlns=\"http://www.w3.org/2000/svg\" xmlns:xlink=\"http://www.w3.org/1999/xlink\" width=\"267pt\" height=\"98pt\" viewBox=\"0.00 0.00 267.00 98.00\">\n<g id=\"graph0\" class=\"graph\" transform=\"scale(1 1) rotate(0) translate(4 94)\">\n<title>my_graph</title>\n<polygon fill=\"white\" stroke=\"transparent\" points=\"-4,4 -4,-94 263,-94 263,4 -4,4\"/>\n<!-- selection_G0 -->\n<g id=\"node1\" class=\"node\">\n<title>selection_G0</title>\n<text text-anchor=\"middle\" x=\"32.5\" y=\"-68.3\" font-family=\"Times,serif\" font-size=\"14.00\">selection</text>\n</g>\n<!-- BlackBoxSelect -->\n<g id=\"node3\" class=\"node\">\n<title>BlackBoxSelect</title>\n<polygon fill=\"none\" stroke=\"black\" points=\"102.5,-66 102.5,-83 157.5,-83 157.5,-66 102.5,-66\"/>\n<text text-anchor=\"start\" x=\"111.5\" y=\"-72\" font-family=\"Times,serif\" font-size=\"10.00\">SELECT</text>\n<polygon fill=\"none\" stroke=\"black\" points=\"102.5,-45 102.5,-66 157.5,-66 157.5,-45 102.5,-45\"/>\n<text text-anchor=\"start\" x=\"105.5\" y=\"-51.8\" font-family=\"Times,serif\" font-size=\"14.00\">selection</text>\n<polygon fill=\"none\" stroke=\"black\" points=\"102.5,-24 102.5,-45 157.5,-45 157.5,-24 102.5,-24\"/>\n<text text-anchor=\"start\" x=\"110.5\" y=\"-30.8\" font-family=\"Times,serif\" font-size=\"14.00\">system</text>\n</g>\n<!-- selection_G0&#45;&gt;BlackBoxSelect -->\n<g id=\"edge1\" class=\"edge\">\n<title>selection_G0:e-&gt;BlackBoxSelect:w</title>\n<path fill=\"none\" stroke=\"black\" d=\"M65,-72C82.22,-72 83.97,-57.23 99.98,-56.07\"/>\n<ellipse fill=\"black\" stroke=\"black\" cx=\"101\" cy=\"-56.04\" rx=\"1\" ry=\"1\"/>\n<text text-anchor=\"middle\" x=\"83.5\" y=\"-67\" font-family=\"Times,serif\" font-size=\"10.00\">8</text>\n</g>\n<!-- system_G1 -->\n<g id=\"node2\" class=\"node\">\n<title>system_G1</title>\n<text text-anchor=\"middle\" x=\"32.5\" y=\"-14.3\" font-family=\"Times,serif\" font-size=\"14.00\">system</text>\n</g>\n<!-- system_G1&#45;&gt;BlackBoxSelect -->\n<g id=\"edge2\" class=\"edge\">\n<title>system_G1:e-&gt;BlackBoxSelect:w</title>\n<path fill=\"none\" stroke=\"black\" d=\"M61.5,-18C80.1,-18 82.48,-32.77 99.81,-33.93\"/>\n<ellipse fill=\"black\" stroke=\"black\" cx=\"101\" cy=\"-33.97\" rx=\"1\" ry=\"1\"/>\n<text text-anchor=\"middle\" x=\"83.5\" y=\"-31\" font-family=\"Times,serif\" font-size=\"10.00\">8</text>\n</g>\n<!-- selection_G2 -->\n<g id=\"node4\" class=\"node\">\n<title>selection_G2</title>\n<text text-anchor=\"middle\" x=\"226.5\" y=\"-68.3\" font-family=\"Times,serif\" font-size=\"14.00\">selection</text>\n</g>\n<!-- BlackBoxSelect&#45;&gt;selection_G2 -->\n<g id=\"edge3\" class=\"edge\">\n<title>BlackBoxSelect:e-&gt;selection_G2:w</title>\n<path fill=\"none\" stroke=\"black\" d=\"M157,-56C174.22,-56 175.97,-70.77 191.98,-71.93\"/>\n<ellipse fill=\"black\" stroke=\"black\" cx=\"193\" cy=\"-71.96\" rx=\"1\" ry=\"1\"/>\n<text text-anchor=\"middle\" x=\"175.5\" y=\"-67\" font-family=\"Times,serif\" font-size=\"10.00\">8</text>\n</g>\n<!-- system_G4 -->\n<g id=\"node5\" class=\"node\">\n<title>system_G4</title>\n<text text-anchor=\"middle\" x=\"226.5\" y=\"-14.3\" font-family=\"Times,serif\" font-size=\"14.00\">system</text>\n</g>\n<!-- BlackBoxSelect&#45;&gt;system_G4 -->\n<g id=\"edge4\" class=\"edge\">\n<title>BlackBoxSelect:e-&gt;system_G4:w</title>\n<path fill=\"none\" stroke=\"black\" d=\"M157,-34C175.6,-34 177.98,-19.23 195.31,-18.07\"/>\n<ellipse fill=\"black\" stroke=\"black\" cx=\"196.5\" cy=\"-18.03\" rx=\"1\" ry=\"1\"/>\n<text text-anchor=\"middle\" x=\"175.5\" y=\"-31\" font-family=\"Times,serif\" font-size=\"10.00\">8</text>\n</g>\n</g>\n</svg>",
          "text/plain": "<IPython.core.display.SVG object>"
         },
         "metadata": {},
         "output_type": "display_data"
        }
       ],
       "tabbable": null,
       "tooltip": null
      }
     },
     "aad293f21f1c496cb9815be55bef87c2": {
      "model_module": "@jupyter-widgets/output",
      "model_module_version": "1.0.0",
      "model_name": "OutputModel",
      "state": {
       "_dom_classes": [],
       "_model_module": "@jupyter-widgets/output",
       "_model_module_version": "1.0.0",
       "_model_name": "OutputModel",
       "_view_count": null,
       "_view_module": "@jupyter-widgets/output",
       "_view_module_version": "1.0.0",
       "_view_name": "OutputView",
       "layout": "IPY_MODEL_76eeed0d1d0643a381ab4f6887294195",
       "msg_id": "",
       "outputs": [
        {
         "data": {
          "text/markdown": "`black_box_select_block`",
          "text/plain": "<IPython.core.display.Markdown object>"
         },
         "metadata": {},
         "output_type": "display_data"
        },
        {
         "data": {
          "image/svg+xml": "<svg xmlns=\"http://www.w3.org/2000/svg\" xmlns:xlink=\"http://www.w3.org/1999/xlink\" width=\"267pt\" height=\"98pt\" viewBox=\"0.00 0.00 267.00 98.00\">\n<g id=\"graph0\" class=\"graph\" transform=\"scale(1 1) rotate(0) translate(4 94)\">\n<title>my_graph</title>\n<polygon fill=\"white\" stroke=\"transparent\" points=\"-4,4 -4,-94 263,-94 263,4 -4,4\"/>\n<!-- selection_G3 -->\n<g id=\"node1\" class=\"node\">\n<title>selection_G3</title>\n<text text-anchor=\"middle\" x=\"32.5\" y=\"-68.3\" font-family=\"Times,serif\" font-size=\"14.00\">selection</text>\n</g>\n<!-- SelectBlockEncoding -->\n<g id=\"node3\" class=\"node\">\n<title>SelectBlockEncoding</title>\n<polygon fill=\"none\" stroke=\"black\" points=\"102.5,-66 102.5,-83 157.5,-83 157.5,-66 102.5,-66\"/>\n<text text-anchor=\"start\" x=\"119.5\" y=\"-72\" font-family=\"Times,serif\" font-size=\"10.00\">B[H]</text>\n<polygon fill=\"none\" stroke=\"black\" points=\"102.5,-45 102.5,-66 157.5,-66 157.5,-45 102.5,-45\"/>\n<text text-anchor=\"start\" x=\"105.5\" y=\"-51.8\" font-family=\"Times,serif\" font-size=\"14.00\">selection</text>\n<polygon fill=\"none\" stroke=\"black\" points=\"102.5,-24 102.5,-45 157.5,-45 157.5,-24 102.5,-24\"/>\n<text text-anchor=\"start\" x=\"110.5\" y=\"-30.8\" font-family=\"Times,serif\" font-size=\"14.00\">system</text>\n</g>\n<!-- selection_G3&#45;&gt;SelectBlockEncoding -->\n<g id=\"edge1\" class=\"edge\">\n<title>selection_G3:e-&gt;SelectBlockEncoding:w</title>\n<path fill=\"none\" stroke=\"black\" d=\"M65,-72C82.22,-72 83.97,-57.23 99.98,-56.07\"/>\n<ellipse fill=\"black\" stroke=\"black\" cx=\"101\" cy=\"-56.04\" rx=\"1\" ry=\"1\"/>\n<text text-anchor=\"middle\" x=\"83.5\" y=\"-67\" font-family=\"Times,serif\" font-size=\"10.00\">12</text>\n</g>\n<!-- system_G5 -->\n<g id=\"node2\" class=\"node\">\n<title>system_G5</title>\n<text text-anchor=\"middle\" x=\"32.5\" y=\"-14.3\" font-family=\"Times,serif\" font-size=\"14.00\">system</text>\n</g>\n<!-- system_G5&#45;&gt;SelectBlockEncoding -->\n<g id=\"edge2\" class=\"edge\">\n<title>system_G5:e-&gt;SelectBlockEncoding:w</title>\n<path fill=\"none\" stroke=\"black\" d=\"M61.5,-18C80.1,-18 82.48,-32.77 99.81,-33.93\"/>\n<ellipse fill=\"black\" stroke=\"black\" cx=\"101\" cy=\"-33.97\" rx=\"1\" ry=\"1\"/>\n<text text-anchor=\"middle\" x=\"83.5\" y=\"-31\" font-family=\"Times,serif\" font-size=\"10.00\">18</text>\n</g>\n<!-- selection_G1 -->\n<g id=\"node4\" class=\"node\">\n<title>selection_G1</title>\n<text text-anchor=\"middle\" x=\"226.5\" y=\"-68.3\" font-family=\"Times,serif\" font-size=\"14.00\">selection</text>\n</g>\n<!-- SelectBlockEncoding&#45;&gt;selection_G1 -->\n<g id=\"edge3\" class=\"edge\">\n<title>SelectBlockEncoding:e-&gt;selection_G1:w</title>\n<path fill=\"none\" stroke=\"black\" d=\"M157,-56C174.22,-56 175.97,-70.77 191.98,-71.93\"/>\n<ellipse fill=\"black\" stroke=\"black\" cx=\"193\" cy=\"-71.96\" rx=\"1\" ry=\"1\"/>\n<text text-anchor=\"middle\" x=\"175.5\" y=\"-67\" font-family=\"Times,serif\" font-size=\"10.00\">12</text>\n</g>\n<!-- system_G2 -->\n<g id=\"node5\" class=\"node\">\n<title>system_G2</title>\n<text text-anchor=\"middle\" x=\"226.5\" y=\"-14.3\" font-family=\"Times,serif\" font-size=\"14.00\">system</text>\n</g>\n<!-- SelectBlockEncoding&#45;&gt;system_G2 -->\n<g id=\"edge4\" class=\"edge\">\n<title>SelectBlockEncoding:e-&gt;system_G2:w</title>\n<path fill=\"none\" stroke=\"black\" d=\"M157,-34C175.6,-34 177.98,-19.23 195.31,-18.07\"/>\n<ellipse fill=\"black\" stroke=\"black\" cx=\"196.5\" cy=\"-18.03\" rx=\"1\" ry=\"1\"/>\n<text text-anchor=\"middle\" x=\"175.5\" y=\"-31\" font-family=\"Times,serif\" font-size=\"10.00\">18</text>\n</g>\n</g>\n</svg>",
          "text/plain": "<IPython.core.display.SVG object>"
         },
         "metadata": {},
         "output_type": "display_data"
        }
       ],
       "tabbable": null,
       "tooltip": null
      }
     },
     "aba5c51329e4464bac578a37cabb74ba": {
      "model_module": "@jupyter-widgets/base",
      "model_module_version": "2.0.0",
      "model_name": "LayoutModel",
      "state": {
       "_model_module": "@jupyter-widgets/base",
       "_model_module_version": "2.0.0",
       "_model_name": "LayoutModel",
       "_view_count": null,
       "_view_module": "@jupyter-widgets/base",
       "_view_module_version": "2.0.0",
       "_view_name": "LayoutView",
       "align_content": null,
       "align_items": null,
       "align_self": null,
       "border_bottom": null,
       "border_left": null,
       "border_right": null,
       "border_top": null,
       "bottom": null,
       "display": null,
       "flex": null,
       "flex_flow": null,
       "grid_area": null,
       "grid_auto_columns": null,
       "grid_auto_flow": null,
       "grid_auto_rows": null,
       "grid_column": null,
       "grid_gap": null,
       "grid_row": null,
       "grid_template_areas": null,
       "grid_template_columns": null,
       "grid_template_rows": null,
       "height": null,
       "justify_content": null,
       "justify_items": null,
       "left": null,
       "margin": null,
       "max_height": null,
       "max_width": null,
       "min_height": null,
       "min_width": null,
       "object_fit": null,
       "object_position": null,
       "order": null,
       "overflow": null,
       "padding": null,
       "right": null,
       "top": null,
       "visibility": null,
       "width": null
      }
     },
     "b720f228c7e944c581b3df76ec0cb910": {
      "model_module": "@jupyter-widgets/base",
      "model_module_version": "2.0.0",
      "model_name": "LayoutModel",
      "state": {
       "_model_module": "@jupyter-widgets/base",
       "_model_module_version": "2.0.0",
       "_model_name": "LayoutModel",
       "_view_count": null,
       "_view_module": "@jupyter-widgets/base",
       "_view_module_version": "2.0.0",
       "_view_name": "LayoutView",
       "align_content": null,
       "align_items": null,
       "align_self": null,
       "border_bottom": null,
       "border_left": null,
       "border_right": null,
       "border_top": null,
       "bottom": null,
       "display": null,
       "flex": null,
       "flex_flow": null,
       "grid_area": null,
       "grid_auto_columns": null,
       "grid_auto_flow": null,
       "grid_auto_rows": null,
       "grid_column": null,
       "grid_gap": null,
       "grid_row": null,
       "grid_template_areas": null,
       "grid_template_columns": null,
       "grid_template_rows": null,
       "height": null,
       "justify_content": null,
       "justify_items": null,
       "left": null,
       "margin": null,
       "max_height": null,
       "max_width": null,
       "min_height": null,
       "min_width": null,
       "object_fit": null,
       "object_position": null,
       "order": null,
       "overflow": null,
       "padding": null,
       "right": null,
       "top": null,
       "visibility": null,
       "width": null
      }
     },
     "d61b7992b4c1406780b269eeaae3b6e2": {
      "model_module": "@jupyter-widgets/base",
      "model_module_version": "2.0.0",
      "model_name": "LayoutModel",
      "state": {
       "_model_module": "@jupyter-widgets/base",
       "_model_module_version": "2.0.0",
       "_model_name": "LayoutModel",
       "_view_count": null,
       "_view_module": "@jupyter-widgets/base",
       "_view_module_version": "2.0.0",
       "_view_name": "LayoutView",
       "align_content": null,
       "align_items": null,
       "align_self": null,
       "border_bottom": null,
       "border_left": null,
       "border_right": null,
       "border_top": null,
       "bottom": null,
       "display": null,
       "flex": null,
       "flex_flow": null,
       "grid_area": null,
       "grid_auto_columns": null,
       "grid_auto_flow": null,
       "grid_auto_rows": null,
       "grid_column": null,
       "grid_gap": null,
       "grid_row": null,
       "grid_template_areas": null,
       "grid_template_columns": null,
       "grid_template_rows": null,
       "height": null,
       "justify_content": null,
       "justify_items": null,
       "left": null,
       "margin": null,
       "max_height": null,
       "max_width": null,
       "min_height": null,
       "min_width": null,
       "object_fit": null,
       "object_position": null,
       "order": null,
       "overflow": null,
       "padding": null,
       "right": null,
       "top": null,
       "visibility": null,
       "width": null
      }
     },
     "f0b28464f7dc431299c8d055600cacd5": {
      "model_module": "@jupyter-widgets/base",
      "model_module_version": "2.0.0",
      "model_name": "LayoutModel",
      "state": {
       "_model_module": "@jupyter-widgets/base",
       "_model_module_version": "2.0.0",
       "_model_name": "LayoutModel",
       "_view_count": null,
       "_view_module": "@jupyter-widgets/base",
       "_view_module_version": "2.0.0",
       "_view_name": "LayoutView",
       "align_content": null,
       "align_items": null,
       "align_self": null,
       "border_bottom": null,
       "border_left": null,
       "border_right": null,
       "border_top": null,
       "bottom": null,
       "display": null,
       "flex": null,
       "flex_flow": null,
       "grid_area": null,
       "grid_auto_columns": null,
       "grid_auto_flow": null,
       "grid_auto_rows": null,
       "grid_column": null,
       "grid_gap": null,
       "grid_row": null,
       "grid_template_areas": null,
       "grid_template_columns": null,
       "grid_template_rows": null,
       "height": null,
       "justify_content": null,
       "justify_items": null,
       "left": null,
       "margin": null,
       "max_height": null,
       "max_width": null,
       "min_height": null,
       "min_width": null,
       "object_fit": null,
       "object_position": null,
       "order": null,
       "overflow": null,
       "padding": null,
       "right": null,
       "top": null,
       "visibility": null,
       "width": null
      }
     },
     "fd335c35f3e341cba0e7f3c3e78adf59": {
      "model_module": "@jupyter-widgets/controls",
      "model_module_version": "2.0.0",
      "model_name": "HBoxModel",
      "state": {
       "_dom_classes": [],
       "_model_module": "@jupyter-widgets/controls",
       "_model_module_version": "2.0.0",
       "_model_name": "HBoxModel",
       "_view_count": null,
       "_view_module": "@jupyter-widgets/controls",
       "_view_module_version": "2.0.0",
       "_view_name": "HBoxView",
       "box_style": "",
       "children": [
        "IPY_MODEL_310215a1c4584c04b256e9a3f04268c7",
        "IPY_MODEL_aad293f21f1c496cb9815be55bef87c2"
       ],
       "layout": "IPY_MODEL_5623763493144226b3cf9be28e03b2a4",
       "tabbable": null,
       "tooltip": null
      }
     }
    },
    "version_major": 2,
    "version_minor": 0
   }
  }
 },
 "nbformat": 4,
 "nbformat_minor": 5
}
