{
 "cells": [
  {
   "cell_type": "markdown",
   "id": "a4c24893",
   "metadata": {
    "cq.autogen": "title_cell"
   },
   "source": [
    "# Tensor Product"
   ]
  },
  {
   "cell_type": "code",
   "execution_count": 1,
   "id": "e8c4600b",
   "metadata": {
    "cq.autogen": "top_imports"
   },
   "outputs": [],
   "source": [
    "from qualtran import Bloq, CompositeBloq, BloqBuilder, Signature, Register\n",
    "from qualtran import QBit, QInt, QUInt, QAny\n",
    "from qualtran.drawing import show_bloq, show_call_graph, show_counts_sigma\n",
    "from typing import *\n",
    "import numpy as np\n",
    "import sympy\n",
    "import cirq"
   ]
  },
  {
   "cell_type": "markdown",
   "id": "a4845e5b",
   "metadata": {
    "cq.autogen": "TensorProduct.bloq_doc.md"
   },
   "source": [
    "## `TensorProduct`\n",
    "Tensor product of a sequence of block encodings.\n",
    "\n",
    "Builds the block encoding as\n",
    "$$\n",
    "    B[U_1 ⊗ U_2 ⊗ \\cdots ⊗ U_n] = B[U_1] ⊗ B[U_2] ⊗ \\cdots ⊗ B[U_n]\n",
    "$$\n",
    "\n",
    "When each $B[U_i]$ is a $(\\alpha_i, a_i, \\epsilon_i)$-block encoding of $U_i$, we have that\n",
    "$B[U_1 ⊗ \\cdots ⊗ U_n]$ is a $(\\prod_i \\alpha_i, \\sum_i a_i, \\sum_i \\alpha_i \\epsilon_i)$-block\n",
    "encoding of $U_1 ⊗ \\cdots ⊗ U_n$.\n",
    "\n",
    "#### Parameters\n",
    " - `block_encodings`: A sequence of block encodings. \n",
    "\n",
    "#### Registers\n",
    " - `system`: The system register.\n",
    " - `ancilla`: The ancilla register (present only if bitsize > 0).\n",
    " - `resource`: The resource register (present only if bitsize > 0). \n",
    "\n",
    "#### References\n",
    " - [Quantum algorithms: A survey of applications and end-to-end complexities](https://arxiv.org/abs/2310.03011). Dalzell et al. (2023). Ch. 10.2.\n"
   ]
  },
  {
   "cell_type": "code",
   "execution_count": 2,
   "id": "8707cfbc",
   "metadata": {
    "cq.autogen": "TensorProduct.bloq_doc.py"
   },
   "outputs": [],
   "source": [
    "from qualtran.bloqs.block_encoding import TensorProduct"
   ]
  },
  {
   "cell_type": "markdown",
   "id": "cb28a1c5",
   "metadata": {
    "cq.autogen": "TensorProduct.example_instances.md"
   },
   "source": [
    "### Example Instances"
   ]
  },
  {
   "cell_type": "code",
   "execution_count": 3,
   "id": "e861ef9b",
   "metadata": {
    "cq.autogen": "TensorProduct.tensor_product_block_encoding"
   },
   "outputs": [],
   "source": [
    "from qualtran.bloqs.basic_gates import Hadamard, TGate\n",
    "from qualtran.bloqs.block_encoding.unitary import Unitary\n",
    "\n",
    "tensor_product_block_encoding = TensorProduct((Unitary(TGate()), Unitary(Hadamard())))"
   ]
  },
  {
   "cell_type": "code",
   "execution_count": 4,
   "id": "81a8613d",
   "metadata": {
    "cq.autogen": "TensorProduct.tensor_product_block_encoding_properties"
   },
   "outputs": [],
   "source": [
    "from attrs import evolve\n",
    "\n",
    "from qualtran.bloqs.basic_gates import CNOT, TGate\n",
    "from qualtran.bloqs.block_encoding.unitary import Unitary\n",
    "\n",
    "u1 = evolve(Unitary(TGate()), alpha=0.5, ancilla_bitsize=2, resource_bitsize=1, epsilon=0.01)\n",
    "u2 = evolve(Unitary(CNOT()), alpha=0.5, ancilla_bitsize=1, resource_bitsize=1, epsilon=0.1)\n",
    "tensor_product_block_encoding_properties = TensorProduct((u1, u2))"
   ]
  },
  {
   "cell_type": "code",
   "execution_count": 5,
   "id": "b89beb2a",
   "metadata": {
    "cq.autogen": "TensorProduct.tensor_product_block_encoding_symb"
   },
   "outputs": [],
   "source": [
    "import sympy\n",
    "\n",
    "from qualtran.bloqs.basic_gates import Hadamard, TGate\n",
    "from qualtran.bloqs.block_encoding.unitary import Unitary\n",
    "\n",
    "alpha1 = sympy.Symbol('alpha1')\n",
    "a1 = sympy.Symbol('a1')\n",
    "eps1 = sympy.Symbol('eps1')\n",
    "alpha2 = sympy.Symbol('alpha2')\n",
    "a2 = sympy.Symbol('a2')\n",
    "eps2 = sympy.Symbol('eps2')\n",
    "tensor_product_block_encoding_symb = TensorProduct(\n",
    "    (\n",
    "        Unitary(TGate(), alpha=alpha1, ancilla_bitsize=a1, epsilon=eps1),\n",
    "        Unitary(Hadamard(), alpha=alpha2, ancilla_bitsize=a2, epsilon=eps2),\n",
    "    )\n",
    ")"
   ]
  },
  {
   "cell_type": "markdown",
   "id": "fa2885ef",
   "metadata": {
    "cq.autogen": "TensorProduct.graphical_signature.md"
   },
   "source": [
    "#### Graphical Signature"
   ]
  },
  {
   "cell_type": "code",
   "execution_count": 6,
   "id": "a9c951e2",
   "metadata": {
    "cq.autogen": "TensorProduct.graphical_signature.py"
   },
   "outputs": [
    {
     "data": {
      "application/vnd.jupyter.widget-view+json": {
       "model_id": "b3e52d599fbe4681be8bfaa9063b70f8",
       "version_major": 2,
       "version_minor": 0
      },
      "text/plain": [
       "HBox(children=(Output(outputs=({'output_type': 'display_data', 'data': {'text/plain': '<IPython.core.display.M…"
      ]
     },
     "metadata": {},
     "output_type": "display_data"
    }
   ],
   "source": [
    "from qualtran.drawing import show_bloqs\n",
    "show_bloqs([tensor_product_block_encoding, tensor_product_block_encoding_properties, tensor_product_block_encoding_symb],\n",
    "           ['`tensor_product_block_encoding`', '`tensor_product_block_encoding_properties`', '`tensor_product_block_encoding_symb`'])"
   ]
  },
  {
   "cell_type": "markdown",
   "id": "96bc0175",
   "metadata": {
    "cq.autogen": "TensorProduct.call_graph.md"
   },
   "source": [
    "### Call Graph"
   ]
  },
  {
   "cell_type": "code",
   "execution_count": 7,
   "id": "2a9c5e76",
   "metadata": {
    "cq.autogen": "TensorProduct.call_graph.py"
   },
   "outputs": [
    {
     "data": {
      "image/svg+xml": [
       "<svg xmlns=\"http://www.w3.org/2000/svg\" xmlns:xlink=\"http://www.w3.org/1999/xlink\" width=\"924pt\" height=\"131pt\" viewBox=\"0.00 0.00 924.00 131.00\">\n",
       "<g id=\"graph0\" class=\"graph\" transform=\"scale(1 1) rotate(0) translate(4 127)\">\n",
       "<title>counts</title>\n",
       "<polygon fill=\"white\" stroke=\"transparent\" points=\"-4,4 -4,-127 920,-127 920,4 -4,4\"/>\n",
       "<!-- b0 -->\n",
       "<g id=\"node1\" class=\"node\">\n",
       "<title>b0</title>\n",
       "<polygon fill=\"none\" stroke=\"black\" points=\"553,-123 368,-123 368,-87 553,-87 553,-123\"/>\n",
       "<text text-anchor=\"start\" x=\"435\" y=\"-106.8\" font-family=\"Times,serif\" font-size=\"14.00\">B[T⊗H]</text>\n",
       "<text text-anchor=\"start\" x=\"376\" y=\"-96\" font-family=\"monospace\" font-size=\"10.00\">block_encodings=(Unitary ...</text>\n",
       "</g>\n",
       "<!-- b1 -->\n",
       "<g id=\"node2\" class=\"node\">\n",
       "<title>b1</title>\n",
       "<polygon fill=\"none\" stroke=\"black\" points=\"455,-36 0,-36 0,0 455,0 455,-36\"/>\n",
       "<text text-anchor=\"start\" x=\"214\" y=\"-19.8\" font-family=\"Times,serif\" font-size=\"14.00\">B[T]</text>\n",
       "<text text-anchor=\"start\" x=\"8\" y=\"-9\" font-family=\"monospace\" font-size=\"10.00\">U=TGate(is ..., alpha=1, ancilla_bitsize=0, resource_bitsize=0, epsilon=0</text>\n",
       "</g>\n",
       "<!-- b0&#45;&gt;b1 -->\n",
       "<g id=\"edge1\" class=\"edge\">\n",
       "<title>b0-&gt;b1</title>\n",
       "<path fill=\"none\" stroke=\"black\" d=\"M413.63,-86.9C376.19,-73.24 323.58,-54.05 283.85,-39.56\"/>\n",
       "<polygon fill=\"black\" stroke=\"black\" points=\"284.89,-36.21 274.3,-36.07 282.49,-42.79 284.89,-36.21\"/>\n",
       "<text text-anchor=\"middle\" x=\"362\" y=\"-57.8\" font-family=\"Times,serif\" font-size=\"14.00\">1</text>\n",
       "</g>\n",
       "<!-- b2 -->\n",
       "<g id=\"node3\" class=\"node\">\n",
       "<title>b2</title>\n",
       "<polygon fill=\"none\" stroke=\"black\" points=\"916,-36 473,-36 473,0 916,0 916,-36\"/>\n",
       "<text text-anchor=\"start\" x=\"680.5\" y=\"-19.8\" font-family=\"Times,serif\" font-size=\"14.00\">B[H]</text>\n",
       "<text text-anchor=\"start\" x=\"481\" y=\"-9\" font-family=\"monospace\" font-size=\"10.00\">U=Hadamard(), alpha=1, ancilla_bitsize=0, resource_bitsize=0, epsilon=0</text>\n",
       "</g>\n",
       "<!-- b0&#45;&gt;b2 -->\n",
       "<g id=\"edge2\" class=\"edge\">\n",
       "<title>b0-&gt;b2</title>\n",
       "<path fill=\"none\" stroke=\"black\" d=\"M507.57,-86.9C545.18,-73.24 598,-54.05 637.91,-39.56\"/>\n",
       "<polygon fill=\"black\" stroke=\"black\" points=\"639.3,-42.78 647.5,-36.07 636.91,-36.2 639.3,-42.78\"/>\n",
       "<text text-anchor=\"middle\" x=\"596\" y=\"-57.8\" font-family=\"Times,serif\" font-size=\"14.00\">1</text>\n",
       "</g>\n",
       "</g>\n",
       "</svg>"
      ],
      "text/plain": [
       "<IPython.core.display.SVG object>"
      ]
     },
     "metadata": {},
     "output_type": "display_data"
    },
    {
     "data": {
      "text/markdown": [
       "#### Counts totals:\n",
       " - `B[H]`: 1\n",
       " - `B[T]`: 1"
      ],
      "text/plain": [
       "<IPython.core.display.Markdown object>"
      ]
     },
     "metadata": {},
     "output_type": "display_data"
    }
   ],
   "source": [
    "from qualtran.resource_counting.generalizers import ignore_split_join\n",
    "tensor_product_block_encoding_g, tensor_product_block_encoding_sigma = tensor_product_block_encoding.call_graph(max_depth=1, generalizer=ignore_split_join)\n",
    "show_call_graph(tensor_product_block_encoding_g)\n",
    "show_counts_sigma(tensor_product_block_encoding_sigma)"
   ]
  }
 ],
 "metadata": {
  "kernelspec": {
   "display_name": "Python 3",
   "language": "python",
   "name": "python3"
  },
  "language_info": {
   "codemirror_mode": {
    "name": "ipython",
    "version": 3
   },
   "file_extension": ".py",
   "mimetype": "text/x-python",
   "name": "python",
   "nbconvert_exporter": "python",
   "pygments_lexer": "ipython3",
   "version": "3.11.8"
  },
  "widgets": {
   "application/vnd.jupyter.widget-state+json": {
    "state": {
     "0479f16b123b4b84bbf093964380b574": {
      "model_module": "@jupyter-widgets/base",
      "model_module_version": "2.0.0",
      "model_name": "LayoutModel",
      "state": {
       "_model_module": "@jupyter-widgets/base",
       "_model_module_version": "2.0.0",
       "_model_name": "LayoutModel",
       "_view_count": null,
       "_view_module": "@jupyter-widgets/base",
       "_view_module_version": "2.0.0",
       "_view_name": "LayoutView",
       "align_content": null,
       "align_items": null,
       "align_self": null,
       "border_bottom": null,
       "border_left": null,
       "border_right": null,
       "border_top": null,
       "bottom": null,
       "display": null,
       "flex": null,
       "flex_flow": null,
       "grid_area": null,
       "grid_auto_columns": null,
       "grid_auto_flow": null,
       "grid_auto_rows": null,
       "grid_column": null,
       "grid_gap": null,
       "grid_row": null,
       "grid_template_areas": null,
       "grid_template_columns": null,
       "grid_template_rows": null,
       "height": null,
       "justify_content": null,
       "justify_items": null,
       "left": null,
       "margin": null,
       "max_height": null,
       "max_width": null,
       "min_height": null,
       "min_width": null,
       "object_fit": null,
       "object_position": null,
       "order": null,
       "overflow": null,
       "padding": null,
       "right": null,
       "top": null,
       "visibility": null,
       "width": null
      }
     },
     "520bea501ffa4ce597199740009fc14c": {
      "model_module": "@jupyter-widgets/base",
      "model_module_version": "2.0.0",
      "model_name": "LayoutModel",
      "state": {
       "_model_module": "@jupyter-widgets/base",
       "_model_module_version": "2.0.0",
       "_model_name": "LayoutModel",
       "_view_count": null,
       "_view_module": "@jupyter-widgets/base",
       "_view_module_version": "2.0.0",
       "_view_name": "LayoutView",
       "align_content": null,
       "align_items": null,
       "align_self": null,
       "border_bottom": null,
       "border_left": null,
       "border_right": null,
       "border_top": null,
       "bottom": null,
       "display": null,
       "flex": null,
       "flex_flow": null,
       "grid_area": null,
       "grid_auto_columns": null,
       "grid_auto_flow": null,
       "grid_auto_rows": null,
       "grid_column": null,
       "grid_gap": null,
       "grid_row": null,
       "grid_template_areas": null,
       "grid_template_columns": null,
       "grid_template_rows": null,
       "height": null,
       "justify_content": null,
       "justify_items": null,
       "left": null,
       "margin": null,
       "max_height": null,
       "max_width": null,
       "min_height": null,
       "min_width": null,
       "object_fit": null,
       "object_position": null,
       "order": null,
       "overflow": null,
       "padding": null,
       "right": null,
       "top": null,
       "visibility": null,
       "width": null
      }
     },
     "52888d4f9490480d977553b3669cbcb2": {
      "model_module": "@jupyter-widgets/output",
      "model_module_version": "1.0.0",
      "model_name": "OutputModel",
      "state": {
       "_dom_classes": [],
       "_model_module": "@jupyter-widgets/output",
       "_model_module_version": "1.0.0",
       "_model_name": "OutputModel",
       "_view_count": null,
       "_view_module": "@jupyter-widgets/output",
       "_view_module_version": "1.0.0",
       "_view_name": "OutputView",
       "layout": "IPY_MODEL_9a92bcc80f434843a576a911f705b3a0",
       "msg_id": "",
       "outputs": [
        {
         "data": {
          "text/markdown": "`tensor_product_block_encoding`",
          "text/plain": "<IPython.core.display.Markdown object>"
         },
         "metadata": {},
         "output_type": "display_data"
        },
        {
         "data": {
          "image/svg+xml": "<svg xmlns=\"http://www.w3.org/2000/svg\" xmlns:xlink=\"http://www.w3.org/1999/xlink\" width=\"237pt\" height=\"54pt\" viewBox=\"0.00 0.00 237.00 54.00\">\n<g id=\"graph0\" class=\"graph\" transform=\"scale(1 1) rotate(0) translate(4 50)\">\n<title>my_graph</title>\n<polygon fill=\"white\" stroke=\"transparent\" points=\"-4,4 -4,-50 233,-50 233,4 -4,4\"/>\n<!-- system_G0 -->\n<g id=\"node1\" class=\"node\">\n<title>system_G0</title>\n<text text-anchor=\"middle\" x=\"27.5\" y=\"-14.3\" font-family=\"Times,serif\" font-size=\"14.00\">system</text>\n</g>\n<!-- TensorProduct -->\n<g id=\"node2\" class=\"node\">\n<title>TensorProduct</title>\n<polygon fill=\"none\" stroke=\"black\" points=\"92.5,-29 92.5,-46 137.5,-46 137.5,-29 92.5,-29\"/>\n<text text-anchor=\"start\" x=\"96.5\" y=\"-35\" font-family=\"Times,serif\" font-size=\"10.00\">B[T⊗H]</text>\n<polygon fill=\"none\" stroke=\"black\" points=\"92.5,-8 92.5,-29 137.5,-29 137.5,-8 92.5,-8\"/>\n<text text-anchor=\"start\" x=\"95.5\" y=\"-14.8\" font-family=\"Times,serif\" font-size=\"14.00\">system</text>\n</g>\n<!-- system_G0&#45;&gt;TensorProduct -->\n<g id=\"edge1\" class=\"edge\">\n<title>system_G0:e-&gt;TensorProduct:w</title>\n<path fill=\"none\" stroke=\"black\" d=\"M55,-18C70.67,-18 75.14,-18 89.77,-18\"/>\n<ellipse fill=\"black\" stroke=\"black\" cx=\"91\" cy=\"-18\" rx=\"1\" ry=\"1\"/>\n<text text-anchor=\"middle\" x=\"73.5\" y=\"-21\" font-family=\"Times,serif\" font-size=\"10.00\">2</text>\n</g>\n<!-- system_G2 -->\n<g id=\"node3\" class=\"node\">\n<title>system_G2</title>\n<text text-anchor=\"middle\" x=\"201.5\" y=\"-14.3\" font-family=\"Times,serif\" font-size=\"14.00\">system</text>\n</g>\n<!-- TensorProduct&#45;&gt;system_G2 -->\n<g id=\"edge2\" class=\"edge\">\n<title>TensorProduct:e-&gt;system_G2:w</title>\n<path fill=\"none\" stroke=\"black\" d=\"M137,-18C152.67,-18 157.14,-18 171.77,-18\"/>\n<ellipse fill=\"black\" stroke=\"black\" cx=\"173\" cy=\"-18\" rx=\"1\" ry=\"1\"/>\n<text text-anchor=\"middle\" x=\"155.5\" y=\"-21\" font-family=\"Times,serif\" font-size=\"10.00\">2</text>\n</g>\n</g>\n</svg>",
          "text/plain": "<IPython.core.display.SVG object>"
         },
         "metadata": {},
         "output_type": "display_data"
        }
       ],
       "tabbable": null,
       "tooltip": null
      }
     },
     "52a97eaa3fb94e72bd31ddaf772bfce3": {
      "model_module": "@jupyter-widgets/output",
      "model_module_version": "1.0.0",
      "model_name": "OutputModel",
      "state": {
       "_dom_classes": [],
       "_model_module": "@jupyter-widgets/output",
       "_model_module_version": "1.0.0",
       "_model_name": "OutputModel",
       "_view_count": null,
       "_view_module": "@jupyter-widgets/output",
       "_view_module_version": "1.0.0",
       "_view_name": "OutputView",
       "layout": "IPY_MODEL_0479f16b123b4b84bbf093964380b574",
       "msg_id": "",
       "outputs": [
        {
         "data": {
          "text/markdown": "`tensor_product_block_encoding_symb`",
          "text/plain": "<IPython.core.display.Markdown object>"
         },
         "metadata": {},
         "output_type": "display_data"
        },
        {
         "data": {
          "image/svg+xml": "<svg xmlns=\"http://www.w3.org/2000/svg\" xmlns:xlink=\"http://www.w3.org/1999/xlink\" width=\"237pt\" height=\"98pt\" viewBox=\"0.00 0.00 237.00 98.00\">\n<g id=\"graph0\" class=\"graph\" transform=\"scale(1 1) rotate(0) translate(4 94)\">\n<title>my_graph</title>\n<polygon fill=\"white\" stroke=\"transparent\" points=\"-4,4 -4,-94 233,-94 233,4 -4,4\"/>\n<!-- system_G3 -->\n<g id=\"node1\" class=\"node\">\n<title>system_G3</title>\n<text text-anchor=\"middle\" x=\"27.5\" y=\"-68.3\" font-family=\"Times,serif\" font-size=\"14.00\">system</text>\n</g>\n<!-- TensorProduct -->\n<g id=\"node3\" class=\"node\">\n<title>TensorProduct</title>\n<polygon fill=\"none\" stroke=\"black\" points=\"92.5,-66 92.5,-83 137.5,-83 137.5,-66 92.5,-66\"/>\n<text text-anchor=\"start\" x=\"96.5\" y=\"-72\" font-family=\"Times,serif\" font-size=\"10.00\">B[T⊗H]</text>\n<polygon fill=\"none\" stroke=\"black\" points=\"92.5,-45 92.5,-66 137.5,-66 137.5,-45 92.5,-45\"/>\n<text text-anchor=\"start\" x=\"95.5\" y=\"-51.8\" font-family=\"Times,serif\" font-size=\"14.00\">system</text>\n<polygon fill=\"none\" stroke=\"black\" points=\"92.5,-24 92.5,-45 137.5,-45 137.5,-24 92.5,-24\"/>\n<text text-anchor=\"start\" x=\"96.5\" y=\"-30.8\" font-family=\"Times,serif\" font-size=\"14.00\">ancilla</text>\n</g>\n<!-- system_G3&#45;&gt;TensorProduct -->\n<g id=\"edge1\" class=\"edge\">\n<title>system_G3:e-&gt;TensorProduct:w</title>\n<path fill=\"none\" stroke=\"black\" d=\"M55,-72C72.22,-72 73.97,-57.23 89.98,-56.07\"/>\n<ellipse fill=\"black\" stroke=\"black\" cx=\"91\" cy=\"-56.04\" rx=\"1\" ry=\"1\"/>\n<text text-anchor=\"middle\" x=\"73.5\" y=\"-67\" font-family=\"Times,serif\" font-size=\"10.00\">2</text>\n</g>\n<!-- ancilla_G4 -->\n<g id=\"node2\" class=\"node\">\n<title>ancilla_G4</title>\n<text text-anchor=\"middle\" x=\"27.5\" y=\"-14.3\" font-family=\"Times,serif\" font-size=\"14.00\">ancilla</text>\n</g>\n<!-- ancilla_G4&#45;&gt;TensorProduct -->\n<g id=\"edge2\" class=\"edge\">\n<title>ancilla_G4:e-&gt;TensorProduct:w</title>\n<path fill=\"none\" stroke=\"black\" d=\"M55,-18C72.22,-18 73.97,-32.77 89.98,-33.93\"/>\n<ellipse fill=\"black\" stroke=\"black\" cx=\"91\" cy=\"-33.96\" rx=\"1\" ry=\"1\"/>\n<text text-anchor=\"middle\" x=\"73.5\" y=\"-29\" font-family=\"Times,serif\" font-size=\"10.00\">a1 + a2</text>\n</g>\n<!-- system_G5 -->\n<g id=\"node4\" class=\"node\">\n<title>system_G5</title>\n<text text-anchor=\"middle\" x=\"201.5\" y=\"-68.3\" font-family=\"Times,serif\" font-size=\"14.00\">system</text>\n</g>\n<!-- TensorProduct&#45;&gt;system_G5 -->\n<g id=\"edge3\" class=\"edge\">\n<title>TensorProduct:e-&gt;system_G5:w</title>\n<path fill=\"none\" stroke=\"black\" d=\"M137,-56C154.22,-56 155.97,-70.77 171.98,-71.93\"/>\n<ellipse fill=\"black\" stroke=\"black\" cx=\"173\" cy=\"-71.96\" rx=\"1\" ry=\"1\"/>\n<text text-anchor=\"middle\" x=\"155.5\" y=\"-67\" font-family=\"Times,serif\" font-size=\"10.00\">2</text>\n</g>\n<!-- ancilla_G1 -->\n<g id=\"node5\" class=\"node\">\n<title>ancilla_G1</title>\n<text text-anchor=\"middle\" x=\"201.5\" y=\"-14.3\" font-family=\"Times,serif\" font-size=\"14.00\">ancilla</text>\n</g>\n<!-- TensorProduct&#45;&gt;ancilla_G1 -->\n<g id=\"edge4\" class=\"edge\">\n<title>TensorProduct:e-&gt;ancilla_G1:w</title>\n<path fill=\"none\" stroke=\"black\" d=\"M137,-34C154.22,-34 155.97,-19.23 171.98,-18.07\"/>\n<ellipse fill=\"black\" stroke=\"black\" cx=\"173\" cy=\"-18.04\" rx=\"1\" ry=\"1\"/>\n<text text-anchor=\"middle\" x=\"155.5\" y=\"-29\" font-family=\"Times,serif\" font-size=\"10.00\">a1 + a2</text>\n</g>\n</g>\n</svg>",
          "text/plain": "<IPython.core.display.SVG object>"
         },
         "metadata": {},
         "output_type": "display_data"
        }
       ],
       "tabbable": null,
       "tooltip": null
      }
     },
     "9a92bcc80f434843a576a911f705b3a0": {
      "model_module": "@jupyter-widgets/base",
      "model_module_version": "2.0.0",
      "model_name": "LayoutModel",
      "state": {
       "_model_module": "@jupyter-widgets/base",
       "_model_module_version": "2.0.0",
       "_model_name": "LayoutModel",
       "_view_count": null,
       "_view_module": "@jupyter-widgets/base",
       "_view_module_version": "2.0.0",
       "_view_name": "LayoutView",
       "align_content": null,
       "align_items": null,
       "align_self": null,
       "border_bottom": null,
       "border_left": null,
       "border_right": null,
       "border_top": null,
       "bottom": null,
       "display": null,
       "flex": null,
       "flex_flow": null,
       "grid_area": null,
       "grid_auto_columns": null,
       "grid_auto_flow": null,
       "grid_auto_rows": null,
       "grid_column": null,
       "grid_gap": null,
       "grid_row": null,
       "grid_template_areas": null,
       "grid_template_columns": null,
       "grid_template_rows": null,
       "height": null,
       "justify_content": null,
       "justify_items": null,
       "left": null,
       "margin": null,
       "max_height": null,
       "max_width": null,
       "min_height": null,
       "min_width": null,
       "object_fit": null,
       "object_position": null,
       "order": null,
       "overflow": null,
       "padding": null,
       "right": null,
       "top": null,
       "visibility": null,
       "width": null
      }
     },
     "b3e52d599fbe4681be8bfaa9063b70f8": {
      "model_module": "@jupyter-widgets/controls",
      "model_module_version": "2.0.0",
      "model_name": "HBoxModel",
      "state": {
       "_dom_classes": [],
       "_model_module": "@jupyter-widgets/controls",
       "_model_module_version": "2.0.0",
       "_model_name": "HBoxModel",
       "_view_count": null,
       "_view_module": "@jupyter-widgets/controls",
       "_view_module_version": "2.0.0",
       "_view_name": "HBoxView",
       "box_style": "",
       "children": [
        "IPY_MODEL_52888d4f9490480d977553b3669cbcb2",
        "IPY_MODEL_d37b72c6fb1f46c7b47ec4875423d181",
        "IPY_MODEL_52a97eaa3fb94e72bd31ddaf772bfce3"
       ],
       "layout": "IPY_MODEL_f781df424e2d458ab73432c732e08be9",
       "tabbable": null,
       "tooltip": null
      }
     },
     "d37b72c6fb1f46c7b47ec4875423d181": {
      "model_module": "@jupyter-widgets/output",
      "model_module_version": "1.0.0",
      "model_name": "OutputModel",
      "state": {
       "_dom_classes": [],
       "_model_module": "@jupyter-widgets/output",
       "_model_module_version": "1.0.0",
       "_model_name": "OutputModel",
       "_view_count": null,
       "_view_module": "@jupyter-widgets/output",
       "_view_module_version": "1.0.0",
       "_view_name": "OutputView",
       "layout": "IPY_MODEL_520bea501ffa4ce597199740009fc14c",
       "msg_id": "",
       "outputs": [
        {
         "data": {
          "text/markdown": "`tensor_product_block_encoding_properties`",
          "text/plain": "<IPython.core.display.Markdown object>"
         },
         "metadata": {},
         "output_type": "display_data"
        },
        {
         "data": {
          "image/svg+xml": "<svg xmlns=\"http://www.w3.org/2000/svg\" xmlns:xlink=\"http://www.w3.org/1999/xlink\" width=\"269pt\" height=\"152pt\" viewBox=\"0.00 0.00 269.00 152.00\">\n<g id=\"graph0\" class=\"graph\" transform=\"scale(1 1) rotate(0) translate(4 148)\">\n<title>my_graph</title>\n<polygon fill=\"white\" stroke=\"transparent\" points=\"-4,4 -4,-148 265,-148 265,4 -4,4\"/>\n<!-- system_G5 -->\n<g id=\"node1\" class=\"node\">\n<title>system_G5</title>\n<text text-anchor=\"middle\" x=\"31\" y=\"-122.3\" font-family=\"Times,serif\" font-size=\"14.00\">system</text>\n</g>\n<!-- TensorProduct -->\n<g id=\"node4\" class=\"node\">\n<title>TensorProduct</title>\n<polygon fill=\"none\" stroke=\"black\" points=\"99.5,-104 99.5,-121 162.5,-121 162.5,-104 99.5,-104\"/>\n<text text-anchor=\"start\" x=\"102.5\" y=\"-110\" font-family=\"Times,serif\" font-size=\"10.00\">B[T⊗CNOT]</text>\n<polygon fill=\"none\" stroke=\"black\" points=\"99.5,-83 99.5,-104 162.5,-104 162.5,-83 99.5,-83\"/>\n<text text-anchor=\"start\" x=\"111.5\" y=\"-89.8\" font-family=\"Times,serif\" font-size=\"14.00\">system</text>\n<polygon fill=\"none\" stroke=\"black\" points=\"99.5,-62 99.5,-83 162.5,-83 162.5,-62 99.5,-62\"/>\n<text text-anchor=\"start\" x=\"112.5\" y=\"-68.8\" font-family=\"Times,serif\" font-size=\"14.00\">ancilla</text>\n<polygon fill=\"none\" stroke=\"black\" points=\"99.5,-41 99.5,-62 162.5,-62 162.5,-41 99.5,-41\"/>\n<text text-anchor=\"start\" x=\"108\" y=\"-47.8\" font-family=\"Times,serif\" font-size=\"14.00\">resource</text>\n</g>\n<!-- system_G5&#45;&gt;TensorProduct -->\n<g id=\"edge1\" class=\"edge\">\n<title>system_G5:e-&gt;TensorProduct:w</title>\n<path fill=\"none\" stroke=\"black\" d=\"M60,-126C81.72,-126 76.92,-95.97 96.98,-94.09\"/>\n<ellipse fill=\"black\" stroke=\"black\" cx=\"98\" cy=\"-94.05\" rx=\"1\" ry=\"1\"/>\n<text text-anchor=\"middle\" x=\"80.5\" y=\"-111\" font-family=\"Times,serif\" font-size=\"10.00\">3</text>\n</g>\n<!-- ancilla_G6 -->\n<g id=\"node2\" class=\"node\">\n<title>ancilla_G6</title>\n<text text-anchor=\"middle\" x=\"31\" y=\"-68.3\" font-family=\"Times,serif\" font-size=\"14.00\">ancilla</text>\n</g>\n<!-- ancilla_G6&#45;&gt;TensorProduct -->\n<g id=\"edge2\" class=\"edge\">\n<title>ancilla_G6:e-&gt;TensorProduct:w</title>\n<path fill=\"none\" stroke=\"black\" d=\"M59,-72C76.08,-72 80.85,-72 96.98,-72\"/>\n<ellipse fill=\"black\" stroke=\"black\" cx=\"98\" cy=\"-72\" rx=\"1\" ry=\"1\"/>\n<text text-anchor=\"middle\" x=\"80.5\" y=\"-75\" font-family=\"Times,serif\" font-size=\"10.00\">3</text>\n</g>\n<!-- resource_G2 -->\n<g id=\"node3\" class=\"node\">\n<title>resource_G2</title>\n<text text-anchor=\"middle\" x=\"31\" y=\"-14.3\" font-family=\"Times,serif\" font-size=\"14.00\">resource</text>\n</g>\n<!-- resource_G2&#45;&gt;TensorProduct -->\n<g id=\"edge3\" class=\"edge\">\n<title>resource_G2:e-&gt;TensorProduct:w</title>\n<path fill=\"none\" stroke=\"black\" d=\"M62,-18C83.17,-18 77.47,-48.47 96.55,-50.85\"/>\n<ellipse fill=\"black\" stroke=\"black\" cx=\"98\" cy=\"-50.94\" rx=\"1\" ry=\"1\"/>\n<text text-anchor=\"middle\" x=\"80.5\" y=\"-39\" font-family=\"Times,serif\" font-size=\"10.00\">2</text>\n</g>\n<!-- system_G0 -->\n<g id=\"node5\" class=\"node\">\n<title>system_G0</title>\n<text text-anchor=\"middle\" x=\"230\" y=\"-122.3\" font-family=\"Times,serif\" font-size=\"14.00\">system</text>\n</g>\n<!-- TensorProduct&#45;&gt;system_G0 -->\n<g id=\"edge4\" class=\"edge\">\n<title>TensorProduct:e-&gt;system_G0:w</title>\n<path fill=\"none\" stroke=\"black\" d=\"M162,-94C183.72,-94 178.92,-124.03 198.98,-125.91\"/>\n<ellipse fill=\"black\" stroke=\"black\" cx=\"200\" cy=\"-125.95\" rx=\"1\" ry=\"1\"/>\n<text text-anchor=\"middle\" x=\"180.5\" y=\"-111\" font-family=\"Times,serif\" font-size=\"10.00\">3</text>\n</g>\n<!-- ancilla_G3 -->\n<g id=\"node6\" class=\"node\">\n<title>ancilla_G3</title>\n<text text-anchor=\"middle\" x=\"230\" y=\"-68.3\" font-family=\"Times,serif\" font-size=\"14.00\">ancilla</text>\n</g>\n<!-- TensorProduct&#45;&gt;ancilla_G3 -->\n<g id=\"edge5\" class=\"edge\">\n<title>TensorProduct:e-&gt;ancilla_G3:w</title>\n<path fill=\"none\" stroke=\"black\" d=\"M162,-72C179.08,-72 183.85,-72 199.98,-72\"/>\n<ellipse fill=\"black\" stroke=\"black\" cx=\"201\" cy=\"-72\" rx=\"1\" ry=\"1\"/>\n<text text-anchor=\"middle\" x=\"180.5\" y=\"-75\" font-family=\"Times,serif\" font-size=\"10.00\">3</text>\n</g>\n<!-- resource_G7 -->\n<g id=\"node7\" class=\"node\">\n<title>resource_G7</title>\n<text text-anchor=\"middle\" x=\"230\" y=\"-14.3\" font-family=\"Times,serif\" font-size=\"14.00\">resource</text>\n</g>\n<!-- TensorProduct&#45;&gt;resource_G7 -->\n<g id=\"edge6\" class=\"edge\">\n<title>TensorProduct:e-&gt;resource_G7:w</title>\n<path fill=\"none\" stroke=\"black\" d=\"M162,-51C183.17,-51 177.47,-20.53 196.55,-18.15\"/>\n<ellipse fill=\"black\" stroke=\"black\" cx=\"198\" cy=\"-18.06\" rx=\"1\" ry=\"1\"/>\n<text text-anchor=\"middle\" x=\"180.5\" y=\"-39\" font-family=\"Times,serif\" font-size=\"10.00\">2</text>\n</g>\n</g>\n</svg>",
          "text/plain": "<IPython.core.display.SVG object>"
         },
         "metadata": {},
         "output_type": "display_data"
        }
       ],
       "tabbable": null,
       "tooltip": null
      }
     },
     "f781df424e2d458ab73432c732e08be9": {
      "model_module": "@jupyter-widgets/base",
      "model_module_version": "2.0.0",
      "model_name": "LayoutModel",
      "state": {
       "_model_module": "@jupyter-widgets/base",
       "_model_module_version": "2.0.0",
       "_model_name": "LayoutModel",
       "_view_count": null,
       "_view_module": "@jupyter-widgets/base",
       "_view_module_version": "2.0.0",
       "_view_name": "LayoutView",
       "align_content": null,
       "align_items": null,
       "align_self": null,
       "border_bottom": null,
       "border_left": null,
       "border_right": null,
       "border_top": null,
       "bottom": null,
       "display": null,
       "flex": null,
       "flex_flow": null,
       "grid_area": null,
       "grid_auto_columns": null,
       "grid_auto_flow": null,
       "grid_auto_rows": null,
       "grid_column": null,
       "grid_gap": null,
       "grid_row": null,
       "grid_template_areas": null,
       "grid_template_columns": null,
       "grid_template_rows": null,
       "height": null,
       "justify_content": null,
       "justify_items": null,
       "left": null,
       "margin": null,
       "max_height": null,
       "max_width": null,
       "min_height": null,
       "min_width": null,
       "object_fit": null,
       "object_position": null,
       "order": null,
       "overflow": null,
       "padding": null,
       "right": null,
       "top": null,
       "visibility": null,
       "width": null
      }
     }
    },
    "version_major": 2,
    "version_minor": 0
   }
  }
 },
 "nbformat": 4,
 "nbformat_minor": 5
}
