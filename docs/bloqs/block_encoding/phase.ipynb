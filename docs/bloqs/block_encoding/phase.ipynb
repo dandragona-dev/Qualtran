{
 "cells": [
  {
   "cell_type": "markdown",
   "id": "7f85bcf7",
   "metadata": {
    "cq.autogen": "title_cell"
   },
   "source": [
    "# Phase"
   ]
  },
  {
   "cell_type": "code",
   "execution_count": 1,
   "id": "9425e59d",
   "metadata": {
    "cq.autogen": "top_imports"
   },
   "outputs": [],
   "source": [
    "from qualtran import Bloq, CompositeBloq, BloqBuilder, Signature, Register\n",
    "from qualtran import QBit, QInt, QUInt, QAny\n",
    "from qualtran.drawing import show_bloq, show_call_graph, show_counts_sigma\n",
    "from typing import *\n",
    "import numpy as np\n",
    "import sympy\n",
    "import cirq"
   ]
  },
  {
   "cell_type": "markdown",
   "id": "cab11f17",
   "metadata": {
    "cq.autogen": "Phase.bloq_doc.md"
   },
   "source": [
    "## `Phase`\n",
    "Apply a phase to a block encoding.\n",
    "\n",
    "Given $B[A]$ as a $(\\alpha, a, \\epsilon)$-block encoding of $A$, produces a\n",
    "$(\\alpha, a, \\epsilon)$-block encoding of $\\exp(i\\pi\\phi)A$.\n",
    "\n",
    "#### Parameters\n",
    " - `block_encoding`: The block encoding to apply a phase to.\n",
    " - `phi`: The phase angle.\n",
    " - `eps`: The precision of the phase angle. \n",
    "\n",
    "#### Registers\n",
    " - `system`: The system register.\n",
    " - `ancilla`: The ancilla register (present only if bitsize > 0).\n",
    " - `resource`: The resource register (present only if bitsize > 0).\n"
   ]
  },
  {
   "cell_type": "code",
   "execution_count": 2,
   "id": "b3b17d4f",
   "metadata": {
    "cq.autogen": "Phase.bloq_doc.py"
   },
   "outputs": [],
   "source": [
    "from qualtran.bloqs.block_encoding import Phase"
   ]
  },
  {
   "cell_type": "markdown",
   "id": "9d300310",
   "metadata": {
    "cq.autogen": "Phase.example_instances.md"
   },
   "source": [
    "### Example Instances"
   ]
  },
  {
   "cell_type": "code",
   "execution_count": 3,
   "id": "62539a3e",
   "metadata": {
    "cq.autogen": "Phase.phase_block_encoding"
   },
   "outputs": [],
   "source": [
    "from qualtran.bloqs.basic_gates import Hadamard\n",
    "from qualtran.bloqs.block_encoding.unitary import Unitary\n",
    "\n",
    "phase_block_encoding = Phase(Unitary(Hadamard()), phi=0.25, eps=0)"
   ]
  },
  {
   "cell_type": "markdown",
   "id": "a7522032",
   "metadata": {
    "cq.autogen": "Phase.graphical_signature.md"
   },
   "source": [
    "#### Graphical Signature"
   ]
  },
  {
   "cell_type": "code",
   "execution_count": 4,
   "id": "aad41f5c",
   "metadata": {
    "cq.autogen": "Phase.graphical_signature.py"
   },
   "outputs": [
    {
     "data": {
      "application/vnd.jupyter.widget-view+json": {
       "model_id": "b1ec59fa5eb24667a35bbe81a35a752c",
       "version_major": 2,
       "version_minor": 0
      },
      "text/plain": [
       "HBox(children=(Output(outputs=({'output_type': 'display_data', 'data': {'text/plain': '<IPython.core.display.M…"
      ]
     },
     "metadata": {},
     "output_type": "display_data"
    }
   ],
   "source": [
    "from qualtran.drawing import show_bloqs\n",
    "show_bloqs([phase_block_encoding],\n",
    "           ['`phase_block_encoding`'])"
   ]
  },
  {
   "cell_type": "markdown",
   "id": "c2a7f83d",
   "metadata": {
    "cq.autogen": "Phase.call_graph.md"
   },
   "source": [
    "### Call Graph"
   ]
  },
  {
   "cell_type": "code",
   "execution_count": 5,
   "id": "755d7f35",
   "metadata": {
    "cq.autogen": "Phase.call_graph.py"
   },
   "outputs": [
    {
     "data": {
      "image/svg+xml": [
       "<svg xmlns=\"http://www.w3.org/2000/svg\" xmlns:xlink=\"http://www.w3.org/1999/xlink\" width=\"794pt\" height=\"131pt\" viewBox=\"0.00 0.00 794.00 131.00\">\n",
       "<g id=\"graph0\" class=\"graph\" transform=\"scale(1 1) rotate(0) translate(4 127)\">\n",
       "<title>counts</title>\n",
       "<polygon fill=\"white\" stroke=\"transparent\" points=\"-4,4 -4,-127 790,-127 790,4 -4,4\"/>\n",
       "<!-- b0 -->\n",
       "<g id=\"node1\" class=\"node\">\n",
       "<title>b0</title>\n",
       "<polygon fill=\"none\" stroke=\"black\" points=\"563,-123 282,-123 282,-87 563,-87 563,-123\"/>\n",
       "<text text-anchor=\"start\" x=\"380\" y=\"-106.8\" font-family=\"Times,serif\" font-size=\"14.00\">B[exp(0.25i)H]</text>\n",
       "<text text-anchor=\"start\" x=\"290\" y=\"-96\" font-family=\"monospace\" font-size=\"10.00\">block_encoding=Unitary( ..., phi=0.25, eps=0</text>\n",
       "</g>\n",
       "<!-- b1 -->\n",
       "<g id=\"node2\" class=\"node\">\n",
       "<title>b1</title>\n",
       "<polygon fill=\"none\" stroke=\"black\" points=\"443,-36 0,-36 0,0 443,0 443,-36\"/>\n",
       "<text text-anchor=\"start\" x=\"207.5\" y=\"-19.8\" font-family=\"Times,serif\" font-size=\"14.00\">B[H]</text>\n",
       "<text text-anchor=\"start\" x=\"8\" y=\"-9\" font-family=\"monospace\" font-size=\"10.00\">U=Hadamard(), alpha=1, ancilla_bitsize=0, resource_bitsize=0, epsilon=0</text>\n",
       "</g>\n",
       "<!-- b0&#45;&gt;b1 -->\n",
       "<g id=\"edge1\" class=\"edge\">\n",
       "<title>b0-&gt;b1</title>\n",
       "<path fill=\"none\" stroke=\"black\" d=\"M381.82,-86.8C349.84,-73.27 305.16,-54.38 271.08,-39.97\"/>\n",
       "<polygon fill=\"black\" stroke=\"black\" points=\"272.34,-36.7 261.77,-36.03 269.62,-43.15 272.34,-36.7\"/>\n",
       "<text text-anchor=\"middle\" x=\"338\" y=\"-57.8\" font-family=\"Times,serif\" font-size=\"14.00\">1</text>\n",
       "</g>\n",
       "<!-- b2 -->\n",
       "<g id=\"node3\" class=\"node\">\n",
       "<title>b2</title>\n",
       "<polygon fill=\"none\" stroke=\"black\" points=\"786,-36 461,-36 461,0 786,0 786,-36\"/>\n",
       "<text text-anchor=\"start\" x=\"469\" y=\"-19.8\" font-family=\"Times,serif\" font-size=\"14.00\">GPhase((0.7071067811865476+0.7071067811865475j))</text>\n",
       "<text text-anchor=\"start\" x=\"563\" y=\"-9\" font-family=\"monospace\" font-size=\"10.00\">exponent=0.25, eps=0</text>\n",
       "</g>\n",
       "<!-- b0&#45;&gt;b2 -->\n",
       "<g id=\"edge2\" class=\"edge\">\n",
       "<title>b0-&gt;b2</title>\n",
       "<path fill=\"none\" stroke=\"black\" d=\"M463.18,-86.8C495.16,-73.27 539.84,-54.38 573.92,-39.97\"/>\n",
       "<polygon fill=\"black\" stroke=\"black\" points=\"575.38,-43.15 583.23,-36.03 572.66,-36.7 575.38,-43.15\"/>\n",
       "<text text-anchor=\"middle\" x=\"539\" y=\"-57.8\" font-family=\"Times,serif\" font-size=\"14.00\">1</text>\n",
       "</g>\n",
       "</g>\n",
       "</svg>"
      ],
      "text/plain": [
       "<IPython.core.display.SVG object>"
      ]
     },
     "metadata": {},
     "output_type": "display_data"
    },
    {
     "data": {
      "text/markdown": [
       "#### Counts totals:\n",
       " - `B[H]`: 1\n",
       " - `GPhase((0.7071067811865476+0.7071067811865475j))`: 1"
      ],
      "text/plain": [
       "<IPython.core.display.Markdown object>"
      ]
     },
     "metadata": {},
     "output_type": "display_data"
    }
   ],
   "source": [
    "from qualtran.resource_counting.generalizers import ignore_split_join\n",
    "phase_block_encoding_g, phase_block_encoding_sigma = phase_block_encoding.call_graph(max_depth=1, generalizer=ignore_split_join)\n",
    "show_call_graph(phase_block_encoding_g)\n",
    "show_counts_sigma(phase_block_encoding_sigma)"
   ]
  }
 ],
 "metadata": {
  "kernelspec": {
   "display_name": "Python 3",
   "language": "python",
   "name": "python3"
  },
  "language_info": {
   "codemirror_mode": {
    "name": "ipython",
    "version": 3
   },
   "file_extension": ".py",
   "mimetype": "text/x-python",
   "name": "python",
   "nbconvert_exporter": "python",
   "pygments_lexer": "ipython3",
   "version": "3.11.8"
  },
  "widgets": {
   "application/vnd.jupyter.widget-state+json": {
    "state": {
     "508fa665b4444669bcb39a52fe60b4e0": {
      "model_module": "@jupyter-widgets/base",
      "model_module_version": "2.0.0",
      "model_name": "LayoutModel",
      "state": {
       "_model_module": "@jupyter-widgets/base",
       "_model_module_version": "2.0.0",
       "_model_name": "LayoutModel",
       "_view_count": null,
       "_view_module": "@jupyter-widgets/base",
       "_view_module_version": "2.0.0",
       "_view_name": "LayoutView",
       "align_content": null,
       "align_items": null,
       "align_self": null,
       "border_bottom": null,
       "border_left": null,
       "border_right": null,
       "border_top": null,
       "bottom": null,
       "display": null,
       "flex": null,
       "flex_flow": null,
       "grid_area": null,
       "grid_auto_columns": null,
       "grid_auto_flow": null,
       "grid_auto_rows": null,
       "grid_column": null,
       "grid_gap": null,
       "grid_row": null,
       "grid_template_areas": null,
       "grid_template_columns": null,
       "grid_template_rows": null,
       "height": null,
       "justify_content": null,
       "justify_items": null,
       "left": null,
       "margin": null,
       "max_height": null,
       "max_width": null,
       "min_height": null,
       "min_width": null,
       "object_fit": null,
       "object_position": null,
       "order": null,
       "overflow": null,
       "padding": null,
       "right": null,
       "top": null,
       "visibility": null,
       "width": null
      }
     },
     "b1ec59fa5eb24667a35bbe81a35a752c": {
      "model_module": "@jupyter-widgets/controls",
      "model_module_version": "2.0.0",
      "model_name": "HBoxModel",
      "state": {
       "_dom_classes": [],
       "_model_module": "@jupyter-widgets/controls",
       "_model_module_version": "2.0.0",
       "_model_name": "HBoxModel",
       "_view_count": null,
       "_view_module": "@jupyter-widgets/controls",
       "_view_module_version": "2.0.0",
       "_view_name": "HBoxView",
       "box_style": "",
       "children": [
        "IPY_MODEL_b91e09a407764dc7b3b9c6a62ee3e97c"
       ],
       "layout": "IPY_MODEL_c2b4dd99febb48119cee1c06c48c60bb",
       "tabbable": null,
       "tooltip": null
      }
     },
     "b91e09a407764dc7b3b9c6a62ee3e97c": {
      "model_module": "@jupyter-widgets/output",
      "model_module_version": "1.0.0",
      "model_name": "OutputModel",
      "state": {
       "_dom_classes": [],
       "_model_module": "@jupyter-widgets/output",
       "_model_module_version": "1.0.0",
       "_model_name": "OutputModel",
       "_view_count": null,
       "_view_module": "@jupyter-widgets/output",
       "_view_module_version": "1.0.0",
       "_view_name": "OutputView",
       "layout": "IPY_MODEL_508fa665b4444669bcb39a52fe60b4e0",
       "msg_id": "",
       "outputs": [
        {
         "data": {
          "text/markdown": "`phase_block_encoding`",
          "text/plain": "<IPython.core.display.Markdown object>"
         },
         "metadata": {},
         "output_type": "display_data"
        },
        {
         "data": {
          "image/svg+xml": "<svg xmlns=\"http://www.w3.org/2000/svg\" xmlns:xlink=\"http://www.w3.org/1999/xlink\" width=\"261pt\" height=\"54pt\" viewBox=\"0.00 0.00 261.00 54.00\">\n<g id=\"graph0\" class=\"graph\" transform=\"scale(1 1) rotate(0) translate(4 50)\">\n<title>my_graph</title>\n<polygon fill=\"white\" stroke=\"transparent\" points=\"-4,4 -4,-50 257,-50 257,4 -4,4\"/>\n<!-- system_G2 -->\n<g id=\"node1\" class=\"node\">\n<title>system_G2</title>\n<text text-anchor=\"middle\" x=\"27.5\" y=\"-14.3\" font-family=\"Times,serif\" font-size=\"14.00\">system</text>\n</g>\n<!-- Phase -->\n<g id=\"node2\" class=\"node\">\n<title>Phase</title>\n<polygon fill=\"none\" stroke=\"black\" points=\"92.5,-29 92.5,-46 161.5,-46 161.5,-29 92.5,-29\"/>\n<text text-anchor=\"start\" x=\"95.5\" y=\"-35\" font-family=\"Times,serif\" font-size=\"10.00\">B[exp(0.25i)H]</text>\n<polygon fill=\"none\" stroke=\"black\" points=\"92.5,-8 92.5,-29 161.5,-29 161.5,-8 92.5,-8\"/>\n<text text-anchor=\"start\" x=\"107.5\" y=\"-14.8\" font-family=\"Times,serif\" font-size=\"14.00\">system</text>\n</g>\n<!-- system_G2&#45;&gt;Phase -->\n<g id=\"edge1\" class=\"edge\">\n<title>system_G2:e-&gt;Phase:w</title>\n<path fill=\"none\" stroke=\"black\" d=\"M55,-18C70.67,-18 75.14,-18 89.77,-18\"/>\n<ellipse fill=\"black\" stroke=\"black\" cx=\"91\" cy=\"-18\" rx=\"1\" ry=\"1\"/>\n<text text-anchor=\"middle\" x=\"73.5\" y=\"-21\" font-family=\"Times,serif\" font-size=\"10.00\">1</text>\n</g>\n<!-- system_G0 -->\n<g id=\"node3\" class=\"node\">\n<title>system_G0</title>\n<text text-anchor=\"middle\" x=\"225.5\" y=\"-14.3\" font-family=\"Times,serif\" font-size=\"14.00\">system</text>\n</g>\n<!-- Phase&#45;&gt;system_G0 -->\n<g id=\"edge2\" class=\"edge\">\n<title>Phase:e-&gt;system_G0:w</title>\n<path fill=\"none\" stroke=\"black\" d=\"M161,-18C176.67,-18 181.14,-18 195.77,-18\"/>\n<ellipse fill=\"black\" stroke=\"black\" cx=\"197\" cy=\"-18\" rx=\"1\" ry=\"1\"/>\n<text text-anchor=\"middle\" x=\"179.5\" y=\"-21\" font-family=\"Times,serif\" font-size=\"10.00\">1</text>\n</g>\n</g>\n</svg>",
          "text/plain": "<IPython.core.display.SVG object>"
         },
         "metadata": {},
         "output_type": "display_data"
        }
       ],
       "tabbable": null,
       "tooltip": null
      }
     },
     "c2b4dd99febb48119cee1c06c48c60bb": {
      "model_module": "@jupyter-widgets/base",
      "model_module_version": "2.0.0",
      "model_name": "LayoutModel",
      "state": {
       "_model_module": "@jupyter-widgets/base",
       "_model_module_version": "2.0.0",
       "_model_name": "LayoutModel",
       "_view_count": null,
       "_view_module": "@jupyter-widgets/base",
       "_view_module_version": "2.0.0",
       "_view_name": "LayoutView",
       "align_content": null,
       "align_items": null,
       "align_self": null,
       "border_bottom": null,
       "border_left": null,
       "border_right": null,
       "border_top": null,
       "bottom": null,
       "display": null,
       "flex": null,
       "flex_flow": null,
       "grid_area": null,
       "grid_auto_columns": null,
       "grid_auto_flow": null,
       "grid_auto_rows": null,
       "grid_column": null,
       "grid_gap": null,
       "grid_row": null,
       "grid_template_areas": null,
       "grid_template_columns": null,
       "grid_template_rows": null,
       "height": null,
       "justify_content": null,
       "justify_items": null,
       "left": null,
       "margin": null,
       "max_height": null,
       "max_width": null,
       "min_height": null,
       "min_width": null,
       "object_fit": null,
       "object_position": null,
       "order": null,
       "overflow": null,
       "padding": null,
       "right": null,
       "top": null,
       "visibility": null,
       "width": null
      }
     }
    },
    "version_major": 2,
    "version_minor": 0
   }
  }
 },
 "nbformat": 4,
 "nbformat_minor": 5
}
