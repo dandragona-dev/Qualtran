{
 "cells": [
  {
   "cell_type": "markdown",
   "id": "ab3af90b",
   "metadata": {
    "cq.autogen": "title_cell"
   },
   "source": [
    "# Sparse Matrix"
   ]
  },
  {
   "cell_type": "code",
   "execution_count": 1,
   "id": "9bac692b",
   "metadata": {
    "cq.autogen": "top_imports"
   },
   "outputs": [],
   "source": [
    "from qualtran import Bloq, CompositeBloq, BloqBuilder, Signature, Register\n",
    "from qualtran import QBit, QInt, QUInt, QAny\n",
    "from qualtran.drawing import show_bloq, show_call_graph, show_counts_sigma\n",
    "from typing import *\n",
    "import numpy as np\n",
    "import sympy\n",
    "import cirq"
   ]
  },
  {
   "cell_type": "markdown",
   "id": "be3c04e3",
   "metadata": {
    "cq.autogen": "SparseMatrix.bloq_doc.md"
   },
   "source": [
    "## `SparseMatrix`\n",
    "Block encoding of a sparse-access matrix.\n",
    "\n",
    "Given row, column, and entry oracles $O_r$, $O_c$, and $O_A$ for an $s$-sparse matrix\n",
    "$A \\in \\mathbb{C}^{2^n \\times 2^n}$, i.e. one where each row / column has exactly $s$ non-zero\n",
    "entries, computes a $(s, n+1, \\epsilon)$-block encoding of $A$ as follows:\n",
    "```\n",
    "       ┌────┐                       ┌────┐\n",
    "  |0> ─┤    ├─     |0> ─────────────┤    ├───────────────\n",
    "       │    │           ┌──┐        │    │          ┌──┐\n",
    "       │ U  │  =        │ n│ ┌────┐ │ O  │   ┌────┐ │ n│\n",
    "|0^n> ─┤  A ├─   |0^n> ─┤H ├─┤    ├─┤  A ├─X─┤    ├─┤H ├─\n",
    "       │    │           └──┘ │ O  │ │    │ │ │ O* │ └──┘\n",
    "|Psi> ─┤    ├─   |Psi> ──────┤  c ├─┤    ├─X─┤  r ├──────\n",
    "       └────┘                └────┘ └────┘   └────┘\n",
    "```\n",
    "\n",
    "To encode a matrix of irregular dimension, the matrix should first be embedded into one of\n",
    "dimension $2^n \\times 2^n$ for suitable $n$.\n",
    "To encode a matrix where each row / column has at most $s$ non-zero entries, some zeroes should\n",
    "be treated as if they were non-zero so that each row / column has exactly $s$ non-zero entries.\n",
    "\n",
    "#### Parameters\n",
    " - `row_oracle`: The row oracle $O_r$. See `RowColumnOracle` for definition.\n",
    " - `col_oracle`: The column oracle $O_c$. See `RowColumnOracle` for definition.\n",
    " - `entry_oracle`: The entry oracle $O_A$. See `EntryOracle` for definition.\n",
    " - `eps`: The precision of the block encoding. \n",
    "\n",
    "#### Registers\n",
    " - `system`: The system register.\n",
    " - `ancilla`: The ancilla register.\n",
    " - `resource`: The resource register (present only if bitsize > 0). \n",
    "\n",
    "#### References\n",
    " - [Lecture Notes on Quantum Algorithms for Scientific Computation](https://arxiv.org/abs/2201.08309). Lin Lin (2022). Ch. 6.5.\n"
   ]
  },
  {
   "cell_type": "code",
   "execution_count": 2,
   "id": "23a5d9b6",
   "metadata": {
    "cq.autogen": "SparseMatrix.bloq_doc.py"
   },
   "outputs": [],
   "source": [
    "from qualtran.bloqs.block_encoding import SparseMatrix"
   ]
  },
  {
   "cell_type": "markdown",
   "id": "25804c5a",
   "metadata": {
    "cq.autogen": "SparseMatrix.example_instances.md"
   },
   "source": [
    "### Example Instances"
   ]
  },
  {
   "cell_type": "code",
   "execution_count": 3,
   "id": "914e46e7",
   "metadata": {
    "cq.autogen": "SparseMatrix.sparse_matrix_block_encoding"
   },
   "outputs": [],
   "source": [
    "from qualtran.bloqs.block_encoding.sparse_matrix import (\n",
    "    TopLeftRowColumnOracle,\n",
    "    UniformEntryOracle,\n",
    ")\n",
    "\n",
    "row_oracle = TopLeftRowColumnOracle(system_bitsize=2)\n",
    "col_oracle = TopLeftRowColumnOracle(system_bitsize=2)\n",
    "entry_oracle = UniformEntryOracle(system_bitsize=2, entry=0.3)\n",
    "sparse_matrix_block_encoding = SparseMatrix(row_oracle, col_oracle, entry_oracle, eps=0)"
   ]
  },
  {
   "cell_type": "code",
   "execution_count": 4,
   "id": "80c99aa5",
   "metadata": {
    "cq.autogen": "SparseMatrix.sparse_matrix_symb_block_encoding"
   },
   "outputs": [],
   "source": [
    "from qualtran.bloqs.block_encoding.sparse_matrix import (\n",
    "    TopLeftRowColumnOracle,\n",
    "    UniformEntryOracle,\n",
    ")\n",
    "\n",
    "n = sympy.Symbol('n', positive=True, integer=True)\n",
    "row_oracle = TopLeftRowColumnOracle(system_bitsize=n)\n",
    "col_oracle = TopLeftRowColumnOracle(system_bitsize=n)\n",
    "entry_oracle = UniformEntryOracle(system_bitsize=n, entry=0.3)\n",
    "sparse_matrix_symb_block_encoding = SparseMatrix(row_oracle, col_oracle, entry_oracle, eps=0)"
   ]
  },
  {
   "cell_type": "code",
   "execution_count": 5,
   "id": "bb12269b",
   "metadata": {
    "cq.autogen": "SparseMatrix.explicit_matrix_block_encoding"
   },
   "outputs": [],
   "source": [
    "from qualtran.bloqs.block_encoding.sparse_matrix import (\n",
    "    ExplicitEntryOracle,\n",
    "    TopLeftRowColumnOracle,\n",
    ")\n",
    "\n",
    "data = np.array([[0.0, 0.25], [1 / 3, 0.467]])\n",
    "row_oracle = TopLeftRowColumnOracle(system_bitsize=1)\n",
    "col_oracle = TopLeftRowColumnOracle(system_bitsize=1)\n",
    "entry_oracle = ExplicitEntryOracle(system_bitsize=1, data=data, entry_bitsize=10)\n",
    "explicit_matrix_block_encoding = SparseMatrix(row_oracle, col_oracle, entry_oracle, eps=0)"
   ]
  },
  {
   "cell_type": "code",
   "execution_count": 6,
   "id": "56c936a2",
   "metadata": {
    "cq.autogen": "SparseMatrix.symmetric_banded_matrix_block_encoding"
   },
   "outputs": [],
   "source": [
    "from qualtran.bloqs.block_encoding.sparse_matrix import SymmetricBandedRowColumnOracle\n",
    "\n",
    "row_oracle = SymmetricBandedRowColumnOracle(3, bandsize=1)\n",
    "col_oracle = SymmetricBandedRowColumnOracle(3, bandsize=1)\n",
    "entry_oracle = UniformEntryOracle(3, entry=0.3)\n",
    "symmetric_banded_matrix_block_encoding = SparseMatrix(\n",
    "    row_oracle, col_oracle, entry_oracle, eps=0\n",
    ")"
   ]
  },
  {
   "cell_type": "markdown",
   "id": "e050842e",
   "metadata": {
    "cq.autogen": "SparseMatrix.graphical_signature.md"
   },
   "source": [
    "#### Graphical Signature"
   ]
  },
  {
   "cell_type": "code",
   "execution_count": 7,
   "id": "ce43a463",
   "metadata": {
    "cq.autogen": "SparseMatrix.graphical_signature.py"
   },
   "outputs": [
    {
     "data": {
      "application/vnd.jupyter.widget-view+json": {
       "model_id": "782a5819b6a34371881d07e25bd15aa7",
       "version_major": 2,
       "version_minor": 0
      },
      "text/plain": [
       "HBox(children=(Output(outputs=({'output_type': 'display_data', 'data': {'text/plain': '<IPython.core.display.M…"
      ]
     },
     "metadata": {},
     "output_type": "display_data"
    }
   ],
   "source": [
    "from qualtran.drawing import show_bloqs\n",
    "show_bloqs([sparse_matrix_block_encoding, sparse_matrix_symb_block_encoding, explicit_matrix_block_encoding, symmetric_banded_matrix_block_encoding],\n",
    "           ['`sparse_matrix_block_encoding`', '`sparse_matrix_symb_block_encoding`', '`explicit_matrix_block_encoding`', '`symmetric_banded_matrix_block_encoding`'])"
   ]
  },
  {
   "cell_type": "markdown",
   "id": "7a018480",
   "metadata": {
    "cq.autogen": "SparseMatrix.call_graph.md"
   },
   "source": [
    "### Call Graph"
   ]
  },
  {
   "cell_type": "code",
   "execution_count": 8,
   "id": "3b00e8ed",
   "metadata": {
    "cq.autogen": "SparseMatrix.call_graph.py"
   },
   "outputs": [
    {
     "data": {
      "image/svg+xml": [
       "<svg xmlns=\"http://www.w3.org/2000/svg\" xmlns:xlink=\"http://www.w3.org/1999/xlink\" width=\"1098pt\" height=\"131pt\" viewBox=\"0.00 0.00 1097.50 131.00\">\n",
       "<g id=\"graph0\" class=\"graph\" transform=\"scale(1 1) rotate(0) translate(4 127)\">\n",
       "<title>counts</title>\n",
       "<polygon fill=\"white\" stroke=\"transparent\" points=\"-4,4 -4,-127 1093.5,-127 1093.5,4 -4,4\"/>\n",
       "<!-- b0 -->\n",
       "<g id=\"node1\" class=\"node\">\n",
       "<title>b0</title>\n",
       "<polygon fill=\"none\" stroke=\"black\" points=\"840.5,-123 331.5,-123 331.5,-87 840.5,-87 840.5,-123\"/>\n",
       "<text text-anchor=\"start\" x=\"540\" y=\"-106.8\" font-family=\"Times,serif\" font-size=\"14.00\">B[SparseMatrix]</text>\n",
       "<text text-anchor=\"start\" x=\"339.5\" y=\"-96\" font-family=\"monospace\" font-size=\"10.00\">row_oracle=TopLeftR ..., col_oracle=TopLeftR ..., entry_oracle=UniformE ..., eps=0</text>\n",
       "</g>\n",
       "<!-- b1 -->\n",
       "<g id=\"node2\" class=\"node\">\n",
       "<title>b1</title>\n",
       "<polygon fill=\"none\" stroke=\"black\" points=\"180,-36 0,-36 0,0 180,0 180,-36\"/>\n",
       "<text text-anchor=\"start\" x=\"8\" y=\"-19.8\" font-family=\"Times,serif\" font-size=\"14.00\">PrepareUniformSuperposition</text>\n",
       "<text text-anchor=\"start\" x=\"56.5\" y=\"-9\" font-family=\"monospace\" font-size=\"10.00\">n=4, cvs=()</text>\n",
       "</g>\n",
       "<!-- b0&#45;&gt;b1 -->\n",
       "<g id=\"edge1\" class=\"edge\">\n",
       "<title>b0-&gt;b1</title>\n",
       "<path fill=\"none\" stroke=\"black\" d=\"M486.47,-86.96C408.61,-73.63 297.3,-54.57 190.13,-36.19\"/>\n",
       "<polygon fill=\"black\" stroke=\"black\" points=\"190.56,-32.72 180.11,-34.47 189.37,-39.61 190.56,-32.72\"/>\n",
       "<text text-anchor=\"middle\" x=\"377.5\" y=\"-57.8\" font-family=\"Times,serif\" font-size=\"14.00\">1</text>\n",
       "</g>\n",
       "<!-- b2 -->\n",
       "<g id=\"node3\" class=\"node\">\n",
       "<title>b2</title>\n",
       "<polygon fill=\"none\" stroke=\"black\" points=\"407.5,-36 198.5,-36 198.5,0 407.5,0 407.5,-36\"/>\n",
       "<text text-anchor=\"start\" x=\"227.5\" y=\"-19.8\" font-family=\"Times,serif\" font-size=\"14.00\">TopLeftRowColumnOracle</text>\n",
       "<text text-anchor=\"start\" x=\"206.5\" y=\"-9\" font-family=\"monospace\" font-size=\"10.00\">system_bitsize=2, _num_nonzero=4</text>\n",
       "</g>\n",
       "<!-- b0&#45;&gt;b2 -->\n",
       "<g id=\"edge2\" class=\"edge\">\n",
       "<title>b0-&gt;b2</title>\n",
       "<path fill=\"none\" stroke=\"black\" d=\"M529.07,-86.9C483.01,-73.07 418.08,-53.56 369.61,-39.01\"/>\n",
       "<polygon fill=\"black\" stroke=\"black\" points=\"370.42,-35.6 359.84,-36.07 368.41,-42.3 370.42,-35.6\"/>\n",
       "<text text-anchor=\"middle\" x=\"465.5\" y=\"-57.8\" font-family=\"Times,serif\" font-size=\"14.00\">1</text>\n",
       "</g>\n",
       "<!-- b3 -->\n",
       "<g id=\"node4\" class=\"node\">\n",
       "<title>b3</title>\n",
       "<polygon fill=\"none\" stroke=\"black\" points=\"604.5,-36 425.5,-36 425.5,0 604.5,0 604.5,-36\"/>\n",
       "<text text-anchor=\"start\" x=\"458\" y=\"-19.8\" font-family=\"Times,serif\" font-size=\"14.00\">UniformEntryOracle</text>\n",
       "<text text-anchor=\"start\" x=\"433.5\" y=\"-9\" font-family=\"monospace\" font-size=\"10.00\">system_bitsize=2, entry=0.3</text>\n",
       "</g>\n",
       "<!-- b0&#45;&gt;b3 -->\n",
       "<g id=\"edge3\" class=\"edge\">\n",
       "<title>b0-&gt;b3</title>\n",
       "<path fill=\"none\" stroke=\"black\" d=\"M571.63,-86.8C561.33,-74.47 547.31,-57.68 535.79,-43.89\"/>\n",
       "<polygon fill=\"black\" stroke=\"black\" points=\"538.44,-41.61 529.35,-36.18 533.07,-46.09 538.44,-41.61\"/>\n",
       "<text text-anchor=\"middle\" x=\"558.5\" y=\"-57.8\" font-family=\"Times,serif\" font-size=\"14.00\">1</text>\n",
       "</g>\n",
       "<!-- b4 -->\n",
       "<g id=\"node5\" class=\"node\">\n",
       "<title>b4</title>\n",
       "<polygon fill=\"none\" stroke=\"black\" points=\"693.5,-36 622.5,-36 622.5,0 693.5,0 693.5,-36\"/>\n",
       "<text text-anchor=\"start\" x=\"642.5\" y=\"-19.8\" font-family=\"Times,serif\" font-size=\"14.00\">Swap</text>\n",
       "<text text-anchor=\"start\" x=\"630.5\" y=\"-9\" font-family=\"monospace\" font-size=\"10.00\">bitsize=2</text>\n",
       "</g>\n",
       "<!-- b0&#45;&gt;b4 -->\n",
       "<g id=\"edge4\" class=\"edge\">\n",
       "<title>b0-&gt;b4</title>\n",
       "<path fill=\"none\" stroke=\"black\" d=\"M600.57,-86.8C611.01,-74.47 625.24,-57.68 636.92,-43.89\"/>\n",
       "<polygon fill=\"black\" stroke=\"black\" points=\"639.66,-46.07 643.45,-36.18 634.32,-41.54 639.66,-46.07\"/>\n",
       "<text text-anchor=\"middle\" x=\"630.5\" y=\"-57.8\" font-family=\"Times,serif\" font-size=\"14.00\">1</text>\n",
       "</g>\n",
       "<!-- b5 -->\n",
       "<g id=\"node6\" class=\"node\">\n",
       "<title>b5</title>\n",
       "<polygon fill=\"none\" stroke=\"black\" points=\"884.5,-36 711.5,-36 711.5,0 884.5,0 884.5,-36\"/>\n",
       "<text text-anchor=\"start\" x=\"719.5\" y=\"-19.8\" font-family=\"Times,serif\" font-size=\"14.00\">TopLeftRowColumnOracle†</text>\n",
       "<text text-anchor=\"start\" x=\"737.5\" y=\"-9\" font-family=\"monospace\" font-size=\"10.00\">subbloq=TopLeftR ...</text>\n",
       "</g>\n",
       "<!-- b0&#45;&gt;b5 -->\n",
       "<g id=\"edge5\" class=\"edge\">\n",
       "<title>b0-&gt;b5</title>\n",
       "<path fill=\"none\" stroke=\"black\" d=\"M628.65,-86.9C662.5,-73.33 709.97,-54.29 746.04,-39.83\"/>\n",
       "<polygon fill=\"black\" stroke=\"black\" points=\"747.44,-43.04 755.42,-36.07 744.84,-36.54 747.44,-43.04\"/>\n",
       "<text text-anchor=\"middle\" x=\"708.5\" y=\"-57.8\" font-family=\"Times,serif\" font-size=\"14.00\">1</text>\n",
       "</g>\n",
       "<!-- b6 -->\n",
       "<g id=\"node7\" class=\"node\">\n",
       "<title>b6</title>\n",
       "<polygon fill=\"none\" stroke=\"black\" points=\"1089.5,-36 902.5,-36 902.5,0 1089.5,0 1089.5,-36\"/>\n",
       "<text text-anchor=\"start\" x=\"910.5\" y=\"-19.8\" font-family=\"Times,serif\" font-size=\"14.00\">PrepareUniformSuperposition†</text>\n",
       "<text text-anchor=\"start\" x=\"935.5\" y=\"-9\" font-family=\"monospace\" font-size=\"10.00\">subbloq=AutoPart ...</text>\n",
       "</g>\n",
       "<!-- b0&#45;&gt;b6 -->\n",
       "<g id=\"edge6\" class=\"edge\">\n",
       "<title>b0-&gt;b6</title>\n",
       "<path fill=\"none\" stroke=\"black\" d=\"M668.48,-86.9C736.45,-72.81 832.82,-52.83 903.43,-38.19\"/>\n",
       "<polygon fill=\"black\" stroke=\"black\" points=\"904.57,-41.53 913.66,-36.07 903.15,-34.67 904.57,-41.53\"/>\n",
       "<text text-anchor=\"middle\" x=\"819.5\" y=\"-57.8\" font-family=\"Times,serif\" font-size=\"14.00\">1</text>\n",
       "</g>\n",
       "</g>\n",
       "</svg>"
      ],
      "text/plain": [
       "<IPython.core.display.SVG object>"
      ]
     },
     "metadata": {},
     "output_type": "display_data"
    },
    {
     "data": {
      "text/markdown": [
       "#### Counts totals:\n",
       " - `Adjoint(subbloq=PrepareUniformSuperposition)`: 1\n",
       " - `Adjoint(subbloq=TopLeftRowColumnOracle)`: 1\n",
       " - `PrepareUniformSuperposition`: 1\n",
       " - `Swap`: 1\n",
       " - `TopLeftRowColumnOracle`: 1\n",
       " - `UniformEntryOracle`: 1"
      ],
      "text/plain": [
       "<IPython.core.display.Markdown object>"
      ]
     },
     "metadata": {},
     "output_type": "display_data"
    }
   ],
   "source": [
    "from qualtran.resource_counting.generalizers import ignore_split_join\n",
    "sparse_matrix_block_encoding_g, sparse_matrix_block_encoding_sigma = sparse_matrix_block_encoding.call_graph(max_depth=1, generalizer=ignore_split_join)\n",
    "show_call_graph(sparse_matrix_block_encoding_g)\n",
    "show_counts_sigma(sparse_matrix_block_encoding_sigma)"
   ]
  }
 ],
 "metadata": {
  "kernelspec": {
   "display_name": "Python 3",
   "language": "python",
   "name": "python3"
  },
  "language_info": {
   "codemirror_mode": {
    "name": "ipython",
    "version": 3
   },
   "file_extension": ".py",
   "mimetype": "text/x-python",
   "name": "python",
   "nbconvert_exporter": "python",
   "pygments_lexer": "ipython3",
   "version": "3.11.8"
  },
  "widgets": {
   "application/vnd.jupyter.widget-state+json": {
    "state": {
     "334f0a35bdbe4c62a31d8736530f6011": {
      "model_module": "@jupyter-widgets/output",
      "model_module_version": "1.0.0",
      "model_name": "OutputModel",
      "state": {
       "_dom_classes": [],
       "_model_module": "@jupyter-widgets/output",
       "_model_module_version": "1.0.0",
       "_model_name": "OutputModel",
       "_view_count": null,
       "_view_module": "@jupyter-widgets/output",
       "_view_module_version": "1.0.0",
       "_view_name": "OutputView",
       "layout": "IPY_MODEL_52f88fc2658e4a089864b1e4a8e4ac30",
       "msg_id": "",
       "outputs": [
        {
         "data": {
          "text/markdown": "`explicit_matrix_block_encoding`",
          "text/plain": "<IPython.core.display.Markdown object>"
         },
         "metadata": {},
         "output_type": "display_data"
        },
        {
         "data": {
          "image/svg+xml": "<svg xmlns=\"http://www.w3.org/2000/svg\" xmlns:xlink=\"http://www.w3.org/1999/xlink\" width=\"265pt\" height=\"98pt\" viewBox=\"0.00 0.00 265.00 98.00\">\n<g id=\"graph0\" class=\"graph\" transform=\"scale(1 1) rotate(0) translate(4 94)\">\n<title>my_graph</title>\n<polygon fill=\"white\" stroke=\"transparent\" points=\"-4,4 -4,-94 261,-94 261,4 -4,4\"/>\n<!-- system_G4 -->\n<g id=\"node1\" class=\"node\">\n<title>system_G4</title>\n<text text-anchor=\"middle\" x=\"27.5\" y=\"-68.3\" font-family=\"Times,serif\" font-size=\"14.00\">system</text>\n</g>\n<!-- SparseMatrix -->\n<g id=\"node3\" class=\"node\">\n<title>SparseMatrix</title>\n<polygon fill=\"none\" stroke=\"black\" points=\"92.5,-66 92.5,-83 165.5,-83 165.5,-66 92.5,-66\"/>\n<text text-anchor=\"start\" x=\"95.5\" y=\"-72\" font-family=\"Times,serif\" font-size=\"10.00\">B[SparseMatrix]</text>\n<polygon fill=\"none\" stroke=\"black\" points=\"92.5,-45 92.5,-66 165.5,-66 165.5,-45 92.5,-45\"/>\n<text text-anchor=\"start\" x=\"109.5\" y=\"-51.8\" font-family=\"Times,serif\" font-size=\"14.00\">system</text>\n<polygon fill=\"none\" stroke=\"black\" points=\"92.5,-24 92.5,-45 165.5,-45 165.5,-24 92.5,-24\"/>\n<text text-anchor=\"start\" x=\"110.5\" y=\"-30.8\" font-family=\"Times,serif\" font-size=\"14.00\">ancilla</text>\n</g>\n<!-- system_G4&#45;&gt;SparseMatrix -->\n<g id=\"edge1\" class=\"edge\">\n<title>system_G4:e-&gt;SparseMatrix:w</title>\n<path fill=\"none\" stroke=\"black\" d=\"M55,-72C72.22,-72 73.97,-57.23 89.98,-56.07\"/>\n<ellipse fill=\"black\" stroke=\"black\" cx=\"91\" cy=\"-56.04\" rx=\"1\" ry=\"1\"/>\n<text text-anchor=\"middle\" x=\"73.5\" y=\"-67\" font-family=\"Times,serif\" font-size=\"10.00\">1</text>\n</g>\n<!-- ancilla_G0 -->\n<g id=\"node2\" class=\"node\">\n<title>ancilla_G0</title>\n<text text-anchor=\"middle\" x=\"27.5\" y=\"-14.3\" font-family=\"Times,serif\" font-size=\"14.00\">ancilla</text>\n</g>\n<!-- ancilla_G0&#45;&gt;SparseMatrix -->\n<g id=\"edge2\" class=\"edge\">\n<title>ancilla_G0:e-&gt;SparseMatrix:w</title>\n<path fill=\"none\" stroke=\"black\" d=\"M55,-18C72.22,-18 73.97,-32.77 89.98,-33.93\"/>\n<ellipse fill=\"black\" stroke=\"black\" cx=\"91\" cy=\"-33.96\" rx=\"1\" ry=\"1\"/>\n<text text-anchor=\"middle\" x=\"73.5\" y=\"-29\" font-family=\"Times,serif\" font-size=\"10.00\">2</text>\n</g>\n<!-- system_G5 -->\n<g id=\"node4\" class=\"node\">\n<title>system_G5</title>\n<text text-anchor=\"middle\" x=\"229.5\" y=\"-68.3\" font-family=\"Times,serif\" font-size=\"14.00\">system</text>\n</g>\n<!-- SparseMatrix&#45;&gt;system_G5 -->\n<g id=\"edge3\" class=\"edge\">\n<title>SparseMatrix:e-&gt;system_G5:w</title>\n<path fill=\"none\" stroke=\"black\" d=\"M165,-56C182.22,-56 183.97,-70.77 199.98,-71.93\"/>\n<ellipse fill=\"black\" stroke=\"black\" cx=\"201\" cy=\"-71.96\" rx=\"1\" ry=\"1\"/>\n<text text-anchor=\"middle\" x=\"183.5\" y=\"-67\" font-family=\"Times,serif\" font-size=\"10.00\">1</text>\n</g>\n<!-- ancilla_G1 -->\n<g id=\"node5\" class=\"node\">\n<title>ancilla_G1</title>\n<text text-anchor=\"middle\" x=\"229.5\" y=\"-14.3\" font-family=\"Times,serif\" font-size=\"14.00\">ancilla</text>\n</g>\n<!-- SparseMatrix&#45;&gt;ancilla_G1 -->\n<g id=\"edge4\" class=\"edge\">\n<title>SparseMatrix:e-&gt;ancilla_G1:w</title>\n<path fill=\"none\" stroke=\"black\" d=\"M165,-34C182.22,-34 183.97,-19.23 199.98,-18.07\"/>\n<ellipse fill=\"black\" stroke=\"black\" cx=\"201\" cy=\"-18.04\" rx=\"1\" ry=\"1\"/>\n<text text-anchor=\"middle\" x=\"183.5\" y=\"-29\" font-family=\"Times,serif\" font-size=\"10.00\">2</text>\n</g>\n</g>\n</svg>",
          "text/plain": "<IPython.core.display.SVG object>"
         },
         "metadata": {},
         "output_type": "display_data"
        }
       ],
       "tabbable": null,
       "tooltip": null
      }
     },
     "359d1c2ffec54690813ff2f74f5aac09": {
      "model_module": "@jupyter-widgets/base",
      "model_module_version": "2.0.0",
      "model_name": "LayoutModel",
      "state": {
       "_model_module": "@jupyter-widgets/base",
       "_model_module_version": "2.0.0",
       "_model_name": "LayoutModel",
       "_view_count": null,
       "_view_module": "@jupyter-widgets/base",
       "_view_module_version": "2.0.0",
       "_view_name": "LayoutView",
       "align_content": null,
       "align_items": null,
       "align_self": null,
       "border_bottom": null,
       "border_left": null,
       "border_right": null,
       "border_top": null,
       "bottom": null,
       "display": null,
       "flex": null,
       "flex_flow": null,
       "grid_area": null,
       "grid_auto_columns": null,
       "grid_auto_flow": null,
       "grid_auto_rows": null,
       "grid_column": null,
       "grid_gap": null,
       "grid_row": null,
       "grid_template_areas": null,
       "grid_template_columns": null,
       "grid_template_rows": null,
       "height": null,
       "justify_content": null,
       "justify_items": null,
       "left": null,
       "margin": null,
       "max_height": null,
       "max_width": null,
       "min_height": null,
       "min_width": null,
       "object_fit": null,
       "object_position": null,
       "order": null,
       "overflow": null,
       "padding": null,
       "right": null,
       "top": null,
       "visibility": null,
       "width": null
      }
     },
     "4104ad370cc340c3ade39ef8b4fa53e2": {
      "model_module": "@jupyter-widgets/output",
      "model_module_version": "1.0.0",
      "model_name": "OutputModel",
      "state": {
       "_dom_classes": [],
       "_model_module": "@jupyter-widgets/output",
       "_model_module_version": "1.0.0",
       "_model_name": "OutputModel",
       "_view_count": null,
       "_view_module": "@jupyter-widgets/output",
       "_view_module_version": "1.0.0",
       "_view_name": "OutputView",
       "layout": "IPY_MODEL_41964ff00d57421a992a64c985bd96fc",
       "msg_id": "",
       "outputs": [
        {
         "data": {
          "text/markdown": "`symmetric_banded_matrix_block_encoding`",
          "text/plain": "<IPython.core.display.Markdown object>"
         },
         "metadata": {},
         "output_type": "display_data"
        },
        {
         "data": {
          "image/svg+xml": "<svg xmlns=\"http://www.w3.org/2000/svg\" xmlns:xlink=\"http://www.w3.org/1999/xlink\" width=\"265pt\" height=\"98pt\" viewBox=\"0.00 0.00 265.00 98.00\">\n<g id=\"graph0\" class=\"graph\" transform=\"scale(1 1) rotate(0) translate(4 94)\">\n<title>my_graph</title>\n<polygon fill=\"white\" stroke=\"transparent\" points=\"-4,4 -4,-94 261,-94 261,4 -4,4\"/>\n<!-- system_G0 -->\n<g id=\"node1\" class=\"node\">\n<title>system_G0</title>\n<text text-anchor=\"middle\" x=\"27.5\" y=\"-68.3\" font-family=\"Times,serif\" font-size=\"14.00\">system</text>\n</g>\n<!-- SparseMatrix -->\n<g id=\"node3\" class=\"node\">\n<title>SparseMatrix</title>\n<polygon fill=\"none\" stroke=\"black\" points=\"92.5,-66 92.5,-83 165.5,-83 165.5,-66 92.5,-66\"/>\n<text text-anchor=\"start\" x=\"95.5\" y=\"-72\" font-family=\"Times,serif\" font-size=\"10.00\">B[SparseMatrix]</text>\n<polygon fill=\"none\" stroke=\"black\" points=\"92.5,-45 92.5,-66 165.5,-66 165.5,-45 92.5,-45\"/>\n<text text-anchor=\"start\" x=\"109.5\" y=\"-51.8\" font-family=\"Times,serif\" font-size=\"14.00\">system</text>\n<polygon fill=\"none\" stroke=\"black\" points=\"92.5,-24 92.5,-45 165.5,-45 165.5,-24 92.5,-24\"/>\n<text text-anchor=\"start\" x=\"110.5\" y=\"-30.8\" font-family=\"Times,serif\" font-size=\"14.00\">ancilla</text>\n</g>\n<!-- system_G0&#45;&gt;SparseMatrix -->\n<g id=\"edge1\" class=\"edge\">\n<title>system_G0:e-&gt;SparseMatrix:w</title>\n<path fill=\"none\" stroke=\"black\" d=\"M55,-72C72.22,-72 73.97,-57.23 89.98,-56.07\"/>\n<ellipse fill=\"black\" stroke=\"black\" cx=\"91\" cy=\"-56.04\" rx=\"1\" ry=\"1\"/>\n<text text-anchor=\"middle\" x=\"73.5\" y=\"-67\" font-family=\"Times,serif\" font-size=\"10.00\">3</text>\n</g>\n<!-- ancilla_G3 -->\n<g id=\"node2\" class=\"node\">\n<title>ancilla_G3</title>\n<text text-anchor=\"middle\" x=\"27.5\" y=\"-14.3\" font-family=\"Times,serif\" font-size=\"14.00\">ancilla</text>\n</g>\n<!-- ancilla_G3&#45;&gt;SparseMatrix -->\n<g id=\"edge2\" class=\"edge\">\n<title>ancilla_G3:e-&gt;SparseMatrix:w</title>\n<path fill=\"none\" stroke=\"black\" d=\"M55,-18C72.22,-18 73.97,-32.77 89.98,-33.93\"/>\n<ellipse fill=\"black\" stroke=\"black\" cx=\"91\" cy=\"-33.96\" rx=\"1\" ry=\"1\"/>\n<text text-anchor=\"middle\" x=\"73.5\" y=\"-29\" font-family=\"Times,serif\" font-size=\"10.00\">4</text>\n</g>\n<!-- system_G1 -->\n<g id=\"node4\" class=\"node\">\n<title>system_G1</title>\n<text text-anchor=\"middle\" x=\"229.5\" y=\"-68.3\" font-family=\"Times,serif\" font-size=\"14.00\">system</text>\n</g>\n<!-- SparseMatrix&#45;&gt;system_G1 -->\n<g id=\"edge3\" class=\"edge\">\n<title>SparseMatrix:e-&gt;system_G1:w</title>\n<path fill=\"none\" stroke=\"black\" d=\"M165,-56C182.22,-56 183.97,-70.77 199.98,-71.93\"/>\n<ellipse fill=\"black\" stroke=\"black\" cx=\"201\" cy=\"-71.96\" rx=\"1\" ry=\"1\"/>\n<text text-anchor=\"middle\" x=\"183.5\" y=\"-67\" font-family=\"Times,serif\" font-size=\"10.00\">3</text>\n</g>\n<!-- ancilla_G2 -->\n<g id=\"node5\" class=\"node\">\n<title>ancilla_G2</title>\n<text text-anchor=\"middle\" x=\"229.5\" y=\"-14.3\" font-family=\"Times,serif\" font-size=\"14.00\">ancilla</text>\n</g>\n<!-- SparseMatrix&#45;&gt;ancilla_G2 -->\n<g id=\"edge4\" class=\"edge\">\n<title>SparseMatrix:e-&gt;ancilla_G2:w</title>\n<path fill=\"none\" stroke=\"black\" d=\"M165,-34C182.22,-34 183.97,-19.23 199.98,-18.07\"/>\n<ellipse fill=\"black\" stroke=\"black\" cx=\"201\" cy=\"-18.04\" rx=\"1\" ry=\"1\"/>\n<text text-anchor=\"middle\" x=\"183.5\" y=\"-29\" font-family=\"Times,serif\" font-size=\"10.00\">4</text>\n</g>\n</g>\n</svg>",
          "text/plain": "<IPython.core.display.SVG object>"
         },
         "metadata": {},
         "output_type": "display_data"
        }
       ],
       "tabbable": null,
       "tooltip": null
      }
     },
     "41964ff00d57421a992a64c985bd96fc": {
      "model_module": "@jupyter-widgets/base",
      "model_module_version": "2.0.0",
      "model_name": "LayoutModel",
      "state": {
       "_model_module": "@jupyter-widgets/base",
       "_model_module_version": "2.0.0",
       "_model_name": "LayoutModel",
       "_view_count": null,
       "_view_module": "@jupyter-widgets/base",
       "_view_module_version": "2.0.0",
       "_view_name": "LayoutView",
       "align_content": null,
       "align_items": null,
       "align_self": null,
       "border_bottom": null,
       "border_left": null,
       "border_right": null,
       "border_top": null,
       "bottom": null,
       "display": null,
       "flex": null,
       "flex_flow": null,
       "grid_area": null,
       "grid_auto_columns": null,
       "grid_auto_flow": null,
       "grid_auto_rows": null,
       "grid_column": null,
       "grid_gap": null,
       "grid_row": null,
       "grid_template_areas": null,
       "grid_template_columns": null,
       "grid_template_rows": null,
       "height": null,
       "justify_content": null,
       "justify_items": null,
       "left": null,
       "margin": null,
       "max_height": null,
       "max_width": null,
       "min_height": null,
       "min_width": null,
       "object_fit": null,
       "object_position": null,
       "order": null,
       "overflow": null,
       "padding": null,
       "right": null,
       "top": null,
       "visibility": null,
       "width": null
      }
     },
     "52f88fc2658e4a089864b1e4a8e4ac30": {
      "model_module": "@jupyter-widgets/base",
      "model_module_version": "2.0.0",
      "model_name": "LayoutModel",
      "state": {
       "_model_module": "@jupyter-widgets/base",
       "_model_module_version": "2.0.0",
       "_model_name": "LayoutModel",
       "_view_count": null,
       "_view_module": "@jupyter-widgets/base",
       "_view_module_version": "2.0.0",
       "_view_name": "LayoutView",
       "align_content": null,
       "align_items": null,
       "align_self": null,
       "border_bottom": null,
       "border_left": null,
       "border_right": null,
       "border_top": null,
       "bottom": null,
       "display": null,
       "flex": null,
       "flex_flow": null,
       "grid_area": null,
       "grid_auto_columns": null,
       "grid_auto_flow": null,
       "grid_auto_rows": null,
       "grid_column": null,
       "grid_gap": null,
       "grid_row": null,
       "grid_template_areas": null,
       "grid_template_columns": null,
       "grid_template_rows": null,
       "height": null,
       "justify_content": null,
       "justify_items": null,
       "left": null,
       "margin": null,
       "max_height": null,
       "max_width": null,
       "min_height": null,
       "min_width": null,
       "object_fit": null,
       "object_position": null,
       "order": null,
       "overflow": null,
       "padding": null,
       "right": null,
       "top": null,
       "visibility": null,
       "width": null
      }
     },
     "55c85509a0ad42f2a383cf7008a70b5e": {
      "model_module": "@jupyter-widgets/output",
      "model_module_version": "1.0.0",
      "model_name": "OutputModel",
      "state": {
       "_dom_classes": [],
       "_model_module": "@jupyter-widgets/output",
       "_model_module_version": "1.0.0",
       "_model_name": "OutputModel",
       "_view_count": null,
       "_view_module": "@jupyter-widgets/output",
       "_view_module_version": "1.0.0",
       "_view_name": "OutputView",
       "layout": "IPY_MODEL_ef8958d5db8d4cd688694c345411960c",
       "msg_id": "",
       "outputs": [
        {
         "data": {
          "text/markdown": "`sparse_matrix_block_encoding`",
          "text/plain": "<IPython.core.display.Markdown object>"
         },
         "metadata": {},
         "output_type": "display_data"
        },
        {
         "data": {
          "image/svg+xml": "<svg xmlns=\"http://www.w3.org/2000/svg\" xmlns:xlink=\"http://www.w3.org/1999/xlink\" width=\"265pt\" height=\"98pt\" viewBox=\"0.00 0.00 265.00 98.00\">\n<g id=\"graph0\" class=\"graph\" transform=\"scale(1 1) rotate(0) translate(4 94)\">\n<title>my_graph</title>\n<polygon fill=\"white\" stroke=\"transparent\" points=\"-4,4 -4,-94 261,-94 261,4 -4,4\"/>\n<!-- system_G2 -->\n<g id=\"node1\" class=\"node\">\n<title>system_G2</title>\n<text text-anchor=\"middle\" x=\"27.5\" y=\"-68.3\" font-family=\"Times,serif\" font-size=\"14.00\">system</text>\n</g>\n<!-- SparseMatrix -->\n<g id=\"node3\" class=\"node\">\n<title>SparseMatrix</title>\n<polygon fill=\"none\" stroke=\"black\" points=\"92.5,-66 92.5,-83 165.5,-83 165.5,-66 92.5,-66\"/>\n<text text-anchor=\"start\" x=\"95.5\" y=\"-72\" font-family=\"Times,serif\" font-size=\"10.00\">B[SparseMatrix]</text>\n<polygon fill=\"none\" stroke=\"black\" points=\"92.5,-45 92.5,-66 165.5,-66 165.5,-45 92.5,-45\"/>\n<text text-anchor=\"start\" x=\"109.5\" y=\"-51.8\" font-family=\"Times,serif\" font-size=\"14.00\">system</text>\n<polygon fill=\"none\" stroke=\"black\" points=\"92.5,-24 92.5,-45 165.5,-45 165.5,-24 92.5,-24\"/>\n<text text-anchor=\"start\" x=\"110.5\" y=\"-30.8\" font-family=\"Times,serif\" font-size=\"14.00\">ancilla</text>\n</g>\n<!-- system_G2&#45;&gt;SparseMatrix -->\n<g id=\"edge1\" class=\"edge\">\n<title>system_G2:e-&gt;SparseMatrix:w</title>\n<path fill=\"none\" stroke=\"black\" d=\"M55,-72C72.22,-72 73.97,-57.23 89.98,-56.07\"/>\n<ellipse fill=\"black\" stroke=\"black\" cx=\"91\" cy=\"-56.04\" rx=\"1\" ry=\"1\"/>\n<text text-anchor=\"middle\" x=\"73.5\" y=\"-67\" font-family=\"Times,serif\" font-size=\"10.00\">2</text>\n</g>\n<!-- ancilla_G4 -->\n<g id=\"node2\" class=\"node\">\n<title>ancilla_G4</title>\n<text text-anchor=\"middle\" x=\"27.5\" y=\"-14.3\" font-family=\"Times,serif\" font-size=\"14.00\">ancilla</text>\n</g>\n<!-- ancilla_G4&#45;&gt;SparseMatrix -->\n<g id=\"edge2\" class=\"edge\">\n<title>ancilla_G4:e-&gt;SparseMatrix:w</title>\n<path fill=\"none\" stroke=\"black\" d=\"M55,-18C72.22,-18 73.97,-32.77 89.98,-33.93\"/>\n<ellipse fill=\"black\" stroke=\"black\" cx=\"91\" cy=\"-33.96\" rx=\"1\" ry=\"1\"/>\n<text text-anchor=\"middle\" x=\"73.5\" y=\"-29\" font-family=\"Times,serif\" font-size=\"10.00\">3</text>\n</g>\n<!-- system_G3 -->\n<g id=\"node4\" class=\"node\">\n<title>system_G3</title>\n<text text-anchor=\"middle\" x=\"229.5\" y=\"-68.3\" font-family=\"Times,serif\" font-size=\"14.00\">system</text>\n</g>\n<!-- SparseMatrix&#45;&gt;system_G3 -->\n<g id=\"edge3\" class=\"edge\">\n<title>SparseMatrix:e-&gt;system_G3:w</title>\n<path fill=\"none\" stroke=\"black\" d=\"M165,-56C182.22,-56 183.97,-70.77 199.98,-71.93\"/>\n<ellipse fill=\"black\" stroke=\"black\" cx=\"201\" cy=\"-71.96\" rx=\"1\" ry=\"1\"/>\n<text text-anchor=\"middle\" x=\"183.5\" y=\"-67\" font-family=\"Times,serif\" font-size=\"10.00\">2</text>\n</g>\n<!-- ancilla_G0 -->\n<g id=\"node5\" class=\"node\">\n<title>ancilla_G0</title>\n<text text-anchor=\"middle\" x=\"229.5\" y=\"-14.3\" font-family=\"Times,serif\" font-size=\"14.00\">ancilla</text>\n</g>\n<!-- SparseMatrix&#45;&gt;ancilla_G0 -->\n<g id=\"edge4\" class=\"edge\">\n<title>SparseMatrix:e-&gt;ancilla_G0:w</title>\n<path fill=\"none\" stroke=\"black\" d=\"M165,-34C182.22,-34 183.97,-19.23 199.98,-18.07\"/>\n<ellipse fill=\"black\" stroke=\"black\" cx=\"201\" cy=\"-18.04\" rx=\"1\" ry=\"1\"/>\n<text text-anchor=\"middle\" x=\"183.5\" y=\"-29\" font-family=\"Times,serif\" font-size=\"10.00\">3</text>\n</g>\n</g>\n</svg>",
          "text/plain": "<IPython.core.display.SVG object>"
         },
         "metadata": {},
         "output_type": "display_data"
        }
       ],
       "tabbable": null,
       "tooltip": null
      }
     },
     "782a5819b6a34371881d07e25bd15aa7": {
      "model_module": "@jupyter-widgets/controls",
      "model_module_version": "2.0.0",
      "model_name": "HBoxModel",
      "state": {
       "_dom_classes": [],
       "_model_module": "@jupyter-widgets/controls",
       "_model_module_version": "2.0.0",
       "_model_name": "HBoxModel",
       "_view_count": null,
       "_view_module": "@jupyter-widgets/controls",
       "_view_module_version": "2.0.0",
       "_view_name": "HBoxView",
       "box_style": "",
       "children": [
        "IPY_MODEL_55c85509a0ad42f2a383cf7008a70b5e",
        "IPY_MODEL_c7850169fd4e4029864a8d6dafe0a1c7",
        "IPY_MODEL_334f0a35bdbe4c62a31d8736530f6011",
        "IPY_MODEL_4104ad370cc340c3ade39ef8b4fa53e2"
       ],
       "layout": "IPY_MODEL_998fc2c16fda4c94bdb621d0cd5728a3",
       "tabbable": null,
       "tooltip": null
      }
     },
     "998fc2c16fda4c94bdb621d0cd5728a3": {
      "model_module": "@jupyter-widgets/base",
      "model_module_version": "2.0.0",
      "model_name": "LayoutModel",
      "state": {
       "_model_module": "@jupyter-widgets/base",
       "_model_module_version": "2.0.0",
       "_model_name": "LayoutModel",
       "_view_count": null,
       "_view_module": "@jupyter-widgets/base",
       "_view_module_version": "2.0.0",
       "_view_name": "LayoutView",
       "align_content": null,
       "align_items": null,
       "align_self": null,
       "border_bottom": null,
       "border_left": null,
       "border_right": null,
       "border_top": null,
       "bottom": null,
       "display": null,
       "flex": null,
       "flex_flow": null,
       "grid_area": null,
       "grid_auto_columns": null,
       "grid_auto_flow": null,
       "grid_auto_rows": null,
       "grid_column": null,
       "grid_gap": null,
       "grid_row": null,
       "grid_template_areas": null,
       "grid_template_columns": null,
       "grid_template_rows": null,
       "height": null,
       "justify_content": null,
       "justify_items": null,
       "left": null,
       "margin": null,
       "max_height": null,
       "max_width": null,
       "min_height": null,
       "min_width": null,
       "object_fit": null,
       "object_position": null,
       "order": null,
       "overflow": null,
       "padding": null,
       "right": null,
       "top": null,
       "visibility": null,
       "width": null
      }
     },
     "c7850169fd4e4029864a8d6dafe0a1c7": {
      "model_module": "@jupyter-widgets/output",
      "model_module_version": "1.0.0",
      "model_name": "OutputModel",
      "state": {
       "_dom_classes": [],
       "_model_module": "@jupyter-widgets/output",
       "_model_module_version": "1.0.0",
       "_model_name": "OutputModel",
       "_view_count": null,
       "_view_module": "@jupyter-widgets/output",
       "_view_module_version": "1.0.0",
       "_view_name": "OutputView",
       "layout": "IPY_MODEL_359d1c2ffec54690813ff2f74f5aac09",
       "msg_id": "",
       "outputs": [
        {
         "data": {
          "text/markdown": "`sparse_matrix_symb_block_encoding`",
          "text/plain": "<IPython.core.display.Markdown object>"
         },
         "metadata": {},
         "output_type": "display_data"
        },
        {
         "data": {
          "image/svg+xml": "<svg xmlns=\"http://www.w3.org/2000/svg\" xmlns:xlink=\"http://www.w3.org/1999/xlink\" width=\"265pt\" height=\"98pt\" viewBox=\"0.00 0.00 265.00 98.00\">\n<g id=\"graph0\" class=\"graph\" transform=\"scale(1 1) rotate(0) translate(4 94)\">\n<title>my_graph</title>\n<polygon fill=\"white\" stroke=\"transparent\" points=\"-4,4 -4,-94 261,-94 261,4 -4,4\"/>\n<!-- system_G1 -->\n<g id=\"node1\" class=\"node\">\n<title>system_G1</title>\n<text text-anchor=\"middle\" x=\"27.5\" y=\"-68.3\" font-family=\"Times,serif\" font-size=\"14.00\">system</text>\n</g>\n<!-- SparseMatrix -->\n<g id=\"node3\" class=\"node\">\n<title>SparseMatrix</title>\n<polygon fill=\"none\" stroke=\"black\" points=\"92.5,-66 92.5,-83 165.5,-83 165.5,-66 92.5,-66\"/>\n<text text-anchor=\"start\" x=\"95.5\" y=\"-72\" font-family=\"Times,serif\" font-size=\"10.00\">B[SparseMatrix]</text>\n<polygon fill=\"none\" stroke=\"black\" points=\"92.5,-45 92.5,-66 165.5,-66 165.5,-45 92.5,-45\"/>\n<text text-anchor=\"start\" x=\"109.5\" y=\"-51.8\" font-family=\"Times,serif\" font-size=\"14.00\">system</text>\n<polygon fill=\"none\" stroke=\"black\" points=\"92.5,-24 92.5,-45 165.5,-45 165.5,-24 92.5,-24\"/>\n<text text-anchor=\"start\" x=\"110.5\" y=\"-30.8\" font-family=\"Times,serif\" font-size=\"14.00\">ancilla</text>\n</g>\n<!-- system_G1&#45;&gt;SparseMatrix -->\n<g id=\"edge1\" class=\"edge\">\n<title>system_G1:e-&gt;SparseMatrix:w</title>\n<path fill=\"none\" stroke=\"black\" d=\"M55,-72C72.22,-72 73.97,-57.23 89.98,-56.07\"/>\n<ellipse fill=\"black\" stroke=\"black\" cx=\"91\" cy=\"-56.04\" rx=\"1\" ry=\"1\"/>\n<text text-anchor=\"middle\" x=\"73.5\" y=\"-67\" font-family=\"Times,serif\" font-size=\"10.00\">n</text>\n</g>\n<!-- ancilla_G2 -->\n<g id=\"node2\" class=\"node\">\n<title>ancilla_G2</title>\n<text text-anchor=\"middle\" x=\"27.5\" y=\"-14.3\" font-family=\"Times,serif\" font-size=\"14.00\">ancilla</text>\n</g>\n<!-- ancilla_G2&#45;&gt;SparseMatrix -->\n<g id=\"edge2\" class=\"edge\">\n<title>ancilla_G2:e-&gt;SparseMatrix:w</title>\n<path fill=\"none\" stroke=\"black\" d=\"M55,-18C72.22,-18 73.97,-32.77 89.98,-33.93\"/>\n<ellipse fill=\"black\" stroke=\"black\" cx=\"91\" cy=\"-33.96\" rx=\"1\" ry=\"1\"/>\n<text text-anchor=\"middle\" x=\"73.5\" y=\"-29\" font-family=\"Times,serif\" font-size=\"10.00\">n + 1</text>\n</g>\n<!-- system_G4 -->\n<g id=\"node4\" class=\"node\">\n<title>system_G4</title>\n<text text-anchor=\"middle\" x=\"229.5\" y=\"-68.3\" font-family=\"Times,serif\" font-size=\"14.00\">system</text>\n</g>\n<!-- SparseMatrix&#45;&gt;system_G4 -->\n<g id=\"edge3\" class=\"edge\">\n<title>SparseMatrix:e-&gt;system_G4:w</title>\n<path fill=\"none\" stroke=\"black\" d=\"M165,-56C182.22,-56 183.97,-70.77 199.98,-71.93\"/>\n<ellipse fill=\"black\" stroke=\"black\" cx=\"201\" cy=\"-71.96\" rx=\"1\" ry=\"1\"/>\n<text text-anchor=\"middle\" x=\"183.5\" y=\"-67\" font-family=\"Times,serif\" font-size=\"10.00\">n</text>\n</g>\n<!-- ancilla_G3 -->\n<g id=\"node5\" class=\"node\">\n<title>ancilla_G3</title>\n<text text-anchor=\"middle\" x=\"229.5\" y=\"-14.3\" font-family=\"Times,serif\" font-size=\"14.00\">ancilla</text>\n</g>\n<!-- SparseMatrix&#45;&gt;ancilla_G3 -->\n<g id=\"edge4\" class=\"edge\">\n<title>SparseMatrix:e-&gt;ancilla_G3:w</title>\n<path fill=\"none\" stroke=\"black\" d=\"M165,-34C182.22,-34 183.97,-19.23 199.98,-18.07\"/>\n<ellipse fill=\"black\" stroke=\"black\" cx=\"201\" cy=\"-18.04\" rx=\"1\" ry=\"1\"/>\n<text text-anchor=\"middle\" x=\"183.5\" y=\"-29\" font-family=\"Times,serif\" font-size=\"10.00\">n + 1</text>\n</g>\n</g>\n</svg>",
          "text/plain": "<IPython.core.display.SVG object>"
         },
         "metadata": {},
         "output_type": "display_data"
        }
       ],
       "tabbable": null,
       "tooltip": null
      }
     },
     "ef8958d5db8d4cd688694c345411960c": {
      "model_module": "@jupyter-widgets/base",
      "model_module_version": "2.0.0",
      "model_name": "LayoutModel",
      "state": {
       "_model_module": "@jupyter-widgets/base",
       "_model_module_version": "2.0.0",
       "_model_name": "LayoutModel",
       "_view_count": null,
       "_view_module": "@jupyter-widgets/base",
       "_view_module_version": "2.0.0",
       "_view_name": "LayoutView",
       "align_content": null,
       "align_items": null,
       "align_self": null,
       "border_bottom": null,
       "border_left": null,
       "border_right": null,
       "border_top": null,
       "bottom": null,
       "display": null,
       "flex": null,
       "flex_flow": null,
       "grid_area": null,
       "grid_auto_columns": null,
       "grid_auto_flow": null,
       "grid_auto_rows": null,
       "grid_column": null,
       "grid_gap": null,
       "grid_row": null,
       "grid_template_areas": null,
       "grid_template_columns": null,
       "grid_template_rows": null,
       "height": null,
       "justify_content": null,
       "justify_items": null,
       "left": null,
       "margin": null,
       "max_height": null,
       "max_width": null,
       "min_height": null,
       "min_width": null,
       "object_fit": null,
       "object_position": null,
       "order": null,
       "overflow": null,
       "padding": null,
       "right": null,
       "top": null,
       "visibility": null,
       "width": null
      }
     }
    },
    "version_major": 2,
    "version_minor": 0
   }
  }
 },
 "nbformat": 4,
 "nbformat_minor": 5
}
