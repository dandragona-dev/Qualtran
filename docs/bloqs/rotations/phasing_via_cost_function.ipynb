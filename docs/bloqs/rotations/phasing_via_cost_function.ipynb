{
 "cells": [
  {
   "cell_type": "markdown",
   "id": "ff057e77",
   "metadata": {
    "cq.autogen": "title_cell"
   },
   "source": [
    "# Phasing via Cost function"
   ]
  },
  {
   "cell_type": "code",
   "execution_count": 1,
   "id": "a36fa3ca",
   "metadata": {
    "cq.autogen": "top_imports"
   },
   "outputs": [],
   "source": [
    "from qualtran import Bloq, CompositeBloq, BloqBuilder, Signature, Register\n",
    "from qualtran import QBit, QInt, QUInt, QAny\n",
    "from qualtran.drawing import show_bloq, show_call_graph, show_counts_sigma\n",
    "from typing import *\n",
    "import numpy as np\n",
    "import sympy\n",
    "import cirq"
   ]
  },
  {
   "cell_type": "markdown",
   "id": "e730b939",
   "metadata": {
    "cq.autogen": "PhasingViaCostFunction.bloq_doc.md"
   },
   "source": [
    "## `PhasingViaCostFunction`\n",
    "Phases every basis state $|x\\rangle$ by an amount proportional to a cost function $f(x)$\n",
    "\n",
    "This Bloq implements a unitary $U_f(\\gamma)$ which phases each computational state on which\n",
    "the wave-function has support, by an amount proportional to a function of that computational\n",
    "basis state. The general unitary can be defined as\n",
    "$$\n",
    "    U_f(\\gamma) = \\sum_{x=0}^{N-1} e^{i 2 \\pi \\gamma f(x)} |x\\rangle \\langle x|\n",
    "$$\n",
    "\n",
    "The strategy to implement $U_f(\\gamma)$ is to use two oracles $O_\\text{direct}$\n",
    "and $O_\\text{phase}$ s.t.\n",
    "$$\n",
    "U_f(\\gamma) = O_\\text{direct}^\\dagger(\\mathbb{I}\\otimes O_\\text{phase})O_\\text{direct}\n",
    "$$\n",
    "\n",
    "$O^\\text{direct}$ evaluates a $b_\\text{direct}$-bit approximation of the cost function $f(x)$\n",
    "and stores it in a new output cost register. Note that the cost register can represent\n",
    "arbitrary fixed point values and be of type `QFxp(b_direct, n_frac, signed)`.\n",
    "$$\n",
    "O^\\text{direct}|x\\rangle|0\\rangle^{\\otimes b_\\text{direct}}_\\text{cost}=|x\\rangle|f(x)\\rangle\n",
    "$$\n",
    "\n",
    "$O^\\text{phase}$ acts on the cost register computed by $O^\\text{direct}$ and phases the\n",
    "state $|f(x)\\rangle$ by $e^{i 2\\pi \\gamma f(x)}$\n",
    "$$\n",
    "O^\\text{phase}(\\gamma)=\\sum_{k=0}^{2^{b_\\text{direct}}-1}e^{i 2\\pi\\gamma k}|k\\rangle\\langle k|\n",
    "$$\n",
    "\n",
    "\n",
    "Different strategies for implementing the two oracles would give different costs tradeoffs.\n",
    "See `QvrZPow` and `QvrPhaseGradient` for two different implementations of\n",
    "phase oracles described in the reference.\n",
    "\n",
    "#### Parameters\n",
    " - `cost_eval_oracle`: Cost function evaluation oracle. Must compute the cost in a newly allocated RIGHT register.\n",
    " - `phase_oracle`: Oracle to phase the cost register. Must consume the cost register allocated by `cost_eval_oracle` as a THRU input. \n",
    "\n",
    "#### References\n",
    " - [Compilation of Fault-Tolerant Quantum Heuristics for Combinatorial Optimization](https://arxiv.org/abs/2007.07391). Appendix C: Oracles for phasing by cost function\n"
   ]
  },
  {
   "cell_type": "code",
   "execution_count": 2,
   "id": "461665ac",
   "metadata": {
    "cq.autogen": "PhasingViaCostFunction.bloq_doc.py"
   },
   "outputs": [],
   "source": [
    "from qualtran.bloqs.rotations import PhasingViaCostFunction"
   ]
  },
  {
   "cell_type": "markdown",
   "id": "ee3e0757",
   "metadata": {
    "cq.autogen": "PhasingViaCostFunction.example_instances.md"
   },
   "source": [
    "### Example Instances"
   ]
  },
  {
   "cell_type": "code",
   "execution_count": 3,
   "id": "ff92d8f5",
   "metadata": {
    "cq.autogen": "PhasingViaCostFunction.square_via_zpow_phasing"
   },
   "outputs": [],
   "source": [
    "from qualtran import QFxp, Register\n",
    "from qualtran.bloqs.arithmetic import Square\n",
    "from qualtran.bloqs.rotations.quantum_variable_rotation import QvrZPow\n",
    "\n",
    "n, gamma, eps = 5, 0.1234, 1e-8\n",
    "cost_reg = Register('result', QFxp(2 * n, 2 * n, signed=False))\n",
    "cost_eval_oracle = Square(n)\n",
    "phase_oracle = QvrZPow(cost_reg, gamma, eps)\n",
    "square_via_zpow_phasing = PhasingViaCostFunction(cost_eval_oracle, phase_oracle)"
   ]
  },
  {
   "cell_type": "code",
   "execution_count": 4,
   "id": "59357cd2",
   "metadata": {
    "cq.autogen": "PhasingViaCostFunction.square_via_phase_gradient"
   },
   "outputs": [],
   "source": [
    "from qualtran import QFxp, Register\n",
    "from qualtran.bloqs.arithmetic import Square\n",
    "from qualtran.bloqs.rotations.quantum_variable_rotation import QvrPhaseGradient\n",
    "\n",
    "n, gamma, eps = 5, 0.1234, 1e-8\n",
    "cost_reg = Register('result', QFxp(2 * n, 2 * n, signed=False))\n",
    "cost_eval_oracle = Square(n)\n",
    "phase_oracle = QvrPhaseGradient(cost_reg, gamma, eps)\n",
    "square_via_phase_gradient = PhasingViaCostFunction(cost_eval_oracle, phase_oracle)"
   ]
  },
  {
   "cell_type": "markdown",
   "id": "5581c747",
   "metadata": {
    "cq.autogen": "PhasingViaCostFunction.graphical_signature.md"
   },
   "source": [
    "#### Graphical Signature"
   ]
  },
  {
   "cell_type": "code",
   "execution_count": 5,
   "id": "a9b1feda",
   "metadata": {
    "cq.autogen": "PhasingViaCostFunction.graphical_signature.py"
   },
   "outputs": [
    {
     "data": {
      "application/vnd.jupyter.widget-view+json": {
       "model_id": "805af5051825474aad7f48afbea0e982",
       "version_major": 2,
       "version_minor": 0
      },
      "text/plain": [
       "HBox(children=(Output(outputs=({'output_type': 'display_data', 'data': {'text/plain': '<IPython.core.display.M…"
      ]
     },
     "metadata": {},
     "output_type": "display_data"
    }
   ],
   "source": [
    "from qualtran.drawing import show_bloqs\n",
    "show_bloqs([square_via_phase_gradient, square_via_zpow_phasing],\n",
    "           ['`square_via_phase_gradient`', '`square_via_zpow_phasing`'])"
   ]
  },
  {
   "cell_type": "markdown",
   "id": "cbb448f5",
   "metadata": {
    "cq.autogen": "PhasingViaCostFunction.call_graph.md"
   },
   "source": [
    "### Call Graph"
   ]
  },
  {
   "cell_type": "code",
   "execution_count": 6,
   "id": "24f2a28f",
   "metadata": {
    "cq.autogen": "PhasingViaCostFunction.call_graph.py"
   },
   "outputs": [
    {
     "data": {
      "image/svg+xml": [
       "<svg xmlns=\"http://www.w3.org/2000/svg\" xmlns:xlink=\"http://www.w3.org/1999/xlink\" width=\"677pt\" height=\"131pt\" viewBox=\"0.00 0.00 677.00 131.00\">\n",
       "<g id=\"graph0\" class=\"graph\" transform=\"scale(1 1) rotate(0) translate(4 127)\">\n",
       "<title>counts</title>\n",
       "<polygon fill=\"white\" stroke=\"transparent\" points=\"-4,4 -4,-127 673,-127 673,4 -4,4\"/>\n",
       "<!-- b0 -->\n",
       "<g id=\"node1\" class=\"node\">\n",
       "<title>b0</title>\n",
       "<polygon fill=\"none\" stroke=\"black\" points=\"451,-123 98,-123 98,-87 451,-87 451,-123\"/>\n",
       "<text text-anchor=\"start\" x=\"206.5\" y=\"-106.8\" font-family=\"Times,serif\" font-size=\"14.00\">PhasingViaCostFunction</text>\n",
       "<text text-anchor=\"start\" x=\"106\" y=\"-96\" font-family=\"monospace\" font-size=\"10.00\">cost_eval_oracle=Square(b ..., phase_oracle=QvrPhase ...</text>\n",
       "</g>\n",
       "<!-- b1 -->\n",
       "<g id=\"node2\" class=\"node\">\n",
       "<title>b1</title>\n",
       "<polygon fill=\"none\" stroke=\"black\" points=\"173,-36 0,-36 0,0 173,0 173,-36\"/>\n",
       "<text text-anchor=\"start\" x=\"67.5\" y=\"-19.8\" font-family=\"Times,serif\" font-size=\"14.00\">Square</text>\n",
       "<text text-anchor=\"start\" x=\"8\" y=\"-9\" font-family=\"monospace\" font-size=\"10.00\">bitsize=5, uncompute=False</text>\n",
       "</g>\n",
       "<!-- b0&#45;&gt;b1 -->\n",
       "<g id=\"edge1\" class=\"edge\">\n",
       "<title>b0-&gt;b1</title>\n",
       "<path fill=\"none\" stroke=\"black\" d=\"M236.46,-86.8C206.67,-73.33 165.1,-54.54 133.28,-40.15\"/>\n",
       "<polygon fill=\"black\" stroke=\"black\" points=\"134.72,-36.96 124.17,-36.03 131.84,-43.34 134.72,-36.96\"/>\n",
       "<text text-anchor=\"middle\" x=\"196\" y=\"-57.8\" font-family=\"Times,serif\" font-size=\"14.00\">1</text>\n",
       "</g>\n",
       "<!-- b2 -->\n",
       "<g id=\"node3\" class=\"node\">\n",
       "<title>b2</title>\n",
       "<polygon fill=\"none\" stroke=\"black\" points=\"358,-36 191,-36 191,0 358,0 358,-36\"/>\n",
       "<text text-anchor=\"start\" x=\"255.5\" y=\"-19.8\" font-family=\"Times,serif\" font-size=\"14.00\">Square</text>\n",
       "<text text-anchor=\"start\" x=\"199\" y=\"-9\" font-family=\"monospace\" font-size=\"10.00\">bitsize=5, uncompute=True</text>\n",
       "</g>\n",
       "<!-- b0&#45;&gt;b2 -->\n",
       "<g id=\"edge2\" class=\"edge\">\n",
       "<title>b0-&gt;b2</title>\n",
       "<path fill=\"none\" stroke=\"black\" d=\"M274.5,-86.8C274.5,-75.16 274.5,-59.55 274.5,-46.24\"/>\n",
       "<polygon fill=\"black\" stroke=\"black\" points=\"278,-46.18 274.5,-36.18 271,-46.18 278,-46.18\"/>\n",
       "<text text-anchor=\"middle\" x=\"278\" y=\"-57.8\" font-family=\"Times,serif\" font-size=\"14.00\">1</text>\n",
       "</g>\n",
       "<!-- b3 -->\n",
       "<g id=\"node4\" class=\"node\">\n",
       "<title>b3</title>\n",
       "<polygon fill=\"none\" stroke=\"black\" points=\"669,-36 376,-36 376,0 669,0 669,-36\"/>\n",
       "<text text-anchor=\"start\" x=\"472.5\" y=\"-19.8\" font-family=\"Times,serif\" font-size=\"14.00\">QvrPhaseGradient</text>\n",
       "<text text-anchor=\"start\" x=\"384\" y=\"-9\" font-family=\"monospace\" font-size=\"10.00\">cost_reg=Register ..., gamma=0.1234, eps=1e-08</text>\n",
       "</g>\n",
       "<!-- b0&#45;&gt;b3 -->\n",
       "<g id=\"edge3\" class=\"edge\">\n",
       "<title>b0-&gt;b3</title>\n",
       "<path fill=\"none\" stroke=\"black\" d=\"M324.39,-86.9C364.41,-73.18 420.71,-53.89 463.06,-39.37\"/>\n",
       "<polygon fill=\"black\" stroke=\"black\" points=\"464.37,-42.62 472.69,-36.07 462.1,-36 464.37,-42.62\"/>\n",
       "<text text-anchor=\"middle\" x=\"417\" y=\"-57.8\" font-family=\"Times,serif\" font-size=\"14.00\">1</text>\n",
       "</g>\n",
       "</g>\n",
       "</svg>"
      ],
      "text/plain": [
       "<IPython.core.display.SVG object>"
      ]
     },
     "metadata": {},
     "output_type": "display_data"
    },
    {
     "data": {
      "text/markdown": [
       "#### Counts totals:\n",
       " - `QvrPhaseGradient`: 1\n",
       " - `Square`: 1\n",
       " - `Square`: 1"
      ],
      "text/plain": [
       "<IPython.core.display.Markdown object>"
      ]
     },
     "metadata": {},
     "output_type": "display_data"
    }
   ],
   "source": [
    "from qualtran.resource_counting.generalizers import ignore_split_join\n",
    "square_via_phase_gradient_g, square_via_phase_gradient_sigma = square_via_phase_gradient.call_graph(max_depth=1, generalizer=ignore_split_join)\n",
    "show_call_graph(square_via_phase_gradient_g)\n",
    "show_counts_sigma(square_via_phase_gradient_sigma)"
   ]
  },
  {
   "cell_type": "code",
   "execution_count": 7,
   "id": "d2dd8d24-a723-46e8-80ae-4845be71a1b3",
   "metadata": {},
   "outputs": [
    {
     "data": {
      "image/svg+xml": [
       "<svg xmlns=\"http://www.w3.org/2000/svg\" xmlns:xlink=\"http://www.w3.org/1999/xlink\" width=\"689pt\" height=\"218pt\" viewBox=\"0.00 0.00 689.00 218.00\">\n",
       "<g id=\"graph0\" class=\"graph\" transform=\"scale(1 1) rotate(0) translate(4 214)\">\n",
       "<title>counts</title>\n",
       "<polygon fill=\"white\" stroke=\"transparent\" points=\"-4,4 -4,-214 685,-214 685,4 -4,4\"/>\n",
       "<!-- b0 -->\n",
       "<g id=\"node1\" class=\"node\">\n",
       "<title>b0</title>\n",
       "<polygon fill=\"none\" stroke=\"black\" points=\"451,-210 98,-210 98,-174 451,-174 451,-210\"/>\n",
       "<text text-anchor=\"start\" x=\"206.5\" y=\"-193.8\" font-family=\"Times,serif\" font-size=\"14.00\">PhasingViaCostFunction</text>\n",
       "<text text-anchor=\"start\" x=\"106\" y=\"-183\" font-family=\"monospace\" font-size=\"10.00\">cost_eval_oracle=Square(b ..., phase_oracle=QvrZPow( ...</text>\n",
       "</g>\n",
       "<!-- b1 -->\n",
       "<g id=\"node2\" class=\"node\">\n",
       "<title>b1</title>\n",
       "<polygon fill=\"none\" stroke=\"black\" points=\"173,-123 0,-123 0,-87 173,-87 173,-123\"/>\n",
       "<text text-anchor=\"start\" x=\"67.5\" y=\"-106.8\" font-family=\"Times,serif\" font-size=\"14.00\">Square</text>\n",
       "<text text-anchor=\"start\" x=\"8\" y=\"-96\" font-family=\"monospace\" font-size=\"10.00\">bitsize=5, uncompute=False</text>\n",
       "</g>\n",
       "<!-- b0&#45;&gt;b1 -->\n",
       "<g id=\"edge1\" class=\"edge\">\n",
       "<title>b0-&gt;b1</title>\n",
       "<path fill=\"none\" stroke=\"black\" d=\"M236.46,-173.8C206.67,-160.33 165.1,-141.54 133.28,-127.15\"/>\n",
       "<polygon fill=\"black\" stroke=\"black\" points=\"134.72,-123.96 124.17,-123.03 131.84,-130.34 134.72,-123.96\"/>\n",
       "<text text-anchor=\"middle\" x=\"196\" y=\"-144.8\" font-family=\"Times,serif\" font-size=\"14.00\">1</text>\n",
       "</g>\n",
       "<!-- b2 -->\n",
       "<g id=\"node3\" class=\"node\">\n",
       "<title>b2</title>\n",
       "<polygon fill=\"none\" stroke=\"black\" points=\"669,-123 376,-123 376,-87 669,-87 669,-123\"/>\n",
       "<text text-anchor=\"start\" x=\"495.5\" y=\"-106.8\" font-family=\"Times,serif\" font-size=\"14.00\">QvrZPow</text>\n",
       "<text text-anchor=\"start\" x=\"384\" y=\"-96\" font-family=\"monospace\" font-size=\"10.00\">cost_reg=Register ..., gamma=0.1234, eps=1e-08</text>\n",
       "</g>\n",
       "<!-- b0&#45;&gt;b2 -->\n",
       "<g id=\"edge2\" class=\"edge\">\n",
       "<title>b0-&gt;b2</title>\n",
       "<path fill=\"none\" stroke=\"black\" d=\"M324.39,-173.9C364.41,-160.18 420.71,-140.89 463.06,-126.37\"/>\n",
       "<polygon fill=\"black\" stroke=\"black\" points=\"464.37,-129.62 472.69,-123.07 462.1,-123 464.37,-129.62\"/>\n",
       "<text text-anchor=\"middle\" x=\"417\" y=\"-144.8\" font-family=\"Times,serif\" font-size=\"14.00\">1</text>\n",
       "</g>\n",
       "<!-- b3 -->\n",
       "<g id=\"node4\" class=\"node\">\n",
       "<title>b3</title>\n",
       "<polygon fill=\"none\" stroke=\"black\" points=\"358,-123 191,-123 191,-87 358,-87 358,-123\"/>\n",
       "<text text-anchor=\"start\" x=\"255.5\" y=\"-106.8\" font-family=\"Times,serif\" font-size=\"14.00\">Square</text>\n",
       "<text text-anchor=\"start\" x=\"199\" y=\"-96\" font-family=\"monospace\" font-size=\"10.00\">bitsize=5, uncompute=True</text>\n",
       "</g>\n",
       "<!-- b0&#45;&gt;b3 -->\n",
       "<g id=\"edge3\" class=\"edge\">\n",
       "<title>b0-&gt;b3</title>\n",
       "<path fill=\"none\" stroke=\"black\" d=\"M274.5,-173.8C274.5,-162.16 274.5,-146.55 274.5,-133.24\"/>\n",
       "<polygon fill=\"black\" stroke=\"black\" points=\"278,-133.18 274.5,-123.18 271,-133.18 278,-133.18\"/>\n",
       "<text text-anchor=\"middle\" x=\"278\" y=\"-144.8\" font-family=\"Times,serif\" font-size=\"14.00\">1</text>\n",
       "</g>\n",
       "<!-- b5 -->\n",
       "<g id=\"node6\" class=\"node\">\n",
       "<title>b5</title>\n",
       "<polygon fill=\"none\" stroke=\"black\" points=\"208,-36 153,-36 153,0 208,0 208,-36\"/>\n",
       "<text text-anchor=\"start\" x=\"161\" y=\"-14.3\" font-family=\"Times,serif\" font-size=\"14.00\">Toffoli</text>\n",
       "</g>\n",
       "<!-- b1&#45;&gt;b5 -->\n",
       "<g id=\"edge4\" class=\"edge\">\n",
       "<title>b1-&gt;b5</title>\n",
       "<path fill=\"none\" stroke=\"black\" d=\"M105.52,-86.8C119.41,-74.24 138.42,-57.05 153.83,-43.12\"/>\n",
       "<polygon fill=\"black\" stroke=\"black\" points=\"156.44,-45.48 161.51,-36.18 151.74,-40.29 156.44,-45.48\"/>\n",
       "<text text-anchor=\"middle\" x=\"146.5\" y=\"-57.8\" font-family=\"Times,serif\" font-size=\"14.00\">20</text>\n",
       "</g>\n",
       "<!-- b4 -->\n",
       "<g id=\"node5\" class=\"node\">\n",
       "<title>b4</title>\n",
       "<polygon fill=\"none\" stroke=\"black\" points=\"681,-36 364,-36 364,0 681,0 681,-36\"/>\n",
       "<text text-anchor=\"start\" x=\"462\" y=\"-19.8\" font-family=\"Times,serif\" font-size=\"14.00\">Z**0.0001205078125</text>\n",
       "<text text-anchor=\"start\" x=\"372\" y=\"-9\" font-family=\"monospace\" font-size=\"10.00\">exponent=0.000120 ..., global_shift=0.0, eps=1e-09</text>\n",
       "</g>\n",
       "<!-- b2&#45;&gt;b4 -->\n",
       "<g id=\"edge5\" class=\"edge\">\n",
       "<title>b2-&gt;b4</title>\n",
       "<path fill=\"none\" stroke=\"black\" d=\"M522.5,-86.8C522.5,-75.16 522.5,-59.55 522.5,-46.24\"/>\n",
       "<polygon fill=\"black\" stroke=\"black\" points=\"526,-46.18 522.5,-36.18 519,-46.18 526,-46.18\"/>\n",
       "<text text-anchor=\"middle\" x=\"529.5\" y=\"-57.8\" font-family=\"Times,serif\" font-size=\"14.00\">10</text>\n",
       "</g>\n",
       "<!-- b3&#45;&gt;b5 -->\n",
       "<g id=\"edge6\" class=\"edge\">\n",
       "<title>b3-&gt;b5</title>\n",
       "<path fill=\"none\" stroke=\"black\" d=\"M255.48,-86.8C241.59,-74.24 222.58,-57.05 207.17,-43.12\"/>\n",
       "<polygon fill=\"black\" stroke=\"black\" points=\"209.26,-40.29 199.49,-36.18 204.56,-45.48 209.26,-40.29\"/>\n",
       "<text text-anchor=\"middle\" x=\"240.5\" y=\"-57.8\" font-family=\"Times,serif\" font-size=\"14.00\">20</text>\n",
       "</g>\n",
       "</g>\n",
       "</svg>"
      ],
      "text/plain": [
       "<IPython.core.display.SVG object>"
      ]
     },
     "metadata": {},
     "output_type": "display_data"
    },
    {
     "data": {
      "text/markdown": [
       "#### Counts totals:\n",
       " - `Toffoli`: 40\n",
       " - `Z**0.0001205078125`: 10"
      ],
      "text/plain": [
       "<IPython.core.display.Markdown object>"
      ]
     },
     "metadata": {},
     "output_type": "display_data"
    }
   ],
   "source": [
    "square_via_zpow_phasing_g, square_via_zpow_phasing_sigma = square_via_zpow_phasing.call_graph()\n",
    "show_call_graph(square_via_zpow_phasing_g)\n",
    "show_counts_sigma(square_via_zpow_phasing_sigma)"
   ]
  }
 ],
 "metadata": {
  "kernelspec": {
   "display_name": "Python 3 (ipykernel)",
   "language": "python",
   "name": "python3"
  },
  "language_info": {
   "codemirror_mode": {
    "name": "ipython",
    "version": 3
   },
   "file_extension": ".py",
   "mimetype": "text/x-python",
   "name": "python",
   "nbconvert_exporter": "python",
   "pygments_lexer": "ipython3",
   "version": "3.11.8"
  },
  "widgets": {
   "application/vnd.jupyter.widget-state+json": {
    "state": {
     "0b0b2cdf2fe24530a2e951a2812d27ae": {
      "model_module": "@jupyter-widgets/base",
      "model_module_version": "2.0.0",
      "model_name": "LayoutModel",
      "state": {
       "_model_module": "@jupyter-widgets/base",
       "_model_module_version": "2.0.0",
       "_model_name": "LayoutModel",
       "_view_count": null,
       "_view_module": "@jupyter-widgets/base",
       "_view_module_version": "2.0.0",
       "_view_name": "LayoutView",
       "align_content": null,
       "align_items": null,
       "align_self": null,
       "border_bottom": null,
       "border_left": null,
       "border_right": null,
       "border_top": null,
       "bottom": null,
       "display": null,
       "flex": null,
       "flex_flow": null,
       "grid_area": null,
       "grid_auto_columns": null,
       "grid_auto_flow": null,
       "grid_auto_rows": null,
       "grid_column": null,
       "grid_gap": null,
       "grid_row": null,
       "grid_template_areas": null,
       "grid_template_columns": null,
       "grid_template_rows": null,
       "height": null,
       "justify_content": null,
       "justify_items": null,
       "left": null,
       "margin": null,
       "max_height": null,
       "max_width": null,
       "min_height": null,
       "min_width": null,
       "object_fit": null,
       "object_position": null,
       "order": null,
       "overflow": null,
       "padding": null,
       "right": null,
       "top": null,
       "visibility": null,
       "width": null
      }
     },
     "4152a3353cd947ff87776050a1ad4e76": {
      "model_module": "@jupyter-widgets/base",
      "model_module_version": "2.0.0",
      "model_name": "LayoutModel",
      "state": {
       "_model_module": "@jupyter-widgets/base",
       "_model_module_version": "2.0.0",
       "_model_name": "LayoutModel",
       "_view_count": null,
       "_view_module": "@jupyter-widgets/base",
       "_view_module_version": "2.0.0",
       "_view_name": "LayoutView",
       "align_content": null,
       "align_items": null,
       "align_self": null,
       "border_bottom": null,
       "border_left": null,
       "border_right": null,
       "border_top": null,
       "bottom": null,
       "display": null,
       "flex": null,
       "flex_flow": null,
       "grid_area": null,
       "grid_auto_columns": null,
       "grid_auto_flow": null,
       "grid_auto_rows": null,
       "grid_column": null,
       "grid_gap": null,
       "grid_row": null,
       "grid_template_areas": null,
       "grid_template_columns": null,
       "grid_template_rows": null,
       "height": null,
       "justify_content": null,
       "justify_items": null,
       "left": null,
       "margin": null,
       "max_height": null,
       "max_width": null,
       "min_height": null,
       "min_width": null,
       "object_fit": null,
       "object_position": null,
       "order": null,
       "overflow": null,
       "padding": null,
       "right": null,
       "top": null,
       "visibility": null,
       "width": null
      }
     },
     "805af5051825474aad7f48afbea0e982": {
      "model_module": "@jupyter-widgets/controls",
      "model_module_version": "2.0.0",
      "model_name": "HBoxModel",
      "state": {
       "_dom_classes": [],
       "_model_module": "@jupyter-widgets/controls",
       "_model_module_version": "2.0.0",
       "_model_name": "HBoxModel",
       "_view_count": null,
       "_view_module": "@jupyter-widgets/controls",
       "_view_module_version": "2.0.0",
       "_view_name": "HBoxView",
       "box_style": "",
       "children": [
        "IPY_MODEL_81b2ce95a06343949df033fbd1a5dfdb",
        "IPY_MODEL_c4899f7d4e4a4b459ddb7e7c498d921f"
       ],
       "layout": "IPY_MODEL_4152a3353cd947ff87776050a1ad4e76",
       "tabbable": null,
       "tooltip": null
      }
     },
     "81b2ce95a06343949df033fbd1a5dfdb": {
      "model_module": "@jupyter-widgets/output",
      "model_module_version": "1.0.0",
      "model_name": "OutputModel",
      "state": {
       "_dom_classes": [],
       "_model_module": "@jupyter-widgets/output",
       "_model_module_version": "1.0.0",
       "_model_name": "OutputModel",
       "_view_count": null,
       "_view_module": "@jupyter-widgets/output",
       "_view_module_version": "1.0.0",
       "_view_name": "OutputView",
       "layout": "IPY_MODEL_0b0b2cdf2fe24530a2e951a2812d27ae",
       "msg_id": "",
       "outputs": [
        {
         "data": {
          "text/markdown": "`square_via_phase_gradient`",
          "text/plain": "<IPython.core.display.Markdown object>"
         },
         "metadata": {},
         "output_type": "display_data"
        },
        {
         "data": {
          "image/svg+xml": "<svg xmlns=\"http://www.w3.org/2000/svg\" xmlns:xlink=\"http://www.w3.org/1999/xlink\" width=\"346pt\" height=\"98pt\" viewBox=\"0.00 0.00 346.00 98.00\">\n<g id=\"graph0\" class=\"graph\" transform=\"scale(1 1) rotate(0) translate(4 94)\">\n<title>my_graph</title>\n<polygon fill=\"white\" stroke=\"transparent\" points=\"-4,4 -4,-94 342,-94 342,4 -4,4\"/>\n<!-- a_G4 -->\n<g id=\"node1\" class=\"node\">\n<title>a_G4</title>\n<text text-anchor=\"middle\" x=\"39\" y=\"-68.3\" font-family=\"Times,serif\" font-size=\"14.00\">a</text>\n</g>\n<!-- PhasingViaCostFunction -->\n<g id=\"node3\" class=\"node\">\n<title>PhasingViaCostFunction</title>\n<polygon fill=\"none\" stroke=\"black\" points=\"115,-66 115,-83 223,-83 223,-66 115,-66\"/>\n<text text-anchor=\"start\" x=\"118\" y=\"-72\" font-family=\"Times,serif\" font-size=\"10.00\">PhasingViaCostFunction</text>\n<polygon fill=\"none\" stroke=\"black\" points=\"115,-45 115,-66 223,-66 223,-45 115,-45\"/>\n<text text-anchor=\"start\" x=\"165.5\" y=\"-51.8\" font-family=\"Times,serif\" font-size=\"14.00\">a</text>\n<polygon fill=\"none\" stroke=\"black\" points=\"115,-24 115,-45 223,-45 223,-24 115,-24\"/>\n<text text-anchor=\"start\" x=\"138\" y=\"-30.8\" font-family=\"Times,serif\" font-size=\"14.00\">phase_grad</text>\n</g>\n<!-- a_G4&#45;&gt;PhasingViaCostFunction -->\n<g id=\"edge1\" class=\"edge\">\n<title>a_G4:e-&gt;PhasingViaCostFunction:w</title>\n<path fill=\"none\" stroke=\"black\" d=\"M67,-72C88.78,-72 92.3,-56.98 112.95,-56.05\"/>\n<ellipse fill=\"black\" stroke=\"black\" cx=\"114\" cy=\"-56.02\" rx=\"1\" ry=\"1\"/>\n<text text-anchor=\"middle\" x=\"96.5\" y=\"-63\" font-family=\"Times,serif\" font-size=\"10.00\">5</text>\n</g>\n<!-- phase_grad_G5 -->\n<g id=\"node2\" class=\"node\">\n<title>phase_grad_G5</title>\n<text text-anchor=\"middle\" x=\"39\" y=\"-14.3\" font-family=\"Times,serif\" font-size=\"14.00\">phase_grad</text>\n</g>\n<!-- phase_grad_G5&#45;&gt;PhasingViaCostFunction -->\n<g id=\"edge2\" class=\"edge\">\n<title>phase_grad_G5:e-&gt;PhasingViaCostFunction:w</title>\n<path fill=\"none\" stroke=\"black\" d=\"M78,-18C95.22,-18 96.97,-32.77 112.98,-33.93\"/>\n<ellipse fill=\"black\" stroke=\"black\" cx=\"114\" cy=\"-33.96\" rx=\"1\" ry=\"1\"/>\n<text text-anchor=\"middle\" x=\"96.5\" y=\"-29\" font-family=\"Times,serif\" font-size=\"10.00\">32</text>\n</g>\n<!-- a_G3 -->\n<g id=\"node4\" class=\"node\">\n<title>a_G3</title>\n<text text-anchor=\"middle\" x=\"299\" y=\"-68.3\" font-family=\"Times,serif\" font-size=\"14.00\">a</text>\n</g>\n<!-- PhasingViaCostFunction&#45;&gt;a_G3 -->\n<g id=\"edge3\" class=\"edge\">\n<title>PhasingViaCostFunction:e-&gt;a_G3:w</title>\n<path fill=\"none\" stroke=\"black\" d=\"M223,-56C244.78,-56 248.3,-71.02 268.95,-71.95\"/>\n<ellipse fill=\"black\" stroke=\"black\" cx=\"270\" cy=\"-71.98\" rx=\"1\" ry=\"1\"/>\n<text text-anchor=\"middle\" x=\"241.5\" y=\"-63\" font-family=\"Times,serif\" font-size=\"10.00\">5</text>\n</g>\n<!-- phase_grad_G1 -->\n<g id=\"node5\" class=\"node\">\n<title>phase_grad_G1</title>\n<text text-anchor=\"middle\" x=\"299\" y=\"-14.3\" font-family=\"Times,serif\" font-size=\"14.00\">phase_grad</text>\n</g>\n<!-- PhasingViaCostFunction&#45;&gt;phase_grad_G1 -->\n<g id=\"edge4\" class=\"edge\">\n<title>PhasingViaCostFunction:e-&gt;phase_grad_G1:w</title>\n<path fill=\"none\" stroke=\"black\" d=\"M223,-34C240.22,-34 241.97,-19.23 257.98,-18.07\"/>\n<ellipse fill=\"black\" stroke=\"black\" cx=\"259\" cy=\"-18.04\" rx=\"1\" ry=\"1\"/>\n<text text-anchor=\"middle\" x=\"241.5\" y=\"-29\" font-family=\"Times,serif\" font-size=\"10.00\">32</text>\n</g>\n</g>\n</svg>",
          "text/plain": "<IPython.core.display.SVG object>"
         },
         "metadata": {},
         "output_type": "display_data"
        }
       ],
       "tabbable": null,
       "tooltip": null
      }
     },
     "985fe32e354244cab35db0352921534e": {
      "model_module": "@jupyter-widgets/base",
      "model_module_version": "2.0.0",
      "model_name": "LayoutModel",
      "state": {
       "_model_module": "@jupyter-widgets/base",
       "_model_module_version": "2.0.0",
       "_model_name": "LayoutModel",
       "_view_count": null,
       "_view_module": "@jupyter-widgets/base",
       "_view_module_version": "2.0.0",
       "_view_name": "LayoutView",
       "align_content": null,
       "align_items": null,
       "align_self": null,
       "border_bottom": null,
       "border_left": null,
       "border_right": null,
       "border_top": null,
       "bottom": null,
       "display": null,
       "flex": null,
       "flex_flow": null,
       "grid_area": null,
       "grid_auto_columns": null,
       "grid_auto_flow": null,
       "grid_auto_rows": null,
       "grid_column": null,
       "grid_gap": null,
       "grid_row": null,
       "grid_template_areas": null,
       "grid_template_columns": null,
       "grid_template_rows": null,
       "height": null,
       "justify_content": null,
       "justify_items": null,
       "left": null,
       "margin": null,
       "max_height": null,
       "max_width": null,
       "min_height": null,
       "min_width": null,
       "object_fit": null,
       "object_position": null,
       "order": null,
       "overflow": null,
       "padding": null,
       "right": null,
       "top": null,
       "visibility": null,
       "width": null
      }
     },
     "c4899f7d4e4a4b459ddb7e7c498d921f": {
      "model_module": "@jupyter-widgets/output",
      "model_module_version": "1.0.0",
      "model_name": "OutputModel",
      "state": {
       "_dom_classes": [],
       "_model_module": "@jupyter-widgets/output",
       "_model_module_version": "1.0.0",
       "_model_name": "OutputModel",
       "_view_count": null,
       "_view_module": "@jupyter-widgets/output",
       "_view_module_version": "1.0.0",
       "_view_name": "OutputView",
       "layout": "IPY_MODEL_985fe32e354244cab35db0352921534e",
       "msg_id": "",
       "outputs": [
        {
         "data": {
          "text/markdown": "`square_via_zpow_phasing`",
          "text/plain": "<IPython.core.display.Markdown object>"
         },
         "metadata": {},
         "output_type": "display_data"
        },
        {
         "data": {
          "image/svg+xml": "<svg xmlns=\"http://www.w3.org/2000/svg\" xmlns:xlink=\"http://www.w3.org/1999/xlink\" width=\"298pt\" height=\"54pt\" viewBox=\"0.00 0.00 298.00 54.00\">\n<g id=\"graph0\" class=\"graph\" transform=\"scale(1 1) rotate(0) translate(4 50)\">\n<title>my_graph</title>\n<polygon fill=\"white\" stroke=\"transparent\" points=\"-4,4 -4,-50 294,-50 294,4 -4,4\"/>\n<!-- a_G0 -->\n<g id=\"node1\" class=\"node\">\n<title>a_G0</title>\n<text text-anchor=\"middle\" x=\"27\" y=\"-14.3\" font-family=\"Times,serif\" font-size=\"14.00\">a</text>\n</g>\n<!-- PhasingViaCostFunction -->\n<g id=\"node2\" class=\"node\">\n<title>PhasingViaCostFunction</title>\n<polygon fill=\"none\" stroke=\"black\" points=\"91,-29 91,-46 199,-46 199,-29 91,-29\"/>\n<text text-anchor=\"start\" x=\"94\" y=\"-35\" font-family=\"Times,serif\" font-size=\"10.00\">PhasingViaCostFunction</text>\n<polygon fill=\"none\" stroke=\"black\" points=\"91,-8 91,-29 199,-29 199,-8 91,-8\"/>\n<text text-anchor=\"start\" x=\"141.5\" y=\"-14.8\" font-family=\"Times,serif\" font-size=\"14.00\">a</text>\n</g>\n<!-- a_G0&#45;&gt;PhasingViaCostFunction -->\n<g id=\"edge1\" class=\"edge\">\n<title>a_G0:e-&gt;PhasingViaCostFunction:w</title>\n<path fill=\"none\" stroke=\"black\" d=\"M54,-18C69.67,-18 74.14,-18 88.77,-18\"/>\n<ellipse fill=\"black\" stroke=\"black\" cx=\"90\" cy=\"-18\" rx=\"1\" ry=\"1\"/>\n<text text-anchor=\"middle\" x=\"72.5\" y=\"-21\" font-family=\"Times,serif\" font-size=\"10.00\">5</text>\n</g>\n<!-- a_G1 -->\n<g id=\"node3\" class=\"node\">\n<title>a_G1</title>\n<text text-anchor=\"middle\" x=\"263\" y=\"-14.3\" font-family=\"Times,serif\" font-size=\"14.00\">a</text>\n</g>\n<!-- PhasingViaCostFunction&#45;&gt;a_G1 -->\n<g id=\"edge2\" class=\"edge\">\n<title>PhasingViaCostFunction:e-&gt;a_G1:w</title>\n<path fill=\"none\" stroke=\"black\" d=\"M199,-18C214.67,-18 219.14,-18 233.77,-18\"/>\n<ellipse fill=\"black\" stroke=\"black\" cx=\"235\" cy=\"-18\" rx=\"1\" ry=\"1\"/>\n<text text-anchor=\"middle\" x=\"217.5\" y=\"-21\" font-family=\"Times,serif\" font-size=\"10.00\">5</text>\n</g>\n</g>\n</svg>",
          "text/plain": "<IPython.core.display.SVG object>"
         },
         "metadata": {},
         "output_type": "display_data"
        }
       ],
       "tabbable": null,
       "tooltip": null
      }
     }
    },
    "version_major": 2,
    "version_minor": 0
   }
  }
 },
 "nbformat": 4,
 "nbformat_minor": 5
}
