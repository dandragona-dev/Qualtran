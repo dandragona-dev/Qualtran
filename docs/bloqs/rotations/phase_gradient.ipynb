{
 "cells": [
  {
   "cell_type": "markdown",
   "id": "1a00bfe1",
   "metadata": {
    "cq.autogen": "title_cell"
   },
   "source": [
    "# Rotations via Phase Gradients"
   ]
  },
  {
   "cell_type": "code",
   "execution_count": 1,
   "id": "023f9b68",
   "metadata": {
    "cq.autogen": "top_imports"
   },
   "outputs": [],
   "source": [
    "from qualtran import Bloq, CompositeBloq, BloqBuilder, Signature, Register\n",
    "from qualtran import QBit, QInt, QUInt, QAny\n",
    "from qualtran.drawing import show_bloq, show_call_graph, show_counts_sigma\n",
    "from typing import *\n",
    "import numpy as np\n",
    "import sympy\n",
    "import cirq"
   ]
  },
  {
   "cell_type": "markdown",
   "id": "2ff23077",
   "metadata": {
    "cq.autogen": "PhaseGradientUnitary.bloq_doc.md"
   },
   "source": [
    "## `PhaseGradientUnitary`\n",
    "Implementation of (Controlled-/)PhaseGradient unitary gate on an n-bit register.\n",
    "\n",
    "The class supports implementing the phase gradient unitary gate and a controlled version\n",
    "thereof. The n bit phase gradient unitary is defined as\n",
    "\n",
    "$$\n",
    "    \\text{PhaseGrad}_{n, t} = \\sum_{k=0}^{2^{n}-1}|k\\rangle \\langle k| \\omega_{n, t}^{k}\n",
    "$$\n",
    "\n",
    "where\n",
    "\n",
    "$$\n",
    "    \\omega_{n, t} = \\exp\\left(\\frac{2\\pi i t}{2^n}\\right)\n",
    "$$\n",
    "\n",
    "The implementation simply decomposes into $n$ (controlled-) rotations, one on each qubit.\n",
    "\n",
    "#### Registers\n",
    " - `phase_grad`: A THRU register which the phase gradient is applied to.\n",
    " - `(optional) ctrl`: A THRU register which specifies the control for this gate. Must have `is_controlled` set to `True` to use this register. \n",
    "\n",
    "#### Parameters\n",
    " - `bitsize`: The number of qubits of the register being acted on\n",
    " - `exponent`: $t$ in the above expression for $\\omega_{n, t}$, a multiplicative factor for the phases applied to each state. Defaults to 1.0.\n",
    " - `is_controlled`: `bool` which determines if the unitary is controlled via a `ctrl` register.\n",
    " - `eps`: The precision for the total unitary, each underlying rotation is synthesized to a precision of `eps` / `bitsize`. \n",
    "\n",
    "Costs:\n",
    "    qubits: 0 ancilla qubits are allocated.\n",
    "    T-gates: Only uses 1 T gate explicitly but does rely on more costly Z rotations.\n",
    "    rotations: Uses $n$ rotations with angles varying from 1/2 (for a single T-gate) to 1/(2^n).\n",
    "\n",
    "#### References\n",
    " - [Compilation of Fault-Tolerant Quantum Heuristics for Combinatorial Optimization](https://arxiv.org/abs/2007.07391). Appendix A: Addition for controlled rotations\n",
    " - [Halving the cost of quantum addition](https://quantum-journal.org/papers/q-2018-06-18-74/pdf/). \n"
   ]
  },
  {
   "cell_type": "code",
   "execution_count": 2,
   "id": "da8e8cb9",
   "metadata": {
    "cq.autogen": "PhaseGradientUnitary.bloq_doc.py"
   },
   "outputs": [],
   "source": [
    "from qualtran.bloqs.rotations.phase_gradient import PhaseGradientUnitary"
   ]
  },
  {
   "cell_type": "markdown",
   "id": "4a61e929",
   "metadata": {
    "cq.autogen": "PhaseGradientUnitary.example_instances.md"
   },
   "source": [
    "### Example Instances"
   ]
  },
  {
   "cell_type": "code",
   "execution_count": 3,
   "id": "fb8b2119",
   "metadata": {
    "cq.autogen": "PhaseGradientUnitary.phase_gradient_unitary"
   },
   "outputs": [],
   "source": [
    "phase_gradient_unitary = PhaseGradientUnitary(4)"
   ]
  },
  {
   "cell_type": "code",
   "execution_count": 4,
   "id": "97617cff",
   "metadata": {
    "cq.autogen": "PhaseGradientUnitary.phase_gradient_unitary_symbolic"
   },
   "outputs": [],
   "source": [
    "n = sympy.symbols('n')\n",
    "phase_gradient_unitary_symbolic = PhaseGradientUnitary(bitsize=n)"
   ]
  },
  {
   "cell_type": "markdown",
   "id": "fb1868c8",
   "metadata": {
    "cq.autogen": "PhaseGradientUnitary.graphical_signature.md"
   },
   "source": [
    "#### Graphical Signature"
   ]
  },
  {
   "cell_type": "code",
   "execution_count": 5,
   "id": "3dd69f8a",
   "metadata": {
    "cq.autogen": "PhaseGradientUnitary.graphical_signature.py"
   },
   "outputs": [
    {
     "data": {
      "application/vnd.jupyter.widget-view+json": {
       "model_id": "4c45e37b8e2944738fec4aeed1e44d31",
       "version_major": 2,
       "version_minor": 0
      },
      "text/plain": [
       "HBox(children=(Output(outputs=({'output_type': 'display_data', 'data': {'text/plain': '<IPython.core.display.M…"
      ]
     },
     "metadata": {},
     "output_type": "display_data"
    }
   ],
   "source": [
    "from qualtran.drawing import show_bloqs\n",
    "show_bloqs([phase_gradient_unitary, phase_gradient_unitary_symbolic],\n",
    "           ['`phase_gradient_unitary`', '`phase_gradient_unitary_symbolic`'])"
   ]
  },
  {
   "cell_type": "markdown",
   "id": "3d6c5c30",
   "metadata": {
    "cq.autogen": "PhaseGradientUnitary.call_graph.md"
   },
   "source": [
    "### Call Graph"
   ]
  },
  {
   "cell_type": "code",
   "execution_count": 6,
   "id": "68ae28a6",
   "metadata": {
    "cq.autogen": "PhaseGradientUnitary.call_graph.py"
   },
   "outputs": [
    {
     "data": {
      "image/svg+xml": [
       "<svg xmlns=\"http://www.w3.org/2000/svg\" xmlns:xlink=\"http://www.w3.org/1999/xlink\" width=\"1180pt\" height=\"131pt\" viewBox=\"0.00 0.00 1180.00 131.00\">\n",
       "<g id=\"graph0\" class=\"graph\" transform=\"scale(1 1) rotate(0) translate(4 127)\">\n",
       "<title>counts</title>\n",
       "<polygon fill=\"white\" stroke=\"transparent\" points=\"-4,4 -4,-127 1176,-127 1176,4 -4,4\"/>\n",
       "<!-- b0 -->\n",
       "<g id=\"node1\" class=\"node\">\n",
       "<title>b0</title>\n",
       "<polygon fill=\"none\" stroke=\"black\" points=\"746,-123 411,-123 411,-87 746,-87 746,-123\"/>\n",
       "<text text-anchor=\"start\" x=\"518\" y=\"-106.8\" font-family=\"Times,serif\" font-size=\"14.00\">PhaseGradientUnitary</text>\n",
       "<text text-anchor=\"start\" x=\"419\" y=\"-96\" font-family=\"monospace\" font-size=\"10.00\">bitsize=4, exponent=1, is_controlled=False, eps=1e-10</text>\n",
       "</g>\n",
       "<!-- b1 -->\n",
       "<g id=\"node2\" class=\"node\">\n",
       "<title>b1</title>\n",
       "<polygon fill=\"none\" stroke=\"black\" points=\"275,-36 0,-36 0,0 275,0 275,-36\"/>\n",
       "<text text-anchor=\"start\" x=\"117.5\" y=\"-19.8\" font-family=\"Times,serif\" font-size=\"14.00\">Z**1.0</text>\n",
       "<text text-anchor=\"start\" x=\"8\" y=\"-9\" font-family=\"monospace\" font-size=\"10.00\">exponent=1.0, global_shift=0.0, eps=2.5e-11</text>\n",
       "</g>\n",
       "<!-- b0&#45;&gt;b1 -->\n",
       "<g id=\"edge1\" class=\"edge\">\n",
       "<title>b0-&gt;b1</title>\n",
       "<path fill=\"none\" stroke=\"black\" d=\"M490.05,-86.95C416.54,-72.78 312.02,-52.64 235.88,-37.96\"/>\n",
       "<polygon fill=\"black\" stroke=\"black\" points=\"236.28,-34.48 225.8,-36.02 234.96,-41.35 236.28,-34.48\"/>\n",
       "<text text-anchor=\"middle\" x=\"388\" y=\"-57.8\" font-family=\"Times,serif\" font-size=\"14.00\">1</text>\n",
       "</g>\n",
       "<!-- b2 -->\n",
       "<g id=\"node3\" class=\"node\">\n",
       "<title>b2</title>\n",
       "<polygon fill=\"none\" stroke=\"black\" points=\"568,-36 293,-36 293,0 568,0 568,-36\"/>\n",
       "<text text-anchor=\"start\" x=\"410.5\" y=\"-19.8\" font-family=\"Times,serif\" font-size=\"14.00\">Z**0.5</text>\n",
       "<text text-anchor=\"start\" x=\"301\" y=\"-9\" font-family=\"monospace\" font-size=\"10.00\">exponent=0.5, global_shift=0.0, eps=2.5e-11</text>\n",
       "</g>\n",
       "<!-- b0&#45;&gt;b2 -->\n",
       "<g id=\"edge2\" class=\"edge\">\n",
       "<title>b0-&gt;b2</title>\n",
       "<path fill=\"none\" stroke=\"black\" d=\"M548.55,-86.8C525.61,-73.62 493.78,-55.34 468.95,-41.08\"/>\n",
       "<polygon fill=\"black\" stroke=\"black\" points=\"470.57,-37.98 460.15,-36.03 467.08,-44.05 470.57,-37.98\"/>\n",
       "<text text-anchor=\"middle\" x=\"517\" y=\"-57.8\" font-family=\"Times,serif\" font-size=\"14.00\">1</text>\n",
       "</g>\n",
       "<!-- b3 -->\n",
       "<g id=\"node4\" class=\"node\">\n",
       "<title>b3</title>\n",
       "<polygon fill=\"none\" stroke=\"black\" points=\"867,-36 586,-36 586,0 867,0 867,-36\"/>\n",
       "<text text-anchor=\"start\" x=\"703.5\" y=\"-19.8\" font-family=\"Times,serif\" font-size=\"14.00\">Z**0.25</text>\n",
       "<text text-anchor=\"start\" x=\"594\" y=\"-9\" font-family=\"monospace\" font-size=\"10.00\">exponent=0.25, global_shift=0.0, eps=2.5e-11</text>\n",
       "</g>\n",
       "<!-- b0&#45;&gt;b3 -->\n",
       "<g id=\"edge3\" class=\"edge\">\n",
       "<title>b0-&gt;b3</title>\n",
       "<path fill=\"none\" stroke=\"black\" d=\"M608.45,-86.8C631.39,-73.62 663.22,-55.34 688.05,-41.08\"/>\n",
       "<polygon fill=\"black\" stroke=\"black\" points=\"689.92,-44.05 696.85,-36.03 686.43,-37.98 689.92,-44.05\"/>\n",
       "<text text-anchor=\"middle\" x=\"665\" y=\"-57.8\" font-family=\"Times,serif\" font-size=\"14.00\">1</text>\n",
       "</g>\n",
       "<!-- b4 -->\n",
       "<g id=\"node5\" class=\"node\">\n",
       "<title>b4</title>\n",
       "<polygon fill=\"none\" stroke=\"black\" points=\"1172,-36 885,-36 885,0 1172,0 1172,-36\"/>\n",
       "<text text-anchor=\"start\" x=\"1002\" y=\"-19.8\" font-family=\"Times,serif\" font-size=\"14.00\">Z**0.125</text>\n",
       "<text text-anchor=\"start\" x=\"893\" y=\"-9\" font-family=\"monospace\" font-size=\"10.00\">exponent=0.125, global_shift=0.0, eps=2.5e-11</text>\n",
       "</g>\n",
       "<!-- b0&#45;&gt;b4 -->\n",
       "<g id=\"edge4\" class=\"edge\">\n",
       "<title>b0-&gt;b4</title>\n",
       "<path fill=\"none\" stroke=\"black\" d=\"M668.75,-86.95C743.77,-72.78 850.42,-52.64 928.11,-37.96\"/>\n",
       "<polygon fill=\"black\" stroke=\"black\" points=\"929.22,-41.31 938.4,-36.02 927.92,-34.44 929.22,-41.31\"/>\n",
       "<text text-anchor=\"middle\" x=\"834\" y=\"-57.8\" font-family=\"Times,serif\" font-size=\"14.00\">1</text>\n",
       "</g>\n",
       "</g>\n",
       "</svg>"
      ],
      "text/plain": [
       "<IPython.core.display.SVG object>"
      ]
     },
     "metadata": {},
     "output_type": "display_data"
    },
    {
     "data": {
      "text/markdown": [
       "#### Counts totals:\n",
       " - `Z**0.125`: 1\n",
       " - `Z**0.25`: 1\n",
       " - `Z**0.5`: 1\n",
       " - `Z**1.0`: 1"
      ],
      "text/plain": [
       "<IPython.core.display.Markdown object>"
      ]
     },
     "metadata": {},
     "output_type": "display_data"
    }
   ],
   "source": [
    "from qualtran.resource_counting.generalizers import ignore_split_join\n",
    "phase_gradient_unitary_g, phase_gradient_unitary_sigma = phase_gradient_unitary.call_graph(max_depth=1, generalizer=ignore_split_join)\n",
    "show_call_graph(phase_gradient_unitary_g)\n",
    "show_counts_sigma(phase_gradient_unitary_sigma)"
   ]
  },
  {
   "cell_type": "markdown",
   "id": "d572c61b",
   "metadata": {
    "cq.autogen": "PhaseGradientState.bloq_doc.md"
   },
   "source": [
    "## `PhaseGradientState`\n",
    "Prepare a phase gradient state $|\\phi\\rangle$ on a new register of bitsize $b_{grad}$\n",
    "\n",
    "$$\n",
    "    |\\phi\\rangle = \\frac{1}{\\sqrt{2^{n}}} \\sum_{k=0}^{2^{n} - 1} \\omega_{n, t}^{k} |k\\rangle\n",
    "$$\n",
    "\n",
    "where\n",
    "\n",
    "$$\n",
    "    \\omega_{n, t} = \\exp\\left(\\frac{2\\pi i t}{2^n}\\right)\n",
    "$$\n",
    "\n",
    "Allocates / deallocates registers to store the phase gradient state and delegates\n",
    "to the `PhaseGradientUnitary` bloq defined above.\n",
    "\n",
    "#### References\n",
    " - [Compilation of Fault-Tolerant Quantum Heuristics for Combinatorial Optimization](https://arxiv.org/abs/2007.07391). Appendix A: Addition for controlled rotations\n"
   ]
  },
  {
   "cell_type": "code",
   "execution_count": 7,
   "id": "ea9d2c04",
   "metadata": {
    "cq.autogen": "PhaseGradientState.bloq_doc.py"
   },
   "outputs": [],
   "source": [
    "from qualtran.bloqs.rotations import PhaseGradientState"
   ]
  },
  {
   "cell_type": "markdown",
   "id": "9b9f4cc7",
   "metadata": {
    "cq.autogen": "PhaseGradientState.example_instances.md"
   },
   "source": [
    "### Example Instances"
   ]
  },
  {
   "cell_type": "code",
   "execution_count": 8,
   "id": "d82675a2",
   "metadata": {
    "cq.autogen": "PhaseGradientState.phase_gradient_state"
   },
   "outputs": [],
   "source": [
    "from qualtran import QFxp\n",
    "\n",
    "phase_gradient_state = PhaseGradientState(4)"
   ]
  },
  {
   "cell_type": "markdown",
   "id": "929172e4",
   "metadata": {
    "cq.autogen": "PhaseGradientState.graphical_signature.md"
   },
   "source": [
    "#### Graphical Signature"
   ]
  },
  {
   "cell_type": "code",
   "execution_count": 9,
   "id": "93825488",
   "metadata": {
    "cq.autogen": "PhaseGradientState.graphical_signature.py"
   },
   "outputs": [
    {
     "data": {
      "application/vnd.jupyter.widget-view+json": {
       "model_id": "d6f74a35ac7c4abeaa545a051ee76c90",
       "version_major": 2,
       "version_minor": 0
      },
      "text/plain": [
       "HBox(children=(Output(outputs=({'output_type': 'display_data', 'data': {'text/plain': '<IPython.core.display.M…"
      ]
     },
     "metadata": {},
     "output_type": "display_data"
    }
   ],
   "source": [
    "from qualtran.drawing import show_bloqs\n",
    "show_bloqs([phase_gradient_state],\n",
    "           ['`phase_gradient_state`'])"
   ]
  },
  {
   "cell_type": "markdown",
   "id": "5aba9e2b",
   "metadata": {
    "cq.autogen": "PhaseGradientState.call_graph.md"
   },
   "source": [
    "### Call Graph"
   ]
  },
  {
   "cell_type": "code",
   "execution_count": 10,
   "id": "1c258d12",
   "metadata": {
    "cq.autogen": "PhaseGradientState.call_graph.py"
   },
   "outputs": [
    {
     "data": {
      "image/svg+xml": [
       "<svg xmlns=\"http://www.w3.org/2000/svg\" xmlns:xlink=\"http://www.w3.org/1999/xlink\" width=\"839pt\" height=\"131pt\" viewBox=\"0.00 0.00 839.00 131.00\">\n",
       "<g id=\"graph0\" class=\"graph\" transform=\"scale(1 1) rotate(0) translate(4 127)\">\n",
       "<title>counts</title>\n",
       "<polygon fill=\"white\" stroke=\"transparent\" points=\"-4,4 -4,-127 835,-127 835,4 -4,4\"/>\n",
       "<!-- b0 -->\n",
       "<g id=\"node1\" class=\"node\">\n",
       "<title>b0</title>\n",
       "<polygon fill=\"none\" stroke=\"black\" points=\"547,-123 332,-123 332,-87 547,-87 547,-123\"/>\n",
       "<text text-anchor=\"start\" x=\"386.5\" y=\"-106.8\" font-family=\"Times,serif\" font-size=\"14.00\">PhaseGradientState</text>\n",
       "<text text-anchor=\"start\" x=\"340\" y=\"-96\" font-family=\"monospace\" font-size=\"10.00\">bitsize=4, exponent=-1, eps=1e-10</text>\n",
       "</g>\n",
       "<!-- b1 -->\n",
       "<g id=\"node2\" class=\"node\">\n",
       "<title>b1</title>\n",
       "<polygon fill=\"none\" stroke=\"black\" points=\"251,-36 0,-36 0,0 251,0 251,-36\"/>\n",
       "<text text-anchor=\"start\" x=\"109.5\" y=\"-19.8\" font-family=\"Times,serif\" font-size=\"14.00\">H⨂4</text>\n",
       "<text text-anchor=\"start\" x=\"8\" y=\"-9\" font-family=\"monospace\" font-size=\"10.00\">n=4, gate=Hadamard(), target_dtype=None</text>\n",
       "</g>\n",
       "<!-- b0&#45;&gt;b1 -->\n",
       "<g id=\"edge1\" class=\"edge\">\n",
       "<title>b0-&gt;b1</title>\n",
       "<path fill=\"none\" stroke=\"black\" d=\"M376.34,-86.9C324.91,-72.98 252.28,-53.32 198.4,-38.73\"/>\n",
       "<polygon fill=\"black\" stroke=\"black\" points=\"199.13,-35.31 188.56,-36.07 197.3,-42.06 199.13,-35.31\"/>\n",
       "<text text-anchor=\"middle\" x=\"305\" y=\"-57.8\" font-family=\"Times,serif\" font-size=\"14.00\">1</text>\n",
       "</g>\n",
       "<!-- b2 -->\n",
       "<g id=\"node3\" class=\"node\">\n",
       "<title>b2</title>\n",
       "<polygon fill=\"none\" stroke=\"black\" points=\"610,-36 269,-36 269,0 610,0 610,-36\"/>\n",
       "<text text-anchor=\"start\" x=\"379\" y=\"-19.8\" font-family=\"Times,serif\" font-size=\"14.00\">PhaseGradientUnitary</text>\n",
       "<text text-anchor=\"start\" x=\"277\" y=\"-9\" font-family=\"monospace\" font-size=\"10.00\">bitsize=4, exponent=-1, is_controlled=False, eps=1e-10</text>\n",
       "</g>\n",
       "<!-- b0&#45;&gt;b2 -->\n",
       "<g id=\"edge2\" class=\"edge\">\n",
       "<title>b0-&gt;b2</title>\n",
       "<path fill=\"none\" stroke=\"black\" d=\"M439.5,-86.8C439.5,-75.16 439.5,-59.55 439.5,-46.24\"/>\n",
       "<polygon fill=\"black\" stroke=\"black\" points=\"443,-46.18 439.5,-36.18 436,-46.18 443,-46.18\"/>\n",
       "<text text-anchor=\"middle\" x=\"443\" y=\"-57.8\" font-family=\"Times,serif\" font-size=\"14.00\">1</text>\n",
       "</g>\n",
       "<!-- b3 -->\n",
       "<g id=\"node4\" class=\"node\">\n",
       "<title>b3</title>\n",
       "<polygon fill=\"none\" stroke=\"black\" points=\"831,-36 628,-36 628,0 831,0 831,-36\"/>\n",
       "<text text-anchor=\"start\" x=\"706.5\" y=\"-19.8\" font-family=\"Times,serif\" font-size=\"14.00\">Allocate</text>\n",
       "<text text-anchor=\"start\" x=\"636\" y=\"-9\" font-family=\"monospace\" font-size=\"10.00\">dtype=QAny(bit ..., dirty=False</text>\n",
       "</g>\n",
       "<!-- b0&#45;&gt;b3 -->\n",
       "<g id=\"edge3\" class=\"edge\">\n",
       "<title>b0-&gt;b3</title>\n",
       "<path fill=\"none\" stroke=\"black\" d=\"M497.84,-86.9C545.13,-73.04 611.85,-53.48 661.55,-38.92\"/>\n",
       "<polygon fill=\"black\" stroke=\"black\" points=\"662.64,-42.24 671.26,-36.07 660.68,-35.53 662.64,-42.24\"/>\n",
       "<text text-anchor=\"middle\" x=\"606\" y=\"-57.8\" font-family=\"Times,serif\" font-size=\"14.00\">1</text>\n",
       "</g>\n",
       "</g>\n",
       "</svg>"
      ],
      "text/plain": [
       "<IPython.core.display.SVG object>"
      ]
     },
     "metadata": {},
     "output_type": "display_data"
    },
    {
     "data": {
      "text/markdown": [
       "#### Counts totals:\n",
       " - `Allocate`: 1\n",
       " - `H⨂4`: 1\n",
       " - `PhaseGradientUnitary`: 1"
      ],
      "text/plain": [
       "<IPython.core.display.Markdown object>"
      ]
     },
     "metadata": {},
     "output_type": "display_data"
    }
   ],
   "source": [
    "from qualtran.resource_counting.generalizers import ignore_split_join\n",
    "phase_gradient_state_g, phase_gradient_state_sigma = phase_gradient_state.call_graph(max_depth=1, generalizer=ignore_split_join)\n",
    "show_call_graph(phase_gradient_state_g)\n",
    "show_counts_sigma(phase_gradient_state_sigma)"
   ]
  },
  {
   "cell_type": "markdown",
   "id": "b6d54adf",
   "metadata": {
    "cq.autogen": "AddIntoPhaseGrad.bloq_doc.md"
   },
   "source": [
    "## `AddIntoPhaseGrad`\n",
    "Quantum-quantum addition into a phase gradient register using $b_{phase} - 2$ Toffolis\n",
    "\n",
    "$$\n",
    "    U|x\\rangle|\\text{phase\\_grad}\\rangle = |x\\rangle|\\text{phase\\_grad} + x\\rangle\n",
    "$$\n",
    "\n",
    "#### Parameters\n",
    " - `x_bitsize`: Size of input register.\n",
    " - `phase_bitsize`: Size of phase gradient register to which the input value should be added.\n",
    " - `right_shift`: An integer specifying the amount by which the input register x should be right shifted before adding to the phase gradient register.\n",
    " - `sign`: Whether the input register x should be  added or subtracted from the phase gradient register.\n",
    " - `controlled_by`: Whether to control this bloq with a ctrl register. When controlled_by=None, this bloq is not controlled. When controlled_by=0, this bloq is active when the ctrl register is 0. When controlled_by=1, this bloq is active when the ctrl register is 1. \n",
    "\n",
    "#### Registers\n",
    " - `- ctrl`: Control THRU register\n",
    " - `- x`: Input THRU register storing input value x to be added to the phase gradient register.\n",
    " - `- phase_grad`: Phase gradient THRU register. \n",
    "\n",
    "#### References\n",
    " - [Compilation of Fault-Tolerant Quantum Heuristics for Combinatorial Optimization](https://arxiv.org/abs/2007.07391). Appendix A: Addition for controlled rotations\n"
   ]
  },
  {
   "cell_type": "code",
   "execution_count": 11,
   "id": "705e0252",
   "metadata": {
    "cq.autogen": "AddIntoPhaseGrad.bloq_doc.py"
   },
   "outputs": [],
   "source": [
    "from qualtran.bloqs.rotations import AddIntoPhaseGrad"
   ]
  },
  {
   "cell_type": "markdown",
   "id": "628fe4e3",
   "metadata": {
    "cq.autogen": "AddIntoPhaseGrad.example_instances.md"
   },
   "source": [
    "### Example Instances"
   ]
  },
  {
   "cell_type": "code",
   "execution_count": 12,
   "id": "0984e1dd",
   "metadata": {
    "cq.autogen": "AddIntoPhaseGrad.add_into_phase_grad"
   },
   "outputs": [],
   "source": [
    "add_into_phase_grad = AddIntoPhaseGrad(4, 4)"
   ]
  },
  {
   "cell_type": "markdown",
   "id": "9217c298",
   "metadata": {
    "cq.autogen": "AddIntoPhaseGrad.graphical_signature.md"
   },
   "source": [
    "#### Graphical Signature"
   ]
  },
  {
   "cell_type": "code",
   "execution_count": 13,
   "id": "6f0dbbe2",
   "metadata": {
    "cq.autogen": "AddIntoPhaseGrad.graphical_signature.py"
   },
   "outputs": [
    {
     "data": {
      "application/vnd.jupyter.widget-view+json": {
       "model_id": "20e5dc646b9b43ee9bd63565ceab413a",
       "version_major": 2,
       "version_minor": 0
      },
      "text/plain": [
       "HBox(children=(Output(outputs=({'output_type': 'display_data', 'data': {'text/plain': '<IPython.core.display.M…"
      ]
     },
     "metadata": {},
     "output_type": "display_data"
    }
   ],
   "source": [
    "from qualtran.drawing import show_bloqs\n",
    "show_bloqs([add_into_phase_grad],\n",
    "           ['`add_into_phase_grad`'])"
   ]
  },
  {
   "cell_type": "markdown",
   "id": "b9a03265",
   "metadata": {
    "cq.autogen": "AddIntoPhaseGrad.call_graph.md"
   },
   "source": [
    "### Call Graph"
   ]
  },
  {
   "cell_type": "code",
   "execution_count": 14,
   "id": "7bb14a8c",
   "metadata": {
    "cq.autogen": "AddIntoPhaseGrad.call_graph.py"
   },
   "outputs": [
    {
     "data": {
      "image/svg+xml": [
       "<svg xmlns=\"http://www.w3.org/2000/svg\" xmlns:xlink=\"http://www.w3.org/1999/xlink\" width=\"451pt\" height=\"131pt\" viewBox=\"0.00 0.00 451.00 131.00\">\n",
       "<g id=\"graph0\" class=\"graph\" transform=\"scale(1 1) rotate(0) translate(4 127)\">\n",
       "<title>counts</title>\n",
       "<polygon fill=\"white\" stroke=\"transparent\" points=\"-4,4 -4,-127 447,-127 447,4 -4,4\"/>\n",
       "<!-- b0 -->\n",
       "<g id=\"node1\" class=\"node\">\n",
       "<title>b0</title>\n",
       "<polygon fill=\"none\" stroke=\"black\" points=\"443,-123 0,-123 0,-87 443,-87 443,-123\"/>\n",
       "<text text-anchor=\"start\" x=\"169.5\" y=\"-106.8\" font-family=\"Times,serif\" font-size=\"14.00\">AddIntoPhaseGrad</text>\n",
       "<text text-anchor=\"start\" x=\"8\" y=\"-96\" font-family=\"monospace\" font-size=\"10.00\">x_bitsize=4, phase_bitsize=4, right_shift=0, sign=1, controlled_by=None</text>\n",
       "</g>\n",
       "<!-- b1 -->\n",
       "<g id=\"node2\" class=\"node\">\n",
       "<title>b1</title>\n",
       "<polygon fill=\"none\" stroke=\"black\" points=\"249,-36 194,-36 194,0 249,0 249,-36\"/>\n",
       "<text text-anchor=\"start\" x=\"202\" y=\"-14.3\" font-family=\"Times,serif\" font-size=\"14.00\">Toffoli</text>\n",
       "</g>\n",
       "<!-- b0&#45;&gt;b1 -->\n",
       "<g id=\"edge1\" class=\"edge\">\n",
       "<title>b0-&gt;b1</title>\n",
       "<path fill=\"none\" stroke=\"black\" d=\"M221.5,-86.8C221.5,-75.16 221.5,-59.55 221.5,-46.24\"/>\n",
       "<polygon fill=\"black\" stroke=\"black\" points=\"225,-46.18 221.5,-36.18 218,-46.18 225,-46.18\"/>\n",
       "<text text-anchor=\"middle\" x=\"225\" y=\"-57.8\" font-family=\"Times,serif\" font-size=\"14.00\">2</text>\n",
       "</g>\n",
       "</g>\n",
       "</svg>"
      ],
      "text/plain": [
       "<IPython.core.display.SVG object>"
      ]
     },
     "metadata": {},
     "output_type": "display_data"
    },
    {
     "data": {
      "text/markdown": [
       "#### Counts totals:\n",
       " - `Toffoli`: 2"
      ],
      "text/plain": [
       "<IPython.core.display.Markdown object>"
      ]
     },
     "metadata": {},
     "output_type": "display_data"
    }
   ],
   "source": [
    "from qualtran.resource_counting.generalizers import ignore_split_join\n",
    "add_into_phase_grad_g, add_into_phase_grad_sigma = add_into_phase_grad.call_graph(max_depth=1, generalizer=ignore_split_join)\n",
    "show_call_graph(add_into_phase_grad_g)\n",
    "show_counts_sigma(add_into_phase_grad_sigma)"
   ]
  },
  {
   "cell_type": "markdown",
   "id": "7cca35d4",
   "metadata": {
    "cq.autogen": "AddScaledValIntoPhaseReg.bloq_doc.md"
   },
   "source": [
    "## `AddScaledValIntoPhaseReg`\n",
    "Optimized quantum-quantum addition into a phase gradient register scaled by a constant $\\gamma$.\n",
    "\n",
    "$$\n",
    "    U(\\gamma)|x\\rangle|\\text{phase_grad}\\rangle = |x\\rangle|\\text{phase_grad} + x * \\gamma\\rangle\n",
    "$$\n",
    "\n",
    "The operation calls `AddIntoPhaseGrad` gate $(\\text{gamma_bitsize} + 2) / 2$ times.\n",
    "\n",
    "#### Parameters\n",
    " - `x_dtype`: Fixed point specification of the input register.\n",
    " - `phase_bitsize`: Size of phase gradient register to which the scaled input should be added.\n",
    " - `gamma`: Floating point scaling factor.\n",
    " - `gamma_dtype`: `QFxp` data type capturing number of bits of precisions to be used for integer and fractional part of `gamma`. \n",
    "\n",
    "#### Registers\n",
    " - `x`: Input THRU register storing input value x to be scaled and added to the phase gradient register.\n",
    " - `phase_grad`: Phase gradient THRU register. \n",
    "\n",
    "#### References\n",
    " - [Compilation of Fault-Tolerant Quantum Heuristics for Combinatorial Optimization](https://arxiv.org/abs/2007.07391). Appendix A: Addition for controlled rotations\n"
   ]
  },
  {
   "cell_type": "code",
   "execution_count": 15,
   "id": "2ed29eb4",
   "metadata": {
    "cq.autogen": "AddScaledValIntoPhaseReg.bloq_doc.py"
   },
   "outputs": [],
   "source": [
    "from qualtran.bloqs.rotations import AddScaledValIntoPhaseReg"
   ]
  },
  {
   "cell_type": "markdown",
   "id": "ff3bc5ed",
   "metadata": {
    "cq.autogen": "AddScaledValIntoPhaseReg.example_instances.md"
   },
   "source": [
    "### Example Instances"
   ]
  },
  {
   "cell_type": "code",
   "execution_count": 16,
   "id": "d470659a",
   "metadata": {
    "cq.autogen": "AddScaledValIntoPhaseReg.add_scaled_val_into_phase_reg"
   },
   "outputs": [],
   "source": [
    "add_scaled_val_into_phase_reg = AddScaledValIntoPhaseReg(\n",
    "    QFxp(2, 2), phase_bitsize=2, gamma=2, gamma_dtype=QFxp(2, 2)\n",
    ")"
   ]
  },
  {
   "cell_type": "markdown",
   "id": "10b1c40e",
   "metadata": {
    "cq.autogen": "AddScaledValIntoPhaseReg.graphical_signature.md"
   },
   "source": [
    "#### Graphical Signature"
   ]
  },
  {
   "cell_type": "code",
   "execution_count": 17,
   "id": "584ab205",
   "metadata": {
    "cq.autogen": "AddScaledValIntoPhaseReg.graphical_signature.py"
   },
   "outputs": [
    {
     "data": {
      "application/vnd.jupyter.widget-view+json": {
       "model_id": "8f392eb184704ad2be8c60bc1262c634",
       "version_major": 2,
       "version_minor": 0
      },
      "text/plain": [
       "HBox(children=(Output(outputs=({'output_type': 'display_data', 'data': {'text/plain': '<IPython.core.display.M…"
      ]
     },
     "metadata": {},
     "output_type": "display_data"
    }
   ],
   "source": [
    "from qualtran.drawing import show_bloqs\n",
    "show_bloqs([add_scaled_val_into_phase_reg],\n",
    "           ['`add_scaled_val_into_phase_reg`'])"
   ]
  },
  {
   "cell_type": "markdown",
   "id": "105f37bf",
   "metadata": {
    "cq.autogen": "AddScaledValIntoPhaseReg.call_graph.md"
   },
   "source": [
    "### Call Graph"
   ]
  },
  {
   "cell_type": "code",
   "execution_count": 18,
   "id": "57ad18ba",
   "metadata": {
    "cq.autogen": "AddScaledValIntoPhaseReg.call_graph.py"
   },
   "outputs": [
    {
     "data": {
      "image/svg+xml": [
       "<svg xmlns=\"http://www.w3.org/2000/svg\" xmlns:xlink=\"http://www.w3.org/1999/xlink\" width=\"457pt\" height=\"131pt\" viewBox=\"0.00 0.00 457.00 131.00\">\n",
       "<g id=\"graph0\" class=\"graph\" transform=\"scale(1 1) rotate(0) translate(4 127)\">\n",
       "<title>counts</title>\n",
       "<polygon fill=\"white\" stroke=\"transparent\" points=\"-4,4 -4,-127 453,-127 453,4 -4,4\"/>\n",
       "<!-- b0 -->\n",
       "<g id=\"node1\" class=\"node\">\n",
       "<title>b0</title>\n",
       "<polygon fill=\"none\" stroke=\"black\" points=\"449,-123 0,-123 0,-87 449,-87 449,-123\"/>\n",
       "<text text-anchor=\"start\" x=\"148\" y=\"-106.8\" font-family=\"Times,serif\" font-size=\"14.00\">AddScaledValIntoPhaseReg</text>\n",
       "<text text-anchor=\"start\" x=\"8\" y=\"-96\" font-family=\"monospace\" font-size=\"10.00\">x_dtype=QFxp(bit ..., phase_bitsize=2, gamma=2, gamma_dtype=QFxp(bit ...</text>\n",
       "</g>\n",
       "<!-- b1 -->\n",
       "<g id=\"node2\" class=\"node\">\n",
       "<title>b1</title>\n",
       "<polygon fill=\"none\" stroke=\"black\" points=\"446,-36 3,-36 3,0 446,0 446,-36\"/>\n",
       "<text text-anchor=\"start\" x=\"172.5\" y=\"-19.8\" font-family=\"Times,serif\" font-size=\"14.00\">AddIntoPhaseGrad</text>\n",
       "<text text-anchor=\"start\" x=\"11\" y=\"-9\" font-family=\"monospace\" font-size=\"10.00\">x_bitsize=2, phase_bitsize=2, right_shift=0, sign=1, controlled_by=None</text>\n",
       "</g>\n",
       "<!-- b0&#45;&gt;b1 -->\n",
       "<g id=\"edge1\" class=\"edge\">\n",
       "<title>b0-&gt;b1</title>\n",
       "<path fill=\"none\" stroke=\"black\" d=\"M224.5,-86.8C224.5,-75.16 224.5,-59.55 224.5,-46.24\"/>\n",
       "<polygon fill=\"black\" stroke=\"black\" points=\"228,-46.18 224.5,-36.18 221,-46.18 228,-46.18\"/>\n",
       "<text text-anchor=\"middle\" x=\"228\" y=\"-57.8\" font-family=\"Times,serif\" font-size=\"14.00\">1</text>\n",
       "</g>\n",
       "</g>\n",
       "</svg>"
      ],
      "text/plain": [
       "<IPython.core.display.SVG object>"
      ]
     },
     "metadata": {},
     "output_type": "display_data"
    },
    {
     "data": {
      "text/markdown": [
       "#### Counts totals:\n",
       " - `AddIntoPhaseGrad`: 1"
      ],
      "text/plain": [
       "<IPython.core.display.Markdown object>"
      ]
     },
     "metadata": {},
     "output_type": "display_data"
    }
   ],
   "source": [
    "from qualtran.resource_counting.generalizers import ignore_split_join\n",
    "add_scaled_val_into_phase_reg_g, add_scaled_val_into_phase_reg_sigma = add_scaled_val_into_phase_reg.call_graph(max_depth=1, generalizer=ignore_split_join)\n",
    "show_call_graph(add_scaled_val_into_phase_reg_g)\n",
    "show_counts_sigma(add_scaled_val_into_phase_reg_sigma)"
   ]
  }
 ],
 "metadata": {
  "kernelspec": {
   "display_name": "Python 3",
   "language": "python",
   "name": "python3"
  },
  "language_info": {
   "codemirror_mode": {
    "name": "ipython",
    "version": 3
   },
   "file_extension": ".py",
   "mimetype": "text/x-python",
   "name": "python",
   "nbconvert_exporter": "python",
   "pygments_lexer": "ipython3",
   "version": "3.11.8"
  },
  "widgets": {
   "application/vnd.jupyter.widget-state+json": {
    "state": {
     "0373cb6faa8f41cca68393a07704db37": {
      "model_module": "@jupyter-widgets/base",
      "model_module_version": "2.0.0",
      "model_name": "LayoutModel",
      "state": {
       "_model_module": "@jupyter-widgets/base",
       "_model_module_version": "2.0.0",
       "_model_name": "LayoutModel",
       "_view_count": null,
       "_view_module": "@jupyter-widgets/base",
       "_view_module_version": "2.0.0",
       "_view_name": "LayoutView",
       "align_content": null,
       "align_items": null,
       "align_self": null,
       "border_bottom": null,
       "border_left": null,
       "border_right": null,
       "border_top": null,
       "bottom": null,
       "display": null,
       "flex": null,
       "flex_flow": null,
       "grid_area": null,
       "grid_auto_columns": null,
       "grid_auto_flow": null,
       "grid_auto_rows": null,
       "grid_column": null,
       "grid_gap": null,
       "grid_row": null,
       "grid_template_areas": null,
       "grid_template_columns": null,
       "grid_template_rows": null,
       "height": null,
       "justify_content": null,
       "justify_items": null,
       "left": null,
       "margin": null,
       "max_height": null,
       "max_width": null,
       "min_height": null,
       "min_width": null,
       "object_fit": null,
       "object_position": null,
       "order": null,
       "overflow": null,
       "padding": null,
       "right": null,
       "top": null,
       "visibility": null,
       "width": null
      }
     },
     "087e7c479b214b47bd1692b4dd3afe62": {
      "model_module": "@jupyter-widgets/output",
      "model_module_version": "1.0.0",
      "model_name": "OutputModel",
      "state": {
       "_dom_classes": [],
       "_model_module": "@jupyter-widgets/output",
       "_model_module_version": "1.0.0",
       "_model_name": "OutputModel",
       "_view_count": null,
       "_view_module": "@jupyter-widgets/output",
       "_view_module_version": "1.0.0",
       "_view_name": "OutputView",
       "layout": "IPY_MODEL_0373cb6faa8f41cca68393a07704db37",
       "msg_id": "",
       "outputs": [
        {
         "data": {
          "text/markdown": "`phase_gradient_state`",
          "text/plain": "<IPython.core.display.Markdown object>"
         },
         "metadata": {},
         "output_type": "display_data"
        },
        {
         "data": {
          "image/svg+xml": "<svg xmlns=\"http://www.w3.org/2000/svg\" xmlns:xlink=\"http://www.w3.org/1999/xlink\" width=\"209pt\" height=\"54pt\" viewBox=\"0.00 0.00 209.00 54.00\">\n<g id=\"graph0\" class=\"graph\" transform=\"scale(1 1) rotate(0) translate(4 50)\">\n<title>my_graph</title>\n<polygon fill=\"white\" stroke=\"transparent\" points=\"-4,4 -4,-50 205,-50 205,4 -4,4\"/>\n<!-- PhaseGradientState -->\n<g id=\"node1\" class=\"node\">\n<title>PhaseGradientState</title>\n<polygon fill=\"none\" stroke=\"black\" points=\"0,-29 0,-46 86,-46 86,-29 0,-29\"/>\n<text text-anchor=\"start\" x=\"3\" y=\"-35\" font-family=\"Times,serif\" font-size=\"10.00\">PhaseGradientState</text>\n<polygon fill=\"none\" stroke=\"black\" points=\"0,-8 0,-29 12,-29 12,-8 0,-8\"/>\n<polygon fill=\"none\" stroke=\"black\" points=\"12,-8 12,-29 86,-29 86,-8 12,-8\"/>\n<text text-anchor=\"start\" x=\"18\" y=\"-14.8\" font-family=\"Times,serif\" font-size=\"14.00\">phase_grad</text>\n</g>\n<!-- phase_grad_G0 -->\n<g id=\"node2\" class=\"node\">\n<title>phase_grad_G0</title>\n<text text-anchor=\"middle\" x=\"162\" y=\"-14.3\" font-family=\"Times,serif\" font-size=\"14.00\">phase_grad</text>\n</g>\n<!-- PhaseGradientState&#45;&gt;phase_grad_G0 -->\n<g id=\"edge1\" class=\"edge\">\n<title>PhaseGradientState:e-&gt;phase_grad_G0:w</title>\n<path fill=\"none\" stroke=\"black\" d=\"M86,-18C101.67,-18 106.14,-18 120.77,-18\"/>\n<ellipse fill=\"black\" stroke=\"black\" cx=\"122\" cy=\"-18\" rx=\"1\" ry=\"1\"/>\n<text text-anchor=\"middle\" x=\"104.5\" y=\"-21\" font-family=\"Times,serif\" font-size=\"10.00\">4</text>\n</g>\n</g>\n</svg>",
          "text/plain": "<IPython.core.display.SVG object>"
         },
         "metadata": {},
         "output_type": "display_data"
        }
       ],
       "tabbable": null,
       "tooltip": null
      }
     },
     "0cfc3db2ada54370ac33a7e7e5338fe0": {
      "model_module": "@jupyter-widgets/base",
      "model_module_version": "2.0.0",
      "model_name": "LayoutModel",
      "state": {
       "_model_module": "@jupyter-widgets/base",
       "_model_module_version": "2.0.0",
       "_model_name": "LayoutModel",
       "_view_count": null,
       "_view_module": "@jupyter-widgets/base",
       "_view_module_version": "2.0.0",
       "_view_name": "LayoutView",
       "align_content": null,
       "align_items": null,
       "align_self": null,
       "border_bottom": null,
       "border_left": null,
       "border_right": null,
       "border_top": null,
       "bottom": null,
       "display": null,
       "flex": null,
       "flex_flow": null,
       "grid_area": null,
       "grid_auto_columns": null,
       "grid_auto_flow": null,
       "grid_auto_rows": null,
       "grid_column": null,
       "grid_gap": null,
       "grid_row": null,
       "grid_template_areas": null,
       "grid_template_columns": null,
       "grid_template_rows": null,
       "height": null,
       "justify_content": null,
       "justify_items": null,
       "left": null,
       "margin": null,
       "max_height": null,
       "max_width": null,
       "min_height": null,
       "min_width": null,
       "object_fit": null,
       "object_position": null,
       "order": null,
       "overflow": null,
       "padding": null,
       "right": null,
       "top": null,
       "visibility": null,
       "width": null
      }
     },
     "20e5dc646b9b43ee9bd63565ceab413a": {
      "model_module": "@jupyter-widgets/controls",
      "model_module_version": "2.0.0",
      "model_name": "HBoxModel",
      "state": {
       "_dom_classes": [],
       "_model_module": "@jupyter-widgets/controls",
       "_model_module_version": "2.0.0",
       "_model_name": "HBoxModel",
       "_view_count": null,
       "_view_module": "@jupyter-widgets/controls",
       "_view_module_version": "2.0.0",
       "_view_name": "HBoxView",
       "box_style": "",
       "children": [
        "IPY_MODEL_fcd24292265a49dbb289832863a2e44e"
       ],
       "layout": "IPY_MODEL_e3ecd515a2574e9b847f365b252c5266",
       "tabbable": null,
       "tooltip": null
      }
     },
     "25c45b0519e24114ae96054b72fff939": {
      "model_module": "@jupyter-widgets/output",
      "model_module_version": "1.0.0",
      "model_name": "OutputModel",
      "state": {
       "_dom_classes": [],
       "_model_module": "@jupyter-widgets/output",
       "_model_module_version": "1.0.0",
       "_model_name": "OutputModel",
       "_view_count": null,
       "_view_module": "@jupyter-widgets/output",
       "_view_module_version": "1.0.0",
       "_view_name": "OutputView",
       "layout": "IPY_MODEL_4199d56c6941433a982588d77a134628",
       "msg_id": "",
       "outputs": [
        {
         "data": {
          "text/markdown": "`phase_gradient_unitary_symbolic`",
          "text/plain": "<IPython.core.display.Markdown object>"
         },
         "metadata": {},
         "output_type": "display_data"
        },
        {
         "data": {
          "image/svg+xml": "<svg xmlns=\"http://www.w3.org/2000/svg\" xmlns:xlink=\"http://www.w3.org/1999/xlink\" width=\"335pt\" height=\"54pt\" viewBox=\"0.00 0.00 335.00 54.00\">\n<g id=\"graph0\" class=\"graph\" transform=\"scale(1 1) rotate(0) translate(4 50)\">\n<title>my_graph</title>\n<polygon fill=\"white\" stroke=\"transparent\" points=\"-4,4 -4,-50 331,-50 331,4 -4,4\"/>\n<!-- phase_grad_G0 -->\n<g id=\"node1\" class=\"node\">\n<title>phase_grad_G0</title>\n<text text-anchor=\"middle\" x=\"39\" y=\"-14.3\" font-family=\"Times,serif\" font-size=\"14.00\">phase_grad</text>\n</g>\n<!-- PhaseGradientUnitary -->\n<g id=\"node2\" class=\"node\">\n<title>PhaseGradientUnitary</title>\n<polygon fill=\"none\" stroke=\"black\" points=\"115.5,-29 115.5,-46 212.5,-46 212.5,-29 115.5,-29\"/>\n<text text-anchor=\"start\" x=\"118.5\" y=\"-35\" font-family=\"Times,serif\" font-size=\"10.00\">PhaseGradientUnitary</text>\n<polygon fill=\"none\" stroke=\"black\" points=\"115.5,-8 115.5,-29 212.5,-29 212.5,-8 115.5,-8\"/>\n<text text-anchor=\"start\" x=\"133\" y=\"-14.8\" font-family=\"Times,serif\" font-size=\"14.00\">phase_grad</text>\n</g>\n<!-- phase_grad_G0&#45;&gt;PhaseGradientUnitary -->\n<g id=\"edge1\" class=\"edge\">\n<title>phase_grad_G0:e-&gt;PhaseGradientUnitary:w</title>\n<path fill=\"none\" stroke=\"black\" d=\"M78,-18C93.67,-18 98.14,-18 112.77,-18\"/>\n<ellipse fill=\"black\" stroke=\"black\" cx=\"114\" cy=\"-18\" rx=\"1\" ry=\"1\"/>\n<text text-anchor=\"middle\" x=\"96.5\" y=\"-21\" font-family=\"Times,serif\" font-size=\"10.00\">n</text>\n</g>\n<!-- phase_grad_G1 -->\n<g id=\"node3\" class=\"node\">\n<title>phase_grad_G1</title>\n<text text-anchor=\"middle\" x=\"288\" y=\"-14.3\" font-family=\"Times,serif\" font-size=\"14.00\">phase_grad</text>\n</g>\n<!-- PhaseGradientUnitary&#45;&gt;phase_grad_G1 -->\n<g id=\"edge2\" class=\"edge\">\n<title>PhaseGradientUnitary:e-&gt;phase_grad_G1:w</title>\n<path fill=\"none\" stroke=\"black\" d=\"M212,-18C227.67,-18 232.14,-18 246.77,-18\"/>\n<ellipse fill=\"black\" stroke=\"black\" cx=\"248\" cy=\"-18\" rx=\"1\" ry=\"1\"/>\n<text text-anchor=\"middle\" x=\"230.5\" y=\"-21\" font-family=\"Times,serif\" font-size=\"10.00\">n</text>\n</g>\n</g>\n</svg>",
          "text/plain": "<IPython.core.display.SVG object>"
         },
         "metadata": {},
         "output_type": "display_data"
        }
       ],
       "tabbable": null,
       "tooltip": null
      }
     },
     "4199d56c6941433a982588d77a134628": {
      "model_module": "@jupyter-widgets/base",
      "model_module_version": "2.0.0",
      "model_name": "LayoutModel",
      "state": {
       "_model_module": "@jupyter-widgets/base",
       "_model_module_version": "2.0.0",
       "_model_name": "LayoutModel",
       "_view_count": null,
       "_view_module": "@jupyter-widgets/base",
       "_view_module_version": "2.0.0",
       "_view_name": "LayoutView",
       "align_content": null,
       "align_items": null,
       "align_self": null,
       "border_bottom": null,
       "border_left": null,
       "border_right": null,
       "border_top": null,
       "bottom": null,
       "display": null,
       "flex": null,
       "flex_flow": null,
       "grid_area": null,
       "grid_auto_columns": null,
       "grid_auto_flow": null,
       "grid_auto_rows": null,
       "grid_column": null,
       "grid_gap": null,
       "grid_row": null,
       "grid_template_areas": null,
       "grid_template_columns": null,
       "grid_template_rows": null,
       "height": null,
       "justify_content": null,
       "justify_items": null,
       "left": null,
       "margin": null,
       "max_height": null,
       "max_width": null,
       "min_height": null,
       "min_width": null,
       "object_fit": null,
       "object_position": null,
       "order": null,
       "overflow": null,
       "padding": null,
       "right": null,
       "top": null,
       "visibility": null,
       "width": null
      }
     },
     "4c45e37b8e2944738fec4aeed1e44d31": {
      "model_module": "@jupyter-widgets/controls",
      "model_module_version": "2.0.0",
      "model_name": "HBoxModel",
      "state": {
       "_dom_classes": [],
       "_model_module": "@jupyter-widgets/controls",
       "_model_module_version": "2.0.0",
       "_model_name": "HBoxModel",
       "_view_count": null,
       "_view_module": "@jupyter-widgets/controls",
       "_view_module_version": "2.0.0",
       "_view_name": "HBoxView",
       "box_style": "",
       "children": [
        "IPY_MODEL_965874ee13c344b99f92ca57033d9635",
        "IPY_MODEL_25c45b0519e24114ae96054b72fff939"
       ],
       "layout": "IPY_MODEL_0cfc3db2ada54370ac33a7e7e5338fe0",
       "tabbable": null,
       "tooltip": null
      }
     },
     "7334b9b6bf5440df8ef36196193edcc7": {
      "model_module": "@jupyter-widgets/base",
      "model_module_version": "2.0.0",
      "model_name": "LayoutModel",
      "state": {
       "_model_module": "@jupyter-widgets/base",
       "_model_module_version": "2.0.0",
       "_model_name": "LayoutModel",
       "_view_count": null,
       "_view_module": "@jupyter-widgets/base",
       "_view_module_version": "2.0.0",
       "_view_name": "LayoutView",
       "align_content": null,
       "align_items": null,
       "align_self": null,
       "border_bottom": null,
       "border_left": null,
       "border_right": null,
       "border_top": null,
       "bottom": null,
       "display": null,
       "flex": null,
       "flex_flow": null,
       "grid_area": null,
       "grid_auto_columns": null,
       "grid_auto_flow": null,
       "grid_auto_rows": null,
       "grid_column": null,
       "grid_gap": null,
       "grid_row": null,
       "grid_template_areas": null,
       "grid_template_columns": null,
       "grid_template_rows": null,
       "height": null,
       "justify_content": null,
       "justify_items": null,
       "left": null,
       "margin": null,
       "max_height": null,
       "max_width": null,
       "min_height": null,
       "min_width": null,
       "object_fit": null,
       "object_position": null,
       "order": null,
       "overflow": null,
       "padding": null,
       "right": null,
       "top": null,
       "visibility": null,
       "width": null
      }
     },
     "8f392eb184704ad2be8c60bc1262c634": {
      "model_module": "@jupyter-widgets/controls",
      "model_module_version": "2.0.0",
      "model_name": "HBoxModel",
      "state": {
       "_dom_classes": [],
       "_model_module": "@jupyter-widgets/controls",
       "_model_module_version": "2.0.0",
       "_model_name": "HBoxModel",
       "_view_count": null,
       "_view_module": "@jupyter-widgets/controls",
       "_view_module_version": "2.0.0",
       "_view_name": "HBoxView",
       "box_style": "",
       "children": [
        "IPY_MODEL_cc6031d17b60470f8c628c532bbf7493"
       ],
       "layout": "IPY_MODEL_a6d445e06fdf43f48e3b00341acd22f8",
       "tabbable": null,
       "tooltip": null
      }
     },
     "8fe6bf4687bf4c20bfb6cda1f76aba57": {
      "model_module": "@jupyter-widgets/base",
      "model_module_version": "2.0.0",
      "model_name": "LayoutModel",
      "state": {
       "_model_module": "@jupyter-widgets/base",
       "_model_module_version": "2.0.0",
       "_model_name": "LayoutModel",
       "_view_count": null,
       "_view_module": "@jupyter-widgets/base",
       "_view_module_version": "2.0.0",
       "_view_name": "LayoutView",
       "align_content": null,
       "align_items": null,
       "align_self": null,
       "border_bottom": null,
       "border_left": null,
       "border_right": null,
       "border_top": null,
       "bottom": null,
       "display": null,
       "flex": null,
       "flex_flow": null,
       "grid_area": null,
       "grid_auto_columns": null,
       "grid_auto_flow": null,
       "grid_auto_rows": null,
       "grid_column": null,
       "grid_gap": null,
       "grid_row": null,
       "grid_template_areas": null,
       "grid_template_columns": null,
       "grid_template_rows": null,
       "height": null,
       "justify_content": null,
       "justify_items": null,
       "left": null,
       "margin": null,
       "max_height": null,
       "max_width": null,
       "min_height": null,
       "min_width": null,
       "object_fit": null,
       "object_position": null,
       "order": null,
       "overflow": null,
       "padding": null,
       "right": null,
       "top": null,
       "visibility": null,
       "width": null
      }
     },
     "965874ee13c344b99f92ca57033d9635": {
      "model_module": "@jupyter-widgets/output",
      "model_module_version": "1.0.0",
      "model_name": "OutputModel",
      "state": {
       "_dom_classes": [],
       "_model_module": "@jupyter-widgets/output",
       "_model_module_version": "1.0.0",
       "_model_name": "OutputModel",
       "_view_count": null,
       "_view_module": "@jupyter-widgets/output",
       "_view_module_version": "1.0.0",
       "_view_name": "OutputView",
       "layout": "IPY_MODEL_9f9cf219d4614e0bb1f76c173b6d8bfb",
       "msg_id": "",
       "outputs": [
        {
         "data": {
          "text/markdown": "`phase_gradient_unitary`",
          "text/plain": "<IPython.core.display.Markdown object>"
         },
         "metadata": {},
         "output_type": "display_data"
        },
        {
         "data": {
          "image/svg+xml": "<svg xmlns=\"http://www.w3.org/2000/svg\" xmlns:xlink=\"http://www.w3.org/1999/xlink\" width=\"335pt\" height=\"54pt\" viewBox=\"0.00 0.00 335.00 54.00\">\n<g id=\"graph0\" class=\"graph\" transform=\"scale(1 1) rotate(0) translate(4 50)\">\n<title>my_graph</title>\n<polygon fill=\"white\" stroke=\"transparent\" points=\"-4,4 -4,-50 331,-50 331,4 -4,4\"/>\n<!-- phase_grad_G2 -->\n<g id=\"node1\" class=\"node\">\n<title>phase_grad_G2</title>\n<text text-anchor=\"middle\" x=\"39\" y=\"-14.3\" font-family=\"Times,serif\" font-size=\"14.00\">phase_grad</text>\n</g>\n<!-- PhaseGradientUnitary -->\n<g id=\"node2\" class=\"node\">\n<title>PhaseGradientUnitary</title>\n<polygon fill=\"none\" stroke=\"black\" points=\"115.5,-29 115.5,-46 212.5,-46 212.5,-29 115.5,-29\"/>\n<text text-anchor=\"start\" x=\"118.5\" y=\"-35\" font-family=\"Times,serif\" font-size=\"10.00\">PhaseGradientUnitary</text>\n<polygon fill=\"none\" stroke=\"black\" points=\"115.5,-8 115.5,-29 212.5,-29 212.5,-8 115.5,-8\"/>\n<text text-anchor=\"start\" x=\"133\" y=\"-14.8\" font-family=\"Times,serif\" font-size=\"14.00\">phase_grad</text>\n</g>\n<!-- phase_grad_G2&#45;&gt;PhaseGradientUnitary -->\n<g id=\"edge1\" class=\"edge\">\n<title>phase_grad_G2:e-&gt;PhaseGradientUnitary:w</title>\n<path fill=\"none\" stroke=\"black\" d=\"M78,-18C93.67,-18 98.14,-18 112.77,-18\"/>\n<ellipse fill=\"black\" stroke=\"black\" cx=\"114\" cy=\"-18\" rx=\"1\" ry=\"1\"/>\n<text text-anchor=\"middle\" x=\"96.5\" y=\"-21\" font-family=\"Times,serif\" font-size=\"10.00\">4</text>\n</g>\n<!-- phase_grad_G0 -->\n<g id=\"node3\" class=\"node\">\n<title>phase_grad_G0</title>\n<text text-anchor=\"middle\" x=\"288\" y=\"-14.3\" font-family=\"Times,serif\" font-size=\"14.00\">phase_grad</text>\n</g>\n<!-- PhaseGradientUnitary&#45;&gt;phase_grad_G0 -->\n<g id=\"edge2\" class=\"edge\">\n<title>PhaseGradientUnitary:e-&gt;phase_grad_G0:w</title>\n<path fill=\"none\" stroke=\"black\" d=\"M212,-18C227.67,-18 232.14,-18 246.77,-18\"/>\n<ellipse fill=\"black\" stroke=\"black\" cx=\"248\" cy=\"-18\" rx=\"1\" ry=\"1\"/>\n<text text-anchor=\"middle\" x=\"230.5\" y=\"-21\" font-family=\"Times,serif\" font-size=\"10.00\">4</text>\n</g>\n</g>\n</svg>",
          "text/plain": "<IPython.core.display.SVG object>"
         },
         "metadata": {},
         "output_type": "display_data"
        }
       ],
       "tabbable": null,
       "tooltip": null
      }
     },
     "989f882c11fd4918965bbdf0f96808cd": {
      "model_module": "@jupyter-widgets/base",
      "model_module_version": "2.0.0",
      "model_name": "LayoutModel",
      "state": {
       "_model_module": "@jupyter-widgets/base",
       "_model_module_version": "2.0.0",
       "_model_name": "LayoutModel",
       "_view_count": null,
       "_view_module": "@jupyter-widgets/base",
       "_view_module_version": "2.0.0",
       "_view_name": "LayoutView",
       "align_content": null,
       "align_items": null,
       "align_self": null,
       "border_bottom": null,
       "border_left": null,
       "border_right": null,
       "border_top": null,
       "bottom": null,
       "display": null,
       "flex": null,
       "flex_flow": null,
       "grid_area": null,
       "grid_auto_columns": null,
       "grid_auto_flow": null,
       "grid_auto_rows": null,
       "grid_column": null,
       "grid_gap": null,
       "grid_row": null,
       "grid_template_areas": null,
       "grid_template_columns": null,
       "grid_template_rows": null,
       "height": null,
       "justify_content": null,
       "justify_items": null,
       "left": null,
       "margin": null,
       "max_height": null,
       "max_width": null,
       "min_height": null,
       "min_width": null,
       "object_fit": null,
       "object_position": null,
       "order": null,
       "overflow": null,
       "padding": null,
       "right": null,
       "top": null,
       "visibility": null,
       "width": null
      }
     },
     "9f9cf219d4614e0bb1f76c173b6d8bfb": {
      "model_module": "@jupyter-widgets/base",
      "model_module_version": "2.0.0",
      "model_name": "LayoutModel",
      "state": {
       "_model_module": "@jupyter-widgets/base",
       "_model_module_version": "2.0.0",
       "_model_name": "LayoutModel",
       "_view_count": null,
       "_view_module": "@jupyter-widgets/base",
       "_view_module_version": "2.0.0",
       "_view_name": "LayoutView",
       "align_content": null,
       "align_items": null,
       "align_self": null,
       "border_bottom": null,
       "border_left": null,
       "border_right": null,
       "border_top": null,
       "bottom": null,
       "display": null,
       "flex": null,
       "flex_flow": null,
       "grid_area": null,
       "grid_auto_columns": null,
       "grid_auto_flow": null,
       "grid_auto_rows": null,
       "grid_column": null,
       "grid_gap": null,
       "grid_row": null,
       "grid_template_areas": null,
       "grid_template_columns": null,
       "grid_template_rows": null,
       "height": null,
       "justify_content": null,
       "justify_items": null,
       "left": null,
       "margin": null,
       "max_height": null,
       "max_width": null,
       "min_height": null,
       "min_width": null,
       "object_fit": null,
       "object_position": null,
       "order": null,
       "overflow": null,
       "padding": null,
       "right": null,
       "top": null,
       "visibility": null,
       "width": null
      }
     },
     "a6d445e06fdf43f48e3b00341acd22f8": {
      "model_module": "@jupyter-widgets/base",
      "model_module_version": "2.0.0",
      "model_name": "LayoutModel",
      "state": {
       "_model_module": "@jupyter-widgets/base",
       "_model_module_version": "2.0.0",
       "_model_name": "LayoutModel",
       "_view_count": null,
       "_view_module": "@jupyter-widgets/base",
       "_view_module_version": "2.0.0",
       "_view_name": "LayoutView",
       "align_content": null,
       "align_items": null,
       "align_self": null,
       "border_bottom": null,
       "border_left": null,
       "border_right": null,
       "border_top": null,
       "bottom": null,
       "display": null,
       "flex": null,
       "flex_flow": null,
       "grid_area": null,
       "grid_auto_columns": null,
       "grid_auto_flow": null,
       "grid_auto_rows": null,
       "grid_column": null,
       "grid_gap": null,
       "grid_row": null,
       "grid_template_areas": null,
       "grid_template_columns": null,
       "grid_template_rows": null,
       "height": null,
       "justify_content": null,
       "justify_items": null,
       "left": null,
       "margin": null,
       "max_height": null,
       "max_width": null,
       "min_height": null,
       "min_width": null,
       "object_fit": null,
       "object_position": null,
       "order": null,
       "overflow": null,
       "padding": null,
       "right": null,
       "top": null,
       "visibility": null,
       "width": null
      }
     },
     "cc6031d17b60470f8c628c532bbf7493": {
      "model_module": "@jupyter-widgets/output",
      "model_module_version": "1.0.0",
      "model_name": "OutputModel",
      "state": {
       "_dom_classes": [],
       "_model_module": "@jupyter-widgets/output",
       "_model_module_version": "1.0.0",
       "_model_name": "OutputModel",
       "_view_count": null,
       "_view_module": "@jupyter-widgets/output",
       "_view_module_version": "1.0.0",
       "_view_name": "OutputView",
       "layout": "IPY_MODEL_7334b9b6bf5440df8ef36196193edcc7",
       "msg_id": "",
       "outputs": [
        {
         "data": {
          "text/markdown": "`add_scaled_val_into_phase_reg`",
          "text/plain": "<IPython.core.display.Markdown object>"
         },
         "metadata": {},
         "output_type": "display_data"
        },
        {
         "data": {
          "image/svg+xml": "<svg xmlns=\"http://www.w3.org/2000/svg\" xmlns:xlink=\"http://www.w3.org/1999/xlink\" width=\"359pt\" height=\"98pt\" viewBox=\"0.00 0.00 359.00 98.00\">\n<g id=\"graph0\" class=\"graph\" transform=\"scale(1 1) rotate(0) translate(4 94)\">\n<title>my_graph</title>\n<polygon fill=\"white\" stroke=\"transparent\" points=\"-4,4 -4,-94 355,-94 355,4 -4,4\"/>\n<!-- x_G2 -->\n<g id=\"node1\" class=\"node\">\n<title>x_G2</title>\n<text text-anchor=\"middle\" x=\"39\" y=\"-68.3\" font-family=\"Times,serif\" font-size=\"14.00\">x</text>\n</g>\n<!-- AddScaledValIntoPhaseReg -->\n<g id=\"node3\" class=\"node\">\n<title>AddScaledValIntoPhaseReg</title>\n<polygon fill=\"none\" stroke=\"black\" points=\"115.5,-66 115.5,-83 236.5,-83 236.5,-66 115.5,-66\"/>\n<text text-anchor=\"start\" x=\"118.5\" y=\"-72\" font-family=\"Times,serif\" font-size=\"10.00\">AddScaledValIntoPhaseReg</text>\n<polygon fill=\"none\" stroke=\"black\" points=\"115.5,-45 115.5,-66 236.5,-66 236.5,-45 115.5,-45\"/>\n<text text-anchor=\"start\" x=\"172.5\" y=\"-51.8\" font-family=\"Times,serif\" font-size=\"14.00\">x</text>\n<polygon fill=\"none\" stroke=\"black\" points=\"115.5,-24 115.5,-45 236.5,-45 236.5,-24 115.5,-24\"/>\n<text text-anchor=\"start\" x=\"145\" y=\"-30.8\" font-family=\"Times,serif\" font-size=\"14.00\">phase_grad</text>\n</g>\n<!-- x_G2&#45;&gt;AddScaledValIntoPhaseReg -->\n<g id=\"edge1\" class=\"edge\">\n<title>x_G2:e-&gt;AddScaledValIntoPhaseReg:w</title>\n<path fill=\"none\" stroke=\"black\" d=\"M67,-72C88.78,-72 92.3,-56.98 112.95,-56.05\"/>\n<ellipse fill=\"black\" stroke=\"black\" cx=\"114\" cy=\"-56.02\" rx=\"1\" ry=\"1\"/>\n<text text-anchor=\"middle\" x=\"96.5\" y=\"-63\" font-family=\"Times,serif\" font-size=\"10.00\">2</text>\n</g>\n<!-- phase_grad_G3 -->\n<g id=\"node2\" class=\"node\">\n<title>phase_grad_G3</title>\n<text text-anchor=\"middle\" x=\"39\" y=\"-14.3\" font-family=\"Times,serif\" font-size=\"14.00\">phase_grad</text>\n</g>\n<!-- phase_grad_G3&#45;&gt;AddScaledValIntoPhaseReg -->\n<g id=\"edge2\" class=\"edge\">\n<title>phase_grad_G3:e-&gt;AddScaledValIntoPhaseReg:w</title>\n<path fill=\"none\" stroke=\"black\" d=\"M78,-18C95.22,-18 96.97,-32.77 112.98,-33.93\"/>\n<ellipse fill=\"black\" stroke=\"black\" cx=\"114\" cy=\"-33.96\" rx=\"1\" ry=\"1\"/>\n<text text-anchor=\"middle\" x=\"96.5\" y=\"-29\" font-family=\"Times,serif\" font-size=\"10.00\">2</text>\n</g>\n<!-- x_G1 -->\n<g id=\"node4\" class=\"node\">\n<title>x_G1</title>\n<text text-anchor=\"middle\" x=\"312\" y=\"-68.3\" font-family=\"Times,serif\" font-size=\"14.00\">x</text>\n</g>\n<!-- AddScaledValIntoPhaseReg&#45;&gt;x_G1 -->\n<g id=\"edge3\" class=\"edge\">\n<title>AddScaledValIntoPhaseReg:e-&gt;x_G1:w</title>\n<path fill=\"none\" stroke=\"black\" d=\"M236,-56C257.78,-56 261.3,-71.02 281.95,-71.95\"/>\n<ellipse fill=\"black\" stroke=\"black\" cx=\"283\" cy=\"-71.98\" rx=\"1\" ry=\"1\"/>\n<text text-anchor=\"middle\" x=\"254.5\" y=\"-63\" font-family=\"Times,serif\" font-size=\"10.00\">2</text>\n</g>\n<!-- phase_grad_G0 -->\n<g id=\"node5\" class=\"node\">\n<title>phase_grad_G0</title>\n<text text-anchor=\"middle\" x=\"312\" y=\"-14.3\" font-family=\"Times,serif\" font-size=\"14.00\">phase_grad</text>\n</g>\n<!-- AddScaledValIntoPhaseReg&#45;&gt;phase_grad_G0 -->\n<g id=\"edge4\" class=\"edge\">\n<title>AddScaledValIntoPhaseReg:e-&gt;phase_grad_G0:w</title>\n<path fill=\"none\" stroke=\"black\" d=\"M236,-34C253.22,-34 254.97,-19.23 270.98,-18.07\"/>\n<ellipse fill=\"black\" stroke=\"black\" cx=\"272\" cy=\"-18.04\" rx=\"1\" ry=\"1\"/>\n<text text-anchor=\"middle\" x=\"254.5\" y=\"-29\" font-family=\"Times,serif\" font-size=\"10.00\">2</text>\n</g>\n</g>\n</svg>",
          "text/plain": "<IPython.core.display.SVG object>"
         },
         "metadata": {},
         "output_type": "display_data"
        }
       ],
       "tabbable": null,
       "tooltip": null
      }
     },
     "d6f74a35ac7c4abeaa545a051ee76c90": {
      "model_module": "@jupyter-widgets/controls",
      "model_module_version": "2.0.0",
      "model_name": "HBoxModel",
      "state": {
       "_dom_classes": [],
       "_model_module": "@jupyter-widgets/controls",
       "_model_module_version": "2.0.0",
       "_model_name": "HBoxModel",
       "_view_count": null,
       "_view_module": "@jupyter-widgets/controls",
       "_view_module_version": "2.0.0",
       "_view_name": "HBoxView",
       "box_style": "",
       "children": [
        "IPY_MODEL_087e7c479b214b47bd1692b4dd3afe62"
       ],
       "layout": "IPY_MODEL_989f882c11fd4918965bbdf0f96808cd",
       "tabbable": null,
       "tooltip": null
      }
     },
     "e3ecd515a2574e9b847f365b252c5266": {
      "model_module": "@jupyter-widgets/base",
      "model_module_version": "2.0.0",
      "model_name": "LayoutModel",
      "state": {
       "_model_module": "@jupyter-widgets/base",
       "_model_module_version": "2.0.0",
       "_model_name": "LayoutModel",
       "_view_count": null,
       "_view_module": "@jupyter-widgets/base",
       "_view_module_version": "2.0.0",
       "_view_name": "LayoutView",
       "align_content": null,
       "align_items": null,
       "align_self": null,
       "border_bottom": null,
       "border_left": null,
       "border_right": null,
       "border_top": null,
       "bottom": null,
       "display": null,
       "flex": null,
       "flex_flow": null,
       "grid_area": null,
       "grid_auto_columns": null,
       "grid_auto_flow": null,
       "grid_auto_rows": null,
       "grid_column": null,
       "grid_gap": null,
       "grid_row": null,
       "grid_template_areas": null,
       "grid_template_columns": null,
       "grid_template_rows": null,
       "height": null,
       "justify_content": null,
       "justify_items": null,
       "left": null,
       "margin": null,
       "max_height": null,
       "max_width": null,
       "min_height": null,
       "min_width": null,
       "object_fit": null,
       "object_position": null,
       "order": null,
       "overflow": null,
       "padding": null,
       "right": null,
       "top": null,
       "visibility": null,
       "width": null
      }
     },
     "fcd24292265a49dbb289832863a2e44e": {
      "model_module": "@jupyter-widgets/output",
      "model_module_version": "1.0.0",
      "model_name": "OutputModel",
      "state": {
       "_dom_classes": [],
       "_model_module": "@jupyter-widgets/output",
       "_model_module_version": "1.0.0",
       "_model_name": "OutputModel",
       "_view_count": null,
       "_view_module": "@jupyter-widgets/output",
       "_view_module_version": "1.0.0",
       "_view_name": "OutputView",
       "layout": "IPY_MODEL_8fe6bf4687bf4c20bfb6cda1f76aba57",
       "msg_id": "",
       "outputs": [
        {
         "data": {
          "text/markdown": "`add_into_phase_grad`",
          "text/plain": "<IPython.core.display.Markdown object>"
         },
         "metadata": {},
         "output_type": "display_data"
        },
        {
         "data": {
          "image/svg+xml": "<svg xmlns=\"http://www.w3.org/2000/svg\" xmlns:xlink=\"http://www.w3.org/1999/xlink\" width=\"323pt\" height=\"98pt\" viewBox=\"0.00 0.00 323.00 98.00\">\n<g id=\"graph0\" class=\"graph\" transform=\"scale(1 1) rotate(0) translate(4 94)\">\n<title>my_graph</title>\n<polygon fill=\"white\" stroke=\"transparent\" points=\"-4,4 -4,-94 319,-94 319,4 -4,4\"/>\n<!-- x_G5 -->\n<g id=\"node1\" class=\"node\">\n<title>x_G5</title>\n<text text-anchor=\"middle\" x=\"39\" y=\"-68.3\" font-family=\"Times,serif\" font-size=\"14.00\">x</text>\n</g>\n<!-- AddIntoPhaseGrad -->\n<g id=\"node3\" class=\"node\">\n<title>AddIntoPhaseGrad</title>\n<polygon fill=\"none\" stroke=\"black\" points=\"115.5,-66 115.5,-83 200.5,-83 200.5,-66 115.5,-66\"/>\n<text text-anchor=\"start\" x=\"118.5\" y=\"-72\" font-family=\"Times,serif\" font-size=\"10.00\">AddIntoPhaseGrad</text>\n<polygon fill=\"none\" stroke=\"black\" points=\"115.5,-45 115.5,-66 200.5,-66 200.5,-45 115.5,-45\"/>\n<text text-anchor=\"start\" x=\"154.5\" y=\"-51.8\" font-family=\"Times,serif\" font-size=\"14.00\">x</text>\n<polygon fill=\"none\" stroke=\"black\" points=\"115.5,-24 115.5,-45 200.5,-45 200.5,-24 115.5,-24\"/>\n<text text-anchor=\"start\" x=\"127\" y=\"-30.8\" font-family=\"Times,serif\" font-size=\"14.00\">phase_grad</text>\n</g>\n<!-- x_G5&#45;&gt;AddIntoPhaseGrad -->\n<g id=\"edge1\" class=\"edge\">\n<title>x_G5:e-&gt;AddIntoPhaseGrad:w</title>\n<path fill=\"none\" stroke=\"black\" d=\"M67,-72C88.78,-72 92.3,-56.98 112.95,-56.05\"/>\n<ellipse fill=\"black\" stroke=\"black\" cx=\"114\" cy=\"-56.02\" rx=\"1\" ry=\"1\"/>\n<text text-anchor=\"middle\" x=\"96.5\" y=\"-63\" font-family=\"Times,serif\" font-size=\"10.00\">4</text>\n</g>\n<!-- phase_grad_G4 -->\n<g id=\"node2\" class=\"node\">\n<title>phase_grad_G4</title>\n<text text-anchor=\"middle\" x=\"39\" y=\"-14.3\" font-family=\"Times,serif\" font-size=\"14.00\">phase_grad</text>\n</g>\n<!-- phase_grad_G4&#45;&gt;AddIntoPhaseGrad -->\n<g id=\"edge2\" class=\"edge\">\n<title>phase_grad_G4:e-&gt;AddIntoPhaseGrad:w</title>\n<path fill=\"none\" stroke=\"black\" d=\"M78,-18C95.22,-18 96.97,-32.77 112.98,-33.93\"/>\n<ellipse fill=\"black\" stroke=\"black\" cx=\"114\" cy=\"-33.96\" rx=\"1\" ry=\"1\"/>\n<text text-anchor=\"middle\" x=\"96.5\" y=\"-29\" font-family=\"Times,serif\" font-size=\"10.00\">4</text>\n</g>\n<!-- x_G1 -->\n<g id=\"node4\" class=\"node\">\n<title>x_G1</title>\n<text text-anchor=\"middle\" x=\"276\" y=\"-68.3\" font-family=\"Times,serif\" font-size=\"14.00\">x</text>\n</g>\n<!-- AddIntoPhaseGrad&#45;&gt;x_G1 -->\n<g id=\"edge3\" class=\"edge\">\n<title>AddIntoPhaseGrad:e-&gt;x_G1:w</title>\n<path fill=\"none\" stroke=\"black\" d=\"M200,-56C221.78,-56 225.3,-71.02 245.95,-71.95\"/>\n<ellipse fill=\"black\" stroke=\"black\" cx=\"247\" cy=\"-71.98\" rx=\"1\" ry=\"1\"/>\n<text text-anchor=\"middle\" x=\"218.5\" y=\"-63\" font-family=\"Times,serif\" font-size=\"10.00\">4</text>\n</g>\n<!-- phase_grad_G3 -->\n<g id=\"node5\" class=\"node\">\n<title>phase_grad_G3</title>\n<text text-anchor=\"middle\" x=\"276\" y=\"-14.3\" font-family=\"Times,serif\" font-size=\"14.00\">phase_grad</text>\n</g>\n<!-- AddIntoPhaseGrad&#45;&gt;phase_grad_G3 -->\n<g id=\"edge4\" class=\"edge\">\n<title>AddIntoPhaseGrad:e-&gt;phase_grad_G3:w</title>\n<path fill=\"none\" stroke=\"black\" d=\"M200,-34C217.22,-34 218.97,-19.23 234.98,-18.07\"/>\n<ellipse fill=\"black\" stroke=\"black\" cx=\"236\" cy=\"-18.04\" rx=\"1\" ry=\"1\"/>\n<text text-anchor=\"middle\" x=\"218.5\" y=\"-29\" font-family=\"Times,serif\" font-size=\"10.00\">4</text>\n</g>\n</g>\n</svg>",
          "text/plain": "<IPython.core.display.SVG object>"
         },
         "metadata": {},
         "output_type": "display_data"
        }
       ],
       "tabbable": null,
       "tooltip": null
      }
     }
    },
    "version_major": 2,
    "version_minor": 0
   }
  }
 },
 "nbformat": 4,
 "nbformat_minor": 5
}
