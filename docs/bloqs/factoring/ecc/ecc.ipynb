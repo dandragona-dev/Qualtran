{
 "cells": [
  {
   "cell_type": "markdown",
   "id": "ed4630ba",
   "metadata": {
    "cq.autogen": "title_cell"
   },
   "source": [
    "# Elliptic Curve Cryptography\n",
    "\n",
    "Bloqs for breaking elliptic curve cryptography systems via the discrete log.\n",
    "\n",
    "Elliptic curve cryptography is a form of public key cryptography based on the finite\n",
    "field of elliptic curves. For our purposes, we will denote the group operation as addition\n",
    "(whose definition we will explore later) $A + B$. We will denote repeated addition\n",
    " as $[k] A = A + \\dots + A$ ($k$ times).\n",
    "\n",
    "Within this algebra, the cryptographic scheme relates the public and private keys via\n",
    "$$\n",
    "Q = [k] P\n",
    "$$\n",
    "for private key $k$, public key $Q$, and a choice of base point $P$. The cryptographic\n",
    "security comes from the difficulty of inverting the multiplication. I.e. it is difficult\n",
    "to do a discrete logarithm in this field.\n",
    "\n",
    "Using Shor's algorithm for the discrete logarithm, we can find $k$ in polynomial time\n",
    "with a quantum algorithm."
   ]
  },
  {
   "cell_type": "code",
   "execution_count": 1,
   "id": "82580882",
   "metadata": {
    "cq.autogen": "top_imports"
   },
   "outputs": [],
   "source": [
    "from qualtran import Bloq, CompositeBloq, BloqBuilder, Signature, Register\n",
    "from qualtran import QBit, QInt, QUInt, QAny\n",
    "from qualtran.drawing import show_bloq, show_call_graph, show_counts_sigma\n",
    "from typing import *\n",
    "import numpy as np\n",
    "import sympy\n",
    "import cirq"
   ]
  },
  {
   "cell_type": "markdown",
   "id": "60163c9f",
   "metadata": {
    "cq.autogen": "FindECCPrivateKey.bloq_doc.md"
   },
   "source": [
    "## `FindECCPrivateKey`\n",
    "Perform two phase estimations to break elliptic curve cryptography.\n",
    "\n",
    "This follows the strategy in Litinski 2023. We perform two phase estimations corresponding\n",
    "to `ECCAddR(R=P)` and `ECCAddR(R=Q)` for base point $P$ and public key $Q$.\n",
    "\n",
    "The first phase estimation projects us into a random eigenstate of the ECCAddR(R=P) operator\n",
    "which we index by the integer $c$. Per eq. 5 in the reference, these eigenstates take the form\n",
    "$$\n",
    "|\\psi_c \\rangle = \\sum_j^{r-1} \\omega^{cj}\\ | [j]P \\rangle  \\\\\n",
    "\\omega = e^{2\\pi i / r} \\\\\n",
    "[r] P = P\n",
    "$$\n",
    "\n",
    "This state is a simultaneous eigenstate of the second operator, `ECCAddR(R=Q)`. By\n",
    "the definition of the operator, acting it upon $|\\psi_c\\rangle$ gives:\n",
    "$$\n",
    "|\\psi_c \\rangle \\rightarrow \\sum_j w^{cj} | [j]P + Q \\rangle\\rangle\n",
    "$$\n",
    "\n",
    "The private key $k$ that we wish to recover relates the public key to the base point\n",
    "$$\n",
    "Q = [k] P\n",
    "$$\n",
    "so our simultaneous eigenstate can be equivalently written as\n",
    "$$\n",
    "\\sum_j^{r-1} \\omega^{cj} | [j+k] P \\rangle \\\\\n",
    "= \\omega^{-ck} |\\psi_c \\rangle\n",
    "$$\n",
    "\n",
    "Therefore, the measured result of the second phase estimation is $ck$. Since we have\n",
    "already measured the random index $c$, we can divide it out to recover the private key $k$.\n",
    "\n",
    "#### Parameters\n",
    " - `n`: The bitsize of the elliptic curve points' x and y registers.\n",
    " - `base_point`: The base point $P$ with unknown order $r$ such that $P = [r] P$.\n",
    " - `public_key`: The public key $Q$ such that $Q = [k] P$ for private key $k$. \n",
    "\n",
    "#### References\n",
    " - [How to compute a 256-bit elliptic curve private key with only 50 million Toffoli gates](https://arxiv.org/abs/2306.08585). Litinski. 2023. Figure 4 (a).\n"
   ]
  },
  {
   "cell_type": "code",
   "execution_count": 2,
   "id": "92003a1f",
   "metadata": {
    "cq.autogen": "FindECCPrivateKey.bloq_doc.py"
   },
   "outputs": [],
   "source": [
    "from qualtran.bloqs.factoring.ecc import FindECCPrivateKey"
   ]
  },
  {
   "cell_type": "code",
   "execution_count": 3,
   "id": "6cb48b0a-44c8-40e5-ba1e-d0b3a0745046",
   "metadata": {},
   "outputs": [],
   "source": [
    "from qualtran.bloqs.factoring.ecc import ECPoint"
   ]
  },
  {
   "cell_type": "markdown",
   "id": "e7c573eb",
   "metadata": {
    "cq.autogen": "FindECCPrivateKey.example_instances.md"
   },
   "source": [
    "### Example Instances"
   ]
  },
  {
   "cell_type": "code",
   "execution_count": 4,
   "id": "51f1d2bf",
   "metadata": {
    "cq.autogen": "FindECCPrivateKey.ecc"
   },
   "outputs": [],
   "source": [
    "n, p = sympy.symbols('n p')\n",
    "Px, Py, Qx, Qy = sympy.symbols('P_x P_y Q_x Q_y')\n",
    "P = ECPoint(Px, Py, mod=p)\n",
    "Q = ECPoint(Qx, Qy, mod=p)\n",
    "ecc = FindECCPrivateKey(n=n, base_point=P, public_key=Q)"
   ]
  },
  {
   "cell_type": "markdown",
   "id": "921c0ce8",
   "metadata": {
    "cq.autogen": "FindECCPrivateKey.graphical_signature.md"
   },
   "source": [
    "#### Graphical Signature"
   ]
  },
  {
   "cell_type": "code",
   "execution_count": 5,
   "id": "d231c54e",
   "metadata": {
    "cq.autogen": "FindECCPrivateKey.graphical_signature.py"
   },
   "outputs": [
    {
     "data": {
      "application/vnd.jupyter.widget-view+json": {
       "model_id": "558c3cc3553f4d25985fb1616b475e4d",
       "version_major": 2,
       "version_minor": 0
      },
      "text/plain": [
       "HBox(children=(Output(outputs=({'output_type': 'display_data', 'data': {'text/plain': '<IPython.core.display.M…"
      ]
     },
     "metadata": {},
     "output_type": "display_data"
    }
   ],
   "source": [
    "from qualtran.drawing import show_bloqs\n",
    "show_bloqs([ecc],\n",
    "           ['`ecc`'])"
   ]
  },
  {
   "cell_type": "markdown",
   "id": "73f68a55",
   "metadata": {
    "cq.autogen": "FindECCPrivateKey.call_graph.md"
   },
   "source": [
    "### Call Graph"
   ]
  },
  {
   "cell_type": "code",
   "execution_count": 6,
   "id": "ff6e72fa",
   "metadata": {
    "cq.autogen": "FindECCPrivateKey.call_graph.py"
   },
   "outputs": [
    {
     "data": {
      "image/svg+xml": [
       "<svg xmlns=\"http://www.w3.org/2000/svg\" xmlns:xlink=\"http://www.w3.org/1999/xlink\" width=\"343pt\" height=\"131pt\" viewBox=\"0.00 0.00 343.00 131.00\">\n",
       "<g id=\"graph0\" class=\"graph\" transform=\"scale(1 1) rotate(0) translate(4 127)\">\n",
       "<title>counts</title>\n",
       "<polygon fill=\"white\" stroke=\"transparent\" points=\"-4,4 -4,-127 339,-127 339,4 -4,4\"/>\n",
       "<!-- b0 -->\n",
       "<g id=\"node1\" class=\"node\">\n",
       "<title>b0</title>\n",
       "<polygon fill=\"none\" stroke=\"black\" points=\"335,-123 0,-123 0,-87 335,-87 335,-123\"/>\n",
       "<text text-anchor=\"start\" x=\"111.5\" y=\"-106.8\" font-family=\"Times,serif\" font-size=\"14.00\">FindECCPrivateKey</text>\n",
       "<text text-anchor=\"start\" x=\"8\" y=\"-96\" font-family=\"monospace\" font-size=\"10.00\">n=n, base_point=ECPoint( ..., public_key=ECPoint( ...</text>\n",
       "</g>\n",
       "<!-- b1 -->\n",
       "<g id=\"node2\" class=\"node\">\n",
       "<title>b1</title>\n",
       "<polygon fill=\"none\" stroke=\"black\" points=\"245,-36 90,-36 90,0 245,0 245,-36\"/>\n",
       "<text text-anchor=\"start\" x=\"115\" y=\"-19.8\" font-family=\"Times,serif\" font-size=\"14.00\">PE$(_Rx0, _Ry0)$</text>\n",
       "<text text-anchor=\"start\" x=\"98\" y=\"-9\" font-family=\"monospace\" font-size=\"10.00\">n=n, point=ECPoint( ...</text>\n",
       "</g>\n",
       "<!-- b0&#45;&gt;b1 -->\n",
       "<g id=\"edge1\" class=\"edge\">\n",
       "<title>b0-&gt;b1</title>\n",
       "<path fill=\"none\" stroke=\"black\" d=\"M167.5,-86.8C167.5,-75.16 167.5,-59.55 167.5,-46.24\"/>\n",
       "<polygon fill=\"black\" stroke=\"black\" points=\"171,-46.18 167.5,-36.18 164,-46.18 171,-46.18\"/>\n",
       "<text text-anchor=\"middle\" x=\"171\" y=\"-57.8\" font-family=\"Times,serif\" font-size=\"14.00\">2</text>\n",
       "</g>\n",
       "</g>\n",
       "</svg>"
      ],
      "text/plain": [
       "<IPython.core.display.SVG object>"
      ]
     },
     "metadata": {},
     "output_type": "display_data"
    },
    {
     "data": {
      "text/markdown": [
       "#### Counts totals:\n",
       " - `PE$(_Rx0, _Ry0)$`: 2"
      ],
      "text/plain": [
       "<IPython.core.display.Markdown object>"
      ]
     },
     "metadata": {},
     "output_type": "display_data"
    }
   ],
   "source": [
    "from qualtran.resource_counting.generalizers import ignore_split_join\n",
    "ecc_g, ecc_sigma = ecc.call_graph(max_depth=1, generalizer=ignore_split_join)\n",
    "show_call_graph(ecc_g)\n",
    "show_counts_sigma(ecc_sigma)"
   ]
  },
  {
   "cell_type": "code",
   "execution_count": 7,
   "id": "510c3f43-5a16-4113-95e4-74e4c1618a68",
   "metadata": {},
   "outputs": [
    {
     "data": {
      "image/svg+xml": [
       "<svg xmlns=\"http://www.w3.org/2000/svg\" xmlns:xlink=\"http://www.w3.org/1999/xlink\" width=\"325pt\" height=\"102pt\" viewBox=\"0.00 0.00 325.00 102.00\">\n",
       "<g id=\"graph0\" class=\"graph\" transform=\"scale(1 1) rotate(0) translate(4 98)\">\n",
       "<title>my_graph</title>\n",
       "<polygon fill=\"white\" stroke=\"transparent\" points=\"-4,4 -4,-98 321,-98 321,4 -4,4\"/>\n",
       "<!-- ECPhaseEstimateR -->\n",
       "<g id=\"node1\" class=\"node\">\n",
       "<title>ECPhaseEstimateR</title>\n",
       "<polygon fill=\"none\" stroke=\"black\" points=\"68,-59 68,-76 138,-76 138,-59 68,-59\"/>\n",
       "<text text-anchor=\"start\" x=\"71\" y=\"-65\" font-family=\"Times,serif\" font-size=\"10.00\">PE$(P_x, P_y)$</text>\n",
       "<polygon fill=\"none\" stroke=\"black\" points=\"68,-38 68,-59 138,-59 138,-38 68,-38\"/>\n",
       "<text text-anchor=\"start\" x=\"99.5\" y=\"-44.8\" font-family=\"Times,serif\" font-size=\"14.00\">x</text>\n",
       "<polygon fill=\"none\" stroke=\"black\" points=\"68,-17 68,-38 138,-38 138,-17 68,-17\"/>\n",
       "<text text-anchor=\"start\" x=\"99.5\" y=\"-23.8\" font-family=\"Times,serif\" font-size=\"14.00\">y</text>\n",
       "</g>\n",
       "<!-- ECPhaseEstimateR_G2 -->\n",
       "<g id=\"node5\" class=\"node\">\n",
       "<title>ECPhaseEstimateR_G2</title>\n",
       "<polygon fill=\"none\" stroke=\"black\" points=\"175.5,-59 175.5,-76 250.5,-76 250.5,-59 175.5,-59\"/>\n",
       "<text text-anchor=\"start\" x=\"178.5\" y=\"-65\" font-family=\"Times,serif\" font-size=\"10.00\">PE$(Q_x, Q_y)$</text>\n",
       "<polygon fill=\"none\" stroke=\"black\" points=\"175.5,-38 175.5,-59 250.5,-59 250.5,-38 175.5,-38\"/>\n",
       "<text text-anchor=\"start\" x=\"209.5\" y=\"-44.8\" font-family=\"Times,serif\" font-size=\"14.00\">x</text>\n",
       "<polygon fill=\"none\" stroke=\"black\" points=\"175.5,-17 175.5,-38 250.5,-38 250.5,-17 175.5,-17\"/>\n",
       "<text text-anchor=\"start\" x=\"209.5\" y=\"-23.8\" font-family=\"Times,serif\" font-size=\"14.00\">y</text>\n",
       "</g>\n",
       "<!-- ECPhaseEstimateR&#45;&gt;ECPhaseEstimateR_G2 -->\n",
       "<g id=\"edge3\" class=\"edge\">\n",
       "<title>ECPhaseEstimateR:e-&gt;ECPhaseEstimateR_G2:w</title>\n",
       "<path fill=\"none\" stroke=\"black\" d=\"M138,-49C153.67,-49 158.14,-49 172.77,-49\"/>\n",
       "<ellipse fill=\"black\" stroke=\"black\" cx=\"174\" cy=\"-49\" rx=\"1\" ry=\"1\"/>\n",
       "<text text-anchor=\"middle\" x=\"156.5\" y=\"-53\" font-family=\"Times,serif\" font-size=\"10.00\">n</text>\n",
       "</g>\n",
       "<!-- ECPhaseEstimateR&#45;&gt;ECPhaseEstimateR_G2 -->\n",
       "<g id=\"edge4\" class=\"edge\">\n",
       "<title>ECPhaseEstimateR:e-&gt;ECPhaseEstimateR_G2:w</title>\n",
       "<path fill=\"none\" stroke=\"black\" d=\"M138,-27C153.67,-27 158.14,-27 172.77,-27\"/>\n",
       "<ellipse fill=\"black\" stroke=\"black\" cx=\"174\" cy=\"-27\" rx=\"1\" ry=\"1\"/>\n",
       "<text text-anchor=\"middle\" x=\"156.5\" y=\"-30\" font-family=\"Times,serif\" font-size=\"10.00\">n</text>\n",
       "</g>\n",
       "<!-- IntState -->\n",
       "<g id=\"node2\" class=\"node\">\n",
       "<title>IntState</title>\n",
       "<polygon fill=\"none\" stroke=\"black\" points=\"0.5,-21 0.5,-38 31.5,-38 31.5,-21 0.5,-21\"/>\n",
       "<text text-anchor=\"start\" x=\"3.5\" y=\"-27\" font-family=\"Times,serif\" font-size=\"10.00\">|P_y&gt;</text>\n",
       "<polygon fill=\"none\" stroke=\"black\" points=\"0.5,0 0.5,-21 7.5,-21 7.5,0 0.5,0\"/>\n",
       "<polygon fill=\"none\" stroke=\"black\" points=\"7.5,0 7.5,-21 31.5,-21 31.5,0 7.5,0\"/>\n",
       "<text text-anchor=\"start\" x=\"11\" y=\"-6.8\" font-family=\"Times,serif\" font-size=\"14.00\">val</text>\n",
       "</g>\n",
       "<!-- IntState&#45;&gt;ECPhaseEstimateR -->\n",
       "<g id=\"edge2\" class=\"edge\">\n",
       "<title>IntState:e-&gt;ECPhaseEstimateR:w</title>\n",
       "<path fill=\"none\" stroke=\"black\" d=\"M31,-10C48.39,-10 49.81,-25.7 65.96,-26.92\"/>\n",
       "<ellipse fill=\"black\" stroke=\"black\" cx=\"67\" cy=\"-26.96\" rx=\"1\" ry=\"1\"/>\n",
       "<text text-anchor=\"middle\" x=\"49.5\" y=\"-22\" font-family=\"Times,serif\" font-size=\"10.00\">n</text>\n",
       "</g>\n",
       "<!-- Free -->\n",
       "<g id=\"node3\" class=\"node\">\n",
       "<title>Free</title>\n",
       "<polygon fill=\"none\" stroke=\"black\" points=\"287,-77 287,-94 317,-94 317,-77 287,-77\"/>\n",
       "<text text-anchor=\"start\" x=\"293\" y=\"-83\" font-family=\"Times,serif\" font-size=\"10.00\">Free</text>\n",
       "<polygon fill=\"none\" stroke=\"black\" points=\"287,-56 287,-77 311,-77 311,-56 287,-56\"/>\n",
       "<text text-anchor=\"start\" x=\"290\" y=\"-62.8\" font-family=\"Times,serif\" font-size=\"14.00\">reg</text>\n",
       "<polygon fill=\"none\" stroke=\"black\" points=\"311,-56 311,-77 317,-77 317,-56 311,-56\"/>\n",
       "</g>\n",
       "<!-- IntState_G0 -->\n",
       "<g id=\"node4\" class=\"node\">\n",
       "<title>IntState_G0</title>\n",
       "<polygon fill=\"none\" stroke=\"black\" points=\"0.5,-77 0.5,-94 31.5,-94 31.5,-77 0.5,-77\"/>\n",
       "<text text-anchor=\"start\" x=\"3.5\" y=\"-83\" font-family=\"Times,serif\" font-size=\"10.00\">|P_x&gt;</text>\n",
       "<polygon fill=\"none\" stroke=\"black\" points=\"0.5,-56 0.5,-77 7.5,-77 7.5,-56 0.5,-56\"/>\n",
       "<polygon fill=\"none\" stroke=\"black\" points=\"7.5,-56 7.5,-77 31.5,-77 31.5,-56 7.5,-56\"/>\n",
       "<text text-anchor=\"start\" x=\"11\" y=\"-62.8\" font-family=\"Times,serif\" font-size=\"14.00\">val</text>\n",
       "</g>\n",
       "<!-- IntState_G0&#45;&gt;ECPhaseEstimateR -->\n",
       "<g id=\"edge1\" class=\"edge\">\n",
       "<title>IntState_G0:e-&gt;ECPhaseEstimateR:w</title>\n",
       "<path fill=\"none\" stroke=\"black\" d=\"M31,-66C48.39,-66 49.81,-50.3 65.96,-49.08\"/>\n",
       "<ellipse fill=\"black\" stroke=\"black\" cx=\"67\" cy=\"-49.04\" rx=\"1\" ry=\"1\"/>\n",
       "<text text-anchor=\"middle\" x=\"49.5\" y=\"-60\" font-family=\"Times,serif\" font-size=\"10.00\">n</text>\n",
       "</g>\n",
       "<!-- ECPhaseEstimateR_G2&#45;&gt;Free -->\n",
       "<g id=\"edge5\" class=\"edge\">\n",
       "<title>ECPhaseEstimateR_G2:e-&gt;Free:w</title>\n",
       "<path fill=\"none\" stroke=\"black\" d=\"M250,-49C267.39,-49 268.81,-64.7 284.96,-65.92\"/>\n",
       "<ellipse fill=\"black\" stroke=\"black\" cx=\"286\" cy=\"-65.96\" rx=\"1\" ry=\"1\"/>\n",
       "<text text-anchor=\"middle\" x=\"268.5\" y=\"-60\" font-family=\"Times,serif\" font-size=\"10.00\">n</text>\n",
       "</g>\n",
       "<!-- Free_G5 -->\n",
       "<g id=\"node6\" class=\"node\">\n",
       "<title>Free_G5</title>\n",
       "<polygon fill=\"none\" stroke=\"black\" points=\"287,-21 287,-38 317,-38 317,-21 287,-21\"/>\n",
       "<text text-anchor=\"start\" x=\"293\" y=\"-27\" font-family=\"Times,serif\" font-size=\"10.00\">Free</text>\n",
       "<polygon fill=\"none\" stroke=\"black\" points=\"287,0 287,-21 311,-21 311,0 287,0\"/>\n",
       "<text text-anchor=\"start\" x=\"290\" y=\"-6.8\" font-family=\"Times,serif\" font-size=\"14.00\">reg</text>\n",
       "<polygon fill=\"none\" stroke=\"black\" points=\"311,0 311,-21 317,-21 317,0 311,0\"/>\n",
       "</g>\n",
       "<!-- ECPhaseEstimateR_G2&#45;&gt;Free_G5 -->\n",
       "<g id=\"edge6\" class=\"edge\">\n",
       "<title>ECPhaseEstimateR_G2:e-&gt;Free_G5:w</title>\n",
       "<path fill=\"none\" stroke=\"black\" d=\"M250,-27C267.39,-27 268.81,-11.3 284.96,-10.08\"/>\n",
       "<ellipse fill=\"black\" stroke=\"black\" cx=\"286\" cy=\"-10.04\" rx=\"1\" ry=\"1\"/>\n",
       "<text text-anchor=\"middle\" x=\"268.5\" y=\"-22\" font-family=\"Times,serif\" font-size=\"10.00\">n</text>\n",
       "</g>\n",
       "</g>\n",
       "</svg>"
      ],
      "text/plain": [
       "<IPython.core.display.SVG object>"
      ]
     },
     "metadata": {},
     "output_type": "display_data"
    }
   ],
   "source": [
    "show_bloq(ecc.decompose_bloq())"
   ]
  },
  {
   "cell_type": "markdown",
   "id": "fff25268",
   "metadata": {
    "cq.autogen": "ECPhaseEstimateR.bloq_doc.md"
   },
   "source": [
    "## `ECPhaseEstimateR`\n",
    "Perform a single phase estimation of ECAddR for a given point.\n",
    "\n",
    "This is used as a subroutine in `FindECCPrivateKey`. First, we phase-estimate the\n",
    "addition of the base point $P$, then of the public key $Q$.\n",
    "\n",
    "#### Parameters\n",
    " - `n`: The bitsize of the elliptic curve points' x and y registers.\n",
    " - `point`: The elliptic curve point to phase estimate against.\n"
   ]
  },
  {
   "cell_type": "code",
   "execution_count": 8,
   "id": "5220a4ad",
   "metadata": {
    "cq.autogen": "ECPhaseEstimateR.bloq_doc.py"
   },
   "outputs": [],
   "source": [
    "from qualtran.bloqs.factoring.ecc import ECPhaseEstimateR"
   ]
  },
  {
   "cell_type": "markdown",
   "id": "f3421d38",
   "metadata": {
    "cq.autogen": "ECPhaseEstimateR.example_instances.md"
   },
   "source": [
    "### Example Instances"
   ]
  },
  {
   "cell_type": "code",
   "execution_count": 9,
   "id": "17642453",
   "metadata": {
    "cq.autogen": "ECPhaseEstimateR.ec_pe"
   },
   "outputs": [],
   "source": [
    "n, p = sympy.symbols('n p ')\n",
    "Rx, Ry = sympy.symbols('R_x R_y')\n",
    "ec_pe = ECPhaseEstimateR(n=n, point=ECPoint(Rx, Ry, mod=p))"
   ]
  },
  {
   "cell_type": "markdown",
   "id": "33824ce4",
   "metadata": {
    "cq.autogen": "ECPhaseEstimateR.graphical_signature.md"
   },
   "source": [
    "#### Graphical Signature"
   ]
  },
  {
   "cell_type": "code",
   "execution_count": 10,
   "id": "528b7d0e",
   "metadata": {
    "cq.autogen": "ECPhaseEstimateR.graphical_signature.py"
   },
   "outputs": [
    {
     "data": {
      "application/vnd.jupyter.widget-view+json": {
       "model_id": "6fce832eab774386a3cf87484e27832b",
       "version_major": 2,
       "version_minor": 0
      },
      "text/plain": [
       "HBox(children=(Output(outputs=({'output_type': 'display_data', 'data': {'text/plain': '<IPython.core.display.M…"
      ]
     },
     "metadata": {},
     "output_type": "display_data"
    }
   ],
   "source": [
    "from qualtran.drawing import show_bloqs\n",
    "show_bloqs([ec_pe],\n",
    "           ['`ec_pe`'])"
   ]
  },
  {
   "cell_type": "markdown",
   "id": "38b665f4",
   "metadata": {
    "cq.autogen": "ECPhaseEstimateR.call_graph.md"
   },
   "source": [
    "### Call Graph"
   ]
  },
  {
   "cell_type": "code",
   "execution_count": 11,
   "id": "9ce3d4df",
   "metadata": {
    "cq.autogen": "ECPhaseEstimateR.call_graph.py"
   },
   "outputs": [
    {
     "data": {
      "image/svg+xml": [
       "<svg xmlns=\"http://www.w3.org/2000/svg\" xmlns:xlink=\"http://www.w3.org/1999/xlink\" width=\"246pt\" height=\"131pt\" viewBox=\"0.00 0.00 246.00 131.00\">\n",
       "<g id=\"graph0\" class=\"graph\" transform=\"scale(1 1) rotate(0) translate(4 127)\">\n",
       "<title>counts</title>\n",
       "<polygon fill=\"white\" stroke=\"transparent\" points=\"-4,4 -4,-127 242,-127 242,4 -4,4\"/>\n",
       "<!-- b0 -->\n",
       "<g id=\"node1\" class=\"node\">\n",
       "<title>b0</title>\n",
       "<polygon fill=\"none\" stroke=\"black\" points=\"207,-123 52,-123 52,-87 207,-87 207,-123\"/>\n",
       "<text text-anchor=\"start\" x=\"84\" y=\"-106.8\" font-family=\"Times,serif\" font-size=\"14.00\">PE$(R_x, R_y)$</text>\n",
       "<text text-anchor=\"start\" x=\"60\" y=\"-96\" font-family=\"monospace\" font-size=\"10.00\">n=n, point=ECPoint( ...</text>\n",
       "</g>\n",
       "<!-- b1 -->\n",
       "<g id=\"node2\" class=\"node\">\n",
       "<title>b1</title>\n",
       "<polygon fill=\"none\" stroke=\"black\" points=\"131,-36 0,-36 0,0 131,0 131,-36\"/>\n",
       "<text text-anchor=\"start\" x=\"40.5\" y=\"-19.8\" font-family=\"Times,serif\" font-size=\"14.00\">ECAddR</text>\n",
       "<text text-anchor=\"start\" x=\"8\" y=\"-9\" font-family=\"monospace\" font-size=\"10.00\">n=n, R=ECPoint( ...</text>\n",
       "</g>\n",
       "<!-- b0&#45;&gt;b1 -->\n",
       "<g id=\"edge1\" class=\"edge\">\n",
       "<title>b0-&gt;b1</title>\n",
       "<path fill=\"none\" stroke=\"black\" d=\"M116.55,-86.8C107.35,-74.59 94.86,-57.99 84.53,-44.28\"/>\n",
       "<polygon fill=\"black\" stroke=\"black\" points=\"87.24,-42.06 78.43,-36.18 81.65,-46.27 87.24,-42.06\"/>\n",
       "<text text-anchor=\"middle\" x=\"105\" y=\"-57.8\" font-family=\"Times,serif\" font-size=\"14.00\">n</text>\n",
       "</g>\n",
       "<!-- b2 -->\n",
       "<g id=\"node3\" class=\"node\">\n",
       "<title>b2</title>\n",
       "<polygon fill=\"none\" stroke=\"black\" points=\"238,-36 149,-36 149,0 238,0 238,-36\"/>\n",
       "<text text-anchor=\"start\" x=\"157\" y=\"-19.8\" font-family=\"Times,serif\" font-size=\"14.00\">MeasureQFT</text>\n",
       "<text text-anchor=\"start\" x=\"184\" y=\"-9\" font-family=\"monospace\" font-size=\"10.00\">n=n</text>\n",
       "</g>\n",
       "<!-- b0&#45;&gt;b2 -->\n",
       "<g id=\"edge2\" class=\"edge\">\n",
       "<title>b0-&gt;b2</title>\n",
       "<path fill=\"none\" stroke=\"black\" d=\"M142.45,-86.8C151.65,-74.59 164.14,-57.99 174.47,-44.28\"/>\n",
       "<polygon fill=\"black\" stroke=\"black\" points=\"177.35,-46.27 180.57,-36.18 171.76,-42.06 177.35,-46.27\"/>\n",
       "<text text-anchor=\"middle\" x=\"168\" y=\"-57.8\" font-family=\"Times,serif\" font-size=\"14.00\">1</text>\n",
       "</g>\n",
       "</g>\n",
       "</svg>"
      ],
      "text/plain": [
       "<IPython.core.display.SVG object>"
      ]
     },
     "metadata": {},
     "output_type": "display_data"
    },
    {
     "data": {
      "text/markdown": [
       "#### Counts totals:\n",
       " - `ECAddR`: $\\displaystyle n$\n",
       " - `MeasureQFT`: 1"
      ],
      "text/plain": [
       "<IPython.core.display.Markdown object>"
      ]
     },
     "metadata": {},
     "output_type": "display_data"
    }
   ],
   "source": [
    "from qualtran.resource_counting.generalizers import ignore_split_join\n",
    "ec_pe_g, ec_pe_sigma = ec_pe.call_graph(max_depth=1, generalizer=ignore_split_join)\n",
    "show_call_graph(ec_pe_g)\n",
    "show_counts_sigma(ec_pe_sigma)"
   ]
  },
  {
   "cell_type": "markdown",
   "id": "fe222fde",
   "metadata": {
    "cq.autogen": "ECAddR.bloq_doc.md"
   },
   "source": [
    "## `ECAddR`\n",
    "Perform elliptic curve addition of constant `R`.\n",
    "\n",
    "Given the constant elliptic curve point $R$ and an input point $A$\n",
    "factored into the `x` and `y` registers such that $|A\\rangle = |(a_x,a_y)\\rangle$,\n",
    "this bloq takes\n",
    "\n",
    "$$\n",
    "|A\\rangle \\rightarrow |A+R\\rangle\n",
    "$$\n",
    "\n",
    "#### Parameters\n",
    " - `n`: The bitsize of the two registers storing the elliptic curve point.\n",
    " - `R`: The elliptic curve point to add. \n",
    "\n",
    "#### Registers\n",
    " - `ctrl`: A control bit.\n",
    " - `x`: The x component of the input elliptic curve point of bitsize `n`.\n",
    " - `y`: The y component of the input elliptic curve point of bitsize `n`. \n",
    "\n",
    "#### References\n",
    " - [How to compute a 256-bit elliptic curve private key with only 50 million Toffoli gates](https://arxiv.org/abs/2306.08585). Litinski. 2023. Section 1, eq. (3) and (4).\n",
    " - [Quantum resource estimates for computing elliptic curve discrete logarithms](https://arxiv.org/abs/1706.06752). Roetteler et. al. 2017. Algorithm 1 and Figure 10.\n",
    " - [https://github.com/microsoft/QuantumEllipticCurves/blob/dbf4836afaf7a9fab813cbc0970e65af85a6f93a/MicrosoftQuantumCrypto/EllipticCurves.qs#L456](QuantumQuantumCrypto). `DistinctEllipticCurveClassicalPointAddition`.\n"
   ]
  },
  {
   "cell_type": "code",
   "execution_count": 12,
   "id": "757bfce9",
   "metadata": {
    "cq.autogen": "ECAddR.bloq_doc.py"
   },
   "outputs": [],
   "source": [
    "from qualtran.bloqs.factoring.ecc import ECAddR"
   ]
  },
  {
   "cell_type": "markdown",
   "id": "999b9be2",
   "metadata": {
    "cq.autogen": "ECAddR.example_instances.md"
   },
   "source": [
    "### Example Instances"
   ]
  },
  {
   "cell_type": "code",
   "execution_count": 13,
   "id": "2336e803",
   "metadata": {
    "cq.autogen": "ECAddR.ec_add_r"
   },
   "outputs": [],
   "source": [
    "n, p, Rx, Ry = sympy.symbols('n p R_x R_y')\n",
    "ec_add_r = ECAddR(n=n, R=ECPoint(Rx, Ry, mod=p))"
   ]
  },
  {
   "cell_type": "code",
   "execution_count": 14,
   "id": "322c447d",
   "metadata": {
    "cq.autogen": "ECAddR.ec_add_r_small"
   },
   "outputs": [],
   "source": [
    "n = 5  # fits our mod = 17\n",
    "P = ECPoint(15, 13, mod=17, curve_a=0)\n",
    "ec_add_r_small = ECAddR(n=n, R=P)"
   ]
  },
  {
   "cell_type": "markdown",
   "id": "abe24e4e",
   "metadata": {
    "cq.autogen": "ECAddR.graphical_signature.md"
   },
   "source": [
    "#### Graphical Signature"
   ]
  },
  {
   "cell_type": "code",
   "execution_count": 15,
   "id": "5422be2d",
   "metadata": {
    "cq.autogen": "ECAddR.graphical_signature.py"
   },
   "outputs": [
    {
     "data": {
      "application/vnd.jupyter.widget-view+json": {
       "model_id": "542e135121544503ba38c9b0d9b7b655",
       "version_major": 2,
       "version_minor": 0
      },
      "text/plain": [
       "HBox(children=(Output(outputs=({'output_type': 'display_data', 'data': {'text/plain': '<IPython.core.display.M…"
      ]
     },
     "metadata": {},
     "output_type": "display_data"
    }
   ],
   "source": [
    "from qualtran.drawing import show_bloqs\n",
    "show_bloqs([ec_add_r, ec_add_r_small],\n",
    "           ['`ec_add_r`', '`ec_add_r_small`'])"
   ]
  },
  {
   "cell_type": "markdown",
   "id": "c4db715e",
   "metadata": {
    "cq.autogen": "ECAddR.call_graph.md"
   },
   "source": [
    "### Call Graph"
   ]
  },
  {
   "cell_type": "code",
   "execution_count": 16,
   "id": "bd38ad5f",
   "metadata": {
    "cq.autogen": "ECAddR.call_graph.py"
   },
   "outputs": [
    {
     "data": {
      "image/svg+xml": [
       "<svg xmlns=\"http://www.w3.org/2000/svg\" xmlns:xlink=\"http://www.w3.org/1999/xlink\" width=\"139pt\" height=\"44pt\" viewBox=\"0.00 0.00 139.00 44.00\">\n",
       "<g id=\"graph0\" class=\"graph\" transform=\"scale(1 1) rotate(0) translate(4 40)\">\n",
       "<title>counts</title>\n",
       "<polygon fill=\"white\" stroke=\"transparent\" points=\"-4,4 -4,-40 135,-40 135,4 -4,4\"/>\n",
       "<!-- b0 -->\n",
       "<g id=\"node1\" class=\"node\">\n",
       "<title>b0</title>\n",
       "<polygon fill=\"none\" stroke=\"black\" points=\"131,-36 0,-36 0,0 131,0 131,-36\"/>\n",
       "<text text-anchor=\"start\" x=\"40.5\" y=\"-19.8\" font-family=\"Times,serif\" font-size=\"14.00\">ECAddR</text>\n",
       "<text text-anchor=\"start\" x=\"8\" y=\"-9\" font-family=\"monospace\" font-size=\"10.00\">n=n, R=ECPoint( ...</text>\n",
       "</g>\n",
       "</g>\n",
       "</svg>"
      ],
      "text/plain": [
       "<IPython.core.display.SVG object>"
      ]
     },
     "metadata": {},
     "output_type": "display_data"
    },
    {
     "data": {
      "text/markdown": [
       "#### Counts totals:\n",
       " - `ECAddR`: 1"
      ],
      "text/plain": [
       "<IPython.core.display.Markdown object>"
      ]
     },
     "metadata": {},
     "output_type": "display_data"
    }
   ],
   "source": [
    "from qualtran.resource_counting.generalizers import ignore_split_join\n",
    "ec_add_r_g, ec_add_r_sigma = ec_add_r.call_graph(max_depth=1, generalizer=ignore_split_join)\n",
    "show_call_graph(ec_add_r_g)\n",
    "show_counts_sigma(ec_add_r_sigma)"
   ]
  },
  {
   "cell_type": "code",
   "execution_count": 17,
   "id": "35d9dc15-7a16-4aeb-9f1a-a5e7a14461ba",
   "metadata": {},
   "outputs": [
    {
     "name": "stdout",
     "output_type": "stream",
     "text": [
      "+[ 1] P  ->  ( 2, 10)\n",
      "+[ 2] P  ->  ( 8,  3)\n",
      "+[ 3] P  ->  (12,  1)\n",
      "+[ 4] P  ->  ( 6,  6)\n",
      "+[ 5] P  ->  ( 5,  8)\n",
      "+[ 6] P  ->  (10, 15)\n",
      "+[ 7] P  ->  ( 1, 12)\n",
      "+[ 8] P  ->  ( 3,  0)\n",
      "+[ 9] P  ->  ( 1,  5)\n",
      "+[10] P  ->  (10,  2)\n",
      "+[11] P  ->  ( 5,  9)\n",
      "+[12] P  ->  ( 6, 11)\n",
      "+[13] P  ->  (12, 16)\n",
      "+[14] P  ->  ( 8, 14)\n",
      "+[15] P  ->  ( 2,  7)\n",
      "+[16] P  ->  (15,  4)\n",
      "+[17] P  ->  ( 0,  0)\n",
      "+[18] P  ->  (15, 13)\n",
      "+[19] P  ->  ( 2, 10)\n",
      "+[20] P  ->  ( 8,  3)\n"
     ]
    }
   ],
   "source": [
    "for j in range(1, 20+1):\n",
    "    bloq = ECAddR(n=5, R=j*P)\n",
    "    ctrl, x, y = bloq.call_classically(ctrl=1, x=P.x, y=P.y)\n",
    "    print(f'+[{j:2d}] P  ->  ({x:2d}, {y:2d})')"
   ]
  },
  {
   "cell_type": "markdown",
   "id": "72c1ad66",
   "metadata": {
    "cq.autogen": "ECWindowAddR.bloq_doc.md"
   },
   "source": [
    "## `ECWindowAddR`\n",
    "Perform elliptic curve addition of many multiples of constant `R`.\n",
    "\n",
    "This adds R, 2R, ... 2^window_size into the register.\n",
    "\n",
    "#### Parameters\n",
    " - `n`: The bitsize of the two registers storing the elliptic curve point\n",
    " - `window_size`: The number of bits in the window.\n",
    " - `R`: The elliptic curve point to add. \n",
    "\n",
    "#### Registers\n",
    " - `ctrl`: `window_size` control bits.\n",
    " - `x`: The x component of the input elliptic curve point of bitsize `n`.\n",
    " - `y`: The y component of the input elliptic curve point of bitsize `n`. \n",
    "\n",
    "#### References\n",
    " - [How to compute a 256-bit elliptic curve private key with only 50 million Toffoli gates](https://arxiv.org/abs/2306.08585). Litinski. 2013. Section 1, eq. (3) and (4).\n"
   ]
  },
  {
   "cell_type": "code",
   "execution_count": 18,
   "id": "289623e8",
   "metadata": {
    "cq.autogen": "ECWindowAddR.bloq_doc.py"
   },
   "outputs": [],
   "source": [
    "from qualtran.bloqs.factoring.ecc import ECWindowAddR"
   ]
  },
  {
   "cell_type": "markdown",
   "id": "dd6c7d57",
   "metadata": {
    "cq.autogen": "ECWindowAddR.example_instances.md"
   },
   "source": [
    "### Example Instances"
   ]
  },
  {
   "cell_type": "code",
   "execution_count": 19,
   "id": "e1a3a397",
   "metadata": {
    "cq.autogen": "ECWindowAddR.ec_window_add"
   },
   "outputs": [],
   "source": [
    "n, p = sympy.symbols('n p')\n",
    "Rx, Ry = sympy.symbols('Rx Ry')\n",
    "ec_window_add = ECWindowAddR(n=n, window_size=3, R=ECPoint(Rx, Ry, mod=p))"
   ]
  },
  {
   "cell_type": "markdown",
   "id": "dafa7d88",
   "metadata": {
    "cq.autogen": "ECWindowAddR.graphical_signature.md"
   },
   "source": [
    "#### Graphical Signature"
   ]
  },
  {
   "cell_type": "code",
   "execution_count": 20,
   "id": "39be6000",
   "metadata": {
    "cq.autogen": "ECWindowAddR.graphical_signature.py"
   },
   "outputs": [
    {
     "data": {
      "application/vnd.jupyter.widget-view+json": {
       "model_id": "dbdd8545b7b54aba8d078949bafdceaa",
       "version_major": 2,
       "version_minor": 0
      },
      "text/plain": [
       "HBox(children=(Output(outputs=({'output_type': 'display_data', 'data': {'text/plain': '<IPython.core.display.M…"
      ]
     },
     "metadata": {},
     "output_type": "display_data"
    }
   ],
   "source": [
    "from qualtran.drawing import show_bloqs\n",
    "show_bloqs([ec_window_add],\n",
    "           ['`ec_window_add`'])"
   ]
  },
  {
   "cell_type": "markdown",
   "id": "a923ec58",
   "metadata": {
    "cq.autogen": "ECWindowAddR.call_graph.md"
   },
   "source": [
    "### Call Graph"
   ]
  },
  {
   "cell_type": "code",
   "execution_count": 21,
   "id": "eea0704c",
   "metadata": {
    "cq.autogen": "ECWindowAddR.call_graph.py"
   },
   "outputs": [
    {
     "data": {
      "image/svg+xml": [
       "<svg xmlns=\"http://www.w3.org/2000/svg\" xmlns:xlink=\"http://www.w3.org/1999/xlink\" width=\"229pt\" height=\"44pt\" viewBox=\"0.00 0.00 229.00 44.00\">\n",
       "<g id=\"graph0\" class=\"graph\" transform=\"scale(1 1) rotate(0) translate(4 40)\">\n",
       "<title>counts</title>\n",
       "<polygon fill=\"white\" stroke=\"transparent\" points=\"-4,4 -4,-40 225,-40 225,4 -4,4\"/>\n",
       "<!-- b0 -->\n",
       "<g id=\"node1\" class=\"node\">\n",
       "<title>b0</title>\n",
       "<polygon fill=\"none\" stroke=\"black\" points=\"221,-36 0,-36 0,0 221,0 221,-36\"/>\n",
       "<text text-anchor=\"start\" x=\"35\" y=\"-19.8\" font-family=\"Times,serif\" font-size=\"14.00\">ECWindowAddR(self.n=n)</text>\n",
       "<text text-anchor=\"start\" x=\"8\" y=\"-9\" font-family=\"monospace\" font-size=\"10.00\">n=n, window_size=3, R=ECPoint( ...</text>\n",
       "</g>\n",
       "</g>\n",
       "</svg>"
      ],
      "text/plain": [
       "<IPython.core.display.SVG object>"
      ]
     },
     "metadata": {},
     "output_type": "display_data"
    },
    {
     "data": {
      "text/markdown": [
       "#### Counts totals:\n",
       " - `ECWindowAddR(self.n=n)`: 1"
      ],
      "text/plain": [
       "<IPython.core.display.Markdown object>"
      ]
     },
     "metadata": {},
     "output_type": "display_data"
    }
   ],
   "source": [
    "from qualtran.resource_counting.generalizers import ignore_split_join\n",
    "ec_window_add_g, ec_window_add_sigma = ec_window_add.call_graph(max_depth=1, generalizer=ignore_split_join)\n",
    "show_call_graph(ec_window_add_g)\n",
    "show_counts_sigma(ec_window_add_sigma)"
   ]
  }
 ],
 "metadata": {
  "kernelspec": {
   "display_name": "Python 3 (ipykernel)",
   "language": "python",
   "name": "python3"
  },
  "language_info": {
   "codemirror_mode": {
    "name": "ipython",
    "version": 3
   },
   "file_extension": ".py",
   "mimetype": "text/x-python",
   "name": "python",
   "nbconvert_exporter": "python",
   "pygments_lexer": "ipython3",
   "version": "3.11.8"
  },
  "widgets": {
   "application/vnd.jupyter.widget-state+json": {
    "state": {
     "05a0ac7e64ed4f48984ab6c33ae7de4d": {
      "model_module": "@jupyter-widgets/output",
      "model_module_version": "1.0.0",
      "model_name": "OutputModel",
      "state": {
       "_dom_classes": [],
       "_model_module": "@jupyter-widgets/output",
       "_model_module_version": "1.0.0",
       "_model_name": "OutputModel",
       "_view_count": null,
       "_view_module": "@jupyter-widgets/output",
       "_view_module_version": "1.0.0",
       "_view_name": "OutputView",
       "layout": "IPY_MODEL_b9c9fabf14a047a6ab8db6fad0556b01",
       "msg_id": "",
       "outputs": [
        {
         "data": {
          "text/markdown": "`ec_add_r`",
          "text/plain": "<IPython.core.display.Markdown object>"
         },
         "metadata": {},
         "output_type": "display_data"
        },
        {
         "data": {
          "image/svg+xml": "<svg xmlns=\"http://www.w3.org/2000/svg\" xmlns:xlink=\"http://www.w3.org/1999/xlink\" width=\"234pt\" height=\"152pt\" viewBox=\"0.00 0.00 234.00 152.00\">\n<g id=\"graph0\" class=\"graph\" transform=\"scale(1 1) rotate(0) translate(4 148)\">\n<title>my_graph</title>\n<polygon fill=\"white\" stroke=\"transparent\" points=\"-4,4 -4,-148 230,-148 230,4 -4,4\"/>\n<!-- ctrl_G8 -->\n<g id=\"node1\" class=\"node\">\n<title>ctrl_G8</title>\n<text text-anchor=\"middle\" x=\"27\" y=\"-122.3\" font-family=\"Times,serif\" font-size=\"14.00\">ctrl</text>\n</g>\n<!-- ECAddR -->\n<g id=\"node4\" class=\"node\">\n<title>ECAddR</title>\n<polygon fill=\"none\" stroke=\"black\" points=\"91,-104 91,-121 135,-121 135,-104 91,-104\"/>\n<text text-anchor=\"start\" x=\"94\" y=\"-110\" font-family=\"Times,serif\" font-size=\"10.00\">ECAddR</text>\n<polygon fill=\"none\" stroke=\"black\" points=\"91,-83 91,-104 135,-104 135,-83 91,-83\"/>\n<text text-anchor=\"start\" x=\"103.5\" y=\"-89.8\" font-family=\"Times,serif\" font-size=\"14.00\">ctrl</text>\n<polygon fill=\"none\" stroke=\"black\" points=\"91,-62 91,-83 135,-83 135,-62 91,-62\"/>\n<text text-anchor=\"start\" x=\"109.5\" y=\"-68.8\" font-family=\"Times,serif\" font-size=\"14.00\">x</text>\n<polygon fill=\"none\" stroke=\"black\" points=\"91,-41 91,-62 135,-62 135,-41 91,-41\"/>\n<text text-anchor=\"start\" x=\"109.5\" y=\"-47.8\" font-family=\"Times,serif\" font-size=\"14.00\">y</text>\n</g>\n<!-- ctrl_G8&#45;&gt;ECAddR -->\n<g id=\"edge1\" class=\"edge\">\n<title>ctrl_G8:e-&gt;ECAddR:w</title>\n<path fill=\"none\" stroke=\"black\" d=\"M54,-126C74.89,-126 69.72,-96.45 88.58,-94.14\"/>\n<ellipse fill=\"black\" stroke=\"black\" cx=\"90\" cy=\"-94.06\" rx=\"1\" ry=\"1\"/>\n<text text-anchor=\"middle\" x=\"72.5\" y=\"-113\" font-family=\"Times,serif\" font-size=\"10.00\">1</text>\n</g>\n<!-- x_G5 -->\n<g id=\"node2\" class=\"node\">\n<title>x_G5</title>\n<text text-anchor=\"middle\" x=\"27\" y=\"-68.3\" font-family=\"Times,serif\" font-size=\"14.00\">x</text>\n</g>\n<!-- x_G5&#45;&gt;ECAddR -->\n<g id=\"edge2\" class=\"edge\">\n<title>x_G5:e-&gt;ECAddR:w</title>\n<path fill=\"none\" stroke=\"black\" d=\"M54,-72C69.67,-72 74.14,-72 88.77,-72\"/>\n<ellipse fill=\"black\" stroke=\"black\" cx=\"90\" cy=\"-72\" rx=\"1\" ry=\"1\"/>\n<text text-anchor=\"middle\" x=\"72.5\" y=\"-75\" font-family=\"Times,serif\" font-size=\"10.00\">n</text>\n</g>\n<!-- y_G2 -->\n<g id=\"node3\" class=\"node\">\n<title>y_G2</title>\n<text text-anchor=\"middle\" x=\"27\" y=\"-14.3\" font-family=\"Times,serif\" font-size=\"14.00\">y</text>\n</g>\n<!-- y_G2&#45;&gt;ECAddR -->\n<g id=\"edge3\" class=\"edge\">\n<title>y_G2:e-&gt;ECAddR:w</title>\n<path fill=\"none\" stroke=\"black\" d=\"M54,-18C75.17,-18 69.47,-48.47 88.55,-50.85\"/>\n<ellipse fill=\"black\" stroke=\"black\" cx=\"90\" cy=\"-50.94\" rx=\"1\" ry=\"1\"/>\n<text text-anchor=\"middle\" x=\"72.5\" y=\"-39\" font-family=\"Times,serif\" font-size=\"10.00\">n</text>\n</g>\n<!-- ctrl_G7 -->\n<g id=\"node5\" class=\"node\">\n<title>ctrl_G7</title>\n<text text-anchor=\"middle\" x=\"199\" y=\"-122.3\" font-family=\"Times,serif\" font-size=\"14.00\">ctrl</text>\n</g>\n<!-- ECAddR&#45;&gt;ctrl_G7 -->\n<g id=\"edge4\" class=\"edge\">\n<title>ECAddR:e-&gt;ctrl_G7:w</title>\n<path fill=\"none\" stroke=\"black\" d=\"M135,-94C155.89,-94 150.72,-123.55 169.58,-125.86\"/>\n<ellipse fill=\"black\" stroke=\"black\" cx=\"171\" cy=\"-125.94\" rx=\"1\" ry=\"1\"/>\n<text text-anchor=\"middle\" x=\"153.5\" y=\"-113\" font-family=\"Times,serif\" font-size=\"10.00\">1</text>\n</g>\n<!-- x_G4 -->\n<g id=\"node6\" class=\"node\">\n<title>x_G4</title>\n<text text-anchor=\"middle\" x=\"199\" y=\"-68.3\" font-family=\"Times,serif\" font-size=\"14.00\">x</text>\n</g>\n<!-- ECAddR&#45;&gt;x_G4 -->\n<g id=\"edge5\" class=\"edge\">\n<title>ECAddR:e-&gt;x_G4:w</title>\n<path fill=\"none\" stroke=\"black\" d=\"M135,-72C150.67,-72 155.14,-72 169.77,-72\"/>\n<ellipse fill=\"black\" stroke=\"black\" cx=\"171\" cy=\"-72\" rx=\"1\" ry=\"1\"/>\n<text text-anchor=\"middle\" x=\"153.5\" y=\"-75\" font-family=\"Times,serif\" font-size=\"10.00\">n</text>\n</g>\n<!-- y_G6 -->\n<g id=\"node7\" class=\"node\">\n<title>y_G6</title>\n<text text-anchor=\"middle\" x=\"199\" y=\"-14.3\" font-family=\"Times,serif\" font-size=\"14.00\">y</text>\n</g>\n<!-- ECAddR&#45;&gt;y_G6 -->\n<g id=\"edge6\" class=\"edge\">\n<title>ECAddR:e-&gt;y_G6:w</title>\n<path fill=\"none\" stroke=\"black\" d=\"M135,-51C156.17,-51 150.47,-20.53 169.55,-18.15\"/>\n<ellipse fill=\"black\" stroke=\"black\" cx=\"171\" cy=\"-18.06\" rx=\"1\" ry=\"1\"/>\n<text text-anchor=\"middle\" x=\"153.5\" y=\"-39\" font-family=\"Times,serif\" font-size=\"10.00\">n</text>\n</g>\n</g>\n</svg>",
          "text/plain": "<IPython.core.display.SVG object>"
         },
         "metadata": {},
         "output_type": "display_data"
        }
       ],
       "tabbable": null,
       "tooltip": null
      }
     },
     "0c79b164a9794e6396745b2a24a7e678": {
      "model_module": "@jupyter-widgets/base",
      "model_module_version": "2.0.0",
      "model_name": "LayoutModel",
      "state": {
       "_model_module": "@jupyter-widgets/base",
       "_model_module_version": "2.0.0",
       "_model_name": "LayoutModel",
       "_view_count": null,
       "_view_module": "@jupyter-widgets/base",
       "_view_module_version": "2.0.0",
       "_view_name": "LayoutView",
       "align_content": null,
       "align_items": null,
       "align_self": null,
       "border_bottom": null,
       "border_left": null,
       "border_right": null,
       "border_top": null,
       "bottom": null,
       "display": null,
       "flex": null,
       "flex_flow": null,
       "grid_area": null,
       "grid_auto_columns": null,
       "grid_auto_flow": null,
       "grid_auto_rows": null,
       "grid_column": null,
       "grid_gap": null,
       "grid_row": null,
       "grid_template_areas": null,
       "grid_template_columns": null,
       "grid_template_rows": null,
       "height": null,
       "justify_content": null,
       "justify_items": null,
       "left": null,
       "margin": null,
       "max_height": null,
       "max_width": null,
       "min_height": null,
       "min_width": null,
       "object_fit": null,
       "object_position": null,
       "order": null,
       "overflow": null,
       "padding": null,
       "right": null,
       "top": null,
       "visibility": null,
       "width": null
      }
     },
     "398f8367f6604557824029e58fb1f5d3": {
      "model_module": "@jupyter-widgets/output",
      "model_module_version": "1.0.0",
      "model_name": "OutputModel",
      "state": {
       "_dom_classes": [],
       "_model_module": "@jupyter-widgets/output",
       "_model_module_version": "1.0.0",
       "_model_name": "OutputModel",
       "_view_count": null,
       "_view_module": "@jupyter-widgets/output",
       "_view_module_version": "1.0.0",
       "_view_name": "OutputView",
       "layout": "IPY_MODEL_67f3b28663d54e00acfdabc0b6178a1c",
       "msg_id": "",
       "outputs": [
        {
         "data": {
          "text/markdown": "`ec_pe`",
          "text/plain": "<IPython.core.display.Markdown object>"
         },
         "metadata": {},
         "output_type": "display_data"
        },
        {
         "data": {
          "image/svg+xml": "<svg xmlns=\"http://www.w3.org/2000/svg\" xmlns:xlink=\"http://www.w3.org/1999/xlink\" width=\"263pt\" height=\"98pt\" viewBox=\"0.00 0.00 263.00 98.00\">\n<g id=\"graph0\" class=\"graph\" transform=\"scale(1 1) rotate(0) translate(4 94)\">\n<title>my_graph</title>\n<polygon fill=\"white\" stroke=\"transparent\" points=\"-4,4 -4,-94 259,-94 259,4 -4,4\"/>\n<!-- x_G2 -->\n<g id=\"node1\" class=\"node\">\n<title>x_G2</title>\n<text text-anchor=\"middle\" x=\"27\" y=\"-68.3\" font-family=\"Times,serif\" font-size=\"14.00\">x</text>\n</g>\n<!-- ECPhaseEstimateR -->\n<g id=\"node3\" class=\"node\">\n<title>ECPhaseEstimateR</title>\n<polygon fill=\"none\" stroke=\"black\" points=\"91.5,-66 91.5,-83 164.5,-83 164.5,-66 91.5,-66\"/>\n<text text-anchor=\"start\" x=\"94.5\" y=\"-72\" font-family=\"Times,serif\" font-size=\"10.00\">PE$(R_x, R_y)$</text>\n<polygon fill=\"none\" stroke=\"black\" points=\"91.5,-45 91.5,-66 164.5,-66 164.5,-45 91.5,-45\"/>\n<text text-anchor=\"start\" x=\"124.5\" y=\"-51.8\" font-family=\"Times,serif\" font-size=\"14.00\">x</text>\n<polygon fill=\"none\" stroke=\"black\" points=\"91.5,-24 91.5,-45 164.5,-45 164.5,-24 91.5,-24\"/>\n<text text-anchor=\"start\" x=\"124.5\" y=\"-30.8\" font-family=\"Times,serif\" font-size=\"14.00\">y</text>\n</g>\n<!-- x_G2&#45;&gt;ECPhaseEstimateR -->\n<g id=\"edge1\" class=\"edge\">\n<title>x_G2:e-&gt;ECPhaseEstimateR:w</title>\n<path fill=\"none\" stroke=\"black\" d=\"M54,-72C71.22,-72 72.97,-57.23 88.98,-56.07\"/>\n<ellipse fill=\"black\" stroke=\"black\" cx=\"90\" cy=\"-56.04\" rx=\"1\" ry=\"1\"/>\n<text text-anchor=\"middle\" x=\"72.5\" y=\"-67\" font-family=\"Times,serif\" font-size=\"10.00\">n</text>\n</g>\n<!-- y_G4 -->\n<g id=\"node2\" class=\"node\">\n<title>y_G4</title>\n<text text-anchor=\"middle\" x=\"27\" y=\"-14.3\" font-family=\"Times,serif\" font-size=\"14.00\">y</text>\n</g>\n<!-- y_G4&#45;&gt;ECPhaseEstimateR -->\n<g id=\"edge2\" class=\"edge\">\n<title>y_G4:e-&gt;ECPhaseEstimateR:w</title>\n<path fill=\"none\" stroke=\"black\" d=\"M54,-18C71.22,-18 72.97,-32.77 88.98,-33.93\"/>\n<ellipse fill=\"black\" stroke=\"black\" cx=\"90\" cy=\"-33.96\" rx=\"1\" ry=\"1\"/>\n<text text-anchor=\"middle\" x=\"72.5\" y=\"-29\" font-family=\"Times,serif\" font-size=\"10.00\">n</text>\n</g>\n<!-- x_G0 -->\n<g id=\"node4\" class=\"node\">\n<title>x_G0</title>\n<text text-anchor=\"middle\" x=\"228\" y=\"-68.3\" font-family=\"Times,serif\" font-size=\"14.00\">x</text>\n</g>\n<!-- ECPhaseEstimateR&#45;&gt;x_G0 -->\n<g id=\"edge3\" class=\"edge\">\n<title>ECPhaseEstimateR:e-&gt;x_G0:w</title>\n<path fill=\"none\" stroke=\"black\" d=\"M164,-56C181.22,-56 182.97,-70.77 198.98,-71.93\"/>\n<ellipse fill=\"black\" stroke=\"black\" cx=\"200\" cy=\"-71.96\" rx=\"1\" ry=\"1\"/>\n<text text-anchor=\"middle\" x=\"182.5\" y=\"-67\" font-family=\"Times,serif\" font-size=\"10.00\">n</text>\n</g>\n<!-- y_G3 -->\n<g id=\"node5\" class=\"node\">\n<title>y_G3</title>\n<text text-anchor=\"middle\" x=\"228\" y=\"-14.3\" font-family=\"Times,serif\" font-size=\"14.00\">y</text>\n</g>\n<!-- ECPhaseEstimateR&#45;&gt;y_G3 -->\n<g id=\"edge4\" class=\"edge\">\n<title>ECPhaseEstimateR:e-&gt;y_G3:w</title>\n<path fill=\"none\" stroke=\"black\" d=\"M164,-34C181.22,-34 182.97,-19.23 198.98,-18.07\"/>\n<ellipse fill=\"black\" stroke=\"black\" cx=\"200\" cy=\"-18.04\" rx=\"1\" ry=\"1\"/>\n<text text-anchor=\"middle\" x=\"182.5\" y=\"-29\" font-family=\"Times,serif\" font-size=\"10.00\">n</text>\n</g>\n</g>\n</svg>",
          "text/plain": "<IPython.core.display.SVG object>"
         },
         "metadata": {},
         "output_type": "display_data"
        }
       ],
       "tabbable": null,
       "tooltip": null
      }
     },
     "51060e4c6b9842569a0d3fd6ac1764d1": {
      "model_module": "@jupyter-widgets/base",
      "model_module_version": "2.0.0",
      "model_name": "LayoutModel",
      "state": {
       "_model_module": "@jupyter-widgets/base",
       "_model_module_version": "2.0.0",
       "_model_name": "LayoutModel",
       "_view_count": null,
       "_view_module": "@jupyter-widgets/base",
       "_view_module_version": "2.0.0",
       "_view_name": "LayoutView",
       "align_content": null,
       "align_items": null,
       "align_self": null,
       "border_bottom": null,
       "border_left": null,
       "border_right": null,
       "border_top": null,
       "bottom": null,
       "display": null,
       "flex": null,
       "flex_flow": null,
       "grid_area": null,
       "grid_auto_columns": null,
       "grid_auto_flow": null,
       "grid_auto_rows": null,
       "grid_column": null,
       "grid_gap": null,
       "grid_row": null,
       "grid_template_areas": null,
       "grid_template_columns": null,
       "grid_template_rows": null,
       "height": null,
       "justify_content": null,
       "justify_items": null,
       "left": null,
       "margin": null,
       "max_height": null,
       "max_width": null,
       "min_height": null,
       "min_width": null,
       "object_fit": null,
       "object_position": null,
       "order": null,
       "overflow": null,
       "padding": null,
       "right": null,
       "top": null,
       "visibility": null,
       "width": null
      }
     },
     "542e135121544503ba38c9b0d9b7b655": {
      "model_module": "@jupyter-widgets/controls",
      "model_module_version": "2.0.0",
      "model_name": "HBoxModel",
      "state": {
       "_dom_classes": [],
       "_model_module": "@jupyter-widgets/controls",
       "_model_module_version": "2.0.0",
       "_model_name": "HBoxModel",
       "_view_count": null,
       "_view_module": "@jupyter-widgets/controls",
       "_view_module_version": "2.0.0",
       "_view_name": "HBoxView",
       "box_style": "",
       "children": [
        "IPY_MODEL_05a0ac7e64ed4f48984ab6c33ae7de4d",
        "IPY_MODEL_614141fc1130426a969383d26ea1d47a"
       ],
       "layout": "IPY_MODEL_c359593bd3544c678c32fd590851f4ad",
       "tabbable": null,
       "tooltip": null
      }
     },
     "558c3cc3553f4d25985fb1616b475e4d": {
      "model_module": "@jupyter-widgets/controls",
      "model_module_version": "2.0.0",
      "model_name": "HBoxModel",
      "state": {
       "_dom_classes": [],
       "_model_module": "@jupyter-widgets/controls",
       "_model_module_version": "2.0.0",
       "_model_name": "HBoxModel",
       "_view_count": null,
       "_view_module": "@jupyter-widgets/controls",
       "_view_module_version": "2.0.0",
       "_view_name": "HBoxView",
       "box_style": "",
       "children": [
        "IPY_MODEL_63d6e5fc6db84194a094eda552c4166d"
       ],
       "layout": "IPY_MODEL_e6eb8639c5a84b06a55029fe9f090208",
       "tabbable": null,
       "tooltip": null
      }
     },
     "614141fc1130426a969383d26ea1d47a": {
      "model_module": "@jupyter-widgets/output",
      "model_module_version": "1.0.0",
      "model_name": "OutputModel",
      "state": {
       "_dom_classes": [],
       "_model_module": "@jupyter-widgets/output",
       "_model_module_version": "1.0.0",
       "_model_name": "OutputModel",
       "_view_count": null,
       "_view_module": "@jupyter-widgets/output",
       "_view_module_version": "1.0.0",
       "_view_name": "OutputView",
       "layout": "IPY_MODEL_0c79b164a9794e6396745b2a24a7e678",
       "msg_id": "",
       "outputs": [
        {
         "data": {
          "text/markdown": "`ec_add_r_small`",
          "text/plain": "<IPython.core.display.Markdown object>"
         },
         "metadata": {},
         "output_type": "display_data"
        },
        {
         "data": {
          "image/svg+xml": "<svg xmlns=\"http://www.w3.org/2000/svg\" xmlns:xlink=\"http://www.w3.org/1999/xlink\" width=\"234pt\" height=\"152pt\" viewBox=\"0.00 0.00 234.00 152.00\">\n<g id=\"graph0\" class=\"graph\" transform=\"scale(1 1) rotate(0) translate(4 148)\">\n<title>my_graph</title>\n<polygon fill=\"white\" stroke=\"transparent\" points=\"-4,4 -4,-148 230,-148 230,4 -4,4\"/>\n<!-- ctrl_G3 -->\n<g id=\"node1\" class=\"node\">\n<title>ctrl_G3</title>\n<text text-anchor=\"middle\" x=\"27\" y=\"-122.3\" font-family=\"Times,serif\" font-size=\"14.00\">ctrl</text>\n</g>\n<!-- ECAddR -->\n<g id=\"node4\" class=\"node\">\n<title>ECAddR</title>\n<polygon fill=\"none\" stroke=\"black\" points=\"91,-104 91,-121 135,-121 135,-104 91,-104\"/>\n<text text-anchor=\"start\" x=\"94\" y=\"-110\" font-family=\"Times,serif\" font-size=\"10.00\">ECAddR</text>\n<polygon fill=\"none\" stroke=\"black\" points=\"91,-83 91,-104 135,-104 135,-83 91,-83\"/>\n<text text-anchor=\"start\" x=\"103.5\" y=\"-89.8\" font-family=\"Times,serif\" font-size=\"14.00\">ctrl</text>\n<polygon fill=\"none\" stroke=\"black\" points=\"91,-62 91,-83 135,-83 135,-62 91,-62\"/>\n<text text-anchor=\"start\" x=\"109.5\" y=\"-68.8\" font-family=\"Times,serif\" font-size=\"14.00\">x</text>\n<polygon fill=\"none\" stroke=\"black\" points=\"91,-41 91,-62 135,-62 135,-41 91,-41\"/>\n<text text-anchor=\"start\" x=\"109.5\" y=\"-47.8\" font-family=\"Times,serif\" font-size=\"14.00\">y</text>\n</g>\n<!-- ctrl_G3&#45;&gt;ECAddR -->\n<g id=\"edge1\" class=\"edge\">\n<title>ctrl_G3:e-&gt;ECAddR:w</title>\n<path fill=\"none\" stroke=\"black\" d=\"M54,-126C74.89,-126 69.72,-96.45 88.58,-94.14\"/>\n<ellipse fill=\"black\" stroke=\"black\" cx=\"90\" cy=\"-94.06\" rx=\"1\" ry=\"1\"/>\n<text text-anchor=\"middle\" x=\"72.5\" y=\"-113\" font-family=\"Times,serif\" font-size=\"10.00\">1</text>\n</g>\n<!-- x_G1 -->\n<g id=\"node2\" class=\"node\">\n<title>x_G1</title>\n<text text-anchor=\"middle\" x=\"27\" y=\"-68.3\" font-family=\"Times,serif\" font-size=\"14.00\">x</text>\n</g>\n<!-- x_G1&#45;&gt;ECAddR -->\n<g id=\"edge2\" class=\"edge\">\n<title>x_G1:e-&gt;ECAddR:w</title>\n<path fill=\"none\" stroke=\"black\" d=\"M54,-72C69.67,-72 74.14,-72 88.77,-72\"/>\n<ellipse fill=\"black\" stroke=\"black\" cx=\"90\" cy=\"-72\" rx=\"1\" ry=\"1\"/>\n<text text-anchor=\"middle\" x=\"72.5\" y=\"-75\" font-family=\"Times,serif\" font-size=\"10.00\">5</text>\n</g>\n<!-- y_G8 -->\n<g id=\"node3\" class=\"node\">\n<title>y_G8</title>\n<text text-anchor=\"middle\" x=\"27\" y=\"-14.3\" font-family=\"Times,serif\" font-size=\"14.00\">y</text>\n</g>\n<!-- y_G8&#45;&gt;ECAddR -->\n<g id=\"edge3\" class=\"edge\">\n<title>y_G8:e-&gt;ECAddR:w</title>\n<path fill=\"none\" stroke=\"black\" d=\"M54,-18C75.17,-18 69.47,-48.47 88.55,-50.85\"/>\n<ellipse fill=\"black\" stroke=\"black\" cx=\"90\" cy=\"-50.94\" rx=\"1\" ry=\"1\"/>\n<text text-anchor=\"middle\" x=\"72.5\" y=\"-39\" font-family=\"Times,serif\" font-size=\"10.00\">5</text>\n</g>\n<!-- ctrl_G7 -->\n<g id=\"node5\" class=\"node\">\n<title>ctrl_G7</title>\n<text text-anchor=\"middle\" x=\"199\" y=\"-122.3\" font-family=\"Times,serif\" font-size=\"14.00\">ctrl</text>\n</g>\n<!-- ECAddR&#45;&gt;ctrl_G7 -->\n<g id=\"edge4\" class=\"edge\">\n<title>ECAddR:e-&gt;ctrl_G7:w</title>\n<path fill=\"none\" stroke=\"black\" d=\"M135,-94C155.89,-94 150.72,-123.55 169.58,-125.86\"/>\n<ellipse fill=\"black\" stroke=\"black\" cx=\"171\" cy=\"-125.94\" rx=\"1\" ry=\"1\"/>\n<text text-anchor=\"middle\" x=\"153.5\" y=\"-113\" font-family=\"Times,serif\" font-size=\"10.00\">1</text>\n</g>\n<!-- x_G4 -->\n<g id=\"node6\" class=\"node\">\n<title>x_G4</title>\n<text text-anchor=\"middle\" x=\"199\" y=\"-68.3\" font-family=\"Times,serif\" font-size=\"14.00\">x</text>\n</g>\n<!-- ECAddR&#45;&gt;x_G4 -->\n<g id=\"edge5\" class=\"edge\">\n<title>ECAddR:e-&gt;x_G4:w</title>\n<path fill=\"none\" stroke=\"black\" d=\"M135,-72C150.67,-72 155.14,-72 169.77,-72\"/>\n<ellipse fill=\"black\" stroke=\"black\" cx=\"171\" cy=\"-72\" rx=\"1\" ry=\"1\"/>\n<text text-anchor=\"middle\" x=\"153.5\" y=\"-75\" font-family=\"Times,serif\" font-size=\"10.00\">5</text>\n</g>\n<!-- y_G2 -->\n<g id=\"node7\" class=\"node\">\n<title>y_G2</title>\n<text text-anchor=\"middle\" x=\"199\" y=\"-14.3\" font-family=\"Times,serif\" font-size=\"14.00\">y</text>\n</g>\n<!-- ECAddR&#45;&gt;y_G2 -->\n<g id=\"edge6\" class=\"edge\">\n<title>ECAddR:e-&gt;y_G2:w</title>\n<path fill=\"none\" stroke=\"black\" d=\"M135,-51C156.17,-51 150.47,-20.53 169.55,-18.15\"/>\n<ellipse fill=\"black\" stroke=\"black\" cx=\"171\" cy=\"-18.06\" rx=\"1\" ry=\"1\"/>\n<text text-anchor=\"middle\" x=\"153.5\" y=\"-39\" font-family=\"Times,serif\" font-size=\"10.00\">5</text>\n</g>\n</g>\n</svg>",
          "text/plain": "<IPython.core.display.SVG object>"
         },
         "metadata": {},
         "output_type": "display_data"
        }
       ],
       "tabbable": null,
       "tooltip": null
      }
     },
     "63d6e5fc6db84194a094eda552c4166d": {
      "model_module": "@jupyter-widgets/output",
      "model_module_version": "1.0.0",
      "model_name": "OutputModel",
      "state": {
       "_dom_classes": [],
       "_model_module": "@jupyter-widgets/output",
       "_model_module_version": "1.0.0",
       "_model_name": "OutputModel",
       "_view_count": null,
       "_view_module": "@jupyter-widgets/output",
       "_view_module_version": "1.0.0",
       "_view_name": "OutputView",
       "layout": "IPY_MODEL_be4c7068dbcf48259797b1af5fd1c815",
       "msg_id": "",
       "outputs": [
        {
         "data": {
          "text/markdown": "`ecc`",
          "text/plain": "<IPython.core.display.Markdown object>"
         },
         "metadata": {},
         "output_type": "display_data"
        },
        {
         "data": {
          "image/svg+xml": "<svg xmlns=\"http://www.w3.org/2000/svg\" xmlns:xlink=\"http://www.w3.org/1999/xlink\" width=\"100pt\" height=\"25pt\" viewBox=\"0.00 0.00 100.00 25.00\">\n<g id=\"graph0\" class=\"graph\" transform=\"scale(1 1) rotate(0) translate(4 21)\">\n<title>my_graph</title>\n<polygon fill=\"white\" stroke=\"transparent\" points=\"-4,4 -4,-21 96,-21 96,4 -4,4\"/>\n<!-- FindECCPrivateKey -->\n<g id=\"node1\" class=\"node\">\n<title>FindECCPrivateKey</title>\n<polygon fill=\"none\" stroke=\"black\" points=\"0,0.5 0,-16.5 92,-16.5 92,0.5 0,0.5\"/>\n<text text-anchor=\"start\" x=\"3.5\" y=\"-5.5\" font-family=\"Times,serif\" font-size=\"10.00\">FindECCPrivateKey</text>\n</g>\n</g>\n</svg>",
          "text/plain": "<IPython.core.display.SVG object>"
         },
         "metadata": {},
         "output_type": "display_data"
        }
       ],
       "tabbable": null,
       "tooltip": null
      }
     },
     "67f3b28663d54e00acfdabc0b6178a1c": {
      "model_module": "@jupyter-widgets/base",
      "model_module_version": "2.0.0",
      "model_name": "LayoutModel",
      "state": {
       "_model_module": "@jupyter-widgets/base",
       "_model_module_version": "2.0.0",
       "_model_name": "LayoutModel",
       "_view_count": null,
       "_view_module": "@jupyter-widgets/base",
       "_view_module_version": "2.0.0",
       "_view_name": "LayoutView",
       "align_content": null,
       "align_items": null,
       "align_self": null,
       "border_bottom": null,
       "border_left": null,
       "border_right": null,
       "border_top": null,
       "bottom": null,
       "display": null,
       "flex": null,
       "flex_flow": null,
       "grid_area": null,
       "grid_auto_columns": null,
       "grid_auto_flow": null,
       "grid_auto_rows": null,
       "grid_column": null,
       "grid_gap": null,
       "grid_row": null,
       "grid_template_areas": null,
       "grid_template_columns": null,
       "grid_template_rows": null,
       "height": null,
       "justify_content": null,
       "justify_items": null,
       "left": null,
       "margin": null,
       "max_height": null,
       "max_width": null,
       "min_height": null,
       "min_width": null,
       "object_fit": null,
       "object_position": null,
       "order": null,
       "overflow": null,
       "padding": null,
       "right": null,
       "top": null,
       "visibility": null,
       "width": null
      }
     },
     "6fce832eab774386a3cf87484e27832b": {
      "model_module": "@jupyter-widgets/controls",
      "model_module_version": "2.0.0",
      "model_name": "HBoxModel",
      "state": {
       "_dom_classes": [],
       "_model_module": "@jupyter-widgets/controls",
       "_model_module_version": "2.0.0",
       "_model_name": "HBoxModel",
       "_view_count": null,
       "_view_module": "@jupyter-widgets/controls",
       "_view_module_version": "2.0.0",
       "_view_name": "HBoxView",
       "box_style": "",
       "children": [
        "IPY_MODEL_398f8367f6604557824029e58fb1f5d3"
       ],
       "layout": "IPY_MODEL_94b0c3b089aa45fdac9f1650825690f7",
       "tabbable": null,
       "tooltip": null
      }
     },
     "94b0c3b089aa45fdac9f1650825690f7": {
      "model_module": "@jupyter-widgets/base",
      "model_module_version": "2.0.0",
      "model_name": "LayoutModel",
      "state": {
       "_model_module": "@jupyter-widgets/base",
       "_model_module_version": "2.0.0",
       "_model_name": "LayoutModel",
       "_view_count": null,
       "_view_module": "@jupyter-widgets/base",
       "_view_module_version": "2.0.0",
       "_view_name": "LayoutView",
       "align_content": null,
       "align_items": null,
       "align_self": null,
       "border_bottom": null,
       "border_left": null,
       "border_right": null,
       "border_top": null,
       "bottom": null,
       "display": null,
       "flex": null,
       "flex_flow": null,
       "grid_area": null,
       "grid_auto_columns": null,
       "grid_auto_flow": null,
       "grid_auto_rows": null,
       "grid_column": null,
       "grid_gap": null,
       "grid_row": null,
       "grid_template_areas": null,
       "grid_template_columns": null,
       "grid_template_rows": null,
       "height": null,
       "justify_content": null,
       "justify_items": null,
       "left": null,
       "margin": null,
       "max_height": null,
       "max_width": null,
       "min_height": null,
       "min_width": null,
       "object_fit": null,
       "object_position": null,
       "order": null,
       "overflow": null,
       "padding": null,
       "right": null,
       "top": null,
       "visibility": null,
       "width": null
      }
     },
     "b5d74815df464e9aa06cc40fe66c21b8": {
      "model_module": "@jupyter-widgets/output",
      "model_module_version": "1.0.0",
      "model_name": "OutputModel",
      "state": {
       "_dom_classes": [],
       "_model_module": "@jupyter-widgets/output",
       "_model_module_version": "1.0.0",
       "_model_name": "OutputModel",
       "_view_count": null,
       "_view_module": "@jupyter-widgets/output",
       "_view_module_version": "1.0.0",
       "_view_name": "OutputView",
       "layout": "IPY_MODEL_51060e4c6b9842569a0d3fd6ac1764d1",
       "msg_id": "",
       "outputs": [
        {
         "data": {
          "text/markdown": "`ec_window_add`",
          "text/plain": "<IPython.core.display.Markdown object>"
         },
         "metadata": {},
         "output_type": "display_data"
        },
        {
         "data": {
          "image/svg+xml": "<svg xmlns=\"http://www.w3.org/2000/svg\" xmlns:xlink=\"http://www.w3.org/1999/xlink\" width=\"308pt\" height=\"260pt\" viewBox=\"0.00 0.00 308.00 260.00\">\n<g id=\"graph0\" class=\"graph\" transform=\"scale(1 1) rotate(0) translate(4 256)\">\n<title>my_graph</title>\n<polygon fill=\"white\" stroke=\"transparent\" points=\"-4,4 -4,-256 304,-256 304,4 -4,4\"/>\n<!-- ctrl_G5 -->\n<g id=\"node1\" class=\"node\">\n<title>ctrl_G5</title>\n<text text-anchor=\"middle\" x=\"27\" y=\"-230.3\" font-family=\"Times,serif\" font-size=\"14.00\">ctrl[0]</text>\n</g>\n<!-- ECWindowAddR -->\n<g id=\"node6\" class=\"node\">\n<title>ECWindowAddR</title>\n<polygon fill=\"none\" stroke=\"black\" points=\"91,-179 91,-196 209,-196 209,-179 91,-179\"/>\n<text text-anchor=\"start\" x=\"94\" y=\"-185\" font-family=\"Times,serif\" font-size=\"10.00\">ECWindowAddR(self.n=n)</text>\n<polygon fill=\"none\" stroke=\"black\" points=\"91,-158 91,-179 209,-179 209,-158 91,-158\"/>\n<text text-anchor=\"start\" x=\"133\" y=\"-164.8\" font-family=\"Times,serif\" font-size=\"14.00\">ctrl[0]</text>\n<polygon fill=\"none\" stroke=\"black\" points=\"91,-137 91,-158 209,-158 209,-137 91,-137\"/>\n<text text-anchor=\"start\" x=\"133\" y=\"-143.8\" font-family=\"Times,serif\" font-size=\"14.00\">ctrl[1]</text>\n<polygon fill=\"none\" stroke=\"black\" points=\"91,-116 91,-137 209,-137 209,-116 91,-116\"/>\n<text text-anchor=\"start\" x=\"133\" y=\"-122.8\" font-family=\"Times,serif\" font-size=\"14.00\">ctrl[2]</text>\n<polygon fill=\"none\" stroke=\"black\" points=\"91,-95 91,-116 209,-116 209,-95 91,-95\"/>\n<text text-anchor=\"start\" x=\"146.5\" y=\"-101.8\" font-family=\"Times,serif\" font-size=\"14.00\">x</text>\n<polygon fill=\"none\" stroke=\"black\" points=\"91,-74 91,-95 209,-95 209,-74 91,-74\"/>\n<text text-anchor=\"start\" x=\"146.5\" y=\"-80.8\" font-family=\"Times,serif\" font-size=\"14.00\">y</text>\n</g>\n<!-- ctrl_G5&#45;&gt;ECWindowAddR -->\n<g id=\"edge1\" class=\"edge\">\n<title>ctrl_G5:e-&gt;ECWindowAddR:w</title>\n<path fill=\"none\" stroke=\"black\" d=\"M54,-234C86.46,-234 59.11,-172.01 88.76,-169.11\"/>\n<ellipse fill=\"black\" stroke=\"black\" cx=\"90\" cy=\"-169.05\" rx=\"1\" ry=\"1\"/>\n<text text-anchor=\"middle\" x=\"72.5\" y=\"-210\" font-family=\"Times,serif\" font-size=\"10.00\">1</text>\n</g>\n<!-- ctrl_G0 -->\n<g id=\"node2\" class=\"node\">\n<title>ctrl_G0</title>\n<text text-anchor=\"middle\" x=\"27\" y=\"-176.3\" font-family=\"Times,serif\" font-size=\"14.00\">ctrl[1]</text>\n</g>\n<!-- ctrl_G0&#45;&gt;ECWindowAddR -->\n<g id=\"edge2\" class=\"edge\">\n<title>ctrl_G0:e-&gt;ECWindowAddR:w</title>\n<path fill=\"none\" stroke=\"black\" d=\"M54,-180C74.89,-180 69.72,-150.45 88.58,-148.14\"/>\n<ellipse fill=\"black\" stroke=\"black\" cx=\"90\" cy=\"-148.06\" rx=\"1\" ry=\"1\"/>\n<text text-anchor=\"middle\" x=\"72.5\" y=\"-167\" font-family=\"Times,serif\" font-size=\"10.00\">1</text>\n</g>\n<!-- ctrl_G7 -->\n<g id=\"node3\" class=\"node\">\n<title>ctrl_G7</title>\n<text text-anchor=\"middle\" x=\"27\" y=\"-122.3\" font-family=\"Times,serif\" font-size=\"14.00\">ctrl[2]</text>\n</g>\n<!-- ctrl_G7&#45;&gt;ECWindowAddR -->\n<g id=\"edge3\" class=\"edge\">\n<title>ctrl_G7:e-&gt;ECWindowAddR:w</title>\n<path fill=\"none\" stroke=\"black\" d=\"M54,-126C69.67,-126 74.14,-126 88.77,-126\"/>\n<ellipse fill=\"black\" stroke=\"black\" cx=\"90\" cy=\"-126\" rx=\"1\" ry=\"1\"/>\n<text text-anchor=\"middle\" x=\"72.5\" y=\"-129\" font-family=\"Times,serif\" font-size=\"10.00\">1</text>\n</g>\n<!-- x_G9 -->\n<g id=\"node4\" class=\"node\">\n<title>x_G9</title>\n<text text-anchor=\"middle\" x=\"27\" y=\"-68.3\" font-family=\"Times,serif\" font-size=\"14.00\">x</text>\n</g>\n<!-- x_G9&#45;&gt;ECWindowAddR -->\n<g id=\"edge4\" class=\"edge\">\n<title>x_G9:e-&gt;ECWindowAddR:w</title>\n<path fill=\"none\" stroke=\"black\" d=\"M54,-72C75.17,-72 69.47,-102.47 88.55,-104.85\"/>\n<ellipse fill=\"black\" stroke=\"black\" cx=\"90\" cy=\"-104.94\" rx=\"1\" ry=\"1\"/>\n<text text-anchor=\"middle\" x=\"72.5\" y=\"-92\" font-family=\"Times,serif\" font-size=\"10.00\">n</text>\n</g>\n<!-- y_G4 -->\n<g id=\"node5\" class=\"node\">\n<title>y_G4</title>\n<text text-anchor=\"middle\" x=\"27\" y=\"-14.3\" font-family=\"Times,serif\" font-size=\"14.00\">y</text>\n</g>\n<!-- y_G4&#45;&gt;ECWindowAddR -->\n<g id=\"edge5\" class=\"edge\">\n<title>y_G4:e-&gt;ECWindowAddR:w</title>\n<path fill=\"none\" stroke=\"black\" d=\"M54,-18C86.84,-18 58.75,-80.94 88.74,-83.89\"/>\n<ellipse fill=\"black\" stroke=\"black\" cx=\"90\" cy=\"-83.95\" rx=\"1\" ry=\"1\"/>\n<text text-anchor=\"middle\" x=\"72.5\" y=\"-62\" font-family=\"Times,serif\" font-size=\"10.00\">n</text>\n</g>\n<!-- ctrl_G1 -->\n<g id=\"node7\" class=\"node\">\n<title>ctrl_G1</title>\n<text text-anchor=\"middle\" x=\"273\" y=\"-230.3\" font-family=\"Times,serif\" font-size=\"14.00\">ctrl[0]</text>\n</g>\n<!-- ECWindowAddR&#45;&gt;ctrl_G1 -->\n<g id=\"edge6\" class=\"edge\">\n<title>ECWindowAddR:e-&gt;ctrl_G1:w</title>\n<path fill=\"none\" stroke=\"black\" d=\"M209,-169C241.46,-169 214.11,-230.99 243.76,-233.89\"/>\n<ellipse fill=\"black\" stroke=\"black\" cx=\"245\" cy=\"-233.95\" rx=\"1\" ry=\"1\"/>\n<text text-anchor=\"middle\" x=\"227.5\" y=\"-210\" font-family=\"Times,serif\" font-size=\"10.00\">1</text>\n</g>\n<!-- ctrl_G12 -->\n<g id=\"node8\" class=\"node\">\n<title>ctrl_G12</title>\n<text text-anchor=\"middle\" x=\"273\" y=\"-176.3\" font-family=\"Times,serif\" font-size=\"14.00\">ctrl[1]</text>\n</g>\n<!-- ECWindowAddR&#45;&gt;ctrl_G12 -->\n<g id=\"edge7\" class=\"edge\">\n<title>ECWindowAddR:e-&gt;ctrl_G12:w</title>\n<path fill=\"none\" stroke=\"black\" d=\"M209,-148C229.89,-148 224.72,-177.55 243.58,-179.86\"/>\n<ellipse fill=\"black\" stroke=\"black\" cx=\"245\" cy=\"-179.94\" rx=\"1\" ry=\"1\"/>\n<text text-anchor=\"middle\" x=\"227.5\" y=\"-167\" font-family=\"Times,serif\" font-size=\"10.00\">1</text>\n</g>\n<!-- ctrl_G2 -->\n<g id=\"node9\" class=\"node\">\n<title>ctrl_G2</title>\n<text text-anchor=\"middle\" x=\"273\" y=\"-122.3\" font-family=\"Times,serif\" font-size=\"14.00\">ctrl[2]</text>\n</g>\n<!-- ECWindowAddR&#45;&gt;ctrl_G2 -->\n<g id=\"edge8\" class=\"edge\">\n<title>ECWindowAddR:e-&gt;ctrl_G2:w</title>\n<path fill=\"none\" stroke=\"black\" d=\"M209,-126C224.67,-126 229.14,-126 243.77,-126\"/>\n<ellipse fill=\"black\" stroke=\"black\" cx=\"245\" cy=\"-126\" rx=\"1\" ry=\"1\"/>\n<text text-anchor=\"middle\" x=\"227.5\" y=\"-129\" font-family=\"Times,serif\" font-size=\"10.00\">1</text>\n</g>\n<!-- x_G10 -->\n<g id=\"node10\" class=\"node\">\n<title>x_G10</title>\n<text text-anchor=\"middle\" x=\"273\" y=\"-68.3\" font-family=\"Times,serif\" font-size=\"14.00\">x</text>\n</g>\n<!-- ECWindowAddR&#45;&gt;x_G10 -->\n<g id=\"edge9\" class=\"edge\">\n<title>ECWindowAddR:e-&gt;x_G10:w</title>\n<path fill=\"none\" stroke=\"black\" d=\"M209,-105C230.17,-105 224.47,-74.53 243.55,-72.15\"/>\n<ellipse fill=\"black\" stroke=\"black\" cx=\"245\" cy=\"-72.06\" rx=\"1\" ry=\"1\"/>\n<text text-anchor=\"middle\" x=\"227.5\" y=\"-92\" font-family=\"Times,serif\" font-size=\"10.00\">n</text>\n</g>\n<!-- y_G11 -->\n<g id=\"node11\" class=\"node\">\n<title>y_G11</title>\n<text text-anchor=\"middle\" x=\"273\" y=\"-14.3\" font-family=\"Times,serif\" font-size=\"14.00\">y</text>\n</g>\n<!-- ECWindowAddR&#45;&gt;y_G11 -->\n<g id=\"edge10\" class=\"edge\">\n<title>ECWindowAddR:e-&gt;y_G11:w</title>\n<path fill=\"none\" stroke=\"black\" d=\"M209,-84C241.84,-84 213.75,-21.06 243.74,-18.11\"/>\n<ellipse fill=\"black\" stroke=\"black\" cx=\"245\" cy=\"-18.05\" rx=\"1\" ry=\"1\"/>\n<text text-anchor=\"middle\" x=\"227.5\" y=\"-62\" font-family=\"Times,serif\" font-size=\"10.00\">n</text>\n</g>\n</g>\n</svg>",
          "text/plain": "<IPython.core.display.SVG object>"
         },
         "metadata": {},
         "output_type": "display_data"
        }
       ],
       "tabbable": null,
       "tooltip": null
      }
     },
     "b9c9fabf14a047a6ab8db6fad0556b01": {
      "model_module": "@jupyter-widgets/base",
      "model_module_version": "2.0.0",
      "model_name": "LayoutModel",
      "state": {
       "_model_module": "@jupyter-widgets/base",
       "_model_module_version": "2.0.0",
       "_model_name": "LayoutModel",
       "_view_count": null,
       "_view_module": "@jupyter-widgets/base",
       "_view_module_version": "2.0.0",
       "_view_name": "LayoutView",
       "align_content": null,
       "align_items": null,
       "align_self": null,
       "border_bottom": null,
       "border_left": null,
       "border_right": null,
       "border_top": null,
       "bottom": null,
       "display": null,
       "flex": null,
       "flex_flow": null,
       "grid_area": null,
       "grid_auto_columns": null,
       "grid_auto_flow": null,
       "grid_auto_rows": null,
       "grid_column": null,
       "grid_gap": null,
       "grid_row": null,
       "grid_template_areas": null,
       "grid_template_columns": null,
       "grid_template_rows": null,
       "height": null,
       "justify_content": null,
       "justify_items": null,
       "left": null,
       "margin": null,
       "max_height": null,
       "max_width": null,
       "min_height": null,
       "min_width": null,
       "object_fit": null,
       "object_position": null,
       "order": null,
       "overflow": null,
       "padding": null,
       "right": null,
       "top": null,
       "visibility": null,
       "width": null
      }
     },
     "be4c7068dbcf48259797b1af5fd1c815": {
      "model_module": "@jupyter-widgets/base",
      "model_module_version": "2.0.0",
      "model_name": "LayoutModel",
      "state": {
       "_model_module": "@jupyter-widgets/base",
       "_model_module_version": "2.0.0",
       "_model_name": "LayoutModel",
       "_view_count": null,
       "_view_module": "@jupyter-widgets/base",
       "_view_module_version": "2.0.0",
       "_view_name": "LayoutView",
       "align_content": null,
       "align_items": null,
       "align_self": null,
       "border_bottom": null,
       "border_left": null,
       "border_right": null,
       "border_top": null,
       "bottom": null,
       "display": null,
       "flex": null,
       "flex_flow": null,
       "grid_area": null,
       "grid_auto_columns": null,
       "grid_auto_flow": null,
       "grid_auto_rows": null,
       "grid_column": null,
       "grid_gap": null,
       "grid_row": null,
       "grid_template_areas": null,
       "grid_template_columns": null,
       "grid_template_rows": null,
       "height": null,
       "justify_content": null,
       "justify_items": null,
       "left": null,
       "margin": null,
       "max_height": null,
       "max_width": null,
       "min_height": null,
       "min_width": null,
       "object_fit": null,
       "object_position": null,
       "order": null,
       "overflow": null,
       "padding": null,
       "right": null,
       "top": null,
       "visibility": null,
       "width": null
      }
     },
     "c359593bd3544c678c32fd590851f4ad": {
      "model_module": "@jupyter-widgets/base",
      "model_module_version": "2.0.0",
      "model_name": "LayoutModel",
      "state": {
       "_model_module": "@jupyter-widgets/base",
       "_model_module_version": "2.0.0",
       "_model_name": "LayoutModel",
       "_view_count": null,
       "_view_module": "@jupyter-widgets/base",
       "_view_module_version": "2.0.0",
       "_view_name": "LayoutView",
       "align_content": null,
       "align_items": null,
       "align_self": null,
       "border_bottom": null,
       "border_left": null,
       "border_right": null,
       "border_top": null,
       "bottom": null,
       "display": null,
       "flex": null,
       "flex_flow": null,
       "grid_area": null,
       "grid_auto_columns": null,
       "grid_auto_flow": null,
       "grid_auto_rows": null,
       "grid_column": null,
       "grid_gap": null,
       "grid_row": null,
       "grid_template_areas": null,
       "grid_template_columns": null,
       "grid_template_rows": null,
       "height": null,
       "justify_content": null,
       "justify_items": null,
       "left": null,
       "margin": null,
       "max_height": null,
       "max_width": null,
       "min_height": null,
       "min_width": null,
       "object_fit": null,
       "object_position": null,
       "order": null,
       "overflow": null,
       "padding": null,
       "right": null,
       "top": null,
       "visibility": null,
       "width": null
      }
     },
     "dbdd8545b7b54aba8d078949bafdceaa": {
      "model_module": "@jupyter-widgets/controls",
      "model_module_version": "2.0.0",
      "model_name": "HBoxModel",
      "state": {
       "_dom_classes": [],
       "_model_module": "@jupyter-widgets/controls",
       "_model_module_version": "2.0.0",
       "_model_name": "HBoxModel",
       "_view_count": null,
       "_view_module": "@jupyter-widgets/controls",
       "_view_module_version": "2.0.0",
       "_view_name": "HBoxView",
       "box_style": "",
       "children": [
        "IPY_MODEL_b5d74815df464e9aa06cc40fe66c21b8"
       ],
       "layout": "IPY_MODEL_f16029109a554a739552571fb4763090",
       "tabbable": null,
       "tooltip": null
      }
     },
     "e6eb8639c5a84b06a55029fe9f090208": {
      "model_module": "@jupyter-widgets/base",
      "model_module_version": "2.0.0",
      "model_name": "LayoutModel",
      "state": {
       "_model_module": "@jupyter-widgets/base",
       "_model_module_version": "2.0.0",
       "_model_name": "LayoutModel",
       "_view_count": null,
       "_view_module": "@jupyter-widgets/base",
       "_view_module_version": "2.0.0",
       "_view_name": "LayoutView",
       "align_content": null,
       "align_items": null,
       "align_self": null,
       "border_bottom": null,
       "border_left": null,
       "border_right": null,
       "border_top": null,
       "bottom": null,
       "display": null,
       "flex": null,
       "flex_flow": null,
       "grid_area": null,
       "grid_auto_columns": null,
       "grid_auto_flow": null,
       "grid_auto_rows": null,
       "grid_column": null,
       "grid_gap": null,
       "grid_row": null,
       "grid_template_areas": null,
       "grid_template_columns": null,
       "grid_template_rows": null,
       "height": null,
       "justify_content": null,
       "justify_items": null,
       "left": null,
       "margin": null,
       "max_height": null,
       "max_width": null,
       "min_height": null,
       "min_width": null,
       "object_fit": null,
       "object_position": null,
       "order": null,
       "overflow": null,
       "padding": null,
       "right": null,
       "top": null,
       "visibility": null,
       "width": null
      }
     },
     "f16029109a554a739552571fb4763090": {
      "model_module": "@jupyter-widgets/base",
      "model_module_version": "2.0.0",
      "model_name": "LayoutModel",
      "state": {
       "_model_module": "@jupyter-widgets/base",
       "_model_module_version": "2.0.0",
       "_model_name": "LayoutModel",
       "_view_count": null,
       "_view_module": "@jupyter-widgets/base",
       "_view_module_version": "2.0.0",
       "_view_name": "LayoutView",
       "align_content": null,
       "align_items": null,
       "align_self": null,
       "border_bottom": null,
       "border_left": null,
       "border_right": null,
       "border_top": null,
       "bottom": null,
       "display": null,
       "flex": null,
       "flex_flow": null,
       "grid_area": null,
       "grid_auto_columns": null,
       "grid_auto_flow": null,
       "grid_auto_rows": null,
       "grid_column": null,
       "grid_gap": null,
       "grid_row": null,
       "grid_template_areas": null,
       "grid_template_columns": null,
       "grid_template_rows": null,
       "height": null,
       "justify_content": null,
       "justify_items": null,
       "left": null,
       "margin": null,
       "max_height": null,
       "max_width": null,
       "min_height": null,
       "min_width": null,
       "object_fit": null,
       "object_position": null,
       "order": null,
       "overflow": null,
       "padding": null,
       "right": null,
       "top": null,
       "visibility": null,
       "width": null
      }
     }
    },
    "version_major": 2,
    "version_minor": 0
   }
  }
 },
 "nbformat": 4,
 "nbformat_minor": 5
}
