{
 "cells": [
  {
   "cell_type": "markdown",
   "id": "34af6d4a",
   "metadata": {
    "cq.autogen": "title_cell"
   },
   "source": [
    "# Global Phase"
   ]
  },
  {
   "cell_type": "code",
   "execution_count": 1,
   "id": "f1de2e20",
   "metadata": {
    "cq.autogen": "top_imports"
   },
   "outputs": [],
   "source": [
    "from qualtran import Bloq, CompositeBloq, BloqBuilder, Signature, Register\n",
    "from qualtran import QBit, QInt, QUInt, QAny\n",
    "from qualtran.drawing import show_bloq, show_call_graph, show_counts_sigma\n",
    "from typing import *\n",
    "import numpy as np\n",
    "import sympy\n",
    "import cirq"
   ]
  },
  {
   "cell_type": "markdown",
   "id": "7293f4e4",
   "metadata": {
    "cq.autogen": "GlobalPhase.bloq_doc.md"
   },
   "source": [
    "## `GlobalPhase`\n",
    "Applies a global phase to the circuit as a whole.\n",
    "\n",
    "The unitary effect is to multiply the state vector by the complex scalar\n",
    "$e^{i pi t}$ for `exponent` $t$.\n",
    "\n",
    "The global phase of a state or circuit does not affect any observable quantity, but\n",
    "keeping track of it can be a useful bookkeeping mechanism for testing circuit identities.\n",
    "The global phase becomes important if the gate becomes controlled.\n",
    "\n",
    "#### Parameters\n",
    " - `exponent`: the exponent $t$ of the global phase $e^{i pi t}$ to apply.\n",
    " - `eps`: precision\n"
   ]
  },
  {
   "cell_type": "code",
   "execution_count": 2,
   "id": "60d45fc7",
   "metadata": {
    "cq.autogen": "GlobalPhase.bloq_doc.py"
   },
   "outputs": [],
   "source": [
    "from qualtran.bloqs.basic_gates import GlobalPhase"
   ]
  },
  {
   "cell_type": "markdown",
   "id": "1608ddd1",
   "metadata": {
    "cq.autogen": "GlobalPhase.example_instances.md"
   },
   "source": [
    "### Example Instances"
   ]
  },
  {
   "cell_type": "code",
   "execution_count": 3,
   "id": "1ee2bf0e",
   "metadata": {
    "cq.autogen": "GlobalPhase.global_phase"
   },
   "outputs": [],
   "source": [
    "global_phase = GlobalPhase(exponent=0.5)"
   ]
  },
  {
   "cell_type": "markdown",
   "id": "a21e8a14",
   "metadata": {
    "cq.autogen": "GlobalPhase.graphical_signature.md"
   },
   "source": [
    "#### Graphical Signature"
   ]
  },
  {
   "cell_type": "code",
   "execution_count": 4,
   "id": "bd9c2dbb",
   "metadata": {
    "cq.autogen": "GlobalPhase.graphical_signature.py"
   },
   "outputs": [
    {
     "data": {
      "application/vnd.jupyter.widget-view+json": {
       "model_id": "38ee627a31604636ab43d5741b85fd82",
       "version_major": 2,
       "version_minor": 0
      },
      "text/plain": [
       "HBox(children=(Output(outputs=({'output_type': 'display_data', 'data': {'text/plain': '<IPython.core.display.M…"
      ]
     },
     "metadata": {},
     "output_type": "display_data"
    }
   ],
   "source": [
    "from qualtran.drawing import show_bloqs\n",
    "show_bloqs([global_phase],\n",
    "           ['`global_phase`'])"
   ]
  },
  {
   "cell_type": "markdown",
   "id": "facc4a57",
   "metadata": {
    "cq.autogen": "GlobalPhase.call_graph.md"
   },
   "source": [
    "### Call Graph"
   ]
  },
  {
   "cell_type": "code",
   "execution_count": 5,
   "id": "94dfefb2",
   "metadata": {
    "cq.autogen": "GlobalPhase.call_graph.py"
   },
   "outputs": [
    {
     "data": {
      "image/svg+xml": [
       "<svg xmlns=\"http://www.w3.org/2000/svg\" xmlns:xlink=\"http://www.w3.org/1999/xlink\" width=\"238pt\" height=\"44pt\" viewBox=\"0.00 0.00 238.00 44.00\">\n",
       "<g id=\"graph0\" class=\"graph\" transform=\"scale(1 1) rotate(0) translate(4 40)\">\n",
       "<title>counts</title>\n",
       "<polygon fill=\"white\" stroke=\"transparent\" points=\"-4,4 -4,-40 234,-40 234,4 -4,4\"/>\n",
       "<!-- b0 -->\n",
       "<g id=\"node1\" class=\"node\">\n",
       "<title>b0</title>\n",
       "<polygon fill=\"none\" stroke=\"black\" points=\"230,-36 0,-36 0,0 230,0 230,-36\"/>\n",
       "<text text-anchor=\"start\" x=\"8\" y=\"-19.8\" font-family=\"Times,serif\" font-size=\"14.00\">GPhase((6.123233995736766e-17+1j))</text>\n",
       "<text text-anchor=\"start\" x=\"45.5\" y=\"-9\" font-family=\"monospace\" font-size=\"10.00\">exponent=0.5, eps=1e-11</text>\n",
       "</g>\n",
       "</g>\n",
       "</svg>"
      ],
      "text/plain": [
       "<IPython.core.display.SVG object>"
      ]
     },
     "metadata": {},
     "output_type": "display_data"
    },
    {
     "data": {
      "text/markdown": [
       "#### Counts totals:\n",
       " - `GPhase((6.123233995736766e-17+1j))`: 1"
      ],
      "text/plain": [
       "<IPython.core.display.Markdown object>"
      ]
     },
     "metadata": {},
     "output_type": "display_data"
    }
   ],
   "source": [
    "from qualtran.resource_counting.generalizers import ignore_split_join\n",
    "global_phase_g, global_phase_sigma = global_phase.call_graph(max_depth=1, generalizer=ignore_split_join)\n",
    "show_call_graph(global_phase_g)\n",
    "show_counts_sigma(global_phase_sigma)"
   ]
  },
  {
   "cell_type": "markdown",
   "id": "c183275c-cc9c-477d-888c-d8b850f67a2e",
   "metadata": {},
   "source": [
    "### Tensors and Controlled\n",
    "\n",
    "The \"tensor\" of the global phase gate is just a number."
   ]
  },
  {
   "cell_type": "code",
   "execution_count": 6,
   "id": "d053b20b-3d61-487a-b962-e2368d834c40",
   "metadata": {},
   "outputs": [
    {
     "data": {
      "text/plain": [
       "(6.123233995736766e-17+1j)"
      ]
     },
     "execution_count": 6,
     "metadata": {},
     "output_type": "execute_result"
    }
   ],
   "source": [
    "global_phase.tensor_contract()"
   ]
  },
  {
   "cell_type": "markdown",
   "id": "b737b871-9c61-4d54-860a-d9928f18808b",
   "metadata": {},
   "source": [
    "When a global phase is controlled, it is equivalent to a ZPowGate"
   ]
  },
  {
   "cell_type": "code",
   "execution_count": 7,
   "id": "d873856e-a687-4b73-acdc-9188dd13a60e",
   "metadata": {},
   "outputs": [
    {
     "name": "stdout",
     "output_type": "stream",
     "text": [
      "ZPowGate(exponent=0.5, global_shift=0.0, eps=1e-11)\n",
      "[[1.+0.j 0.+0.j]\n",
      " [0.+0.j 0.+1.j]]\n"
     ]
    }
   ],
   "source": [
    "cgp = global_phase.controlled()\n",
    "print(repr(cgp))\n",
    "print(cgp.tensor_contract())"
   ]
  }
 ],
 "metadata": {
  "kernelspec": {
   "display_name": "Python 3 (ipykernel)",
   "language": "python",
   "name": "python3"
  },
  "language_info": {
   "codemirror_mode": {
    "name": "ipython",
    "version": 3
   },
   "file_extension": ".py",
   "mimetype": "text/x-python",
   "name": "python",
   "nbconvert_exporter": "python",
   "pygments_lexer": "ipython3",
   "version": "3.11.8"
  },
  "widgets": {
   "application/vnd.jupyter.widget-state+json": {
    "state": {
     "2675a8336e4740d7a60ab099b5dac128": {
      "model_module": "@jupyter-widgets/output",
      "model_module_version": "1.0.0",
      "model_name": "OutputModel",
      "state": {
       "_dom_classes": [],
       "_model_module": "@jupyter-widgets/output",
       "_model_module_version": "1.0.0",
       "_model_name": "OutputModel",
       "_view_count": null,
       "_view_module": "@jupyter-widgets/output",
       "_view_module_version": "1.0.0",
       "_view_name": "OutputView",
       "layout": "IPY_MODEL_60e6699323254179b2667bde780e540c",
       "msg_id": "",
       "outputs": [
        {
         "data": {
          "text/markdown": "`global_phase`",
          "text/plain": "<IPython.core.display.Markdown object>"
         },
         "metadata": {},
         "output_type": "display_data"
        },
        {
         "data": {
          "image/svg+xml": "<svg xmlns=\"http://www.w3.org/2000/svg\" xmlns:xlink=\"http://www.w3.org/1999/xlink\" width=\"176pt\" height=\"25pt\" viewBox=\"0.00 0.00 176.00 25.00\">\n<g id=\"graph0\" class=\"graph\" transform=\"scale(1 1) rotate(0) translate(4 21)\">\n<title>my_graph</title>\n<polygon fill=\"white\" stroke=\"transparent\" points=\"-4,4 -4,-21 172,-21 172,4 -4,4\"/>\n<!-- GlobalPhase -->\n<g id=\"node1\" class=\"node\">\n<title>GlobalPhase</title>\n<polygon fill=\"none\" stroke=\"black\" points=\"0,0.5 0,-16.5 168,-16.5 168,0.5 0,0.5\"/>\n<text text-anchor=\"start\" x=\"3\" y=\"-5.5\" font-family=\"Times,serif\" font-size=\"10.00\">GPhase((6.123233995736766e-17+1j))</text>\n</g>\n</g>\n</svg>",
          "text/plain": "<IPython.core.display.SVG object>"
         },
         "metadata": {},
         "output_type": "display_data"
        }
       ],
       "tabbable": null,
       "tooltip": null
      }
     },
     "38ee627a31604636ab43d5741b85fd82": {
      "model_module": "@jupyter-widgets/controls",
      "model_module_version": "2.0.0",
      "model_name": "HBoxModel",
      "state": {
       "_dom_classes": [],
       "_model_module": "@jupyter-widgets/controls",
       "_model_module_version": "2.0.0",
       "_model_name": "HBoxModel",
       "_view_count": null,
       "_view_module": "@jupyter-widgets/controls",
       "_view_module_version": "2.0.0",
       "_view_name": "HBoxView",
       "box_style": "",
       "children": [
        "IPY_MODEL_2675a8336e4740d7a60ab099b5dac128"
       ],
       "layout": "IPY_MODEL_475c52c5333043cbac39666badebd75c",
       "tabbable": null,
       "tooltip": null
      }
     },
     "475c52c5333043cbac39666badebd75c": {
      "model_module": "@jupyter-widgets/base",
      "model_module_version": "2.0.0",
      "model_name": "LayoutModel",
      "state": {
       "_model_module": "@jupyter-widgets/base",
       "_model_module_version": "2.0.0",
       "_model_name": "LayoutModel",
       "_view_count": null,
       "_view_module": "@jupyter-widgets/base",
       "_view_module_version": "2.0.0",
       "_view_name": "LayoutView",
       "align_content": null,
       "align_items": null,
       "align_self": null,
       "border_bottom": null,
       "border_left": null,
       "border_right": null,
       "border_top": null,
       "bottom": null,
       "display": null,
       "flex": null,
       "flex_flow": null,
       "grid_area": null,
       "grid_auto_columns": null,
       "grid_auto_flow": null,
       "grid_auto_rows": null,
       "grid_column": null,
       "grid_gap": null,
       "grid_row": null,
       "grid_template_areas": null,
       "grid_template_columns": null,
       "grid_template_rows": null,
       "height": null,
       "justify_content": null,
       "justify_items": null,
       "left": null,
       "margin": null,
       "max_height": null,
       "max_width": null,
       "min_height": null,
       "min_width": null,
       "object_fit": null,
       "object_position": null,
       "order": null,
       "overflow": null,
       "padding": null,
       "right": null,
       "top": null,
       "visibility": null,
       "width": null
      }
     },
     "60e6699323254179b2667bde780e540c": {
      "model_module": "@jupyter-widgets/base",
      "model_module_version": "2.0.0",
      "model_name": "LayoutModel",
      "state": {
       "_model_module": "@jupyter-widgets/base",
       "_model_module_version": "2.0.0",
       "_model_name": "LayoutModel",
       "_view_count": null,
       "_view_module": "@jupyter-widgets/base",
       "_view_module_version": "2.0.0",
       "_view_name": "LayoutView",
       "align_content": null,
       "align_items": null,
       "align_self": null,
       "border_bottom": null,
       "border_left": null,
       "border_right": null,
       "border_top": null,
       "bottom": null,
       "display": null,
       "flex": null,
       "flex_flow": null,
       "grid_area": null,
       "grid_auto_columns": null,
       "grid_auto_flow": null,
       "grid_auto_rows": null,
       "grid_column": null,
       "grid_gap": null,
       "grid_row": null,
       "grid_template_areas": null,
       "grid_template_columns": null,
       "grid_template_rows": null,
       "height": null,
       "justify_content": null,
       "justify_items": null,
       "left": null,
       "margin": null,
       "max_height": null,
       "max_width": null,
       "min_height": null,
       "min_width": null,
       "object_fit": null,
       "object_position": null,
       "order": null,
       "overflow": null,
       "padding": null,
       "right": null,
       "top": null,
       "visibility": null,
       "width": null
      }
     }
    },
    "version_major": 2,
    "version_minor": 0
   }
  }
 },
 "nbformat": 4,
 "nbformat_minor": 5
}
