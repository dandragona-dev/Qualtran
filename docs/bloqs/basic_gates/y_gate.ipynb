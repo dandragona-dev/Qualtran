{
 "cells": [
  {
   "cell_type": "markdown",
   "id": "1f6baa88",
   "metadata": {
    "cq.autogen": "title_cell"
   },
   "source": [
    "# Y Gate"
   ]
  },
  {
   "cell_type": "code",
   "execution_count": 1,
   "id": "a4dd57f4",
   "metadata": {
    "cq.autogen": "top_imports"
   },
   "outputs": [],
   "source": [
    "from qualtran import Bloq, CompositeBloq, BloqBuilder, Signature, Register\n",
    "from qualtran import QBit, QInt, QUInt, QAny\n",
    "from qualtran.drawing import show_bloq, show_call_graph, show_counts_sigma\n",
    "from typing import *\n",
    "import numpy as np\n",
    "import sympy\n",
    "import cirq"
   ]
  },
  {
   "cell_type": "markdown",
   "id": "39518f37",
   "metadata": {
    "cq.autogen": "YGate.bloq_doc.md"
   },
   "source": [
    "## `YGate`\n",
    "The Pauli Y gate.\n",
    "\n",
    "This causes a bit flip (with a complex phase): Y|0> = 1j|1>, Y|1> = -1j|0>\n",
    "\n",
    "#### Registers\n",
    " - `q`: The qubit.\n"
   ]
  },
  {
   "cell_type": "code",
   "execution_count": 2,
   "id": "4f9aa8e7",
   "metadata": {
    "cq.autogen": "YGate.bloq_doc.py"
   },
   "outputs": [],
   "source": [
    "from qualtran.bloqs.basic_gates import YGate"
   ]
  },
  {
   "cell_type": "markdown",
   "id": "f1dae24e",
   "metadata": {
    "cq.autogen": "YGate.example_instances.md"
   },
   "source": [
    "### Example Instances"
   ]
  },
  {
   "cell_type": "code",
   "execution_count": 3,
   "id": "9c3a5a18",
   "metadata": {
    "cq.autogen": "YGate.y_gate"
   },
   "outputs": [],
   "source": [
    "y_gate = YGate()"
   ]
  },
  {
   "cell_type": "markdown",
   "id": "0bcd3fda",
   "metadata": {
    "cq.autogen": "YGate.graphical_signature.md"
   },
   "source": [
    "#### Graphical Signature"
   ]
  },
  {
   "cell_type": "code",
   "execution_count": 4,
   "id": "2c5d7345",
   "metadata": {
    "cq.autogen": "YGate.graphical_signature.py"
   },
   "outputs": [
    {
     "data": {
      "application/vnd.jupyter.widget-view+json": {
       "model_id": "f3926739ece04fe18ff83cd684813b43",
       "version_major": 2,
       "version_minor": 0
      },
      "text/plain": [
       "HBox(children=(Output(outputs=({'output_type': 'display_data', 'data': {'text/plain': '<IPython.core.display.M…"
      ]
     },
     "metadata": {},
     "output_type": "display_data"
    }
   ],
   "source": [
    "from qualtran.drawing import show_bloqs\n",
    "show_bloqs([y_gate],\n",
    "           ['`y_gate`'])"
   ]
  },
  {
   "cell_type": "code",
   "execution_count": 5,
   "id": "7a1ba7bf-de51-496d-b637-9db51ed40cce",
   "metadata": {},
   "outputs": [
    {
     "data": {
      "image/png": "[encoded data removed]",
      "text/plain": [
       "<Figure size 320x120 with 1 Axes>"
      ]
     },
     "metadata": {},
     "output_type": "display_data"
    }
   ],
   "source": [
    "show_bloq(y_gate, 'musical_score')"
   ]
  },
  {
   "cell_type": "markdown",
   "id": "5f68305f",
   "metadata": {
    "cq.autogen": "CYGate.bloq_doc.md"
   },
   "source": [
    "## `CYGate`\n",
    "A controlled Y gate.\n",
    "\n",
    "#### Registers\n",
    " - `ctrl`: The control qubit.\n",
    " - `target`: The target qubit.\n"
   ]
  },
  {
   "cell_type": "code",
   "execution_count": 6,
   "id": "8fa440cd",
   "metadata": {
    "cq.autogen": "CYGate.bloq_doc.py"
   },
   "outputs": [],
   "source": [
    "from qualtran.bloqs.basic_gates import CYGate"
   ]
  },
  {
   "cell_type": "markdown",
   "id": "6cd4b475",
   "metadata": {
    "cq.autogen": "CYGate.example_instances.md"
   },
   "source": [
    "### Example Instances"
   ]
  },
  {
   "cell_type": "code",
   "execution_count": 7,
   "id": "fb197f4d",
   "metadata": {
    "cq.autogen": "CYGate.cy_gate"
   },
   "outputs": [],
   "source": [
    "cy_gate = YGate().controlled()\n",
    "assert isinstance(cy_gate, CYGate)"
   ]
  },
  {
   "cell_type": "markdown",
   "id": "61fdd296",
   "metadata": {
    "cq.autogen": "CYGate.graphical_signature.md"
   },
   "source": [
    "#### Graphical Signature"
   ]
  },
  {
   "cell_type": "code",
   "execution_count": 8,
   "id": "ad2d7347",
   "metadata": {
    "cq.autogen": "CYGate.graphical_signature.py"
   },
   "outputs": [
    {
     "data": {
      "application/vnd.jupyter.widget-view+json": {
       "model_id": "3323d535568a4e0588fc6f9c40d4e09d",
       "version_major": 2,
       "version_minor": 0
      },
      "text/plain": [
       "HBox(children=(Output(outputs=({'output_type': 'display_data', 'data': {'text/plain': '<IPython.core.display.M…"
      ]
     },
     "metadata": {},
     "output_type": "display_data"
    }
   ],
   "source": [
    "from qualtran.drawing import show_bloqs\n",
    "show_bloqs([cy_gate],\n",
    "           ['`cy_gate`'])"
   ]
  },
  {
   "cell_type": "code",
   "execution_count": 9,
   "id": "4242fd0b-17a0-48ad-bae9-ec146c65d810",
   "metadata": {},
   "outputs": [
    {
     "data": {
      "image/png": "[encoded data removed]",
      "text/plain": [
       "<Figure size 320x200 with 1 Axes>"
      ]
     },
     "metadata": {},
     "output_type": "display_data"
    }
   ],
   "source": [
    "show_bloq(cy_gate, 'musical_score')"
   ]
  }
 ],
 "metadata": {
  "kernelspec": {
   "display_name": "Python 3 (ipykernel)",
   "language": "python",
   "name": "python3"
  },
  "language_info": {
   "codemirror_mode": {
    "name": "ipython",
    "version": 3
   },
   "file_extension": ".py",
   "mimetype": "text/x-python",
   "name": "python",
   "nbconvert_exporter": "python",
   "pygments_lexer": "ipython3",
   "version": "3.11.8"
  },
  "widgets": {
   "application/vnd.jupyter.widget-state+json": {
    "state": {
     "0148ec34412740dd86722055357d7429": {
      "model_module": "@jupyter-widgets/output",
      "model_module_version": "1.0.0",
      "model_name": "OutputModel",
      "state": {
       "_dom_classes": [],
       "_model_module": "@jupyter-widgets/output",
       "_model_module_version": "1.0.0",
       "_model_name": "OutputModel",
       "_view_count": null,
       "_view_module": "@jupyter-widgets/output",
       "_view_module_version": "1.0.0",
       "_view_name": "OutputView",
       "layout": "IPY_MODEL_b43a6f4c20e541d8bad1ca300c567c36",
       "msg_id": "",
       "outputs": [
        {
         "data": {
          "text/markdown": "`y_gate`",
          "text/plain": "<IPython.core.display.Markdown object>"
         },
         "metadata": {},
         "output_type": "display_data"
        },
        {
         "data": {
          "image/svg+xml": "<svg xmlns=\"http://www.w3.org/2000/svg\" xmlns:xlink=\"http://www.w3.org/1999/xlink\" width=\"224pt\" height=\"54pt\" viewBox=\"0.00 0.00 224.00 54.00\">\n<g id=\"graph0\" class=\"graph\" transform=\"scale(1 1) rotate(0) translate(4 50)\">\n<title>my_graph</title>\n<polygon fill=\"white\" stroke=\"transparent\" points=\"-4,4 -4,-50 220,-50 220,4 -4,4\"/>\n<!-- q_G2 -->\n<g id=\"node1\" class=\"node\">\n<title>q_G2</title>\n<text text-anchor=\"middle\" x=\"27\" y=\"-14.3\" font-family=\"Times,serif\" font-size=\"14.00\">q</text>\n</g>\n<!-- YGate -->\n<g id=\"node2\" class=\"node\">\n<title>YGate</title>\n<polygon fill=\"none\" stroke=\"black\" points=\"91,-29 91,-46 125,-46 125,-29 91,-29\"/>\n<text text-anchor=\"start\" x=\"94\" y=\"-35\" font-family=\"Times,serif\" font-size=\"10.00\">YGate</text>\n<polygon fill=\"none\" stroke=\"black\" points=\"91,-8 91,-29 125,-29 125,-8 91,-8\"/>\n<text text-anchor=\"start\" x=\"104.5\" y=\"-14.8\" font-family=\"Times,serif\" font-size=\"14.00\">q</text>\n</g>\n<!-- q_G2&#45;&gt;YGate -->\n<g id=\"edge1\" class=\"edge\">\n<title>q_G2:e-&gt;YGate:w</title>\n<path fill=\"none\" stroke=\"black\" d=\"M54,-18C69.67,-18 74.14,-18 88.77,-18\"/>\n<ellipse fill=\"black\" stroke=\"black\" cx=\"90\" cy=\"-18\" rx=\"1\" ry=\"1\"/>\n<text text-anchor=\"middle\" x=\"72.5\" y=\"-21\" font-family=\"Times,serif\" font-size=\"10.00\">1</text>\n</g>\n<!-- q_G0 -->\n<g id=\"node3\" class=\"node\">\n<title>q_G0</title>\n<text text-anchor=\"middle\" x=\"189\" y=\"-14.3\" font-family=\"Times,serif\" font-size=\"14.00\">q</text>\n</g>\n<!-- YGate&#45;&gt;q_G0 -->\n<g id=\"edge2\" class=\"edge\">\n<title>YGate:e-&gt;q_G0:w</title>\n<path fill=\"none\" stroke=\"black\" d=\"M125,-18C140.67,-18 145.14,-18 159.77,-18\"/>\n<ellipse fill=\"black\" stroke=\"black\" cx=\"161\" cy=\"-18\" rx=\"1\" ry=\"1\"/>\n<text text-anchor=\"middle\" x=\"143.5\" y=\"-21\" font-family=\"Times,serif\" font-size=\"10.00\">1</text>\n</g>\n</g>\n</svg>",
          "text/plain": "<IPython.core.display.SVG object>"
         },
         "metadata": {},
         "output_type": "display_data"
        }
       ],
       "tabbable": null,
       "tooltip": null
      }
     },
     "2e3206f2464b476494c40085494e8426": {
      "model_module": "@jupyter-widgets/output",
      "model_module_version": "1.0.0",
      "model_name": "OutputModel",
      "state": {
       "_dom_classes": [],
       "_model_module": "@jupyter-widgets/output",
       "_model_module_version": "1.0.0",
       "_model_name": "OutputModel",
       "_view_count": null,
       "_view_module": "@jupyter-widgets/output",
       "_view_module_version": "1.0.0",
       "_view_name": "OutputView",
       "layout": "IPY_MODEL_94eacee38f164718b230258dc3730aca",
       "msg_id": "",
       "outputs": [
        {
         "data": {
          "text/markdown": "`cy_gate`",
          "text/plain": "<IPython.core.display.Markdown object>"
         },
         "metadata": {},
         "output_type": "display_data"
        },
        {
         "data": {
          "image/svg+xml": "<svg xmlns=\"http://www.w3.org/2000/svg\" xmlns:xlink=\"http://www.w3.org/1999/xlink\" width=\"230pt\" height=\"98pt\" viewBox=\"0.00 0.00 230.00 98.00\">\n<g id=\"graph0\" class=\"graph\" transform=\"scale(1 1) rotate(0) translate(4 94)\">\n<title>my_graph</title>\n<polygon fill=\"white\" stroke=\"transparent\" points=\"-4,4 -4,-94 226,-94 226,4 -4,4\"/>\n<!-- ctrl_G4 -->\n<g id=\"node1\" class=\"node\">\n<title>ctrl_G4</title>\n<text text-anchor=\"middle\" x=\"27\" y=\"-68.3\" font-family=\"Times,serif\" font-size=\"14.00\">ctrl</text>\n</g>\n<!-- CYGate -->\n<g id=\"node3\" class=\"node\">\n<title>CYGate</title>\n<polygon fill=\"none\" stroke=\"black\" points=\"91,-66 91,-83 131,-83 131,-66 91,-66\"/>\n<text text-anchor=\"start\" x=\"94\" y=\"-72\" font-family=\"Times,serif\" font-size=\"10.00\">CYGate</text>\n<polygon fill=\"none\" stroke=\"black\" points=\"91,-45 91,-66 131,-66 131,-45 91,-45\"/>\n<text text-anchor=\"start\" x=\"101.5\" y=\"-51.8\" font-family=\"Times,serif\" font-size=\"14.00\">ctrl</text>\n<polygon fill=\"none\" stroke=\"black\" points=\"91,-24 91,-45 131,-45 131,-24 91,-24\"/>\n<text text-anchor=\"start\" x=\"95.5\" y=\"-30.8\" font-family=\"Times,serif\" font-size=\"14.00\">target</text>\n</g>\n<!-- ctrl_G4&#45;&gt;CYGate -->\n<g id=\"edge1\" class=\"edge\">\n<title>ctrl_G4:e-&gt;CYGate:w</title>\n<path fill=\"none\" stroke=\"black\" d=\"M54,-72C71.22,-72 72.97,-57.23 88.98,-56.07\"/>\n<ellipse fill=\"black\" stroke=\"black\" cx=\"90\" cy=\"-56.04\" rx=\"1\" ry=\"1\"/>\n<text text-anchor=\"middle\" x=\"72.5\" y=\"-67\" font-family=\"Times,serif\" font-size=\"10.00\">1</text>\n</g>\n<!-- target_G1 -->\n<g id=\"node2\" class=\"node\">\n<title>target_G1</title>\n<text text-anchor=\"middle\" x=\"27\" y=\"-14.3\" font-family=\"Times,serif\" font-size=\"14.00\">target</text>\n</g>\n<!-- target_G1&#45;&gt;CYGate -->\n<g id=\"edge2\" class=\"edge\">\n<title>target_G1:e-&gt;CYGate:w</title>\n<path fill=\"none\" stroke=\"black\" d=\"M54,-18C71.22,-18 72.97,-32.77 88.98,-33.93\"/>\n<ellipse fill=\"black\" stroke=\"black\" cx=\"90\" cy=\"-33.96\" rx=\"1\" ry=\"1\"/>\n<text text-anchor=\"middle\" x=\"72.5\" y=\"-29\" font-family=\"Times,serif\" font-size=\"10.00\">1</text>\n</g>\n<!-- ctrl_G0 -->\n<g id=\"node4\" class=\"node\">\n<title>ctrl_G0</title>\n<text text-anchor=\"middle\" x=\"195\" y=\"-68.3\" font-family=\"Times,serif\" font-size=\"14.00\">ctrl</text>\n</g>\n<!-- CYGate&#45;&gt;ctrl_G0 -->\n<g id=\"edge3\" class=\"edge\">\n<title>CYGate:e-&gt;ctrl_G0:w</title>\n<path fill=\"none\" stroke=\"black\" d=\"M131,-56C148.22,-56 149.97,-70.77 165.98,-71.93\"/>\n<ellipse fill=\"black\" stroke=\"black\" cx=\"167\" cy=\"-71.96\" rx=\"1\" ry=\"1\"/>\n<text text-anchor=\"middle\" x=\"149.5\" y=\"-67\" font-family=\"Times,serif\" font-size=\"10.00\">1</text>\n</g>\n<!-- target_G2 -->\n<g id=\"node5\" class=\"node\">\n<title>target_G2</title>\n<text text-anchor=\"middle\" x=\"195\" y=\"-14.3\" font-family=\"Times,serif\" font-size=\"14.00\">target</text>\n</g>\n<!-- CYGate&#45;&gt;target_G2 -->\n<g id=\"edge4\" class=\"edge\">\n<title>CYGate:e-&gt;target_G2:w</title>\n<path fill=\"none\" stroke=\"black\" d=\"M131,-34C148.22,-34 149.97,-19.23 165.98,-18.07\"/>\n<ellipse fill=\"black\" stroke=\"black\" cx=\"167\" cy=\"-18.04\" rx=\"1\" ry=\"1\"/>\n<text text-anchor=\"middle\" x=\"149.5\" y=\"-29\" font-family=\"Times,serif\" font-size=\"10.00\">1</text>\n</g>\n</g>\n</svg>",
          "text/plain": "<IPython.core.display.SVG object>"
         },
         "metadata": {},
         "output_type": "display_data"
        }
       ],
       "tabbable": null,
       "tooltip": null
      }
     },
     "3323d535568a4e0588fc6f9c40d4e09d": {
      "model_module": "@jupyter-widgets/controls",
      "model_module_version": "2.0.0",
      "model_name": "HBoxModel",
      "state": {
       "_dom_classes": [],
       "_model_module": "@jupyter-widgets/controls",
       "_model_module_version": "2.0.0",
       "_model_name": "HBoxModel",
       "_view_count": null,
       "_view_module": "@jupyter-widgets/controls",
       "_view_module_version": "2.0.0",
       "_view_name": "HBoxView",
       "box_style": "",
       "children": [
        "IPY_MODEL_2e3206f2464b476494c40085494e8426"
       ],
       "layout": "IPY_MODEL_80607d45261f47e9a8fa77a4908f0a89",
       "tabbable": null,
       "tooltip": null
      }
     },
     "80607d45261f47e9a8fa77a4908f0a89": {
      "model_module": "@jupyter-widgets/base",
      "model_module_version": "2.0.0",
      "model_name": "LayoutModel",
      "state": {
       "_model_module": "@jupyter-widgets/base",
       "_model_module_version": "2.0.0",
       "_model_name": "LayoutModel",
       "_view_count": null,
       "_view_module": "@jupyter-widgets/base",
       "_view_module_version": "2.0.0",
       "_view_name": "LayoutView",
       "align_content": null,
       "align_items": null,
       "align_self": null,
       "border_bottom": null,
       "border_left": null,
       "border_right": null,
       "border_top": null,
       "bottom": null,
       "display": null,
       "flex": null,
       "flex_flow": null,
       "grid_area": null,
       "grid_auto_columns": null,
       "grid_auto_flow": null,
       "grid_auto_rows": null,
       "grid_column": null,
       "grid_gap": null,
       "grid_row": null,
       "grid_template_areas": null,
       "grid_template_columns": null,
       "grid_template_rows": null,
       "height": null,
       "justify_content": null,
       "justify_items": null,
       "left": null,
       "margin": null,
       "max_height": null,
       "max_width": null,
       "min_height": null,
       "min_width": null,
       "object_fit": null,
       "object_position": null,
       "order": null,
       "overflow": null,
       "padding": null,
       "right": null,
       "top": null,
       "visibility": null,
       "width": null
      }
     },
     "8ac3fb9b3b4c492a817bab92ea20c53c": {
      "model_module": "@jupyter-widgets/base",
      "model_module_version": "2.0.0",
      "model_name": "LayoutModel",
      "state": {
       "_model_module": "@jupyter-widgets/base",
       "_model_module_version": "2.0.0",
       "_model_name": "LayoutModel",
       "_view_count": null,
       "_view_module": "@jupyter-widgets/base",
       "_view_module_version": "2.0.0",
       "_view_name": "LayoutView",
       "align_content": null,
       "align_items": null,
       "align_self": null,
       "border_bottom": null,
       "border_left": null,
       "border_right": null,
       "border_top": null,
       "bottom": null,
       "display": null,
       "flex": null,
       "flex_flow": null,
       "grid_area": null,
       "grid_auto_columns": null,
       "grid_auto_flow": null,
       "grid_auto_rows": null,
       "grid_column": null,
       "grid_gap": null,
       "grid_row": null,
       "grid_template_areas": null,
       "grid_template_columns": null,
       "grid_template_rows": null,
       "height": null,
       "justify_content": null,
       "justify_items": null,
       "left": null,
       "margin": null,
       "max_height": null,
       "max_width": null,
       "min_height": null,
       "min_width": null,
       "object_fit": null,
       "object_position": null,
       "order": null,
       "overflow": null,
       "padding": null,
       "right": null,
       "top": null,
       "visibility": null,
       "width": null
      }
     },
     "94eacee38f164718b230258dc3730aca": {
      "model_module": "@jupyter-widgets/base",
      "model_module_version": "2.0.0",
      "model_name": "LayoutModel",
      "state": {
       "_model_module": "@jupyter-widgets/base",
       "_model_module_version": "2.0.0",
       "_model_name": "LayoutModel",
       "_view_count": null,
       "_view_module": "@jupyter-widgets/base",
       "_view_module_version": "2.0.0",
       "_view_name": "LayoutView",
       "align_content": null,
       "align_items": null,
       "align_self": null,
       "border_bottom": null,
       "border_left": null,
       "border_right": null,
       "border_top": null,
       "bottom": null,
       "display": null,
       "flex": null,
       "flex_flow": null,
       "grid_area": null,
       "grid_auto_columns": null,
       "grid_auto_flow": null,
       "grid_auto_rows": null,
       "grid_column": null,
       "grid_gap": null,
       "grid_row": null,
       "grid_template_areas": null,
       "grid_template_columns": null,
       "grid_template_rows": null,
       "height": null,
       "justify_content": null,
       "justify_items": null,
       "left": null,
       "margin": null,
       "max_height": null,
       "max_width": null,
       "min_height": null,
       "min_width": null,
       "object_fit": null,
       "object_position": null,
       "order": null,
       "overflow": null,
       "padding": null,
       "right": null,
       "top": null,
       "visibility": null,
       "width": null
      }
     },
     "b43a6f4c20e541d8bad1ca300c567c36": {
      "model_module": "@jupyter-widgets/base",
      "model_module_version": "2.0.0",
      "model_name": "LayoutModel",
      "state": {
       "_model_module": "@jupyter-widgets/base",
       "_model_module_version": "2.0.0",
       "_model_name": "LayoutModel",
       "_view_count": null,
       "_view_module": "@jupyter-widgets/base",
       "_view_module_version": "2.0.0",
       "_view_name": "LayoutView",
       "align_content": null,
       "align_items": null,
       "align_self": null,
       "border_bottom": null,
       "border_left": null,
       "border_right": null,
       "border_top": null,
       "bottom": null,
       "display": null,
       "flex": null,
       "flex_flow": null,
       "grid_area": null,
       "grid_auto_columns": null,
       "grid_auto_flow": null,
       "grid_auto_rows": null,
       "grid_column": null,
       "grid_gap": null,
       "grid_row": null,
       "grid_template_areas": null,
       "grid_template_columns": null,
       "grid_template_rows": null,
       "height": null,
       "justify_content": null,
       "justify_items": null,
       "left": null,
       "margin": null,
       "max_height": null,
       "max_width": null,
       "min_height": null,
       "min_width": null,
       "object_fit": null,
       "object_position": null,
       "order": null,
       "overflow": null,
       "padding": null,
       "right": null,
       "top": null,
       "visibility": null,
       "width": null
      }
     },
     "f3926739ece04fe18ff83cd684813b43": {
      "model_module": "@jupyter-widgets/controls",
      "model_module_version": "2.0.0",
      "model_name": "HBoxModel",
      "state": {
       "_dom_classes": [],
       "_model_module": "@jupyter-widgets/controls",
       "_model_module_version": "2.0.0",
       "_model_name": "HBoxModel",
       "_view_count": null,
       "_view_module": "@jupyter-widgets/controls",
       "_view_module_version": "2.0.0",
       "_view_name": "HBoxView",
       "box_style": "",
       "children": [
        "IPY_MODEL_0148ec34412740dd86722055357d7429"
       ],
       "layout": "IPY_MODEL_8ac3fb9b3b4c492a817bab92ea20c53c",
       "tabbable": null,
       "tooltip": null
      }
     }
    },
    "version_major": 2,
    "version_minor": 0
   }
  }
 },
 "nbformat": 4,
 "nbformat_minor": 5
}
