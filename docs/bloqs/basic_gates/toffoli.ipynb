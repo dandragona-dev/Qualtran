{
 "cells": [
  {
   "cell_type": "markdown",
   "id": "9fc6c1b3",
   "metadata": {
    "cq.autogen": "title_cell"
   },
   "source": [
    "# Toffoli"
   ]
  },
  {
   "cell_type": "code",
   "execution_count": 1,
   "id": "f7ebfc9a",
   "metadata": {
    "cq.autogen": "top_imports"
   },
   "outputs": [],
   "source": [
    "from qualtran import Bloq, CompositeBloq, BloqBuilder, Signature, Register\n",
    "from qualtran import QBit, QInt, QUInt, QAny\n",
    "from qualtran.drawing import show_bloq, show_call_graph, show_counts_sigma\n",
    "from typing import *\n",
    "import numpy as np\n",
    "import sympy\n",
    "import cirq"
   ]
  },
  {
   "cell_type": "markdown",
   "id": "9cbdc9e5",
   "metadata": {
    "cq.autogen": "Toffoli.bloq_doc.md"
   },
   "source": [
    "## `Toffoli`\n",
    "The Toffoli gate.\n",
    "\n",
    "This will flip the target bit if both controls are active. It can be thought of as\n",
    "a reversible AND gate.\n",
    "\n",
    "Like `TGate`, this is a common compilation target. The Clifford+Toffoli gateset is\n",
    "universal.\n",
    "\n",
    "#### References\n",
    " - [Novel constructions for the fault-tolerant Toffoli gate](https://arxiv.org/abs/1212.5069). Cody Jones. 2012. Provides a decomposition into 4 `TGate`.\n"
   ]
  },
  {
   "cell_type": "code",
   "execution_count": 2,
   "id": "016aaf44",
   "metadata": {
    "cq.autogen": "Toffoli.bloq_doc.py"
   },
   "outputs": [],
   "source": [
    "from qualtran.bloqs.basic_gates import Toffoli"
   ]
  },
  {
   "cell_type": "markdown",
   "id": "d6e985de",
   "metadata": {
    "cq.autogen": "Toffoli.example_instances.md"
   },
   "source": [
    "### Example Instances"
   ]
  },
  {
   "cell_type": "code",
   "execution_count": 3,
   "id": "5f65ce4e",
   "metadata": {
    "cq.autogen": "Toffoli.toffoli"
   },
   "outputs": [],
   "source": [
    "toffoli = Toffoli()"
   ]
  },
  {
   "cell_type": "markdown",
   "id": "f1eeb955",
   "metadata": {
    "cq.autogen": "Toffoli.graphical_signature.md"
   },
   "source": [
    "#### Graphical Signature"
   ]
  },
  {
   "cell_type": "code",
   "execution_count": 4,
   "id": "7b0a7c76",
   "metadata": {
    "cq.autogen": "Toffoli.graphical_signature.py"
   },
   "outputs": [
    {
     "data": {
      "application/vnd.jupyter.widget-view+json": {
       "model_id": "14e5e0ce0ebc415c94913b71046c6cb2",
       "version_major": 2,
       "version_minor": 0
      },
      "text/plain": [
       "HBox(children=(Output(outputs=({'output_type': 'display_data', 'data': {'text/plain': '<IPython.core.display.M…"
      ]
     },
     "metadata": {},
     "output_type": "display_data"
    }
   ],
   "source": [
    "from qualtran.drawing import show_bloqs\n",
    "show_bloqs([toffoli],\n",
    "           ['`toffoli`'])"
   ]
  },
  {
   "cell_type": "code",
   "execution_count": 5,
   "id": "c216f2e8",
   "metadata": {},
   "outputs": [
    {
     "data": {
      "image/png": "[encoded data removed]",
      "text/plain": [
       "<Figure size 320x280 with 1 Axes>"
      ]
     },
     "metadata": {},
     "output_type": "display_data"
    }
   ],
   "source": [
    "show_bloq(toffoli, 'musical_score')"
   ]
  },
  {
   "cell_type": "markdown",
   "id": "b62346c2",
   "metadata": {
    "cq.autogen": "Toffoli.call_graph.md"
   },
   "source": [
    "### Call Graph"
   ]
  },
  {
   "cell_type": "code",
   "execution_count": 6,
   "id": "9e260f18",
   "metadata": {
    "cq.autogen": "Toffoli.call_graph.py"
   },
   "outputs": [
    {
     "data": {
      "image/svg+xml": [
       "<svg xmlns=\"http://www.w3.org/2000/svg\" xmlns:xlink=\"http://www.w3.org/1999/xlink\" width=\"63pt\" height=\"44pt\" viewBox=\"0.00 0.00 63.00 44.00\">\n",
       "<g id=\"graph0\" class=\"graph\" transform=\"scale(1 1) rotate(0) translate(4 40)\">\n",
       "<title>counts</title>\n",
       "<polygon fill=\"white\" stroke=\"transparent\" points=\"-4,4 -4,-40 59,-40 59,4 -4,4\"/>\n",
       "<!-- b0 -->\n",
       "<g id=\"node1\" class=\"node\">\n",
       "<title>b0</title>\n",
       "<polygon fill=\"none\" stroke=\"black\" points=\"55,-36 0,-36 0,0 55,0 55,-36\"/>\n",
       "<text text-anchor=\"start\" x=\"8\" y=\"-14.3\" font-family=\"Times,serif\" font-size=\"14.00\">Toffoli</text>\n",
       "</g>\n",
       "</g>\n",
       "</svg>"
      ],
      "text/plain": [
       "<IPython.core.display.SVG object>"
      ]
     },
     "metadata": {},
     "output_type": "display_data"
    },
    {
     "data": {
      "text/markdown": [
       "#### Counts totals:\n",
       " - `Toffoli`: 1"
      ],
      "text/plain": [
       "<IPython.core.display.Markdown object>"
      ]
     },
     "metadata": {},
     "output_type": "display_data"
    }
   ],
   "source": [
    "from qualtran.resource_counting.generalizers import ignore_split_join\n",
    "toffoli_g, toffoli_sigma = toffoli.call_graph(max_depth=1, generalizer=ignore_split_join)\n",
    "show_call_graph(toffoli_g)\n",
    "show_counts_sigma(toffoli_sigma)"
   ]
  },
  {
   "cell_type": "code",
   "execution_count": null,
   "id": "ad6ba003",
   "metadata": {},
   "outputs": [],
   "source": []
  }
 ],
 "metadata": {
  "kernelspec": {
   "display_name": "Python 3 (ipykernel)",
   "language": "python",
   "name": "python3"
  },
  "language_info": {
   "codemirror_mode": {
    "name": "ipython",
    "version": 3
   },
   "file_extension": ".py",
   "mimetype": "text/x-python",
   "name": "python",
   "nbconvert_exporter": "python",
   "pygments_lexer": "ipython3",
   "version": "3.11.8"
  },
  "widgets": {
   "application/vnd.jupyter.widget-state+json": {
    "state": {
     "14e5e0ce0ebc415c94913b71046c6cb2": {
      "model_module": "@jupyter-widgets/controls",
      "model_module_version": "2.0.0",
      "model_name": "HBoxModel",
      "state": {
       "_dom_classes": [],
       "_model_module": "@jupyter-widgets/controls",
       "_model_module_version": "2.0.0",
       "_model_name": "HBoxModel",
       "_view_count": null,
       "_view_module": "@jupyter-widgets/controls",
       "_view_module_version": "2.0.0",
       "_view_name": "HBoxView",
       "box_style": "",
       "children": [
        "IPY_MODEL_209d067fc1ca46888bfc915eb308b93c"
       ],
       "layout": "IPY_MODEL_ad2b202a985d40488eddb89dcf37b1b9",
       "tabbable": null,
       "tooltip": null
      }
     },
     "209d067fc1ca46888bfc915eb308b93c": {
      "model_module": "@jupyter-widgets/output",
      "model_module_version": "1.0.0",
      "model_name": "OutputModel",
      "state": {
       "_dom_classes": [],
       "_model_module": "@jupyter-widgets/output",
       "_model_module_version": "1.0.0",
       "_model_name": "OutputModel",
       "_view_count": null,
       "_view_module": "@jupyter-widgets/output",
       "_view_module_version": "1.0.0",
       "_view_name": "OutputView",
       "layout": "IPY_MODEL_f8b29794a99843679c12121e10b608c7",
       "msg_id": "",
       "outputs": [
        {
         "data": {
          "text/markdown": "`toffoli`",
          "text/plain": "<IPython.core.display.Markdown object>"
         },
         "metadata": {},
         "output_type": "display_data"
        },
        {
         "data": {
          "image/svg+xml": "<svg xmlns=\"http://www.w3.org/2000/svg\" xmlns:xlink=\"http://www.w3.org/1999/xlink\" width=\"230pt\" height=\"152pt\" viewBox=\"0.00 0.00 230.00 152.00\">\n<g id=\"graph0\" class=\"graph\" transform=\"scale(1 1) rotate(0) translate(4 148)\">\n<title>my_graph</title>\n<polygon fill=\"white\" stroke=\"transparent\" points=\"-4,4 -4,-148 226,-148 226,4 -4,4\"/>\n<!-- ctrl_G4 -->\n<g id=\"node1\" class=\"node\">\n<title>ctrl_G4</title>\n<text text-anchor=\"middle\" x=\"27\" y=\"-122.3\" font-family=\"Times,serif\" font-size=\"14.00\">ctrl[0]</text>\n</g>\n<!-- Toffoli -->\n<g id=\"node4\" class=\"node\">\n<title>Toffoli</title>\n<polygon fill=\"none\" stroke=\"black\" points=\"91,-104 91,-121 131,-121 131,-104 91,-104\"/>\n<text text-anchor=\"start\" x=\"97\" y=\"-110\" font-family=\"Times,serif\" font-size=\"10.00\">Toffoli</text>\n<polygon fill=\"none\" stroke=\"black\" points=\"91,-83 91,-104 131,-104 131,-83 91,-83\"/>\n<text text-anchor=\"start\" x=\"94\" y=\"-89.8\" font-family=\"Times,serif\" font-size=\"14.00\">ctrl[0]</text>\n<polygon fill=\"none\" stroke=\"black\" points=\"91,-62 91,-83 131,-83 131,-62 91,-62\"/>\n<text text-anchor=\"start\" x=\"94\" y=\"-68.8\" font-family=\"Times,serif\" font-size=\"14.00\">ctrl[1]</text>\n<polygon fill=\"none\" stroke=\"black\" points=\"91,-41 91,-62 131,-62 131,-41 91,-41\"/>\n<text text-anchor=\"start\" x=\"95.5\" y=\"-47.8\" font-family=\"Times,serif\" font-size=\"14.00\">target</text>\n</g>\n<!-- ctrl_G4&#45;&gt;Toffoli -->\n<g id=\"edge1\" class=\"edge\">\n<title>ctrl_G4:e-&gt;Toffoli:w</title>\n<path fill=\"none\" stroke=\"black\" d=\"M54,-126C74.89,-126 69.72,-96.45 88.58,-94.14\"/>\n<ellipse fill=\"black\" stroke=\"black\" cx=\"90\" cy=\"-94.06\" rx=\"1\" ry=\"1\"/>\n<text text-anchor=\"middle\" x=\"72.5\" y=\"-113\" font-family=\"Times,serif\" font-size=\"10.00\">1</text>\n</g>\n<!-- ctrl_G5 -->\n<g id=\"node2\" class=\"node\">\n<title>ctrl_G5</title>\n<text text-anchor=\"middle\" x=\"27\" y=\"-68.3\" font-family=\"Times,serif\" font-size=\"14.00\">ctrl[1]</text>\n</g>\n<!-- ctrl_G5&#45;&gt;Toffoli -->\n<g id=\"edge2\" class=\"edge\">\n<title>ctrl_G5:e-&gt;Toffoli:w</title>\n<path fill=\"none\" stroke=\"black\" d=\"M54,-72C69.67,-72 74.14,-72 88.77,-72\"/>\n<ellipse fill=\"black\" stroke=\"black\" cx=\"90\" cy=\"-72\" rx=\"1\" ry=\"1\"/>\n<text text-anchor=\"middle\" x=\"72.5\" y=\"-75\" font-family=\"Times,serif\" font-size=\"10.00\">1</text>\n</g>\n<!-- target_G7 -->\n<g id=\"node3\" class=\"node\">\n<title>target_G7</title>\n<text text-anchor=\"middle\" x=\"27\" y=\"-14.3\" font-family=\"Times,serif\" font-size=\"14.00\">target</text>\n</g>\n<!-- target_G7&#45;&gt;Toffoli -->\n<g id=\"edge3\" class=\"edge\">\n<title>target_G7:e-&gt;Toffoli:w</title>\n<path fill=\"none\" stroke=\"black\" d=\"M54,-18C75.17,-18 69.47,-48.47 88.55,-50.85\"/>\n<ellipse fill=\"black\" stroke=\"black\" cx=\"90\" cy=\"-50.94\" rx=\"1\" ry=\"1\"/>\n<text text-anchor=\"middle\" x=\"72.5\" y=\"-39\" font-family=\"Times,serif\" font-size=\"10.00\">1</text>\n</g>\n<!-- ctrl_G0 -->\n<g id=\"node5\" class=\"node\">\n<title>ctrl_G0</title>\n<text text-anchor=\"middle\" x=\"195\" y=\"-122.3\" font-family=\"Times,serif\" font-size=\"14.00\">ctrl[0]</text>\n</g>\n<!-- Toffoli&#45;&gt;ctrl_G0 -->\n<g id=\"edge4\" class=\"edge\">\n<title>Toffoli:e-&gt;ctrl_G0:w</title>\n<path fill=\"none\" stroke=\"black\" d=\"M131,-94C151.89,-94 146.72,-123.55 165.58,-125.86\"/>\n<ellipse fill=\"black\" stroke=\"black\" cx=\"167\" cy=\"-125.94\" rx=\"1\" ry=\"1\"/>\n<text text-anchor=\"middle\" x=\"149.5\" y=\"-113\" font-family=\"Times,serif\" font-size=\"10.00\">1</text>\n</g>\n<!-- ctrl_G8 -->\n<g id=\"node6\" class=\"node\">\n<title>ctrl_G8</title>\n<text text-anchor=\"middle\" x=\"195\" y=\"-68.3\" font-family=\"Times,serif\" font-size=\"14.00\">ctrl[1]</text>\n</g>\n<!-- Toffoli&#45;&gt;ctrl_G8 -->\n<g id=\"edge5\" class=\"edge\">\n<title>Toffoli:e-&gt;ctrl_G8:w</title>\n<path fill=\"none\" stroke=\"black\" d=\"M131,-72C146.67,-72 151.14,-72 165.77,-72\"/>\n<ellipse fill=\"black\" stroke=\"black\" cx=\"167\" cy=\"-72\" rx=\"1\" ry=\"1\"/>\n<text text-anchor=\"middle\" x=\"149.5\" y=\"-75\" font-family=\"Times,serif\" font-size=\"10.00\">1</text>\n</g>\n<!-- target_G3 -->\n<g id=\"node7\" class=\"node\">\n<title>target_G3</title>\n<text text-anchor=\"middle\" x=\"195\" y=\"-14.3\" font-family=\"Times,serif\" font-size=\"14.00\">target</text>\n</g>\n<!-- Toffoli&#45;&gt;target_G3 -->\n<g id=\"edge6\" class=\"edge\">\n<title>Toffoli:e-&gt;target_G3:w</title>\n<path fill=\"none\" stroke=\"black\" d=\"M131,-51C152.17,-51 146.47,-20.53 165.55,-18.15\"/>\n<ellipse fill=\"black\" stroke=\"black\" cx=\"167\" cy=\"-18.06\" rx=\"1\" ry=\"1\"/>\n<text text-anchor=\"middle\" x=\"149.5\" y=\"-39\" font-family=\"Times,serif\" font-size=\"10.00\">1</text>\n</g>\n</g>\n</svg>",
          "text/plain": "<IPython.core.display.SVG object>"
         },
         "metadata": {},
         "output_type": "display_data"
        }
       ],
       "tabbable": null,
       "tooltip": null
      }
     },
     "ad2b202a985d40488eddb89dcf37b1b9": {
      "model_module": "@jupyter-widgets/base",
      "model_module_version": "2.0.0",
      "model_name": "LayoutModel",
      "state": {
       "_model_module": "@jupyter-widgets/base",
       "_model_module_version": "2.0.0",
       "_model_name": "LayoutModel",
       "_view_count": null,
       "_view_module": "@jupyter-widgets/base",
       "_view_module_version": "2.0.0",
       "_view_name": "LayoutView",
       "align_content": null,
       "align_items": null,
       "align_self": null,
       "border_bottom": null,
       "border_left": null,
       "border_right": null,
       "border_top": null,
       "bottom": null,
       "display": null,
       "flex": null,
       "flex_flow": null,
       "grid_area": null,
       "grid_auto_columns": null,
       "grid_auto_flow": null,
       "grid_auto_rows": null,
       "grid_column": null,
       "grid_gap": null,
       "grid_row": null,
       "grid_template_areas": null,
       "grid_template_columns": null,
       "grid_template_rows": null,
       "height": null,
       "justify_content": null,
       "justify_items": null,
       "left": null,
       "margin": null,
       "max_height": null,
       "max_width": null,
       "min_height": null,
       "min_width": null,
       "object_fit": null,
       "object_position": null,
       "order": null,
       "overflow": null,
       "padding": null,
       "right": null,
       "top": null,
       "visibility": null,
       "width": null
      }
     },
     "f8b29794a99843679c12121e10b608c7": {
      "model_module": "@jupyter-widgets/base",
      "model_module_version": "2.0.0",
      "model_name": "LayoutModel",
      "state": {
       "_model_module": "@jupyter-widgets/base",
       "_model_module_version": "2.0.0",
       "_model_name": "LayoutModel",
       "_view_count": null,
       "_view_module": "@jupyter-widgets/base",
       "_view_module_version": "2.0.0",
       "_view_name": "LayoutView",
       "align_content": null,
       "align_items": null,
       "align_self": null,
       "border_bottom": null,
       "border_left": null,
       "border_right": null,
       "border_top": null,
       "bottom": null,
       "display": null,
       "flex": null,
       "flex_flow": null,
       "grid_area": null,
       "grid_auto_columns": null,
       "grid_auto_flow": null,
       "grid_auto_rows": null,
       "grid_column": null,
       "grid_gap": null,
       "grid_row": null,
       "grid_template_areas": null,
       "grid_template_columns": null,
       "grid_template_rows": null,
       "height": null,
       "justify_content": null,
       "justify_items": null,
       "left": null,
       "margin": null,
       "max_height": null,
       "max_width": null,
       "min_height": null,
       "min_width": null,
       "object_fit": null,
       "object_position": null,
       "order": null,
       "overflow": null,
       "padding": null,
       "right": null,
       "top": null,
       "visibility": null,
       "width": null
      }
     }
    },
    "version_major": 2,
    "version_minor": 0
   }
  }
 },
 "nbformat": 4,
 "nbformat_minor": 5
}
