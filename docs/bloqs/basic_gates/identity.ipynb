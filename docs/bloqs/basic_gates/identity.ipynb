{
 "cells": [
  {
   "cell_type": "markdown",
   "id": "6cc35310",
   "metadata": {
    "cq.autogen": "title_cell"
   },
   "source": [
    "# Identity Gate"
   ]
  },
  {
   "cell_type": "code",
   "execution_count": 1,
   "id": "0097397d",
   "metadata": {
    "cq.autogen": "top_imports"
   },
   "outputs": [],
   "source": [
    "from qualtran import Bloq, CompositeBloq, BloqBuilder, Signature, Register\n",
    "from qualtran import QBit, QInt, QUInt, QAny\n",
    "from qualtran.drawing import show_bloq, show_call_graph, show_counts_sigma\n",
    "from typing import *\n",
    "import numpy as np\n",
    "import sympy\n",
    "import cirq"
   ]
  },
  {
   "cell_type": "markdown",
   "id": "79691443",
   "metadata": {
    "cq.autogen": "Identity.bloq_doc.md"
   },
   "source": [
    "## `Identity`\n",
    "The identity gate on `n` qubits.\n",
    "\n",
    "#### Parameters\n",
    " - `bitsize`: number of qubits `n`, defaults to 1. \n",
    "\n",
    "#### Registers\n",
    " - `q`: register of `n` qubits\n"
   ]
  },
  {
   "cell_type": "code",
   "execution_count": 2,
   "id": "f93ce35e",
   "metadata": {
    "cq.autogen": "Identity.bloq_doc.py"
   },
   "outputs": [],
   "source": [
    "from qualtran.bloqs.basic_gates import Identity"
   ]
  },
  {
   "cell_type": "markdown",
   "id": "af0c1bd3",
   "metadata": {
    "cq.autogen": "Identity.example_instances.md"
   },
   "source": [
    "### Example Instances"
   ]
  },
  {
   "cell_type": "code",
   "execution_count": 3,
   "id": "6c3e5fe5",
   "metadata": {
    "cq.autogen": "Identity.identity_symb"
   },
   "outputs": [],
   "source": [
    "import sympy\n",
    "\n",
    "n = sympy.Symbol(\"n\")\n",
    "identity_symb = Identity(n)"
   ]
  },
  {
   "cell_type": "code",
   "execution_count": 4,
   "id": "f741716a",
   "metadata": {
    "cq.autogen": "Identity.identity"
   },
   "outputs": [],
   "source": [
    "identity = Identity()"
   ]
  },
  {
   "cell_type": "code",
   "execution_count": 5,
   "id": "3caceb77",
   "metadata": {
    "cq.autogen": "Identity.identity_n"
   },
   "outputs": [],
   "source": [
    "n = 4\n",
    "identity_n = Identity(n)"
   ]
  },
  {
   "cell_type": "markdown",
   "id": "11cdf868",
   "metadata": {
    "cq.autogen": "Identity.graphical_signature.md"
   },
   "source": [
    "#### Graphical Signature"
   ]
  },
  {
   "cell_type": "code",
   "execution_count": 6,
   "id": "b3fcc484",
   "metadata": {
    "cq.autogen": "Identity.graphical_signature.py"
   },
   "outputs": [
    {
     "data": {
      "application/vnd.jupyter.widget-view+json": {
       "model_id": "65fecf71031e4e8fbd23a064a5a3d1ab",
       "version_major": 2,
       "version_minor": 0
      },
      "text/plain": [
       "HBox(children=(Output(outputs=({'output_type': 'display_data', 'data': {'text/plain': '<IPython.core.display.M…"
      ]
     },
     "metadata": {},
     "output_type": "display_data"
    }
   ],
   "source": [
    "from qualtran.drawing import show_bloqs\n",
    "show_bloqs([identity_symb, identity, identity_n],\n",
    "           ['`identity_symb`', '`identity`', '`identity_n`'])"
   ]
  },
  {
   "cell_type": "markdown",
   "id": "17e96642",
   "metadata": {
    "cq.autogen": "Identity.call_graph.md"
   },
   "source": [
    "### Call Graph"
   ]
  },
  {
   "cell_type": "code",
   "execution_count": 7,
   "id": "303fa191",
   "metadata": {
    "cq.autogen": "Identity.call_graph.py"
   },
   "outputs": [
    {
     "data": {
      "image/svg+xml": [
       "<svg xmlns=\"http://www.w3.org/2000/svg\" xmlns:xlink=\"http://www.w3.org/1999/xlink\" width=\"79pt\" height=\"44pt\" viewBox=\"0.00 0.00 79.00 44.00\">\n",
       "<g id=\"graph0\" class=\"graph\" transform=\"scale(1 1) rotate(0) translate(4 40)\">\n",
       "<title>counts</title>\n",
       "<polygon fill=\"white\" stroke=\"transparent\" points=\"-4,4 -4,-40 75,-40 75,4 -4,4\"/>\n",
       "<!-- b0 -->\n",
       "<g id=\"node1\" class=\"node\">\n",
       "<title>b0</title>\n",
       "<polygon fill=\"none\" stroke=\"black\" points=\"71,-36 0,-36 0,0 71,0 71,-36\"/>\n",
       "<text text-anchor=\"start\" x=\"33\" y=\"-19.8\" font-family=\"Times,serif\" font-size=\"14.00\">I</text>\n",
       "<text text-anchor=\"start\" x=\"8\" y=\"-9\" font-family=\"monospace\" font-size=\"10.00\">bitsize=n</text>\n",
       "</g>\n",
       "</g>\n",
       "</svg>"
      ],
      "text/plain": [
       "<IPython.core.display.SVG object>"
      ]
     },
     "metadata": {},
     "output_type": "display_data"
    },
    {
     "data": {
      "text/markdown": [
       "#### Counts totals:\n",
       " - `I`: 1"
      ],
      "text/plain": [
       "<IPython.core.display.Markdown object>"
      ]
     },
     "metadata": {},
     "output_type": "display_data"
    }
   ],
   "source": [
    "from qualtran.resource_counting.generalizers import ignore_split_join\n",
    "identity_symb_g, identity_symb_sigma = identity_symb.call_graph(max_depth=1, generalizer=ignore_split_join)\n",
    "show_call_graph(identity_symb_g)\n",
    "show_counts_sigma(identity_symb_sigma)"
   ]
  }
 ],
 "metadata": {
  "kernelspec": {
   "display_name": "Python 3",
   "language": "python",
   "name": "python3"
  },
  "language_info": {
   "codemirror_mode": {
    "name": "ipython",
    "version": 3
   },
   "file_extension": ".py",
   "mimetype": "text/x-python",
   "name": "python",
   "nbconvert_exporter": "python",
   "pygments_lexer": "ipython3",
   "version": "3.11.8"
  },
  "widgets": {
   "application/vnd.jupyter.widget-state+json": {
    "state": {
     "49aec738882f4d7b86528b74ac6846a3": {
      "model_module": "@jupyter-widgets/base",
      "model_module_version": "2.0.0",
      "model_name": "LayoutModel",
      "state": {
       "_model_module": "@jupyter-widgets/base",
       "_model_module_version": "2.0.0",
       "_model_name": "LayoutModel",
       "_view_count": null,
       "_view_module": "@jupyter-widgets/base",
       "_view_module_version": "2.0.0",
       "_view_name": "LayoutView",
       "align_content": null,
       "align_items": null,
       "align_self": null,
       "border_bottom": null,
       "border_left": null,
       "border_right": null,
       "border_top": null,
       "bottom": null,
       "display": null,
       "flex": null,
       "flex_flow": null,
       "grid_area": null,
       "grid_auto_columns": null,
       "grid_auto_flow": null,
       "grid_auto_rows": null,
       "grid_column": null,
       "grid_gap": null,
       "grid_row": null,
       "grid_template_areas": null,
       "grid_template_columns": null,
       "grid_template_rows": null,
       "height": null,
       "justify_content": null,
       "justify_items": null,
       "left": null,
       "margin": null,
       "max_height": null,
       "max_width": null,
       "min_height": null,
       "min_width": null,
       "object_fit": null,
       "object_position": null,
       "order": null,
       "overflow": null,
       "padding": null,
       "right": null,
       "top": null,
       "visibility": null,
       "width": null
      }
     },
     "4eef95ee4a044a04add9ebc033e9d34d": {
      "model_module": "@jupyter-widgets/output",
      "model_module_version": "1.0.0",
      "model_name": "OutputModel",
      "state": {
       "_dom_classes": [],
       "_model_module": "@jupyter-widgets/output",
       "_model_module_version": "1.0.0",
       "_model_name": "OutputModel",
       "_view_count": null,
       "_view_module": "@jupyter-widgets/output",
       "_view_module_version": "1.0.0",
       "_view_name": "OutputView",
       "layout": "IPY_MODEL_ee99009a4c7546aa98ae01ebf44664f2",
       "msg_id": "",
       "outputs": [
        {
         "data": {
          "text/markdown": "`identity`",
          "text/plain": "<IPython.core.display.Markdown object>"
         },
         "metadata": {},
         "output_type": "display_data"
        },
        {
         "data": {
          "image/svg+xml": "<svg xmlns=\"http://www.w3.org/2000/svg\" xmlns:xlink=\"http://www.w3.org/1999/xlink\" width=\"203pt\" height=\"54pt\" viewBox=\"0.00 0.00 203.00 54.00\">\n<g id=\"graph0\" class=\"graph\" transform=\"scale(1 1) rotate(0) translate(4 50)\">\n<title>my_graph</title>\n<polygon fill=\"white\" stroke=\"transparent\" points=\"-4,4 -4,-50 199,-50 199,4 -4,4\"/>\n<!-- q_G0 -->\n<g id=\"node1\" class=\"node\">\n<title>q_G0</title>\n<text text-anchor=\"middle\" x=\"27\" y=\"-14.3\" font-family=\"Times,serif\" font-size=\"14.00\">q</text>\n</g>\n<!-- Identity -->\n<g id=\"node2\" class=\"node\">\n<title>Identity</title>\n<polygon fill=\"none\" stroke=\"black\" points=\"91.5,-29 91.5,-46 104.5,-46 104.5,-29 91.5,-29\"/>\n<text text-anchor=\"start\" x=\"96\" y=\"-35\" font-family=\"Times,serif\" font-size=\"10.00\">I</text>\n<polygon fill=\"none\" stroke=\"black\" points=\"91.5,-8 91.5,-29 104.5,-29 104.5,-8 91.5,-8\"/>\n<text text-anchor=\"start\" x=\"94.5\" y=\"-14.8\" font-family=\"Times,serif\" font-size=\"14.00\">q</text>\n</g>\n<!-- q_G0&#45;&gt;Identity -->\n<g id=\"edge1\" class=\"edge\">\n<title>q_G0:e-&gt;Identity:w</title>\n<path fill=\"none\" stroke=\"black\" d=\"M54,-18C69.67,-18 74.14,-18 88.77,-18\"/>\n<ellipse fill=\"black\" stroke=\"black\" cx=\"90\" cy=\"-18\" rx=\"1\" ry=\"1\"/>\n<text text-anchor=\"middle\" x=\"72.5\" y=\"-21\" font-family=\"Times,serif\" font-size=\"10.00\">1</text>\n</g>\n<!-- q_G1 -->\n<g id=\"node3\" class=\"node\">\n<title>q_G1</title>\n<text text-anchor=\"middle\" x=\"168\" y=\"-14.3\" font-family=\"Times,serif\" font-size=\"14.00\">q</text>\n</g>\n<!-- Identity&#45;&gt;q_G1 -->\n<g id=\"edge2\" class=\"edge\">\n<title>Identity:e-&gt;q_G1:w</title>\n<path fill=\"none\" stroke=\"black\" d=\"M104,-18C119.67,-18 124.14,-18 138.77,-18\"/>\n<ellipse fill=\"black\" stroke=\"black\" cx=\"140\" cy=\"-18\" rx=\"1\" ry=\"1\"/>\n<text text-anchor=\"middle\" x=\"122.5\" y=\"-21\" font-family=\"Times,serif\" font-size=\"10.00\">1</text>\n</g>\n</g>\n</svg>",
          "text/plain": "<IPython.core.display.SVG object>"
         },
         "metadata": {},
         "output_type": "display_data"
        }
       ],
       "tabbable": null,
       "tooltip": null
      }
     },
     "65fecf71031e4e8fbd23a064a5a3d1ab": {
      "model_module": "@jupyter-widgets/controls",
      "model_module_version": "2.0.0",
      "model_name": "HBoxModel",
      "state": {
       "_dom_classes": [],
       "_model_module": "@jupyter-widgets/controls",
       "_model_module_version": "2.0.0",
       "_model_name": "HBoxModel",
       "_view_count": null,
       "_view_module": "@jupyter-widgets/controls",
       "_view_module_version": "2.0.0",
       "_view_name": "HBoxView",
       "box_style": "",
       "children": [
        "IPY_MODEL_9b0c0a5743ed4488bade8c366c53b311",
        "IPY_MODEL_4eef95ee4a044a04add9ebc033e9d34d",
        "IPY_MODEL_ec9367e1f46646978e389c99a89730b1"
       ],
       "layout": "IPY_MODEL_c93a7a2efb734577bfc50cb2896aa05d",
       "tabbable": null,
       "tooltip": null
      }
     },
     "9b0c0a5743ed4488bade8c366c53b311": {
      "model_module": "@jupyter-widgets/output",
      "model_module_version": "1.0.0",
      "model_name": "OutputModel",
      "state": {
       "_dom_classes": [],
       "_model_module": "@jupyter-widgets/output",
       "_model_module_version": "1.0.0",
       "_model_name": "OutputModel",
       "_view_count": null,
       "_view_module": "@jupyter-widgets/output",
       "_view_module_version": "1.0.0",
       "_view_name": "OutputView",
       "layout": "IPY_MODEL_cfd775793aab4d0cbebe47f8db5a72cd",
       "msg_id": "",
       "outputs": [
        {
         "data": {
          "text/markdown": "`identity_symb`",
          "text/plain": "<IPython.core.display.Markdown object>"
         },
         "metadata": {},
         "output_type": "display_data"
        },
        {
         "data": {
          "image/svg+xml": "<svg xmlns=\"http://www.w3.org/2000/svg\" xmlns:xlink=\"http://www.w3.org/1999/xlink\" width=\"203pt\" height=\"54pt\" viewBox=\"0.00 0.00 203.00 54.00\">\n<g id=\"graph0\" class=\"graph\" transform=\"scale(1 1) rotate(0) translate(4 50)\">\n<title>my_graph</title>\n<polygon fill=\"white\" stroke=\"transparent\" points=\"-4,4 -4,-50 199,-50 199,4 -4,4\"/>\n<!-- q_G1 -->\n<g id=\"node1\" class=\"node\">\n<title>q_G1</title>\n<text text-anchor=\"middle\" x=\"27\" y=\"-14.3\" font-family=\"Times,serif\" font-size=\"14.00\">q</text>\n</g>\n<!-- Identity -->\n<g id=\"node2\" class=\"node\">\n<title>Identity</title>\n<polygon fill=\"none\" stroke=\"black\" points=\"91.5,-29 91.5,-46 104.5,-46 104.5,-29 91.5,-29\"/>\n<text text-anchor=\"start\" x=\"96\" y=\"-35\" font-family=\"Times,serif\" font-size=\"10.00\">I</text>\n<polygon fill=\"none\" stroke=\"black\" points=\"91.5,-8 91.5,-29 104.5,-29 104.5,-8 91.5,-8\"/>\n<text text-anchor=\"start\" x=\"94.5\" y=\"-14.8\" font-family=\"Times,serif\" font-size=\"14.00\">q</text>\n</g>\n<!-- q_G1&#45;&gt;Identity -->\n<g id=\"edge1\" class=\"edge\">\n<title>q_G1:e-&gt;Identity:w</title>\n<path fill=\"none\" stroke=\"black\" d=\"M54,-18C69.67,-18 74.14,-18 88.77,-18\"/>\n<ellipse fill=\"black\" stroke=\"black\" cx=\"90\" cy=\"-18\" rx=\"1\" ry=\"1\"/>\n<text text-anchor=\"middle\" x=\"72.5\" y=\"-21\" font-family=\"Times,serif\" font-size=\"10.00\">n</text>\n</g>\n<!-- q_G0 -->\n<g id=\"node3\" class=\"node\">\n<title>q_G0</title>\n<text text-anchor=\"middle\" x=\"168\" y=\"-14.3\" font-family=\"Times,serif\" font-size=\"14.00\">q</text>\n</g>\n<!-- Identity&#45;&gt;q_G0 -->\n<g id=\"edge2\" class=\"edge\">\n<title>Identity:e-&gt;q_G0:w</title>\n<path fill=\"none\" stroke=\"black\" d=\"M104,-18C119.67,-18 124.14,-18 138.77,-18\"/>\n<ellipse fill=\"black\" stroke=\"black\" cx=\"140\" cy=\"-18\" rx=\"1\" ry=\"1\"/>\n<text text-anchor=\"middle\" x=\"122.5\" y=\"-21\" font-family=\"Times,serif\" font-size=\"10.00\">n</text>\n</g>\n</g>\n</svg>",
          "text/plain": "<IPython.core.display.SVG object>"
         },
         "metadata": {},
         "output_type": "display_data"
        }
       ],
       "tabbable": null,
       "tooltip": null
      }
     },
     "c93a7a2efb734577bfc50cb2896aa05d": {
      "model_module": "@jupyter-widgets/base",
      "model_module_version": "2.0.0",
      "model_name": "LayoutModel",
      "state": {
       "_model_module": "@jupyter-widgets/base",
       "_model_module_version": "2.0.0",
       "_model_name": "LayoutModel",
       "_view_count": null,
       "_view_module": "@jupyter-widgets/base",
       "_view_module_version": "2.0.0",
       "_view_name": "LayoutView",
       "align_content": null,
       "align_items": null,
       "align_self": null,
       "border_bottom": null,
       "border_left": null,
       "border_right": null,
       "border_top": null,
       "bottom": null,
       "display": null,
       "flex": null,
       "flex_flow": null,
       "grid_area": null,
       "grid_auto_columns": null,
       "grid_auto_flow": null,
       "grid_auto_rows": null,
       "grid_column": null,
       "grid_gap": null,
       "grid_row": null,
       "grid_template_areas": null,
       "grid_template_columns": null,
       "grid_template_rows": null,
       "height": null,
       "justify_content": null,
       "justify_items": null,
       "left": null,
       "margin": null,
       "max_height": null,
       "max_width": null,
       "min_height": null,
       "min_width": null,
       "object_fit": null,
       "object_position": null,
       "order": null,
       "overflow": null,
       "padding": null,
       "right": null,
       "top": null,
       "visibility": null,
       "width": null
      }
     },
     "cfd775793aab4d0cbebe47f8db5a72cd": {
      "model_module": "@jupyter-widgets/base",
      "model_module_version": "2.0.0",
      "model_name": "LayoutModel",
      "state": {
       "_model_module": "@jupyter-widgets/base",
       "_model_module_version": "2.0.0",
       "_model_name": "LayoutModel",
       "_view_count": null,
       "_view_module": "@jupyter-widgets/base",
       "_view_module_version": "2.0.0",
       "_view_name": "LayoutView",
       "align_content": null,
       "align_items": null,
       "align_self": null,
       "border_bottom": null,
       "border_left": null,
       "border_right": null,
       "border_top": null,
       "bottom": null,
       "display": null,
       "flex": null,
       "flex_flow": null,
       "grid_area": null,
       "grid_auto_columns": null,
       "grid_auto_flow": null,
       "grid_auto_rows": null,
       "grid_column": null,
       "grid_gap": null,
       "grid_row": null,
       "grid_template_areas": null,
       "grid_template_columns": null,
       "grid_template_rows": null,
       "height": null,
       "justify_content": null,
       "justify_items": null,
       "left": null,
       "margin": null,
       "max_height": null,
       "max_width": null,
       "min_height": null,
       "min_width": null,
       "object_fit": null,
       "object_position": null,
       "order": null,
       "overflow": null,
       "padding": null,
       "right": null,
       "top": null,
       "visibility": null,
       "width": null
      }
     },
     "ec9367e1f46646978e389c99a89730b1": {
      "model_module": "@jupyter-widgets/output",
      "model_module_version": "1.0.0",
      "model_name": "OutputModel",
      "state": {
       "_dom_classes": [],
       "_model_module": "@jupyter-widgets/output",
       "_model_module_version": "1.0.0",
       "_model_name": "OutputModel",
       "_view_count": null,
       "_view_module": "@jupyter-widgets/output",
       "_view_module_version": "1.0.0",
       "_view_name": "OutputView",
       "layout": "IPY_MODEL_49aec738882f4d7b86528b74ac6846a3",
       "msg_id": "",
       "outputs": [
        {
         "data": {
          "text/markdown": "`identity_n`",
          "text/plain": "<IPython.core.display.Markdown object>"
         },
         "metadata": {},
         "output_type": "display_data"
        },
        {
         "data": {
          "image/svg+xml": "<svg xmlns=\"http://www.w3.org/2000/svg\" xmlns:xlink=\"http://www.w3.org/1999/xlink\" width=\"203pt\" height=\"54pt\" viewBox=\"0.00 0.00 203.00 54.00\">\n<g id=\"graph0\" class=\"graph\" transform=\"scale(1 1) rotate(0) translate(4 50)\">\n<title>my_graph</title>\n<polygon fill=\"white\" stroke=\"transparent\" points=\"-4,4 -4,-50 199,-50 199,4 -4,4\"/>\n<!-- q_G0 -->\n<g id=\"node1\" class=\"node\">\n<title>q_G0</title>\n<text text-anchor=\"middle\" x=\"27\" y=\"-14.3\" font-family=\"Times,serif\" font-size=\"14.00\">q</text>\n</g>\n<!-- Identity -->\n<g id=\"node2\" class=\"node\">\n<title>Identity</title>\n<polygon fill=\"none\" stroke=\"black\" points=\"91.5,-29 91.5,-46 104.5,-46 104.5,-29 91.5,-29\"/>\n<text text-anchor=\"start\" x=\"96\" y=\"-35\" font-family=\"Times,serif\" font-size=\"10.00\">I</text>\n<polygon fill=\"none\" stroke=\"black\" points=\"91.5,-8 91.5,-29 104.5,-29 104.5,-8 91.5,-8\"/>\n<text text-anchor=\"start\" x=\"94.5\" y=\"-14.8\" font-family=\"Times,serif\" font-size=\"14.00\">q</text>\n</g>\n<!-- q_G0&#45;&gt;Identity -->\n<g id=\"edge1\" class=\"edge\">\n<title>q_G0:e-&gt;Identity:w</title>\n<path fill=\"none\" stroke=\"black\" d=\"M54,-18C69.67,-18 74.14,-18 88.77,-18\"/>\n<ellipse fill=\"black\" stroke=\"black\" cx=\"90\" cy=\"-18\" rx=\"1\" ry=\"1\"/>\n<text text-anchor=\"middle\" x=\"72.5\" y=\"-21\" font-family=\"Times,serif\" font-size=\"10.00\">4</text>\n</g>\n<!-- q_G2 -->\n<g id=\"node3\" class=\"node\">\n<title>q_G2</title>\n<text text-anchor=\"middle\" x=\"168\" y=\"-14.3\" font-family=\"Times,serif\" font-size=\"14.00\">q</text>\n</g>\n<!-- Identity&#45;&gt;q_G2 -->\n<g id=\"edge2\" class=\"edge\">\n<title>Identity:e-&gt;q_G2:w</title>\n<path fill=\"none\" stroke=\"black\" d=\"M104,-18C119.67,-18 124.14,-18 138.77,-18\"/>\n<ellipse fill=\"black\" stroke=\"black\" cx=\"140\" cy=\"-18\" rx=\"1\" ry=\"1\"/>\n<text text-anchor=\"middle\" x=\"122.5\" y=\"-21\" font-family=\"Times,serif\" font-size=\"10.00\">4</text>\n</g>\n</g>\n</svg>",
          "text/plain": "<IPython.core.display.SVG object>"
         },
         "metadata": {},
         "output_type": "display_data"
        }
       ],
       "tabbable": null,
       "tooltip": null
      }
     },
     "ee99009a4c7546aa98ae01ebf44664f2": {
      "model_module": "@jupyter-widgets/base",
      "model_module_version": "2.0.0",
      "model_name": "LayoutModel",
      "state": {
       "_model_module": "@jupyter-widgets/base",
       "_model_module_version": "2.0.0",
       "_model_name": "LayoutModel",
       "_view_count": null,
       "_view_module": "@jupyter-widgets/base",
       "_view_module_version": "2.0.0",
       "_view_name": "LayoutView",
       "align_content": null,
       "align_items": null,
       "align_self": null,
       "border_bottom": null,
       "border_left": null,
       "border_right": null,
       "border_top": null,
       "bottom": null,
       "display": null,
       "flex": null,
       "flex_flow": null,
       "grid_area": null,
       "grid_auto_columns": null,
       "grid_auto_flow": null,
       "grid_auto_rows": null,
       "grid_column": null,
       "grid_gap": null,
       "grid_row": null,
       "grid_template_areas": null,
       "grid_template_columns": null,
       "grid_template_rows": null,
       "height": null,
       "justify_content": null,
       "justify_items": null,
       "left": null,
       "margin": null,
       "max_height": null,
       "max_width": null,
       "min_height": null,
       "min_width": null,
       "object_fit": null,
       "object_position": null,
       "order": null,
       "overflow": null,
       "padding": null,
       "right": null,
       "top": null,
       "visibility": null,
       "width": null
      }
     }
    },
    "version_major": 2,
    "version_minor": 0
   }
  }
 },
 "nbformat": 4,
 "nbformat_minor": 5
}
