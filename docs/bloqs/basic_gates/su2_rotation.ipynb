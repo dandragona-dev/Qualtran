{
 "cells": [
  {
   "cell_type": "markdown",
   "id": "d6d914da",
   "metadata": {
    "cq.autogen": "title_cell"
   },
   "source": [
    "# SU2 Rotation"
   ]
  },
  {
   "cell_type": "code",
   "execution_count": 1,
   "id": "ded96bc8",
   "metadata": {
    "cq.autogen": "top_imports"
   },
   "outputs": [],
   "source": [
    "from qualtran import Bloq, CompositeBloq, BloqBuilder, Signature, Register\n",
    "from qualtran import QBit, QInt, QUInt, QAny\n",
    "from qualtran.drawing import show_bloq, show_call_graph, show_counts_sigma\n",
    "from typing import *\n",
    "import numpy as np\n",
    "import sympy\n",
    "import cirq"
   ]
  },
  {
   "cell_type": "markdown",
   "id": "4b2a9c14",
   "metadata": {
    "cq.autogen": "SU2RotationGate.bloq_doc.md"
   },
   "source": [
    "## `SU2RotationGate`\n",
    "Implements an arbitrary SU(2) rotation.\n",
    "\n",
    "The rotation is represented by the matrix:\n",
    "\n",
    "$$\n",
    "    e^{i \\alpha}\n",
    "    \\begin{pmatrix}\n",
    "    e^{i(\\lambda + \\phi)} \\cos(\\theta) & e^{i\\phi} \\sin(\\theta) \\\\\n",
    "    e^{i\\lambda} \\sin(\\theta) & - \\cos(\\theta)\n",
    "    \\end{pmatrix}\n",
    "$$\n",
    "\n",
    "#### Parameters\n",
    " - `theta`: rotation angle $\\theta$ in the above matrix.\n",
    " - `phi`: phase angle $\\phi$ in the above matrix.\n",
    " - `lambd`: phase angle $\\lambda$ in the above matrix.\n",
    " - `global_shift`: phase angle $\\alpha$, i.e. apply a global phase shift of $e^{i \\alpha}$. \n",
    "\n",
    "#### References\n",
    " - [Generalized Quantum Signal Processing](https://arxiv.org/abs/2308.01501). Motlagh and Wiebe. (2023). Equation 7.\n"
   ]
  },
  {
   "cell_type": "code",
   "execution_count": 2,
   "id": "950a1fe9",
   "metadata": {
    "cq.autogen": "SU2RotationGate.bloq_doc.py"
   },
   "outputs": [],
   "source": [
    "from qualtran.bloqs.basic_gates import SU2RotationGate"
   ]
  },
  {
   "cell_type": "markdown",
   "id": "26277091",
   "metadata": {
    "cq.autogen": "SU2RotationGate.example_instances.md"
   },
   "source": [
    "### Example Instances"
   ]
  },
  {
   "cell_type": "code",
   "execution_count": 3,
   "id": "5d165eae",
   "metadata": {
    "cq.autogen": "SU2RotationGate.su2_rotation_gate"
   },
   "outputs": [],
   "source": [
    "su2_rotation_gate = SU2RotationGate(np.pi / 4, np.pi / 2, np.pi / 2)"
   ]
  },
  {
   "cell_type": "code",
   "execution_count": 4,
   "id": "6b034a9b",
   "metadata": {
    "cq.autogen": "SU2RotationGate.hadamard"
   },
   "outputs": [],
   "source": [
    "hadamard = SU2RotationGate(np.pi / 4, 0, 0)"
   ]
  },
  {
   "cell_type": "code",
   "execution_count": 5,
   "id": "baa38dac",
   "metadata": {
    "cq.autogen": "SU2RotationGate.t_gate"
   },
   "outputs": [],
   "source": [
    "t_gate = SU2RotationGate(0, 3 * np.pi / 4, 0, -3 * np.pi / 4)"
   ]
  },
  {
   "cell_type": "markdown",
   "id": "e85d6f3f",
   "metadata": {
    "cq.autogen": "SU2RotationGate.graphical_signature.md"
   },
   "source": [
    "#### Graphical Signature"
   ]
  },
  {
   "cell_type": "code",
   "execution_count": 6,
   "id": "1469a240",
   "metadata": {
    "cq.autogen": "SU2RotationGate.graphical_signature.py"
   },
   "outputs": [
    {
     "data": {
      "application/vnd.jupyter.widget-view+json": {
       "model_id": "09c7863d7d154108a28eeaa5f94553bf",
       "version_major": 2,
       "version_minor": 0
      },
      "text/plain": [
       "HBox(children=(Output(outputs=({'output_type': 'display_data', 'data': {'text/plain': '<IPython.core.display.M…"
      ]
     },
     "metadata": {},
     "output_type": "display_data"
    }
   ],
   "source": [
    "from qualtran.drawing import show_bloqs\n",
    "show_bloqs([su2_rotation_gate, hadamard, t_gate],\n",
    "           ['`su2_rotation_gate`', '`hadamard`', '`t_gate`'])"
   ]
  },
  {
   "cell_type": "markdown",
   "id": "eb5742c2",
   "metadata": {
    "cq.autogen": "SU2RotationGate.call_graph.md"
   },
   "source": [
    "### Call Graph"
   ]
  },
  {
   "cell_type": "code",
   "execution_count": 7,
   "id": "1198abe9",
   "metadata": {
    "cq.autogen": "SU2RotationGate.call_graph.py"
   },
   "outputs": [
    {
     "data": {
      "image/svg+xml": [
       "<svg xmlns=\"http://www.w3.org/2000/svg\" xmlns:xlink=\"http://www.w3.org/1999/xlink\" width=\"440pt\" height=\"131pt\" viewBox=\"0.00 0.00 440.00 131.00\">\n",
       "<g id=\"graph0\" class=\"graph\" transform=\"scale(1 1) rotate(0) translate(4 127)\">\n",
       "<title>counts</title>\n",
       "<polygon fill=\"white\" stroke=\"transparent\" points=\"-4,4 -4,-127 436,-127 436,4 -4,4\"/>\n",
       "<!-- b0 -->\n",
       "<g id=\"node1\" class=\"node\">\n",
       "<title>b0</title>\n",
       "<polygon fill=\"none\" stroke=\"black\" points=\"194,-93 194,-116 316,-116 316,-93 194,-93\"/>\n",
       "<text text-anchor=\"start\" x=\"200.5\" y=\"-102\" font-family=\"Times,serif\" font-size=\"10.00\">SU_2(0.79,1.57,1.57,0.00)</text>\n",
       "</g>\n",
       "<!-- b1 -->\n",
       "<g id=\"node2\" class=\"node\">\n",
       "<title>b1</title>\n",
       "<polygon fill=\"none\" stroke=\"black\" points=\"8,-6 8,-29 130,-29 130,-6 8,-6\"/>\n",
       "<text text-anchor=\"start\" x=\"14\" y=\"-15\" font-family=\"Times,serif\" font-size=\"10.00\">Rx(1.5707963267948966)</text>\n",
       "</g>\n",
       "<!-- b0&#45;&gt;b1 -->\n",
       "<g id=\"edge1\" class=\"edge\">\n",
       "<title>b0-&gt;b1</title>\n",
       "<path fill=\"none\" stroke=\"black\" d=\"M217.36,-86.8C188.02,-73.39 147.12,-54.7 115.69,-40.34\"/>\n",
       "<polygon fill=\"black\" stroke=\"black\" points=\"116.82,-37 106.27,-36.03 113.91,-43.37 116.82,-37\"/>\n",
       "<text text-anchor=\"middle\" x=\"177.5\" y=\"-57.8\" font-family=\"Times,serif\" font-size=\"14.00\">1</text>\n",
       "</g>\n",
       "<!-- b2 -->\n",
       "<g id=\"node3\" class=\"node\">\n",
       "<title>b2</title>\n",
       "<polygon fill=\"none\" stroke=\"black\" points=\"164,-6 164,-29 346,-29 346,-6 164,-6\"/>\n",
       "<text text-anchor=\"start\" x=\"170\" y=\"-15\" font-family=\"Times,serif\" font-size=\"10.00\">GPhase((-1+1.2246467991473532e-16j))</text>\n",
       "</g>\n",
       "<!-- b0&#45;&gt;b2 -->\n",
       "<g id=\"edge2\" class=\"edge\">\n",
       "<title>b0-&gt;b2</title>\n",
       "<path fill=\"none\" stroke=\"black\" d=\"M255,-86.8C255,-75.16 255,-59.55 255,-46.24\"/>\n",
       "<polygon fill=\"black\" stroke=\"black\" points=\"258.5,-46.18 255,-36.18 251.5,-46.18 258.5,-46.18\"/>\n",
       "<text text-anchor=\"middle\" x=\"258.5\" y=\"-57.8\" font-family=\"Times,serif\" font-size=\"14.00\">1</text>\n",
       "</g>\n",
       "<!-- b3 -->\n",
       "<g id=\"node4\" class=\"node\">\n",
       "<title>b3</title>\n",
       "<polygon fill=\"none\" stroke=\"black\" points=\"380,-6 380,-29 424,-29 424,-6 380,-6\"/>\n",
       "<text text-anchor=\"start\" x=\"386.5\" y=\"-15\" font-family=\"Times,serif\" font-size=\"10.00\">Rz(0.0)</text>\n",
       "</g>\n",
       "<!-- b0&#45;&gt;b3 -->\n",
       "<g id=\"edge3\" class=\"edge\">\n",
       "<title>b0-&gt;b3</title>\n",
       "<path fill=\"none\" stroke=\"black\" d=\"M284.75,-86.8C307.46,-73.66 338.94,-55.46 363.56,-41.22\"/>\n",
       "<polygon fill=\"black\" stroke=\"black\" points=\"365.39,-44.21 372.3,-36.18 361.89,-38.15 365.39,-44.21\"/>\n",
       "<text text-anchor=\"middle\" x=\"341.5\" y=\"-57.8\" font-family=\"Times,serif\" font-size=\"14.00\">2</text>\n",
       "</g>\n",
       "</g>\n",
       "</svg>"
      ],
      "text/plain": [
       "<IPython.core.display.SVG object>"
      ]
     },
     "metadata": {},
     "output_type": "display_data"
    },
    {
     "data": {
      "text/markdown": [
       "#### Counts totals:\n",
       " - `GPhase((-1+1.2246467991473532e-16j))`: 1\n",
       " - `Rx(1.5707963267948966)`: 1\n",
       " - `Rz(0.0)`: 2"
      ],
      "text/plain": [
       "<IPython.core.display.Markdown object>"
      ]
     },
     "metadata": {},
     "output_type": "display_data"
    }
   ],
   "source": [
    "from qualtran.resource_counting.generalizers import ignore_split_join\n",
    "su2_rotation_gate_g, su2_rotation_gate_sigma = su2_rotation_gate.call_graph(max_depth=1, generalizer=ignore_split_join)\n",
    "show_call_graph(su2_rotation_gate_g)\n",
    "show_counts_sigma(su2_rotation_gate_sigma)"
   ]
  }
 ],
 "metadata": {
  "kernelspec": {
   "display_name": "Python 3",
   "language": "python",
   "name": "python3"
  },
  "language_info": {
   "codemirror_mode": {
    "name": "ipython",
    "version": 3
   },
   "file_extension": ".py",
   "mimetype": "text/x-python",
   "name": "python",
   "nbconvert_exporter": "python",
   "pygments_lexer": "ipython3",
   "version": "3.11.8"
  },
  "widgets": {
   "application/vnd.jupyter.widget-state+json": {
    "state": {
     "09c7863d7d154108a28eeaa5f94553bf": {
      "model_module": "@jupyter-widgets/controls",
      "model_module_version": "2.0.0",
      "model_name": "HBoxModel",
      "state": {
       "_dom_classes": [],
       "_model_module": "@jupyter-widgets/controls",
       "_model_module_version": "2.0.0",
       "_model_name": "HBoxModel",
       "_view_count": null,
       "_view_module": "@jupyter-widgets/controls",
       "_view_module_version": "2.0.0",
       "_view_name": "HBoxView",
       "box_style": "",
       "children": [
        "IPY_MODEL_9b9285cfc49e4947b238536ec5364aa3",
        "IPY_MODEL_687a29f2910f498db36b06f0e90a2cf2",
        "IPY_MODEL_3667bfc45ebc45a0aa1a67362705384e"
       ],
       "layout": "IPY_MODEL_b96f1f5ec36340788ee4040ad5a66589",
       "tabbable": null,
       "tooltip": null
      }
     },
     "3667bfc45ebc45a0aa1a67362705384e": {
      "model_module": "@jupyter-widgets/output",
      "model_module_version": "1.0.0",
      "model_name": "OutputModel",
      "state": {
       "_dom_classes": [],
       "_model_module": "@jupyter-widgets/output",
       "_model_module_version": "1.0.0",
       "_model_name": "OutputModel",
       "_view_count": null,
       "_view_module": "@jupyter-widgets/output",
       "_view_module_version": "1.0.0",
       "_view_name": "OutputView",
       "layout": "IPY_MODEL_5eddc5271ba940a8a159ae3a3880d6ac",
       "msg_id": "",
       "outputs": [
        {
         "data": {
          "text/markdown": "`t_gate`",
          "text/plain": "<IPython.core.display.Markdown object>"
         },
         "metadata": {},
         "output_type": "display_data"
        },
        {
         "data": {
          "image/svg+xml": "<svg xmlns=\"http://www.w3.org/2000/svg\" xmlns:xlink=\"http://www.w3.org/1999/xlink\" width=\"308pt\" height=\"54pt\" viewBox=\"0.00 0.00 308.00 54.00\">\n<g id=\"graph0\" class=\"graph\" transform=\"scale(1 1) rotate(0) translate(4 50)\">\n<title>my_graph</title>\n<polygon fill=\"white\" stroke=\"transparent\" points=\"-4,4 -4,-50 304,-50 304,4 -4,4\"/>\n<!-- q_G2 -->\n<g id=\"node1\" class=\"node\">\n<title>q_G2</title>\n<text text-anchor=\"middle\" x=\"27\" y=\"-14.3\" font-family=\"Times,serif\" font-size=\"14.00\">q</text>\n</g>\n<!-- SU2RotationGate -->\n<g id=\"node2\" class=\"node\">\n<title>SU2RotationGate</title>\n<polygon fill=\"none\" stroke=\"black\" points=\"91,-29 91,-46 209,-46 209,-29 91,-29\"/>\n<text text-anchor=\"start\" x=\"94\" y=\"-35\" font-family=\"Times,serif\" font-size=\"10.00\">SU_2(0.00,2.36,0.00,-2.36)</text>\n<polygon fill=\"none\" stroke=\"black\" points=\"91,-8 91,-29 209,-29 209,-8 91,-8\"/>\n<text text-anchor=\"start\" x=\"146.5\" y=\"-14.8\" font-family=\"Times,serif\" font-size=\"14.00\">q</text>\n</g>\n<!-- q_G2&#45;&gt;SU2RotationGate -->\n<g id=\"edge1\" class=\"edge\">\n<title>q_G2:e-&gt;SU2RotationGate:w</title>\n<path fill=\"none\" stroke=\"black\" d=\"M54,-18C69.67,-18 74.14,-18 88.77,-18\"/>\n<ellipse fill=\"black\" stroke=\"black\" cx=\"90\" cy=\"-18\" rx=\"1\" ry=\"1\"/>\n<text text-anchor=\"middle\" x=\"72.5\" y=\"-21\" font-family=\"Times,serif\" font-size=\"10.00\">1</text>\n</g>\n<!-- q_G1 -->\n<g id=\"node3\" class=\"node\">\n<title>q_G1</title>\n<text text-anchor=\"middle\" x=\"273\" y=\"-14.3\" font-family=\"Times,serif\" font-size=\"14.00\">q</text>\n</g>\n<!-- SU2RotationGate&#45;&gt;q_G1 -->\n<g id=\"edge2\" class=\"edge\">\n<title>SU2RotationGate:e-&gt;q_G1:w</title>\n<path fill=\"none\" stroke=\"black\" d=\"M209,-18C224.67,-18 229.14,-18 243.77,-18\"/>\n<ellipse fill=\"black\" stroke=\"black\" cx=\"245\" cy=\"-18\" rx=\"1\" ry=\"1\"/>\n<text text-anchor=\"middle\" x=\"227.5\" y=\"-21\" font-family=\"Times,serif\" font-size=\"10.00\">1</text>\n</g>\n</g>\n</svg>",
          "text/plain": "<IPython.core.display.SVG object>"
         },
         "metadata": {},
         "output_type": "display_data"
        }
       ],
       "tabbable": null,
       "tooltip": null
      }
     },
     "5eddc5271ba940a8a159ae3a3880d6ac": {
      "model_module": "@jupyter-widgets/base",
      "model_module_version": "2.0.0",
      "model_name": "LayoutModel",
      "state": {
       "_model_module": "@jupyter-widgets/base",
       "_model_module_version": "2.0.0",
       "_model_name": "LayoutModel",
       "_view_count": null,
       "_view_module": "@jupyter-widgets/base",
       "_view_module_version": "2.0.0",
       "_view_name": "LayoutView",
       "align_content": null,
       "align_items": null,
       "align_self": null,
       "border_bottom": null,
       "border_left": null,
       "border_right": null,
       "border_top": null,
       "bottom": null,
       "display": null,
       "flex": null,
       "flex_flow": null,
       "grid_area": null,
       "grid_auto_columns": null,
       "grid_auto_flow": null,
       "grid_auto_rows": null,
       "grid_column": null,
       "grid_gap": null,
       "grid_row": null,
       "grid_template_areas": null,
       "grid_template_columns": null,
       "grid_template_rows": null,
       "height": null,
       "justify_content": null,
       "justify_items": null,
       "left": null,
       "margin": null,
       "max_height": null,
       "max_width": null,
       "min_height": null,
       "min_width": null,
       "object_fit": null,
       "object_position": null,
       "order": null,
       "overflow": null,
       "padding": null,
       "right": null,
       "top": null,
       "visibility": null,
       "width": null
      }
     },
     "687a29f2910f498db36b06f0e90a2cf2": {
      "model_module": "@jupyter-widgets/output",
      "model_module_version": "1.0.0",
      "model_name": "OutputModel",
      "state": {
       "_dom_classes": [],
       "_model_module": "@jupyter-widgets/output",
       "_model_module_version": "1.0.0",
       "_model_name": "OutputModel",
       "_view_count": null,
       "_view_module": "@jupyter-widgets/output",
       "_view_module_version": "1.0.0",
       "_view_name": "OutputView",
       "layout": "IPY_MODEL_c87cda8cd76341869368a56869827f4b",
       "msg_id": "",
       "outputs": [
        {
         "data": {
          "text/markdown": "`hadamard`",
          "text/plain": "<IPython.core.display.Markdown object>"
         },
         "metadata": {},
         "output_type": "display_data"
        },
        {
         "data": {
          "image/svg+xml": "<svg xmlns=\"http://www.w3.org/2000/svg\" xmlns:xlink=\"http://www.w3.org/1999/xlink\" width=\"305pt\" height=\"54pt\" viewBox=\"0.00 0.00 305.00 54.00\">\n<g id=\"graph0\" class=\"graph\" transform=\"scale(1 1) rotate(0) translate(4 50)\">\n<title>my_graph</title>\n<polygon fill=\"white\" stroke=\"transparent\" points=\"-4,4 -4,-50 301,-50 301,4 -4,4\"/>\n<!-- q_G2 -->\n<g id=\"node1\" class=\"node\">\n<title>q_G2</title>\n<text text-anchor=\"middle\" x=\"27\" y=\"-14.3\" font-family=\"Times,serif\" font-size=\"14.00\">q</text>\n</g>\n<!-- SU2RotationGate -->\n<g id=\"node2\" class=\"node\">\n<title>SU2RotationGate</title>\n<polygon fill=\"none\" stroke=\"black\" points=\"91.5,-29 91.5,-46 206.5,-46 206.5,-29 91.5,-29\"/>\n<text text-anchor=\"start\" x=\"94.5\" y=\"-35\" font-family=\"Times,serif\" font-size=\"10.00\">SU_2(0.79,0.00,0.00,0.00)</text>\n<polygon fill=\"none\" stroke=\"black\" points=\"91.5,-8 91.5,-29 206.5,-29 206.5,-8 91.5,-8\"/>\n<text text-anchor=\"start\" x=\"145.5\" y=\"-14.8\" font-family=\"Times,serif\" font-size=\"14.00\">q</text>\n</g>\n<!-- q_G2&#45;&gt;SU2RotationGate -->\n<g id=\"edge1\" class=\"edge\">\n<title>q_G2:e-&gt;SU2RotationGate:w</title>\n<path fill=\"none\" stroke=\"black\" d=\"M54,-18C69.67,-18 74.14,-18 88.77,-18\"/>\n<ellipse fill=\"black\" stroke=\"black\" cx=\"90\" cy=\"-18\" rx=\"1\" ry=\"1\"/>\n<text text-anchor=\"middle\" x=\"72.5\" y=\"-21\" font-family=\"Times,serif\" font-size=\"10.00\">1</text>\n</g>\n<!-- q_G0 -->\n<g id=\"node3\" class=\"node\">\n<title>q_G0</title>\n<text text-anchor=\"middle\" x=\"270\" y=\"-14.3\" font-family=\"Times,serif\" font-size=\"14.00\">q</text>\n</g>\n<!-- SU2RotationGate&#45;&gt;q_G0 -->\n<g id=\"edge2\" class=\"edge\">\n<title>SU2RotationGate:e-&gt;q_G0:w</title>\n<path fill=\"none\" stroke=\"black\" d=\"M206,-18C221.67,-18 226.14,-18 240.77,-18\"/>\n<ellipse fill=\"black\" stroke=\"black\" cx=\"242\" cy=\"-18\" rx=\"1\" ry=\"1\"/>\n<text text-anchor=\"middle\" x=\"224.5\" y=\"-21\" font-family=\"Times,serif\" font-size=\"10.00\">1</text>\n</g>\n</g>\n</svg>",
          "text/plain": "<IPython.core.display.SVG object>"
         },
         "metadata": {},
         "output_type": "display_data"
        }
       ],
       "tabbable": null,
       "tooltip": null
      }
     },
     "838e3510083f4e609e10f0affb454aae": {
      "model_module": "@jupyter-widgets/base",
      "model_module_version": "2.0.0",
      "model_name": "LayoutModel",
      "state": {
       "_model_module": "@jupyter-widgets/base",
       "_model_module_version": "2.0.0",
       "_model_name": "LayoutModel",
       "_view_count": null,
       "_view_module": "@jupyter-widgets/base",
       "_view_module_version": "2.0.0",
       "_view_name": "LayoutView",
       "align_content": null,
       "align_items": null,
       "align_self": null,
       "border_bottom": null,
       "border_left": null,
       "border_right": null,
       "border_top": null,
       "bottom": null,
       "display": null,
       "flex": null,
       "flex_flow": null,
       "grid_area": null,
       "grid_auto_columns": null,
       "grid_auto_flow": null,
       "grid_auto_rows": null,
       "grid_column": null,
       "grid_gap": null,
       "grid_row": null,
       "grid_template_areas": null,
       "grid_template_columns": null,
       "grid_template_rows": null,
       "height": null,
       "justify_content": null,
       "justify_items": null,
       "left": null,
       "margin": null,
       "max_height": null,
       "max_width": null,
       "min_height": null,
       "min_width": null,
       "object_fit": null,
       "object_position": null,
       "order": null,
       "overflow": null,
       "padding": null,
       "right": null,
       "top": null,
       "visibility": null,
       "width": null
      }
     },
     "9b9285cfc49e4947b238536ec5364aa3": {
      "model_module": "@jupyter-widgets/output",
      "model_module_version": "1.0.0",
      "model_name": "OutputModel",
      "state": {
       "_dom_classes": [],
       "_model_module": "@jupyter-widgets/output",
       "_model_module_version": "1.0.0",
       "_model_name": "OutputModel",
       "_view_count": null,
       "_view_module": "@jupyter-widgets/output",
       "_view_module_version": "1.0.0",
       "_view_name": "OutputView",
       "layout": "IPY_MODEL_838e3510083f4e609e10f0affb454aae",
       "msg_id": "",
       "outputs": [
        {
         "data": {
          "text/markdown": "`su2_rotation_gate`",
          "text/plain": "<IPython.core.display.Markdown object>"
         },
         "metadata": {},
         "output_type": "display_data"
        },
        {
         "data": {
          "image/svg+xml": "<svg xmlns=\"http://www.w3.org/2000/svg\" xmlns:xlink=\"http://www.w3.org/1999/xlink\" width=\"305pt\" height=\"54pt\" viewBox=\"0.00 0.00 305.00 54.00\">\n<g id=\"graph0\" class=\"graph\" transform=\"scale(1 1) rotate(0) translate(4 50)\">\n<title>my_graph</title>\n<polygon fill=\"white\" stroke=\"transparent\" points=\"-4,4 -4,-50 301,-50 301,4 -4,4\"/>\n<!-- q_G1 -->\n<g id=\"node1\" class=\"node\">\n<title>q_G1</title>\n<text text-anchor=\"middle\" x=\"27\" y=\"-14.3\" font-family=\"Times,serif\" font-size=\"14.00\">q</text>\n</g>\n<!-- SU2RotationGate -->\n<g id=\"node2\" class=\"node\">\n<title>SU2RotationGate</title>\n<polygon fill=\"none\" stroke=\"black\" points=\"91.5,-29 91.5,-46 206.5,-46 206.5,-29 91.5,-29\"/>\n<text text-anchor=\"start\" x=\"94.5\" y=\"-35\" font-family=\"Times,serif\" font-size=\"10.00\">SU_2(0.79,1.57,1.57,0.00)</text>\n<polygon fill=\"none\" stroke=\"black\" points=\"91.5,-8 91.5,-29 206.5,-29 206.5,-8 91.5,-8\"/>\n<text text-anchor=\"start\" x=\"145.5\" y=\"-14.8\" font-family=\"Times,serif\" font-size=\"14.00\">q</text>\n</g>\n<!-- q_G1&#45;&gt;SU2RotationGate -->\n<g id=\"edge1\" class=\"edge\">\n<title>q_G1:e-&gt;SU2RotationGate:w</title>\n<path fill=\"none\" stroke=\"black\" d=\"M54,-18C69.67,-18 74.14,-18 88.77,-18\"/>\n<ellipse fill=\"black\" stroke=\"black\" cx=\"90\" cy=\"-18\" rx=\"1\" ry=\"1\"/>\n<text text-anchor=\"middle\" x=\"72.5\" y=\"-21\" font-family=\"Times,serif\" font-size=\"10.00\">1</text>\n</g>\n<!-- q_G0 -->\n<g id=\"node3\" class=\"node\">\n<title>q_G0</title>\n<text text-anchor=\"middle\" x=\"270\" y=\"-14.3\" font-family=\"Times,serif\" font-size=\"14.00\">q</text>\n</g>\n<!-- SU2RotationGate&#45;&gt;q_G0 -->\n<g id=\"edge2\" class=\"edge\">\n<title>SU2RotationGate:e-&gt;q_G0:w</title>\n<path fill=\"none\" stroke=\"black\" d=\"M206,-18C221.67,-18 226.14,-18 240.77,-18\"/>\n<ellipse fill=\"black\" stroke=\"black\" cx=\"242\" cy=\"-18\" rx=\"1\" ry=\"1\"/>\n<text text-anchor=\"middle\" x=\"224.5\" y=\"-21\" font-family=\"Times,serif\" font-size=\"10.00\">1</text>\n</g>\n</g>\n</svg>",
          "text/plain": "<IPython.core.display.SVG object>"
         },
         "metadata": {},
         "output_type": "display_data"
        }
       ],
       "tabbable": null,
       "tooltip": null
      }
     },
     "b96f1f5ec36340788ee4040ad5a66589": {
      "model_module": "@jupyter-widgets/base",
      "model_module_version": "2.0.0",
      "model_name": "LayoutModel",
      "state": {
       "_model_module": "@jupyter-widgets/base",
       "_model_module_version": "2.0.0",
       "_model_name": "LayoutModel",
       "_view_count": null,
       "_view_module": "@jupyter-widgets/base",
       "_view_module_version": "2.0.0",
       "_view_name": "LayoutView",
       "align_content": null,
       "align_items": null,
       "align_self": null,
       "border_bottom": null,
       "border_left": null,
       "border_right": null,
       "border_top": null,
       "bottom": null,
       "display": null,
       "flex": null,
       "flex_flow": null,
       "grid_area": null,
       "grid_auto_columns": null,
       "grid_auto_flow": null,
       "grid_auto_rows": null,
       "grid_column": null,
       "grid_gap": null,
       "grid_row": null,
       "grid_template_areas": null,
       "grid_template_columns": null,
       "grid_template_rows": null,
       "height": null,
       "justify_content": null,
       "justify_items": null,
       "left": null,
       "margin": null,
       "max_height": null,
       "max_width": null,
       "min_height": null,
       "min_width": null,
       "object_fit": null,
       "object_position": null,
       "order": null,
       "overflow": null,
       "padding": null,
       "right": null,
       "top": null,
       "visibility": null,
       "width": null
      }
     },
     "c87cda8cd76341869368a56869827f4b": {
      "model_module": "@jupyter-widgets/base",
      "model_module_version": "2.0.0",
      "model_name": "LayoutModel",
      "state": {
       "_model_module": "@jupyter-widgets/base",
       "_model_module_version": "2.0.0",
       "_model_name": "LayoutModel",
       "_view_count": null,
       "_view_module": "@jupyter-widgets/base",
       "_view_module_version": "2.0.0",
       "_view_name": "LayoutView",
       "align_content": null,
       "align_items": null,
       "align_self": null,
       "border_bottom": null,
       "border_left": null,
       "border_right": null,
       "border_top": null,
       "bottom": null,
       "display": null,
       "flex": null,
       "flex_flow": null,
       "grid_area": null,
       "grid_auto_columns": null,
       "grid_auto_flow": null,
       "grid_auto_rows": null,
       "grid_column": null,
       "grid_gap": null,
       "grid_row": null,
       "grid_template_areas": null,
       "grid_template_columns": null,
       "grid_template_rows": null,
       "height": null,
       "justify_content": null,
       "justify_items": null,
       "left": null,
       "margin": null,
       "max_height": null,
       "max_width": null,
       "min_height": null,
       "min_width": null,
       "object_fit": null,
       "object_position": null,
       "order": null,
       "overflow": null,
       "padding": null,
       "right": null,
       "top": null,
       "visibility": null,
       "width": null
      }
     }
    },
    "version_major": 2,
    "version_minor": 0
   }
  }
 },
 "nbformat": 4,
 "nbformat_minor": 5
}
