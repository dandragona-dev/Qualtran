{
 "cells": [
  {
   "cell_type": "markdown",
   "id": "d6d914da",
   "metadata": {
    "cq.autogen": "title_cell"
   },
   "source": [
    "# SU2 Rotation"
   ]
  },
  {
   "cell_type": "code",
   "execution_count": 1,
   "id": "ded96bc8",
   "metadata": {
    "cq.autogen": "top_imports"
   },
   "outputs": [],
   "source": [
    "from qualtran import Bloq, CompositeBloq, BloqBuilder, Signature, Register\n",
    "from qualtran import QBit, QInt, QUInt, QAny\n",
    "from qualtran.drawing import show_bloq, show_call_graph, show_counts_sigma\n",
    "from typing import *\n",
    "import numpy as np\n",
    "import sympy\n",
    "import cirq"
   ]
  },
  {
   "cell_type": "markdown",
   "id": "4b2a9c14",
   "metadata": {
    "cq.autogen": "SU2RotationGate.bloq_doc.md"
   },
   "source": [
    "## `SU2RotationGate`\n",
    "Implements an arbitrary SU(2) rotation.\n",
    "\n",
    "The rotation is represented by the matrix:\n",
    "\n",
    "$$\n",
    "    e^{i \\alpha}\n",
    "    \\begin{pmatrix}\n",
    "    e^{i(\\lambda + \\phi)} \\cos(\\theta) & e^{i\\phi} \\sin(\\theta) \\\\\n",
    "    e^{i\\lambda} \\sin(\\theta) & - \\cos(\\theta)\n",
    "    \\end{pmatrix}\n",
    "$$\n",
    "\n",
    "#### Parameters\n",
    " - `theta`: rotation angle $\\theta$ in the above matrix.\n",
    " - `phi`: phase angle $\\phi$ in the above matrix.\n",
    " - `lambd`: phase angle $\\lambda$ in the above matrix.\n",
    " - `global_shift`: phase angle $\\alpha$, i.e. apply a global phase shift of $e^{i \\alpha}$. \n",
    "\n",
    "#### References\n",
    " - [Generalized Quantum Signal Processing](https://arxiv.org/abs/2308.01501). Motlagh and Wiebe. (2023). Equation 7.\n"
   ]
  },
  {
   "cell_type": "code",
   "execution_count": 2,
   "id": "950a1fe9",
   "metadata": {
    "cq.autogen": "SU2RotationGate.bloq_doc.py"
   },
   "outputs": [],
   "source": [
    "from qualtran.bloqs.basic_gates import SU2RotationGate"
   ]
  },
  {
   "cell_type": "markdown",
   "id": "26277091",
   "metadata": {
    "cq.autogen": "SU2RotationGate.example_instances.md"
   },
   "source": [
    "### Example Instances"
   ]
  },
  {
   "cell_type": "code",
   "execution_count": 3,
   "id": "5d165eae",
   "metadata": {
    "cq.autogen": "SU2RotationGate.su2_rotation_gate"
   },
   "outputs": [],
   "source": [
    "su2_rotation_gate = SU2RotationGate(np.pi / 4, np.pi / 2, np.pi / 2)"
   ]
  },
  {
   "cell_type": "code",
   "execution_count": 4,
   "id": "6b034a9b",
   "metadata": {
    "cq.autogen": "SU2RotationGate.hadamard"
   },
   "outputs": [],
   "source": [
    "hadamard = SU2RotationGate(np.pi / 4, 0, 0)"
   ]
  },
  {
   "cell_type": "code",
   "execution_count": 5,
   "id": "baa38dac",
   "metadata": {
    "cq.autogen": "SU2RotationGate.t_gate"
   },
   "outputs": [],
   "source": [
    "t_gate = SU2RotationGate(0, 3 * np.pi / 4, 0, -3 * np.pi / 4)"
   ]
  },
  {
   "cell_type": "markdown",
   "id": "e85d6f3f",
   "metadata": {
    "cq.autogen": "SU2RotationGate.graphical_signature.md"
   },
   "source": [
    "#### Graphical Signature"
   ]
  },
  {
   "cell_type": "code",
   "execution_count": 6,
   "id": "1469a240",
   "metadata": {
    "cq.autogen": "SU2RotationGate.graphical_signature.py"
   },
   "outputs": [
    {
     "data": {
      "application/vnd.jupyter.widget-view+json": {
       "model_id": "b3d9fb38c7414949af06205bc07b1096",
       "version_major": 2,
       "version_minor": 0
      },
      "text/plain": [
       "HBox(children=(Output(outputs=({'output_type': 'display_data', 'data': {'text/plain': '<IPython.core.display.M…"
      ]
     },
     "metadata": {},
     "output_type": "display_data"
    }
   ],
   "source": [
    "from qualtran.drawing import show_bloqs\n",
    "show_bloqs([su2_rotation_gate, hadamard, t_gate],\n",
    "           ['`su2_rotation_gate`', '`hadamard`', '`t_gate`'])"
   ]
  },
  {
   "cell_type": "markdown",
   "id": "eb5742c2",
   "metadata": {
    "cq.autogen": "SU2RotationGate.call_graph.md"
   },
   "source": [
    "### Call Graph"
   ]
  },
  {
   "cell_type": "code",
   "execution_count": 7,
   "id": "1198abe9",
   "metadata": {
    "cq.autogen": "SU2RotationGate.call_graph.py"
   },
   "outputs": [
    {
     "data": {
      "image/svg+xml": [
       "<svg xmlns=\"http://www.w3.org/2000/svg\" xmlns:xlink=\"http://www.w3.org/1999/xlink\" width=\"699pt\" height=\"131pt\" viewBox=\"0.00 0.00 698.50 131.00\">\n",
       "<g id=\"graph0\" class=\"graph\" transform=\"scale(1 1) rotate(0) translate(4 127)\">\n",
       "<title>counts</title>\n",
       "<polygon fill=\"white\" stroke=\"transparent\" points=\"-4,4 -4,-127 694.5,-127 694.5,4 -4,4\"/>\n",
       "<!-- b0 -->\n",
       "<g id=\"node1\" class=\"node\">\n",
       "<title>b0</title>\n",
       "<polygon fill=\"none\" stroke=\"black\" points=\"607.5,-123 92.5,-123 92.5,-87 607.5,-87 607.5,-123\"/>\n",
       "<text text-anchor=\"start\" x=\"276\" y=\"-106.8\" font-family=\"Times,serif\" font-size=\"14.00\">SU_2(0.79,1.57,1.57,0.00)</text>\n",
       "<text text-anchor=\"start\" x=\"100.5\" y=\"-96\" font-family=\"monospace\" font-size=\"10.00\">theta=0.785398 ..., phi=1.570796 ..., lambd=1.570796 ..., global_shift=0, eps=1e-11</text>\n",
       "</g>\n",
       "<!-- b1 -->\n",
       "<g id=\"node2\" class=\"node\">\n",
       "<title>b1</title>\n",
       "<polygon fill=\"none\" stroke=\"black\" points=\"242,-36 0,-36 0,0 242,0 242,-36\"/>\n",
       "<text text-anchor=\"start\" x=\"8\" y=\"-19.8\" font-family=\"Times,serif\" font-size=\"14.00\">GPhase((-1+1.2246467991473532e-16j))</text>\n",
       "<text text-anchor=\"start\" x=\"51.5\" y=\"-9\" font-family=\"monospace\" font-size=\"10.00\">exponent=1.0, eps=1e-11</text>\n",
       "</g>\n",
       "<!-- b0&#45;&gt;b1 -->\n",
       "<g id=\"edge1\" class=\"edge\">\n",
       "<title>b0-&gt;b1</title>\n",
       "<path fill=\"none\" stroke=\"black\" d=\"M303.93,-86.9C267.21,-73.27 215.65,-54.13 176.63,-39.65\"/>\n",
       "<polygon fill=\"black\" stroke=\"black\" points=\"177.59,-36.27 166.99,-36.07 175.15,-42.83 177.59,-36.27\"/>\n",
       "<text text-anchor=\"middle\" x=\"253.5\" y=\"-57.8\" font-family=\"Times,serif\" font-size=\"14.00\">1</text>\n",
       "</g>\n",
       "<!-- b2 -->\n",
       "<g id=\"node3\" class=\"node\">\n",
       "<title>b2</title>\n",
       "<polygon fill=\"none\" stroke=\"black\" points=\"439.5,-36 260.5,-36 260.5,0 439.5,0 439.5,-36\"/>\n",
       "<text text-anchor=\"start\" x=\"329\" y=\"-19.8\" font-family=\"Times,serif\" font-size=\"14.00\">Rz(0.0)</text>\n",
       "<text text-anchor=\"start\" x=\"268.5\" y=\"-9\" font-family=\"monospace\" font-size=\"10.00\">angle=0.0, eps=3.333333 ...</text>\n",
       "</g>\n",
       "<!-- b0&#45;&gt;b2 -->\n",
       "<g id=\"edge2\" class=\"edge\">\n",
       "<title>b0-&gt;b2</title>\n",
       "<path fill=\"none\" stroke=\"black\" d=\"M350,-86.8C350,-75.16 350,-59.55 350,-46.24\"/>\n",
       "<polygon fill=\"black\" stroke=\"black\" points=\"353.5,-46.18 350,-36.18 346.5,-46.18 353.5,-46.18\"/>\n",
       "<text text-anchor=\"middle\" x=\"353.5\" y=\"-57.8\" font-family=\"Times,serif\" font-size=\"14.00\">2</text>\n",
       "</g>\n",
       "<!-- b3 -->\n",
       "<g id=\"node4\" class=\"node\">\n",
       "<title>b3</title>\n",
       "<polygon fill=\"none\" stroke=\"black\" points=\"690.5,-36 457.5,-36 457.5,0 690.5,0 690.5,-36\"/>\n",
       "<text text-anchor=\"start\" x=\"502\" y=\"-19.8\" font-family=\"Times,serif\" font-size=\"14.00\">Rx(1.5707963267948966)</text>\n",
       "<text text-anchor=\"start\" x=\"465.5\" y=\"-9\" font-family=\"monospace\" font-size=\"10.00\">angle=1.570796 ..., eps=3.333333 ...</text>\n",
       "</g>\n",
       "<!-- b0&#45;&gt;b3 -->\n",
       "<g id=\"edge3\" class=\"edge\">\n",
       "<title>b0-&gt;b3</title>\n",
       "<path fill=\"none\" stroke=\"black\" d=\"M395.06,-86.9C430.98,-73.27 481.41,-54.13 519.59,-39.65\"/>\n",
       "<polygon fill=\"black\" stroke=\"black\" points=\"520.9,-42.89 529.01,-36.07 518.42,-36.35 520.9,-42.89\"/>\n",
       "<text text-anchor=\"middle\" x=\"479.5\" y=\"-57.8\" font-family=\"Times,serif\" font-size=\"14.00\">1</text>\n",
       "</g>\n",
       "</g>\n",
       "</svg>"
      ],
      "text/plain": [
       "<IPython.core.display.SVG object>"
      ]
     },
     "metadata": {},
     "output_type": "display_data"
    },
    {
     "data": {
      "text/markdown": [
       "#### Counts totals:\n",
       " - `GPhase((-1+1.2246467991473532e-16j))`: 1\n",
       " - `Rx(1.5707963267948966)`: 1\n",
       " - `Rz(0.0)`: 2"
      ],
      "text/plain": [
       "<IPython.core.display.Markdown object>"
      ]
     },
     "metadata": {},
     "output_type": "display_data"
    }
   ],
   "source": [
    "from qualtran.resource_counting.generalizers import ignore_split_join\n",
    "su2_rotation_gate_g, su2_rotation_gate_sigma = su2_rotation_gate.call_graph(max_depth=1, generalizer=ignore_split_join)\n",
    "show_call_graph(su2_rotation_gate_g)\n",
    "show_counts_sigma(su2_rotation_gate_sigma)"
   ]
  }
 ],
 "metadata": {
  "kernelspec": {
   "display_name": "Python 3",
   "language": "python",
   "name": "python3"
  },
  "language_info": {
   "codemirror_mode": {
    "name": "ipython",
    "version": 3
   },
   "file_extension": ".py",
   "mimetype": "text/x-python",
   "name": "python",
   "nbconvert_exporter": "python",
   "pygments_lexer": "ipython3",
   "version": "3.11.8"
  },
  "widgets": {
   "application/vnd.jupyter.widget-state+json": {
    "state": {
     "0d828b764ddf4a8ea237e22744c4b16b": {
      "model_module": "@jupyter-widgets/output",
      "model_module_version": "1.0.0",
      "model_name": "OutputModel",
      "state": {
       "_dom_classes": [],
       "_model_module": "@jupyter-widgets/output",
       "_model_module_version": "1.0.0",
       "_model_name": "OutputModel",
       "_view_count": null,
       "_view_module": "@jupyter-widgets/output",
       "_view_module_version": "1.0.0",
       "_view_name": "OutputView",
       "layout": "IPY_MODEL_d193a6d91d8640c2b2ee6cc69599bc52",
       "msg_id": "",
       "outputs": [
        {
         "data": {
          "text/markdown": "`t_gate`",
          "text/plain": "<IPython.core.display.Markdown object>"
         },
         "metadata": {},
         "output_type": "display_data"
        },
        {
         "data": {
          "image/svg+xml": "<svg xmlns=\"http://www.w3.org/2000/svg\" xmlns:xlink=\"http://www.w3.org/1999/xlink\" width=\"308pt\" height=\"54pt\" viewBox=\"0.00 0.00 308.00 54.00\">\n<g id=\"graph0\" class=\"graph\" transform=\"scale(1 1) rotate(0) translate(4 50)\">\n<title>my_graph</title>\n<polygon fill=\"white\" stroke=\"transparent\" points=\"-4,4 -4,-50 304,-50 304,4 -4,4\"/>\n<!-- q_G1 -->\n<g id=\"node1\" class=\"node\">\n<title>q_G1</title>\n<text text-anchor=\"middle\" x=\"27\" y=\"-14.3\" font-family=\"Times,serif\" font-size=\"14.00\">q</text>\n</g>\n<!-- SU2RotationGate -->\n<g id=\"node2\" class=\"node\">\n<title>SU2RotationGate</title>\n<polygon fill=\"none\" stroke=\"black\" points=\"91,-29 91,-46 209,-46 209,-29 91,-29\"/>\n<text text-anchor=\"start\" x=\"94\" y=\"-35\" font-family=\"Times,serif\" font-size=\"10.00\">SU_2(0.00,2.36,0.00,-2.36)</text>\n<polygon fill=\"none\" stroke=\"black\" points=\"91,-8 91,-29 209,-29 209,-8 91,-8\"/>\n<text text-anchor=\"start\" x=\"146.5\" y=\"-14.8\" font-family=\"Times,serif\" font-size=\"14.00\">q</text>\n</g>\n<!-- q_G1&#45;&gt;SU2RotationGate -->\n<g id=\"edge1\" class=\"edge\">\n<title>q_G1:e-&gt;SU2RotationGate:w</title>\n<path fill=\"none\" stroke=\"black\" d=\"M54,-18C69.67,-18 74.14,-18 88.77,-18\"/>\n<ellipse fill=\"black\" stroke=\"black\" cx=\"90\" cy=\"-18\" rx=\"1\" ry=\"1\"/>\n<text text-anchor=\"middle\" x=\"72.5\" y=\"-21\" font-family=\"Times,serif\" font-size=\"10.00\">1</text>\n</g>\n<!-- q_G0 -->\n<g id=\"node3\" class=\"node\">\n<title>q_G0</title>\n<text text-anchor=\"middle\" x=\"273\" y=\"-14.3\" font-family=\"Times,serif\" font-size=\"14.00\">q</text>\n</g>\n<!-- SU2RotationGate&#45;&gt;q_G0 -->\n<g id=\"edge2\" class=\"edge\">\n<title>SU2RotationGate:e-&gt;q_G0:w</title>\n<path fill=\"none\" stroke=\"black\" d=\"M209,-18C224.67,-18 229.14,-18 243.77,-18\"/>\n<ellipse fill=\"black\" stroke=\"black\" cx=\"245\" cy=\"-18\" rx=\"1\" ry=\"1\"/>\n<text text-anchor=\"middle\" x=\"227.5\" y=\"-21\" font-family=\"Times,serif\" font-size=\"10.00\">1</text>\n</g>\n</g>\n</svg>",
          "text/plain": "<IPython.core.display.SVG object>"
         },
         "metadata": {},
         "output_type": "display_data"
        }
       ],
       "tabbable": null,
       "tooltip": null
      }
     },
     "1df6670b7c8d485398f8c441073f0751": {
      "model_module": "@jupyter-widgets/base",
      "model_module_version": "2.0.0",
      "model_name": "LayoutModel",
      "state": {
       "_model_module": "@jupyter-widgets/base",
       "_model_module_version": "2.0.0",
       "_model_name": "LayoutModel",
       "_view_count": null,
       "_view_module": "@jupyter-widgets/base",
       "_view_module_version": "2.0.0",
       "_view_name": "LayoutView",
       "align_content": null,
       "align_items": null,
       "align_self": null,
       "border_bottom": null,
       "border_left": null,
       "border_right": null,
       "border_top": null,
       "bottom": null,
       "display": null,
       "flex": null,
       "flex_flow": null,
       "grid_area": null,
       "grid_auto_columns": null,
       "grid_auto_flow": null,
       "grid_auto_rows": null,
       "grid_column": null,
       "grid_gap": null,
       "grid_row": null,
       "grid_template_areas": null,
       "grid_template_columns": null,
       "grid_template_rows": null,
       "height": null,
       "justify_content": null,
       "justify_items": null,
       "left": null,
       "margin": null,
       "max_height": null,
       "max_width": null,
       "min_height": null,
       "min_width": null,
       "object_fit": null,
       "object_position": null,
       "order": null,
       "overflow": null,
       "padding": null,
       "right": null,
       "top": null,
       "visibility": null,
       "width": null
      }
     },
     "2ef2008938f8479db789eb5559b11e03": {
      "model_module": "@jupyter-widgets/base",
      "model_module_version": "2.0.0",
      "model_name": "LayoutModel",
      "state": {
       "_model_module": "@jupyter-widgets/base",
       "_model_module_version": "2.0.0",
       "_model_name": "LayoutModel",
       "_view_count": null,
       "_view_module": "@jupyter-widgets/base",
       "_view_module_version": "2.0.0",
       "_view_name": "LayoutView",
       "align_content": null,
       "align_items": null,
       "align_self": null,
       "border_bottom": null,
       "border_left": null,
       "border_right": null,
       "border_top": null,
       "bottom": null,
       "display": null,
       "flex": null,
       "flex_flow": null,
       "grid_area": null,
       "grid_auto_columns": null,
       "grid_auto_flow": null,
       "grid_auto_rows": null,
       "grid_column": null,
       "grid_gap": null,
       "grid_row": null,
       "grid_template_areas": null,
       "grid_template_columns": null,
       "grid_template_rows": null,
       "height": null,
       "justify_content": null,
       "justify_items": null,
       "left": null,
       "margin": null,
       "max_height": null,
       "max_width": null,
       "min_height": null,
       "min_width": null,
       "object_fit": null,
       "object_position": null,
       "order": null,
       "overflow": null,
       "padding": null,
       "right": null,
       "top": null,
       "visibility": null,
       "width": null
      }
     },
     "685929e581534a708ac3f8dcc9cda41a": {
      "model_module": "@jupyter-widgets/output",
      "model_module_version": "1.0.0",
      "model_name": "OutputModel",
      "state": {
       "_dom_classes": [],
       "_model_module": "@jupyter-widgets/output",
       "_model_module_version": "1.0.0",
       "_model_name": "OutputModel",
       "_view_count": null,
       "_view_module": "@jupyter-widgets/output",
       "_view_module_version": "1.0.0",
       "_view_name": "OutputView",
       "layout": "IPY_MODEL_1df6670b7c8d485398f8c441073f0751",
       "msg_id": "",
       "outputs": [
        {
         "data": {
          "text/markdown": "`su2_rotation_gate`",
          "text/plain": "<IPython.core.display.Markdown object>"
         },
         "metadata": {},
         "output_type": "display_data"
        },
        {
         "data": {
          "image/svg+xml": "<svg xmlns=\"http://www.w3.org/2000/svg\" xmlns:xlink=\"http://www.w3.org/1999/xlink\" width=\"305pt\" height=\"54pt\" viewBox=\"0.00 0.00 305.00 54.00\">\n<g id=\"graph0\" class=\"graph\" transform=\"scale(1 1) rotate(0) translate(4 50)\">\n<title>my_graph</title>\n<polygon fill=\"white\" stroke=\"transparent\" points=\"-4,4 -4,-50 301,-50 301,4 -4,4\"/>\n<!-- q_G2 -->\n<g id=\"node1\" class=\"node\">\n<title>q_G2</title>\n<text text-anchor=\"middle\" x=\"27\" y=\"-14.3\" font-family=\"Times,serif\" font-size=\"14.00\">q</text>\n</g>\n<!-- SU2RotationGate -->\n<g id=\"node2\" class=\"node\">\n<title>SU2RotationGate</title>\n<polygon fill=\"none\" stroke=\"black\" points=\"91.5,-29 91.5,-46 206.5,-46 206.5,-29 91.5,-29\"/>\n<text text-anchor=\"start\" x=\"94.5\" y=\"-35\" font-family=\"Times,serif\" font-size=\"10.00\">SU_2(0.79,1.57,1.57,0.00)</text>\n<polygon fill=\"none\" stroke=\"black\" points=\"91.5,-8 91.5,-29 206.5,-29 206.5,-8 91.5,-8\"/>\n<text text-anchor=\"start\" x=\"145.5\" y=\"-14.8\" font-family=\"Times,serif\" font-size=\"14.00\">q</text>\n</g>\n<!-- q_G2&#45;&gt;SU2RotationGate -->\n<g id=\"edge1\" class=\"edge\">\n<title>q_G2:e-&gt;SU2RotationGate:w</title>\n<path fill=\"none\" stroke=\"black\" d=\"M54,-18C69.67,-18 74.14,-18 88.77,-18\"/>\n<ellipse fill=\"black\" stroke=\"black\" cx=\"90\" cy=\"-18\" rx=\"1\" ry=\"1\"/>\n<text text-anchor=\"middle\" x=\"72.5\" y=\"-21\" font-family=\"Times,serif\" font-size=\"10.00\">1</text>\n</g>\n<!-- q_G1 -->\n<g id=\"node3\" class=\"node\">\n<title>q_G1</title>\n<text text-anchor=\"middle\" x=\"270\" y=\"-14.3\" font-family=\"Times,serif\" font-size=\"14.00\">q</text>\n</g>\n<!-- SU2RotationGate&#45;&gt;q_G1 -->\n<g id=\"edge2\" class=\"edge\">\n<title>SU2RotationGate:e-&gt;q_G1:w</title>\n<path fill=\"none\" stroke=\"black\" d=\"M206,-18C221.67,-18 226.14,-18 240.77,-18\"/>\n<ellipse fill=\"black\" stroke=\"black\" cx=\"242\" cy=\"-18\" rx=\"1\" ry=\"1\"/>\n<text text-anchor=\"middle\" x=\"224.5\" y=\"-21\" font-family=\"Times,serif\" font-size=\"10.00\">1</text>\n</g>\n</g>\n</svg>",
          "text/plain": "<IPython.core.display.SVG object>"
         },
         "metadata": {},
         "output_type": "display_data"
        }
       ],
       "tabbable": null,
       "tooltip": null
      }
     },
     "b3d9fb38c7414949af06205bc07b1096": {
      "model_module": "@jupyter-widgets/controls",
      "model_module_version": "2.0.0",
      "model_name": "HBoxModel",
      "state": {
       "_dom_classes": [],
       "_model_module": "@jupyter-widgets/controls",
       "_model_module_version": "2.0.0",
       "_model_name": "HBoxModel",
       "_view_count": null,
       "_view_module": "@jupyter-widgets/controls",
       "_view_module_version": "2.0.0",
       "_view_name": "HBoxView",
       "box_style": "",
       "children": [
        "IPY_MODEL_685929e581534a708ac3f8dcc9cda41a",
        "IPY_MODEL_ea26bed5207244d89c0815292e0893a9",
        "IPY_MODEL_0d828b764ddf4a8ea237e22744c4b16b"
       ],
       "layout": "IPY_MODEL_b535e48be0304b07bc08265dcb2412a8",
       "tabbable": null,
       "tooltip": null
      }
     },
     "b535e48be0304b07bc08265dcb2412a8": {
      "model_module": "@jupyter-widgets/base",
      "model_module_version": "2.0.0",
      "model_name": "LayoutModel",
      "state": {
       "_model_module": "@jupyter-widgets/base",
       "_model_module_version": "2.0.0",
       "_model_name": "LayoutModel",
       "_view_count": null,
       "_view_module": "@jupyter-widgets/base",
       "_view_module_version": "2.0.0",
       "_view_name": "LayoutView",
       "align_content": null,
       "align_items": null,
       "align_self": null,
       "border_bottom": null,
       "border_left": null,
       "border_right": null,
       "border_top": null,
       "bottom": null,
       "display": null,
       "flex": null,
       "flex_flow": null,
       "grid_area": null,
       "grid_auto_columns": null,
       "grid_auto_flow": null,
       "grid_auto_rows": null,
       "grid_column": null,
       "grid_gap": null,
       "grid_row": null,
       "grid_template_areas": null,
       "grid_template_columns": null,
       "grid_template_rows": null,
       "height": null,
       "justify_content": null,
       "justify_items": null,
       "left": null,
       "margin": null,
       "max_height": null,
       "max_width": null,
       "min_height": null,
       "min_width": null,
       "object_fit": null,
       "object_position": null,
       "order": null,
       "overflow": null,
       "padding": null,
       "right": null,
       "top": null,
       "visibility": null,
       "width": null
      }
     },
     "d193a6d91d8640c2b2ee6cc69599bc52": {
      "model_module": "@jupyter-widgets/base",
      "model_module_version": "2.0.0",
      "model_name": "LayoutModel",
      "state": {
       "_model_module": "@jupyter-widgets/base",
       "_model_module_version": "2.0.0",
       "_model_name": "LayoutModel",
       "_view_count": null,
       "_view_module": "@jupyter-widgets/base",
       "_view_module_version": "2.0.0",
       "_view_name": "LayoutView",
       "align_content": null,
       "align_items": null,
       "align_self": null,
       "border_bottom": null,
       "border_left": null,
       "border_right": null,
       "border_top": null,
       "bottom": null,
       "display": null,
       "flex": null,
       "flex_flow": null,
       "grid_area": null,
       "grid_auto_columns": null,
       "grid_auto_flow": null,
       "grid_auto_rows": null,
       "grid_column": null,
       "grid_gap": null,
       "grid_row": null,
       "grid_template_areas": null,
       "grid_template_columns": null,
       "grid_template_rows": null,
       "height": null,
       "justify_content": null,
       "justify_items": null,
       "left": null,
       "margin": null,
       "max_height": null,
       "max_width": null,
       "min_height": null,
       "min_width": null,
       "object_fit": null,
       "object_position": null,
       "order": null,
       "overflow": null,
       "padding": null,
       "right": null,
       "top": null,
       "visibility": null,
       "width": null
      }
     },
     "ea26bed5207244d89c0815292e0893a9": {
      "model_module": "@jupyter-widgets/output",
      "model_module_version": "1.0.0",
      "model_name": "OutputModel",
      "state": {
       "_dom_classes": [],
       "_model_module": "@jupyter-widgets/output",
       "_model_module_version": "1.0.0",
       "_model_name": "OutputModel",
       "_view_count": null,
       "_view_module": "@jupyter-widgets/output",
       "_view_module_version": "1.0.0",
       "_view_name": "OutputView",
       "layout": "IPY_MODEL_2ef2008938f8479db789eb5559b11e03",
       "msg_id": "",
       "outputs": [
        {
         "data": {
          "text/markdown": "`hadamard`",
          "text/plain": "<IPython.core.display.Markdown object>"
         },
         "metadata": {},
         "output_type": "display_data"
        },
        {
         "data": {
          "image/svg+xml": "<svg xmlns=\"http://www.w3.org/2000/svg\" xmlns:xlink=\"http://www.w3.org/1999/xlink\" width=\"305pt\" height=\"54pt\" viewBox=\"0.00 0.00 305.00 54.00\">\n<g id=\"graph0\" class=\"graph\" transform=\"scale(1 1) rotate(0) translate(4 50)\">\n<title>my_graph</title>\n<polygon fill=\"white\" stroke=\"transparent\" points=\"-4,4 -4,-50 301,-50 301,4 -4,4\"/>\n<!-- q_G2 -->\n<g id=\"node1\" class=\"node\">\n<title>q_G2</title>\n<text text-anchor=\"middle\" x=\"27\" y=\"-14.3\" font-family=\"Times,serif\" font-size=\"14.00\">q</text>\n</g>\n<!-- SU2RotationGate -->\n<g id=\"node2\" class=\"node\">\n<title>SU2RotationGate</title>\n<polygon fill=\"none\" stroke=\"black\" points=\"91.5,-29 91.5,-46 206.5,-46 206.5,-29 91.5,-29\"/>\n<text text-anchor=\"start\" x=\"94.5\" y=\"-35\" font-family=\"Times,serif\" font-size=\"10.00\">SU_2(0.79,0.00,0.00,0.00)</text>\n<polygon fill=\"none\" stroke=\"black\" points=\"91.5,-8 91.5,-29 206.5,-29 206.5,-8 91.5,-8\"/>\n<text text-anchor=\"start\" x=\"145.5\" y=\"-14.8\" font-family=\"Times,serif\" font-size=\"14.00\">q</text>\n</g>\n<!-- q_G2&#45;&gt;SU2RotationGate -->\n<g id=\"edge1\" class=\"edge\">\n<title>q_G2:e-&gt;SU2RotationGate:w</title>\n<path fill=\"none\" stroke=\"black\" d=\"M54,-18C69.67,-18 74.14,-18 88.77,-18\"/>\n<ellipse fill=\"black\" stroke=\"black\" cx=\"90\" cy=\"-18\" rx=\"1\" ry=\"1\"/>\n<text text-anchor=\"middle\" x=\"72.5\" y=\"-21\" font-family=\"Times,serif\" font-size=\"10.00\">1</text>\n</g>\n<!-- q_G0 -->\n<g id=\"node3\" class=\"node\">\n<title>q_G0</title>\n<text text-anchor=\"middle\" x=\"270\" y=\"-14.3\" font-family=\"Times,serif\" font-size=\"14.00\">q</text>\n</g>\n<!-- SU2RotationGate&#45;&gt;q_G0 -->\n<g id=\"edge2\" class=\"edge\">\n<title>SU2RotationGate:e-&gt;q_G0:w</title>\n<path fill=\"none\" stroke=\"black\" d=\"M206,-18C221.67,-18 226.14,-18 240.77,-18\"/>\n<ellipse fill=\"black\" stroke=\"black\" cx=\"242\" cy=\"-18\" rx=\"1\" ry=\"1\"/>\n<text text-anchor=\"middle\" x=\"224.5\" y=\"-21\" font-family=\"Times,serif\" font-size=\"10.00\">1</text>\n</g>\n</g>\n</svg>",
          "text/plain": "<IPython.core.display.SVG object>"
         },
         "metadata": {},
         "output_type": "display_data"
        }
       ],
       "tabbable": null,
       "tooltip": null
      }
     }
    },
    "version_major": 2,
    "version_minor": 0
   }
  }
 },
 "nbformat": 4,
 "nbformat_minor": 5
}
