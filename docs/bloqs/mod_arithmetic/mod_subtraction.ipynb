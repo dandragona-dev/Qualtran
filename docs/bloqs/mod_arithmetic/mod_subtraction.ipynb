{
 "cells": [
  {
   "cell_type": "markdown",
   "id": "20aaa8c7",
   "metadata": {
    "cq.autogen": "title_cell"
   },
   "source": [
    "# Modular Subtraction"
   ]
  },
  {
   "cell_type": "code",
   "execution_count": 1,
   "id": "968c2b06",
   "metadata": {
    "cq.autogen": "top_imports"
   },
   "outputs": [],
   "source": [
    "from qualtran import Bloq, CompositeBloq, BloqBuilder, Signature, Register\n",
    "from qualtran import QBit, QInt, QUInt, QAny\n",
    "from qualtran.drawing import show_bloq, show_call_graph, show_counts_sigma\n",
    "from typing import *\n",
    "import numpy as np\n",
    "import sympy\n",
    "import cirq"
   ]
  },
  {
   "cell_type": "markdown",
   "id": "6ed3d20c",
   "metadata": {
    "cq.autogen": "ModNeg.bloq_doc.md"
   },
   "source": [
    "## `ModNeg`\n",
    "Performs modular negation.\n",
    "\n",
    "Applies the operation $\\ket{x} \\rightarrow \\ket{-x \\% p}$\n",
    "\n",
    "Note: This implements the decomposition from Fig 6 in but doesn't match table 8\n",
    "since we don't use measurement based uncompution because that introduces random phase flips.\n",
    "\n",
    "#### Parameters\n",
    " - `dtype`: Datatype of the register.\n",
    " - `p`: The modulus for the negation. \n",
    "\n",
    "#### Registers\n",
    " - `x`: The register contraining the integer we negate. \n",
    "\n",
    "#### References\n",
    " - [How to compute a 256-bit elliptic curve private key with only 50 million Toffoli gates](https://arxiv.org/abs/2306.08585). Fig 6b\n"
   ]
  },
  {
   "cell_type": "code",
   "execution_count": 2,
   "id": "24d9ba35",
   "metadata": {
    "cq.autogen": "ModNeg.bloq_doc.py"
   },
   "outputs": [],
   "source": [
    "from qualtran.bloqs.mod_arithmetic import ModNeg"
   ]
  },
  {
   "cell_type": "markdown",
   "id": "8d97be2c",
   "metadata": {
    "cq.autogen": "ModNeg.example_instances.md"
   },
   "source": [
    "### Example Instances"
   ]
  },
  {
   "cell_type": "code",
   "execution_count": 3,
   "id": "f1c17cde",
   "metadata": {
    "cq.autogen": "ModNeg.mod_neg"
   },
   "outputs": [],
   "source": [
    "n = 32\n",
    "prime = sympy.Symbol('p')\n",
    "mod_neg = ModNeg(QUInt(n), mod=prime)"
   ]
  },
  {
   "cell_type": "markdown",
   "id": "0801878d",
   "metadata": {
    "cq.autogen": "ModNeg.graphical_signature.md"
   },
   "source": [
    "#### Graphical Signature"
   ]
  },
  {
   "cell_type": "code",
   "execution_count": 4,
   "id": "2dfc00e4",
   "metadata": {
    "cq.autogen": "ModNeg.graphical_signature.py"
   },
   "outputs": [
    {
     "data": {
      "application/vnd.jupyter.widget-view+json": {
       "model_id": "56f5cef0e9644090ae07eb9910d8fcff",
       "version_major": 2,
       "version_minor": 0
      },
      "text/plain": [
       "HBox(children=(Output(outputs=({'output_type': 'display_data', 'data': {'text/plain': '<IPython.core.display.M…"
      ]
     },
     "metadata": {},
     "output_type": "display_data"
    }
   ],
   "source": [
    "from qualtran.drawing import show_bloqs\n",
    "show_bloqs([mod_neg],\n",
    "           ['`mod_neg`'])"
   ]
  },
  {
   "cell_type": "markdown",
   "id": "dfdb9be7",
   "metadata": {
    "cq.autogen": "ModNeg.call_graph.md"
   },
   "source": [
    "### Call Graph"
   ]
  },
  {
   "cell_type": "code",
   "execution_count": 5,
   "id": "0f9ac01b",
   "metadata": {
    "cq.autogen": "ModNeg.call_graph.py"
   },
   "outputs": [
    {
     "data": {
      "image/svg+xml": [
       "<svg xmlns=\"http://www.w3.org/2000/svg\" xmlns:xlink=\"http://www.w3.org/1999/xlink\" width=\"364pt\" height=\"131pt\" viewBox=\"0.00 0.00 364.00 131.00\">\n",
       "<g id=\"graph0\" class=\"graph\" transform=\"scale(1 1) rotate(0) translate(4 127)\">\n",
       "<title>counts</title>\n",
       "<polygon fill=\"white\" stroke=\"transparent\" points=\"-4,4 -4,-127 360,-127 360,4 -4,4\"/>\n",
       "<!-- b0 -->\n",
       "<g id=\"node1\" class=\"node\">\n",
       "<title>b0</title>\n",
       "<polygon fill=\"none\" stroke=\"black\" points=\"181,-93 181,-116 231,-116 231,-93 181,-93\"/>\n",
       "<text text-anchor=\"start\" x=\"187.5\" y=\"-102\" font-family=\"Times,serif\" font-size=\"10.00\">ModNeg</text>\n",
       "</g>\n",
       "<!-- b1 -->\n",
       "<g id=\"node2\" class=\"node\">\n",
       "<title>b1</title>\n",
       "<polygon fill=\"none\" stroke=\"black\" points=\"8,-6 8,-29 78,-29 78,-6 8,-6\"/>\n",
       "<text text-anchor=\"start\" x=\"14.5\" y=\"-15\" font-family=\"Times,serif\" font-size=\"10.00\">C[32][XGate]</text>\n",
       "</g>\n",
       "<!-- b0&#45;&gt;b1 -->\n",
       "<g id=\"edge1\" class=\"edge\">\n",
       "<title>b0-&gt;b1</title>\n",
       "<path fill=\"none\" stroke=\"black\" d=\"M173.01,-86.8C147.52,-73.51 112.08,-55.02 84.63,-40.71\"/>\n",
       "<polygon fill=\"black\" stroke=\"black\" points=\"86.14,-37.55 75.66,-36.03 82.91,-43.76 86.14,-37.55\"/>\n",
       "<text text-anchor=\"middle\" x=\"138.5\" y=\"-57.8\" font-family=\"Times,serif\" font-size=\"14.00\">2</text>\n",
       "</g>\n",
       "<!-- b2 -->\n",
       "<g id=\"node3\" class=\"node\">\n",
       "<title>b2</title>\n",
       "<polygon fill=\"none\" stroke=\"black\" points=\"112,-6 112,-29 202,-29 202,-6 112,-6\"/>\n",
       "<text text-anchor=\"start\" x=\"118.5\" y=\"-15\" font-family=\"Times,serif\" font-size=\"10.00\">MultiTargetCNOT</text>\n",
       "</g>\n",
       "<!-- b0&#45;&gt;b2 -->\n",
       "<g id=\"edge2\" class=\"edge\">\n",
       "<title>b0-&gt;b2</title>\n",
       "<path fill=\"none\" stroke=\"black\" d=\"M196.08,-86.8C189.18,-74.82 179.84,-58.62 172.02,-45.06\"/>\n",
       "<polygon fill=\"black\" stroke=\"black\" points=\"174.93,-43.09 166.9,-36.18 168.86,-46.59 174.93,-43.09\"/>\n",
       "<text text-anchor=\"middle\" x=\"188.5\" y=\"-57.8\" font-family=\"Times,serif\" font-size=\"14.00\">1</text>\n",
       "</g>\n",
       "<!-- b3 -->\n",
       "<g id=\"node4\" class=\"node\">\n",
       "<title>b3</title>\n",
       "<polygon fill=\"none\" stroke=\"black\" points=\"236,-6 236,-29 274,-29 274,-6 236,-6\"/>\n",
       "<text text-anchor=\"start\" x=\"242\" y=\"-15\" font-family=\"Times,serif\" font-size=\"10.00\">AddK</text>\n",
       "</g>\n",
       "<!-- b0&#45;&gt;b3 -->\n",
       "<g id=\"edge3\" class=\"edge\">\n",
       "<title>b0-&gt;b3</title>\n",
       "<path fill=\"none\" stroke=\"black\" d=\"M215.92,-86.8C222.82,-74.82 232.16,-58.62 239.98,-45.06\"/>\n",
       "<polygon fill=\"black\" stroke=\"black\" points=\"243.14,-46.59 245.1,-36.18 237.07,-43.09 243.14,-46.59\"/>\n",
       "<text text-anchor=\"middle\" x=\"237.5\" y=\"-57.8\" font-family=\"Times,serif\" font-size=\"14.00\">1</text>\n",
       "</g>\n",
       "<!-- b4 -->\n",
       "<g id=\"node5\" class=\"node\">\n",
       "<title>b4</title>\n",
       "<polygon fill=\"none\" stroke=\"black\" points=\"308,-6 308,-29 348,-29 348,-6 308,-6\"/>\n",
       "<text text-anchor=\"start\" x=\"314\" y=\"-15\" font-family=\"Times,serif\" font-size=\"10.00\">XGate</text>\n",
       "</g>\n",
       "<!-- b0&#45;&gt;b4 -->\n",
       "<g id=\"edge4\" class=\"edge\">\n",
       "<title>b0-&gt;b4</title>\n",
       "<path fill=\"none\" stroke=\"black\" d=\"M230.69,-86.8C249.21,-73.9 274.75,-56.1 295.02,-41.98\"/>\n",
       "<polygon fill=\"black\" stroke=\"black\" points=\"297.14,-44.76 303.35,-36.18 293.14,-39.02 297.14,-44.76\"/>\n",
       "<text text-anchor=\"middle\" x=\"277.5\" y=\"-57.8\" font-family=\"Times,serif\" font-size=\"14.00\">2</text>\n",
       "</g>\n",
       "</g>\n",
       "</svg>"
      ],
      "text/plain": [
       "<IPython.core.display.SVG object>"
      ]
     },
     "metadata": {},
     "output_type": "display_data"
    },
    {
     "data": {
      "text/markdown": [
       "#### Counts totals:\n",
       " - `AddK`: 1\n",
       " - `C[32][XGate]`: 2\n",
       " - `MultiTargetCNOT`: 1\n",
       " - `XGate`: 2"
      ],
      "text/plain": [
       "<IPython.core.display.Markdown object>"
      ]
     },
     "metadata": {},
     "output_type": "display_data"
    }
   ],
   "source": [
    "from qualtran.resource_counting.generalizers import ignore_split_join\n",
    "mod_neg_g, mod_neg_sigma = mod_neg.call_graph(max_depth=1, generalizer=ignore_split_join)\n",
    "show_call_graph(mod_neg_g)\n",
    "show_counts_sigma(mod_neg_sigma)"
   ]
  },
  {
   "cell_type": "markdown",
   "id": "4dded926",
   "metadata": {
    "cq.autogen": "CModNeg.bloq_doc.md"
   },
   "source": [
    "## `CModNeg`\n",
    "Performs controlled modular negation.\n",
    "\n",
    "Applies the operation $\\ket{c}\\ket{x} \\rightarrow \\ket{c}\\ket{(-1)^c x\\%p}$\n",
    "\n",
    "Note: while this matches the count from Fig 8, it's a different decomposition that controls\n",
    "only the Add operation instead of turning the CNOTs into toffolis.\n",
    "\n",
    "#### Parameters\n",
    " - `dtype`: Datatype of the register.\n",
    " - `p`: The modulus for the negation.\n",
    " - `cv`: value at which the gate is active. \n",
    "\n",
    "#### Registers\n",
    " - `ctrl`: Control bit.\n",
    " - `x`: The register contraining the integer we negate. \n",
    "\n",
    "#### References\n",
    " - [How to compute a 256-bit elliptic curve private key with only 50 million Toffoli gates](https://arxiv.org/abs/2306.08585). Fig 6b and 8\n"
   ]
  },
  {
   "cell_type": "code",
   "execution_count": 6,
   "id": "5dd057d2",
   "metadata": {
    "cq.autogen": "CModNeg.bloq_doc.py"
   },
   "outputs": [],
   "source": [
    "from qualtran.bloqs.mod_arithmetic import CModNeg"
   ]
  },
  {
   "cell_type": "markdown",
   "id": "0f082f26",
   "metadata": {
    "cq.autogen": "CModNeg.example_instances.md"
   },
   "source": [
    "### Example Instances"
   ]
  },
  {
   "cell_type": "code",
   "execution_count": 7,
   "id": "a5c3fb4f",
   "metadata": {
    "cq.autogen": "CModNeg.cmod_neg"
   },
   "outputs": [],
   "source": [
    "n = 32\n",
    "prime = sympy.Symbol('p')\n",
    "cmod_neg = CModNeg(QUInt(n), mod=prime)"
   ]
  },
  {
   "cell_type": "markdown",
   "id": "211a2fc0",
   "metadata": {
    "cq.autogen": "CModNeg.graphical_signature.md"
   },
   "source": [
    "#### Graphical Signature"
   ]
  },
  {
   "cell_type": "code",
   "execution_count": 8,
   "id": "ccd14293",
   "metadata": {
    "cq.autogen": "CModNeg.graphical_signature.py"
   },
   "outputs": [
    {
     "data": {
      "application/vnd.jupyter.widget-view+json": {
       "model_id": "d1afc9f64df74bf9bc2a4f6bb3feea82",
       "version_major": 2,
       "version_minor": 0
      },
      "text/plain": [
       "HBox(children=(Output(outputs=({'output_type': 'display_data', 'data': {'text/plain': '<IPython.core.display.M…"
      ]
     },
     "metadata": {},
     "output_type": "display_data"
    }
   ],
   "source": [
    "from qualtran.drawing import show_bloqs\n",
    "show_bloqs([cmod_neg],\n",
    "           ['`cmod_neg`'])"
   ]
  },
  {
   "cell_type": "markdown",
   "id": "29fa3263",
   "metadata": {
    "cq.autogen": "CModNeg.call_graph.md"
   },
   "source": [
    "### Call Graph"
   ]
  },
  {
   "cell_type": "code",
   "execution_count": 9,
   "id": "b0f0b7ea",
   "metadata": {
    "cq.autogen": "CModNeg.call_graph.py"
   },
   "outputs": [
    {
     "data": {
      "image/svg+xml": [
       "<svg xmlns=\"http://www.w3.org/2000/svg\" xmlns:xlink=\"http://www.w3.org/1999/xlink\" width=\"500pt\" height=\"131pt\" viewBox=\"0.00 0.00 500.00 131.00\">\n",
       "<g id=\"graph0\" class=\"graph\" transform=\"scale(1 1) rotate(0) translate(4 127)\">\n",
       "<title>counts</title>\n",
       "<polygon fill=\"white\" stroke=\"transparent\" points=\"-4,4 -4,-127 496,-127 496,4 -4,4\"/>\n",
       "<!-- b0 -->\n",
       "<g id=\"node1\" class=\"node\">\n",
       "<title>b0</title>\n",
       "<polygon fill=\"none\" stroke=\"black\" points=\"216,-93 216,-116 272,-116 272,-93 216,-93\"/>\n",
       "<text text-anchor=\"start\" x=\"222\" y=\"-102\" font-family=\"Times,serif\" font-size=\"10.00\">CModNeg</text>\n",
       "</g>\n",
       "<!-- b1 -->\n",
       "<g id=\"node2\" class=\"node\">\n",
       "<title>b1</title>\n",
       "<polygon fill=\"none\" stroke=\"black\" points=\"8,-6 8,-29 70,-29 70,-6 8,-6\"/>\n",
       "<text text-anchor=\"start\" x=\"14.5\" y=\"-15\" font-family=\"Times,serif\" font-size=\"10.00\">C^32XGate</text>\n",
       "</g>\n",
       "<!-- b0&#45;&gt;b1 -->\n",
       "<g id=\"edge1\" class=\"edge\">\n",
       "<title>b0-&gt;b1</title>\n",
       "<path fill=\"none\" stroke=\"black\" d=\"M207.82,-89C174.48,-75.17 124.73,-54.55 87.86,-39.26\"/>\n",
       "<polygon fill=\"black\" stroke=\"black\" points=\"88.89,-35.9 78.31,-35.3 86.21,-42.36 88.89,-35.9\"/>\n",
       "<text text-anchor=\"middle\" x=\"157.5\" y=\"-57.8\" font-family=\"Times,serif\" font-size=\"14.00\">2</text>\n",
       "</g>\n",
       "<!-- b2 -->\n",
       "<g id=\"node3\" class=\"node\">\n",
       "<title>b2</title>\n",
       "<polygon fill=\"none\" stroke=\"black\" points=\"107,-6 107,-29 139,-29 139,-6 107,-6\"/>\n",
       "<text text-anchor=\"start\" x=\"113.5\" y=\"-15\" font-family=\"Times,serif\" font-size=\"10.00\">And</text>\n",
       "</g>\n",
       "<!-- b0&#45;&gt;b2 -->\n",
       "<g id=\"edge2\" class=\"edge\">\n",
       "<title>b0-&gt;b2</title>\n",
       "<path fill=\"none\" stroke=\"black\" d=\"M219.51,-86.8C201.15,-73.9 175.81,-56.1 155.71,-41.98\"/>\n",
       "<polygon fill=\"black\" stroke=\"black\" points=\"157.64,-39.06 147.45,-36.18 153.62,-44.79 157.64,-39.06\"/>\n",
       "<text text-anchor=\"middle\" x=\"194.5\" y=\"-57.8\" font-family=\"Times,serif\" font-size=\"14.00\">1</text>\n",
       "</g>\n",
       "<!-- b3 -->\n",
       "<g id=\"node4\" class=\"node\">\n",
       "<title>b3</title>\n",
       "<polygon fill=\"none\" stroke=\"black\" points=\"177,-6 177,-29 213,-29 213,-6 177,-6\"/>\n",
       "<text text-anchor=\"start\" x=\"183\" y=\"-15\" font-family=\"Times,serif\" font-size=\"10.00\">And†</text>\n",
       "</g>\n",
       "<!-- b0&#45;&gt;b3 -->\n",
       "<g id=\"edge3\" class=\"edge\">\n",
       "<title>b0-&gt;b3</title>\n",
       "<path fill=\"none\" stroke=\"black\" d=\"M234.08,-86.8C227.18,-74.82 217.84,-58.62 210.02,-45.06\"/>\n",
       "<polygon fill=\"black\" stroke=\"black\" points=\"212.93,-43.09 204.9,-36.18 206.86,-46.59 212.93,-43.09\"/>\n",
       "<text text-anchor=\"middle\" x=\"226.5\" y=\"-57.8\" font-family=\"Times,serif\" font-size=\"14.00\">1</text>\n",
       "</g>\n",
       "<!-- b4 -->\n",
       "<g id=\"node5\" class=\"node\">\n",
       "<title>b4</title>\n",
       "<polygon fill=\"none\" stroke=\"black\" points=\"248,-6 248,-29 338,-29 338,-6 248,-6\"/>\n",
       "<text text-anchor=\"start\" x=\"254.5\" y=\"-15\" font-family=\"Times,serif\" font-size=\"10.00\">MultiTargetCNOT</text>\n",
       "</g>\n",
       "<!-- b0&#45;&gt;b4 -->\n",
       "<g id=\"edge4\" class=\"edge\">\n",
       "<title>b0-&gt;b4</title>\n",
       "<path fill=\"none\" stroke=\"black\" d=\"M253.92,-86.8C260.82,-74.82 270.16,-58.62 277.98,-45.06\"/>\n",
       "<polygon fill=\"black\" stroke=\"black\" points=\"281.14,-46.59 283.1,-36.18 275.07,-43.09 281.14,-46.59\"/>\n",
       "<text text-anchor=\"middle\" x=\"275.5\" y=\"-57.8\" font-family=\"Times,serif\" font-size=\"14.00\">1</text>\n",
       "</g>\n",
       "<!-- b5 -->\n",
       "<g id=\"node6\" class=\"node\">\n",
       "<title>b5</title>\n",
       "<polygon fill=\"none\" stroke=\"black\" points=\"372,-6 372,-29 410,-29 410,-6 372,-6\"/>\n",
       "<text text-anchor=\"start\" x=\"378\" y=\"-15\" font-family=\"Times,serif\" font-size=\"10.00\">AddK</text>\n",
       "</g>\n",
       "<!-- b0&#45;&gt;b5 -->\n",
       "<g id=\"edge5\" class=\"edge\">\n",
       "<title>b0-&gt;b5</title>\n",
       "<path fill=\"none\" stroke=\"black\" d=\"M273.75,-86.8C297.21,-73.23 330.02,-54.26 354.97,-39.83\"/>\n",
       "<polygon fill=\"black\" stroke=\"black\" points=\"356.87,-42.78 363.78,-34.74 353.37,-36.72 356.87,-42.78\"/>\n",
       "<text text-anchor=\"middle\" x=\"329.5\" y=\"-57.8\" font-family=\"Times,serif\" font-size=\"14.00\">1</text>\n",
       "</g>\n",
       "<!-- b6 -->\n",
       "<g id=\"node7\" class=\"node\">\n",
       "<title>b6</title>\n",
       "<polygon fill=\"none\" stroke=\"black\" points=\"444,-6 444,-29 484,-29 484,-6 444,-6\"/>\n",
       "<text text-anchor=\"start\" x=\"450\" y=\"-15\" font-family=\"Times,serif\" font-size=\"10.00\">XGate</text>\n",
       "</g>\n",
       "<!-- b0&#45;&gt;b6 -->\n",
       "<g id=\"edge6\" class=\"edge\">\n",
       "<title>b0-&gt;b6</title>\n",
       "<path fill=\"none\" stroke=\"black\" d=\"M280.08,-91.5C315.25,-79.1 370.4,-59.15 426.45,-36.09\"/>\n",
       "<polygon fill=\"black\" stroke=\"black\" points=\"427.91,-39.27 435.81,-32.21 425.24,-32.81 427.91,-39.27\"/>\n",
       "<text text-anchor=\"middle\" x=\"380.5\" y=\"-57.8\" font-family=\"Times,serif\" font-size=\"14.00\">2</text>\n",
       "</g>\n",
       "</g>\n",
       "</svg>"
      ],
      "text/plain": [
       "<IPython.core.display.SVG object>"
      ]
     },
     "metadata": {},
     "output_type": "display_data"
    },
    {
     "data": {
      "text/markdown": [
       "#### Counts totals:\n",
       " - `AddK`: 1\n",
       " - `And`: 1\n",
       " - `And†`: 1\n",
       " - `C^32XGate`: 2\n",
       " - `MultiTargetCNOT`: 1\n",
       " - `XGate`: 2"
      ],
      "text/plain": [
       "<IPython.core.display.Markdown object>"
      ]
     },
     "metadata": {},
     "output_type": "display_data"
    }
   ],
   "source": [
    "from qualtran.resource_counting.generalizers import ignore_split_join\n",
    "cmod_neg_g, cmod_neg_sigma = cmod_neg.call_graph(max_depth=1, generalizer=ignore_split_join)\n",
    "show_call_graph(cmod_neg_g)\n",
    "show_counts_sigma(cmod_neg_sigma)"
   ]
  },
  {
   "cell_type": "markdown",
   "id": "14a3fbc6",
   "metadata": {
    "cq.autogen": "ModSub.bloq_doc.md"
   },
   "source": [
    "## `ModSub`\n",
    "Performs modular subtraction.\n",
    "\n",
    "Applies the operation $\\ket{x} \\ket{y} \\rightarrow \\ket{x} \\ket{y-x \\% p}$\n",
    "\n",
    "#### Parameters\n",
    " - `dtype`: Datatype of the register.\n",
    " - `p`: The modulus for the negation. \n",
    "\n",
    "#### Registers\n",
    " - `x`: The register contraining the first integer.\n",
    " - `y`: The register contraining the second integer. \n",
    "\n",
    "#### References\n",
    " - [How to compute a 256-bit elliptic curve private key with only 50 million Toffoli gates](https://arxiv.org/abs/2306.08585). Fig 6c and 8\n"
   ]
  },
  {
   "cell_type": "code",
   "execution_count": 10,
   "id": "a073f504",
   "metadata": {
    "cq.autogen": "ModSub.bloq_doc.py"
   },
   "outputs": [],
   "source": [
    "from qualtran.bloqs.mod_arithmetic import ModSub"
   ]
  },
  {
   "cell_type": "markdown",
   "id": "1820700b",
   "metadata": {
    "cq.autogen": "ModSub.example_instances.md"
   },
   "source": [
    "### Example Instances"
   ]
  },
  {
   "cell_type": "code",
   "execution_count": 11,
   "id": "0e42061f",
   "metadata": {
    "cq.autogen": "ModSub.modsub_symb"
   },
   "outputs": [],
   "source": [
    "n, p = sympy.symbols('n p')\n",
    "modsub_symb = ModSub(QUInt(n), p)"
   ]
  },
  {
   "cell_type": "markdown",
   "id": "e61d3cf3",
   "metadata": {
    "cq.autogen": "ModSub.graphical_signature.md"
   },
   "source": [
    "#### Graphical Signature"
   ]
  },
  {
   "cell_type": "code",
   "execution_count": 12,
   "id": "d5f8d669",
   "metadata": {
    "cq.autogen": "ModSub.graphical_signature.py"
   },
   "outputs": [
    {
     "data": {
      "application/vnd.jupyter.widget-view+json": {
       "model_id": "f035f4276fba4a7fae068b01238146f1",
       "version_major": 2,
       "version_minor": 0
      },
      "text/plain": [
       "HBox(children=(Output(outputs=({'output_type': 'display_data', 'data': {'text/plain': '<IPython.core.display.M…"
      ]
     },
     "metadata": {},
     "output_type": "display_data"
    }
   ],
   "source": [
    "from qualtran.drawing import show_bloqs\n",
    "show_bloqs([modsub_symb],\n",
    "           ['`modsub_symb`'])"
   ]
  },
  {
   "cell_type": "markdown",
   "id": "ac2ff24b",
   "metadata": {
    "cq.autogen": "ModSub.call_graph.md"
   },
   "source": [
    "### Call Graph"
   ]
  },
  {
   "cell_type": "code",
   "execution_count": 13,
   "id": "17efb6be",
   "metadata": {
    "cq.autogen": "ModSub.call_graph.py"
   },
   "outputs": [
    {
     "data": {
      "image/svg+xml": [
       "<svg xmlns=\"http://www.w3.org/2000/svg\" xmlns:xlink=\"http://www.w3.org/1999/xlink\" width=\"318pt\" height=\"131pt\" viewBox=\"0.00 0.00 318.00 131.00\">\n",
       "<g id=\"graph0\" class=\"graph\" transform=\"scale(1 1) rotate(0) translate(4 127)\">\n",
       "<title>counts</title>\n",
       "<polygon fill=\"white\" stroke=\"transparent\" points=\"-4,4 -4,-127 314,-127 314,4 -4,4\"/>\n",
       "<!-- b0 -->\n",
       "<g id=\"node1\" class=\"node\">\n",
       "<title>b0</title>\n",
       "<polygon fill=\"none\" stroke=\"black\" points=\"134,-93 134,-116 182,-116 182,-93 134,-93\"/>\n",
       "<text text-anchor=\"start\" x=\"140\" y=\"-102\" font-family=\"Times,serif\" font-size=\"10.00\">ModSub</text>\n",
       "</g>\n",
       "<!-- b1 -->\n",
       "<g id=\"node2\" class=\"node\">\n",
       "<title>b1</title>\n",
       "<polygon fill=\"none\" stroke=\"black\" points=\"8,-6 8,-29 68,-29 68,-6 8,-6\"/>\n",
       "<text text-anchor=\"start\" x=\"14\" y=\"-15\" font-family=\"Times,serif\" font-size=\"10.00\">BitwiseNot</text>\n",
       "</g>\n",
       "<!-- b0&#45;&gt;b1 -->\n",
       "<g id=\"edge1\" class=\"edge\">\n",
       "<title>b0-&gt;b1</title>\n",
       "<path fill=\"none\" stroke=\"black\" d=\"M133.72,-86.8C115.5,-73.9 90.38,-56.1 70.44,-41.98\"/>\n",
       "<polygon fill=\"black\" stroke=\"black\" points=\"72.43,-39.1 62.25,-36.18 68.38,-44.81 72.43,-39.1\"/>\n",
       "<text text-anchor=\"middle\" x=\"109.5\" y=\"-57.8\" font-family=\"Times,serif\" font-size=\"14.00\">2</text>\n",
       "</g>\n",
       "<!-- b2 -->\n",
       "<g id=\"node3\" class=\"node\">\n",
       "<title>b2</title>\n",
       "<polygon fill=\"none\" stroke=\"black\" points=\"102,-6 102,-29 140,-29 140,-6 102,-6\"/>\n",
       "<text text-anchor=\"start\" x=\"108\" y=\"-15\" font-family=\"Times,serif\" font-size=\"10.00\">AddK</text>\n",
       "</g>\n",
       "<!-- b0&#45;&gt;b2 -->\n",
       "<g id=\"edge2\" class=\"edge\">\n",
       "<title>b0-&gt;b2</title>\n",
       "<path fill=\"none\" stroke=\"black\" d=\"M150.51,-86.8C145.35,-74.93 138.38,-58.93 132.51,-45.45\"/>\n",
       "<polygon fill=\"black\" stroke=\"black\" points=\"135.68,-43.95 128.48,-36.18 129.26,-46.74 135.68,-43.95\"/>\n",
       "<text text-anchor=\"middle\" x=\"145.5\" y=\"-57.8\" font-family=\"Times,serif\" font-size=\"14.00\">1</text>\n",
       "</g>\n",
       "<!-- b3 -->\n",
       "<g id=\"node4\" class=\"node\">\n",
       "<title>b3</title>\n",
       "<polygon fill=\"none\" stroke=\"black\" points=\"174,-6 174,-29 218,-29 218,-6 174,-6\"/>\n",
       "<text text-anchor=\"start\" x=\"180.5\" y=\"-15\" font-family=\"Times,serif\" font-size=\"10.00\">AddK†</text>\n",
       "</g>\n",
       "<!-- b0&#45;&gt;b3 -->\n",
       "<g id=\"edge3\" class=\"edge\">\n",
       "<title>b0-&gt;b3</title>\n",
       "<path fill=\"none\" stroke=\"black\" d=\"M165.69,-86.8C171,-74.93 178.15,-58.93 184.18,-45.45\"/>\n",
       "<polygon fill=\"black\" stroke=\"black\" points=\"187.44,-46.73 188.32,-36.18 181.04,-43.88 187.44,-46.73\"/>\n",
       "<text text-anchor=\"middle\" x=\"183.5\" y=\"-57.8\" font-family=\"Times,serif\" font-size=\"14.00\">1</text>\n",
       "</g>\n",
       "<!-- b4 -->\n",
       "<g id=\"node5\" class=\"node\">\n",
       "<title>b4</title>\n",
       "<polygon fill=\"none\" stroke=\"black\" points=\"252,-6 252,-29 302,-29 302,-6 252,-6\"/>\n",
       "<text text-anchor=\"start\" x=\"258\" y=\"-15\" font-family=\"Times,serif\" font-size=\"10.00\">ModAdd</text>\n",
       "</g>\n",
       "<!-- b0&#45;&gt;b4 -->\n",
       "<g id=\"edge4\" class=\"edge\">\n",
       "<title>b0-&gt;b4</title>\n",
       "<path fill=\"none\" stroke=\"black\" d=\"M182.08,-86.8C200.07,-73.95 224.84,-56.26 244.57,-42.17\"/>\n",
       "<polygon fill=\"black\" stroke=\"black\" points=\"246.85,-44.84 252.95,-36.18 242.78,-39.14 246.85,-44.84\"/>\n",
       "<text text-anchor=\"middle\" x=\"227.5\" y=\"-57.8\" font-family=\"Times,serif\" font-size=\"14.00\">1</text>\n",
       "</g>\n",
       "</g>\n",
       "</svg>"
      ],
      "text/plain": [
       "<IPython.core.display.SVG object>"
      ]
     },
     "metadata": {},
     "output_type": "display_data"
    },
    {
     "data": {
      "text/markdown": [
       "#### Counts totals:\n",
       " - `AddK`: 1\n",
       " - `AddK†`: 1\n",
       " - `BitwiseNot`: 2\n",
       " - `ModAdd`: 1"
      ],
      "text/plain": [
       "<IPython.core.display.Markdown object>"
      ]
     },
     "metadata": {},
     "output_type": "display_data"
    }
   ],
   "source": [
    "from qualtran.resource_counting.generalizers import ignore_split_join\n",
    "modsub_symb_g, modsub_symb_sigma = modsub_symb.call_graph(max_depth=1, generalizer=ignore_split_join)\n",
    "show_call_graph(modsub_symb_g)\n",
    "show_counts_sigma(modsub_symb_sigma)"
   ]
  },
  {
   "cell_type": "markdown",
   "id": "e2ca65c8",
   "metadata": {
    "cq.autogen": "CModSub.bloq_doc.md"
   },
   "source": [
    "## `CModSub`\n",
    "Performs controlled modular subtraction.\n",
    "\n",
    "Applies the operation $\\ket{c}\\ket{x} \\ket{y} \\rightarrow \\ket{c}\\ket{x} \\ket{y-cx \\% p}$\n",
    "\n",
    "#### Parameters\n",
    " - `dtype`: Datatype of the register.\n",
    " - `p`: The modulus for the negation.\n",
    " - `cv`: value at which the bloq is active. \n",
    "\n",
    "#### Registers\n",
    " - `ctrl`: control register.\n",
    " - `x`: The register contraining the first integer.\n",
    " - `y`: The register contraining the second integer. \n",
    "\n",
    "#### References\n",
    " - [How to compute a 256-bit elliptic curve private key with only 50 million Toffoli gates](https://arxiv.org/abs/2306.08585). Fig 6c and 8\n"
   ]
  },
  {
   "cell_type": "code",
   "execution_count": 14,
   "id": "f3075f45",
   "metadata": {
    "cq.autogen": "CModSub.bloq_doc.py"
   },
   "outputs": [],
   "source": [
    "from qualtran.bloqs.mod_arithmetic import CModSub"
   ]
  },
  {
   "cell_type": "markdown",
   "id": "5413f37d",
   "metadata": {
    "cq.autogen": "CModSub.example_instances.md"
   },
   "source": [
    "### Example Instances"
   ]
  },
  {
   "cell_type": "code",
   "execution_count": 15,
   "id": "1d257167",
   "metadata": {
    "cq.autogen": "CModSub.cmodsub_symb"
   },
   "outputs": [],
   "source": [
    "n, p = sympy.symbols('n p')\n",
    "cmodsub_symb = CModSub(QUInt(n), p)"
   ]
  },
  {
   "cell_type": "markdown",
   "id": "83c7dc30",
   "metadata": {
    "cq.autogen": "CModSub.graphical_signature.md"
   },
   "source": [
    "#### Graphical Signature"
   ]
  },
  {
   "cell_type": "code",
   "execution_count": 16,
   "id": "d08073ac",
   "metadata": {
    "cq.autogen": "CModSub.graphical_signature.py"
   },
   "outputs": [
    {
     "data": {
      "application/vnd.jupyter.widget-view+json": {
       "model_id": "3cf4431de49248739b0c7674b72c70b6",
       "version_major": 2,
       "version_minor": 0
      },
      "text/plain": [
       "HBox(children=(Output(outputs=({'output_type': 'display_data', 'data': {'text/plain': '<IPython.core.display.M…"
      ]
     },
     "metadata": {},
     "output_type": "display_data"
    }
   ],
   "source": [
    "from qualtran.drawing import show_bloqs\n",
    "show_bloqs([cmodsub_symb],\n",
    "           ['`cmodsub_symb`'])"
   ]
  },
  {
   "cell_type": "markdown",
   "id": "b4e6b051",
   "metadata": {
    "cq.autogen": "CModSub.call_graph.md"
   },
   "source": [
    "### Call Graph"
   ]
  },
  {
   "cell_type": "code",
   "execution_count": 17,
   "id": "53f671dd",
   "metadata": {
    "cq.autogen": "CModSub.call_graph.py"
   },
   "outputs": [
    {
     "data": {
      "image/svg+xml": [
       "<svg xmlns=\"http://www.w3.org/2000/svg\" xmlns:xlink=\"http://www.w3.org/1999/xlink\" width=\"326pt\" height=\"131pt\" viewBox=\"0.00 0.00 326.00 131.00\">\n",
       "<g id=\"graph0\" class=\"graph\" transform=\"scale(1 1) rotate(0) translate(4 127)\">\n",
       "<title>counts</title>\n",
       "<polygon fill=\"white\" stroke=\"transparent\" points=\"-4,4 -4,-127 322,-127 322,4 -4,4\"/>\n",
       "<!-- b0 -->\n",
       "<g id=\"node1\" class=\"node\">\n",
       "<title>b0</title>\n",
       "<polygon fill=\"none\" stroke=\"black\" points=\"130,-93 130,-116 186,-116 186,-93 130,-93\"/>\n",
       "<text text-anchor=\"start\" x=\"136.5\" y=\"-102\" font-family=\"Times,serif\" font-size=\"10.00\">CModSub</text>\n",
       "</g>\n",
       "<!-- b1 -->\n",
       "<g id=\"node2\" class=\"node\">\n",
       "<title>b1</title>\n",
       "<polygon fill=\"none\" stroke=\"black\" points=\"8,-6 8,-29 68,-29 68,-6 8,-6\"/>\n",
       "<text text-anchor=\"start\" x=\"14\" y=\"-15\" font-family=\"Times,serif\" font-size=\"10.00\">BitwiseNot</text>\n",
       "</g>\n",
       "<!-- b0&#45;&gt;b1 -->\n",
       "<g id=\"edge1\" class=\"edge\">\n",
       "<title>b0-&gt;b1</title>\n",
       "<path fill=\"none\" stroke=\"black\" d=\"M133.72,-86.8C115.5,-73.9 90.38,-56.1 70.44,-41.98\"/>\n",
       "<polygon fill=\"black\" stroke=\"black\" points=\"72.43,-39.1 62.25,-36.18 68.38,-44.81 72.43,-39.1\"/>\n",
       "<text text-anchor=\"middle\" x=\"109.5\" y=\"-57.8\" font-family=\"Times,serif\" font-size=\"14.00\">2</text>\n",
       "</g>\n",
       "<!-- b2 -->\n",
       "<g id=\"node3\" class=\"node\">\n",
       "<title>b2</title>\n",
       "<polygon fill=\"none\" stroke=\"black\" points=\"102,-6 102,-29 140,-29 140,-6 102,-6\"/>\n",
       "<text text-anchor=\"start\" x=\"108\" y=\"-15\" font-family=\"Times,serif\" font-size=\"10.00\">AddK</text>\n",
       "</g>\n",
       "<!-- b0&#45;&gt;b2 -->\n",
       "<g id=\"edge2\" class=\"edge\">\n",
       "<title>b0-&gt;b2</title>\n",
       "<path fill=\"none\" stroke=\"black\" d=\"M150.51,-86.8C145.35,-74.93 138.38,-58.93 132.51,-45.45\"/>\n",
       "<polygon fill=\"black\" stroke=\"black\" points=\"135.68,-43.95 128.48,-36.18 129.26,-46.74 135.68,-43.95\"/>\n",
       "<text text-anchor=\"middle\" x=\"145.5\" y=\"-57.8\" font-family=\"Times,serif\" font-size=\"14.00\">1</text>\n",
       "</g>\n",
       "<!-- b3 -->\n",
       "<g id=\"node4\" class=\"node\">\n",
       "<title>b3</title>\n",
       "<polygon fill=\"none\" stroke=\"black\" points=\"174,-6 174,-29 218,-29 218,-6 174,-6\"/>\n",
       "<text text-anchor=\"start\" x=\"180.5\" y=\"-15\" font-family=\"Times,serif\" font-size=\"10.00\">AddK†</text>\n",
       "</g>\n",
       "<!-- b0&#45;&gt;b3 -->\n",
       "<g id=\"edge3\" class=\"edge\">\n",
       "<title>b0-&gt;b3</title>\n",
       "<path fill=\"none\" stroke=\"black\" d=\"M165.69,-86.8C171,-74.93 178.15,-58.93 184.18,-45.45\"/>\n",
       "<polygon fill=\"black\" stroke=\"black\" points=\"187.44,-46.73 188.32,-36.18 181.04,-43.88 187.44,-46.73\"/>\n",
       "<text text-anchor=\"middle\" x=\"183.5\" y=\"-57.8\" font-family=\"Times,serif\" font-size=\"14.00\">1</text>\n",
       "</g>\n",
       "<!-- b4 -->\n",
       "<g id=\"node5\" class=\"node\">\n",
       "<title>b4</title>\n",
       "<polygon fill=\"none\" stroke=\"black\" points=\"252,-6 252,-29 310,-29 310,-6 252,-6\"/>\n",
       "<text text-anchor=\"start\" x=\"258.5\" y=\"-15\" font-family=\"Times,serif\" font-size=\"10.00\">CModAdd</text>\n",
       "</g>\n",
       "<!-- b0&#45;&gt;b4 -->\n",
       "<g id=\"edge4\" class=\"edge\">\n",
       "<title>b0-&gt;b4</title>\n",
       "<path fill=\"none\" stroke=\"black\" d=\"M182.89,-86.8C201.56,-73.9 227.31,-56.1 247.75,-41.98\"/>\n",
       "<polygon fill=\"black\" stroke=\"black\" points=\"249.91,-44.74 256.15,-36.18 245.93,-38.98 249.91,-44.74\"/>\n",
       "<text text-anchor=\"middle\" x=\"229.5\" y=\"-57.8\" font-family=\"Times,serif\" font-size=\"14.00\">1</text>\n",
       "</g>\n",
       "</g>\n",
       "</svg>"
      ],
      "text/plain": [
       "<IPython.core.display.SVG object>"
      ]
     },
     "metadata": {},
     "output_type": "display_data"
    },
    {
     "data": {
      "text/markdown": [
       "#### Counts totals:\n",
       " - `AddK`: 1\n",
       " - `AddK†`: 1\n",
       " - `BitwiseNot`: 2\n",
       " - `CModAdd`: 1"
      ],
      "text/plain": [
       "<IPython.core.display.Markdown object>"
      ]
     },
     "metadata": {},
     "output_type": "display_data"
    }
   ],
   "source": [
    "from qualtran.resource_counting.generalizers import ignore_split_join\n",
    "cmodsub_symb_g, cmodsub_symb_sigma = cmodsub_symb.call_graph(max_depth=1, generalizer=ignore_split_join)\n",
    "show_call_graph(cmodsub_symb_g)\n",
    "show_counts_sigma(cmodsub_symb_sigma)"
   ]
  }
 ],
 "metadata": {
  "kernelspec": {
   "display_name": "Python 3",
   "language": "python",
   "name": "python3"
  },
  "language_info": {
   "codemirror_mode": {
    "name": "ipython",
    "version": 3
   },
   "file_extension": ".py",
   "mimetype": "text/x-python",
   "name": "python",
   "nbconvert_exporter": "python",
   "pygments_lexer": "ipython3",
   "version": "3.11.8"
  },
  "widgets": {
   "application/vnd.jupyter.widget-state+json": {
    "state": {
     "1873170593b84ce289c4b412d227b4f9": {
      "model_module": "@jupyter-widgets/output",
      "model_module_version": "1.0.0",
      "model_name": "OutputModel",
      "state": {
       "_dom_classes": [],
       "_model_module": "@jupyter-widgets/output",
       "_model_module_version": "1.0.0",
       "_model_name": "OutputModel",
       "_view_count": null,
       "_view_module": "@jupyter-widgets/output",
       "_view_module_version": "1.0.0",
       "_view_name": "OutputView",
       "layout": "IPY_MODEL_2915152fc5e54deb8e18d772060b0bdf",
       "msg_id": "",
       "outputs": [
        {
         "data": {
          "text/markdown": "`cmodsub_symb`",
          "text/plain": "<IPython.core.display.Markdown object>"
         },
         "metadata": {},
         "output_type": "display_data"
        },
        {
         "data": {
          "image/svg+xml": "<svg xmlns=\"http://www.w3.org/2000/svg\" xmlns:xlink=\"http://www.w3.org/1999/xlink\" width=\"239pt\" height=\"152pt\" viewBox=\"0.00 0.00 239.00 152.00\">\n<g id=\"graph0\" class=\"graph\" transform=\"scale(1 1) rotate(0) translate(4 148)\">\n<title>my_graph</title>\n<polygon fill=\"white\" stroke=\"transparent\" points=\"-4,4 -4,-148 235,-148 235,4 -4,4\"/>\n<!-- ctrl_G8 -->\n<g id=\"node1\" class=\"node\">\n<title>ctrl_G8</title>\n<text text-anchor=\"middle\" x=\"27\" y=\"-122.3\" font-family=\"Times,serif\" font-size=\"14.00\">ctrl</text>\n</g>\n<!-- CModSub -->\n<g id=\"node4\" class=\"node\">\n<title>CModSub</title>\n<polygon fill=\"none\" stroke=\"black\" points=\"91.5,-104 91.5,-121 140.5,-121 140.5,-104 91.5,-104\"/>\n<text text-anchor=\"start\" x=\"94.5\" y=\"-110\" font-family=\"Times,serif\" font-size=\"10.00\">CModSub</text>\n<polygon fill=\"none\" stroke=\"black\" points=\"91.5,-83 91.5,-104 140.5,-104 140.5,-83 91.5,-83\"/>\n<text text-anchor=\"start\" x=\"106.5\" y=\"-89.8\" font-family=\"Times,serif\" font-size=\"14.00\">ctrl</text>\n<polygon fill=\"none\" stroke=\"black\" points=\"91.5,-62 91.5,-83 140.5,-83 140.5,-62 91.5,-62\"/>\n<text text-anchor=\"start\" x=\"112.5\" y=\"-68.8\" font-family=\"Times,serif\" font-size=\"14.00\">x</text>\n<polygon fill=\"none\" stroke=\"black\" points=\"91.5,-41 91.5,-62 140.5,-62 140.5,-41 91.5,-41\"/>\n<text text-anchor=\"start\" x=\"112.5\" y=\"-47.8\" font-family=\"Times,serif\" font-size=\"14.00\">y</text>\n</g>\n<!-- ctrl_G8&#45;&gt;CModSub -->\n<g id=\"edge1\" class=\"edge\">\n<title>ctrl_G8:e-&gt;CModSub:w</title>\n<path fill=\"none\" stroke=\"black\" d=\"M54,-126C74.89,-126 69.72,-96.45 88.58,-94.14\"/>\n<ellipse fill=\"black\" stroke=\"black\" cx=\"90\" cy=\"-94.06\" rx=\"1\" ry=\"1\"/>\n<text text-anchor=\"middle\" x=\"72.5\" y=\"-113\" font-family=\"Times,serif\" font-size=\"10.00\">1</text>\n</g>\n<!-- x_G7 -->\n<g id=\"node2\" class=\"node\">\n<title>x_G7</title>\n<text text-anchor=\"middle\" x=\"27\" y=\"-68.3\" font-family=\"Times,serif\" font-size=\"14.00\">x</text>\n</g>\n<!-- x_G7&#45;&gt;CModSub -->\n<g id=\"edge2\" class=\"edge\">\n<title>x_G7:e-&gt;CModSub:w</title>\n<path fill=\"none\" stroke=\"black\" d=\"M54,-72C69.67,-72 74.14,-72 88.77,-72\"/>\n<ellipse fill=\"black\" stroke=\"black\" cx=\"90\" cy=\"-72\" rx=\"1\" ry=\"1\"/>\n<text text-anchor=\"middle\" x=\"72.5\" y=\"-75\" font-family=\"Times,serif\" font-size=\"10.00\">n</text>\n</g>\n<!-- y_G3 -->\n<g id=\"node3\" class=\"node\">\n<title>y_G3</title>\n<text text-anchor=\"middle\" x=\"27\" y=\"-14.3\" font-family=\"Times,serif\" font-size=\"14.00\">y</text>\n</g>\n<!-- y_G3&#45;&gt;CModSub -->\n<g id=\"edge3\" class=\"edge\">\n<title>y_G3:e-&gt;CModSub:w</title>\n<path fill=\"none\" stroke=\"black\" d=\"M54,-18C75.17,-18 69.47,-48.47 88.55,-50.85\"/>\n<ellipse fill=\"black\" stroke=\"black\" cx=\"90\" cy=\"-50.94\" rx=\"1\" ry=\"1\"/>\n<text text-anchor=\"middle\" x=\"72.5\" y=\"-39\" font-family=\"Times,serif\" font-size=\"10.00\">n</text>\n</g>\n<!-- ctrl_G2 -->\n<g id=\"node5\" class=\"node\">\n<title>ctrl_G2</title>\n<text text-anchor=\"middle\" x=\"204\" y=\"-122.3\" font-family=\"Times,serif\" font-size=\"14.00\">ctrl</text>\n</g>\n<!-- CModSub&#45;&gt;ctrl_G2 -->\n<g id=\"edge4\" class=\"edge\">\n<title>CModSub:e-&gt;ctrl_G2:w</title>\n<path fill=\"none\" stroke=\"black\" d=\"M140,-94C160.89,-94 155.72,-123.55 174.58,-125.86\"/>\n<ellipse fill=\"black\" stroke=\"black\" cx=\"176\" cy=\"-125.94\" rx=\"1\" ry=\"1\"/>\n<text text-anchor=\"middle\" x=\"158.5\" y=\"-113\" font-family=\"Times,serif\" font-size=\"10.00\">1</text>\n</g>\n<!-- x_G4 -->\n<g id=\"node6\" class=\"node\">\n<title>x_G4</title>\n<text text-anchor=\"middle\" x=\"204\" y=\"-68.3\" font-family=\"Times,serif\" font-size=\"14.00\">x</text>\n</g>\n<!-- CModSub&#45;&gt;x_G4 -->\n<g id=\"edge5\" class=\"edge\">\n<title>CModSub:e-&gt;x_G4:w</title>\n<path fill=\"none\" stroke=\"black\" d=\"M140,-72C155.67,-72 160.14,-72 174.77,-72\"/>\n<ellipse fill=\"black\" stroke=\"black\" cx=\"176\" cy=\"-72\" rx=\"1\" ry=\"1\"/>\n<text text-anchor=\"middle\" x=\"158.5\" y=\"-75\" font-family=\"Times,serif\" font-size=\"10.00\">n</text>\n</g>\n<!-- y_G0 -->\n<g id=\"node7\" class=\"node\">\n<title>y_G0</title>\n<text text-anchor=\"middle\" x=\"204\" y=\"-14.3\" font-family=\"Times,serif\" font-size=\"14.00\">y</text>\n</g>\n<!-- CModSub&#45;&gt;y_G0 -->\n<g id=\"edge6\" class=\"edge\">\n<title>CModSub:e-&gt;y_G0:w</title>\n<path fill=\"none\" stroke=\"black\" d=\"M140,-51C161.17,-51 155.47,-20.53 174.55,-18.15\"/>\n<ellipse fill=\"black\" stroke=\"black\" cx=\"176\" cy=\"-18.06\" rx=\"1\" ry=\"1\"/>\n<text text-anchor=\"middle\" x=\"158.5\" y=\"-39\" font-family=\"Times,serif\" font-size=\"10.00\">n</text>\n</g>\n</g>\n</svg>",
          "text/plain": "<IPython.core.display.SVG object>"
         },
         "metadata": {},
         "output_type": "display_data"
        }
       ],
       "tabbable": null,
       "tooltip": null
      }
     },
     "2915152fc5e54deb8e18d772060b0bdf": {
      "model_module": "@jupyter-widgets/base",
      "model_module_version": "2.0.0",
      "model_name": "LayoutModel",
      "state": {
       "_model_module": "@jupyter-widgets/base",
       "_model_module_version": "2.0.0",
       "_model_name": "LayoutModel",
       "_view_count": null,
       "_view_module": "@jupyter-widgets/base",
       "_view_module_version": "2.0.0",
       "_view_name": "LayoutView",
       "align_content": null,
       "align_items": null,
       "align_self": null,
       "border_bottom": null,
       "border_left": null,
       "border_right": null,
       "border_top": null,
       "bottom": null,
       "display": null,
       "flex": null,
       "flex_flow": null,
       "grid_area": null,
       "grid_auto_columns": null,
       "grid_auto_flow": null,
       "grid_auto_rows": null,
       "grid_column": null,
       "grid_gap": null,
       "grid_row": null,
       "grid_template_areas": null,
       "grid_template_columns": null,
       "grid_template_rows": null,
       "height": null,
       "justify_content": null,
       "justify_items": null,
       "left": null,
       "margin": null,
       "max_height": null,
       "max_width": null,
       "min_height": null,
       "min_width": null,
       "object_fit": null,
       "object_position": null,
       "order": null,
       "overflow": null,
       "padding": null,
       "right": null,
       "top": null,
       "visibility": null,
       "width": null
      }
     },
     "2f7228706a0941f7984db7a51630a88e": {
      "model_module": "@jupyter-widgets/base",
      "model_module_version": "2.0.0",
      "model_name": "LayoutModel",
      "state": {
       "_model_module": "@jupyter-widgets/base",
       "_model_module_version": "2.0.0",
       "_model_name": "LayoutModel",
       "_view_count": null,
       "_view_module": "@jupyter-widgets/base",
       "_view_module_version": "2.0.0",
       "_view_name": "LayoutView",
       "align_content": null,
       "align_items": null,
       "align_self": null,
       "border_bottom": null,
       "border_left": null,
       "border_right": null,
       "border_top": null,
       "bottom": null,
       "display": null,
       "flex": null,
       "flex_flow": null,
       "grid_area": null,
       "grid_auto_columns": null,
       "grid_auto_flow": null,
       "grid_auto_rows": null,
       "grid_column": null,
       "grid_gap": null,
       "grid_row": null,
       "grid_template_areas": null,
       "grid_template_columns": null,
       "grid_template_rows": null,
       "height": null,
       "justify_content": null,
       "justify_items": null,
       "left": null,
       "margin": null,
       "max_height": null,
       "max_width": null,
       "min_height": null,
       "min_width": null,
       "object_fit": null,
       "object_position": null,
       "order": null,
       "overflow": null,
       "padding": null,
       "right": null,
       "top": null,
       "visibility": null,
       "width": null
      }
     },
     "3cf4431de49248739b0c7674b72c70b6": {
      "model_module": "@jupyter-widgets/controls",
      "model_module_version": "2.0.0",
      "model_name": "HBoxModel",
      "state": {
       "_dom_classes": [],
       "_model_module": "@jupyter-widgets/controls",
       "_model_module_version": "2.0.0",
       "_model_name": "HBoxModel",
       "_view_count": null,
       "_view_module": "@jupyter-widgets/controls",
       "_view_module_version": "2.0.0",
       "_view_name": "HBoxView",
       "box_style": "",
       "children": [
        "IPY_MODEL_1873170593b84ce289c4b412d227b4f9"
       ],
       "layout": "IPY_MODEL_6914a0848369433aa4fa1d06db9ae174",
       "tabbable": null,
       "tooltip": null
      }
     },
     "543557afc7804141b1bc316e9c8abcfb": {
      "model_module": "@jupyter-widgets/base",
      "model_module_version": "2.0.0",
      "model_name": "LayoutModel",
      "state": {
       "_model_module": "@jupyter-widgets/base",
       "_model_module_version": "2.0.0",
       "_model_name": "LayoutModel",
       "_view_count": null,
       "_view_module": "@jupyter-widgets/base",
       "_view_module_version": "2.0.0",
       "_view_name": "LayoutView",
       "align_content": null,
       "align_items": null,
       "align_self": null,
       "border_bottom": null,
       "border_left": null,
       "border_right": null,
       "border_top": null,
       "bottom": null,
       "display": null,
       "flex": null,
       "flex_flow": null,
       "grid_area": null,
       "grid_auto_columns": null,
       "grid_auto_flow": null,
       "grid_auto_rows": null,
       "grid_column": null,
       "grid_gap": null,
       "grid_row": null,
       "grid_template_areas": null,
       "grid_template_columns": null,
       "grid_template_rows": null,
       "height": null,
       "justify_content": null,
       "justify_items": null,
       "left": null,
       "margin": null,
       "max_height": null,
       "max_width": null,
       "min_height": null,
       "min_width": null,
       "object_fit": null,
       "object_position": null,
       "order": null,
       "overflow": null,
       "padding": null,
       "right": null,
       "top": null,
       "visibility": null,
       "width": null
      }
     },
     "56f5cef0e9644090ae07eb9910d8fcff": {
      "model_module": "@jupyter-widgets/controls",
      "model_module_version": "2.0.0",
      "model_name": "HBoxModel",
      "state": {
       "_dom_classes": [],
       "_model_module": "@jupyter-widgets/controls",
       "_model_module_version": "2.0.0",
       "_model_name": "HBoxModel",
       "_view_count": null,
       "_view_module": "@jupyter-widgets/controls",
       "_view_module_version": "2.0.0",
       "_view_name": "HBoxView",
       "box_style": "",
       "children": [
        "IPY_MODEL_ca108f3c52cf4dc59a253fd38a2cf4da"
       ],
       "layout": "IPY_MODEL_d75e9b7db3614d98ae7b1326f70fc295",
       "tabbable": null,
       "tooltip": null
      }
     },
     "5d6871087d6d455bb942d2a35f18b562": {
      "model_module": "@jupyter-widgets/output",
      "model_module_version": "1.0.0",
      "model_name": "OutputModel",
      "state": {
       "_dom_classes": [],
       "_model_module": "@jupyter-widgets/output",
       "_model_module_version": "1.0.0",
       "_model_name": "OutputModel",
       "_view_count": null,
       "_view_module": "@jupyter-widgets/output",
       "_view_module_version": "1.0.0",
       "_view_name": "OutputView",
       "layout": "IPY_MODEL_966e73db6fe84d888bf8f872cb626ab1",
       "msg_id": "",
       "outputs": [
        {
         "data": {
          "text/markdown": "`modsub_symb`",
          "text/plain": "<IPython.core.display.Markdown object>"
         },
         "metadata": {},
         "output_type": "display_data"
        },
        {
         "data": {
          "image/svg+xml": "<svg xmlns=\"http://www.w3.org/2000/svg\" xmlns:xlink=\"http://www.w3.org/1999/xlink\" width=\"232pt\" height=\"98pt\" viewBox=\"0.00 0.00 232.00 98.00\">\n<g id=\"graph0\" class=\"graph\" transform=\"scale(1 1) rotate(0) translate(4 94)\">\n<title>my_graph</title>\n<polygon fill=\"white\" stroke=\"transparent\" points=\"-4,4 -4,-94 228,-94 228,4 -4,4\"/>\n<!-- x_G1 -->\n<g id=\"node1\" class=\"node\">\n<title>x_G1</title>\n<text text-anchor=\"middle\" x=\"27\" y=\"-68.3\" font-family=\"Times,serif\" font-size=\"14.00\">x</text>\n</g>\n<!-- ModSub -->\n<g id=\"node3\" class=\"node\">\n<title>ModSub</title>\n<polygon fill=\"none\" stroke=\"black\" points=\"91,-66 91,-83 133,-83 133,-66 91,-66\"/>\n<text text-anchor=\"start\" x=\"94\" y=\"-72\" font-family=\"Times,serif\" font-size=\"10.00\">ModSub</text>\n<polygon fill=\"none\" stroke=\"black\" points=\"91,-45 91,-66 133,-66 133,-45 91,-45\"/>\n<text text-anchor=\"start\" x=\"108.5\" y=\"-51.8\" font-family=\"Times,serif\" font-size=\"14.00\">x</text>\n<polygon fill=\"none\" stroke=\"black\" points=\"91,-24 91,-45 133,-45 133,-24 91,-24\"/>\n<text text-anchor=\"start\" x=\"108.5\" y=\"-30.8\" font-family=\"Times,serif\" font-size=\"14.00\">y</text>\n</g>\n<!-- x_G1&#45;&gt;ModSub -->\n<g id=\"edge1\" class=\"edge\">\n<title>x_G1:e-&gt;ModSub:w</title>\n<path fill=\"none\" stroke=\"black\" d=\"M54,-72C71.22,-72 72.97,-57.23 88.98,-56.07\"/>\n<ellipse fill=\"black\" stroke=\"black\" cx=\"90\" cy=\"-56.04\" rx=\"1\" ry=\"1\"/>\n<text text-anchor=\"middle\" x=\"72.5\" y=\"-67\" font-family=\"Times,serif\" font-size=\"10.00\">n</text>\n</g>\n<!-- y_G4 -->\n<g id=\"node2\" class=\"node\">\n<title>y_G4</title>\n<text text-anchor=\"middle\" x=\"27\" y=\"-14.3\" font-family=\"Times,serif\" font-size=\"14.00\">y</text>\n</g>\n<!-- y_G4&#45;&gt;ModSub -->\n<g id=\"edge2\" class=\"edge\">\n<title>y_G4:e-&gt;ModSub:w</title>\n<path fill=\"none\" stroke=\"black\" d=\"M54,-18C71.22,-18 72.97,-32.77 88.98,-33.93\"/>\n<ellipse fill=\"black\" stroke=\"black\" cx=\"90\" cy=\"-33.96\" rx=\"1\" ry=\"1\"/>\n<text text-anchor=\"middle\" x=\"72.5\" y=\"-29\" font-family=\"Times,serif\" font-size=\"10.00\">n</text>\n</g>\n<!-- x_G5 -->\n<g id=\"node4\" class=\"node\">\n<title>x_G5</title>\n<text text-anchor=\"middle\" x=\"197\" y=\"-68.3\" font-family=\"Times,serif\" font-size=\"14.00\">x</text>\n</g>\n<!-- ModSub&#45;&gt;x_G5 -->\n<g id=\"edge3\" class=\"edge\">\n<title>ModSub:e-&gt;x_G5:w</title>\n<path fill=\"none\" stroke=\"black\" d=\"M133,-56C150.22,-56 151.97,-70.77 167.98,-71.93\"/>\n<ellipse fill=\"black\" stroke=\"black\" cx=\"169\" cy=\"-71.96\" rx=\"1\" ry=\"1\"/>\n<text text-anchor=\"middle\" x=\"151.5\" y=\"-67\" font-family=\"Times,serif\" font-size=\"10.00\">n</text>\n</g>\n<!-- y_G0 -->\n<g id=\"node5\" class=\"node\">\n<title>y_G0</title>\n<text text-anchor=\"middle\" x=\"197\" y=\"-14.3\" font-family=\"Times,serif\" font-size=\"14.00\">y</text>\n</g>\n<!-- ModSub&#45;&gt;y_G0 -->\n<g id=\"edge4\" class=\"edge\">\n<title>ModSub:e-&gt;y_G0:w</title>\n<path fill=\"none\" stroke=\"black\" d=\"M133,-34C150.22,-34 151.97,-19.23 167.98,-18.07\"/>\n<ellipse fill=\"black\" stroke=\"black\" cx=\"169\" cy=\"-18.04\" rx=\"1\" ry=\"1\"/>\n<text text-anchor=\"middle\" x=\"151.5\" y=\"-29\" font-family=\"Times,serif\" font-size=\"10.00\">n</text>\n</g>\n</g>\n</svg>",
          "text/plain": "<IPython.core.display.SVG object>"
         },
         "metadata": {},
         "output_type": "display_data"
        }
       ],
       "tabbable": null,
       "tooltip": null
      }
     },
     "6914a0848369433aa4fa1d06db9ae174": {
      "model_module": "@jupyter-widgets/base",
      "model_module_version": "2.0.0",
      "model_name": "LayoutModel",
      "state": {
       "_model_module": "@jupyter-widgets/base",
       "_model_module_version": "2.0.0",
       "_model_name": "LayoutModel",
       "_view_count": null,
       "_view_module": "@jupyter-widgets/base",
       "_view_module_version": "2.0.0",
       "_view_name": "LayoutView",
       "align_content": null,
       "align_items": null,
       "align_self": null,
       "border_bottom": null,
       "border_left": null,
       "border_right": null,
       "border_top": null,
       "bottom": null,
       "display": null,
       "flex": null,
       "flex_flow": null,
       "grid_area": null,
       "grid_auto_columns": null,
       "grid_auto_flow": null,
       "grid_auto_rows": null,
       "grid_column": null,
       "grid_gap": null,
       "grid_row": null,
       "grid_template_areas": null,
       "grid_template_columns": null,
       "grid_template_rows": null,
       "height": null,
       "justify_content": null,
       "justify_items": null,
       "left": null,
       "margin": null,
       "max_height": null,
       "max_width": null,
       "min_height": null,
       "min_width": null,
       "object_fit": null,
       "object_position": null,
       "order": null,
       "overflow": null,
       "padding": null,
       "right": null,
       "top": null,
       "visibility": null,
       "width": null
      }
     },
     "966e73db6fe84d888bf8f872cb626ab1": {
      "model_module": "@jupyter-widgets/base",
      "model_module_version": "2.0.0",
      "model_name": "LayoutModel",
      "state": {
       "_model_module": "@jupyter-widgets/base",
       "_model_module_version": "2.0.0",
       "_model_name": "LayoutModel",
       "_view_count": null,
       "_view_module": "@jupyter-widgets/base",
       "_view_module_version": "2.0.0",
       "_view_name": "LayoutView",
       "align_content": null,
       "align_items": null,
       "align_self": null,
       "border_bottom": null,
       "border_left": null,
       "border_right": null,
       "border_top": null,
       "bottom": null,
       "display": null,
       "flex": null,
       "flex_flow": null,
       "grid_area": null,
       "grid_auto_columns": null,
       "grid_auto_flow": null,
       "grid_auto_rows": null,
       "grid_column": null,
       "grid_gap": null,
       "grid_row": null,
       "grid_template_areas": null,
       "grid_template_columns": null,
       "grid_template_rows": null,
       "height": null,
       "justify_content": null,
       "justify_items": null,
       "left": null,
       "margin": null,
       "max_height": null,
       "max_width": null,
       "min_height": null,
       "min_width": null,
       "object_fit": null,
       "object_position": null,
       "order": null,
       "overflow": null,
       "padding": null,
       "right": null,
       "top": null,
       "visibility": null,
       "width": null
      }
     },
     "978a5945edbc47dbab9146b323355989": {
      "model_module": "@jupyter-widgets/output",
      "model_module_version": "1.0.0",
      "model_name": "OutputModel",
      "state": {
       "_dom_classes": [],
       "_model_module": "@jupyter-widgets/output",
       "_model_module_version": "1.0.0",
       "_model_name": "OutputModel",
       "_view_count": null,
       "_view_module": "@jupyter-widgets/output",
       "_view_module_version": "1.0.0",
       "_view_name": "OutputView",
       "layout": "IPY_MODEL_543557afc7804141b1bc316e9c8abcfb",
       "msg_id": "",
       "outputs": [
        {
         "data": {
          "text/markdown": "`cmod_neg`",
          "text/plain": "<IPython.core.display.Markdown object>"
         },
         "metadata": {},
         "output_type": "display_data"
        },
        {
         "data": {
          "image/svg+xml": "<svg xmlns=\"http://www.w3.org/2000/svg\" xmlns:xlink=\"http://www.w3.org/1999/xlink\" width=\"240pt\" height=\"98pt\" viewBox=\"0.00 0.00 240.00 98.00\">\n<g id=\"graph0\" class=\"graph\" transform=\"scale(1 1) rotate(0) translate(4 94)\">\n<title>my_graph</title>\n<polygon fill=\"white\" stroke=\"transparent\" points=\"-4,4 -4,-94 236,-94 236,4 -4,4\"/>\n<!-- ctrl_G5 -->\n<g id=\"node1\" class=\"node\">\n<title>ctrl_G5</title>\n<text text-anchor=\"middle\" x=\"27\" y=\"-68.3\" font-family=\"Times,serif\" font-size=\"14.00\">ctrl</text>\n</g>\n<!-- CModNeg -->\n<g id=\"node3\" class=\"node\">\n<title>CModNeg</title>\n<polygon fill=\"none\" stroke=\"black\" points=\"91,-66 91,-83 141,-83 141,-66 91,-66\"/>\n<text text-anchor=\"start\" x=\"94\" y=\"-72\" font-family=\"Times,serif\" font-size=\"10.00\">CModNeg</text>\n<polygon fill=\"none\" stroke=\"black\" points=\"91,-45 91,-66 141,-66 141,-45 91,-45\"/>\n<text text-anchor=\"start\" x=\"106.5\" y=\"-51.8\" font-family=\"Times,serif\" font-size=\"14.00\">ctrl</text>\n<polygon fill=\"none\" stroke=\"black\" points=\"91,-24 91,-45 141,-45 141,-24 91,-24\"/>\n<text text-anchor=\"start\" x=\"112.5\" y=\"-30.8\" font-family=\"Times,serif\" font-size=\"14.00\">x</text>\n</g>\n<!-- ctrl_G5&#45;&gt;CModNeg -->\n<g id=\"edge1\" class=\"edge\">\n<title>ctrl_G5:e-&gt;CModNeg:w</title>\n<path fill=\"none\" stroke=\"black\" d=\"M54,-72C71.22,-72 72.97,-57.23 88.98,-56.07\"/>\n<ellipse fill=\"black\" stroke=\"black\" cx=\"90\" cy=\"-56.04\" rx=\"1\" ry=\"1\"/>\n<text text-anchor=\"middle\" x=\"72.5\" y=\"-67\" font-family=\"Times,serif\" font-size=\"10.00\">1</text>\n</g>\n<!-- x_G2 -->\n<g id=\"node2\" class=\"node\">\n<title>x_G2</title>\n<text text-anchor=\"middle\" x=\"27\" y=\"-14.3\" font-family=\"Times,serif\" font-size=\"14.00\">x</text>\n</g>\n<!-- x_G2&#45;&gt;CModNeg -->\n<g id=\"edge2\" class=\"edge\">\n<title>x_G2:e-&gt;CModNeg:w</title>\n<path fill=\"none\" stroke=\"black\" d=\"M54,-18C71.22,-18 72.97,-32.77 88.98,-33.93\"/>\n<ellipse fill=\"black\" stroke=\"black\" cx=\"90\" cy=\"-33.96\" rx=\"1\" ry=\"1\"/>\n<text text-anchor=\"middle\" x=\"72.5\" y=\"-29\" font-family=\"Times,serif\" font-size=\"10.00\">32</text>\n</g>\n<!-- ctrl_G1 -->\n<g id=\"node4\" class=\"node\">\n<title>ctrl_G1</title>\n<text text-anchor=\"middle\" x=\"205\" y=\"-68.3\" font-family=\"Times,serif\" font-size=\"14.00\">ctrl</text>\n</g>\n<!-- CModNeg&#45;&gt;ctrl_G1 -->\n<g id=\"edge3\" class=\"edge\">\n<title>CModNeg:e-&gt;ctrl_G1:w</title>\n<path fill=\"none\" stroke=\"black\" d=\"M141,-56C158.22,-56 159.97,-70.77 175.98,-71.93\"/>\n<ellipse fill=\"black\" stroke=\"black\" cx=\"177\" cy=\"-71.96\" rx=\"1\" ry=\"1\"/>\n<text text-anchor=\"middle\" x=\"159.5\" y=\"-67\" font-family=\"Times,serif\" font-size=\"10.00\">1</text>\n</g>\n<!-- x_G0 -->\n<g id=\"node5\" class=\"node\">\n<title>x_G0</title>\n<text text-anchor=\"middle\" x=\"205\" y=\"-14.3\" font-family=\"Times,serif\" font-size=\"14.00\">x</text>\n</g>\n<!-- CModNeg&#45;&gt;x_G0 -->\n<g id=\"edge4\" class=\"edge\">\n<title>CModNeg:e-&gt;x_G0:w</title>\n<path fill=\"none\" stroke=\"black\" d=\"M141,-34C158.22,-34 159.97,-19.23 175.98,-18.07\"/>\n<ellipse fill=\"black\" stroke=\"black\" cx=\"177\" cy=\"-18.04\" rx=\"1\" ry=\"1\"/>\n<text text-anchor=\"middle\" x=\"159.5\" y=\"-29\" font-family=\"Times,serif\" font-size=\"10.00\">32</text>\n</g>\n</g>\n</svg>",
          "text/plain": "<IPython.core.display.SVG object>"
         },
         "metadata": {},
         "output_type": "display_data"
        }
       ],
       "tabbable": null,
       "tooltip": null
      }
     },
     "b95a485963fe4e6fa5767dc2e569ccdd": {
      "model_module": "@jupyter-widgets/base",
      "model_module_version": "2.0.0",
      "model_name": "LayoutModel",
      "state": {
       "_model_module": "@jupyter-widgets/base",
       "_model_module_version": "2.0.0",
       "_model_name": "LayoutModel",
       "_view_count": null,
       "_view_module": "@jupyter-widgets/base",
       "_view_module_version": "2.0.0",
       "_view_name": "LayoutView",
       "align_content": null,
       "align_items": null,
       "align_self": null,
       "border_bottom": null,
       "border_left": null,
       "border_right": null,
       "border_top": null,
       "bottom": null,
       "display": null,
       "flex": null,
       "flex_flow": null,
       "grid_area": null,
       "grid_auto_columns": null,
       "grid_auto_flow": null,
       "grid_auto_rows": null,
       "grid_column": null,
       "grid_gap": null,
       "grid_row": null,
       "grid_template_areas": null,
       "grid_template_columns": null,
       "grid_template_rows": null,
       "height": null,
       "justify_content": null,
       "justify_items": null,
       "left": null,
       "margin": null,
       "max_height": null,
       "max_width": null,
       "min_height": null,
       "min_width": null,
       "object_fit": null,
       "object_position": null,
       "order": null,
       "overflow": null,
       "padding": null,
       "right": null,
       "top": null,
       "visibility": null,
       "width": null
      }
     },
     "ca108f3c52cf4dc59a253fd38a2cf4da": {
      "model_module": "@jupyter-widgets/output",
      "model_module_version": "1.0.0",
      "model_name": "OutputModel",
      "state": {
       "_dom_classes": [],
       "_model_module": "@jupyter-widgets/output",
       "_model_module_version": "1.0.0",
       "_model_name": "OutputModel",
       "_view_count": null,
       "_view_module": "@jupyter-widgets/output",
       "_view_module_version": "1.0.0",
       "_view_name": "OutputView",
       "layout": "IPY_MODEL_fd06c0e6ebe240cca1f7591ba2899650",
       "msg_id": "",
       "outputs": [
        {
         "data": {
          "text/markdown": "`mod_neg`",
          "text/plain": "<IPython.core.display.Markdown object>"
         },
         "metadata": {},
         "output_type": "display_data"
        },
        {
         "data": {
          "image/svg+xml": "<svg xmlns=\"http://www.w3.org/2000/svg\" xmlns:xlink=\"http://www.w3.org/1999/xlink\" width=\"233pt\" height=\"54pt\" viewBox=\"0.00 0.00 233.00 54.00\">\n<g id=\"graph0\" class=\"graph\" transform=\"scale(1 1) rotate(0) translate(4 50)\">\n<title>my_graph</title>\n<polygon fill=\"white\" stroke=\"transparent\" points=\"-4,4 -4,-50 229,-50 229,4 -4,4\"/>\n<!-- x_G1 -->\n<g id=\"node1\" class=\"node\">\n<title>x_G1</title>\n<text text-anchor=\"middle\" x=\"27\" y=\"-14.3\" font-family=\"Times,serif\" font-size=\"14.00\">x</text>\n</g>\n<!-- ModNeg -->\n<g id=\"node2\" class=\"node\">\n<title>ModNeg</title>\n<polygon fill=\"none\" stroke=\"black\" points=\"91.5,-29 91.5,-46 134.5,-46 134.5,-29 91.5,-29\"/>\n<text text-anchor=\"start\" x=\"94.5\" y=\"-35\" font-family=\"Times,serif\" font-size=\"10.00\">ModNeg</text>\n<polygon fill=\"none\" stroke=\"black\" points=\"91.5,-8 91.5,-29 134.5,-29 134.5,-8 91.5,-8\"/>\n<text text-anchor=\"start\" x=\"109.5\" y=\"-14.8\" font-family=\"Times,serif\" font-size=\"14.00\">x</text>\n</g>\n<!-- x_G1&#45;&gt;ModNeg -->\n<g id=\"edge1\" class=\"edge\">\n<title>x_G1:e-&gt;ModNeg:w</title>\n<path fill=\"none\" stroke=\"black\" d=\"M54,-18C69.67,-18 74.14,-18 88.77,-18\"/>\n<ellipse fill=\"black\" stroke=\"black\" cx=\"90\" cy=\"-18\" rx=\"1\" ry=\"1\"/>\n<text text-anchor=\"middle\" x=\"72.5\" y=\"-21\" font-family=\"Times,serif\" font-size=\"10.00\">32</text>\n</g>\n<!-- x_G2 -->\n<g id=\"node3\" class=\"node\">\n<title>x_G2</title>\n<text text-anchor=\"middle\" x=\"198\" y=\"-14.3\" font-family=\"Times,serif\" font-size=\"14.00\">x</text>\n</g>\n<!-- ModNeg&#45;&gt;x_G2 -->\n<g id=\"edge2\" class=\"edge\">\n<title>ModNeg:e-&gt;x_G2:w</title>\n<path fill=\"none\" stroke=\"black\" d=\"M134,-18C149.67,-18 154.14,-18 168.77,-18\"/>\n<ellipse fill=\"black\" stroke=\"black\" cx=\"170\" cy=\"-18\" rx=\"1\" ry=\"1\"/>\n<text text-anchor=\"middle\" x=\"152.5\" y=\"-21\" font-family=\"Times,serif\" font-size=\"10.00\">32</text>\n</g>\n</g>\n</svg>",
          "text/plain": "<IPython.core.display.SVG object>"
         },
         "metadata": {},
         "output_type": "display_data"
        }
       ],
       "tabbable": null,
       "tooltip": null
      }
     },
     "d1afc9f64df74bf9bc2a4f6bb3feea82": {
      "model_module": "@jupyter-widgets/controls",
      "model_module_version": "2.0.0",
      "model_name": "HBoxModel",
      "state": {
       "_dom_classes": [],
       "_model_module": "@jupyter-widgets/controls",
       "_model_module_version": "2.0.0",
       "_model_name": "HBoxModel",
       "_view_count": null,
       "_view_module": "@jupyter-widgets/controls",
       "_view_module_version": "2.0.0",
       "_view_name": "HBoxView",
       "box_style": "",
       "children": [
        "IPY_MODEL_978a5945edbc47dbab9146b323355989"
       ],
       "layout": "IPY_MODEL_b95a485963fe4e6fa5767dc2e569ccdd",
       "tabbable": null,
       "tooltip": null
      }
     },
     "d75e9b7db3614d98ae7b1326f70fc295": {
      "model_module": "@jupyter-widgets/base",
      "model_module_version": "2.0.0",
      "model_name": "LayoutModel",
      "state": {
       "_model_module": "@jupyter-widgets/base",
       "_model_module_version": "2.0.0",
       "_model_name": "LayoutModel",
       "_view_count": null,
       "_view_module": "@jupyter-widgets/base",
       "_view_module_version": "2.0.0",
       "_view_name": "LayoutView",
       "align_content": null,
       "align_items": null,
       "align_self": null,
       "border_bottom": null,
       "border_left": null,
       "border_right": null,
       "border_top": null,
       "bottom": null,
       "display": null,
       "flex": null,
       "flex_flow": null,
       "grid_area": null,
       "grid_auto_columns": null,
       "grid_auto_flow": null,
       "grid_auto_rows": null,
       "grid_column": null,
       "grid_gap": null,
       "grid_row": null,
       "grid_template_areas": null,
       "grid_template_columns": null,
       "grid_template_rows": null,
       "height": null,
       "justify_content": null,
       "justify_items": null,
       "left": null,
       "margin": null,
       "max_height": null,
       "max_width": null,
       "min_height": null,
       "min_width": null,
       "object_fit": null,
       "object_position": null,
       "order": null,
       "overflow": null,
       "padding": null,
       "right": null,
       "top": null,
       "visibility": null,
       "width": null
      }
     },
     "f035f4276fba4a7fae068b01238146f1": {
      "model_module": "@jupyter-widgets/controls",
      "model_module_version": "2.0.0",
      "model_name": "HBoxModel",
      "state": {
       "_dom_classes": [],
       "_model_module": "@jupyter-widgets/controls",
       "_model_module_version": "2.0.0",
       "_model_name": "HBoxModel",
       "_view_count": null,
       "_view_module": "@jupyter-widgets/controls",
       "_view_module_version": "2.0.0",
       "_view_name": "HBoxView",
       "box_style": "",
       "children": [
        "IPY_MODEL_5d6871087d6d455bb942d2a35f18b562"
       ],
       "layout": "IPY_MODEL_2f7228706a0941f7984db7a51630a88e",
       "tabbable": null,
       "tooltip": null
      }
     },
     "fd06c0e6ebe240cca1f7591ba2899650": {
      "model_module": "@jupyter-widgets/base",
      "model_module_version": "2.0.0",
      "model_name": "LayoutModel",
      "state": {
       "_model_module": "@jupyter-widgets/base",
       "_model_module_version": "2.0.0",
       "_model_name": "LayoutModel",
       "_view_count": null,
       "_view_module": "@jupyter-widgets/base",
       "_view_module_version": "2.0.0",
       "_view_name": "LayoutView",
       "align_content": null,
       "align_items": null,
       "align_self": null,
       "border_bottom": null,
       "border_left": null,
       "border_right": null,
       "border_top": null,
       "bottom": null,
       "display": null,
       "flex": null,
       "flex_flow": null,
       "grid_area": null,
       "grid_auto_columns": null,
       "grid_auto_flow": null,
       "grid_auto_rows": null,
       "grid_column": null,
       "grid_gap": null,
       "grid_row": null,
       "grid_template_areas": null,
       "grid_template_columns": null,
       "grid_template_rows": null,
       "height": null,
       "justify_content": null,
       "justify_items": null,
       "left": null,
       "margin": null,
       "max_height": null,
       "max_width": null,
       "min_height": null,
       "min_width": null,
       "object_fit": null,
       "object_position": null,
       "order": null,
       "overflow": null,
       "padding": null,
       "right": null,
       "top": null,
       "visibility": null,
       "width": null
      }
     }
    },
    "version_major": 2,
    "version_minor": 0
   }
  }
 },
 "nbformat": 4,
 "nbformat_minor": 5
}
