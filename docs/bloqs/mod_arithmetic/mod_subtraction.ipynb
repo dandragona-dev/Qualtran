{
 "cells": [
  {
   "cell_type": "markdown",
   "id": "20aaa8c7",
   "metadata": {
    "cq.autogen": "title_cell"
   },
   "source": [
    "# Modular Subtraction"
   ]
  },
  {
   "cell_type": "code",
   "execution_count": 1,
   "id": "968c2b06",
   "metadata": {
    "cq.autogen": "top_imports"
   },
   "outputs": [],
   "source": [
    "from qualtran import Bloq, CompositeBloq, BloqBuilder, Signature, Register\n",
    "from qualtran import QBit, QInt, QUInt, QAny\n",
    "from qualtran.drawing import show_bloq, show_call_graph, show_counts_sigma\n",
    "from typing import *\n",
    "import numpy as np\n",
    "import sympy\n",
    "import cirq"
   ]
  },
  {
   "cell_type": "markdown",
   "id": "6ed3d20c",
   "metadata": {
    "cq.autogen": "ModNeg.bloq_doc.md"
   },
   "source": [
    "## `ModNeg`\n",
    "Performs modular negation.\n",
    "\n",
    "Applies the operation $\\ket{x} \\rightarrow \\ket{-x \\% p}$\n",
    "\n",
    "Note: This implements the decomposition from Fig 6 in but doesn't match table 8\n",
    "since we don't use measurement based uncompution because that introduces random phase flips.\n",
    "\n",
    "#### Parameters\n",
    " - `dtype`: Datatype of the register.\n",
    " - `p`: The modulus for the negation. \n",
    "\n",
    "#### Registers\n",
    " - `x`: The register contraining the integer we negate. \n",
    "\n",
    "#### References\n",
    " - [How to compute a 256-bit elliptic curve private key with only 50 million Toffoli gates](https://arxiv.org/abs/2306.08585). Fig 6b\n"
   ]
  },
  {
   "cell_type": "code",
   "execution_count": 2,
   "id": "24d9ba35",
   "metadata": {
    "cq.autogen": "ModNeg.bloq_doc.py"
   },
   "outputs": [],
   "source": [
    "from qualtran.bloqs.mod_arithmetic import ModNeg"
   ]
  },
  {
   "cell_type": "markdown",
   "id": "8d97be2c",
   "metadata": {
    "cq.autogen": "ModNeg.example_instances.md"
   },
   "source": [
    "### Example Instances"
   ]
  },
  {
   "cell_type": "code",
   "execution_count": 3,
   "id": "f1c17cde",
   "metadata": {
    "cq.autogen": "ModNeg.mod_neg"
   },
   "outputs": [],
   "source": [
    "n = 32\n",
    "prime = sympy.Symbol('p')\n",
    "mod_neg = ModNeg(QUInt(n), mod=prime)"
   ]
  },
  {
   "cell_type": "markdown",
   "id": "0801878d",
   "metadata": {
    "cq.autogen": "ModNeg.graphical_signature.md"
   },
   "source": [
    "#### Graphical Signature"
   ]
  },
  {
   "cell_type": "code",
   "execution_count": 4,
   "id": "2dfc00e4",
   "metadata": {
    "cq.autogen": "ModNeg.graphical_signature.py"
   },
   "outputs": [
    {
     "data": {
      "application/vnd.jupyter.widget-view+json": {
       "model_id": "ecc4c882f39a47558a07edca72fcb1e3",
       "version_major": 2,
       "version_minor": 0
      },
      "text/plain": [
       "HBox(children=(Output(outputs=({'output_type': 'display_data', 'data': {'text/plain': '<IPython.core.display.M…"
      ]
     },
     "metadata": {},
     "output_type": "display_data"
    }
   ],
   "source": [
    "from qualtran.drawing import show_bloqs\n",
    "show_bloqs([mod_neg],\n",
    "           ['`mod_neg`'])"
   ]
  },
  {
   "cell_type": "markdown",
   "id": "dfdb9be7",
   "metadata": {
    "cq.autogen": "ModNeg.call_graph.md"
   },
   "source": [
    "### Call Graph"
   ]
  },
  {
   "cell_type": "code",
   "execution_count": 5,
   "id": "0f9ac01b",
   "metadata": {
    "cq.autogen": "ModNeg.call_graph.py"
   },
   "outputs": [
    {
     "data": {
      "image/svg+xml": [
       "<svg xmlns=\"http://www.w3.org/2000/svg\" xmlns:xlink=\"http://www.w3.org/1999/xlink\" width=\"899pt\" height=\"131pt\" viewBox=\"0.00 0.00 898.50 131.00\">\n",
       "<g id=\"graph0\" class=\"graph\" transform=\"scale(1 1) rotate(0) translate(4 127)\">\n",
       "<title>counts</title>\n",
       "<polygon fill=\"white\" stroke=\"transparent\" points=\"-4,4 -4,-127 894.5,-127 894.5,4 -4,4\"/>\n",
       "<!-- b0 -->\n",
       "<g id=\"node1\" class=\"node\">\n",
       "<title>b0</title>\n",
       "<polygon fill=\"none\" stroke=\"black\" points=\"549,-123 382,-123 382,-87 549,-87 549,-123\"/>\n",
       "<text text-anchor=\"start\" x=\"441\" y=\"-106.8\" font-family=\"Times,serif\" font-size=\"14.00\">ModNeg</text>\n",
       "<text text-anchor=\"start\" x=\"390\" y=\"-96\" font-family=\"monospace\" font-size=\"10.00\">dtype=QUInt(bi ..., mod=p</text>\n",
       "</g>\n",
       "<!-- b1 -->\n",
       "<g id=\"node2\" class=\"node\">\n",
       "<title>b1</title>\n",
       "<polygon fill=\"none\" stroke=\"black\" points=\"233,-36 0,-36 0,0 233,0 233,-36\"/>\n",
       "<text text-anchor=\"start\" x=\"96.5\" y=\"-19.8\" font-family=\"Times,serif\" font-size=\"14.00\">C^32X</text>\n",
       "<text text-anchor=\"start\" x=\"8\" y=\"-9\" font-family=\"monospace\" font-size=\"10.00\">cvs=(0, 0, 0 ..., target_gate=cirq.X</text>\n",
       "</g>\n",
       "<!-- b0&#45;&gt;b1 -->\n",
       "<g id=\"edge1\" class=\"edge\">\n",
       "<title>b0-&gt;b1</title>\n",
       "<path fill=\"none\" stroke=\"black\" d=\"M395.29,-86.9C337.79,-72.89 256.41,-53.07 196.41,-38.46\"/>\n",
       "<polygon fill=\"black\" stroke=\"black\" points=\"197.14,-35.04 186.59,-36.07 195.48,-41.84 197.14,-35.04\"/>\n",
       "<text text-anchor=\"middle\" x=\"316\" y=\"-57.8\" font-family=\"Times,serif\" font-size=\"14.00\">1</text>\n",
       "</g>\n",
       "<!-- b2 -->\n",
       "<g id=\"node3\" class=\"node\">\n",
       "<title>b2</title>\n",
       "<polygon fill=\"none\" stroke=\"black\" points=\"388,-36 251,-36 251,0 388,0 388,-36\"/>\n",
       "<text text-anchor=\"start\" x=\"296.5\" y=\"-19.8\" font-family=\"Times,serif\" font-size=\"14.00\">C^32X†</text>\n",
       "<text text-anchor=\"start\" x=\"259\" y=\"-9\" font-family=\"monospace\" font-size=\"10.00\">subbloq=MultiCon ...</text>\n",
       "</g>\n",
       "<!-- b0&#45;&gt;b2 -->\n",
       "<g id=\"edge2\" class=\"edge\">\n",
       "<title>b0-&gt;b2</title>\n",
       "<path fill=\"none\" stroke=\"black\" d=\"M435.95,-86.8C413.39,-73.66 382.13,-55.46 357.67,-41.22\"/>\n",
       "<polygon fill=\"black\" stroke=\"black\" points=\"359.4,-38.18 349,-36.18 355.88,-44.23 359.4,-38.18\"/>\n",
       "<text text-anchor=\"middle\" x=\"405\" y=\"-57.8\" font-family=\"Times,serif\" font-size=\"14.00\">1</text>\n",
       "</g>\n",
       "<!-- b3 -->\n",
       "<g id=\"node4\" class=\"node\">\n",
       "<title>b3</title>\n",
       "<polygon fill=\"none\" stroke=\"black\" points=\"525,-36 406,-36 406,0 525,0 525,-36\"/>\n",
       "<text text-anchor=\"start\" x=\"414\" y=\"-19.8\" font-family=\"Times,serif\" font-size=\"14.00\">MultiTargetCNOT</text>\n",
       "<text text-anchor=\"start\" x=\"435\" y=\"-9\" font-family=\"monospace\" font-size=\"10.00\">bitsize=32</text>\n",
       "</g>\n",
       "<!-- b0&#45;&gt;b3 -->\n",
       "<g id=\"edge3\" class=\"edge\">\n",
       "<title>b0-&gt;b3</title>\n",
       "<path fill=\"none\" stroke=\"black\" d=\"M465.5,-86.8C465.5,-75.16 465.5,-59.55 465.5,-46.24\"/>\n",
       "<polygon fill=\"black\" stroke=\"black\" points=\"469,-46.18 465.5,-36.18 462,-46.18 469,-46.18\"/>\n",
       "<text text-anchor=\"middle\" x=\"469\" y=\"-57.8\" font-family=\"Times,serif\" font-size=\"14.00\">1</text>\n",
       "</g>\n",
       "<!-- b4 -->\n",
       "<g id=\"node5\" class=\"node\">\n",
       "<title>b4</title>\n",
       "<polygon fill=\"none\" stroke=\"black\" points=\"818,-36 543,-36 543,0 818,0 818,-36\"/>\n",
       "<text text-anchor=\"start\" x=\"663.5\" y=\"-19.8\" font-family=\"Times,serif\" font-size=\"14.00\">AddK</text>\n",
       "<text text-anchor=\"start\" x=\"551\" y=\"-9\" font-family=\"monospace\" font-size=\"10.00\">bitsize=32, k=p + 1, cvs=(1,), signed=False</text>\n",
       "</g>\n",
       "<!-- b0&#45;&gt;b4 -->\n",
       "<g id=\"edge4\" class=\"edge\">\n",
       "<title>b0-&gt;b4</title>\n",
       "<path fill=\"none\" stroke=\"black\" d=\"M508.75,-86.9C543.08,-73.33 591.22,-54.29 627.81,-39.83\"/>\n",
       "<polygon fill=\"black\" stroke=\"black\" points=\"629.31,-43 637.32,-36.07 626.73,-36.49 629.31,-43\"/>\n",
       "<text text-anchor=\"middle\" x=\"590\" y=\"-57.8\" font-family=\"Times,serif\" font-size=\"14.00\">1</text>\n",
       "</g>\n",
       "<!-- b5 -->\n",
       "<g id=\"node6\" class=\"node\">\n",
       "<title>b5</title>\n",
       "<polygon fill=\"none\" stroke=\"black\" points=\"890.5,-36 836.5,-36 836.5,0 890.5,0 890.5,-36\"/>\n",
       "<text text-anchor=\"start\" x=\"845.5\" y=\"-14.3\" font-family=\"Times,serif\" font-size=\"14.00\">XGate</text>\n",
       "</g>\n",
       "<!-- b0&#45;&gt;b5 -->\n",
       "<g id=\"edge5\" class=\"edge\">\n",
       "<title>b0-&gt;b5</title>\n",
       "<path fill=\"none\" stroke=\"black\" d=\"M549,-94.17C623.1,-84.06 733.68,-65.57 826.5,-36 826.6,-35.97 826.7,-35.94 826.8,-35.9\"/>\n",
       "<polygon fill=\"black\" stroke=\"black\" points=\"828.15,-39.14 836.32,-32.39 825.72,-32.57 828.15,-39.14\"/>\n",
       "<text text-anchor=\"middle\" x=\"763\" y=\"-57.8\" font-family=\"Times,serif\" font-size=\"14.00\">2</text>\n",
       "</g>\n",
       "</g>\n",
       "</svg>"
      ],
      "text/plain": [
       "<IPython.core.display.SVG object>"
      ]
     },
     "metadata": {},
     "output_type": "display_data"
    },
    {
     "data": {
      "text/markdown": [
       "#### Counts totals:\n",
       " - `AddK`: 1\n",
       " - `Adjoint(subbloq=C^32X)`: 1\n",
       " - `C^32X`: 1\n",
       " - `MultiTargetCNOT`: 1\n",
       " - `XGate`: 2"
      ],
      "text/plain": [
       "<IPython.core.display.Markdown object>"
      ]
     },
     "metadata": {},
     "output_type": "display_data"
    }
   ],
   "source": [
    "from qualtran.resource_counting.generalizers import ignore_split_join\n",
    "mod_neg_g, mod_neg_sigma = mod_neg.call_graph(max_depth=1, generalizer=ignore_split_join)\n",
    "show_call_graph(mod_neg_g)\n",
    "show_counts_sigma(mod_neg_sigma)"
   ]
  },
  {
   "cell_type": "markdown",
   "id": "4dded926",
   "metadata": {
    "cq.autogen": "CModNeg.bloq_doc.md"
   },
   "source": [
    "## `CModNeg`\n",
    "Performs controlled modular negation.\n",
    "\n",
    "Applies the operation $\\ket{c}\\ket{x} \\rightarrow \\ket{c}\\ket{(-1)^c x\\%p}$\n",
    "\n",
    "Note: while this matches the count from Fig 8, it's a different decomposition that controls\n",
    "only the Add operation instead of turning the CNOTs into toffolis.\n",
    "\n",
    "#### Parameters\n",
    " - `dtype`: Datatype of the register.\n",
    " - `p`: The modulus for the negation.\n",
    " - `cv`: value at which the gate is active. \n",
    "\n",
    "#### Registers\n",
    " - `ctrl`: Control bit.\n",
    " - `x`: The register contraining the integer we negate. \n",
    "\n",
    "#### References\n",
    " - [How to compute a 256-bit elliptic curve private key with only 50 million Toffoli gates](https://arxiv.org/abs/2306.08585). Fig 6b and 8\n"
   ]
  },
  {
   "cell_type": "code",
   "execution_count": 6,
   "id": "5dd057d2",
   "metadata": {
    "cq.autogen": "CModNeg.bloq_doc.py"
   },
   "outputs": [],
   "source": [
    "from qualtran.bloqs.mod_arithmetic import CModNeg"
   ]
  },
  {
   "cell_type": "markdown",
   "id": "0f082f26",
   "metadata": {
    "cq.autogen": "CModNeg.example_instances.md"
   },
   "source": [
    "### Example Instances"
   ]
  },
  {
   "cell_type": "code",
   "execution_count": 7,
   "id": "a5c3fb4f",
   "metadata": {
    "cq.autogen": "CModNeg.cmod_neg"
   },
   "outputs": [],
   "source": [
    "n = 32\n",
    "prime = sympy.Symbol('p')\n",
    "cmod_neg = CModNeg(QUInt(n), mod=prime)"
   ]
  },
  {
   "cell_type": "markdown",
   "id": "211a2fc0",
   "metadata": {
    "cq.autogen": "CModNeg.graphical_signature.md"
   },
   "source": [
    "#### Graphical Signature"
   ]
  },
  {
   "cell_type": "code",
   "execution_count": 8,
   "id": "ccd14293",
   "metadata": {
    "cq.autogen": "CModNeg.graphical_signature.py"
   },
   "outputs": [
    {
     "data": {
      "application/vnd.jupyter.widget-view+json": {
       "model_id": "86ef382d65f74189a1451fbc6b5e8a7e",
       "version_major": 2,
       "version_minor": 0
      },
      "text/plain": [
       "HBox(children=(Output(outputs=({'output_type': 'display_data', 'data': {'text/plain': '<IPython.core.display.M…"
      ]
     },
     "metadata": {},
     "output_type": "display_data"
    }
   ],
   "source": [
    "from qualtran.drawing import show_bloqs\n",
    "show_bloqs([cmod_neg],\n",
    "           ['`cmod_neg`'])"
   ]
  },
  {
   "cell_type": "markdown",
   "id": "29fa3263",
   "metadata": {
    "cq.autogen": "CModNeg.call_graph.md"
   },
   "source": [
    "### Call Graph"
   ]
  },
  {
   "cell_type": "code",
   "execution_count": 9,
   "id": "b0f0b7ea",
   "metadata": {
    "cq.autogen": "CModNeg.call_graph.py"
   },
   "outputs": [
    {
     "data": {
      "image/svg+xml": [
       "<svg xmlns=\"http://www.w3.org/2000/svg\" xmlns:xlink=\"http://www.w3.org/1999/xlink\" width=\"1311pt\" height=\"131pt\" viewBox=\"0.00 0.00 1310.50 131.00\">\n",
       "<g id=\"graph0\" class=\"graph\" transform=\"scale(1 1) rotate(0) translate(4 127)\">\n",
       "<title>counts</title>\n",
       "<polygon fill=\"white\" stroke=\"transparent\" points=\"-4,4 -4,-127 1306.5,-127 1306.5,4 -4,4\"/>\n",
       "<!-- b0 -->\n",
       "<g id=\"node1\" class=\"node\">\n",
       "<title>b0</title>\n",
       "<polygon fill=\"none\" stroke=\"black\" points=\"809,-123 606,-123 606,-87 809,-87 809,-123\"/>\n",
       "<text text-anchor=\"start\" x=\"678.5\" y=\"-106.8\" font-family=\"Times,serif\" font-size=\"14.00\">CModNeg</text>\n",
       "<text text-anchor=\"start\" x=\"614\" y=\"-96\" font-family=\"monospace\" font-size=\"10.00\">dtype=QUInt(bi ..., mod=p, cv=1</text>\n",
       "</g>\n",
       "<!-- b1 -->\n",
       "<g id=\"node2\" class=\"node\">\n",
       "<title>b1</title>\n",
       "<polygon fill=\"none\" stroke=\"black\" points=\"233,-36 0,-36 0,0 233,0 233,-36\"/>\n",
       "<text text-anchor=\"start\" x=\"96.5\" y=\"-19.8\" font-family=\"Times,serif\" font-size=\"14.00\">C^32X</text>\n",
       "<text text-anchor=\"start\" x=\"8\" y=\"-9\" font-family=\"monospace\" font-size=\"10.00\">cvs=(0, 0, 0 ..., target_gate=cirq.X</text>\n",
       "</g>\n",
       "<!-- b0&#45;&gt;b1 -->\n",
       "<g id=\"edge1\" class=\"edge\">\n",
       "<title>b0-&gt;b1</title>\n",
       "<path fill=\"none\" stroke=\"black\" d=\"M605.9,-89.39C505.49,-74.95 351.6,-52.81 243.24,-37.23\"/>\n",
       "<polygon fill=\"black\" stroke=\"black\" points=\"243.63,-33.75 233.23,-35.79 242.63,-40.68 243.63,-33.75\"/>\n",
       "<text text-anchor=\"middle\" x=\"451\" y=\"-57.8\" font-family=\"Times,serif\" font-size=\"14.00\">1</text>\n",
       "</g>\n",
       "<!-- b2 -->\n",
       "<g id=\"node3\" class=\"node\">\n",
       "<title>b2</title>\n",
       "<polygon fill=\"none\" stroke=\"black\" points=\"388,-36 251,-36 251,0 388,0 388,-36\"/>\n",
       "<text text-anchor=\"start\" x=\"296.5\" y=\"-19.8\" font-family=\"Times,serif\" font-size=\"14.00\">C^32X†</text>\n",
       "<text text-anchor=\"start\" x=\"259\" y=\"-9\" font-family=\"monospace\" font-size=\"10.00\">subbloq=MultiCon ...</text>\n",
       "</g>\n",
       "<!-- b0&#45;&gt;b2 -->\n",
       "<g id=\"edge2\" class=\"edge\">\n",
       "<title>b0-&gt;b2</title>\n",
       "<path fill=\"none\" stroke=\"black\" d=\"M629.53,-87C569.01,-73.79 482.73,-54.94 398.36,-36.41\"/>\n",
       "<polygon fill=\"black\" stroke=\"black\" points=\"398.86,-32.93 388.35,-34.21 397.36,-39.77 398.86,-32.93\"/>\n",
       "<text text-anchor=\"middle\" x=\"545\" y=\"-57.8\" font-family=\"Times,serif\" font-size=\"14.00\">1</text>\n",
       "</g>\n",
       "<!-- b3 -->\n",
       "<g id=\"node4\" class=\"node\">\n",
       "<title>b3</title>\n",
       "<polygon fill=\"none\" stroke=\"black\" points=\"597,-36 406,-36 406,0 597,0 597,-36\"/>\n",
       "<text text-anchor=\"start\" x=\"489.5\" y=\"-19.8\" font-family=\"Times,serif\" font-size=\"14.00\">And</text>\n",
       "<text text-anchor=\"start\" x=\"414\" y=\"-9\" font-family=\"monospace\" font-size=\"10.00\">cv1=1, cv2=1, uncompute=False</text>\n",
       "</g>\n",
       "<!-- b0&#45;&gt;b3 -->\n",
       "<g id=\"edge3\" class=\"edge\">\n",
       "<title>b0-&gt;b3</title>\n",
       "<path fill=\"none\" stroke=\"black\" d=\"M665.81,-86.8C633.04,-73.27 587.24,-54.38 552.31,-39.97\"/>\n",
       "<polygon fill=\"black\" stroke=\"black\" points=\"553.35,-36.61 542.77,-36.03 550.68,-43.08 553.35,-36.61\"/>\n",
       "<text text-anchor=\"middle\" x=\"621\" y=\"-57.8\" font-family=\"Times,serif\" font-size=\"14.00\">1</text>\n",
       "</g>\n",
       "<!-- b4 -->\n",
       "<g id=\"node5\" class=\"node\">\n",
       "<title>b4</title>\n",
       "<polygon fill=\"none\" stroke=\"black\" points=\"800,-36 615,-36 615,0 800,0 800,-36\"/>\n",
       "<text text-anchor=\"start\" x=\"692\" y=\"-19.8\" font-family=\"Times,serif\" font-size=\"14.00\">And†</text>\n",
       "<text text-anchor=\"start\" x=\"623\" y=\"-9\" font-family=\"monospace\" font-size=\"10.00\">cv1=1, cv2=1, uncompute=True</text>\n",
       "</g>\n",
       "<!-- b0&#45;&gt;b4 -->\n",
       "<g id=\"edge4\" class=\"edge\">\n",
       "<title>b0-&gt;b4</title>\n",
       "<path fill=\"none\" stroke=\"black\" d=\"M707.5,-86.8C707.5,-75.16 707.5,-59.55 707.5,-46.24\"/>\n",
       "<polygon fill=\"black\" stroke=\"black\" points=\"711,-46.18 707.5,-36.18 704,-46.18 711,-46.18\"/>\n",
       "<text text-anchor=\"middle\" x=\"711\" y=\"-57.8\" font-family=\"Times,serif\" font-size=\"14.00\">1</text>\n",
       "</g>\n",
       "<!-- b5 -->\n",
       "<g id=\"node6\" class=\"node\">\n",
       "<title>b5</title>\n",
       "<polygon fill=\"none\" stroke=\"black\" points=\"937,-36 818,-36 818,0 937,0 937,-36\"/>\n",
       "<text text-anchor=\"start\" x=\"826\" y=\"-19.8\" font-family=\"Times,serif\" font-size=\"14.00\">MultiTargetCNOT</text>\n",
       "<text text-anchor=\"start\" x=\"847\" y=\"-9\" font-family=\"monospace\" font-size=\"10.00\">bitsize=32</text>\n",
       "</g>\n",
       "<!-- b0&#45;&gt;b5 -->\n",
       "<g id=\"edge5\" class=\"edge\">\n",
       "<title>b0-&gt;b5</title>\n",
       "<path fill=\"none\" stroke=\"black\" d=\"M741.9,-86.8C768.6,-73.45 805.78,-54.86 834.45,-40.52\"/>\n",
       "<polygon fill=\"black\" stroke=\"black\" points=\"836.06,-43.63 843.44,-36.03 832.93,-37.37 836.06,-43.63\"/>\n",
       "<text text-anchor=\"middle\" x=\"807\" y=\"-57.8\" font-family=\"Times,serif\" font-size=\"14.00\">1</text>\n",
       "</g>\n",
       "<!-- b6 -->\n",
       "<g id=\"node7\" class=\"node\">\n",
       "<title>b6</title>\n",
       "<polygon fill=\"none\" stroke=\"black\" points=\"1230,-36 955,-36 955,0 1230,0 1230,-36\"/>\n",
       "<text text-anchor=\"start\" x=\"1075.5\" y=\"-19.8\" font-family=\"Times,serif\" font-size=\"14.00\">AddK</text>\n",
       "<text text-anchor=\"start\" x=\"963\" y=\"-9\" font-family=\"monospace\" font-size=\"10.00\">bitsize=32, k=p + 1, cvs=(1,), signed=False</text>\n",
       "</g>\n",
       "<!-- b0&#45;&gt;b6 -->\n",
       "<g id=\"edge6\" class=\"edge\">\n",
       "<title>b0-&gt;b6</title>\n",
       "<path fill=\"none\" stroke=\"black\" d=\"M784.95,-86.9C848.65,-72.84 938.9,-52.91 1005.17,-38.28\"/>\n",
       "<polygon fill=\"black\" stroke=\"black\" points=\"1006.17,-41.65 1015.18,-36.07 1004.66,-34.81 1006.17,-41.65\"/>\n",
       "<text text-anchor=\"middle\" x=\"927\" y=\"-57.8\" font-family=\"Times,serif\" font-size=\"14.00\">1</text>\n",
       "</g>\n",
       "<!-- b7 -->\n",
       "<g id=\"node8\" class=\"node\">\n",
       "<title>b7</title>\n",
       "<polygon fill=\"none\" stroke=\"black\" points=\"1302.5,-36 1248.5,-36 1248.5,0 1302.5,0 1302.5,-36\"/>\n",
       "<text text-anchor=\"start\" x=\"1257.5\" y=\"-14.3\" font-family=\"Times,serif\" font-size=\"14.00\">XGate</text>\n",
       "</g>\n",
       "<!-- b0&#45;&gt;b7 -->\n",
       "<g id=\"edge7\" class=\"edge\">\n",
       "<title>b0-&gt;b7</title>\n",
       "<path fill=\"none\" stroke=\"black\" d=\"M809.16,-100.12C917.42,-93.88 1092.87,-77.72 1238.5,-36 1238.6,-35.97 1238.7,-35.94 1238.81,-35.91\"/>\n",
       "<polygon fill=\"black\" stroke=\"black\" points=\"1240.08,-39.17 1248.37,-32.58 1237.78,-32.56 1240.08,-39.17\"/>\n",
       "<text text-anchor=\"middle\" x=\"1158\" y=\"-57.8\" font-family=\"Times,serif\" font-size=\"14.00\">2</text>\n",
       "</g>\n",
       "</g>\n",
       "</svg>"
      ],
      "text/plain": [
       "<IPython.core.display.SVG object>"
      ]
     },
     "metadata": {},
     "output_type": "display_data"
    },
    {
     "data": {
      "text/markdown": [
       "#### Counts totals:\n",
       " - `AddK`: 1\n",
       " - `Adjoint(subbloq=C^32X)`: 1\n",
       " - `And`: 1\n",
       " - `And†`: 1\n",
       " - `C^32X`: 1\n",
       " - `MultiTargetCNOT`: 1\n",
       " - `XGate`: 2"
      ],
      "text/plain": [
       "<IPython.core.display.Markdown object>"
      ]
     },
     "metadata": {},
     "output_type": "display_data"
    }
   ],
   "source": [
    "from qualtran.resource_counting.generalizers import ignore_split_join\n",
    "cmod_neg_g, cmod_neg_sigma = cmod_neg.call_graph(max_depth=1, generalizer=ignore_split_join)\n",
    "show_call_graph(cmod_neg_g)\n",
    "show_counts_sigma(cmod_neg_sigma)"
   ]
  },
  {
   "cell_type": "markdown",
   "id": "14a3fbc6",
   "metadata": {
    "cq.autogen": "ModSub.bloq_doc.md"
   },
   "source": [
    "## `ModSub`\n",
    "Performs modular subtraction.\n",
    "\n",
    "Applies the operation $\\ket{x} \\ket{y} \\rightarrow \\ket{x} \\ket{y-x \\% p}$\n",
    "\n",
    "#### Parameters\n",
    " - `dtype`: Datatype of the register.\n",
    " - `p`: The modulus for the negation. \n",
    "\n",
    "#### Registers\n",
    " - `x`: The register contraining the first integer.\n",
    " - `y`: The register contraining the second integer. \n",
    "\n",
    "#### References\n",
    " - [How to compute a 256-bit elliptic curve private key with only 50 million Toffoli gates](https://arxiv.org/abs/2306.08585). Fig 6c and 8\n"
   ]
  },
  {
   "cell_type": "code",
   "execution_count": 10,
   "id": "a073f504",
   "metadata": {
    "cq.autogen": "ModSub.bloq_doc.py"
   },
   "outputs": [],
   "source": [
    "from qualtran.bloqs.mod_arithmetic import ModSub"
   ]
  },
  {
   "cell_type": "markdown",
   "id": "1820700b",
   "metadata": {
    "cq.autogen": "ModSub.example_instances.md"
   },
   "source": [
    "### Example Instances"
   ]
  },
  {
   "cell_type": "code",
   "execution_count": 11,
   "id": "0e42061f",
   "metadata": {
    "cq.autogen": "ModSub.modsub_symb"
   },
   "outputs": [],
   "source": [
    "n, p = sympy.symbols('n p')\n",
    "modsub_symb = ModSub(QUInt(n), p)"
   ]
  },
  {
   "cell_type": "markdown",
   "id": "e61d3cf3",
   "metadata": {
    "cq.autogen": "ModSub.graphical_signature.md"
   },
   "source": [
    "#### Graphical Signature"
   ]
  },
  {
   "cell_type": "code",
   "execution_count": 12,
   "id": "d5f8d669",
   "metadata": {
    "cq.autogen": "ModSub.graphical_signature.py"
   },
   "outputs": [
    {
     "data": {
      "application/vnd.jupyter.widget-view+json": {
       "model_id": "e468f60a9e9f4c6184e597f364c3f756",
       "version_major": 2,
       "version_minor": 0
      },
      "text/plain": [
       "HBox(children=(Output(outputs=({'output_type': 'display_data', 'data': {'text/plain': '<IPython.core.display.M…"
      ]
     },
     "metadata": {},
     "output_type": "display_data"
    }
   ],
   "source": [
    "from qualtran.drawing import show_bloqs\n",
    "show_bloqs([modsub_symb],\n",
    "           ['`modsub_symb`'])"
   ]
  },
  {
   "cell_type": "markdown",
   "id": "ac2ff24b",
   "metadata": {
    "cq.autogen": "ModSub.call_graph.md"
   },
   "source": [
    "### Call Graph"
   ]
  },
  {
   "cell_type": "code",
   "execution_count": 13,
   "id": "17efb6be",
   "metadata": {
    "cq.autogen": "ModSub.call_graph.py"
   },
   "outputs": [
    {
     "data": {
      "image/svg+xml": [
       "<svg xmlns=\"http://www.w3.org/2000/svg\" xmlns:xlink=\"http://www.w3.org/1999/xlink\" width=\"694pt\" height=\"131pt\" viewBox=\"0.00 0.00 694.00 131.00\">\n",
       "<g id=\"graph0\" class=\"graph\" transform=\"scale(1 1) rotate(0) translate(4 127)\">\n",
       "<title>counts</title>\n",
       "<polygon fill=\"white\" stroke=\"transparent\" points=\"-4,4 -4,-127 690,-127 690,4 -4,4\"/>\n",
       "<!-- b0 -->\n",
       "<g id=\"node1\" class=\"node\">\n",
       "<title>b0</title>\n",
       "<polygon fill=\"none\" stroke=\"black\" points=\"462,-123 295,-123 295,-87 462,-87 462,-123\"/>\n",
       "<text text-anchor=\"start\" x=\"354.5\" y=\"-106.8\" font-family=\"Times,serif\" font-size=\"14.00\">ModSub</text>\n",
       "<text text-anchor=\"start\" x=\"303\" y=\"-96\" font-family=\"monospace\" font-size=\"10.00\">dtype=QUInt(bi ..., mod=p</text>\n",
       "</g>\n",
       "<!-- b1 -->\n",
       "<g id=\"node2\" class=\"node\">\n",
       "<title>b1</title>\n",
       "<polygon fill=\"none\" stroke=\"black\" points=\"125,-36 0,-36 0,0 125,0 125,-36\"/>\n",
       "<text text-anchor=\"start\" x=\"31.5\" y=\"-19.8\" font-family=\"Times,serif\" font-size=\"14.00\">BitwiseNot</text>\n",
       "<text text-anchor=\"start\" x=\"8\" y=\"-9\" font-family=\"monospace\" font-size=\"10.00\">dtype=QUInt(bi ...</text>\n",
       "</g>\n",
       "<!-- b0&#45;&gt;b1 -->\n",
       "<g id=\"edge1\" class=\"edge\">\n",
       "<title>b0-&gt;b1</title>\n",
       "<path fill=\"none\" stroke=\"black\" d=\"M314.93,-86.9C262.93,-72.91 189.37,-53.13 135.06,-38.52\"/>\n",
       "<polygon fill=\"black\" stroke=\"black\" points=\"135.72,-35.07 125.16,-35.85 133.9,-41.83 135.72,-35.07\"/>\n",
       "<text text-anchor=\"middle\" x=\"243\" y=\"-57.8\" font-family=\"Times,serif\" font-size=\"14.00\">2</text>\n",
       "</g>\n",
       "<!-- b2 -->\n",
       "<g id=\"node3\" class=\"node\">\n",
       "<title>b2</title>\n",
       "<polygon fill=\"none\" stroke=\"black\" points=\"400,-36 143,-36 143,0 400,0 400,-36\"/>\n",
       "<text text-anchor=\"start\" x=\"254.5\" y=\"-19.8\" font-family=\"Times,serif\" font-size=\"14.00\">AddK</text>\n",
       "<text text-anchor=\"start\" x=\"151\" y=\"-9\" font-family=\"monospace\" font-size=\"10.00\">bitsize=n, k=p + 1, cvs=(), signed=False</text>\n",
       "</g>\n",
       "<!-- b0&#45;&gt;b2 -->\n",
       "<g id=\"edge2\" class=\"edge\">\n",
       "<title>b0-&gt;b2</title>\n",
       "<path fill=\"none\" stroke=\"black\" d=\"M356.85,-86.8C340.89,-74.13 319,-56.73 301.38,-42.74\"/>\n",
       "<polygon fill=\"black\" stroke=\"black\" points=\"303.13,-39.66 293.12,-36.18 298.77,-45.14 303.13,-39.66\"/>\n",
       "<text text-anchor=\"middle\" x=\"335\" y=\"-57.8\" font-family=\"Times,serif\" font-size=\"14.00\">1</text>\n",
       "</g>\n",
       "<!-- b3 -->\n",
       "<g id=\"node4\" class=\"node\">\n",
       "<title>b3</title>\n",
       "<polygon fill=\"none\" stroke=\"black\" points=\"555,-36 418,-36 418,0 555,0 555,-36\"/>\n",
       "<text text-anchor=\"start\" x=\"466.5\" y=\"-19.8\" font-family=\"Times,serif\" font-size=\"14.00\">AddK†</text>\n",
       "<text text-anchor=\"start\" x=\"426\" y=\"-9\" font-family=\"monospace\" font-size=\"10.00\">subbloq=AddK(bit ...</text>\n",
       "</g>\n",
       "<!-- b0&#45;&gt;b3 -->\n",
       "<g id=\"edge3\" class=\"edge\">\n",
       "<title>b0-&gt;b3</title>\n",
       "<path fill=\"none\" stroke=\"black\" d=\"M400.36,-86.8C416.46,-74.13 438.56,-56.73 456.34,-42.74\"/>\n",
       "<polygon fill=\"black\" stroke=\"black\" points=\"458.98,-45.11 464.68,-36.18 454.65,-39.61 458.98,-45.11\"/>\n",
       "<text text-anchor=\"middle\" x=\"443\" y=\"-57.8\" font-family=\"Times,serif\" font-size=\"14.00\">1</text>\n",
       "</g>\n",
       "<!-- b4 -->\n",
       "<g id=\"node5\" class=\"node\">\n",
       "<title>b4</title>\n",
       "<polygon fill=\"none\" stroke=\"black\" points=\"686,-36 573,-36 573,0 686,0 686,-36\"/>\n",
       "<text text-anchor=\"start\" x=\"604.5\" y=\"-19.8\" font-family=\"Times,serif\" font-size=\"14.00\">ModAdd</text>\n",
       "<text text-anchor=\"start\" x=\"581\" y=\"-9\" font-family=\"monospace\" font-size=\"10.00\">bitsize=n, mod=p</text>\n",
       "</g>\n",
       "<!-- b0&#45;&gt;b4 -->\n",
       "<g id=\"edge4\" class=\"edge\">\n",
       "<title>b0-&gt;b4</title>\n",
       "<path fill=\"none\" stroke=\"black\" d=\"M428.99,-86.9C469.58,-73.15 526.71,-53.81 569.61,-39.28\"/>\n",
       "<polygon fill=\"black\" stroke=\"black\" points=\"570.74,-42.59 579.09,-36.07 568.49,-35.96 570.74,-42.59\"/>\n",
       "<text text-anchor=\"middle\" x=\"523\" y=\"-57.8\" font-family=\"Times,serif\" font-size=\"14.00\">1</text>\n",
       "</g>\n",
       "</g>\n",
       "</svg>"
      ],
      "text/plain": [
       "<IPython.core.display.SVG object>"
      ]
     },
     "metadata": {},
     "output_type": "display_data"
    },
    {
     "data": {
      "text/markdown": [
       "#### Counts totals:\n",
       " - `AddK`: 1\n",
       " - `Adjoint(subbloq=AddK)`: 1\n",
       " - `BitwiseNot`: 2\n",
       " - `ModAdd`: 1"
      ],
      "text/plain": [
       "<IPython.core.display.Markdown object>"
      ]
     },
     "metadata": {},
     "output_type": "display_data"
    }
   ],
   "source": [
    "from qualtran.resource_counting.generalizers import ignore_split_join\n",
    "modsub_symb_g, modsub_symb_sigma = modsub_symb.call_graph(max_depth=1, generalizer=ignore_split_join)\n",
    "show_call_graph(modsub_symb_g)\n",
    "show_counts_sigma(modsub_symb_sigma)"
   ]
  },
  {
   "cell_type": "markdown",
   "id": "e2ca65c8",
   "metadata": {
    "cq.autogen": "CModSub.bloq_doc.md"
   },
   "source": [
    "## `CModSub`\n",
    "Performs controlled modular subtraction.\n",
    "\n",
    "Applies the operation $\\ket{c}\\ket{x} \\ket{y} \\rightarrow \\ket{c}\\ket{x} \\ket{y-cx \\% p}$\n",
    "\n",
    "#### Parameters\n",
    " - `dtype`: Datatype of the register.\n",
    " - `p`: The modulus for the negation.\n",
    " - `cv`: value at which the bloq is active. \n",
    "\n",
    "#### Registers\n",
    " - `ctrl`: control register.\n",
    " - `x`: The register contraining the first integer.\n",
    " - `y`: The register contraining the second integer. \n",
    "\n",
    "#### References\n",
    " - [How to compute a 256-bit elliptic curve private key with only 50 million Toffoli gates](https://arxiv.org/abs/2306.08585). Fig 6c and 8\n"
   ]
  },
  {
   "cell_type": "code",
   "execution_count": 14,
   "id": "f3075f45",
   "metadata": {
    "cq.autogen": "CModSub.bloq_doc.py"
   },
   "outputs": [],
   "source": [
    "from qualtran.bloqs.mod_arithmetic import CModSub"
   ]
  },
  {
   "cell_type": "markdown",
   "id": "5413f37d",
   "metadata": {
    "cq.autogen": "CModSub.example_instances.md"
   },
   "source": [
    "### Example Instances"
   ]
  },
  {
   "cell_type": "code",
   "execution_count": 15,
   "id": "1d257167",
   "metadata": {
    "cq.autogen": "CModSub.cmodsub_symb"
   },
   "outputs": [],
   "source": [
    "n, p = sympy.symbols('n p')\n",
    "cmodsub_symb = CModSub(QUInt(n), p)"
   ]
  },
  {
   "cell_type": "markdown",
   "id": "83c7dc30",
   "metadata": {
    "cq.autogen": "CModSub.graphical_signature.md"
   },
   "source": [
    "#### Graphical Signature"
   ]
  },
  {
   "cell_type": "code",
   "execution_count": 16,
   "id": "d08073ac",
   "metadata": {
    "cq.autogen": "CModSub.graphical_signature.py"
   },
   "outputs": [
    {
     "data": {
      "application/vnd.jupyter.widget-view+json": {
       "model_id": "a8daa921298a43fbb2af197d569c8208",
       "version_major": 2,
       "version_minor": 0
      },
      "text/plain": [
       "HBox(children=(Output(outputs=({'output_type': 'display_data', 'data': {'text/plain': '<IPython.core.display.M…"
      ]
     },
     "metadata": {},
     "output_type": "display_data"
    }
   ],
   "source": [
    "from qualtran.drawing import show_bloqs\n",
    "show_bloqs([cmodsub_symb],\n",
    "           ['`cmodsub_symb`'])"
   ]
  },
  {
   "cell_type": "markdown",
   "id": "b4e6b051",
   "metadata": {
    "cq.autogen": "CModSub.call_graph.md"
   },
   "source": [
    "### Call Graph"
   ]
  },
  {
   "cell_type": "code",
   "execution_count": 17,
   "id": "53f671dd",
   "metadata": {
    "cq.autogen": "CModSub.call_graph.py"
   },
   "outputs": [
    {
     "data": {
      "image/svg+xml": [
       "<svg xmlns=\"http://www.w3.org/2000/svg\" xmlns:xlink=\"http://www.w3.org/1999/xlink\" width=\"784pt\" height=\"131pt\" viewBox=\"0.00 0.00 784.00 131.00\">\n",
       "<g id=\"graph0\" class=\"graph\" transform=\"scale(1 1) rotate(0) translate(4 127)\">\n",
       "<title>counts</title>\n",
       "<polygon fill=\"white\" stroke=\"transparent\" points=\"-4,4 -4,-127 780,-127 780,4 -4,4\"/>\n",
       "<!-- b0 -->\n",
       "<g id=\"node1\" class=\"node\">\n",
       "<title>b0</title>\n",
       "<polygon fill=\"none\" stroke=\"black\" points=\"480,-123 277,-123 277,-87 480,-87 480,-123\"/>\n",
       "<text text-anchor=\"start\" x=\"350\" y=\"-106.8\" font-family=\"Times,serif\" font-size=\"14.00\">CModSub</text>\n",
       "<text text-anchor=\"start\" x=\"285\" y=\"-96\" font-family=\"monospace\" font-size=\"10.00\">dtype=QUInt(bi ..., mod=p, cv=1</text>\n",
       "</g>\n",
       "<!-- b1 -->\n",
       "<g id=\"node2\" class=\"node\">\n",
       "<title>b1</title>\n",
       "<polygon fill=\"none\" stroke=\"black\" points=\"125,-36 0,-36 0,0 125,0 125,-36\"/>\n",
       "<text text-anchor=\"start\" x=\"31.5\" y=\"-19.8\" font-family=\"Times,serif\" font-size=\"14.00\">BitwiseNot</text>\n",
       "<text text-anchor=\"start\" x=\"8\" y=\"-9\" font-family=\"monospace\" font-size=\"10.00\">dtype=QUInt(bi ...</text>\n",
       "</g>\n",
       "<!-- b0&#45;&gt;b1 -->\n",
       "<g id=\"edge1\" class=\"edge\">\n",
       "<title>b0-&gt;b1</title>\n",
       "<path fill=\"none\" stroke=\"black\" d=\"M314.93,-86.9C262.93,-72.91 189.37,-53.13 135.06,-38.52\"/>\n",
       "<polygon fill=\"black\" stroke=\"black\" points=\"135.72,-35.07 125.16,-35.85 133.9,-41.83 135.72,-35.07\"/>\n",
       "<text text-anchor=\"middle\" x=\"243\" y=\"-57.8\" font-family=\"Times,serif\" font-size=\"14.00\">2</text>\n",
       "</g>\n",
       "<!-- b2 -->\n",
       "<g id=\"node3\" class=\"node\">\n",
       "<title>b2</title>\n",
       "<polygon fill=\"none\" stroke=\"black\" points=\"400,-36 143,-36 143,0 400,0 400,-36\"/>\n",
       "<text text-anchor=\"start\" x=\"254.5\" y=\"-19.8\" font-family=\"Times,serif\" font-size=\"14.00\">AddK</text>\n",
       "<text text-anchor=\"start\" x=\"151\" y=\"-9\" font-family=\"monospace\" font-size=\"10.00\">bitsize=n, k=p + 1, cvs=(), signed=False</text>\n",
       "</g>\n",
       "<!-- b0&#45;&gt;b2 -->\n",
       "<g id=\"edge2\" class=\"edge\">\n",
       "<title>b0-&gt;b2</title>\n",
       "<path fill=\"none\" stroke=\"black\" d=\"M356.85,-86.8C340.89,-74.13 319,-56.73 301.38,-42.74\"/>\n",
       "<polygon fill=\"black\" stroke=\"black\" points=\"303.13,-39.66 293.12,-36.18 298.77,-45.14 303.13,-39.66\"/>\n",
       "<text text-anchor=\"middle\" x=\"335\" y=\"-57.8\" font-family=\"Times,serif\" font-size=\"14.00\">1</text>\n",
       "</g>\n",
       "<!-- b3 -->\n",
       "<g id=\"node4\" class=\"node\">\n",
       "<title>b3</title>\n",
       "<polygon fill=\"none\" stroke=\"black\" points=\"555,-36 418,-36 418,0 555,0 555,-36\"/>\n",
       "<text text-anchor=\"start\" x=\"466.5\" y=\"-19.8\" font-family=\"Times,serif\" font-size=\"14.00\">AddK†</text>\n",
       "<text text-anchor=\"start\" x=\"426\" y=\"-9\" font-family=\"monospace\" font-size=\"10.00\">subbloq=AddK(bit ...</text>\n",
       "</g>\n",
       "<!-- b0&#45;&gt;b3 -->\n",
       "<g id=\"edge3\" class=\"edge\">\n",
       "<title>b0-&gt;b3</title>\n",
       "<path fill=\"none\" stroke=\"black\" d=\"M400.36,-86.8C416.46,-74.13 438.56,-56.73 456.34,-42.74\"/>\n",
       "<polygon fill=\"black\" stroke=\"black\" points=\"458.98,-45.11 464.68,-36.18 454.65,-39.61 458.98,-45.11\"/>\n",
       "<text text-anchor=\"middle\" x=\"443\" y=\"-57.8\" font-family=\"Times,serif\" font-size=\"14.00\">1</text>\n",
       "</g>\n",
       "<!-- b4 -->\n",
       "<g id=\"node5\" class=\"node\">\n",
       "<title>b4</title>\n",
       "<polygon fill=\"none\" stroke=\"black\" points=\"776,-36 573,-36 573,0 776,0 776,-36\"/>\n",
       "<text text-anchor=\"start\" x=\"645\" y=\"-19.8\" font-family=\"Times,serif\" font-size=\"14.00\">CModAdd</text>\n",
       "<text text-anchor=\"start\" x=\"581\" y=\"-9\" font-family=\"monospace\" font-size=\"10.00\">dtype=QUInt(bi ..., mod=p, cv=1</text>\n",
       "</g>\n",
       "<!-- b0&#45;&gt;b4 -->\n",
       "<g id=\"edge4\" class=\"edge\">\n",
       "<title>b0-&gt;b4</title>\n",
       "<path fill=\"none\" stroke=\"black\" d=\"M438.04,-86.9C486.32,-73.04 554.42,-53.48 605.15,-38.92\"/>\n",
       "<polygon fill=\"black\" stroke=\"black\" points=\"606.41,-42.2 615.05,-36.07 604.47,-35.47 606.41,-42.2\"/>\n",
       "<text text-anchor=\"middle\" x=\"548\" y=\"-57.8\" font-family=\"Times,serif\" font-size=\"14.00\">1</text>\n",
       "</g>\n",
       "</g>\n",
       "</svg>"
      ],
      "text/plain": [
       "<IPython.core.display.SVG object>"
      ]
     },
     "metadata": {},
     "output_type": "display_data"
    },
    {
     "data": {
      "text/markdown": [
       "#### Counts totals:\n",
       " - `AddK`: 1\n",
       " - `Adjoint(subbloq=AddK)`: 1\n",
       " - `BitwiseNot`: 2\n",
       " - `CModAdd`: 1"
      ],
      "text/plain": [
       "<IPython.core.display.Markdown object>"
      ]
     },
     "metadata": {},
     "output_type": "display_data"
    }
   ],
   "source": [
    "from qualtran.resource_counting.generalizers import ignore_split_join\n",
    "cmodsub_symb_g, cmodsub_symb_sigma = cmodsub_symb.call_graph(max_depth=1, generalizer=ignore_split_join)\n",
    "show_call_graph(cmodsub_symb_g)\n",
    "show_counts_sigma(cmodsub_symb_sigma)"
   ]
  }
 ],
 "metadata": {
  "kernelspec": {
   "display_name": "Python 3",
   "language": "python",
   "name": "python3"
  },
  "language_info": {
   "codemirror_mode": {
    "name": "ipython",
    "version": 3
   },
   "file_extension": ".py",
   "mimetype": "text/x-python",
   "name": "python",
   "nbconvert_exporter": "python",
   "pygments_lexer": "ipython3",
   "version": "3.11.8"
  },
  "widgets": {
   "application/vnd.jupyter.widget-state+json": {
    "state": {
     "1b8c1055d2d143c8b45e5c2aeb044326": {
      "model_module": "@jupyter-widgets/base",
      "model_module_version": "2.0.0",
      "model_name": "LayoutModel",
      "state": {
       "_model_module": "@jupyter-widgets/base",
       "_model_module_version": "2.0.0",
       "_model_name": "LayoutModel",
       "_view_count": null,
       "_view_module": "@jupyter-widgets/base",
       "_view_module_version": "2.0.0",
       "_view_name": "LayoutView",
       "align_content": null,
       "align_items": null,
       "align_self": null,
       "border_bottom": null,
       "border_left": null,
       "border_right": null,
       "border_top": null,
       "bottom": null,
       "display": null,
       "flex": null,
       "flex_flow": null,
       "grid_area": null,
       "grid_auto_columns": null,
       "grid_auto_flow": null,
       "grid_auto_rows": null,
       "grid_column": null,
       "grid_gap": null,
       "grid_row": null,
       "grid_template_areas": null,
       "grid_template_columns": null,
       "grid_template_rows": null,
       "height": null,
       "justify_content": null,
       "justify_items": null,
       "left": null,
       "margin": null,
       "max_height": null,
       "max_width": null,
       "min_height": null,
       "min_width": null,
       "object_fit": null,
       "object_position": null,
       "order": null,
       "overflow": null,
       "padding": null,
       "right": null,
       "top": null,
       "visibility": null,
       "width": null
      }
     },
     "1ef0815c9a254d6db5a0f13d12708e92": {
      "model_module": "@jupyter-widgets/output",
      "model_module_version": "1.0.0",
      "model_name": "OutputModel",
      "state": {
       "_dom_classes": [],
       "_model_module": "@jupyter-widgets/output",
       "_model_module_version": "1.0.0",
       "_model_name": "OutputModel",
       "_view_count": null,
       "_view_module": "@jupyter-widgets/output",
       "_view_module_version": "1.0.0",
       "_view_name": "OutputView",
       "layout": "IPY_MODEL_9d9cc6d1ca94464ab0fb2f667d630b6e",
       "msg_id": "",
       "outputs": [
        {
         "data": {
          "text/markdown": "`mod_neg`",
          "text/plain": "<IPython.core.display.Markdown object>"
         },
         "metadata": {},
         "output_type": "display_data"
        },
        {
         "data": {
          "image/svg+xml": "<svg xmlns=\"http://www.w3.org/2000/svg\" xmlns:xlink=\"http://www.w3.org/1999/xlink\" width=\"233pt\" height=\"54pt\" viewBox=\"0.00 0.00 233.00 54.00\">\n<g id=\"graph0\" class=\"graph\" transform=\"scale(1 1) rotate(0) translate(4 50)\">\n<title>my_graph</title>\n<polygon fill=\"white\" stroke=\"transparent\" points=\"-4,4 -4,-50 229,-50 229,4 -4,4\"/>\n<!-- x_G0 -->\n<g id=\"node1\" class=\"node\">\n<title>x_G0</title>\n<text text-anchor=\"middle\" x=\"27\" y=\"-14.3\" font-family=\"Times,serif\" font-size=\"14.00\">x</text>\n</g>\n<!-- ModNeg -->\n<g id=\"node2\" class=\"node\">\n<title>ModNeg</title>\n<polygon fill=\"none\" stroke=\"black\" points=\"91.5,-29 91.5,-46 134.5,-46 134.5,-29 91.5,-29\"/>\n<text text-anchor=\"start\" x=\"94.5\" y=\"-35\" font-family=\"Times,serif\" font-size=\"10.00\">ModNeg</text>\n<polygon fill=\"none\" stroke=\"black\" points=\"91.5,-8 91.5,-29 134.5,-29 134.5,-8 91.5,-8\"/>\n<text text-anchor=\"start\" x=\"109.5\" y=\"-14.8\" font-family=\"Times,serif\" font-size=\"14.00\">x</text>\n</g>\n<!-- x_G0&#45;&gt;ModNeg -->\n<g id=\"edge1\" class=\"edge\">\n<title>x_G0:e-&gt;ModNeg:w</title>\n<path fill=\"none\" stroke=\"black\" d=\"M54,-18C69.67,-18 74.14,-18 88.77,-18\"/>\n<ellipse fill=\"black\" stroke=\"black\" cx=\"90\" cy=\"-18\" rx=\"1\" ry=\"1\"/>\n<text text-anchor=\"middle\" x=\"72.5\" y=\"-21\" font-family=\"Times,serif\" font-size=\"10.00\">32</text>\n</g>\n<!-- x_G1 -->\n<g id=\"node3\" class=\"node\">\n<title>x_G1</title>\n<text text-anchor=\"middle\" x=\"198\" y=\"-14.3\" font-family=\"Times,serif\" font-size=\"14.00\">x</text>\n</g>\n<!-- ModNeg&#45;&gt;x_G1 -->\n<g id=\"edge2\" class=\"edge\">\n<title>ModNeg:e-&gt;x_G1:w</title>\n<path fill=\"none\" stroke=\"black\" d=\"M134,-18C149.67,-18 154.14,-18 168.77,-18\"/>\n<ellipse fill=\"black\" stroke=\"black\" cx=\"170\" cy=\"-18\" rx=\"1\" ry=\"1\"/>\n<text text-anchor=\"middle\" x=\"152.5\" y=\"-21\" font-family=\"Times,serif\" font-size=\"10.00\">32</text>\n</g>\n</g>\n</svg>",
          "text/plain": "<IPython.core.display.SVG object>"
         },
         "metadata": {},
         "output_type": "display_data"
        }
       ],
       "tabbable": null,
       "tooltip": null
      }
     },
     "204ac568d8c14628b489f02ec1cf48fe": {
      "model_module": "@jupyter-widgets/base",
      "model_module_version": "2.0.0",
      "model_name": "LayoutModel",
      "state": {
       "_model_module": "@jupyter-widgets/base",
       "_model_module_version": "2.0.0",
       "_model_name": "LayoutModel",
       "_view_count": null,
       "_view_module": "@jupyter-widgets/base",
       "_view_module_version": "2.0.0",
       "_view_name": "LayoutView",
       "align_content": null,
       "align_items": null,
       "align_self": null,
       "border_bottom": null,
       "border_left": null,
       "border_right": null,
       "border_top": null,
       "bottom": null,
       "display": null,
       "flex": null,
       "flex_flow": null,
       "grid_area": null,
       "grid_auto_columns": null,
       "grid_auto_flow": null,
       "grid_auto_rows": null,
       "grid_column": null,
       "grid_gap": null,
       "grid_row": null,
       "grid_template_areas": null,
       "grid_template_columns": null,
       "grid_template_rows": null,
       "height": null,
       "justify_content": null,
       "justify_items": null,
       "left": null,
       "margin": null,
       "max_height": null,
       "max_width": null,
       "min_height": null,
       "min_width": null,
       "object_fit": null,
       "object_position": null,
       "order": null,
       "overflow": null,
       "padding": null,
       "right": null,
       "top": null,
       "visibility": null,
       "width": null
      }
     },
     "2991cfd977364216960a670c9725ea6a": {
      "model_module": "@jupyter-widgets/base",
      "model_module_version": "2.0.0",
      "model_name": "LayoutModel",
      "state": {
       "_model_module": "@jupyter-widgets/base",
       "_model_module_version": "2.0.0",
       "_model_name": "LayoutModel",
       "_view_count": null,
       "_view_module": "@jupyter-widgets/base",
       "_view_module_version": "2.0.0",
       "_view_name": "LayoutView",
       "align_content": null,
       "align_items": null,
       "align_self": null,
       "border_bottom": null,
       "border_left": null,
       "border_right": null,
       "border_top": null,
       "bottom": null,
       "display": null,
       "flex": null,
       "flex_flow": null,
       "grid_area": null,
       "grid_auto_columns": null,
       "grid_auto_flow": null,
       "grid_auto_rows": null,
       "grid_column": null,
       "grid_gap": null,
       "grid_row": null,
       "grid_template_areas": null,
       "grid_template_columns": null,
       "grid_template_rows": null,
       "height": null,
       "justify_content": null,
       "justify_items": null,
       "left": null,
       "margin": null,
       "max_height": null,
       "max_width": null,
       "min_height": null,
       "min_width": null,
       "object_fit": null,
       "object_position": null,
       "order": null,
       "overflow": null,
       "padding": null,
       "right": null,
       "top": null,
       "visibility": null,
       "width": null
      }
     },
     "2f639779a65a414a83f68506eff1d6cd": {
      "model_module": "@jupyter-widgets/base",
      "model_module_version": "2.0.0",
      "model_name": "LayoutModel",
      "state": {
       "_model_module": "@jupyter-widgets/base",
       "_model_module_version": "2.0.0",
       "_model_name": "LayoutModel",
       "_view_count": null,
       "_view_module": "@jupyter-widgets/base",
       "_view_module_version": "2.0.0",
       "_view_name": "LayoutView",
       "align_content": null,
       "align_items": null,
       "align_self": null,
       "border_bottom": null,
       "border_left": null,
       "border_right": null,
       "border_top": null,
       "bottom": null,
       "display": null,
       "flex": null,
       "flex_flow": null,
       "grid_area": null,
       "grid_auto_columns": null,
       "grid_auto_flow": null,
       "grid_auto_rows": null,
       "grid_column": null,
       "grid_gap": null,
       "grid_row": null,
       "grid_template_areas": null,
       "grid_template_columns": null,
       "grid_template_rows": null,
       "height": null,
       "justify_content": null,
       "justify_items": null,
       "left": null,
       "margin": null,
       "max_height": null,
       "max_width": null,
       "min_height": null,
       "min_width": null,
       "object_fit": null,
       "object_position": null,
       "order": null,
       "overflow": null,
       "padding": null,
       "right": null,
       "top": null,
       "visibility": null,
       "width": null
      }
     },
     "86ef382d65f74189a1451fbc6b5e8a7e": {
      "model_module": "@jupyter-widgets/controls",
      "model_module_version": "2.0.0",
      "model_name": "HBoxModel",
      "state": {
       "_dom_classes": [],
       "_model_module": "@jupyter-widgets/controls",
       "_model_module_version": "2.0.0",
       "_model_name": "HBoxModel",
       "_view_count": null,
       "_view_module": "@jupyter-widgets/controls",
       "_view_module_version": "2.0.0",
       "_view_name": "HBoxView",
       "box_style": "",
       "children": [
        "IPY_MODEL_97f655a88a7d426c91b6526927d2fdb0"
       ],
       "layout": "IPY_MODEL_d6e315496f4a49de9145878d5668a070",
       "tabbable": null,
       "tooltip": null
      }
     },
     "97f655a88a7d426c91b6526927d2fdb0": {
      "model_module": "@jupyter-widgets/output",
      "model_module_version": "1.0.0",
      "model_name": "OutputModel",
      "state": {
       "_dom_classes": [],
       "_model_module": "@jupyter-widgets/output",
       "_model_module_version": "1.0.0",
       "_model_name": "OutputModel",
       "_view_count": null,
       "_view_module": "@jupyter-widgets/output",
       "_view_module_version": "1.0.0",
       "_view_name": "OutputView",
       "layout": "IPY_MODEL_9e4b28bcb8c0488aaf278de219f4d8e8",
       "msg_id": "",
       "outputs": [
        {
         "data": {
          "text/markdown": "`cmod_neg`",
          "text/plain": "<IPython.core.display.Markdown object>"
         },
         "metadata": {},
         "output_type": "display_data"
        },
        {
         "data": {
          "image/svg+xml": "<svg xmlns=\"http://www.w3.org/2000/svg\" xmlns:xlink=\"http://www.w3.org/1999/xlink\" width=\"240pt\" height=\"98pt\" viewBox=\"0.00 0.00 240.00 98.00\">\n<g id=\"graph0\" class=\"graph\" transform=\"scale(1 1) rotate(0) translate(4 94)\">\n<title>my_graph</title>\n<polygon fill=\"white\" stroke=\"transparent\" points=\"-4,4 -4,-94 236,-94 236,4 -4,4\"/>\n<!-- ctrl_G1 -->\n<g id=\"node1\" class=\"node\">\n<title>ctrl_G1</title>\n<text text-anchor=\"middle\" x=\"27\" y=\"-68.3\" font-family=\"Times,serif\" font-size=\"14.00\">ctrl</text>\n</g>\n<!-- CModNeg -->\n<g id=\"node3\" class=\"node\">\n<title>CModNeg</title>\n<polygon fill=\"none\" stroke=\"black\" points=\"91,-66 91,-83 141,-83 141,-66 91,-66\"/>\n<text text-anchor=\"start\" x=\"94\" y=\"-72\" font-family=\"Times,serif\" font-size=\"10.00\">CModNeg</text>\n<polygon fill=\"none\" stroke=\"black\" points=\"91,-45 91,-66 141,-66 141,-45 91,-45\"/>\n<text text-anchor=\"start\" x=\"106.5\" y=\"-51.8\" font-family=\"Times,serif\" font-size=\"14.00\">ctrl</text>\n<polygon fill=\"none\" stroke=\"black\" points=\"91,-24 91,-45 141,-45 141,-24 91,-24\"/>\n<text text-anchor=\"start\" x=\"112.5\" y=\"-30.8\" font-family=\"Times,serif\" font-size=\"14.00\">x</text>\n</g>\n<!-- ctrl_G1&#45;&gt;CModNeg -->\n<g id=\"edge1\" class=\"edge\">\n<title>ctrl_G1:e-&gt;CModNeg:w</title>\n<path fill=\"none\" stroke=\"black\" d=\"M54,-72C71.22,-72 72.97,-57.23 88.98,-56.07\"/>\n<ellipse fill=\"black\" stroke=\"black\" cx=\"90\" cy=\"-56.04\" rx=\"1\" ry=\"1\"/>\n<text text-anchor=\"middle\" x=\"72.5\" y=\"-67\" font-family=\"Times,serif\" font-size=\"10.00\">1</text>\n</g>\n<!-- x_G3 -->\n<g id=\"node2\" class=\"node\">\n<title>x_G3</title>\n<text text-anchor=\"middle\" x=\"27\" y=\"-14.3\" font-family=\"Times,serif\" font-size=\"14.00\">x</text>\n</g>\n<!-- x_G3&#45;&gt;CModNeg -->\n<g id=\"edge2\" class=\"edge\">\n<title>x_G3:e-&gt;CModNeg:w</title>\n<path fill=\"none\" stroke=\"black\" d=\"M54,-18C71.22,-18 72.97,-32.77 88.98,-33.93\"/>\n<ellipse fill=\"black\" stroke=\"black\" cx=\"90\" cy=\"-33.96\" rx=\"1\" ry=\"1\"/>\n<text text-anchor=\"middle\" x=\"72.5\" y=\"-29\" font-family=\"Times,serif\" font-size=\"10.00\">32</text>\n</g>\n<!-- ctrl_G4 -->\n<g id=\"node4\" class=\"node\">\n<title>ctrl_G4</title>\n<text text-anchor=\"middle\" x=\"205\" y=\"-68.3\" font-family=\"Times,serif\" font-size=\"14.00\">ctrl</text>\n</g>\n<!-- CModNeg&#45;&gt;ctrl_G4 -->\n<g id=\"edge3\" class=\"edge\">\n<title>CModNeg:e-&gt;ctrl_G4:w</title>\n<path fill=\"none\" stroke=\"black\" d=\"M141,-56C158.22,-56 159.97,-70.77 175.98,-71.93\"/>\n<ellipse fill=\"black\" stroke=\"black\" cx=\"177\" cy=\"-71.96\" rx=\"1\" ry=\"1\"/>\n<text text-anchor=\"middle\" x=\"159.5\" y=\"-67\" font-family=\"Times,serif\" font-size=\"10.00\">1</text>\n</g>\n<!-- x_G2 -->\n<g id=\"node5\" class=\"node\">\n<title>x_G2</title>\n<text text-anchor=\"middle\" x=\"205\" y=\"-14.3\" font-family=\"Times,serif\" font-size=\"14.00\">x</text>\n</g>\n<!-- CModNeg&#45;&gt;x_G2 -->\n<g id=\"edge4\" class=\"edge\">\n<title>CModNeg:e-&gt;x_G2:w</title>\n<path fill=\"none\" stroke=\"black\" d=\"M141,-34C158.22,-34 159.97,-19.23 175.98,-18.07\"/>\n<ellipse fill=\"black\" stroke=\"black\" cx=\"177\" cy=\"-18.04\" rx=\"1\" ry=\"1\"/>\n<text text-anchor=\"middle\" x=\"159.5\" y=\"-29\" font-family=\"Times,serif\" font-size=\"10.00\">32</text>\n</g>\n</g>\n</svg>",
          "text/plain": "<IPython.core.display.SVG object>"
         },
         "metadata": {},
         "output_type": "display_data"
        }
       ],
       "tabbable": null,
       "tooltip": null
      }
     },
     "9d9cc6d1ca94464ab0fb2f667d630b6e": {
      "model_module": "@jupyter-widgets/base",
      "model_module_version": "2.0.0",
      "model_name": "LayoutModel",
      "state": {
       "_model_module": "@jupyter-widgets/base",
       "_model_module_version": "2.0.0",
       "_model_name": "LayoutModel",
       "_view_count": null,
       "_view_module": "@jupyter-widgets/base",
       "_view_module_version": "2.0.0",
       "_view_name": "LayoutView",
       "align_content": null,
       "align_items": null,
       "align_self": null,
       "border_bottom": null,
       "border_left": null,
       "border_right": null,
       "border_top": null,
       "bottom": null,
       "display": null,
       "flex": null,
       "flex_flow": null,
       "grid_area": null,
       "grid_auto_columns": null,
       "grid_auto_flow": null,
       "grid_auto_rows": null,
       "grid_column": null,
       "grid_gap": null,
       "grid_row": null,
       "grid_template_areas": null,
       "grid_template_columns": null,
       "grid_template_rows": null,
       "height": null,
       "justify_content": null,
       "justify_items": null,
       "left": null,
       "margin": null,
       "max_height": null,
       "max_width": null,
       "min_height": null,
       "min_width": null,
       "object_fit": null,
       "object_position": null,
       "order": null,
       "overflow": null,
       "padding": null,
       "right": null,
       "top": null,
       "visibility": null,
       "width": null
      }
     },
     "9e4b28bcb8c0488aaf278de219f4d8e8": {
      "model_module": "@jupyter-widgets/base",
      "model_module_version": "2.0.0",
      "model_name": "LayoutModel",
      "state": {
       "_model_module": "@jupyter-widgets/base",
       "_model_module_version": "2.0.0",
       "_model_name": "LayoutModel",
       "_view_count": null,
       "_view_module": "@jupyter-widgets/base",
       "_view_module_version": "2.0.0",
       "_view_name": "LayoutView",
       "align_content": null,
       "align_items": null,
       "align_self": null,
       "border_bottom": null,
       "border_left": null,
       "border_right": null,
       "border_top": null,
       "bottom": null,
       "display": null,
       "flex": null,
       "flex_flow": null,
       "grid_area": null,
       "grid_auto_columns": null,
       "grid_auto_flow": null,
       "grid_auto_rows": null,
       "grid_column": null,
       "grid_gap": null,
       "grid_row": null,
       "grid_template_areas": null,
       "grid_template_columns": null,
       "grid_template_rows": null,
       "height": null,
       "justify_content": null,
       "justify_items": null,
       "left": null,
       "margin": null,
       "max_height": null,
       "max_width": null,
       "min_height": null,
       "min_width": null,
       "object_fit": null,
       "object_position": null,
       "order": null,
       "overflow": null,
       "padding": null,
       "right": null,
       "top": null,
       "visibility": null,
       "width": null
      }
     },
     "a8daa921298a43fbb2af197d569c8208": {
      "model_module": "@jupyter-widgets/controls",
      "model_module_version": "2.0.0",
      "model_name": "HBoxModel",
      "state": {
       "_dom_classes": [],
       "_model_module": "@jupyter-widgets/controls",
       "_model_module_version": "2.0.0",
       "_model_name": "HBoxModel",
       "_view_count": null,
       "_view_module": "@jupyter-widgets/controls",
       "_view_module_version": "2.0.0",
       "_view_name": "HBoxView",
       "box_style": "",
       "children": [
        "IPY_MODEL_b02b5d92c01949769e61fc35b459ee4a"
       ],
       "layout": "IPY_MODEL_1b8c1055d2d143c8b45e5c2aeb044326",
       "tabbable": null,
       "tooltip": null
      }
     },
     "b02b5d92c01949769e61fc35b459ee4a": {
      "model_module": "@jupyter-widgets/output",
      "model_module_version": "1.0.0",
      "model_name": "OutputModel",
      "state": {
       "_dom_classes": [],
       "_model_module": "@jupyter-widgets/output",
       "_model_module_version": "1.0.0",
       "_model_name": "OutputModel",
       "_view_count": null,
       "_view_module": "@jupyter-widgets/output",
       "_view_module_version": "1.0.0",
       "_view_name": "OutputView",
       "layout": "IPY_MODEL_2f639779a65a414a83f68506eff1d6cd",
       "msg_id": "",
       "outputs": [
        {
         "data": {
          "text/markdown": "`cmodsub_symb`",
          "text/plain": "<IPython.core.display.Markdown object>"
         },
         "metadata": {},
         "output_type": "display_data"
        },
        {
         "data": {
          "image/svg+xml": "<svg xmlns=\"http://www.w3.org/2000/svg\" xmlns:xlink=\"http://www.w3.org/1999/xlink\" width=\"239pt\" height=\"152pt\" viewBox=\"0.00 0.00 239.00 152.00\">\n<g id=\"graph0\" class=\"graph\" transform=\"scale(1 1) rotate(0) translate(4 148)\">\n<title>my_graph</title>\n<polygon fill=\"white\" stroke=\"transparent\" points=\"-4,4 -4,-148 235,-148 235,4 -4,4\"/>\n<!-- ctrl_G0 -->\n<g id=\"node1\" class=\"node\">\n<title>ctrl_G0</title>\n<text text-anchor=\"middle\" x=\"27\" y=\"-122.3\" font-family=\"Times,serif\" font-size=\"14.00\">ctrl</text>\n</g>\n<!-- CModSub -->\n<g id=\"node4\" class=\"node\">\n<title>CModSub</title>\n<polygon fill=\"none\" stroke=\"black\" points=\"91.5,-104 91.5,-121 140.5,-121 140.5,-104 91.5,-104\"/>\n<text text-anchor=\"start\" x=\"94.5\" y=\"-110\" font-family=\"Times,serif\" font-size=\"10.00\">CModSub</text>\n<polygon fill=\"none\" stroke=\"black\" points=\"91.5,-83 91.5,-104 140.5,-104 140.5,-83 91.5,-83\"/>\n<text text-anchor=\"start\" x=\"106.5\" y=\"-89.8\" font-family=\"Times,serif\" font-size=\"14.00\">ctrl</text>\n<polygon fill=\"none\" stroke=\"black\" points=\"91.5,-62 91.5,-83 140.5,-83 140.5,-62 91.5,-62\"/>\n<text text-anchor=\"start\" x=\"112.5\" y=\"-68.8\" font-family=\"Times,serif\" font-size=\"14.00\">x</text>\n<polygon fill=\"none\" stroke=\"black\" points=\"91.5,-41 91.5,-62 140.5,-62 140.5,-41 91.5,-41\"/>\n<text text-anchor=\"start\" x=\"112.5\" y=\"-47.8\" font-family=\"Times,serif\" font-size=\"14.00\">y</text>\n</g>\n<!-- ctrl_G0&#45;&gt;CModSub -->\n<g id=\"edge1\" class=\"edge\">\n<title>ctrl_G0:e-&gt;CModSub:w</title>\n<path fill=\"none\" stroke=\"black\" d=\"M54,-126C74.89,-126 69.72,-96.45 88.58,-94.14\"/>\n<ellipse fill=\"black\" stroke=\"black\" cx=\"90\" cy=\"-94.06\" rx=\"1\" ry=\"1\"/>\n<text text-anchor=\"middle\" x=\"72.5\" y=\"-113\" font-family=\"Times,serif\" font-size=\"10.00\">1</text>\n</g>\n<!-- x_G4 -->\n<g id=\"node2\" class=\"node\">\n<title>x_G4</title>\n<text text-anchor=\"middle\" x=\"27\" y=\"-68.3\" font-family=\"Times,serif\" font-size=\"14.00\">x</text>\n</g>\n<!-- x_G4&#45;&gt;CModSub -->\n<g id=\"edge2\" class=\"edge\">\n<title>x_G4:e-&gt;CModSub:w</title>\n<path fill=\"none\" stroke=\"black\" d=\"M54,-72C69.67,-72 74.14,-72 88.77,-72\"/>\n<ellipse fill=\"black\" stroke=\"black\" cx=\"90\" cy=\"-72\" rx=\"1\" ry=\"1\"/>\n<text text-anchor=\"middle\" x=\"72.5\" y=\"-75\" font-family=\"Times,serif\" font-size=\"10.00\">n</text>\n</g>\n<!-- y_G8 -->\n<g id=\"node3\" class=\"node\">\n<title>y_G8</title>\n<text text-anchor=\"middle\" x=\"27\" y=\"-14.3\" font-family=\"Times,serif\" font-size=\"14.00\">y</text>\n</g>\n<!-- y_G8&#45;&gt;CModSub -->\n<g id=\"edge3\" class=\"edge\">\n<title>y_G8:e-&gt;CModSub:w</title>\n<path fill=\"none\" stroke=\"black\" d=\"M54,-18C75.17,-18 69.47,-48.47 88.55,-50.85\"/>\n<ellipse fill=\"black\" stroke=\"black\" cx=\"90\" cy=\"-50.94\" rx=\"1\" ry=\"1\"/>\n<text text-anchor=\"middle\" x=\"72.5\" y=\"-39\" font-family=\"Times,serif\" font-size=\"10.00\">n</text>\n</g>\n<!-- ctrl_G7 -->\n<g id=\"node5\" class=\"node\">\n<title>ctrl_G7</title>\n<text text-anchor=\"middle\" x=\"204\" y=\"-122.3\" font-family=\"Times,serif\" font-size=\"14.00\">ctrl</text>\n</g>\n<!-- CModSub&#45;&gt;ctrl_G7 -->\n<g id=\"edge4\" class=\"edge\">\n<title>CModSub:e-&gt;ctrl_G7:w</title>\n<path fill=\"none\" stroke=\"black\" d=\"M140,-94C160.89,-94 155.72,-123.55 174.58,-125.86\"/>\n<ellipse fill=\"black\" stroke=\"black\" cx=\"176\" cy=\"-125.94\" rx=\"1\" ry=\"1\"/>\n<text text-anchor=\"middle\" x=\"158.5\" y=\"-113\" font-family=\"Times,serif\" font-size=\"10.00\">1</text>\n</g>\n<!-- x_G1 -->\n<g id=\"node6\" class=\"node\">\n<title>x_G1</title>\n<text text-anchor=\"middle\" x=\"204\" y=\"-68.3\" font-family=\"Times,serif\" font-size=\"14.00\">x</text>\n</g>\n<!-- CModSub&#45;&gt;x_G1 -->\n<g id=\"edge5\" class=\"edge\">\n<title>CModSub:e-&gt;x_G1:w</title>\n<path fill=\"none\" stroke=\"black\" d=\"M140,-72C155.67,-72 160.14,-72 174.77,-72\"/>\n<ellipse fill=\"black\" stroke=\"black\" cx=\"176\" cy=\"-72\" rx=\"1\" ry=\"1\"/>\n<text text-anchor=\"middle\" x=\"158.5\" y=\"-75\" font-family=\"Times,serif\" font-size=\"10.00\">n</text>\n</g>\n<!-- y_G3 -->\n<g id=\"node7\" class=\"node\">\n<title>y_G3</title>\n<text text-anchor=\"middle\" x=\"204\" y=\"-14.3\" font-family=\"Times,serif\" font-size=\"14.00\">y</text>\n</g>\n<!-- CModSub&#45;&gt;y_G3 -->\n<g id=\"edge6\" class=\"edge\">\n<title>CModSub:e-&gt;y_G3:w</title>\n<path fill=\"none\" stroke=\"black\" d=\"M140,-51C161.17,-51 155.47,-20.53 174.55,-18.15\"/>\n<ellipse fill=\"black\" stroke=\"black\" cx=\"176\" cy=\"-18.06\" rx=\"1\" ry=\"1\"/>\n<text text-anchor=\"middle\" x=\"158.5\" y=\"-39\" font-family=\"Times,serif\" font-size=\"10.00\">n</text>\n</g>\n</g>\n</svg>",
          "text/plain": "<IPython.core.display.SVG object>"
         },
         "metadata": {},
         "output_type": "display_data"
        }
       ],
       "tabbable": null,
       "tooltip": null
      }
     },
     "cade5d70b1684a2296d0c90b08ee36d7": {
      "model_module": "@jupyter-widgets/output",
      "model_module_version": "1.0.0",
      "model_name": "OutputModel",
      "state": {
       "_dom_classes": [],
       "_model_module": "@jupyter-widgets/output",
       "_model_module_version": "1.0.0",
       "_model_name": "OutputModel",
       "_view_count": null,
       "_view_module": "@jupyter-widgets/output",
       "_view_module_version": "1.0.0",
       "_view_name": "OutputView",
       "layout": "IPY_MODEL_2991cfd977364216960a670c9725ea6a",
       "msg_id": "",
       "outputs": [
        {
         "data": {
          "text/markdown": "`modsub_symb`",
          "text/plain": "<IPython.core.display.Markdown object>"
         },
         "metadata": {},
         "output_type": "display_data"
        },
        {
         "data": {
          "image/svg+xml": "<svg xmlns=\"http://www.w3.org/2000/svg\" xmlns:xlink=\"http://www.w3.org/1999/xlink\" width=\"232pt\" height=\"98pt\" viewBox=\"0.00 0.00 232.00 98.00\">\n<g id=\"graph0\" class=\"graph\" transform=\"scale(1 1) rotate(0) translate(4 94)\">\n<title>my_graph</title>\n<polygon fill=\"white\" stroke=\"transparent\" points=\"-4,4 -4,-94 228,-94 228,4 -4,4\"/>\n<!-- x_G0 -->\n<g id=\"node1\" class=\"node\">\n<title>x_G0</title>\n<text text-anchor=\"middle\" x=\"27\" y=\"-68.3\" font-family=\"Times,serif\" font-size=\"14.00\">x</text>\n</g>\n<!-- ModSub -->\n<g id=\"node3\" class=\"node\">\n<title>ModSub</title>\n<polygon fill=\"none\" stroke=\"black\" points=\"91,-66 91,-83 133,-83 133,-66 91,-66\"/>\n<text text-anchor=\"start\" x=\"94\" y=\"-72\" font-family=\"Times,serif\" font-size=\"10.00\">ModSub</text>\n<polygon fill=\"none\" stroke=\"black\" points=\"91,-45 91,-66 133,-66 133,-45 91,-45\"/>\n<text text-anchor=\"start\" x=\"108.5\" y=\"-51.8\" font-family=\"Times,serif\" font-size=\"14.00\">x</text>\n<polygon fill=\"none\" stroke=\"black\" points=\"91,-24 91,-45 133,-45 133,-24 91,-24\"/>\n<text text-anchor=\"start\" x=\"108.5\" y=\"-30.8\" font-family=\"Times,serif\" font-size=\"14.00\">y</text>\n</g>\n<!-- x_G0&#45;&gt;ModSub -->\n<g id=\"edge1\" class=\"edge\">\n<title>x_G0:e-&gt;ModSub:w</title>\n<path fill=\"none\" stroke=\"black\" d=\"M54,-72C71.22,-72 72.97,-57.23 88.98,-56.07\"/>\n<ellipse fill=\"black\" stroke=\"black\" cx=\"90\" cy=\"-56.04\" rx=\"1\" ry=\"1\"/>\n<text text-anchor=\"middle\" x=\"72.5\" y=\"-67\" font-family=\"Times,serif\" font-size=\"10.00\">n</text>\n</g>\n<!-- y_G4 -->\n<g id=\"node2\" class=\"node\">\n<title>y_G4</title>\n<text text-anchor=\"middle\" x=\"27\" y=\"-14.3\" font-family=\"Times,serif\" font-size=\"14.00\">y</text>\n</g>\n<!-- y_G4&#45;&gt;ModSub -->\n<g id=\"edge2\" class=\"edge\">\n<title>y_G4:e-&gt;ModSub:w</title>\n<path fill=\"none\" stroke=\"black\" d=\"M54,-18C71.22,-18 72.97,-32.77 88.98,-33.93\"/>\n<ellipse fill=\"black\" stroke=\"black\" cx=\"90\" cy=\"-33.96\" rx=\"1\" ry=\"1\"/>\n<text text-anchor=\"middle\" x=\"72.5\" y=\"-29\" font-family=\"Times,serif\" font-size=\"10.00\">n</text>\n</g>\n<!-- x_G1 -->\n<g id=\"node4\" class=\"node\">\n<title>x_G1</title>\n<text text-anchor=\"middle\" x=\"197\" y=\"-68.3\" font-family=\"Times,serif\" font-size=\"14.00\">x</text>\n</g>\n<!-- ModSub&#45;&gt;x_G1 -->\n<g id=\"edge3\" class=\"edge\">\n<title>ModSub:e-&gt;x_G1:w</title>\n<path fill=\"none\" stroke=\"black\" d=\"M133,-56C150.22,-56 151.97,-70.77 167.98,-71.93\"/>\n<ellipse fill=\"black\" stroke=\"black\" cx=\"169\" cy=\"-71.96\" rx=\"1\" ry=\"1\"/>\n<text text-anchor=\"middle\" x=\"151.5\" y=\"-67\" font-family=\"Times,serif\" font-size=\"10.00\">n</text>\n</g>\n<!-- y_G5 -->\n<g id=\"node5\" class=\"node\">\n<title>y_G5</title>\n<text text-anchor=\"middle\" x=\"197\" y=\"-14.3\" font-family=\"Times,serif\" font-size=\"14.00\">y</text>\n</g>\n<!-- ModSub&#45;&gt;y_G5 -->\n<g id=\"edge4\" class=\"edge\">\n<title>ModSub:e-&gt;y_G5:w</title>\n<path fill=\"none\" stroke=\"black\" d=\"M133,-34C150.22,-34 151.97,-19.23 167.98,-18.07\"/>\n<ellipse fill=\"black\" stroke=\"black\" cx=\"169\" cy=\"-18.04\" rx=\"1\" ry=\"1\"/>\n<text text-anchor=\"middle\" x=\"151.5\" y=\"-29\" font-family=\"Times,serif\" font-size=\"10.00\">n</text>\n</g>\n</g>\n</svg>",
          "text/plain": "<IPython.core.display.SVG object>"
         },
         "metadata": {},
         "output_type": "display_data"
        }
       ],
       "tabbable": null,
       "tooltip": null
      }
     },
     "d69c5881402542afa6555c1ccf19dcd7": {
      "model_module": "@jupyter-widgets/base",
      "model_module_version": "2.0.0",
      "model_name": "LayoutModel",
      "state": {
       "_model_module": "@jupyter-widgets/base",
       "_model_module_version": "2.0.0",
       "_model_name": "LayoutModel",
       "_view_count": null,
       "_view_module": "@jupyter-widgets/base",
       "_view_module_version": "2.0.0",
       "_view_name": "LayoutView",
       "align_content": null,
       "align_items": null,
       "align_self": null,
       "border_bottom": null,
       "border_left": null,
       "border_right": null,
       "border_top": null,
       "bottom": null,
       "display": null,
       "flex": null,
       "flex_flow": null,
       "grid_area": null,
       "grid_auto_columns": null,
       "grid_auto_flow": null,
       "grid_auto_rows": null,
       "grid_column": null,
       "grid_gap": null,
       "grid_row": null,
       "grid_template_areas": null,
       "grid_template_columns": null,
       "grid_template_rows": null,
       "height": null,
       "justify_content": null,
       "justify_items": null,
       "left": null,
       "margin": null,
       "max_height": null,
       "max_width": null,
       "min_height": null,
       "min_width": null,
       "object_fit": null,
       "object_position": null,
       "order": null,
       "overflow": null,
       "padding": null,
       "right": null,
       "top": null,
       "visibility": null,
       "width": null
      }
     },
     "d6e315496f4a49de9145878d5668a070": {
      "model_module": "@jupyter-widgets/base",
      "model_module_version": "2.0.0",
      "model_name": "LayoutModel",
      "state": {
       "_model_module": "@jupyter-widgets/base",
       "_model_module_version": "2.0.0",
       "_model_name": "LayoutModel",
       "_view_count": null,
       "_view_module": "@jupyter-widgets/base",
       "_view_module_version": "2.0.0",
       "_view_name": "LayoutView",
       "align_content": null,
       "align_items": null,
       "align_self": null,
       "border_bottom": null,
       "border_left": null,
       "border_right": null,
       "border_top": null,
       "bottom": null,
       "display": null,
       "flex": null,
       "flex_flow": null,
       "grid_area": null,
       "grid_auto_columns": null,
       "grid_auto_flow": null,
       "grid_auto_rows": null,
       "grid_column": null,
       "grid_gap": null,
       "grid_row": null,
       "grid_template_areas": null,
       "grid_template_columns": null,
       "grid_template_rows": null,
       "height": null,
       "justify_content": null,
       "justify_items": null,
       "left": null,
       "margin": null,
       "max_height": null,
       "max_width": null,
       "min_height": null,
       "min_width": null,
       "object_fit": null,
       "object_position": null,
       "order": null,
       "overflow": null,
       "padding": null,
       "right": null,
       "top": null,
       "visibility": null,
       "width": null
      }
     },
     "e468f60a9e9f4c6184e597f364c3f756": {
      "model_module": "@jupyter-widgets/controls",
      "model_module_version": "2.0.0",
      "model_name": "HBoxModel",
      "state": {
       "_dom_classes": [],
       "_model_module": "@jupyter-widgets/controls",
       "_model_module_version": "2.0.0",
       "_model_name": "HBoxModel",
       "_view_count": null,
       "_view_module": "@jupyter-widgets/controls",
       "_view_module_version": "2.0.0",
       "_view_name": "HBoxView",
       "box_style": "",
       "children": [
        "IPY_MODEL_cade5d70b1684a2296d0c90b08ee36d7"
       ],
       "layout": "IPY_MODEL_204ac568d8c14628b489f02ec1cf48fe",
       "tabbable": null,
       "tooltip": null
      }
     },
     "ecc4c882f39a47558a07edca72fcb1e3": {
      "model_module": "@jupyter-widgets/controls",
      "model_module_version": "2.0.0",
      "model_name": "HBoxModel",
      "state": {
       "_dom_classes": [],
       "_model_module": "@jupyter-widgets/controls",
       "_model_module_version": "2.0.0",
       "_model_name": "HBoxModel",
       "_view_count": null,
       "_view_module": "@jupyter-widgets/controls",
       "_view_module_version": "2.0.0",
       "_view_name": "HBoxView",
       "box_style": "",
       "children": [
        "IPY_MODEL_1ef0815c9a254d6db5a0f13d12708e92"
       ],
       "layout": "IPY_MODEL_d69c5881402542afa6555c1ccf19dcd7",
       "tabbable": null,
       "tooltip": null
      }
     }
    },
    "version_major": 2,
    "version_minor": 0
   }
  }
 },
 "nbformat": 4,
 "nbformat_minor": 5
}
