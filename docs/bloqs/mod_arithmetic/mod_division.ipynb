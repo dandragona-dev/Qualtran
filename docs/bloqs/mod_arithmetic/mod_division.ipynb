{
 "cells": [
  {
   "cell_type": "markdown",
   "id": "1c5f2b28",
   "metadata": {
    "cq.autogen": "title_cell"
   },
   "source": [
    "# Modular Divison"
   ]
  },
  {
   "cell_type": "code",
   "execution_count": 1,
   "id": "8751aa36",
   "metadata": {
    "cq.autogen": "top_imports"
   },
   "outputs": [],
   "source": [
    "from qualtran import Bloq, CompositeBloq, BloqBuilder, Signature, Register\n",
    "from qualtran import QBit, QInt, QUInt, QAny\n",
    "from qualtran.drawing import show_bloq, show_call_graph, show_counts_sigma\n",
    "from typing import *\n",
    "import numpy as np\n",
    "import sympy\n",
    "import cirq"
   ]
  },
  {
   "cell_type": "markdown",
   "id": "d680443c",
   "metadata": {
    "cq.autogen": "KaliskiModInverse.bloq_doc.md"
   },
   "source": [
    "## `KaliskiModInverse`\n",
    "Compute modular multiplicative inverse -inplace- of numbers in montgomery form.\n",
    "\n",
    "Applies the transformation\n",
    "$$\n",
    "    \\ket{x} \\ket{0} \\rightarrow \\ket{x^{-1} 2^{2n} \\mod p} \\ket{\\mathrm{garbage}}\n",
    "$$\n",
    "\n",
    "#### Parameters\n",
    " - `bitsize`: size of the number.\n",
    " - `mod`: The integer modulus.\n",
    " - `uncompute`: whether to compute or uncompute. \n",
    "\n",
    "#### Registers\n",
    " - `x`: The register for which we compute the multiplicative inverse.\n",
    " - `m`: A 2*bitsize register of intermediate values needed for uncomputation. \n",
    "\n",
    "#### References\n",
    " - [Performance Analysis of a Repetition Cat Code Architecture: Computing 256-bit Elliptic Curve Logarithm in 9 Hours with 126 133 Cat Qubits](https://arxiv.org/abs/2302.06639).     Appendix C5.\n",
    " - [Improved quantum circuits for elliptic curve discrete logarithms](https://arxiv.org/abs/2001.09580).     Fig 7(b)\n",
    " - [How to compute a 256-bit elliptic curve private key with only 50 million Toffoli gates](https://arxiv.org/abs/2306.08585).     page 8.\n"
   ]
  },
  {
   "cell_type": "code",
   "execution_count": 2,
   "id": "f5917d72",
   "metadata": {
    "cq.autogen": "KaliskiModInverse.bloq_doc.py"
   },
   "outputs": [],
   "source": [
    "from qualtran.bloqs.mod_arithmetic import KaliskiModInverse"
   ]
  },
  {
   "cell_type": "markdown",
   "id": "d44329eb",
   "metadata": {
    "cq.autogen": "KaliskiModInverse.example_instances.md"
   },
   "source": [
    "### Example Instances"
   ]
  },
  {
   "cell_type": "code",
   "execution_count": 3,
   "id": "31a37cf6",
   "metadata": {
    "cq.autogen": "KaliskiModInverse.kaliskimodinverse_example"
   },
   "outputs": [],
   "source": [
    "kaliskimodinverse_example = KaliskiModInverse(32, 10**9 + 7)"
   ]
  },
  {
   "cell_type": "code",
   "execution_count": 4,
   "id": "58c697e6",
   "metadata": {
    "cq.autogen": "KaliskiModInverse.kaliskimodinverse_symbolic"
   },
   "outputs": [],
   "source": [
    "n, p = sympy.symbols('n p')\n",
    "kaliskimodinverse_symbolic = KaliskiModInverse(n, p)"
   ]
  },
  {
   "cell_type": "markdown",
   "id": "9bf1e17c",
   "metadata": {
    "cq.autogen": "KaliskiModInverse.graphical_signature.md"
   },
   "source": [
    "#### Graphical Signature"
   ]
  },
  {
   "cell_type": "code",
   "execution_count": 5,
   "id": "eca3a706",
   "metadata": {
    "cq.autogen": "KaliskiModInverse.graphical_signature.py"
   },
   "outputs": [
    {
     "data": {
      "application/vnd.jupyter.widget-view+json": {
       "model_id": "dce8f377e3834c8991d76c076e3e01e7",
       "version_major": 2,
       "version_minor": 0
      },
      "text/plain": [
       "HBox(children=(Output(outputs=({'output_type': 'display_data', 'data': {'text/plain': '<IPython.core.display.M…"
      ]
     },
     "metadata": {},
     "output_type": "display_data"
    }
   ],
   "source": [
    "from qualtran.drawing import show_bloqs\n",
    "show_bloqs([kaliskimodinverse_example, kaliskimodinverse_symbolic],\n",
    "           ['`kaliskimodinverse_example`', '`kaliskimodinverse_symbolic`'])"
   ]
  },
  {
   "cell_type": "markdown",
   "id": "69fd8906",
   "metadata": {
    "cq.autogen": "KaliskiModInverse.call_graph.md"
   },
   "source": [
    "### Call Graph"
   ]
  },
  {
   "cell_type": "code",
   "execution_count": 6,
   "id": "15c6fabe",
   "metadata": {
    "cq.autogen": "KaliskiModInverse.call_graph.py"
   },
   "outputs": [
    {
     "data": {
      "image/svg+xml": [
       "<svg xmlns=\"http://www.w3.org/2000/svg\" xmlns:xlink=\"http://www.w3.org/1999/xlink\" width=\"658pt\" height=\"131pt\" viewBox=\"0.00 0.00 658.00 131.00\">\n",
       "<g id=\"graph0\" class=\"graph\" transform=\"scale(1 1) rotate(0) translate(4 127)\">\n",
       "<title>counts</title>\n",
       "<polygon fill=\"white\" stroke=\"transparent\" points=\"-4,4 -4,-127 654,-127 654,4 -4,4\"/>\n",
       "<!-- b0 -->\n",
       "<g id=\"node1\" class=\"node\">\n",
       "<title>b0</title>\n",
       "<polygon fill=\"none\" stroke=\"black\" points=\"300,-93 300,-116 392,-116 392,-93 300,-93\"/>\n",
       "<text text-anchor=\"start\" x=\"306.5\" y=\"-102\" font-family=\"Times,serif\" font-size=\"10.00\">KaliskiModInverse</text>\n",
       "</g>\n",
       "<!-- b1 -->\n",
       "<g id=\"node2\" class=\"node\">\n",
       "<title>b1</title>\n",
       "<polygon fill=\"none\" stroke=\"black\" points=\"8,-6 8,-29 90,-29 90,-6 8,-6\"/>\n",
       "<text text-anchor=\"start\" x=\"14\" y=\"-15\" font-family=\"Times,serif\" font-size=\"10.00\">_KaliskiIteration</text>\n",
       "</g>\n",
       "<!-- b0&#45;&gt;b1 -->\n",
       "<g id=\"edge1\" class=\"edge\">\n",
       "<title>b0-&gt;b1</title>\n",
       "<path fill=\"none\" stroke=\"black\" d=\"M291.83,-88.94C269.83,-82.8 244.19,-75.6 221,-69 173.14,-55.37 159.19,-51.22 107.73,-36.21\"/>\n",
       "<polygon fill=\"black\" stroke=\"black\" points=\"108.62,-32.83 98.04,-33.39 106.67,-39.55 108.62,-32.83\"/>\n",
       "<text text-anchor=\"middle\" x=\"228\" y=\"-57.8\" font-family=\"Times,serif\" font-size=\"14.00\">64</text>\n",
       "</g>\n",
       "<!-- b2 -->\n",
       "<g id=\"node3\" class=\"node\">\n",
       "<title>b2</title>\n",
       "<polygon fill=\"none\" stroke=\"black\" points=\"124,-6 124,-29 184,-29 184,-6 124,-6\"/>\n",
       "<text text-anchor=\"start\" x=\"130\" y=\"-15\" font-family=\"Times,serif\" font-size=\"10.00\">BitwiseNot</text>\n",
       "</g>\n",
       "<!-- b0&#45;&gt;b2 -->\n",
       "<g id=\"edge2\" class=\"edge\">\n",
       "<title>b0-&gt;b2</title>\n",
       "<path fill=\"none\" stroke=\"black\" d=\"M307.15,-86.8C276.63,-73.29 234,-54.42 201.46,-40.01\"/>\n",
       "<polygon fill=\"black\" stroke=\"black\" points=\"202.7,-36.73 192.14,-35.89 199.87,-43.13 202.7,-36.73\"/>\n",
       "<text text-anchor=\"middle\" x=\"265.5\" y=\"-57.8\" font-family=\"Times,serif\" font-size=\"14.00\">1</text>\n",
       "</g>\n",
       "<!-- b3 -->\n",
       "<g id=\"node4\" class=\"node\">\n",
       "<title>b3</title>\n",
       "<polygon fill=\"none\" stroke=\"black\" points=\"218,-6 218,-29 256,-29 256,-6 218,-6\"/>\n",
       "<text text-anchor=\"start\" x=\"224\" y=\"-15\" font-family=\"Times,serif\" font-size=\"10.00\">AddK</text>\n",
       "</g>\n",
       "<!-- b0&#45;&gt;b3 -->\n",
       "<g id=\"edge3\" class=\"edge\">\n",
       "<title>b0-&gt;b3</title>\n",
       "<path fill=\"none\" stroke=\"black\" d=\"M323.94,-86.8C307.54,-74.01 284.98,-56.42 266.95,-42.36\"/>\n",
       "<polygon fill=\"black\" stroke=\"black\" points=\"269.06,-39.56 259.02,-36.18 264.76,-45.08 269.06,-39.56\"/>\n",
       "<text text-anchor=\"middle\" x=\"302.5\" y=\"-57.8\" font-family=\"Times,serif\" font-size=\"14.00\">1</text>\n",
       "</g>\n",
       "<!-- b4 -->\n",
       "<g id=\"node5\" class=\"node\">\n",
       "<title>b4</title>\n",
       "<polygon fill=\"none\" stroke=\"black\" points=\"290,-6 290,-29 330,-29 330,-6 290,-6\"/>\n",
       "<text text-anchor=\"start\" x=\"296\" y=\"-15\" font-family=\"Times,serif\" font-size=\"10.00\">XGate</text>\n",
       "</g>\n",
       "<!-- b0&#45;&gt;b4 -->\n",
       "<g id=\"edge4\" class=\"edge\">\n",
       "<title>b0-&gt;b4</title>\n",
       "<path fill=\"none\" stroke=\"black\" d=\"M338.71,-86.8C333.69,-74.93 326.91,-58.93 321.2,-45.45\"/>\n",
       "<polygon fill=\"black\" stroke=\"black\" points=\"324.4,-44.02 317.27,-36.18 317.95,-46.75 324.4,-44.02\"/>\n",
       "<text text-anchor=\"middle\" x=\"334.5\" y=\"-57.8\" font-family=\"Times,serif\" font-size=\"14.00\">1</text>\n",
       "</g>\n",
       "<!-- b5 -->\n",
       "<g id=\"node6\" class=\"node\">\n",
       "<title>b5</title>\n",
       "<polygon fill=\"none\" stroke=\"black\" points=\"365,-6 365,-29 401,-29 401,-6 365,-6\"/>\n",
       "<text text-anchor=\"start\" x=\"371\" y=\"-15\" font-family=\"Times,serif\" font-size=\"10.00\">XorK</text>\n",
       "</g>\n",
       "<!-- b0&#45;&gt;b5 -->\n",
       "<g id=\"edge5\" class=\"edge\">\n",
       "<title>b0-&gt;b5</title>\n",
       "<path fill=\"none\" stroke=\"black\" d=\"M353.49,-86.8C358.65,-74.93 365.62,-58.93 371.49,-45.45\"/>\n",
       "<polygon fill=\"black\" stroke=\"black\" points=\"374.74,-46.74 375.52,-36.18 368.32,-43.95 374.74,-46.74\"/>\n",
       "<text text-anchor=\"middle\" x=\"370.5\" y=\"-57.8\" font-family=\"Times,serif\" font-size=\"14.00\">2</text>\n",
       "</g>\n",
       "<!-- b6 -->\n",
       "<g id=\"node7\" class=\"node\">\n",
       "<title>b6</title>\n",
       "<polygon fill=\"none\" stroke=\"black\" points=\"437,-6 437,-29 473,-29 473,-6 437,-6\"/>\n",
       "<text text-anchor=\"start\" x=\"443\" y=\"-15\" font-family=\"Times,serif\" font-size=\"10.00\">XorK</text>\n",
       "</g>\n",
       "<!-- b0&#45;&gt;b6 -->\n",
       "<g id=\"edge6\" class=\"edge\">\n",
       "<title>b0-&gt;b6</title>\n",
       "<path fill=\"none\" stroke=\"black\" d=\"M368.06,-86.8C384.46,-74.01 407.02,-56.42 425.05,-42.36\"/>\n",
       "<polygon fill=\"black\" stroke=\"black\" points=\"427.24,-45.08 432.98,-36.18 422.94,-39.56 427.24,-45.08\"/>\n",
       "<text text-anchor=\"middle\" x=\"410.5\" y=\"-57.8\" font-family=\"Times,serif\" font-size=\"14.00\">2</text>\n",
       "</g>\n",
       "<!-- b7 -->\n",
       "<g id=\"node8\" class=\"node\">\n",
       "<title>b7</title>\n",
       "<polygon fill=\"none\" stroke=\"black\" points=\"508,-6 508,-29 558,-29 558,-6 508,-6\"/>\n",
       "<text text-anchor=\"start\" x=\"514.5\" y=\"-15\" font-family=\"Times,serif\" font-size=\"10.00\">C[XorK]</text>\n",
       "</g>\n",
       "<!-- b0&#45;&gt;b7 -->\n",
       "<g id=\"edge7\" class=\"edge\">\n",
       "<title>b0-&gt;b7</title>\n",
       "<path fill=\"none\" stroke=\"black\" d=\"M383.84,-86.8C414.83,-72.71 458.64,-52.8 490.76,-38.2\"/>\n",
       "<polygon fill=\"black\" stroke=\"black\" points=\"492.25,-41.37 499.91,-34.04 489.36,-34.99 492.25,-41.37\"/>\n",
       "<text text-anchor=\"middle\" x=\"453.5\" y=\"-57.8\" font-family=\"Times,serif\" font-size=\"14.00\">1</text>\n",
       "</g>\n",
       "<!-- b8 -->\n",
       "<g id=\"node9\" class=\"node\">\n",
       "<title>b8</title>\n",
       "<polygon fill=\"none\" stroke=\"black\" points=\"592,-6 592,-29 642,-29 642,-6 592,-6\"/>\n",
       "<text text-anchor=\"start\" x=\"598.5\" y=\"-15\" font-family=\"Times,serif\" font-size=\"10.00\">C[XorK]</text>\n",
       "</g>\n",
       "<!-- b0&#45;&gt;b8 -->\n",
       "<g id=\"edge8\" class=\"edge\">\n",
       "<title>b0-&gt;b8</title>\n",
       "<path fill=\"none\" stroke=\"black\" d=\"M400.14,-89.5C444.65,-77.23 509.47,-58.54 574.11,-36.17\"/>\n",
       "<polygon fill=\"black\" stroke=\"black\" points=\"575.35,-39.44 583.64,-32.84 573.04,-32.83 575.35,-39.44\"/>\n",
       "<text text-anchor=\"middle\" x=\"522.5\" y=\"-57.8\" font-family=\"Times,serif\" font-size=\"14.00\">2</text>\n",
       "</g>\n",
       "</g>\n",
       "</svg>"
      ],
      "text/plain": [
       "<IPython.core.display.SVG object>"
      ]
     },
     "metadata": {},
     "output_type": "display_data"
    },
    {
     "data": {
      "text/markdown": [
       "#### Counts totals:\n",
       " - `AddK`: 1\n",
       " - `BitwiseNot`: 1\n",
       " - `C[XorK]`: 1\n",
       " - `C[XorK]`: 2\n",
       " - `XGate`: 1\n",
       " - `XorK`: 2\n",
       " - `XorK`: 2\n",
       " - `_KaliskiIteration`: 64"
      ],
      "text/plain": [
       "<IPython.core.display.Markdown object>"
      ]
     },
     "metadata": {},
     "output_type": "display_data"
    }
   ],
   "source": [
    "from qualtran.resource_counting.generalizers import ignore_split_join\n",
    "kaliskimodinverse_example_g, kaliskimodinverse_example_sigma = kaliskimodinverse_example.call_graph(max_depth=1, generalizer=ignore_split_join)\n",
    "show_call_graph(kaliskimodinverse_example_g)\n",
    "show_counts_sigma(kaliskimodinverse_example_sigma)"
   ]
  }
 ],
 "metadata": {
  "kernelspec": {
   "display_name": "Python 3",
   "language": "python",
   "name": "python3"
  },
  "language_info": {
   "codemirror_mode": {
    "name": "ipython",
    "version": 3
   },
   "file_extension": ".py",
   "mimetype": "text/x-python",
   "name": "python",
   "nbconvert_exporter": "python",
   "pygments_lexer": "ipython3",
   "version": "3.11.8"
  },
  "widgets": {
   "application/vnd.jupyter.widget-state+json": {
    "state": {
     "21dca93177c746fda93f73640372bbda": {
      "model_module": "@jupyter-widgets/output",
      "model_module_version": "1.0.0",
      "model_name": "OutputModel",
      "state": {
       "_dom_classes": [],
       "_model_module": "@jupyter-widgets/output",
       "_model_module_version": "1.0.0",
       "_model_name": "OutputModel",
       "_view_count": null,
       "_view_module": "@jupyter-widgets/output",
       "_view_module_version": "1.0.0",
       "_view_name": "OutputView",
       "layout": "IPY_MODEL_dd1b1b9b5fa94777926b38a49a21f210",
       "msg_id": "",
       "outputs": [
        {
         "data": {
          "text/markdown": "`kaliskimodinverse_example`",
          "text/plain": "<IPython.core.display.Markdown object>"
         },
         "metadata": {},
         "output_type": "display_data"
        },
        {
         "data": {
          "image/svg+xml": "<svg xmlns=\"http://www.w3.org/2000/svg\" xmlns:xlink=\"http://www.w3.org/1999/xlink\" width=\"275pt\" height=\"98pt\" viewBox=\"0.00 0.00 275.00 98.00\">\n<g id=\"graph0\" class=\"graph\" transform=\"scale(1 1) rotate(0) translate(4 94)\">\n<title>my_graph</title>\n<polygon fill=\"white\" stroke=\"transparent\" points=\"-4,4 -4,-94 271,-94 271,4 -4,4\"/>\n<!-- x_G2 -->\n<g id=\"node1\" class=\"node\">\n<title>x_G2</title>\n<text text-anchor=\"middle\" x=\"27\" y=\"-52.3\" font-family=\"Times,serif\" font-size=\"14.00\">x</text>\n</g>\n<!-- KaliskiModInverse -->\n<g id=\"node2\" class=\"node\">\n<title>KaliskiModInverse</title>\n<polygon fill=\"none\" stroke=\"black\" points=\"91.5,-66 91.5,-83 176.5,-83 176.5,-66 91.5,-66\"/>\n<text text-anchor=\"start\" x=\"94.5\" y=\"-72\" font-family=\"Times,serif\" font-size=\"10.00\">KaliskiModInverse</text>\n<polygon fill=\"none\" stroke=\"black\" points=\"91.5,-45 91.5,-66 176.5,-66 176.5,-45 91.5,-45\"/>\n<text text-anchor=\"start\" x=\"130.5\" y=\"-51.8\" font-family=\"Times,serif\" font-size=\"14.00\">x</text>\n<polygon fill=\"none\" stroke=\"black\" points=\"91.5,-24 91.5,-45 121.5,-45 121.5,-24 91.5,-24\"/>\n<polygon fill=\"none\" stroke=\"black\" points=\"121.5,-24 121.5,-45 176.5,-45 176.5,-24 121.5,-24\"/>\n<text text-anchor=\"start\" x=\"136.5\" y=\"-30.8\" font-family=\"Times,serif\" font-size=\"14.00\">junk</text>\n</g>\n<!-- x_G2&#45;&gt;KaliskiModInverse -->\n<g id=\"edge1\" class=\"edge\">\n<title>x_G2:e-&gt;KaliskiModInverse:w</title>\n<path fill=\"none\" stroke=\"black\" d=\"M54,-56C69.67,-56 74.14,-56 88.77,-56\"/>\n<ellipse fill=\"black\" stroke=\"black\" cx=\"90\" cy=\"-56\" rx=\"1\" ry=\"1\"/>\n<text text-anchor=\"middle\" x=\"72.5\" y=\"-59\" font-family=\"Times,serif\" font-size=\"10.00\">32</text>\n</g>\n<!-- x_G3 -->\n<g id=\"node3\" class=\"node\">\n<title>x_G3</title>\n<text text-anchor=\"middle\" x=\"240\" y=\"-68.3\" font-family=\"Times,serif\" font-size=\"14.00\">x</text>\n</g>\n<!-- KaliskiModInverse&#45;&gt;x_G3 -->\n<g id=\"edge2\" class=\"edge\">\n<title>KaliskiModInverse:e-&gt;x_G3:w</title>\n<path fill=\"none\" stroke=\"black\" d=\"M176,-56C193.22,-56 194.97,-70.77 210.98,-71.93\"/>\n<ellipse fill=\"black\" stroke=\"black\" cx=\"212\" cy=\"-71.96\" rx=\"1\" ry=\"1\"/>\n<text text-anchor=\"middle\" x=\"194.5\" y=\"-67\" font-family=\"Times,serif\" font-size=\"10.00\">32</text>\n</g>\n<!-- junk_G4 -->\n<g id=\"node4\" class=\"node\">\n<title>junk_G4</title>\n<text text-anchor=\"middle\" x=\"240\" y=\"-14.3\" font-family=\"Times,serif\" font-size=\"14.00\">junk</text>\n</g>\n<!-- KaliskiModInverse&#45;&gt;junk_G4 -->\n<g id=\"edge3\" class=\"edge\">\n<title>KaliskiModInverse:e-&gt;junk_G4:w</title>\n<path fill=\"none\" stroke=\"black\" d=\"M176,-34C193.22,-34 194.97,-19.23 210.98,-18.07\"/>\n<ellipse fill=\"black\" stroke=\"black\" cx=\"212\" cy=\"-18.04\" rx=\"1\" ry=\"1\"/>\n<text text-anchor=\"middle\" x=\"194.5\" y=\"-29\" font-family=\"Times,serif\" font-size=\"10.00\">128</text>\n</g>\n</g>\n</svg>",
          "text/plain": "<IPython.core.display.SVG object>"
         },
         "metadata": {},
         "output_type": "display_data"
        }
       ],
       "tabbable": null,
       "tooltip": null
      }
     },
     "6cab65e712444401b82b658228025ea9": {
      "model_module": "@jupyter-widgets/output",
      "model_module_version": "1.0.0",
      "model_name": "OutputModel",
      "state": {
       "_dom_classes": [],
       "_model_module": "@jupyter-widgets/output",
       "_model_module_version": "1.0.0",
       "_model_name": "OutputModel",
       "_view_count": null,
       "_view_module": "@jupyter-widgets/output",
       "_view_module_version": "1.0.0",
       "_view_name": "OutputView",
       "layout": "IPY_MODEL_ffb3184b272f4a789810875067d23436",
       "msg_id": "",
       "outputs": [
        {
         "data": {
          "text/markdown": "`kaliskimodinverse_symbolic`",
          "text/plain": "<IPython.core.display.Markdown object>"
         },
         "metadata": {},
         "output_type": "display_data"
        },
        {
         "data": {
          "image/svg+xml": "<svg xmlns=\"http://www.w3.org/2000/svg\" xmlns:xlink=\"http://www.w3.org/1999/xlink\" width=\"275pt\" height=\"98pt\" viewBox=\"0.00 0.00 275.00 98.00\">\n<g id=\"graph0\" class=\"graph\" transform=\"scale(1 1) rotate(0) translate(4 94)\">\n<title>my_graph</title>\n<polygon fill=\"white\" stroke=\"transparent\" points=\"-4,4 -4,-94 271,-94 271,4 -4,4\"/>\n<!-- x_G4 -->\n<g id=\"node1\" class=\"node\">\n<title>x_G4</title>\n<text text-anchor=\"middle\" x=\"27\" y=\"-52.3\" font-family=\"Times,serif\" font-size=\"14.00\">x</text>\n</g>\n<!-- KaliskiModInverse -->\n<g id=\"node2\" class=\"node\">\n<title>KaliskiModInverse</title>\n<polygon fill=\"none\" stroke=\"black\" points=\"91.5,-66 91.5,-83 176.5,-83 176.5,-66 91.5,-66\"/>\n<text text-anchor=\"start\" x=\"94.5\" y=\"-72\" font-family=\"Times,serif\" font-size=\"10.00\">KaliskiModInverse</text>\n<polygon fill=\"none\" stroke=\"black\" points=\"91.5,-45 91.5,-66 176.5,-66 176.5,-45 91.5,-45\"/>\n<text text-anchor=\"start\" x=\"130.5\" y=\"-51.8\" font-family=\"Times,serif\" font-size=\"14.00\">x</text>\n<polygon fill=\"none\" stroke=\"black\" points=\"91.5,-24 91.5,-45 121.5,-45 121.5,-24 91.5,-24\"/>\n<polygon fill=\"none\" stroke=\"black\" points=\"121.5,-24 121.5,-45 176.5,-45 176.5,-24 121.5,-24\"/>\n<text text-anchor=\"start\" x=\"136.5\" y=\"-30.8\" font-family=\"Times,serif\" font-size=\"14.00\">junk</text>\n</g>\n<!-- x_G4&#45;&gt;KaliskiModInverse -->\n<g id=\"edge1\" class=\"edge\">\n<title>x_G4:e-&gt;KaliskiModInverse:w</title>\n<path fill=\"none\" stroke=\"black\" d=\"M54,-56C69.67,-56 74.14,-56 88.77,-56\"/>\n<ellipse fill=\"black\" stroke=\"black\" cx=\"90\" cy=\"-56\" rx=\"1\" ry=\"1\"/>\n<text text-anchor=\"middle\" x=\"72.5\" y=\"-59\" font-family=\"Times,serif\" font-size=\"10.00\">n</text>\n</g>\n<!-- x_G3 -->\n<g id=\"node3\" class=\"node\">\n<title>x_G3</title>\n<text text-anchor=\"middle\" x=\"240\" y=\"-68.3\" font-family=\"Times,serif\" font-size=\"14.00\">x</text>\n</g>\n<!-- KaliskiModInverse&#45;&gt;x_G3 -->\n<g id=\"edge2\" class=\"edge\">\n<title>KaliskiModInverse:e-&gt;x_G3:w</title>\n<path fill=\"none\" stroke=\"black\" d=\"M176,-56C193.22,-56 194.97,-70.77 210.98,-71.93\"/>\n<ellipse fill=\"black\" stroke=\"black\" cx=\"212\" cy=\"-71.96\" rx=\"1\" ry=\"1\"/>\n<text text-anchor=\"middle\" x=\"194.5\" y=\"-67\" font-family=\"Times,serif\" font-size=\"10.00\">n</text>\n</g>\n<!-- junk_G0 -->\n<g id=\"node4\" class=\"node\">\n<title>junk_G0</title>\n<text text-anchor=\"middle\" x=\"240\" y=\"-14.3\" font-family=\"Times,serif\" font-size=\"14.00\">junk</text>\n</g>\n<!-- KaliskiModInverse&#45;&gt;junk_G0 -->\n<g id=\"edge3\" class=\"edge\">\n<title>KaliskiModInverse:e-&gt;junk_G0:w</title>\n<path fill=\"none\" stroke=\"black\" d=\"M176,-34C193.22,-34 194.97,-19.23 210.98,-18.07\"/>\n<ellipse fill=\"black\" stroke=\"black\" cx=\"212\" cy=\"-18.04\" rx=\"1\" ry=\"1\"/>\n<text text-anchor=\"middle\" x=\"194.5\" y=\"-29\" font-family=\"Times,serif\" font-size=\"10.00\">4*n</text>\n</g>\n</g>\n</svg>",
          "text/plain": "<IPython.core.display.SVG object>"
         },
         "metadata": {},
         "output_type": "display_data"
        }
       ],
       "tabbable": null,
       "tooltip": null
      }
     },
     "9931f7b823fe4fa0935a7bd96db0573b": {
      "model_module": "@jupyter-widgets/base",
      "model_module_version": "2.0.0",
      "model_name": "LayoutModel",
      "state": {
       "_model_module": "@jupyter-widgets/base",
       "_model_module_version": "2.0.0",
       "_model_name": "LayoutModel",
       "_view_count": null,
       "_view_module": "@jupyter-widgets/base",
       "_view_module_version": "2.0.0",
       "_view_name": "LayoutView",
       "align_content": null,
       "align_items": null,
       "align_self": null,
       "border_bottom": null,
       "border_left": null,
       "border_right": null,
       "border_top": null,
       "bottom": null,
       "display": null,
       "flex": null,
       "flex_flow": null,
       "grid_area": null,
       "grid_auto_columns": null,
       "grid_auto_flow": null,
       "grid_auto_rows": null,
       "grid_column": null,
       "grid_gap": null,
       "grid_row": null,
       "grid_template_areas": null,
       "grid_template_columns": null,
       "grid_template_rows": null,
       "height": null,
       "justify_content": null,
       "justify_items": null,
       "left": null,
       "margin": null,
       "max_height": null,
       "max_width": null,
       "min_height": null,
       "min_width": null,
       "object_fit": null,
       "object_position": null,
       "order": null,
       "overflow": null,
       "padding": null,
       "right": null,
       "top": null,
       "visibility": null,
       "width": null
      }
     },
     "dce8f377e3834c8991d76c076e3e01e7": {
      "model_module": "@jupyter-widgets/controls",
      "model_module_version": "2.0.0",
      "model_name": "HBoxModel",
      "state": {
       "_dom_classes": [],
       "_model_module": "@jupyter-widgets/controls",
       "_model_module_version": "2.0.0",
       "_model_name": "HBoxModel",
       "_view_count": null,
       "_view_module": "@jupyter-widgets/controls",
       "_view_module_version": "2.0.0",
       "_view_name": "HBoxView",
       "box_style": "",
       "children": [
        "IPY_MODEL_21dca93177c746fda93f73640372bbda",
        "IPY_MODEL_6cab65e712444401b82b658228025ea9"
       ],
       "layout": "IPY_MODEL_9931f7b823fe4fa0935a7bd96db0573b",
       "tabbable": null,
       "tooltip": null
      }
     },
     "dd1b1b9b5fa94777926b38a49a21f210": {
      "model_module": "@jupyter-widgets/base",
      "model_module_version": "2.0.0",
      "model_name": "LayoutModel",
      "state": {
       "_model_module": "@jupyter-widgets/base",
       "_model_module_version": "2.0.0",
       "_model_name": "LayoutModel",
       "_view_count": null,
       "_view_module": "@jupyter-widgets/base",
       "_view_module_version": "2.0.0",
       "_view_name": "LayoutView",
       "align_content": null,
       "align_items": null,
       "align_self": null,
       "border_bottom": null,
       "border_left": null,
       "border_right": null,
       "border_top": null,
       "bottom": null,
       "display": null,
       "flex": null,
       "flex_flow": null,
       "grid_area": null,
       "grid_auto_columns": null,
       "grid_auto_flow": null,
       "grid_auto_rows": null,
       "grid_column": null,
       "grid_gap": null,
       "grid_row": null,
       "grid_template_areas": null,
       "grid_template_columns": null,
       "grid_template_rows": null,
       "height": null,
       "justify_content": null,
       "justify_items": null,
       "left": null,
       "margin": null,
       "max_height": null,
       "max_width": null,
       "min_height": null,
       "min_width": null,
       "object_fit": null,
       "object_position": null,
       "order": null,
       "overflow": null,
       "padding": null,
       "right": null,
       "top": null,
       "visibility": null,
       "width": null
      }
     },
     "ffb3184b272f4a789810875067d23436": {
      "model_module": "@jupyter-widgets/base",
      "model_module_version": "2.0.0",
      "model_name": "LayoutModel",
      "state": {
       "_model_module": "@jupyter-widgets/base",
       "_model_module_version": "2.0.0",
       "_model_name": "LayoutModel",
       "_view_count": null,
       "_view_module": "@jupyter-widgets/base",
       "_view_module_version": "2.0.0",
       "_view_name": "LayoutView",
       "align_content": null,
       "align_items": null,
       "align_self": null,
       "border_bottom": null,
       "border_left": null,
       "border_right": null,
       "border_top": null,
       "bottom": null,
       "display": null,
       "flex": null,
       "flex_flow": null,
       "grid_area": null,
       "grid_auto_columns": null,
       "grid_auto_flow": null,
       "grid_auto_rows": null,
       "grid_column": null,
       "grid_gap": null,
       "grid_row": null,
       "grid_template_areas": null,
       "grid_template_columns": null,
       "grid_template_rows": null,
       "height": null,
       "justify_content": null,
       "justify_items": null,
       "left": null,
       "margin": null,
       "max_height": null,
       "max_width": null,
       "min_height": null,
       "min_width": null,
       "object_fit": null,
       "object_position": null,
       "order": null,
       "overflow": null,
       "padding": null,
       "right": null,
       "top": null,
       "visibility": null,
       "width": null
      }
     }
    },
    "version_major": 2,
    "version_minor": 0
   }
  }
 },
 "nbformat": 4,
 "nbformat_minor": 5
}
