{
 "cells": [
  {
   "cell_type": "markdown",
   "id": "b574ea6d",
   "metadata": {
    "cq.autogen": "title_cell"
   },
   "source": [
    "# Modular Addition"
   ]
  },
  {
   "cell_type": "code",
   "execution_count": 1,
   "id": "0df46c1a",
   "metadata": {
    "cq.autogen": "top_imports"
   },
   "outputs": [],
   "source": [
    "from qualtran import Bloq, CompositeBloq, BloqBuilder, Signature, Register\n",
    "from qualtran import QBit, QInt, QUInt, QAny\n",
    "from qualtran.drawing import show_bloq, show_call_graph, show_counts_sigma\n",
    "from typing import *\n",
    "import numpy as np\n",
    "import sympy\n",
    "import cirq"
   ]
  },
  {
   "cell_type": "markdown",
   "id": "8267bb39",
   "metadata": {
    "cq.autogen": "ModAdd.bloq_doc.md"
   },
   "source": [
    "## `ModAdd`\n",
    "An n-bit modular addition gate.\n",
    "\n",
    "Implements |x>|y> => |x>|y + x % p> using $4n$ Toffoli\n",
    "gates.\n",
    "\n",
    "This gate can also operate on integers in the Montgomery form.\n",
    "\n",
    "#### Parameters\n",
    " - `bitsize`: Number of bits used to represent each integer.\n",
    " - `mod`: The modulus for the addition. \n",
    "\n",
    "#### Registers\n",
    " - `x`: A bitsize-sized input register (register x above).\n",
    " - `y`: A bitsize-sized input/output register (register y above). \n",
    "\n",
    "#### References\n",
    " - [How to compute a 256-bit elliptic curve private key with only 50 million Toffoli gates](https://arxiv.org/abs/2306.08585). Construction from Figure 6a and cost summary in Figure 8.\n"
   ]
  },
  {
   "cell_type": "code",
   "execution_count": 2,
   "id": "5bda7415",
   "metadata": {
    "cq.autogen": "ModAdd.bloq_doc.py"
   },
   "outputs": [],
   "source": [
    "from qualtran.bloqs.mod_arithmetic import ModAdd"
   ]
  },
  {
   "cell_type": "markdown",
   "id": "a8456099",
   "metadata": {
    "cq.autogen": "ModAdd.example_instances.md"
   },
   "source": [
    "### Example Instances"
   ]
  },
  {
   "cell_type": "code",
   "execution_count": 3,
   "id": "986e25fe",
   "metadata": {
    "cq.autogen": "ModAdd.mod_add"
   },
   "outputs": [],
   "source": [
    "n, p = sympy.symbols('n p')\n",
    "mod_add = ModAdd(n, mod=p)"
   ]
  },
  {
   "cell_type": "markdown",
   "id": "85546a13",
   "metadata": {
    "cq.autogen": "ModAdd.graphical_signature.md"
   },
   "source": [
    "#### Graphical Signature"
   ]
  },
  {
   "cell_type": "code",
   "execution_count": 4,
   "id": "9cf51501",
   "metadata": {
    "cq.autogen": "ModAdd.graphical_signature.py"
   },
   "outputs": [
    {
     "data": {
      "application/vnd.jupyter.widget-view+json": {
       "model_id": "b500e0b451f84cacb3672c24fb7d1dc5",
       "version_major": 2,
       "version_minor": 0
      },
      "text/plain": [
       "HBox(children=(Output(outputs=({'output_type': 'display_data', 'data': {'text/plain': '<IPython.core.display.M…"
      ]
     },
     "metadata": {},
     "output_type": "display_data"
    }
   ],
   "source": [
    "from qualtran.drawing import show_bloqs\n",
    "show_bloqs([mod_add],\n",
    "           ['`mod_add`'])"
   ]
  },
  {
   "cell_type": "markdown",
   "id": "00d0734f",
   "metadata": {
    "cq.autogen": "ModAdd.call_graph.md"
   },
   "source": [
    "### Call Graph"
   ]
  },
  {
   "cell_type": "code",
   "execution_count": 5,
   "id": "6541781e",
   "metadata": {
    "cq.autogen": "ModAdd.call_graph.py"
   },
   "outputs": [
    {
     "data": {
      "image/svg+xml": [
       "<svg xmlns=\"http://www.w3.org/2000/svg\" xmlns:xlink=\"http://www.w3.org/1999/xlink\" width=\"1067pt\" height=\"131pt\" viewBox=\"0.00 0.00 1066.50 131.00\">\n",
       "<g id=\"graph0\" class=\"graph\" transform=\"scale(1 1) rotate(0) translate(4 127)\">\n",
       "<title>counts</title>\n",
       "<polygon fill=\"white\" stroke=\"transparent\" points=\"-4,4 -4,-127 1062.5,-127 1062.5,4 -4,4\"/>\n",
       "<!-- b0 -->\n",
       "<g id=\"node1\" class=\"node\">\n",
       "<title>b0</title>\n",
       "<polygon fill=\"none\" stroke=\"black\" points=\"747,-123 634,-123 634,-87 747,-87 747,-123\"/>\n",
       "<text text-anchor=\"start\" x=\"665.5\" y=\"-106.8\" font-family=\"Times,serif\" font-size=\"14.00\">ModAdd</text>\n",
       "<text text-anchor=\"start\" x=\"642\" y=\"-96\" font-family=\"monospace\" font-size=\"10.00\">bitsize=n, mod=p</text>\n",
       "</g>\n",
       "<!-- b1 -->\n",
       "<g id=\"node2\" class=\"node\">\n",
       "<title>b1</title>\n",
       "<polygon fill=\"none\" stroke=\"black\" points=\"269,-36 0,-36 0,0 269,0 269,-36\"/>\n",
       "<text text-anchor=\"start\" x=\"122.5\" y=\"-19.8\" font-family=\"Times,serif\" font-size=\"14.00\">Add</text>\n",
       "<text text-anchor=\"start\" x=\"8\" y=\"-9\" font-family=\"monospace\" font-size=\"10.00\">a_dtype=QUInt(bi ..., b_dtype=QUInt(bi ...</text>\n",
       "</g>\n",
       "<!-- b0&#45;&gt;b1 -->\n",
       "<g id=\"edge1\" class=\"edge\">\n",
       "<title>b0-&gt;b1</title>\n",
       "<path fill=\"none\" stroke=\"black\" d=\"M633.87,-95.34C545.64,-81.85 373.33,-55.51 256.07,-37.59\"/>\n",
       "<polygon fill=\"black\" stroke=\"black\" points=\"256.38,-34.09 245.96,-36.04 255.32,-41.01 256.38,-34.09\"/>\n",
       "<text text-anchor=\"middle\" x=\"450\" y=\"-57.8\" font-family=\"Times,serif\" font-size=\"14.00\">1</text>\n",
       "</g>\n",
       "<!-- b2 -->\n",
       "<g id=\"node3\" class=\"node\">\n",
       "<title>b2</title>\n",
       "<polygon fill=\"none\" stroke=\"black\" points=\"550,-36 287,-36 287,0 550,0 550,-36\"/>\n",
       "<text text-anchor=\"start\" x=\"401.5\" y=\"-19.8\" font-family=\"Times,serif\" font-size=\"14.00\">AddK</text>\n",
       "<text text-anchor=\"start\" x=\"295\" y=\"-9\" font-family=\"monospace\" font-size=\"10.00\">bitsize=n + 1, k=-p, cvs=(), signed=False</text>\n",
       "</g>\n",
       "<!-- b0&#45;&gt;b2 -->\n",
       "<g id=\"edge2\" class=\"edge\">\n",
       "<title>b0-&gt;b2</title>\n",
       "<path fill=\"none\" stroke=\"black\" d=\"M635.78,-86.9C591.61,-73.1 529.37,-53.65 482.81,-39.1\"/>\n",
       "<polygon fill=\"black\" stroke=\"black\" points=\"483.72,-35.71 473.13,-36.07 481.63,-42.39 483.72,-35.71\"/>\n",
       "<text text-anchor=\"middle\" x=\"575\" y=\"-57.8\" font-family=\"Times,serif\" font-size=\"14.00\">1</text>\n",
       "</g>\n",
       "<!-- b3 -->\n",
       "<g id=\"node4\" class=\"node\">\n",
       "<title>b3</title>\n",
       "<polygon fill=\"none\" stroke=\"black\" points=\"813,-36 568,-36 568,0 813,0 813,-36\"/>\n",
       "<text text-anchor=\"start\" x=\"673.5\" y=\"-19.8\" font-family=\"Times,serif\" font-size=\"14.00\">AddK</text>\n",
       "<text text-anchor=\"start\" x=\"576\" y=\"-9\" font-family=\"monospace\" font-size=\"10.00\">bitsize=n, k=p, cvs=(1,), signed=False</text>\n",
       "</g>\n",
       "<!-- b0&#45;&gt;b3 -->\n",
       "<g id=\"edge3\" class=\"edge\">\n",
       "<title>b0-&gt;b3</title>\n",
       "<path fill=\"none\" stroke=\"black\" d=\"M690.5,-86.8C690.5,-75.16 690.5,-59.55 690.5,-46.24\"/>\n",
       "<polygon fill=\"black\" stroke=\"black\" points=\"694,-46.18 690.5,-36.18 687,-46.18 694,-46.18\"/>\n",
       "<text text-anchor=\"middle\" x=\"694\" y=\"-57.8\" font-family=\"Times,serif\" font-size=\"14.00\">1</text>\n",
       "</g>\n",
       "<!-- b4 -->\n",
       "<g id=\"node5\" class=\"node\">\n",
       "<title>b4</title>\n",
       "<polygon fill=\"none\" stroke=\"black\" points=\"986,-36 831,-36 831,0 986,0 986,-36\"/>\n",
       "<text text-anchor=\"start\" x=\"840\" y=\"-19.8\" font-family=\"Times,serif\" font-size=\"14.00\">LinearDepthGreaterThan</text>\n",
       "<text text-anchor=\"start\" x=\"839\" y=\"-9\" font-family=\"monospace\" font-size=\"10.00\">bitsize=n, signed=False</text>\n",
       "</g>\n",
       "<!-- b0&#45;&gt;b4 -->\n",
       "<g id=\"edge4\" class=\"edge\">\n",
       "<title>b0-&gt;b4</title>\n",
       "<path fill=\"none\" stroke=\"black\" d=\"M734.35,-86.9C769.16,-73.33 817.98,-54.29 855.07,-39.83\"/>\n",
       "<polygon fill=\"black\" stroke=\"black\" points=\"856.67,-42.97 864.72,-36.07 854.13,-36.44 856.67,-42.97\"/>\n",
       "<text text-anchor=\"middle\" x=\"817\" y=\"-57.8\" font-family=\"Times,serif\" font-size=\"14.00\">1</text>\n",
       "</g>\n",
       "<!-- b5 -->\n",
       "<g id=\"node6\" class=\"node\">\n",
       "<title>b5</title>\n",
       "<polygon fill=\"none\" stroke=\"black\" points=\"1058.5,-36 1004.5,-36 1004.5,0 1058.5,0 1058.5,-36\"/>\n",
       "<text text-anchor=\"start\" x=\"1013.5\" y=\"-14.3\" font-family=\"Times,serif\" font-size=\"14.00\">XGate</text>\n",
       "</g>\n",
       "<!-- b0&#45;&gt;b5 -->\n",
       "<g id=\"edge5\" class=\"edge\">\n",
       "<title>b0-&gt;b5</title>\n",
       "<path fill=\"none\" stroke=\"black\" d=\"M747.22,-95C809.03,-84.35 910.33,-64.4 994.5,-36 994.6,-35.97 994.7,-35.93 994.8,-35.9\"/>\n",
       "<polygon fill=\"black\" stroke=\"black\" points=\"996.19,-39.12 1004.28,-32.28 993.69,-32.58 996.19,-39.12\"/>\n",
       "<text text-anchor=\"middle\" x=\"933\" y=\"-57.8\" font-family=\"Times,serif\" font-size=\"14.00\">1</text>\n",
       "</g>\n",
       "</g>\n",
       "</svg>"
      ],
      "text/plain": [
       "<IPython.core.display.SVG object>"
      ]
     },
     "metadata": {},
     "output_type": "display_data"
    },
    {
     "data": {
      "text/markdown": [
       "#### Counts totals:\n",
       " - `AddK`: 1\n",
       " - `AddK`: 1\n",
       " - `Add`: 1\n",
       " - `LinearDepthGreaterThan`: 1\n",
       " - `XGate`: 1"
      ],
      "text/plain": [
       "<IPython.core.display.Markdown object>"
      ]
     },
     "metadata": {},
     "output_type": "display_data"
    }
   ],
   "source": [
    "from qualtran.resource_counting.generalizers import ignore_split_join\n",
    "mod_add_g, mod_add_sigma = mod_add.call_graph(max_depth=1, generalizer=ignore_split_join)\n",
    "show_call_graph(mod_add_g)\n",
    "show_counts_sigma(mod_add_sigma)"
   ]
  },
  {
   "cell_type": "markdown",
   "id": "8e79d0cc",
   "metadata": {
    "cq.autogen": "ModAddK.bloq_doc.md"
   },
   "source": [
    "## `ModAddK`\n",
    "Applies U(add, M)|x> = |(x + add) % M> if x < M else |x>.\n",
    "\n",
    "Applies modular addition to input register `|x>` given parameters `mod` and `add_val` s.t.\n",
    " 1. If integer `x` < `mod`: output is `|(x + add) % M>`\n",
    " 2. If integer `x` >= `mod`: output is `|x>`.\n",
    "\n",
    "This condition is needed to ensure that the mapping of all input basis states (i.e. input\n",
    "states |0>, |1>, ..., |2 ** bitsize - 1) to corresponding output states is bijective and thus\n",
    "the gate is reversible.\n",
    "\n",
    "Also supports controlled version of the gate by specifying a per qubit control value as a tuple\n",
    "of integers passed as `cvs`."
   ]
  },
  {
   "cell_type": "code",
   "execution_count": 6,
   "id": "3bba4e72",
   "metadata": {
    "cq.autogen": "ModAddK.bloq_doc.py"
   },
   "outputs": [],
   "source": [
    "from qualtran.bloqs.mod_arithmetic import ModAddK"
   ]
  },
  {
   "cell_type": "markdown",
   "id": "5163fde5",
   "metadata": {
    "cq.autogen": "ModAddK.example_instances.md"
   },
   "source": [
    "### Example Instances"
   ]
  },
  {
   "cell_type": "code",
   "execution_count": 7,
   "id": "bd5727de",
   "metadata": {
    "cq.autogen": "ModAddK.mod_add_k"
   },
   "outputs": [],
   "source": [
    "n, m, k = sympy.symbols('n m k')\n",
    "mod_add_k = ModAddK(bitsize=n, mod=m, add_val=k)"
   ]
  },
  {
   "cell_type": "code",
   "execution_count": 8,
   "id": "63edc731",
   "metadata": {
    "cq.autogen": "ModAddK.mod_add_k_small"
   },
   "outputs": [],
   "source": [
    "mod_add_k_small = ModAddK(bitsize=4, mod=7, add_val=1)"
   ]
  },
  {
   "cell_type": "code",
   "execution_count": 9,
   "id": "c970ab8b",
   "metadata": {
    "cq.autogen": "ModAddK.mod_add_k_large"
   },
   "outputs": [],
   "source": [
    "mod_add_k_large = ModAddK(bitsize=64, mod=500, add_val=23)"
   ]
  },
  {
   "cell_type": "markdown",
   "id": "f5d2924e",
   "metadata": {
    "cq.autogen": "ModAddK.graphical_signature.md"
   },
   "source": [
    "#### Graphical Signature"
   ]
  },
  {
   "cell_type": "code",
   "execution_count": 10,
   "id": "a844f606",
   "metadata": {
    "cq.autogen": "ModAddK.graphical_signature.py"
   },
   "outputs": [
    {
     "data": {
      "application/vnd.jupyter.widget-view+json": {
       "model_id": "7167c3476d8440f4a2a3510436e9b2af",
       "version_major": 2,
       "version_minor": 0
      },
      "text/plain": [
       "HBox(children=(Output(outputs=({'output_type': 'display_data', 'data': {'text/plain': '<IPython.core.display.M…"
      ]
     },
     "metadata": {},
     "output_type": "display_data"
    }
   ],
   "source": [
    "from qualtran.drawing import show_bloqs\n",
    "show_bloqs([mod_add_k, mod_add_k_small, mod_add_k_large],\n",
    "           ['`mod_add_k`', '`mod_add_k_small`', '`mod_add_k_large`'])"
   ]
  },
  {
   "cell_type": "markdown",
   "id": "1de9b870",
   "metadata": {
    "cq.autogen": "ModAddK.call_graph.md"
   },
   "source": [
    "### Call Graph"
   ]
  },
  {
   "cell_type": "code",
   "execution_count": 11,
   "id": "c148ea99",
   "metadata": {
    "cq.autogen": "ModAddK.call_graph.py"
   },
   "outputs": [
    {
     "data": {
      "image/svg+xml": [
       "<svg xmlns=\"http://www.w3.org/2000/svg\" xmlns:xlink=\"http://www.w3.org/1999/xlink\" width=\"277pt\" height=\"131pt\" viewBox=\"0.00 0.00 277.00 131.00\">\n",
       "<g id=\"graph0\" class=\"graph\" transform=\"scale(1 1) rotate(0) translate(4 127)\">\n",
       "<title>counts</title>\n",
       "<polygon fill=\"white\" stroke=\"transparent\" points=\"-4,4 -4,-127 273,-127 273,4 -4,4\"/>\n",
       "<!-- b0 -->\n",
       "<g id=\"node1\" class=\"node\">\n",
       "<title>b0</title>\n",
       "<polygon fill=\"none\" stroke=\"black\" points=\"248,-123 21,-123 21,-87 248,-87 248,-123\"/>\n",
       "<text text-anchor=\"start\" x=\"104.5\" y=\"-106.8\" font-family=\"Times,serif\" font-size=\"14.00\">ModAddK</text>\n",
       "<text text-anchor=\"start\" x=\"29\" y=\"-96\" font-family=\"monospace\" font-size=\"10.00\">bitsize=n, mod=m, add_val=k, cvs=()</text>\n",
       "</g>\n",
       "<!-- b1 -->\n",
       "<g id=\"node2\" class=\"node\">\n",
       "<title>b1</title>\n",
       "<polygon fill=\"none\" stroke=\"black\" points=\"269,-36 0,-36 0,0 269,0 269,-36\"/>\n",
       "<text text-anchor=\"start\" x=\"122.5\" y=\"-19.8\" font-family=\"Times,serif\" font-size=\"14.00\">Add</text>\n",
       "<text text-anchor=\"start\" x=\"8\" y=\"-9\" font-family=\"monospace\" font-size=\"10.00\">a_dtype=QUInt(bi ..., b_dtype=QUInt(bi ...</text>\n",
       "</g>\n",
       "<!-- b0&#45;&gt;b1 -->\n",
       "<g id=\"edge1\" class=\"edge\">\n",
       "<title>b0-&gt;b1</title>\n",
       "<path fill=\"none\" stroke=\"black\" d=\"M134.5,-86.8C134.5,-75.16 134.5,-59.55 134.5,-46.24\"/>\n",
       "<polygon fill=\"black\" stroke=\"black\" points=\"138,-46.18 134.5,-36.18 131,-46.18 138,-46.18\"/>\n",
       "<text text-anchor=\"middle\" x=\"138\" y=\"-57.8\" font-family=\"Times,serif\" font-size=\"14.00\">5</text>\n",
       "</g>\n",
       "</g>\n",
       "</svg>"
      ],
      "text/plain": [
       "<IPython.core.display.SVG object>"
      ]
     },
     "metadata": {},
     "output_type": "display_data"
    },
    {
     "data": {
      "text/markdown": [
       "#### Counts totals:\n",
       " - `Add`: 5"
      ],
      "text/plain": [
       "<IPython.core.display.Markdown object>"
      ]
     },
     "metadata": {},
     "output_type": "display_data"
    }
   ],
   "source": [
    "from qualtran.resource_counting.generalizers import ignore_split_join\n",
    "mod_add_k_g, mod_add_k_sigma = mod_add_k.call_graph(max_depth=1, generalizer=ignore_split_join)\n",
    "show_call_graph(mod_add_k_g)\n",
    "show_counts_sigma(mod_add_k_sigma)"
   ]
  },
  {
   "cell_type": "markdown",
   "id": "d281d1eb",
   "metadata": {
    "cq.autogen": "CModAdd.bloq_doc.md"
   },
   "source": [
    "## `CModAdd`\n",
    "Controlled Modular Addition.\n",
    "\n",
    "Implements $\\ket{c}\\ket{x}\\ket{y} \\rightarrow \\ket{c}\\ket{x}\\ket{(cx+y)\\%p}$\n",
    "using $5n+1$ Toffoli gates.\n",
    "\n",
    "Note: The reference reports $5n$ toffolis. Our construction has an extra toffoli gate due\n",
    "to the current implementaiton of `OutOfPlaceAdder`.\n",
    "\n",
    "#### Parameters\n",
    " - `dtype`: Type of the input registers.\n",
    " - `mod`: The modulus for the addition.\n",
    " - `cv`: Control value for which the gate is active. \n",
    "\n",
    "#### Registers\n",
    " - `ctrl`: The control qubit.\n",
    " - `x`: A dtype register.\n",
    " - `y`: A dtype register. \n",
    "\n",
    "#### References\n",
    " - [How to compute a 256-bit elliptic curve private key with only 50 million Toffoli gates](https://arxiv.org/abs/2306.08585). Construction from Figure 6a and cost summary in Figure 8.\n"
   ]
  },
  {
   "cell_type": "code",
   "execution_count": 12,
   "id": "bfad2d98",
   "metadata": {
    "cq.autogen": "CModAdd.bloq_doc.py"
   },
   "outputs": [],
   "source": [
    "from qualtran.bloqs.mod_arithmetic import CModAdd"
   ]
  },
  {
   "cell_type": "markdown",
   "id": "51c55dd1",
   "metadata": {
    "cq.autogen": "CModAdd.example_instances.md"
   },
   "source": [
    "### Example Instances"
   ]
  },
  {
   "cell_type": "code",
   "execution_count": 13,
   "id": "17ab6599",
   "metadata": {
    "cq.autogen": "CModAdd.cmodadd_example"
   },
   "outputs": [],
   "source": [
    "cmodadd_example = CModAdd(QUInt(32), 10**9 + 7)"
   ]
  },
  {
   "cell_type": "code",
   "execution_count": 14,
   "id": "83b24868",
   "metadata": {
    "cq.autogen": "CModAdd.cmodadd_symbolic"
   },
   "outputs": [],
   "source": [
    "n, p = sympy.symbols('n p')\n",
    "cmodadd_symbolic = CModAdd(QUInt(n), p)"
   ]
  },
  {
   "cell_type": "markdown",
   "id": "0341ea39",
   "metadata": {
    "cq.autogen": "CModAdd.graphical_signature.md"
   },
   "source": [
    "#### Graphical Signature"
   ]
  },
  {
   "cell_type": "code",
   "execution_count": 15,
   "id": "28706338",
   "metadata": {
    "cq.autogen": "CModAdd.graphical_signature.py"
   },
   "outputs": [
    {
     "data": {
      "application/vnd.jupyter.widget-view+json": {
       "model_id": "f9ccf4b2f983440a977a2ced0af8f1a6",
       "version_major": 2,
       "version_minor": 0
      },
      "text/plain": [
       "HBox(children=(Output(outputs=({'output_type': 'display_data', 'data': {'text/plain': '<IPython.core.display.M…"
      ]
     },
     "metadata": {},
     "output_type": "display_data"
    }
   ],
   "source": [
    "from qualtran.drawing import show_bloqs\n",
    "show_bloqs([cmodadd_example, cmodadd_symbolic],\n",
    "           ['`cmodadd_example`', '`cmodadd_symbolic`'])"
   ]
  },
  {
   "cell_type": "markdown",
   "id": "e71a6f5f",
   "metadata": {
    "cq.autogen": "CModAdd.call_graph.md"
   },
   "source": [
    "### Call Graph"
   ]
  },
  {
   "cell_type": "code",
   "execution_count": 16,
   "id": "d278edee",
   "metadata": {
    "cq.autogen": "CModAdd.call_graph.py"
   },
   "outputs": [
    {
     "data": {
      "image/svg+xml": [
       "<svg xmlns=\"http://www.w3.org/2000/svg\" xmlns:xlink=\"http://www.w3.org/1999/xlink\" width=\"1206pt\" height=\"131pt\" viewBox=\"0.00 0.00 1205.50 131.00\">\n",
       "<g id=\"graph0\" class=\"graph\" transform=\"scale(1 1) rotate(0) translate(4 127)\">\n",
       "<title>counts</title>\n",
       "<polygon fill=\"white\" stroke=\"transparent\" points=\"-4,4 -4,-127 1201.5,-127 1201.5,4 -4,4\"/>\n",
       "<!-- b0 -->\n",
       "<g id=\"node1\" class=\"node\">\n",
       "<title>b0</title>\n",
       "<polygon fill=\"none\" stroke=\"black\" points=\"921,-123 664,-123 664,-87 921,-87 921,-123\"/>\n",
       "<text text-anchor=\"start\" x=\"763\" y=\"-106.8\" font-family=\"Times,serif\" font-size=\"14.00\">CModAdd</text>\n",
       "<text text-anchor=\"start\" x=\"672\" y=\"-96\" font-family=\"monospace\" font-size=\"10.00\">dtype=QUInt(bi ..., mod=1000000007, cv=1</text>\n",
       "</g>\n",
       "<!-- b1 -->\n",
       "<g id=\"node2\" class=\"node\">\n",
       "<title>b1</title>\n",
       "<polygon fill=\"none\" stroke=\"black\" points=\"305,-36 0,-36 0,0 305,0 305,-36\"/>\n",
       "<text text-anchor=\"start\" x=\"136\" y=\"-19.8\" font-family=\"Times,serif\" font-size=\"14.00\">CAdd</text>\n",
       "<text text-anchor=\"start\" x=\"8\" y=\"-9\" font-family=\"monospace\" font-size=\"10.00\">a_dtype=QUInt(bi ..., b_dtype=QUInt(bi ..., cv=1</text>\n",
       "</g>\n",
       "<!-- b0&#45;&gt;b1 -->\n",
       "<g id=\"edge1\" class=\"edge\">\n",
       "<title>b0-&gt;b1</title>\n",
       "<path fill=\"none\" stroke=\"black\" d=\"M664.14,-86.95C555.93,-72.58 401.43,-52.06 290.56,-37.34\"/>\n",
       "<polygon fill=\"black\" stroke=\"black\" points=\"291.02,-33.87 280.65,-36.02 290.1,-40.81 291.02,-33.87\"/>\n",
       "<text text-anchor=\"middle\" x=\"515\" y=\"-57.8\" font-family=\"Times,serif\" font-size=\"14.00\">1</text>\n",
       "</g>\n",
       "<!-- b2 -->\n",
       "<g id=\"node3\" class=\"node\">\n",
       "<title>b2</title>\n",
       "<polygon fill=\"none\" stroke=\"black\" points=\"622,-36 323,-36 323,0 622,0 622,-36\"/>\n",
       "<text text-anchor=\"start\" x=\"455.5\" y=\"-19.8\" font-family=\"Times,serif\" font-size=\"14.00\">AddK</text>\n",
       "<text text-anchor=\"start\" x=\"331\" y=\"-9\" font-family=\"monospace\" font-size=\"10.00\">bitsize=33, k=-1000000007, cvs=(), signed=False</text>\n",
       "</g>\n",
       "<!-- b0&#45;&gt;b2 -->\n",
       "<g id=\"edge2\" class=\"edge\">\n",
       "<title>b0-&gt;b2</title>\n",
       "<path fill=\"none\" stroke=\"black\" d=\"M728.13,-86.9C675.62,-72.95 601.4,-53.24 546.45,-38.64\"/>\n",
       "<polygon fill=\"black\" stroke=\"black\" points=\"547.33,-35.26 536.77,-36.07 545.54,-42.02 547.33,-35.26\"/>\n",
       "<text text-anchor=\"middle\" x=\"656\" y=\"-57.8\" font-family=\"Times,serif\" font-size=\"14.00\">1</text>\n",
       "</g>\n",
       "<!-- b3 -->\n",
       "<g id=\"node4\" class=\"node\">\n",
       "<title>b3</title>\n",
       "<polygon fill=\"none\" stroke=\"black\" points=\"945,-36 640,-36 640,0 945,0 945,-36\"/>\n",
       "<text text-anchor=\"start\" x=\"775.5\" y=\"-19.8\" font-family=\"Times,serif\" font-size=\"14.00\">AddK</text>\n",
       "<text text-anchor=\"start\" x=\"648\" y=\"-9\" font-family=\"monospace\" font-size=\"10.00\">bitsize=32, k=1000000007, cvs=(1,), signed=False</text>\n",
       "</g>\n",
       "<!-- b0&#45;&gt;b3 -->\n",
       "<g id=\"edge3\" class=\"edge\">\n",
       "<title>b0-&gt;b3</title>\n",
       "<path fill=\"none\" stroke=\"black\" d=\"M792.5,-86.8C792.5,-75.16 792.5,-59.55 792.5,-46.24\"/>\n",
       "<polygon fill=\"black\" stroke=\"black\" points=\"796,-46.18 792.5,-36.18 789,-46.18 796,-46.18\"/>\n",
       "<text text-anchor=\"middle\" x=\"796\" y=\"-57.8\" font-family=\"Times,serif\" font-size=\"14.00\">1</text>\n",
       "</g>\n",
       "<!-- b4 -->\n",
       "<g id=\"node5\" class=\"node\">\n",
       "<title>b4</title>\n",
       "<polygon fill=\"none\" stroke=\"black\" points=\"1125.5,-36 963.5,-36 963.5,0 1125.5,0 1125.5,-36\"/>\n",
       "<text text-anchor=\"start\" x=\"971.5\" y=\"-19.8\" font-family=\"Times,serif\" font-size=\"14.00\">CLinearDepthGreaterThan</text>\n",
       "<text text-anchor=\"start\" x=\"972\" y=\"-9\" font-family=\"monospace\" font-size=\"10.00\">dtype=QUInt(bi ..., cv=1</text>\n",
       "</g>\n",
       "<!-- b0&#45;&gt;b4 -->\n",
       "<g id=\"edge4\" class=\"edge\">\n",
       "<title>b0-&gt;b4</title>\n",
       "<path fill=\"none\" stroke=\"black\" d=\"M843.19,-86.9C883.95,-73.15 941.3,-53.81 984.37,-39.28\"/>\n",
       "<polygon fill=\"black\" stroke=\"black\" points=\"985.53,-42.58 993.89,-36.07 983.29,-35.95 985.53,-42.58\"/>\n",
       "<text text-anchor=\"middle\" x=\"938\" y=\"-57.8\" font-family=\"Times,serif\" font-size=\"14.00\">1</text>\n",
       "</g>\n",
       "<!-- b5 -->\n",
       "<g id=\"node6\" class=\"node\">\n",
       "<title>b5</title>\n",
       "<polygon fill=\"none\" stroke=\"black\" points=\"1197.5,-36 1143.5,-36 1143.5,0 1197.5,0 1197.5,-36\"/>\n",
       "<text text-anchor=\"start\" x=\"1152.5\" y=\"-14.3\" font-family=\"Times,serif\" font-size=\"14.00\">XGate</text>\n",
       "</g>\n",
       "<!-- b0&#45;&gt;b5 -->\n",
       "<g id=\"edge5\" class=\"edge\">\n",
       "<title>b0-&gt;b5</title>\n",
       "<path fill=\"none\" stroke=\"black\" d=\"M915.86,-86.97C979.04,-76.46 1056.95,-60.73 1133.46,-35.94\"/>\n",
       "<polygon fill=\"black\" stroke=\"black\" points=\"1134.86,-39.16 1143.27,-32.71 1132.67,-32.51 1134.86,-39.16\"/>\n",
       "<text text-anchor=\"middle\" x=\"1075\" y=\"-57.8\" font-family=\"Times,serif\" font-size=\"14.00\">1</text>\n",
       "</g>\n",
       "</g>\n",
       "</svg>"
      ],
      "text/plain": [
       "<IPython.core.display.SVG object>"
      ]
     },
     "metadata": {},
     "output_type": "display_data"
    },
    {
     "data": {
      "text/markdown": [
       "#### Counts totals:\n",
       " - `AddK`: 1\n",
       " - `AddK`: 1\n",
       " - `CAdd`: 1\n",
       " - `CLinearDepthGreaterThan`: 1\n",
       " - `XGate`: 1"
      ],
      "text/plain": [
       "<IPython.core.display.Markdown object>"
      ]
     },
     "metadata": {},
     "output_type": "display_data"
    }
   ],
   "source": [
    "from qualtran.resource_counting.generalizers import ignore_split_join\n",
    "cmodadd_example_g, cmodadd_example_sigma = cmodadd_example.call_graph(max_depth=1, generalizer=ignore_split_join)\n",
    "show_call_graph(cmodadd_example_g)\n",
    "show_counts_sigma(cmodadd_example_sigma)"
   ]
  }
 ],
 "metadata": {
  "kernelspec": {
   "display_name": "Python 3",
   "language": "python",
   "name": "python3"
  },
  "language_info": {
   "codemirror_mode": {
    "name": "ipython",
    "version": 3
   },
   "file_extension": ".py",
   "mimetype": "text/x-python",
   "name": "python",
   "nbconvert_exporter": "python",
   "pygments_lexer": "ipython3",
   "version": "3.11.8"
  },
  "widgets": {
   "application/vnd.jupyter.widget-state+json": {
    "state": {
     "04e1cac13b4a4093b3eac4fd4533a0b8": {
      "model_module": "@jupyter-widgets/base",
      "model_module_version": "2.0.0",
      "model_name": "LayoutModel",
      "state": {
       "_model_module": "@jupyter-widgets/base",
       "_model_module_version": "2.0.0",
       "_model_name": "LayoutModel",
       "_view_count": null,
       "_view_module": "@jupyter-widgets/base",
       "_view_module_version": "2.0.0",
       "_view_name": "LayoutView",
       "align_content": null,
       "align_items": null,
       "align_self": null,
       "border_bottom": null,
       "border_left": null,
       "border_right": null,
       "border_top": null,
       "bottom": null,
       "display": null,
       "flex": null,
       "flex_flow": null,
       "grid_area": null,
       "grid_auto_columns": null,
       "grid_auto_flow": null,
       "grid_auto_rows": null,
       "grid_column": null,
       "grid_gap": null,
       "grid_row": null,
       "grid_template_areas": null,
       "grid_template_columns": null,
       "grid_template_rows": null,
       "height": null,
       "justify_content": null,
       "justify_items": null,
       "left": null,
       "margin": null,
       "max_height": null,
       "max_width": null,
       "min_height": null,
       "min_width": null,
       "object_fit": null,
       "object_position": null,
       "order": null,
       "overflow": null,
       "padding": null,
       "right": null,
       "top": null,
       "visibility": null,
       "width": null
      }
     },
     "16607fb9574c46cf851a93b17570e061": {
      "model_module": "@jupyter-widgets/output",
      "model_module_version": "1.0.0",
      "model_name": "OutputModel",
      "state": {
       "_dom_classes": [],
       "_model_module": "@jupyter-widgets/output",
       "_model_module_version": "1.0.0",
       "_model_name": "OutputModel",
       "_view_count": null,
       "_view_module": "@jupyter-widgets/output",
       "_view_module_version": "1.0.0",
       "_view_name": "OutputView",
       "layout": "IPY_MODEL_33296c2df4d849d6b03ffb6435de71f4",
       "msg_id": "",
       "outputs": [
        {
         "data": {
          "text/markdown": "`mod_add_k_small`",
          "text/plain": "<IPython.core.display.Markdown object>"
         },
         "metadata": {},
         "output_type": "display_data"
        },
        {
         "data": {
          "image/svg+xml": "<svg xmlns=\"http://www.w3.org/2000/svg\" xmlns:xlink=\"http://www.w3.org/1999/xlink\" width=\"242pt\" height=\"54pt\" viewBox=\"0.00 0.00 242.00 54.00\">\n<g id=\"graph0\" class=\"graph\" transform=\"scale(1 1) rotate(0) translate(4 50)\">\n<title>my_graph</title>\n<polygon fill=\"white\" stroke=\"transparent\" points=\"-4,4 -4,-50 238,-50 238,4 -4,4\"/>\n<!-- x_G0 -->\n<g id=\"node1\" class=\"node\">\n<title>x_G0</title>\n<text text-anchor=\"middle\" x=\"27\" y=\"-14.3\" font-family=\"Times,serif\" font-size=\"14.00\">x</text>\n</g>\n<!-- ModAddK -->\n<g id=\"node2\" class=\"node\">\n<title>ModAddK</title>\n<polygon fill=\"none\" stroke=\"black\" points=\"91,-29 91,-46 143,-46 143,-29 91,-29\"/>\n<text text-anchor=\"start\" x=\"94\" y=\"-35\" font-family=\"Times,serif\" font-size=\"10.00\">ModAddK</text>\n<polygon fill=\"none\" stroke=\"black\" points=\"91,-8 91,-29 143,-29 143,-8 91,-8\"/>\n<text text-anchor=\"start\" x=\"113.5\" y=\"-14.8\" font-family=\"Times,serif\" font-size=\"14.00\">x</text>\n</g>\n<!-- x_G0&#45;&gt;ModAddK -->\n<g id=\"edge1\" class=\"edge\">\n<title>x_G0:e-&gt;ModAddK:w</title>\n<path fill=\"none\" stroke=\"black\" d=\"M54,-18C69.67,-18 74.14,-18 88.77,-18\"/>\n<ellipse fill=\"black\" stroke=\"black\" cx=\"90\" cy=\"-18\" rx=\"1\" ry=\"1\"/>\n<text text-anchor=\"middle\" x=\"72.5\" y=\"-21\" font-family=\"Times,serif\" font-size=\"10.00\">4</text>\n</g>\n<!-- x_G2 -->\n<g id=\"node3\" class=\"node\">\n<title>x_G2</title>\n<text text-anchor=\"middle\" x=\"207\" y=\"-14.3\" font-family=\"Times,serif\" font-size=\"14.00\">x</text>\n</g>\n<!-- ModAddK&#45;&gt;x_G2 -->\n<g id=\"edge2\" class=\"edge\">\n<title>ModAddK:e-&gt;x_G2:w</title>\n<path fill=\"none\" stroke=\"black\" d=\"M143,-18C158.67,-18 163.14,-18 177.77,-18\"/>\n<ellipse fill=\"black\" stroke=\"black\" cx=\"179\" cy=\"-18\" rx=\"1\" ry=\"1\"/>\n<text text-anchor=\"middle\" x=\"161.5\" y=\"-21\" font-family=\"Times,serif\" font-size=\"10.00\">4</text>\n</g>\n</g>\n</svg>",
          "text/plain": "<IPython.core.display.SVG object>"
         },
         "metadata": {},
         "output_type": "display_data"
        }
       ],
       "tabbable": null,
       "tooltip": null
      }
     },
     "17bf0b1983424209863e4e62878be0c0": {
      "model_module": "@jupyter-widgets/base",
      "model_module_version": "2.0.0",
      "model_name": "LayoutModel",
      "state": {
       "_model_module": "@jupyter-widgets/base",
       "_model_module_version": "2.0.0",
       "_model_name": "LayoutModel",
       "_view_count": null,
       "_view_module": "@jupyter-widgets/base",
       "_view_module_version": "2.0.0",
       "_view_name": "LayoutView",
       "align_content": null,
       "align_items": null,
       "align_self": null,
       "border_bottom": null,
       "border_left": null,
       "border_right": null,
       "border_top": null,
       "bottom": null,
       "display": null,
       "flex": null,
       "flex_flow": null,
       "grid_area": null,
       "grid_auto_columns": null,
       "grid_auto_flow": null,
       "grid_auto_rows": null,
       "grid_column": null,
       "grid_gap": null,
       "grid_row": null,
       "grid_template_areas": null,
       "grid_template_columns": null,
       "grid_template_rows": null,
       "height": null,
       "justify_content": null,
       "justify_items": null,
       "left": null,
       "margin": null,
       "max_height": null,
       "max_width": null,
       "min_height": null,
       "min_width": null,
       "object_fit": null,
       "object_position": null,
       "order": null,
       "overflow": null,
       "padding": null,
       "right": null,
       "top": null,
       "visibility": null,
       "width": null
      }
     },
     "1fc649df230142cf9ecfd72b45d24def": {
      "model_module": "@jupyter-widgets/base",
      "model_module_version": "2.0.0",
      "model_name": "LayoutModel",
      "state": {
       "_model_module": "@jupyter-widgets/base",
       "_model_module_version": "2.0.0",
       "_model_name": "LayoutModel",
       "_view_count": null,
       "_view_module": "@jupyter-widgets/base",
       "_view_module_version": "2.0.0",
       "_view_name": "LayoutView",
       "align_content": null,
       "align_items": null,
       "align_self": null,
       "border_bottom": null,
       "border_left": null,
       "border_right": null,
       "border_top": null,
       "bottom": null,
       "display": null,
       "flex": null,
       "flex_flow": null,
       "grid_area": null,
       "grid_auto_columns": null,
       "grid_auto_flow": null,
       "grid_auto_rows": null,
       "grid_column": null,
       "grid_gap": null,
       "grid_row": null,
       "grid_template_areas": null,
       "grid_template_columns": null,
       "grid_template_rows": null,
       "height": null,
       "justify_content": null,
       "justify_items": null,
       "left": null,
       "margin": null,
       "max_height": null,
       "max_width": null,
       "min_height": null,
       "min_width": null,
       "object_fit": null,
       "object_position": null,
       "order": null,
       "overflow": null,
       "padding": null,
       "right": null,
       "top": null,
       "visibility": null,
       "width": null
      }
     },
     "2692569e05e14fec9491854ec3672f8e": {
      "model_module": "@jupyter-widgets/output",
      "model_module_version": "1.0.0",
      "model_name": "OutputModel",
      "state": {
       "_dom_classes": [],
       "_model_module": "@jupyter-widgets/output",
       "_model_module_version": "1.0.0",
       "_model_name": "OutputModel",
       "_view_count": null,
       "_view_module": "@jupyter-widgets/output",
       "_view_module_version": "1.0.0",
       "_view_name": "OutputView",
       "layout": "IPY_MODEL_30b85573b24a45948f1d36ab4287c6f4",
       "msg_id": "",
       "outputs": [
        {
         "data": {
          "text/markdown": "`cmodadd_symbolic`",
          "text/plain": "<IPython.core.display.Markdown object>"
         },
         "metadata": {},
         "output_type": "display_data"
        },
        {
         "data": {
          "image/svg+xml": "<svg xmlns=\"http://www.w3.org/2000/svg\" xmlns:xlink=\"http://www.w3.org/1999/xlink\" width=\"241pt\" height=\"152pt\" viewBox=\"0.00 0.00 241.00 152.00\">\n<g id=\"graph0\" class=\"graph\" transform=\"scale(1 1) rotate(0) translate(4 148)\">\n<title>my_graph</title>\n<polygon fill=\"white\" stroke=\"transparent\" points=\"-4,4 -4,-148 237,-148 237,4 -4,4\"/>\n<!-- ctrl_G2 -->\n<g id=\"node1\" class=\"node\">\n<title>ctrl_G2</title>\n<text text-anchor=\"middle\" x=\"27\" y=\"-122.3\" font-family=\"Times,serif\" font-size=\"14.00\">ctrl</text>\n</g>\n<!-- CModAdd -->\n<g id=\"node4\" class=\"node\">\n<title>CModAdd</title>\n<polygon fill=\"none\" stroke=\"black\" points=\"91.5,-104 91.5,-121 142.5,-121 142.5,-104 91.5,-104\"/>\n<text text-anchor=\"start\" x=\"94.5\" y=\"-110\" font-family=\"Times,serif\" font-size=\"10.00\">CModAdd</text>\n<polygon fill=\"none\" stroke=\"black\" points=\"91.5,-83 91.5,-104 142.5,-104 142.5,-83 91.5,-83\"/>\n<text text-anchor=\"start\" x=\"107.5\" y=\"-89.8\" font-family=\"Times,serif\" font-size=\"14.00\">ctrl</text>\n<polygon fill=\"none\" stroke=\"black\" points=\"91.5,-62 91.5,-83 142.5,-83 142.5,-62 91.5,-62\"/>\n<text text-anchor=\"start\" x=\"113.5\" y=\"-68.8\" font-family=\"Times,serif\" font-size=\"14.00\">x</text>\n<polygon fill=\"none\" stroke=\"black\" points=\"91.5,-41 91.5,-62 142.5,-62 142.5,-41 91.5,-41\"/>\n<text text-anchor=\"start\" x=\"113.5\" y=\"-47.8\" font-family=\"Times,serif\" font-size=\"14.00\">y</text>\n</g>\n<!-- ctrl_G2&#45;&gt;CModAdd -->\n<g id=\"edge1\" class=\"edge\">\n<title>ctrl_G2:e-&gt;CModAdd:w</title>\n<path fill=\"none\" stroke=\"black\" d=\"M54,-126C74.89,-126 69.72,-96.45 88.58,-94.14\"/>\n<ellipse fill=\"black\" stroke=\"black\" cx=\"90\" cy=\"-94.06\" rx=\"1\" ry=\"1\"/>\n<text text-anchor=\"middle\" x=\"72.5\" y=\"-113\" font-family=\"Times,serif\" font-size=\"10.00\">1</text>\n</g>\n<!-- x_G6 -->\n<g id=\"node2\" class=\"node\">\n<title>x_G6</title>\n<text text-anchor=\"middle\" x=\"27\" y=\"-68.3\" font-family=\"Times,serif\" font-size=\"14.00\">x</text>\n</g>\n<!-- x_G6&#45;&gt;CModAdd -->\n<g id=\"edge2\" class=\"edge\">\n<title>x_G6:e-&gt;CModAdd:w</title>\n<path fill=\"none\" stroke=\"black\" d=\"M54,-72C69.67,-72 74.14,-72 88.77,-72\"/>\n<ellipse fill=\"black\" stroke=\"black\" cx=\"90\" cy=\"-72\" rx=\"1\" ry=\"1\"/>\n<text text-anchor=\"middle\" x=\"72.5\" y=\"-75\" font-family=\"Times,serif\" font-size=\"10.00\">n</text>\n</g>\n<!-- y_G1 -->\n<g id=\"node3\" class=\"node\">\n<title>y_G1</title>\n<text text-anchor=\"middle\" x=\"27\" y=\"-14.3\" font-family=\"Times,serif\" font-size=\"14.00\">y</text>\n</g>\n<!-- y_G1&#45;&gt;CModAdd -->\n<g id=\"edge3\" class=\"edge\">\n<title>y_G1:e-&gt;CModAdd:w</title>\n<path fill=\"none\" stroke=\"black\" d=\"M54,-18C75.17,-18 69.47,-48.47 88.55,-50.85\"/>\n<ellipse fill=\"black\" stroke=\"black\" cx=\"90\" cy=\"-50.94\" rx=\"1\" ry=\"1\"/>\n<text text-anchor=\"middle\" x=\"72.5\" y=\"-39\" font-family=\"Times,serif\" font-size=\"10.00\">n</text>\n</g>\n<!-- ctrl_G7 -->\n<g id=\"node5\" class=\"node\">\n<title>ctrl_G7</title>\n<text text-anchor=\"middle\" x=\"206\" y=\"-122.3\" font-family=\"Times,serif\" font-size=\"14.00\">ctrl</text>\n</g>\n<!-- CModAdd&#45;&gt;ctrl_G7 -->\n<g id=\"edge4\" class=\"edge\">\n<title>CModAdd:e-&gt;ctrl_G7:w</title>\n<path fill=\"none\" stroke=\"black\" d=\"M142,-94C162.89,-94 157.72,-123.55 176.58,-125.86\"/>\n<ellipse fill=\"black\" stroke=\"black\" cx=\"178\" cy=\"-125.94\" rx=\"1\" ry=\"1\"/>\n<text text-anchor=\"middle\" x=\"160.5\" y=\"-113\" font-family=\"Times,serif\" font-size=\"10.00\">1</text>\n</g>\n<!-- x_G0 -->\n<g id=\"node6\" class=\"node\">\n<title>x_G0</title>\n<text text-anchor=\"middle\" x=\"206\" y=\"-68.3\" font-family=\"Times,serif\" font-size=\"14.00\">x</text>\n</g>\n<!-- CModAdd&#45;&gt;x_G0 -->\n<g id=\"edge5\" class=\"edge\">\n<title>CModAdd:e-&gt;x_G0:w</title>\n<path fill=\"none\" stroke=\"black\" d=\"M142,-72C157.67,-72 162.14,-72 176.77,-72\"/>\n<ellipse fill=\"black\" stroke=\"black\" cx=\"178\" cy=\"-72\" rx=\"1\" ry=\"1\"/>\n<text text-anchor=\"middle\" x=\"160.5\" y=\"-75\" font-family=\"Times,serif\" font-size=\"10.00\">n</text>\n</g>\n<!-- y_G3 -->\n<g id=\"node7\" class=\"node\">\n<title>y_G3</title>\n<text text-anchor=\"middle\" x=\"206\" y=\"-14.3\" font-family=\"Times,serif\" font-size=\"14.00\">y</text>\n</g>\n<!-- CModAdd&#45;&gt;y_G3 -->\n<g id=\"edge6\" class=\"edge\">\n<title>CModAdd:e-&gt;y_G3:w</title>\n<path fill=\"none\" stroke=\"black\" d=\"M142,-51C163.17,-51 157.47,-20.53 176.55,-18.15\"/>\n<ellipse fill=\"black\" stroke=\"black\" cx=\"178\" cy=\"-18.06\" rx=\"1\" ry=\"1\"/>\n<text text-anchor=\"middle\" x=\"160.5\" y=\"-39\" font-family=\"Times,serif\" font-size=\"10.00\">n</text>\n</g>\n</g>\n</svg>",
          "text/plain": "<IPython.core.display.SVG object>"
         },
         "metadata": {},
         "output_type": "display_data"
        }
       ],
       "tabbable": null,
       "tooltip": null
      }
     },
     "30b85573b24a45948f1d36ab4287c6f4": {
      "model_module": "@jupyter-widgets/base",
      "model_module_version": "2.0.0",
      "model_name": "LayoutModel",
      "state": {
       "_model_module": "@jupyter-widgets/base",
       "_model_module_version": "2.0.0",
       "_model_name": "LayoutModel",
       "_view_count": null,
       "_view_module": "@jupyter-widgets/base",
       "_view_module_version": "2.0.0",
       "_view_name": "LayoutView",
       "align_content": null,
       "align_items": null,
       "align_self": null,
       "border_bottom": null,
       "border_left": null,
       "border_right": null,
       "border_top": null,
       "bottom": null,
       "display": null,
       "flex": null,
       "flex_flow": null,
       "grid_area": null,
       "grid_auto_columns": null,
       "grid_auto_flow": null,
       "grid_auto_rows": null,
       "grid_column": null,
       "grid_gap": null,
       "grid_row": null,
       "grid_template_areas": null,
       "grid_template_columns": null,
       "grid_template_rows": null,
       "height": null,
       "justify_content": null,
       "justify_items": null,
       "left": null,
       "margin": null,
       "max_height": null,
       "max_width": null,
       "min_height": null,
       "min_width": null,
       "object_fit": null,
       "object_position": null,
       "order": null,
       "overflow": null,
       "padding": null,
       "right": null,
       "top": null,
       "visibility": null,
       "width": null
      }
     },
     "33296c2df4d849d6b03ffb6435de71f4": {
      "model_module": "@jupyter-widgets/base",
      "model_module_version": "2.0.0",
      "model_name": "LayoutModel",
      "state": {
       "_model_module": "@jupyter-widgets/base",
       "_model_module_version": "2.0.0",
       "_model_name": "LayoutModel",
       "_view_count": null,
       "_view_module": "@jupyter-widgets/base",
       "_view_module_version": "2.0.0",
       "_view_name": "LayoutView",
       "align_content": null,
       "align_items": null,
       "align_self": null,
       "border_bottom": null,
       "border_left": null,
       "border_right": null,
       "border_top": null,
       "bottom": null,
       "display": null,
       "flex": null,
       "flex_flow": null,
       "grid_area": null,
       "grid_auto_columns": null,
       "grid_auto_flow": null,
       "grid_auto_rows": null,
       "grid_column": null,
       "grid_gap": null,
       "grid_row": null,
       "grid_template_areas": null,
       "grid_template_columns": null,
       "grid_template_rows": null,
       "height": null,
       "justify_content": null,
       "justify_items": null,
       "left": null,
       "margin": null,
       "max_height": null,
       "max_width": null,
       "min_height": null,
       "min_width": null,
       "object_fit": null,
       "object_position": null,
       "order": null,
       "overflow": null,
       "padding": null,
       "right": null,
       "top": null,
       "visibility": null,
       "width": null
      }
     },
     "455a8fa855a14b5db2c734c280a10129": {
      "model_module": "@jupyter-widgets/output",
      "model_module_version": "1.0.0",
      "model_name": "OutputModel",
      "state": {
       "_dom_classes": [],
       "_model_module": "@jupyter-widgets/output",
       "_model_module_version": "1.0.0",
       "_model_name": "OutputModel",
       "_view_count": null,
       "_view_module": "@jupyter-widgets/output",
       "_view_module_version": "1.0.0",
       "_view_name": "OutputView",
       "layout": "IPY_MODEL_1fc649df230142cf9ecfd72b45d24def",
       "msg_id": "",
       "outputs": [
        {
         "data": {
          "text/markdown": "`mod_add_k`",
          "text/plain": "<IPython.core.display.Markdown object>"
         },
         "metadata": {},
         "output_type": "display_data"
        },
        {
         "data": {
          "image/svg+xml": "<svg xmlns=\"http://www.w3.org/2000/svg\" xmlns:xlink=\"http://www.w3.org/1999/xlink\" width=\"242pt\" height=\"54pt\" viewBox=\"0.00 0.00 242.00 54.00\">\n<g id=\"graph0\" class=\"graph\" transform=\"scale(1 1) rotate(0) translate(4 50)\">\n<title>my_graph</title>\n<polygon fill=\"white\" stroke=\"transparent\" points=\"-4,4 -4,-50 238,-50 238,4 -4,4\"/>\n<!-- x_G1 -->\n<g id=\"node1\" class=\"node\">\n<title>x_G1</title>\n<text text-anchor=\"middle\" x=\"27\" y=\"-14.3\" font-family=\"Times,serif\" font-size=\"14.00\">x</text>\n</g>\n<!-- ModAddK -->\n<g id=\"node2\" class=\"node\">\n<title>ModAddK</title>\n<polygon fill=\"none\" stroke=\"black\" points=\"91,-29 91,-46 143,-46 143,-29 91,-29\"/>\n<text text-anchor=\"start\" x=\"94\" y=\"-35\" font-family=\"Times,serif\" font-size=\"10.00\">ModAddK</text>\n<polygon fill=\"none\" stroke=\"black\" points=\"91,-8 91,-29 143,-29 143,-8 91,-8\"/>\n<text text-anchor=\"start\" x=\"113.5\" y=\"-14.8\" font-family=\"Times,serif\" font-size=\"14.00\">x</text>\n</g>\n<!-- x_G1&#45;&gt;ModAddK -->\n<g id=\"edge1\" class=\"edge\">\n<title>x_G1:e-&gt;ModAddK:w</title>\n<path fill=\"none\" stroke=\"black\" d=\"M54,-18C69.67,-18 74.14,-18 88.77,-18\"/>\n<ellipse fill=\"black\" stroke=\"black\" cx=\"90\" cy=\"-18\" rx=\"1\" ry=\"1\"/>\n<text text-anchor=\"middle\" x=\"72.5\" y=\"-21\" font-family=\"Times,serif\" font-size=\"10.00\">n</text>\n</g>\n<!-- x_G2 -->\n<g id=\"node3\" class=\"node\">\n<title>x_G2</title>\n<text text-anchor=\"middle\" x=\"207\" y=\"-14.3\" font-family=\"Times,serif\" font-size=\"14.00\">x</text>\n</g>\n<!-- ModAddK&#45;&gt;x_G2 -->\n<g id=\"edge2\" class=\"edge\">\n<title>ModAddK:e-&gt;x_G2:w</title>\n<path fill=\"none\" stroke=\"black\" d=\"M143,-18C158.67,-18 163.14,-18 177.77,-18\"/>\n<ellipse fill=\"black\" stroke=\"black\" cx=\"179\" cy=\"-18\" rx=\"1\" ry=\"1\"/>\n<text text-anchor=\"middle\" x=\"161.5\" y=\"-21\" font-family=\"Times,serif\" font-size=\"10.00\">n</text>\n</g>\n</g>\n</svg>",
          "text/plain": "<IPython.core.display.SVG object>"
         },
         "metadata": {},
         "output_type": "display_data"
        }
       ],
       "tabbable": null,
       "tooltip": null
      }
     },
     "54f1a389dcd94f998b0e55f3969b8c29": {
      "model_module": "@jupyter-widgets/base",
      "model_module_version": "2.0.0",
      "model_name": "LayoutModel",
      "state": {
       "_model_module": "@jupyter-widgets/base",
       "_model_module_version": "2.0.0",
       "_model_name": "LayoutModel",
       "_view_count": null,
       "_view_module": "@jupyter-widgets/base",
       "_view_module_version": "2.0.0",
       "_view_name": "LayoutView",
       "align_content": null,
       "align_items": null,
       "align_self": null,
       "border_bottom": null,
       "border_left": null,
       "border_right": null,
       "border_top": null,
       "bottom": null,
       "display": null,
       "flex": null,
       "flex_flow": null,
       "grid_area": null,
       "grid_auto_columns": null,
       "grid_auto_flow": null,
       "grid_auto_rows": null,
       "grid_column": null,
       "grid_gap": null,
       "grid_row": null,
       "grid_template_areas": null,
       "grid_template_columns": null,
       "grid_template_rows": null,
       "height": null,
       "justify_content": null,
       "justify_items": null,
       "left": null,
       "margin": null,
       "max_height": null,
       "max_width": null,
       "min_height": null,
       "min_width": null,
       "object_fit": null,
       "object_position": null,
       "order": null,
       "overflow": null,
       "padding": null,
       "right": null,
       "top": null,
       "visibility": null,
       "width": null
      }
     },
     "5a9b182b1e6b4c9388329c5b00e5d9f8": {
      "model_module": "@jupyter-widgets/output",
      "model_module_version": "1.0.0",
      "model_name": "OutputModel",
      "state": {
       "_dom_classes": [],
       "_model_module": "@jupyter-widgets/output",
       "_model_module_version": "1.0.0",
       "_model_name": "OutputModel",
       "_view_count": null,
       "_view_module": "@jupyter-widgets/output",
       "_view_module_version": "1.0.0",
       "_view_name": "OutputView",
       "layout": "IPY_MODEL_17bf0b1983424209863e4e62878be0c0",
       "msg_id": "",
       "outputs": [
        {
         "data": {
          "text/markdown": "`cmodadd_example`",
          "text/plain": "<IPython.core.display.Markdown object>"
         },
         "metadata": {},
         "output_type": "display_data"
        },
        {
         "data": {
          "image/svg+xml": "<svg xmlns=\"http://www.w3.org/2000/svg\" xmlns:xlink=\"http://www.w3.org/1999/xlink\" width=\"241pt\" height=\"152pt\" viewBox=\"0.00 0.00 241.00 152.00\">\n<g id=\"graph0\" class=\"graph\" transform=\"scale(1 1) rotate(0) translate(4 148)\">\n<title>my_graph</title>\n<polygon fill=\"white\" stroke=\"transparent\" points=\"-4,4 -4,-148 237,-148 237,4 -4,4\"/>\n<!-- ctrl_G4 -->\n<g id=\"node1\" class=\"node\">\n<title>ctrl_G4</title>\n<text text-anchor=\"middle\" x=\"27\" y=\"-122.3\" font-family=\"Times,serif\" font-size=\"14.00\">ctrl</text>\n</g>\n<!-- CModAdd -->\n<g id=\"node4\" class=\"node\">\n<title>CModAdd</title>\n<polygon fill=\"none\" stroke=\"black\" points=\"91.5,-104 91.5,-121 142.5,-121 142.5,-104 91.5,-104\"/>\n<text text-anchor=\"start\" x=\"94.5\" y=\"-110\" font-family=\"Times,serif\" font-size=\"10.00\">CModAdd</text>\n<polygon fill=\"none\" stroke=\"black\" points=\"91.5,-83 91.5,-104 142.5,-104 142.5,-83 91.5,-83\"/>\n<text text-anchor=\"start\" x=\"107.5\" y=\"-89.8\" font-family=\"Times,serif\" font-size=\"14.00\">ctrl</text>\n<polygon fill=\"none\" stroke=\"black\" points=\"91.5,-62 91.5,-83 142.5,-83 142.5,-62 91.5,-62\"/>\n<text text-anchor=\"start\" x=\"113.5\" y=\"-68.8\" font-family=\"Times,serif\" font-size=\"14.00\">x</text>\n<polygon fill=\"none\" stroke=\"black\" points=\"91.5,-41 91.5,-62 142.5,-62 142.5,-41 91.5,-41\"/>\n<text text-anchor=\"start\" x=\"113.5\" y=\"-47.8\" font-family=\"Times,serif\" font-size=\"14.00\">y</text>\n</g>\n<!-- ctrl_G4&#45;&gt;CModAdd -->\n<g id=\"edge1\" class=\"edge\">\n<title>ctrl_G4:e-&gt;CModAdd:w</title>\n<path fill=\"none\" stroke=\"black\" d=\"M54,-126C74.89,-126 69.72,-96.45 88.58,-94.14\"/>\n<ellipse fill=\"black\" stroke=\"black\" cx=\"90\" cy=\"-94.06\" rx=\"1\" ry=\"1\"/>\n<text text-anchor=\"middle\" x=\"72.5\" y=\"-113\" font-family=\"Times,serif\" font-size=\"10.00\">1</text>\n</g>\n<!-- x_G1 -->\n<g id=\"node2\" class=\"node\">\n<title>x_G1</title>\n<text text-anchor=\"middle\" x=\"27\" y=\"-68.3\" font-family=\"Times,serif\" font-size=\"14.00\">x</text>\n</g>\n<!-- x_G1&#45;&gt;CModAdd -->\n<g id=\"edge2\" class=\"edge\">\n<title>x_G1:e-&gt;CModAdd:w</title>\n<path fill=\"none\" stroke=\"black\" d=\"M54,-72C69.67,-72 74.14,-72 88.77,-72\"/>\n<ellipse fill=\"black\" stroke=\"black\" cx=\"90\" cy=\"-72\" rx=\"1\" ry=\"1\"/>\n<text text-anchor=\"middle\" x=\"72.5\" y=\"-75\" font-family=\"Times,serif\" font-size=\"10.00\">32</text>\n</g>\n<!-- y_G0 -->\n<g id=\"node3\" class=\"node\">\n<title>y_G0</title>\n<text text-anchor=\"middle\" x=\"27\" y=\"-14.3\" font-family=\"Times,serif\" font-size=\"14.00\">y</text>\n</g>\n<!-- y_G0&#45;&gt;CModAdd -->\n<g id=\"edge3\" class=\"edge\">\n<title>y_G0:e-&gt;CModAdd:w</title>\n<path fill=\"none\" stroke=\"black\" d=\"M54,-18C75.17,-18 69.47,-48.47 88.55,-50.85\"/>\n<ellipse fill=\"black\" stroke=\"black\" cx=\"90\" cy=\"-50.94\" rx=\"1\" ry=\"1\"/>\n<text text-anchor=\"middle\" x=\"72.5\" y=\"-39\" font-family=\"Times,serif\" font-size=\"10.00\">32</text>\n</g>\n<!-- ctrl_G6 -->\n<g id=\"node5\" class=\"node\">\n<title>ctrl_G6</title>\n<text text-anchor=\"middle\" x=\"206\" y=\"-122.3\" font-family=\"Times,serif\" font-size=\"14.00\">ctrl</text>\n</g>\n<!-- CModAdd&#45;&gt;ctrl_G6 -->\n<g id=\"edge4\" class=\"edge\">\n<title>CModAdd:e-&gt;ctrl_G6:w</title>\n<path fill=\"none\" stroke=\"black\" d=\"M142,-94C162.89,-94 157.72,-123.55 176.58,-125.86\"/>\n<ellipse fill=\"black\" stroke=\"black\" cx=\"178\" cy=\"-125.94\" rx=\"1\" ry=\"1\"/>\n<text text-anchor=\"middle\" x=\"160.5\" y=\"-113\" font-family=\"Times,serif\" font-size=\"10.00\">1</text>\n</g>\n<!-- x_G8 -->\n<g id=\"node6\" class=\"node\">\n<title>x_G8</title>\n<text text-anchor=\"middle\" x=\"206\" y=\"-68.3\" font-family=\"Times,serif\" font-size=\"14.00\">x</text>\n</g>\n<!-- CModAdd&#45;&gt;x_G8 -->\n<g id=\"edge5\" class=\"edge\">\n<title>CModAdd:e-&gt;x_G8:w</title>\n<path fill=\"none\" stroke=\"black\" d=\"M142,-72C157.67,-72 162.14,-72 176.77,-72\"/>\n<ellipse fill=\"black\" stroke=\"black\" cx=\"178\" cy=\"-72\" rx=\"1\" ry=\"1\"/>\n<text text-anchor=\"middle\" x=\"160.5\" y=\"-75\" font-family=\"Times,serif\" font-size=\"10.00\">32</text>\n</g>\n<!-- y_G3 -->\n<g id=\"node7\" class=\"node\">\n<title>y_G3</title>\n<text text-anchor=\"middle\" x=\"206\" y=\"-14.3\" font-family=\"Times,serif\" font-size=\"14.00\">y</text>\n</g>\n<!-- CModAdd&#45;&gt;y_G3 -->\n<g id=\"edge6\" class=\"edge\">\n<title>CModAdd:e-&gt;y_G3:w</title>\n<path fill=\"none\" stroke=\"black\" d=\"M142,-51C163.17,-51 157.47,-20.53 176.55,-18.15\"/>\n<ellipse fill=\"black\" stroke=\"black\" cx=\"178\" cy=\"-18.06\" rx=\"1\" ry=\"1\"/>\n<text text-anchor=\"middle\" x=\"160.5\" y=\"-39\" font-family=\"Times,serif\" font-size=\"10.00\">32</text>\n</g>\n</g>\n</svg>",
          "text/plain": "<IPython.core.display.SVG object>"
         },
         "metadata": {},
         "output_type": "display_data"
        }
       ],
       "tabbable": null,
       "tooltip": null
      }
     },
     "6da2ff77f5ea49e9a447ef04d6d1f119": {
      "model_module": "@jupyter-widgets/base",
      "model_module_version": "2.0.0",
      "model_name": "LayoutModel",
      "state": {
       "_model_module": "@jupyter-widgets/base",
       "_model_module_version": "2.0.0",
       "_model_name": "LayoutModel",
       "_view_count": null,
       "_view_module": "@jupyter-widgets/base",
       "_view_module_version": "2.0.0",
       "_view_name": "LayoutView",
       "align_content": null,
       "align_items": null,
       "align_self": null,
       "border_bottom": null,
       "border_left": null,
       "border_right": null,
       "border_top": null,
       "bottom": null,
       "display": null,
       "flex": null,
       "flex_flow": null,
       "grid_area": null,
       "grid_auto_columns": null,
       "grid_auto_flow": null,
       "grid_auto_rows": null,
       "grid_column": null,
       "grid_gap": null,
       "grid_row": null,
       "grid_template_areas": null,
       "grid_template_columns": null,
       "grid_template_rows": null,
       "height": null,
       "justify_content": null,
       "justify_items": null,
       "left": null,
       "margin": null,
       "max_height": null,
       "max_width": null,
       "min_height": null,
       "min_width": null,
       "object_fit": null,
       "object_position": null,
       "order": null,
       "overflow": null,
       "padding": null,
       "right": null,
       "top": null,
       "visibility": null,
       "width": null
      }
     },
     "7167c3476d8440f4a2a3510436e9b2af": {
      "model_module": "@jupyter-widgets/controls",
      "model_module_version": "2.0.0",
      "model_name": "HBoxModel",
      "state": {
       "_dom_classes": [],
       "_model_module": "@jupyter-widgets/controls",
       "_model_module_version": "2.0.0",
       "_model_name": "HBoxModel",
       "_view_count": null,
       "_view_module": "@jupyter-widgets/controls",
       "_view_module_version": "2.0.0",
       "_view_name": "HBoxView",
       "box_style": "",
       "children": [
        "IPY_MODEL_455a8fa855a14b5db2c734c280a10129",
        "IPY_MODEL_16607fb9574c46cf851a93b17570e061",
        "IPY_MODEL_8faba64b76174336b493355fc6c4d726"
       ],
       "layout": "IPY_MODEL_d83c16a5df8741a8a7c12d08e320e94c",
       "tabbable": null,
       "tooltip": null
      }
     },
     "7ca30dc7d6de4989a2e0842e80785a2b": {
      "model_module": "@jupyter-widgets/output",
      "model_module_version": "1.0.0",
      "model_name": "OutputModel",
      "state": {
       "_dom_classes": [],
       "_model_module": "@jupyter-widgets/output",
       "_model_module_version": "1.0.0",
       "_model_name": "OutputModel",
       "_view_count": null,
       "_view_module": "@jupyter-widgets/output",
       "_view_module_version": "1.0.0",
       "_view_name": "OutputView",
       "layout": "IPY_MODEL_04e1cac13b4a4093b3eac4fd4533a0b8",
       "msg_id": "",
       "outputs": [
        {
         "data": {
          "text/markdown": "`mod_add`",
          "text/plain": "<IPython.core.display.Markdown object>"
         },
         "metadata": {},
         "output_type": "display_data"
        },
        {
         "data": {
          "image/svg+xml": "<svg xmlns=\"http://www.w3.org/2000/svg\" xmlns:xlink=\"http://www.w3.org/1999/xlink\" width=\"234pt\" height=\"98pt\" viewBox=\"0.00 0.00 234.00 98.00\">\n<g id=\"graph0\" class=\"graph\" transform=\"scale(1 1) rotate(0) translate(4 94)\">\n<title>my_graph</title>\n<polygon fill=\"white\" stroke=\"transparent\" points=\"-4,4 -4,-94 230,-94 230,4 -4,4\"/>\n<!-- x_G3 -->\n<g id=\"node1\" class=\"node\">\n<title>x_G3</title>\n<text text-anchor=\"middle\" x=\"27\" y=\"-68.3\" font-family=\"Times,serif\" font-size=\"14.00\">x</text>\n</g>\n<!-- ModAdd -->\n<g id=\"node3\" class=\"node\">\n<title>ModAdd</title>\n<polygon fill=\"none\" stroke=\"black\" points=\"91,-66 91,-83 135,-83 135,-66 91,-66\"/>\n<text text-anchor=\"start\" x=\"94\" y=\"-72\" font-family=\"Times,serif\" font-size=\"10.00\">ModAdd</text>\n<polygon fill=\"none\" stroke=\"black\" points=\"91,-45 91,-66 135,-66 135,-45 91,-45\"/>\n<text text-anchor=\"start\" x=\"109.5\" y=\"-51.8\" font-family=\"Times,serif\" font-size=\"14.00\">x</text>\n<polygon fill=\"none\" stroke=\"black\" points=\"91,-24 91,-45 135,-45 135,-24 91,-24\"/>\n<text text-anchor=\"start\" x=\"109.5\" y=\"-30.8\" font-family=\"Times,serif\" font-size=\"14.00\">y</text>\n</g>\n<!-- x_G3&#45;&gt;ModAdd -->\n<g id=\"edge1\" class=\"edge\">\n<title>x_G3:e-&gt;ModAdd:w</title>\n<path fill=\"none\" stroke=\"black\" d=\"M54,-72C71.22,-72 72.97,-57.23 88.98,-56.07\"/>\n<ellipse fill=\"black\" stroke=\"black\" cx=\"90\" cy=\"-56.04\" rx=\"1\" ry=\"1\"/>\n<text text-anchor=\"middle\" x=\"72.5\" y=\"-67\" font-family=\"Times,serif\" font-size=\"10.00\">n</text>\n</g>\n<!-- y_G5 -->\n<g id=\"node2\" class=\"node\">\n<title>y_G5</title>\n<text text-anchor=\"middle\" x=\"27\" y=\"-14.3\" font-family=\"Times,serif\" font-size=\"14.00\">y</text>\n</g>\n<!-- y_G5&#45;&gt;ModAdd -->\n<g id=\"edge2\" class=\"edge\">\n<title>y_G5:e-&gt;ModAdd:w</title>\n<path fill=\"none\" stroke=\"black\" d=\"M54,-18C71.22,-18 72.97,-32.77 88.98,-33.93\"/>\n<ellipse fill=\"black\" stroke=\"black\" cx=\"90\" cy=\"-33.96\" rx=\"1\" ry=\"1\"/>\n<text text-anchor=\"middle\" x=\"72.5\" y=\"-29\" font-family=\"Times,serif\" font-size=\"10.00\">n</text>\n</g>\n<!-- x_G2 -->\n<g id=\"node4\" class=\"node\">\n<title>x_G2</title>\n<text text-anchor=\"middle\" x=\"199\" y=\"-68.3\" font-family=\"Times,serif\" font-size=\"14.00\">x</text>\n</g>\n<!-- ModAdd&#45;&gt;x_G2 -->\n<g id=\"edge3\" class=\"edge\">\n<title>ModAdd:e-&gt;x_G2:w</title>\n<path fill=\"none\" stroke=\"black\" d=\"M135,-56C152.22,-56 153.97,-70.77 169.98,-71.93\"/>\n<ellipse fill=\"black\" stroke=\"black\" cx=\"171\" cy=\"-71.96\" rx=\"1\" ry=\"1\"/>\n<text text-anchor=\"middle\" x=\"153.5\" y=\"-67\" font-family=\"Times,serif\" font-size=\"10.00\">n</text>\n</g>\n<!-- y_G1 -->\n<g id=\"node5\" class=\"node\">\n<title>y_G1</title>\n<text text-anchor=\"middle\" x=\"199\" y=\"-14.3\" font-family=\"Times,serif\" font-size=\"14.00\">y</text>\n</g>\n<!-- ModAdd&#45;&gt;y_G1 -->\n<g id=\"edge4\" class=\"edge\">\n<title>ModAdd:e-&gt;y_G1:w</title>\n<path fill=\"none\" stroke=\"black\" d=\"M135,-34C152.22,-34 153.97,-19.23 169.98,-18.07\"/>\n<ellipse fill=\"black\" stroke=\"black\" cx=\"171\" cy=\"-18.04\" rx=\"1\" ry=\"1\"/>\n<text text-anchor=\"middle\" x=\"153.5\" y=\"-29\" font-family=\"Times,serif\" font-size=\"10.00\">n</text>\n</g>\n</g>\n</svg>",
          "text/plain": "<IPython.core.display.SVG object>"
         },
         "metadata": {},
         "output_type": "display_data"
        }
       ],
       "tabbable": null,
       "tooltip": null
      }
     },
     "8faba64b76174336b493355fc6c4d726": {
      "model_module": "@jupyter-widgets/output",
      "model_module_version": "1.0.0",
      "model_name": "OutputModel",
      "state": {
       "_dom_classes": [],
       "_model_module": "@jupyter-widgets/output",
       "_model_module_version": "1.0.0",
       "_model_name": "OutputModel",
       "_view_count": null,
       "_view_module": "@jupyter-widgets/output",
       "_view_module_version": "1.0.0",
       "_view_name": "OutputView",
       "layout": "IPY_MODEL_54f1a389dcd94f998b0e55f3969b8c29",
       "msg_id": "",
       "outputs": [
        {
         "data": {
          "text/markdown": "`mod_add_k_large`",
          "text/plain": "<IPython.core.display.Markdown object>"
         },
         "metadata": {},
         "output_type": "display_data"
        },
        {
         "data": {
          "image/svg+xml": "<svg xmlns=\"http://www.w3.org/2000/svg\" xmlns:xlink=\"http://www.w3.org/1999/xlink\" width=\"242pt\" height=\"54pt\" viewBox=\"0.00 0.00 242.00 54.00\">\n<g id=\"graph0\" class=\"graph\" transform=\"scale(1 1) rotate(0) translate(4 50)\">\n<title>my_graph</title>\n<polygon fill=\"white\" stroke=\"transparent\" points=\"-4,4 -4,-50 238,-50 238,4 -4,4\"/>\n<!-- x_G0 -->\n<g id=\"node1\" class=\"node\">\n<title>x_G0</title>\n<text text-anchor=\"middle\" x=\"27\" y=\"-14.3\" font-family=\"Times,serif\" font-size=\"14.00\">x</text>\n</g>\n<!-- ModAddK -->\n<g id=\"node2\" class=\"node\">\n<title>ModAddK</title>\n<polygon fill=\"none\" stroke=\"black\" points=\"91,-29 91,-46 143,-46 143,-29 91,-29\"/>\n<text text-anchor=\"start\" x=\"94\" y=\"-35\" font-family=\"Times,serif\" font-size=\"10.00\">ModAddK</text>\n<polygon fill=\"none\" stroke=\"black\" points=\"91,-8 91,-29 143,-29 143,-8 91,-8\"/>\n<text text-anchor=\"start\" x=\"113.5\" y=\"-14.8\" font-family=\"Times,serif\" font-size=\"14.00\">x</text>\n</g>\n<!-- x_G0&#45;&gt;ModAddK -->\n<g id=\"edge1\" class=\"edge\">\n<title>x_G0:e-&gt;ModAddK:w</title>\n<path fill=\"none\" stroke=\"black\" d=\"M54,-18C69.67,-18 74.14,-18 88.77,-18\"/>\n<ellipse fill=\"black\" stroke=\"black\" cx=\"90\" cy=\"-18\" rx=\"1\" ry=\"1\"/>\n<text text-anchor=\"middle\" x=\"72.5\" y=\"-21\" font-family=\"Times,serif\" font-size=\"10.00\">64</text>\n</g>\n<!-- x_G2 -->\n<g id=\"node3\" class=\"node\">\n<title>x_G2</title>\n<text text-anchor=\"middle\" x=\"207\" y=\"-14.3\" font-family=\"Times,serif\" font-size=\"14.00\">x</text>\n</g>\n<!-- ModAddK&#45;&gt;x_G2 -->\n<g id=\"edge2\" class=\"edge\">\n<title>ModAddK:e-&gt;x_G2:w</title>\n<path fill=\"none\" stroke=\"black\" d=\"M143,-18C158.67,-18 163.14,-18 177.77,-18\"/>\n<ellipse fill=\"black\" stroke=\"black\" cx=\"179\" cy=\"-18\" rx=\"1\" ry=\"1\"/>\n<text text-anchor=\"middle\" x=\"161.5\" y=\"-21\" font-family=\"Times,serif\" font-size=\"10.00\">64</text>\n</g>\n</g>\n</svg>",
          "text/plain": "<IPython.core.display.SVG object>"
         },
         "metadata": {},
         "output_type": "display_data"
        }
       ],
       "tabbable": null,
       "tooltip": null
      }
     },
     "a1eba5e4d6054c72b1df808906dfa6cd": {
      "model_module": "@jupyter-widgets/base",
      "model_module_version": "2.0.0",
      "model_name": "LayoutModel",
      "state": {
       "_model_module": "@jupyter-widgets/base",
       "_model_module_version": "2.0.0",
       "_model_name": "LayoutModel",
       "_view_count": null,
       "_view_module": "@jupyter-widgets/base",
       "_view_module_version": "2.0.0",
       "_view_name": "LayoutView",
       "align_content": null,
       "align_items": null,
       "align_self": null,
       "border_bottom": null,
       "border_left": null,
       "border_right": null,
       "border_top": null,
       "bottom": null,
       "display": null,
       "flex": null,
       "flex_flow": null,
       "grid_area": null,
       "grid_auto_columns": null,
       "grid_auto_flow": null,
       "grid_auto_rows": null,
       "grid_column": null,
       "grid_gap": null,
       "grid_row": null,
       "grid_template_areas": null,
       "grid_template_columns": null,
       "grid_template_rows": null,
       "height": null,
       "justify_content": null,
       "justify_items": null,
       "left": null,
       "margin": null,
       "max_height": null,
       "max_width": null,
       "min_height": null,
       "min_width": null,
       "object_fit": null,
       "object_position": null,
       "order": null,
       "overflow": null,
       "padding": null,
       "right": null,
       "top": null,
       "visibility": null,
       "width": null
      }
     },
     "b500e0b451f84cacb3672c24fb7d1dc5": {
      "model_module": "@jupyter-widgets/controls",
      "model_module_version": "2.0.0",
      "model_name": "HBoxModel",
      "state": {
       "_dom_classes": [],
       "_model_module": "@jupyter-widgets/controls",
       "_model_module_version": "2.0.0",
       "_model_name": "HBoxModel",
       "_view_count": null,
       "_view_module": "@jupyter-widgets/controls",
       "_view_module_version": "2.0.0",
       "_view_name": "HBoxView",
       "box_style": "",
       "children": [
        "IPY_MODEL_7ca30dc7d6de4989a2e0842e80785a2b"
       ],
       "layout": "IPY_MODEL_a1eba5e4d6054c72b1df808906dfa6cd",
       "tabbable": null,
       "tooltip": null
      }
     },
     "d83c16a5df8741a8a7c12d08e320e94c": {
      "model_module": "@jupyter-widgets/base",
      "model_module_version": "2.0.0",
      "model_name": "LayoutModel",
      "state": {
       "_model_module": "@jupyter-widgets/base",
       "_model_module_version": "2.0.0",
       "_model_name": "LayoutModel",
       "_view_count": null,
       "_view_module": "@jupyter-widgets/base",
       "_view_module_version": "2.0.0",
       "_view_name": "LayoutView",
       "align_content": null,
       "align_items": null,
       "align_self": null,
       "border_bottom": null,
       "border_left": null,
       "border_right": null,
       "border_top": null,
       "bottom": null,
       "display": null,
       "flex": null,
       "flex_flow": null,
       "grid_area": null,
       "grid_auto_columns": null,
       "grid_auto_flow": null,
       "grid_auto_rows": null,
       "grid_column": null,
       "grid_gap": null,
       "grid_row": null,
       "grid_template_areas": null,
       "grid_template_columns": null,
       "grid_template_rows": null,
       "height": null,
       "justify_content": null,
       "justify_items": null,
       "left": null,
       "margin": null,
       "max_height": null,
       "max_width": null,
       "min_height": null,
       "min_width": null,
       "object_fit": null,
       "object_position": null,
       "order": null,
       "overflow": null,
       "padding": null,
       "right": null,
       "top": null,
       "visibility": null,
       "width": null
      }
     },
     "f9ccf4b2f983440a977a2ced0af8f1a6": {
      "model_module": "@jupyter-widgets/controls",
      "model_module_version": "2.0.0",
      "model_name": "HBoxModel",
      "state": {
       "_dom_classes": [],
       "_model_module": "@jupyter-widgets/controls",
       "_model_module_version": "2.0.0",
       "_model_name": "HBoxModel",
       "_view_count": null,
       "_view_module": "@jupyter-widgets/controls",
       "_view_module_version": "2.0.0",
       "_view_name": "HBoxView",
       "box_style": "",
       "children": [
        "IPY_MODEL_5a9b182b1e6b4c9388329c5b00e5d9f8",
        "IPY_MODEL_2692569e05e14fec9491854ec3672f8e"
       ],
       "layout": "IPY_MODEL_6da2ff77f5ea49e9a447ef04d6d1f119",
       "tabbable": null,
       "tooltip": null
      }
     }
    },
    "version_major": 2,
    "version_minor": 0
   }
  }
 },
 "nbformat": 4,
 "nbformat_minor": 5
}
