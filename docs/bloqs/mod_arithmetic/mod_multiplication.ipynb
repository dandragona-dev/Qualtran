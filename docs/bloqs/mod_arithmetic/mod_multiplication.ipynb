{
 "cells": [
  {
   "cell_type": "markdown",
   "id": "6b63cfe5",
   "metadata": {
    "cq.autogen": "title_cell"
   },
   "source": [
    "# Modular Multiplication"
   ]
  },
  {
   "cell_type": "code",
   "execution_count": 1,
   "id": "d72f6711",
   "metadata": {
    "cq.autogen": "top_imports"
   },
   "outputs": [],
   "source": [
    "from qualtran import Bloq, CompositeBloq, BloqBuilder, Signature, Register\n",
    "from qualtran import QBit, QInt, QUInt, QAny\n",
    "from qualtran.drawing import show_bloq, show_call_graph, show_counts_sigma\n",
    "from typing import *\n",
    "import numpy as np\n",
    "import sympy\n",
    "import cirq"
   ]
  },
  {
   "cell_type": "markdown",
   "id": "d3899162",
   "metadata": {
    "cq.autogen": "ModDbl.bloq_doc.md"
   },
   "source": [
    "## `ModDbl`\n",
    "An n-bit modular doubling gate.\n",
    "\n",
    "Implements $\\ket{x} \\rightarrow \\ket{2x \\mod p}$ using $2n$ Toffoli gates.\n",
    "\n",
    "#### Parameters\n",
    " - `dtype`: Dtype of the number to double.\n",
    " - `p`: The modulus for the doubling. \n",
    "\n",
    "#### Registers\n",
    " - `x`: The register containing the number to double. \n",
    "\n",
    "#### References\n",
    " - [How to compute a 256-bit elliptic curve private key with only 50 million Toffoli gates](https://arxiv.org/abs/2306.08585). Fig 6d and 8\n"
   ]
  },
  {
   "cell_type": "code",
   "execution_count": 2,
   "id": "53515719",
   "metadata": {
    "cq.autogen": "ModDbl.bloq_doc.py"
   },
   "outputs": [],
   "source": [
    "from qualtran.bloqs.mod_arithmetic import ModDbl"
   ]
  },
  {
   "cell_type": "markdown",
   "id": "b5e0c374",
   "metadata": {
    "cq.autogen": "ModDbl.example_instances.md"
   },
   "source": [
    "### Example Instances"
   ]
  },
  {
   "cell_type": "code",
   "execution_count": 3,
   "id": "550f264b",
   "metadata": {
    "cq.autogen": "ModDbl.moddbl_small"
   },
   "outputs": [],
   "source": [
    "moddbl_small = ModDbl(QUInt(4), 13)"
   ]
  },
  {
   "cell_type": "code",
   "execution_count": 4,
   "id": "89df68f0",
   "metadata": {
    "cq.autogen": "ModDbl.moddbl_large"
   },
   "outputs": [],
   "source": [
    "prime = 10**9 + 7\n",
    "moddbl_large = ModDbl(QUInt(32), prime)"
   ]
  },
  {
   "cell_type": "markdown",
   "id": "acd85b81",
   "metadata": {
    "cq.autogen": "ModDbl.graphical_signature.md"
   },
   "source": [
    "#### Graphical Signature"
   ]
  },
  {
   "cell_type": "code",
   "execution_count": 5,
   "id": "c588ee92",
   "metadata": {
    "cq.autogen": "ModDbl.graphical_signature.py"
   },
   "outputs": [
    {
     "data": {
      "application/vnd.jupyter.widget-view+json": {
       "model_id": "a184b762c2ec4c799bbdfc820888f17d",
       "version_major": 2,
       "version_minor": 0
      },
      "text/plain": [
       "HBox(children=(Output(outputs=({'output_type': 'display_data', 'data': {'text/plain': '<IPython.core.display.M…"
      ]
     },
     "metadata": {},
     "output_type": "display_data"
    }
   ],
   "source": [
    "from qualtran.drawing import show_bloqs\n",
    "show_bloqs([moddbl_small, moddbl_large],\n",
    "           ['`moddbl_small`', '`moddbl_large`'])"
   ]
  },
  {
   "cell_type": "markdown",
   "id": "3cfc35a0",
   "metadata": {
    "cq.autogen": "ModDbl.call_graph.md"
   },
   "source": [
    "### Call Graph"
   ]
  },
  {
   "cell_type": "code",
   "execution_count": 6,
   "id": "c5211901",
   "metadata": {
    "cq.autogen": "ModDbl.call_graph.py"
   },
   "outputs": [
    {
     "data": {
      "image/svg+xml": [
       "<svg xmlns=\"http://www.w3.org/2000/svg\" xmlns:xlink=\"http://www.w3.org/1999/xlink\" width=\"667pt\" height=\"131pt\" viewBox=\"0.00 0.00 666.50 131.00\">\n",
       "<g id=\"graph0\" class=\"graph\" transform=\"scale(1 1) rotate(0) translate(4 127)\">\n",
       "<title>counts</title>\n",
       "<polygon fill=\"white\" stroke=\"transparent\" points=\"-4,4 -4,-127 662.5,-127 662.5,4 -4,4\"/>\n",
       "<!-- b0 -->\n",
       "<g id=\"node1\" class=\"node\">\n",
       "<title>b0</title>\n",
       "<polygon fill=\"none\" stroke=\"black\" points=\"560,-123 387,-123 387,-87 560,-87 560,-123\"/>\n",
       "<text text-anchor=\"start\" x=\"450\" y=\"-106.8\" font-family=\"Times,serif\" font-size=\"14.00\">ModDbl</text>\n",
       "<text text-anchor=\"start\" x=\"395\" y=\"-96\" font-family=\"monospace\" font-size=\"10.00\">dtype=QUInt(bi ..., mod=13</text>\n",
       "</g>\n",
       "<!-- b1 -->\n",
       "<g id=\"node2\" class=\"node\">\n",
       "<title>b1</title>\n",
       "<polygon fill=\"none\" stroke=\"black\" points=\"245,-36 0,-36 0,0 245,0 245,-36\"/>\n",
       "<text text-anchor=\"start\" x=\"105.5\" y=\"-19.8\" font-family=\"Times,serif\" font-size=\"14.00\">AddK</text>\n",
       "<text text-anchor=\"start\" x=\"8\" y=\"-9\" font-family=\"monospace\" font-size=\"10.00\">bitsize=6, k=-13, cvs=(), signed=False</text>\n",
       "</g>\n",
       "<!-- b0&#45;&gt;b1 -->\n",
       "<g id=\"edge1\" class=\"edge\">\n",
       "<title>b0-&gt;b1</title>\n",
       "<path fill=\"none\" stroke=\"black\" d=\"M402.89,-86.9C345.05,-72.89 263.21,-53.07 202.87,-38.46\"/>\n",
       "<polygon fill=\"black\" stroke=\"black\" points=\"203.54,-35.02 193,-36.07 201.89,-41.83 203.54,-35.02\"/>\n",
       "<text text-anchor=\"middle\" x=\"323\" y=\"-57.8\" font-family=\"Times,serif\" font-size=\"14.00\">1</text>\n",
       "</g>\n",
       "<!-- b2 -->\n",
       "<g id=\"node3\" class=\"node\">\n",
       "<title>b2</title>\n",
       "<polygon fill=\"none\" stroke=\"black\" points=\"514,-36 263,-36 263,0 514,0 514,-36\"/>\n",
       "<text text-anchor=\"start\" x=\"371.5\" y=\"-19.8\" font-family=\"Times,serif\" font-size=\"14.00\">AddK</text>\n",
       "<text text-anchor=\"start\" x=\"271\" y=\"-9\" font-family=\"monospace\" font-size=\"10.00\">bitsize=5, k=13, cvs=(1,), signed=False</text>\n",
       "</g>\n",
       "<!-- b0&#45;&gt;b2 -->\n",
       "<g id=\"edge2\" class=\"edge\">\n",
       "<title>b0-&gt;b2</title>\n",
       "<path fill=\"none\" stroke=\"black\" d=\"M456.3,-86.8C443.86,-74.36 426.86,-57.36 413,-43.5\"/>\n",
       "<polygon fill=\"black\" stroke=\"black\" points=\"415.22,-40.77 405.68,-36.18 410.27,-45.72 415.22,-40.77\"/>\n",
       "<text text-anchor=\"middle\" x=\"440\" y=\"-57.8\" font-family=\"Times,serif\" font-size=\"14.00\">1</text>\n",
       "</g>\n",
       "<!-- b3 -->\n",
       "<g id=\"node4\" class=\"node\">\n",
       "<title>b3</title>\n",
       "<polygon fill=\"none\" stroke=\"black\" points=\"586.5,-36 532.5,-36 532.5,0 586.5,0 586.5,-36\"/>\n",
       "<text text-anchor=\"start\" x=\"541\" y=\"-14.3\" font-family=\"Times,serif\" font-size=\"14.00\">CNOT</text>\n",
       "</g>\n",
       "<!-- b0&#45;&gt;b3 -->\n",
       "<g id=\"edge3\" class=\"edge\">\n",
       "<title>b0-&gt;b3</title>\n",
       "<path fill=\"none\" stroke=\"black\" d=\"M490.9,-86.8C503.49,-74.36 520.68,-57.36 534.71,-43.5\"/>\n",
       "<polygon fill=\"black\" stroke=\"black\" points=\"537.47,-45.69 542.12,-36.18 532.55,-40.72 537.47,-45.69\"/>\n",
       "<text text-anchor=\"middle\" x=\"526\" y=\"-57.8\" font-family=\"Times,serif\" font-size=\"14.00\">1</text>\n",
       "</g>\n",
       "<!-- b4 -->\n",
       "<g id=\"node5\" class=\"node\">\n",
       "<title>b4</title>\n",
       "<polygon fill=\"none\" stroke=\"black\" points=\"658.5,-36 604.5,-36 604.5,0 658.5,0 658.5,-36\"/>\n",
       "<text text-anchor=\"start\" x=\"613.5\" y=\"-14.3\" font-family=\"Times,serif\" font-size=\"14.00\">XGate</text>\n",
       "</g>\n",
       "<!-- b0&#45;&gt;b4 -->\n",
       "<g id=\"edge4\" class=\"edge\">\n",
       "<title>b0-&gt;b4</title>\n",
       "<path fill=\"none\" stroke=\"black\" d=\"M505.47,-86.8C531.45,-72.83 568.08,-53.12 595.16,-38.55\"/>\n",
       "<polygon fill=\"black\" stroke=\"black\" points=\"597.16,-41.45 604.31,-33.63 593.85,-35.28 597.16,-41.45\"/>\n",
       "<text text-anchor=\"middle\" x=\"566\" y=\"-57.8\" font-family=\"Times,serif\" font-size=\"14.00\">2</text>\n",
       "</g>\n",
       "</g>\n",
       "</svg>"
      ],
      "text/plain": [
       "<IPython.core.display.SVG object>"
      ]
     },
     "metadata": {},
     "output_type": "display_data"
    },
    {
     "data": {
      "text/markdown": [
       "#### Counts totals:\n",
       " - `AddK`: 1\n",
       " - `AddK`: 1\n",
       " - `CNOT`: 1\n",
       " - `XGate`: 2"
      ],
      "text/plain": [
       "<IPython.core.display.Markdown object>"
      ]
     },
     "metadata": {},
     "output_type": "display_data"
    }
   ],
   "source": [
    "from qualtran.resource_counting.generalizers import ignore_split_join\n",
    "moddbl_small_g, moddbl_small_sigma = moddbl_small.call_graph(max_depth=1, generalizer=ignore_split_join)\n",
    "show_call_graph(moddbl_small_g)\n",
    "show_counts_sigma(moddbl_small_sigma)"
   ]
  },
  {
   "cell_type": "markdown",
   "id": "e21338a3",
   "metadata": {
    "cq.autogen": "CModMulK.bloq_doc.md"
   },
   "source": [
    "## `CModMulK`\n",
    "Perform controlled modular multiplication by a constant.\n",
    "\n",
    "Applies $\\ket{c}\\ket{c} \\rightarrow \\ket{c} \\ket{x*k^c \\mod p}$.\n",
    "\n",
    "#### Parameters\n",
    " - `dtype`: Dtype of the register.\n",
    " - `k`: The integer multiplicative constant.\n",
    " - `mod`: The integer modulus. \n",
    "\n",
    "#### Registers\n",
    " - `ctrl`: The control bit\n",
    " - `x`: The integer being multiplied\n"
   ]
  },
  {
   "cell_type": "code",
   "execution_count": 7,
   "id": "08cc01f5",
   "metadata": {
    "cq.autogen": "CModMulK.bloq_doc.py"
   },
   "outputs": [],
   "source": [
    "from qualtran.bloqs.mod_arithmetic import CModMulK"
   ]
  },
  {
   "cell_type": "markdown",
   "id": "4a8585a7",
   "metadata": {
    "cq.autogen": "CModMulK.example_instances.md"
   },
   "source": [
    "### Example Instances"
   ]
  },
  {
   "cell_type": "code",
   "execution_count": 8,
   "id": "7d72393a",
   "metadata": {
    "cq.autogen": "CModMulK.modmul_symb"
   },
   "outputs": [],
   "source": [
    "import sympy\n",
    "\n",
    "k, N, n_x = sympy.symbols('k N n_x')\n",
    "modmul_symb = CModMulK(QUInt(n_x), k=k, mod=N)"
   ]
  },
  {
   "cell_type": "code",
   "execution_count": 9,
   "id": "521a0b51",
   "metadata": {
    "cq.autogen": "CModMulK.modmul"
   },
   "outputs": [],
   "source": [
    "modmul = CModMulK(QUInt(8), k=123, mod=13 * 17)"
   ]
  },
  {
   "cell_type": "markdown",
   "id": "b51e0ac8",
   "metadata": {
    "cq.autogen": "CModMulK.graphical_signature.md"
   },
   "source": [
    "#### Graphical Signature"
   ]
  },
  {
   "cell_type": "code",
   "execution_count": 10,
   "id": "686db91d",
   "metadata": {
    "cq.autogen": "CModMulK.graphical_signature.py"
   },
   "outputs": [
    {
     "data": {
      "application/vnd.jupyter.widget-view+json": {
       "model_id": "5fff1f33496042ccb950a00965298931",
       "version_major": 2,
       "version_minor": 0
      },
      "text/plain": [
       "HBox(children=(Output(outputs=({'output_type': 'display_data', 'data': {'text/plain': '<IPython.core.display.M…"
      ]
     },
     "metadata": {},
     "output_type": "display_data"
    }
   ],
   "source": [
    "from qualtran.drawing import show_bloqs\n",
    "show_bloqs([modmul_symb, modmul],\n",
    "           ['`modmul_symb`', '`modmul`'])"
   ]
  },
  {
   "cell_type": "markdown",
   "id": "0749b88f",
   "metadata": {
    "cq.autogen": "CModMulK.call_graph.md"
   },
   "source": [
    "### Call Graph"
   ]
  },
  {
   "cell_type": "code",
   "execution_count": 11,
   "id": "29decc82",
   "metadata": {
    "cq.autogen": "CModMulK.call_graph.py"
   },
   "outputs": [
    {
     "data": {
      "image/svg+xml": [
       "<svg xmlns=\"http://www.w3.org/2000/svg\" xmlns:xlink=\"http://www.w3.org/1999/xlink\" width=\"276pt\" height=\"131pt\" viewBox=\"0.00 0.00 276.00 131.00\">\n",
       "<g id=\"graph0\" class=\"graph\" transform=\"scale(1 1) rotate(0) translate(4 127)\">\n",
       "<title>counts</title>\n",
       "<polygon fill=\"white\" stroke=\"transparent\" points=\"-4,4 -4,-127 272,-127 272,4 -4,4\"/>\n",
       "<!-- b0 -->\n",
       "<g id=\"node1\" class=\"node\">\n",
       "<title>b0</title>\n",
       "<polygon fill=\"none\" stroke=\"black\" points=\"253,-123 56,-123 56,-87 253,-87 253,-123\"/>\n",
       "<text text-anchor=\"start\" x=\"120\" y=\"-106.8\" font-family=\"Times,serif\" font-size=\"14.00\">CModMulK</text>\n",
       "<text text-anchor=\"start\" x=\"64\" y=\"-96\" font-family=\"monospace\" font-size=\"10.00\">dtype=QUInt(bi ..., k=k, mod=N</text>\n",
       "</g>\n",
       "<!-- b1 -->\n",
       "<g id=\"node2\" class=\"node\">\n",
       "<title>b1</title>\n",
       "<polygon fill=\"none\" stroke=\"black\" points=\"167,-36 0,-36 0,0 167,0 167,-36\"/>\n",
       "<text text-anchor=\"start\" x=\"33.5\" y=\"-19.8\" font-family=\"Times,serif\" font-size=\"14.00\">CtrlScaleModAdd</text>\n",
       "<text text-anchor=\"start\" x=\"8\" y=\"-9\" font-family=\"monospace\" font-size=\"10.00\">k=_k0, mod=N, bitsize=n_x</text>\n",
       "</g>\n",
       "<!-- b0&#45;&gt;b1 -->\n",
       "<g id=\"edge1\" class=\"edge\">\n",
       "<title>b0-&gt;b1</title>\n",
       "<path fill=\"none\" stroke=\"black\" d=\"M140.13,-86.8C129.83,-74.47 115.81,-57.68 104.29,-43.89\"/>\n",
       "<polygon fill=\"black\" stroke=\"black\" points=\"106.94,-41.61 97.85,-36.18 101.57,-46.09 106.94,-41.61\"/>\n",
       "<text text-anchor=\"middle\" x=\"127\" y=\"-57.8\" font-family=\"Times,serif\" font-size=\"14.00\">2</text>\n",
       "</g>\n",
       "<!-- b2 -->\n",
       "<g id=\"node3\" class=\"node\">\n",
       "<title>b2</title>\n",
       "<polygon fill=\"none\" stroke=\"black\" points=\"268,-36 185,-36 185,0 268,0 268,-36\"/>\n",
       "<text text-anchor=\"start\" x=\"206.5\" y=\"-19.8\" font-family=\"Times,serif\" font-size=\"14.00\">CSwap</text>\n",
       "<text text-anchor=\"start\" x=\"193\" y=\"-9\" font-family=\"monospace\" font-size=\"10.00\">bitsize=n_x</text>\n",
       "</g>\n",
       "<!-- b0&#45;&gt;b2 -->\n",
       "<g id=\"edge2\" class=\"edge\">\n",
       "<title>b0-&gt;b2</title>\n",
       "<path fill=\"none\" stroke=\"black\" d=\"M169.07,-86.8C179.51,-74.47 193.74,-57.68 205.42,-43.89\"/>\n",
       "<polygon fill=\"black\" stroke=\"black\" points=\"208.16,-46.07 211.95,-36.18 202.82,-41.54 208.16,-46.07\"/>\n",
       "<text text-anchor=\"middle\" x=\"199\" y=\"-57.8\" font-family=\"Times,serif\" font-size=\"14.00\">1</text>\n",
       "</g>\n",
       "</g>\n",
       "</svg>"
      ],
      "text/plain": [
       "<IPython.core.display.SVG object>"
      ]
     },
     "metadata": {},
     "output_type": "display_data"
    },
    {
     "data": {
      "text/markdown": [
       "#### Counts totals:\n",
       " - `CSwap`: 1\n",
       " - `CtrlScaleModAdd`: 2"
      ],
      "text/plain": [
       "<IPython.core.display.Markdown object>"
      ]
     },
     "metadata": {},
     "output_type": "display_data"
    }
   ],
   "source": [
    "from qualtran.resource_counting.generalizers import ignore_split_join\n",
    "modmul_symb_g, modmul_symb_sigma = modmul_symb.call_graph(max_depth=1, generalizer=ignore_split_join)\n",
    "show_call_graph(modmul_symb_g)\n",
    "show_counts_sigma(modmul_symb_sigma)"
   ]
  }
 ],
 "metadata": {
  "kernelspec": {
   "display_name": "Python 3",
   "language": "python",
   "name": "python3"
  },
  "language_info": {
   "codemirror_mode": {
    "name": "ipython",
    "version": 3
   },
   "file_extension": ".py",
   "mimetype": "text/x-python",
   "name": "python",
   "nbconvert_exporter": "python",
   "pygments_lexer": "ipython3",
   "version": "3.11.8"
  },
  "widgets": {
   "application/vnd.jupyter.widget-state+json": {
    "state": {
     "0d821010a0624ec291cbac41eb1872dd": {
      "model_module": "@jupyter-widgets/base",
      "model_module_version": "2.0.0",
      "model_name": "LayoutModel",
      "state": {
       "_model_module": "@jupyter-widgets/base",
       "_model_module_version": "2.0.0",
       "_model_name": "LayoutModel",
       "_view_count": null,
       "_view_module": "@jupyter-widgets/base",
       "_view_module_version": "2.0.0",
       "_view_name": "LayoutView",
       "align_content": null,
       "align_items": null,
       "align_self": null,
       "border_bottom": null,
       "border_left": null,
       "border_right": null,
       "border_top": null,
       "bottom": null,
       "display": null,
       "flex": null,
       "flex_flow": null,
       "grid_area": null,
       "grid_auto_columns": null,
       "grid_auto_flow": null,
       "grid_auto_rows": null,
       "grid_column": null,
       "grid_gap": null,
       "grid_row": null,
       "grid_template_areas": null,
       "grid_template_columns": null,
       "grid_template_rows": null,
       "height": null,
       "justify_content": null,
       "justify_items": null,
       "left": null,
       "margin": null,
       "max_height": null,
       "max_width": null,
       "min_height": null,
       "min_width": null,
       "object_fit": null,
       "object_position": null,
       "order": null,
       "overflow": null,
       "padding": null,
       "right": null,
       "top": null,
       "visibility": null,
       "width": null
      }
     },
     "308ee092cd2c455bb3b4734487f7e51b": {
      "model_module": "@jupyter-widgets/output",
      "model_module_version": "1.0.0",
      "model_name": "OutputModel",
      "state": {
       "_dom_classes": [],
       "_model_module": "@jupyter-widgets/output",
       "_model_module_version": "1.0.0",
       "_model_name": "OutputModel",
       "_view_count": null,
       "_view_module": "@jupyter-widgets/output",
       "_view_module_version": "1.0.0",
       "_view_name": "OutputView",
       "layout": "IPY_MODEL_d9b57c86379a40f08345237c4c46ee9f",
       "msg_id": "",
       "outputs": [
        {
         "data": {
          "text/markdown": "`modmul`",
          "text/plain": "<IPython.core.display.Markdown object>"
         },
         "metadata": {},
         "output_type": "display_data"
        },
        {
         "data": {
          "image/svg+xml": "<svg xmlns=\"http://www.w3.org/2000/svg\" xmlns:xlink=\"http://www.w3.org/1999/xlink\" width=\"248pt\" height=\"98pt\" viewBox=\"0.00 0.00 248.00 98.00\">\n<g id=\"graph0\" class=\"graph\" transform=\"scale(1 1) rotate(0) translate(4 94)\">\n<title>my_graph</title>\n<polygon fill=\"white\" stroke=\"transparent\" points=\"-4,4 -4,-94 244,-94 244,4 -4,4\"/>\n<!-- ctrl_G0 -->\n<g id=\"node1\" class=\"node\">\n<title>ctrl_G0</title>\n<text text-anchor=\"middle\" x=\"27\" y=\"-68.3\" font-family=\"Times,serif\" font-size=\"14.00\">ctrl</text>\n</g>\n<!-- CModMulK -->\n<g id=\"node3\" class=\"node\">\n<title>CModMulK</title>\n<polygon fill=\"none\" stroke=\"black\" points=\"91,-66 91,-83 149,-83 149,-66 91,-66\"/>\n<text text-anchor=\"start\" x=\"94\" y=\"-72\" font-family=\"Times,serif\" font-size=\"10.00\">CModMulK</text>\n<polygon fill=\"none\" stroke=\"black\" points=\"91,-45 91,-66 149,-66 149,-45 91,-45\"/>\n<text text-anchor=\"start\" x=\"110.5\" y=\"-51.8\" font-family=\"Times,serif\" font-size=\"14.00\">ctrl</text>\n<polygon fill=\"none\" stroke=\"black\" points=\"91,-24 91,-45 149,-45 149,-24 91,-24\"/>\n<text text-anchor=\"start\" x=\"116.5\" y=\"-30.8\" font-family=\"Times,serif\" font-size=\"14.00\">x</text>\n</g>\n<!-- ctrl_G0&#45;&gt;CModMulK -->\n<g id=\"edge1\" class=\"edge\">\n<title>ctrl_G0:e-&gt;CModMulK:w</title>\n<path fill=\"none\" stroke=\"black\" d=\"M54,-72C71.22,-72 72.97,-57.23 88.98,-56.07\"/>\n<ellipse fill=\"black\" stroke=\"black\" cx=\"90\" cy=\"-56.04\" rx=\"1\" ry=\"1\"/>\n<text text-anchor=\"middle\" x=\"72.5\" y=\"-67\" font-family=\"Times,serif\" font-size=\"10.00\">1</text>\n</g>\n<!-- x_G4 -->\n<g id=\"node2\" class=\"node\">\n<title>x_G4</title>\n<text text-anchor=\"middle\" x=\"27\" y=\"-14.3\" font-family=\"Times,serif\" font-size=\"14.00\">x</text>\n</g>\n<!-- x_G4&#45;&gt;CModMulK -->\n<g id=\"edge2\" class=\"edge\">\n<title>x_G4:e-&gt;CModMulK:w</title>\n<path fill=\"none\" stroke=\"black\" d=\"M54,-18C71.22,-18 72.97,-32.77 88.98,-33.93\"/>\n<ellipse fill=\"black\" stroke=\"black\" cx=\"90\" cy=\"-33.96\" rx=\"1\" ry=\"1\"/>\n<text text-anchor=\"middle\" x=\"72.5\" y=\"-29\" font-family=\"Times,serif\" font-size=\"10.00\">8</text>\n</g>\n<!-- ctrl_G5 -->\n<g id=\"node4\" class=\"node\">\n<title>ctrl_G5</title>\n<text text-anchor=\"middle\" x=\"213\" y=\"-68.3\" font-family=\"Times,serif\" font-size=\"14.00\">ctrl</text>\n</g>\n<!-- CModMulK&#45;&gt;ctrl_G5 -->\n<g id=\"edge3\" class=\"edge\">\n<title>CModMulK:e-&gt;ctrl_G5:w</title>\n<path fill=\"none\" stroke=\"black\" d=\"M149,-56C166.22,-56 167.97,-70.77 183.98,-71.93\"/>\n<ellipse fill=\"black\" stroke=\"black\" cx=\"185\" cy=\"-71.96\" rx=\"1\" ry=\"1\"/>\n<text text-anchor=\"middle\" x=\"167.5\" y=\"-67\" font-family=\"Times,serif\" font-size=\"10.00\">1</text>\n</g>\n<!-- x_G2 -->\n<g id=\"node5\" class=\"node\">\n<title>x_G2</title>\n<text text-anchor=\"middle\" x=\"213\" y=\"-14.3\" font-family=\"Times,serif\" font-size=\"14.00\">x</text>\n</g>\n<!-- CModMulK&#45;&gt;x_G2 -->\n<g id=\"edge4\" class=\"edge\">\n<title>CModMulK:e-&gt;x_G2:w</title>\n<path fill=\"none\" stroke=\"black\" d=\"M149,-34C166.22,-34 167.97,-19.23 183.98,-18.07\"/>\n<ellipse fill=\"black\" stroke=\"black\" cx=\"185\" cy=\"-18.04\" rx=\"1\" ry=\"1\"/>\n<text text-anchor=\"middle\" x=\"167.5\" y=\"-29\" font-family=\"Times,serif\" font-size=\"10.00\">8</text>\n</g>\n</g>\n</svg>",
          "text/plain": "<IPython.core.display.SVG object>"
         },
         "metadata": {},
         "output_type": "display_data"
        }
       ],
       "tabbable": null,
       "tooltip": null
      }
     },
     "3695913ce0f44c55858191573b93fa77": {
      "model_module": "@jupyter-widgets/output",
      "model_module_version": "1.0.0",
      "model_name": "OutputModel",
      "state": {
       "_dom_classes": [],
       "_model_module": "@jupyter-widgets/output",
       "_model_module_version": "1.0.0",
       "_model_name": "OutputModel",
       "_view_count": null,
       "_view_module": "@jupyter-widgets/output",
       "_view_module_version": "1.0.0",
       "_view_name": "OutputView",
       "layout": "IPY_MODEL_87250124388b42409bdc635a17ddf7f4",
       "msg_id": "",
       "outputs": [
        {
         "data": {
          "text/markdown": "`moddbl_small`",
          "text/plain": "<IPython.core.display.Markdown object>"
         },
         "metadata": {},
         "output_type": "display_data"
        },
        {
         "data": {
          "image/svg+xml": "<svg xmlns=\"http://www.w3.org/2000/svg\" xmlns:xlink=\"http://www.w3.org/1999/xlink\" width=\"232pt\" height=\"54pt\" viewBox=\"0.00 0.00 232.00 54.00\">\n<g id=\"graph0\" class=\"graph\" transform=\"scale(1 1) rotate(0) translate(4 50)\">\n<title>my_graph</title>\n<polygon fill=\"white\" stroke=\"transparent\" points=\"-4,4 -4,-50 228,-50 228,4 -4,4\"/>\n<!-- x_G2 -->\n<g id=\"node1\" class=\"node\">\n<title>x_G2</title>\n<text text-anchor=\"middle\" x=\"27\" y=\"-14.3\" font-family=\"Times,serif\" font-size=\"14.00\">x</text>\n</g>\n<!-- ModDbl -->\n<g id=\"node2\" class=\"node\">\n<title>ModDbl</title>\n<polygon fill=\"none\" stroke=\"black\" points=\"91,-29 91,-46 133,-46 133,-29 91,-29\"/>\n<text text-anchor=\"start\" x=\"94\" y=\"-35\" font-family=\"Times,serif\" font-size=\"10.00\">ModDbl</text>\n<polygon fill=\"none\" stroke=\"black\" points=\"91,-8 91,-29 133,-29 133,-8 91,-8\"/>\n<text text-anchor=\"start\" x=\"108.5\" y=\"-14.8\" font-family=\"Times,serif\" font-size=\"14.00\">x</text>\n</g>\n<!-- x_G2&#45;&gt;ModDbl -->\n<g id=\"edge1\" class=\"edge\">\n<title>x_G2:e-&gt;ModDbl:w</title>\n<path fill=\"none\" stroke=\"black\" d=\"M54,-18C69.67,-18 74.14,-18 88.77,-18\"/>\n<ellipse fill=\"black\" stroke=\"black\" cx=\"90\" cy=\"-18\" rx=\"1\" ry=\"1\"/>\n<text text-anchor=\"middle\" x=\"72.5\" y=\"-21\" font-family=\"Times,serif\" font-size=\"10.00\">4</text>\n</g>\n<!-- x_G1 -->\n<g id=\"node3\" class=\"node\">\n<title>x_G1</title>\n<text text-anchor=\"middle\" x=\"197\" y=\"-14.3\" font-family=\"Times,serif\" font-size=\"14.00\">x</text>\n</g>\n<!-- ModDbl&#45;&gt;x_G1 -->\n<g id=\"edge2\" class=\"edge\">\n<title>ModDbl:e-&gt;x_G1:w</title>\n<path fill=\"none\" stroke=\"black\" d=\"M133,-18C148.67,-18 153.14,-18 167.77,-18\"/>\n<ellipse fill=\"black\" stroke=\"black\" cx=\"169\" cy=\"-18\" rx=\"1\" ry=\"1\"/>\n<text text-anchor=\"middle\" x=\"151.5\" y=\"-21\" font-family=\"Times,serif\" font-size=\"10.00\">4</text>\n</g>\n</g>\n</svg>",
          "text/plain": "<IPython.core.display.SVG object>"
         },
         "metadata": {},
         "output_type": "display_data"
        }
       ],
       "tabbable": null,
       "tooltip": null
      }
     },
     "5fff1f33496042ccb950a00965298931": {
      "model_module": "@jupyter-widgets/controls",
      "model_module_version": "2.0.0",
      "model_name": "HBoxModel",
      "state": {
       "_dom_classes": [],
       "_model_module": "@jupyter-widgets/controls",
       "_model_module_version": "2.0.0",
       "_model_name": "HBoxModel",
       "_view_count": null,
       "_view_module": "@jupyter-widgets/controls",
       "_view_module_version": "2.0.0",
       "_view_name": "HBoxView",
       "box_style": "",
       "children": [
        "IPY_MODEL_b4e595bc91734322ace674f744e16dee",
        "IPY_MODEL_308ee092cd2c455bb3b4734487f7e51b"
       ],
       "layout": "IPY_MODEL_ce3edb40badd46cf9789028c353a99f7",
       "tabbable": null,
       "tooltip": null
      }
     },
     "734d06c771d44108aaabe82082c4d495": {
      "model_module": "@jupyter-widgets/base",
      "model_module_version": "2.0.0",
      "model_name": "LayoutModel",
      "state": {
       "_model_module": "@jupyter-widgets/base",
       "_model_module_version": "2.0.0",
       "_model_name": "LayoutModel",
       "_view_count": null,
       "_view_module": "@jupyter-widgets/base",
       "_view_module_version": "2.0.0",
       "_view_name": "LayoutView",
       "align_content": null,
       "align_items": null,
       "align_self": null,
       "border_bottom": null,
       "border_left": null,
       "border_right": null,
       "border_top": null,
       "bottom": null,
       "display": null,
       "flex": null,
       "flex_flow": null,
       "grid_area": null,
       "grid_auto_columns": null,
       "grid_auto_flow": null,
       "grid_auto_rows": null,
       "grid_column": null,
       "grid_gap": null,
       "grid_row": null,
       "grid_template_areas": null,
       "grid_template_columns": null,
       "grid_template_rows": null,
       "height": null,
       "justify_content": null,
       "justify_items": null,
       "left": null,
       "margin": null,
       "max_height": null,
       "max_width": null,
       "min_height": null,
       "min_width": null,
       "object_fit": null,
       "object_position": null,
       "order": null,
       "overflow": null,
       "padding": null,
       "right": null,
       "top": null,
       "visibility": null,
       "width": null
      }
     },
     "75b3e3ff6fea4ba285d303c881b42555": {
      "model_module": "@jupyter-widgets/base",
      "model_module_version": "2.0.0",
      "model_name": "LayoutModel",
      "state": {
       "_model_module": "@jupyter-widgets/base",
       "_model_module_version": "2.0.0",
       "_model_name": "LayoutModel",
       "_view_count": null,
       "_view_module": "@jupyter-widgets/base",
       "_view_module_version": "2.0.0",
       "_view_name": "LayoutView",
       "align_content": null,
       "align_items": null,
       "align_self": null,
       "border_bottom": null,
       "border_left": null,
       "border_right": null,
       "border_top": null,
       "bottom": null,
       "display": null,
       "flex": null,
       "flex_flow": null,
       "grid_area": null,
       "grid_auto_columns": null,
       "grid_auto_flow": null,
       "grid_auto_rows": null,
       "grid_column": null,
       "grid_gap": null,
       "grid_row": null,
       "grid_template_areas": null,
       "grid_template_columns": null,
       "grid_template_rows": null,
       "height": null,
       "justify_content": null,
       "justify_items": null,
       "left": null,
       "margin": null,
       "max_height": null,
       "max_width": null,
       "min_height": null,
       "min_width": null,
       "object_fit": null,
       "object_position": null,
       "order": null,
       "overflow": null,
       "padding": null,
       "right": null,
       "top": null,
       "visibility": null,
       "width": null
      }
     },
     "87250124388b42409bdc635a17ddf7f4": {
      "model_module": "@jupyter-widgets/base",
      "model_module_version": "2.0.0",
      "model_name": "LayoutModel",
      "state": {
       "_model_module": "@jupyter-widgets/base",
       "_model_module_version": "2.0.0",
       "_model_name": "LayoutModel",
       "_view_count": null,
       "_view_module": "@jupyter-widgets/base",
       "_view_module_version": "2.0.0",
       "_view_name": "LayoutView",
       "align_content": null,
       "align_items": null,
       "align_self": null,
       "border_bottom": null,
       "border_left": null,
       "border_right": null,
       "border_top": null,
       "bottom": null,
       "display": null,
       "flex": null,
       "flex_flow": null,
       "grid_area": null,
       "grid_auto_columns": null,
       "grid_auto_flow": null,
       "grid_auto_rows": null,
       "grid_column": null,
       "grid_gap": null,
       "grid_row": null,
       "grid_template_areas": null,
       "grid_template_columns": null,
       "grid_template_rows": null,
       "height": null,
       "justify_content": null,
       "justify_items": null,
       "left": null,
       "margin": null,
       "max_height": null,
       "max_width": null,
       "min_height": null,
       "min_width": null,
       "object_fit": null,
       "object_position": null,
       "order": null,
       "overflow": null,
       "padding": null,
       "right": null,
       "top": null,
       "visibility": null,
       "width": null
      }
     },
     "a184b762c2ec4c799bbdfc820888f17d": {
      "model_module": "@jupyter-widgets/controls",
      "model_module_version": "2.0.0",
      "model_name": "HBoxModel",
      "state": {
       "_dom_classes": [],
       "_model_module": "@jupyter-widgets/controls",
       "_model_module_version": "2.0.0",
       "_model_name": "HBoxModel",
       "_view_count": null,
       "_view_module": "@jupyter-widgets/controls",
       "_view_module_version": "2.0.0",
       "_view_name": "HBoxView",
       "box_style": "",
       "children": [
        "IPY_MODEL_3695913ce0f44c55858191573b93fa77",
        "IPY_MODEL_a2b9a50c078146c7a6377363cd45ad72"
       ],
       "layout": "IPY_MODEL_75b3e3ff6fea4ba285d303c881b42555",
       "tabbable": null,
       "tooltip": null
      }
     },
     "a2b9a50c078146c7a6377363cd45ad72": {
      "model_module": "@jupyter-widgets/output",
      "model_module_version": "1.0.0",
      "model_name": "OutputModel",
      "state": {
       "_dom_classes": [],
       "_model_module": "@jupyter-widgets/output",
       "_model_module_version": "1.0.0",
       "_model_name": "OutputModel",
       "_view_count": null,
       "_view_module": "@jupyter-widgets/output",
       "_view_module_version": "1.0.0",
       "_view_name": "OutputView",
       "layout": "IPY_MODEL_0d821010a0624ec291cbac41eb1872dd",
       "msg_id": "",
       "outputs": [
        {
         "data": {
          "text/markdown": "`moddbl_large`",
          "text/plain": "<IPython.core.display.Markdown object>"
         },
         "metadata": {},
         "output_type": "display_data"
        },
        {
         "data": {
          "image/svg+xml": "<svg xmlns=\"http://www.w3.org/2000/svg\" xmlns:xlink=\"http://www.w3.org/1999/xlink\" width=\"232pt\" height=\"54pt\" viewBox=\"0.00 0.00 232.00 54.00\">\n<g id=\"graph0\" class=\"graph\" transform=\"scale(1 1) rotate(0) translate(4 50)\">\n<title>my_graph</title>\n<polygon fill=\"white\" stroke=\"transparent\" points=\"-4,4 -4,-50 228,-50 228,4 -4,4\"/>\n<!-- x_G2 -->\n<g id=\"node1\" class=\"node\">\n<title>x_G2</title>\n<text text-anchor=\"middle\" x=\"27\" y=\"-14.3\" font-family=\"Times,serif\" font-size=\"14.00\">x</text>\n</g>\n<!-- ModDbl -->\n<g id=\"node2\" class=\"node\">\n<title>ModDbl</title>\n<polygon fill=\"none\" stroke=\"black\" points=\"91,-29 91,-46 133,-46 133,-29 91,-29\"/>\n<text text-anchor=\"start\" x=\"94\" y=\"-35\" font-family=\"Times,serif\" font-size=\"10.00\">ModDbl</text>\n<polygon fill=\"none\" stroke=\"black\" points=\"91,-8 91,-29 133,-29 133,-8 91,-8\"/>\n<text text-anchor=\"start\" x=\"108.5\" y=\"-14.8\" font-family=\"Times,serif\" font-size=\"14.00\">x</text>\n</g>\n<!-- x_G2&#45;&gt;ModDbl -->\n<g id=\"edge1\" class=\"edge\">\n<title>x_G2:e-&gt;ModDbl:w</title>\n<path fill=\"none\" stroke=\"black\" d=\"M54,-18C69.67,-18 74.14,-18 88.77,-18\"/>\n<ellipse fill=\"black\" stroke=\"black\" cx=\"90\" cy=\"-18\" rx=\"1\" ry=\"1\"/>\n<text text-anchor=\"middle\" x=\"72.5\" y=\"-21\" font-family=\"Times,serif\" font-size=\"10.00\">32</text>\n</g>\n<!-- x_G1 -->\n<g id=\"node3\" class=\"node\">\n<title>x_G1</title>\n<text text-anchor=\"middle\" x=\"197\" y=\"-14.3\" font-family=\"Times,serif\" font-size=\"14.00\">x</text>\n</g>\n<!-- ModDbl&#45;&gt;x_G1 -->\n<g id=\"edge2\" class=\"edge\">\n<title>ModDbl:e-&gt;x_G1:w</title>\n<path fill=\"none\" stroke=\"black\" d=\"M133,-18C148.67,-18 153.14,-18 167.77,-18\"/>\n<ellipse fill=\"black\" stroke=\"black\" cx=\"169\" cy=\"-18\" rx=\"1\" ry=\"1\"/>\n<text text-anchor=\"middle\" x=\"151.5\" y=\"-21\" font-family=\"Times,serif\" font-size=\"10.00\">32</text>\n</g>\n</g>\n</svg>",
          "text/plain": "<IPython.core.display.SVG object>"
         },
         "metadata": {},
         "output_type": "display_data"
        }
       ],
       "tabbable": null,
       "tooltip": null
      }
     },
     "b4e595bc91734322ace674f744e16dee": {
      "model_module": "@jupyter-widgets/output",
      "model_module_version": "1.0.0",
      "model_name": "OutputModel",
      "state": {
       "_dom_classes": [],
       "_model_module": "@jupyter-widgets/output",
       "_model_module_version": "1.0.0",
       "_model_name": "OutputModel",
       "_view_count": null,
       "_view_module": "@jupyter-widgets/output",
       "_view_module_version": "1.0.0",
       "_view_name": "OutputView",
       "layout": "IPY_MODEL_734d06c771d44108aaabe82082c4d495",
       "msg_id": "",
       "outputs": [
        {
         "data": {
          "text/markdown": "`modmul_symb`",
          "text/plain": "<IPython.core.display.Markdown object>"
         },
         "metadata": {},
         "output_type": "display_data"
        },
        {
         "data": {
          "image/svg+xml": "<svg xmlns=\"http://www.w3.org/2000/svg\" xmlns:xlink=\"http://www.w3.org/1999/xlink\" width=\"248pt\" height=\"98pt\" viewBox=\"0.00 0.00 248.00 98.00\">\n<g id=\"graph0\" class=\"graph\" transform=\"scale(1 1) rotate(0) translate(4 94)\">\n<title>my_graph</title>\n<polygon fill=\"white\" stroke=\"transparent\" points=\"-4,4 -4,-94 244,-94 244,4 -4,4\"/>\n<!-- ctrl_G0 -->\n<g id=\"node1\" class=\"node\">\n<title>ctrl_G0</title>\n<text text-anchor=\"middle\" x=\"27\" y=\"-68.3\" font-family=\"Times,serif\" font-size=\"14.00\">ctrl</text>\n</g>\n<!-- CModMulK -->\n<g id=\"node3\" class=\"node\">\n<title>CModMulK</title>\n<polygon fill=\"none\" stroke=\"black\" points=\"91,-66 91,-83 149,-83 149,-66 91,-66\"/>\n<text text-anchor=\"start\" x=\"94\" y=\"-72\" font-family=\"Times,serif\" font-size=\"10.00\">CModMulK</text>\n<polygon fill=\"none\" stroke=\"black\" points=\"91,-45 91,-66 149,-66 149,-45 91,-45\"/>\n<text text-anchor=\"start\" x=\"110.5\" y=\"-51.8\" font-family=\"Times,serif\" font-size=\"14.00\">ctrl</text>\n<polygon fill=\"none\" stroke=\"black\" points=\"91,-24 91,-45 149,-45 149,-24 91,-24\"/>\n<text text-anchor=\"start\" x=\"116.5\" y=\"-30.8\" font-family=\"Times,serif\" font-size=\"14.00\">x</text>\n</g>\n<!-- ctrl_G0&#45;&gt;CModMulK -->\n<g id=\"edge1\" class=\"edge\">\n<title>ctrl_G0:e-&gt;CModMulK:w</title>\n<path fill=\"none\" stroke=\"black\" d=\"M54,-72C71.22,-72 72.97,-57.23 88.98,-56.07\"/>\n<ellipse fill=\"black\" stroke=\"black\" cx=\"90\" cy=\"-56.04\" rx=\"1\" ry=\"1\"/>\n<text text-anchor=\"middle\" x=\"72.5\" y=\"-67\" font-family=\"Times,serif\" font-size=\"10.00\">1</text>\n</g>\n<!-- x_G2 -->\n<g id=\"node2\" class=\"node\">\n<title>x_G2</title>\n<text text-anchor=\"middle\" x=\"27\" y=\"-14.3\" font-family=\"Times,serif\" font-size=\"14.00\">x</text>\n</g>\n<!-- x_G2&#45;&gt;CModMulK -->\n<g id=\"edge2\" class=\"edge\">\n<title>x_G2:e-&gt;CModMulK:w</title>\n<path fill=\"none\" stroke=\"black\" d=\"M54,-18C71.22,-18 72.97,-32.77 88.98,-33.93\"/>\n<ellipse fill=\"black\" stroke=\"black\" cx=\"90\" cy=\"-33.96\" rx=\"1\" ry=\"1\"/>\n<text text-anchor=\"middle\" x=\"72.5\" y=\"-29\" font-family=\"Times,serif\" font-size=\"10.00\">n_x</text>\n</g>\n<!-- ctrl_G5 -->\n<g id=\"node4\" class=\"node\">\n<title>ctrl_G5</title>\n<text text-anchor=\"middle\" x=\"213\" y=\"-68.3\" font-family=\"Times,serif\" font-size=\"14.00\">ctrl</text>\n</g>\n<!-- CModMulK&#45;&gt;ctrl_G5 -->\n<g id=\"edge3\" class=\"edge\">\n<title>CModMulK:e-&gt;ctrl_G5:w</title>\n<path fill=\"none\" stroke=\"black\" d=\"M149,-56C166.22,-56 167.97,-70.77 183.98,-71.93\"/>\n<ellipse fill=\"black\" stroke=\"black\" cx=\"185\" cy=\"-71.96\" rx=\"1\" ry=\"1\"/>\n<text text-anchor=\"middle\" x=\"167.5\" y=\"-67\" font-family=\"Times,serif\" font-size=\"10.00\">1</text>\n</g>\n<!-- x_G1 -->\n<g id=\"node5\" class=\"node\">\n<title>x_G1</title>\n<text text-anchor=\"middle\" x=\"213\" y=\"-14.3\" font-family=\"Times,serif\" font-size=\"14.00\">x</text>\n</g>\n<!-- CModMulK&#45;&gt;x_G1 -->\n<g id=\"edge4\" class=\"edge\">\n<title>CModMulK:e-&gt;x_G1:w</title>\n<path fill=\"none\" stroke=\"black\" d=\"M149,-34C166.22,-34 167.97,-19.23 183.98,-18.07\"/>\n<ellipse fill=\"black\" stroke=\"black\" cx=\"185\" cy=\"-18.04\" rx=\"1\" ry=\"1\"/>\n<text text-anchor=\"middle\" x=\"167.5\" y=\"-29\" font-family=\"Times,serif\" font-size=\"10.00\">n_x</text>\n</g>\n</g>\n</svg>",
          "text/plain": "<IPython.core.display.SVG object>"
         },
         "metadata": {},
         "output_type": "display_data"
        }
       ],
       "tabbable": null,
       "tooltip": null
      }
     },
     "ce3edb40badd46cf9789028c353a99f7": {
      "model_module": "@jupyter-widgets/base",
      "model_module_version": "2.0.0",
      "model_name": "LayoutModel",
      "state": {
       "_model_module": "@jupyter-widgets/base",
       "_model_module_version": "2.0.0",
       "_model_name": "LayoutModel",
       "_view_count": null,
       "_view_module": "@jupyter-widgets/base",
       "_view_module_version": "2.0.0",
       "_view_name": "LayoutView",
       "align_content": null,
       "align_items": null,
       "align_self": null,
       "border_bottom": null,
       "border_left": null,
       "border_right": null,
       "border_top": null,
       "bottom": null,
       "display": null,
       "flex": null,
       "flex_flow": null,
       "grid_area": null,
       "grid_auto_columns": null,
       "grid_auto_flow": null,
       "grid_auto_rows": null,
       "grid_column": null,
       "grid_gap": null,
       "grid_row": null,
       "grid_template_areas": null,
       "grid_template_columns": null,
       "grid_template_rows": null,
       "height": null,
       "justify_content": null,
       "justify_items": null,
       "left": null,
       "margin": null,
       "max_height": null,
       "max_width": null,
       "min_height": null,
       "min_width": null,
       "object_fit": null,
       "object_position": null,
       "order": null,
       "overflow": null,
       "padding": null,
       "right": null,
       "top": null,
       "visibility": null,
       "width": null
      }
     },
     "d9b57c86379a40f08345237c4c46ee9f": {
      "model_module": "@jupyter-widgets/base",
      "model_module_version": "2.0.0",
      "model_name": "LayoutModel",
      "state": {
       "_model_module": "@jupyter-widgets/base",
       "_model_module_version": "2.0.0",
       "_model_name": "LayoutModel",
       "_view_count": null,
       "_view_module": "@jupyter-widgets/base",
       "_view_module_version": "2.0.0",
       "_view_name": "LayoutView",
       "align_content": null,
       "align_items": null,
       "align_self": null,
       "border_bottom": null,
       "border_left": null,
       "border_right": null,
       "border_top": null,
       "bottom": null,
       "display": null,
       "flex": null,
       "flex_flow": null,
       "grid_area": null,
       "grid_auto_columns": null,
       "grid_auto_flow": null,
       "grid_auto_rows": null,
       "grid_column": null,
       "grid_gap": null,
       "grid_row": null,
       "grid_template_areas": null,
       "grid_template_columns": null,
       "grid_template_rows": null,
       "height": null,
       "justify_content": null,
       "justify_items": null,
       "left": null,
       "margin": null,
       "max_height": null,
       "max_width": null,
       "min_height": null,
       "min_width": null,
       "object_fit": null,
       "object_position": null,
       "order": null,
       "overflow": null,
       "padding": null,
       "right": null,
       "top": null,
       "visibility": null,
       "width": null
      }
     }
    },
    "version_major": 2,
    "version_minor": 0
   }
  }
 },
 "nbformat": 4,
 "nbformat_minor": 5
}
