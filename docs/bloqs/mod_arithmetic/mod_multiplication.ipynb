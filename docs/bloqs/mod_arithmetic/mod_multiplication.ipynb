{
 "cells": [
  {
   "cell_type": "markdown",
   "id": "b23ed079",
   "metadata": {
    "cq.autogen": "title_cell"
   },
   "source": [
    "# Modular Multiplication"
   ]
  },
  {
   "cell_type": "code",
   "execution_count": 1,
   "id": "5cde4184",
   "metadata": {
    "cq.autogen": "top_imports"
   },
   "outputs": [],
   "source": [
    "from qualtran import Bloq, CompositeBloq, BloqBuilder, Signature, Register\n",
    "from qualtran import QBit, QInt, QUInt, QAny\n",
    "from qualtran.drawing import show_bloq, show_call_graph, show_counts_sigma\n",
    "from typing import *\n",
    "import numpy as np\n",
    "import sympy\n",
    "import cirq"
   ]
  },
  {
   "cell_type": "markdown",
   "id": "33013eac",
   "metadata": {
    "cq.autogen": "ModDbl.bloq_doc.md"
   },
   "source": [
    "## `ModDbl`\n",
    "An n-bit modular doubling gate.\n",
    "\n",
    "Implements $\\ket{x} \\rightarrow \\ket{2x \\mod p}$ using $2n$ Toffoli gates.\n",
    "\n",
    "#### Parameters\n",
    " - `dtype`: Dtype of the number to double.\n",
    " - `p`: The modulus for the doubling. \n",
    "\n",
    "#### Registers\n",
    " - `x`: The register containing the number to double. \n",
    "\n",
    "#### References\n",
    " - [How to compute a 256-bit elliptic curve private key with only 50 million Toffoli gates](https://arxiv.org/abs/2306.08585). Fig 6d and 8\n"
   ]
  },
  {
   "cell_type": "code",
   "execution_count": 2,
   "id": "934adfa2",
   "metadata": {
    "cq.autogen": "ModDbl.bloq_doc.py"
   },
   "outputs": [],
   "source": [
    "from qualtran.bloqs.mod_arithmetic import ModDbl"
   ]
  },
  {
   "cell_type": "markdown",
   "id": "854a2f34",
   "metadata": {
    "cq.autogen": "ModDbl.example_instances.md"
   },
   "source": [
    "### Example Instances"
   ]
  },
  {
   "cell_type": "code",
   "execution_count": 3,
   "id": "a376c520",
   "metadata": {
    "cq.autogen": "ModDbl.moddbl_small"
   },
   "outputs": [],
   "source": [
    "moddbl_small = ModDbl(QUInt(4), 13)"
   ]
  },
  {
   "cell_type": "code",
   "execution_count": 4,
   "id": "559f3f97",
   "metadata": {
    "cq.autogen": "ModDbl.moddbl_large"
   },
   "outputs": [],
   "source": [
    "prime = 10**9 + 7\n",
    "moddbl_large = ModDbl(QUInt(32), prime)"
   ]
  },
  {
   "cell_type": "markdown",
   "id": "e90cf054",
   "metadata": {
    "cq.autogen": "ModDbl.graphical_signature.md"
   },
   "source": [
    "#### Graphical Signature"
   ]
  },
  {
   "cell_type": "code",
   "execution_count": 5,
   "id": "75c4294c",
   "metadata": {
    "cq.autogen": "ModDbl.graphical_signature.py"
   },
   "outputs": [
    {
     "data": {
      "application/vnd.jupyter.widget-view+json": {
       "model_id": "d27642fdd15b4f3d9d87becf533fd835",
       "version_major": 2,
       "version_minor": 0
      },
      "text/plain": [
       "HBox(children=(Output(outputs=({'output_type': 'display_data', 'data': {'text/plain': '<IPython.core.display.M…"
      ]
     },
     "metadata": {},
     "output_type": "display_data"
    }
   ],
   "source": [
    "from qualtran.drawing import show_bloqs\n",
    "show_bloqs([moddbl_small, moddbl_large],\n",
    "           ['`moddbl_small`', '`moddbl_large`'])"
   ]
  },
  {
   "cell_type": "markdown",
   "id": "ef3bfee0",
   "metadata": {
    "cq.autogen": "ModDbl.call_graph.md"
   },
   "source": [
    "### Call Graph"
   ]
  },
  {
   "cell_type": "code",
   "execution_count": 6,
   "id": "bd1dfb09",
   "metadata": {
    "cq.autogen": "ModDbl.call_graph.py"
   },
   "outputs": [
    {
     "data": {
      "image/svg+xml": [
       "<svg xmlns=\"http://www.w3.org/2000/svg\" xmlns:xlink=\"http://www.w3.org/1999/xlink\" width=\"282pt\" height=\"131pt\" viewBox=\"0.00 0.00 282.00 131.00\">\n",
       "<g id=\"graph0\" class=\"graph\" transform=\"scale(1 1) rotate(0) translate(4 127)\">\n",
       "<title>counts</title>\n",
       "<polygon fill=\"white\" stroke=\"transparent\" points=\"-4,4 -4,-127 278,-127 278,4 -4,4\"/>\n",
       "<!-- b0 -->\n",
       "<g id=\"node1\" class=\"node\">\n",
       "<title>b0</title>\n",
       "<polygon fill=\"none\" stroke=\"black\" points=\"111,-93 111,-116 159,-116 159,-93 111,-93\"/>\n",
       "<text text-anchor=\"start\" x=\"117\" y=\"-102\" font-family=\"Times,serif\" font-size=\"10.00\">ModDbl</text>\n",
       "</g>\n",
       "<!-- b1 -->\n",
       "<g id=\"node2\" class=\"node\">\n",
       "<title>b1</title>\n",
       "<polygon fill=\"none\" stroke=\"black\" points=\"8,-6 8,-29 46,-29 46,-6 8,-6\"/>\n",
       "<text text-anchor=\"start\" x=\"14\" y=\"-15\" font-family=\"Times,serif\" font-size=\"10.00\">AddK</text>\n",
       "</g>\n",
       "<!-- b0&#45;&gt;b1 -->\n",
       "<g id=\"edge1\" class=\"edge\">\n",
       "<title>b0-&gt;b1</title>\n",
       "<path fill=\"none\" stroke=\"black\" d=\"M113.14,-86.8C97.04,-74.13 74.94,-56.73 57.16,-42.74\"/>\n",
       "<polygon fill=\"black\" stroke=\"black\" points=\"58.85,-39.61 48.82,-36.18 54.52,-45.11 58.85,-39.61\"/>\n",
       "<text text-anchor=\"middle\" x=\"91.5\" y=\"-57.8\" font-family=\"Times,serif\" font-size=\"14.00\">1</text>\n",
       "</g>\n",
       "<!-- b2 -->\n",
       "<g id=\"node3\" class=\"node\">\n",
       "<title>b2</title>\n",
       "<polygon fill=\"none\" stroke=\"black\" points=\"80,-6 80,-29 118,-29 118,-6 80,-6\"/>\n",
       "<text text-anchor=\"start\" x=\"86\" y=\"-15\" font-family=\"Times,serif\" font-size=\"10.00\">AddK</text>\n",
       "</g>\n",
       "<!-- b0&#45;&gt;b2 -->\n",
       "<g id=\"edge2\" class=\"edge\">\n",
       "<title>b0-&gt;b2</title>\n",
       "<path fill=\"none\" stroke=\"black\" d=\"M127.71,-86.8C122.69,-74.93 115.91,-58.93 110.2,-45.45\"/>\n",
       "<polygon fill=\"black\" stroke=\"black\" points=\"113.4,-44.02 106.27,-36.18 106.95,-46.75 113.4,-44.02\"/>\n",
       "<text text-anchor=\"middle\" x=\"123.5\" y=\"-57.8\" font-family=\"Times,serif\" font-size=\"14.00\">1</text>\n",
       "</g>\n",
       "<!-- b3 -->\n",
       "<g id=\"node4\" class=\"node\">\n",
       "<title>b3</title>\n",
       "<polygon fill=\"none\" stroke=\"black\" points=\"152,-6 152,-29 192,-29 192,-6 152,-6\"/>\n",
       "<text text-anchor=\"start\" x=\"158\" y=\"-15\" font-family=\"Times,serif\" font-size=\"10.00\">CNOT</text>\n",
       "</g>\n",
       "<!-- b0&#45;&gt;b3 -->\n",
       "<g id=\"edge3\" class=\"edge\">\n",
       "<title>b0-&gt;b3</title>\n",
       "<path fill=\"none\" stroke=\"black\" d=\"M142.49,-86.8C147.65,-74.93 154.62,-58.93 160.49,-45.45\"/>\n",
       "<polygon fill=\"black\" stroke=\"black\" points=\"163.74,-46.74 164.52,-36.18 157.32,-43.95 163.74,-46.74\"/>\n",
       "<text text-anchor=\"middle\" x=\"159.5\" y=\"-57.8\" font-family=\"Times,serif\" font-size=\"14.00\">1</text>\n",
       "</g>\n",
       "<!-- b4 -->\n",
       "<g id=\"node5\" class=\"node\">\n",
       "<title>b4</title>\n",
       "<polygon fill=\"none\" stroke=\"black\" points=\"226,-6 226,-29 266,-29 266,-6 226,-6\"/>\n",
       "<text text-anchor=\"start\" x=\"232\" y=\"-15\" font-family=\"Times,serif\" font-size=\"10.00\">XGate</text>\n",
       "</g>\n",
       "<!-- b0&#45;&gt;b4 -->\n",
       "<g id=\"edge4\" class=\"edge\">\n",
       "<title>b0-&gt;b4</title>\n",
       "<path fill=\"none\" stroke=\"black\" d=\"M157.46,-86.8C174.16,-74.01 197.14,-56.42 215.5,-42.36\"/>\n",
       "<polygon fill=\"black\" stroke=\"black\" points=\"217.76,-45.03 223.57,-36.18 213.5,-39.48 217.76,-45.03\"/>\n",
       "<text text-anchor=\"middle\" x=\"200.5\" y=\"-57.8\" font-family=\"Times,serif\" font-size=\"14.00\">2</text>\n",
       "</g>\n",
       "</g>\n",
       "</svg>"
      ],
      "text/plain": [
       "<IPython.core.display.SVG object>"
      ]
     },
     "metadata": {},
     "output_type": "display_data"
    },
    {
     "data": {
      "text/markdown": [
       "#### Counts totals:\n",
       " - `AddK`: 1\n",
       " - `AddK`: 1\n",
       " - `CNOT`: 1\n",
       " - `XGate`: 2"
      ],
      "text/plain": [
       "<IPython.core.display.Markdown object>"
      ]
     },
     "metadata": {},
     "output_type": "display_data"
    }
   ],
   "source": [
    "from qualtran.resource_counting.generalizers import ignore_split_join\n",
    "moddbl_small_g, moddbl_small_sigma = moddbl_small.call_graph(max_depth=1, generalizer=ignore_split_join)\n",
    "show_call_graph(moddbl_small_g)\n",
    "show_counts_sigma(moddbl_small_sigma)"
   ]
  },
  {
   "cell_type": "markdown",
   "id": "03dac121",
   "metadata": {
    "cq.autogen": "CModMulK.bloq_doc.md"
   },
   "source": [
    "## `CModMulK`\n",
    "Perform controlled modular multiplication by a constant.\n",
    "\n",
    "Applies $\\ket{c}\\ket{c} \\rightarrow \\ket{c} \\ket{x*k^c \\mod p}$.\n",
    "\n",
    "#### Parameters\n",
    " - `dtype`: Dtype of the register.\n",
    " - `k`: The integer multiplicative constant.\n",
    " - `mod`: The integer modulus. \n",
    "\n",
    "#### Registers\n",
    " - `ctrl`: The control bit\n",
    " - `x`: The integer being multiplied\n"
   ]
  },
  {
   "cell_type": "code",
   "execution_count": 7,
   "id": "b735fef0",
   "metadata": {
    "cq.autogen": "CModMulK.bloq_doc.py"
   },
   "outputs": [],
   "source": [
    "from qualtran.bloqs.mod_arithmetic import CModMulK"
   ]
  },
  {
   "cell_type": "markdown",
   "id": "0d8c1a4b",
   "metadata": {
    "cq.autogen": "CModMulK.example_instances.md"
   },
   "source": [
    "### Example Instances"
   ]
  },
  {
   "cell_type": "code",
   "execution_count": 8,
   "id": "1986bbf9",
   "metadata": {
    "cq.autogen": "CModMulK.modmul_symb"
   },
   "outputs": [],
   "source": [
    "import sympy\n",
    "\n",
    "k, N, n_x = sympy.symbols('k N n_x')\n",
    "modmul_symb = CModMulK(QUInt(n_x), k=k, mod=N)"
   ]
  },
  {
   "cell_type": "code",
   "execution_count": 9,
   "id": "ecdbe3f4",
   "metadata": {
    "cq.autogen": "CModMulK.modmul"
   },
   "outputs": [],
   "source": [
    "modmul = CModMulK(QUInt(8), k=123, mod=13 * 17)"
   ]
  },
  {
   "cell_type": "markdown",
   "id": "52e944f4",
   "metadata": {
    "cq.autogen": "CModMulK.graphical_signature.md"
   },
   "source": [
    "#### Graphical Signature"
   ]
  },
  {
   "cell_type": "code",
   "execution_count": 10,
   "id": "1e28aa1f",
   "metadata": {
    "cq.autogen": "CModMulK.graphical_signature.py"
   },
   "outputs": [
    {
     "data": {
      "application/vnd.jupyter.widget-view+json": {
       "model_id": "ac04571907044b51bdb72d80301fbe19",
       "version_major": 2,
       "version_minor": 0
      },
      "text/plain": [
       "HBox(children=(Output(outputs=({'output_type': 'display_data', 'data': {'text/plain': '<IPython.core.display.M…"
      ]
     },
     "metadata": {},
     "output_type": "display_data"
    }
   ],
   "source": [
    "from qualtran.drawing import show_bloqs\n",
    "show_bloqs([modmul_symb, modmul],\n",
    "           ['`modmul_symb`', '`modmul`'])"
   ]
  },
  {
   "cell_type": "markdown",
   "id": "8e34d67f",
   "metadata": {
    "cq.autogen": "CModMulK.call_graph.md"
   },
   "source": [
    "### Call Graph"
   ]
  },
  {
   "cell_type": "code",
   "execution_count": 11,
   "id": "f8645e0c",
   "metadata": {
    "cq.autogen": "CModMulK.call_graph.py"
   },
   "outputs": [
    {
     "data": {
      "image/svg+xml": [
       "<svg xmlns=\"http://www.w3.org/2000/svg\" xmlns:xlink=\"http://www.w3.org/1999/xlink\" width=\"188pt\" height=\"131pt\" viewBox=\"0.00 0.00 188.00 131.00\">\n",
       "<g id=\"graph0\" class=\"graph\" transform=\"scale(1 1) rotate(0) translate(4 127)\">\n",
       "<title>counts</title>\n",
       "<polygon fill=\"white\" stroke=\"transparent\" points=\"-4,4 -4,-127 184,-127 184,4 -4,4\"/>\n",
       "<!-- b0 -->\n",
       "<g id=\"node1\" class=\"node\">\n",
       "<title>b0</title>\n",
       "<polygon fill=\"none\" stroke=\"black\" points=\"69,-93 69,-116 133,-116 133,-93 69,-93\"/>\n",
       "<text text-anchor=\"start\" x=\"75\" y=\"-102\" font-family=\"Times,serif\" font-size=\"10.00\">CModMulK</text>\n",
       "</g>\n",
       "<!-- b1 -->\n",
       "<g id=\"node2\" class=\"node\">\n",
       "<title>b1</title>\n",
       "<polygon fill=\"none\" stroke=\"black\" points=\"8,-6 8,-29 96,-29 96,-6 8,-6\"/>\n",
       "<text text-anchor=\"start\" x=\"14\" y=\"-15\" font-family=\"Times,serif\" font-size=\"10.00\">CtrlScaleModAdd</text>\n",
       "</g>\n",
       "<!-- b0&#45;&gt;b1 -->\n",
       "<g id=\"edge1\" class=\"edge\">\n",
       "<title>b0-&gt;b1</title>\n",
       "<path fill=\"none\" stroke=\"black\" d=\"M91.08,-86.8C84.18,-74.82 74.84,-58.62 67.02,-45.06\"/>\n",
       "<polygon fill=\"black\" stroke=\"black\" points=\"69.93,-43.09 61.9,-36.18 63.86,-46.59 69.93,-43.09\"/>\n",
       "<text text-anchor=\"middle\" x=\"83.5\" y=\"-57.8\" font-family=\"Times,serif\" font-size=\"14.00\">2</text>\n",
       "</g>\n",
       "<!-- b2 -->\n",
       "<g id=\"node3\" class=\"node\">\n",
       "<title>b2</title>\n",
       "<polygon fill=\"none\" stroke=\"black\" points=\"130,-6 130,-29 172,-29 172,-6 130,-6\"/>\n",
       "<text text-anchor=\"start\" x=\"136\" y=\"-15\" font-family=\"Times,serif\" font-size=\"10.00\">CSwap</text>\n",
       "</g>\n",
       "<!-- b0&#45;&gt;b2 -->\n",
       "<g id=\"edge2\" class=\"edge\">\n",
       "<title>b0-&gt;b2</title>\n",
       "<path fill=\"none\" stroke=\"black\" d=\"M111.12,-86.8C118.17,-74.82 127.7,-58.62 135.67,-45.06\"/>\n",
       "<polygon fill=\"black\" stroke=\"black\" points=\"138.84,-46.57 140.9,-36.18 132.81,-43.02 138.84,-46.57\"/>\n",
       "<text text-anchor=\"middle\" x=\"131.5\" y=\"-57.8\" font-family=\"Times,serif\" font-size=\"14.00\">1</text>\n",
       "</g>\n",
       "</g>\n",
       "</svg>"
      ],
      "text/plain": [
       "<IPython.core.display.SVG object>"
      ]
     },
     "metadata": {},
     "output_type": "display_data"
    },
    {
     "data": {
      "text/markdown": [
       "#### Counts totals:\n",
       " - `CSwap`: 1\n",
       " - `CtrlScaleModAdd`: 2"
      ],
      "text/plain": [
       "<IPython.core.display.Markdown object>"
      ]
     },
     "metadata": {},
     "output_type": "display_data"
    }
   ],
   "source": [
    "from qualtran.resource_counting.generalizers import ignore_split_join\n",
    "modmul_symb_g, modmul_symb_sigma = modmul_symb.call_graph(max_depth=1, generalizer=ignore_split_join)\n",
    "show_call_graph(modmul_symb_g)\n",
    "show_counts_sigma(modmul_symb_sigma)"
   ]
  },
  {
   "cell_type": "markdown",
   "id": "849371cb",
   "metadata": {
    "cq.autogen": "DirtyOutOfPlaceMontgomeryModMul.bloq_doc.md"
   },
   "source": [
    "## `DirtyOutOfPlaceMontgomeryModMul`\n",
    "Perform windowed montgomery modular multiplication.\n",
    "\n",
    "Applies the trasformation\n",
    "$$\n",
    "    \\ket{x}\\ket{y}\\ket{0}\\ket{0}\\ket{0} \\rightarrow \\ket{x}\\ket{y}\\ket{xy2^{-n}}\\ket{h}\\ket{c}\n",
    "$$\n",
    "\n",
    "Where:\n",
    "\n",
    "- $n$ is the bitsize.\n",
    "- $x, y$ are in montgomery form\n",
    "- $h$ is an ancilla register that represents intermidate values.\n",
    "- $c$ is whether a final modular reduction was applied or not.\n",
    "\n",
    "#### Parameters\n",
    " - `bitsize`: size of the numbers.\n",
    " - `window_size`: size of the window.\n",
    " - `mod`: The integer modulus.\n",
    " - `uncompute`: whether to compute or uncompute. \n",
    "\n",
    "#### Registers\n",
    " - `x`: The first integer\n",
    " - `y`: The second integer\n",
    " - `target`: product in montgomery form $xy 2^{-n}$\n",
    " - `qrom_indices`: concatination of the indicies used to query QROM.\n",
    " - `reduced`: whether a final modular reduction was applied. \n",
    "\n",
    "#### References\n",
    " - [Performance Analysis of a Repetition Cat Code Architecture: Computing 256-bit Elliptic Curve Logarithm in 9 Hours with 126 133 Cat Qubits](https://arxiv.org/abs/2302.06639).     Appendix C4.\n",
    " - [How to compute a 256-bit elliptic curve private key with only 50 million Toffoli gates](https://arxiv.org/abs/2306.08585).     page 8.\n"
   ]
  },
  {
   "cell_type": "code",
   "execution_count": 12,
   "id": "d08d7f3a",
   "metadata": {
    "cq.autogen": "DirtyOutOfPlaceMontgomeryModMul.bloq_doc.py"
   },
   "outputs": [],
   "source": [
    "from qualtran.bloqs.mod_arithmetic import DirtyOutOfPlaceMontgomeryModMul"
   ]
  },
  {
   "cell_type": "markdown",
   "id": "56c6466e",
   "metadata": {
    "cq.autogen": "DirtyOutOfPlaceMontgomeryModMul.example_instances.md"
   },
   "source": [
    "### Example Instances"
   ]
  },
  {
   "cell_type": "code",
   "execution_count": 13,
   "id": "b573e60f",
   "metadata": {
    "cq.autogen": "DirtyOutOfPlaceMontgomeryModMul.dirtyoutofplacemontgomerymodmul_small"
   },
   "outputs": [],
   "source": [
    "dirtyoutofplacemontgomerymodmul_small = DirtyOutOfPlaceMontgomeryModMul(6, 2, 7)"
   ]
  },
  {
   "cell_type": "code",
   "execution_count": 14,
   "id": "f339fb21",
   "metadata": {
    "cq.autogen": "DirtyOutOfPlaceMontgomeryModMul.dirtyoutofplacemontgomerymodmul_medium"
   },
   "outputs": [],
   "source": [
    "dirtyoutofplacemontgomerymodmul_medium = DirtyOutOfPlaceMontgomeryModMul(\n",
    "    bitsize=16, window_size=4, mod=2**15 - 1\n",
    ")"
   ]
  },
  {
   "cell_type": "markdown",
   "id": "c832c4a9",
   "metadata": {
    "cq.autogen": "DirtyOutOfPlaceMontgomeryModMul.graphical_signature.md"
   },
   "source": [
    "#### Graphical Signature"
   ]
  },
  {
   "cell_type": "code",
   "execution_count": 15,
   "id": "99ee86e1",
   "metadata": {
    "cq.autogen": "DirtyOutOfPlaceMontgomeryModMul.graphical_signature.py"
   },
   "outputs": [
    {
     "data": {
      "application/vnd.jupyter.widget-view+json": {
       "model_id": "7feeee481c1d4e08a084892a8e9f3458",
       "version_major": 2,
       "version_minor": 0
      },
      "text/plain": [
       "HBox(children=(Output(outputs=({'output_type': 'display_data', 'data': {'text/plain': '<IPython.core.display.M…"
      ]
     },
     "metadata": {},
     "output_type": "display_data"
    }
   ],
   "source": [
    "from qualtran.drawing import show_bloqs\n",
    "show_bloqs([dirtyoutofplacemontgomerymodmul_small, dirtyoutofplacemontgomerymodmul_medium],\n",
    "           ['`dirtyoutofplacemontgomerymodmul_small`', '`dirtyoutofplacemontgomerymodmul_medium`'])"
   ]
  },
  {
   "cell_type": "markdown",
   "id": "1de095e7",
   "metadata": {
    "cq.autogen": "DirtyOutOfPlaceMontgomeryModMul.call_graph.md"
   },
   "source": [
    "### Call Graph"
   ]
  },
  {
   "cell_type": "code",
   "execution_count": 16,
   "id": "bde436f4",
   "metadata": {
    "cq.autogen": "DirtyOutOfPlaceMontgomeryModMul.call_graph.py"
   },
   "outputs": [
    {
     "data": {
      "image/svg+xml": [
       "<svg xmlns=\"http://www.w3.org/2000/svg\" xmlns:xlink=\"http://www.w3.org/1999/xlink\" width=\"402pt\" height=\"131pt\" viewBox=\"0.00 0.00 402.00 131.00\">\n",
       "<g id=\"graph0\" class=\"graph\" transform=\"scale(1 1) rotate(0) translate(4 127)\">\n",
       "<title>counts</title>\n",
       "<polygon fill=\"white\" stroke=\"transparent\" points=\"-4,4 -4,-127 398,-127 398,4 -4,4\"/>\n",
       "<!-- b0 -->\n",
       "<g id=\"node1\" class=\"node\">\n",
       "<title>b0</title>\n",
       "<polygon fill=\"none\" stroke=\"black\" points=\"87,-93 87,-116 259,-116 259,-93 87,-93\"/>\n",
       "<text text-anchor=\"start\" x=\"93\" y=\"-102\" font-family=\"Times,serif\" font-size=\"10.00\">DirtyOutOfPlaceMontgomeryModMul</text>\n",
       "</g>\n",
       "<!-- b1 -->\n",
       "<g id=\"node2\" class=\"node\">\n",
       "<title>b1</title>\n",
       "<polygon fill=\"none\" stroke=\"black\" points=\"8,-6 8,-29 46,-29 46,-6 8,-6\"/>\n",
       "<text text-anchor=\"start\" x=\"14\" y=\"-15\" font-family=\"Times,serif\" font-size=\"10.00\">AddK</text>\n",
       "</g>\n",
       "<!-- b0&#45;&gt;b1 -->\n",
       "<g id=\"edge1\" class=\"edge\">\n",
       "<title>b0-&gt;b1</title>\n",
       "<path fill=\"none\" stroke=\"black\" d=\"M143.45,-86.8C120.15,-73.23 87.56,-54.26 62.78,-39.83\"/>\n",
       "<polygon fill=\"black\" stroke=\"black\" points=\"64.44,-36.75 54.04,-34.74 60.92,-42.8 64.44,-36.75\"/>\n",
       "<text text-anchor=\"middle\" x=\"112.5\" y=\"-57.8\" font-family=\"Times,serif\" font-size=\"14.00\">1</text>\n",
       "</g>\n",
       "<!-- b2 -->\n",
       "<g id=\"node3\" class=\"node\">\n",
       "<title>b2</title>\n",
       "<polygon fill=\"none\" stroke=\"black\" points=\"80,-6 80,-29 168,-29 168,-6 80,-6\"/>\n",
       "<text text-anchor=\"start\" x=\"86\" y=\"-15\" font-family=\"Times,serif\" font-size=\"10.00\">LessThanConstant</text>\n",
       "</g>\n",
       "<!-- b0&#45;&gt;b2 -->\n",
       "<g id=\"edge2\" class=\"edge\">\n",
       "<title>b0-&gt;b2</title>\n",
       "<path fill=\"none\" stroke=\"black\" d=\"M163.08,-86.8C156.18,-74.82 146.84,-58.62 139.02,-45.06\"/>\n",
       "<polygon fill=\"black\" stroke=\"black\" points=\"141.93,-43.09 133.9,-36.18 135.86,-46.59 141.93,-43.09\"/>\n",
       "<text text-anchor=\"middle\" x=\"155.5\" y=\"-57.8\" font-family=\"Times,serif\" font-size=\"14.00\">1</text>\n",
       "</g>\n",
       "<!-- b3 -->\n",
       "<g id=\"node4\" class=\"node\">\n",
       "<title>b3</title>\n",
       "<polygon fill=\"none\" stroke=\"black\" points=\"202,-6 202,-29 242,-29 242,-6 202,-6\"/>\n",
       "<text text-anchor=\"start\" x=\"208\" y=\"-15\" font-family=\"Times,serif\" font-size=\"10.00\">XGate</text>\n",
       "</g>\n",
       "<!-- b0&#45;&gt;b3 -->\n",
       "<g id=\"edge3\" class=\"edge\">\n",
       "<title>b0-&gt;b3</title>\n",
       "<path fill=\"none\" stroke=\"black\" d=\"M182.92,-86.8C189.82,-74.82 199.16,-58.62 206.98,-45.06\"/>\n",
       "<polygon fill=\"black\" stroke=\"black\" points=\"210.14,-46.59 212.1,-36.18 204.07,-43.09 210.14,-46.59\"/>\n",
       "<text text-anchor=\"middle\" x=\"204.5\" y=\"-57.8\" font-family=\"Times,serif\" font-size=\"14.00\">1</text>\n",
       "</g>\n",
       "<!-- b4 -->\n",
       "<g id=\"node5\" class=\"node\">\n",
       "<title>b4</title>\n",
       "<polygon fill=\"none\" stroke=\"black\" points=\"276,-6 276,-29 386,-29 386,-6 276,-6\"/>\n",
       "<text text-anchor=\"start\" x=\"282\" y=\"-15\" font-family=\"Times,serif\" font-size=\"10.00\">SingleWindowModMul</text>\n",
       "</g>\n",
       "<!-- b0&#45;&gt;b4 -->\n",
       "<g id=\"edge4\" class=\"edge\">\n",
       "<title>b0-&gt;b4</title>\n",
       "<path fill=\"none\" stroke=\"black\" d=\"M204.97,-86.8C229.58,-73.56 263.74,-55.18 290.3,-40.9\"/>\n",
       "<polygon fill=\"black\" stroke=\"black\" points=\"292.2,-43.85 299.34,-36.03 288.88,-37.69 292.2,-43.85\"/>\n",
       "<text text-anchor=\"middle\" x=\"264.5\" y=\"-57.8\" font-family=\"Times,serif\" font-size=\"14.00\">3</text>\n",
       "</g>\n",
       "</g>\n",
       "</svg>"
      ],
      "text/plain": [
       "<IPython.core.display.SVG object>"
      ]
     },
     "metadata": {},
     "output_type": "display_data"
    },
    {
     "data": {
      "text/markdown": [
       "#### Counts totals:\n",
       " - `AddK`: 1\n",
       " - `LessThanConstant`: 1\n",
       " - `SingleWindowModMul`: 3\n",
       " - `XGate`: 1"
      ],
      "text/plain": [
       "<IPython.core.display.Markdown object>"
      ]
     },
     "metadata": {},
     "output_type": "display_data"
    }
   ],
   "source": [
    "from qualtran.resource_counting.generalizers import ignore_split_join\n",
    "dirtyoutofplacemontgomerymodmul_small_g, dirtyoutofplacemontgomerymodmul_small_sigma = dirtyoutofplacemontgomerymodmul_small.call_graph(max_depth=1, generalizer=ignore_split_join)\n",
    "show_call_graph(dirtyoutofplacemontgomerymodmul_small_g)\n",
    "show_counts_sigma(dirtyoutofplacemontgomerymodmul_small_sigma)"
   ]
  }
 ],
 "metadata": {
  "kernelspec": {
   "display_name": "Python 3",
   "language": "python",
   "name": "python3"
  },
  "language_info": {
   "codemirror_mode": {
    "name": "ipython",
    "version": 3
   },
   "file_extension": ".py",
   "mimetype": "text/x-python",
   "name": "python",
   "nbconvert_exporter": "python",
   "pygments_lexer": "ipython3",
   "version": "3.11.8"
  },
  "widgets": {
   "application/vnd.jupyter.widget-state+json": {
    "state": {
     "0bb0b42b16f6400c98c0d74d633425cc": {
      "model_module": "@jupyter-widgets/output",
      "model_module_version": "1.0.0",
      "model_name": "OutputModel",
      "state": {
       "_dom_classes": [],
       "_model_module": "@jupyter-widgets/output",
       "_model_module_version": "1.0.0",
       "_model_name": "OutputModel",
       "_view_count": null,
       "_view_module": "@jupyter-widgets/output",
       "_view_module_version": "1.0.0",
       "_view_name": "OutputView",
       "layout": "IPY_MODEL_b0bb5a0693b1425fb46a906868a7be64",
       "msg_id": "",
       "outputs": [
        {
         "data": {
          "text/markdown": "`modmul_symb`",
          "text/plain": "<IPython.core.display.Markdown object>"
         },
         "metadata": {},
         "output_type": "display_data"
        },
        {
         "data": {
          "image/svg+xml": "<svg xmlns=\"http://www.w3.org/2000/svg\" xmlns:xlink=\"http://www.w3.org/1999/xlink\" width=\"248pt\" height=\"98pt\" viewBox=\"0.00 0.00 248.00 98.00\">\n<g id=\"graph0\" class=\"graph\" transform=\"scale(1 1) rotate(0) translate(4 94)\">\n<title>my_graph</title>\n<polygon fill=\"white\" stroke=\"transparent\" points=\"-4,4 -4,-94 244,-94 244,4 -4,4\"/>\n<!-- ctrl_G5 -->\n<g id=\"node1\" class=\"node\">\n<title>ctrl_G5</title>\n<text text-anchor=\"middle\" x=\"27\" y=\"-68.3\" font-family=\"Times,serif\" font-size=\"14.00\">ctrl</text>\n</g>\n<!-- CModMulK -->\n<g id=\"node3\" class=\"node\">\n<title>CModMulK</title>\n<polygon fill=\"none\" stroke=\"black\" points=\"91,-66 91,-83 149,-83 149,-66 91,-66\"/>\n<text text-anchor=\"start\" x=\"94\" y=\"-72\" font-family=\"Times,serif\" font-size=\"10.00\">CModMulK</text>\n<polygon fill=\"none\" stroke=\"black\" points=\"91,-45 91,-66 149,-66 149,-45 91,-45\"/>\n<text text-anchor=\"start\" x=\"110.5\" y=\"-51.8\" font-family=\"Times,serif\" font-size=\"14.00\">ctrl</text>\n<polygon fill=\"none\" stroke=\"black\" points=\"91,-24 91,-45 149,-45 149,-24 91,-24\"/>\n<text text-anchor=\"start\" x=\"116.5\" y=\"-30.8\" font-family=\"Times,serif\" font-size=\"14.00\">x</text>\n</g>\n<!-- ctrl_G5&#45;&gt;CModMulK -->\n<g id=\"edge1\" class=\"edge\">\n<title>ctrl_G5:e-&gt;CModMulK:w</title>\n<path fill=\"none\" stroke=\"black\" d=\"M54,-72C71.22,-72 72.97,-57.23 88.98,-56.07\"/>\n<ellipse fill=\"black\" stroke=\"black\" cx=\"90\" cy=\"-56.04\" rx=\"1\" ry=\"1\"/>\n<text text-anchor=\"middle\" x=\"72.5\" y=\"-67\" font-family=\"Times,serif\" font-size=\"10.00\">1</text>\n</g>\n<!-- x_G3 -->\n<g id=\"node2\" class=\"node\">\n<title>x_G3</title>\n<text text-anchor=\"middle\" x=\"27\" y=\"-14.3\" font-family=\"Times,serif\" font-size=\"14.00\">x</text>\n</g>\n<!-- x_G3&#45;&gt;CModMulK -->\n<g id=\"edge2\" class=\"edge\">\n<title>x_G3:e-&gt;CModMulK:w</title>\n<path fill=\"none\" stroke=\"black\" d=\"M54,-18C71.22,-18 72.97,-32.77 88.98,-33.93\"/>\n<ellipse fill=\"black\" stroke=\"black\" cx=\"90\" cy=\"-33.96\" rx=\"1\" ry=\"1\"/>\n<text text-anchor=\"middle\" x=\"72.5\" y=\"-29\" font-family=\"Times,serif\" font-size=\"10.00\">n_x</text>\n</g>\n<!-- ctrl_G2 -->\n<g id=\"node4\" class=\"node\">\n<title>ctrl_G2</title>\n<text text-anchor=\"middle\" x=\"213\" y=\"-68.3\" font-family=\"Times,serif\" font-size=\"14.00\">ctrl</text>\n</g>\n<!-- CModMulK&#45;&gt;ctrl_G2 -->\n<g id=\"edge3\" class=\"edge\">\n<title>CModMulK:e-&gt;ctrl_G2:w</title>\n<path fill=\"none\" stroke=\"black\" d=\"M149,-56C166.22,-56 167.97,-70.77 183.98,-71.93\"/>\n<ellipse fill=\"black\" stroke=\"black\" cx=\"185\" cy=\"-71.96\" rx=\"1\" ry=\"1\"/>\n<text text-anchor=\"middle\" x=\"167.5\" y=\"-67\" font-family=\"Times,serif\" font-size=\"10.00\">1</text>\n</g>\n<!-- x_G0 -->\n<g id=\"node5\" class=\"node\">\n<title>x_G0</title>\n<text text-anchor=\"middle\" x=\"213\" y=\"-14.3\" font-family=\"Times,serif\" font-size=\"14.00\">x</text>\n</g>\n<!-- CModMulK&#45;&gt;x_G0 -->\n<g id=\"edge4\" class=\"edge\">\n<title>CModMulK:e-&gt;x_G0:w</title>\n<path fill=\"none\" stroke=\"black\" d=\"M149,-34C166.22,-34 167.97,-19.23 183.98,-18.07\"/>\n<ellipse fill=\"black\" stroke=\"black\" cx=\"185\" cy=\"-18.04\" rx=\"1\" ry=\"1\"/>\n<text text-anchor=\"middle\" x=\"167.5\" y=\"-29\" font-family=\"Times,serif\" font-size=\"10.00\">n_x</text>\n</g>\n</g>\n</svg>",
          "text/plain": "<IPython.core.display.SVG object>"
         },
         "metadata": {},
         "output_type": "display_data"
        }
       ],
       "tabbable": null,
       "tooltip": null
      }
     },
     "420b6913ddf245e2903033a0d26b8992": {
      "model_module": "@jupyter-widgets/base",
      "model_module_version": "2.0.0",
      "model_name": "LayoutModel",
      "state": {
       "_model_module": "@jupyter-widgets/base",
       "_model_module_version": "2.0.0",
       "_model_name": "LayoutModel",
       "_view_count": null,
       "_view_module": "@jupyter-widgets/base",
       "_view_module_version": "2.0.0",
       "_view_name": "LayoutView",
       "align_content": null,
       "align_items": null,
       "align_self": null,
       "border_bottom": null,
       "border_left": null,
       "border_right": null,
       "border_top": null,
       "bottom": null,
       "display": null,
       "flex": null,
       "flex_flow": null,
       "grid_area": null,
       "grid_auto_columns": null,
       "grid_auto_flow": null,
       "grid_auto_rows": null,
       "grid_column": null,
       "grid_gap": null,
       "grid_row": null,
       "grid_template_areas": null,
       "grid_template_columns": null,
       "grid_template_rows": null,
       "height": null,
       "justify_content": null,
       "justify_items": null,
       "left": null,
       "margin": null,
       "max_height": null,
       "max_width": null,
       "min_height": null,
       "min_width": null,
       "object_fit": null,
       "object_position": null,
       "order": null,
       "overflow": null,
       "padding": null,
       "right": null,
       "top": null,
       "visibility": null,
       "width": null
      }
     },
     "450bdb07967841e6b8ac8e22aba417a1": {
      "model_module": "@jupyter-widgets/output",
      "model_module_version": "1.0.0",
      "model_name": "OutputModel",
      "state": {
       "_dom_classes": [],
       "_model_module": "@jupyter-widgets/output",
       "_model_module_version": "1.0.0",
       "_model_name": "OutputModel",
       "_view_count": null,
       "_view_module": "@jupyter-widgets/output",
       "_view_module_version": "1.0.0",
       "_view_name": "OutputView",
       "layout": "IPY_MODEL_9bd810df6c2846479cc26489c6a18107",
       "msg_id": "",
       "outputs": [
        {
         "data": {
          "text/markdown": "`moddbl_large`",
          "text/plain": "<IPython.core.display.Markdown object>"
         },
         "metadata": {},
         "output_type": "display_data"
        },
        {
         "data": {
          "image/svg+xml": "<svg xmlns=\"http://www.w3.org/2000/svg\" xmlns:xlink=\"http://www.w3.org/1999/xlink\" width=\"232pt\" height=\"54pt\" viewBox=\"0.00 0.00 232.00 54.00\">\n<g id=\"graph0\" class=\"graph\" transform=\"scale(1 1) rotate(0) translate(4 50)\">\n<title>my_graph</title>\n<polygon fill=\"white\" stroke=\"transparent\" points=\"-4,4 -4,-50 228,-50 228,4 -4,4\"/>\n<!-- x_G2 -->\n<g id=\"node1\" class=\"node\">\n<title>x_G2</title>\n<text text-anchor=\"middle\" x=\"27\" y=\"-14.3\" font-family=\"Times,serif\" font-size=\"14.00\">x</text>\n</g>\n<!-- ModDbl -->\n<g id=\"node2\" class=\"node\">\n<title>ModDbl</title>\n<polygon fill=\"none\" stroke=\"black\" points=\"91,-29 91,-46 133,-46 133,-29 91,-29\"/>\n<text text-anchor=\"start\" x=\"94\" y=\"-35\" font-family=\"Times,serif\" font-size=\"10.00\">ModDbl</text>\n<polygon fill=\"none\" stroke=\"black\" points=\"91,-8 91,-29 133,-29 133,-8 91,-8\"/>\n<text text-anchor=\"start\" x=\"108.5\" y=\"-14.8\" font-family=\"Times,serif\" font-size=\"14.00\">x</text>\n</g>\n<!-- x_G2&#45;&gt;ModDbl -->\n<g id=\"edge1\" class=\"edge\">\n<title>x_G2:e-&gt;ModDbl:w</title>\n<path fill=\"none\" stroke=\"black\" d=\"M54,-18C69.67,-18 74.14,-18 88.77,-18\"/>\n<ellipse fill=\"black\" stroke=\"black\" cx=\"90\" cy=\"-18\" rx=\"1\" ry=\"1\"/>\n<text text-anchor=\"middle\" x=\"72.5\" y=\"-21\" font-family=\"Times,serif\" font-size=\"10.00\">32</text>\n</g>\n<!-- x_G0 -->\n<g id=\"node3\" class=\"node\">\n<title>x_G0</title>\n<text text-anchor=\"middle\" x=\"197\" y=\"-14.3\" font-family=\"Times,serif\" font-size=\"14.00\">x</text>\n</g>\n<!-- ModDbl&#45;&gt;x_G0 -->\n<g id=\"edge2\" class=\"edge\">\n<title>ModDbl:e-&gt;x_G0:w</title>\n<path fill=\"none\" stroke=\"black\" d=\"M133,-18C148.67,-18 153.14,-18 167.77,-18\"/>\n<ellipse fill=\"black\" stroke=\"black\" cx=\"169\" cy=\"-18\" rx=\"1\" ry=\"1\"/>\n<text text-anchor=\"middle\" x=\"151.5\" y=\"-21\" font-family=\"Times,serif\" font-size=\"10.00\">32</text>\n</g>\n</g>\n</svg>",
          "text/plain": "<IPython.core.display.SVG object>"
         },
         "metadata": {},
         "output_type": "display_data"
        }
       ],
       "tabbable": null,
       "tooltip": null
      }
     },
     "47f82d1f7e914db3add9def93e82fe2d": {
      "model_module": "@jupyter-widgets/output",
      "model_module_version": "1.0.0",
      "model_name": "OutputModel",
      "state": {
       "_dom_classes": [],
       "_model_module": "@jupyter-widgets/output",
       "_model_module_version": "1.0.0",
       "_model_name": "OutputModel",
       "_view_count": null,
       "_view_module": "@jupyter-widgets/output",
       "_view_module_version": "1.0.0",
       "_view_name": "OutputView",
       "layout": "IPY_MODEL_72768ed28a5e4f17a455a7e00eb3a3c8",
       "msg_id": "",
       "outputs": [
        {
         "data": {
          "text/markdown": "`moddbl_small`",
          "text/plain": "<IPython.core.display.Markdown object>"
         },
         "metadata": {},
         "output_type": "display_data"
        },
        {
         "data": {
          "image/svg+xml": "<svg xmlns=\"http://www.w3.org/2000/svg\" xmlns:xlink=\"http://www.w3.org/1999/xlink\" width=\"232pt\" height=\"54pt\" viewBox=\"0.00 0.00 232.00 54.00\">\n<g id=\"graph0\" class=\"graph\" transform=\"scale(1 1) rotate(0) translate(4 50)\">\n<title>my_graph</title>\n<polygon fill=\"white\" stroke=\"transparent\" points=\"-4,4 -4,-50 228,-50 228,4 -4,4\"/>\n<!-- x_G2 -->\n<g id=\"node1\" class=\"node\">\n<title>x_G2</title>\n<text text-anchor=\"middle\" x=\"27\" y=\"-14.3\" font-family=\"Times,serif\" font-size=\"14.00\">x</text>\n</g>\n<!-- ModDbl -->\n<g id=\"node2\" class=\"node\">\n<title>ModDbl</title>\n<polygon fill=\"none\" stroke=\"black\" points=\"91,-29 91,-46 133,-46 133,-29 91,-29\"/>\n<text text-anchor=\"start\" x=\"94\" y=\"-35\" font-family=\"Times,serif\" font-size=\"10.00\">ModDbl</text>\n<polygon fill=\"none\" stroke=\"black\" points=\"91,-8 91,-29 133,-29 133,-8 91,-8\"/>\n<text text-anchor=\"start\" x=\"108.5\" y=\"-14.8\" font-family=\"Times,serif\" font-size=\"14.00\">x</text>\n</g>\n<!-- x_G2&#45;&gt;ModDbl -->\n<g id=\"edge1\" class=\"edge\">\n<title>x_G2:e-&gt;ModDbl:w</title>\n<path fill=\"none\" stroke=\"black\" d=\"M54,-18C69.67,-18 74.14,-18 88.77,-18\"/>\n<ellipse fill=\"black\" stroke=\"black\" cx=\"90\" cy=\"-18\" rx=\"1\" ry=\"1\"/>\n<text text-anchor=\"middle\" x=\"72.5\" y=\"-21\" font-family=\"Times,serif\" font-size=\"10.00\">4</text>\n</g>\n<!-- x_G1 -->\n<g id=\"node3\" class=\"node\">\n<title>x_G1</title>\n<text text-anchor=\"middle\" x=\"197\" y=\"-14.3\" font-family=\"Times,serif\" font-size=\"14.00\">x</text>\n</g>\n<!-- ModDbl&#45;&gt;x_G1 -->\n<g id=\"edge2\" class=\"edge\">\n<title>ModDbl:e-&gt;x_G1:w</title>\n<path fill=\"none\" stroke=\"black\" d=\"M133,-18C148.67,-18 153.14,-18 167.77,-18\"/>\n<ellipse fill=\"black\" stroke=\"black\" cx=\"169\" cy=\"-18\" rx=\"1\" ry=\"1\"/>\n<text text-anchor=\"middle\" x=\"151.5\" y=\"-21\" font-family=\"Times,serif\" font-size=\"10.00\">4</text>\n</g>\n</g>\n</svg>",
          "text/plain": "<IPython.core.display.SVG object>"
         },
         "metadata": {},
         "output_type": "display_data"
        }
       ],
       "tabbable": null,
       "tooltip": null
      }
     },
     "59adc3c1df7b41de8f2b8cc65a62293e": {
      "model_module": "@jupyter-widgets/base",
      "model_module_version": "2.0.0",
      "model_name": "LayoutModel",
      "state": {
       "_model_module": "@jupyter-widgets/base",
       "_model_module_version": "2.0.0",
       "_model_name": "LayoutModel",
       "_view_count": null,
       "_view_module": "@jupyter-widgets/base",
       "_view_module_version": "2.0.0",
       "_view_name": "LayoutView",
       "align_content": null,
       "align_items": null,
       "align_self": null,
       "border_bottom": null,
       "border_left": null,
       "border_right": null,
       "border_top": null,
       "bottom": null,
       "display": null,
       "flex": null,
       "flex_flow": null,
       "grid_area": null,
       "grid_auto_columns": null,
       "grid_auto_flow": null,
       "grid_auto_rows": null,
       "grid_column": null,
       "grid_gap": null,
       "grid_row": null,
       "grid_template_areas": null,
       "grid_template_columns": null,
       "grid_template_rows": null,
       "height": null,
       "justify_content": null,
       "justify_items": null,
       "left": null,
       "margin": null,
       "max_height": null,
       "max_width": null,
       "min_height": null,
       "min_width": null,
       "object_fit": null,
       "object_position": null,
       "order": null,
       "overflow": null,
       "padding": null,
       "right": null,
       "top": null,
       "visibility": null,
       "width": null
      }
     },
     "5c66e861113c43ca80b075886381f0eb": {
      "model_module": "@jupyter-widgets/output",
      "model_module_version": "1.0.0",
      "model_name": "OutputModel",
      "state": {
       "_dom_classes": [],
       "_model_module": "@jupyter-widgets/output",
       "_model_module_version": "1.0.0",
       "_model_name": "OutputModel",
       "_view_count": null,
       "_view_module": "@jupyter-widgets/output",
       "_view_module_version": "1.0.0",
       "_view_name": "OutputView",
       "layout": "IPY_MODEL_bd15605260ad496793832bbe65e8e65b",
       "msg_id": "",
       "outputs": [
        {
         "data": {
          "text/markdown": "`modmul`",
          "text/plain": "<IPython.core.display.Markdown object>"
         },
         "metadata": {},
         "output_type": "display_data"
        },
        {
         "data": {
          "image/svg+xml": "<svg xmlns=\"http://www.w3.org/2000/svg\" xmlns:xlink=\"http://www.w3.org/1999/xlink\" width=\"248pt\" height=\"98pt\" viewBox=\"0.00 0.00 248.00 98.00\">\n<g id=\"graph0\" class=\"graph\" transform=\"scale(1 1) rotate(0) translate(4 94)\">\n<title>my_graph</title>\n<polygon fill=\"white\" stroke=\"transparent\" points=\"-4,4 -4,-94 244,-94 244,4 -4,4\"/>\n<!-- ctrl_G5 -->\n<g id=\"node1\" class=\"node\">\n<title>ctrl_G5</title>\n<text text-anchor=\"middle\" x=\"27\" y=\"-68.3\" font-family=\"Times,serif\" font-size=\"14.00\">ctrl</text>\n</g>\n<!-- CModMulK -->\n<g id=\"node3\" class=\"node\">\n<title>CModMulK</title>\n<polygon fill=\"none\" stroke=\"black\" points=\"91,-66 91,-83 149,-83 149,-66 91,-66\"/>\n<text text-anchor=\"start\" x=\"94\" y=\"-72\" font-family=\"Times,serif\" font-size=\"10.00\">CModMulK</text>\n<polygon fill=\"none\" stroke=\"black\" points=\"91,-45 91,-66 149,-66 149,-45 91,-45\"/>\n<text text-anchor=\"start\" x=\"110.5\" y=\"-51.8\" font-family=\"Times,serif\" font-size=\"14.00\">ctrl</text>\n<polygon fill=\"none\" stroke=\"black\" points=\"91,-24 91,-45 149,-45 149,-24 91,-24\"/>\n<text text-anchor=\"start\" x=\"116.5\" y=\"-30.8\" font-family=\"Times,serif\" font-size=\"14.00\">x</text>\n</g>\n<!-- ctrl_G5&#45;&gt;CModMulK -->\n<g id=\"edge1\" class=\"edge\">\n<title>ctrl_G5:e-&gt;CModMulK:w</title>\n<path fill=\"none\" stroke=\"black\" d=\"M54,-72C71.22,-72 72.97,-57.23 88.98,-56.07\"/>\n<ellipse fill=\"black\" stroke=\"black\" cx=\"90\" cy=\"-56.04\" rx=\"1\" ry=\"1\"/>\n<text text-anchor=\"middle\" x=\"72.5\" y=\"-67\" font-family=\"Times,serif\" font-size=\"10.00\">1</text>\n</g>\n<!-- x_G4 -->\n<g id=\"node2\" class=\"node\">\n<title>x_G4</title>\n<text text-anchor=\"middle\" x=\"27\" y=\"-14.3\" font-family=\"Times,serif\" font-size=\"14.00\">x</text>\n</g>\n<!-- x_G4&#45;&gt;CModMulK -->\n<g id=\"edge2\" class=\"edge\">\n<title>x_G4:e-&gt;CModMulK:w</title>\n<path fill=\"none\" stroke=\"black\" d=\"M54,-18C71.22,-18 72.97,-32.77 88.98,-33.93\"/>\n<ellipse fill=\"black\" stroke=\"black\" cx=\"90\" cy=\"-33.96\" rx=\"1\" ry=\"1\"/>\n<text text-anchor=\"middle\" x=\"72.5\" y=\"-29\" font-family=\"Times,serif\" font-size=\"10.00\">8</text>\n</g>\n<!-- ctrl_G1 -->\n<g id=\"node4\" class=\"node\">\n<title>ctrl_G1</title>\n<text text-anchor=\"middle\" x=\"213\" y=\"-68.3\" font-family=\"Times,serif\" font-size=\"14.00\">ctrl</text>\n</g>\n<!-- CModMulK&#45;&gt;ctrl_G1 -->\n<g id=\"edge3\" class=\"edge\">\n<title>CModMulK:e-&gt;ctrl_G1:w</title>\n<path fill=\"none\" stroke=\"black\" d=\"M149,-56C166.22,-56 167.97,-70.77 183.98,-71.93\"/>\n<ellipse fill=\"black\" stroke=\"black\" cx=\"185\" cy=\"-71.96\" rx=\"1\" ry=\"1\"/>\n<text text-anchor=\"middle\" x=\"167.5\" y=\"-67\" font-family=\"Times,serif\" font-size=\"10.00\">1</text>\n</g>\n<!-- x_G0 -->\n<g id=\"node5\" class=\"node\">\n<title>x_G0</title>\n<text text-anchor=\"middle\" x=\"213\" y=\"-14.3\" font-family=\"Times,serif\" font-size=\"14.00\">x</text>\n</g>\n<!-- CModMulK&#45;&gt;x_G0 -->\n<g id=\"edge4\" class=\"edge\">\n<title>CModMulK:e-&gt;x_G0:w</title>\n<path fill=\"none\" stroke=\"black\" d=\"M149,-34C166.22,-34 167.97,-19.23 183.98,-18.07\"/>\n<ellipse fill=\"black\" stroke=\"black\" cx=\"185\" cy=\"-18.04\" rx=\"1\" ry=\"1\"/>\n<text text-anchor=\"middle\" x=\"167.5\" y=\"-29\" font-family=\"Times,serif\" font-size=\"10.00\">8</text>\n</g>\n</g>\n</svg>",
          "text/plain": "<IPython.core.display.SVG object>"
         },
         "metadata": {},
         "output_type": "display_data"
        }
       ],
       "tabbable": null,
       "tooltip": null
      }
     },
     "72768ed28a5e4f17a455a7e00eb3a3c8": {
      "model_module": "@jupyter-widgets/base",
      "model_module_version": "2.0.0",
      "model_name": "LayoutModel",
      "state": {
       "_model_module": "@jupyter-widgets/base",
       "_model_module_version": "2.0.0",
       "_model_name": "LayoutModel",
       "_view_count": null,
       "_view_module": "@jupyter-widgets/base",
       "_view_module_version": "2.0.0",
       "_view_name": "LayoutView",
       "align_content": null,
       "align_items": null,
       "align_self": null,
       "border_bottom": null,
       "border_left": null,
       "border_right": null,
       "border_top": null,
       "bottom": null,
       "display": null,
       "flex": null,
       "flex_flow": null,
       "grid_area": null,
       "grid_auto_columns": null,
       "grid_auto_flow": null,
       "grid_auto_rows": null,
       "grid_column": null,
       "grid_gap": null,
       "grid_row": null,
       "grid_template_areas": null,
       "grid_template_columns": null,
       "grid_template_rows": null,
       "height": null,
       "justify_content": null,
       "justify_items": null,
       "left": null,
       "margin": null,
       "max_height": null,
       "max_width": null,
       "min_height": null,
       "min_width": null,
       "object_fit": null,
       "object_position": null,
       "order": null,
       "overflow": null,
       "padding": null,
       "right": null,
       "top": null,
       "visibility": null,
       "width": null
      }
     },
     "7bd4da66ee09420aba2828ed4f812e86": {
      "model_module": "@jupyter-widgets/output",
      "model_module_version": "1.0.0",
      "model_name": "OutputModel",
      "state": {
       "_dom_classes": [],
       "_model_module": "@jupyter-widgets/output",
       "_model_module_version": "1.0.0",
       "_model_name": "OutputModel",
       "_view_count": null,
       "_view_module": "@jupyter-widgets/output",
       "_view_module_version": "1.0.0",
       "_view_name": "OutputView",
       "layout": "IPY_MODEL_827ff4717d914199a8f56648c63c5f8f",
       "msg_id": "",
       "outputs": [
        {
         "data": {
          "text/markdown": "`dirtyoutofplacemontgomerymodmul_small`",
          "text/plain": "<IPython.core.display.Markdown object>"
         },
         "metadata": {},
         "output_type": "display_data"
        },
        {
         "data": {
          "image/svg+xml": "<svg xmlns=\"http://www.w3.org/2000/svg\" xmlns:xlink=\"http://www.w3.org/1999/xlink\" width=\"393pt\" height=\"260pt\" viewBox=\"0.00 0.00 393.00 260.00\">\n<g id=\"graph0\" class=\"graph\" transform=\"scale(1 1) rotate(0) translate(4 256)\">\n<title>my_graph</title>\n<polygon fill=\"white\" stroke=\"transparent\" points=\"-4,4 -4,-256 389,-256 389,4 -4,4\"/>\n<!-- x_G9 -->\n<g id=\"node1\" class=\"node\">\n<title>x_G9</title>\n<text text-anchor=\"middle\" x=\"27\" y=\"-181.3\" font-family=\"Times,serif\" font-size=\"14.00\">x</text>\n</g>\n<!-- DirtyOutOfPlaceMontgomeryModMul -->\n<g id=\"node3\" class=\"node\">\n<title>DirtyOutOfPlaceMontgomeryModMul</title>\n<polygon fill=\"none\" stroke=\"black\" points=\"91,-179 91,-196 257,-196 257,-179 91,-179\"/>\n<text text-anchor=\"start\" x=\"94\" y=\"-185\" font-family=\"Times,serif\" font-size=\"10.00\">DirtyOutOfPlaceMontgomeryModMul</text>\n<polygon fill=\"none\" stroke=\"black\" points=\"91,-158 91,-179 257,-179 257,-158 91,-158\"/>\n<text text-anchor=\"start\" x=\"170.5\" y=\"-164.8\" font-family=\"Times,serif\" font-size=\"14.00\">x</text>\n<polygon fill=\"none\" stroke=\"black\" points=\"91,-137 91,-158 257,-158 257,-137 91,-137\"/>\n<text text-anchor=\"start\" x=\"170.5\" y=\"-143.8\" font-family=\"Times,serif\" font-size=\"14.00\">y</text>\n<polygon fill=\"none\" stroke=\"black\" points=\"91,-116 91,-137 136,-137 136,-116 91,-116\"/>\n<polygon fill=\"none\" stroke=\"black\" points=\"136,-116 136,-137 257,-137 257,-116 136,-116\"/>\n<text text-anchor=\"start\" x=\"181\" y=\"-122.8\" font-family=\"Times,serif\" font-size=\"14.00\">target</text>\n<polygon fill=\"none\" stroke=\"black\" points=\"91,-95 91,-116 136,-116 136,-95 91,-95\"/>\n<polygon fill=\"none\" stroke=\"black\" points=\"136,-95 136,-116 257,-116 257,-95 136,-95\"/>\n<text text-anchor=\"start\" x=\"159\" y=\"-101.8\" font-family=\"Times,serif\" font-size=\"14.00\">qrom_indices</text>\n<polygon fill=\"none\" stroke=\"black\" points=\"91,-74 91,-95 136,-95 136,-74 91,-74\"/>\n<polygon fill=\"none\" stroke=\"black\" points=\"136,-74 136,-95 257,-95 257,-74 136,-74\"/>\n<text text-anchor=\"start\" x=\"175\" y=\"-80.8\" font-family=\"Times,serif\" font-size=\"14.00\">reduced</text>\n</g>\n<!-- x_G9&#45;&gt;DirtyOutOfPlaceMontgomeryModMul -->\n<g id=\"edge1\" class=\"edge\">\n<title>x_G9:e-&gt;DirtyOutOfPlaceMontgomeryModMul:w</title>\n<path fill=\"none\" stroke=\"black\" d=\"M54,-185C71.22,-185 72.97,-170.23 88.98,-169.07\"/>\n<ellipse fill=\"black\" stroke=\"black\" cx=\"90\" cy=\"-169.04\" rx=\"1\" ry=\"1\"/>\n<text text-anchor=\"middle\" x=\"72.5\" y=\"-180\" font-family=\"Times,serif\" font-size=\"10.00\">6</text>\n</g>\n<!-- y_G11 -->\n<g id=\"node2\" class=\"node\">\n<title>y_G11</title>\n<text text-anchor=\"middle\" x=\"27\" y=\"-127.3\" font-family=\"Times,serif\" font-size=\"14.00\">y</text>\n</g>\n<!-- y_G11&#45;&gt;DirtyOutOfPlaceMontgomeryModMul -->\n<g id=\"edge2\" class=\"edge\">\n<title>y_G11:e-&gt;DirtyOutOfPlaceMontgomeryModMul:w</title>\n<path fill=\"none\" stroke=\"black\" d=\"M54,-131C71.39,-131 72.81,-146.7 88.96,-147.92\"/>\n<ellipse fill=\"black\" stroke=\"black\" cx=\"90\" cy=\"-147.96\" rx=\"1\" ry=\"1\"/>\n<text text-anchor=\"middle\" x=\"72.5\" y=\"-142\" font-family=\"Times,serif\" font-size=\"10.00\">6</text>\n</g>\n<!-- x_G7 -->\n<g id=\"node4\" class=\"node\">\n<title>x_G7</title>\n<text text-anchor=\"middle\" x=\"339.5\" y=\"-230.3\" font-family=\"Times,serif\" font-size=\"14.00\">x</text>\n</g>\n<!-- DirtyOutOfPlaceMontgomeryModMul&#45;&gt;x_G7 -->\n<g id=\"edge3\" class=\"edge\">\n<title>DirtyOutOfPlaceMontgomeryModMul:e-&gt;x_G7:w</title>\n<path fill=\"none\" stroke=\"black\" d=\"M257,-169C293.96,-169 274.59,-231.49 309.36,-233.93\"/>\n<ellipse fill=\"black\" stroke=\"black\" cx=\"310.5\" cy=\"-233.97\" rx=\"1\" ry=\"1\"/>\n<text text-anchor=\"middle\" x=\"275.5\" y=\"-181\" font-family=\"Times,serif\" font-size=\"10.00\">6</text>\n</g>\n<!-- y_G2 -->\n<g id=\"node5\" class=\"node\">\n<title>y_G2</title>\n<text text-anchor=\"middle\" x=\"339.5\" y=\"-176.3\" font-family=\"Times,serif\" font-size=\"14.00\">y</text>\n</g>\n<!-- DirtyOutOfPlaceMontgomeryModMul&#45;&gt;y_G2 -->\n<g id=\"edge4\" class=\"edge\">\n<title>DirtyOutOfPlaceMontgomeryModMul:e-&gt;y_G2:w</title>\n<path fill=\"none\" stroke=\"black\" d=\"M257,-148C284.32,-148 283.48,-178.27 309.26,-179.93\"/>\n<ellipse fill=\"black\" stroke=\"black\" cx=\"310.5\" cy=\"-179.97\" rx=\"1\" ry=\"1\"/>\n<text text-anchor=\"middle\" x=\"275.5\" y=\"-157\" font-family=\"Times,serif\" font-size=\"10.00\">6</text>\n</g>\n<!-- target_G8 -->\n<g id=\"node6\" class=\"node\">\n<title>target_G8</title>\n<text text-anchor=\"middle\" x=\"339.5\" y=\"-122.3\" font-family=\"Times,serif\" font-size=\"14.00\">target</text>\n</g>\n<!-- DirtyOutOfPlaceMontgomeryModMul&#45;&gt;target_G8 -->\n<g id=\"edge5\" class=\"edge\">\n<title>DirtyOutOfPlaceMontgomeryModMul:e-&gt;target_G8:w</title>\n<path fill=\"none\" stroke=\"black\" d=\"M257,-126C280.47,-126 286.88,-126 309.28,-126\"/>\n<ellipse fill=\"black\" stroke=\"black\" cx=\"310.5\" cy=\"-126\" rx=\"1\" ry=\"1\"/>\n<text text-anchor=\"middle\" x=\"275.5\" y=\"-129\" font-family=\"Times,serif\" font-size=\"10.00\">6</text>\n</g>\n<!-- qrom_indices_G4 -->\n<g id=\"node7\" class=\"node\">\n<title>qrom_indices_G4</title>\n<text text-anchor=\"middle\" x=\"339.5\" y=\"-68.3\" font-family=\"Times,serif\" font-size=\"14.00\">qrom_indices</text>\n</g>\n<!-- DirtyOutOfPlaceMontgomeryModMul&#45;&gt;qrom_indices_G4 -->\n<g id=\"edge6\" class=\"edge\">\n<title>DirtyOutOfPlaceMontgomeryModMul:e-&gt;qrom_indices_G4:w</title>\n<path fill=\"none\" stroke=\"black\" d=\"M257,-105C278.17,-105 272.47,-74.53 291.55,-72.15\"/>\n<ellipse fill=\"black\" stroke=\"black\" cx=\"293\" cy=\"-72.06\" rx=\"1\" ry=\"1\"/>\n<text text-anchor=\"middle\" x=\"275.5\" y=\"-92\" font-family=\"Times,serif\" font-size=\"10.00\">6</text>\n</g>\n<!-- reduced_G10 -->\n<g id=\"node8\" class=\"node\">\n<title>reduced_G10</title>\n<text text-anchor=\"middle\" x=\"339.5\" y=\"-14.3\" font-family=\"Times,serif\" font-size=\"14.00\">reduced</text>\n</g>\n<!-- DirtyOutOfPlaceMontgomeryModMul&#45;&gt;reduced_G10 -->\n<g id=\"edge7\" class=\"edge\">\n<title>DirtyOutOfPlaceMontgomeryModMul:e-&gt;reduced_G10:w</title>\n<path fill=\"none\" stroke=\"black\" d=\"M257,-84C293.48,-84 272.17,-20.55 306.39,-18.07\"/>\n<ellipse fill=\"black\" stroke=\"black\" cx=\"307.5\" cy=\"-18.04\" rx=\"1\" ry=\"1\"/>\n<text text-anchor=\"middle\" x=\"275.5\" y=\"-77\" font-family=\"Times,serif\" font-size=\"10.00\">1</text>\n</g>\n</g>\n</svg>",
          "text/plain": "<IPython.core.display.SVG object>"
         },
         "metadata": {},
         "output_type": "display_data"
        }
       ],
       "tabbable": null,
       "tooltip": null
      }
     },
     "7feeee481c1d4e08a084892a8e9f3458": {
      "model_module": "@jupyter-widgets/controls",
      "model_module_version": "2.0.0",
      "model_name": "HBoxModel",
      "state": {
       "_dom_classes": [],
       "_model_module": "@jupyter-widgets/controls",
       "_model_module_version": "2.0.0",
       "_model_name": "HBoxModel",
       "_view_count": null,
       "_view_module": "@jupyter-widgets/controls",
       "_view_module_version": "2.0.0",
       "_view_name": "HBoxView",
       "box_style": "",
       "children": [
        "IPY_MODEL_7bd4da66ee09420aba2828ed4f812e86",
        "IPY_MODEL_b9e20b228eae4a7ebd911e70b861b66d"
       ],
       "layout": "IPY_MODEL_c08122e423f4448aae2ef6cf9fb63a90",
       "tabbable": null,
       "tooltip": null
      }
     },
     "827ff4717d914199a8f56648c63c5f8f": {
      "model_module": "@jupyter-widgets/base",
      "model_module_version": "2.0.0",
      "model_name": "LayoutModel",
      "state": {
       "_model_module": "@jupyter-widgets/base",
       "_model_module_version": "2.0.0",
       "_model_name": "LayoutModel",
       "_view_count": null,
       "_view_module": "@jupyter-widgets/base",
       "_view_module_version": "2.0.0",
       "_view_name": "LayoutView",
       "align_content": null,
       "align_items": null,
       "align_self": null,
       "border_bottom": null,
       "border_left": null,
       "border_right": null,
       "border_top": null,
       "bottom": null,
       "display": null,
       "flex": null,
       "flex_flow": null,
       "grid_area": null,
       "grid_auto_columns": null,
       "grid_auto_flow": null,
       "grid_auto_rows": null,
       "grid_column": null,
       "grid_gap": null,
       "grid_row": null,
       "grid_template_areas": null,
       "grid_template_columns": null,
       "grid_template_rows": null,
       "height": null,
       "justify_content": null,
       "justify_items": null,
       "left": null,
       "margin": null,
       "max_height": null,
       "max_width": null,
       "min_height": null,
       "min_width": null,
       "object_fit": null,
       "object_position": null,
       "order": null,
       "overflow": null,
       "padding": null,
       "right": null,
       "top": null,
       "visibility": null,
       "width": null
      }
     },
     "9bd810df6c2846479cc26489c6a18107": {
      "model_module": "@jupyter-widgets/base",
      "model_module_version": "2.0.0",
      "model_name": "LayoutModel",
      "state": {
       "_model_module": "@jupyter-widgets/base",
       "_model_module_version": "2.0.0",
       "_model_name": "LayoutModel",
       "_view_count": null,
       "_view_module": "@jupyter-widgets/base",
       "_view_module_version": "2.0.0",
       "_view_name": "LayoutView",
       "align_content": null,
       "align_items": null,
       "align_self": null,
       "border_bottom": null,
       "border_left": null,
       "border_right": null,
       "border_top": null,
       "bottom": null,
       "display": null,
       "flex": null,
       "flex_flow": null,
       "grid_area": null,
       "grid_auto_columns": null,
       "grid_auto_flow": null,
       "grid_auto_rows": null,
       "grid_column": null,
       "grid_gap": null,
       "grid_row": null,
       "grid_template_areas": null,
       "grid_template_columns": null,
       "grid_template_rows": null,
       "height": null,
       "justify_content": null,
       "justify_items": null,
       "left": null,
       "margin": null,
       "max_height": null,
       "max_width": null,
       "min_height": null,
       "min_width": null,
       "object_fit": null,
       "object_position": null,
       "order": null,
       "overflow": null,
       "padding": null,
       "right": null,
       "top": null,
       "visibility": null,
       "width": null
      }
     },
     "ac04571907044b51bdb72d80301fbe19": {
      "model_module": "@jupyter-widgets/controls",
      "model_module_version": "2.0.0",
      "model_name": "HBoxModel",
      "state": {
       "_dom_classes": [],
       "_model_module": "@jupyter-widgets/controls",
       "_model_module_version": "2.0.0",
       "_model_name": "HBoxModel",
       "_view_count": null,
       "_view_module": "@jupyter-widgets/controls",
       "_view_module_version": "2.0.0",
       "_view_name": "HBoxView",
       "box_style": "",
       "children": [
        "IPY_MODEL_0bb0b42b16f6400c98c0d74d633425cc",
        "IPY_MODEL_5c66e861113c43ca80b075886381f0eb"
       ],
       "layout": "IPY_MODEL_e1ed26574fed464ebdb2f31677f80167",
       "tabbable": null,
       "tooltip": null
      }
     },
     "b0bb5a0693b1425fb46a906868a7be64": {
      "model_module": "@jupyter-widgets/base",
      "model_module_version": "2.0.0",
      "model_name": "LayoutModel",
      "state": {
       "_model_module": "@jupyter-widgets/base",
       "_model_module_version": "2.0.0",
       "_model_name": "LayoutModel",
       "_view_count": null,
       "_view_module": "@jupyter-widgets/base",
       "_view_module_version": "2.0.0",
       "_view_name": "LayoutView",
       "align_content": null,
       "align_items": null,
       "align_self": null,
       "border_bottom": null,
       "border_left": null,
       "border_right": null,
       "border_top": null,
       "bottom": null,
       "display": null,
       "flex": null,
       "flex_flow": null,
       "grid_area": null,
       "grid_auto_columns": null,
       "grid_auto_flow": null,
       "grid_auto_rows": null,
       "grid_column": null,
       "grid_gap": null,
       "grid_row": null,
       "grid_template_areas": null,
       "grid_template_columns": null,
       "grid_template_rows": null,
       "height": null,
       "justify_content": null,
       "justify_items": null,
       "left": null,
       "margin": null,
       "max_height": null,
       "max_width": null,
       "min_height": null,
       "min_width": null,
       "object_fit": null,
       "object_position": null,
       "order": null,
       "overflow": null,
       "padding": null,
       "right": null,
       "top": null,
       "visibility": null,
       "width": null
      }
     },
     "b9e20b228eae4a7ebd911e70b861b66d": {
      "model_module": "@jupyter-widgets/output",
      "model_module_version": "1.0.0",
      "model_name": "OutputModel",
      "state": {
       "_dom_classes": [],
       "_model_module": "@jupyter-widgets/output",
       "_model_module_version": "1.0.0",
       "_model_name": "OutputModel",
       "_view_count": null,
       "_view_module": "@jupyter-widgets/output",
       "_view_module_version": "1.0.0",
       "_view_name": "OutputView",
       "layout": "IPY_MODEL_420b6913ddf245e2903033a0d26b8992",
       "msg_id": "",
       "outputs": [
        {
         "data": {
          "text/markdown": "`dirtyoutofplacemontgomerymodmul_medium`",
          "text/plain": "<IPython.core.display.Markdown object>"
         },
         "metadata": {},
         "output_type": "display_data"
        },
        {
         "data": {
          "image/svg+xml": "<svg xmlns=\"http://www.w3.org/2000/svg\" xmlns:xlink=\"http://www.w3.org/1999/xlink\" width=\"393pt\" height=\"260pt\" viewBox=\"0.00 0.00 393.00 260.00\">\n<g id=\"graph0\" class=\"graph\" transform=\"scale(1 1) rotate(0) translate(4 256)\">\n<title>my_graph</title>\n<polygon fill=\"white\" stroke=\"transparent\" points=\"-4,4 -4,-256 389,-256 389,4 -4,4\"/>\n<!-- x_G9 -->\n<g id=\"node1\" class=\"node\">\n<title>x_G9</title>\n<text text-anchor=\"middle\" x=\"27\" y=\"-181.3\" font-family=\"Times,serif\" font-size=\"14.00\">x</text>\n</g>\n<!-- DirtyOutOfPlaceMontgomeryModMul -->\n<g id=\"node3\" class=\"node\">\n<title>DirtyOutOfPlaceMontgomeryModMul</title>\n<polygon fill=\"none\" stroke=\"black\" points=\"91,-179 91,-196 257,-196 257,-179 91,-179\"/>\n<text text-anchor=\"start\" x=\"94\" y=\"-185\" font-family=\"Times,serif\" font-size=\"10.00\">DirtyOutOfPlaceMontgomeryModMul</text>\n<polygon fill=\"none\" stroke=\"black\" points=\"91,-158 91,-179 257,-179 257,-158 91,-158\"/>\n<text text-anchor=\"start\" x=\"170.5\" y=\"-164.8\" font-family=\"Times,serif\" font-size=\"14.00\">x</text>\n<polygon fill=\"none\" stroke=\"black\" points=\"91,-137 91,-158 257,-158 257,-137 91,-137\"/>\n<text text-anchor=\"start\" x=\"170.5\" y=\"-143.8\" font-family=\"Times,serif\" font-size=\"14.00\">y</text>\n<polygon fill=\"none\" stroke=\"black\" points=\"91,-116 91,-137 136,-137 136,-116 91,-116\"/>\n<polygon fill=\"none\" stroke=\"black\" points=\"136,-116 136,-137 257,-137 257,-116 136,-116\"/>\n<text text-anchor=\"start\" x=\"181\" y=\"-122.8\" font-family=\"Times,serif\" font-size=\"14.00\">target</text>\n<polygon fill=\"none\" stroke=\"black\" points=\"91,-95 91,-116 136,-116 136,-95 91,-95\"/>\n<polygon fill=\"none\" stroke=\"black\" points=\"136,-95 136,-116 257,-116 257,-95 136,-95\"/>\n<text text-anchor=\"start\" x=\"159\" y=\"-101.8\" font-family=\"Times,serif\" font-size=\"14.00\">qrom_indices</text>\n<polygon fill=\"none\" stroke=\"black\" points=\"91,-74 91,-95 136,-95 136,-74 91,-74\"/>\n<polygon fill=\"none\" stroke=\"black\" points=\"136,-74 136,-95 257,-95 257,-74 136,-74\"/>\n<text text-anchor=\"start\" x=\"175\" y=\"-80.8\" font-family=\"Times,serif\" font-size=\"14.00\">reduced</text>\n</g>\n<!-- x_G9&#45;&gt;DirtyOutOfPlaceMontgomeryModMul -->\n<g id=\"edge1\" class=\"edge\">\n<title>x_G9:e-&gt;DirtyOutOfPlaceMontgomeryModMul:w</title>\n<path fill=\"none\" stroke=\"black\" d=\"M54,-185C71.22,-185 72.97,-170.23 88.98,-169.07\"/>\n<ellipse fill=\"black\" stroke=\"black\" cx=\"90\" cy=\"-169.04\" rx=\"1\" ry=\"1\"/>\n<text text-anchor=\"middle\" x=\"72.5\" y=\"-180\" font-family=\"Times,serif\" font-size=\"10.00\">16</text>\n</g>\n<!-- y_G0 -->\n<g id=\"node2\" class=\"node\">\n<title>y_G0</title>\n<text text-anchor=\"middle\" x=\"27\" y=\"-127.3\" font-family=\"Times,serif\" font-size=\"14.00\">y</text>\n</g>\n<!-- y_G0&#45;&gt;DirtyOutOfPlaceMontgomeryModMul -->\n<g id=\"edge2\" class=\"edge\">\n<title>y_G0:e-&gt;DirtyOutOfPlaceMontgomeryModMul:w</title>\n<path fill=\"none\" stroke=\"black\" d=\"M54,-131C71.39,-131 72.81,-146.7 88.96,-147.92\"/>\n<ellipse fill=\"black\" stroke=\"black\" cx=\"90\" cy=\"-147.96\" rx=\"1\" ry=\"1\"/>\n<text text-anchor=\"middle\" x=\"72.5\" y=\"-142\" font-family=\"Times,serif\" font-size=\"10.00\">16</text>\n</g>\n<!-- x_G4 -->\n<g id=\"node4\" class=\"node\">\n<title>x_G4</title>\n<text text-anchor=\"middle\" x=\"339.5\" y=\"-230.3\" font-family=\"Times,serif\" font-size=\"14.00\">x</text>\n</g>\n<!-- DirtyOutOfPlaceMontgomeryModMul&#45;&gt;x_G4 -->\n<g id=\"edge3\" class=\"edge\">\n<title>DirtyOutOfPlaceMontgomeryModMul:e-&gt;x_G4:w</title>\n<path fill=\"none\" stroke=\"black\" d=\"M257,-169C293.96,-169 274.59,-231.49 309.36,-233.93\"/>\n<ellipse fill=\"black\" stroke=\"black\" cx=\"310.5\" cy=\"-233.97\" rx=\"1\" ry=\"1\"/>\n<text text-anchor=\"middle\" x=\"275.5\" y=\"-181\" font-family=\"Times,serif\" font-size=\"10.00\">16</text>\n</g>\n<!-- y_G7 -->\n<g id=\"node5\" class=\"node\">\n<title>y_G7</title>\n<text text-anchor=\"middle\" x=\"339.5\" y=\"-176.3\" font-family=\"Times,serif\" font-size=\"14.00\">y</text>\n</g>\n<!-- DirtyOutOfPlaceMontgomeryModMul&#45;&gt;y_G7 -->\n<g id=\"edge4\" class=\"edge\">\n<title>DirtyOutOfPlaceMontgomeryModMul:e-&gt;y_G7:w</title>\n<path fill=\"none\" stroke=\"black\" d=\"M257,-148C284.32,-148 283.48,-178.27 309.26,-179.93\"/>\n<ellipse fill=\"black\" stroke=\"black\" cx=\"310.5\" cy=\"-179.97\" rx=\"1\" ry=\"1\"/>\n<text text-anchor=\"middle\" x=\"275.5\" y=\"-157\" font-family=\"Times,serif\" font-size=\"10.00\">16</text>\n</g>\n<!-- target_G8 -->\n<g id=\"node6\" class=\"node\">\n<title>target_G8</title>\n<text text-anchor=\"middle\" x=\"339.5\" y=\"-122.3\" font-family=\"Times,serif\" font-size=\"14.00\">target</text>\n</g>\n<!-- DirtyOutOfPlaceMontgomeryModMul&#45;&gt;target_G8 -->\n<g id=\"edge5\" class=\"edge\">\n<title>DirtyOutOfPlaceMontgomeryModMul:e-&gt;target_G8:w</title>\n<path fill=\"none\" stroke=\"black\" d=\"M257,-126C280.47,-126 286.88,-126 309.28,-126\"/>\n<ellipse fill=\"black\" stroke=\"black\" cx=\"310.5\" cy=\"-126\" rx=\"1\" ry=\"1\"/>\n<text text-anchor=\"middle\" x=\"275.5\" y=\"-129\" font-family=\"Times,serif\" font-size=\"10.00\">16</text>\n</g>\n<!-- qrom_indices_G11 -->\n<g id=\"node7\" class=\"node\">\n<title>qrom_indices_G11</title>\n<text text-anchor=\"middle\" x=\"339.5\" y=\"-68.3\" font-family=\"Times,serif\" font-size=\"14.00\">qrom_indices</text>\n</g>\n<!-- DirtyOutOfPlaceMontgomeryModMul&#45;&gt;qrom_indices_G11 -->\n<g id=\"edge6\" class=\"edge\">\n<title>DirtyOutOfPlaceMontgomeryModMul:e-&gt;qrom_indices_G11:w</title>\n<path fill=\"none\" stroke=\"black\" d=\"M257,-105C278.17,-105 272.47,-74.53 291.55,-72.15\"/>\n<ellipse fill=\"black\" stroke=\"black\" cx=\"293\" cy=\"-72.06\" rx=\"1\" ry=\"1\"/>\n<text text-anchor=\"middle\" x=\"275.5\" y=\"-92\" font-family=\"Times,serif\" font-size=\"10.00\">16</text>\n</g>\n<!-- reduced_G10 -->\n<g id=\"node8\" class=\"node\">\n<title>reduced_G10</title>\n<text text-anchor=\"middle\" x=\"339.5\" y=\"-14.3\" font-family=\"Times,serif\" font-size=\"14.00\">reduced</text>\n</g>\n<!-- DirtyOutOfPlaceMontgomeryModMul&#45;&gt;reduced_G10 -->\n<g id=\"edge7\" class=\"edge\">\n<title>DirtyOutOfPlaceMontgomeryModMul:e-&gt;reduced_G10:w</title>\n<path fill=\"none\" stroke=\"black\" d=\"M257,-84C293.48,-84 272.17,-20.55 306.39,-18.07\"/>\n<ellipse fill=\"black\" stroke=\"black\" cx=\"307.5\" cy=\"-18.04\" rx=\"1\" ry=\"1\"/>\n<text text-anchor=\"middle\" x=\"275.5\" y=\"-77\" font-family=\"Times,serif\" font-size=\"10.00\">1</text>\n</g>\n</g>\n</svg>",
          "text/plain": "<IPython.core.display.SVG object>"
         },
         "metadata": {},
         "output_type": "display_data"
        }
       ],
       "tabbable": null,
       "tooltip": null
      }
     },
     "bd15605260ad496793832bbe65e8e65b": {
      "model_module": "@jupyter-widgets/base",
      "model_module_version": "2.0.0",
      "model_name": "LayoutModel",
      "state": {
       "_model_module": "@jupyter-widgets/base",
       "_model_module_version": "2.0.0",
       "_model_name": "LayoutModel",
       "_view_count": null,
       "_view_module": "@jupyter-widgets/base",
       "_view_module_version": "2.0.0",
       "_view_name": "LayoutView",
       "align_content": null,
       "align_items": null,
       "align_self": null,
       "border_bottom": null,
       "border_left": null,
       "border_right": null,
       "border_top": null,
       "bottom": null,
       "display": null,
       "flex": null,
       "flex_flow": null,
       "grid_area": null,
       "grid_auto_columns": null,
       "grid_auto_flow": null,
       "grid_auto_rows": null,
       "grid_column": null,
       "grid_gap": null,
       "grid_row": null,
       "grid_template_areas": null,
       "grid_template_columns": null,
       "grid_template_rows": null,
       "height": null,
       "justify_content": null,
       "justify_items": null,
       "left": null,
       "margin": null,
       "max_height": null,
       "max_width": null,
       "min_height": null,
       "min_width": null,
       "object_fit": null,
       "object_position": null,
       "order": null,
       "overflow": null,
       "padding": null,
       "right": null,
       "top": null,
       "visibility": null,
       "width": null
      }
     },
     "c08122e423f4448aae2ef6cf9fb63a90": {
      "model_module": "@jupyter-widgets/base",
      "model_module_version": "2.0.0",
      "model_name": "LayoutModel",
      "state": {
       "_model_module": "@jupyter-widgets/base",
       "_model_module_version": "2.0.0",
       "_model_name": "LayoutModel",
       "_view_count": null,
       "_view_module": "@jupyter-widgets/base",
       "_view_module_version": "2.0.0",
       "_view_name": "LayoutView",
       "align_content": null,
       "align_items": null,
       "align_self": null,
       "border_bottom": null,
       "border_left": null,
       "border_right": null,
       "border_top": null,
       "bottom": null,
       "display": null,
       "flex": null,
       "flex_flow": null,
       "grid_area": null,
       "grid_auto_columns": null,
       "grid_auto_flow": null,
       "grid_auto_rows": null,
       "grid_column": null,
       "grid_gap": null,
       "grid_row": null,
       "grid_template_areas": null,
       "grid_template_columns": null,
       "grid_template_rows": null,
       "height": null,
       "justify_content": null,
       "justify_items": null,
       "left": null,
       "margin": null,
       "max_height": null,
       "max_width": null,
       "min_height": null,
       "min_width": null,
       "object_fit": null,
       "object_position": null,
       "order": null,
       "overflow": null,
       "padding": null,
       "right": null,
       "top": null,
       "visibility": null,
       "width": null
      }
     },
     "d27642fdd15b4f3d9d87becf533fd835": {
      "model_module": "@jupyter-widgets/controls",
      "model_module_version": "2.0.0",
      "model_name": "HBoxModel",
      "state": {
       "_dom_classes": [],
       "_model_module": "@jupyter-widgets/controls",
       "_model_module_version": "2.0.0",
       "_model_name": "HBoxModel",
       "_view_count": null,
       "_view_module": "@jupyter-widgets/controls",
       "_view_module_version": "2.0.0",
       "_view_name": "HBoxView",
       "box_style": "",
       "children": [
        "IPY_MODEL_47f82d1f7e914db3add9def93e82fe2d",
        "IPY_MODEL_450bdb07967841e6b8ac8e22aba417a1"
       ],
       "layout": "IPY_MODEL_59adc3c1df7b41de8f2b8cc65a62293e",
       "tabbable": null,
       "tooltip": null
      }
     },
     "e1ed26574fed464ebdb2f31677f80167": {
      "model_module": "@jupyter-widgets/base",
      "model_module_version": "2.0.0",
      "model_name": "LayoutModel",
      "state": {
       "_model_module": "@jupyter-widgets/base",
       "_model_module_version": "2.0.0",
       "_model_name": "LayoutModel",
       "_view_count": null,
       "_view_module": "@jupyter-widgets/base",
       "_view_module_version": "2.0.0",
       "_view_name": "LayoutView",
       "align_content": null,
       "align_items": null,
       "align_self": null,
       "border_bottom": null,
       "border_left": null,
       "border_right": null,
       "border_top": null,
       "bottom": null,
       "display": null,
       "flex": null,
       "flex_flow": null,
       "grid_area": null,
       "grid_auto_columns": null,
       "grid_auto_flow": null,
       "grid_auto_rows": null,
       "grid_column": null,
       "grid_gap": null,
       "grid_row": null,
       "grid_template_areas": null,
       "grid_template_columns": null,
       "grid_template_rows": null,
       "height": null,
       "justify_content": null,
       "justify_items": null,
       "left": null,
       "margin": null,
       "max_height": null,
       "max_width": null,
       "min_height": null,
       "min_width": null,
       "object_fit": null,
       "object_position": null,
       "order": null,
       "overflow": null,
       "padding": null,
       "right": null,
       "top": null,
       "visibility": null,
       "width": null
      }
     }
    },
    "version_major": 2,
    "version_minor": 0
   }
  }
 },
 "nbformat": 4,
 "nbformat_minor": 5
}
