{
 "cells": [
  {
   "cell_type": "markdown",
   "id": "0b54e6c7",
   "metadata": {
    "cq.autogen": "title_cell"
   },
   "source": [
    "# State Preparation via Alias Sampling\n",
    "\n",
    "Gates for preparing coefficient states.\n",
    "\n",
    "In section III.D. of the [Linear T paper](https://arxiv.org/abs/1805.03662) the authors introduce\n",
    "a technique for initializing a state with $L$ unique coefficients (provided by a classical\n",
    "database) with a number of T gates scaling as 4L + O(log(1/eps)) where eps is the\n",
    "largest absolute error that one can tolerate in the prepared amplitudes."
   ]
  },
  {
   "cell_type": "code",
   "execution_count": 1,
   "id": "40df8d85",
   "metadata": {
    "cq.autogen": "top_imports"
   },
   "outputs": [],
   "source": [
    "from qualtran import Bloq, CompositeBloq, BloqBuilder, Signature, Register\n",
    "from qualtran import QBit, QInt, QUInt, QAny\n",
    "from qualtran.drawing import show_bloq, show_call_graph, show_counts_sigma\n",
    "from typing import *\n",
    "import numpy as np\n",
    "import sympy\n",
    "import cirq"
   ]
  },
  {
   "cell_type": "markdown",
   "id": "375acf91",
   "metadata": {
    "cq.autogen": "StatePreparationAliasSampling.bloq_doc.md"
   },
   "source": [
    "## `StatePreparationAliasSampling`\n",
    "Initialize a state with $L$ coefficients using coherent alias sampling.\n",
    "\n",
    "In particular, given coefficients $w_\\ell$, we take the zero state to:\n",
    "\n",
    "$$\n",
    "\\sum_{\\ell=0}^{L-1} \\sqrt{p_\\ell} |\\ell\\rangle |\\mathrm{temp}_\\ell\\rangle\n",
    "$$\n",
    "\n",
    "where the probabilities $p_\\ell$ are $\\mu$-bit binary approximations to the true values\n",
    "$w_\\ell / \\lambda$ (where $\\lambda = \\sum_\\ell w_\\ell$).\n",
    "Note that the temporary register must be treated with care, see the details in Section III.D.\n",
    "of the reference.\n",
    "\n",
    "This construction is designed to work specifically when you don't require specific phases,\n",
    "and the problem is reduced to [classical alias sampling]\n",
    "(https://en.wikipedia.org/wiki/Alias_method). We sample `l` with probability `p[l]` by first\n",
    "selecting `l` uniformly at random and then returning it with probability `keep[l] / 2**mu`;\n",
    "otherwise returning `alt[l]`.\n",
    "\n",
    "This gate corresponds to the following operations:\n",
    " - UNIFORM_L on the selection register\n",
    " - H^mu on the sigma register\n",
    " - QROM addressed by the selection register into the alt and keep signature.\n",
    " - LessThanEqualGate comparing the keep and sigma signature.\n",
    " - Coherent swap between the selection register and alt register if the comparison\n",
    "   returns True.\n",
    "\n",
    "Total space will be (2 * log(L) + 2 mu + 1) work qubits + log(L) ancillas for QROM.\n",
    "The 1 ancilla in work qubits is for the `LessThanEqualGate` followed by coherent swap.\n",
    "\n",
    "#### Registers\n",
    " - `selection`: The input/output register $|\\mathrm{ind}_l\\rangle$ of size lg(L) where the desired coefficient state is prepared. Default name is 'selection' if the builder methods on the class are used. Or else, users can specify custom named registers\n",
    " - `sigma_mu`: A mu-sized register containing uniform probabilities for comparison against `keep`.\n",
    " - `alt`: A lg(L)-sized register of alternate indices\n",
    " - `keep`: a mu-sized register of probabilities of keeping the initially sampled index.\n",
    " - `less_than_equal`: one bit for the result of the comparison. \n",
    "\n",
    "#### Parameters\n",
    " - `selection_registers`: The input/output registers to prepare the state on (see Registers section).\n",
    " - `keep`: The discretized `keep` probabilities for alias sampling.\n",
    " - `alt`: The alternate/alias values to swap.\n",
    " - `mu`: The number of bits to approximate the `keep` probabilities.\n",
    " - `sum_of_unnormalized_probabilities`: The total of the input unnormalized probabilities, i.e., $\\lambda$. This is used as the `PrepareOracle.l1_norm_of_coeffs` property. \n",
    "\n",
    "#### References\n",
    " - [Encoding Electronic Spectra in Quantum Circuits with Linear T Complexity](https://arxiv.org/abs/1805.03662). Babbush et. al. (2018). Section III.D. and Figure 11.\n"
   ]
  },
  {
   "cell_type": "code",
   "execution_count": 2,
   "id": "4383c10a",
   "metadata": {
    "cq.autogen": "StatePreparationAliasSampling.bloq_doc.py"
   },
   "outputs": [],
   "source": [
    "from qualtran.bloqs.state_preparation import StatePreparationAliasSampling"
   ]
  },
  {
   "cell_type": "markdown",
   "id": "b7943612",
   "metadata": {
    "cq.autogen": "StatePreparationAliasSampling.example_instances.md"
   },
   "source": [
    "### Example Instances"
   ]
  },
  {
   "cell_type": "code",
   "execution_count": 3,
   "id": "0f939ef0",
   "metadata": {
    "cq.autogen": "StatePreparationAliasSampling.state_prep_alias"
   },
   "outputs": [],
   "source": [
    "coeffs = [1.0, 1, 3, 2]\n",
    "mu = 3\n",
    "state_prep_alias = StatePreparationAliasSampling.from_probabilities(\n",
    "    coeffs, precision=2**-mu / len(coeffs) * sum(coeffs)\n",
    ")"
   ]
  },
  {
   "cell_type": "code",
   "execution_count": 4,
   "id": "717afc71",
   "metadata": {
    "cq.autogen": "StatePreparationAliasSampling.state_prep_alias_symb"
   },
   "outputs": [],
   "source": [
    "import sympy\n",
    "\n",
    "n_coeffs, sum_coeff, eps = sympy.symbols(r\"L \\lambda \\epsilon\")\n",
    "state_prep_alias_symb = StatePreparationAliasSampling.from_n_coeff(\n",
    "    n_coeffs, sum_coeff, precision=eps\n",
    ")"
   ]
  },
  {
   "cell_type": "markdown",
   "id": "75ef3e40",
   "metadata": {
    "cq.autogen": "StatePreparationAliasSampling.graphical_signature.md"
   },
   "source": [
    "#### Graphical Signature"
   ]
  },
  {
   "cell_type": "code",
   "execution_count": 5,
   "id": "c014ed7a",
   "metadata": {
    "cq.autogen": "StatePreparationAliasSampling.graphical_signature.py"
   },
   "outputs": [
    {
     "data": {
      "application/vnd.jupyter.widget-view+json": {
       "model_id": "e1f3557421c646239c280452d89adc77",
       "version_major": 2,
       "version_minor": 0
      },
      "text/plain": [
       "HBox(children=(Output(outputs=({'output_type': 'display_data', 'data': {'text/plain': '<IPython.core.display.M…"
      ]
     },
     "metadata": {},
     "output_type": "display_data"
    }
   ],
   "source": [
    "from qualtran.drawing import show_bloqs\n",
    "show_bloqs([state_prep_alias, state_prep_alias_symb],\n",
    "           ['`state_prep_alias`', '`state_prep_alias_symb`'])"
   ]
  },
  {
   "cell_type": "markdown",
   "id": "9e7748f0",
   "metadata": {
    "cq.autogen": "StatePreparationAliasSampling.call_graph.md"
   },
   "source": [
    "### Call Graph"
   ]
  },
  {
   "cell_type": "code",
   "execution_count": 6,
   "id": "ca170386",
   "metadata": {
    "cq.autogen": "StatePreparationAliasSampling.call_graph.py"
   },
   "outputs": [
    {
     "data": {
      "image/svg+xml": [
       "<svg xmlns=\"http://www.w3.org/2000/svg\" xmlns:xlink=\"http://www.w3.org/1999/xlink\" width=\"1363pt\" height=\"131pt\" viewBox=\"0.00 0.00 1362.50 131.00\">\n",
       "<g id=\"graph0\" class=\"graph\" transform=\"scale(1 1) rotate(0) translate(4 127)\">\n",
       "<title>counts</title>\n",
       "<polygon fill=\"white\" stroke=\"transparent\" points=\"-4,4 -4,-127 1358.5,-127 1358.5,4 -4,4\"/>\n",
       "<!-- b0 -->\n",
       "<g id=\"node1\" class=\"node\">\n",
       "<title>b0</title>\n",
       "<polygon fill=\"none\" stroke=\"black\" points=\"1354.5,-123 653.5,-123 653.5,-87 1354.5,-87 1354.5,-123\"/>\n",
       "<text text-anchor=\"start\" x=\"918.5\" y=\"-106.8\" font-family=\"Times,serif\" font-size=\"14.00\">StatePreparationAliasSampling</text>\n",
       "<text text-anchor=\"start\" x=\"661.5\" y=\"-96\" font-family=\"monospace\" font-size=\"10.00\">selection_registers=(Registe ..., alt=array([2 ..., keep=array([5 ..., mu=3, sum_of_unnormalized_probabilities=7.0</text>\n",
       "</g>\n",
       "<!-- b1 -->\n",
       "<g id=\"node2\" class=\"node\">\n",
       "<title>b1</title>\n",
       "<polygon fill=\"none\" stroke=\"black\" points=\"180,-36 0,-36 0,0 180,0 180,-36\"/>\n",
       "<text text-anchor=\"start\" x=\"8\" y=\"-19.8\" font-family=\"Times,serif\" font-size=\"14.00\">PrepareUniformSuperposition</text>\n",
       "<text text-anchor=\"start\" x=\"56.5\" y=\"-9\" font-family=\"monospace\" font-size=\"10.00\">n=4, cvs=()</text>\n",
       "</g>\n",
       "<!-- b0&#45;&gt;b1 -->\n",
       "<g id=\"edge1\" class=\"edge\">\n",
       "<title>b0-&gt;b1</title>\n",
       "<path fill=\"none\" stroke=\"black\" d=\"M728.45,-86.99C573.03,-75.92 375.15,-59.39 189.99,-36.06\"/>\n",
       "<polygon fill=\"black\" stroke=\"black\" points=\"190.42,-32.59 180.06,-34.81 189.54,-39.54 190.42,-32.59\"/>\n",
       "<text text-anchor=\"middle\" x=\"483.5\" y=\"-57.8\" font-family=\"Times,serif\" font-size=\"14.00\">1</text>\n",
       "</g>\n",
       "<!-- b2 -->\n",
       "<g id=\"node3\" class=\"node\">\n",
       "<title>b2</title>\n",
       "<polygon fill=\"none\" stroke=\"black\" points=\"905.5,-36 198.5,-36 198.5,0 905.5,0 905.5,-36\"/>\n",
       "<text text-anchor=\"start\" x=\"531\" y=\"-19.8\" font-family=\"Times,serif\" font-size=\"14.00\">QROM</text>\n",
       "<text text-anchor=\"start\" x=\"206.5\" y=\"-9\" font-family=\"monospace\" font-size=\"10.00\">data_or_shape=(array([ ..., selection_bitsizes=(2,), target_bitsizes=(2, 3), target_shapes=((), ()), num_controls=0</text>\n",
       "</g>\n",
       "<!-- b0&#45;&gt;b2 -->\n",
       "<g id=\"edge2\" class=\"edge\">\n",
       "<title>b0-&gt;b2</title>\n",
       "<path fill=\"none\" stroke=\"black\" d=\"M913.35,-86.95C837.84,-72.75 730.44,-52.56 652.36,-37.87\"/>\n",
       "<polygon fill=\"black\" stroke=\"black\" points=\"652.98,-34.43 642.5,-36.02 651.68,-41.31 652.98,-34.43\"/>\n",
       "<text text-anchor=\"middle\" x=\"809.5\" y=\"-57.8\" font-family=\"Times,serif\" font-size=\"14.00\">1</text>\n",
       "</g>\n",
       "<!-- b3 -->\n",
       "<g id=\"node4\" class=\"node\">\n",
       "<title>b3</title>\n",
       "<polygon fill=\"none\" stroke=\"black\" points=\"1084.5,-36 923.5,-36 923.5,0 1084.5,0 1084.5,-36\"/>\n",
       "<text text-anchor=\"start\" x=\"961.5\" y=\"-19.8\" font-family=\"Times,serif\" font-size=\"14.00\">LessThanEqual</text>\n",
       "<text text-anchor=\"start\" x=\"931.5\" y=\"-9\" font-family=\"monospace\" font-size=\"10.00\">x_bitsize=3, y_bitsize=3</text>\n",
       "</g>\n",
       "<!-- b0&#45;&gt;b3 -->\n",
       "<g id=\"edge3\" class=\"edge\">\n",
       "<title>b0-&gt;b3</title>\n",
       "<path fill=\"none\" stroke=\"black\" d=\"M1004,-86.8C1004,-75.16 1004,-59.55 1004,-46.24\"/>\n",
       "<polygon fill=\"black\" stroke=\"black\" points=\"1007.5,-46.18 1004,-36.18 1000.5,-46.18 1007.5,-46.18\"/>\n",
       "<text text-anchor=\"middle\" x=\"1007.5\" y=\"-57.8\" font-family=\"Times,serif\" font-size=\"14.00\">1</text>\n",
       "</g>\n",
       "<!-- b4 -->\n",
       "<g id=\"node5\" class=\"node\">\n",
       "<title>b4</title>\n",
       "<polygon fill=\"none\" stroke=\"black\" points=\"1173.5,-36 1102.5,-36 1102.5,0 1173.5,0 1173.5,-36\"/>\n",
       "<text text-anchor=\"start\" x=\"1118\" y=\"-19.8\" font-family=\"Times,serif\" font-size=\"14.00\">CSwap</text>\n",
       "<text text-anchor=\"start\" x=\"1110.5\" y=\"-9\" font-family=\"monospace\" font-size=\"10.00\">bitsize=2</text>\n",
       "</g>\n",
       "<!-- b0&#45;&gt;b4 -->\n",
       "<g id=\"edge4\" class=\"edge\">\n",
       "<title>b0-&gt;b4</title>\n",
       "<path fill=\"none\" stroke=\"black\" d=\"M1031.12,-86.8C1051.64,-73.78 1080.02,-55.78 1102.37,-41.6\"/>\n",
       "<polygon fill=\"black\" stroke=\"black\" points=\"1104.35,-44.49 1110.92,-36.18 1100.6,-38.58 1104.35,-44.49\"/>\n",
       "<text text-anchor=\"middle\" x=\"1083.5\" y=\"-57.8\" font-family=\"Times,serif\" font-size=\"14.00\">1</text>\n",
       "</g>\n",
       "<!-- b5 -->\n",
       "<g id=\"node6\" class=\"node\">\n",
       "<title>b5</title>\n",
       "<polygon fill=\"none\" stroke=\"black\" points=\"1246,-36 1192,-36 1192,0 1246,0 1246,-36\"/>\n",
       "<text text-anchor=\"start\" x=\"1214\" y=\"-14.3\" font-family=\"Times,serif\" font-size=\"14.00\">H</text>\n",
       "</g>\n",
       "<!-- b0&#45;&gt;b5 -->\n",
       "<g id=\"edge5\" class=\"edge\">\n",
       "<title>b0-&gt;b5</title>\n",
       "<path fill=\"none\" stroke=\"black\" d=\"M1051.18,-86.94C1087.25,-73.66 1138.08,-54.45 1182,-36 1182.1,-35.96 1182.2,-35.92 1182.29,-35.88\"/>\n",
       "<polygon fill=\"black\" stroke=\"black\" points=\"1183.83,-39.02 1191.61,-31.83 1181.04,-32.6 1183.83,-39.02\"/>\n",
       "<text text-anchor=\"middle\" x=\"1137.5\" y=\"-57.8\" font-family=\"Times,serif\" font-size=\"14.00\">3</text>\n",
       "</g>\n",
       "</g>\n",
       "</svg>"
      ],
      "text/plain": [
       "<IPython.core.display.SVG object>"
      ]
     },
     "metadata": {},
     "output_type": "display_data"
    },
    {
     "data": {
      "text/markdown": [
       "#### Counts totals:\n",
       " - `CSwap`: 1\n",
       " - `H`: 3\n",
       " - `LessThanEqual`: 1\n",
       " - `PrepareUniformSuperposition`: 1\n",
       " - `QROM`: 1"
      ],
      "text/plain": [
       "<IPython.core.display.Markdown object>"
      ]
     },
     "metadata": {},
     "output_type": "display_data"
    }
   ],
   "source": [
    "from qualtran.resource_counting.generalizers import ignore_split_join\n",
    "state_prep_alias_g, state_prep_alias_sigma = state_prep_alias.call_graph(max_depth=1, generalizer=ignore_split_join)\n",
    "show_call_graph(state_prep_alias_g)\n",
    "show_counts_sigma(state_prep_alias_sigma)"
   ]
  },
  {
   "cell_type": "markdown",
   "id": "f1559dde",
   "metadata": {
    "cq.autogen": "SparseStatePreparationAliasSampling.bloq_doc.md"
   },
   "source": [
    "## `SparseStatePreparationAliasSampling`\n",
    "Initialize a $d$-sparse state over $L$ indices using coherent alias sampling.\n",
    "\n",
    "In particular, we take the zero state to:\n",
    "\n",
    "$$\n",
    "    \\sum_{j=0}^{d-1} \\sqrt{p_{\\mathrm{ind}_j}} |\\mathrm{ind}_j\\rangle |\\mathrm{temp}_j\\rangle\n",
    "$$\n",
    "\n",
    "where $\\mathrm{ind}_j \\in [0, L)$ is the index of the $j$-th non-zero coefficient,\n",
    "and the probabilities $p_l$ are $\\mu$-bit binary approximations to the true values,\n",
    "and the register $|\\mathrm{temp}_j\\rangle$ may be entangled with the index register.\n",
    "\n",
    "This bloq is nearly identical to :class:`StatePreparationByAliasSampling`, except\n",
    "that it loads the non-zero indices from the QROM and prepares a dense state on them.\n",
    "In comparison, this uses $\\lceil \\log d \\rceil$ extra ancilla qubits, and reduces\n",
    "the iteration length to $d$ from $L$.\n",
    "\n",
    "See :class:`StatePreparationAliasSampling` for an exposition on alias sampling.\n",
    "\n",
    "\n",
    "#### Registers\n",
    " - `selection`: The input/output register $|\\mathrm{ind}_l\\rangle$ of size lg(L) where the desired coefficient state is prepared.\n",
    " - `sigma_mu`: A mu-sized register containing uniform probabilities for comparison against `keep`.\n",
    " - `sparse_index`: A lg(d)-sized register storing the sparse index $j \\in [0, d)$.\n",
    " - `alt`: A lg(L)-sized register of alternate indices\n",
    " - `keep`: a mu-sized register of probabilities of keeping the initially sampled index.\n",
    " - `less_than_equal`: one bit for the result of the comparison. \n",
    "\n",
    "This gate corresponds to the following operations:\n",
    " - UNIFORM_d on the `sparse_index` register.\n",
    " - H^mu on the `sigma` register.\n",
    " - QROM addressed by the `sparse_index` register into the `selection`, `alt`, and `keep` signature.\n",
    " - LessThanEqualGate comparing the `keep` and `sigma` registers.\n",
    " - Coherent swap between the `selection` and `alt` registers if the comparison returns True.\n",
    "\n",
    "Total space will be $(2 \\log(L) + \\log(d) + 2 \\mu + 1)$ work qubits + $log(L)$ ancillas for QROM.\n",
    "\n",
    "#### References\n",
    " - [1] [Qubitization of Arbitrary Basis Quantum Chemistry Leveraging Sparsity and Low Rank Factorization](https://arxiv.org/pdf/1902.02134#page=15.30) Berry et al. (2019). Section 5, Eqs. 43, 44. [2] [Encoding Electronic Spectra in Quantum Circuits with Linear T Complexity](https://arxiv.org/abs/1805.03662). Babbush et al. (2018). Section III.D. and Figure 11.\n"
   ]
  },
  {
   "cell_type": "code",
   "execution_count": 7,
   "id": "a5c09b86",
   "metadata": {
    "cq.autogen": "SparseStatePreparationAliasSampling.bloq_doc.py"
   },
   "outputs": [],
   "source": [
    "from qualtran.bloqs.state_preparation import SparseStatePreparationAliasSampling"
   ]
  },
  {
   "cell_type": "markdown",
   "id": "4cba7cd8",
   "metadata": {
    "cq.autogen": "SparseStatePreparationAliasSampling.example_instances.md"
   },
   "source": [
    "### Example Instances"
   ]
  },
  {
   "cell_type": "code",
   "execution_count": 8,
   "id": "90068f1c",
   "metadata": {
    "cq.autogen": "SparseStatePreparationAliasSampling.sparse_state_prep_alias"
   },
   "outputs": [],
   "source": [
    "coeff_map = {0: 1.0, 3: 1.0, 5: 3.0, 7: 2.0}\n",
    "N = 9\n",
    "mu = 3\n",
    "sparse_state_prep_alias = SparseStatePreparationAliasSampling.from_sparse_dict(\n",
    "    coeff_map, N, precision=2**-mu / len(coeff_map)\n",
    ")"
   ]
  },
  {
   "cell_type": "code",
   "execution_count": 9,
   "id": "beeea709",
   "metadata": {
    "cq.autogen": "SparseStatePreparationAliasSampling.sparse_state_prep_alias_from_list"
   },
   "outputs": [],
   "source": [
    "coeffs = [1.0, 0, 0, 1, 0, 3, 0, 2, 0]\n",
    "mu = 3\n",
    "sparse_state_prep_alias_from_list = (\n",
    "    SparseStatePreparationAliasSampling.from_dense_probabilities(coeffs, precision=2**-mu / 4)\n",
    ")"
   ]
  },
  {
   "cell_type": "code",
   "execution_count": 10,
   "id": "1bf9d4f9",
   "metadata": {
    "cq.autogen": "SparseStatePreparationAliasSampling.sparse_state_prep_alias_symb"
   },
   "outputs": [],
   "source": [
    "import sympy\n",
    "\n",
    "n_coeffs, n_nonzero_coeffs, sum_coeff, eps = sympy.symbols(r\"L d \\lambda \\epsilon\")\n",
    "sparse_state_prep_alias_symb = SparseStatePreparationAliasSampling.from_n_coeff(\n",
    "    n_coeffs, n_nonzero_coeffs, sum_coeff, precision=eps\n",
    ")"
   ]
  },
  {
   "cell_type": "markdown",
   "id": "d3ca3eec",
   "metadata": {
    "cq.autogen": "SparseStatePreparationAliasSampling.graphical_signature.md"
   },
   "source": [
    "#### Graphical Signature"
   ]
  },
  {
   "cell_type": "code",
   "execution_count": 11,
   "id": "7a294570",
   "metadata": {
    "cq.autogen": "SparseStatePreparationAliasSampling.graphical_signature.py"
   },
   "outputs": [
    {
     "data": {
      "application/vnd.jupyter.widget-view+json": {
       "model_id": "12c6bb67387149c9b502f24fa5f8a20f",
       "version_major": 2,
       "version_minor": 0
      },
      "text/plain": [
       "HBox(children=(Output(outputs=({'output_type': 'display_data', 'data': {'text/plain': '<IPython.core.display.M…"
      ]
     },
     "metadata": {},
     "output_type": "display_data"
    }
   ],
   "source": [
    "from qualtran.drawing import show_bloqs\n",
    "show_bloqs([sparse_state_prep_alias, sparse_state_prep_alias_from_list, sparse_state_prep_alias_symb],\n",
    "           ['`sparse_state_prep_alias`', '`sparse_state_prep_alias_from_list`', '`sparse_state_prep_alias_symb`'])"
   ]
  },
  {
   "cell_type": "markdown",
   "id": "4f02d080",
   "metadata": {
    "cq.autogen": "SparseStatePreparationAliasSampling.call_graph.md"
   },
   "source": [
    "### Call Graph"
   ]
  },
  {
   "cell_type": "code",
   "execution_count": 12,
   "id": "56ac92d0",
   "metadata": {
    "cq.autogen": "SparseStatePreparationAliasSampling.call_graph.py"
   },
   "outputs": [
    {
     "data": {
      "image/svg+xml": [
       "<svg xmlns=\"http://www.w3.org/2000/svg\" xmlns:xlink=\"http://www.w3.org/1999/xlink\" width=\"1493pt\" height=\"131pt\" viewBox=\"0.00 0.00 1492.50 131.00\">\n",
       "<g id=\"graph0\" class=\"graph\" transform=\"scale(1 1) rotate(0) translate(4 127)\">\n",
       "<title>counts</title>\n",
       "<polygon fill=\"white\" stroke=\"transparent\" points=\"-4,4 -4,-127 1488.5,-127 1488.5,4 -4,4\"/>\n",
       "<!-- b0 -->\n",
       "<g id=\"node1\" class=\"node\">\n",
       "<title>b0</title>\n",
       "<polygon fill=\"none\" stroke=\"black\" points=\"835.5,-123 170.5,-123 170.5,-87 835.5,-87 835.5,-123\"/>\n",
       "<text text-anchor=\"start\" x=\"399.5\" y=\"-106.8\" font-family=\"Times,serif\" font-size=\"14.00\">SparseStatePreparationAliasSampling</text>\n",
       "<text text-anchor=\"start\" x=\"178.5\" y=\"-96\" font-family=\"monospace\" font-size=\"10.00\">selection_registers=(Registe ..., index=array([0 ..., alt=array([5 ..., keep=array([5 ..., [2 addtl fields].</text>\n",
       "</g>\n",
       "<!-- b1 -->\n",
       "<g id=\"node2\" class=\"node\">\n",
       "<title>b1</title>\n",
       "<polygon fill=\"none\" stroke=\"black\" points=\"180,-36 0,-36 0,0 180,0 180,-36\"/>\n",
       "<text text-anchor=\"start\" x=\"8\" y=\"-19.8\" font-family=\"Times,serif\" font-size=\"14.00\">PrepareUniformSuperposition</text>\n",
       "<text text-anchor=\"start\" x=\"56.5\" y=\"-9\" font-family=\"monospace\" font-size=\"10.00\">n=4, cvs=()</text>\n",
       "</g>\n",
       "<!-- b0&#45;&gt;b1 -->\n",
       "<g id=\"edge1\" class=\"edge\">\n",
       "<title>b0-&gt;b1</title>\n",
       "<path fill=\"none\" stroke=\"black\" d=\"M419.92,-86.9C351.3,-72.78 253.97,-52.75 182.81,-38.1\"/>\n",
       "<polygon fill=\"black\" stroke=\"black\" points=\"183.45,-34.66 172.95,-36.07 182.04,-41.52 183.45,-34.66\"/>\n",
       "<text text-anchor=\"middle\" x=\"325.5\" y=\"-57.8\" font-family=\"Times,serif\" font-size=\"14.00\">1</text>\n",
       "</g>\n",
       "<!-- b2 -->\n",
       "<g id=\"node3\" class=\"node\">\n",
       "<title>b2</title>\n",
       "<polygon fill=\"none\" stroke=\"black\" points=\"359.5,-36 198.5,-36 198.5,0 359.5,0 359.5,-36\"/>\n",
       "<text text-anchor=\"start\" x=\"236.5\" y=\"-19.8\" font-family=\"Times,serif\" font-size=\"14.00\">LessThanEqual</text>\n",
       "<text text-anchor=\"start\" x=\"206.5\" y=\"-9\" font-family=\"monospace\" font-size=\"10.00\">x_bitsize=3, y_bitsize=3</text>\n",
       "</g>\n",
       "<!-- b0&#45;&gt;b2 -->\n",
       "<g id=\"edge2\" class=\"edge\">\n",
       "<title>b0-&gt;b2</title>\n",
       "<path fill=\"none\" stroke=\"black\" d=\"M457.94,-86.9C422.02,-73.27 371.59,-54.13 333.41,-39.65\"/>\n",
       "<polygon fill=\"black\" stroke=\"black\" points=\"334.58,-36.35 323.99,-36.07 332.1,-42.89 334.58,-36.35\"/>\n",
       "<text text-anchor=\"middle\" x=\"408.5\" y=\"-57.8\" font-family=\"Times,serif\" font-size=\"14.00\">1</text>\n",
       "</g>\n",
       "<!-- b3 -->\n",
       "<g id=\"node4\" class=\"node\">\n",
       "<title>b3</title>\n",
       "<polygon fill=\"none\" stroke=\"black\" points=\"628.5,-36 377.5,-36 377.5,0 628.5,0 628.5,-36\"/>\n",
       "<text text-anchor=\"start\" x=\"487\" y=\"-19.8\" font-family=\"Times,serif\" font-size=\"14.00\">H⨂3</text>\n",
       "<text text-anchor=\"start\" x=\"385.5\" y=\"-9\" font-family=\"monospace\" font-size=\"10.00\">n=3, gate=Hadamard(), target_dtype=None</text>\n",
       "</g>\n",
       "<!-- b0&#45;&gt;b3 -->\n",
       "<g id=\"edge3\" class=\"edge\">\n",
       "<title>b0-&gt;b3</title>\n",
       "<path fill=\"none\" stroke=\"black\" d=\"M503,-86.8C503,-75.16 503,-59.55 503,-46.24\"/>\n",
       "<polygon fill=\"black\" stroke=\"black\" points=\"506.5,-46.18 503,-36.18 499.5,-46.18 506.5,-46.18\"/>\n",
       "<text text-anchor=\"middle\" x=\"506.5\" y=\"-57.8\" font-family=\"Times,serif\" font-size=\"14.00\">1</text>\n",
       "</g>\n",
       "<!-- b4 -->\n",
       "<g id=\"node5\" class=\"node\">\n",
       "<title>b4</title>\n",
       "<polygon fill=\"none\" stroke=\"black\" points=\"1395.5,-36 646.5,-36 646.5,0 1395.5,0 1395.5,-36\"/>\n",
       "<text text-anchor=\"start\" x=\"1000\" y=\"-19.8\" font-family=\"Times,serif\" font-size=\"14.00\">QROM</text>\n",
       "<text text-anchor=\"start\" x=\"654.5\" y=\"-9\" font-family=\"monospace\" font-size=\"10.00\">data_or_shape=(array([ ..., selection_bitsizes=(2,), target_bitsizes=(4, 4, 3), target_shapes=((), (), ()), num_controls=0</text>\n",
       "</g>\n",
       "<!-- b0&#45;&gt;b4 -->\n",
       "<g id=\"edge4\" class=\"edge\">\n",
       "<title>b0-&gt;b4</title>\n",
       "<path fill=\"none\" stroke=\"black\" d=\"M606.89,-86.95C693.86,-72.68 817.76,-52.35 907.35,-37.65\"/>\n",
       "<polygon fill=\"black\" stroke=\"black\" points=\"907.98,-41.09 917.28,-36.02 906.85,-34.18 907.98,-41.09\"/>\n",
       "<text text-anchor=\"middle\" x=\"797.5\" y=\"-57.8\" font-family=\"Times,serif\" font-size=\"14.00\">1</text>\n",
       "</g>\n",
       "<!-- b5 -->\n",
       "<g id=\"node6\" class=\"node\">\n",
       "<title>b5</title>\n",
       "<polygon fill=\"none\" stroke=\"black\" points=\"1484.5,-36 1413.5,-36 1413.5,0 1484.5,0 1484.5,-36\"/>\n",
       "<text text-anchor=\"start\" x=\"1429\" y=\"-19.8\" font-family=\"Times,serif\" font-size=\"14.00\">CSwap</text>\n",
       "<text text-anchor=\"start\" x=\"1421.5\" y=\"-9\" font-family=\"monospace\" font-size=\"10.00\">bitsize=4</text>\n",
       "</g>\n",
       "<!-- b0&#45;&gt;b5 -->\n",
       "<g id=\"edge5\" class=\"edge\">\n",
       "<title>b0-&gt;b5</title>\n",
       "<path fill=\"none\" stroke=\"black\" d=\"M835.76,-88.79C1040.63,-77.56 1284.46,-60.36 1403.35,-35.67\"/>\n",
       "<polygon fill=\"black\" stroke=\"black\" points=\"1404.39,-39.03 1413.42,-33.49 1402.91,-32.19 1404.39,-39.03\"/>\n",
       "<text text-anchor=\"middle\" x=\"1279.5\" y=\"-57.8\" font-family=\"Times,serif\" font-size=\"14.00\">1</text>\n",
       "</g>\n",
       "</g>\n",
       "</svg>"
      ],
      "text/plain": [
       "<IPython.core.display.SVG object>"
      ]
     },
     "metadata": {},
     "output_type": "display_data"
    },
    {
     "data": {
      "text/markdown": [
       "#### Counts totals:\n",
       " - `CSwap`: 1\n",
       " - `H⨂3`: 1\n",
       " - `LessThanEqual`: 1\n",
       " - `PrepareUniformSuperposition`: 1\n",
       " - `QROM`: 1"
      ],
      "text/plain": [
       "<IPython.core.display.Markdown object>"
      ]
     },
     "metadata": {},
     "output_type": "display_data"
    }
   ],
   "source": [
    "from qualtran.resource_counting.generalizers import ignore_split_join\n",
    "sparse_state_prep_alias_g, sparse_state_prep_alias_sigma = sparse_state_prep_alias.call_graph(max_depth=1, generalizer=ignore_split_join)\n",
    "show_call_graph(sparse_state_prep_alias_g)\n",
    "show_counts_sigma(sparse_state_prep_alias_sigma)"
   ]
  }
 ],
 "metadata": {
  "kernelspec": {
   "display_name": "Python 3",
   "language": "python",
   "name": "python3"
  },
  "language_info": {
   "codemirror_mode": {
    "name": "ipython",
    "version": 3
   },
   "file_extension": ".py",
   "mimetype": "text/x-python",
   "name": "python",
   "nbconvert_exporter": "python",
   "pygments_lexer": "ipython3",
   "version": "3.11.8"
  },
  "widgets": {
   "application/vnd.jupyter.widget-state+json": {
    "state": {
     "0ed474bfba8b45db94605ae4a2d617fc": {
      "model_module": "@jupyter-widgets/base",
      "model_module_version": "2.0.0",
      "model_name": "LayoutModel",
      "state": {
       "_model_module": "@jupyter-widgets/base",
       "_model_module_version": "2.0.0",
       "_model_name": "LayoutModel",
       "_view_count": null,
       "_view_module": "@jupyter-widgets/base",
       "_view_module_version": "2.0.0",
       "_view_name": "LayoutView",
       "align_content": null,
       "align_items": null,
       "align_self": null,
       "border_bottom": null,
       "border_left": null,
       "border_right": null,
       "border_top": null,
       "bottom": null,
       "display": null,
       "flex": null,
       "flex_flow": null,
       "grid_area": null,
       "grid_auto_columns": null,
       "grid_auto_flow": null,
       "grid_auto_rows": null,
       "grid_column": null,
       "grid_gap": null,
       "grid_row": null,
       "grid_template_areas": null,
       "grid_template_columns": null,
       "grid_template_rows": null,
       "height": null,
       "justify_content": null,
       "justify_items": null,
       "left": null,
       "margin": null,
       "max_height": null,
       "max_width": null,
       "min_height": null,
       "min_width": null,
       "object_fit": null,
       "object_position": null,
       "order": null,
       "overflow": null,
       "padding": null,
       "right": null,
       "top": null,
       "visibility": null,
       "width": null
      }
     },
     "12c6bb67387149c9b502f24fa5f8a20f": {
      "model_module": "@jupyter-widgets/controls",
      "model_module_version": "2.0.0",
      "model_name": "HBoxModel",
      "state": {
       "_dom_classes": [],
       "_model_module": "@jupyter-widgets/controls",
       "_model_module_version": "2.0.0",
       "_model_name": "HBoxModel",
       "_view_count": null,
       "_view_module": "@jupyter-widgets/controls",
       "_view_module_version": "2.0.0",
       "_view_name": "HBoxView",
       "box_style": "",
       "children": [
        "IPY_MODEL_913470c3ae3b489abb5209bd5c0fd9d1",
        "IPY_MODEL_9a13c6467ee04df79b349133d43a3b2e",
        "IPY_MODEL_18dd5bf4bc6d442aa19307c9a06f0b35"
       ],
       "layout": "IPY_MODEL_915ae58142694775bbbfa9fb8399368e",
       "tabbable": null,
       "tooltip": null
      }
     },
     "18dd5bf4bc6d442aa19307c9a06f0b35": {
      "model_module": "@jupyter-widgets/output",
      "model_module_version": "1.0.0",
      "model_name": "OutputModel",
      "state": {
       "_dom_classes": [],
       "_model_module": "@jupyter-widgets/output",
       "_model_module_version": "1.0.0",
       "_model_name": "OutputModel",
       "_view_count": null,
       "_view_module": "@jupyter-widgets/output",
       "_view_module_version": "1.0.0",
       "_view_name": "OutputView",
       "layout": "IPY_MODEL_0ed474bfba8b45db94605ae4a2d617fc",
       "msg_id": "",
       "outputs": [
        {
         "data": {
          "text/markdown": "`sparse_state_prep_alias_symb`",
          "text/plain": "<IPython.core.display.Markdown object>"
         },
         "metadata": {},
         "output_type": "display_data"
        },
        {
         "data": {
          "image/svg+xml": "<svg xmlns=\"http://www.w3.org/2000/svg\" xmlns:xlink=\"http://www.w3.org/1999/xlink\" width=\"448pt\" height=\"314pt\" viewBox=\"0.00 0.00 448.00 314.00\">\n<g id=\"graph0\" class=\"graph\" transform=\"scale(1 1) rotate(0) translate(4 310)\">\n<title>my_graph</title>\n<polygon fill=\"white\" stroke=\"transparent\" points=\"-4,4 -4,-310 444,-310 444,4 -4,4\"/>\n<!-- selection_G13 -->\n<g id=\"node1\" class=\"node\">\n<title>selection_G13</title>\n<text text-anchor=\"middle\" x=\"51.5\" y=\"-284.3\" font-family=\"Times,serif\" font-size=\"14.00\">selection</text>\n</g>\n<!-- SparseStatePreparationAliasSampling -->\n<g id=\"node7\" class=\"node\">\n<title>SparseStatePreparationAliasSampling</title>\n<polygon fill=\"none\" stroke=\"black\" points=\"140,-216 140,-233 300,-233 300,-216 140,-216\"/>\n<text text-anchor=\"start\" x=\"143\" y=\"-222\" font-family=\"Times,serif\" font-size=\"10.00\">SparseStatePreparationAliasSampling</text>\n<polygon fill=\"none\" stroke=\"black\" points=\"140,-195 140,-216 300,-216 300,-195 140,-195\"/>\n<text text-anchor=\"start\" x=\"195.5\" y=\"-201.8\" font-family=\"Times,serif\" font-size=\"14.00\">selection</text>\n<polygon fill=\"none\" stroke=\"black\" points=\"140,-174 140,-195 300,-195 300,-174 140,-174\"/>\n<text text-anchor=\"start\" x=\"191\" y=\"-180.8\" font-family=\"Times,serif\" font-size=\"14.00\">sigma_mu</text>\n<polygon fill=\"none\" stroke=\"black\" points=\"140,-153 140,-174 300,-174 300,-153 140,-153\"/>\n<text text-anchor=\"start\" x=\"184.5\" y=\"-159.8\" font-family=\"Times,serif\" font-size=\"14.00\">sparse_index</text>\n<polygon fill=\"none\" stroke=\"black\" points=\"140,-132 140,-153 300,-153 300,-132 140,-132\"/>\n<text text-anchor=\"start\" x=\"213\" y=\"-138.8\" font-family=\"Times,serif\" font-size=\"14.00\">alt</text>\n<polygon fill=\"none\" stroke=\"black\" points=\"140,-111 140,-132 300,-132 300,-111 140,-111\"/>\n<text text-anchor=\"start\" x=\"207\" y=\"-117.8\" font-family=\"Times,serif\" font-size=\"14.00\">keep</text>\n<polygon fill=\"none\" stroke=\"black\" points=\"140,-90 140,-111 300,-111 300,-90 140,-90\"/>\n<text text-anchor=\"start\" x=\"176.5\" y=\"-96.8\" font-family=\"Times,serif\" font-size=\"14.00\">less_than_equal</text>\n</g>\n<!-- selection_G13&#45;&gt;SparseStatePreparationAliasSampling -->\n<g id=\"edge1\" class=\"edge\">\n<title>selection_G13:e-&gt;SparseStatePreparationAliasSampling:w</title>\n<path fill=\"none\" stroke=\"black\" d=\"M85.5,-288C128.41,-288 97.5,-209.17 137.52,-206.09\"/>\n<ellipse fill=\"black\" stroke=\"black\" cx=\"139\" cy=\"-206.04\" rx=\"1\" ry=\"1\"/>\n<text text-anchor=\"middle\" x=\"121.5\" y=\"-217\" font-family=\"Times,serif\" font-size=\"10.00\">ceiling(log2(floor(L)))</text>\n</g>\n<!-- sigma_mu_G2 -->\n<g id=\"node2\" class=\"node\">\n<title>sigma_mu_G2</title>\n<text text-anchor=\"middle\" x=\"51.5\" y=\"-230.3\" font-family=\"Times,serif\" font-size=\"14.00\">sigma_mu</text>\n</g>\n<!-- sigma_mu_G2&#45;&gt;SparseStatePreparationAliasSampling -->\n<g id=\"edge2\" class=\"edge\">\n<title>sigma_mu_G2:e-&gt;SparseStatePreparationAliasSampling:w</title>\n<path fill=\"none\" stroke=\"black\" d=\"M89.5,-234C120.04,-234 109.27,-187.27 137.87,-185.08\"/>\n<ellipse fill=\"black\" stroke=\"black\" cx=\"139\" cy=\"-185.04\" rx=\"1\" ry=\"1\"/>\n<text text-anchor=\"middle\" x=\"121.5\" y=\"-198\" font-family=\"Times,serif\" font-size=\"10.00\">ceiling(log2(1/(L*epsilon)))</text>\n</g>\n<!-- sparse_index_G4 -->\n<g id=\"node3\" class=\"node\">\n<title>sparse_index_G4</title>\n<text text-anchor=\"middle\" x=\"51.5\" y=\"-176.3\" font-family=\"Times,serif\" font-size=\"14.00\">sparse_index</text>\n</g>\n<!-- sparse_index_G4&#45;&gt;SparseStatePreparationAliasSampling -->\n<g id=\"edge3\" class=\"edge\">\n<title>sparse_index_G4:e-&gt;SparseStatePreparationAliasSampling:w</title>\n<path fill=\"none\" stroke=\"black\" d=\"M96.5,-180C116.29,-180 119.19,-165.23 137.67,-164.07\"/>\n<ellipse fill=\"black\" stroke=\"black\" cx=\"139\" cy=\"-164.03\" rx=\"1\" ry=\"1\"/>\n<text text-anchor=\"middle\" x=\"121.5\" y=\"-173\" font-family=\"Times,serif\" font-size=\"10.00\">ceiling(log2(floor(d)))</text>\n</g>\n<!-- alt_G0 -->\n<g id=\"node4\" class=\"node\">\n<title>alt_G0</title>\n<text text-anchor=\"middle\" x=\"51.5\" y=\"-122.3\" font-family=\"Times,serif\" font-size=\"14.00\">alt</text>\n</g>\n<!-- alt_G0&#45;&gt;SparseStatePreparationAliasSampling -->\n<g id=\"edge4\" class=\"edge\">\n<title>alt_G0:e-&gt;SparseStatePreparationAliasSampling:w</title>\n<path fill=\"none\" stroke=\"black\" d=\"M79.5,-126C106.55,-126 111.9,-141.14 137.77,-141.96\"/>\n<ellipse fill=\"black\" stroke=\"black\" cx=\"139\" cy=\"-141.98\" rx=\"1\" ry=\"1\"/>\n<text text-anchor=\"middle\" x=\"121.5\" y=\"-141\" font-family=\"Times,serif\" font-size=\"10.00\">ceiling(log2(floor(L)))</text>\n</g>\n<!-- keep_G8 -->\n<g id=\"node5\" class=\"node\">\n<title>keep_G8</title>\n<text text-anchor=\"middle\" x=\"51.5\" y=\"-68.3\" font-family=\"Times,serif\" font-size=\"14.00\">keep</text>\n</g>\n<!-- keep_G8&#45;&gt;SparseStatePreparationAliasSampling -->\n<g id=\"edge5\" class=\"edge\">\n<title>keep_G8:e-&gt;SparseStatePreparationAliasSampling:w</title>\n<path fill=\"none\" stroke=\"black\" d=\"M79.5,-72C113.29,-72 105.78,-118.73 137.64,-120.92\"/>\n<ellipse fill=\"black\" stroke=\"black\" cx=\"139\" cy=\"-120.97\" rx=\"1\" ry=\"1\"/>\n<text text-anchor=\"middle\" x=\"121.5\" y=\"-116\" font-family=\"Times,serif\" font-size=\"10.00\">ceiling(log2(1/(L*epsilon)))</text>\n</g>\n<!-- less_than_equal_G9 -->\n<g id=\"node6\" class=\"node\">\n<title>less_than_equal_G9</title>\n<text text-anchor=\"middle\" x=\"51.5\" y=\"-14.3\" font-family=\"Times,serif\" font-size=\"14.00\">less_than_equal</text>\n</g>\n<!-- less_than_equal_G9&#45;&gt;SparseStatePreparationAliasSampling -->\n<g id=\"edge6\" class=\"edge\">\n<title>less_than_equal_G9:e-&gt;SparseStatePreparationAliasSampling:w</title>\n<path fill=\"none\" stroke=\"black\" d=\"M103,-18C142.2,-18 101.66,-96.83 137.75,-99.91\"/>\n<ellipse fill=\"black\" stroke=\"black\" cx=\"139\" cy=\"-99.96\" rx=\"1\" ry=\"1\"/>\n<text text-anchor=\"middle\" x=\"121.5\" y=\"-85\" font-family=\"Times,serif\" font-size=\"10.00\">1</text>\n</g>\n<!-- selection_G11 -->\n<g id=\"node8\" class=\"node\">\n<title>selection_G11</title>\n<text text-anchor=\"middle\" x=\"388.5\" y=\"-284.3\" font-family=\"Times,serif\" font-size=\"14.00\">selection</text>\n</g>\n<!-- SparseStatePreparationAliasSampling&#45;&gt;selection_G11 -->\n<g id=\"edge7\" class=\"edge\">\n<title>SparseStatePreparationAliasSampling:e-&gt;selection_G11:w</title>\n<path fill=\"none\" stroke=\"black\" d=\"M300,-206C342.91,-206 312,-284.83 352.02,-287.91\"/>\n<ellipse fill=\"black\" stroke=\"black\" cx=\"353.5\" cy=\"-287.96\" rx=\"1\" ry=\"1\"/>\n<text text-anchor=\"middle\" x=\"318.5\" y=\"-217\" font-family=\"Times,serif\" font-size=\"10.00\">ceiling(log2(floor(L)))</text>\n</g>\n<!-- sigma_mu_G5 -->\n<g id=\"node9\" class=\"node\">\n<title>sigma_mu_G5</title>\n<text text-anchor=\"middle\" x=\"388.5\" y=\"-230.3\" font-family=\"Times,serif\" font-size=\"14.00\">sigma_mu</text>\n</g>\n<!-- SparseStatePreparationAliasSampling&#45;&gt;sigma_mu_G5 -->\n<g id=\"edge8\" class=\"edge\">\n<title>SparseStatePreparationAliasSampling:e-&gt;sigma_mu_G5:w</title>\n<path fill=\"none\" stroke=\"black\" d=\"M300,-185C330.54,-185 319.77,-231.73 348.37,-233.92\"/>\n<ellipse fill=\"black\" stroke=\"black\" cx=\"349.5\" cy=\"-233.96\" rx=\"1\" ry=\"1\"/>\n<text text-anchor=\"middle\" x=\"318.5\" y=\"-198\" font-family=\"Times,serif\" font-size=\"10.00\">ceiling(log2(1/(L*epsilon)))</text>\n</g>\n<!-- sparse_index_G6 -->\n<g id=\"node10\" class=\"node\">\n<title>sparse_index_G6</title>\n<text text-anchor=\"middle\" x=\"388.5\" y=\"-176.3\" font-family=\"Times,serif\" font-size=\"14.00\">sparse_index</text>\n</g>\n<!-- SparseStatePreparationAliasSampling&#45;&gt;sparse_index_G6 -->\n<g id=\"edge9\" class=\"edge\">\n<title>SparseStatePreparationAliasSampling:e-&gt;sparse_index_G6:w</title>\n<path fill=\"none\" stroke=\"black\" d=\"M300,-164C319.79,-164 322.69,-178.77 341.17,-179.93\"/>\n<ellipse fill=\"black\" stroke=\"black\" cx=\"342.5\" cy=\"-179.97\" rx=\"1\" ry=\"1\"/>\n<text text-anchor=\"middle\" x=\"318.5\" y=\"-173\" font-family=\"Times,serif\" font-size=\"10.00\">ceiling(log2(floor(d)))</text>\n</g>\n<!-- alt_G16 -->\n<g id=\"node11\" class=\"node\">\n<title>alt_G16</title>\n<text text-anchor=\"middle\" x=\"388.5\" y=\"-122.3\" font-family=\"Times,serif\" font-size=\"14.00\">alt</text>\n</g>\n<!-- SparseStatePreparationAliasSampling&#45;&gt;alt_G16 -->\n<g id=\"edge10\" class=\"edge\">\n<title>SparseStatePreparationAliasSampling:e-&gt;alt_G16:w</title>\n<path fill=\"none\" stroke=\"black\" d=\"M300,-142C327.05,-142 332.4,-126.86 358.27,-126.04\"/>\n<ellipse fill=\"black\" stroke=\"black\" cx=\"359.5\" cy=\"-126.02\" rx=\"1\" ry=\"1\"/>\n<text text-anchor=\"middle\" x=\"318.5\" y=\"-141\" font-family=\"Times,serif\" font-size=\"10.00\">ceiling(log2(floor(L)))</text>\n</g>\n<!-- keep_G12 -->\n<g id=\"node12\" class=\"node\">\n<title>keep_G12</title>\n<text text-anchor=\"middle\" x=\"388.5\" y=\"-68.3\" font-family=\"Times,serif\" font-size=\"14.00\">keep</text>\n</g>\n<!-- SparseStatePreparationAliasSampling&#45;&gt;keep_G12 -->\n<g id=\"edge11\" class=\"edge\">\n<title>SparseStatePreparationAliasSampling:e-&gt;keep_G12:w</title>\n<path fill=\"none\" stroke=\"black\" d=\"M300,-121C333.79,-121 326.28,-74.27 358.14,-72.08\"/>\n<ellipse fill=\"black\" stroke=\"black\" cx=\"359.5\" cy=\"-72.03\" rx=\"1\" ry=\"1\"/>\n<text text-anchor=\"middle\" x=\"318.5\" y=\"-116\" font-family=\"Times,serif\" font-size=\"10.00\">ceiling(log2(1/(L*epsilon)))</text>\n</g>\n<!-- less_than_equal_G1 -->\n<g id=\"node13\" class=\"node\">\n<title>less_than_equal_G1</title>\n<text text-anchor=\"middle\" x=\"388.5\" y=\"-14.3\" font-family=\"Times,serif\" font-size=\"14.00\">less_than_equal</text>\n</g>\n<!-- SparseStatePreparationAliasSampling&#45;&gt;less_than_equal_G1 -->\n<g id=\"edge12\" class=\"edge\">\n<title>SparseStatePreparationAliasSampling:e-&gt;less_than_equal_G1:w</title>\n<path fill=\"none\" stroke=\"black\" d=\"M300,-100C339.2,-100 298.66,-21.17 334.75,-18.09\"/>\n<ellipse fill=\"black\" stroke=\"black\" cx=\"336\" cy=\"-18.04\" rx=\"1\" ry=\"1\"/>\n<text text-anchor=\"middle\" x=\"318.5\" y=\"-85\" font-family=\"Times,serif\" font-size=\"10.00\">1</text>\n</g>\n</g>\n</svg>",
          "text/plain": "<IPython.core.display.SVG object>"
         },
         "metadata": {},
         "output_type": "display_data"
        }
       ],
       "tabbable": null,
       "tooltip": null
      }
     },
     "1dd716e896944c40a583e1af45becdd0": {
      "model_module": "@jupyter-widgets/base",
      "model_module_version": "2.0.0",
      "model_name": "LayoutModel",
      "state": {
       "_model_module": "@jupyter-widgets/base",
       "_model_module_version": "2.0.0",
       "_model_name": "LayoutModel",
       "_view_count": null,
       "_view_module": "@jupyter-widgets/base",
       "_view_module_version": "2.0.0",
       "_view_name": "LayoutView",
       "align_content": null,
       "align_items": null,
       "align_self": null,
       "border_bottom": null,
       "border_left": null,
       "border_right": null,
       "border_top": null,
       "bottom": null,
       "display": null,
       "flex": null,
       "flex_flow": null,
       "grid_area": null,
       "grid_auto_columns": null,
       "grid_auto_flow": null,
       "grid_auto_rows": null,
       "grid_column": null,
       "grid_gap": null,
       "grid_row": null,
       "grid_template_areas": null,
       "grid_template_columns": null,
       "grid_template_rows": null,
       "height": null,
       "justify_content": null,
       "justify_items": null,
       "left": null,
       "margin": null,
       "max_height": null,
       "max_width": null,
       "min_height": null,
       "min_width": null,
       "object_fit": null,
       "object_position": null,
       "order": null,
       "overflow": null,
       "padding": null,
       "right": null,
       "top": null,
       "visibility": null,
       "width": null
      }
     },
     "30fa8230792d4f78ac3a10f2d2c8a7df": {
      "model_module": "@jupyter-widgets/base",
      "model_module_version": "2.0.0",
      "model_name": "LayoutModel",
      "state": {
       "_model_module": "@jupyter-widgets/base",
       "_model_module_version": "2.0.0",
       "_model_name": "LayoutModel",
       "_view_count": null,
       "_view_module": "@jupyter-widgets/base",
       "_view_module_version": "2.0.0",
       "_view_name": "LayoutView",
       "align_content": null,
       "align_items": null,
       "align_self": null,
       "border_bottom": null,
       "border_left": null,
       "border_right": null,
       "border_top": null,
       "bottom": null,
       "display": null,
       "flex": null,
       "flex_flow": null,
       "grid_area": null,
       "grid_auto_columns": null,
       "grid_auto_flow": null,
       "grid_auto_rows": null,
       "grid_column": null,
       "grid_gap": null,
       "grid_row": null,
       "grid_template_areas": null,
       "grid_template_columns": null,
       "grid_template_rows": null,
       "height": null,
       "justify_content": null,
       "justify_items": null,
       "left": null,
       "margin": null,
       "max_height": null,
       "max_width": null,
       "min_height": null,
       "min_width": null,
       "object_fit": null,
       "object_position": null,
       "order": null,
       "overflow": null,
       "padding": null,
       "right": null,
       "top": null,
       "visibility": null,
       "width": null
      }
     },
     "351ac22383504834aedaa06d33e96d07": {
      "model_module": "@jupyter-widgets/base",
      "model_module_version": "2.0.0",
      "model_name": "LayoutModel",
      "state": {
       "_model_module": "@jupyter-widgets/base",
       "_model_module_version": "2.0.0",
       "_model_name": "LayoutModel",
       "_view_count": null,
       "_view_module": "@jupyter-widgets/base",
       "_view_module_version": "2.0.0",
       "_view_name": "LayoutView",
       "align_content": null,
       "align_items": null,
       "align_self": null,
       "border_bottom": null,
       "border_left": null,
       "border_right": null,
       "border_top": null,
       "bottom": null,
       "display": null,
       "flex": null,
       "flex_flow": null,
       "grid_area": null,
       "grid_auto_columns": null,
       "grid_auto_flow": null,
       "grid_auto_rows": null,
       "grid_column": null,
       "grid_gap": null,
       "grid_row": null,
       "grid_template_areas": null,
       "grid_template_columns": null,
       "grid_template_rows": null,
       "height": null,
       "justify_content": null,
       "justify_items": null,
       "left": null,
       "margin": null,
       "max_height": null,
       "max_width": null,
       "min_height": null,
       "min_width": null,
       "object_fit": null,
       "object_position": null,
       "order": null,
       "overflow": null,
       "padding": null,
       "right": null,
       "top": null,
       "visibility": null,
       "width": null
      }
     },
     "51d88abdb25d469ab58cfecf3b495b2a": {
      "model_module": "@jupyter-widgets/base",
      "model_module_version": "2.0.0",
      "model_name": "LayoutModel",
      "state": {
       "_model_module": "@jupyter-widgets/base",
       "_model_module_version": "2.0.0",
       "_model_name": "LayoutModel",
       "_view_count": null,
       "_view_module": "@jupyter-widgets/base",
       "_view_module_version": "2.0.0",
       "_view_name": "LayoutView",
       "align_content": null,
       "align_items": null,
       "align_self": null,
       "border_bottom": null,
       "border_left": null,
       "border_right": null,
       "border_top": null,
       "bottom": null,
       "display": null,
       "flex": null,
       "flex_flow": null,
       "grid_area": null,
       "grid_auto_columns": null,
       "grid_auto_flow": null,
       "grid_auto_rows": null,
       "grid_column": null,
       "grid_gap": null,
       "grid_row": null,
       "grid_template_areas": null,
       "grid_template_columns": null,
       "grid_template_rows": null,
       "height": null,
       "justify_content": null,
       "justify_items": null,
       "left": null,
       "margin": null,
       "max_height": null,
       "max_width": null,
       "min_height": null,
       "min_width": null,
       "object_fit": null,
       "object_position": null,
       "order": null,
       "overflow": null,
       "padding": null,
       "right": null,
       "top": null,
       "visibility": null,
       "width": null
      }
     },
     "65ad6411c1b94345a35d20b7dff85dba": {
      "model_module": "@jupyter-widgets/output",
      "model_module_version": "1.0.0",
      "model_name": "OutputModel",
      "state": {
       "_dom_classes": [],
       "_model_module": "@jupyter-widgets/output",
       "_model_module_version": "1.0.0",
       "_model_name": "OutputModel",
       "_view_count": null,
       "_view_module": "@jupyter-widgets/output",
       "_view_module_version": "1.0.0",
       "_view_name": "OutputView",
       "layout": "IPY_MODEL_51d88abdb25d469ab58cfecf3b495b2a",
       "msg_id": "",
       "outputs": [
        {
         "data": {
          "text/markdown": "`state_prep_alias`",
          "text/plain": "<IPython.core.display.Markdown object>"
         },
         "metadata": {},
         "output_type": "display_data"
        },
        {
         "data": {
          "image/svg+xml": "<svg xmlns=\"http://www.w3.org/2000/svg\" xmlns:xlink=\"http://www.w3.org/1999/xlink\" width=\"422pt\" height=\"260pt\" viewBox=\"0.00 0.00 422.00 260.00\">\n<g id=\"graph0\" class=\"graph\" transform=\"scale(1 1) rotate(0) translate(4 256)\">\n<title>my_graph</title>\n<polygon fill=\"white\" stroke=\"transparent\" points=\"-4,4 -4,-256 418,-256 418,4 -4,4\"/>\n<!-- selection_G11 -->\n<g id=\"node1\" class=\"node\">\n<title>selection_G11</title>\n<text text-anchor=\"middle\" x=\"51.5\" y=\"-230.3\" font-family=\"Times,serif\" font-size=\"14.00\">selection</text>\n</g>\n<!-- StatePreparationAliasSampling -->\n<g id=\"node6\" class=\"node\">\n<title>StatePreparationAliasSampling</title>\n<polygon fill=\"none\" stroke=\"black\" points=\"140,-179 140,-196 274,-196 274,-179 140,-179\"/>\n<text text-anchor=\"start\" x=\"143\" y=\"-185\" font-family=\"Times,serif\" font-size=\"10.00\">StatePreparationAliasSampling</text>\n<polygon fill=\"none\" stroke=\"black\" points=\"140,-158 140,-179 274,-179 274,-158 140,-158\"/>\n<text text-anchor=\"start\" x=\"182.5\" y=\"-164.8\" font-family=\"Times,serif\" font-size=\"14.00\">selection</text>\n<polygon fill=\"none\" stroke=\"black\" points=\"140,-137 140,-158 274,-158 274,-137 140,-137\"/>\n<text text-anchor=\"start\" x=\"178\" y=\"-143.8\" font-family=\"Times,serif\" font-size=\"14.00\">sigma_mu</text>\n<polygon fill=\"none\" stroke=\"black\" points=\"140,-116 140,-137 274,-137 274,-116 140,-116\"/>\n<text text-anchor=\"start\" x=\"200\" y=\"-122.8\" font-family=\"Times,serif\" font-size=\"14.00\">alt</text>\n<polygon fill=\"none\" stroke=\"black\" points=\"140,-95 140,-116 274,-116 274,-95 140,-95\"/>\n<text text-anchor=\"start\" x=\"194\" y=\"-101.8\" font-family=\"Times,serif\" font-size=\"14.00\">keep</text>\n<polygon fill=\"none\" stroke=\"black\" points=\"140,-74 140,-95 274,-95 274,-74 140,-74\"/>\n<text text-anchor=\"start\" x=\"163.5\" y=\"-80.8\" font-family=\"Times,serif\" font-size=\"14.00\">less_than_equal</text>\n</g>\n<!-- selection_G11&#45;&gt;StatePreparationAliasSampling -->\n<g id=\"edge1\" class=\"edge\">\n<title>selection_G11:e-&gt;StatePreparationAliasSampling:w</title>\n<path fill=\"none\" stroke=\"black\" d=\"M85.5,-234C122.46,-234 103.09,-171.51 137.86,-169.07\"/>\n<ellipse fill=\"black\" stroke=\"black\" cx=\"139\" cy=\"-169.03\" rx=\"1\" ry=\"1\"/>\n<text text-anchor=\"middle\" x=\"121.5\" y=\"-181\" font-family=\"Times,serif\" font-size=\"10.00\">2</text>\n</g>\n<!-- sigma_mu_G7 -->\n<g id=\"node2\" class=\"node\">\n<title>sigma_mu_G7</title>\n<text text-anchor=\"middle\" x=\"51.5\" y=\"-176.3\" font-family=\"Times,serif\" font-size=\"14.00\">sigma_mu</text>\n</g>\n<!-- sigma_mu_G7&#45;&gt;StatePreparationAliasSampling -->\n<g id=\"edge2\" class=\"edge\">\n<title>sigma_mu_G7:e-&gt;StatePreparationAliasSampling:w</title>\n<path fill=\"none\" stroke=\"black\" d=\"M89.5,-180C115.34,-180 113.55,-149.73 137.88,-148.07\"/>\n<ellipse fill=\"black\" stroke=\"black\" cx=\"139\" cy=\"-148.03\" rx=\"1\" ry=\"1\"/>\n<text text-anchor=\"middle\" x=\"121.5\" y=\"-158\" font-family=\"Times,serif\" font-size=\"10.00\">3</text>\n</g>\n<!-- alt_G0 -->\n<g id=\"node3\" class=\"node\">\n<title>alt_G0</title>\n<text text-anchor=\"middle\" x=\"51.5\" y=\"-122.3\" font-family=\"Times,serif\" font-size=\"14.00\">alt</text>\n</g>\n<!-- alt_G0&#45;&gt;StatePreparationAliasSampling -->\n<g id=\"edge3\" class=\"edge\">\n<title>alt_G0:e-&gt;StatePreparationAliasSampling:w</title>\n<path fill=\"none\" stroke=\"black\" d=\"M79.5,-126C105.65,-126 112.73,-126 137.84,-126\"/>\n<ellipse fill=\"black\" stroke=\"black\" cx=\"139\" cy=\"-126\" rx=\"1\" ry=\"1\"/>\n<text text-anchor=\"middle\" x=\"121.5\" y=\"-129\" font-family=\"Times,serif\" font-size=\"10.00\">2</text>\n</g>\n<!-- keep_G3 -->\n<g id=\"node4\" class=\"node\">\n<title>keep_G3</title>\n<text text-anchor=\"middle\" x=\"51.5\" y=\"-68.3\" font-family=\"Times,serif\" font-size=\"14.00\">keep</text>\n</g>\n<!-- keep_G3&#45;&gt;StatePreparationAliasSampling -->\n<g id=\"edge4\" class=\"edge\">\n<title>keep_G3:e-&gt;StatePreparationAliasSampling:w</title>\n<path fill=\"none\" stroke=\"black\" d=\"M79.5,-72C109.41,-72 109.39,-103.47 137.9,-104.95\"/>\n<ellipse fill=\"black\" stroke=\"black\" cx=\"139\" cy=\"-104.97\" rx=\"1\" ry=\"1\"/>\n<text text-anchor=\"middle\" x=\"121.5\" y=\"-102\" font-family=\"Times,serif\" font-size=\"10.00\">3</text>\n</g>\n<!-- less_than_equal_G10 -->\n<g id=\"node5\" class=\"node\">\n<title>less_than_equal_G10</title>\n<text text-anchor=\"middle\" x=\"51.5\" y=\"-14.3\" font-family=\"Times,serif\" font-size=\"14.00\">less_than_equal</text>\n</g>\n<!-- less_than_equal_G10&#45;&gt;StatePreparationAliasSampling -->\n<g id=\"edge5\" class=\"edge\">\n<title>less_than_equal_G10:e-&gt;StatePreparationAliasSampling:w</title>\n<path fill=\"none\" stroke=\"black\" d=\"M103,-18C135.84,-18 107.75,-80.94 137.74,-83.89\"/>\n<ellipse fill=\"black\" stroke=\"black\" cx=\"139\" cy=\"-83.95\" rx=\"1\" ry=\"1\"/>\n<text text-anchor=\"middle\" x=\"121.5\" y=\"-62\" font-family=\"Times,serif\" font-size=\"10.00\">1</text>\n</g>\n<!-- selection_G13 -->\n<g id=\"node7\" class=\"node\">\n<title>selection_G13</title>\n<text text-anchor=\"middle\" x=\"362.5\" y=\"-230.3\" font-family=\"Times,serif\" font-size=\"14.00\">selection</text>\n</g>\n<!-- StatePreparationAliasSampling&#45;&gt;selection_G13 -->\n<g id=\"edge6\" class=\"edge\">\n<title>StatePreparationAliasSampling:e-&gt;selection_G13:w</title>\n<path fill=\"none\" stroke=\"black\" d=\"M274,-169C310.96,-169 291.59,-231.49 326.36,-233.93\"/>\n<ellipse fill=\"black\" stroke=\"black\" cx=\"327.5\" cy=\"-233.97\" rx=\"1\" ry=\"1\"/>\n<text text-anchor=\"middle\" x=\"292.5\" y=\"-181\" font-family=\"Times,serif\" font-size=\"10.00\">2</text>\n</g>\n<!-- sigma_mu_G4 -->\n<g id=\"node8\" class=\"node\">\n<title>sigma_mu_G4</title>\n<text text-anchor=\"middle\" x=\"362.5\" y=\"-176.3\" font-family=\"Times,serif\" font-size=\"14.00\">sigma_mu</text>\n</g>\n<!-- StatePreparationAliasSampling&#45;&gt;sigma_mu_G4 -->\n<g id=\"edge7\" class=\"edge\">\n<title>StatePreparationAliasSampling:e-&gt;sigma_mu_G4:w</title>\n<path fill=\"none\" stroke=\"black\" d=\"M274,-148C299.84,-148 298.05,-178.27 322.38,-179.93\"/>\n<ellipse fill=\"black\" stroke=\"black\" cx=\"323.5\" cy=\"-179.97\" rx=\"1\" ry=\"1\"/>\n<text text-anchor=\"middle\" x=\"292.5\" y=\"-158\" font-family=\"Times,serif\" font-size=\"10.00\">3</text>\n</g>\n<!-- alt_G1 -->\n<g id=\"node9\" class=\"node\">\n<title>alt_G1</title>\n<text text-anchor=\"middle\" x=\"362.5\" y=\"-122.3\" font-family=\"Times,serif\" font-size=\"14.00\">alt</text>\n</g>\n<!-- StatePreparationAliasSampling&#45;&gt;alt_G1 -->\n<g id=\"edge8\" class=\"edge\">\n<title>StatePreparationAliasSampling:e-&gt;alt_G1:w</title>\n<path fill=\"none\" stroke=\"black\" d=\"M274,-126C300.15,-126 307.23,-126 332.34,-126\"/>\n<ellipse fill=\"black\" stroke=\"black\" cx=\"333.5\" cy=\"-126\" rx=\"1\" ry=\"1\"/>\n<text text-anchor=\"middle\" x=\"292.5\" y=\"-129\" font-family=\"Times,serif\" font-size=\"10.00\">2</text>\n</g>\n<!-- keep_G6 -->\n<g id=\"node10\" class=\"node\">\n<title>keep_G6</title>\n<text text-anchor=\"middle\" x=\"362.5\" y=\"-68.3\" font-family=\"Times,serif\" font-size=\"14.00\">keep</text>\n</g>\n<!-- StatePreparationAliasSampling&#45;&gt;keep_G6 -->\n<g id=\"edge9\" class=\"edge\">\n<title>StatePreparationAliasSampling:e-&gt;keep_G6:w</title>\n<path fill=\"none\" stroke=\"black\" d=\"M274,-105C303.91,-105 303.89,-73.53 332.4,-72.05\"/>\n<ellipse fill=\"black\" stroke=\"black\" cx=\"333.5\" cy=\"-72.03\" rx=\"1\" ry=\"1\"/>\n<text text-anchor=\"middle\" x=\"292.5\" y=\"-102\" font-family=\"Times,serif\" font-size=\"10.00\">3</text>\n</g>\n<!-- less_than_equal_G2 -->\n<g id=\"node11\" class=\"node\">\n<title>less_than_equal_G2</title>\n<text text-anchor=\"middle\" x=\"362.5\" y=\"-14.3\" font-family=\"Times,serif\" font-size=\"14.00\">less_than_equal</text>\n</g>\n<!-- StatePreparationAliasSampling&#45;&gt;less_than_equal_G2 -->\n<g id=\"edge10\" class=\"edge\">\n<title>StatePreparationAliasSampling:e-&gt;less_than_equal_G2:w</title>\n<path fill=\"none\" stroke=\"black\" d=\"M274,-84C306.84,-84 278.75,-21.06 308.74,-18.11\"/>\n<ellipse fill=\"black\" stroke=\"black\" cx=\"310\" cy=\"-18.05\" rx=\"1\" ry=\"1\"/>\n<text text-anchor=\"middle\" x=\"292.5\" y=\"-62\" font-family=\"Times,serif\" font-size=\"10.00\">1</text>\n</g>\n</g>\n</svg>",
          "text/plain": "<IPython.core.display.SVG object>"
         },
         "metadata": {},
         "output_type": "display_data"
        }
       ],
       "tabbable": null,
       "tooltip": null
      }
     },
     "913470c3ae3b489abb5209bd5c0fd9d1": {
      "model_module": "@jupyter-widgets/output",
      "model_module_version": "1.0.0",
      "model_name": "OutputModel",
      "state": {
       "_dom_classes": [],
       "_model_module": "@jupyter-widgets/output",
       "_model_module_version": "1.0.0",
       "_model_name": "OutputModel",
       "_view_count": null,
       "_view_module": "@jupyter-widgets/output",
       "_view_module_version": "1.0.0",
       "_view_name": "OutputView",
       "layout": "IPY_MODEL_30fa8230792d4f78ac3a10f2d2c8a7df",
       "msg_id": "",
       "outputs": [
        {
         "data": {
          "text/markdown": "`sparse_state_prep_alias`",
          "text/plain": "<IPython.core.display.Markdown object>"
         },
         "metadata": {},
         "output_type": "display_data"
        },
        {
         "data": {
          "image/svg+xml": "<svg xmlns=\"http://www.w3.org/2000/svg\" xmlns:xlink=\"http://www.w3.org/1999/xlink\" width=\"448pt\" height=\"314pt\" viewBox=\"0.00 0.00 448.00 314.00\">\n<g id=\"graph0\" class=\"graph\" transform=\"scale(1 1) rotate(0) translate(4 310)\">\n<title>my_graph</title>\n<polygon fill=\"white\" stroke=\"transparent\" points=\"-4,4 -4,-310 444,-310 444,4 -4,4\"/>\n<!-- selection_G5 -->\n<g id=\"node1\" class=\"node\">\n<title>selection_G5</title>\n<text text-anchor=\"middle\" x=\"51.5\" y=\"-284.3\" font-family=\"Times,serif\" font-size=\"14.00\">selection</text>\n</g>\n<!-- SparseStatePreparationAliasSampling -->\n<g id=\"node7\" class=\"node\">\n<title>SparseStatePreparationAliasSampling</title>\n<polygon fill=\"none\" stroke=\"black\" points=\"140,-216 140,-233 300,-233 300,-216 140,-216\"/>\n<text text-anchor=\"start\" x=\"143\" y=\"-222\" font-family=\"Times,serif\" font-size=\"10.00\">SparseStatePreparationAliasSampling</text>\n<polygon fill=\"none\" stroke=\"black\" points=\"140,-195 140,-216 300,-216 300,-195 140,-195\"/>\n<text text-anchor=\"start\" x=\"195.5\" y=\"-201.8\" font-family=\"Times,serif\" font-size=\"14.00\">selection</text>\n<polygon fill=\"none\" stroke=\"black\" points=\"140,-174 140,-195 300,-195 300,-174 140,-174\"/>\n<text text-anchor=\"start\" x=\"191\" y=\"-180.8\" font-family=\"Times,serif\" font-size=\"14.00\">sigma_mu</text>\n<polygon fill=\"none\" stroke=\"black\" points=\"140,-153 140,-174 300,-174 300,-153 140,-153\"/>\n<text text-anchor=\"start\" x=\"184.5\" y=\"-159.8\" font-family=\"Times,serif\" font-size=\"14.00\">sparse_index</text>\n<polygon fill=\"none\" stroke=\"black\" points=\"140,-132 140,-153 300,-153 300,-132 140,-132\"/>\n<text text-anchor=\"start\" x=\"213\" y=\"-138.8\" font-family=\"Times,serif\" font-size=\"14.00\">alt</text>\n<polygon fill=\"none\" stroke=\"black\" points=\"140,-111 140,-132 300,-132 300,-111 140,-111\"/>\n<text text-anchor=\"start\" x=\"207\" y=\"-117.8\" font-family=\"Times,serif\" font-size=\"14.00\">keep</text>\n<polygon fill=\"none\" stroke=\"black\" points=\"140,-90 140,-111 300,-111 300,-90 140,-90\"/>\n<text text-anchor=\"start\" x=\"176.5\" y=\"-96.8\" font-family=\"Times,serif\" font-size=\"14.00\">less_than_equal</text>\n</g>\n<!-- selection_G5&#45;&gt;SparseStatePreparationAliasSampling -->\n<g id=\"edge1\" class=\"edge\">\n<title>selection_G5:e-&gt;SparseStatePreparationAliasSampling:w</title>\n<path fill=\"none\" stroke=\"black\" d=\"M85.5,-288C128.41,-288 97.5,-209.17 137.52,-206.09\"/>\n<ellipse fill=\"black\" stroke=\"black\" cx=\"139\" cy=\"-206.04\" rx=\"1\" ry=\"1\"/>\n<text text-anchor=\"middle\" x=\"121.5\" y=\"-217\" font-family=\"Times,serif\" font-size=\"10.00\">4</text>\n</g>\n<!-- sigma_mu_G7 -->\n<g id=\"node2\" class=\"node\">\n<title>sigma_mu_G7</title>\n<text text-anchor=\"middle\" x=\"51.5\" y=\"-230.3\" font-family=\"Times,serif\" font-size=\"14.00\">sigma_mu</text>\n</g>\n<!-- sigma_mu_G7&#45;&gt;SparseStatePreparationAliasSampling -->\n<g id=\"edge2\" class=\"edge\">\n<title>sigma_mu_G7:e-&gt;SparseStatePreparationAliasSampling:w</title>\n<path fill=\"none\" stroke=\"black\" d=\"M89.5,-234C120.04,-234 109.27,-187.27 137.87,-185.08\"/>\n<ellipse fill=\"black\" stroke=\"black\" cx=\"139\" cy=\"-185.04\" rx=\"1\" ry=\"1\"/>\n<text text-anchor=\"middle\" x=\"121.5\" y=\"-198\" font-family=\"Times,serif\" font-size=\"10.00\">3</text>\n</g>\n<!-- sparse_index_G4 -->\n<g id=\"node3\" class=\"node\">\n<title>sparse_index_G4</title>\n<text text-anchor=\"middle\" x=\"51.5\" y=\"-176.3\" font-family=\"Times,serif\" font-size=\"14.00\">sparse_index</text>\n</g>\n<!-- sparse_index_G4&#45;&gt;SparseStatePreparationAliasSampling -->\n<g id=\"edge3\" class=\"edge\">\n<title>sparse_index_G4:e-&gt;SparseStatePreparationAliasSampling:w</title>\n<path fill=\"none\" stroke=\"black\" d=\"M96.5,-180C116.29,-180 119.19,-165.23 137.67,-164.07\"/>\n<ellipse fill=\"black\" stroke=\"black\" cx=\"139\" cy=\"-164.03\" rx=\"1\" ry=\"1\"/>\n<text text-anchor=\"middle\" x=\"121.5\" y=\"-173\" font-family=\"Times,serif\" font-size=\"10.00\">2</text>\n</g>\n<!-- alt_G0 -->\n<g id=\"node4\" class=\"node\">\n<title>alt_G0</title>\n<text text-anchor=\"middle\" x=\"51.5\" y=\"-122.3\" font-family=\"Times,serif\" font-size=\"14.00\">alt</text>\n</g>\n<!-- alt_G0&#45;&gt;SparseStatePreparationAliasSampling -->\n<g id=\"edge4\" class=\"edge\">\n<title>alt_G0:e-&gt;SparseStatePreparationAliasSampling:w</title>\n<path fill=\"none\" stroke=\"black\" d=\"M79.5,-126C106.55,-126 111.9,-141.14 137.77,-141.96\"/>\n<ellipse fill=\"black\" stroke=\"black\" cx=\"139\" cy=\"-141.98\" rx=\"1\" ry=\"1\"/>\n<text text-anchor=\"middle\" x=\"121.5\" y=\"-141\" font-family=\"Times,serif\" font-size=\"10.00\">4</text>\n</g>\n<!-- keep_G17 -->\n<g id=\"node5\" class=\"node\">\n<title>keep_G17</title>\n<text text-anchor=\"middle\" x=\"51.5\" y=\"-68.3\" font-family=\"Times,serif\" font-size=\"14.00\">keep</text>\n</g>\n<!-- keep_G17&#45;&gt;SparseStatePreparationAliasSampling -->\n<g id=\"edge5\" class=\"edge\">\n<title>keep_G17:e-&gt;SparseStatePreparationAliasSampling:w</title>\n<path fill=\"none\" stroke=\"black\" d=\"M79.5,-72C113.29,-72 105.78,-118.73 137.64,-120.92\"/>\n<ellipse fill=\"black\" stroke=\"black\" cx=\"139\" cy=\"-120.97\" rx=\"1\" ry=\"1\"/>\n<text text-anchor=\"middle\" x=\"121.5\" y=\"-116\" font-family=\"Times,serif\" font-size=\"10.00\">3</text>\n</g>\n<!-- less_than_equal_G8 -->\n<g id=\"node6\" class=\"node\">\n<title>less_than_equal_G8</title>\n<text text-anchor=\"middle\" x=\"51.5\" y=\"-14.3\" font-family=\"Times,serif\" font-size=\"14.00\">less_than_equal</text>\n</g>\n<!-- less_than_equal_G8&#45;&gt;SparseStatePreparationAliasSampling -->\n<g id=\"edge6\" class=\"edge\">\n<title>less_than_equal_G8:e-&gt;SparseStatePreparationAliasSampling:w</title>\n<path fill=\"none\" stroke=\"black\" d=\"M103,-18C142.2,-18 101.66,-96.83 137.75,-99.91\"/>\n<ellipse fill=\"black\" stroke=\"black\" cx=\"139\" cy=\"-99.96\" rx=\"1\" ry=\"1\"/>\n<text text-anchor=\"middle\" x=\"121.5\" y=\"-85\" font-family=\"Times,serif\" font-size=\"10.00\">1</text>\n</g>\n<!-- selection_G6 -->\n<g id=\"node8\" class=\"node\">\n<title>selection_G6</title>\n<text text-anchor=\"middle\" x=\"388.5\" y=\"-284.3\" font-family=\"Times,serif\" font-size=\"14.00\">selection</text>\n</g>\n<!-- SparseStatePreparationAliasSampling&#45;&gt;selection_G6 -->\n<g id=\"edge7\" class=\"edge\">\n<title>SparseStatePreparationAliasSampling:e-&gt;selection_G6:w</title>\n<path fill=\"none\" stroke=\"black\" d=\"M300,-206C342.91,-206 312,-284.83 352.02,-287.91\"/>\n<ellipse fill=\"black\" stroke=\"black\" cx=\"353.5\" cy=\"-287.96\" rx=\"1\" ry=\"1\"/>\n<text text-anchor=\"middle\" x=\"318.5\" y=\"-217\" font-family=\"Times,serif\" font-size=\"10.00\">4</text>\n</g>\n<!-- sigma_mu_G12 -->\n<g id=\"node9\" class=\"node\">\n<title>sigma_mu_G12</title>\n<text text-anchor=\"middle\" x=\"388.5\" y=\"-230.3\" font-family=\"Times,serif\" font-size=\"14.00\">sigma_mu</text>\n</g>\n<!-- SparseStatePreparationAliasSampling&#45;&gt;sigma_mu_G12 -->\n<g id=\"edge8\" class=\"edge\">\n<title>SparseStatePreparationAliasSampling:e-&gt;sigma_mu_G12:w</title>\n<path fill=\"none\" stroke=\"black\" d=\"M300,-185C330.54,-185 319.77,-231.73 348.37,-233.92\"/>\n<ellipse fill=\"black\" stroke=\"black\" cx=\"349.5\" cy=\"-233.96\" rx=\"1\" ry=\"1\"/>\n<text text-anchor=\"middle\" x=\"318.5\" y=\"-198\" font-family=\"Times,serif\" font-size=\"10.00\">3</text>\n</g>\n<!-- sparse_index_G9 -->\n<g id=\"node10\" class=\"node\">\n<title>sparse_index_G9</title>\n<text text-anchor=\"middle\" x=\"388.5\" y=\"-176.3\" font-family=\"Times,serif\" font-size=\"14.00\">sparse_index</text>\n</g>\n<!-- SparseStatePreparationAliasSampling&#45;&gt;sparse_index_G9 -->\n<g id=\"edge9\" class=\"edge\">\n<title>SparseStatePreparationAliasSampling:e-&gt;sparse_index_G9:w</title>\n<path fill=\"none\" stroke=\"black\" d=\"M300,-164C319.79,-164 322.69,-178.77 341.17,-179.93\"/>\n<ellipse fill=\"black\" stroke=\"black\" cx=\"342.5\" cy=\"-179.97\" rx=\"1\" ry=\"1\"/>\n<text text-anchor=\"middle\" x=\"318.5\" y=\"-173\" font-family=\"Times,serif\" font-size=\"10.00\">2</text>\n</g>\n<!-- alt_G14 -->\n<g id=\"node11\" class=\"node\">\n<title>alt_G14</title>\n<text text-anchor=\"middle\" x=\"388.5\" y=\"-122.3\" font-family=\"Times,serif\" font-size=\"14.00\">alt</text>\n</g>\n<!-- SparseStatePreparationAliasSampling&#45;&gt;alt_G14 -->\n<g id=\"edge10\" class=\"edge\">\n<title>SparseStatePreparationAliasSampling:e-&gt;alt_G14:w</title>\n<path fill=\"none\" stroke=\"black\" d=\"M300,-142C327.05,-142 332.4,-126.86 358.27,-126.04\"/>\n<ellipse fill=\"black\" stroke=\"black\" cx=\"359.5\" cy=\"-126.02\" rx=\"1\" ry=\"1\"/>\n<text text-anchor=\"middle\" x=\"318.5\" y=\"-141\" font-family=\"Times,serif\" font-size=\"10.00\">4</text>\n</g>\n<!-- keep_G15 -->\n<g id=\"node12\" class=\"node\">\n<title>keep_G15</title>\n<text text-anchor=\"middle\" x=\"388.5\" y=\"-68.3\" font-family=\"Times,serif\" font-size=\"14.00\">keep</text>\n</g>\n<!-- SparseStatePreparationAliasSampling&#45;&gt;keep_G15 -->\n<g id=\"edge11\" class=\"edge\">\n<title>SparseStatePreparationAliasSampling:e-&gt;keep_G15:w</title>\n<path fill=\"none\" stroke=\"black\" d=\"M300,-121C333.79,-121 326.28,-74.27 358.14,-72.08\"/>\n<ellipse fill=\"black\" stroke=\"black\" cx=\"359.5\" cy=\"-72.03\" rx=\"1\" ry=\"1\"/>\n<text text-anchor=\"middle\" x=\"318.5\" y=\"-116\" font-family=\"Times,serif\" font-size=\"10.00\">3</text>\n</g>\n<!-- less_than_equal_G2 -->\n<g id=\"node13\" class=\"node\">\n<title>less_than_equal_G2</title>\n<text text-anchor=\"middle\" x=\"388.5\" y=\"-14.3\" font-family=\"Times,serif\" font-size=\"14.00\">less_than_equal</text>\n</g>\n<!-- SparseStatePreparationAliasSampling&#45;&gt;less_than_equal_G2 -->\n<g id=\"edge12\" class=\"edge\">\n<title>SparseStatePreparationAliasSampling:e-&gt;less_than_equal_G2:w</title>\n<path fill=\"none\" stroke=\"black\" d=\"M300,-100C339.2,-100 298.66,-21.17 334.75,-18.09\"/>\n<ellipse fill=\"black\" stroke=\"black\" cx=\"336\" cy=\"-18.04\" rx=\"1\" ry=\"1\"/>\n<text text-anchor=\"middle\" x=\"318.5\" y=\"-85\" font-family=\"Times,serif\" font-size=\"10.00\">1</text>\n</g>\n</g>\n</svg>",
          "text/plain": "<IPython.core.display.SVG object>"
         },
         "metadata": {},
         "output_type": "display_data"
        }
       ],
       "tabbable": null,
       "tooltip": null
      }
     },
     "915ae58142694775bbbfa9fb8399368e": {
      "model_module": "@jupyter-widgets/base",
      "model_module_version": "2.0.0",
      "model_name": "LayoutModel",
      "state": {
       "_model_module": "@jupyter-widgets/base",
       "_model_module_version": "2.0.0",
       "_model_name": "LayoutModel",
       "_view_count": null,
       "_view_module": "@jupyter-widgets/base",
       "_view_module_version": "2.0.0",
       "_view_name": "LayoutView",
       "align_content": null,
       "align_items": null,
       "align_self": null,
       "border_bottom": null,
       "border_left": null,
       "border_right": null,
       "border_top": null,
       "bottom": null,
       "display": null,
       "flex": null,
       "flex_flow": null,
       "grid_area": null,
       "grid_auto_columns": null,
       "grid_auto_flow": null,
       "grid_auto_rows": null,
       "grid_column": null,
       "grid_gap": null,
       "grid_row": null,
       "grid_template_areas": null,
       "grid_template_columns": null,
       "grid_template_rows": null,
       "height": null,
       "justify_content": null,
       "justify_items": null,
       "left": null,
       "margin": null,
       "max_height": null,
       "max_width": null,
       "min_height": null,
       "min_width": null,
       "object_fit": null,
       "object_position": null,
       "order": null,
       "overflow": null,
       "padding": null,
       "right": null,
       "top": null,
       "visibility": null,
       "width": null
      }
     },
     "9a13c6467ee04df79b349133d43a3b2e": {
      "model_module": "@jupyter-widgets/output",
      "model_module_version": "1.0.0",
      "model_name": "OutputModel",
      "state": {
       "_dom_classes": [],
       "_model_module": "@jupyter-widgets/output",
       "_model_module_version": "1.0.0",
       "_model_name": "OutputModel",
       "_view_count": null,
       "_view_module": "@jupyter-widgets/output",
       "_view_module_version": "1.0.0",
       "_view_name": "OutputView",
       "layout": "IPY_MODEL_351ac22383504834aedaa06d33e96d07",
       "msg_id": "",
       "outputs": [
        {
         "data": {
          "text/markdown": "`sparse_state_prep_alias_from_list`",
          "text/plain": "<IPython.core.display.Markdown object>"
         },
         "metadata": {},
         "output_type": "display_data"
        },
        {
         "data": {
          "image/svg+xml": "<svg xmlns=\"http://www.w3.org/2000/svg\" xmlns:xlink=\"http://www.w3.org/1999/xlink\" width=\"448pt\" height=\"314pt\" viewBox=\"0.00 0.00 448.00 314.00\">\n<g id=\"graph0\" class=\"graph\" transform=\"scale(1 1) rotate(0) translate(4 310)\">\n<title>my_graph</title>\n<polygon fill=\"white\" stroke=\"transparent\" points=\"-4,4 -4,-310 444,-310 444,4 -4,4\"/>\n<!-- selection_G5 -->\n<g id=\"node1\" class=\"node\">\n<title>selection_G5</title>\n<text text-anchor=\"middle\" x=\"51.5\" y=\"-284.3\" font-family=\"Times,serif\" font-size=\"14.00\">selection</text>\n</g>\n<!-- SparseStatePreparationAliasSampling -->\n<g id=\"node7\" class=\"node\">\n<title>SparseStatePreparationAliasSampling</title>\n<polygon fill=\"none\" stroke=\"black\" points=\"140,-216 140,-233 300,-233 300,-216 140,-216\"/>\n<text text-anchor=\"start\" x=\"143\" y=\"-222\" font-family=\"Times,serif\" font-size=\"10.00\">SparseStatePreparationAliasSampling</text>\n<polygon fill=\"none\" stroke=\"black\" points=\"140,-195 140,-216 300,-216 300,-195 140,-195\"/>\n<text text-anchor=\"start\" x=\"195.5\" y=\"-201.8\" font-family=\"Times,serif\" font-size=\"14.00\">selection</text>\n<polygon fill=\"none\" stroke=\"black\" points=\"140,-174 140,-195 300,-195 300,-174 140,-174\"/>\n<text text-anchor=\"start\" x=\"191\" y=\"-180.8\" font-family=\"Times,serif\" font-size=\"14.00\">sigma_mu</text>\n<polygon fill=\"none\" stroke=\"black\" points=\"140,-153 140,-174 300,-174 300,-153 140,-153\"/>\n<text text-anchor=\"start\" x=\"184.5\" y=\"-159.8\" font-family=\"Times,serif\" font-size=\"14.00\">sparse_index</text>\n<polygon fill=\"none\" stroke=\"black\" points=\"140,-132 140,-153 300,-153 300,-132 140,-132\"/>\n<text text-anchor=\"start\" x=\"213\" y=\"-138.8\" font-family=\"Times,serif\" font-size=\"14.00\">alt</text>\n<polygon fill=\"none\" stroke=\"black\" points=\"140,-111 140,-132 300,-132 300,-111 140,-111\"/>\n<text text-anchor=\"start\" x=\"207\" y=\"-117.8\" font-family=\"Times,serif\" font-size=\"14.00\">keep</text>\n<polygon fill=\"none\" stroke=\"black\" points=\"140,-90 140,-111 300,-111 300,-90 140,-90\"/>\n<text text-anchor=\"start\" x=\"176.5\" y=\"-96.8\" font-family=\"Times,serif\" font-size=\"14.00\">less_than_equal</text>\n</g>\n<!-- selection_G5&#45;&gt;SparseStatePreparationAliasSampling -->\n<g id=\"edge1\" class=\"edge\">\n<title>selection_G5:e-&gt;SparseStatePreparationAliasSampling:w</title>\n<path fill=\"none\" stroke=\"black\" d=\"M85.5,-288C128.41,-288 97.5,-209.17 137.52,-206.09\"/>\n<ellipse fill=\"black\" stroke=\"black\" cx=\"139\" cy=\"-206.04\" rx=\"1\" ry=\"1\"/>\n<text text-anchor=\"middle\" x=\"121.5\" y=\"-217\" font-family=\"Times,serif\" font-size=\"10.00\">4</text>\n</g>\n<!-- sigma_mu_G7 -->\n<g id=\"node2\" class=\"node\">\n<title>sigma_mu_G7</title>\n<text text-anchor=\"middle\" x=\"51.5\" y=\"-230.3\" font-family=\"Times,serif\" font-size=\"14.00\">sigma_mu</text>\n</g>\n<!-- sigma_mu_G7&#45;&gt;SparseStatePreparationAliasSampling -->\n<g id=\"edge2\" class=\"edge\">\n<title>sigma_mu_G7:e-&gt;SparseStatePreparationAliasSampling:w</title>\n<path fill=\"none\" stroke=\"black\" d=\"M89.5,-234C120.04,-234 109.27,-187.27 137.87,-185.08\"/>\n<ellipse fill=\"black\" stroke=\"black\" cx=\"139\" cy=\"-185.04\" rx=\"1\" ry=\"1\"/>\n<text text-anchor=\"middle\" x=\"121.5\" y=\"-198\" font-family=\"Times,serif\" font-size=\"10.00\">3</text>\n</g>\n<!-- sparse_index_G4 -->\n<g id=\"node3\" class=\"node\">\n<title>sparse_index_G4</title>\n<text text-anchor=\"middle\" x=\"51.5\" y=\"-176.3\" font-family=\"Times,serif\" font-size=\"14.00\">sparse_index</text>\n</g>\n<!-- sparse_index_G4&#45;&gt;SparseStatePreparationAliasSampling -->\n<g id=\"edge3\" class=\"edge\">\n<title>sparse_index_G4:e-&gt;SparseStatePreparationAliasSampling:w</title>\n<path fill=\"none\" stroke=\"black\" d=\"M96.5,-180C116.29,-180 119.19,-165.23 137.67,-164.07\"/>\n<ellipse fill=\"black\" stroke=\"black\" cx=\"139\" cy=\"-164.03\" rx=\"1\" ry=\"1\"/>\n<text text-anchor=\"middle\" x=\"121.5\" y=\"-173\" font-family=\"Times,serif\" font-size=\"10.00\">2</text>\n</g>\n<!-- alt_G0 -->\n<g id=\"node4\" class=\"node\">\n<title>alt_G0</title>\n<text text-anchor=\"middle\" x=\"51.5\" y=\"-122.3\" font-family=\"Times,serif\" font-size=\"14.00\">alt</text>\n</g>\n<!-- alt_G0&#45;&gt;SparseStatePreparationAliasSampling -->\n<g id=\"edge4\" class=\"edge\">\n<title>alt_G0:e-&gt;SparseStatePreparationAliasSampling:w</title>\n<path fill=\"none\" stroke=\"black\" d=\"M79.5,-126C106.55,-126 111.9,-141.14 137.77,-141.96\"/>\n<ellipse fill=\"black\" stroke=\"black\" cx=\"139\" cy=\"-141.98\" rx=\"1\" ry=\"1\"/>\n<text text-anchor=\"middle\" x=\"121.5\" y=\"-141\" font-family=\"Times,serif\" font-size=\"10.00\">4</text>\n</g>\n<!-- keep_G17 -->\n<g id=\"node5\" class=\"node\">\n<title>keep_G17</title>\n<text text-anchor=\"middle\" x=\"51.5\" y=\"-68.3\" font-family=\"Times,serif\" font-size=\"14.00\">keep</text>\n</g>\n<!-- keep_G17&#45;&gt;SparseStatePreparationAliasSampling -->\n<g id=\"edge5\" class=\"edge\">\n<title>keep_G17:e-&gt;SparseStatePreparationAliasSampling:w</title>\n<path fill=\"none\" stroke=\"black\" d=\"M79.5,-72C113.29,-72 105.78,-118.73 137.64,-120.92\"/>\n<ellipse fill=\"black\" stroke=\"black\" cx=\"139\" cy=\"-120.97\" rx=\"1\" ry=\"1\"/>\n<text text-anchor=\"middle\" x=\"121.5\" y=\"-116\" font-family=\"Times,serif\" font-size=\"10.00\">3</text>\n</g>\n<!-- less_than_equal_G8 -->\n<g id=\"node6\" class=\"node\">\n<title>less_than_equal_G8</title>\n<text text-anchor=\"middle\" x=\"51.5\" y=\"-14.3\" font-family=\"Times,serif\" font-size=\"14.00\">less_than_equal</text>\n</g>\n<!-- less_than_equal_G8&#45;&gt;SparseStatePreparationAliasSampling -->\n<g id=\"edge6\" class=\"edge\">\n<title>less_than_equal_G8:e-&gt;SparseStatePreparationAliasSampling:w</title>\n<path fill=\"none\" stroke=\"black\" d=\"M103,-18C142.2,-18 101.66,-96.83 137.75,-99.91\"/>\n<ellipse fill=\"black\" stroke=\"black\" cx=\"139\" cy=\"-99.96\" rx=\"1\" ry=\"1\"/>\n<text text-anchor=\"middle\" x=\"121.5\" y=\"-85\" font-family=\"Times,serif\" font-size=\"10.00\">1</text>\n</g>\n<!-- selection_G6 -->\n<g id=\"node8\" class=\"node\">\n<title>selection_G6</title>\n<text text-anchor=\"middle\" x=\"388.5\" y=\"-284.3\" font-family=\"Times,serif\" font-size=\"14.00\">selection</text>\n</g>\n<!-- SparseStatePreparationAliasSampling&#45;&gt;selection_G6 -->\n<g id=\"edge7\" class=\"edge\">\n<title>SparseStatePreparationAliasSampling:e-&gt;selection_G6:w</title>\n<path fill=\"none\" stroke=\"black\" d=\"M300,-206C342.91,-206 312,-284.83 352.02,-287.91\"/>\n<ellipse fill=\"black\" stroke=\"black\" cx=\"353.5\" cy=\"-287.96\" rx=\"1\" ry=\"1\"/>\n<text text-anchor=\"middle\" x=\"318.5\" y=\"-217\" font-family=\"Times,serif\" font-size=\"10.00\">4</text>\n</g>\n<!-- sigma_mu_G12 -->\n<g id=\"node9\" class=\"node\">\n<title>sigma_mu_G12</title>\n<text text-anchor=\"middle\" x=\"388.5\" y=\"-230.3\" font-family=\"Times,serif\" font-size=\"14.00\">sigma_mu</text>\n</g>\n<!-- SparseStatePreparationAliasSampling&#45;&gt;sigma_mu_G12 -->\n<g id=\"edge8\" class=\"edge\">\n<title>SparseStatePreparationAliasSampling:e-&gt;sigma_mu_G12:w</title>\n<path fill=\"none\" stroke=\"black\" d=\"M300,-185C330.54,-185 319.77,-231.73 348.37,-233.92\"/>\n<ellipse fill=\"black\" stroke=\"black\" cx=\"349.5\" cy=\"-233.96\" rx=\"1\" ry=\"1\"/>\n<text text-anchor=\"middle\" x=\"318.5\" y=\"-198\" font-family=\"Times,serif\" font-size=\"10.00\">3</text>\n</g>\n<!-- sparse_index_G9 -->\n<g id=\"node10\" class=\"node\">\n<title>sparse_index_G9</title>\n<text text-anchor=\"middle\" x=\"388.5\" y=\"-176.3\" font-family=\"Times,serif\" font-size=\"14.00\">sparse_index</text>\n</g>\n<!-- SparseStatePreparationAliasSampling&#45;&gt;sparse_index_G9 -->\n<g id=\"edge9\" class=\"edge\">\n<title>SparseStatePreparationAliasSampling:e-&gt;sparse_index_G9:w</title>\n<path fill=\"none\" stroke=\"black\" d=\"M300,-164C319.79,-164 322.69,-178.77 341.17,-179.93\"/>\n<ellipse fill=\"black\" stroke=\"black\" cx=\"342.5\" cy=\"-179.97\" rx=\"1\" ry=\"1\"/>\n<text text-anchor=\"middle\" x=\"318.5\" y=\"-173\" font-family=\"Times,serif\" font-size=\"10.00\">2</text>\n</g>\n<!-- alt_G14 -->\n<g id=\"node11\" class=\"node\">\n<title>alt_G14</title>\n<text text-anchor=\"middle\" x=\"388.5\" y=\"-122.3\" font-family=\"Times,serif\" font-size=\"14.00\">alt</text>\n</g>\n<!-- SparseStatePreparationAliasSampling&#45;&gt;alt_G14 -->\n<g id=\"edge10\" class=\"edge\">\n<title>SparseStatePreparationAliasSampling:e-&gt;alt_G14:w</title>\n<path fill=\"none\" stroke=\"black\" d=\"M300,-142C327.05,-142 332.4,-126.86 358.27,-126.04\"/>\n<ellipse fill=\"black\" stroke=\"black\" cx=\"359.5\" cy=\"-126.02\" rx=\"1\" ry=\"1\"/>\n<text text-anchor=\"middle\" x=\"318.5\" y=\"-141\" font-family=\"Times,serif\" font-size=\"10.00\">4</text>\n</g>\n<!-- keep_G15 -->\n<g id=\"node12\" class=\"node\">\n<title>keep_G15</title>\n<text text-anchor=\"middle\" x=\"388.5\" y=\"-68.3\" font-family=\"Times,serif\" font-size=\"14.00\">keep</text>\n</g>\n<!-- SparseStatePreparationAliasSampling&#45;&gt;keep_G15 -->\n<g id=\"edge11\" class=\"edge\">\n<title>SparseStatePreparationAliasSampling:e-&gt;keep_G15:w</title>\n<path fill=\"none\" stroke=\"black\" d=\"M300,-121C333.79,-121 326.28,-74.27 358.14,-72.08\"/>\n<ellipse fill=\"black\" stroke=\"black\" cx=\"359.5\" cy=\"-72.03\" rx=\"1\" ry=\"1\"/>\n<text text-anchor=\"middle\" x=\"318.5\" y=\"-116\" font-family=\"Times,serif\" font-size=\"10.00\">3</text>\n</g>\n<!-- less_than_equal_G2 -->\n<g id=\"node13\" class=\"node\">\n<title>less_than_equal_G2</title>\n<text text-anchor=\"middle\" x=\"388.5\" y=\"-14.3\" font-family=\"Times,serif\" font-size=\"14.00\">less_than_equal</text>\n</g>\n<!-- SparseStatePreparationAliasSampling&#45;&gt;less_than_equal_G2 -->\n<g id=\"edge12\" class=\"edge\">\n<title>SparseStatePreparationAliasSampling:e-&gt;less_than_equal_G2:w</title>\n<path fill=\"none\" stroke=\"black\" d=\"M300,-100C339.2,-100 298.66,-21.17 334.75,-18.09\"/>\n<ellipse fill=\"black\" stroke=\"black\" cx=\"336\" cy=\"-18.04\" rx=\"1\" ry=\"1\"/>\n<text text-anchor=\"middle\" x=\"318.5\" y=\"-85\" font-family=\"Times,serif\" font-size=\"10.00\">1</text>\n</g>\n</g>\n</svg>",
          "text/plain": "<IPython.core.display.SVG object>"
         },
         "metadata": {},
         "output_type": "display_data"
        }
       ],
       "tabbable": null,
       "tooltip": null
      }
     },
     "a5e83dbb08c043ce8c6769a7da973db9": {
      "model_module": "@jupyter-widgets/output",
      "model_module_version": "1.0.0",
      "model_name": "OutputModel",
      "state": {
       "_dom_classes": [],
       "_model_module": "@jupyter-widgets/output",
       "_model_module_version": "1.0.0",
       "_model_name": "OutputModel",
       "_view_count": null,
       "_view_module": "@jupyter-widgets/output",
       "_view_module_version": "1.0.0",
       "_view_name": "OutputView",
       "layout": "IPY_MODEL_1dd716e896944c40a583e1af45becdd0",
       "msg_id": "",
       "outputs": [
        {
         "data": {
          "text/markdown": "`state_prep_alias_symb`",
          "text/plain": "<IPython.core.display.Markdown object>"
         },
         "metadata": {},
         "output_type": "display_data"
        },
        {
         "data": {
          "image/svg+xml": "<svg xmlns=\"http://www.w3.org/2000/svg\" xmlns:xlink=\"http://www.w3.org/1999/xlink\" width=\"422pt\" height=\"260pt\" viewBox=\"0.00 0.00 422.00 260.00\">\n<g id=\"graph0\" class=\"graph\" transform=\"scale(1 1) rotate(0) translate(4 256)\">\n<title>my_graph</title>\n<polygon fill=\"white\" stroke=\"transparent\" points=\"-4,4 -4,-256 418,-256 418,4 -4,4\"/>\n<!-- selection_G1 -->\n<g id=\"node1\" class=\"node\">\n<title>selection_G1</title>\n<text text-anchor=\"middle\" x=\"51.5\" y=\"-230.3\" font-family=\"Times,serif\" font-size=\"14.00\">selection</text>\n</g>\n<!-- StatePreparationAliasSampling -->\n<g id=\"node6\" class=\"node\">\n<title>StatePreparationAliasSampling</title>\n<polygon fill=\"none\" stroke=\"black\" points=\"140,-179 140,-196 274,-196 274,-179 140,-179\"/>\n<text text-anchor=\"start\" x=\"143\" y=\"-185\" font-family=\"Times,serif\" font-size=\"10.00\">StatePreparationAliasSampling</text>\n<polygon fill=\"none\" stroke=\"black\" points=\"140,-158 140,-179 274,-179 274,-158 140,-158\"/>\n<text text-anchor=\"start\" x=\"182.5\" y=\"-164.8\" font-family=\"Times,serif\" font-size=\"14.00\">selection</text>\n<polygon fill=\"none\" stroke=\"black\" points=\"140,-137 140,-158 274,-158 274,-137 140,-137\"/>\n<text text-anchor=\"start\" x=\"178\" y=\"-143.8\" font-family=\"Times,serif\" font-size=\"14.00\">sigma_mu</text>\n<polygon fill=\"none\" stroke=\"black\" points=\"140,-116 140,-137 274,-137 274,-116 140,-116\"/>\n<text text-anchor=\"start\" x=\"200\" y=\"-122.8\" font-family=\"Times,serif\" font-size=\"14.00\">alt</text>\n<polygon fill=\"none\" stroke=\"black\" points=\"140,-95 140,-116 274,-116 274,-95 140,-95\"/>\n<text text-anchor=\"start\" x=\"194\" y=\"-101.8\" font-family=\"Times,serif\" font-size=\"14.00\">keep</text>\n<polygon fill=\"none\" stroke=\"black\" points=\"140,-74 140,-95 274,-95 274,-74 140,-74\"/>\n<text text-anchor=\"start\" x=\"163.5\" y=\"-80.8\" font-family=\"Times,serif\" font-size=\"14.00\">less_than_equal</text>\n</g>\n<!-- selection_G1&#45;&gt;StatePreparationAliasSampling -->\n<g id=\"edge1\" class=\"edge\">\n<title>selection_G1:e-&gt;StatePreparationAliasSampling:w</title>\n<path fill=\"none\" stroke=\"black\" d=\"M85.5,-234C122.46,-234 103.09,-171.51 137.86,-169.07\"/>\n<ellipse fill=\"black\" stroke=\"black\" cx=\"139\" cy=\"-169.03\" rx=\"1\" ry=\"1\"/>\n<text text-anchor=\"middle\" x=\"121.5\" y=\"-181\" font-family=\"Times,serif\" font-size=\"10.00\">ceiling(log2(floor(L)))</text>\n</g>\n<!-- sigma_mu_G4 -->\n<g id=\"node2\" class=\"node\">\n<title>sigma_mu_G4</title>\n<text text-anchor=\"middle\" x=\"51.5\" y=\"-176.3\" font-family=\"Times,serif\" font-size=\"14.00\">sigma_mu</text>\n</g>\n<!-- sigma_mu_G4&#45;&gt;StatePreparationAliasSampling -->\n<g id=\"edge2\" class=\"edge\">\n<title>sigma_mu_G4:e-&gt;StatePreparationAliasSampling:w</title>\n<path fill=\"none\" stroke=\"black\" d=\"M89.5,-180C115.34,-180 113.55,-149.73 137.88,-148.07\"/>\n<ellipse fill=\"black\" stroke=\"black\" cx=\"139\" cy=\"-148.03\" rx=\"1\" ry=\"1\"/>\n<text text-anchor=\"start\" x=\"79.5\" y=\"-169\" font-family=\"Times,serif\" font-size=\"10.00\">ceiling(log2(</text>\n<text text-anchor=\"middle\" x=\"121.5\" y=\"-158\" font-family=\"Times,serif\" font-size=\"10.00\">ambda/(L*epsilon)))</text>\n</g>\n<!-- alt_G0 -->\n<g id=\"node3\" class=\"node\">\n<title>alt_G0</title>\n<text text-anchor=\"middle\" x=\"51.5\" y=\"-122.3\" font-family=\"Times,serif\" font-size=\"14.00\">alt</text>\n</g>\n<!-- alt_G0&#45;&gt;StatePreparationAliasSampling -->\n<g id=\"edge3\" class=\"edge\">\n<title>alt_G0:e-&gt;StatePreparationAliasSampling:w</title>\n<path fill=\"none\" stroke=\"black\" d=\"M79.5,-126C105.65,-126 112.73,-126 137.84,-126\"/>\n<ellipse fill=\"black\" stroke=\"black\" cx=\"139\" cy=\"-126\" rx=\"1\" ry=\"1\"/>\n<text text-anchor=\"middle\" x=\"121.5\" y=\"-129\" font-family=\"Times,serif\" font-size=\"10.00\">ceiling(log2(floor(L)))</text>\n</g>\n<!-- keep_G2 -->\n<g id=\"node4\" class=\"node\">\n<title>keep_G2</title>\n<text text-anchor=\"middle\" x=\"51.5\" y=\"-68.3\" font-family=\"Times,serif\" font-size=\"14.00\">keep</text>\n</g>\n<!-- keep_G2&#45;&gt;StatePreparationAliasSampling -->\n<g id=\"edge4\" class=\"edge\">\n<title>keep_G2:e-&gt;StatePreparationAliasSampling:w</title>\n<path fill=\"none\" stroke=\"black\" d=\"M79.5,-72C109.41,-72 109.39,-103.47 137.9,-104.95\"/>\n<ellipse fill=\"black\" stroke=\"black\" cx=\"139\" cy=\"-104.97\" rx=\"1\" ry=\"1\"/>\n<text text-anchor=\"start\" x=\"79.5\" y=\"-113\" font-family=\"Times,serif\" font-size=\"10.00\">ceiling(log2(</text>\n<text text-anchor=\"middle\" x=\"121.5\" y=\"-102\" font-family=\"Times,serif\" font-size=\"10.00\">ambda/(L*epsilon)))</text>\n</g>\n<!-- less_than_equal_G10 -->\n<g id=\"node5\" class=\"node\">\n<title>less_than_equal_G10</title>\n<text text-anchor=\"middle\" x=\"51.5\" y=\"-14.3\" font-family=\"Times,serif\" font-size=\"14.00\">less_than_equal</text>\n</g>\n<!-- less_than_equal_G10&#45;&gt;StatePreparationAliasSampling -->\n<g id=\"edge5\" class=\"edge\">\n<title>less_than_equal_G10:e-&gt;StatePreparationAliasSampling:w</title>\n<path fill=\"none\" stroke=\"black\" d=\"M103,-18C135.84,-18 107.75,-80.94 137.74,-83.89\"/>\n<ellipse fill=\"black\" stroke=\"black\" cx=\"139\" cy=\"-83.95\" rx=\"1\" ry=\"1\"/>\n<text text-anchor=\"middle\" x=\"121.5\" y=\"-62\" font-family=\"Times,serif\" font-size=\"10.00\">1</text>\n</g>\n<!-- selection_G13 -->\n<g id=\"node7\" class=\"node\">\n<title>selection_G13</title>\n<text text-anchor=\"middle\" x=\"362.5\" y=\"-230.3\" font-family=\"Times,serif\" font-size=\"14.00\">selection</text>\n</g>\n<!-- StatePreparationAliasSampling&#45;&gt;selection_G13 -->\n<g id=\"edge6\" class=\"edge\">\n<title>StatePreparationAliasSampling:e-&gt;selection_G13:w</title>\n<path fill=\"none\" stroke=\"black\" d=\"M274,-169C310.96,-169 291.59,-231.49 326.36,-233.93\"/>\n<ellipse fill=\"black\" stroke=\"black\" cx=\"327.5\" cy=\"-233.97\" rx=\"1\" ry=\"1\"/>\n<text text-anchor=\"middle\" x=\"292.5\" y=\"-181\" font-family=\"Times,serif\" font-size=\"10.00\">ceiling(log2(floor(L)))</text>\n</g>\n<!-- sigma_mu_G11 -->\n<g id=\"node8\" class=\"node\">\n<title>sigma_mu_G11</title>\n<text text-anchor=\"middle\" x=\"362.5\" y=\"-176.3\" font-family=\"Times,serif\" font-size=\"14.00\">sigma_mu</text>\n</g>\n<!-- StatePreparationAliasSampling&#45;&gt;sigma_mu_G11 -->\n<g id=\"edge7\" class=\"edge\">\n<title>StatePreparationAliasSampling:e-&gt;sigma_mu_G11:w</title>\n<path fill=\"none\" stroke=\"black\" d=\"M274,-148C299.84,-148 298.05,-178.27 322.38,-179.93\"/>\n<ellipse fill=\"black\" stroke=\"black\" cx=\"323.5\" cy=\"-179.97\" rx=\"1\" ry=\"1\"/>\n<text text-anchor=\"start\" x=\"250.5\" y=\"-169\" font-family=\"Times,serif\" font-size=\"10.00\">ceiling(log2(</text>\n<text text-anchor=\"middle\" x=\"292.5\" y=\"-158\" font-family=\"Times,serif\" font-size=\"10.00\">ambda/(L*epsilon)))</text>\n</g>\n<!-- alt_G12 -->\n<g id=\"node9\" class=\"node\">\n<title>alt_G12</title>\n<text text-anchor=\"middle\" x=\"362.5\" y=\"-122.3\" font-family=\"Times,serif\" font-size=\"14.00\">alt</text>\n</g>\n<!-- StatePreparationAliasSampling&#45;&gt;alt_G12 -->\n<g id=\"edge8\" class=\"edge\">\n<title>StatePreparationAliasSampling:e-&gt;alt_G12:w</title>\n<path fill=\"none\" stroke=\"black\" d=\"M274,-126C300.15,-126 307.23,-126 332.34,-126\"/>\n<ellipse fill=\"black\" stroke=\"black\" cx=\"333.5\" cy=\"-126\" rx=\"1\" ry=\"1\"/>\n<text text-anchor=\"middle\" x=\"292.5\" y=\"-129\" font-family=\"Times,serif\" font-size=\"10.00\">ceiling(log2(floor(L)))</text>\n</g>\n<!-- keep_G5 -->\n<g id=\"node10\" class=\"node\">\n<title>keep_G5</title>\n<text text-anchor=\"middle\" x=\"362.5\" y=\"-68.3\" font-family=\"Times,serif\" font-size=\"14.00\">keep</text>\n</g>\n<!-- StatePreparationAliasSampling&#45;&gt;keep_G5 -->\n<g id=\"edge9\" class=\"edge\">\n<title>StatePreparationAliasSampling:e-&gt;keep_G5:w</title>\n<path fill=\"none\" stroke=\"black\" d=\"M274,-105C303.91,-105 303.89,-73.53 332.4,-72.05\"/>\n<ellipse fill=\"black\" stroke=\"black\" cx=\"333.5\" cy=\"-72.03\" rx=\"1\" ry=\"1\"/>\n<text text-anchor=\"start\" x=\"250.5\" y=\"-113\" font-family=\"Times,serif\" font-size=\"10.00\">ceiling(log2(</text>\n<text text-anchor=\"middle\" x=\"292.5\" y=\"-102\" font-family=\"Times,serif\" font-size=\"10.00\">ambda/(L*epsilon)))</text>\n</g>\n<!-- less_than_equal_G3 -->\n<g id=\"node11\" class=\"node\">\n<title>less_than_equal_G3</title>\n<text text-anchor=\"middle\" x=\"362.5\" y=\"-14.3\" font-family=\"Times,serif\" font-size=\"14.00\">less_than_equal</text>\n</g>\n<!-- StatePreparationAliasSampling&#45;&gt;less_than_equal_G3 -->\n<g id=\"edge10\" class=\"edge\">\n<title>StatePreparationAliasSampling:e-&gt;less_than_equal_G3:w</title>\n<path fill=\"none\" stroke=\"black\" d=\"M274,-84C306.84,-84 278.75,-21.06 308.74,-18.11\"/>\n<ellipse fill=\"black\" stroke=\"black\" cx=\"310\" cy=\"-18.05\" rx=\"1\" ry=\"1\"/>\n<text text-anchor=\"middle\" x=\"292.5\" y=\"-62\" font-family=\"Times,serif\" font-size=\"10.00\">1</text>\n</g>\n</g>\n</svg>",
          "text/plain": "<IPython.core.display.SVG object>"
         },
         "metadata": {},
         "output_type": "display_data"
        }
       ],
       "tabbable": null,
       "tooltip": null
      }
     },
     "cb1f5213c7904a6d95b95a95c4262144": {
      "model_module": "@jupyter-widgets/base",
      "model_module_version": "2.0.0",
      "model_name": "LayoutModel",
      "state": {
       "_model_module": "@jupyter-widgets/base",
       "_model_module_version": "2.0.0",
       "_model_name": "LayoutModel",
       "_view_count": null,
       "_view_module": "@jupyter-widgets/base",
       "_view_module_version": "2.0.0",
       "_view_name": "LayoutView",
       "align_content": null,
       "align_items": null,
       "align_self": null,
       "border_bottom": null,
       "border_left": null,
       "border_right": null,
       "border_top": null,
       "bottom": null,
       "display": null,
       "flex": null,
       "flex_flow": null,
       "grid_area": null,
       "grid_auto_columns": null,
       "grid_auto_flow": null,
       "grid_auto_rows": null,
       "grid_column": null,
       "grid_gap": null,
       "grid_row": null,
       "grid_template_areas": null,
       "grid_template_columns": null,
       "grid_template_rows": null,
       "height": null,
       "justify_content": null,
       "justify_items": null,
       "left": null,
       "margin": null,
       "max_height": null,
       "max_width": null,
       "min_height": null,
       "min_width": null,
       "object_fit": null,
       "object_position": null,
       "order": null,
       "overflow": null,
       "padding": null,
       "right": null,
       "top": null,
       "visibility": null,
       "width": null
      }
     },
     "e1f3557421c646239c280452d89adc77": {
      "model_module": "@jupyter-widgets/controls",
      "model_module_version": "2.0.0",
      "model_name": "HBoxModel",
      "state": {
       "_dom_classes": [],
       "_model_module": "@jupyter-widgets/controls",
       "_model_module_version": "2.0.0",
       "_model_name": "HBoxModel",
       "_view_count": null,
       "_view_module": "@jupyter-widgets/controls",
       "_view_module_version": "2.0.0",
       "_view_name": "HBoxView",
       "box_style": "",
       "children": [
        "IPY_MODEL_65ad6411c1b94345a35d20b7dff85dba",
        "IPY_MODEL_a5e83dbb08c043ce8c6769a7da973db9"
       ],
       "layout": "IPY_MODEL_cb1f5213c7904a6d95b95a95c4262144",
       "tabbable": null,
       "tooltip": null
      }
     }
    },
    "version_major": 2,
    "version_minor": 0
   }
  }
 },
 "nbformat": 4,
 "nbformat_minor": 5
}
