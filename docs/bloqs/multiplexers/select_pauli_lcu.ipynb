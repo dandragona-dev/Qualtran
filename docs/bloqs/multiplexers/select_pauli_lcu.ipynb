{
 "cells": [
  {
   "cell_type": "markdown",
   "id": "ea8ed4b7",
   "metadata": {
    "cq.autogen": "title_cell"
   },
   "source": [
    "# Generic Select\n",
    "\n",
    "Bloqs for applying SELECT unitary for LCU of Pauli Strings."
   ]
  },
  {
   "cell_type": "code",
   "execution_count": 1,
   "id": "ec00185c",
   "metadata": {
    "cq.autogen": "top_imports"
   },
   "outputs": [],
   "source": [
    "from qualtran import Bloq, CompositeBloq, BloqBuilder, Signature, Register\n",
    "from qualtran import QBit, QInt, QUInt, QAny\n",
    "from qualtran.drawing import show_bloq, show_call_graph, show_counts_sigma\n",
    "from typing import *\n",
    "import numpy as np\n",
    "import sympy\n",
    "import cirq"
   ]
  },
  {
   "cell_type": "markdown",
   "id": "1672a1ee",
   "metadata": {
    "cq.autogen": "SelectPauliLCU.bloq_doc.md"
   },
   "source": [
    "## `SelectPauliLCU`\n",
    "A SELECT bloq for selecting and applying operators from an array of `PauliString`s.\n",
    "\n",
    "$$\n",
    "\\mathrm{SELECT} = \\sum_{l}|l \\rangle \\langle l| \\otimes U_l\n",
    "$$\n",
    "\n",
    "Where $U_l$ is a member of the Pauli group.\n",
    "\n",
    "This bloq uses the unary iteration scheme to apply `select_unitaries[selection]` to `target`\n",
    "controlled on the single-bit `control` register.\n",
    "\n",
    "#### Parameters\n",
    " - `selection_bitsize`: The size of the indexing `select` register. This should be at least `log2(len(select_unitaries))`\n",
    " - `target_bitsize`: The size of the `target` register.\n",
    " - `select_unitaries`: List of `DensePauliString`s to apply to the `target` register. Each dense pauli string must contain `target_bitsize` terms.\n",
    " - `control_val`: Optional control value. If specified, a singly controlled gate is constructed.\n"
   ]
  },
  {
   "cell_type": "code",
   "execution_count": 2,
   "id": "118a3051",
   "metadata": {
    "cq.autogen": "SelectPauliLCU.bloq_doc.py"
   },
   "outputs": [],
   "source": [
    "from qualtran.bloqs.multiplexers.select_pauli_lcu import SelectPauliLCU"
   ]
  },
  {
   "cell_type": "markdown",
   "id": "0efc274b",
   "metadata": {
    "cq.autogen": "SelectPauliLCU.example_instances.md"
   },
   "source": [
    "### Example Instances"
   ]
  },
  {
   "cell_type": "code",
   "execution_count": 3,
   "id": "1d707ae3",
   "metadata": {
    "cq.autogen": "SelectPauliLCU.select_pauli_lcu"
   },
   "outputs": [],
   "source": [
    "target_bitsize = 4\n",
    "us = ['XIXI', 'YIYI', 'ZZZZ', 'ZXYZ']\n",
    "us = [cirq.DensePauliString(u) for u in us]\n",
    "selection_bitsize = int(np.ceil(np.log2(len(us))))\n",
    "select_pauli_lcu = SelectPauliLCU(selection_bitsize, target_bitsize, select_unitaries=us)"
   ]
  },
  {
   "cell_type": "markdown",
   "id": "094d37fa",
   "metadata": {
    "cq.autogen": "SelectPauliLCU.graphical_signature.md"
   },
   "source": [
    "#### Graphical Signature"
   ]
  },
  {
   "cell_type": "code",
   "execution_count": 4,
   "id": "d4c2c22a",
   "metadata": {
    "cq.autogen": "SelectPauliLCU.graphical_signature.py"
   },
   "outputs": [
    {
     "data": {
      "application/vnd.jupyter.widget-view+json": {
       "model_id": "0687ea441a524615b808287e90af50ad",
       "version_major": 2,
       "version_minor": 0
      },
      "text/plain": [
       "HBox(children=(Output(outputs=({'output_type': 'display_data', 'data': {'text/plain': '<IPython.core.display.M…"
      ]
     },
     "metadata": {},
     "output_type": "display_data"
    }
   ],
   "source": [
    "from qualtran.drawing import show_bloqs\n",
    "show_bloqs([select_pauli_lcu],\n",
    "           ['`select_pauli_lcu`'])"
   ]
  },
  {
   "cell_type": "markdown",
   "id": "a832dbef",
   "metadata": {
    "cq.autogen": "SelectPauliLCU.call_graph.md"
   },
   "source": [
    "### Call Graph"
   ]
  },
  {
   "cell_type": "code",
   "execution_count": 5,
   "id": "bef28dee",
   "metadata": {
    "cq.autogen": "SelectPauliLCU.call_graph.py"
   },
   "outputs": [
    {
     "data": {
      "image/svg+xml": [
       "<svg xmlns=\"http://www.w3.org/2000/svg\" xmlns:xlink=\"http://www.w3.org/1999/xlink\" width=\"1744pt\" height=\"131pt\" viewBox=\"0.00 0.00 1744.00 131.00\">\n",
       "<g id=\"graph0\" class=\"graph\" transform=\"scale(1 1) rotate(0) translate(4 127)\">\n",
       "<title>counts</title>\n",
       "<polygon fill=\"white\" stroke=\"transparent\" points=\"-4,4 -4,-127 1740,-127 1740,4 -4,4\"/>\n",
       "<!-- b0 -->\n",
       "<g id=\"node1\" class=\"node\">\n",
       "<title>b0</title>\n",
       "<polygon fill=\"none\" stroke=\"black\" points=\"1081,-123 548,-123 548,-87 1081,-87 1081,-123\"/>\n",
       "<text text-anchor=\"start\" x=\"770.5\" y=\"-106.8\" font-family=\"Times,serif\" font-size=\"14.00\">SelectPauliLCU</text>\n",
       "<text text-anchor=\"start\" x=\"556\" y=\"-96\" font-family=\"monospace\" font-size=\"10.00\">selection_bitsize=2, target_bitsize=4, select_unitaries=(cirq.De ..., control_val=None</text>\n",
       "</g>\n",
       "<!-- b1 -->\n",
       "<g id=\"node2\" class=\"node\">\n",
       "<title>b1</title>\n",
       "<polygon fill=\"none\" stroke=\"black\" points=\"281,-36 0,-36 0,0 281,0 281,-36\"/>\n",
       "<text text-anchor=\"start\" x=\"98\" y=\"-19.8\" font-family=\"Times,serif\" font-size=\"14.00\">C[cirq.+ZZZZ]</text>\n",
       "<text text-anchor=\"start\" x=\"8\" y=\"-9\" font-family=\"monospace\" font-size=\"10.00\">subbloq=CirqGate ..., ctrl_spec=CtrlSpec ...</text>\n",
       "</g>\n",
       "<!-- b0&#45;&gt;b1 -->\n",
       "<g id=\"edge1\" class=\"edge\">\n",
       "<title>b0-&gt;b1</title>\n",
       "<path fill=\"none\" stroke=\"black\" d=\"M588.58,-87C534.71,-82.04 477.49,-76.03 424.5,-69 361.54,-60.65 291.24,-48.3 236.34,-37.96\"/>\n",
       "<polygon fill=\"black\" stroke=\"black\" points=\"236.75,-34.47 226.27,-36.05 235.45,-41.35 236.75,-34.47\"/>\n",
       "<text text-anchor=\"middle\" x=\"428\" y=\"-57.8\" font-family=\"Times,serif\" font-size=\"14.00\">1</text>\n",
       "</g>\n",
       "<!-- b2 -->\n",
       "<g id=\"node3\" class=\"node\">\n",
       "<title>b2</title>\n",
       "<polygon fill=\"none\" stroke=\"black\" points=\"353.5,-36 299.5,-36 299.5,0 353.5,0 353.5,-36\"/>\n",
       "<text text-anchor=\"start\" x=\"308\" y=\"-14.3\" font-family=\"Times,serif\" font-size=\"14.00\">CNOT</text>\n",
       "</g>\n",
       "<!-- b0&#45;&gt;b2 -->\n",
       "<g id=\"edge2\" class=\"edge\">\n",
       "<title>b0-&gt;b2</title>\n",
       "<path fill=\"none\" stroke=\"black\" d=\"M617.34,-87C540,-77.19 450.91,-62 363.51,-35.83\"/>\n",
       "<polygon fill=\"black\" stroke=\"black\" points=\"364.27,-32.41 353.69,-32.85 362.24,-39.11 364.27,-32.41\"/>\n",
       "<text text-anchor=\"middle\" x=\"501\" y=\"-57.8\" font-family=\"Times,serif\" font-size=\"14.00\">2</text>\n",
       "</g>\n",
       "<!-- b3 -->\n",
       "<g id=\"node4\" class=\"node\">\n",
       "<title>b3</title>\n",
       "<polygon fill=\"none\" stroke=\"black\" points=\"563,-36 372,-36 372,0 563,0 563,-36\"/>\n",
       "<text text-anchor=\"start\" x=\"455.5\" y=\"-19.8\" font-family=\"Times,serif\" font-size=\"14.00\">And</text>\n",
       "<text text-anchor=\"start\" x=\"380\" y=\"-9\" font-family=\"monospace\" font-size=\"10.00\">cv1=1, cv2=0, uncompute=False</text>\n",
       "</g>\n",
       "<!-- b0&#45;&gt;b3 -->\n",
       "<g id=\"edge3\" class=\"edge\">\n",
       "<title>b0-&gt;b3</title>\n",
       "<path fill=\"none\" stroke=\"black\" d=\"M744.7,-86.9C687.52,-72.89 606.6,-53.07 546.95,-38.46\"/>\n",
       "<polygon fill=\"black\" stroke=\"black\" points=\"547.74,-35.05 537.19,-36.07 546.07,-41.85 547.74,-35.05\"/>\n",
       "<text text-anchor=\"middle\" x=\"666\" y=\"-57.8\" font-family=\"Times,serif\" font-size=\"14.00\">2</text>\n",
       "</g>\n",
       "<!-- b4 -->\n",
       "<g id=\"node5\" class=\"node\">\n",
       "<title>b4</title>\n",
       "<polygon fill=\"none\" stroke=\"black\" points=\"862,-36 581,-36 581,0 862,0 862,-36\"/>\n",
       "<text text-anchor=\"start\" x=\"686\" y=\"-19.8\" font-family=\"Times,serif\" font-size=\"14.00\">C[cirq.+YY]</text>\n",
       "<text text-anchor=\"start\" x=\"589\" y=\"-9\" font-family=\"monospace\" font-size=\"10.00\">subbloq=CirqGate ..., ctrl_spec=CtrlSpec ...</text>\n",
       "</g>\n",
       "<!-- b0&#45;&gt;b4 -->\n",
       "<g id=\"edge4\" class=\"edge\">\n",
       "<title>b0-&gt;b4</title>\n",
       "<path fill=\"none\" stroke=\"black\" d=\"M795.68,-86.8C781.94,-74.24 763.13,-57.05 747.89,-43.12\"/>\n",
       "<polygon fill=\"black\" stroke=\"black\" points=\"750.03,-40.34 740.29,-36.18 745.31,-45.51 750.03,-40.34\"/>\n",
       "<text text-anchor=\"middle\" x=\"778\" y=\"-57.8\" font-family=\"Times,serif\" font-size=\"14.00\">1</text>\n",
       "</g>\n",
       "<!-- b5 -->\n",
       "<g id=\"node6\" class=\"node\">\n",
       "<title>b5</title>\n",
       "<polygon fill=\"none\" stroke=\"black\" points=\"934.5,-36 880.5,-36 880.5,0 934.5,0 934.5,-36\"/>\n",
       "<text text-anchor=\"start\" x=\"889.5\" y=\"-14.3\" font-family=\"Times,serif\" font-size=\"14.00\">XGate</text>\n",
       "</g>\n",
       "<!-- b0&#45;&gt;b5 -->\n",
       "<g id=\"edge5\" class=\"edge\">\n",
       "<title>b0-&gt;b5</title>\n",
       "<path fill=\"none\" stroke=\"black\" d=\"M833.32,-86.8C847.06,-74.24 865.87,-57.05 881.11,-43.12\"/>\n",
       "<polygon fill=\"black\" stroke=\"black\" points=\"883.69,-45.51 888.71,-36.18 878.97,-40.34 883.69,-45.51\"/>\n",
       "<text text-anchor=\"middle\" x=\"871\" y=\"-57.8\" font-family=\"Times,serif\" font-size=\"14.00\">2</text>\n",
       "</g>\n",
       "<!-- b6 -->\n",
       "<g id=\"node7\" class=\"node\">\n",
       "<title>b6</title>\n",
       "<polygon fill=\"none\" stroke=\"black\" points=\"1234,-36 953,-36 953,0 1234,0 1234,-36\"/>\n",
       "<text text-anchor=\"start\" x=\"1058\" y=\"-19.8\" font-family=\"Times,serif\" font-size=\"14.00\">C[cirq.+XX]</text>\n",
       "<text text-anchor=\"start\" x=\"961\" y=\"-9\" font-family=\"monospace\" font-size=\"10.00\">subbloq=CirqGate ..., ctrl_spec=CtrlSpec ...</text>\n",
       "</g>\n",
       "<!-- b0&#45;&gt;b6 -->\n",
       "<g id=\"edge6\" class=\"edge\">\n",
       "<title>b0-&gt;b6</title>\n",
       "<path fill=\"none\" stroke=\"black\" d=\"M870.62,-86.9C916.03,-73.07 980.05,-53.56 1027.83,-39.01\"/>\n",
       "<polygon fill=\"black\" stroke=\"black\" points=\"1028.92,-42.33 1037.47,-36.07 1026.88,-35.64 1028.92,-42.33\"/>\n",
       "<text text-anchor=\"middle\" x=\"975\" y=\"-57.8\" font-family=\"Times,serif\" font-size=\"14.00\">1</text>\n",
       "</g>\n",
       "<!-- b7 -->\n",
       "<g id=\"node8\" class=\"node\">\n",
       "<title>b7</title>\n",
       "<polygon fill=\"none\" stroke=\"black\" points=\"1437,-36 1252,-36 1252,0 1437,0 1437,-36\"/>\n",
       "<text text-anchor=\"start\" x=\"1329\" y=\"-19.8\" font-family=\"Times,serif\" font-size=\"14.00\">And†</text>\n",
       "<text text-anchor=\"start\" x=\"1260\" y=\"-9\" font-family=\"monospace\" font-size=\"10.00\">cv1=1, cv2=1, uncompute=True</text>\n",
       "</g>\n",
       "<!-- b0&#45;&gt;b7 -->\n",
       "<g id=\"edge7\" class=\"edge\">\n",
       "<title>b0-&gt;b7</title>\n",
       "<path fill=\"none\" stroke=\"black\" d=\"M923.16,-86.97C1007.24,-73.74 1126.89,-54.79 1241.9,-36.09\"/>\n",
       "<polygon fill=\"black\" stroke=\"black\" points=\"1242.63,-39.52 1251.94,-34.46 1241.51,-32.61 1242.63,-39.52\"/>\n",
       "<text text-anchor=\"middle\" x=\"1129\" y=\"-57.8\" font-family=\"Times,serif\" font-size=\"14.00\">2</text>\n",
       "</g>\n",
       "<!-- b8 -->\n",
       "<g id=\"node9\" class=\"node\">\n",
       "<title>b8</title>\n",
       "<polygon fill=\"none\" stroke=\"black\" points=\"1736,-36 1455,-36 1455,0 1736,0 1736,-36\"/>\n",
       "<text text-anchor=\"start\" x=\"1551.5\" y=\"-19.8\" font-family=\"Times,serif\" font-size=\"14.00\">C[cirq.+ZXYZ]</text>\n",
       "<text text-anchor=\"start\" x=\"1463\" y=\"-9\" font-family=\"monospace\" font-size=\"10.00\">subbloq=CirqGate ..., ctrl_spec=CtrlSpec ...</text>\n",
       "</g>\n",
       "<!-- b0&#45;&gt;b8 -->\n",
       "<g id=\"edge8\" class=\"edge\">\n",
       "<title>b0-&gt;b8</title>\n",
       "<path fill=\"none\" stroke=\"black\" d=\"M974.67,-86.99C1099.74,-73.64 1278.2,-54.47 1445.02,-36.05\"/>\n",
       "<polygon fill=\"black\" stroke=\"black\" points=\"1445.42,-39.53 1454.98,-34.95 1444.65,-32.57 1445.42,-39.53\"/>\n",
       "<text text-anchor=\"middle\" x=\"1276\" y=\"-57.8\" font-family=\"Times,serif\" font-size=\"14.00\">1</text>\n",
       "</g>\n",
       "</g>\n",
       "</svg>"
      ],
      "text/plain": [
       "<IPython.core.display.SVG object>"
      ]
     },
     "metadata": {},
     "output_type": "display_data"
    },
    {
     "data": {
      "text/markdown": [
       "#### Counts totals:\n",
       " - `And`: 2\n",
       " - `And†`: 2\n",
       " - `CNOT`: 2\n",
       " - `C[cirq.+XX]`: 1\n",
       " - `C[cirq.+YY]`: 1\n",
       " - `C[cirq.+ZXYZ]`: 1\n",
       " - `C[cirq.+ZZZZ]`: 1\n",
       " - `XGate`: 2"
      ],
      "text/plain": [
       "<IPython.core.display.Markdown object>"
      ]
     },
     "metadata": {},
     "output_type": "display_data"
    }
   ],
   "source": [
    "from qualtran.resource_counting.generalizers import ignore_split_join\n",
    "select_pauli_lcu_g, select_pauli_lcu_sigma = select_pauli_lcu.call_graph(max_depth=1, generalizer=ignore_split_join)\n",
    "show_call_graph(select_pauli_lcu_g)\n",
    "show_counts_sigma(select_pauli_lcu_sigma)"
   ]
  }
 ],
 "metadata": {
  "kernelspec": {
   "display_name": "Python 3",
   "language": "python",
   "name": "python3"
  },
  "language_info": {
   "codemirror_mode": {
    "name": "ipython",
    "version": 3
   },
   "file_extension": ".py",
   "mimetype": "text/x-python",
   "name": "python",
   "nbconvert_exporter": "python",
   "pygments_lexer": "ipython3",
   "version": "3.11.8"
  },
  "widgets": {
   "application/vnd.jupyter.widget-state+json": {
    "state": {
     "0687ea441a524615b808287e90af50ad": {
      "model_module": "@jupyter-widgets/controls",
      "model_module_version": "2.0.0",
      "model_name": "HBoxModel",
      "state": {
       "_dom_classes": [],
       "_model_module": "@jupyter-widgets/controls",
       "_model_module_version": "2.0.0",
       "_model_name": "HBoxModel",
       "_view_count": null,
       "_view_module": "@jupyter-widgets/controls",
       "_view_module_version": "2.0.0",
       "_view_name": "HBoxView",
       "box_style": "",
       "children": [
        "IPY_MODEL_22b4e8b9874c4716904131ec19cd6a87"
       ],
       "layout": "IPY_MODEL_9c86a6b4a29b43a5a150405a0f3bcfce",
       "tabbable": null,
       "tooltip": null
      }
     },
     "22b4e8b9874c4716904131ec19cd6a87": {
      "model_module": "@jupyter-widgets/output",
      "model_module_version": "1.0.0",
      "model_name": "OutputModel",
      "state": {
       "_dom_classes": [],
       "_model_module": "@jupyter-widgets/output",
       "_model_module_version": "1.0.0",
       "_model_name": "OutputModel",
       "_view_count": null,
       "_view_module": "@jupyter-widgets/output",
       "_view_module_version": "1.0.0",
       "_view_name": "OutputView",
       "layout": "IPY_MODEL_ab68b86c0ee34e8badf513e4b5e1b1cb",
       "msg_id": "",
       "outputs": [
        {
         "data": {
          "text/markdown": "`select_pauli_lcu`",
          "text/plain": "<IPython.core.display.Markdown object>"
         },
         "metadata": {},
         "output_type": "display_data"
        },
        {
         "data": {
          "image/svg+xml": "<svg xmlns=\"http://www.w3.org/2000/svg\" xmlns:xlink=\"http://www.w3.org/1999/xlink\" width=\"285pt\" height=\"98pt\" viewBox=\"0.00 0.00 285.00 98.00\">\n<g id=\"graph0\" class=\"graph\" transform=\"scale(1 1) rotate(0) translate(4 94)\">\n<title>my_graph</title>\n<polygon fill=\"white\" stroke=\"transparent\" points=\"-4,4 -4,-94 281,-94 281,4 -4,4\"/>\n<!-- selection_G1 -->\n<g id=\"node1\" class=\"node\">\n<title>selection_G1</title>\n<text text-anchor=\"middle\" x=\"32.5\" y=\"-68.3\" font-family=\"Times,serif\" font-size=\"14.00\">selection</text>\n</g>\n<!-- SelectPauliLCU -->\n<g id=\"node3\" class=\"node\">\n<title>SelectPauliLCU</title>\n<polygon fill=\"none\" stroke=\"black\" points=\"102.5,-66 102.5,-83 175.5,-83 175.5,-66 102.5,-66\"/>\n<text text-anchor=\"start\" x=\"105.5\" y=\"-72\" font-family=\"Times,serif\" font-size=\"10.00\">SelectPauliLCU</text>\n<polygon fill=\"none\" stroke=\"black\" points=\"102.5,-45 102.5,-66 175.5,-66 175.5,-45 102.5,-45\"/>\n<text text-anchor=\"start\" x=\"114.5\" y=\"-51.8\" font-family=\"Times,serif\" font-size=\"14.00\">selection</text>\n<polygon fill=\"none\" stroke=\"black\" points=\"102.5,-24 102.5,-45 175.5,-45 175.5,-24 102.5,-24\"/>\n<text text-anchor=\"start\" x=\"123.5\" y=\"-30.8\" font-family=\"Times,serif\" font-size=\"14.00\">target</text>\n</g>\n<!-- selection_G1&#45;&gt;SelectPauliLCU -->\n<g id=\"edge1\" class=\"edge\">\n<title>selection_G1:e-&gt;SelectPauliLCU:w</title>\n<path fill=\"none\" stroke=\"black\" d=\"M65,-72C82.22,-72 83.97,-57.23 99.98,-56.07\"/>\n<ellipse fill=\"black\" stroke=\"black\" cx=\"101\" cy=\"-56.04\" rx=\"1\" ry=\"1\"/>\n<text text-anchor=\"middle\" x=\"83.5\" y=\"-67\" font-family=\"Times,serif\" font-size=\"10.00\">2</text>\n</g>\n<!-- target_G2 -->\n<g id=\"node2\" class=\"node\">\n<title>target_G2</title>\n<text text-anchor=\"middle\" x=\"32.5\" y=\"-14.3\" font-family=\"Times,serif\" font-size=\"14.00\">target</text>\n</g>\n<!-- target_G2&#45;&gt;SelectPauliLCU -->\n<g id=\"edge2\" class=\"edge\">\n<title>target_G2:e-&gt;SelectPauliLCU:w</title>\n<path fill=\"none\" stroke=\"black\" d=\"M60.5,-18C79.5,-18 82.05,-32.77 99.76,-33.93\"/>\n<ellipse fill=\"black\" stroke=\"black\" cx=\"101\" cy=\"-33.97\" rx=\"1\" ry=\"1\"/>\n<text text-anchor=\"middle\" x=\"83.5\" y=\"-31\" font-family=\"Times,serif\" font-size=\"10.00\">4</text>\n</g>\n<!-- selection_G0 -->\n<g id=\"node4\" class=\"node\">\n<title>selection_G0</title>\n<text text-anchor=\"middle\" x=\"244.5\" y=\"-68.3\" font-family=\"Times,serif\" font-size=\"14.00\">selection</text>\n</g>\n<!-- SelectPauliLCU&#45;&gt;selection_G0 -->\n<g id=\"edge3\" class=\"edge\">\n<title>SelectPauliLCU:e-&gt;selection_G0:w</title>\n<path fill=\"none\" stroke=\"black\" d=\"M175,-56C192.22,-56 193.97,-70.77 209.98,-71.93\"/>\n<ellipse fill=\"black\" stroke=\"black\" cx=\"211\" cy=\"-71.96\" rx=\"1\" ry=\"1\"/>\n<text text-anchor=\"middle\" x=\"193.5\" y=\"-67\" font-family=\"Times,serif\" font-size=\"10.00\">2</text>\n</g>\n<!-- target_G5 -->\n<g id=\"node5\" class=\"node\">\n<title>target_G5</title>\n<text text-anchor=\"middle\" x=\"244.5\" y=\"-14.3\" font-family=\"Times,serif\" font-size=\"14.00\">target</text>\n</g>\n<!-- SelectPauliLCU&#45;&gt;target_G5 -->\n<g id=\"edge4\" class=\"edge\">\n<title>SelectPauliLCU:e-&gt;target_G5:w</title>\n<path fill=\"none\" stroke=\"black\" d=\"M175,-34C194,-34 196.55,-19.23 214.26,-18.07\"/>\n<ellipse fill=\"black\" stroke=\"black\" cx=\"215.5\" cy=\"-18.03\" rx=\"1\" ry=\"1\"/>\n<text text-anchor=\"middle\" x=\"193.5\" y=\"-31\" font-family=\"Times,serif\" font-size=\"10.00\">4</text>\n</g>\n</g>\n</svg>",
          "text/plain": "<IPython.core.display.SVG object>"
         },
         "metadata": {},
         "output_type": "display_data"
        }
       ],
       "tabbable": null,
       "tooltip": null
      }
     },
     "9c86a6b4a29b43a5a150405a0f3bcfce": {
      "model_module": "@jupyter-widgets/base",
      "model_module_version": "2.0.0",
      "model_name": "LayoutModel",
      "state": {
       "_model_module": "@jupyter-widgets/base",
       "_model_module_version": "2.0.0",
       "_model_name": "LayoutModel",
       "_view_count": null,
       "_view_module": "@jupyter-widgets/base",
       "_view_module_version": "2.0.0",
       "_view_name": "LayoutView",
       "align_content": null,
       "align_items": null,
       "align_self": null,
       "border_bottom": null,
       "border_left": null,
       "border_right": null,
       "border_top": null,
       "bottom": null,
       "display": null,
       "flex": null,
       "flex_flow": null,
       "grid_area": null,
       "grid_auto_columns": null,
       "grid_auto_flow": null,
       "grid_auto_rows": null,
       "grid_column": null,
       "grid_gap": null,
       "grid_row": null,
       "grid_template_areas": null,
       "grid_template_columns": null,
       "grid_template_rows": null,
       "height": null,
       "justify_content": null,
       "justify_items": null,
       "left": null,
       "margin": null,
       "max_height": null,
       "max_width": null,
       "min_height": null,
       "min_width": null,
       "object_fit": null,
       "object_position": null,
       "order": null,
       "overflow": null,
       "padding": null,
       "right": null,
       "top": null,
       "visibility": null,
       "width": null
      }
     },
     "ab68b86c0ee34e8badf513e4b5e1b1cb": {
      "model_module": "@jupyter-widgets/base",
      "model_module_version": "2.0.0",
      "model_name": "LayoutModel",
      "state": {
       "_model_module": "@jupyter-widgets/base",
       "_model_module_version": "2.0.0",
       "_model_name": "LayoutModel",
       "_view_count": null,
       "_view_module": "@jupyter-widgets/base",
       "_view_module_version": "2.0.0",
       "_view_name": "LayoutView",
       "align_content": null,
       "align_items": null,
       "align_self": null,
       "border_bottom": null,
       "border_left": null,
       "border_right": null,
       "border_top": null,
       "bottom": null,
       "display": null,
       "flex": null,
       "flex_flow": null,
       "grid_area": null,
       "grid_auto_columns": null,
       "grid_auto_flow": null,
       "grid_auto_rows": null,
       "grid_column": null,
       "grid_gap": null,
       "grid_row": null,
       "grid_template_areas": null,
       "grid_template_columns": null,
       "grid_template_rows": null,
       "height": null,
       "justify_content": null,
       "justify_items": null,
       "left": null,
       "margin": null,
       "max_height": null,
       "max_width": null,
       "min_height": null,
       "min_width": null,
       "object_fit": null,
       "object_position": null,
       "order": null,
       "overflow": null,
       "padding": null,
       "right": null,
       "top": null,
       "visibility": null,
       "width": null
      }
     }
    },
    "version_major": 2,
    "version_minor": 0
   }
  }
 },
 "nbformat": 4,
 "nbformat_minor": 5
}
