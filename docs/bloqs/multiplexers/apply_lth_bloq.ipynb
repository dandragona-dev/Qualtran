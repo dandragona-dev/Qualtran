{
 "cells": [
  {
   "cell_type": "markdown",
   "id": "a6993083",
   "metadata": {
    "cq.autogen": "title_cell"
   },
   "source": [
    "# Apply Lth Bloq"
   ]
  },
  {
   "cell_type": "code",
   "execution_count": 1,
   "id": "626a98f3",
   "metadata": {
    "cq.autogen": "top_imports"
   },
   "outputs": [],
   "source": [
    "from qualtran import Bloq, CompositeBloq, BloqBuilder, Signature, Register\n",
    "from qualtran import QBit, QInt, QUInt, QAny\n",
    "from qualtran.drawing import show_bloq, show_call_graph, show_counts_sigma\n",
    "from typing import *\n",
    "import numpy as np\n",
    "import sympy\n",
    "import cirq"
   ]
  },
  {
   "cell_type": "markdown",
   "id": "f87d064a",
   "metadata": {
    "cq.autogen": "ApplyLthBloq.bloq_doc.md"
   },
   "source": [
    "## `ApplyLthBloq`\n",
    "A SELECT operation that executes one of a list of bloqs $U_l$ based on a quantum index:\n",
    "\n",
    "$$\n",
    "\\mathrm{SELECT} = \\sum_{l}|l \\rangle \\langle l| \\otimes U_l\n",
    "$$\n",
    "\n",
    "This bloq uses the unary iteration scheme to apply `ops[selection]` controlled on an optional\n",
    "single-bit `control` register.\n",
    "\n",
    "#### Parameters\n",
    " - `ops`: NDArray of bloqs. Each bloq must have identical registers that are all THRU.\n",
    " - `selection_regs`: List of selection registers, defaults to N-D selection index based on `ops`.\n",
    " - `control_val`: If provided, a singly controlled gate is constructed. \n",
    "\n",
    "#### Registers\n",
    " - `selection`: The indices of the bloq in `ops` to execute.\n",
    " - `control`: The control bit if specified above.\n",
    " - `[user_spec]`: The output registers of the bloqs in `ops`. \n",
    "\n",
    "#### References\n",
    " - [Encoding Electronic Spectra in Quantum Circuits with Linear T Complexity]( https://arxiv.org/abs/1805.03662). Babbush et. al. (2018). Section III.A. and Figure 7.\n"
   ]
  },
  {
   "cell_type": "code",
   "execution_count": 2,
   "id": "79159c94",
   "metadata": {
    "cq.autogen": "ApplyLthBloq.bloq_doc.py"
   },
   "outputs": [],
   "source": [
    "from qualtran.bloqs.multiplexers.apply_lth_bloq import ApplyLthBloq"
   ]
  },
  {
   "cell_type": "markdown",
   "id": "a8ab572d",
   "metadata": {
    "cq.autogen": "ApplyLthBloq.example_instances.md"
   },
   "source": [
    "### Example Instances"
   ]
  },
  {
   "cell_type": "code",
   "execution_count": 3,
   "id": "054c9a08",
   "metadata": {
    "cq.autogen": "ApplyLthBloq.apply_lth_bloq"
   },
   "outputs": [],
   "source": [
    "from qualtran.bloqs.basic_gates import Hadamard, TGate, XGate, ZGate\n",
    "\n",
    "ops = np.array((TGate(), Hadamard(), ZGate(), XGate()))\n",
    "apply_lth_bloq = ApplyLthBloq(ops, control_val=1)"
   ]
  },
  {
   "cell_type": "markdown",
   "id": "5902609c",
   "metadata": {
    "cq.autogen": "ApplyLthBloq.graphical_signature.md"
   },
   "source": [
    "#### Graphical Signature"
   ]
  },
  {
   "cell_type": "code",
   "execution_count": 4,
   "id": "0c1f7131",
   "metadata": {
    "cq.autogen": "ApplyLthBloq.graphical_signature.py"
   },
   "outputs": [
    {
     "data": {
      "application/vnd.jupyter.widget-view+json": {
       "model_id": "4aca6f0079ca47ce9451dc396bc4cfe0",
       "version_major": 2,
       "version_minor": 0
      },
      "text/plain": [
       "HBox(children=(Output(outputs=({'output_type': 'display_data', 'data': {'text/plain': '<IPython.core.display.M…"
      ]
     },
     "metadata": {},
     "output_type": "display_data"
    }
   ],
   "source": [
    "from qualtran.drawing import show_bloqs\n",
    "show_bloqs([apply_lth_bloq],\n",
    "           ['`apply_lth_bloq`'])"
   ]
  },
  {
   "cell_type": "markdown",
   "id": "ea47186f",
   "metadata": {
    "cq.autogen": "ApplyLthBloq.call_graph.md"
   },
   "source": [
    "### Call Graph"
   ]
  },
  {
   "cell_type": "code",
   "execution_count": 5,
   "id": "984f9c96",
   "metadata": {
    "cq.autogen": "ApplyLthBloq.call_graph.py"
   },
   "outputs": [
    {
     "data": {
      "image/svg+xml": [
       "<svg xmlns=\"http://www.w3.org/2000/svg\" xmlns:xlink=\"http://www.w3.org/1999/xlink\" width=\"948pt\" height=\"131pt\" viewBox=\"0.00 0.00 947.50 131.00\">\n",
       "<g id=\"graph0\" class=\"graph\" transform=\"scale(1 1) rotate(0) translate(4 127)\">\n",
       "<title>counts</title>\n",
       "<polygon fill=\"white\" stroke=\"transparent\" points=\"-4,4 -4,-127 943.5,-127 943.5,4 -4,4\"/>\n",
       "<!-- b0 -->\n",
       "<g id=\"node1\" class=\"node\">\n",
       "<title>b0</title>\n",
       "<polygon fill=\"none\" stroke=\"black\" points=\"664,-123 335,-123 335,-87 664,-87 664,-123\"/>\n",
       "<text text-anchor=\"start\" x=\"460\" y=\"-106.8\" font-family=\"Times,serif\" font-size=\"14.00\">ApplyLthBloq</text>\n",
       "<text text-anchor=\"start\" x=\"343\" y=\"-96\" font-family=\"monospace\" font-size=\"10.00\">ops=array([T ..., selection_regs=None, control_val=1</text>\n",
       "</g>\n",
       "<!-- b1 -->\n",
       "<g id=\"node2\" class=\"node\">\n",
       "<title>b1</title>\n",
       "<polygon fill=\"none\" stroke=\"black\" points=\"191,-36 0,-36 0,0 191,0 191,-36\"/>\n",
       "<text text-anchor=\"start\" x=\"83.5\" y=\"-19.8\" font-family=\"Times,serif\" font-size=\"14.00\">And</text>\n",
       "<text text-anchor=\"start\" x=\"8\" y=\"-9\" font-family=\"monospace\" font-size=\"10.00\">cv1=1, cv2=0, uncompute=False</text>\n",
       "</g>\n",
       "<!-- b0&#45;&gt;b1 -->\n",
       "<g id=\"edge1\" class=\"edge\">\n",
       "<title>b0-&gt;b1</title>\n",
       "<path fill=\"none\" stroke=\"black\" d=\"M407.73,-86.94C378.82,-81.4 346.79,-75.11 317.5,-69 271.31,-59.36 219.91,-47.83 178.2,-38.28\"/>\n",
       "<polygon fill=\"black\" stroke=\"black\" points=\"178.89,-34.85 168.36,-36.02 177.33,-41.67 178.89,-34.85\"/>\n",
       "<text text-anchor=\"middle\" x=\"321\" y=\"-57.8\" font-family=\"Times,serif\" font-size=\"14.00\">3</text>\n",
       "</g>\n",
       "<!-- b2 -->\n",
       "<g id=\"node3\" class=\"node\">\n",
       "<title>b2</title>\n",
       "<polygon fill=\"none\" stroke=\"black\" points=\"263.5,-36 209.5,-36 209.5,0 263.5,0 263.5,-36\"/>\n",
       "<text text-anchor=\"start\" x=\"218\" y=\"-14.3\" font-family=\"Times,serif\" font-size=\"14.00\">CNOT</text>\n",
       "</g>\n",
       "<!-- b0&#45;&gt;b2 -->\n",
       "<g id=\"edge2\" class=\"edge\">\n",
       "<title>b0-&gt;b2</title>\n",
       "<path fill=\"none\" stroke=\"black\" d=\"M433.06,-86.93C389.65,-75.13 331.75,-58.16 273.23,-36.02\"/>\n",
       "<polygon fill=\"black\" stroke=\"black\" points=\"274.42,-32.73 263.83,-32.43 271.92,-39.27 274.42,-32.73\"/>\n",
       "<text text-anchor=\"middle\" x=\"369\" y=\"-57.8\" font-family=\"Times,serif\" font-size=\"14.00\">4</text>\n",
       "</g>\n",
       "<!-- b3 -->\n",
       "<g id=\"node4\" class=\"node\">\n",
       "<title>b3</title>\n",
       "<polygon fill=\"none\" stroke=\"black\" points=\"467,-36 282,-36 282,0 467,0 467,-36\"/>\n",
       "<text text-anchor=\"start\" x=\"359\" y=\"-19.8\" font-family=\"Times,serif\" font-size=\"14.00\">And†</text>\n",
       "<text text-anchor=\"start\" x=\"290\" y=\"-9\" font-family=\"monospace\" font-size=\"10.00\">cv1=1, cv2=1, uncompute=True</text>\n",
       "</g>\n",
       "<!-- b0&#45;&gt;b3 -->\n",
       "<g id=\"edge3\" class=\"edge\">\n",
       "<title>b0-&gt;b3</title>\n",
       "<path fill=\"none\" stroke=\"black\" d=\"M474.2,-86.8C455.23,-73.9 429.06,-56.1 408.29,-41.98\"/>\n",
       "<polygon fill=\"black\" stroke=\"black\" points=\"410,-38.9 399.76,-36.18 406.06,-44.69 410,-38.9\"/>\n",
       "<text text-anchor=\"middle\" x=\"448\" y=\"-57.8\" font-family=\"Times,serif\" font-size=\"14.00\">3</text>\n",
       "</g>\n",
       "<!-- b4 -->\n",
       "<g id=\"node5\" class=\"node\">\n",
       "<title>b4</title>\n",
       "<polygon fill=\"none\" stroke=\"black\" points=\"766,-36 485,-36 485,0 766,0 766,-36\"/>\n",
       "<text text-anchor=\"start\" x=\"612\" y=\"-19.8\" font-family=\"Times,serif\" font-size=\"14.00\">C[T]</text>\n",
       "<text text-anchor=\"start\" x=\"493\" y=\"-9\" font-family=\"monospace\" font-size=\"10.00\">subbloq=TGate(is ..., ctrl_spec=CtrlSpec ...</text>\n",
       "</g>\n",
       "<!-- b0&#45;&gt;b4 -->\n",
       "<g id=\"edge4\" class=\"edge\">\n",
       "<title>b0-&gt;b4</title>\n",
       "<path fill=\"none\" stroke=\"black\" d=\"M525,-86.8C544.21,-73.84 570.74,-55.94 591.72,-41.79\"/>\n",
       "<polygon fill=\"black\" stroke=\"black\" points=\"593.71,-44.67 600.04,-36.18 589.79,-38.87 593.71,-44.67\"/>\n",
       "<text text-anchor=\"middle\" x=\"574\" y=\"-57.8\" font-family=\"Times,serif\" font-size=\"14.00\">1</text>\n",
       "</g>\n",
       "<!-- b5 -->\n",
       "<g id=\"node6\" class=\"node\">\n",
       "<title>b5</title>\n",
       "<polygon fill=\"none\" stroke=\"black\" points=\"867,-36 784,-36 784,0 867,0 867,-36\"/>\n",
       "<text text-anchor=\"start\" x=\"792\" y=\"-14.3\" font-family=\"Times,serif\" font-size=\"14.00\">CHadamard</text>\n",
       "</g>\n",
       "<!-- b0&#45;&gt;b5 -->\n",
       "<g id=\"edge5\" class=\"edge\">\n",
       "<title>b0-&gt;b5</title>\n",
       "<path fill=\"none\" stroke=\"black\" d=\"M575.21,-86.98C628.31,-74.66 701.08,-56.97 774.01,-36.03\"/>\n",
       "<polygon fill=\"black\" stroke=\"black\" points=\"775.2,-39.33 783.84,-33.19 773.26,-32.6 775.2,-39.33\"/>\n",
       "<text text-anchor=\"middle\" x=\"711\" y=\"-57.8\" font-family=\"Times,serif\" font-size=\"14.00\">1</text>\n",
       "</g>\n",
       "<!-- b6 -->\n",
       "<g id=\"node7\" class=\"node\">\n",
       "<title>b6</title>\n",
       "<polygon fill=\"none\" stroke=\"black\" points=\"939.5,-36 885.5,-36 885.5,0 939.5,0 939.5,-36\"/>\n",
       "<text text-anchor=\"start\" x=\"903.5\" y=\"-14.3\" font-family=\"Times,serif\" font-size=\"14.00\">CZ</text>\n",
       "</g>\n",
       "<!-- b0&#45;&gt;b6 -->\n",
       "<g id=\"edge6\" class=\"edge\">\n",
       "<title>b0-&gt;b6</title>\n",
       "<path fill=\"none\" stroke=\"black\" d=\"M647.85,-86.95C718.02,-76.42 802.27,-60.18 875.5,-36 875.6,-35.97 875.7,-35.93 875.8,-35.9\"/>\n",
       "<polygon fill=\"black\" stroke=\"black\" points=\"877.17,-39.12 885.3,-32.32 874.7,-32.57 877.17,-39.12\"/>\n",
       "<text text-anchor=\"middle\" x=\"809\" y=\"-57.8\" font-family=\"Times,serif\" font-size=\"14.00\">1</text>\n",
       "</g>\n",
       "</g>\n",
       "</svg>"
      ],
      "text/plain": [
       "<IPython.core.display.SVG object>"
      ]
     },
     "metadata": {},
     "output_type": "display_data"
    },
    {
     "data": {
      "text/markdown": [
       "#### Counts totals:\n",
       " - `And`: 3\n",
       " - `And†`: 3\n",
       " - `CHadamard`: 1\n",
       " - `CNOT`: 4\n",
       " - `CZ`: 1\n",
       " - `C[T]`: 1"
      ],
      "text/plain": [
       "<IPython.core.display.Markdown object>"
      ]
     },
     "metadata": {},
     "output_type": "display_data"
    }
   ],
   "source": [
    "from qualtran.resource_counting.generalizers import ignore_split_join\n",
    "apply_lth_bloq_g, apply_lth_bloq_sigma = apply_lth_bloq.call_graph(max_depth=1, generalizer=ignore_split_join)\n",
    "show_call_graph(apply_lth_bloq_g)\n",
    "show_counts_sigma(apply_lth_bloq_sigma)"
   ]
  }
 ],
 "metadata": {
  "kernelspec": {
   "display_name": "Python 3",
   "language": "python",
   "name": "python3"
  },
  "language_info": {
   "codemirror_mode": {
    "name": "ipython",
    "version": 3
   },
   "file_extension": ".py",
   "mimetype": "text/x-python",
   "name": "python",
   "nbconvert_exporter": "python",
   "pygments_lexer": "ipython3",
   "version": "3.11.8"
  },
  "widgets": {
   "application/vnd.jupyter.widget-state+json": {
    "state": {
     "22d1b9f5f3224a49a44e18d7fc58721f": {
      "model_module": "@jupyter-widgets/base",
      "model_module_version": "2.0.0",
      "model_name": "LayoutModel",
      "state": {
       "_model_module": "@jupyter-widgets/base",
       "_model_module_version": "2.0.0",
       "_model_name": "LayoutModel",
       "_view_count": null,
       "_view_module": "@jupyter-widgets/base",
       "_view_module_version": "2.0.0",
       "_view_name": "LayoutView",
       "align_content": null,
       "align_items": null,
       "align_self": null,
       "border_bottom": null,
       "border_left": null,
       "border_right": null,
       "border_top": null,
       "bottom": null,
       "display": null,
       "flex": null,
       "flex_flow": null,
       "grid_area": null,
       "grid_auto_columns": null,
       "grid_auto_flow": null,
       "grid_auto_rows": null,
       "grid_column": null,
       "grid_gap": null,
       "grid_row": null,
       "grid_template_areas": null,
       "grid_template_columns": null,
       "grid_template_rows": null,
       "height": null,
       "justify_content": null,
       "justify_items": null,
       "left": null,
       "margin": null,
       "max_height": null,
       "max_width": null,
       "min_height": null,
       "min_width": null,
       "object_fit": null,
       "object_position": null,
       "order": null,
       "overflow": null,
       "padding": null,
       "right": null,
       "top": null,
       "visibility": null,
       "width": null
      }
     },
     "4aca6f0079ca47ce9451dc396bc4cfe0": {
      "model_module": "@jupyter-widgets/controls",
      "model_module_version": "2.0.0",
      "model_name": "HBoxModel",
      "state": {
       "_dom_classes": [],
       "_model_module": "@jupyter-widgets/controls",
       "_model_module_version": "2.0.0",
       "_model_name": "HBoxModel",
       "_view_count": null,
       "_view_module": "@jupyter-widgets/controls",
       "_view_module_version": "2.0.0",
       "_view_name": "HBoxView",
       "box_style": "",
       "children": [
        "IPY_MODEL_55df303fecf542eaafafab73457bbe63"
       ],
       "layout": "IPY_MODEL_5c53aaa831a149e8a029b1871cde2002",
       "tabbable": null,
       "tooltip": null
      }
     },
     "55df303fecf542eaafafab73457bbe63": {
      "model_module": "@jupyter-widgets/output",
      "model_module_version": "1.0.0",
      "model_name": "OutputModel",
      "state": {
       "_dom_classes": [],
       "_model_module": "@jupyter-widgets/output",
       "_model_module_version": "1.0.0",
       "_model_name": "OutputModel",
       "_view_count": null,
       "_view_module": "@jupyter-widgets/output",
       "_view_module_version": "1.0.0",
       "_view_name": "OutputView",
       "layout": "IPY_MODEL_22d1b9f5f3224a49a44e18d7fc58721f",
       "msg_id": "",
       "outputs": [
        {
         "data": {
          "text/markdown": "`apply_lth_bloq`",
          "text/plain": "<IPython.core.display.Markdown object>"
         },
         "metadata": {},
         "output_type": "display_data"
        },
        {
         "data": {
          "image/svg+xml": "<svg xmlns=\"http://www.w3.org/2000/svg\" xmlns:xlink=\"http://www.w3.org/1999/xlink\" width=\"279pt\" height=\"152pt\" viewBox=\"0.00 0.00 279.00 152.00\">\n<g id=\"graph0\" class=\"graph\" transform=\"scale(1 1) rotate(0) translate(4 148)\">\n<title>my_graph</title>\n<polygon fill=\"white\" stroke=\"transparent\" points=\"-4,4 -4,-148 275,-148 275,4 -4,4\"/>\n<!-- control_G8 -->\n<g id=\"node1\" class=\"node\">\n<title>control_G8</title>\n<text text-anchor=\"middle\" x=\"32.5\" y=\"-122.3\" font-family=\"Times,serif\" font-size=\"14.00\">control</text>\n</g>\n<!-- ApplyLthBloq -->\n<g id=\"node4\" class=\"node\">\n<title>ApplyLthBloq</title>\n<polygon fill=\"none\" stroke=\"black\" points=\"102.5,-104 102.5,-121 169.5,-121 169.5,-104 102.5,-104\"/>\n<text text-anchor=\"start\" x=\"105.5\" y=\"-110\" font-family=\"Times,serif\" font-size=\"10.00\">ApplyLthBloq</text>\n<polygon fill=\"none\" stroke=\"black\" points=\"102.5,-83 102.5,-104 169.5,-104 169.5,-83 102.5,-83\"/>\n<text text-anchor=\"start\" x=\"116.5\" y=\"-89.8\" font-family=\"Times,serif\" font-size=\"14.00\">control</text>\n<polygon fill=\"none\" stroke=\"black\" points=\"102.5,-62 102.5,-83 169.5,-83 169.5,-62 102.5,-62\"/>\n<text text-anchor=\"start\" x=\"111.5\" y=\"-68.8\" font-family=\"Times,serif\" font-size=\"14.00\">selection</text>\n<polygon fill=\"none\" stroke=\"black\" points=\"102.5,-41 102.5,-62 169.5,-62 169.5,-41 102.5,-41\"/>\n<text text-anchor=\"start\" x=\"132.5\" y=\"-47.8\" font-family=\"Times,serif\" font-size=\"14.00\">q</text>\n</g>\n<!-- control_G8&#45;&gt;ApplyLthBloq -->\n<g id=\"edge1\" class=\"edge\">\n<title>control_G8:e-&gt;ApplyLthBloq:w</title>\n<path fill=\"none\" stroke=\"black\" d=\"M61.5,-126C83.72,-126 79.37,-95.97 99.93,-94.09\"/>\n<ellipse fill=\"black\" stroke=\"black\" cx=\"101\" cy=\"-94.04\" rx=\"1\" ry=\"1\"/>\n<text text-anchor=\"middle\" x=\"83.5\" y=\"-110\" font-family=\"Times,serif\" font-size=\"10.00\">1</text>\n</g>\n<!-- selection_G6 -->\n<g id=\"node2\" class=\"node\">\n<title>selection_G6</title>\n<text text-anchor=\"middle\" x=\"32.5\" y=\"-68.3\" font-family=\"Times,serif\" font-size=\"14.00\">selection</text>\n</g>\n<!-- selection_G6&#45;&gt;ApplyLthBloq -->\n<g id=\"edge2\" class=\"edge\">\n<title>selection_G6:e-&gt;ApplyLthBloq:w</title>\n<path fill=\"none\" stroke=\"black\" d=\"M65,-72C80.67,-72 85.14,-72 99.77,-72\"/>\n<ellipse fill=\"black\" stroke=\"black\" cx=\"101\" cy=\"-72\" rx=\"1\" ry=\"1\"/>\n<text text-anchor=\"middle\" x=\"83.5\" y=\"-75\" font-family=\"Times,serif\" font-size=\"10.00\">2</text>\n</g>\n<!-- q_G2 -->\n<g id=\"node3\" class=\"node\">\n<title>q_G2</title>\n<text text-anchor=\"middle\" x=\"32.5\" y=\"-14.3\" font-family=\"Times,serif\" font-size=\"14.00\">q</text>\n</g>\n<!-- q_G2&#45;&gt;ApplyLthBloq -->\n<g id=\"edge3\" class=\"edge\">\n<title>q_G2:e-&gt;ApplyLthBloq:w</title>\n<path fill=\"none\" stroke=\"black\" d=\"M60.5,-18C83.33,-18 78.76,-48.97 99.87,-50.91\"/>\n<ellipse fill=\"black\" stroke=\"black\" cx=\"101\" cy=\"-50.96\" rx=\"1\" ry=\"1\"/>\n<text text-anchor=\"middle\" x=\"83.5\" y=\"-43\" font-family=\"Times,serif\" font-size=\"10.00\">1</text>\n</g>\n<!-- control_G0 -->\n<g id=\"node5\" class=\"node\">\n<title>control_G0</title>\n<text text-anchor=\"middle\" x=\"238.5\" y=\"-122.3\" font-family=\"Times,serif\" font-size=\"14.00\">control</text>\n</g>\n<!-- ApplyLthBloq&#45;&gt;control_G0 -->\n<g id=\"edge4\" class=\"edge\">\n<title>ApplyLthBloq:e-&gt;control_G0:w</title>\n<path fill=\"none\" stroke=\"black\" d=\"M169,-94C191.22,-94 186.87,-124.03 207.43,-125.91\"/>\n<ellipse fill=\"black\" stroke=\"black\" cx=\"208.5\" cy=\"-125.96\" rx=\"1\" ry=\"1\"/>\n<text text-anchor=\"middle\" x=\"187.5\" y=\"-110\" font-family=\"Times,serif\" font-size=\"10.00\">1</text>\n</g>\n<!-- selection_G4 -->\n<g id=\"node6\" class=\"node\">\n<title>selection_G4</title>\n<text text-anchor=\"middle\" x=\"238.5\" y=\"-68.3\" font-family=\"Times,serif\" font-size=\"14.00\">selection</text>\n</g>\n<!-- ApplyLthBloq&#45;&gt;selection_G4 -->\n<g id=\"edge5\" class=\"edge\">\n<title>ApplyLthBloq:e-&gt;selection_G4:w</title>\n<path fill=\"none\" stroke=\"black\" d=\"M169,-72C184.67,-72 189.14,-72 203.77,-72\"/>\n<ellipse fill=\"black\" stroke=\"black\" cx=\"205\" cy=\"-72\" rx=\"1\" ry=\"1\"/>\n<text text-anchor=\"middle\" x=\"187.5\" y=\"-75\" font-family=\"Times,serif\" font-size=\"10.00\">2</text>\n</g>\n<!-- q_G3 -->\n<g id=\"node7\" class=\"node\">\n<title>q_G3</title>\n<text text-anchor=\"middle\" x=\"238.5\" y=\"-14.3\" font-family=\"Times,serif\" font-size=\"14.00\">q</text>\n</g>\n<!-- ApplyLthBloq&#45;&gt;q_G3 -->\n<g id=\"edge6\" class=\"edge\">\n<title>ApplyLthBloq:e-&gt;q_G3:w</title>\n<path fill=\"none\" stroke=\"black\" d=\"M169,-51C191.83,-51 187.26,-20.03 208.37,-18.09\"/>\n<ellipse fill=\"black\" stroke=\"black\" cx=\"209.5\" cy=\"-18.04\" rx=\"1\" ry=\"1\"/>\n<text text-anchor=\"middle\" x=\"187.5\" y=\"-43\" font-family=\"Times,serif\" font-size=\"10.00\">1</text>\n</g>\n</g>\n</svg>",
          "text/plain": "<IPython.core.display.SVG object>"
         },
         "metadata": {},
         "output_type": "display_data"
        }
       ],
       "tabbable": null,
       "tooltip": null
      }
     },
     "5c53aaa831a149e8a029b1871cde2002": {
      "model_module": "@jupyter-widgets/base",
      "model_module_version": "2.0.0",
      "model_name": "LayoutModel",
      "state": {
       "_model_module": "@jupyter-widgets/base",
       "_model_module_version": "2.0.0",
       "_model_name": "LayoutModel",
       "_view_count": null,
       "_view_module": "@jupyter-widgets/base",
       "_view_module_version": "2.0.0",
       "_view_name": "LayoutView",
       "align_content": null,
       "align_items": null,
       "align_self": null,
       "border_bottom": null,
       "border_left": null,
       "border_right": null,
       "border_top": null,
       "bottom": null,
       "display": null,
       "flex": null,
       "flex_flow": null,
       "grid_area": null,
       "grid_auto_columns": null,
       "grid_auto_flow": null,
       "grid_auto_rows": null,
       "grid_column": null,
       "grid_gap": null,
       "grid_row": null,
       "grid_template_areas": null,
       "grid_template_columns": null,
       "grid_template_rows": null,
       "height": null,
       "justify_content": null,
       "justify_items": null,
       "left": null,
       "margin": null,
       "max_height": null,
       "max_width": null,
       "min_height": null,
       "min_width": null,
       "object_fit": null,
       "object_position": null,
       "order": null,
       "overflow": null,
       "padding": null,
       "right": null,
       "top": null,
       "visibility": null,
       "width": null
      }
     }
    },
    "version_major": 2,
    "version_minor": 0
   }
  }
 },
 "nbformat": 4,
 "nbformat_minor": 5
}
