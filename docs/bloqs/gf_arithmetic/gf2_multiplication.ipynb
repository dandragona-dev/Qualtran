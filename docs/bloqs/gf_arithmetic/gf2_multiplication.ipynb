{
 "cells": [
  {
   "cell_type": "markdown",
   "id": "f2e9ace3",
   "metadata": {
    "cq.autogen": "title_cell"
   },
   "source": [
    "# GF($2^m$) Multiplication"
   ]
  },
  {
   "cell_type": "code",
   "execution_count": 1,
   "id": "84523966",
   "metadata": {
    "cq.autogen": "top_imports"
   },
   "outputs": [],
   "source": [
    "from qualtran import Bloq, CompositeBloq, BloqBuilder, Signature, Register\n",
    "from qualtran import QBit, QInt, QUInt, QAny\n",
    "from qualtran.drawing import show_bloq, show_call_graph, show_counts_sigma\n",
    "from typing import *\n",
    "import numpy as np\n",
    "import sympy\n",
    "import cirq"
   ]
  },
  {
   "cell_type": "markdown",
   "id": "d77b58bc",
   "metadata": {
    "cq.autogen": "GF2Multiplication.bloq_doc.md"
   },
   "source": [
    "## `GF2Multiplication`\n",
    "Out of place multiplication over GF($2^m$).\n",
    "\n",
    "The bloq implements out of place multiplication of two quantum registers storing elements\n",
    "from GF($2^m$) using construction described in Ref[1], which extends the classical construction\n",
    "of Ref[2].\n",
    "\n",
    "To multiply two m-bit inputs $a = [a_0, a_1, ..., a_{m-1}]$ and $b = [b_0, b_1, ..., b_{m-1}]$,\n",
    "the construction computes the output vector $c$ via the following three steps:\n",
    "    1. Compute $e = U.b$ where $U$ is an upper triangular matrix constructed using $a$.\n",
    "    2. Compute $Q.e$ where $Q$ is an $m \\times (m - 1)$ reduction matrix that depends upon the\n",
    "        irreducible polynomial $P(x)$ of the galois field $GF(2^m)$. The i'th column of the\n",
    "        matrix corresponds to coefficients of the polynomial $x^{m + i} % P(x)$. This matrix $Q$\n",
    "        is a linear reversible circuit that can be implemented only using CNOT gates.\n",
    "    3. Compute $d = L.b$ where $L$ is a lower triangular matrix constructed using $a$.\n",
    "    4. Compute $c = d + Q.e$ to obtain the final product.\n",
    "\n",
    "Steps 1 and 3 are performed using $n^2$ Toffoli gates and step 2 is performed only using CNOT\n",
    "gates.\n",
    "\n",
    "#### Parameters\n",
    " - `bitsize`: The degree $m$ of the galois field $GF(2^m)$. Also corresponds to the number of qubits in each of the two input registers $a$ and $b$ that should be multiplied.\n",
    " - `plus_equal_prod`: If True, implements the `PlusEqualProduct` version that applies the map $|x\\rangle |y\\rangle |z\\rangle \\rightarrow |x\\rangle |y\\rangle |x + z\\rangle$. \n",
    "\n",
    "#### Registers\n",
    " - `x`: Input THRU register of size $m$ that stores elements from $GF(2^m)$.\n",
    " - `y`: Input THRU register of size $m$ that stores elements from $GF(2^m)$.\n",
    " - `result`: Register of size $m$ that stores the product $x * y$ in $GF(2^m)$. If plus_equal_prod is True - result is a THRU register and stores $result + x * y$. If plus_equal_prod is False - result is a RIGHT register and stores $x * y$.  \n",
    "\n",
    "#### References\n",
    " - [On the Design and Optimization of a Quantum Polynomial-Time Attack on Elliptic Curve Cryptography](https://arxiv.org/abs/0710.1093). \n",
    " - [Low complexity bit parallel architectures for polynomial basis multiplication over GF(2m)](https://ieeexplore.ieee.org/abstract/document/1306989). \n"
   ]
  },
  {
   "cell_type": "code",
   "execution_count": 2,
   "id": "40013f0c",
   "metadata": {
    "cq.autogen": "GF2Multiplication.bloq_doc.py"
   },
   "outputs": [],
   "source": [
    "from qualtran.bloqs.gf_arithmetic import GF2Multiplication"
   ]
  },
  {
   "cell_type": "markdown",
   "id": "c5bcc7f0",
   "metadata": {
    "cq.autogen": "GF2Multiplication.example_instances.md"
   },
   "source": [
    "### Example Instances"
   ]
  },
  {
   "cell_type": "code",
   "execution_count": 3,
   "id": "75114297",
   "metadata": {
    "cq.autogen": "GF2Multiplication.gf16_multiplication"
   },
   "outputs": [],
   "source": [
    "gf16_multiplication = GF2Multiplication(4, plus_equal_prod=True)"
   ]
  },
  {
   "cell_type": "code",
   "execution_count": 4,
   "id": "7bdc2588",
   "metadata": {
    "cq.autogen": "GF2Multiplication.gf2_multiplication_symbolic"
   },
   "outputs": [],
   "source": [
    "import sympy\n",
    "\n",
    "m = sympy.Symbol('m')\n",
    "gf2_multiplication_symbolic = GF2Multiplication(m, plus_equal_prod=False)"
   ]
  },
  {
   "cell_type": "markdown",
   "id": "9866335a",
   "metadata": {
    "cq.autogen": "GF2Multiplication.graphical_signature.md"
   },
   "source": [
    "#### Graphical Signature"
   ]
  },
  {
   "cell_type": "code",
   "execution_count": 5,
   "id": "f09a13f8",
   "metadata": {
    "cq.autogen": "GF2Multiplication.graphical_signature.py"
   },
   "outputs": [
    {
     "data": {
      "application/vnd.jupyter.widget-view+json": {
       "model_id": "75da5d56cc5846e897684b3980dc0813",
       "version_major": 2,
       "version_minor": 0
      },
      "text/plain": [
       "HBox(children=(Output(outputs=({'output_type': 'display_data', 'data': {'text/plain': '<IPython.core.display.M…"
      ]
     },
     "metadata": {},
     "output_type": "display_data"
    }
   ],
   "source": [
    "from qualtran.drawing import show_bloqs\n",
    "show_bloqs([gf16_multiplication, gf2_multiplication_symbolic],\n",
    "           ['`gf16_multiplication`', '`gf2_multiplication_symbolic`'])"
   ]
  },
  {
   "cell_type": "markdown",
   "id": "b26814e0",
   "metadata": {
    "cq.autogen": "GF2Multiplication.call_graph.md"
   },
   "source": [
    "### Call Graph"
   ]
  },
  {
   "cell_type": "code",
   "execution_count": 6,
   "id": "7219fea5",
   "metadata": {
    "cq.autogen": "GF2Multiplication.call_graph.py"
   },
   "outputs": [
    {
     "data": {
      "image/svg+xml": [
       "<svg xmlns=\"http://www.w3.org/2000/svg\" xmlns:xlink=\"http://www.w3.org/1999/xlink\" width=\"328pt\" height=\"131pt\" viewBox=\"0.00 0.00 328.00 131.00\">\n",
       "<g id=\"graph0\" class=\"graph\" transform=\"scale(1 1) rotate(0) translate(4 127)\">\n",
       "<title>counts</title>\n",
       "<polygon fill=\"white\" stroke=\"transparent\" points=\"-4,4 -4,-127 324,-127 324,4 -4,4\"/>\n",
       "<!-- b0 -->\n",
       "<g id=\"node1\" class=\"node\">\n",
       "<title>b0</title>\n",
       "<polygon fill=\"none\" stroke=\"black\" points=\"85,-93 85,-116 177,-116 177,-93 85,-93\"/>\n",
       "<text text-anchor=\"start\" x=\"91.5\" y=\"-102\" font-family=\"Times,serif\" font-size=\"10.00\">GF2Multiplication</text>\n",
       "</g>\n",
       "<!-- b1 -->\n",
       "<g id=\"node2\" class=\"node\">\n",
       "<title>b1</title>\n",
       "<polygon fill=\"none\" stroke=\"black\" points=\"8,-6 8,-29 48,-29 48,-6 8,-6\"/>\n",
       "<text text-anchor=\"start\" x=\"14\" y=\"-15\" font-family=\"Times,serif\" font-size=\"10.00\">Toffoli</text>\n",
       "</g>\n",
       "<!-- b0&#45;&gt;b1 -->\n",
       "<g id=\"edge1\" class=\"edge\">\n",
       "<title>b0-&gt;b1</title>\n",
       "<path fill=\"none\" stroke=\"black\" d=\"M110.16,-86.8C94.8,-74.13 73.72,-56.73 56.76,-42.74\"/>\n",
       "<polygon fill=\"black\" stroke=\"black\" points=\"58.75,-39.84 48.81,-36.18 54.3,-45.24 58.75,-39.84\"/>\n",
       "<text text-anchor=\"middle\" x=\"93\" y=\"-57.8\" font-family=\"Times,serif\" font-size=\"14.00\">16</text>\n",
       "</g>\n",
       "<!-- b2 -->\n",
       "<g id=\"node3\" class=\"node\">\n",
       "<title>b2</title>\n",
       "<polygon fill=\"none\" stroke=\"black\" points=\"82,-6 82,-29 180,-29 180,-6 82,-6\"/>\n",
       "<text text-anchor=\"start\" x=\"88\" y=\"-15\" font-family=\"Times,serif\" font-size=\"10.00\">SynthesizeLRCircuit</text>\n",
       "</g>\n",
       "<!-- b0&#45;&gt;b2 -->\n",
       "<g id=\"edge2\" class=\"edge\">\n",
       "<title>b0-&gt;b2</title>\n",
       "<path fill=\"none\" stroke=\"black\" d=\"M131,-86.8C131,-75.16 131,-59.55 131,-46.24\"/>\n",
       "<polygon fill=\"black\" stroke=\"black\" points=\"134.5,-46.18 131,-36.18 127.5,-46.18 134.5,-46.18\"/>\n",
       "<text text-anchor=\"middle\" x=\"134.5\" y=\"-57.8\" font-family=\"Times,serif\" font-size=\"14.00\">1</text>\n",
       "</g>\n",
       "<!-- b3 -->\n",
       "<g id=\"node4\" class=\"node\">\n",
       "<title>b3</title>\n",
       "<polygon fill=\"none\" stroke=\"black\" points=\"214,-6 214,-29 312,-29 312,-6 214,-6\"/>\n",
       "<text text-anchor=\"start\" x=\"220\" y=\"-15\" font-family=\"Times,serif\" font-size=\"10.00\">SynthesizeLRCircuit</text>\n",
       "</g>\n",
       "<!-- b0&#45;&gt;b3 -->\n",
       "<g id=\"edge3\" class=\"edge\">\n",
       "<title>b0-&gt;b3</title>\n",
       "<path fill=\"none\" stroke=\"black\" d=\"M157.71,-86.8C177.93,-73.78 205.88,-55.78 227.9,-41.6\"/>\n",
       "<polygon fill=\"black\" stroke=\"black\" points=\"229.81,-44.53 236.33,-36.18 226.02,-38.65 229.81,-44.53\"/>\n",
       "<text text-anchor=\"middle\" x=\"207.5\" y=\"-57.8\" font-family=\"Times,serif\" font-size=\"14.00\">1</text>\n",
       "</g>\n",
       "</g>\n",
       "</svg>"
      ],
      "text/plain": [
       "<IPython.core.display.SVG object>"
      ]
     },
     "metadata": {},
     "output_type": "display_data"
    },
    {
     "data": {
      "text/markdown": [
       "#### Counts totals:\n",
       " - `SynthesizeLRCircuit`: 1\n",
       " - `SynthesizeLRCircuit`: 1\n",
       " - `Toffoli`: 16"
      ],
      "text/plain": [
       "<IPython.core.display.Markdown object>"
      ]
     },
     "metadata": {},
     "output_type": "display_data"
    }
   ],
   "source": [
    "from qualtran.resource_counting.generalizers import ignore_split_join\n",
    "gf16_multiplication_g, gf16_multiplication_sigma = gf16_multiplication.call_graph(max_depth=1, generalizer=ignore_split_join)\n",
    "show_call_graph(gf16_multiplication_g)\n",
    "show_counts_sigma(gf16_multiplication_sigma)"
   ]
  },
  {
   "cell_type": "markdown",
   "id": "a9729be2",
   "metadata": {
    "cq.autogen": "MultiplyPolyByConstantMod.bloq_doc.md"
   },
   "source": [
    "## `MultiplyPolyByConstantMod`\n",
    "Multiply a polynomial by $f(x)$ modulu $m(x)$. Both $f(x)$ and $m(x)$ are constants.\n",
    "\n",
    "#### Parameters\n",
    " - `f_x`: The polynomial to mulitply with, given either a galois.Poly or as a sequence degrees.\n",
    " - `m_x`: The modulus polynomial, given either a galois.Poly or as a sequence degrees. \n",
    "\n",
    "#### Registers\n",
    " - `g`: The polynomial coefficients (in GF(2)). \n",
    "\n",
    "#### References\n",
    " - [Space-efficient quantum multiplication of polynomials for binary finite fields with     sub-quadratic Toffoli gate count](https://arxiv.org/abs/1910.02849v2). Algorithm 1\n"
   ]
  },
  {
   "cell_type": "code",
   "execution_count": 7,
   "id": "a25c2e49",
   "metadata": {
    "cq.autogen": "MultiplyPolyByConstantMod.bloq_doc.py"
   },
   "outputs": [],
   "source": [
    "from qualtran.bloqs.gf_arithmetic import MultiplyPolyByConstantMod"
   ]
  },
  {
   "cell_type": "markdown",
   "id": "3690dcdb",
   "metadata": {
    "cq.autogen": "MultiplyPolyByConstantMod.example_instances.md"
   },
   "source": [
    "### Example Instances"
   ]
  },
  {
   "cell_type": "code",
   "execution_count": 8,
   "id": "dffa638f",
   "metadata": {
    "cq.autogen": "MultiplyPolyByConstantMod.gf2_multiply_by_constant_modulu"
   },
   "outputs": [],
   "source": [
    "fx = [2, 0]  # x^2 + 1\n",
    "mx = [0, 1, 3]  # x^3 + x + 1\n",
    "gf2_multiply_by_constant_modulu = MultiplyPolyByConstantMod(fx, mx)"
   ]
  },
  {
   "cell_type": "markdown",
   "id": "e140ad12",
   "metadata": {
    "cq.autogen": "MultiplyPolyByConstantMod.graphical_signature.md"
   },
   "source": [
    "#### Graphical Signature"
   ]
  },
  {
   "cell_type": "code",
   "execution_count": 9,
   "id": "501a0781",
   "metadata": {
    "cq.autogen": "MultiplyPolyByConstantMod.graphical_signature.py"
   },
   "outputs": [
    {
     "data": {
      "application/vnd.jupyter.widget-view+json": {
       "model_id": "b1a5a9dc0c1c46398d2112c65333874a",
       "version_major": 2,
       "version_minor": 0
      },
      "text/plain": [
       "HBox(children=(Output(outputs=({'output_type': 'display_data', 'data': {'text/plain': '<IPython.core.display.M…"
      ]
     },
     "metadata": {},
     "output_type": "display_data"
    }
   ],
   "source": [
    "from qualtran.drawing import show_bloqs\n",
    "show_bloqs([gf2_multiply_by_constant_modulu],\n",
    "           ['`gf2_multiply_by_constant_modulu`'])"
   ]
  },
  {
   "cell_type": "markdown",
   "id": "292b96b9",
   "metadata": {
    "cq.autogen": "MultiplyPolyByConstantMod.call_graph.md"
   },
   "source": [
    "### Call Graph"
   ]
  },
  {
   "cell_type": "code",
   "execution_count": 10,
   "id": "fad6337a",
   "metadata": {
    "cq.autogen": "MultiplyPolyByConstantMod.call_graph.py"
   },
   "outputs": [
    {
     "data": {
      "image/svg+xml": [
       "<svg xmlns=\"http://www.w3.org/2000/svg\" xmlns:xlink=\"http://www.w3.org/1999/xlink\" width=\"160pt\" height=\"131pt\" viewBox=\"0.00 0.00 160.00 131.00\">\n",
       "<g id=\"graph0\" class=\"graph\" transform=\"scale(1 1) rotate(0) translate(4 127)\">\n",
       "<title>counts</title>\n",
       "<polygon fill=\"white\" stroke=\"transparent\" points=\"-4,4 -4,-127 156,-127 156,4 -4,4\"/>\n",
       "<!-- b0 -->\n",
       "<g id=\"node1\" class=\"node\">\n",
       "<title>b0</title>\n",
       "<polygon fill=\"none\" stroke=\"black\" points=\"8,-93 8,-116 144,-116 144,-93 8,-93\"/>\n",
       "<text text-anchor=\"start\" x=\"14\" y=\"-102\" font-family=\"Times,serif\" font-size=\"10.00\">MultiplyPolyByConstantMod</text>\n",
       "</g>\n",
       "<!-- b1 -->\n",
       "<g id=\"node2\" class=\"node\">\n",
       "<title>b1</title>\n",
       "<polygon fill=\"none\" stroke=\"black\" points=\"56,-6 56,-29 96,-29 96,-6 56,-6\"/>\n",
       "<text text-anchor=\"start\" x=\"62\" y=\"-15\" font-family=\"Times,serif\" font-size=\"10.00\">CNOT</text>\n",
       "</g>\n",
       "<!-- b0&#45;&gt;b1 -->\n",
       "<g id=\"edge1\" class=\"edge\">\n",
       "<title>b0-&gt;b1</title>\n",
       "<path fill=\"none\" stroke=\"black\" d=\"M76,-86.8C76,-75.16 76,-59.55 76,-46.24\"/>\n",
       "<polygon fill=\"black\" stroke=\"black\" points=\"79.5,-46.18 76,-36.18 72.5,-46.18 79.5,-46.18\"/>\n",
       "<text text-anchor=\"middle\" x=\"79.5\" y=\"-57.8\" font-family=\"Times,serif\" font-size=\"14.00\">2</text>\n",
       "</g>\n",
       "</g>\n",
       "</svg>"
      ],
      "text/plain": [
       "<IPython.core.display.SVG object>"
      ]
     },
     "metadata": {},
     "output_type": "display_data"
    },
    {
     "data": {
      "text/markdown": [
       "#### Counts totals:\n",
       " - `CNOT`: 2"
      ],
      "text/plain": [
       "<IPython.core.display.Markdown object>"
      ]
     },
     "metadata": {},
     "output_type": "display_data"
    }
   ],
   "source": [
    "from qualtran.resource_counting.generalizers import ignore_split_join\n",
    "gf2_multiply_by_constant_modulu_g, gf2_multiply_by_constant_modulu_sigma = gf2_multiply_by_constant_modulu.call_graph(max_depth=1, generalizer=ignore_split_join)\n",
    "show_call_graph(gf2_multiply_by_constant_modulu_g)\n",
    "show_counts_sigma(gf2_multiply_by_constant_modulu_sigma)"
   ]
  }
 ],
 "metadata": {
  "kernelspec": {
   "display_name": "Python 3",
   "language": "python",
   "name": "python3"
  },
  "language_info": {
   "codemirror_mode": {
    "name": "ipython",
    "version": 3
   },
   "file_extension": ".py",
   "mimetype": "text/x-python",
   "name": "python",
   "nbconvert_exporter": "python",
   "pygments_lexer": "ipython3",
   "version": "3.11.8"
  },
  "widgets": {
   "application/vnd.jupyter.widget-state+json": {
    "state": {
     "03246cceefac44848537281ab70930dd": {
      "model_module": "@jupyter-widgets/output",
      "model_module_version": "1.0.0",
      "model_name": "OutputModel",
      "state": {
       "_dom_classes": [],
       "_model_module": "@jupyter-widgets/output",
       "_model_module_version": "1.0.0",
       "_model_name": "OutputModel",
       "_view_count": null,
       "_view_module": "@jupyter-widgets/output",
       "_view_module_version": "1.0.0",
       "_view_name": "OutputView",
       "layout": "IPY_MODEL_8811732e246d43d2b31dbc2883d94fe5",
       "msg_id": "",
       "outputs": [
        {
         "data": {
          "text/markdown": "`gf2_multiplication_symbolic`",
          "text/plain": "<IPython.core.display.Markdown object>"
         },
         "metadata": {},
         "output_type": "display_data"
        },
        {
         "data": {
          "image/svg+xml": "<svg xmlns=\"http://www.w3.org/2000/svg\" xmlns:xlink=\"http://www.w3.org/1999/xlink\" width=\"275pt\" height=\"152pt\" viewBox=\"0.00 0.00 275.00 152.00\">\n<g id=\"graph0\" class=\"graph\" transform=\"scale(1 1) rotate(0) translate(4 148)\">\n<title>my_graph</title>\n<polygon fill=\"white\" stroke=\"transparent\" points=\"-4,4 -4,-148 271,-148 271,4 -4,4\"/>\n<!-- x_G1 -->\n<g id=\"node1\" class=\"node\">\n<title>x_G1</title>\n<text text-anchor=\"middle\" x=\"27\" y=\"-106.3\" font-family=\"Times,serif\" font-size=\"14.00\">x</text>\n</g>\n<!-- GF2Multiplication -->\n<g id=\"node3\" class=\"node\">\n<title>GF2Multiplication</title>\n<polygon fill=\"none\" stroke=\"black\" points=\"91.5,-104 91.5,-121 176.5,-121 176.5,-104 91.5,-104\"/>\n<text text-anchor=\"start\" x=\"94.5\" y=\"-110\" font-family=\"Times,serif\" font-size=\"10.00\">GF2Multiplication</text>\n<polygon fill=\"none\" stroke=\"black\" points=\"91.5,-83 91.5,-104 176.5,-104 176.5,-83 91.5,-83\"/>\n<text text-anchor=\"start\" x=\"130.5\" y=\"-89.8\" font-family=\"Times,serif\" font-size=\"14.00\">x</text>\n<polygon fill=\"none\" stroke=\"black\" points=\"91.5,-62 91.5,-83 176.5,-83 176.5,-62 91.5,-62\"/>\n<text text-anchor=\"start\" x=\"130.5\" y=\"-68.8\" font-family=\"Times,serif\" font-size=\"14.00\">y</text>\n<polygon fill=\"none\" stroke=\"black\" points=\"91.5,-41 91.5,-62 118.5,-62 118.5,-41 91.5,-41\"/>\n<polygon fill=\"none\" stroke=\"black\" points=\"118.5,-41 118.5,-62 176.5,-62 176.5,-41 118.5,-41\"/>\n<text text-anchor=\"start\" x=\"132\" y=\"-47.8\" font-family=\"Times,serif\" font-size=\"14.00\">result</text>\n</g>\n<!-- x_G1&#45;&gt;GF2Multiplication -->\n<g id=\"edge1\" class=\"edge\">\n<title>x_G1:e-&gt;GF2Multiplication:w</title>\n<path fill=\"none\" stroke=\"black\" d=\"M54,-110C71.22,-110 72.97,-95.23 88.98,-94.07\"/>\n<ellipse fill=\"black\" stroke=\"black\" cx=\"90\" cy=\"-94.04\" rx=\"1\" ry=\"1\"/>\n<text text-anchor=\"middle\" x=\"72.5\" y=\"-105\" font-family=\"Times,serif\" font-size=\"10.00\">ceiling(log2(floor(2**m)))</text>\n</g>\n<!-- y_G7 -->\n<g id=\"node2\" class=\"node\">\n<title>y_G7</title>\n<text text-anchor=\"middle\" x=\"27\" y=\"-52.3\" font-family=\"Times,serif\" font-size=\"14.00\">y</text>\n</g>\n<!-- y_G7&#45;&gt;GF2Multiplication -->\n<g id=\"edge2\" class=\"edge\">\n<title>y_G7:e-&gt;GF2Multiplication:w</title>\n<path fill=\"none\" stroke=\"black\" d=\"M54,-56C71.22,-56 72.97,-70.77 88.98,-71.93\"/>\n<ellipse fill=\"black\" stroke=\"black\" cx=\"90\" cy=\"-71.96\" rx=\"1\" ry=\"1\"/>\n<text text-anchor=\"middle\" x=\"72.5\" y=\"-68\" font-family=\"Times,serif\" font-size=\"10.00\">ceiling(log2(floor(2**m)))</text>\n</g>\n<!-- x_G4 -->\n<g id=\"node4\" class=\"node\">\n<title>x_G4</title>\n<text text-anchor=\"middle\" x=\"240\" y=\"-122.3\" font-family=\"Times,serif\" font-size=\"14.00\">x</text>\n</g>\n<!-- GF2Multiplication&#45;&gt;x_G4 -->\n<g id=\"edge3\" class=\"edge\">\n<title>GF2Multiplication:e-&gt;x_G4:w</title>\n<path fill=\"none\" stroke=\"black\" d=\"M176,-94C196.89,-94 191.72,-123.55 210.58,-125.86\"/>\n<ellipse fill=\"black\" stroke=\"black\" cx=\"212\" cy=\"-125.94\" rx=\"1\" ry=\"1\"/>\n<text text-anchor=\"middle\" x=\"194.5\" y=\"-113\" font-family=\"Times,serif\" font-size=\"10.00\">ceiling(log2(floor(2**m)))</text>\n</g>\n<!-- y_G3 -->\n<g id=\"node5\" class=\"node\">\n<title>y_G3</title>\n<text text-anchor=\"middle\" x=\"240\" y=\"-68.3\" font-family=\"Times,serif\" font-size=\"14.00\">y</text>\n</g>\n<!-- GF2Multiplication&#45;&gt;y_G3 -->\n<g id=\"edge4\" class=\"edge\">\n<title>GF2Multiplication:e-&gt;y_G3:w</title>\n<path fill=\"none\" stroke=\"black\" d=\"M176,-72C191.67,-72 196.14,-72 210.77,-72\"/>\n<ellipse fill=\"black\" stroke=\"black\" cx=\"212\" cy=\"-72\" rx=\"1\" ry=\"1\"/>\n<text text-anchor=\"middle\" x=\"194.5\" y=\"-75\" font-family=\"Times,serif\" font-size=\"10.00\">ceiling(log2(floor(2**m)))</text>\n</g>\n<!-- result_G5 -->\n<g id=\"node6\" class=\"node\">\n<title>result_G5</title>\n<text text-anchor=\"middle\" x=\"240\" y=\"-14.3\" font-family=\"Times,serif\" font-size=\"14.00\">result</text>\n</g>\n<!-- GF2Multiplication&#45;&gt;result_G5 -->\n<g id=\"edge5\" class=\"edge\">\n<title>GF2Multiplication:e-&gt;result_G5:w</title>\n<path fill=\"none\" stroke=\"black\" d=\"M176,-51C197.17,-51 191.47,-20.53 210.55,-18.15\"/>\n<ellipse fill=\"black\" stroke=\"black\" cx=\"212\" cy=\"-18.06\" rx=\"1\" ry=\"1\"/>\n<text text-anchor=\"middle\" x=\"194.5\" y=\"-39\" font-family=\"Times,serif\" font-size=\"10.00\">ceiling(log2(floor(2**m)))</text>\n</g>\n</g>\n</svg>",
          "text/plain": "<IPython.core.display.SVG object>"
         },
         "metadata": {},
         "output_type": "display_data"
        }
       ],
       "tabbable": null,
       "tooltip": null
      }
     },
     "2b6e2cebc41a4b4fb250f7cd01334322": {
      "model_module": "@jupyter-widgets/base",
      "model_module_version": "2.0.0",
      "model_name": "LayoutModel",
      "state": {
       "_model_module": "@jupyter-widgets/base",
       "_model_module_version": "2.0.0",
       "_model_name": "LayoutModel",
       "_view_count": null,
       "_view_module": "@jupyter-widgets/base",
       "_view_module_version": "2.0.0",
       "_view_name": "LayoutView",
       "align_content": null,
       "align_items": null,
       "align_self": null,
       "border_bottom": null,
       "border_left": null,
       "border_right": null,
       "border_top": null,
       "bottom": null,
       "display": null,
       "flex": null,
       "flex_flow": null,
       "grid_area": null,
       "grid_auto_columns": null,
       "grid_auto_flow": null,
       "grid_auto_rows": null,
       "grid_column": null,
       "grid_gap": null,
       "grid_row": null,
       "grid_template_areas": null,
       "grid_template_columns": null,
       "grid_template_rows": null,
       "height": null,
       "justify_content": null,
       "justify_items": null,
       "left": null,
       "margin": null,
       "max_height": null,
       "max_width": null,
       "min_height": null,
       "min_width": null,
       "object_fit": null,
       "object_position": null,
       "order": null,
       "overflow": null,
       "padding": null,
       "right": null,
       "top": null,
       "visibility": null,
       "width": null
      }
     },
     "421f2131d04f405fb149880c470a768f": {
      "model_module": "@jupyter-widgets/base",
      "model_module_version": "2.0.0",
      "model_name": "LayoutModel",
      "state": {
       "_model_module": "@jupyter-widgets/base",
       "_model_module_version": "2.0.0",
       "_model_name": "LayoutModel",
       "_view_count": null,
       "_view_module": "@jupyter-widgets/base",
       "_view_module_version": "2.0.0",
       "_view_name": "LayoutView",
       "align_content": null,
       "align_items": null,
       "align_self": null,
       "border_bottom": null,
       "border_left": null,
       "border_right": null,
       "border_top": null,
       "bottom": null,
       "display": null,
       "flex": null,
       "flex_flow": null,
       "grid_area": null,
       "grid_auto_columns": null,
       "grid_auto_flow": null,
       "grid_auto_rows": null,
       "grid_column": null,
       "grid_gap": null,
       "grid_row": null,
       "grid_template_areas": null,
       "grid_template_columns": null,
       "grid_template_rows": null,
       "height": null,
       "justify_content": null,
       "justify_items": null,
       "left": null,
       "margin": null,
       "max_height": null,
       "max_width": null,
       "min_height": null,
       "min_width": null,
       "object_fit": null,
       "object_position": null,
       "order": null,
       "overflow": null,
       "padding": null,
       "right": null,
       "top": null,
       "visibility": null,
       "width": null
      }
     },
     "75da5d56cc5846e897684b3980dc0813": {
      "model_module": "@jupyter-widgets/controls",
      "model_module_version": "2.0.0",
      "model_name": "HBoxModel",
      "state": {
       "_dom_classes": [],
       "_model_module": "@jupyter-widgets/controls",
       "_model_module_version": "2.0.0",
       "_model_name": "HBoxModel",
       "_view_count": null,
       "_view_module": "@jupyter-widgets/controls",
       "_view_module_version": "2.0.0",
       "_view_name": "HBoxView",
       "box_style": "",
       "children": [
        "IPY_MODEL_d53d6dedbfb648398250c1466063ffa5",
        "IPY_MODEL_03246cceefac44848537281ab70930dd"
       ],
       "layout": "IPY_MODEL_b9366543b52042a48d0be4aa4cabdfb5",
       "tabbable": null,
       "tooltip": null
      }
     },
     "8811732e246d43d2b31dbc2883d94fe5": {
      "model_module": "@jupyter-widgets/base",
      "model_module_version": "2.0.0",
      "model_name": "LayoutModel",
      "state": {
       "_model_module": "@jupyter-widgets/base",
       "_model_module_version": "2.0.0",
       "_model_name": "LayoutModel",
       "_view_count": null,
       "_view_module": "@jupyter-widgets/base",
       "_view_module_version": "2.0.0",
       "_view_name": "LayoutView",
       "align_content": null,
       "align_items": null,
       "align_self": null,
       "border_bottom": null,
       "border_left": null,
       "border_right": null,
       "border_top": null,
       "bottom": null,
       "display": null,
       "flex": null,
       "flex_flow": null,
       "grid_area": null,
       "grid_auto_columns": null,
       "grid_auto_flow": null,
       "grid_auto_rows": null,
       "grid_column": null,
       "grid_gap": null,
       "grid_row": null,
       "grid_template_areas": null,
       "grid_template_columns": null,
       "grid_template_rows": null,
       "height": null,
       "justify_content": null,
       "justify_items": null,
       "left": null,
       "margin": null,
       "max_height": null,
       "max_width": null,
       "min_height": null,
       "min_width": null,
       "object_fit": null,
       "object_position": null,
       "order": null,
       "overflow": null,
       "padding": null,
       "right": null,
       "top": null,
       "visibility": null,
       "width": null
      }
     },
     "93ef15054fba475eb05a000ef6bbf5bf": {
      "model_module": "@jupyter-widgets/output",
      "model_module_version": "1.0.0",
      "model_name": "OutputModel",
      "state": {
       "_dom_classes": [],
       "_model_module": "@jupyter-widgets/output",
       "_model_module_version": "1.0.0",
       "_model_name": "OutputModel",
       "_view_count": null,
       "_view_module": "@jupyter-widgets/output",
       "_view_module_version": "1.0.0",
       "_view_name": "OutputView",
       "layout": "IPY_MODEL_2b6e2cebc41a4b4fb250f7cd01334322",
       "msg_id": "",
       "outputs": [
        {
         "data": {
          "text/markdown": "`gf2_multiply_by_constant_modulu`",
          "text/plain": "<IPython.core.display.Markdown object>"
         },
         "metadata": {},
         "output_type": "display_data"
        },
        {
         "data": {
          "image/svg+xml": "<svg xmlns=\"http://www.w3.org/2000/svg\" xmlns:xlink=\"http://www.w3.org/1999/xlink\" width=\"320pt\" height=\"152pt\" viewBox=\"0.00 0.00 320.00 152.00\">\n<g id=\"graph0\" class=\"graph\" transform=\"scale(1 1) rotate(0) translate(4 148)\">\n<title>my_graph</title>\n<polygon fill=\"white\" stroke=\"transparent\" points=\"-4,4 -4,-148 316,-148 316,4 -4,4\"/>\n<!-- g_G2 -->\n<g id=\"node1\" class=\"node\">\n<title>g_G2</title>\n<text text-anchor=\"middle\" x=\"27\" y=\"-122.3\" font-family=\"Times,serif\" font-size=\"14.00\">g[0]</text>\n</g>\n<!-- MultiplyPolyByConstantMod -->\n<g id=\"node4\" class=\"node\">\n<title>MultiplyPolyByConstantMod</title>\n<polygon fill=\"none\" stroke=\"black\" points=\"91,-104 91,-121 221,-121 221,-104 91,-104\"/>\n<text text-anchor=\"start\" x=\"94\" y=\"-110\" font-family=\"Times,serif\" font-size=\"10.00\">MultiplyPolyByConstantMod</text>\n<polygon fill=\"none\" stroke=\"black\" points=\"91,-83 91,-104 221,-104 221,-83 91,-83\"/>\n<text text-anchor=\"start\" x=\"144.5\" y=\"-89.8\" font-family=\"Times,serif\" font-size=\"14.00\">g[0]</text>\n<polygon fill=\"none\" stroke=\"black\" points=\"91,-62 91,-83 221,-83 221,-62 91,-62\"/>\n<text text-anchor=\"start\" x=\"144.5\" y=\"-68.8\" font-family=\"Times,serif\" font-size=\"14.00\">g[1]</text>\n<polygon fill=\"none\" stroke=\"black\" points=\"91,-41 91,-62 221,-62 221,-41 91,-41\"/>\n<text text-anchor=\"start\" x=\"144.5\" y=\"-47.8\" font-family=\"Times,serif\" font-size=\"14.00\">g[2]</text>\n</g>\n<!-- g_G2&#45;&gt;MultiplyPolyByConstantMod -->\n<g id=\"edge1\" class=\"edge\">\n<title>g_G2:e-&gt;MultiplyPolyByConstantMod:w</title>\n<path fill=\"none\" stroke=\"black\" d=\"M54,-126C74.89,-126 69.72,-96.45 88.58,-94.14\"/>\n<ellipse fill=\"black\" stroke=\"black\" cx=\"90\" cy=\"-94.06\" rx=\"1\" ry=\"1\"/>\n<text text-anchor=\"middle\" x=\"72.5\" y=\"-113\" font-family=\"Times,serif\" font-size=\"10.00\">1</text>\n</g>\n<!-- g_G0 -->\n<g id=\"node2\" class=\"node\">\n<title>g_G0</title>\n<text text-anchor=\"middle\" x=\"27\" y=\"-68.3\" font-family=\"Times,serif\" font-size=\"14.00\">g[1]</text>\n</g>\n<!-- g_G0&#45;&gt;MultiplyPolyByConstantMod -->\n<g id=\"edge2\" class=\"edge\">\n<title>g_G0:e-&gt;MultiplyPolyByConstantMod:w</title>\n<path fill=\"none\" stroke=\"black\" d=\"M54,-72C69.67,-72 74.14,-72 88.77,-72\"/>\n<ellipse fill=\"black\" stroke=\"black\" cx=\"90\" cy=\"-72\" rx=\"1\" ry=\"1\"/>\n<text text-anchor=\"middle\" x=\"72.5\" y=\"-75\" font-family=\"Times,serif\" font-size=\"10.00\">1</text>\n</g>\n<!-- g_G6 -->\n<g id=\"node3\" class=\"node\">\n<title>g_G6</title>\n<text text-anchor=\"middle\" x=\"27\" y=\"-14.3\" font-family=\"Times,serif\" font-size=\"14.00\">g[2]</text>\n</g>\n<!-- g_G6&#45;&gt;MultiplyPolyByConstantMod -->\n<g id=\"edge3\" class=\"edge\">\n<title>g_G6:e-&gt;MultiplyPolyByConstantMod:w</title>\n<path fill=\"none\" stroke=\"black\" d=\"M54,-18C75.17,-18 69.47,-48.47 88.55,-50.85\"/>\n<ellipse fill=\"black\" stroke=\"black\" cx=\"90\" cy=\"-50.94\" rx=\"1\" ry=\"1\"/>\n<text text-anchor=\"middle\" x=\"72.5\" y=\"-39\" font-family=\"Times,serif\" font-size=\"10.00\">1</text>\n</g>\n<!-- g_G4 -->\n<g id=\"node5\" class=\"node\">\n<title>g_G4</title>\n<text text-anchor=\"middle\" x=\"285\" y=\"-122.3\" font-family=\"Times,serif\" font-size=\"14.00\">g[0]</text>\n</g>\n<!-- MultiplyPolyByConstantMod&#45;&gt;g_G4 -->\n<g id=\"edge4\" class=\"edge\">\n<title>MultiplyPolyByConstantMod:e-&gt;g_G4:w</title>\n<path fill=\"none\" stroke=\"black\" d=\"M221,-94C241.89,-94 236.72,-123.55 255.58,-125.86\"/>\n<ellipse fill=\"black\" stroke=\"black\" cx=\"257\" cy=\"-125.94\" rx=\"1\" ry=\"1\"/>\n<text text-anchor=\"middle\" x=\"239.5\" y=\"-113\" font-family=\"Times,serif\" font-size=\"10.00\">1</text>\n</g>\n<!-- g_G1 -->\n<g id=\"node6\" class=\"node\">\n<title>g_G1</title>\n<text text-anchor=\"middle\" x=\"285\" y=\"-68.3\" font-family=\"Times,serif\" font-size=\"14.00\">g[1]</text>\n</g>\n<!-- MultiplyPolyByConstantMod&#45;&gt;g_G1 -->\n<g id=\"edge5\" class=\"edge\">\n<title>MultiplyPolyByConstantMod:e-&gt;g_G1:w</title>\n<path fill=\"none\" stroke=\"black\" d=\"M221,-72C236.67,-72 241.14,-72 255.77,-72\"/>\n<ellipse fill=\"black\" stroke=\"black\" cx=\"257\" cy=\"-72\" rx=\"1\" ry=\"1\"/>\n<text text-anchor=\"middle\" x=\"239.5\" y=\"-75\" font-family=\"Times,serif\" font-size=\"10.00\">1</text>\n</g>\n<!-- g_G5 -->\n<g id=\"node7\" class=\"node\">\n<title>g_G5</title>\n<text text-anchor=\"middle\" x=\"285\" y=\"-14.3\" font-family=\"Times,serif\" font-size=\"14.00\">g[2]</text>\n</g>\n<!-- MultiplyPolyByConstantMod&#45;&gt;g_G5 -->\n<g id=\"edge6\" class=\"edge\">\n<title>MultiplyPolyByConstantMod:e-&gt;g_G5:w</title>\n<path fill=\"none\" stroke=\"black\" d=\"M221,-51C242.17,-51 236.47,-20.53 255.55,-18.15\"/>\n<ellipse fill=\"black\" stroke=\"black\" cx=\"257\" cy=\"-18.06\" rx=\"1\" ry=\"1\"/>\n<text text-anchor=\"middle\" x=\"239.5\" y=\"-39\" font-family=\"Times,serif\" font-size=\"10.00\">1</text>\n</g>\n</g>\n</svg>",
          "text/plain": "<IPython.core.display.SVG object>"
         },
         "metadata": {},
         "output_type": "display_data"
        }
       ],
       "tabbable": null,
       "tooltip": null
      }
     },
     "9ec91fb611254d3e98936e5eb08f1ca3": {
      "model_module": "@jupyter-widgets/base",
      "model_module_version": "2.0.0",
      "model_name": "LayoutModel",
      "state": {
       "_model_module": "@jupyter-widgets/base",
       "_model_module_version": "2.0.0",
       "_model_name": "LayoutModel",
       "_view_count": null,
       "_view_module": "@jupyter-widgets/base",
       "_view_module_version": "2.0.0",
       "_view_name": "LayoutView",
       "align_content": null,
       "align_items": null,
       "align_self": null,
       "border_bottom": null,
       "border_left": null,
       "border_right": null,
       "border_top": null,
       "bottom": null,
       "display": null,
       "flex": null,
       "flex_flow": null,
       "grid_area": null,
       "grid_auto_columns": null,
       "grid_auto_flow": null,
       "grid_auto_rows": null,
       "grid_column": null,
       "grid_gap": null,
       "grid_row": null,
       "grid_template_areas": null,
       "grid_template_columns": null,
       "grid_template_rows": null,
       "height": null,
       "justify_content": null,
       "justify_items": null,
       "left": null,
       "margin": null,
       "max_height": null,
       "max_width": null,
       "min_height": null,
       "min_width": null,
       "object_fit": null,
       "object_position": null,
       "order": null,
       "overflow": null,
       "padding": null,
       "right": null,
       "top": null,
       "visibility": null,
       "width": null
      }
     },
     "b1a5a9dc0c1c46398d2112c65333874a": {
      "model_module": "@jupyter-widgets/controls",
      "model_module_version": "2.0.0",
      "model_name": "HBoxModel",
      "state": {
       "_dom_classes": [],
       "_model_module": "@jupyter-widgets/controls",
       "_model_module_version": "2.0.0",
       "_model_name": "HBoxModel",
       "_view_count": null,
       "_view_module": "@jupyter-widgets/controls",
       "_view_module_version": "2.0.0",
       "_view_name": "HBoxView",
       "box_style": "",
       "children": [
        "IPY_MODEL_93ef15054fba475eb05a000ef6bbf5bf"
       ],
       "layout": "IPY_MODEL_9ec91fb611254d3e98936e5eb08f1ca3",
       "tabbable": null,
       "tooltip": null
      }
     },
     "b9366543b52042a48d0be4aa4cabdfb5": {
      "model_module": "@jupyter-widgets/base",
      "model_module_version": "2.0.0",
      "model_name": "LayoutModel",
      "state": {
       "_model_module": "@jupyter-widgets/base",
       "_model_module_version": "2.0.0",
       "_model_name": "LayoutModel",
       "_view_count": null,
       "_view_module": "@jupyter-widgets/base",
       "_view_module_version": "2.0.0",
       "_view_name": "LayoutView",
       "align_content": null,
       "align_items": null,
       "align_self": null,
       "border_bottom": null,
       "border_left": null,
       "border_right": null,
       "border_top": null,
       "bottom": null,
       "display": null,
       "flex": null,
       "flex_flow": null,
       "grid_area": null,
       "grid_auto_columns": null,
       "grid_auto_flow": null,
       "grid_auto_rows": null,
       "grid_column": null,
       "grid_gap": null,
       "grid_row": null,
       "grid_template_areas": null,
       "grid_template_columns": null,
       "grid_template_rows": null,
       "height": null,
       "justify_content": null,
       "justify_items": null,
       "left": null,
       "margin": null,
       "max_height": null,
       "max_width": null,
       "min_height": null,
       "min_width": null,
       "object_fit": null,
       "object_position": null,
       "order": null,
       "overflow": null,
       "padding": null,
       "right": null,
       "top": null,
       "visibility": null,
       "width": null
      }
     },
     "d53d6dedbfb648398250c1466063ffa5": {
      "model_module": "@jupyter-widgets/output",
      "model_module_version": "1.0.0",
      "model_name": "OutputModel",
      "state": {
       "_dom_classes": [],
       "_model_module": "@jupyter-widgets/output",
       "_model_module_version": "1.0.0",
       "_model_name": "OutputModel",
       "_view_count": null,
       "_view_module": "@jupyter-widgets/output",
       "_view_module_version": "1.0.0",
       "_view_name": "OutputView",
       "layout": "IPY_MODEL_421f2131d04f405fb149880c470a768f",
       "msg_id": "",
       "outputs": [
        {
         "data": {
          "text/markdown": "`gf16_multiplication`",
          "text/plain": "<IPython.core.display.Markdown object>"
         },
         "metadata": {},
         "output_type": "display_data"
        },
        {
         "data": {
          "image/svg+xml": "<svg xmlns=\"http://www.w3.org/2000/svg\" xmlns:xlink=\"http://www.w3.org/1999/xlink\" width=\"275pt\" height=\"152pt\" viewBox=\"0.00 0.00 275.00 152.00\">\n<g id=\"graph0\" class=\"graph\" transform=\"scale(1 1) rotate(0) translate(4 148)\">\n<title>my_graph</title>\n<polygon fill=\"white\" stroke=\"transparent\" points=\"-4,4 -4,-148 271,-148 271,4 -4,4\"/>\n<!-- x_G1 -->\n<g id=\"node1\" class=\"node\">\n<title>x_G1</title>\n<text text-anchor=\"middle\" x=\"27\" y=\"-122.3\" font-family=\"Times,serif\" font-size=\"14.00\">x</text>\n</g>\n<!-- GF2Multiplication -->\n<g id=\"node4\" class=\"node\">\n<title>GF2Multiplication</title>\n<polygon fill=\"none\" stroke=\"black\" points=\"91.5,-104 91.5,-121 176.5,-121 176.5,-104 91.5,-104\"/>\n<text text-anchor=\"start\" x=\"94.5\" y=\"-110\" font-family=\"Times,serif\" font-size=\"10.00\">GF2Multiplication</text>\n<polygon fill=\"none\" stroke=\"black\" points=\"91.5,-83 91.5,-104 176.5,-104 176.5,-83 91.5,-83\"/>\n<text text-anchor=\"start\" x=\"130.5\" y=\"-89.8\" font-family=\"Times,serif\" font-size=\"14.00\">x</text>\n<polygon fill=\"none\" stroke=\"black\" points=\"91.5,-62 91.5,-83 176.5,-83 176.5,-62 91.5,-62\"/>\n<text text-anchor=\"start\" x=\"130.5\" y=\"-68.8\" font-family=\"Times,serif\" font-size=\"14.00\">y</text>\n<polygon fill=\"none\" stroke=\"black\" points=\"91.5,-41 91.5,-62 176.5,-62 176.5,-41 91.5,-41\"/>\n<text text-anchor=\"start\" x=\"118.5\" y=\"-47.8\" font-family=\"Times,serif\" font-size=\"14.00\">result</text>\n</g>\n<!-- x_G1&#45;&gt;GF2Multiplication -->\n<g id=\"edge1\" class=\"edge\">\n<title>x_G1:e-&gt;GF2Multiplication:w</title>\n<path fill=\"none\" stroke=\"black\" d=\"M54,-126C74.89,-126 69.72,-96.45 88.58,-94.14\"/>\n<ellipse fill=\"black\" stroke=\"black\" cx=\"90\" cy=\"-94.06\" rx=\"1\" ry=\"1\"/>\n<text text-anchor=\"middle\" x=\"72.5\" y=\"-113\" font-family=\"Times,serif\" font-size=\"10.00\">4</text>\n</g>\n<!-- y_G4 -->\n<g id=\"node2\" class=\"node\">\n<title>y_G4</title>\n<text text-anchor=\"middle\" x=\"27\" y=\"-68.3\" font-family=\"Times,serif\" font-size=\"14.00\">y</text>\n</g>\n<!-- y_G4&#45;&gt;GF2Multiplication -->\n<g id=\"edge2\" class=\"edge\">\n<title>y_G4:e-&gt;GF2Multiplication:w</title>\n<path fill=\"none\" stroke=\"black\" d=\"M54,-72C69.67,-72 74.14,-72 88.77,-72\"/>\n<ellipse fill=\"black\" stroke=\"black\" cx=\"90\" cy=\"-72\" rx=\"1\" ry=\"1\"/>\n<text text-anchor=\"middle\" x=\"72.5\" y=\"-75\" font-family=\"Times,serif\" font-size=\"10.00\">4</text>\n</g>\n<!-- result_G6 -->\n<g id=\"node3\" class=\"node\">\n<title>result_G6</title>\n<text text-anchor=\"middle\" x=\"27\" y=\"-14.3\" font-family=\"Times,serif\" font-size=\"14.00\">result</text>\n</g>\n<!-- result_G6&#45;&gt;GF2Multiplication -->\n<g id=\"edge3\" class=\"edge\">\n<title>result_G6:e-&gt;GF2Multiplication:w</title>\n<path fill=\"none\" stroke=\"black\" d=\"M54,-18C75.17,-18 69.47,-48.47 88.55,-50.85\"/>\n<ellipse fill=\"black\" stroke=\"black\" cx=\"90\" cy=\"-50.94\" rx=\"1\" ry=\"1\"/>\n<text text-anchor=\"middle\" x=\"72.5\" y=\"-39\" font-family=\"Times,serif\" font-size=\"10.00\">4</text>\n</g>\n<!-- x_G8 -->\n<g id=\"node5\" class=\"node\">\n<title>x_G8</title>\n<text text-anchor=\"middle\" x=\"240\" y=\"-122.3\" font-family=\"Times,serif\" font-size=\"14.00\">x</text>\n</g>\n<!-- GF2Multiplication&#45;&gt;x_G8 -->\n<g id=\"edge4\" class=\"edge\">\n<title>GF2Multiplication:e-&gt;x_G8:w</title>\n<path fill=\"none\" stroke=\"black\" d=\"M176,-94C196.89,-94 191.72,-123.55 210.58,-125.86\"/>\n<ellipse fill=\"black\" stroke=\"black\" cx=\"212\" cy=\"-125.94\" rx=\"1\" ry=\"1\"/>\n<text text-anchor=\"middle\" x=\"194.5\" y=\"-113\" font-family=\"Times,serif\" font-size=\"10.00\">4</text>\n</g>\n<!-- y_G2 -->\n<g id=\"node6\" class=\"node\">\n<title>y_G2</title>\n<text text-anchor=\"middle\" x=\"240\" y=\"-68.3\" font-family=\"Times,serif\" font-size=\"14.00\">y</text>\n</g>\n<!-- GF2Multiplication&#45;&gt;y_G2 -->\n<g id=\"edge5\" class=\"edge\">\n<title>GF2Multiplication:e-&gt;y_G2:w</title>\n<path fill=\"none\" stroke=\"black\" d=\"M176,-72C191.67,-72 196.14,-72 210.77,-72\"/>\n<ellipse fill=\"black\" stroke=\"black\" cx=\"212\" cy=\"-72\" rx=\"1\" ry=\"1\"/>\n<text text-anchor=\"middle\" x=\"194.5\" y=\"-75\" font-family=\"Times,serif\" font-size=\"10.00\">4</text>\n</g>\n<!-- result_G0 -->\n<g id=\"node7\" class=\"node\">\n<title>result_G0</title>\n<text text-anchor=\"middle\" x=\"240\" y=\"-14.3\" font-family=\"Times,serif\" font-size=\"14.00\">result</text>\n</g>\n<!-- GF2Multiplication&#45;&gt;result_G0 -->\n<g id=\"edge6\" class=\"edge\">\n<title>GF2Multiplication:e-&gt;result_G0:w</title>\n<path fill=\"none\" stroke=\"black\" d=\"M176,-51C197.17,-51 191.47,-20.53 210.55,-18.15\"/>\n<ellipse fill=\"black\" stroke=\"black\" cx=\"212\" cy=\"-18.06\" rx=\"1\" ry=\"1\"/>\n<text text-anchor=\"middle\" x=\"194.5\" y=\"-39\" font-family=\"Times,serif\" font-size=\"10.00\">4</text>\n</g>\n</g>\n</svg>",
          "text/plain": "<IPython.core.display.SVG object>"
         },
         "metadata": {},
         "output_type": "display_data"
        }
       ],
       "tabbable": null,
       "tooltip": null
      }
     }
    },
    "version_major": 2,
    "version_minor": 0
   }
  }
 },
 "nbformat": 4,
 "nbformat_minor": 5
}
