{
 "cells": [
  {
   "cell_type": "markdown",
   "id": "0beec492",
   "metadata": {
    "cq.autogen": "title_cell"
   },
   "source": [
    "# Control Specification (And)"
   ]
  },
  {
   "cell_type": "code",
   "execution_count": 1,
   "id": "4d31094e",
   "metadata": {
    "cq.autogen": "top_imports"
   },
   "outputs": [],
   "source": [
    "from qualtran import Bloq, CompositeBloq, BloqBuilder, Signature, Register\n",
    "from qualtran import QBit, QInt, QUInt, QAny\n",
    "from qualtran.drawing import show_bloq, show_call_graph, show_counts_sigma\n",
    "from typing import *\n",
    "import numpy as np\n",
    "import sympy\n",
    "import cirq"
   ]
  },
  {
   "cell_type": "markdown",
   "id": "12aba876",
   "metadata": {
    "cq.autogen": "CtrlSpecAnd.bloq_doc.md"
   },
   "source": [
    "## `CtrlSpecAnd`\n",
    "Computes a single qubit which is `1` iff the CtrlSpec of And clauses is satisfied.\n",
    "\n",
    "This reduces an arbitrary 'And' clause control spec to a single qubit, which can be used\n",
    "to then control a bloq. Therefore, a bloq author is only required to implement a\n",
    "single-controlled version of their bloq, and can be generalized to arbitrary controls.\n",
    "\n",
    "The control registers are passed through as-is. If the same control bit is required for\n",
    "multiple bloqs, the user can use the `target` qubit of this bloq multiple times, and only\n",
    "uncompute at the very end. For more custom strategies and trade-offs, see Ref. [1].\n",
    "\n",
    ".. note::\n",
    "\n",
    "   This only applies to CtrlSpec being a logical AND of all registers, and each register\n",
    "   being equal to a constant. See documentation for :class:`CtrlSpec` for more details.\n",
    "\n",
    "#### Parameters\n",
    " - `ctrl_spec`: The control specification. \n",
    "\n",
    "#### Registers\n",
    " - `ctrl_i`: The control register for the i-th ctrl dtype in the `ctrl_spec`.\n",
    " - `junk [right]`: `ctrl_spec.num_qubits - 2` qubits that can be cleaned up by the inverse. Only present if the above size is non-zero.\n",
    " - `target [right]`: The output bit storing the result of the `ctrl_spec`. \n",
    "\n",
    "#### References\n",
    " - [Unqomp: synthesizing uncomputation in Quantum circuits](https://dl.acm.org/doi/10.1145/3453483.3454040). Paradis et. al. 2021.\n"
   ]
  },
  {
   "cell_type": "code",
   "execution_count": 2,
   "id": "842307af",
   "metadata": {
    "cq.autogen": "CtrlSpecAnd.bloq_doc.py"
   },
   "outputs": [],
   "source": [
    "from qualtran.bloqs.mcmt import CtrlSpecAnd"
   ]
  },
  {
   "cell_type": "markdown",
   "id": "76f2965f",
   "metadata": {
    "cq.autogen": "CtrlSpecAnd.example_instances.md"
   },
   "source": [
    "### Example Instances"
   ]
  },
  {
   "cell_type": "code",
   "execution_count": 3,
   "id": "68a43214",
   "metadata": {
    "cq.autogen": "CtrlSpecAnd.ctrl_on_int"
   },
   "outputs": [],
   "source": [
    "from qualtran import CtrlSpec, QUInt\n",
    "\n",
    "ctrl_on_int = CtrlSpecAnd(CtrlSpec(qdtypes=QUInt(4), cvs=[0b0101]))"
   ]
  },
  {
   "cell_type": "code",
   "execution_count": 4,
   "id": "945fa4a4",
   "metadata": {
    "cq.autogen": "CtrlSpecAnd.ctrl_on_bits"
   },
   "outputs": [],
   "source": [
    "from qualtran import CtrlSpec, QBit\n",
    "\n",
    "ctrl_on_bits = CtrlSpecAnd(CtrlSpec(qdtypes=QBit(), cvs=[0, 1, 0, 1]))"
   ]
  },
  {
   "cell_type": "code",
   "execution_count": 5,
   "id": "5e6374b2",
   "metadata": {
    "cq.autogen": "CtrlSpecAnd.ctrl_on_nd_bits"
   },
   "outputs": [],
   "source": [
    "import numpy as np\n",
    "\n",
    "from qualtran import CtrlSpec, QBit\n",
    "\n",
    "ctrl_on_nd_bits = CtrlSpecAnd(CtrlSpec(qdtypes=QBit(), cvs=np.array([[0, 1], [1, 0]])))"
   ]
  },
  {
   "cell_type": "code",
   "execution_count": 6,
   "id": "2047fccf",
   "metadata": {
    "cq.autogen": "CtrlSpecAnd.ctrl_on_multiple_values"
   },
   "outputs": [],
   "source": [
    "from qualtran import CtrlSpec, QInt, QUInt\n",
    "\n",
    "ctrl_on_multiple_values = CtrlSpecAnd(\n",
    "    CtrlSpec(qdtypes=(QUInt(4), QInt(4)), cvs=([0b0101, 0b1100], [2, -2]))\n",
    ")"
   ]
  },
  {
   "cell_type": "markdown",
   "id": "55581cc0",
   "metadata": {
    "cq.autogen": "CtrlSpecAnd.graphical_signature.md"
   },
   "source": [
    "#### Graphical Signature"
   ]
  },
  {
   "cell_type": "code",
   "execution_count": 7,
   "id": "5ea9e6e5",
   "metadata": {
    "cq.autogen": "CtrlSpecAnd.graphical_signature.py"
   },
   "outputs": [
    {
     "data": {
      "application/vnd.jupyter.widget-view+json": {
       "model_id": "4cf73aa86b1646988cf012a9c13bf205",
       "version_major": 2,
       "version_minor": 0
      },
      "text/plain": [
       "HBox(children=(Output(outputs=({'output_type': 'display_data', 'data': {'text/plain': '<IPython.core.display.M…"
      ]
     },
     "metadata": {},
     "output_type": "display_data"
    }
   ],
   "source": [
    "from qualtran.drawing import show_bloqs\n",
    "show_bloqs([ctrl_on_int, ctrl_on_bits, ctrl_on_nd_bits, ctrl_on_multiple_values],\n",
    "           ['`ctrl_on_int`', '`ctrl_on_bits`', '`ctrl_on_nd_bits`', '`ctrl_on_multiple_values`'])"
   ]
  },
  {
   "cell_type": "markdown",
   "id": "3f5bb7d6",
   "metadata": {
    "cq.autogen": "CtrlSpecAnd.call_graph.md"
   },
   "source": [
    "### Call Graph"
   ]
  },
  {
   "cell_type": "code",
   "execution_count": 8,
   "id": "f83e1715",
   "metadata": {
    "cq.autogen": "CtrlSpecAnd.call_graph.py"
   },
   "outputs": [
    {
     "data": {
      "image/svg+xml": [
       "<svg xmlns=\"http://www.w3.org/2000/svg\" xmlns:xlink=\"http://www.w3.org/1999/xlink\" width=\"157pt\" height=\"131pt\" viewBox=\"0.00 0.00 157.00 131.00\">\n",
       "<g id=\"graph0\" class=\"graph\" transform=\"scale(1 1) rotate(0) translate(4 127)\">\n",
       "<title>counts</title>\n",
       "<polygon fill=\"white\" stroke=\"transparent\" points=\"-4,4 -4,-127 153,-127 153,4 -4,4\"/>\n",
       "<!-- b0 -->\n",
       "<g id=\"node1\" class=\"node\">\n",
       "<title>b0</title>\n",
       "<polygon fill=\"none\" stroke=\"black\" points=\"149,-123 0,-123 0,-87 149,-87 149,-123\"/>\n",
       "<text text-anchor=\"start\" x=\"39\" y=\"-106.8\" font-family=\"Times,serif\" font-size=\"14.00\">CtrlSpecAnd</text>\n",
       "<text text-anchor=\"start\" x=\"8\" y=\"-96\" font-family=\"monospace\" font-size=\"10.00\">ctrl_spec=CtrlSpec ...</text>\n",
       "</g>\n",
       "<!-- b1 -->\n",
       "<g id=\"node2\" class=\"node\">\n",
       "<title>b1</title>\n",
       "<polygon fill=\"none\" stroke=\"black\" points=\"131,-36 18,-36 18,0 131,0 131,-36\"/>\n",
       "<text text-anchor=\"start\" x=\"32\" y=\"-19.8\" font-family=\"Times,serif\" font-size=\"14.00\">MultiAnd(n=4)</text>\n",
       "<text text-anchor=\"start\" x=\"26\" y=\"-9\" font-family=\"monospace\" font-size=\"10.00\">cvs=(0, 1, 0, 1)</text>\n",
       "</g>\n",
       "<!-- b0&#45;&gt;b1 -->\n",
       "<g id=\"edge1\" class=\"edge\">\n",
       "<title>b0-&gt;b1</title>\n",
       "<path fill=\"none\" stroke=\"black\" d=\"M74.5,-86.8C74.5,-75.16 74.5,-59.55 74.5,-46.24\"/>\n",
       "<polygon fill=\"black\" stroke=\"black\" points=\"78,-46.18 74.5,-36.18 71,-46.18 78,-46.18\"/>\n",
       "<text text-anchor=\"middle\" x=\"78\" y=\"-57.8\" font-family=\"Times,serif\" font-size=\"14.00\">1</text>\n",
       "</g>\n",
       "</g>\n",
       "</svg>"
      ],
      "text/plain": [
       "<IPython.core.display.SVG object>"
      ]
     },
     "metadata": {},
     "output_type": "display_data"
    },
    {
     "data": {
      "text/markdown": [
       "#### Counts totals:\n",
       " - `MultiAnd(n=4)`: 1"
      ],
      "text/plain": [
       "<IPython.core.display.Markdown object>"
      ]
     },
     "metadata": {},
     "output_type": "display_data"
    }
   ],
   "source": [
    "from qualtran.resource_counting.generalizers import ignore_split_join\n",
    "ctrl_on_int_g, ctrl_on_int_sigma = ctrl_on_int.call_graph(max_depth=1, generalizer=ignore_split_join)\n",
    "show_call_graph(ctrl_on_int_g)\n",
    "show_counts_sigma(ctrl_on_int_sigma)"
   ]
  }
 ],
 "metadata": {
  "kernelspec": {
   "display_name": "Python 3",
   "language": "python",
   "name": "python3"
  },
  "language_info": {
   "codemirror_mode": {
    "name": "ipython",
    "version": 3
   },
   "file_extension": ".py",
   "mimetype": "text/x-python",
   "name": "python",
   "nbconvert_exporter": "python",
   "pygments_lexer": "ipython3",
   "version": "3.11.8"
  },
  "widgets": {
   "application/vnd.jupyter.widget-state+json": {
    "state": {
     "1570f6d5b7194961a6c5fb7ec3faed7c": {
      "model_module": "@jupyter-widgets/base",
      "model_module_version": "2.0.0",
      "model_name": "LayoutModel",
      "state": {
       "_model_module": "@jupyter-widgets/base",
       "_model_module_version": "2.0.0",
       "_model_name": "LayoutModel",
       "_view_count": null,
       "_view_module": "@jupyter-widgets/base",
       "_view_module_version": "2.0.0",
       "_view_name": "LayoutView",
       "align_content": null,
       "align_items": null,
       "align_self": null,
       "border_bottom": null,
       "border_left": null,
       "border_right": null,
       "border_top": null,
       "bottom": null,
       "display": null,
       "flex": null,
       "flex_flow": null,
       "grid_area": null,
       "grid_auto_columns": null,
       "grid_auto_flow": null,
       "grid_auto_rows": null,
       "grid_column": null,
       "grid_gap": null,
       "grid_row": null,
       "grid_template_areas": null,
       "grid_template_columns": null,
       "grid_template_rows": null,
       "height": null,
       "justify_content": null,
       "justify_items": null,
       "left": null,
       "margin": null,
       "max_height": null,
       "max_width": null,
       "min_height": null,
       "min_width": null,
       "object_fit": null,
       "object_position": null,
       "order": null,
       "overflow": null,
       "padding": null,
       "right": null,
       "top": null,
       "visibility": null,
       "width": null
      }
     },
     "27807aa31db546ae9e3d6717ee364895": {
      "model_module": "@jupyter-widgets/output",
      "model_module_version": "1.0.0",
      "model_name": "OutputModel",
      "state": {
       "_dom_classes": [],
       "_model_module": "@jupyter-widgets/output",
       "_model_module_version": "1.0.0",
       "_model_name": "OutputModel",
       "_view_count": null,
       "_view_module": "@jupyter-widgets/output",
       "_view_module_version": "1.0.0",
       "_view_name": "OutputView",
       "layout": "IPY_MODEL_c8367571ba9d4f308752998d0a5f1c45",
       "msg_id": "",
       "outputs": [
        {
         "data": {
          "text/markdown": "`ctrl_on_bits`",
          "text/plain": "<IPython.core.display.Markdown object>"
         },
         "metadata": {},
         "output_type": "display_data"
        },
        {
         "data": {
          "image/svg+xml": "<svg xmlns=\"http://www.w3.org/2000/svg\" xmlns:xlink=\"http://www.w3.org/1999/xlink\" width=\"270pt\" height=\"314pt\" viewBox=\"0.00 0.00 270.00 314.00\">\n<g id=\"graph0\" class=\"graph\" transform=\"scale(1 1) rotate(0) translate(4 310)\">\n<title>my_graph</title>\n<polygon fill=\"white\" stroke=\"transparent\" points=\"-4,4 -4,-310 266,-310 266,4 -4,4\"/>\n<!-- ctrl_0_G9 -->\n<g id=\"node1\" class=\"node\">\n<title>ctrl_0_G9</title>\n<text text-anchor=\"middle\" x=\"32\" y=\"-252.3\" font-family=\"Times,serif\" font-size=\"14.00\">ctrl_0[0]</text>\n</g>\n<!-- CtrlSpecAnd -->\n<g id=\"node5\" class=\"node\">\n<title>CtrlSpecAnd</title>\n<polygon fill=\"none\" stroke=\"black\" points=\"101,-216 101,-233 161,-233 161,-216 101,-216\"/>\n<text text-anchor=\"start\" x=\"104\" y=\"-222\" font-family=\"Times,serif\" font-size=\"10.00\">CtrlSpecAnd</text>\n<polygon fill=\"none\" stroke=\"black\" points=\"101,-195 101,-216 161,-216 161,-195 101,-195\"/>\n<text text-anchor=\"start\" x=\"107\" y=\"-201.8\" font-family=\"Times,serif\" font-size=\"14.00\">ctrl_0[0]</text>\n<polygon fill=\"none\" stroke=\"black\" points=\"101,-174 101,-195 161,-195 161,-174 101,-174\"/>\n<text text-anchor=\"start\" x=\"107\" y=\"-180.8\" font-family=\"Times,serif\" font-size=\"14.00\">ctrl_0[1]</text>\n<polygon fill=\"none\" stroke=\"black\" points=\"101,-153 101,-174 161,-174 161,-153 101,-153\"/>\n<text text-anchor=\"start\" x=\"107\" y=\"-159.8\" font-family=\"Times,serif\" font-size=\"14.00\">ctrl_0[2]</text>\n<polygon fill=\"none\" stroke=\"black\" points=\"101,-132 101,-153 161,-153 161,-132 101,-132\"/>\n<text text-anchor=\"start\" x=\"107\" y=\"-138.8\" font-family=\"Times,serif\" font-size=\"14.00\">ctrl_0[3]</text>\n<polygon fill=\"none\" stroke=\"black\" points=\"101,-111 101,-132 115,-132 115,-111 101,-111\"/>\n<polygon fill=\"none\" stroke=\"black\" points=\"115,-111 115,-132 161,-132 161,-111 115,-111\"/>\n<text text-anchor=\"start\" x=\"125.5\" y=\"-117.8\" font-family=\"Times,serif\" font-size=\"14.00\">junk</text>\n<polygon fill=\"none\" stroke=\"black\" points=\"101,-90 101,-111 115,-111 115,-90 101,-90\"/>\n<polygon fill=\"none\" stroke=\"black\" points=\"115,-90 115,-111 161,-111 161,-90 115,-90\"/>\n<text text-anchor=\"start\" x=\"122.5\" y=\"-96.8\" font-family=\"Times,serif\" font-size=\"14.00\">target</text>\n</g>\n<!-- ctrl_0_G9&#45;&gt;CtrlSpecAnd -->\n<g id=\"edge1\" class=\"edge\">\n<title>ctrl_0_G9:e-&gt;CtrlSpecAnd:w</title>\n<path fill=\"none\" stroke=\"black\" d=\"M64,-256C90.89,-256 74.32,-208.7 98.83,-206.11\"/>\n<ellipse fill=\"black\" stroke=\"black\" cx=\"100\" cy=\"-206.05\" rx=\"1\" ry=\"1\"/>\n<text text-anchor=\"middle\" x=\"82.5\" y=\"-235\" font-family=\"Times,serif\" font-size=\"10.00\">1</text>\n</g>\n<!-- ctrl_0_G7 -->\n<g id=\"node2\" class=\"node\">\n<title>ctrl_0_G7</title>\n<text text-anchor=\"middle\" x=\"32\" y=\"-198.3\" font-family=\"Times,serif\" font-size=\"14.00\">ctrl_0[1]</text>\n</g>\n<!-- ctrl_0_G7&#45;&gt;CtrlSpecAnd -->\n<g id=\"edge2\" class=\"edge\">\n<title>ctrl_0_G7:e-&gt;CtrlSpecAnd:w</title>\n<path fill=\"none\" stroke=\"black\" d=\"M64,-202C81.39,-202 82.81,-186.3 98.96,-185.08\"/>\n<ellipse fill=\"black\" stroke=\"black\" cx=\"100\" cy=\"-185.04\" rx=\"1\" ry=\"1\"/>\n<text text-anchor=\"middle\" x=\"82.5\" y=\"-196\" font-family=\"Times,serif\" font-size=\"10.00\">1</text>\n</g>\n<!-- ctrl_0_G10 -->\n<g id=\"node3\" class=\"node\">\n<title>ctrl_0_G10</title>\n<text text-anchor=\"middle\" x=\"32\" y=\"-144.3\" font-family=\"Times,serif\" font-size=\"14.00\">ctrl_0[2]</text>\n</g>\n<!-- ctrl_0_G10&#45;&gt;CtrlSpecAnd -->\n<g id=\"edge3\" class=\"edge\">\n<title>ctrl_0_G10:e-&gt;CtrlSpecAnd:w</title>\n<path fill=\"none\" stroke=\"black\" d=\"M64,-148C81.22,-148 82.97,-162.77 98.98,-163.93\"/>\n<ellipse fill=\"black\" stroke=\"black\" cx=\"100\" cy=\"-163.96\" rx=\"1\" ry=\"1\"/>\n<text text-anchor=\"middle\" x=\"82.5\" y=\"-159\" font-family=\"Times,serif\" font-size=\"10.00\">1</text>\n</g>\n<!-- ctrl_0_G13 -->\n<g id=\"node4\" class=\"node\">\n<title>ctrl_0_G13</title>\n<text text-anchor=\"middle\" x=\"32\" y=\"-90.3\" font-family=\"Times,serif\" font-size=\"14.00\">ctrl_0[3]</text>\n</g>\n<!-- ctrl_0_G13&#45;&gt;CtrlSpecAnd -->\n<g id=\"edge4\" class=\"edge\">\n<title>ctrl_0_G13:e-&gt;CtrlSpecAnd:w</title>\n<path fill=\"none\" stroke=\"black\" d=\"M64,-94C90.2,-94 74.95,-139.41 98.89,-141.89\"/>\n<ellipse fill=\"black\" stroke=\"black\" cx=\"100\" cy=\"-141.95\" rx=\"1\" ry=\"1\"/>\n<text text-anchor=\"middle\" x=\"82.5\" y=\"-122\" font-family=\"Times,serif\" font-size=\"10.00\">1</text>\n</g>\n<!-- ctrl_0_G1 -->\n<g id=\"node6\" class=\"node\">\n<title>ctrl_0_G1</title>\n<text text-anchor=\"middle\" x=\"230\" y=\"-284.3\" font-family=\"Times,serif\" font-size=\"14.00\">ctrl_0[0]</text>\n</g>\n<!-- CtrlSpecAnd&#45;&gt;ctrl_0_G1 -->\n<g id=\"edge5\" class=\"edge\">\n<title>CtrlSpecAnd:e-&gt;ctrl_0_G1:w</title>\n<path fill=\"none\" stroke=\"black\" d=\"M161,-206C200.2,-206 159.66,-284.83 195.75,-287.91\"/>\n<ellipse fill=\"black\" stroke=\"black\" cx=\"197\" cy=\"-287.96\" rx=\"1\" ry=\"1\"/>\n<text text-anchor=\"middle\" x=\"179.5\" y=\"-273\" font-family=\"Times,serif\" font-size=\"10.00\">1</text>\n</g>\n<!-- ctrl_0_G15 -->\n<g id=\"node7\" class=\"node\">\n<title>ctrl_0_G15</title>\n<text text-anchor=\"middle\" x=\"230\" y=\"-230.3\" font-family=\"Times,serif\" font-size=\"14.00\">ctrl_0[1]</text>\n</g>\n<!-- CtrlSpecAnd&#45;&gt;ctrl_0_G15 -->\n<g id=\"edge6\" class=\"edge\">\n<title>CtrlSpecAnd:e-&gt;ctrl_0_G15:w</title>\n<path fill=\"none\" stroke=\"black\" d=\"M161,-185C187.54,-185 171.64,-231.36 195.86,-233.89\"/>\n<ellipse fill=\"black\" stroke=\"black\" cx=\"197\" cy=\"-233.95\" rx=\"1\" ry=\"1\"/>\n<text text-anchor=\"middle\" x=\"179.5\" y=\"-213\" font-family=\"Times,serif\" font-size=\"10.00\">1</text>\n</g>\n<!-- ctrl_0_G2 -->\n<g id=\"node8\" class=\"node\">\n<title>ctrl_0_G2</title>\n<text text-anchor=\"middle\" x=\"230\" y=\"-176.3\" font-family=\"Times,serif\" font-size=\"14.00\">ctrl_0[2]</text>\n</g>\n<!-- CtrlSpecAnd&#45;&gt;ctrl_0_G2 -->\n<g id=\"edge7\" class=\"edge\">\n<title>CtrlSpecAnd:e-&gt;ctrl_0_G2:w</title>\n<path fill=\"none\" stroke=\"black\" d=\"M161,-164C178.22,-164 179.97,-178.77 195.98,-179.93\"/>\n<ellipse fill=\"black\" stroke=\"black\" cx=\"197\" cy=\"-179.96\" rx=\"1\" ry=\"1\"/>\n<text text-anchor=\"middle\" x=\"179.5\" y=\"-175\" font-family=\"Times,serif\" font-size=\"10.00\">1</text>\n</g>\n<!-- ctrl_0_G8 -->\n<g id=\"node9\" class=\"node\">\n<title>ctrl_0_G8</title>\n<text text-anchor=\"middle\" x=\"230\" y=\"-122.3\" font-family=\"Times,serif\" font-size=\"14.00\">ctrl_0[3]</text>\n</g>\n<!-- CtrlSpecAnd&#45;&gt;ctrl_0_G8 -->\n<g id=\"edge8\" class=\"edge\">\n<title>CtrlSpecAnd:e-&gt;ctrl_0_G8:w</title>\n<path fill=\"none\" stroke=\"black\" d=\"M161,-142C178.22,-142 179.97,-127.23 195.98,-126.07\"/>\n<ellipse fill=\"black\" stroke=\"black\" cx=\"197\" cy=\"-126.04\" rx=\"1\" ry=\"1\"/>\n<text text-anchor=\"middle\" x=\"179.5\" y=\"-137\" font-family=\"Times,serif\" font-size=\"10.00\">1</text>\n</g>\n<!-- junk_G4 -->\n<g id=\"node10\" class=\"node\">\n<title>junk_G4</title>\n<text text-anchor=\"middle\" x=\"230\" y=\"-68.3\" font-family=\"Times,serif\" font-size=\"14.00\">junk</text>\n</g>\n<!-- CtrlSpecAnd&#45;&gt;junk_G4 -->\n<g id=\"edge9\" class=\"edge\">\n<title>CtrlSpecAnd:e-&gt;junk_G4:w</title>\n<path fill=\"none\" stroke=\"black\" d=\"M161,-121C188.62,-121 174.43,-74.64 199.77,-72.11\"/>\n<ellipse fill=\"black\" stroke=\"black\" cx=\"201\" cy=\"-72.05\" rx=\"1\" ry=\"1\"/>\n<text text-anchor=\"middle\" x=\"179.5\" y=\"-109\" font-family=\"Times,serif\" font-size=\"10.00\">2</text>\n</g>\n<!-- target_G12 -->\n<g id=\"node11\" class=\"node\">\n<title>target_G12</title>\n<text text-anchor=\"middle\" x=\"230\" y=\"-14.3\" font-family=\"Times,serif\" font-size=\"14.00\">target</text>\n</g>\n<!-- CtrlSpecAnd&#45;&gt;target_G12 -->\n<g id=\"edge10\" class=\"edge\">\n<title>CtrlSpecAnd:e-&gt;target_G12:w</title>\n<path fill=\"none\" stroke=\"black\" d=\"M161,-100C200.95,-100 162.8,-21.17 199.7,-18.09\"/>\n<ellipse fill=\"black\" stroke=\"black\" cx=\"201\" cy=\"-18.04\" rx=\"1\" ry=\"1\"/>\n<text text-anchor=\"middle\" x=\"179.5\" y=\"-90\" font-family=\"Times,serif\" font-size=\"10.00\">1</text>\n</g>\n</g>\n</svg>",
          "text/plain": "<IPython.core.display.SVG object>"
         },
         "metadata": {},
         "output_type": "display_data"
        }
       ],
       "tabbable": null,
       "tooltip": null
      }
     },
     "27ba7aac1211436caaf6639de294d71b": {
      "model_module": "@jupyter-widgets/output",
      "model_module_version": "1.0.0",
      "model_name": "OutputModel",
      "state": {
       "_dom_classes": [],
       "_model_module": "@jupyter-widgets/output",
       "_model_module_version": "1.0.0",
       "_model_name": "OutputModel",
       "_view_count": null,
       "_view_module": "@jupyter-widgets/output",
       "_view_module_version": "1.0.0",
       "_view_name": "OutputView",
       "layout": "IPY_MODEL_e57ad95669774fdb8922c384974a3eef",
       "msg_id": "",
       "outputs": [
        {
         "data": {
          "text/markdown": "`ctrl_on_multiple_values`",
          "text/plain": "<IPython.core.display.Markdown object>"
         },
         "metadata": {},
         "output_type": "display_data"
        },
        {
         "data": {
          "image/svg+xml": "<svg xmlns=\"http://www.w3.org/2000/svg\" xmlns:xlink=\"http://www.w3.org/1999/xlink\" width=\"270pt\" height=\"314pt\" viewBox=\"0.00 0.00 270.00 314.00\">\n<g id=\"graph0\" class=\"graph\" transform=\"scale(1 1) rotate(0) translate(4 310)\">\n<title>my_graph</title>\n<polygon fill=\"white\" stroke=\"transparent\" points=\"-4,4 -4,-310 266,-310 266,4 -4,4\"/>\n<!-- ctrl_0_G0 -->\n<g id=\"node1\" class=\"node\">\n<title>ctrl_0_G0</title>\n<text text-anchor=\"middle\" x=\"32\" y=\"-252.3\" font-family=\"Times,serif\" font-size=\"14.00\">ctrl_0[0]</text>\n</g>\n<!-- CtrlSpecAnd -->\n<g id=\"node5\" class=\"node\">\n<title>CtrlSpecAnd</title>\n<polygon fill=\"none\" stroke=\"black\" points=\"101,-216 101,-233 161,-233 161,-216 101,-216\"/>\n<text text-anchor=\"start\" x=\"104\" y=\"-222\" font-family=\"Times,serif\" font-size=\"10.00\">CtrlSpecAnd</text>\n<polygon fill=\"none\" stroke=\"black\" points=\"101,-195 101,-216 161,-216 161,-195 101,-195\"/>\n<text text-anchor=\"start\" x=\"107\" y=\"-201.8\" font-family=\"Times,serif\" font-size=\"14.00\">ctrl_0[0]</text>\n<polygon fill=\"none\" stroke=\"black\" points=\"101,-174 101,-195 161,-195 161,-174 101,-174\"/>\n<text text-anchor=\"start\" x=\"107\" y=\"-180.8\" font-family=\"Times,serif\" font-size=\"14.00\">ctrl_0[1]</text>\n<polygon fill=\"none\" stroke=\"black\" points=\"101,-153 101,-174 161,-174 161,-153 101,-153\"/>\n<text text-anchor=\"start\" x=\"107\" y=\"-159.8\" font-family=\"Times,serif\" font-size=\"14.00\">ctrl_1[0]</text>\n<polygon fill=\"none\" stroke=\"black\" points=\"101,-132 101,-153 161,-153 161,-132 101,-132\"/>\n<text text-anchor=\"start\" x=\"107\" y=\"-138.8\" font-family=\"Times,serif\" font-size=\"14.00\">ctrl_1[1]</text>\n<polygon fill=\"none\" stroke=\"black\" points=\"101,-111 101,-132 115,-132 115,-111 101,-111\"/>\n<polygon fill=\"none\" stroke=\"black\" points=\"115,-111 115,-132 161,-132 161,-111 115,-111\"/>\n<text text-anchor=\"start\" x=\"125.5\" y=\"-117.8\" font-family=\"Times,serif\" font-size=\"14.00\">junk</text>\n<polygon fill=\"none\" stroke=\"black\" points=\"101,-90 101,-111 115,-111 115,-90 101,-90\"/>\n<polygon fill=\"none\" stroke=\"black\" points=\"115,-90 115,-111 161,-111 161,-90 115,-90\"/>\n<text text-anchor=\"start\" x=\"122.5\" y=\"-96.8\" font-family=\"Times,serif\" font-size=\"14.00\">target</text>\n</g>\n<!-- ctrl_0_G0&#45;&gt;CtrlSpecAnd -->\n<g id=\"edge1\" class=\"edge\">\n<title>ctrl_0_G0:e-&gt;CtrlSpecAnd:w</title>\n<path fill=\"none\" stroke=\"black\" d=\"M64,-256C90.89,-256 74.32,-208.7 98.83,-206.11\"/>\n<ellipse fill=\"black\" stroke=\"black\" cx=\"100\" cy=\"-206.05\" rx=\"1\" ry=\"1\"/>\n<text text-anchor=\"middle\" x=\"82.5\" y=\"-235\" font-family=\"Times,serif\" font-size=\"10.00\">4</text>\n</g>\n<!-- ctrl_0_G10 -->\n<g id=\"node2\" class=\"node\">\n<title>ctrl_0_G10</title>\n<text text-anchor=\"middle\" x=\"32\" y=\"-198.3\" font-family=\"Times,serif\" font-size=\"14.00\">ctrl_0[1]</text>\n</g>\n<!-- ctrl_0_G10&#45;&gt;CtrlSpecAnd -->\n<g id=\"edge2\" class=\"edge\">\n<title>ctrl_0_G10:e-&gt;CtrlSpecAnd:w</title>\n<path fill=\"none\" stroke=\"black\" d=\"M64,-202C81.39,-202 82.81,-186.3 98.96,-185.08\"/>\n<ellipse fill=\"black\" stroke=\"black\" cx=\"100\" cy=\"-185.04\" rx=\"1\" ry=\"1\"/>\n<text text-anchor=\"middle\" x=\"82.5\" y=\"-196\" font-family=\"Times,serif\" font-size=\"10.00\">4</text>\n</g>\n<!-- ctrl_1_G4 -->\n<g id=\"node3\" class=\"node\">\n<title>ctrl_1_G4</title>\n<text text-anchor=\"middle\" x=\"32\" y=\"-144.3\" font-family=\"Times,serif\" font-size=\"14.00\">ctrl_1[0]</text>\n</g>\n<!-- ctrl_1_G4&#45;&gt;CtrlSpecAnd -->\n<g id=\"edge3\" class=\"edge\">\n<title>ctrl_1_G4:e-&gt;CtrlSpecAnd:w</title>\n<path fill=\"none\" stroke=\"black\" d=\"M64,-148C81.22,-148 82.97,-162.77 98.98,-163.93\"/>\n<ellipse fill=\"black\" stroke=\"black\" cx=\"100\" cy=\"-163.96\" rx=\"1\" ry=\"1\"/>\n<text text-anchor=\"middle\" x=\"82.5\" y=\"-159\" font-family=\"Times,serif\" font-size=\"10.00\">4</text>\n</g>\n<!-- ctrl_1_G2 -->\n<g id=\"node4\" class=\"node\">\n<title>ctrl_1_G2</title>\n<text text-anchor=\"middle\" x=\"32\" y=\"-90.3\" font-family=\"Times,serif\" font-size=\"14.00\">ctrl_1[1]</text>\n</g>\n<!-- ctrl_1_G2&#45;&gt;CtrlSpecAnd -->\n<g id=\"edge4\" class=\"edge\">\n<title>ctrl_1_G2:e-&gt;CtrlSpecAnd:w</title>\n<path fill=\"none\" stroke=\"black\" d=\"M64,-94C90.2,-94 74.95,-139.41 98.89,-141.89\"/>\n<ellipse fill=\"black\" stroke=\"black\" cx=\"100\" cy=\"-141.95\" rx=\"1\" ry=\"1\"/>\n<text text-anchor=\"middle\" x=\"82.5\" y=\"-122\" font-family=\"Times,serif\" font-size=\"10.00\">4</text>\n</g>\n<!-- ctrl_0_G15 -->\n<g id=\"node6\" class=\"node\">\n<title>ctrl_0_G15</title>\n<text text-anchor=\"middle\" x=\"230\" y=\"-284.3\" font-family=\"Times,serif\" font-size=\"14.00\">ctrl_0[0]</text>\n</g>\n<!-- CtrlSpecAnd&#45;&gt;ctrl_0_G15 -->\n<g id=\"edge5\" class=\"edge\">\n<title>CtrlSpecAnd:e-&gt;ctrl_0_G15:w</title>\n<path fill=\"none\" stroke=\"black\" d=\"M161,-206C200.2,-206 159.66,-284.83 195.75,-287.91\"/>\n<ellipse fill=\"black\" stroke=\"black\" cx=\"197\" cy=\"-287.96\" rx=\"1\" ry=\"1\"/>\n<text text-anchor=\"middle\" x=\"179.5\" y=\"-273\" font-family=\"Times,serif\" font-size=\"10.00\">4</text>\n</g>\n<!-- ctrl_0_G12 -->\n<g id=\"node7\" class=\"node\">\n<title>ctrl_0_G12</title>\n<text text-anchor=\"middle\" x=\"230\" y=\"-230.3\" font-family=\"Times,serif\" font-size=\"14.00\">ctrl_0[1]</text>\n</g>\n<!-- CtrlSpecAnd&#45;&gt;ctrl_0_G12 -->\n<g id=\"edge6\" class=\"edge\">\n<title>CtrlSpecAnd:e-&gt;ctrl_0_G12:w</title>\n<path fill=\"none\" stroke=\"black\" d=\"M161,-185C187.54,-185 171.64,-231.36 195.86,-233.89\"/>\n<ellipse fill=\"black\" stroke=\"black\" cx=\"197\" cy=\"-233.95\" rx=\"1\" ry=\"1\"/>\n<text text-anchor=\"middle\" x=\"179.5\" y=\"-213\" font-family=\"Times,serif\" font-size=\"10.00\">4</text>\n</g>\n<!-- ctrl_1_G8 -->\n<g id=\"node8\" class=\"node\">\n<title>ctrl_1_G8</title>\n<text text-anchor=\"middle\" x=\"230\" y=\"-176.3\" font-family=\"Times,serif\" font-size=\"14.00\">ctrl_1[0]</text>\n</g>\n<!-- CtrlSpecAnd&#45;&gt;ctrl_1_G8 -->\n<g id=\"edge7\" class=\"edge\">\n<title>CtrlSpecAnd:e-&gt;ctrl_1_G8:w</title>\n<path fill=\"none\" stroke=\"black\" d=\"M161,-164C178.22,-164 179.97,-178.77 195.98,-179.93\"/>\n<ellipse fill=\"black\" stroke=\"black\" cx=\"197\" cy=\"-179.96\" rx=\"1\" ry=\"1\"/>\n<text text-anchor=\"middle\" x=\"179.5\" y=\"-175\" font-family=\"Times,serif\" font-size=\"10.00\">4</text>\n</g>\n<!-- ctrl_1_G6 -->\n<g id=\"node9\" class=\"node\">\n<title>ctrl_1_G6</title>\n<text text-anchor=\"middle\" x=\"230\" y=\"-122.3\" font-family=\"Times,serif\" font-size=\"14.00\">ctrl_1[1]</text>\n</g>\n<!-- CtrlSpecAnd&#45;&gt;ctrl_1_G6 -->\n<g id=\"edge8\" class=\"edge\">\n<title>CtrlSpecAnd:e-&gt;ctrl_1_G6:w</title>\n<path fill=\"none\" stroke=\"black\" d=\"M161,-142C178.22,-142 179.97,-127.23 195.98,-126.07\"/>\n<ellipse fill=\"black\" stroke=\"black\" cx=\"197\" cy=\"-126.04\" rx=\"1\" ry=\"1\"/>\n<text text-anchor=\"middle\" x=\"179.5\" y=\"-137\" font-family=\"Times,serif\" font-size=\"10.00\">4</text>\n</g>\n<!-- junk_G13 -->\n<g id=\"node10\" class=\"node\">\n<title>junk_G13</title>\n<text text-anchor=\"middle\" x=\"230\" y=\"-68.3\" font-family=\"Times,serif\" font-size=\"14.00\">junk</text>\n</g>\n<!-- CtrlSpecAnd&#45;&gt;junk_G13 -->\n<g id=\"edge9\" class=\"edge\">\n<title>CtrlSpecAnd:e-&gt;junk_G13:w</title>\n<path fill=\"none\" stroke=\"black\" d=\"M161,-121C188.62,-121 174.43,-74.64 199.77,-72.11\"/>\n<ellipse fill=\"black\" stroke=\"black\" cx=\"201\" cy=\"-72.05\" rx=\"1\" ry=\"1\"/>\n<text text-anchor=\"middle\" x=\"179.5\" y=\"-109\" font-family=\"Times,serif\" font-size=\"10.00\">14</text>\n</g>\n<!-- target_G11 -->\n<g id=\"node11\" class=\"node\">\n<title>target_G11</title>\n<text text-anchor=\"middle\" x=\"230\" y=\"-14.3\" font-family=\"Times,serif\" font-size=\"14.00\">target</text>\n</g>\n<!-- CtrlSpecAnd&#45;&gt;target_G11 -->\n<g id=\"edge10\" class=\"edge\">\n<title>CtrlSpecAnd:e-&gt;target_G11:w</title>\n<path fill=\"none\" stroke=\"black\" d=\"M161,-100C200.95,-100 162.8,-21.17 199.7,-18.09\"/>\n<ellipse fill=\"black\" stroke=\"black\" cx=\"201\" cy=\"-18.04\" rx=\"1\" ry=\"1\"/>\n<text text-anchor=\"middle\" x=\"179.5\" y=\"-90\" font-family=\"Times,serif\" font-size=\"10.00\">1</text>\n</g>\n</g>\n</svg>",
          "text/plain": "<IPython.core.display.SVG object>"
         },
         "metadata": {},
         "output_type": "display_data"
        }
       ],
       "tabbable": null,
       "tooltip": null
      }
     },
     "4cf73aa86b1646988cf012a9c13bf205": {
      "model_module": "@jupyter-widgets/controls",
      "model_module_version": "2.0.0",
      "model_name": "HBoxModel",
      "state": {
       "_dom_classes": [],
       "_model_module": "@jupyter-widgets/controls",
       "_model_module_version": "2.0.0",
       "_model_name": "HBoxModel",
       "_view_count": null,
       "_view_module": "@jupyter-widgets/controls",
       "_view_module_version": "2.0.0",
       "_view_name": "HBoxView",
       "box_style": "",
       "children": [
        "IPY_MODEL_7c4538e4f50d4b8e88d6e14cf577844c",
        "IPY_MODEL_27807aa31db546ae9e3d6717ee364895",
        "IPY_MODEL_785acd7f347c4253a3efee12316187d6",
        "IPY_MODEL_27ba7aac1211436caaf6639de294d71b"
       ],
       "layout": "IPY_MODEL_63e727bc9d5b49eb94dbe684c25da40c",
       "tabbable": null,
       "tooltip": null
      }
     },
     "63e727bc9d5b49eb94dbe684c25da40c": {
      "model_module": "@jupyter-widgets/base",
      "model_module_version": "2.0.0",
      "model_name": "LayoutModel",
      "state": {
       "_model_module": "@jupyter-widgets/base",
       "_model_module_version": "2.0.0",
       "_model_name": "LayoutModel",
       "_view_count": null,
       "_view_module": "@jupyter-widgets/base",
       "_view_module_version": "2.0.0",
       "_view_name": "LayoutView",
       "align_content": null,
       "align_items": null,
       "align_self": null,
       "border_bottom": null,
       "border_left": null,
       "border_right": null,
       "border_top": null,
       "bottom": null,
       "display": null,
       "flex": null,
       "flex_flow": null,
       "grid_area": null,
       "grid_auto_columns": null,
       "grid_auto_flow": null,
       "grid_auto_rows": null,
       "grid_column": null,
       "grid_gap": null,
       "grid_row": null,
       "grid_template_areas": null,
       "grid_template_columns": null,
       "grid_template_rows": null,
       "height": null,
       "justify_content": null,
       "justify_items": null,
       "left": null,
       "margin": null,
       "max_height": null,
       "max_width": null,
       "min_height": null,
       "min_width": null,
       "object_fit": null,
       "object_position": null,
       "order": null,
       "overflow": null,
       "padding": null,
       "right": null,
       "top": null,
       "visibility": null,
       "width": null
      }
     },
     "785acd7f347c4253a3efee12316187d6": {
      "model_module": "@jupyter-widgets/output",
      "model_module_version": "1.0.0",
      "model_name": "OutputModel",
      "state": {
       "_dom_classes": [],
       "_model_module": "@jupyter-widgets/output",
       "_model_module_version": "1.0.0",
       "_model_name": "OutputModel",
       "_view_count": null,
       "_view_module": "@jupyter-widgets/output",
       "_view_module_version": "1.0.0",
       "_view_name": "OutputView",
       "layout": "IPY_MODEL_e57270fed956403a9da78de6630fcf03",
       "msg_id": "",
       "outputs": [
        {
         "data": {
          "text/markdown": "`ctrl_on_nd_bits`",
          "text/plain": "<IPython.core.display.Markdown object>"
         },
         "metadata": {},
         "output_type": "display_data"
        },
        {
         "data": {
          "image/svg+xml": "<svg xmlns=\"http://www.w3.org/2000/svg\" xmlns:xlink=\"http://www.w3.org/1999/xlink\" width=\"306pt\" height=\"314pt\" viewBox=\"0.00 0.00 306.00 314.00\">\n<g id=\"graph0\" class=\"graph\" transform=\"scale(1 1) rotate(0) translate(4 310)\">\n<title>my_graph</title>\n<polygon fill=\"white\" stroke=\"transparent\" points=\"-4,4 -4,-310 302,-310 302,4 -4,4\"/>\n<!-- ctrl_0_G6 -->\n<g id=\"node1\" class=\"node\">\n<title>ctrl_0_G6</title>\n<text text-anchor=\"middle\" x=\"39\" y=\"-252.3\" font-family=\"Times,serif\" font-size=\"14.00\">ctrl_0[0, 0]</text>\n</g>\n<!-- CtrlSpecAnd -->\n<g id=\"node5\" class=\"node\">\n<title>CtrlSpecAnd</title>\n<polygon fill=\"none\" stroke=\"black\" points=\"115,-216 115,-233 183,-233 183,-216 115,-216\"/>\n<text text-anchor=\"start\" x=\"122\" y=\"-222\" font-family=\"Times,serif\" font-size=\"10.00\">CtrlSpecAnd</text>\n<polygon fill=\"none\" stroke=\"black\" points=\"115,-195 115,-216 183,-216 183,-195 115,-195\"/>\n<text text-anchor=\"start\" x=\"118\" y=\"-201.8\" font-family=\"Times,serif\" font-size=\"14.00\">ctrl_0[0, 0]</text>\n<polygon fill=\"none\" stroke=\"black\" points=\"115,-174 115,-195 183,-195 183,-174 115,-174\"/>\n<text text-anchor=\"start\" x=\"118\" y=\"-180.8\" font-family=\"Times,serif\" font-size=\"14.00\">ctrl_0[0, 1]</text>\n<polygon fill=\"none\" stroke=\"black\" points=\"115,-153 115,-174 183,-174 183,-153 115,-153\"/>\n<text text-anchor=\"start\" x=\"118\" y=\"-159.8\" font-family=\"Times,serif\" font-size=\"14.00\">ctrl_0[1, 0]</text>\n<polygon fill=\"none\" stroke=\"black\" points=\"115,-132 115,-153 183,-153 183,-132 115,-132\"/>\n<text text-anchor=\"start\" x=\"118\" y=\"-138.8\" font-family=\"Times,serif\" font-size=\"14.00\">ctrl_0[1, 1]</text>\n<polygon fill=\"none\" stroke=\"black\" points=\"115,-111 115,-132 133,-132 133,-111 115,-111\"/>\n<polygon fill=\"none\" stroke=\"black\" points=\"133,-111 133,-132 183,-132 183,-111 133,-111\"/>\n<text text-anchor=\"start\" x=\"145.5\" y=\"-117.8\" font-family=\"Times,serif\" font-size=\"14.00\">junk</text>\n<polygon fill=\"none\" stroke=\"black\" points=\"115,-90 115,-111 133,-111 133,-90 115,-90\"/>\n<polygon fill=\"none\" stroke=\"black\" points=\"133,-90 133,-111 183,-111 183,-90 133,-90\"/>\n<text text-anchor=\"start\" x=\"142.5\" y=\"-96.8\" font-family=\"Times,serif\" font-size=\"14.00\">target</text>\n</g>\n<!-- ctrl_0_G6&#45;&gt;CtrlSpecAnd -->\n<g id=\"edge1\" class=\"edge\">\n<title>ctrl_0_G6:e-&gt;CtrlSpecAnd:w</title>\n<path fill=\"none\" stroke=\"black\" d=\"M78,-256C104.89,-256 88.32,-208.7 112.83,-206.11\"/>\n<ellipse fill=\"black\" stroke=\"black\" cx=\"114\" cy=\"-206.05\" rx=\"1\" ry=\"1\"/>\n<text text-anchor=\"middle\" x=\"96.5\" y=\"-235\" font-family=\"Times,serif\" font-size=\"10.00\">1</text>\n</g>\n<!-- ctrl_0_G9 -->\n<g id=\"node2\" class=\"node\">\n<title>ctrl_0_G9</title>\n<text text-anchor=\"middle\" x=\"39\" y=\"-198.3\" font-family=\"Times,serif\" font-size=\"14.00\">ctrl_0[0, 1]</text>\n</g>\n<!-- ctrl_0_G9&#45;&gt;CtrlSpecAnd -->\n<g id=\"edge2\" class=\"edge\">\n<title>ctrl_0_G9:e-&gt;CtrlSpecAnd:w</title>\n<path fill=\"none\" stroke=\"black\" d=\"M78,-202C95.39,-202 96.81,-186.3 112.96,-185.08\"/>\n<ellipse fill=\"black\" stroke=\"black\" cx=\"114\" cy=\"-185.04\" rx=\"1\" ry=\"1\"/>\n<text text-anchor=\"middle\" x=\"96.5\" y=\"-196\" font-family=\"Times,serif\" font-size=\"10.00\">1</text>\n</g>\n<!-- ctrl_0_G14 -->\n<g id=\"node3\" class=\"node\">\n<title>ctrl_0_G14</title>\n<text text-anchor=\"middle\" x=\"39\" y=\"-144.3\" font-family=\"Times,serif\" font-size=\"14.00\">ctrl_0[1, 0]</text>\n</g>\n<!-- ctrl_0_G14&#45;&gt;CtrlSpecAnd -->\n<g id=\"edge3\" class=\"edge\">\n<title>ctrl_0_G14:e-&gt;CtrlSpecAnd:w</title>\n<path fill=\"none\" stroke=\"black\" d=\"M78,-148C95.22,-148 96.97,-162.77 112.98,-163.93\"/>\n<ellipse fill=\"black\" stroke=\"black\" cx=\"114\" cy=\"-163.96\" rx=\"1\" ry=\"1\"/>\n<text text-anchor=\"middle\" x=\"96.5\" y=\"-159\" font-family=\"Times,serif\" font-size=\"10.00\">1</text>\n</g>\n<!-- ctrl_0_G1 -->\n<g id=\"node4\" class=\"node\">\n<title>ctrl_0_G1</title>\n<text text-anchor=\"middle\" x=\"39\" y=\"-90.3\" font-family=\"Times,serif\" font-size=\"14.00\">ctrl_0[1, 1]</text>\n</g>\n<!-- ctrl_0_G1&#45;&gt;CtrlSpecAnd -->\n<g id=\"edge4\" class=\"edge\">\n<title>ctrl_0_G1:e-&gt;CtrlSpecAnd:w</title>\n<path fill=\"none\" stroke=\"black\" d=\"M78,-94C104.2,-94 88.95,-139.41 112.89,-141.89\"/>\n<ellipse fill=\"black\" stroke=\"black\" cx=\"114\" cy=\"-141.95\" rx=\"1\" ry=\"1\"/>\n<text text-anchor=\"middle\" x=\"96.5\" y=\"-122\" font-family=\"Times,serif\" font-size=\"10.00\">1</text>\n</g>\n<!-- ctrl_0_G4 -->\n<g id=\"node6\" class=\"node\">\n<title>ctrl_0_G4</title>\n<text text-anchor=\"middle\" x=\"259\" y=\"-284.3\" font-family=\"Times,serif\" font-size=\"14.00\">ctrl_0[0, 0]</text>\n</g>\n<!-- CtrlSpecAnd&#45;&gt;ctrl_0_G4 -->\n<g id=\"edge5\" class=\"edge\">\n<title>CtrlSpecAnd:e-&gt;ctrl_0_G4:w</title>\n<path fill=\"none\" stroke=\"black\" d=\"M183,-206C222.2,-206 181.66,-284.83 217.75,-287.91\"/>\n<ellipse fill=\"black\" stroke=\"black\" cx=\"219\" cy=\"-287.96\" rx=\"1\" ry=\"1\"/>\n<text text-anchor=\"middle\" x=\"201.5\" y=\"-273\" font-family=\"Times,serif\" font-size=\"10.00\">1</text>\n</g>\n<!-- ctrl_0_G8 -->\n<g id=\"node7\" class=\"node\">\n<title>ctrl_0_G8</title>\n<text text-anchor=\"middle\" x=\"259\" y=\"-230.3\" font-family=\"Times,serif\" font-size=\"14.00\">ctrl_0[0, 1]</text>\n</g>\n<!-- CtrlSpecAnd&#45;&gt;ctrl_0_G8 -->\n<g id=\"edge6\" class=\"edge\">\n<title>CtrlSpecAnd:e-&gt;ctrl_0_G8:w</title>\n<path fill=\"none\" stroke=\"black\" d=\"M183,-185C209.54,-185 193.64,-231.36 217.86,-233.89\"/>\n<ellipse fill=\"black\" stroke=\"black\" cx=\"219\" cy=\"-233.95\" rx=\"1\" ry=\"1\"/>\n<text text-anchor=\"middle\" x=\"201.5\" y=\"-213\" font-family=\"Times,serif\" font-size=\"10.00\">1</text>\n</g>\n<!-- ctrl_0_G13 -->\n<g id=\"node8\" class=\"node\">\n<title>ctrl_0_G13</title>\n<text text-anchor=\"middle\" x=\"259\" y=\"-176.3\" font-family=\"Times,serif\" font-size=\"14.00\">ctrl_0[1, 0]</text>\n</g>\n<!-- CtrlSpecAnd&#45;&gt;ctrl_0_G13 -->\n<g id=\"edge7\" class=\"edge\">\n<title>CtrlSpecAnd:e-&gt;ctrl_0_G13:w</title>\n<path fill=\"none\" stroke=\"black\" d=\"M183,-164C200.22,-164 201.97,-178.77 217.98,-179.93\"/>\n<ellipse fill=\"black\" stroke=\"black\" cx=\"219\" cy=\"-179.96\" rx=\"1\" ry=\"1\"/>\n<text text-anchor=\"middle\" x=\"201.5\" y=\"-175\" font-family=\"Times,serif\" font-size=\"10.00\">1</text>\n</g>\n<!-- ctrl_0_G0 -->\n<g id=\"node9\" class=\"node\">\n<title>ctrl_0_G0</title>\n<text text-anchor=\"middle\" x=\"259\" y=\"-122.3\" font-family=\"Times,serif\" font-size=\"14.00\">ctrl_0[1, 1]</text>\n</g>\n<!-- CtrlSpecAnd&#45;&gt;ctrl_0_G0 -->\n<g id=\"edge8\" class=\"edge\">\n<title>CtrlSpecAnd:e-&gt;ctrl_0_G0:w</title>\n<path fill=\"none\" stroke=\"black\" d=\"M183,-142C200.22,-142 201.97,-127.23 217.98,-126.07\"/>\n<ellipse fill=\"black\" stroke=\"black\" cx=\"219\" cy=\"-126.04\" rx=\"1\" ry=\"1\"/>\n<text text-anchor=\"middle\" x=\"201.5\" y=\"-137\" font-family=\"Times,serif\" font-size=\"10.00\">1</text>\n</g>\n<!-- junk_G3 -->\n<g id=\"node10\" class=\"node\">\n<title>junk_G3</title>\n<text text-anchor=\"middle\" x=\"259\" y=\"-68.3\" font-family=\"Times,serif\" font-size=\"14.00\">junk</text>\n</g>\n<!-- CtrlSpecAnd&#45;&gt;junk_G3 -->\n<g id=\"edge9\" class=\"edge\">\n<title>CtrlSpecAnd:e-&gt;junk_G3:w</title>\n<path fill=\"none\" stroke=\"black\" d=\"M183,-121C212.77,-121 201.1,-74.27 228.93,-72.08\"/>\n<ellipse fill=\"black\" stroke=\"black\" cx=\"230\" cy=\"-72.04\" rx=\"1\" ry=\"1\"/>\n<text text-anchor=\"middle\" x=\"201.5\" y=\"-114\" font-family=\"Times,serif\" font-size=\"10.00\">2</text>\n</g>\n<!-- target_G11 -->\n<g id=\"node11\" class=\"node\">\n<title>target_G11</title>\n<text text-anchor=\"middle\" x=\"259\" y=\"-14.3\" font-family=\"Times,serif\" font-size=\"14.00\">target</text>\n</g>\n<!-- CtrlSpecAnd&#45;&gt;target_G11 -->\n<g id=\"edge10\" class=\"edge\">\n<title>CtrlSpecAnd:e-&gt;target_G11:w</title>\n<path fill=\"none\" stroke=\"black\" d=\"M183,-100C224.4,-100 190.16,-21.17 228.61,-18.09\"/>\n<ellipse fill=\"black\" stroke=\"black\" cx=\"230\" cy=\"-18.04\" rx=\"1\" ry=\"1\"/>\n<text text-anchor=\"middle\" x=\"201.5\" y=\"-93\" font-family=\"Times,serif\" font-size=\"10.00\">1</text>\n</g>\n</g>\n</svg>",
          "text/plain": "<IPython.core.display.SVG object>"
         },
         "metadata": {},
         "output_type": "display_data"
        }
       ],
       "tabbable": null,
       "tooltip": null
      }
     },
     "7c4538e4f50d4b8e88d6e14cf577844c": {
      "model_module": "@jupyter-widgets/output",
      "model_module_version": "1.0.0",
      "model_name": "OutputModel",
      "state": {
       "_dom_classes": [],
       "_model_module": "@jupyter-widgets/output",
       "_model_module_version": "1.0.0",
       "_model_name": "OutputModel",
       "_view_count": null,
       "_view_module": "@jupyter-widgets/output",
       "_view_module_version": "1.0.0",
       "_view_name": "OutputView",
       "layout": "IPY_MODEL_1570f6d5b7194961a6c5fb7ec3faed7c",
       "msg_id": "",
       "outputs": [
        {
         "data": {
          "text/markdown": "`ctrl_on_int`",
          "text/plain": "<IPython.core.display.Markdown object>"
         },
         "metadata": {},
         "output_type": "display_data"
        },
        {
         "data": {
          "image/svg+xml": "<svg xmlns=\"http://www.w3.org/2000/svg\" xmlns:xlink=\"http://www.w3.org/1999/xlink\" width=\"270pt\" height=\"152pt\" viewBox=\"0.00 0.00 270.00 152.00\">\n<g id=\"graph0\" class=\"graph\" transform=\"scale(1 1) rotate(0) translate(4 148)\">\n<title>my_graph</title>\n<polygon fill=\"white\" stroke=\"transparent\" points=\"-4,4 -4,-148 266,-148 266,4 -4,4\"/>\n<!-- ctrl_0_G3 -->\n<g id=\"node1\" class=\"node\">\n<title>ctrl_0_G3</title>\n<text text-anchor=\"middle\" x=\"32\" y=\"-90.3\" font-family=\"Times,serif\" font-size=\"14.00\">ctrl_0[0]</text>\n</g>\n<!-- CtrlSpecAnd -->\n<g id=\"node2\" class=\"node\">\n<title>CtrlSpecAnd</title>\n<polygon fill=\"none\" stroke=\"black\" points=\"101,-104 101,-121 161,-121 161,-104 101,-104\"/>\n<text text-anchor=\"start\" x=\"104\" y=\"-110\" font-family=\"Times,serif\" font-size=\"10.00\">CtrlSpecAnd</text>\n<polygon fill=\"none\" stroke=\"black\" points=\"101,-83 101,-104 161,-104 161,-83 101,-83\"/>\n<text text-anchor=\"start\" x=\"107\" y=\"-89.8\" font-family=\"Times,serif\" font-size=\"14.00\">ctrl_0[0]</text>\n<polygon fill=\"none\" stroke=\"black\" points=\"101,-62 101,-83 115,-83 115,-62 101,-62\"/>\n<polygon fill=\"none\" stroke=\"black\" points=\"115,-62 115,-83 161,-83 161,-62 115,-62\"/>\n<text text-anchor=\"start\" x=\"125.5\" y=\"-68.8\" font-family=\"Times,serif\" font-size=\"14.00\">junk</text>\n<polygon fill=\"none\" stroke=\"black\" points=\"101,-41 101,-62 115,-62 115,-41 101,-41\"/>\n<polygon fill=\"none\" stroke=\"black\" points=\"115,-41 115,-62 161,-62 161,-41 115,-41\"/>\n<text text-anchor=\"start\" x=\"122.5\" y=\"-47.8\" font-family=\"Times,serif\" font-size=\"14.00\">target</text>\n</g>\n<!-- ctrl_0_G3&#45;&gt;CtrlSpecAnd -->\n<g id=\"edge1\" class=\"edge\">\n<title>ctrl_0_G3:e-&gt;CtrlSpecAnd:w</title>\n<path fill=\"none\" stroke=\"black\" d=\"M64,-94C79.67,-94 84.14,-94 98.77,-94\"/>\n<ellipse fill=\"black\" stroke=\"black\" cx=\"100\" cy=\"-94\" rx=\"1\" ry=\"1\"/>\n<text text-anchor=\"middle\" x=\"82.5\" y=\"-97\" font-family=\"Times,serif\" font-size=\"10.00\">4</text>\n</g>\n<!-- ctrl_0_G6 -->\n<g id=\"node3\" class=\"node\">\n<title>ctrl_0_G6</title>\n<text text-anchor=\"middle\" x=\"230\" y=\"-122.3\" font-family=\"Times,serif\" font-size=\"14.00\">ctrl_0[0]</text>\n</g>\n<!-- CtrlSpecAnd&#45;&gt;ctrl_0_G6 -->\n<g id=\"edge2\" class=\"edge\">\n<title>CtrlSpecAnd:e-&gt;ctrl_0_G6:w</title>\n<path fill=\"none\" stroke=\"black\" d=\"M161,-94C181.89,-94 176.72,-123.55 195.58,-125.86\"/>\n<ellipse fill=\"black\" stroke=\"black\" cx=\"197\" cy=\"-125.94\" rx=\"1\" ry=\"1\"/>\n<text text-anchor=\"middle\" x=\"179.5\" y=\"-113\" font-family=\"Times,serif\" font-size=\"10.00\">4</text>\n</g>\n<!-- junk_G4 -->\n<g id=\"node4\" class=\"node\">\n<title>junk_G4</title>\n<text text-anchor=\"middle\" x=\"230\" y=\"-68.3\" font-family=\"Times,serif\" font-size=\"14.00\">junk</text>\n</g>\n<!-- CtrlSpecAnd&#45;&gt;junk_G4 -->\n<g id=\"edge3\" class=\"edge\">\n<title>CtrlSpecAnd:e-&gt;junk_G4:w</title>\n<path fill=\"none\" stroke=\"black\" d=\"M161,-72C178.51,-72 183.4,-72 199.93,-72\"/>\n<ellipse fill=\"black\" stroke=\"black\" cx=\"201\" cy=\"-72\" rx=\"1\" ry=\"1\"/>\n<text text-anchor=\"middle\" x=\"179.5\" y=\"-75\" font-family=\"Times,serif\" font-size=\"10.00\">2</text>\n</g>\n<!-- target_G5 -->\n<g id=\"node5\" class=\"node\">\n<title>target_G5</title>\n<text text-anchor=\"middle\" x=\"230\" y=\"-14.3\" font-family=\"Times,serif\" font-size=\"14.00\">target</text>\n</g>\n<!-- CtrlSpecAnd&#45;&gt;target_G5 -->\n<g id=\"edge4\" class=\"edge\">\n<title>CtrlSpecAnd:e-&gt;target_G5:w</title>\n<path fill=\"none\" stroke=\"black\" d=\"M161,-51C183.66,-51 178.94,-20.03 199.89,-18.09\"/>\n<ellipse fill=\"black\" stroke=\"black\" cx=\"201\" cy=\"-18.04\" rx=\"1\" ry=\"1\"/>\n<text text-anchor=\"middle\" x=\"179.5\" y=\"-42\" font-family=\"Times,serif\" font-size=\"10.00\">1</text>\n</g>\n</g>\n</svg>",
          "text/plain": "<IPython.core.display.SVG object>"
         },
         "metadata": {},
         "output_type": "display_data"
        }
       ],
       "tabbable": null,
       "tooltip": null
      }
     },
     "c8367571ba9d4f308752998d0a5f1c45": {
      "model_module": "@jupyter-widgets/base",
      "model_module_version": "2.0.0",
      "model_name": "LayoutModel",
      "state": {
       "_model_module": "@jupyter-widgets/base",
       "_model_module_version": "2.0.0",
       "_model_name": "LayoutModel",
       "_view_count": null,
       "_view_module": "@jupyter-widgets/base",
       "_view_module_version": "2.0.0",
       "_view_name": "LayoutView",
       "align_content": null,
       "align_items": null,
       "align_self": null,
       "border_bottom": null,
       "border_left": null,
       "border_right": null,
       "border_top": null,
       "bottom": null,
       "display": null,
       "flex": null,
       "flex_flow": null,
       "grid_area": null,
       "grid_auto_columns": null,
       "grid_auto_flow": null,
       "grid_auto_rows": null,
       "grid_column": null,
       "grid_gap": null,
       "grid_row": null,
       "grid_template_areas": null,
       "grid_template_columns": null,
       "grid_template_rows": null,
       "height": null,
       "justify_content": null,
       "justify_items": null,
       "left": null,
       "margin": null,
       "max_height": null,
       "max_width": null,
       "min_height": null,
       "min_width": null,
       "object_fit": null,
       "object_position": null,
       "order": null,
       "overflow": null,
       "padding": null,
       "right": null,
       "top": null,
       "visibility": null,
       "width": null
      }
     },
     "e57270fed956403a9da78de6630fcf03": {
      "model_module": "@jupyter-widgets/base",
      "model_module_version": "2.0.0",
      "model_name": "LayoutModel",
      "state": {
       "_model_module": "@jupyter-widgets/base",
       "_model_module_version": "2.0.0",
       "_model_name": "LayoutModel",
       "_view_count": null,
       "_view_module": "@jupyter-widgets/base",
       "_view_module_version": "2.0.0",
       "_view_name": "LayoutView",
       "align_content": null,
       "align_items": null,
       "align_self": null,
       "border_bottom": null,
       "border_left": null,
       "border_right": null,
       "border_top": null,
       "bottom": null,
       "display": null,
       "flex": null,
       "flex_flow": null,
       "grid_area": null,
       "grid_auto_columns": null,
       "grid_auto_flow": null,
       "grid_auto_rows": null,
       "grid_column": null,
       "grid_gap": null,
       "grid_row": null,
       "grid_template_areas": null,
       "grid_template_columns": null,
       "grid_template_rows": null,
       "height": null,
       "justify_content": null,
       "justify_items": null,
       "left": null,
       "margin": null,
       "max_height": null,
       "max_width": null,
       "min_height": null,
       "min_width": null,
       "object_fit": null,
       "object_position": null,
       "order": null,
       "overflow": null,
       "padding": null,
       "right": null,
       "top": null,
       "visibility": null,
       "width": null
      }
     },
     "e57ad95669774fdb8922c384974a3eef": {
      "model_module": "@jupyter-widgets/base",
      "model_module_version": "2.0.0",
      "model_name": "LayoutModel",
      "state": {
       "_model_module": "@jupyter-widgets/base",
       "_model_module_version": "2.0.0",
       "_model_name": "LayoutModel",
       "_view_count": null,
       "_view_module": "@jupyter-widgets/base",
       "_view_module_version": "2.0.0",
       "_view_name": "LayoutView",
       "align_content": null,
       "align_items": null,
       "align_self": null,
       "border_bottom": null,
       "border_left": null,
       "border_right": null,
       "border_top": null,
       "bottom": null,
       "display": null,
       "flex": null,
       "flex_flow": null,
       "grid_area": null,
       "grid_auto_columns": null,
       "grid_auto_flow": null,
       "grid_auto_rows": null,
       "grid_column": null,
       "grid_gap": null,
       "grid_row": null,
       "grid_template_areas": null,
       "grid_template_columns": null,
       "grid_template_rows": null,
       "height": null,
       "justify_content": null,
       "justify_items": null,
       "left": null,
       "margin": null,
       "max_height": null,
       "max_width": null,
       "min_height": null,
       "min_width": null,
       "object_fit": null,
       "object_position": null,
       "order": null,
       "overflow": null,
       "padding": null,
       "right": null,
       "top": null,
       "visibility": null,
       "width": null
      }
     }
    },
    "version_major": 2,
    "version_minor": 0
   }
  }
 },
 "nbformat": 4,
 "nbformat_minor": 5
}
