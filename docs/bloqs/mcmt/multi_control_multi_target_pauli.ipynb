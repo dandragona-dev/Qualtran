{
 "cells": [
  {
   "cell_type": "markdown",
   "id": "5c75973b",
   "metadata": {
    "cq.autogen": "title_cell"
   },
   "source": [
    "# Multi-Paulis"
   ]
  },
  {
   "cell_type": "code",
   "execution_count": 1,
   "id": "c0d3d2b2",
   "metadata": {
    "cq.autogen": "top_imports"
   },
   "outputs": [],
   "source": [
    "from qualtran import Bloq, CompositeBloq, BloqBuilder, Signature, Register\n",
    "from qualtran import QBit, QInt, QUInt, QAny\n",
    "from qualtran.drawing import show_bloq, show_call_graph, show_counts_sigma\n",
    "from typing import *\n",
    "import numpy as np\n",
    "import sympy\n",
    "import cirq"
   ]
  },
  {
   "cell_type": "markdown",
   "id": "ac237fd0",
   "metadata": {
    "cq.autogen": "MultiTargetCNOT.bloq_doc.md"
   },
   "source": [
    "## `MultiTargetCNOT`\n",
    "Implements single control, multi-target $C[X^{\\otimes n}]$ gate.\n",
    "\n",
    "Implements $|0><0| I + |1><1| X^{\\otimes n}$ using a circuit of depth $2\\log(n) + 1$\n",
    "containing only CNOT gates.\n",
    "\n",
    "#### References\n",
    " - [Trading T-gates for dirty qubits in state preparation and unitary synthesis](https://arxiv.org/abs/1812.00954). Appendix B.1.\n"
   ]
  },
  {
   "cell_type": "code",
   "execution_count": 2,
   "id": "a9e53831",
   "metadata": {
    "cq.autogen": "MultiTargetCNOT.bloq_doc.py"
   },
   "outputs": [],
   "source": [
    "from qualtran.bloqs.mcmt import MultiTargetCNOT"
   ]
  },
  {
   "cell_type": "markdown",
   "id": "70036306",
   "metadata": {
    "cq.autogen": "MultiTargetCNOT.example_instances.md"
   },
   "source": [
    "### Example Instances"
   ]
  },
  {
   "cell_type": "code",
   "execution_count": 3,
   "id": "40a9ec07",
   "metadata": {
    "cq.autogen": "MultiTargetCNOT.c_multi_not_symb"
   },
   "outputs": [],
   "source": [
    "n = sympy.Symbol('n')\n",
    "c_multi_not_symb = MultiTargetCNOT(bitsize=n)"
   ]
  },
  {
   "cell_type": "code",
   "execution_count": 4,
   "id": "ecddf931",
   "metadata": {
    "cq.autogen": "MultiTargetCNOT.c_multi_not"
   },
   "outputs": [],
   "source": [
    "c_multi_not = MultiTargetCNOT(bitsize=5)"
   ]
  },
  {
   "cell_type": "markdown",
   "id": "251ca68a",
   "metadata": {
    "cq.autogen": "MultiTargetCNOT.graphical_signature.md"
   },
   "source": [
    "#### Graphical Signature"
   ]
  },
  {
   "cell_type": "code",
   "execution_count": 5,
   "id": "bff75a03",
   "metadata": {
    "cq.autogen": "MultiTargetCNOT.graphical_signature.py"
   },
   "outputs": [
    {
     "data": {
      "application/vnd.jupyter.widget-view+json": {
       "model_id": "42edc3d3865a4e9f8c1434990e3f9b03",
       "version_major": 2,
       "version_minor": 0
      },
      "text/plain": [
       "HBox(children=(Output(outputs=({'output_type': 'display_data', 'data': {'text/plain': '<IPython.core.display.M…"
      ]
     },
     "metadata": {},
     "output_type": "display_data"
    }
   ],
   "source": [
    "from qualtran.drawing import show_bloqs\n",
    "show_bloqs([c_multi_not_symb, c_multi_not],\n",
    "           ['`c_multi_not_symb`', '`c_multi_not`'])"
   ]
  },
  {
   "cell_type": "markdown",
   "id": "bd425677",
   "metadata": {
    "cq.autogen": "MultiTargetCNOT.call_graph.md"
   },
   "source": [
    "### Call Graph"
   ]
  },
  {
   "cell_type": "code",
   "execution_count": 6,
   "id": "a0082f8f",
   "metadata": {
    "cq.autogen": "MultiTargetCNOT.call_graph.py"
   },
   "outputs": [
    {
     "data": {
      "image/svg+xml": [
       "<svg xmlns=\"http://www.w3.org/2000/svg\" xmlns:xlink=\"http://www.w3.org/1999/xlink\" width=\"127pt\" height=\"44pt\" viewBox=\"0.00 0.00 127.00 44.00\">\n",
       "<g id=\"graph0\" class=\"graph\" transform=\"scale(1 1) rotate(0) translate(4 40)\">\n",
       "<title>counts</title>\n",
       "<polygon fill=\"white\" stroke=\"transparent\" points=\"-4,4 -4,-40 123,-40 123,4 -4,4\"/>\n",
       "<!-- b0 -->\n",
       "<g id=\"node1\" class=\"node\">\n",
       "<title>b0</title>\n",
       "<polygon fill=\"none\" stroke=\"black\" points=\"119,-36 0,-36 0,0 119,0 119,-36\"/>\n",
       "<text text-anchor=\"start\" x=\"8\" y=\"-19.8\" font-family=\"Times,serif\" font-size=\"14.00\">MultiTargetCNOT</text>\n",
       "<text text-anchor=\"start\" x=\"32\" y=\"-9\" font-family=\"monospace\" font-size=\"10.00\">bitsize=n</text>\n",
       "</g>\n",
       "</g>\n",
       "</svg>"
      ],
      "text/plain": [
       "<IPython.core.display.SVG object>"
      ]
     },
     "metadata": {},
     "output_type": "display_data"
    },
    {
     "data": {
      "text/markdown": [
       "#### Counts totals:\n",
       " - `MultiTargetCNOT`: 1"
      ],
      "text/plain": [
       "<IPython.core.display.Markdown object>"
      ]
     },
     "metadata": {},
     "output_type": "display_data"
    }
   ],
   "source": [
    "from qualtran.resource_counting.generalizers import ignore_split_join\n",
    "c_multi_not_symb_g, c_multi_not_symb_sigma = c_multi_not_symb.call_graph(max_depth=1, generalizer=ignore_split_join)\n",
    "show_call_graph(c_multi_not_symb_g)\n",
    "show_counts_sigma(c_multi_not_symb_sigma)"
   ]
  },
  {
   "cell_type": "code",
   "execution_count": 7,
   "id": "5457e35b",
   "metadata": {},
   "outputs": [
    {
     "data": {
      "text/plain": [
       "(<Figure size 1000x535.714 with 1 Axes>, <Axes: >)"
      ]
     },
     "execution_count": 7,
     "metadata": {},
     "output_type": "execute_result"
    },
    {
     "data": {
      "image/png": "[encoded data removed]",
      "text/plain": [
       "<Figure size 1000x535.714 with 1 Axes>"
      ]
     },
     "metadata": {},
     "output_type": "display_data"
    }
   ],
   "source": [
    "from qualtran.drawing import get_musical_score_data, draw_musical_score\n",
    "\n",
    "draw_musical_score(get_musical_score_data(c_multi_not.decompose_bloq()))"
   ]
  },
  {
   "cell_type": "markdown",
   "id": "aba024ec",
   "metadata": {
    "cq.autogen": "MultiControlPauli.bloq_doc.md"
   },
   "source": [
    "## `MultiControlPauli`\n",
    "Implements multi-control, single-target C^{n}P gate.\n",
    "\n",
    "Implements $C^{n}P = (1 - |1^{n}><1^{n}|) I + |1^{n}><1^{n}| P^{n}$ using $n-1$\n",
    "clean ancillas using a multi-controlled `AND` gate. Uses the Toffoli ladder\n",
    "construction described in \"n−2 Ancilla Bits\" section of Ref[1] but uses an\n",
    "$\\text{AND} / \\text{AND}^\\dagger$ ladder instead for computing / uncomputing\n",
    "using clean ancillas instead of the Toffoli ladder. The measurement based\n",
    "uncomputation of $\\text{AND}$ does not consume any magic states and thus has\n",
    "better constant factors.\n",
    "\n",
    "#### References\n",
    " - [Constructing Large Controlled Nots](https://algassert.com/circuits/2015/06/05/Constructing-Large-Controlled-Nots.html). \n"
   ]
  },
  {
   "cell_type": "code",
   "execution_count": 8,
   "id": "bf4f6c5a",
   "metadata": {
    "cq.autogen": "MultiControlPauli.bloq_doc.py"
   },
   "outputs": [],
   "source": [
    "from qualtran.bloqs.mcmt import MultiControlPauli"
   ]
  },
  {
   "cell_type": "markdown",
   "id": "a3deef58",
   "metadata": {
    "cq.autogen": "MultiControlPauli.example_instances.md"
   },
   "source": [
    "### Example Instances"
   ]
  },
  {
   "cell_type": "code",
   "execution_count": 9,
   "id": "610dfdf5",
   "metadata": {
    "cq.autogen": "MultiControlPauli.ccpauli"
   },
   "outputs": [],
   "source": [
    "ccpauli = MultiControlPauli(cvs=(1, 0, 1, 0, 1), target_gate=cirq.X)"
   ]
  },
  {
   "cell_type": "markdown",
   "id": "29045880",
   "metadata": {
    "cq.autogen": "MultiControlPauli.graphical_signature.md"
   },
   "source": [
    "#### Graphical Signature"
   ]
  },
  {
   "cell_type": "code",
   "execution_count": 10,
   "id": "df830018",
   "metadata": {
    "cq.autogen": "MultiControlPauli.graphical_signature.py"
   },
   "outputs": [
    {
     "data": {
      "application/vnd.jupyter.widget-view+json": {
       "model_id": "bb9333e718824854b2af8f9054fb743b",
       "version_major": 2,
       "version_minor": 0
      },
      "text/plain": [
       "HBox(children=(Output(outputs=({'output_type': 'display_data', 'data': {'text/plain': '<IPython.core.display.M…"
      ]
     },
     "metadata": {},
     "output_type": "display_data"
    }
   ],
   "source": [
    "from qualtran.drawing import show_bloqs\n",
    "show_bloqs([ccpauli],\n",
    "           ['`ccpauli`'])"
   ]
  },
  {
   "cell_type": "markdown",
   "id": "6849b86b",
   "metadata": {
    "cq.autogen": "MultiControlPauli.call_graph.md"
   },
   "source": [
    "### Call Graph"
   ]
  },
  {
   "cell_type": "code",
   "execution_count": 11,
   "id": "dd1f8a53",
   "metadata": {
    "cq.autogen": "MultiControlPauli.call_graph.py"
   },
   "outputs": [
    {
     "data": {
      "image/svg+xml": [
       "<svg xmlns=\"http://www.w3.org/2000/svg\" xmlns:xlink=\"http://www.w3.org/1999/xlink\" width=\"259pt\" height=\"131pt\" viewBox=\"0.00 0.00 259.00 131.00\">\n",
       "<g id=\"graph0\" class=\"graph\" transform=\"scale(1 1) rotate(0) translate(4 127)\">\n",
       "<title>counts</title>\n",
       "<polygon fill=\"white\" stroke=\"transparent\" points=\"-4,4 -4,-127 255,-127 255,4 -4,4\"/>\n",
       "<!-- b0 -->\n",
       "<g id=\"node1\" class=\"node\">\n",
       "<title>b0</title>\n",
       "<polygon fill=\"none\" stroke=\"black\" points=\"242,-123 9,-123 9,-87 242,-87 242,-123\"/>\n",
       "<text text-anchor=\"start\" x=\"109\" y=\"-106.8\" font-family=\"Times,serif\" font-size=\"14.00\">C^5X</text>\n",
       "<text text-anchor=\"start\" x=\"17\" y=\"-96\" font-family=\"monospace\" font-size=\"10.00\">cvs=(1, 0, 1 ..., target_gate=cirq.X</text>\n",
       "</g>\n",
       "<!-- b1 -->\n",
       "<g id=\"node2\" class=\"node\">\n",
       "<title>b1</title>\n",
       "<polygon fill=\"none\" stroke=\"black\" points=\"251,-36 0,-36 0,0 251,0 251,-36\"/>\n",
       "<text text-anchor=\"start\" x=\"90.5\" y=\"-19.8\" font-family=\"Times,serif\" font-size=\"14.00\">C[5][XGate]</text>\n",
       "<text text-anchor=\"start\" x=\"8\" y=\"-9\" font-family=\"monospace\" font-size=\"10.00\">subbloq=XGate(), ctrl_spec=CtrlSpec ...</text>\n",
       "</g>\n",
       "<!-- b0&#45;&gt;b1 -->\n",
       "<g id=\"edge1\" class=\"edge\">\n",
       "<title>b0-&gt;b1</title>\n",
       "<path fill=\"none\" stroke=\"black\" d=\"M125.5,-86.8C125.5,-75.16 125.5,-59.55 125.5,-46.24\"/>\n",
       "<polygon fill=\"black\" stroke=\"black\" points=\"129,-46.18 125.5,-36.18 122,-46.18 129,-46.18\"/>\n",
       "<text text-anchor=\"middle\" x=\"129\" y=\"-57.8\" font-family=\"Times,serif\" font-size=\"14.00\">1</text>\n",
       "</g>\n",
       "</g>\n",
       "</svg>"
      ],
      "text/plain": [
       "<IPython.core.display.SVG object>"
      ]
     },
     "metadata": {},
     "output_type": "display_data"
    },
    {
     "data": {
      "text/markdown": [
       "#### Counts totals:\n",
       " - `C[5][XGate]`: 1"
      ],
      "text/plain": [
       "<IPython.core.display.Markdown object>"
      ]
     },
     "metadata": {},
     "output_type": "display_data"
    }
   ],
   "source": [
    "from qualtran.resource_counting.generalizers import ignore_split_join\n",
    "ccpauli_g, ccpauli_sigma = ccpauli.call_graph(max_depth=1, generalizer=ignore_split_join)\n",
    "show_call_graph(ccpauli_g)\n",
    "show_counts_sigma(ccpauli_sigma)"
   ]
  }
 ],
 "metadata": {
  "kernelspec": {
   "display_name": "Python 3 (ipykernel)",
   "language": "python",
   "name": "python3"
  },
  "language_info": {
   "codemirror_mode": {
    "name": "ipython",
    "version": 3
   },
   "file_extension": ".py",
   "mimetype": "text/x-python",
   "name": "python",
   "nbconvert_exporter": "python",
   "pygments_lexer": "ipython3",
   "version": "3.11.8"
  },
  "widgets": {
   "application/vnd.jupyter.widget-state+json": {
    "state": {
     "23f801aca1bf4bfc9ab4746df2ad37c5": {
      "model_module": "@jupyter-widgets/base",
      "model_module_version": "2.0.0",
      "model_name": "LayoutModel",
      "state": {
       "_model_module": "@jupyter-widgets/base",
       "_model_module_version": "2.0.0",
       "_model_name": "LayoutModel",
       "_view_count": null,
       "_view_module": "@jupyter-widgets/base",
       "_view_module_version": "2.0.0",
       "_view_name": "LayoutView",
       "align_content": null,
       "align_items": null,
       "align_self": null,
       "border_bottom": null,
       "border_left": null,
       "border_right": null,
       "border_top": null,
       "bottom": null,
       "display": null,
       "flex": null,
       "flex_flow": null,
       "grid_area": null,
       "grid_auto_columns": null,
       "grid_auto_flow": null,
       "grid_auto_rows": null,
       "grid_column": null,
       "grid_gap": null,
       "grid_row": null,
       "grid_template_areas": null,
       "grid_template_columns": null,
       "grid_template_rows": null,
       "height": null,
       "justify_content": null,
       "justify_items": null,
       "left": null,
       "margin": null,
       "max_height": null,
       "max_width": null,
       "min_height": null,
       "min_width": null,
       "object_fit": null,
       "object_position": null,
       "order": null,
       "overflow": null,
       "padding": null,
       "right": null,
       "top": null,
       "visibility": null,
       "width": null
      }
     },
     "42edc3d3865a4e9f8c1434990e3f9b03": {
      "model_module": "@jupyter-widgets/controls",
      "model_module_version": "2.0.0",
      "model_name": "HBoxModel",
      "state": {
       "_dom_classes": [],
       "_model_module": "@jupyter-widgets/controls",
       "_model_module_version": "2.0.0",
       "_model_name": "HBoxModel",
       "_view_count": null,
       "_view_module": "@jupyter-widgets/controls",
       "_view_module_version": "2.0.0",
       "_view_name": "HBoxView",
       "box_style": "",
       "children": [
        "IPY_MODEL_9d20bfddb9d2444fbc1b890d896fd5a3",
        "IPY_MODEL_93d24fa891384990bebc530908a9c200"
       ],
       "layout": "IPY_MODEL_e986bca0000443469f9d430a51804e50",
       "tabbable": null,
       "tooltip": null
      }
     },
     "75cab369aff64b61874e54ad8e351415": {
      "model_module": "@jupyter-widgets/base",
      "model_module_version": "2.0.0",
      "model_name": "LayoutModel",
      "state": {
       "_model_module": "@jupyter-widgets/base",
       "_model_module_version": "2.0.0",
       "_model_name": "LayoutModel",
       "_view_count": null,
       "_view_module": "@jupyter-widgets/base",
       "_view_module_version": "2.0.0",
       "_view_name": "LayoutView",
       "align_content": null,
       "align_items": null,
       "align_self": null,
       "border_bottom": null,
       "border_left": null,
       "border_right": null,
       "border_top": null,
       "bottom": null,
       "display": null,
       "flex": null,
       "flex_flow": null,
       "grid_area": null,
       "grid_auto_columns": null,
       "grid_auto_flow": null,
       "grid_auto_rows": null,
       "grid_column": null,
       "grid_gap": null,
       "grid_row": null,
       "grid_template_areas": null,
       "grid_template_columns": null,
       "grid_template_rows": null,
       "height": null,
       "justify_content": null,
       "justify_items": null,
       "left": null,
       "margin": null,
       "max_height": null,
       "max_width": null,
       "min_height": null,
       "min_width": null,
       "object_fit": null,
       "object_position": null,
       "order": null,
       "overflow": null,
       "padding": null,
       "right": null,
       "top": null,
       "visibility": null,
       "width": null
      }
     },
     "93d24fa891384990bebc530908a9c200": {
      "model_module": "@jupyter-widgets/output",
      "model_module_version": "1.0.0",
      "model_name": "OutputModel",
      "state": {
       "_dom_classes": [],
       "_model_module": "@jupyter-widgets/output",
       "_model_module_version": "1.0.0",
       "_model_name": "OutputModel",
       "_view_count": null,
       "_view_module": "@jupyter-widgets/output",
       "_view_module_version": "1.0.0",
       "_view_name": "OutputView",
       "layout": "IPY_MODEL_75cab369aff64b61874e54ad8e351415",
       "msg_id": "",
       "outputs": [
        {
         "data": {
          "text/markdown": "`c_multi_not`",
          "text/plain": "<IPython.core.display.Markdown object>"
         },
         "metadata": {},
         "output_type": "display_data"
        },
        {
         "data": {
          "image/svg+xml": "<svg xmlns=\"http://www.w3.org/2000/svg\" xmlns:xlink=\"http://www.w3.org/1999/xlink\" width=\"275pt\" height=\"98pt\" viewBox=\"0.00 0.00 275.00 98.00\">\n<g id=\"graph0\" class=\"graph\" transform=\"scale(1 1) rotate(0) translate(4 94)\">\n<title>my_graph</title>\n<polygon fill=\"white\" stroke=\"transparent\" points=\"-4,4 -4,-94 271,-94 271,4 -4,4\"/>\n<!-- control_G1 -->\n<g id=\"node1\" class=\"node\">\n<title>control_G1</title>\n<text text-anchor=\"middle\" x=\"27.5\" y=\"-68.3\" font-family=\"Times,serif\" font-size=\"14.00\">control</text>\n</g>\n<!-- MultiTargetCNOT -->\n<g id=\"node3\" class=\"node\">\n<title>MultiTargetCNOT</title>\n<polygon fill=\"none\" stroke=\"black\" points=\"92.5,-66 92.5,-83 175.5,-83 175.5,-66 92.5,-66\"/>\n<text text-anchor=\"start\" x=\"95.5\" y=\"-72\" font-family=\"Times,serif\" font-size=\"10.00\">MultiTargetCNOT</text>\n<polygon fill=\"none\" stroke=\"black\" points=\"92.5,-45 92.5,-66 175.5,-66 175.5,-45 92.5,-45\"/>\n<text text-anchor=\"start\" x=\"114.5\" y=\"-51.8\" font-family=\"Times,serif\" font-size=\"14.00\">control</text>\n<polygon fill=\"none\" stroke=\"black\" points=\"92.5,-24 92.5,-45 175.5,-45 175.5,-24 92.5,-24\"/>\n<text text-anchor=\"start\" x=\"115.5\" y=\"-30.8\" font-family=\"Times,serif\" font-size=\"14.00\">targets</text>\n</g>\n<!-- control_G1&#45;&gt;MultiTargetCNOT -->\n<g id=\"edge1\" class=\"edge\">\n<title>control_G1:e-&gt;MultiTargetCNOT:w</title>\n<path fill=\"none\" stroke=\"black\" d=\"M55,-72C72.22,-72 73.97,-57.23 89.98,-56.07\"/>\n<ellipse fill=\"black\" stroke=\"black\" cx=\"91\" cy=\"-56.04\" rx=\"1\" ry=\"1\"/>\n<text text-anchor=\"middle\" x=\"73.5\" y=\"-67\" font-family=\"Times,serif\" font-size=\"10.00\">1</text>\n</g>\n<!-- targets_G3 -->\n<g id=\"node2\" class=\"node\">\n<title>targets_G3</title>\n<text text-anchor=\"middle\" x=\"27.5\" y=\"-14.3\" font-family=\"Times,serif\" font-size=\"14.00\">targets</text>\n</g>\n<!-- targets_G3&#45;&gt;MultiTargetCNOT -->\n<g id=\"edge2\" class=\"edge\">\n<title>targets_G3:e-&gt;MultiTargetCNOT:w</title>\n<path fill=\"none\" stroke=\"black\" d=\"M55,-18C72.22,-18 73.97,-32.77 89.98,-33.93\"/>\n<ellipse fill=\"black\" stroke=\"black\" cx=\"91\" cy=\"-33.96\" rx=\"1\" ry=\"1\"/>\n<text text-anchor=\"middle\" x=\"73.5\" y=\"-29\" font-family=\"Times,serif\" font-size=\"10.00\">5</text>\n</g>\n<!-- control_G0 -->\n<g id=\"node4\" class=\"node\">\n<title>control_G0</title>\n<text text-anchor=\"middle\" x=\"239.5\" y=\"-68.3\" font-family=\"Times,serif\" font-size=\"14.00\">control</text>\n</g>\n<!-- MultiTargetCNOT&#45;&gt;control_G0 -->\n<g id=\"edge3\" class=\"edge\">\n<title>MultiTargetCNOT:e-&gt;control_G0:w</title>\n<path fill=\"none\" stroke=\"black\" d=\"M175,-56C192.22,-56 193.97,-70.77 209.98,-71.93\"/>\n<ellipse fill=\"black\" stroke=\"black\" cx=\"211\" cy=\"-71.96\" rx=\"1\" ry=\"1\"/>\n<text text-anchor=\"middle\" x=\"193.5\" y=\"-67\" font-family=\"Times,serif\" font-size=\"10.00\">1</text>\n</g>\n<!-- targets_G2 -->\n<g id=\"node5\" class=\"node\">\n<title>targets_G2</title>\n<text text-anchor=\"middle\" x=\"239.5\" y=\"-14.3\" font-family=\"Times,serif\" font-size=\"14.00\">targets</text>\n</g>\n<!-- MultiTargetCNOT&#45;&gt;targets_G2 -->\n<g id=\"edge4\" class=\"edge\">\n<title>MultiTargetCNOT:e-&gt;targets_G2:w</title>\n<path fill=\"none\" stroke=\"black\" d=\"M175,-34C192.22,-34 193.97,-19.23 209.98,-18.07\"/>\n<ellipse fill=\"black\" stroke=\"black\" cx=\"211\" cy=\"-18.04\" rx=\"1\" ry=\"1\"/>\n<text text-anchor=\"middle\" x=\"193.5\" y=\"-29\" font-family=\"Times,serif\" font-size=\"10.00\">5</text>\n</g>\n</g>\n</svg>",
          "text/plain": "<IPython.core.display.SVG object>"
         },
         "metadata": {},
         "output_type": "display_data"
        }
       ],
       "tabbable": null,
       "tooltip": null
      }
     },
     "9d20bfddb9d2444fbc1b890d896fd5a3": {
      "model_module": "@jupyter-widgets/output",
      "model_module_version": "1.0.0",
      "model_name": "OutputModel",
      "state": {
       "_dom_classes": [],
       "_model_module": "@jupyter-widgets/output",
       "_model_module_version": "1.0.0",
       "_model_name": "OutputModel",
       "_view_count": null,
       "_view_module": "@jupyter-widgets/output",
       "_view_module_version": "1.0.0",
       "_view_name": "OutputView",
       "layout": "IPY_MODEL_d8b0b61573d34969aa06b470ecdc9f85",
       "msg_id": "",
       "outputs": [
        {
         "data": {
          "text/markdown": "`c_multi_not_symb`",
          "text/plain": "<IPython.core.display.Markdown object>"
         },
         "metadata": {},
         "output_type": "display_data"
        },
        {
         "data": {
          "image/svg+xml": "<svg xmlns=\"http://www.w3.org/2000/svg\" xmlns:xlink=\"http://www.w3.org/1999/xlink\" width=\"275pt\" height=\"98pt\" viewBox=\"0.00 0.00 275.00 98.00\">\n<g id=\"graph0\" class=\"graph\" transform=\"scale(1 1) rotate(0) translate(4 94)\">\n<title>my_graph</title>\n<polygon fill=\"white\" stroke=\"transparent\" points=\"-4,4 -4,-94 271,-94 271,4 -4,4\"/>\n<!-- control_G1 -->\n<g id=\"node1\" class=\"node\">\n<title>control_G1</title>\n<text text-anchor=\"middle\" x=\"27.5\" y=\"-68.3\" font-family=\"Times,serif\" font-size=\"14.00\">control</text>\n</g>\n<!-- MultiTargetCNOT -->\n<g id=\"node3\" class=\"node\">\n<title>MultiTargetCNOT</title>\n<polygon fill=\"none\" stroke=\"black\" points=\"92.5,-66 92.5,-83 175.5,-83 175.5,-66 92.5,-66\"/>\n<text text-anchor=\"start\" x=\"95.5\" y=\"-72\" font-family=\"Times,serif\" font-size=\"10.00\">MultiTargetCNOT</text>\n<polygon fill=\"none\" stroke=\"black\" points=\"92.5,-45 92.5,-66 175.5,-66 175.5,-45 92.5,-45\"/>\n<text text-anchor=\"start\" x=\"114.5\" y=\"-51.8\" font-family=\"Times,serif\" font-size=\"14.00\">control</text>\n<polygon fill=\"none\" stroke=\"black\" points=\"92.5,-24 92.5,-45 175.5,-45 175.5,-24 92.5,-24\"/>\n<text text-anchor=\"start\" x=\"115.5\" y=\"-30.8\" font-family=\"Times,serif\" font-size=\"14.00\">targets</text>\n</g>\n<!-- control_G1&#45;&gt;MultiTargetCNOT -->\n<g id=\"edge1\" class=\"edge\">\n<title>control_G1:e-&gt;MultiTargetCNOT:w</title>\n<path fill=\"none\" stroke=\"black\" d=\"M55,-72C72.22,-72 73.97,-57.23 89.98,-56.07\"/>\n<ellipse fill=\"black\" stroke=\"black\" cx=\"91\" cy=\"-56.04\" rx=\"1\" ry=\"1\"/>\n<text text-anchor=\"middle\" x=\"73.5\" y=\"-67\" font-family=\"Times,serif\" font-size=\"10.00\">1</text>\n</g>\n<!-- targets_G2 -->\n<g id=\"node2\" class=\"node\">\n<title>targets_G2</title>\n<text text-anchor=\"middle\" x=\"27.5\" y=\"-14.3\" font-family=\"Times,serif\" font-size=\"14.00\">targets</text>\n</g>\n<!-- targets_G2&#45;&gt;MultiTargetCNOT -->\n<g id=\"edge2\" class=\"edge\">\n<title>targets_G2:e-&gt;MultiTargetCNOT:w</title>\n<path fill=\"none\" stroke=\"black\" d=\"M55,-18C72.22,-18 73.97,-32.77 89.98,-33.93\"/>\n<ellipse fill=\"black\" stroke=\"black\" cx=\"91\" cy=\"-33.96\" rx=\"1\" ry=\"1\"/>\n<text text-anchor=\"middle\" x=\"73.5\" y=\"-29\" font-family=\"Times,serif\" font-size=\"10.00\">n</text>\n</g>\n<!-- control_G0 -->\n<g id=\"node4\" class=\"node\">\n<title>control_G0</title>\n<text text-anchor=\"middle\" x=\"239.5\" y=\"-68.3\" font-family=\"Times,serif\" font-size=\"14.00\">control</text>\n</g>\n<!-- MultiTargetCNOT&#45;&gt;control_G0 -->\n<g id=\"edge3\" class=\"edge\">\n<title>MultiTargetCNOT:e-&gt;control_G0:w</title>\n<path fill=\"none\" stroke=\"black\" d=\"M175,-56C192.22,-56 193.97,-70.77 209.98,-71.93\"/>\n<ellipse fill=\"black\" stroke=\"black\" cx=\"211\" cy=\"-71.96\" rx=\"1\" ry=\"1\"/>\n<text text-anchor=\"middle\" x=\"193.5\" y=\"-67\" font-family=\"Times,serif\" font-size=\"10.00\">1</text>\n</g>\n<!-- targets_G4 -->\n<g id=\"node5\" class=\"node\">\n<title>targets_G4</title>\n<text text-anchor=\"middle\" x=\"239.5\" y=\"-14.3\" font-family=\"Times,serif\" font-size=\"14.00\">targets</text>\n</g>\n<!-- MultiTargetCNOT&#45;&gt;targets_G4 -->\n<g id=\"edge4\" class=\"edge\">\n<title>MultiTargetCNOT:e-&gt;targets_G4:w</title>\n<path fill=\"none\" stroke=\"black\" d=\"M175,-34C192.22,-34 193.97,-19.23 209.98,-18.07\"/>\n<ellipse fill=\"black\" stroke=\"black\" cx=\"211\" cy=\"-18.04\" rx=\"1\" ry=\"1\"/>\n<text text-anchor=\"middle\" x=\"193.5\" y=\"-29\" font-family=\"Times,serif\" font-size=\"10.00\">n</text>\n</g>\n</g>\n</svg>",
          "text/plain": "<IPython.core.display.SVG object>"
         },
         "metadata": {},
         "output_type": "display_data"
        }
       ],
       "tabbable": null,
       "tooltip": null
      }
     },
     "bb9333e718824854b2af8f9054fb743b": {
      "model_module": "@jupyter-widgets/controls",
      "model_module_version": "2.0.0",
      "model_name": "HBoxModel",
      "state": {
       "_dom_classes": [],
       "_model_module": "@jupyter-widgets/controls",
       "_model_module_version": "2.0.0",
       "_model_name": "HBoxModel",
       "_view_count": null,
       "_view_module": "@jupyter-widgets/controls",
       "_view_module_version": "2.0.0",
       "_view_name": "HBoxView",
       "box_style": "",
       "children": [
        "IPY_MODEL_dadf88150d01424daf645d59f998c8e3"
       ],
       "layout": "IPY_MODEL_23f801aca1bf4bfc9ab4746df2ad37c5",
       "tabbable": null,
       "tooltip": null
      }
     },
     "d8b0b61573d34969aa06b470ecdc9f85": {
      "model_module": "@jupyter-widgets/base",
      "model_module_version": "2.0.0",
      "model_name": "LayoutModel",
      "state": {
       "_model_module": "@jupyter-widgets/base",
       "_model_module_version": "2.0.0",
       "_model_name": "LayoutModel",
       "_view_count": null,
       "_view_module": "@jupyter-widgets/base",
       "_view_module_version": "2.0.0",
       "_view_name": "LayoutView",
       "align_content": null,
       "align_items": null,
       "align_self": null,
       "border_bottom": null,
       "border_left": null,
       "border_right": null,
       "border_top": null,
       "bottom": null,
       "display": null,
       "flex": null,
       "flex_flow": null,
       "grid_area": null,
       "grid_auto_columns": null,
       "grid_auto_flow": null,
       "grid_auto_rows": null,
       "grid_column": null,
       "grid_gap": null,
       "grid_row": null,
       "grid_template_areas": null,
       "grid_template_columns": null,
       "grid_template_rows": null,
       "height": null,
       "justify_content": null,
       "justify_items": null,
       "left": null,
       "margin": null,
       "max_height": null,
       "max_width": null,
       "min_height": null,
       "min_width": null,
       "object_fit": null,
       "object_position": null,
       "order": null,
       "overflow": null,
       "padding": null,
       "right": null,
       "top": null,
       "visibility": null,
       "width": null
      }
     },
     "dadf88150d01424daf645d59f998c8e3": {
      "model_module": "@jupyter-widgets/output",
      "model_module_version": "1.0.0",
      "model_name": "OutputModel",
      "state": {
       "_dom_classes": [],
       "_model_module": "@jupyter-widgets/output",
       "_model_module_version": "1.0.0",
       "_model_name": "OutputModel",
       "_view_count": null,
       "_view_module": "@jupyter-widgets/output",
       "_view_module_version": "1.0.0",
       "_view_name": "OutputView",
       "layout": "IPY_MODEL_e49af6ab6276480abc28a45536d81f10",
       "msg_id": "",
       "outputs": [
        {
         "data": {
          "text/markdown": "`ccpauli`",
          "text/plain": "<IPython.core.display.Markdown object>"
         },
         "metadata": {},
         "output_type": "display_data"
        },
        {
         "data": {
          "image/svg+xml": "<svg xmlns=\"http://www.w3.org/2000/svg\" xmlns:xlink=\"http://www.w3.org/1999/xlink\" width=\"300pt\" height=\"314pt\" viewBox=\"0.00 0.00 300.00 314.00\">\n<g id=\"graph0\" class=\"graph\" transform=\"scale(1 1) rotate(0) translate(4 310)\">\n<title>my_graph</title>\n<polygon fill=\"white\" stroke=\"transparent\" points=\"-4,4 -4,-310 296,-310 296,4 -4,4\"/>\n<!-- controls_G16 -->\n<g id=\"node1\" class=\"node\">\n<title>controls_G16</title>\n<text text-anchor=\"middle\" x=\"38\" y=\"-284.3\" font-family=\"Times,serif\" font-size=\"14.00\">controls[0]</text>\n</g>\n<!-- MultiControlPauli -->\n<g id=\"node7\" class=\"node\">\n<title>MultiControlPauli</title>\n<polygon fill=\"none\" stroke=\"black\" points=\"113,-216 113,-233 179,-233 179,-216 113,-216\"/>\n<text text-anchor=\"start\" x=\"133.5\" y=\"-222\" font-family=\"Times,serif\" font-size=\"10.00\">C^5X</text>\n<polygon fill=\"none\" stroke=\"black\" points=\"113,-195 113,-216 179,-216 179,-195 113,-195\"/>\n<text text-anchor=\"start\" x=\"116\" y=\"-201.8\" font-family=\"Times,serif\" font-size=\"14.00\">controls[0]</text>\n<polygon fill=\"none\" stroke=\"black\" points=\"113,-174 113,-195 179,-195 179,-174 113,-174\"/>\n<text text-anchor=\"start\" x=\"116\" y=\"-180.8\" font-family=\"Times,serif\" font-size=\"14.00\">controls[1]</text>\n<polygon fill=\"none\" stroke=\"black\" points=\"113,-153 113,-174 179,-174 179,-153 113,-153\"/>\n<text text-anchor=\"start\" x=\"116\" y=\"-159.8\" font-family=\"Times,serif\" font-size=\"14.00\">controls[2]</text>\n<polygon fill=\"none\" stroke=\"black\" points=\"113,-132 113,-153 179,-153 179,-132 113,-132\"/>\n<text text-anchor=\"start\" x=\"116\" y=\"-138.8\" font-family=\"Times,serif\" font-size=\"14.00\">controls[3]</text>\n<polygon fill=\"none\" stroke=\"black\" points=\"113,-111 113,-132 179,-132 179,-111 113,-111\"/>\n<text text-anchor=\"start\" x=\"116\" y=\"-117.8\" font-family=\"Times,serif\" font-size=\"14.00\">controls[4]</text>\n<polygon fill=\"none\" stroke=\"black\" points=\"113,-90 113,-111 179,-111 179,-90 113,-90\"/>\n<text text-anchor=\"start\" x=\"130.5\" y=\"-96.8\" font-family=\"Times,serif\" font-size=\"14.00\">target</text>\n</g>\n<!-- controls_G16&#45;&gt;MultiControlPauli -->\n<g id=\"edge1\" class=\"edge\">\n<title>controls_G16:e-&gt;MultiControlPauli:w</title>\n<path fill=\"none\" stroke=\"black\" d=\"M76,-288C115.2,-288 74.66,-209.17 110.75,-206.09\"/>\n<ellipse fill=\"black\" stroke=\"black\" cx=\"112\" cy=\"-206.04\" rx=\"1\" ry=\"1\"/>\n<text text-anchor=\"middle\" x=\"94.5\" y=\"-273\" font-family=\"Times,serif\" font-size=\"10.00\">1</text>\n</g>\n<!-- controls_G13 -->\n<g id=\"node2\" class=\"node\">\n<title>controls_G13</title>\n<text text-anchor=\"middle\" x=\"38\" y=\"-230.3\" font-family=\"Times,serif\" font-size=\"14.00\">controls[1]</text>\n</g>\n<!-- controls_G13&#45;&gt;MultiControlPauli -->\n<g id=\"edge2\" class=\"edge\">\n<title>controls_G13:e-&gt;MultiControlPauli:w</title>\n<path fill=\"none\" stroke=\"black\" d=\"M76,-234C102.54,-234 86.64,-187.64 110.86,-185.11\"/>\n<ellipse fill=\"black\" stroke=\"black\" cx=\"112\" cy=\"-185.05\" rx=\"1\" ry=\"1\"/>\n<text text-anchor=\"middle\" x=\"94.5\" y=\"-213\" font-family=\"Times,serif\" font-size=\"10.00\">1</text>\n</g>\n<!-- controls_G17 -->\n<g id=\"node3\" class=\"node\">\n<title>controls_G17</title>\n<text text-anchor=\"middle\" x=\"38\" y=\"-176.3\" font-family=\"Times,serif\" font-size=\"14.00\">controls[2]</text>\n</g>\n<!-- controls_G17&#45;&gt;MultiControlPauli -->\n<g id=\"edge3\" class=\"edge\">\n<title>controls_G17:e-&gt;MultiControlPauli:w</title>\n<path fill=\"none\" stroke=\"black\" d=\"M76,-180C93.22,-180 94.97,-165.23 110.98,-164.07\"/>\n<ellipse fill=\"black\" stroke=\"black\" cx=\"112\" cy=\"-164.04\" rx=\"1\" ry=\"1\"/>\n<text text-anchor=\"middle\" x=\"94.5\" y=\"-175\" font-family=\"Times,serif\" font-size=\"10.00\">1</text>\n</g>\n<!-- controls_G5 -->\n<g id=\"node4\" class=\"node\">\n<title>controls_G5</title>\n<text text-anchor=\"middle\" x=\"38\" y=\"-122.3\" font-family=\"Times,serif\" font-size=\"14.00\">controls[3]</text>\n</g>\n<!-- controls_G5&#45;&gt;MultiControlPauli -->\n<g id=\"edge4\" class=\"edge\">\n<title>controls_G5:e-&gt;MultiControlPauli:w</title>\n<path fill=\"none\" stroke=\"black\" d=\"M76,-126C93.22,-126 94.97,-140.77 110.98,-141.93\"/>\n<ellipse fill=\"black\" stroke=\"black\" cx=\"112\" cy=\"-141.96\" rx=\"1\" ry=\"1\"/>\n<text text-anchor=\"middle\" x=\"94.5\" y=\"-137\" font-family=\"Times,serif\" font-size=\"10.00\">1</text>\n</g>\n<!-- controls_G7 -->\n<g id=\"node5\" class=\"node\">\n<title>controls_G7</title>\n<text text-anchor=\"middle\" x=\"38\" y=\"-68.3\" font-family=\"Times,serif\" font-size=\"14.00\">controls[4]</text>\n</g>\n<!-- controls_G7&#45;&gt;MultiControlPauli -->\n<g id=\"edge5\" class=\"edge\">\n<title>controls_G7:e-&gt;MultiControlPauli:w</title>\n<path fill=\"none\" stroke=\"black\" d=\"M76,-72C102.54,-72 86.64,-118.36 110.86,-120.89\"/>\n<ellipse fill=\"black\" stroke=\"black\" cx=\"112\" cy=\"-120.95\" rx=\"1\" ry=\"1\"/>\n<text text-anchor=\"middle\" x=\"94.5\" y=\"-100\" font-family=\"Times,serif\" font-size=\"10.00\">1</text>\n</g>\n<!-- target_G3 -->\n<g id=\"node6\" class=\"node\">\n<title>target_G3</title>\n<text text-anchor=\"middle\" x=\"38\" y=\"-14.3\" font-family=\"Times,serif\" font-size=\"14.00\">target</text>\n</g>\n<!-- target_G3&#45;&gt;MultiControlPauli -->\n<g id=\"edge6\" class=\"edge\">\n<title>target_G3:e-&gt;MultiControlPauli:w</title>\n<path fill=\"none\" stroke=\"black\" d=\"M66,-18C107.19,-18 72.41,-96.83 110.63,-99.91\"/>\n<ellipse fill=\"black\" stroke=\"black\" cx=\"112\" cy=\"-99.96\" rx=\"1\" ry=\"1\"/>\n<text text-anchor=\"middle\" x=\"94.5\" y=\"-91\" font-family=\"Times,serif\" font-size=\"10.00\">1</text>\n</g>\n<!-- controls_G8 -->\n<g id=\"node8\" class=\"node\">\n<title>controls_G8</title>\n<text text-anchor=\"middle\" x=\"254\" y=\"-284.3\" font-family=\"Times,serif\" font-size=\"14.00\">controls[0]</text>\n</g>\n<!-- MultiControlPauli&#45;&gt;controls_G8 -->\n<g id=\"edge7\" class=\"edge\">\n<title>MultiControlPauli:e-&gt;controls_G8:w</title>\n<path fill=\"none\" stroke=\"black\" d=\"M179,-206C218.2,-206 177.66,-284.83 213.75,-287.91\"/>\n<ellipse fill=\"black\" stroke=\"black\" cx=\"215\" cy=\"-287.96\" rx=\"1\" ry=\"1\"/>\n<text text-anchor=\"middle\" x=\"197.5\" y=\"-273\" font-family=\"Times,serif\" font-size=\"10.00\">1</text>\n</g>\n<!-- controls_G6 -->\n<g id=\"node9\" class=\"node\">\n<title>controls_G6</title>\n<text text-anchor=\"middle\" x=\"254\" y=\"-230.3\" font-family=\"Times,serif\" font-size=\"14.00\">controls[1]</text>\n</g>\n<!-- MultiControlPauli&#45;&gt;controls_G6 -->\n<g id=\"edge8\" class=\"edge\">\n<title>MultiControlPauli:e-&gt;controls_G6:w</title>\n<path fill=\"none\" stroke=\"black\" d=\"M179,-185C205.54,-185 189.64,-231.36 213.86,-233.89\"/>\n<ellipse fill=\"black\" stroke=\"black\" cx=\"215\" cy=\"-233.95\" rx=\"1\" ry=\"1\"/>\n<text text-anchor=\"middle\" x=\"197.5\" y=\"-213\" font-family=\"Times,serif\" font-size=\"10.00\">1</text>\n</g>\n<!-- controls_G11 -->\n<g id=\"node10\" class=\"node\">\n<title>controls_G11</title>\n<text text-anchor=\"middle\" x=\"254\" y=\"-176.3\" font-family=\"Times,serif\" font-size=\"14.00\">controls[2]</text>\n</g>\n<!-- MultiControlPauli&#45;&gt;controls_G11 -->\n<g id=\"edge9\" class=\"edge\">\n<title>MultiControlPauli:e-&gt;controls_G11:w</title>\n<path fill=\"none\" stroke=\"black\" d=\"M179,-164C196.22,-164 197.97,-178.77 213.98,-179.93\"/>\n<ellipse fill=\"black\" stroke=\"black\" cx=\"215\" cy=\"-179.96\" rx=\"1\" ry=\"1\"/>\n<text text-anchor=\"middle\" x=\"197.5\" y=\"-175\" font-family=\"Times,serif\" font-size=\"10.00\">1</text>\n</g>\n<!-- controls_G15 -->\n<g id=\"node11\" class=\"node\">\n<title>controls_G15</title>\n<text text-anchor=\"middle\" x=\"254\" y=\"-122.3\" font-family=\"Times,serif\" font-size=\"14.00\">controls[3]</text>\n</g>\n<!-- MultiControlPauli&#45;&gt;controls_G15 -->\n<g id=\"edge10\" class=\"edge\">\n<title>MultiControlPauli:e-&gt;controls_G15:w</title>\n<path fill=\"none\" stroke=\"black\" d=\"M179,-142C196.22,-142 197.97,-127.23 213.98,-126.07\"/>\n<ellipse fill=\"black\" stroke=\"black\" cx=\"215\" cy=\"-126.04\" rx=\"1\" ry=\"1\"/>\n<text text-anchor=\"middle\" x=\"197.5\" y=\"-137\" font-family=\"Times,serif\" font-size=\"10.00\">1</text>\n</g>\n<!-- controls_G1 -->\n<g id=\"node12\" class=\"node\">\n<title>controls_G1</title>\n<text text-anchor=\"middle\" x=\"254\" y=\"-68.3\" font-family=\"Times,serif\" font-size=\"14.00\">controls[4]</text>\n</g>\n<!-- MultiControlPauli&#45;&gt;controls_G1 -->\n<g id=\"edge11\" class=\"edge\">\n<title>MultiControlPauli:e-&gt;controls_G1:w</title>\n<path fill=\"none\" stroke=\"black\" d=\"M179,-121C205.54,-121 189.64,-74.64 213.86,-72.11\"/>\n<ellipse fill=\"black\" stroke=\"black\" cx=\"215\" cy=\"-72.05\" rx=\"1\" ry=\"1\"/>\n<text text-anchor=\"middle\" x=\"197.5\" y=\"-100\" font-family=\"Times,serif\" font-size=\"10.00\">1</text>\n</g>\n<!-- target_G2 -->\n<g id=\"node13\" class=\"node\">\n<title>target_G2</title>\n<text text-anchor=\"middle\" x=\"254\" y=\"-14.3\" font-family=\"Times,serif\" font-size=\"14.00\">target</text>\n</g>\n<!-- MultiControlPauli&#45;&gt;target_G2 -->\n<g id=\"edge12\" class=\"edge\">\n<title>MultiControlPauli:e-&gt;target_G2:w</title>\n<path fill=\"none\" stroke=\"black\" d=\"M179,-100C220.19,-100 185.41,-21.17 223.63,-18.09\"/>\n<ellipse fill=\"black\" stroke=\"black\" cx=\"225\" cy=\"-18.04\" rx=\"1\" ry=\"1\"/>\n<text text-anchor=\"middle\" x=\"197.5\" y=\"-91\" font-family=\"Times,serif\" font-size=\"10.00\">1</text>\n</g>\n</g>\n</svg>",
          "text/plain": "<IPython.core.display.SVG object>"
         },
         "metadata": {},
         "output_type": "display_data"
        }
       ],
       "tabbable": null,
       "tooltip": null
      }
     },
     "e49af6ab6276480abc28a45536d81f10": {
      "model_module": "@jupyter-widgets/base",
      "model_module_version": "2.0.0",
      "model_name": "LayoutModel",
      "state": {
       "_model_module": "@jupyter-widgets/base",
       "_model_module_version": "2.0.0",
       "_model_name": "LayoutModel",
       "_view_count": null,
       "_view_module": "@jupyter-widgets/base",
       "_view_module_version": "2.0.0",
       "_view_name": "LayoutView",
       "align_content": null,
       "align_items": null,
       "align_self": null,
       "border_bottom": null,
       "border_left": null,
       "border_right": null,
       "border_top": null,
       "bottom": null,
       "display": null,
       "flex": null,
       "flex_flow": null,
       "grid_area": null,
       "grid_auto_columns": null,
       "grid_auto_flow": null,
       "grid_auto_rows": null,
       "grid_column": null,
       "grid_gap": null,
       "grid_row": null,
       "grid_template_areas": null,
       "grid_template_columns": null,
       "grid_template_rows": null,
       "height": null,
       "justify_content": null,
       "justify_items": null,
       "left": null,
       "margin": null,
       "max_height": null,
       "max_width": null,
       "min_height": null,
       "min_width": null,
       "object_fit": null,
       "object_position": null,
       "order": null,
       "overflow": null,
       "padding": null,
       "right": null,
       "top": null,
       "visibility": null,
       "width": null
      }
     },
     "e986bca0000443469f9d430a51804e50": {
      "model_module": "@jupyter-widgets/base",
      "model_module_version": "2.0.0",
      "model_name": "LayoutModel",
      "state": {
       "_model_module": "@jupyter-widgets/base",
       "_model_module_version": "2.0.0",
       "_model_name": "LayoutModel",
       "_view_count": null,
       "_view_module": "@jupyter-widgets/base",
       "_view_module_version": "2.0.0",
       "_view_name": "LayoutView",
       "align_content": null,
       "align_items": null,
       "align_self": null,
       "border_bottom": null,
       "border_left": null,
       "border_right": null,
       "border_top": null,
       "bottom": null,
       "display": null,
       "flex": null,
       "flex_flow": null,
       "grid_area": null,
       "grid_auto_columns": null,
       "grid_auto_flow": null,
       "grid_auto_rows": null,
       "grid_column": null,
       "grid_gap": null,
       "grid_row": null,
       "grid_template_areas": null,
       "grid_template_columns": null,
       "grid_template_rows": null,
       "height": null,
       "justify_content": null,
       "justify_items": null,
       "left": null,
       "margin": null,
       "max_height": null,
       "max_width": null,
       "min_height": null,
       "min_width": null,
       "object_fit": null,
       "object_position": null,
       "order": null,
       "overflow": null,
       "padding": null,
       "right": null,
       "top": null,
       "visibility": null,
       "width": null
      }
     }
    },
    "version_major": 2,
    "version_minor": 0
   }
  }
 },
 "nbformat": 4,
 "nbformat_minor": 5
}
