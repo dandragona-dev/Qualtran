{
 "cells": [
  {
   "cell_type": "markdown",
   "id": "fa539e78",
   "metadata": {
    "cq.autogen": "title_cell"
   },
   "source": [
    "# Multi control bloq via single control bloq and `And` ladder"
   ]
  },
  {
   "cell_type": "code",
   "execution_count": 1,
   "id": "bcb7aec6",
   "metadata": {
    "cq.autogen": "top_imports"
   },
   "outputs": [],
   "source": [
    "from qualtran import Bloq, CompositeBloq, BloqBuilder, Signature, Register\n",
    "from qualtran import QBit, QInt, QUInt, QAny\n",
    "from qualtran.drawing import show_bloq, show_call_graph, show_counts_sigma\n",
    "from typing import *\n",
    "import numpy as np\n",
    "import sympy\n",
    "import cirq"
   ]
  },
  {
   "cell_type": "markdown",
   "id": "0653bdfc",
   "metadata": {
    "cq.autogen": "ControlledViaAnd.bloq_doc.md"
   },
   "source": [
    "## `ControlledViaAnd`\n",
    "Reduces a generic controlled bloq to a singly-controlled bloq using an And ladder.\n",
    "\n",
    "Implements a generic controlled version of the subbloq, by first reducing the\n",
    "arbitrary control to a single qubit, and then using a single-qubit-controlled\n",
    "variant of the subbloq.\n",
    "\n",
    "For signature, see :class:`Controlled`.\n",
    "\n",
    "#### Parameters\n",
    " - `subbloq`: The bloq we are controlling.\n",
    " - `ctrl_spec`: The specification for how to control the bloq.\n"
   ]
  },
  {
   "cell_type": "code",
   "execution_count": 2,
   "id": "cdeee9e0",
   "metadata": {
    "cq.autogen": "ControlledViaAnd.bloq_doc.py"
   },
   "outputs": [],
   "source": [
    "from qualtran.bloqs.mcmt import ControlledViaAnd"
   ]
  },
  {
   "cell_type": "markdown",
   "id": "63037b5b",
   "metadata": {
    "cq.autogen": "ControlledViaAnd.example_instances.md"
   },
   "source": [
    "### Example Instances"
   ]
  },
  {
   "cell_type": "code",
   "execution_count": 3,
   "id": "789e7f88",
   "metadata": {
    "cq.autogen": "ControlledViaAnd.controlled_via_and_ints"
   },
   "outputs": [],
   "source": [
    "from qualtran import CtrlSpec, QInt, QUInt\n",
    "from qualtran.bloqs.basic_gates import Hadamard\n",
    "\n",
    "controlled_via_and_ints = ControlledViaAnd(\n",
    "    Hadamard(),\n",
    "    CtrlSpec(\n",
    "        qdtypes=(QUInt(4), QInt(4)), cvs=(np.array([0, 1, 2, 3]), np.array([0, 1, -1, -2]))\n",
    "    ),\n",
    ")"
   ]
  },
  {
   "cell_type": "code",
   "execution_count": 4,
   "id": "7140523f",
   "metadata": {
    "cq.autogen": "ControlledViaAnd.controlled_via_and_qbits"
   },
   "outputs": [],
   "source": [
    "from qualtran.bloqs.basic_gates import Hadamard\n",
    "\n",
    "controlled_via_and_qbits = ControlledViaAnd(Hadamard(), CtrlSpec(cvs=(np.array([0, 1, 1, 0]),)))"
   ]
  },
  {
   "cell_type": "markdown",
   "id": "27d4d6e1",
   "metadata": {
    "cq.autogen": "ControlledViaAnd.graphical_signature.md"
   },
   "source": [
    "#### Graphical Signature"
   ]
  },
  {
   "cell_type": "code",
   "execution_count": 5,
   "id": "45a0473b",
   "metadata": {
    "cq.autogen": "ControlledViaAnd.graphical_signature.py"
   },
   "outputs": [
    {
     "data": {
      "application/vnd.jupyter.widget-view+json": {
       "model_id": "a45d8bac3593409092051fa6bfc8e5eb",
       "version_major": 2,
       "version_minor": 0
      },
      "text/plain": [
       "HBox(children=(Output(outputs=({'output_type': 'display_data', 'data': {'text/plain': '<IPython.core.display.M…"
      ]
     },
     "metadata": {},
     "output_type": "display_data"
    }
   ],
   "source": [
    "from qualtran.drawing import show_bloqs\n",
    "show_bloqs([controlled_via_and_ints, controlled_via_and_qbits],\n",
    "           ['`controlled_via_and_ints`', '`controlled_via_and_qbits`'])"
   ]
  },
  {
   "cell_type": "markdown",
   "id": "b0301e73",
   "metadata": {
    "cq.autogen": "ControlledViaAnd.call_graph.md"
   },
   "source": [
    "### Call Graph"
   ]
  },
  {
   "cell_type": "code",
   "execution_count": 6,
   "id": "9af47394",
   "metadata": {
    "cq.autogen": "ControlledViaAnd.call_graph.py"
   },
   "outputs": [
    {
     "data": {
      "image/svg+xml": [
       "<svg xmlns=\"http://www.w3.org/2000/svg\" xmlns:xlink=\"http://www.w3.org/1999/xlink\" width=\"413pt\" height=\"131pt\" viewBox=\"0.00 0.00 413.00 131.00\">\n",
       "<g id=\"graph0\" class=\"graph\" transform=\"scale(1 1) rotate(0) translate(4 127)\">\n",
       "<title>counts</title>\n",
       "<polygon fill=\"white\" stroke=\"transparent\" points=\"-4,4 -4,-127 409,-127 409,4 -4,4\"/>\n",
       "<!-- b0 -->\n",
       "<g id=\"node1\" class=\"node\">\n",
       "<title>b0</title>\n",
       "<polygon fill=\"none\" stroke=\"black\" points=\"310,-123 41,-123 41,-87 310,-87 310,-123\"/>\n",
       "<text text-anchor=\"start\" x=\"150\" y=\"-106.8\" font-family=\"Times,serif\" font-size=\"14.00\">C[32][H]</text>\n",
       "<text text-anchor=\"start\" x=\"49\" y=\"-96\" font-family=\"monospace\" font-size=\"10.00\">subbloq=Hadamard(), ctrl_spec=CtrlSpec ...</text>\n",
       "</g>\n",
       "<!-- b1 -->\n",
       "<g id=\"node2\" class=\"node\">\n",
       "<title>b1</title>\n",
       "<polygon fill=\"none\" stroke=\"black\" points=\"83,-36 0,-36 0,0 83,0 83,-36\"/>\n",
       "<text text-anchor=\"start\" x=\"8\" y=\"-14.3\" font-family=\"Times,serif\" font-size=\"14.00\">CHadamard</text>\n",
       "</g>\n",
       "<!-- b0&#45;&gt;b1 -->\n",
       "<g id=\"edge1\" class=\"edge\">\n",
       "<title>b0-&gt;b1</title>\n",
       "<path fill=\"none\" stroke=\"black\" d=\"M148.38,-86.8C127.86,-73.78 99.48,-55.78 77.13,-41.6\"/>\n",
       "<polygon fill=\"black\" stroke=\"black\" points=\"78.9,-38.58 68.58,-36.18 75.15,-44.49 78.9,-38.58\"/>\n",
       "<text text-anchor=\"middle\" x=\"121\" y=\"-57.8\" font-family=\"Times,serif\" font-size=\"14.00\">1</text>\n",
       "</g>\n",
       "<!-- b2 -->\n",
       "<g id=\"node3\" class=\"node\">\n",
       "<title>b2</title>\n",
       "<polygon fill=\"none\" stroke=\"black\" points=\"250,-36 101,-36 101,0 250,0 250,-36\"/>\n",
       "<text text-anchor=\"start\" x=\"140\" y=\"-19.8\" font-family=\"Times,serif\" font-size=\"14.00\">CtrlSpecAnd</text>\n",
       "<text text-anchor=\"start\" x=\"109\" y=\"-9\" font-family=\"monospace\" font-size=\"10.00\">ctrl_spec=CtrlSpec ...</text>\n",
       "</g>\n",
       "<!-- b0&#45;&gt;b2 -->\n",
       "<g id=\"edge2\" class=\"edge\">\n",
       "<title>b0-&gt;b2</title>\n",
       "<path fill=\"none\" stroke=\"black\" d=\"M175.5,-86.8C175.5,-75.16 175.5,-59.55 175.5,-46.24\"/>\n",
       "<polygon fill=\"black\" stroke=\"black\" points=\"179,-46.18 175.5,-36.18 172,-46.18 179,-46.18\"/>\n",
       "<text text-anchor=\"middle\" x=\"179\" y=\"-57.8\" font-family=\"Times,serif\" font-size=\"14.00\">1</text>\n",
       "</g>\n",
       "<!-- b3 -->\n",
       "<g id=\"node4\" class=\"node\">\n",
       "<title>b3</title>\n",
       "<polygon fill=\"none\" stroke=\"black\" points=\"405,-36 268,-36 268,0 405,0 405,-36\"/>\n",
       "<text text-anchor=\"start\" x=\"297.5\" y=\"-19.8\" font-family=\"Times,serif\" font-size=\"14.00\">CtrlSpecAnd†</text>\n",
       "<text text-anchor=\"start\" x=\"276\" y=\"-9\" font-family=\"monospace\" font-size=\"10.00\">subbloq=CtrlSpec ...</text>\n",
       "</g>\n",
       "<!-- b0&#45;&gt;b3 -->\n",
       "<g id=\"edge3\" class=\"edge\">\n",
       "<title>b0-&gt;b3</title>\n",
       "<path fill=\"none\" stroke=\"black\" d=\"M208.08,-86.8C233.26,-73.51 268.27,-55.02 295.38,-40.71\"/>\n",
       "<polygon fill=\"black\" stroke=\"black\" points=\"297.03,-43.79 304.24,-36.03 293.77,-37.6 297.03,-43.79\"/>\n",
       "<text text-anchor=\"middle\" x=\"270\" y=\"-57.8\" font-family=\"Times,serif\" font-size=\"14.00\">1</text>\n",
       "</g>\n",
       "</g>\n",
       "</svg>"
      ],
      "text/plain": [
       "<IPython.core.display.SVG object>"
      ]
     },
     "metadata": {},
     "output_type": "display_data"
    },
    {
     "data": {
      "text/markdown": [
       "#### Counts totals:\n",
       " - `Adjoint(subbloq=CtrlSpecAnd)`: 1\n",
       " - `CHadamard`: 1\n",
       " - `CtrlSpecAnd`: 1"
      ],
      "text/plain": [
       "<IPython.core.display.Markdown object>"
      ]
     },
     "metadata": {},
     "output_type": "display_data"
    }
   ],
   "source": [
    "from qualtran.resource_counting.generalizers import ignore_split_join\n",
    "controlled_via_and_ints_g, controlled_via_and_ints_sigma = controlled_via_and_ints.call_graph(max_depth=1, generalizer=ignore_split_join)\n",
    "show_call_graph(controlled_via_and_ints_g)\n",
    "show_counts_sigma(controlled_via_and_ints_sigma)"
   ]
  }
 ],
 "metadata": {
  "kernelspec": {
   "display_name": "Python 3",
   "language": "python",
   "name": "python3"
  },
  "language_info": {
   "codemirror_mode": {
    "name": "ipython",
    "version": 3
   },
   "file_extension": ".py",
   "mimetype": "text/x-python",
   "name": "python",
   "nbconvert_exporter": "python",
   "pygments_lexer": "ipython3",
   "version": "3.11.8"
  },
  "widgets": {
   "application/vnd.jupyter.widget-state+json": {
    "state": {
     "3a9a13068a694c17a0a3593916443ff0": {
      "model_module": "@jupyter-widgets/base",
      "model_module_version": "2.0.0",
      "model_name": "LayoutModel",
      "state": {
       "_model_module": "@jupyter-widgets/base",
       "_model_module_version": "2.0.0",
       "_model_name": "LayoutModel",
       "_view_count": null,
       "_view_module": "@jupyter-widgets/base",
       "_view_module_version": "2.0.0",
       "_view_name": "LayoutView",
       "align_content": null,
       "align_items": null,
       "align_self": null,
       "border_bottom": null,
       "border_left": null,
       "border_right": null,
       "border_top": null,
       "bottom": null,
       "display": null,
       "flex": null,
       "flex_flow": null,
       "grid_area": null,
       "grid_auto_columns": null,
       "grid_auto_flow": null,
       "grid_auto_rows": null,
       "grid_column": null,
       "grid_gap": null,
       "grid_row": null,
       "grid_template_areas": null,
       "grid_template_columns": null,
       "grid_template_rows": null,
       "height": null,
       "justify_content": null,
       "justify_items": null,
       "left": null,
       "margin": null,
       "max_height": null,
       "max_width": null,
       "min_height": null,
       "min_width": null,
       "object_fit": null,
       "object_position": null,
       "order": null,
       "overflow": null,
       "padding": null,
       "right": null,
       "top": null,
       "visibility": null,
       "width": null
      }
     },
     "4ba4eb74992a42d49e1a1e61b49307a4": {
      "model_module": "@jupyter-widgets/output",
      "model_module_version": "1.0.0",
      "model_name": "OutputModel",
      "state": {
       "_dom_classes": [],
       "_model_module": "@jupyter-widgets/output",
       "_model_module_version": "1.0.0",
       "_model_name": "OutputModel",
       "_view_count": null,
       "_view_module": "@jupyter-widgets/output",
       "_view_module_version": "1.0.0",
       "_view_name": "OutputView",
       "layout": "IPY_MODEL_3a9a13068a694c17a0a3593916443ff0",
       "msg_id": "",
       "outputs": [
        {
         "data": {
          "text/markdown": "`controlled_via_and_qbits`",
          "text/plain": "<IPython.core.display.Markdown object>"
         },
         "metadata": {},
         "output_type": "display_data"
        },
        {
         "data": {
          "image/svg+xml": "<svg xmlns=\"http://www.w3.org/2000/svg\" xmlns:xlink=\"http://www.w3.org/1999/xlink\" width=\"230pt\" height=\"260pt\" viewBox=\"0.00 0.00 230.00 260.00\">\n<g id=\"graph0\" class=\"graph\" transform=\"scale(1 1) rotate(0) translate(4 256)\">\n<title>my_graph</title>\n<polygon fill=\"white\" stroke=\"transparent\" points=\"-4,4 -4,-256 226,-256 226,4 -4,4\"/>\n<!-- ctrl_G14 -->\n<g id=\"node1\" class=\"node\">\n<title>ctrl_G14</title>\n<text text-anchor=\"middle\" x=\"27\" y=\"-230.3\" font-family=\"Times,serif\" font-size=\"14.00\">ctrl[0]</text>\n</g>\n<!-- ControlledViaAnd -->\n<g id=\"node6\" class=\"node\">\n<title>ControlledViaAnd</title>\n<polygon fill=\"none\" stroke=\"black\" points=\"91,-179 91,-196 131,-196 131,-179 91,-179\"/>\n<text text-anchor=\"start\" x=\"95\" y=\"-185\" font-family=\"Times,serif\" font-size=\"10.00\">C[4][H]</text>\n<polygon fill=\"none\" stroke=\"black\" points=\"91,-158 91,-179 131,-179 131,-158 91,-158\"/>\n<text text-anchor=\"start\" x=\"94\" y=\"-164.8\" font-family=\"Times,serif\" font-size=\"14.00\">ctrl[0]</text>\n<polygon fill=\"none\" stroke=\"black\" points=\"91,-137 91,-158 131,-158 131,-137 91,-137\"/>\n<text text-anchor=\"start\" x=\"94\" y=\"-143.8\" font-family=\"Times,serif\" font-size=\"14.00\">ctrl[1]</text>\n<polygon fill=\"none\" stroke=\"black\" points=\"91,-116 91,-137 131,-137 131,-116 91,-116\"/>\n<text text-anchor=\"start\" x=\"94\" y=\"-122.8\" font-family=\"Times,serif\" font-size=\"14.00\">ctrl[2]</text>\n<polygon fill=\"none\" stroke=\"black\" points=\"91,-95 91,-116 131,-116 131,-95 91,-95\"/>\n<text text-anchor=\"start\" x=\"94\" y=\"-101.8\" font-family=\"Times,serif\" font-size=\"14.00\">ctrl[3]</text>\n<polygon fill=\"none\" stroke=\"black\" points=\"91,-74 91,-95 131,-95 131,-74 91,-74\"/>\n<text text-anchor=\"start\" x=\"107.5\" y=\"-80.8\" font-family=\"Times,serif\" font-size=\"14.00\">q</text>\n</g>\n<!-- ctrl_G14&#45;&gt;ControlledViaAnd -->\n<g id=\"edge1\" class=\"edge\">\n<title>ctrl_G14:e-&gt;ControlledViaAnd:w</title>\n<path fill=\"none\" stroke=\"black\" d=\"M54,-234C86.46,-234 59.11,-172.01 88.76,-169.11\"/>\n<ellipse fill=\"black\" stroke=\"black\" cx=\"90\" cy=\"-169.05\" rx=\"1\" ry=\"1\"/>\n<text text-anchor=\"middle\" x=\"72.5\" y=\"-210\" font-family=\"Times,serif\" font-size=\"10.00\">1</text>\n</g>\n<!-- ctrl_G12 -->\n<g id=\"node2\" class=\"node\">\n<title>ctrl_G12</title>\n<text text-anchor=\"middle\" x=\"27\" y=\"-176.3\" font-family=\"Times,serif\" font-size=\"14.00\">ctrl[1]</text>\n</g>\n<!-- ctrl_G12&#45;&gt;ControlledViaAnd -->\n<g id=\"edge2\" class=\"edge\">\n<title>ctrl_G12:e-&gt;ControlledViaAnd:w</title>\n<path fill=\"none\" stroke=\"black\" d=\"M54,-180C74.89,-180 69.72,-150.45 88.58,-148.14\"/>\n<ellipse fill=\"black\" stroke=\"black\" cx=\"90\" cy=\"-148.06\" rx=\"1\" ry=\"1\"/>\n<text text-anchor=\"middle\" x=\"72.5\" y=\"-167\" font-family=\"Times,serif\" font-size=\"10.00\">1</text>\n</g>\n<!-- ctrl_G2 -->\n<g id=\"node3\" class=\"node\">\n<title>ctrl_G2</title>\n<text text-anchor=\"middle\" x=\"27\" y=\"-122.3\" font-family=\"Times,serif\" font-size=\"14.00\">ctrl[2]</text>\n</g>\n<!-- ctrl_G2&#45;&gt;ControlledViaAnd -->\n<g id=\"edge3\" class=\"edge\">\n<title>ctrl_G2:e-&gt;ControlledViaAnd:w</title>\n<path fill=\"none\" stroke=\"black\" d=\"M54,-126C69.67,-126 74.14,-126 88.77,-126\"/>\n<ellipse fill=\"black\" stroke=\"black\" cx=\"90\" cy=\"-126\" rx=\"1\" ry=\"1\"/>\n<text text-anchor=\"middle\" x=\"72.5\" y=\"-129\" font-family=\"Times,serif\" font-size=\"10.00\">1</text>\n</g>\n<!-- ctrl_G13 -->\n<g id=\"node4\" class=\"node\">\n<title>ctrl_G13</title>\n<text text-anchor=\"middle\" x=\"27\" y=\"-68.3\" font-family=\"Times,serif\" font-size=\"14.00\">ctrl[3]</text>\n</g>\n<!-- ctrl_G13&#45;&gt;ControlledViaAnd -->\n<g id=\"edge4\" class=\"edge\">\n<title>ctrl_G13:e-&gt;ControlledViaAnd:w</title>\n<path fill=\"none\" stroke=\"black\" d=\"M54,-72C75.17,-72 69.47,-102.47 88.55,-104.85\"/>\n<ellipse fill=\"black\" stroke=\"black\" cx=\"90\" cy=\"-104.94\" rx=\"1\" ry=\"1\"/>\n<text text-anchor=\"middle\" x=\"72.5\" y=\"-92\" font-family=\"Times,serif\" font-size=\"10.00\">1</text>\n</g>\n<!-- q_G10 -->\n<g id=\"node5\" class=\"node\">\n<title>q_G10</title>\n<text text-anchor=\"middle\" x=\"27\" y=\"-14.3\" font-family=\"Times,serif\" font-size=\"14.00\">q</text>\n</g>\n<!-- q_G10&#45;&gt;ControlledViaAnd -->\n<g id=\"edge5\" class=\"edge\">\n<title>q_G10:e-&gt;ControlledViaAnd:w</title>\n<path fill=\"none\" stroke=\"black\" d=\"M54,-18C86.84,-18 58.75,-80.94 88.74,-83.89\"/>\n<ellipse fill=\"black\" stroke=\"black\" cx=\"90\" cy=\"-83.95\" rx=\"1\" ry=\"1\"/>\n<text text-anchor=\"middle\" x=\"72.5\" y=\"-62\" font-family=\"Times,serif\" font-size=\"10.00\">1</text>\n</g>\n<!-- ctrl_G11 -->\n<g id=\"node7\" class=\"node\">\n<title>ctrl_G11</title>\n<text text-anchor=\"middle\" x=\"195\" y=\"-230.3\" font-family=\"Times,serif\" font-size=\"14.00\">ctrl[0]</text>\n</g>\n<!-- ControlledViaAnd&#45;&gt;ctrl_G11 -->\n<g id=\"edge6\" class=\"edge\">\n<title>ControlledViaAnd:e-&gt;ctrl_G11:w</title>\n<path fill=\"none\" stroke=\"black\" d=\"M131,-169C163.46,-169 136.11,-230.99 165.76,-233.89\"/>\n<ellipse fill=\"black\" stroke=\"black\" cx=\"167\" cy=\"-233.95\" rx=\"1\" ry=\"1\"/>\n<text text-anchor=\"middle\" x=\"149.5\" y=\"-210\" font-family=\"Times,serif\" font-size=\"10.00\">1</text>\n</g>\n<!-- ctrl_G7 -->\n<g id=\"node8\" class=\"node\">\n<title>ctrl_G7</title>\n<text text-anchor=\"middle\" x=\"195\" y=\"-176.3\" font-family=\"Times,serif\" font-size=\"14.00\">ctrl[1]</text>\n</g>\n<!-- ControlledViaAnd&#45;&gt;ctrl_G7 -->\n<g id=\"edge7\" class=\"edge\">\n<title>ControlledViaAnd:e-&gt;ctrl_G7:w</title>\n<path fill=\"none\" stroke=\"black\" d=\"M131,-148C151.89,-148 146.72,-177.55 165.58,-179.86\"/>\n<ellipse fill=\"black\" stroke=\"black\" cx=\"167\" cy=\"-179.94\" rx=\"1\" ry=\"1\"/>\n<text text-anchor=\"middle\" x=\"149.5\" y=\"-167\" font-family=\"Times,serif\" font-size=\"10.00\">1</text>\n</g>\n<!-- ctrl_G0 -->\n<g id=\"node9\" class=\"node\">\n<title>ctrl_G0</title>\n<text text-anchor=\"middle\" x=\"195\" y=\"-122.3\" font-family=\"Times,serif\" font-size=\"14.00\">ctrl[2]</text>\n</g>\n<!-- ControlledViaAnd&#45;&gt;ctrl_G0 -->\n<g id=\"edge8\" class=\"edge\">\n<title>ControlledViaAnd:e-&gt;ctrl_G0:w</title>\n<path fill=\"none\" stroke=\"black\" d=\"M131,-126C146.67,-126 151.14,-126 165.77,-126\"/>\n<ellipse fill=\"black\" stroke=\"black\" cx=\"167\" cy=\"-126\" rx=\"1\" ry=\"1\"/>\n<text text-anchor=\"middle\" x=\"149.5\" y=\"-129\" font-family=\"Times,serif\" font-size=\"10.00\">1</text>\n</g>\n<!-- ctrl_G6 -->\n<g id=\"node10\" class=\"node\">\n<title>ctrl_G6</title>\n<text text-anchor=\"middle\" x=\"195\" y=\"-68.3\" font-family=\"Times,serif\" font-size=\"14.00\">ctrl[3]</text>\n</g>\n<!-- ControlledViaAnd&#45;&gt;ctrl_G6 -->\n<g id=\"edge9\" class=\"edge\">\n<title>ControlledViaAnd:e-&gt;ctrl_G6:w</title>\n<path fill=\"none\" stroke=\"black\" d=\"M131,-105C152.17,-105 146.47,-74.53 165.55,-72.15\"/>\n<ellipse fill=\"black\" stroke=\"black\" cx=\"167\" cy=\"-72.06\" rx=\"1\" ry=\"1\"/>\n<text text-anchor=\"middle\" x=\"149.5\" y=\"-92\" font-family=\"Times,serif\" font-size=\"10.00\">1</text>\n</g>\n<!-- q_G3 -->\n<g id=\"node11\" class=\"node\">\n<title>q_G3</title>\n<text text-anchor=\"middle\" x=\"195\" y=\"-14.3\" font-family=\"Times,serif\" font-size=\"14.00\">q</text>\n</g>\n<!-- ControlledViaAnd&#45;&gt;q_G3 -->\n<g id=\"edge10\" class=\"edge\">\n<title>ControlledViaAnd:e-&gt;q_G3:w</title>\n<path fill=\"none\" stroke=\"black\" d=\"M131,-84C163.84,-84 135.75,-21.06 165.74,-18.11\"/>\n<ellipse fill=\"black\" stroke=\"black\" cx=\"167\" cy=\"-18.05\" rx=\"1\" ry=\"1\"/>\n<text text-anchor=\"middle\" x=\"149.5\" y=\"-62\" font-family=\"Times,serif\" font-size=\"10.00\">1</text>\n</g>\n</g>\n</svg>",
          "text/plain": "<IPython.core.display.SVG object>"
         },
         "metadata": {},
         "output_type": "display_data"
        }
       ],
       "tabbable": null,
       "tooltip": null
      }
     },
     "5950eadab2984509bd33bba70abe1365": {
      "model_module": "@jupyter-widgets/output",
      "model_module_version": "1.0.0",
      "model_name": "OutputModel",
      "state": {
       "_dom_classes": [],
       "_model_module": "@jupyter-widgets/output",
       "_model_module_version": "1.0.0",
       "_model_name": "OutputModel",
       "_view_count": null,
       "_view_module": "@jupyter-widgets/output",
       "_view_module_version": "1.0.0",
       "_view_name": "OutputView",
       "layout": "IPY_MODEL_72da8961377b4d18a1807705a6547d42",
       "msg_id": "",
       "outputs": [
        {
         "data": {
          "text/markdown": "`controlled_via_and_ints`",
          "text/plain": "<IPython.core.display.Markdown object>"
         },
         "metadata": {},
         "output_type": "display_data"
        },
        {
         "data": {
          "image/svg+xml": "<svg xmlns=\"http://www.w3.org/2000/svg\" xmlns:xlink=\"http://www.w3.org/1999/xlink\" width=\"243pt\" height=\"476pt\" viewBox=\"0.00 0.00 243.00 476.00\">\n<g id=\"graph0\" class=\"graph\" transform=\"scale(1 1) rotate(0) translate(4 472)\">\n<title>my_graph</title>\n<polygon fill=\"white\" stroke=\"transparent\" points=\"-4,4 -4,-472 239,-472 239,4 -4,4\"/>\n<!-- ctrl1_G1 -->\n<g id=\"node1\" class=\"node\">\n<title>ctrl1_G1</title>\n<text text-anchor=\"middle\" x=\"28.5\" y=\"-446.3\" font-family=\"Times,serif\" font-size=\"14.00\">ctrl1[0]</text>\n</g>\n<!-- ControlledViaAnd -->\n<g id=\"node10\" class=\"node\">\n<title>ControlledViaAnd</title>\n<polygon fill=\"none\" stroke=\"black\" points=\"94.5,-329 94.5,-346 141.5,-346 141.5,-329 94.5,-329\"/>\n<text text-anchor=\"start\" x=\"99.5\" y=\"-335\" font-family=\"Times,serif\" font-size=\"10.00\">C[32][H]</text>\n<polygon fill=\"none\" stroke=\"black\" points=\"94.5,-308 94.5,-329 141.5,-329 141.5,-308 94.5,-308\"/>\n<text text-anchor=\"start\" x=\"97.5\" y=\"-314.8\" font-family=\"Times,serif\" font-size=\"14.00\">ctrl1[0]</text>\n<polygon fill=\"none\" stroke=\"black\" points=\"94.5,-287 94.5,-308 141.5,-308 141.5,-287 94.5,-287\"/>\n<text text-anchor=\"start\" x=\"97.5\" y=\"-293.8\" font-family=\"Times,serif\" font-size=\"14.00\">ctrl1[1]</text>\n<polygon fill=\"none\" stroke=\"black\" points=\"94.5,-266 94.5,-287 141.5,-287 141.5,-266 94.5,-266\"/>\n<text text-anchor=\"start\" x=\"97.5\" y=\"-272.8\" font-family=\"Times,serif\" font-size=\"14.00\">ctrl1[2]</text>\n<polygon fill=\"none\" stroke=\"black\" points=\"94.5,-245 94.5,-266 141.5,-266 141.5,-245 94.5,-245\"/>\n<text text-anchor=\"start\" x=\"97.5\" y=\"-251.8\" font-family=\"Times,serif\" font-size=\"14.00\">ctrl1[3]</text>\n<polygon fill=\"none\" stroke=\"black\" points=\"94.5,-224 94.5,-245 141.5,-245 141.5,-224 94.5,-224\"/>\n<text text-anchor=\"start\" x=\"97.5\" y=\"-230.8\" font-family=\"Times,serif\" font-size=\"14.00\">ctrl2[0]</text>\n<polygon fill=\"none\" stroke=\"black\" points=\"94.5,-203 94.5,-224 141.5,-224 141.5,-203 94.5,-203\"/>\n<text text-anchor=\"start\" x=\"97.5\" y=\"-209.8\" font-family=\"Times,serif\" font-size=\"14.00\">ctrl2[1]</text>\n<polygon fill=\"none\" stroke=\"black\" points=\"94.5,-182 94.5,-203 141.5,-203 141.5,-182 94.5,-182\"/>\n<text text-anchor=\"start\" x=\"97.5\" y=\"-188.8\" font-family=\"Times,serif\" font-size=\"14.00\">ctrl2[2]</text>\n<polygon fill=\"none\" stroke=\"black\" points=\"94.5,-161 94.5,-182 141.5,-182 141.5,-161 94.5,-161\"/>\n<text text-anchor=\"start\" x=\"97.5\" y=\"-167.8\" font-family=\"Times,serif\" font-size=\"14.00\">ctrl2[3]</text>\n<polygon fill=\"none\" stroke=\"black\" points=\"94.5,-140 94.5,-161 141.5,-161 141.5,-140 94.5,-140\"/>\n<text text-anchor=\"start\" x=\"114.5\" y=\"-146.8\" font-family=\"Times,serif\" font-size=\"14.00\">q</text>\n</g>\n<!-- ctrl1_G1&#45;&gt;ControlledViaAnd -->\n<g id=\"edge1\" class=\"edge\">\n<title>ctrl1_G1:e-&gt;ControlledViaAnd:w</title>\n<path fill=\"none\" stroke=\"black\" d=\"M57,-450C86.54,-450 64.82,-325.07 91.96,-319.21\"/>\n<ellipse fill=\"black\" stroke=\"black\" cx=\"93.01\" cy=\"-319.1\" rx=\"1\" ry=\"1\"/>\n<text text-anchor=\"middle\" x=\"75.5\" y=\"-395\" font-family=\"Times,serif\" font-size=\"10.00\">4</text>\n</g>\n<!-- ctrl1_G25 -->\n<g id=\"node2\" class=\"node\">\n<title>ctrl1_G25</title>\n<text text-anchor=\"middle\" x=\"28.5\" y=\"-392.3\" font-family=\"Times,serif\" font-size=\"14.00\">ctrl1[1]</text>\n</g>\n<!-- ctrl1_G25&#45;&gt;ControlledViaAnd -->\n<g id=\"edge2\" class=\"edge\">\n<title>ctrl1_G25:e-&gt;ControlledViaAnd:w</title>\n<path fill=\"none\" stroke=\"black\" d=\"M57,-396C79.55,-396 71.29,-304.03 91.91,-298.28\"/>\n<ellipse fill=\"black\" stroke=\"black\" cx=\"93.01\" cy=\"-298.13\" rx=\"1\" ry=\"1\"/>\n<text text-anchor=\"middle\" x=\"75.5\" y=\"-352\" font-family=\"Times,serif\" font-size=\"10.00\">4</text>\n</g>\n<!-- ctrl1_G9 -->\n<g id=\"node3\" class=\"node\">\n<title>ctrl1_G9</title>\n<text text-anchor=\"middle\" x=\"28.5\" y=\"-338.3\" font-family=\"Times,serif\" font-size=\"14.00\">ctrl1[2]</text>\n</g>\n<!-- ctrl1_G9&#45;&gt;ControlledViaAnd -->\n<g id=\"edge3\" class=\"edge\">\n<title>ctrl1_G9:e-&gt;ControlledViaAnd:w</title>\n<path fill=\"none\" stroke=\"black\" d=\"M57,-342C89.46,-342 62.11,-280.01 91.76,-277.11\"/>\n<ellipse fill=\"black\" stroke=\"black\" cx=\"93\" cy=\"-277.05\" rx=\"1\" ry=\"1\"/>\n<text text-anchor=\"middle\" x=\"75.5\" y=\"-318\" font-family=\"Times,serif\" font-size=\"10.00\">4</text>\n</g>\n<!-- ctrl1_G13 -->\n<g id=\"node4\" class=\"node\">\n<title>ctrl1_G13</title>\n<text text-anchor=\"middle\" x=\"28.5\" y=\"-284.3\" font-family=\"Times,serif\" font-size=\"14.00\">ctrl1[3]</text>\n</g>\n<!-- ctrl1_G13&#45;&gt;ControlledViaAnd -->\n<g id=\"edge4\" class=\"edge\">\n<title>ctrl1_G13:e-&gt;ControlledViaAnd:w</title>\n<path fill=\"none\" stroke=\"black\" d=\"M57,-288C77.89,-288 72.72,-258.45 91.58,-256.14\"/>\n<ellipse fill=\"black\" stroke=\"black\" cx=\"93\" cy=\"-256.06\" rx=\"1\" ry=\"1\"/>\n<text text-anchor=\"middle\" x=\"75.5\" y=\"-275\" font-family=\"Times,serif\" font-size=\"10.00\">4</text>\n</g>\n<!-- ctrl2_G6 -->\n<g id=\"node5\" class=\"node\">\n<title>ctrl2_G6</title>\n<text text-anchor=\"middle\" x=\"28.5\" y=\"-230.3\" font-family=\"Times,serif\" font-size=\"14.00\">ctrl2[0]</text>\n</g>\n<!-- ctrl2_G6&#45;&gt;ControlledViaAnd -->\n<g id=\"edge5\" class=\"edge\">\n<title>ctrl2_G6:e-&gt;ControlledViaAnd:w</title>\n<path fill=\"none\" stroke=\"black\" d=\"M57,-234C72.67,-234 77.14,-234 91.77,-234\"/>\n<ellipse fill=\"black\" stroke=\"black\" cx=\"93\" cy=\"-234\" rx=\"1\" ry=\"1\"/>\n<text text-anchor=\"middle\" x=\"75.5\" y=\"-237\" font-family=\"Times,serif\" font-size=\"10.00\">4</text>\n</g>\n<!-- ctrl2_G24 -->\n<g id=\"node6\" class=\"node\">\n<title>ctrl2_G24</title>\n<text text-anchor=\"middle\" x=\"28.5\" y=\"-176.3\" font-family=\"Times,serif\" font-size=\"14.00\">ctrl2[1]</text>\n</g>\n<!-- ctrl2_G24&#45;&gt;ControlledViaAnd -->\n<g id=\"edge6\" class=\"edge\">\n<title>ctrl2_G24:e-&gt;ControlledViaAnd:w</title>\n<path fill=\"none\" stroke=\"black\" d=\"M57,-180C78.17,-180 72.47,-210.47 91.55,-212.85\"/>\n<ellipse fill=\"black\" stroke=\"black\" cx=\"93\" cy=\"-212.94\" rx=\"1\" ry=\"1\"/>\n<text text-anchor=\"middle\" x=\"75.5\" y=\"-200\" font-family=\"Times,serif\" font-size=\"10.00\">4</text>\n</g>\n<!-- ctrl2_G5 -->\n<g id=\"node7\" class=\"node\">\n<title>ctrl2_G5</title>\n<text text-anchor=\"middle\" x=\"28.5\" y=\"-122.3\" font-family=\"Times,serif\" font-size=\"14.00\">ctrl2[2]</text>\n</g>\n<!-- ctrl2_G5&#45;&gt;ControlledViaAnd -->\n<g id=\"edge7\" class=\"edge\">\n<title>ctrl2_G5:e-&gt;ControlledViaAnd:w</title>\n<path fill=\"none\" stroke=\"black\" d=\"M57,-126C89.84,-126 61.75,-188.94 91.74,-191.89\"/>\n<ellipse fill=\"black\" stroke=\"black\" cx=\"93\" cy=\"-191.95\" rx=\"1\" ry=\"1\"/>\n<text text-anchor=\"middle\" x=\"75.5\" y=\"-169\" font-family=\"Times,serif\" font-size=\"10.00\">4</text>\n</g>\n<!-- ctrl2_G15 -->\n<g id=\"node8\" class=\"node\">\n<title>ctrl2_G15</title>\n<text text-anchor=\"middle\" x=\"28.5\" y=\"-68.3\" font-family=\"Times,serif\" font-size=\"14.00\">ctrl2[3]</text>\n</g>\n<!-- ctrl2_G15&#45;&gt;ControlledViaAnd -->\n<g id=\"edge8\" class=\"edge\">\n<title>ctrl2_G15:e-&gt;ControlledViaAnd:w</title>\n<path fill=\"none\" stroke=\"black\" d=\"M57,-72C79.75,-72 71.1,-164.91 91.89,-170.72\"/>\n<ellipse fill=\"black\" stroke=\"black\" cx=\"93.01\" cy=\"-170.87\" rx=\"1\" ry=\"1\"/>\n<text text-anchor=\"middle\" x=\"75.5\" y=\"-127\" font-family=\"Times,serif\" font-size=\"10.00\">4</text>\n</g>\n<!-- q_G11 -->\n<g id=\"node9\" class=\"node\">\n<title>q_G11</title>\n<text text-anchor=\"middle\" x=\"28.5\" y=\"-14.3\" font-family=\"Times,serif\" font-size=\"14.00\">q</text>\n</g>\n<!-- q_G11&#45;&gt;ControlledViaAnd -->\n<g id=\"edge9\" class=\"edge\">\n<title>q_G11:e-&gt;ControlledViaAnd:w</title>\n<path fill=\"none\" stroke=\"black\" d=\"M56.5,-18C86.28,-18 64.58,-143.89 91.94,-149.79\"/>\n<ellipse fill=\"black\" stroke=\"black\" cx=\"93.01\" cy=\"-149.9\" rx=\"1\" ry=\"1\"/>\n<text text-anchor=\"middle\" x=\"75.5\" y=\"-99\" font-family=\"Times,serif\" font-size=\"10.00\">1</text>\n</g>\n<!-- ctrl1_G21 -->\n<g id=\"node11\" class=\"node\">\n<title>ctrl1_G21</title>\n<text text-anchor=\"middle\" x=\"206.5\" y=\"-446.3\" font-family=\"Times,serif\" font-size=\"14.00\">ctrl1[0]</text>\n</g>\n<!-- ControlledViaAnd&#45;&gt;ctrl1_G21 -->\n<g id=\"edge10\" class=\"edge\">\n<title>ControlledViaAnd:e-&gt;ctrl1_G21:w</title>\n<path fill=\"none\" stroke=\"black\" d=\"M141,-319C170.54,-319 148.82,-443.93 175.96,-449.79\"/>\n<ellipse fill=\"black\" stroke=\"black\" cx=\"177.01\" cy=\"-449.9\" rx=\"1\" ry=\"1\"/>\n<text text-anchor=\"middle\" x=\"159.5\" y=\"-395\" font-family=\"Times,serif\" font-size=\"10.00\">4</text>\n</g>\n<!-- ctrl1_G14 -->\n<g id=\"node12\" class=\"node\">\n<title>ctrl1_G14</title>\n<text text-anchor=\"middle\" x=\"206.5\" y=\"-392.3\" font-family=\"Times,serif\" font-size=\"14.00\">ctrl1[1]</text>\n</g>\n<!-- ControlledViaAnd&#45;&gt;ctrl1_G14 -->\n<g id=\"edge11\" class=\"edge\">\n<title>ControlledViaAnd:e-&gt;ctrl1_G14:w</title>\n<path fill=\"none\" stroke=\"black\" d=\"M141,-298C163.55,-298 155.29,-389.97 175.91,-395.72\"/>\n<ellipse fill=\"black\" stroke=\"black\" cx=\"177.01\" cy=\"-395.87\" rx=\"1\" ry=\"1\"/>\n<text text-anchor=\"middle\" x=\"159.5\" y=\"-352\" font-family=\"Times,serif\" font-size=\"10.00\">4</text>\n</g>\n<!-- ctrl1_G22 -->\n<g id=\"node13\" class=\"node\">\n<title>ctrl1_G22</title>\n<text text-anchor=\"middle\" x=\"206.5\" y=\"-338.3\" font-family=\"Times,serif\" font-size=\"14.00\">ctrl1[2]</text>\n</g>\n<!-- ControlledViaAnd&#45;&gt;ctrl1_G22 -->\n<g id=\"edge12\" class=\"edge\">\n<title>ControlledViaAnd:e-&gt;ctrl1_G22:w</title>\n<path fill=\"none\" stroke=\"black\" d=\"M141,-277C173.46,-277 146.11,-338.99 175.76,-341.89\"/>\n<ellipse fill=\"black\" stroke=\"black\" cx=\"177\" cy=\"-341.95\" rx=\"1\" ry=\"1\"/>\n<text text-anchor=\"middle\" x=\"159.5\" y=\"-318\" font-family=\"Times,serif\" font-size=\"10.00\">4</text>\n</g>\n<!-- ctrl1_G0 -->\n<g id=\"node14\" class=\"node\">\n<title>ctrl1_G0</title>\n<text text-anchor=\"middle\" x=\"206.5\" y=\"-284.3\" font-family=\"Times,serif\" font-size=\"14.00\">ctrl1[3]</text>\n</g>\n<!-- ControlledViaAnd&#45;&gt;ctrl1_G0 -->\n<g id=\"edge13\" class=\"edge\">\n<title>ControlledViaAnd:e-&gt;ctrl1_G0:w</title>\n<path fill=\"none\" stroke=\"black\" d=\"M141,-256C161.89,-256 156.72,-285.55 175.58,-287.86\"/>\n<ellipse fill=\"black\" stroke=\"black\" cx=\"177\" cy=\"-287.94\" rx=\"1\" ry=\"1\"/>\n<text text-anchor=\"middle\" x=\"159.5\" y=\"-275\" font-family=\"Times,serif\" font-size=\"10.00\">4</text>\n</g>\n<!-- ctrl2_G20 -->\n<g id=\"node15\" class=\"node\">\n<title>ctrl2_G20</title>\n<text text-anchor=\"middle\" x=\"206.5\" y=\"-230.3\" font-family=\"Times,serif\" font-size=\"14.00\">ctrl2[0]</text>\n</g>\n<!-- ControlledViaAnd&#45;&gt;ctrl2_G20 -->\n<g id=\"edge14\" class=\"edge\">\n<title>ControlledViaAnd:e-&gt;ctrl2_G20:w</title>\n<path fill=\"none\" stroke=\"black\" d=\"M141,-234C156.67,-234 161.14,-234 175.77,-234\"/>\n<ellipse fill=\"black\" stroke=\"black\" cx=\"177\" cy=\"-234\" rx=\"1\" ry=\"1\"/>\n<text text-anchor=\"middle\" x=\"159.5\" y=\"-237\" font-family=\"Times,serif\" font-size=\"10.00\">4</text>\n</g>\n<!-- ctrl2_G19 -->\n<g id=\"node16\" class=\"node\">\n<title>ctrl2_G19</title>\n<text text-anchor=\"middle\" x=\"206.5\" y=\"-176.3\" font-family=\"Times,serif\" font-size=\"14.00\">ctrl2[1]</text>\n</g>\n<!-- ControlledViaAnd&#45;&gt;ctrl2_G19 -->\n<g id=\"edge15\" class=\"edge\">\n<title>ControlledViaAnd:e-&gt;ctrl2_G19:w</title>\n<path fill=\"none\" stroke=\"black\" d=\"M141,-213C162.17,-213 156.47,-182.53 175.55,-180.15\"/>\n<ellipse fill=\"black\" stroke=\"black\" cx=\"177\" cy=\"-180.06\" rx=\"1\" ry=\"1\"/>\n<text text-anchor=\"middle\" x=\"159.5\" y=\"-200\" font-family=\"Times,serif\" font-size=\"10.00\">4</text>\n</g>\n<!-- ctrl2_G23 -->\n<g id=\"node17\" class=\"node\">\n<title>ctrl2_G23</title>\n<text text-anchor=\"middle\" x=\"206.5\" y=\"-122.3\" font-family=\"Times,serif\" font-size=\"14.00\">ctrl2[2]</text>\n</g>\n<!-- ControlledViaAnd&#45;&gt;ctrl2_G23 -->\n<g id=\"edge16\" class=\"edge\">\n<title>ControlledViaAnd:e-&gt;ctrl2_G23:w</title>\n<path fill=\"none\" stroke=\"black\" d=\"M141,-192C173.84,-192 145.75,-129.06 175.74,-126.11\"/>\n<ellipse fill=\"black\" stroke=\"black\" cx=\"177\" cy=\"-126.05\" rx=\"1\" ry=\"1\"/>\n<text text-anchor=\"middle\" x=\"159.5\" y=\"-169\" font-family=\"Times,serif\" font-size=\"10.00\">4</text>\n</g>\n<!-- ctrl2_G26 -->\n<g id=\"node18\" class=\"node\">\n<title>ctrl2_G26</title>\n<text text-anchor=\"middle\" x=\"206.5\" y=\"-68.3\" font-family=\"Times,serif\" font-size=\"14.00\">ctrl2[3]</text>\n</g>\n<!-- ControlledViaAnd&#45;&gt;ctrl2_G26 -->\n<g id=\"edge17\" class=\"edge\">\n<title>ControlledViaAnd:e-&gt;ctrl2_G26:w</title>\n<path fill=\"none\" stroke=\"black\" d=\"M141,-171C163.75,-171 155.1,-78.09 175.89,-72.28\"/>\n<ellipse fill=\"black\" stroke=\"black\" cx=\"177.01\" cy=\"-72.13\" rx=\"1\" ry=\"1\"/>\n<text text-anchor=\"middle\" x=\"159.5\" y=\"-127\" font-family=\"Times,serif\" font-size=\"10.00\">4</text>\n</g>\n<!-- q_G4 -->\n<g id=\"node19\" class=\"node\">\n<title>q_G4</title>\n<text text-anchor=\"middle\" x=\"206.5\" y=\"-14.3\" font-family=\"Times,serif\" font-size=\"14.00\">q</text>\n</g>\n<!-- ControlledViaAnd&#45;&gt;q_G4 -->\n<g id=\"edge18\" class=\"edge\">\n<title>ControlledViaAnd:e-&gt;q_G4:w</title>\n<path fill=\"none\" stroke=\"black\" d=\"M141,-150C170.78,-150 149.08,-24.11 176.44,-18.21\"/>\n<ellipse fill=\"black\" stroke=\"black\" cx=\"177.51\" cy=\"-18.1\" rx=\"1\" ry=\"1\"/>\n<text text-anchor=\"middle\" x=\"159.5\" y=\"-99\" font-family=\"Times,serif\" font-size=\"10.00\">1</text>\n</g>\n</g>\n</svg>",
          "text/plain": "<IPython.core.display.SVG object>"
         },
         "metadata": {},
         "output_type": "display_data"
        }
       ],
       "tabbable": null,
       "tooltip": null
      }
     },
     "72da8961377b4d18a1807705a6547d42": {
      "model_module": "@jupyter-widgets/base",
      "model_module_version": "2.0.0",
      "model_name": "LayoutModel",
      "state": {
       "_model_module": "@jupyter-widgets/base",
       "_model_module_version": "2.0.0",
       "_model_name": "LayoutModel",
       "_view_count": null,
       "_view_module": "@jupyter-widgets/base",
       "_view_module_version": "2.0.0",
       "_view_name": "LayoutView",
       "align_content": null,
       "align_items": null,
       "align_self": null,
       "border_bottom": null,
       "border_left": null,
       "border_right": null,
       "border_top": null,
       "bottom": null,
       "display": null,
       "flex": null,
       "flex_flow": null,
       "grid_area": null,
       "grid_auto_columns": null,
       "grid_auto_flow": null,
       "grid_auto_rows": null,
       "grid_column": null,
       "grid_gap": null,
       "grid_row": null,
       "grid_template_areas": null,
       "grid_template_columns": null,
       "grid_template_rows": null,
       "height": null,
       "justify_content": null,
       "justify_items": null,
       "left": null,
       "margin": null,
       "max_height": null,
       "max_width": null,
       "min_height": null,
       "min_width": null,
       "object_fit": null,
       "object_position": null,
       "order": null,
       "overflow": null,
       "padding": null,
       "right": null,
       "top": null,
       "visibility": null,
       "width": null
      }
     },
     "a45d8bac3593409092051fa6bfc8e5eb": {
      "model_module": "@jupyter-widgets/controls",
      "model_module_version": "2.0.0",
      "model_name": "HBoxModel",
      "state": {
       "_dom_classes": [],
       "_model_module": "@jupyter-widgets/controls",
       "_model_module_version": "2.0.0",
       "_model_name": "HBoxModel",
       "_view_count": null,
       "_view_module": "@jupyter-widgets/controls",
       "_view_module_version": "2.0.0",
       "_view_name": "HBoxView",
       "box_style": "",
       "children": [
        "IPY_MODEL_5950eadab2984509bd33bba70abe1365",
        "IPY_MODEL_4ba4eb74992a42d49e1a1e61b49307a4"
       ],
       "layout": "IPY_MODEL_ab20f2febc8f42f2a1ded92bb6841ff6",
       "tabbable": null,
       "tooltip": null
      }
     },
     "ab20f2febc8f42f2a1ded92bb6841ff6": {
      "model_module": "@jupyter-widgets/base",
      "model_module_version": "2.0.0",
      "model_name": "LayoutModel",
      "state": {
       "_model_module": "@jupyter-widgets/base",
       "_model_module_version": "2.0.0",
       "_model_name": "LayoutModel",
       "_view_count": null,
       "_view_module": "@jupyter-widgets/base",
       "_view_module_version": "2.0.0",
       "_view_name": "LayoutView",
       "align_content": null,
       "align_items": null,
       "align_self": null,
       "border_bottom": null,
       "border_left": null,
       "border_right": null,
       "border_top": null,
       "bottom": null,
       "display": null,
       "flex": null,
       "flex_flow": null,
       "grid_area": null,
       "grid_auto_columns": null,
       "grid_auto_flow": null,
       "grid_auto_rows": null,
       "grid_column": null,
       "grid_gap": null,
       "grid_row": null,
       "grid_template_areas": null,
       "grid_template_columns": null,
       "grid_template_rows": null,
       "height": null,
       "justify_content": null,
       "justify_items": null,
       "left": null,
       "margin": null,
       "max_height": null,
       "max_width": null,
       "min_height": null,
       "min_width": null,
       "object_fit": null,
       "object_position": null,
       "order": null,
       "overflow": null,
       "padding": null,
       "right": null,
       "top": null,
       "visibility": null,
       "width": null
      }
     }
    },
    "version_major": 2,
    "version_minor": 0
   }
  }
 },
 "nbformat": 4,
 "nbformat_minor": 5
}
