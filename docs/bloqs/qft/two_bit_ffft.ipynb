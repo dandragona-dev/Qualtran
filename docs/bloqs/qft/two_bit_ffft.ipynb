{
 "cells": [
  {
   "cell_type": "markdown",
   "id": "bdada8fc",
   "metadata": {
    "cq.autogen": "title_cell"
   },
   "source": [
    "# Two Bit FFFT Gate"
   ]
  },
  {
   "cell_type": "code",
   "execution_count": 1,
   "id": "bb23a892",
   "metadata": {
    "cq.autogen": "top_imports"
   },
   "outputs": [],
   "source": [
    "from qualtran import Bloq, CompositeBloq, BloqBuilder, Signature, Register\n",
    "from qualtran import QBit, QInt, QUInt, QAny\n",
    "from qualtran.drawing import show_bloq, show_call_graph, show_counts_sigma\n",
    "from typing import *\n",
    "import numpy as np\n",
    "import sympy\n",
    "import cirq"
   ]
  },
  {
   "cell_type": "markdown",
   "id": "a8f385c4",
   "metadata": {
    "cq.autogen": "TwoBitFFFT.bloq_doc.md"
   },
   "source": [
    "## `TwoBitFFFT`\n",
    "Two-qubit fermionic Fourier transform gate.\n",
    "\n",
    "#### Parameters\n",
    " - `k`: An integer.\n",
    " - `n`: The number of qubits the FFFT acts on.\n",
    " - `eps`: The rotation precision.\n",
    " - `is_adjoint`: If True, this bloq is $F^\\dagger$ instead. \n",
    "\n",
    "#### References\n",
    " - [Improved Fault-Tolerant Quantum Simulation of Condensed-Phase Correlated Electrons     via Trotterization](https://arxiv.org/abs/1902.10673). Eq 32 and Figure 8.\n"
   ]
  },
  {
   "cell_type": "code",
   "execution_count": 2,
   "id": "862ad002",
   "metadata": {
    "cq.autogen": "TwoBitFFFT.bloq_doc.py"
   },
   "outputs": [],
   "source": [
    "from qualtran.bloqs.qft import TwoBitFFFT"
   ]
  },
  {
   "cell_type": "markdown",
   "id": "d38e3e4f",
   "metadata": {
    "cq.autogen": "TwoBitFFFT.example_instances.md"
   },
   "source": [
    "### Example Instances"
   ]
  },
  {
   "cell_type": "code",
   "execution_count": 3,
   "id": "d82d1373",
   "metadata": {
    "cq.autogen": "TwoBitFFFT.two_bit_ffft"
   },
   "outputs": [],
   "source": [
    "two_bit_ffft = TwoBitFFFT(2, 3)"
   ]
  },
  {
   "cell_type": "markdown",
   "id": "d8a93b71",
   "metadata": {
    "cq.autogen": "TwoBitFFFT.graphical_signature.md"
   },
   "source": [
    "#### Graphical Signature"
   ]
  },
  {
   "cell_type": "code",
   "execution_count": 4,
   "id": "44f9a63a",
   "metadata": {
    "cq.autogen": "TwoBitFFFT.graphical_signature.py"
   },
   "outputs": [
    {
     "data": {
      "application/vnd.jupyter.widget-view+json": {
       "model_id": "c53dd394492d449c848b7c535da58166",
       "version_major": 2,
       "version_minor": 0
      },
      "text/plain": [
       "HBox(children=(Output(outputs=({'output_type': 'display_data', 'data': {'text/plain': '<IPython.core.display.M…"
      ]
     },
     "metadata": {},
     "output_type": "display_data"
    }
   ],
   "source": [
    "from qualtran.drawing import show_bloqs\n",
    "show_bloqs([two_bit_ffft],\n",
    "           ['`two_bit_ffft`'])"
   ]
  },
  {
   "cell_type": "markdown",
   "id": "873411f0",
   "metadata": {
    "cq.autogen": "TwoBitFFFT.call_graph.md"
   },
   "source": [
    "### Call Graph"
   ]
  },
  {
   "cell_type": "code",
   "execution_count": 5,
   "id": "1cf91797",
   "metadata": {
    "cq.autogen": "TwoBitFFFT.call_graph.py"
   },
   "outputs": [
    {
     "data": {
      "image/svg+xml": [
       "<svg xmlns=\"http://www.w3.org/2000/svg\" xmlns:xlink=\"http://www.w3.org/1999/xlink\" width=\"607pt\" height=\"131pt\" viewBox=\"0.00 0.00 606.50 131.00\">\n",
       "<g id=\"graph0\" class=\"graph\" transform=\"scale(1 1) rotate(0) translate(4 127)\">\n",
       "<title>counts</title>\n",
       "<polygon fill=\"white\" stroke=\"transparent\" points=\"-4,4 -4,-127 602.5,-127 602.5,4 -4,4\"/>\n",
       "<!-- b0 -->\n",
       "<g id=\"node1\" class=\"node\">\n",
       "<title>b0</title>\n",
       "<polygon fill=\"none\" stroke=\"black\" points=\"487,-123 248,-123 248,-87 487,-87 487,-123\"/>\n",
       "<text text-anchor=\"start\" x=\"331\" y=\"-106.8\" font-family=\"Times,serif\" font-size=\"14.00\">TwoBitFFFT</text>\n",
       "<text text-anchor=\"start\" x=\"256\" y=\"-96\" font-family=\"monospace\" font-size=\"10.00\">k=2, n=3, eps=1e-10, is_adjoint=False</text>\n",
       "</g>\n",
       "<!-- b1 -->\n",
       "<g id=\"node2\" class=\"node\">\n",
       "<title>b1</title>\n",
       "<polygon fill=\"none\" stroke=\"black\" points=\"191,-36 0,-36 0,0 191,0 191,-36\"/>\n",
       "<text text-anchor=\"start\" x=\"24\" y=\"-19.8\" font-family=\"Times,serif\" font-size=\"14.00\">Rz(4.1887902047863905)</text>\n",
       "<text text-anchor=\"start\" x=\"8\" y=\"-9\" font-family=\"monospace\" font-size=\"10.00\">angle=4.188790 ..., eps=1e-10</text>\n",
       "</g>\n",
       "<!-- b0&#45;&gt;b1 -->\n",
       "<g id=\"edge1\" class=\"edge\">\n",
       "<title>b0-&gt;b1</title>\n",
       "<path fill=\"none\" stroke=\"black\" d=\"M312.78,-86.9C268.61,-73.1 206.37,-53.65 159.81,-39.1\"/>\n",
       "<polygon fill=\"black\" stroke=\"black\" points=\"160.72,-35.71 150.13,-36.07 158.63,-42.39 160.72,-35.71\"/>\n",
       "<text text-anchor=\"middle\" x=\"252\" y=\"-57.8\" font-family=\"Times,serif\" font-size=\"14.00\">1</text>\n",
       "</g>\n",
       "<!-- b2 -->\n",
       "<g id=\"node3\" class=\"node\">\n",
       "<title>b2</title>\n",
       "<polygon fill=\"none\" stroke=\"black\" points=\"322,-36 209,-36 209,0 322,0 322,-36\"/>\n",
       "<text text-anchor=\"start\" x=\"261.5\" y=\"-19.8\" font-family=\"Times,serif\" font-size=\"14.00\">S</text>\n",
       "<text text-anchor=\"start\" x=\"217\" y=\"-9\" font-family=\"monospace\" font-size=\"10.00\">is_adjoint=False</text>\n",
       "</g>\n",
       "<!-- b0&#45;&gt;b2 -->\n",
       "<g id=\"edge2\" class=\"edge\">\n",
       "<title>b0-&gt;b2</title>\n",
       "<path fill=\"none\" stroke=\"black\" d=\"M346.86,-86.8C331.65,-74.13 310.78,-56.73 293.99,-42.74\"/>\n",
       "<polygon fill=\"black\" stroke=\"black\" points=\"296.03,-39.89 286.11,-36.18 291.55,-45.27 296.03,-39.89\"/>\n",
       "<text text-anchor=\"middle\" x=\"327\" y=\"-57.8\" font-family=\"Times,serif\" font-size=\"14.00\">3</text>\n",
       "</g>\n",
       "<!-- b3 -->\n",
       "<g id=\"node4\" class=\"node\">\n",
       "<title>b3</title>\n",
       "<polygon fill=\"none\" stroke=\"black\" points=\"394.5,-36 340.5,-36 340.5,0 394.5,0 394.5,-36\"/>\n",
       "<text text-anchor=\"start\" x=\"362.5\" y=\"-14.3\" font-family=\"Times,serif\" font-size=\"14.00\">H</text>\n",
       "</g>\n",
       "<!-- b0&#45;&gt;b3 -->\n",
       "<g id=\"edge3\" class=\"edge\">\n",
       "<title>b0-&gt;b3</title>\n",
       "<path fill=\"none\" stroke=\"black\" d=\"M367.5,-86.8C367.5,-75.16 367.5,-59.55 367.5,-46.24\"/>\n",
       "<polygon fill=\"black\" stroke=\"black\" points=\"371,-46.18 367.5,-36.18 364,-46.18 371,-46.18\"/>\n",
       "<text text-anchor=\"middle\" x=\"371\" y=\"-57.8\" font-family=\"Times,serif\" font-size=\"14.00\">6</text>\n",
       "</g>\n",
       "<!-- b4 -->\n",
       "<g id=\"node5\" class=\"node\">\n",
       "<title>b4</title>\n",
       "<polygon fill=\"none\" stroke=\"black\" points=\"526,-36 413,-36 413,0 526,0 526,-36\"/>\n",
       "<text text-anchor=\"start\" x=\"465\" y=\"-19.8\" font-family=\"Times,serif\" font-size=\"14.00\">T</text>\n",
       "<text text-anchor=\"start\" x=\"421\" y=\"-9\" font-family=\"monospace\" font-size=\"10.00\">is_adjoint=False</text>\n",
       "</g>\n",
       "<!-- b0&#45;&gt;b4 -->\n",
       "<g id=\"edge4\" class=\"edge\">\n",
       "<title>b0-&gt;b4</title>\n",
       "<path fill=\"none\" stroke=\"black\" d=\"M388.14,-86.8C403.35,-74.13 424.22,-56.73 441.01,-42.74\"/>\n",
       "<polygon fill=\"black\" stroke=\"black\" points=\"443.45,-45.27 448.89,-36.18 438.97,-39.89 443.45,-45.27\"/>\n",
       "<text text-anchor=\"middle\" x=\"429\" y=\"-57.8\" font-family=\"Times,serif\" font-size=\"14.00\">2</text>\n",
       "</g>\n",
       "<!-- b5 -->\n",
       "<g id=\"node6\" class=\"node\">\n",
       "<title>b5</title>\n",
       "<polygon fill=\"none\" stroke=\"black\" points=\"598.5,-36 544.5,-36 544.5,0 598.5,0 598.5,-36\"/>\n",
       "<text text-anchor=\"start\" x=\"553\" y=\"-14.3\" font-family=\"Times,serif\" font-size=\"14.00\">CNOT</text>\n",
       "</g>\n",
       "<!-- b0&#45;&gt;b5 -->\n",
       "<g id=\"edge5\" class=\"edge\">\n",
       "<title>b0-&gt;b5</title>\n",
       "<path fill=\"none\" stroke=\"black\" d=\"M410.97,-86.91C444.8,-73.46 492.85,-54.04 534.5,-36 534.7,-35.91 534.91,-35.82 535.11,-35.74\"/>\n",
       "<polygon fill=\"black\" stroke=\"black\" points=\"536.76,-38.83 544.48,-31.58 533.92,-32.43 536.76,-38.83\"/>\n",
       "<text text-anchor=\"middle\" x=\"493\" y=\"-57.8\" font-family=\"Times,serif\" font-size=\"14.00\">3</text>\n",
       "</g>\n",
       "</g>\n",
       "</svg>"
      ],
      "text/plain": [
       "<IPython.core.display.SVG object>"
      ]
     },
     "metadata": {},
     "output_type": "display_data"
    },
    {
     "data": {
      "text/markdown": [
       "#### Counts totals:\n",
       " - `CNOT`: 3\n",
       " - `H`: 6\n",
       " - `Rz(4.1887902047863905)`: 1\n",
       " - `S`: 3\n",
       " - `T`: 2"
      ],
      "text/plain": [
       "<IPython.core.display.Markdown object>"
      ]
     },
     "metadata": {},
     "output_type": "display_data"
    }
   ],
   "source": [
    "from qualtran.resource_counting.generalizers import ignore_split_join\n",
    "two_bit_ffft_g, two_bit_ffft_sigma = two_bit_ffft.call_graph(max_depth=1, generalizer=ignore_split_join)\n",
    "show_call_graph(two_bit_ffft_g)\n",
    "show_counts_sigma(two_bit_ffft_sigma)"
   ]
  }
 ],
 "metadata": {
  "kernelspec": {
   "display_name": "Python 3",
   "language": "python",
   "name": "python3"
  },
  "language_info": {
   "codemirror_mode": {
    "name": "ipython",
    "version": 3
   },
   "file_extension": ".py",
   "mimetype": "text/x-python",
   "name": "python",
   "nbconvert_exporter": "python",
   "pygments_lexer": "ipython3",
   "version": "3.11.8"
  },
  "widgets": {
   "application/vnd.jupyter.widget-state+json": {
    "state": {
     "20e22d55d77c43dc80229a00bcfaf882": {
      "model_module": "@jupyter-widgets/base",
      "model_module_version": "2.0.0",
      "model_name": "LayoutModel",
      "state": {
       "_model_module": "@jupyter-widgets/base",
       "_model_module_version": "2.0.0",
       "_model_name": "LayoutModel",
       "_view_count": null,
       "_view_module": "@jupyter-widgets/base",
       "_view_module_version": "2.0.0",
       "_view_name": "LayoutView",
       "align_content": null,
       "align_items": null,
       "align_self": null,
       "border_bottom": null,
       "border_left": null,
       "border_right": null,
       "border_top": null,
       "bottom": null,
       "display": null,
       "flex": null,
       "flex_flow": null,
       "grid_area": null,
       "grid_auto_columns": null,
       "grid_auto_flow": null,
       "grid_auto_rows": null,
       "grid_column": null,
       "grid_gap": null,
       "grid_row": null,
       "grid_template_areas": null,
       "grid_template_columns": null,
       "grid_template_rows": null,
       "height": null,
       "justify_content": null,
       "justify_items": null,
       "left": null,
       "margin": null,
       "max_height": null,
       "max_width": null,
       "min_height": null,
       "min_width": null,
       "object_fit": null,
       "object_position": null,
       "order": null,
       "overflow": null,
       "padding": null,
       "right": null,
       "top": null,
       "visibility": null,
       "width": null
      }
     },
     "5a81bfd43dbb4f31a2ed85e0c821db7b": {
      "model_module": "@jupyter-widgets/output",
      "model_module_version": "1.0.0",
      "model_name": "OutputModel",
      "state": {
       "_dom_classes": [],
       "_model_module": "@jupyter-widgets/output",
       "_model_module_version": "1.0.0",
       "_model_name": "OutputModel",
       "_view_count": null,
       "_view_module": "@jupyter-widgets/output",
       "_view_module_version": "1.0.0",
       "_view_name": "OutputView",
       "layout": "IPY_MODEL_20e22d55d77c43dc80229a00bcfaf882",
       "msg_id": "",
       "outputs": [
        {
         "data": {
          "text/markdown": "`two_bit_ffft`",
          "text/plain": "<IPython.core.display.Markdown object>"
         },
         "metadata": {},
         "output_type": "display_data"
        },
        {
         "data": {
          "image/svg+xml": "<svg xmlns=\"http://www.w3.org/2000/svg\" xmlns:xlink=\"http://www.w3.org/1999/xlink\" width=\"249pt\" height=\"98pt\" viewBox=\"0.00 0.00 249.00 98.00\">\n<g id=\"graph0\" class=\"graph\" transform=\"scale(1 1) rotate(0) translate(4 94)\">\n<title>my_graph</title>\n<polygon fill=\"white\" stroke=\"transparent\" points=\"-4,4 -4,-94 245,-94 245,4 -4,4\"/>\n<!-- x_G0 -->\n<g id=\"node1\" class=\"node\">\n<title>x_G0</title>\n<text text-anchor=\"middle\" x=\"27\" y=\"-68.3\" font-family=\"Times,serif\" font-size=\"14.00\">x</text>\n</g>\n<!-- TwoBitFFFT -->\n<g id=\"node3\" class=\"node\">\n<title>TwoBitFFFT</title>\n<polygon fill=\"none\" stroke=\"black\" points=\"91.5,-66 91.5,-83 150.5,-83 150.5,-66 91.5,-66\"/>\n<text text-anchor=\"start\" x=\"94.5\" y=\"-72\" font-family=\"Times,serif\" font-size=\"10.00\">TwoBitFFFT</text>\n<polygon fill=\"none\" stroke=\"black\" points=\"91.5,-45 91.5,-66 150.5,-66 150.5,-45 91.5,-45\"/>\n<text text-anchor=\"start\" x=\"117.5\" y=\"-51.8\" font-family=\"Times,serif\" font-size=\"14.00\">x</text>\n<polygon fill=\"none\" stroke=\"black\" points=\"91.5,-24 91.5,-45 150.5,-45 150.5,-24 91.5,-24\"/>\n<text text-anchor=\"start\" x=\"117.5\" y=\"-30.8\" font-family=\"Times,serif\" font-size=\"14.00\">y</text>\n</g>\n<!-- x_G0&#45;&gt;TwoBitFFFT -->\n<g id=\"edge1\" class=\"edge\">\n<title>x_G0:e-&gt;TwoBitFFFT:w</title>\n<path fill=\"none\" stroke=\"black\" d=\"M54,-72C71.22,-72 72.97,-57.23 88.98,-56.07\"/>\n<ellipse fill=\"black\" stroke=\"black\" cx=\"90\" cy=\"-56.04\" rx=\"1\" ry=\"1\"/>\n<text text-anchor=\"middle\" x=\"72.5\" y=\"-67\" font-family=\"Times,serif\" font-size=\"10.00\">1</text>\n</g>\n<!-- y_G5 -->\n<g id=\"node2\" class=\"node\">\n<title>y_G5</title>\n<text text-anchor=\"middle\" x=\"27\" y=\"-14.3\" font-family=\"Times,serif\" font-size=\"14.00\">y</text>\n</g>\n<!-- y_G5&#45;&gt;TwoBitFFFT -->\n<g id=\"edge2\" class=\"edge\">\n<title>y_G5:e-&gt;TwoBitFFFT:w</title>\n<path fill=\"none\" stroke=\"black\" d=\"M54,-18C71.22,-18 72.97,-32.77 88.98,-33.93\"/>\n<ellipse fill=\"black\" stroke=\"black\" cx=\"90\" cy=\"-33.96\" rx=\"1\" ry=\"1\"/>\n<text text-anchor=\"middle\" x=\"72.5\" y=\"-29\" font-family=\"Times,serif\" font-size=\"10.00\">1</text>\n</g>\n<!-- x_G2 -->\n<g id=\"node4\" class=\"node\">\n<title>x_G2</title>\n<text text-anchor=\"middle\" x=\"214\" y=\"-68.3\" font-family=\"Times,serif\" font-size=\"14.00\">x</text>\n</g>\n<!-- TwoBitFFFT&#45;&gt;x_G2 -->\n<g id=\"edge3\" class=\"edge\">\n<title>TwoBitFFFT:e-&gt;x_G2:w</title>\n<path fill=\"none\" stroke=\"black\" d=\"M150,-56C167.22,-56 168.97,-70.77 184.98,-71.93\"/>\n<ellipse fill=\"black\" stroke=\"black\" cx=\"186\" cy=\"-71.96\" rx=\"1\" ry=\"1\"/>\n<text text-anchor=\"middle\" x=\"168.5\" y=\"-67\" font-family=\"Times,serif\" font-size=\"10.00\">1</text>\n</g>\n<!-- y_G3 -->\n<g id=\"node5\" class=\"node\">\n<title>y_G3</title>\n<text text-anchor=\"middle\" x=\"214\" y=\"-14.3\" font-family=\"Times,serif\" font-size=\"14.00\">y</text>\n</g>\n<!-- TwoBitFFFT&#45;&gt;y_G3 -->\n<g id=\"edge4\" class=\"edge\">\n<title>TwoBitFFFT:e-&gt;y_G3:w</title>\n<path fill=\"none\" stroke=\"black\" d=\"M150,-34C167.22,-34 168.97,-19.23 184.98,-18.07\"/>\n<ellipse fill=\"black\" stroke=\"black\" cx=\"186\" cy=\"-18.04\" rx=\"1\" ry=\"1\"/>\n<text text-anchor=\"middle\" x=\"168.5\" y=\"-29\" font-family=\"Times,serif\" font-size=\"10.00\">1</text>\n</g>\n</g>\n</svg>",
          "text/plain": "<IPython.core.display.SVG object>"
         },
         "metadata": {},
         "output_type": "display_data"
        }
       ],
       "tabbable": null,
       "tooltip": null
      }
     },
     "c53dd394492d449c848b7c535da58166": {
      "model_module": "@jupyter-widgets/controls",
      "model_module_version": "2.0.0",
      "model_name": "HBoxModel",
      "state": {
       "_dom_classes": [],
       "_model_module": "@jupyter-widgets/controls",
       "_model_module_version": "2.0.0",
       "_model_name": "HBoxModel",
       "_view_count": null,
       "_view_module": "@jupyter-widgets/controls",
       "_view_module_version": "2.0.0",
       "_view_name": "HBoxView",
       "box_style": "",
       "children": [
        "IPY_MODEL_5a81bfd43dbb4f31a2ed85e0c821db7b"
       ],
       "layout": "IPY_MODEL_cd9a3c09b80f43ce8967154b4218a2c2",
       "tabbable": null,
       "tooltip": null
      }
     },
     "cd9a3c09b80f43ce8967154b4218a2c2": {
      "model_module": "@jupyter-widgets/base",
      "model_module_version": "2.0.0",
      "model_name": "LayoutModel",
      "state": {
       "_model_module": "@jupyter-widgets/base",
       "_model_module_version": "2.0.0",
       "_model_name": "LayoutModel",
       "_view_count": null,
       "_view_module": "@jupyter-widgets/base",
       "_view_module_version": "2.0.0",
       "_view_name": "LayoutView",
       "align_content": null,
       "align_items": null,
       "align_self": null,
       "border_bottom": null,
       "border_left": null,
       "border_right": null,
       "border_top": null,
       "bottom": null,
       "display": null,
       "flex": null,
       "flex_flow": null,
       "grid_area": null,
       "grid_auto_columns": null,
       "grid_auto_flow": null,
       "grid_auto_rows": null,
       "grid_column": null,
       "grid_gap": null,
       "grid_row": null,
       "grid_template_areas": null,
       "grid_template_columns": null,
       "grid_template_rows": null,
       "height": null,
       "justify_content": null,
       "justify_items": null,
       "left": null,
       "margin": null,
       "max_height": null,
       "max_width": null,
       "min_height": null,
       "min_width": null,
       "object_fit": null,
       "object_position": null,
       "order": null,
       "overflow": null,
       "padding": null,
       "right": null,
       "top": null,
       "visibility": null,
       "width": null
      }
     }
    },
    "version_major": 2,
    "version_minor": 0
   }
  }
 },
 "nbformat": 4,
 "nbformat_minor": 5
}
