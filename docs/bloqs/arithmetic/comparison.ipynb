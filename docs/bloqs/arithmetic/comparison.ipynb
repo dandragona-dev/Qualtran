{
 "cells": [
  {
   "cell_type": "markdown",
   "id": "23228f10",
   "metadata": {
    "cq.autogen": "title_cell"
   },
   "source": [
    "# Comparison"
   ]
  },
  {
   "cell_type": "code",
   "execution_count": 1,
   "id": "100135a5",
   "metadata": {
    "cq.autogen": "top_imports"
   },
   "outputs": [],
   "source": [
    "from qualtran import Bloq, CompositeBloq, BloqBuilder, Signature, Register\n",
    "from qualtran import QBit, QInt, QUInt, QAny\n",
    "from qualtran.drawing import show_bloq, show_call_graph, show_counts_sigma\n",
    "from typing import *\n",
    "import numpy as np\n",
    "import sympy\n",
    "import cirq"
   ]
  },
  {
   "cell_type": "markdown",
   "id": "583b18fb",
   "metadata": {
    "cq.autogen": "GreaterThan.bloq_doc.md"
   },
   "source": [
    "## `GreaterThan`\n",
    "Compare two integers.\n",
    "\n",
    "Implements $U|a\\rangle|b\\rangle|0\\rangle \\rightarrow\n",
    "|a\\rangle|b\\rangle|a > b\\rangle$ using $8n T$  gates.\n",
    "\n",
    "The bloq_counts and t_complexity are derived from equivalent qualtran gates\n",
    "assuming a clean decomposition which should yield identical costs.\n",
    "\n",
    "See: https://github.com/quantumlib/Qualtran/pull/381 and\n",
    "https://qualtran.readthedocs.io/en/latest/bloqs/comparison_gates.html\n",
    "\n",
    "#### Parameters\n",
    " - `bitsize`: Number of bits used to represent the two integers a and b. \n",
    "\n",
    "#### Registers\n",
    " - `a`: n-bit-sized input registers.\n",
    " - `b`: n-bit-sized input registers.\n",
    " - `target`: A single bit output register to store the result of A > B.\n"
   ]
  },
  {
   "cell_type": "code",
   "execution_count": 2,
   "id": "4897dd68",
   "metadata": {
    "cq.autogen": "GreaterThan.bloq_doc.py"
   },
   "outputs": [],
   "source": [
    "from qualtran.bloqs.arithmetic import GreaterThan"
   ]
  },
  {
   "cell_type": "markdown",
   "id": "7888a98f",
   "metadata": {
    "cq.autogen": "GreaterThan.example_instances.md"
   },
   "source": [
    "### Example Instances"
   ]
  },
  {
   "cell_type": "code",
   "execution_count": 3,
   "id": "98aa6041",
   "metadata": {
    "cq.autogen": "GreaterThan.greater_than"
   },
   "outputs": [],
   "source": [
    "greater_than = GreaterThan(a_bitsize=4, b_bitsize=4)"
   ]
  },
  {
   "cell_type": "markdown",
   "id": "ceac73b4",
   "metadata": {
    "cq.autogen": "GreaterThan.graphical_signature.md"
   },
   "source": [
    "#### Graphical Signature"
   ]
  },
  {
   "cell_type": "code",
   "execution_count": 4,
   "id": "c82d95fe",
   "metadata": {
    "cq.autogen": "GreaterThan.graphical_signature.py"
   },
   "outputs": [
    {
     "data": {
      "application/vnd.jupyter.widget-view+json": {
       "model_id": "5595620009ca458a9880aad71094d221",
       "version_major": 2,
       "version_minor": 0
      },
      "text/plain": [
       "HBox(children=(Output(outputs=({'output_type': 'display_data', 'data': {'text/plain': '<IPython.core.display.M…"
      ]
     },
     "metadata": {},
     "output_type": "display_data"
    }
   ],
   "source": [
    "from qualtran.drawing import show_bloqs\n",
    "show_bloqs([greater_than],\n",
    "           ['`greater_than`'])"
   ]
  },
  {
   "cell_type": "markdown",
   "id": "3afdc24f",
   "metadata": {
    "cq.autogen": "GreaterThan.call_graph.md"
   },
   "source": [
    "### Call Graph"
   ]
  },
  {
   "cell_type": "code",
   "execution_count": 5,
   "id": "88ae5ce9",
   "metadata": {
    "cq.autogen": "GreaterThan.call_graph.py"
   },
   "outputs": [
    {
     "data": {
      "image/svg+xml": [
       "<svg xmlns=\"http://www.w3.org/2000/svg\" xmlns:xlink=\"http://www.w3.org/1999/xlink\" width=\"242pt\" height=\"131pt\" viewBox=\"0.00 0.00 241.50 131.00\">\n",
       "<g id=\"graph0\" class=\"graph\" transform=\"scale(1 1) rotate(0) translate(4 127)\">\n",
       "<title>counts</title>\n",
       "<polygon fill=\"white\" stroke=\"transparent\" points=\"-4,4 -4,-127 237.5,-127 237.5,4 -4,4\"/>\n",
       "<!-- b0 -->\n",
       "<g id=\"node1\" class=\"node\">\n",
       "<title>b0</title>\n",
       "<polygon fill=\"none\" stroke=\"black\" points=\"224,-123 63,-123 63,-87 224,-87 224,-123\"/>\n",
       "<text text-anchor=\"start\" x=\"109\" y=\"-106.8\" font-family=\"Times,serif\" font-size=\"14.00\">GreaterThan</text>\n",
       "<text text-anchor=\"start\" x=\"71\" y=\"-96\" font-family=\"monospace\" font-size=\"10.00\">a_bitsize=4, b_bitsize=4</text>\n",
       "</g>\n",
       "<!-- b1 -->\n",
       "<g id=\"node2\" class=\"node\">\n",
       "<title>b1</title>\n",
       "<polygon fill=\"none\" stroke=\"black\" points=\"161,-36 0,-36 0,0 161,0 161,-36\"/>\n",
       "<text text-anchor=\"start\" x=\"38\" y=\"-19.8\" font-family=\"Times,serif\" font-size=\"14.00\">LessThanEqual</text>\n",
       "<text text-anchor=\"start\" x=\"8\" y=\"-9\" font-family=\"monospace\" font-size=\"10.00\">x_bitsize=4, y_bitsize=4</text>\n",
       "</g>\n",
       "<!-- b0&#45;&gt;b1 -->\n",
       "<g id=\"edge1\" class=\"edge\">\n",
       "<title>b0-&gt;b1</title>\n",
       "<path fill=\"none\" stroke=\"black\" d=\"M130.75,-86.8C121.7,-74.59 109.4,-57.99 99.24,-44.28\"/>\n",
       "<polygon fill=\"black\" stroke=\"black\" points=\"102,-42.13 93.23,-36.18 96.37,-46.29 102,-42.13\"/>\n",
       "<text text-anchor=\"middle\" x=\"120\" y=\"-57.8\" font-family=\"Times,serif\" font-size=\"14.00\">1</text>\n",
       "</g>\n",
       "<!-- b2 -->\n",
       "<g id=\"node3\" class=\"node\">\n",
       "<title>b2</title>\n",
       "<polygon fill=\"none\" stroke=\"black\" points=\"233.5,-36 179.5,-36 179.5,0 233.5,0 233.5,-36\"/>\n",
       "<text text-anchor=\"start\" x=\"188.5\" y=\"-14.3\" font-family=\"Times,serif\" font-size=\"14.00\">XGate</text>\n",
       "</g>\n",
       "<!-- b0&#45;&gt;b2 -->\n",
       "<g id=\"edge2\" class=\"edge\">\n",
       "<title>b0-&gt;b2</title>\n",
       "<path fill=\"none\" stroke=\"black\" d=\"M156.25,-86.8C165.3,-74.59 177.6,-57.99 187.76,-44.28\"/>\n",
       "<polygon fill=\"black\" stroke=\"black\" points=\"190.63,-46.29 193.77,-36.18 185,-42.13 190.63,-46.29\"/>\n",
       "<text text-anchor=\"middle\" x=\"182\" y=\"-57.8\" font-family=\"Times,serif\" font-size=\"14.00\">1</text>\n",
       "</g>\n",
       "</g>\n",
       "</svg>"
      ],
      "text/plain": [
       "<IPython.core.display.SVG object>"
      ]
     },
     "metadata": {},
     "output_type": "display_data"
    },
    {
     "data": {
      "text/markdown": [
       "#### Counts totals:\n",
       " - `LessThanEqual`: 1\n",
       " - `XGate`: 1"
      ],
      "text/plain": [
       "<IPython.core.display.Markdown object>"
      ]
     },
     "metadata": {},
     "output_type": "display_data"
    }
   ],
   "source": [
    "from qualtran.resource_counting.generalizers import ignore_split_join\n",
    "greater_than_g, greater_than_sigma = greater_than.call_graph(max_depth=1, generalizer=ignore_split_join)\n",
    "show_call_graph(greater_than_g)\n",
    "show_counts_sigma(greater_than_sigma)"
   ]
  },
  {
   "cell_type": "markdown",
   "id": "532b6bf1",
   "metadata": {
    "cq.autogen": "GreaterThanConstant.bloq_doc.md"
   },
   "source": [
    "## `GreaterThanConstant`\n",
    "Implements $U_a|x\\rangle = U_a|x\\rangle|z\\rangle = |x\\rangle |z \\land (x > a)\\rangle$\n",
    "\n",
    "The bloq_counts and t_complexity are derived from equivalent qualtran gates\n",
    "assuming a clean decomposition which should yield identical costs.\n",
    "\n",
    "See: https://github.com/quantumlib/Qualtran/pull/381 and\n",
    "https://qualtran.readthedocs.io/en/latest/bloqs/comparison_gates.html\n",
    "\n",
    "\n",
    "#### Parameters\n",
    " - `bitsize`: bitsize of x register.\n",
    " - `val`: integer to compare x against (a above.) \n",
    "\n",
    "#### Registers\n",
    " - `x`: Register to compare against val.\n",
    " - `target`: Register to hold result of comparison.\n"
   ]
  },
  {
   "cell_type": "code",
   "execution_count": 6,
   "id": "79cf881f",
   "metadata": {
    "cq.autogen": "GreaterThanConstant.bloq_doc.py"
   },
   "outputs": [],
   "source": [
    "from qualtran.bloqs.arithmetic import GreaterThanConstant"
   ]
  },
  {
   "cell_type": "markdown",
   "id": "262b3978",
   "metadata": {
    "cq.autogen": "GreaterThanConstant.example_instances.md"
   },
   "source": [
    "### Example Instances"
   ]
  },
  {
   "cell_type": "code",
   "execution_count": 7,
   "id": "4e9495bc",
   "metadata": {
    "cq.autogen": "GreaterThanConstant.gt_k"
   },
   "outputs": [],
   "source": [
    "gt_k = GreaterThanConstant(bitsize=4, val=13)"
   ]
  },
  {
   "cell_type": "markdown",
   "id": "692cf0da",
   "metadata": {
    "cq.autogen": "GreaterThanConstant.graphical_signature.md"
   },
   "source": [
    "#### Graphical Signature"
   ]
  },
  {
   "cell_type": "code",
   "execution_count": 8,
   "id": "49de22c1",
   "metadata": {
    "cq.autogen": "GreaterThanConstant.graphical_signature.py"
   },
   "outputs": [
    {
     "data": {
      "application/vnd.jupyter.widget-view+json": {
       "model_id": "83d331ef10cb4f05b6f27f83a186d1f1",
       "version_major": 2,
       "version_minor": 0
      },
      "text/plain": [
       "HBox(children=(Output(outputs=({'output_type': 'display_data', 'data': {'text/plain': '<IPython.core.display.M…"
      ]
     },
     "metadata": {},
     "output_type": "display_data"
    }
   ],
   "source": [
    "from qualtran.drawing import show_bloqs\n",
    "show_bloqs([gt_k],\n",
    "           ['`gt_k`'])"
   ]
  },
  {
   "cell_type": "markdown",
   "id": "ca10fb8f",
   "metadata": {
    "cq.autogen": "GreaterThanConstant.call_graph.md"
   },
   "source": [
    "### Call Graph"
   ]
  },
  {
   "cell_type": "code",
   "execution_count": 9,
   "id": "ce7758c2",
   "metadata": {
    "cq.autogen": "GreaterThanConstant.call_graph.py"
   },
   "outputs": [
    {
     "data": {
      "image/svg+xml": [
       "<svg xmlns=\"http://www.w3.org/2000/svg\" xmlns:xlink=\"http://www.w3.org/1999/xlink\" width=\"187pt\" height=\"131pt\" viewBox=\"0.00 0.00 187.00 131.00\">\n",
       "<g id=\"graph0\" class=\"graph\" transform=\"scale(1 1) rotate(0) translate(4 127)\">\n",
       "<title>counts</title>\n",
       "<polygon fill=\"white\" stroke=\"transparent\" points=\"-4,4 -4,-127 183,-127 183,4 -4,4\"/>\n",
       "<!-- b0 -->\n",
       "<g id=\"node1\" class=\"node\">\n",
       "<title>b0</title>\n",
       "<polygon fill=\"none\" stroke=\"black\" points=\"156,-123 23,-123 23,-87 156,-87 156,-123\"/>\n",
       "<text text-anchor=\"start\" x=\"31\" y=\"-106.8\" font-family=\"Times,serif\" font-size=\"14.00\">GreaterThanConstant</text>\n",
       "<text text-anchor=\"start\" x=\"38\" y=\"-96\" font-family=\"monospace\" font-size=\"10.00\">bitsize=4, val=13</text>\n",
       "</g>\n",
       "<!-- b1 -->\n",
       "<g id=\"node2\" class=\"node\">\n",
       "<title>b1</title>\n",
       "<polygon fill=\"none\" stroke=\"black\" points=\"179,-36 0,-36 0,0 179,0 179,-36\"/>\n",
       "<text text-anchor=\"start\" x=\"39\" y=\"-19.8\" font-family=\"Times,serif\" font-size=\"14.00\">LessThanConstant</text>\n",
       "<text text-anchor=\"start\" x=\"8\" y=\"-9\" font-family=\"monospace\" font-size=\"10.00\">bitsize=4, less_than_val=13</text>\n",
       "</g>\n",
       "<!-- b0&#45;&gt;b1 -->\n",
       "<g id=\"edge1\" class=\"edge\">\n",
       "<title>b0-&gt;b1</title>\n",
       "<path fill=\"none\" stroke=\"black\" d=\"M89.5,-86.8C89.5,-75.16 89.5,-59.55 89.5,-46.24\"/>\n",
       "<polygon fill=\"black\" stroke=\"black\" points=\"93,-46.18 89.5,-36.18 86,-46.18 93,-46.18\"/>\n",
       "<text text-anchor=\"middle\" x=\"93\" y=\"-57.8\" font-family=\"Times,serif\" font-size=\"14.00\">1</text>\n",
       "</g>\n",
       "</g>\n",
       "</svg>"
      ],
      "text/plain": [
       "<IPython.core.display.SVG object>"
      ]
     },
     "metadata": {},
     "output_type": "display_data"
    },
    {
     "data": {
      "text/markdown": [
       "#### Counts totals:\n",
       " - `LessThanConstant`: 1"
      ],
      "text/plain": [
       "<IPython.core.display.Markdown object>"
      ]
     },
     "metadata": {},
     "output_type": "display_data"
    }
   ],
   "source": [
    "from qualtran.resource_counting.generalizers import ignore_split_join\n",
    "gt_k_g, gt_k_sigma = gt_k.call_graph(max_depth=1, generalizer=ignore_split_join)\n",
    "show_call_graph(gt_k_g)\n",
    "show_counts_sigma(gt_k_sigma)"
   ]
  },
  {
   "cell_type": "markdown",
   "id": "8948042c",
   "metadata": {
    "cq.autogen": "EqualsAConstant.bloq_doc.md"
   },
   "source": [
    "## `EqualsAConstant`\n",
    "Implements $U_a|x\\rangle|z\\rangle = |x\\rangle |z \\oplus (x = a)\\rangle$\n",
    "\n",
    "The bloq_counts and t_complexity are derived from:\n",
    "https://qualtran.readthedocs.io/en/latest/bloqs/comparison_gates.html#equality-as-a-special-case\n",
    "\n",
    "#### Parameters\n",
    " - `bitsize`: bitsize of x register.\n",
    " - `val`: integer to compare x against (a above.) \n",
    "\n",
    "#### Registers\n",
    " - `x`: Register to compare against val.\n",
    " - `target`: Register to hold result of comparison.\n"
   ]
  },
  {
   "cell_type": "code",
   "execution_count": 10,
   "id": "8975c3d4",
   "metadata": {
    "cq.autogen": "EqualsAConstant.bloq_doc.py"
   },
   "outputs": [],
   "source": [
    "from qualtran.bloqs.arithmetic import EqualsAConstant"
   ]
  },
  {
   "cell_type": "markdown",
   "id": "8d9dfb80",
   "metadata": {
    "cq.autogen": "EqualsAConstant.example_instances.md"
   },
   "source": [
    "### Example Instances"
   ]
  },
  {
   "cell_type": "code",
   "execution_count": 11,
   "id": "596fef5f",
   "metadata": {
    "cq.autogen": "EqualsAConstant.eq_k"
   },
   "outputs": [],
   "source": [
    "eq_k = EqualsAConstant(bitsize=4, val=13)"
   ]
  },
  {
   "cell_type": "markdown",
   "id": "867bb5ac",
   "metadata": {
    "cq.autogen": "EqualsAConstant.graphical_signature.md"
   },
   "source": [
    "#### Graphical Signature"
   ]
  },
  {
   "cell_type": "code",
   "execution_count": 12,
   "id": "a3d3be59",
   "metadata": {
    "cq.autogen": "EqualsAConstant.graphical_signature.py"
   },
   "outputs": [
    {
     "data": {
      "application/vnd.jupyter.widget-view+json": {
       "model_id": "8b2e70efc1da41ec8df1db1b31ea9d8f",
       "version_major": 2,
       "version_minor": 0
      },
      "text/plain": [
       "HBox(children=(Output(outputs=({'output_type': 'display_data', 'data': {'text/plain': '<IPython.core.display.M…"
      ]
     },
     "metadata": {},
     "output_type": "display_data"
    }
   ],
   "source": [
    "from qualtran.drawing import show_bloqs\n",
    "show_bloqs([eq_k],\n",
    "           ['`eq_k`'])"
   ]
  },
  {
   "cell_type": "markdown",
   "id": "c672c228",
   "metadata": {
    "cq.autogen": "EqualsAConstant.call_graph.md"
   },
   "source": [
    "### Call Graph"
   ]
  },
  {
   "cell_type": "code",
   "execution_count": 13,
   "id": "735d36af",
   "metadata": {
    "cq.autogen": "EqualsAConstant.call_graph.py"
   },
   "outputs": [
    {
     "data": {
      "image/svg+xml": [
       "<svg xmlns=\"http://www.w3.org/2000/svg\" xmlns:xlink=\"http://www.w3.org/1999/xlink\" width=\"241pt\" height=\"131pt\" viewBox=\"0.00 0.00 241.00 131.00\">\n",
       "<g id=\"graph0\" class=\"graph\" transform=\"scale(1 1) rotate(0) translate(4 127)\">\n",
       "<title>counts</title>\n",
       "<polygon fill=\"white\" stroke=\"transparent\" points=\"-4,4 -4,-127 237,-127 237,4 -4,4\"/>\n",
       "<!-- b0 -->\n",
       "<g id=\"node1\" class=\"node\">\n",
       "<title>b0</title>\n",
       "<polygon fill=\"none\" stroke=\"black\" points=\"176,-123 57,-123 57,-87 176,-87 176,-123\"/>\n",
       "<text text-anchor=\"start\" x=\"69\" y=\"-106.8\" font-family=\"Times,serif\" font-size=\"14.00\">EqualsAConstant</text>\n",
       "<text text-anchor=\"start\" x=\"65\" y=\"-96\" font-family=\"monospace\" font-size=\"10.00\">bitsize=4, val=13</text>\n",
       "</g>\n",
       "<!-- b1 -->\n",
       "<g id=\"node2\" class=\"node\">\n",
       "<title>b1</title>\n",
       "<polygon fill=\"none\" stroke=\"black\" points=\"233,-36 0,-36 0,0 233,0 233,-36\"/>\n",
       "<text text-anchor=\"start\" x=\"100\" y=\"-19.8\" font-family=\"Times,serif\" font-size=\"14.00\">C^4X</text>\n",
       "<text text-anchor=\"start\" x=\"8\" y=\"-9\" font-family=\"monospace\" font-size=\"10.00\">cvs=(1, 1, 0, 1), target_gate=cirq.X</text>\n",
       "</g>\n",
       "<!-- b0&#45;&gt;b1 -->\n",
       "<g id=\"edge1\" class=\"edge\">\n",
       "<title>b0-&gt;b1</title>\n",
       "<path fill=\"none\" stroke=\"black\" d=\"M116.5,-86.8C116.5,-75.16 116.5,-59.55 116.5,-46.24\"/>\n",
       "<polygon fill=\"black\" stroke=\"black\" points=\"120,-46.18 116.5,-36.18 113,-46.18 120,-46.18\"/>\n",
       "<text text-anchor=\"middle\" x=\"120\" y=\"-57.8\" font-family=\"Times,serif\" font-size=\"14.00\">1</text>\n",
       "</g>\n",
       "</g>\n",
       "</svg>"
      ],
      "text/plain": [
       "<IPython.core.display.SVG object>"
      ]
     },
     "metadata": {},
     "output_type": "display_data"
    },
    {
     "data": {
      "text/markdown": [
       "#### Counts totals:\n",
       " - `C^4X`: 1"
      ],
      "text/plain": [
       "<IPython.core.display.Markdown object>"
      ]
     },
     "metadata": {},
     "output_type": "display_data"
    }
   ],
   "source": [
    "from qualtran.resource_counting.generalizers import ignore_split_join\n",
    "eq_k_g, eq_k_sigma = eq_k.call_graph(max_depth=1, generalizer=ignore_split_join)\n",
    "show_call_graph(eq_k_g)\n",
    "show_counts_sigma(eq_k_sigma)"
   ]
  },
  {
   "cell_type": "markdown",
   "id": "5d4a473d",
   "metadata": {
    "cq.autogen": "LessThanConstant.bloq_doc.md"
   },
   "source": [
    "## `LessThanConstant`\n",
    "Applies U_a|x>|z> = |x> |z ^ (x < a)>"
   ]
  },
  {
   "cell_type": "code",
   "execution_count": 14,
   "id": "f978cd77",
   "metadata": {
    "cq.autogen": "LessThanConstant.bloq_doc.py"
   },
   "outputs": [],
   "source": [
    "from qualtran.bloqs.arithmetic import LessThanConstant"
   ]
  },
  {
   "cell_type": "markdown",
   "id": "1ff5855a",
   "metadata": {
    "cq.autogen": "LessThanConstant.example_instances.md"
   },
   "source": [
    "### Example Instances"
   ]
  },
  {
   "cell_type": "code",
   "execution_count": 15,
   "id": "f0e3705e",
   "metadata": {
    "cq.autogen": "LessThanConstant.lt_k_symb"
   },
   "outputs": [],
   "source": [
    "n, k = sympy.symbols(\"n k\")\n",
    "lt_k_symb = LessThanConstant(bitsize=n, less_than_val=k)"
   ]
  },
  {
   "cell_type": "code",
   "execution_count": 16,
   "id": "65845541",
   "metadata": {
    "cq.autogen": "LessThanConstant.lt_k"
   },
   "outputs": [],
   "source": [
    "lt_k = LessThanConstant(bitsize=8, less_than_val=5)"
   ]
  },
  {
   "cell_type": "markdown",
   "id": "697c19b4",
   "metadata": {
    "cq.autogen": "LessThanConstant.graphical_signature.md"
   },
   "source": [
    "#### Graphical Signature"
   ]
  },
  {
   "cell_type": "code",
   "execution_count": 17,
   "id": "c722a3c7",
   "metadata": {
    "cq.autogen": "LessThanConstant.graphical_signature.py"
   },
   "outputs": [
    {
     "data": {
      "application/vnd.jupyter.widget-view+json": {
       "model_id": "f09e2346823e456798e7b1e28a91ddad",
       "version_major": 2,
       "version_minor": 0
      },
      "text/plain": [
       "HBox(children=(Output(outputs=({'output_type': 'display_data', 'data': {'text/plain': '<IPython.core.display.M…"
      ]
     },
     "metadata": {},
     "output_type": "display_data"
    }
   ],
   "source": [
    "from qualtran.drawing import show_bloqs\n",
    "show_bloqs([lt_k, lt_k_symb],\n",
    "           ['`lt_k`', '`lt_k_symb`'])"
   ]
  },
  {
   "cell_type": "markdown",
   "id": "9ac764fa",
   "metadata": {
    "cq.autogen": "LessThanConstant.call_graph.md"
   },
   "source": [
    "### Call Graph"
   ]
  },
  {
   "cell_type": "code",
   "execution_count": 18,
   "id": "b8de0ffc",
   "metadata": {
    "cq.autogen": "LessThanConstant.call_graph.py"
   },
   "outputs": [
    {
     "data": {
      "image/svg+xml": [
       "<svg xmlns=\"http://www.w3.org/2000/svg\" xmlns:xlink=\"http://www.w3.org/1999/xlink\" width=\"547pt\" height=\"131pt\" viewBox=\"0.00 0.00 546.50 131.00\">\n",
       "<g id=\"graph0\" class=\"graph\" transform=\"scale(1 1) rotate(0) translate(4 127)\">\n",
       "<title>counts</title>\n",
       "<polygon fill=\"white\" stroke=\"transparent\" points=\"-4,4 -4,-127 542.5,-127 542.5,4 -4,4\"/>\n",
       "<!-- b0 -->\n",
       "<g id=\"node1\" class=\"node\">\n",
       "<title>b0</title>\n",
       "<polygon fill=\"none\" stroke=\"black\" points=\"457,-123 284,-123 284,-87 457,-87 457,-123\"/>\n",
       "<text text-anchor=\"start\" x=\"320\" y=\"-106.8\" font-family=\"Times,serif\" font-size=\"14.00\">LessThanConstant</text>\n",
       "<text text-anchor=\"start\" x=\"292\" y=\"-96\" font-family=\"monospace\" font-size=\"10.00\">bitsize=8, less_than_val=5</text>\n",
       "</g>\n",
       "<!-- b1 -->\n",
       "<g id=\"node2\" class=\"node\">\n",
       "<title>b1</title>\n",
       "<polygon fill=\"none\" stroke=\"black\" points=\"191,-36 0,-36 0,0 191,0 191,-36\"/>\n",
       "<text text-anchor=\"start\" x=\"83.5\" y=\"-19.8\" font-family=\"Times,serif\" font-size=\"14.00\">And</text>\n",
       "<text text-anchor=\"start\" x=\"8\" y=\"-9\" font-family=\"monospace\" font-size=\"10.00\">cv1=1, cv2=1, uncompute=False</text>\n",
       "</g>\n",
       "<!-- b0&#45;&gt;b1 -->\n",
       "<g id=\"edge1\" class=\"edge\">\n",
       "<title>b0-&gt;b1</title>\n",
       "<path fill=\"none\" stroke=\"black\" d=\"M315.18,-86.9C270.52,-73.1 207.59,-53.65 160.52,-39.1\"/>\n",
       "<polygon fill=\"black\" stroke=\"black\" points=\"161.32,-35.68 150.73,-36.07 159.25,-42.37 161.32,-35.68\"/>\n",
       "<text text-anchor=\"middle\" x=\"253\" y=\"-57.8\" font-family=\"Times,serif\" font-size=\"14.00\">8</text>\n",
       "</g>\n",
       "<!-- b2 -->\n",
       "<g id=\"node3\" class=\"node\">\n",
       "<title>b2</title>\n",
       "<polygon fill=\"none\" stroke=\"black\" points=\"394,-36 209,-36 209,0 394,0 394,-36\"/>\n",
       "<text text-anchor=\"start\" x=\"286\" y=\"-19.8\" font-family=\"Times,serif\" font-size=\"14.00\">And†</text>\n",
       "<text text-anchor=\"start\" x=\"217\" y=\"-9\" font-family=\"monospace\" font-size=\"10.00\">cv1=1, cv2=1, uncompute=True</text>\n",
       "</g>\n",
       "<!-- b0&#45;&gt;b2 -->\n",
       "<g id=\"edge2\" class=\"edge\">\n",
       "<title>b0-&gt;b2</title>\n",
       "<path fill=\"none\" stroke=\"black\" d=\"M356.54,-86.8C346.62,-74.59 333.15,-57.99 322.02,-44.28\"/>\n",
       "<polygon fill=\"black\" stroke=\"black\" points=\"324.46,-41.73 315.44,-36.18 319.03,-46.15 324.46,-41.73\"/>\n",
       "<text text-anchor=\"middle\" x=\"344\" y=\"-57.8\" font-family=\"Times,serif\" font-size=\"14.00\">8</text>\n",
       "</g>\n",
       "<!-- b3 -->\n",
       "<g id=\"node4\" class=\"node\">\n",
       "<title>b3</title>\n",
       "<polygon fill=\"none\" stroke=\"black\" points=\"466.5,-36 412.5,-36 412.5,0 466.5,0 466.5,-36\"/>\n",
       "<text text-anchor=\"start\" x=\"421\" y=\"-14.3\" font-family=\"Times,serif\" font-size=\"14.00\">CNOT</text>\n",
       "</g>\n",
       "<!-- b0&#45;&gt;b3 -->\n",
       "<g id=\"edge3\" class=\"edge\">\n",
       "<title>b0-&gt;b3</title>\n",
       "<path fill=\"none\" stroke=\"black\" d=\"M384.46,-86.8C394.38,-74.59 407.85,-57.99 418.98,-44.28\"/>\n",
       "<polygon fill=\"black\" stroke=\"black\" points=\"421.97,-46.15 425.56,-36.18 416.54,-41.73 421.97,-46.15\"/>\n",
       "<text text-anchor=\"middle\" x=\"416.5\" y=\"-57.8\" font-family=\"Times,serif\" font-size=\"14.00\">18</text>\n",
       "</g>\n",
       "<!-- b4 -->\n",
       "<g id=\"node5\" class=\"node\">\n",
       "<title>b4</title>\n",
       "<polygon fill=\"none\" stroke=\"black\" points=\"538.5,-36 484.5,-36 484.5,0 538.5,0 538.5,-36\"/>\n",
       "<text text-anchor=\"start\" x=\"493.5\" y=\"-14.3\" font-family=\"Times,serif\" font-size=\"14.00\">XGate</text>\n",
       "</g>\n",
       "<!-- b0&#45;&gt;b4 -->\n",
       "<g id=\"edge4\" class=\"edge\">\n",
       "<title>b0-&gt;b4</title>\n",
       "<path fill=\"none\" stroke=\"black\" d=\"M399.03,-86.8C421.15,-73.46 451.94,-54.91 475.71,-40.58\"/>\n",
       "<polygon fill=\"black\" stroke=\"black\" points=\"477.69,-43.47 484.44,-35.31 474.07,-37.48 477.69,-43.47\"/>\n",
       "<text text-anchor=\"middle\" x=\"453\" y=\"-57.8\" font-family=\"Times,serif\" font-size=\"14.00\">6</text>\n",
       "</g>\n",
       "</g>\n",
       "</svg>"
      ],
      "text/plain": [
       "<IPython.core.display.SVG object>"
      ]
     },
     "metadata": {},
     "output_type": "display_data"
    },
    {
     "data": {
      "text/markdown": [
       "#### Counts totals:\n",
       " - `And`: 8\n",
       " - `And†`: 8\n",
       " - `CNOT`: 18\n",
       " - `XGate`: 6"
      ],
      "text/plain": [
       "<IPython.core.display.Markdown object>"
      ]
     },
     "metadata": {},
     "output_type": "display_data"
    }
   ],
   "source": [
    "from qualtran.resource_counting.generalizers import ignore_split_join\n",
    "lt_k_g, lt_k_sigma = lt_k.call_graph(max_depth=1, generalizer=ignore_split_join)\n",
    "show_call_graph(lt_k_g)\n",
    "show_counts_sigma(lt_k_sigma)"
   ]
  },
  {
   "cell_type": "markdown",
   "id": "58d1a6a6",
   "metadata": {
    "cq.autogen": "BiQubitsMixer.bloq_doc.md"
   },
   "source": [
    "## `BiQubitsMixer`\n",
    "Implements the COMPARE2 subroutine from the reference (Fig. 1)\n",
    "\n",
    "This gates mixes the values in a way that preserves the result of comparison.\n",
    "The signature being compared are 2-qubit signature where\n",
    "\n",
    "    x = 2*x_msb + x_lsb\n",
    "    y = 2*y_msb + y_lsb\n",
    "\n",
    "The Gate mixes the 4 qubits so that sign(x - y) = sign(x_lsb' - y_lsb') where x_lsb' and y_lsb'\n",
    "are the final values of x_lsb' and y_lsb'.\n",
    "\n",
    "Note that the ancilla qubits are used to reduce the T-count and the user\n",
    "should clean the qubits at a later point in time with the adjoint gate.\n",
    "See: https://github.com/quantumlib/Cirq/pull/6313 and\n",
    "https://github.com/quantumlib/Qualtran/issues/389\n",
    "\n",
    "#### References\n",
    " - Supplementary Materials: Improved Techniques for Preparing Eigenstates of Fermionic Hamiltonians https://static-content.springer.com/esm/art%3A10.1038%2Fs41534-018-0071-5/MediaObjects/41534_2018_71_MOESM1_ESM.pdf\n"
   ]
  },
  {
   "cell_type": "code",
   "execution_count": 19,
   "id": "1603c8b5",
   "metadata": {
    "cq.autogen": "BiQubitsMixer.bloq_doc.py"
   },
   "outputs": [],
   "source": [
    "from qualtran.bloqs.arithmetic import BiQubitsMixer"
   ]
  },
  {
   "cell_type": "markdown",
   "id": "78cbdc47",
   "metadata": {
    "cq.autogen": "BiQubitsMixer.example_instances.md"
   },
   "source": [
    "### Example Instances"
   ]
  },
  {
   "cell_type": "code",
   "execution_count": 20,
   "id": "d69a00ae",
   "metadata": {
    "cq.autogen": "BiQubitsMixer.bi_qubits_mixer"
   },
   "outputs": [],
   "source": [
    "bi_qubits_mixer = BiQubitsMixer()"
   ]
  },
  {
   "cell_type": "markdown",
   "id": "1f0bfe08",
   "metadata": {
    "cq.autogen": "BiQubitsMixer.graphical_signature.md"
   },
   "source": [
    "#### Graphical Signature"
   ]
  },
  {
   "cell_type": "code",
   "execution_count": 21,
   "id": "7558ee56",
   "metadata": {
    "cq.autogen": "BiQubitsMixer.graphical_signature.py"
   },
   "outputs": [
    {
     "data": {
      "application/vnd.jupyter.widget-view+json": {
       "model_id": "18391e65c1314085835e1bed80bf587e",
       "version_major": 2,
       "version_minor": 0
      },
      "text/plain": [
       "HBox(children=(Output(outputs=({'output_type': 'display_data', 'data': {'text/plain': '<IPython.core.display.M…"
      ]
     },
     "metadata": {},
     "output_type": "display_data"
    }
   ],
   "source": [
    "from qualtran.drawing import show_bloqs\n",
    "show_bloqs([bi_qubits_mixer],\n",
    "           ['`bi_qubits_mixer`'])"
   ]
  },
  {
   "cell_type": "markdown",
   "id": "a5c34728",
   "metadata": {
    "cq.autogen": "BiQubitsMixer.call_graph.md"
   },
   "source": [
    "### Call Graph"
   ]
  },
  {
   "cell_type": "code",
   "execution_count": 22,
   "id": "0daf86df",
   "metadata": {
    "cq.autogen": "BiQubitsMixer.call_graph.py"
   },
   "outputs": [
    {
     "data": {
      "image/svg+xml": [
       "<svg xmlns=\"http://www.w3.org/2000/svg\" xmlns:xlink=\"http://www.w3.org/1999/xlink\" width=\"344pt\" height=\"131pt\" viewBox=\"0.00 0.00 343.50 131.00\">\n",
       "<g id=\"graph0\" class=\"graph\" transform=\"scale(1 1) rotate(0) translate(4 127)\">\n",
       "<title>counts</title>\n",
       "<polygon fill=\"white\" stroke=\"transparent\" points=\"-4,4 -4,-127 339.5,-127 339.5,4 -4,4\"/>\n",
       "<!-- b0 -->\n",
       "<g id=\"node1\" class=\"node\">\n",
       "<title>b0</title>\n",
       "<polygon fill=\"none\" stroke=\"black\" points=\"155.5,-123 42.5,-123 42.5,-87 155.5,-87 155.5,-123\"/>\n",
       "<text text-anchor=\"start\" x=\"57.5\" y=\"-106.8\" font-family=\"Times,serif\" font-size=\"14.00\">BiQubitsMixer</text>\n",
       "<text text-anchor=\"start\" x=\"50.5\" y=\"-96\" font-family=\"monospace\" font-size=\"10.00\">is_adjoint=False</text>\n",
       "</g>\n",
       "<!-- b1 -->\n",
       "<g id=\"node2\" class=\"node\">\n",
       "<title>b1</title>\n",
       "<polygon fill=\"none\" stroke=\"black\" points=\"54,-36 0,-36 0,0 54,0 54,-36\"/>\n",
       "<text text-anchor=\"start\" x=\"9\" y=\"-14.3\" font-family=\"Times,serif\" font-size=\"14.00\">XGate</text>\n",
       "</g>\n",
       "<!-- b0&#45;&gt;b1 -->\n",
       "<g id=\"edge1\" class=\"edge\">\n",
       "<title>b0-&gt;b1</title>\n",
       "<path fill=\"none\" stroke=\"black\" d=\"M84.43,-86.8C73.99,-74.47 59.76,-57.68 48.08,-43.89\"/>\n",
       "<polygon fill=\"black\" stroke=\"black\" points=\"50.68,-41.54 41.55,-36.18 45.34,-46.07 50.68,-41.54\"/>\n",
       "<text text-anchor=\"middle\" x=\"71.5\" y=\"-57.8\" font-family=\"Times,serif\" font-size=\"14.00\">1</text>\n",
       "</g>\n",
       "<!-- b2 -->\n",
       "<g id=\"node3\" class=\"node\">\n",
       "<title>b2</title>\n",
       "<polygon fill=\"none\" stroke=\"black\" points=\"126,-36 72,-36 72,0 126,0 126,-36\"/>\n",
       "<text text-anchor=\"start\" x=\"80.5\" y=\"-14.3\" font-family=\"Times,serif\" font-size=\"14.00\">CNOT</text>\n",
       "</g>\n",
       "<!-- b0&#45;&gt;b2 -->\n",
       "<g id=\"edge2\" class=\"edge\">\n",
       "<title>b0-&gt;b2</title>\n",
       "<path fill=\"none\" stroke=\"black\" d=\"M99,-86.8C99,-75.16 99,-59.55 99,-46.24\"/>\n",
       "<polygon fill=\"black\" stroke=\"black\" points=\"102.5,-46.18 99,-36.18 95.5,-46.18 102.5,-46.18\"/>\n",
       "<text text-anchor=\"middle\" x=\"102.5\" y=\"-57.8\" font-family=\"Times,serif\" font-size=\"14.00\">9</text>\n",
       "</g>\n",
       "<!-- b3 -->\n",
       "<g id=\"node4\" class=\"node\">\n",
       "<title>b3</title>\n",
       "<polygon fill=\"none\" stroke=\"black\" points=\"335.5,-36 144.5,-36 144.5,0 335.5,0 335.5,-36\"/>\n",
       "<text text-anchor=\"start\" x=\"228\" y=\"-19.8\" font-family=\"Times,serif\" font-size=\"14.00\">And</text>\n",
       "<text text-anchor=\"start\" x=\"152.5\" y=\"-9\" font-family=\"monospace\" font-size=\"10.00\">cv1=1, cv2=1, uncompute=False</text>\n",
       "</g>\n",
       "<!-- b0&#45;&gt;b3 -->\n",
       "<g id=\"edge3\" class=\"edge\">\n",
       "<title>b0-&gt;b3</title>\n",
       "<path fill=\"none\" stroke=\"black\" d=\"M127.53,-86.8C149.23,-73.72 179.25,-55.62 202.82,-41.41\"/>\n",
       "<polygon fill=\"black\" stroke=\"black\" points=\"204.75,-44.34 211.51,-36.18 201.14,-38.34 204.75,-44.34\"/>\n",
       "<text text-anchor=\"middle\" x=\"181.5\" y=\"-57.8\" font-family=\"Times,serif\" font-size=\"14.00\">2</text>\n",
       "</g>\n",
       "</g>\n",
       "</svg>"
      ],
      "text/plain": [
       "<IPython.core.display.SVG object>"
      ]
     },
     "metadata": {},
     "output_type": "display_data"
    },
    {
     "data": {
      "text/markdown": [
       "#### Counts totals:\n",
       " - `And`: 2\n",
       " - `CNOT`: 9\n",
       " - `XGate`: 1"
      ],
      "text/plain": [
       "<IPython.core.display.Markdown object>"
      ]
     },
     "metadata": {},
     "output_type": "display_data"
    }
   ],
   "source": [
    "from qualtran.resource_counting.generalizers import ignore_split_join\n",
    "bi_qubits_mixer_g, bi_qubits_mixer_sigma = bi_qubits_mixer.call_graph(max_depth=1, generalizer=ignore_split_join)\n",
    "show_call_graph(bi_qubits_mixer_g)\n",
    "show_counts_sigma(bi_qubits_mixer_sigma)"
   ]
  },
  {
   "cell_type": "markdown",
   "id": "19ccfb41",
   "metadata": {
    "cq.autogen": "SingleQubitCompare.bloq_doc.md"
   },
   "source": [
    "## `SingleQubitCompare`\n",
    "Applies U|a>|b>|0>|0> = |a> |a=b> |(a<b)> |(a>b)>\n",
    "\n",
    "#### References\n",
    " - Supplementary Materials: Improved Techniques for Preparing Eigenstates of Fermionic Hamiltonians. Figure 3. https://static-content.springer.com/esm/art%3A10.1038%2Fs41534-018-0071-5/MediaObjects/41534_2018_71_MOESM1_ESM.pdf\n"
   ]
  },
  {
   "cell_type": "code",
   "execution_count": 23,
   "id": "ae8f37f5",
   "metadata": {
    "cq.autogen": "SingleQubitCompare.bloq_doc.py"
   },
   "outputs": [],
   "source": [
    "from qualtran.bloqs.arithmetic import SingleQubitCompare"
   ]
  },
  {
   "cell_type": "markdown",
   "id": "61ef1472",
   "metadata": {
    "cq.autogen": "SingleQubitCompare.example_instances.md"
   },
   "source": [
    "### Example Instances"
   ]
  },
  {
   "cell_type": "code",
   "execution_count": 24,
   "id": "534c5c22",
   "metadata": {
    "cq.autogen": "SingleQubitCompare.sq_cmp"
   },
   "outputs": [],
   "source": [
    "sq_cmp = SingleQubitCompare()"
   ]
  },
  {
   "cell_type": "markdown",
   "id": "2843d328",
   "metadata": {
    "cq.autogen": "SingleQubitCompare.graphical_signature.md"
   },
   "source": [
    "#### Graphical Signature"
   ]
  },
  {
   "cell_type": "code",
   "execution_count": 25,
   "id": "d5dcf72e",
   "metadata": {
    "cq.autogen": "SingleQubitCompare.graphical_signature.py"
   },
   "outputs": [
    {
     "data": {
      "application/vnd.jupyter.widget-view+json": {
       "model_id": "3faa30b229bf4c3595c25cb1ecdc577d",
       "version_major": 2,
       "version_minor": 0
      },
      "text/plain": [
       "HBox(children=(Output(outputs=({'output_type': 'display_data', 'data': {'text/plain': '<IPython.core.display.M…"
      ]
     },
     "metadata": {},
     "output_type": "display_data"
    }
   ],
   "source": [
    "from qualtran.drawing import show_bloqs\n",
    "show_bloqs([sq_cmp],\n",
    "           ['`sq_cmp`'])"
   ]
  },
  {
   "cell_type": "markdown",
   "id": "ee1cc222",
   "metadata": {
    "cq.autogen": "SingleQubitCompare.call_graph.md"
   },
   "source": [
    "### Call Graph"
   ]
  },
  {
   "cell_type": "code",
   "execution_count": 26,
   "id": "c96f20fc",
   "metadata": {
    "cq.autogen": "SingleQubitCompare.call_graph.py"
   },
   "outputs": [
    {
     "data": {
      "image/svg+xml": [
       "<svg xmlns=\"http://www.w3.org/2000/svg\" xmlns:xlink=\"http://www.w3.org/1999/xlink\" width=\"344pt\" height=\"131pt\" viewBox=\"0.00 0.00 343.50 131.00\">\n",
       "<g id=\"graph0\" class=\"graph\" transform=\"scale(1 1) rotate(0) translate(4 127)\">\n",
       "<title>counts</title>\n",
       "<polygon fill=\"white\" stroke=\"transparent\" points=\"-4,4 -4,-127 339.5,-127 339.5,4 -4,4\"/>\n",
       "<!-- b0 -->\n",
       "<g id=\"node1\" class=\"node\">\n",
       "<title>b0</title>\n",
       "<polygon fill=\"none\" stroke=\"black\" points=\"165,-123 33,-123 33,-87 165,-87 165,-123\"/>\n",
       "<text text-anchor=\"start\" x=\"41\" y=\"-106.8\" font-family=\"Times,serif\" font-size=\"14.00\">SingleQubitCompare</text>\n",
       "<text text-anchor=\"start\" x=\"50.5\" y=\"-96\" font-family=\"monospace\" font-size=\"10.00\">is_adjoint=False</text>\n",
       "</g>\n",
       "<!-- b1 -->\n",
       "<g id=\"node2\" class=\"node\">\n",
       "<title>b1</title>\n",
       "<polygon fill=\"none\" stroke=\"black\" points=\"54,-36 0,-36 0,0 54,0 54,-36\"/>\n",
       "<text text-anchor=\"start\" x=\"9\" y=\"-14.3\" font-family=\"Times,serif\" font-size=\"14.00\">XGate</text>\n",
       "</g>\n",
       "<!-- b0&#45;&gt;b1 -->\n",
       "<g id=\"edge1\" class=\"edge\">\n",
       "<title>b0-&gt;b1</title>\n",
       "<path fill=\"none\" stroke=\"black\" d=\"M84.43,-86.8C73.99,-74.47 59.76,-57.68 48.08,-43.89\"/>\n",
       "<polygon fill=\"black\" stroke=\"black\" points=\"50.68,-41.54 41.55,-36.18 45.34,-46.07 50.68,-41.54\"/>\n",
       "<text text-anchor=\"middle\" x=\"71.5\" y=\"-57.8\" font-family=\"Times,serif\" font-size=\"14.00\">1</text>\n",
       "</g>\n",
       "<!-- b2 -->\n",
       "<g id=\"node3\" class=\"node\">\n",
       "<title>b2</title>\n",
       "<polygon fill=\"none\" stroke=\"black\" points=\"126,-36 72,-36 72,0 126,0 126,-36\"/>\n",
       "<text text-anchor=\"start\" x=\"80.5\" y=\"-14.3\" font-family=\"Times,serif\" font-size=\"14.00\">CNOT</text>\n",
       "</g>\n",
       "<!-- b0&#45;&gt;b2 -->\n",
       "<g id=\"edge2\" class=\"edge\">\n",
       "<title>b0-&gt;b2</title>\n",
       "<path fill=\"none\" stroke=\"black\" d=\"M99,-86.8C99,-75.16 99,-59.55 99,-46.24\"/>\n",
       "<polygon fill=\"black\" stroke=\"black\" points=\"102.5,-46.18 99,-36.18 95.5,-46.18 102.5,-46.18\"/>\n",
       "<text text-anchor=\"middle\" x=\"102.5\" y=\"-57.8\" font-family=\"Times,serif\" font-size=\"14.00\">4</text>\n",
       "</g>\n",
       "<!-- b3 -->\n",
       "<g id=\"node4\" class=\"node\">\n",
       "<title>b3</title>\n",
       "<polygon fill=\"none\" stroke=\"black\" points=\"335.5,-36 144.5,-36 144.5,0 335.5,0 335.5,-36\"/>\n",
       "<text text-anchor=\"start\" x=\"228\" y=\"-19.8\" font-family=\"Times,serif\" font-size=\"14.00\">And</text>\n",
       "<text text-anchor=\"start\" x=\"152.5\" y=\"-9\" font-family=\"monospace\" font-size=\"10.00\">cv1=1, cv2=1, uncompute=False</text>\n",
       "</g>\n",
       "<!-- b0&#45;&gt;b3 -->\n",
       "<g id=\"edge3\" class=\"edge\">\n",
       "<title>b0-&gt;b3</title>\n",
       "<path fill=\"none\" stroke=\"black\" d=\"M127.53,-86.8C149.23,-73.72 179.25,-55.62 202.82,-41.41\"/>\n",
       "<polygon fill=\"black\" stroke=\"black\" points=\"204.75,-44.34 211.51,-36.18 201.14,-38.34 204.75,-44.34\"/>\n",
       "<text text-anchor=\"middle\" x=\"181.5\" y=\"-57.8\" font-family=\"Times,serif\" font-size=\"14.00\">1</text>\n",
       "</g>\n",
       "</g>\n",
       "</svg>"
      ],
      "text/plain": [
       "<IPython.core.display.SVG object>"
      ]
     },
     "metadata": {},
     "output_type": "display_data"
    },
    {
     "data": {
      "text/markdown": [
       "#### Counts totals:\n",
       " - `And`: 1\n",
       " - `CNOT`: 4\n",
       " - `XGate`: 1"
      ],
      "text/plain": [
       "<IPython.core.display.Markdown object>"
      ]
     },
     "metadata": {},
     "output_type": "display_data"
    }
   ],
   "source": [
    "from qualtran.resource_counting.generalizers import ignore_split_join\n",
    "sq_cmp_g, sq_cmp_sigma = sq_cmp.call_graph(max_depth=1, generalizer=ignore_split_join)\n",
    "show_call_graph(sq_cmp_g)\n",
    "show_counts_sigma(sq_cmp_sigma)"
   ]
  },
  {
   "cell_type": "markdown",
   "id": "50d83fdb",
   "metadata": {
    "cq.autogen": "LessThanEqual.bloq_doc.md"
   },
   "source": [
    "## `LessThanEqual`\n",
    "Applies U|x>|y>|z> = |x>|y> |z ^ (x <= y)>\n",
    "\n",
    "Decomposes the gate in a T-complexity optimal way.\n",
    "\n",
    "The construction can be broken in 4 parts:\n",
    " 1. In case of differing bitsizes then a multicontrol And Gate\n",
    "    (Section III.A. of the first reference) is used to check whether\n",
    "    the extra prefix is equal to zero and the result is stored in the `prefix_equality` qubit.\n",
    " 2. The tree structure (Fig. 2) of the second reference.\n",
    "    followed by a `SingleQubitCompare` to compute the result of comparison of\n",
    "    the suffixes of equal length. The result is stored in `less_than` and `greater_than` and\n",
    "    equality in `qubits[-2]`\n",
    " 3. The results from the previous two steps are combined to update the target qubit.\n",
    " 4. The adjoint of the previous operations is added to restore the input qubits\n",
    "    to their original state and clean the ancilla qubits.\n",
    "\n",
    "When both registers are of the same size the T complexity is\n",
    "8n - 4 as in the second reference.\n",
    "\n",
    "When the registers differ in size and `n` is the size of the smaller one and\n",
    "`d` is the difference in size, the T complexity is the sum of the tree\n",
    "decomposition as before giving 8n + O(1); and the T complexity of an `And` gate\n",
    "over `d` registers giving 4d + O(1). This totals 8n + 4d + O(1).\n",
    "\n",
    "#### References\n",
    " - [Encoding Electronic Spectra in Quantum Circuits with Linear T Complexity](https://arxiv.org/abs/1805.03662). \n",
    " - Supplementary Materials: Improved Techniques for Preparing Eigenstates of Fermionic Hamiltonians. https://static-content.springer.com/esm/art%3A10.1038%2Fs41534-018-0071-5/MediaObjects/41534_2018_71_MOESM1_ESM.pdf\n"
   ]
  },
  {
   "cell_type": "code",
   "execution_count": 27,
   "id": "31d1717c",
   "metadata": {
    "cq.autogen": "LessThanEqual.bloq_doc.py"
   },
   "outputs": [],
   "source": [
    "from qualtran.bloqs.arithmetic import LessThanEqual"
   ]
  },
  {
   "cell_type": "markdown",
   "id": "bb520292",
   "metadata": {
    "cq.autogen": "LessThanEqual.example_instances.md"
   },
   "source": [
    "### Example Instances"
   ]
  },
  {
   "cell_type": "code",
   "execution_count": 28,
   "id": "8c60d014",
   "metadata": {
    "cq.autogen": "LessThanEqual.leq_symb"
   },
   "outputs": [],
   "source": [
    "n1, n2 = sympy.symbols('n1 n2')\n",
    "leq_symb = LessThanEqual(x_bitsize=n1, y_bitsize=n2)"
   ]
  },
  {
   "cell_type": "code",
   "execution_count": 29,
   "id": "545b145c",
   "metadata": {
    "cq.autogen": "LessThanEqual.leq"
   },
   "outputs": [],
   "source": [
    "leq = LessThanEqual(x_bitsize=4, y_bitsize=8)"
   ]
  },
  {
   "cell_type": "markdown",
   "id": "40db2f9f",
   "metadata": {
    "cq.autogen": "LessThanEqual.graphical_signature.md"
   },
   "source": [
    "#### Graphical Signature"
   ]
  },
  {
   "cell_type": "code",
   "execution_count": 30,
   "id": "bc035e97",
   "metadata": {
    "cq.autogen": "LessThanEqual.graphical_signature.py"
   },
   "outputs": [
    {
     "data": {
      "application/vnd.jupyter.widget-view+json": {
       "model_id": "95c956009ce742cf9c94df4c763709c4",
       "version_major": 2,
       "version_minor": 0
      },
      "text/plain": [
       "HBox(children=(Output(outputs=({'output_type': 'display_data', 'data': {'text/plain': '<IPython.core.display.M…"
      ]
     },
     "metadata": {},
     "output_type": "display_data"
    }
   ],
   "source": [
    "from qualtran.drawing import show_bloqs\n",
    "show_bloqs([leq, leq_symb],\n",
    "           ['`leq`', '`leq_symb`'])"
   ]
  },
  {
   "cell_type": "markdown",
   "id": "1fe92bed",
   "metadata": {
    "cq.autogen": "LessThanEqual.call_graph.md"
   },
   "source": [
    "### Call Graph"
   ]
  },
  {
   "cell_type": "code",
   "execution_count": 31,
   "id": "dcd53c93",
   "metadata": {
    "cq.autogen": "LessThanEqual.call_graph.py"
   },
   "outputs": [
    {
     "data": {
      "image/svg+xml": [
       "<svg xmlns=\"http://www.w3.org/2000/svg\" xmlns:xlink=\"http://www.w3.org/1999/xlink\" width=\"1390pt\" height=\"131pt\" viewBox=\"0.00 0.00 1390.00 131.00\">\n",
       "<g id=\"graph0\" class=\"graph\" transform=\"scale(1 1) rotate(0) translate(4 127)\">\n",
       "<title>counts</title>\n",
       "<polygon fill=\"white\" stroke=\"transparent\" points=\"-4,4 -4,-127 1386,-127 1386,4 -4,4\"/>\n",
       "<!-- b0 -->\n",
       "<g id=\"node1\" class=\"node\">\n",
       "<title>b0</title>\n",
       "<polygon fill=\"none\" stroke=\"black\" points=\"632,-123 471,-123 471,-87 632,-87 632,-123\"/>\n",
       "<text text-anchor=\"start\" x=\"509\" y=\"-106.8\" font-family=\"Times,serif\" font-size=\"14.00\">LessThanEqual</text>\n",
       "<text text-anchor=\"start\" x=\"479\" y=\"-96\" font-family=\"monospace\" font-size=\"10.00\">x_bitsize=4, y_bitsize=8</text>\n",
       "</g>\n",
       "<!-- b1 -->\n",
       "<g id=\"node2\" class=\"node\">\n",
       "<title>b1</title>\n",
       "<polygon fill=\"none\" stroke=\"black\" points=\"113,-36 0,-36 0,0 113,0 113,-36\"/>\n",
       "<text text-anchor=\"start\" x=\"14\" y=\"-19.8\" font-family=\"Times,serif\" font-size=\"14.00\">MultiAnd(n=4)</text>\n",
       "<text text-anchor=\"start\" x=\"8\" y=\"-9\" font-family=\"monospace\" font-size=\"10.00\">cvs=(0, 0, 0, 0)</text>\n",
       "</g>\n",
       "<!-- b0&#45;&gt;b1 -->\n",
       "<g id=\"edge1\" class=\"edge\">\n",
       "<title>b0-&gt;b1</title>\n",
       "<path fill=\"none\" stroke=\"black\" d=\"M470.99,-93.87C386.44,-82.65 249.53,-62.81 123.01,-36.23\"/>\n",
       "<polygon fill=\"black\" stroke=\"black\" points=\"123.66,-32.79 113.15,-34.14 122.2,-39.64 123.66,-32.79\"/>\n",
       "<text text-anchor=\"middle\" x=\"302\" y=\"-57.8\" font-family=\"Times,serif\" font-size=\"14.00\">1</text>\n",
       "</g>\n",
       "<!-- b2 -->\n",
       "<g id=\"node3\" class=\"node\">\n",
       "<title>b2</title>\n",
       "<polygon fill=\"none\" stroke=\"black\" points=\"268,-36 131,-36 131,0 268,0 268,-36\"/>\n",
       "<text text-anchor=\"start\" x=\"153.5\" y=\"-19.8\" font-family=\"Times,serif\" font-size=\"14.00\">MultiAnd(n=4)†</text>\n",
       "<text text-anchor=\"start\" x=\"139\" y=\"-9\" font-family=\"monospace\" font-size=\"10.00\">subbloq=MultiAnd ...</text>\n",
       "</g>\n",
       "<!-- b0&#45;&gt;b2 -->\n",
       "<g id=\"edge2\" class=\"edge\">\n",
       "<title>b0-&gt;b2</title>\n",
       "<path fill=\"none\" stroke=\"black\" d=\"M470.91,-87.48C444.58,-81.88 415.24,-75.4 388.5,-69 349.43,-59.64 306.08,-48.25 270.76,-38.7\"/>\n",
       "<polygon fill=\"black\" stroke=\"black\" points=\"271.59,-35.3 261.03,-36.06 269.76,-42.06 271.59,-35.3\"/>\n",
       "<text text-anchor=\"middle\" x=\"392\" y=\"-57.8\" font-family=\"Times,serif\" font-size=\"14.00\">1</text>\n",
       "</g>\n",
       "<!-- b3 -->\n",
       "<g id=\"node4\" class=\"node\">\n",
       "<title>b3</title>\n",
       "<polygon fill=\"none\" stroke=\"black\" points=\"340.5,-36 286.5,-36 286.5,0 340.5,0 340.5,-36\"/>\n",
       "<text text-anchor=\"start\" x=\"295\" y=\"-14.3\" font-family=\"Times,serif\" font-size=\"14.00\">CNOT</text>\n",
       "</g>\n",
       "<!-- b0&#45;&gt;b3 -->\n",
       "<g id=\"edge3\" class=\"edge\">\n",
       "<title>b0-&gt;b3</title>\n",
       "<path fill=\"none\" stroke=\"black\" d=\"M495.13,-86.96C456.49,-74.84 404.01,-57.52 350.22,-36.09\"/>\n",
       "<polygon fill=\"black\" stroke=\"black\" points=\"351.46,-32.81 340.87,-32.33 348.84,-39.31 351.46,-32.81\"/>\n",
       "<text text-anchor=\"middle\" x=\"441\" y=\"-57.8\" font-family=\"Times,serif\" font-size=\"14.00\">2</text>\n",
       "</g>\n",
       "<!-- b4 -->\n",
       "<g id=\"node5\" class=\"node\">\n",
       "<title>b4</title>\n",
       "<polygon fill=\"none\" stroke=\"black\" points=\"412.5,-36 358.5,-36 358.5,0 412.5,0 412.5,-36\"/>\n",
       "<text text-anchor=\"start\" x=\"367.5\" y=\"-14.3\" font-family=\"Times,serif\" font-size=\"14.00\">XGate</text>\n",
       "</g>\n",
       "<!-- b0&#45;&gt;b4 -->\n",
       "<g id=\"edge4\" class=\"edge\">\n",
       "<title>b0-&gt;b4</title>\n",
       "<path fill=\"none\" stroke=\"black\" d=\"M517.91,-86.8C490.07,-72.55 450.59,-52.33 421.98,-37.68\"/>\n",
       "<polygon fill=\"black\" stroke=\"black\" points=\"423.23,-34.39 412.73,-32.95 420.04,-40.62 423.23,-34.39\"/>\n",
       "<text text-anchor=\"middle\" x=\"482\" y=\"-57.8\" font-family=\"Times,serif\" font-size=\"14.00\">1</text>\n",
       "</g>\n",
       "<!-- b5 -->\n",
       "<g id=\"node6\" class=\"node\">\n",
       "<title>b5</title>\n",
       "<polygon fill=\"none\" stroke=\"black\" points=\"544,-36 431,-36 431,0 544,0 544,-36\"/>\n",
       "<text text-anchor=\"start\" x=\"446\" y=\"-19.8\" font-family=\"Times,serif\" font-size=\"14.00\">BiQubitsMixer</text>\n",
       "<text text-anchor=\"start\" x=\"439\" y=\"-9\" font-family=\"monospace\" font-size=\"10.00\">is_adjoint=False</text>\n",
       "</g>\n",
       "<!-- b0&#45;&gt;b5 -->\n",
       "<g id=\"edge5\" class=\"edge\">\n",
       "<title>b0-&gt;b5</title>\n",
       "<path fill=\"none\" stroke=\"black\" d=\"M538.55,-86.8C529.35,-74.59 516.86,-57.99 506.53,-44.28\"/>\n",
       "<polygon fill=\"black\" stroke=\"black\" points=\"509.24,-42.06 500.43,-36.18 503.65,-46.27 509.24,-42.06\"/>\n",
       "<text text-anchor=\"middle\" x=\"527\" y=\"-57.8\" font-family=\"Times,serif\" font-size=\"14.00\">3</text>\n",
       "</g>\n",
       "<!-- b6 -->\n",
       "<g id=\"node7\" class=\"node\">\n",
       "<title>b6</title>\n",
       "<polygon fill=\"none\" stroke=\"black\" points=\"669,-36 562,-36 562,0 669,0 669,-36\"/>\n",
       "<text text-anchor=\"start\" x=\"574\" y=\"-19.8\" font-family=\"Times,serif\" font-size=\"14.00\">BiQubitsMixer</text>\n",
       "<text text-anchor=\"start\" x=\"570\" y=\"-9\" font-family=\"monospace\" font-size=\"10.00\">is_adjoint=True</text>\n",
       "</g>\n",
       "<!-- b0&#45;&gt;b6 -->\n",
       "<g id=\"edge6\" class=\"edge\">\n",
       "<title>b0-&gt;b6</title>\n",
       "<path fill=\"none\" stroke=\"black\" d=\"M564.45,-86.8C573.65,-74.59 586.14,-57.99 596.47,-44.28\"/>\n",
       "<polygon fill=\"black\" stroke=\"black\" points=\"599.35,-46.27 602.57,-36.18 593.76,-42.06 599.35,-46.27\"/>\n",
       "<text text-anchor=\"middle\" x=\"591\" y=\"-57.8\" font-family=\"Times,serif\" font-size=\"14.00\">3</text>\n",
       "</g>\n",
       "<!-- b7 -->\n",
       "<g id=\"node8\" class=\"node\">\n",
       "<title>b7</title>\n",
       "<polygon fill=\"none\" stroke=\"black\" points=\"819.5,-36 687.5,-36 687.5,0 819.5,0 819.5,-36\"/>\n",
       "<text text-anchor=\"start\" x=\"695.5\" y=\"-19.8\" font-family=\"Times,serif\" font-size=\"14.00\">SingleQubitCompare</text>\n",
       "<text text-anchor=\"start\" x=\"705\" y=\"-9\" font-family=\"monospace\" font-size=\"10.00\">is_adjoint=False</text>\n",
       "</g>\n",
       "<!-- b0&#45;&gt;b7 -->\n",
       "<g id=\"edge7\" class=\"edge\">\n",
       "<title>b0-&gt;b7</title>\n",
       "<path fill=\"none\" stroke=\"black\" d=\"M592.38,-86.8C624.52,-73.27 669.43,-54.38 703.67,-39.97\"/>\n",
       "<polygon fill=\"black\" stroke=\"black\" points=\"705.17,-43.13 713.03,-36.03 702.45,-36.68 705.17,-43.13\"/>\n",
       "<text text-anchor=\"middle\" x=\"669\" y=\"-57.8\" font-family=\"Times,serif\" font-size=\"14.00\">1</text>\n",
       "</g>\n",
       "<!-- b8 -->\n",
       "<g id=\"node9\" class=\"node\">\n",
       "<title>b8</title>\n",
       "<polygon fill=\"none\" stroke=\"black\" points=\"969.5,-36 837.5,-36 837.5,0 969.5,0 969.5,-36\"/>\n",
       "<text text-anchor=\"start\" x=\"845.5\" y=\"-19.8\" font-family=\"Times,serif\" font-size=\"14.00\">SingleQubitCompare</text>\n",
       "<text text-anchor=\"start\" x=\"858\" y=\"-9\" font-family=\"monospace\" font-size=\"10.00\">is_adjoint=True</text>\n",
       "</g>\n",
       "<!-- b0&#45;&gt;b8 -->\n",
       "<g id=\"edge8\" class=\"edge\">\n",
       "<title>b0-&gt;b8</title>\n",
       "<path fill=\"none\" stroke=\"black\" d=\"M622.31,-86.9C681.74,-72.55 766.44,-52.1 827.33,-37.39\"/>\n",
       "<polygon fill=\"black\" stroke=\"black\" points=\"828.37,-40.74 837.27,-34.99 826.73,-33.94 828.37,-40.74\"/>\n",
       "<text text-anchor=\"middle\" x=\"753\" y=\"-57.8\" font-family=\"Times,serif\" font-size=\"14.00\">1</text>\n",
       "</g>\n",
       "<!-- b9 -->\n",
       "<g id=\"node10\" class=\"node\">\n",
       "<title>b9</title>\n",
       "<polygon fill=\"none\" stroke=\"black\" points=\"1179,-36 988,-36 988,0 1179,0 1179,-36\"/>\n",
       "<text text-anchor=\"start\" x=\"1071.5\" y=\"-19.8\" font-family=\"Times,serif\" font-size=\"14.00\">And</text>\n",
       "<text text-anchor=\"start\" x=\"996\" y=\"-9\" font-family=\"monospace\" font-size=\"10.00\">cv1=1, cv2=0, uncompute=False</text>\n",
       "</g>\n",
       "<!-- b0&#45;&gt;b9 -->\n",
       "<g id=\"edge9\" class=\"edge\">\n",
       "<title>b0-&gt;b9</title>\n",
       "<path fill=\"none\" stroke=\"black\" d=\"M632.18,-91.22C715.86,-77.94 850.81,-56.49 978.01,-36.08\"/>\n",
       "<polygon fill=\"black\" stroke=\"black\" points=\"978.61,-39.52 987.93,-34.48 977.5,-32.61 978.61,-39.52\"/>\n",
       "<text text-anchor=\"middle\" x=\"865\" y=\"-57.8\" font-family=\"Times,serif\" font-size=\"14.00\">1</text>\n",
       "</g>\n",
       "<!-- b10 -->\n",
       "<g id=\"node11\" class=\"node\">\n",
       "<title>b10</title>\n",
       "<polygon fill=\"none\" stroke=\"black\" points=\"1382,-36 1197,-36 1197,0 1382,0 1382,-36\"/>\n",
       "<text text-anchor=\"start\" x=\"1274\" y=\"-19.8\" font-family=\"Times,serif\" font-size=\"14.00\">And†</text>\n",
       "<text text-anchor=\"start\" x=\"1205\" y=\"-9\" font-family=\"monospace\" font-size=\"10.00\">cv1=1, cv2=0, uncompute=True</text>\n",
       "</g>\n",
       "<!-- b0&#45;&gt;b10 -->\n",
       "<g id=\"edge10\" class=\"edge\">\n",
       "<title>b0-&gt;b10</title>\n",
       "<path fill=\"none\" stroke=\"black\" d=\"M632,-96.92C750.94,-86.12 980.8,-63.95 1186.87,-36.04\"/>\n",
       "<polygon fill=\"black\" stroke=\"black\" points=\"1187.53,-39.48 1196.97,-34.66 1186.59,-32.55 1187.53,-39.48\"/>\n",
       "<text text-anchor=\"middle\" x=\"1035\" y=\"-57.8\" font-family=\"Times,serif\" font-size=\"14.00\">1</text>\n",
       "</g>\n",
       "</g>\n",
       "</svg>"
      ],
      "text/plain": [
       "<IPython.core.display.SVG object>"
      ]
     },
     "metadata": {},
     "output_type": "display_data"
    },
    {
     "data": {
      "text/markdown": [
       "#### Counts totals:\n",
       " - `Adjoint(subbloq=MultiAnd(n=4))`: 1\n",
       " - `And`: 1\n",
       " - `And†`: 1\n",
       " - `BiQubitsMixer`: 3\n",
       " - `BiQubitsMixer`: 3\n",
       " - `CNOT`: 2\n",
       " - `MultiAnd(n=4)`: 1\n",
       " - `SingleQubitCompare`: 1\n",
       " - `SingleQubitCompare`: 1\n",
       " - `XGate`: 1"
      ],
      "text/plain": [
       "<IPython.core.display.Markdown object>"
      ]
     },
     "metadata": {},
     "output_type": "display_data"
    }
   ],
   "source": [
    "from qualtran.resource_counting.generalizers import ignore_split_join\n",
    "leq_g, leq_sigma = leq.call_graph(max_depth=1, generalizer=ignore_split_join)\n",
    "show_call_graph(leq_g)\n",
    "show_counts_sigma(leq_sigma)"
   ]
  },
  {
   "cell_type": "markdown",
   "id": "27543be2",
   "metadata": {
    "cq.autogen": "CLinearDepthGreaterThan.bloq_doc.md"
   },
   "source": [
    "## `CLinearDepthGreaterThan`\n",
    "Controlled greater than between two integers.\n",
    "\n",
    "Implements $\\ket{c}\\ket{a}\\ket{b}\\ket{t} \\xrightarrow[]{} \\ket{c}\\ket{a}\\ket{b}\\ket{t ⨁ ((a > b)c)}>$\n",
    "using $n+2$ Toffoli gates.\n",
    "\n",
    "Note: the true cost is $n+1$ but an extra Toffoli comes from OutOfPlaceAdder which operates\n",
    "on $n+1$ qubits rather than $n$. Changing the definition of OutOfPlaceAdder will remove this\n",
    "extra Toffoli.\n",
    "\n",
    "This comparator relies on the fact that ~(~b + a) = b - a. If a > b, then b - a < 0. We\n",
    "implement it by flipping all the bits in b, computing the first half of the addition circuit,\n",
    "copying out the carry, and uncomputing the addition circuit.\n",
    "\n",
    "#### Parameters\n",
    " - `dtype`: type of the integer registers.\n",
    " - `cv`: ctrl value at which the bloq is active. \n",
    "\n",
    "#### Registers\n",
    " - `a`: dtype input registers.\n",
    " - `b`: dtype input registers.\n",
    " - `target`: A single bit output register to store the result of a > b. \n",
    "\n",
    "#### References\n",
    " - [Halving the cost of quantum addition](https://arxiv.org/abs/1709.06648). \n",
    " - [Improved quantum circuits for elliptic curve discrete logarithms](https://arxiv.org/abs/2306.08585).     page 7.\n"
   ]
  },
  {
   "cell_type": "code",
   "execution_count": 32,
   "id": "d4533e31",
   "metadata": {
    "cq.autogen": "CLinearDepthGreaterThan.bloq_doc.py"
   },
   "outputs": [],
   "source": [
    "from qualtran.bloqs.arithmetic import CLinearDepthGreaterThan"
   ]
  },
  {
   "cell_type": "markdown",
   "id": "9dcfa76a",
   "metadata": {
    "cq.autogen": "CLinearDepthGreaterThan.example_instances.md"
   },
   "source": [
    "### Example Instances"
   ]
  },
  {
   "cell_type": "code",
   "execution_count": 33,
   "id": "6b7ec12f",
   "metadata": {
    "cq.autogen": "CLinearDepthGreaterThan.clineardepthgreaterthan_example"
   },
   "outputs": [],
   "source": [
    "clineardepthgreaterthan_example = CLinearDepthGreaterThan(QInt(5))"
   ]
  },
  {
   "cell_type": "markdown",
   "id": "70bc70c6",
   "metadata": {
    "cq.autogen": "CLinearDepthGreaterThan.graphical_signature.md"
   },
   "source": [
    "#### Graphical Signature"
   ]
  },
  {
   "cell_type": "code",
   "execution_count": 34,
   "id": "b6bf0dce",
   "metadata": {
    "cq.autogen": "CLinearDepthGreaterThan.graphical_signature.py"
   },
   "outputs": [
    {
     "data": {
      "application/vnd.jupyter.widget-view+json": {
       "model_id": "7179a122b33e464f93c35b35545b263b",
       "version_major": 2,
       "version_minor": 0
      },
      "text/plain": [
       "HBox(children=(Output(outputs=({'output_type': 'display_data', 'data': {'text/plain': '<IPython.core.display.M…"
      ]
     },
     "metadata": {},
     "output_type": "display_data"
    }
   ],
   "source": [
    "from qualtran.drawing import show_bloqs\n",
    "show_bloqs([clineardepthgreaterthan_example],\n",
    "           ['`clineardepthgreaterthan_example`'])"
   ]
  },
  {
   "cell_type": "markdown",
   "id": "9a2d7925",
   "metadata": {
    "cq.autogen": "CLinearDepthGreaterThan.call_graph.md"
   },
   "source": [
    "### Call Graph"
   ]
  },
  {
   "cell_type": "code",
   "execution_count": 35,
   "id": "30e9a77b",
   "metadata": {
    "cq.autogen": "CLinearDepthGreaterThan.call_graph.py"
   },
   "outputs": [
    {
     "data": {
      "image/svg+xml": [
       "<svg xmlns=\"http://www.w3.org/2000/svg\" xmlns:xlink=\"http://www.w3.org/1999/xlink\" width=\"1501pt\" height=\"131pt\" viewBox=\"0.00 0.00 1501.00 131.00\">\n",
       "<g id=\"graph0\" class=\"graph\" transform=\"scale(1 1) rotate(0) translate(4 127)\">\n",
       "<title>counts</title>\n",
       "<polygon fill=\"white\" stroke=\"transparent\" points=\"-4,4 -4,-127 1497,-127 1497,4 -4,4\"/>\n",
       "<!-- b0 -->\n",
       "<g id=\"node1\" class=\"node\">\n",
       "<title>b0</title>\n",
       "<polygon fill=\"none\" stroke=\"black\" points=\"647.5,-123 485.5,-123 485.5,-87 647.5,-87 647.5,-123\"/>\n",
       "<text text-anchor=\"start\" x=\"493.5\" y=\"-106.8\" font-family=\"Times,serif\" font-size=\"14.00\">CLinearDepthGreaterThan</text>\n",
       "<text text-anchor=\"start\" x=\"494\" y=\"-96\" font-family=\"monospace\" font-size=\"10.00\">dtype=QInt(bit ..., cv=1</text>\n",
       "</g>\n",
       "<!-- b1 -->\n",
       "<g id=\"node2\" class=\"node\">\n",
       "<title>b1</title>\n",
       "<polygon fill=\"none\" stroke=\"black\" points=\"125,-36 0,-36 0,0 125,0 125,-36\"/>\n",
       "<text text-anchor=\"start\" x=\"31.5\" y=\"-19.8\" font-family=\"Times,serif\" font-size=\"14.00\">BitwiseNot</text>\n",
       "<text text-anchor=\"start\" x=\"8\" y=\"-9\" font-family=\"monospace\" font-size=\"10.00\">dtype=QInt(bit ...</text>\n",
       "</g>\n",
       "<!-- b0&#45;&gt;b1 -->\n",
       "<g id=\"edge1\" class=\"edge\">\n",
       "<title>b0-&gt;b1</title>\n",
       "<path fill=\"none\" stroke=\"black\" d=\"M485.16,-93.19C400.1,-81.44 262.56,-61.18 135.1,-36.25\"/>\n",
       "<polygon fill=\"black\" stroke=\"black\" points=\"135.65,-32.79 125.16,-34.29 134.3,-39.65 135.65,-32.79\"/>\n",
       "<text text-anchor=\"middle\" x=\"315\" y=\"-57.8\" font-family=\"Times,serif\" font-size=\"14.00\">2</text>\n",
       "</g>\n",
       "<!-- b2 -->\n",
       "<g id=\"node3\" class=\"node\">\n",
       "<title>b2</title>\n",
       "<polygon fill=\"none\" stroke=\"black\" points=\"268,-36 143,-36 143,0 268,0 268,-36\"/>\n",
       "<text text-anchor=\"start\" x=\"174.5\" y=\"-19.8\" font-family=\"Times,serif\" font-size=\"14.00\">BitwiseNot</text>\n",
       "<text text-anchor=\"start\" x=\"151\" y=\"-9\" font-family=\"monospace\" font-size=\"10.00\">dtype=QUInt(bi ...</text>\n",
       "</g>\n",
       "<!-- b0&#45;&gt;b2 -->\n",
       "<g id=\"edge2\" class=\"edge\">\n",
       "<title>b0-&gt;b2</title>\n",
       "<path fill=\"none\" stroke=\"black\" d=\"M493.48,-86.98C437.23,-73.84 357.23,-55.11 278.33,-36.43\"/>\n",
       "<polygon fill=\"black\" stroke=\"black\" points=\"278.75,-32.93 268.22,-34.03 277.14,-39.74 278.75,-32.93\"/>\n",
       "<text text-anchor=\"middle\" x=\"416\" y=\"-57.8\" font-family=\"Times,serif\" font-size=\"14.00\">2</text>\n",
       "</g>\n",
       "<!-- b3 -->\n",
       "<g id=\"node4\" class=\"node\">\n",
       "<title>b3</title>\n",
       "<polygon fill=\"none\" stroke=\"black\" points=\"459,-36 286,-36 286,0 459,0 459,-36\"/>\n",
       "<text text-anchor=\"start\" x=\"323.5\" y=\"-19.8\" font-family=\"Times,serif\" font-size=\"14.00\">OutOfPlaceAdder</text>\n",
       "<text text-anchor=\"start\" x=\"294\" y=\"-9\" font-family=\"monospace\" font-size=\"10.00\">bitsize=6, is_adjoint=True</text>\n",
       "</g>\n",
       "<!-- b0&#45;&gt;b3 -->\n",
       "<g id=\"edge3\" class=\"edge\">\n",
       "<title>b0-&gt;b3</title>\n",
       "<path fill=\"none\" stroke=\"black\" d=\"M527.24,-86.8C496.51,-73.33 453.61,-54.54 420.78,-40.15\"/>\n",
       "<polygon fill=\"black\" stroke=\"black\" points=\"421.93,-36.84 411.37,-36.03 419.12,-43.25 421.93,-36.84\"/>\n",
       "<text text-anchor=\"middle\" x=\"485\" y=\"-57.8\" font-family=\"Times,serif\" font-size=\"14.00\">1</text>\n",
       "</g>\n",
       "<!-- b4 -->\n",
       "<g id=\"node5\" class=\"node\">\n",
       "<title>b4</title>\n",
       "<polygon fill=\"none\" stroke=\"black\" points=\"656,-36 477,-36 477,0 656,0 656,-36\"/>\n",
       "<text text-anchor=\"start\" x=\"517.5\" y=\"-19.8\" font-family=\"Times,serif\" font-size=\"14.00\">OutOfPlaceAdder</text>\n",
       "<text text-anchor=\"start\" x=\"485\" y=\"-9\" font-family=\"monospace\" font-size=\"10.00\">bitsize=6, is_adjoint=False</text>\n",
       "</g>\n",
       "<!-- b0&#45;&gt;b4 -->\n",
       "<g id=\"edge4\" class=\"edge\">\n",
       "<title>b0-&gt;b4</title>\n",
       "<path fill=\"none\" stroke=\"black\" d=\"M566.5,-86.8C566.5,-75.16 566.5,-59.55 566.5,-46.24\"/>\n",
       "<polygon fill=\"black\" stroke=\"black\" points=\"570,-46.18 566.5,-36.18 563,-46.18 570,-46.18\"/>\n",
       "<text text-anchor=\"middle\" x=\"570\" y=\"-57.8\" font-family=\"Times,serif\" font-size=\"14.00\">1</text>\n",
       "</g>\n",
       "<!-- b5 -->\n",
       "<g id=\"node6\" class=\"node\">\n",
       "<title>b5</title>\n",
       "<polygon fill=\"none\" stroke=\"black\" points=\"871,-36 674,-36 674,0 871,0 871,-36\"/>\n",
       "<text text-anchor=\"start\" x=\"758.5\" y=\"-19.8\" font-family=\"Times,serif\" font-size=\"14.00\">CCX</text>\n",
       "<text text-anchor=\"start\" x=\"682\" y=\"-9\" font-family=\"monospace\" font-size=\"10.00\">cvs=(1, 1), target_gate=cirq.X</text>\n",
       "</g>\n",
       "<!-- b0&#45;&gt;b5 -->\n",
       "<g id=\"edge5\" class=\"edge\">\n",
       "<title>b0-&gt;b5</title>\n",
       "<path fill=\"none\" stroke=\"black\" d=\"M608.19,-86.8C640.96,-73.27 686.76,-54.38 721.69,-39.97\"/>\n",
       "<polygon fill=\"black\" stroke=\"black\" points=\"723.32,-43.08 731.23,-36.03 720.65,-36.61 723.32,-43.08\"/>\n",
       "<text text-anchor=\"middle\" x=\"686\" y=\"-57.8\" font-family=\"Times,serif\" font-size=\"14.00\">1</text>\n",
       "</g>\n",
       "<!-- b6 -->\n",
       "<g id=\"node7\" class=\"node\">\n",
       "<title>b6</title>\n",
       "<polygon fill=\"none\" stroke=\"black\" points=\"1182,-36 889,-36 889,0 1182,0 1182,-36\"/>\n",
       "<text text-anchor=\"start\" x=\"1003.5\" y=\"-19.8\" font-family=\"Times,serif\" font-size=\"14.00\">SignExtend</text>\n",
       "<text text-anchor=\"start\" x=\"897\" y=\"-9\" font-family=\"monospace\" font-size=\"10.00\">inp_dtype=QInt(bit ..., out_dtype=QInt(bit ...</text>\n",
       "</g>\n",
       "<!-- b0&#45;&gt;b6 -->\n",
       "<g id=\"edge6\" class=\"edge\">\n",
       "<title>b0-&gt;b6</title>\n",
       "<path fill=\"none\" stroke=\"black\" d=\"M647.66,-89.29C726.34,-75.03 846.04,-53.34 931.64,-37.82\"/>\n",
       "<polygon fill=\"black\" stroke=\"black\" points=\"932.42,-41.24 941.64,-36.01 931.18,-34.35 932.42,-41.24\"/>\n",
       "<text text-anchor=\"middle\" x=\"833\" y=\"-57.8\" font-family=\"Times,serif\" font-size=\"14.00\">2</text>\n",
       "</g>\n",
       "<!-- b7 -->\n",
       "<g id=\"node8\" class=\"node\">\n",
       "<title>b7</title>\n",
       "<polygon fill=\"none\" stroke=\"black\" points=\"1493,-36 1200,-36 1200,0 1493,0 1493,-36\"/>\n",
       "<text text-anchor=\"start\" x=\"1310\" y=\"-19.8\" font-family=\"Times,serif\" font-size=\"14.00\">SignTruncate</text>\n",
       "<text text-anchor=\"start\" x=\"1208\" y=\"-9\" font-family=\"monospace\" font-size=\"10.00\">inp_dtype=QInt(bit ..., out_dtype=QInt(bit ...</text>\n",
       "</g>\n",
       "<!-- b0&#45;&gt;b7 -->\n",
       "<g id=\"edge7\" class=\"edge\">\n",
       "<title>b0-&gt;b7</title>\n",
       "<path fill=\"none\" stroke=\"black\" d=\"M647.9,-95.17C765.21,-82.43 988.89,-58.13 1189.51,-36.22\"/>\n",
       "<polygon fill=\"black\" stroke=\"black\" points=\"1190.09,-39.68 1199.65,-35.11 1189.33,-32.72 1190.09,-39.68\"/>\n",
       "<text text-anchor=\"middle\" x=\"1024\" y=\"-57.8\" font-family=\"Times,serif\" font-size=\"14.00\">2</text>\n",
       "</g>\n",
       "</g>\n",
       "</svg>"
      ],
      "text/plain": [
       "<IPython.core.display.SVG object>"
      ]
     },
     "metadata": {},
     "output_type": "display_data"
    },
    {
     "data": {
      "text/markdown": [
       "#### Counts totals:\n",
       " - `BitwiseNot`: 2\n",
       " - `BitwiseNot`: 2\n",
       " - `CCX`: 1\n",
       " - `OutOfPlaceAdder`: 1\n",
       " - `OutOfPlaceAdder`: 1\n",
       " - `SignExtend`: 2\n",
       " - `SignTruncate`: 2"
      ],
      "text/plain": [
       "<IPython.core.display.Markdown object>"
      ]
     },
     "metadata": {},
     "output_type": "display_data"
    }
   ],
   "source": [
    "from qualtran.resource_counting.generalizers import ignore_split_join\n",
    "clineardepthgreaterthan_example_g, clineardepthgreaterthan_example_sigma = clineardepthgreaterthan_example.call_graph(max_depth=1, generalizer=ignore_split_join)\n",
    "show_call_graph(clineardepthgreaterthan_example_g)\n",
    "show_counts_sigma(clineardepthgreaterthan_example_sigma)"
   ]
  }
 ],
 "metadata": {
  "kernelspec": {
   "display_name": "Python 3 (ipykernel)",
   "language": "python",
   "name": "python3"
  },
  "language_info": {
   "codemirror_mode": {
    "name": "ipython",
    "version": 3
   },
   "file_extension": ".py",
   "mimetype": "text/x-python",
   "name": "python",
   "nbconvert_exporter": "python",
   "pygments_lexer": "ipython3",
   "version": "3.11.8"
  },
  "widgets": {
   "application/vnd.jupyter.widget-state+json": {
    "state": {
     "05c5d8e7e4234f9d890b9a5d4bbab72c": {
      "model_module": "@jupyter-widgets/base",
      "model_module_version": "2.0.0",
      "model_name": "LayoutModel",
      "state": {
       "_model_module": "@jupyter-widgets/base",
       "_model_module_version": "2.0.0",
       "_model_name": "LayoutModel",
       "_view_count": null,
       "_view_module": "@jupyter-widgets/base",
       "_view_module_version": "2.0.0",
       "_view_name": "LayoutView",
       "align_content": null,
       "align_items": null,
       "align_self": null,
       "border_bottom": null,
       "border_left": null,
       "border_right": null,
       "border_top": null,
       "bottom": null,
       "display": null,
       "flex": null,
       "flex_flow": null,
       "grid_area": null,
       "grid_auto_columns": null,
       "grid_auto_flow": null,
       "grid_auto_rows": null,
       "grid_column": null,
       "grid_gap": null,
       "grid_row": null,
       "grid_template_areas": null,
       "grid_template_columns": null,
       "grid_template_rows": null,
       "height": null,
       "justify_content": null,
       "justify_items": null,
       "left": null,
       "margin": null,
       "max_height": null,
       "max_width": null,
       "min_height": null,
       "min_width": null,
       "object_fit": null,
       "object_position": null,
       "order": null,
       "overflow": null,
       "padding": null,
       "right": null,
       "top": null,
       "visibility": null,
       "width": null
      }
     },
     "18391e65c1314085835e1bed80bf587e": {
      "model_module": "@jupyter-widgets/controls",
      "model_module_version": "2.0.0",
      "model_name": "HBoxModel",
      "state": {
       "_dom_classes": [],
       "_model_module": "@jupyter-widgets/controls",
       "_model_module_version": "2.0.0",
       "_model_name": "HBoxModel",
       "_view_count": null,
       "_view_module": "@jupyter-widgets/controls",
       "_view_module_version": "2.0.0",
       "_view_name": "HBoxView",
       "box_style": "",
       "children": [
        "IPY_MODEL_dc0fc72ee20a4a6c803c6b1432b31096"
       ],
       "layout": "IPY_MODEL_6fecc1b70eac4c5e8d01f95d38247f58",
       "tabbable": null,
       "tooltip": null
      }
     },
     "34a09501733a4a31baf4a64270a1614f": {
      "model_module": "@jupyter-widgets/base",
      "model_module_version": "2.0.0",
      "model_name": "LayoutModel",
      "state": {
       "_model_module": "@jupyter-widgets/base",
       "_model_module_version": "2.0.0",
       "_model_name": "LayoutModel",
       "_view_count": null,
       "_view_module": "@jupyter-widgets/base",
       "_view_module_version": "2.0.0",
       "_view_name": "LayoutView",
       "align_content": null,
       "align_items": null,
       "align_self": null,
       "border_bottom": null,
       "border_left": null,
       "border_right": null,
       "border_top": null,
       "bottom": null,
       "display": null,
       "flex": null,
       "flex_flow": null,
       "grid_area": null,
       "grid_auto_columns": null,
       "grid_auto_flow": null,
       "grid_auto_rows": null,
       "grid_column": null,
       "grid_gap": null,
       "grid_row": null,
       "grid_template_areas": null,
       "grid_template_columns": null,
       "grid_template_rows": null,
       "height": null,
       "justify_content": null,
       "justify_items": null,
       "left": null,
       "margin": null,
       "max_height": null,
       "max_width": null,
       "min_height": null,
       "min_width": null,
       "object_fit": null,
       "object_position": null,
       "order": null,
       "overflow": null,
       "padding": null,
       "right": null,
       "top": null,
       "visibility": null,
       "width": null
      }
     },
     "3c0f7e6fb9f341948ab1a5629c607afc": {
      "model_module": "@jupyter-widgets/base",
      "model_module_version": "2.0.0",
      "model_name": "LayoutModel",
      "state": {
       "_model_module": "@jupyter-widgets/base",
       "_model_module_version": "2.0.0",
       "_model_name": "LayoutModel",
       "_view_count": null,
       "_view_module": "@jupyter-widgets/base",
       "_view_module_version": "2.0.0",
       "_view_name": "LayoutView",
       "align_content": null,
       "align_items": null,
       "align_self": null,
       "border_bottom": null,
       "border_left": null,
       "border_right": null,
       "border_top": null,
       "bottom": null,
       "display": null,
       "flex": null,
       "flex_flow": null,
       "grid_area": null,
       "grid_auto_columns": null,
       "grid_auto_flow": null,
       "grid_auto_rows": null,
       "grid_column": null,
       "grid_gap": null,
       "grid_row": null,
       "grid_template_areas": null,
       "grid_template_columns": null,
       "grid_template_rows": null,
       "height": null,
       "justify_content": null,
       "justify_items": null,
       "left": null,
       "margin": null,
       "max_height": null,
       "max_width": null,
       "min_height": null,
       "min_width": null,
       "object_fit": null,
       "object_position": null,
       "order": null,
       "overflow": null,
       "padding": null,
       "right": null,
       "top": null,
       "visibility": null,
       "width": null
      }
     },
     "3dd633812bac47b7a9c5793748b7aaa1": {
      "model_module": "@jupyter-widgets/output",
      "model_module_version": "1.0.0",
      "model_name": "OutputModel",
      "state": {
       "_dom_classes": [],
       "_model_module": "@jupyter-widgets/output",
       "_model_module_version": "1.0.0",
       "_model_name": "OutputModel",
       "_view_count": null,
       "_view_module": "@jupyter-widgets/output",
       "_view_module_version": "1.0.0",
       "_view_name": "OutputView",
       "layout": "IPY_MODEL_da521b31ff32457686ae4190b1c5aeaf",
       "msg_id": "",
       "outputs": [
        {
         "data": {
          "text/markdown": "`eq_k`",
          "text/plain": "<IPython.core.display.Markdown object>"
         },
         "metadata": {},
         "output_type": "display_data"
        },
        {
         "data": {
          "image/svg+xml": "<svg xmlns=\"http://www.w3.org/2000/svg\" xmlns:xlink=\"http://www.w3.org/1999/xlink\" width=\"269pt\" height=\"98pt\" viewBox=\"0.00 0.00 269.00 98.00\">\n<g id=\"graph0\" class=\"graph\" transform=\"scale(1 1) rotate(0) translate(4 94)\">\n<title>my_graph</title>\n<polygon fill=\"white\" stroke=\"transparent\" points=\"-4,4 -4,-94 265,-94 265,4 -4,4\"/>\n<!-- x_G4 -->\n<g id=\"node1\" class=\"node\">\n<title>x_G4</title>\n<text text-anchor=\"middle\" x=\"27\" y=\"-68.3\" font-family=\"Times,serif\" font-size=\"14.00\">x</text>\n</g>\n<!-- EqualsAConstant -->\n<g id=\"node3\" class=\"node\">\n<title>EqualsAConstant</title>\n<polygon fill=\"none\" stroke=\"black\" points=\"91.5,-66 91.5,-83 170.5,-83 170.5,-66 91.5,-66\"/>\n<text text-anchor=\"start\" x=\"94.5\" y=\"-72\" font-family=\"Times,serif\" font-size=\"10.00\">EqualsAConstant</text>\n<polygon fill=\"none\" stroke=\"black\" points=\"91.5,-45 91.5,-66 170.5,-66 170.5,-45 91.5,-45\"/>\n<text text-anchor=\"start\" x=\"127.5\" y=\"-51.8\" font-family=\"Times,serif\" font-size=\"14.00\">x</text>\n<polygon fill=\"none\" stroke=\"black\" points=\"91.5,-24 91.5,-45 170.5,-45 170.5,-24 91.5,-24\"/>\n<text text-anchor=\"start\" x=\"115.5\" y=\"-30.8\" font-family=\"Times,serif\" font-size=\"14.00\">target</text>\n</g>\n<!-- x_G4&#45;&gt;EqualsAConstant -->\n<g id=\"edge1\" class=\"edge\">\n<title>x_G4:e-&gt;EqualsAConstant:w</title>\n<path fill=\"none\" stroke=\"black\" d=\"M54,-72C71.22,-72 72.97,-57.23 88.98,-56.07\"/>\n<ellipse fill=\"black\" stroke=\"black\" cx=\"90\" cy=\"-56.04\" rx=\"1\" ry=\"1\"/>\n<text text-anchor=\"middle\" x=\"72.5\" y=\"-67\" font-family=\"Times,serif\" font-size=\"10.00\">4</text>\n</g>\n<!-- target_G2 -->\n<g id=\"node2\" class=\"node\">\n<title>target_G2</title>\n<text text-anchor=\"middle\" x=\"27\" y=\"-14.3\" font-family=\"Times,serif\" font-size=\"14.00\">target</text>\n</g>\n<!-- target_G2&#45;&gt;EqualsAConstant -->\n<g id=\"edge2\" class=\"edge\">\n<title>target_G2:e-&gt;EqualsAConstant:w</title>\n<path fill=\"none\" stroke=\"black\" d=\"M54,-18C71.22,-18 72.97,-32.77 88.98,-33.93\"/>\n<ellipse fill=\"black\" stroke=\"black\" cx=\"90\" cy=\"-33.96\" rx=\"1\" ry=\"1\"/>\n<text text-anchor=\"middle\" x=\"72.5\" y=\"-29\" font-family=\"Times,serif\" font-size=\"10.00\">1</text>\n</g>\n<!-- x_G3 -->\n<g id=\"node4\" class=\"node\">\n<title>x_G3</title>\n<text text-anchor=\"middle\" x=\"234\" y=\"-68.3\" font-family=\"Times,serif\" font-size=\"14.00\">x</text>\n</g>\n<!-- EqualsAConstant&#45;&gt;x_G3 -->\n<g id=\"edge3\" class=\"edge\">\n<title>EqualsAConstant:e-&gt;x_G3:w</title>\n<path fill=\"none\" stroke=\"black\" d=\"M170,-56C187.22,-56 188.97,-70.77 204.98,-71.93\"/>\n<ellipse fill=\"black\" stroke=\"black\" cx=\"206\" cy=\"-71.96\" rx=\"1\" ry=\"1\"/>\n<text text-anchor=\"middle\" x=\"188.5\" y=\"-67\" font-family=\"Times,serif\" font-size=\"10.00\">4</text>\n</g>\n<!-- target_G5 -->\n<g id=\"node5\" class=\"node\">\n<title>target_G5</title>\n<text text-anchor=\"middle\" x=\"234\" y=\"-14.3\" font-family=\"Times,serif\" font-size=\"14.00\">target</text>\n</g>\n<!-- EqualsAConstant&#45;&gt;target_G5 -->\n<g id=\"edge4\" class=\"edge\">\n<title>EqualsAConstant:e-&gt;target_G5:w</title>\n<path fill=\"none\" stroke=\"black\" d=\"M170,-34C187.22,-34 188.97,-19.23 204.98,-18.07\"/>\n<ellipse fill=\"black\" stroke=\"black\" cx=\"206\" cy=\"-18.04\" rx=\"1\" ry=\"1\"/>\n<text text-anchor=\"middle\" x=\"188.5\" y=\"-29\" font-family=\"Times,serif\" font-size=\"10.00\">1</text>\n</g>\n</g>\n</svg>",
          "text/plain": "<IPython.core.display.SVG object>"
         },
         "metadata": {},
         "output_type": "display_data"
        }
       ],
       "tabbable": null,
       "tooltip": null
      }
     },
     "3faa30b229bf4c3595c25cb1ecdc577d": {
      "model_module": "@jupyter-widgets/controls",
      "model_module_version": "2.0.0",
      "model_name": "HBoxModel",
      "state": {
       "_dom_classes": [],
       "_model_module": "@jupyter-widgets/controls",
       "_model_module_version": "2.0.0",
       "_model_name": "HBoxModel",
       "_view_count": null,
       "_view_module": "@jupyter-widgets/controls",
       "_view_module_version": "2.0.0",
       "_view_name": "HBoxView",
       "box_style": "",
       "children": [
        "IPY_MODEL_d0a2e2ed28104ac3981bc5481a63c148"
       ],
       "layout": "IPY_MODEL_657cd0e9179448e9850c4bb0b31d294a",
       "tabbable": null,
       "tooltip": null
      }
     },
     "43e9d37233eb4232ae3f8437dfebe667": {
      "model_module": "@jupyter-widgets/base",
      "model_module_version": "2.0.0",
      "model_name": "LayoutModel",
      "state": {
       "_model_module": "@jupyter-widgets/base",
       "_model_module_version": "2.0.0",
       "_model_name": "LayoutModel",
       "_view_count": null,
       "_view_module": "@jupyter-widgets/base",
       "_view_module_version": "2.0.0",
       "_view_name": "LayoutView",
       "align_content": null,
       "align_items": null,
       "align_self": null,
       "border_bottom": null,
       "border_left": null,
       "border_right": null,
       "border_top": null,
       "bottom": null,
       "display": null,
       "flex": null,
       "flex_flow": null,
       "grid_area": null,
       "grid_auto_columns": null,
       "grid_auto_flow": null,
       "grid_auto_rows": null,
       "grid_column": null,
       "grid_gap": null,
       "grid_row": null,
       "grid_template_areas": null,
       "grid_template_columns": null,
       "grid_template_rows": null,
       "height": null,
       "justify_content": null,
       "justify_items": null,
       "left": null,
       "margin": null,
       "max_height": null,
       "max_width": null,
       "min_height": null,
       "min_width": null,
       "object_fit": null,
       "object_position": null,
       "order": null,
       "overflow": null,
       "padding": null,
       "right": null,
       "top": null,
       "visibility": null,
       "width": null
      }
     },
     "4816c2f6b71643b3b4e48be7c1684248": {
      "model_module": "@jupyter-widgets/base",
      "model_module_version": "2.0.0",
      "model_name": "LayoutModel",
      "state": {
       "_model_module": "@jupyter-widgets/base",
       "_model_module_version": "2.0.0",
       "_model_name": "LayoutModel",
       "_view_count": null,
       "_view_module": "@jupyter-widgets/base",
       "_view_module_version": "2.0.0",
       "_view_name": "LayoutView",
       "align_content": null,
       "align_items": null,
       "align_self": null,
       "border_bottom": null,
       "border_left": null,
       "border_right": null,
       "border_top": null,
       "bottom": null,
       "display": null,
       "flex": null,
       "flex_flow": null,
       "grid_area": null,
       "grid_auto_columns": null,
       "grid_auto_flow": null,
       "grid_auto_rows": null,
       "grid_column": null,
       "grid_gap": null,
       "grid_row": null,
       "grid_template_areas": null,
       "grid_template_columns": null,
       "grid_template_rows": null,
       "height": null,
       "justify_content": null,
       "justify_items": null,
       "left": null,
       "margin": null,
       "max_height": null,
       "max_width": null,
       "min_height": null,
       "min_width": null,
       "object_fit": null,
       "object_position": null,
       "order": null,
       "overflow": null,
       "padding": null,
       "right": null,
       "top": null,
       "visibility": null,
       "width": null
      }
     },
     "54fed81d8fff4dda8e8323a2c7f6ff9c": {
      "model_module": "@jupyter-widgets/output",
      "model_module_version": "1.0.0",
      "model_name": "OutputModel",
      "state": {
       "_dom_classes": [],
       "_model_module": "@jupyter-widgets/output",
       "_model_module_version": "1.0.0",
       "_model_name": "OutputModel",
       "_view_count": null,
       "_view_module": "@jupyter-widgets/output",
       "_view_module_version": "1.0.0",
       "_view_name": "OutputView",
       "layout": "IPY_MODEL_71b1599f3eeb463f8f8bd008fe9b2a04",
       "msg_id": "",
       "outputs": [
        {
         "data": {
          "text/markdown": "`leq_symb`",
          "text/plain": "<IPython.core.display.Markdown object>"
         },
         "metadata": {},
         "output_type": "display_data"
        },
        {
         "data": {
          "image/svg+xml": "<svg xmlns=\"http://www.w3.org/2000/svg\" xmlns:xlink=\"http://www.w3.org/1999/xlink\" width=\"260pt\" height=\"152pt\" viewBox=\"0.00 0.00 260.00 152.00\">\n<g id=\"graph0\" class=\"graph\" transform=\"scale(1 1) rotate(0) translate(4 148)\">\n<title>my_graph</title>\n<polygon fill=\"white\" stroke=\"transparent\" points=\"-4,4 -4,-148 256,-148 256,4 -4,4\"/>\n<!-- x_G8 -->\n<g id=\"node1\" class=\"node\">\n<title>x_G8</title>\n<text text-anchor=\"middle\" x=\"27\" y=\"-122.3\" font-family=\"Times,serif\" font-size=\"14.00\">x</text>\n</g>\n<!-- LessThanEqual -->\n<g id=\"node4\" class=\"node\">\n<title>LessThanEqual</title>\n<polygon fill=\"none\" stroke=\"black\" points=\"91,-104 91,-121 161,-121 161,-104 91,-104\"/>\n<text text-anchor=\"start\" x=\"94\" y=\"-110\" font-family=\"Times,serif\" font-size=\"10.00\">LessThanEqual</text>\n<polygon fill=\"none\" stroke=\"black\" points=\"91,-83 91,-104 161,-104 161,-83 91,-83\"/>\n<text text-anchor=\"start\" x=\"122.5\" y=\"-89.8\" font-family=\"Times,serif\" font-size=\"14.00\">x</text>\n<polygon fill=\"none\" stroke=\"black\" points=\"91,-62 91,-83 161,-83 161,-62 91,-62\"/>\n<text text-anchor=\"start\" x=\"122.5\" y=\"-68.8\" font-family=\"Times,serif\" font-size=\"14.00\">y</text>\n<polygon fill=\"none\" stroke=\"black\" points=\"91,-41 91,-62 161,-62 161,-41 91,-41\"/>\n<text text-anchor=\"start\" x=\"110.5\" y=\"-47.8\" font-family=\"Times,serif\" font-size=\"14.00\">target</text>\n</g>\n<!-- x_G8&#45;&gt;LessThanEqual -->\n<g id=\"edge1\" class=\"edge\">\n<title>x_G8:e-&gt;LessThanEqual:w</title>\n<path fill=\"none\" stroke=\"black\" d=\"M54,-126C74.89,-126 69.72,-96.45 88.58,-94.14\"/>\n<ellipse fill=\"black\" stroke=\"black\" cx=\"90\" cy=\"-94.06\" rx=\"1\" ry=\"1\"/>\n<text text-anchor=\"middle\" x=\"72.5\" y=\"-113\" font-family=\"Times,serif\" font-size=\"10.00\">n1</text>\n</g>\n<!-- y_G3 -->\n<g id=\"node2\" class=\"node\">\n<title>y_G3</title>\n<text text-anchor=\"middle\" x=\"27\" y=\"-68.3\" font-family=\"Times,serif\" font-size=\"14.00\">y</text>\n</g>\n<!-- y_G3&#45;&gt;LessThanEqual -->\n<g id=\"edge2\" class=\"edge\">\n<title>y_G3:e-&gt;LessThanEqual:w</title>\n<path fill=\"none\" stroke=\"black\" d=\"M54,-72C69.67,-72 74.14,-72 88.77,-72\"/>\n<ellipse fill=\"black\" stroke=\"black\" cx=\"90\" cy=\"-72\" rx=\"1\" ry=\"1\"/>\n<text text-anchor=\"middle\" x=\"72.5\" y=\"-75\" font-family=\"Times,serif\" font-size=\"10.00\">n2</text>\n</g>\n<!-- target_G4 -->\n<g id=\"node3\" class=\"node\">\n<title>target_G4</title>\n<text text-anchor=\"middle\" x=\"27\" y=\"-14.3\" font-family=\"Times,serif\" font-size=\"14.00\">target</text>\n</g>\n<!-- target_G4&#45;&gt;LessThanEqual -->\n<g id=\"edge3\" class=\"edge\">\n<title>target_G4:e-&gt;LessThanEqual:w</title>\n<path fill=\"none\" stroke=\"black\" d=\"M54,-18C75.17,-18 69.47,-48.47 88.55,-50.85\"/>\n<ellipse fill=\"black\" stroke=\"black\" cx=\"90\" cy=\"-50.94\" rx=\"1\" ry=\"1\"/>\n<text text-anchor=\"middle\" x=\"72.5\" y=\"-39\" font-family=\"Times,serif\" font-size=\"10.00\">1</text>\n</g>\n<!-- x_G7 -->\n<g id=\"node5\" class=\"node\">\n<title>x_G7</title>\n<text text-anchor=\"middle\" x=\"225\" y=\"-122.3\" font-family=\"Times,serif\" font-size=\"14.00\">x</text>\n</g>\n<!-- LessThanEqual&#45;&gt;x_G7 -->\n<g id=\"edge4\" class=\"edge\">\n<title>LessThanEqual:e-&gt;x_G7:w</title>\n<path fill=\"none\" stroke=\"black\" d=\"M161,-94C181.89,-94 176.72,-123.55 195.58,-125.86\"/>\n<ellipse fill=\"black\" stroke=\"black\" cx=\"197\" cy=\"-125.94\" rx=\"1\" ry=\"1\"/>\n<text text-anchor=\"middle\" x=\"179.5\" y=\"-113\" font-family=\"Times,serif\" font-size=\"10.00\">n1</text>\n</g>\n<!-- y_G2 -->\n<g id=\"node6\" class=\"node\">\n<title>y_G2</title>\n<text text-anchor=\"middle\" x=\"225\" y=\"-68.3\" font-family=\"Times,serif\" font-size=\"14.00\">y</text>\n</g>\n<!-- LessThanEqual&#45;&gt;y_G2 -->\n<g id=\"edge5\" class=\"edge\">\n<title>LessThanEqual:e-&gt;y_G2:w</title>\n<path fill=\"none\" stroke=\"black\" d=\"M161,-72C176.67,-72 181.14,-72 195.77,-72\"/>\n<ellipse fill=\"black\" stroke=\"black\" cx=\"197\" cy=\"-72\" rx=\"1\" ry=\"1\"/>\n<text text-anchor=\"middle\" x=\"179.5\" y=\"-75\" font-family=\"Times,serif\" font-size=\"10.00\">n2</text>\n</g>\n<!-- target_G0 -->\n<g id=\"node7\" class=\"node\">\n<title>target_G0</title>\n<text text-anchor=\"middle\" x=\"225\" y=\"-14.3\" font-family=\"Times,serif\" font-size=\"14.00\">target</text>\n</g>\n<!-- LessThanEqual&#45;&gt;target_G0 -->\n<g id=\"edge6\" class=\"edge\">\n<title>LessThanEqual:e-&gt;target_G0:w</title>\n<path fill=\"none\" stroke=\"black\" d=\"M161,-51C182.17,-51 176.47,-20.53 195.55,-18.15\"/>\n<ellipse fill=\"black\" stroke=\"black\" cx=\"197\" cy=\"-18.06\" rx=\"1\" ry=\"1\"/>\n<text text-anchor=\"middle\" x=\"179.5\" y=\"-39\" font-family=\"Times,serif\" font-size=\"10.00\">1</text>\n</g>\n</g>\n</svg>",
          "text/plain": "<IPython.core.display.SVG object>"
         },
         "metadata": {},
         "output_type": "display_data"
        }
       ],
       "tabbable": null,
       "tooltip": null
      }
     },
     "5595620009ca458a9880aad71094d221": {
      "model_module": "@jupyter-widgets/controls",
      "model_module_version": "2.0.0",
      "model_name": "HBoxModel",
      "state": {
       "_dom_classes": [],
       "_model_module": "@jupyter-widgets/controls",
       "_model_module_version": "2.0.0",
       "_model_name": "HBoxModel",
       "_view_count": null,
       "_view_module": "@jupyter-widgets/controls",
       "_view_module_version": "2.0.0",
       "_view_name": "HBoxView",
       "box_style": "",
       "children": [
        "IPY_MODEL_66a808742e0e4ead8f71d26078a26189"
       ],
       "layout": "IPY_MODEL_4816c2f6b71643b3b4e48be7c1684248",
       "tabbable": null,
       "tooltip": null
      }
     },
     "5aab354a87ad45c98d2ac1bac0297764": {
      "model_module": "@jupyter-widgets/base",
      "model_module_version": "2.0.0",
      "model_name": "LayoutModel",
      "state": {
       "_model_module": "@jupyter-widgets/base",
       "_model_module_version": "2.0.0",
       "_model_name": "LayoutModel",
       "_view_count": null,
       "_view_module": "@jupyter-widgets/base",
       "_view_module_version": "2.0.0",
       "_view_name": "LayoutView",
       "align_content": null,
       "align_items": null,
       "align_self": null,
       "border_bottom": null,
       "border_left": null,
       "border_right": null,
       "border_top": null,
       "bottom": null,
       "display": null,
       "flex": null,
       "flex_flow": null,
       "grid_area": null,
       "grid_auto_columns": null,
       "grid_auto_flow": null,
       "grid_auto_rows": null,
       "grid_column": null,
       "grid_gap": null,
       "grid_row": null,
       "grid_template_areas": null,
       "grid_template_columns": null,
       "grid_template_rows": null,
       "height": null,
       "justify_content": null,
       "justify_items": null,
       "left": null,
       "margin": null,
       "max_height": null,
       "max_width": null,
       "min_height": null,
       "min_width": null,
       "object_fit": null,
       "object_position": null,
       "order": null,
       "overflow": null,
       "padding": null,
       "right": null,
       "top": null,
       "visibility": null,
       "width": null
      }
     },
     "657cd0e9179448e9850c4bb0b31d294a": {
      "model_module": "@jupyter-widgets/base",
      "model_module_version": "2.0.0",
      "model_name": "LayoutModel",
      "state": {
       "_model_module": "@jupyter-widgets/base",
       "_model_module_version": "2.0.0",
       "_model_name": "LayoutModel",
       "_view_count": null,
       "_view_module": "@jupyter-widgets/base",
       "_view_module_version": "2.0.0",
       "_view_name": "LayoutView",
       "align_content": null,
       "align_items": null,
       "align_self": null,
       "border_bottom": null,
       "border_left": null,
       "border_right": null,
       "border_top": null,
       "bottom": null,
       "display": null,
       "flex": null,
       "flex_flow": null,
       "grid_area": null,
       "grid_auto_columns": null,
       "grid_auto_flow": null,
       "grid_auto_rows": null,
       "grid_column": null,
       "grid_gap": null,
       "grid_row": null,
       "grid_template_areas": null,
       "grid_template_columns": null,
       "grid_template_rows": null,
       "height": null,
       "justify_content": null,
       "justify_items": null,
       "left": null,
       "margin": null,
       "max_height": null,
       "max_width": null,
       "min_height": null,
       "min_width": null,
       "object_fit": null,
       "object_position": null,
       "order": null,
       "overflow": null,
       "padding": null,
       "right": null,
       "top": null,
       "visibility": null,
       "width": null
      }
     },
     "66a808742e0e4ead8f71d26078a26189": {
      "model_module": "@jupyter-widgets/output",
      "model_module_version": "1.0.0",
      "model_name": "OutputModel",
      "state": {
       "_dom_classes": [],
       "_model_module": "@jupyter-widgets/output",
       "_model_module_version": "1.0.0",
       "_model_name": "OutputModel",
       "_view_count": null,
       "_view_module": "@jupyter-widgets/output",
       "_view_module_version": "1.0.0",
       "_view_name": "OutputView",
       "layout": "IPY_MODEL_3c0f7e6fb9f341948ab1a5629c607afc",
       "msg_id": "",
       "outputs": [
        {
         "data": {
          "text/markdown": "`greater_than`",
          "text/plain": "<IPython.core.display.Markdown object>"
         },
         "metadata": {},
         "output_type": "display_data"
        },
        {
         "data": {
          "image/svg+xml": "<svg xmlns=\"http://www.w3.org/2000/svg\" xmlns:xlink=\"http://www.w3.org/1999/xlink\" width=\"248pt\" height=\"152pt\" viewBox=\"0.00 0.00 248.00 152.00\">\n<g id=\"graph0\" class=\"graph\" transform=\"scale(1 1) rotate(0) translate(4 148)\">\n<title>my_graph</title>\n<polygon fill=\"white\" stroke=\"transparent\" points=\"-4,4 -4,-148 244,-148 244,4 -4,4\"/>\n<!-- a_G4 -->\n<g id=\"node1\" class=\"node\">\n<title>a_G4</title>\n<text text-anchor=\"middle\" x=\"27\" y=\"-122.3\" font-family=\"Times,serif\" font-size=\"14.00\">a</text>\n</g>\n<!-- GreaterThan -->\n<g id=\"node4\" class=\"node\">\n<title>GreaterThan</title>\n<polygon fill=\"none\" stroke=\"black\" points=\"91,-104 91,-121 149,-121 149,-104 91,-104\"/>\n<text text-anchor=\"start\" x=\"94\" y=\"-110\" font-family=\"Times,serif\" font-size=\"10.00\">GreaterThan</text>\n<polygon fill=\"none\" stroke=\"black\" points=\"91,-83 91,-104 149,-104 149,-83 91,-83\"/>\n<text text-anchor=\"start\" x=\"116.5\" y=\"-89.8\" font-family=\"Times,serif\" font-size=\"14.00\">a</text>\n<polygon fill=\"none\" stroke=\"black\" points=\"91,-62 91,-83 149,-83 149,-62 91,-62\"/>\n<text text-anchor=\"start\" x=\"116.5\" y=\"-68.8\" font-family=\"Times,serif\" font-size=\"14.00\">b</text>\n<polygon fill=\"none\" stroke=\"black\" points=\"91,-41 91,-62 149,-62 149,-41 91,-41\"/>\n<text text-anchor=\"start\" x=\"104.5\" y=\"-47.8\" font-family=\"Times,serif\" font-size=\"14.00\">target</text>\n</g>\n<!-- a_G4&#45;&gt;GreaterThan -->\n<g id=\"edge1\" class=\"edge\">\n<title>a_G4:e-&gt;GreaterThan:w</title>\n<path fill=\"none\" stroke=\"black\" d=\"M54,-126C74.89,-126 69.72,-96.45 88.58,-94.14\"/>\n<ellipse fill=\"black\" stroke=\"black\" cx=\"90\" cy=\"-94.06\" rx=\"1\" ry=\"1\"/>\n<text text-anchor=\"middle\" x=\"72.5\" y=\"-113\" font-family=\"Times,serif\" font-size=\"10.00\">4</text>\n</g>\n<!-- b_G5 -->\n<g id=\"node2\" class=\"node\">\n<title>b_G5</title>\n<text text-anchor=\"middle\" x=\"27\" y=\"-68.3\" font-family=\"Times,serif\" font-size=\"14.00\">b</text>\n</g>\n<!-- b_G5&#45;&gt;GreaterThan -->\n<g id=\"edge2\" class=\"edge\">\n<title>b_G5:e-&gt;GreaterThan:w</title>\n<path fill=\"none\" stroke=\"black\" d=\"M54,-72C69.67,-72 74.14,-72 88.77,-72\"/>\n<ellipse fill=\"black\" stroke=\"black\" cx=\"90\" cy=\"-72\" rx=\"1\" ry=\"1\"/>\n<text text-anchor=\"middle\" x=\"72.5\" y=\"-75\" font-family=\"Times,serif\" font-size=\"10.00\">4</text>\n</g>\n<!-- target_G7 -->\n<g id=\"node3\" class=\"node\">\n<title>target_G7</title>\n<text text-anchor=\"middle\" x=\"27\" y=\"-14.3\" font-family=\"Times,serif\" font-size=\"14.00\">target</text>\n</g>\n<!-- target_G7&#45;&gt;GreaterThan -->\n<g id=\"edge3\" class=\"edge\">\n<title>target_G7:e-&gt;GreaterThan:w</title>\n<path fill=\"none\" stroke=\"black\" d=\"M54,-18C75.17,-18 69.47,-48.47 88.55,-50.85\"/>\n<ellipse fill=\"black\" stroke=\"black\" cx=\"90\" cy=\"-50.94\" rx=\"1\" ry=\"1\"/>\n<text text-anchor=\"middle\" x=\"72.5\" y=\"-39\" font-family=\"Times,serif\" font-size=\"10.00\">1</text>\n</g>\n<!-- a_G2 -->\n<g id=\"node5\" class=\"node\">\n<title>a_G2</title>\n<text text-anchor=\"middle\" x=\"213\" y=\"-122.3\" font-family=\"Times,serif\" font-size=\"14.00\">a</text>\n</g>\n<!-- GreaterThan&#45;&gt;a_G2 -->\n<g id=\"edge4\" class=\"edge\">\n<title>GreaterThan:e-&gt;a_G2:w</title>\n<path fill=\"none\" stroke=\"black\" d=\"M149,-94C169.89,-94 164.72,-123.55 183.58,-125.86\"/>\n<ellipse fill=\"black\" stroke=\"black\" cx=\"185\" cy=\"-125.94\" rx=\"1\" ry=\"1\"/>\n<text text-anchor=\"middle\" x=\"167.5\" y=\"-113\" font-family=\"Times,serif\" font-size=\"10.00\">4</text>\n</g>\n<!-- b_G1 -->\n<g id=\"node6\" class=\"node\">\n<title>b_G1</title>\n<text text-anchor=\"middle\" x=\"213\" y=\"-68.3\" font-family=\"Times,serif\" font-size=\"14.00\">b</text>\n</g>\n<!-- GreaterThan&#45;&gt;b_G1 -->\n<g id=\"edge5\" class=\"edge\">\n<title>GreaterThan:e-&gt;b_G1:w</title>\n<path fill=\"none\" stroke=\"black\" d=\"M149,-72C164.67,-72 169.14,-72 183.77,-72\"/>\n<ellipse fill=\"black\" stroke=\"black\" cx=\"185\" cy=\"-72\" rx=\"1\" ry=\"1\"/>\n<text text-anchor=\"middle\" x=\"167.5\" y=\"-75\" font-family=\"Times,serif\" font-size=\"10.00\">4</text>\n</g>\n<!-- target_G3 -->\n<g id=\"node7\" class=\"node\">\n<title>target_G3</title>\n<text text-anchor=\"middle\" x=\"213\" y=\"-14.3\" font-family=\"Times,serif\" font-size=\"14.00\">target</text>\n</g>\n<!-- GreaterThan&#45;&gt;target_G3 -->\n<g id=\"edge6\" class=\"edge\">\n<title>GreaterThan:e-&gt;target_G3:w</title>\n<path fill=\"none\" stroke=\"black\" d=\"M149,-51C170.17,-51 164.47,-20.53 183.55,-18.15\"/>\n<ellipse fill=\"black\" stroke=\"black\" cx=\"185\" cy=\"-18.06\" rx=\"1\" ry=\"1\"/>\n<text text-anchor=\"middle\" x=\"167.5\" y=\"-39\" font-family=\"Times,serif\" font-size=\"10.00\">1</text>\n</g>\n</g>\n</svg>",
          "text/plain": "<IPython.core.display.SVG object>"
         },
         "metadata": {},
         "output_type": "display_data"
        }
       ],
       "tabbable": null,
       "tooltip": null
      }
     },
     "68d338e4f9954f4ea8c98c9fd7a907b4": {
      "model_module": "@jupyter-widgets/output",
      "model_module_version": "1.0.0",
      "model_name": "OutputModel",
      "state": {
       "_dom_classes": [],
       "_model_module": "@jupyter-widgets/output",
       "_model_module_version": "1.0.0",
       "_model_name": "OutputModel",
       "_view_count": null,
       "_view_module": "@jupyter-widgets/output",
       "_view_module_version": "1.0.0",
       "_view_name": "OutputView",
       "layout": "IPY_MODEL_befaf24d679749e8b7ef2be82d3e222f",
       "msg_id": "",
       "outputs": [
        {
         "data": {
          "text/markdown": "`leq`",
          "text/plain": "<IPython.core.display.Markdown object>"
         },
         "metadata": {},
         "output_type": "display_data"
        },
        {
         "data": {
          "image/svg+xml": "<svg xmlns=\"http://www.w3.org/2000/svg\" xmlns:xlink=\"http://www.w3.org/1999/xlink\" width=\"260pt\" height=\"152pt\" viewBox=\"0.00 0.00 260.00 152.00\">\n<g id=\"graph0\" class=\"graph\" transform=\"scale(1 1) rotate(0) translate(4 148)\">\n<title>my_graph</title>\n<polygon fill=\"white\" stroke=\"transparent\" points=\"-4,4 -4,-148 256,-148 256,4 -4,4\"/>\n<!-- x_G8 -->\n<g id=\"node1\" class=\"node\">\n<title>x_G8</title>\n<text text-anchor=\"middle\" x=\"27\" y=\"-122.3\" font-family=\"Times,serif\" font-size=\"14.00\">x</text>\n</g>\n<!-- LessThanEqual -->\n<g id=\"node4\" class=\"node\">\n<title>LessThanEqual</title>\n<polygon fill=\"none\" stroke=\"black\" points=\"91,-104 91,-121 161,-121 161,-104 91,-104\"/>\n<text text-anchor=\"start\" x=\"94\" y=\"-110\" font-family=\"Times,serif\" font-size=\"10.00\">LessThanEqual</text>\n<polygon fill=\"none\" stroke=\"black\" points=\"91,-83 91,-104 161,-104 161,-83 91,-83\"/>\n<text text-anchor=\"start\" x=\"122.5\" y=\"-89.8\" font-family=\"Times,serif\" font-size=\"14.00\">x</text>\n<polygon fill=\"none\" stroke=\"black\" points=\"91,-62 91,-83 161,-83 161,-62 91,-62\"/>\n<text text-anchor=\"start\" x=\"122.5\" y=\"-68.8\" font-family=\"Times,serif\" font-size=\"14.00\">y</text>\n<polygon fill=\"none\" stroke=\"black\" points=\"91,-41 91,-62 161,-62 161,-41 91,-41\"/>\n<text text-anchor=\"start\" x=\"110.5\" y=\"-47.8\" font-family=\"Times,serif\" font-size=\"14.00\">target</text>\n</g>\n<!-- x_G8&#45;&gt;LessThanEqual -->\n<g id=\"edge1\" class=\"edge\">\n<title>x_G8:e-&gt;LessThanEqual:w</title>\n<path fill=\"none\" stroke=\"black\" d=\"M54,-126C74.89,-126 69.72,-96.45 88.58,-94.14\"/>\n<ellipse fill=\"black\" stroke=\"black\" cx=\"90\" cy=\"-94.06\" rx=\"1\" ry=\"1\"/>\n<text text-anchor=\"middle\" x=\"72.5\" y=\"-113\" font-family=\"Times,serif\" font-size=\"10.00\">4</text>\n</g>\n<!-- y_G7 -->\n<g id=\"node2\" class=\"node\">\n<title>y_G7</title>\n<text text-anchor=\"middle\" x=\"27\" y=\"-68.3\" font-family=\"Times,serif\" font-size=\"14.00\">y</text>\n</g>\n<!-- y_G7&#45;&gt;LessThanEqual -->\n<g id=\"edge2\" class=\"edge\">\n<title>y_G7:e-&gt;LessThanEqual:w</title>\n<path fill=\"none\" stroke=\"black\" d=\"M54,-72C69.67,-72 74.14,-72 88.77,-72\"/>\n<ellipse fill=\"black\" stroke=\"black\" cx=\"90\" cy=\"-72\" rx=\"1\" ry=\"1\"/>\n<text text-anchor=\"middle\" x=\"72.5\" y=\"-75\" font-family=\"Times,serif\" font-size=\"10.00\">8</text>\n</g>\n<!-- target_G0 -->\n<g id=\"node3\" class=\"node\">\n<title>target_G0</title>\n<text text-anchor=\"middle\" x=\"27\" y=\"-14.3\" font-family=\"Times,serif\" font-size=\"14.00\">target</text>\n</g>\n<!-- target_G0&#45;&gt;LessThanEqual -->\n<g id=\"edge3\" class=\"edge\">\n<title>target_G0:e-&gt;LessThanEqual:w</title>\n<path fill=\"none\" stroke=\"black\" d=\"M54,-18C75.17,-18 69.47,-48.47 88.55,-50.85\"/>\n<ellipse fill=\"black\" stroke=\"black\" cx=\"90\" cy=\"-50.94\" rx=\"1\" ry=\"1\"/>\n<text text-anchor=\"middle\" x=\"72.5\" y=\"-39\" font-family=\"Times,serif\" font-size=\"10.00\">1</text>\n</g>\n<!-- x_G2 -->\n<g id=\"node5\" class=\"node\">\n<title>x_G2</title>\n<text text-anchor=\"middle\" x=\"225\" y=\"-122.3\" font-family=\"Times,serif\" font-size=\"14.00\">x</text>\n</g>\n<!-- LessThanEqual&#45;&gt;x_G2 -->\n<g id=\"edge4\" class=\"edge\">\n<title>LessThanEqual:e-&gt;x_G2:w</title>\n<path fill=\"none\" stroke=\"black\" d=\"M161,-94C181.89,-94 176.72,-123.55 195.58,-125.86\"/>\n<ellipse fill=\"black\" stroke=\"black\" cx=\"197\" cy=\"-125.94\" rx=\"1\" ry=\"1\"/>\n<text text-anchor=\"middle\" x=\"179.5\" y=\"-113\" font-family=\"Times,serif\" font-size=\"10.00\">4</text>\n</g>\n<!-- y_G1 -->\n<g id=\"node6\" class=\"node\">\n<title>y_G1</title>\n<text text-anchor=\"middle\" x=\"225\" y=\"-68.3\" font-family=\"Times,serif\" font-size=\"14.00\">y</text>\n</g>\n<!-- LessThanEqual&#45;&gt;y_G1 -->\n<g id=\"edge5\" class=\"edge\">\n<title>LessThanEqual:e-&gt;y_G1:w</title>\n<path fill=\"none\" stroke=\"black\" d=\"M161,-72C176.67,-72 181.14,-72 195.77,-72\"/>\n<ellipse fill=\"black\" stroke=\"black\" cx=\"197\" cy=\"-72\" rx=\"1\" ry=\"1\"/>\n<text text-anchor=\"middle\" x=\"179.5\" y=\"-75\" font-family=\"Times,serif\" font-size=\"10.00\">8</text>\n</g>\n<!-- target_G5 -->\n<g id=\"node7\" class=\"node\">\n<title>target_G5</title>\n<text text-anchor=\"middle\" x=\"225\" y=\"-14.3\" font-family=\"Times,serif\" font-size=\"14.00\">target</text>\n</g>\n<!-- LessThanEqual&#45;&gt;target_G5 -->\n<g id=\"edge6\" class=\"edge\">\n<title>LessThanEqual:e-&gt;target_G5:w</title>\n<path fill=\"none\" stroke=\"black\" d=\"M161,-51C182.17,-51 176.47,-20.53 195.55,-18.15\"/>\n<ellipse fill=\"black\" stroke=\"black\" cx=\"197\" cy=\"-18.06\" rx=\"1\" ry=\"1\"/>\n<text text-anchor=\"middle\" x=\"179.5\" y=\"-39\" font-family=\"Times,serif\" font-size=\"10.00\">1</text>\n</g>\n</g>\n</svg>",
          "text/plain": "<IPython.core.display.SVG object>"
         },
         "metadata": {},
         "output_type": "display_data"
        }
       ],
       "tabbable": null,
       "tooltip": null
      }
     },
     "6fecc1b70eac4c5e8d01f95d38247f58": {
      "model_module": "@jupyter-widgets/base",
      "model_module_version": "2.0.0",
      "model_name": "LayoutModel",
      "state": {
       "_model_module": "@jupyter-widgets/base",
       "_model_module_version": "2.0.0",
       "_model_name": "LayoutModel",
       "_view_count": null,
       "_view_module": "@jupyter-widgets/base",
       "_view_module_version": "2.0.0",
       "_view_name": "LayoutView",
       "align_content": null,
       "align_items": null,
       "align_self": null,
       "border_bottom": null,
       "border_left": null,
       "border_right": null,
       "border_top": null,
       "bottom": null,
       "display": null,
       "flex": null,
       "flex_flow": null,
       "grid_area": null,
       "grid_auto_columns": null,
       "grid_auto_flow": null,
       "grid_auto_rows": null,
       "grid_column": null,
       "grid_gap": null,
       "grid_row": null,
       "grid_template_areas": null,
       "grid_template_columns": null,
       "grid_template_rows": null,
       "height": null,
       "justify_content": null,
       "justify_items": null,
       "left": null,
       "margin": null,
       "max_height": null,
       "max_width": null,
       "min_height": null,
       "min_width": null,
       "object_fit": null,
       "object_position": null,
       "order": null,
       "overflow": null,
       "padding": null,
       "right": null,
       "top": null,
       "visibility": null,
       "width": null
      }
     },
     "7179a122b33e464f93c35b35545b263b": {
      "model_module": "@jupyter-widgets/controls",
      "model_module_version": "2.0.0",
      "model_name": "HBoxModel",
      "state": {
       "_dom_classes": [],
       "_model_module": "@jupyter-widgets/controls",
       "_model_module_version": "2.0.0",
       "_model_name": "HBoxModel",
       "_view_count": null,
       "_view_module": "@jupyter-widgets/controls",
       "_view_module_version": "2.0.0",
       "_view_name": "HBoxView",
       "box_style": "",
       "children": [
        "IPY_MODEL_a699d76d45fc40abb4f4aa237e2f127b"
       ],
       "layout": "IPY_MODEL_05c5d8e7e4234f9d890b9a5d4bbab72c",
       "tabbable": null,
       "tooltip": null
      }
     },
     "71b1599f3eeb463f8f8bd008fe9b2a04": {
      "model_module": "@jupyter-widgets/base",
      "model_module_version": "2.0.0",
      "model_name": "LayoutModel",
      "state": {
       "_model_module": "@jupyter-widgets/base",
       "_model_module_version": "2.0.0",
       "_model_name": "LayoutModel",
       "_view_count": null,
       "_view_module": "@jupyter-widgets/base",
       "_view_module_version": "2.0.0",
       "_view_name": "LayoutView",
       "align_content": null,
       "align_items": null,
       "align_self": null,
       "border_bottom": null,
       "border_left": null,
       "border_right": null,
       "border_top": null,
       "bottom": null,
       "display": null,
       "flex": null,
       "flex_flow": null,
       "grid_area": null,
       "grid_auto_columns": null,
       "grid_auto_flow": null,
       "grid_auto_rows": null,
       "grid_column": null,
       "grid_gap": null,
       "grid_row": null,
       "grid_template_areas": null,
       "grid_template_columns": null,
       "grid_template_rows": null,
       "height": null,
       "justify_content": null,
       "justify_items": null,
       "left": null,
       "margin": null,
       "max_height": null,
       "max_width": null,
       "min_height": null,
       "min_width": null,
       "object_fit": null,
       "object_position": null,
       "order": null,
       "overflow": null,
       "padding": null,
       "right": null,
       "top": null,
       "visibility": null,
       "width": null
      }
     },
     "82f85a74c1ca4ad3bbf287463570dfaa": {
      "model_module": "@jupyter-widgets/output",
      "model_module_version": "1.0.0",
      "model_name": "OutputModel",
      "state": {
       "_dom_classes": [],
       "_model_module": "@jupyter-widgets/output",
       "_model_module_version": "1.0.0",
       "_model_name": "OutputModel",
       "_view_count": null,
       "_view_module": "@jupyter-widgets/output",
       "_view_module_version": "1.0.0",
       "_view_name": "OutputView",
       "layout": "IPY_MODEL_e08737ab097c439b90ae95da30d4e751",
       "msg_id": "",
       "outputs": [
        {
         "data": {
          "text/markdown": "`lt_k_symb`",
          "text/plain": "<IPython.core.display.Markdown object>"
         },
         "metadata": {},
         "output_type": "display_data"
        },
        {
         "data": {
          "image/svg+xml": "<svg xmlns=\"http://www.w3.org/2000/svg\" xmlns:xlink=\"http://www.w3.org/1999/xlink\" width=\"272pt\" height=\"98pt\" viewBox=\"0.00 0.00 272.00 98.00\">\n<g id=\"graph0\" class=\"graph\" transform=\"scale(1 1) rotate(0) translate(4 94)\">\n<title>my_graph</title>\n<polygon fill=\"white\" stroke=\"transparent\" points=\"-4,4 -4,-94 268,-94 268,4 -4,4\"/>\n<!-- x_G1 -->\n<g id=\"node1\" class=\"node\">\n<title>x_G1</title>\n<text text-anchor=\"middle\" x=\"27\" y=\"-68.3\" font-family=\"Times,serif\" font-size=\"14.00\">x</text>\n</g>\n<!-- LessThanConstant -->\n<g id=\"node3\" class=\"node\">\n<title>LessThanConstant</title>\n<polygon fill=\"none\" stroke=\"black\" points=\"91,-66 91,-83 173,-83 173,-66 91,-66\"/>\n<text text-anchor=\"start\" x=\"94\" y=\"-72\" font-family=\"Times,serif\" font-size=\"10.00\">LessThanConstant</text>\n<polygon fill=\"none\" stroke=\"black\" points=\"91,-45 91,-66 173,-66 173,-45 91,-45\"/>\n<text text-anchor=\"start\" x=\"128.5\" y=\"-51.8\" font-family=\"Times,serif\" font-size=\"14.00\">x</text>\n<polygon fill=\"none\" stroke=\"black\" points=\"91,-24 91,-45 173,-45 173,-24 91,-24\"/>\n<text text-anchor=\"start\" x=\"116.5\" y=\"-30.8\" font-family=\"Times,serif\" font-size=\"14.00\">target</text>\n</g>\n<!-- x_G1&#45;&gt;LessThanConstant -->\n<g id=\"edge1\" class=\"edge\">\n<title>x_G1:e-&gt;LessThanConstant:w</title>\n<path fill=\"none\" stroke=\"black\" d=\"M54,-72C71.22,-72 72.97,-57.23 88.98,-56.07\"/>\n<ellipse fill=\"black\" stroke=\"black\" cx=\"90\" cy=\"-56.04\" rx=\"1\" ry=\"1\"/>\n<text text-anchor=\"middle\" x=\"72.5\" y=\"-67\" font-family=\"Times,serif\" font-size=\"10.00\">n</text>\n</g>\n<!-- target_G2 -->\n<g id=\"node2\" class=\"node\">\n<title>target_G2</title>\n<text text-anchor=\"middle\" x=\"27\" y=\"-14.3\" font-family=\"Times,serif\" font-size=\"14.00\">target</text>\n</g>\n<!-- target_G2&#45;&gt;LessThanConstant -->\n<g id=\"edge2\" class=\"edge\">\n<title>target_G2:e-&gt;LessThanConstant:w</title>\n<path fill=\"none\" stroke=\"black\" d=\"M54,-18C71.22,-18 72.97,-32.77 88.98,-33.93\"/>\n<ellipse fill=\"black\" stroke=\"black\" cx=\"90\" cy=\"-33.96\" rx=\"1\" ry=\"1\"/>\n<text text-anchor=\"middle\" x=\"72.5\" y=\"-29\" font-family=\"Times,serif\" font-size=\"10.00\">1</text>\n</g>\n<!-- x_G0 -->\n<g id=\"node4\" class=\"node\">\n<title>x_G0</title>\n<text text-anchor=\"middle\" x=\"237\" y=\"-68.3\" font-family=\"Times,serif\" font-size=\"14.00\">x</text>\n</g>\n<!-- LessThanConstant&#45;&gt;x_G0 -->\n<g id=\"edge3\" class=\"edge\">\n<title>LessThanConstant:e-&gt;x_G0:w</title>\n<path fill=\"none\" stroke=\"black\" d=\"M173,-56C190.22,-56 191.97,-70.77 207.98,-71.93\"/>\n<ellipse fill=\"black\" stroke=\"black\" cx=\"209\" cy=\"-71.96\" rx=\"1\" ry=\"1\"/>\n<text text-anchor=\"middle\" x=\"191.5\" y=\"-67\" font-family=\"Times,serif\" font-size=\"10.00\">n</text>\n</g>\n<!-- target_G4 -->\n<g id=\"node5\" class=\"node\">\n<title>target_G4</title>\n<text text-anchor=\"middle\" x=\"237\" y=\"-14.3\" font-family=\"Times,serif\" font-size=\"14.00\">target</text>\n</g>\n<!-- LessThanConstant&#45;&gt;target_G4 -->\n<g id=\"edge4\" class=\"edge\">\n<title>LessThanConstant:e-&gt;target_G4:w</title>\n<path fill=\"none\" stroke=\"black\" d=\"M173,-34C190.22,-34 191.97,-19.23 207.98,-18.07\"/>\n<ellipse fill=\"black\" stroke=\"black\" cx=\"209\" cy=\"-18.04\" rx=\"1\" ry=\"1\"/>\n<text text-anchor=\"middle\" x=\"191.5\" y=\"-29\" font-family=\"Times,serif\" font-size=\"10.00\">1</text>\n</g>\n</g>\n</svg>",
          "text/plain": "<IPython.core.display.SVG object>"
         },
         "metadata": {},
         "output_type": "display_data"
        }
       ],
       "tabbable": null,
       "tooltip": null
      }
     },
     "83d331ef10cb4f05b6f27f83a186d1f1": {
      "model_module": "@jupyter-widgets/controls",
      "model_module_version": "2.0.0",
      "model_name": "HBoxModel",
      "state": {
       "_dom_classes": [],
       "_model_module": "@jupyter-widgets/controls",
       "_model_module_version": "2.0.0",
       "_model_name": "HBoxModel",
       "_view_count": null,
       "_view_module": "@jupyter-widgets/controls",
       "_view_module_version": "2.0.0",
       "_view_name": "HBoxView",
       "box_style": "",
       "children": [
        "IPY_MODEL_aeb8224b0f644ed0b1ea5f82fa893678"
       ],
       "layout": "IPY_MODEL_dc5d2ab2239b44f6809120b010c3a750",
       "tabbable": null,
       "tooltip": null
      }
     },
     "8b2e70efc1da41ec8df1db1b31ea9d8f": {
      "model_module": "@jupyter-widgets/controls",
      "model_module_version": "2.0.0",
      "model_name": "HBoxModel",
      "state": {
       "_dom_classes": [],
       "_model_module": "@jupyter-widgets/controls",
       "_model_module_version": "2.0.0",
       "_model_name": "HBoxModel",
       "_view_count": null,
       "_view_module": "@jupyter-widgets/controls",
       "_view_module_version": "2.0.0",
       "_view_name": "HBoxView",
       "box_style": "",
       "children": [
        "IPY_MODEL_3dd633812bac47b7a9c5793748b7aaa1"
       ],
       "layout": "IPY_MODEL_8f19f83dd861415aa3290897411a5572",
       "tabbable": null,
       "tooltip": null
      }
     },
     "8e319da8343c42f1b3748dfb2b6eb645": {
      "model_module": "@jupyter-widgets/output",
      "model_module_version": "1.0.0",
      "model_name": "OutputModel",
      "state": {
       "_dom_classes": [],
       "_model_module": "@jupyter-widgets/output",
       "_model_module_version": "1.0.0",
       "_model_name": "OutputModel",
       "_view_count": null,
       "_view_module": "@jupyter-widgets/output",
       "_view_module_version": "1.0.0",
       "_view_name": "OutputView",
       "layout": "IPY_MODEL_5aab354a87ad45c98d2ac1bac0297764",
       "msg_id": "",
       "outputs": [
        {
         "data": {
          "text/markdown": "`lt_k`",
          "text/plain": "<IPython.core.display.Markdown object>"
         },
         "metadata": {},
         "output_type": "display_data"
        },
        {
         "data": {
          "image/svg+xml": "<svg xmlns=\"http://www.w3.org/2000/svg\" xmlns:xlink=\"http://www.w3.org/1999/xlink\" width=\"272pt\" height=\"98pt\" viewBox=\"0.00 0.00 272.00 98.00\">\n<g id=\"graph0\" class=\"graph\" transform=\"scale(1 1) rotate(0) translate(4 94)\">\n<title>my_graph</title>\n<polygon fill=\"white\" stroke=\"transparent\" points=\"-4,4 -4,-94 268,-94 268,4 -4,4\"/>\n<!-- x_G1 -->\n<g id=\"node1\" class=\"node\">\n<title>x_G1</title>\n<text text-anchor=\"middle\" x=\"27\" y=\"-68.3\" font-family=\"Times,serif\" font-size=\"14.00\">x</text>\n</g>\n<!-- LessThanConstant -->\n<g id=\"node3\" class=\"node\">\n<title>LessThanConstant</title>\n<polygon fill=\"none\" stroke=\"black\" points=\"91,-66 91,-83 173,-83 173,-66 91,-66\"/>\n<text text-anchor=\"start\" x=\"94\" y=\"-72\" font-family=\"Times,serif\" font-size=\"10.00\">LessThanConstant</text>\n<polygon fill=\"none\" stroke=\"black\" points=\"91,-45 91,-66 173,-66 173,-45 91,-45\"/>\n<text text-anchor=\"start\" x=\"128.5\" y=\"-51.8\" font-family=\"Times,serif\" font-size=\"14.00\">x</text>\n<polygon fill=\"none\" stroke=\"black\" points=\"91,-24 91,-45 173,-45 173,-24 91,-24\"/>\n<text text-anchor=\"start\" x=\"116.5\" y=\"-30.8\" font-family=\"Times,serif\" font-size=\"14.00\">target</text>\n</g>\n<!-- x_G1&#45;&gt;LessThanConstant -->\n<g id=\"edge1\" class=\"edge\">\n<title>x_G1:e-&gt;LessThanConstant:w</title>\n<path fill=\"none\" stroke=\"black\" d=\"M54,-72C71.22,-72 72.97,-57.23 88.98,-56.07\"/>\n<ellipse fill=\"black\" stroke=\"black\" cx=\"90\" cy=\"-56.04\" rx=\"1\" ry=\"1\"/>\n<text text-anchor=\"middle\" x=\"72.5\" y=\"-67\" font-family=\"Times,serif\" font-size=\"10.00\">8</text>\n</g>\n<!-- target_G4 -->\n<g id=\"node2\" class=\"node\">\n<title>target_G4</title>\n<text text-anchor=\"middle\" x=\"27\" y=\"-14.3\" font-family=\"Times,serif\" font-size=\"14.00\">target</text>\n</g>\n<!-- target_G4&#45;&gt;LessThanConstant -->\n<g id=\"edge2\" class=\"edge\">\n<title>target_G4:e-&gt;LessThanConstant:w</title>\n<path fill=\"none\" stroke=\"black\" d=\"M54,-18C71.22,-18 72.97,-32.77 88.98,-33.93\"/>\n<ellipse fill=\"black\" stroke=\"black\" cx=\"90\" cy=\"-33.96\" rx=\"1\" ry=\"1\"/>\n<text text-anchor=\"middle\" x=\"72.5\" y=\"-29\" font-family=\"Times,serif\" font-size=\"10.00\">1</text>\n</g>\n<!-- x_G0 -->\n<g id=\"node4\" class=\"node\">\n<title>x_G0</title>\n<text text-anchor=\"middle\" x=\"237\" y=\"-68.3\" font-family=\"Times,serif\" font-size=\"14.00\">x</text>\n</g>\n<!-- LessThanConstant&#45;&gt;x_G0 -->\n<g id=\"edge3\" class=\"edge\">\n<title>LessThanConstant:e-&gt;x_G0:w</title>\n<path fill=\"none\" stroke=\"black\" d=\"M173,-56C190.22,-56 191.97,-70.77 207.98,-71.93\"/>\n<ellipse fill=\"black\" stroke=\"black\" cx=\"209\" cy=\"-71.96\" rx=\"1\" ry=\"1\"/>\n<text text-anchor=\"middle\" x=\"191.5\" y=\"-67\" font-family=\"Times,serif\" font-size=\"10.00\">8</text>\n</g>\n<!-- target_G5 -->\n<g id=\"node5\" class=\"node\">\n<title>target_G5</title>\n<text text-anchor=\"middle\" x=\"237\" y=\"-14.3\" font-family=\"Times,serif\" font-size=\"14.00\">target</text>\n</g>\n<!-- LessThanConstant&#45;&gt;target_G5 -->\n<g id=\"edge4\" class=\"edge\">\n<title>LessThanConstant:e-&gt;target_G5:w</title>\n<path fill=\"none\" stroke=\"black\" d=\"M173,-34C190.22,-34 191.97,-19.23 207.98,-18.07\"/>\n<ellipse fill=\"black\" stroke=\"black\" cx=\"209\" cy=\"-18.04\" rx=\"1\" ry=\"1\"/>\n<text text-anchor=\"middle\" x=\"191.5\" y=\"-29\" font-family=\"Times,serif\" font-size=\"10.00\">1</text>\n</g>\n</g>\n</svg>",
          "text/plain": "<IPython.core.display.SVG object>"
         },
         "metadata": {},
         "output_type": "display_data"
        }
       ],
       "tabbable": null,
       "tooltip": null
      }
     },
     "8f19f83dd861415aa3290897411a5572": {
      "model_module": "@jupyter-widgets/base",
      "model_module_version": "2.0.0",
      "model_name": "LayoutModel",
      "state": {
       "_model_module": "@jupyter-widgets/base",
       "_model_module_version": "2.0.0",
       "_model_name": "LayoutModel",
       "_view_count": null,
       "_view_module": "@jupyter-widgets/base",
       "_view_module_version": "2.0.0",
       "_view_name": "LayoutView",
       "align_content": null,
       "align_items": null,
       "align_self": null,
       "border_bottom": null,
       "border_left": null,
       "border_right": null,
       "border_top": null,
       "bottom": null,
       "display": null,
       "flex": null,
       "flex_flow": null,
       "grid_area": null,
       "grid_auto_columns": null,
       "grid_auto_flow": null,
       "grid_auto_rows": null,
       "grid_column": null,
       "grid_gap": null,
       "grid_row": null,
       "grid_template_areas": null,
       "grid_template_columns": null,
       "grid_template_rows": null,
       "height": null,
       "justify_content": null,
       "justify_items": null,
       "left": null,
       "margin": null,
       "max_height": null,
       "max_width": null,
       "min_height": null,
       "min_width": null,
       "object_fit": null,
       "object_position": null,
       "order": null,
       "overflow": null,
       "padding": null,
       "right": null,
       "top": null,
       "visibility": null,
       "width": null
      }
     },
     "95c956009ce742cf9c94df4c763709c4": {
      "model_module": "@jupyter-widgets/controls",
      "model_module_version": "2.0.0",
      "model_name": "HBoxModel",
      "state": {
       "_dom_classes": [],
       "_model_module": "@jupyter-widgets/controls",
       "_model_module_version": "2.0.0",
       "_model_name": "HBoxModel",
       "_view_count": null,
       "_view_module": "@jupyter-widgets/controls",
       "_view_module_version": "2.0.0",
       "_view_name": "HBoxView",
       "box_style": "",
       "children": [
        "IPY_MODEL_68d338e4f9954f4ea8c98c9fd7a907b4",
        "IPY_MODEL_54fed81d8fff4dda8e8323a2c7f6ff9c"
       ],
       "layout": "IPY_MODEL_43e9d37233eb4232ae3f8437dfebe667",
       "tabbable": null,
       "tooltip": null
      }
     },
     "a699d76d45fc40abb4f4aa237e2f127b": {
      "model_module": "@jupyter-widgets/output",
      "model_module_version": "1.0.0",
      "model_name": "OutputModel",
      "state": {
       "_dom_classes": [],
       "_model_module": "@jupyter-widgets/output",
       "_model_module_version": "1.0.0",
       "_model_name": "OutputModel",
       "_view_count": null,
       "_view_module": "@jupyter-widgets/output",
       "_view_module_version": "1.0.0",
       "_view_name": "OutputView",
       "layout": "IPY_MODEL_f771e2cebc794d098891b017cb62c1b3",
       "msg_id": "",
       "outputs": [
        {
         "data": {
          "text/markdown": "`clineardepthgreaterthan_example`",
          "text/plain": "<IPython.core.display.Markdown object>"
         },
         "metadata": {},
         "output_type": "display_data"
        },
        {
         "data": {
          "image/svg+xml": "<svg xmlns=\"http://www.w3.org/2000/svg\" xmlns:xlink=\"http://www.w3.org/1999/xlink\" width=\"306pt\" height=\"206pt\" viewBox=\"0.00 0.00 306.00 206.00\">\n<g id=\"graph0\" class=\"graph\" transform=\"scale(1 1) rotate(0) translate(4 202)\">\n<title>my_graph</title>\n<polygon fill=\"white\" stroke=\"transparent\" points=\"-4,4 -4,-202 302,-202 302,4 -4,4\"/>\n<!-- ctrl_G3 -->\n<g id=\"node1\" class=\"node\">\n<title>ctrl_G3</title>\n<text text-anchor=\"middle\" x=\"27\" y=\"-176.3\" font-family=\"Times,serif\" font-size=\"14.00\">ctrl</text>\n</g>\n<!-- CLinearDepthGreaterThan -->\n<g id=\"node5\" class=\"node\">\n<title>CLinearDepthGreaterThan</title>\n<polygon fill=\"none\" stroke=\"black\" points=\"91,-141 91,-158 207,-158 207,-141 91,-141\"/>\n<text text-anchor=\"start\" x=\"94\" y=\"-147\" font-family=\"Times,serif\" font-size=\"10.00\">CLinearDepthGreaterThan</text>\n<polygon fill=\"none\" stroke=\"black\" points=\"91,-120 91,-141 207,-141 207,-120 91,-120\"/>\n<text text-anchor=\"start\" x=\"139.5\" y=\"-126.8\" font-family=\"Times,serif\" font-size=\"14.00\">ctrl</text>\n<polygon fill=\"none\" stroke=\"black\" points=\"91,-99 91,-120 207,-120 207,-99 91,-99\"/>\n<text text-anchor=\"start\" x=\"145.5\" y=\"-105.8\" font-family=\"Times,serif\" font-size=\"14.00\">a</text>\n<polygon fill=\"none\" stroke=\"black\" points=\"91,-78 91,-99 207,-99 207,-78 91,-78\"/>\n<text text-anchor=\"start\" x=\"145.5\" y=\"-84.8\" font-family=\"Times,serif\" font-size=\"14.00\">b</text>\n<polygon fill=\"none\" stroke=\"black\" points=\"91,-57 91,-78 207,-78 207,-57 91,-57\"/>\n<text text-anchor=\"start\" x=\"133.5\" y=\"-63.8\" font-family=\"Times,serif\" font-size=\"14.00\">target</text>\n</g>\n<!-- ctrl_G3&#45;&gt;CLinearDepthGreaterThan -->\n<g id=\"edge1\" class=\"edge\">\n<title>ctrl_G3:e-&gt;CLinearDepthGreaterThan:w</title>\n<path fill=\"none\" stroke=\"black\" d=\"M54,-180C80.54,-180 64.64,-133.64 88.86,-131.11\"/>\n<ellipse fill=\"black\" stroke=\"black\" cx=\"90\" cy=\"-131.05\" rx=\"1\" ry=\"1\"/>\n<text text-anchor=\"middle\" x=\"72.5\" y=\"-159\" font-family=\"Times,serif\" font-size=\"10.00\">1</text>\n</g>\n<!-- a_G2 -->\n<g id=\"node2\" class=\"node\">\n<title>a_G2</title>\n<text text-anchor=\"middle\" x=\"27\" y=\"-122.3\" font-family=\"Times,serif\" font-size=\"14.00\">a</text>\n</g>\n<!-- a_G2&#45;&gt;CLinearDepthGreaterThan -->\n<g id=\"edge2\" class=\"edge\">\n<title>a_G2:e-&gt;CLinearDepthGreaterThan:w</title>\n<path fill=\"none\" stroke=\"black\" d=\"M54,-126C71.22,-126 72.97,-111.23 88.98,-110.07\"/>\n<ellipse fill=\"black\" stroke=\"black\" cx=\"90\" cy=\"-110.04\" rx=\"1\" ry=\"1\"/>\n<text text-anchor=\"middle\" x=\"72.5\" y=\"-121\" font-family=\"Times,serif\" font-size=\"10.00\">5</text>\n</g>\n<!-- b_G4 -->\n<g id=\"node3\" class=\"node\">\n<title>b_G4</title>\n<text text-anchor=\"middle\" x=\"27\" y=\"-68.3\" font-family=\"Times,serif\" font-size=\"14.00\">b</text>\n</g>\n<!-- b_G4&#45;&gt;CLinearDepthGreaterThan -->\n<g id=\"edge3\" class=\"edge\">\n<title>b_G4:e-&gt;CLinearDepthGreaterThan:w</title>\n<path fill=\"none\" stroke=\"black\" d=\"M54,-72C71.22,-72 72.97,-86.77 88.98,-87.93\"/>\n<ellipse fill=\"black\" stroke=\"black\" cx=\"90\" cy=\"-87.96\" rx=\"1\" ry=\"1\"/>\n<text text-anchor=\"middle\" x=\"72.5\" y=\"-83\" font-family=\"Times,serif\" font-size=\"10.00\">5</text>\n</g>\n<!-- target_G9 -->\n<g id=\"node4\" class=\"node\">\n<title>target_G9</title>\n<text text-anchor=\"middle\" x=\"27\" y=\"-14.3\" font-family=\"Times,serif\" font-size=\"14.00\">target</text>\n</g>\n<!-- target_G9&#45;&gt;CLinearDepthGreaterThan -->\n<g id=\"edge4\" class=\"edge\">\n<title>target_G9:e-&gt;CLinearDepthGreaterThan:w</title>\n<path fill=\"none\" stroke=\"black\" d=\"M54,-18C80.54,-18 64.64,-64.36 88.86,-66.89\"/>\n<ellipse fill=\"black\" stroke=\"black\" cx=\"90\" cy=\"-66.95\" rx=\"1\" ry=\"1\"/>\n<text text-anchor=\"middle\" x=\"72.5\" y=\"-47\" font-family=\"Times,serif\" font-size=\"10.00\">1</text>\n</g>\n<!-- ctrl_G8 -->\n<g id=\"node6\" class=\"node\">\n<title>ctrl_G8</title>\n<text text-anchor=\"middle\" x=\"271\" y=\"-176.3\" font-family=\"Times,serif\" font-size=\"14.00\">ctrl</text>\n</g>\n<!-- CLinearDepthGreaterThan&#45;&gt;ctrl_G8 -->\n<g id=\"edge5\" class=\"edge\">\n<title>CLinearDepthGreaterThan:e-&gt;ctrl_G8:w</title>\n<path fill=\"none\" stroke=\"black\" d=\"M207,-131C233.54,-131 217.64,-177.36 241.86,-179.89\"/>\n<ellipse fill=\"black\" stroke=\"black\" cx=\"243\" cy=\"-179.95\" rx=\"1\" ry=\"1\"/>\n<text text-anchor=\"middle\" x=\"225.5\" y=\"-159\" font-family=\"Times,serif\" font-size=\"10.00\">1</text>\n</g>\n<!-- a_G6 -->\n<g id=\"node7\" class=\"node\">\n<title>a_G6</title>\n<text text-anchor=\"middle\" x=\"271\" y=\"-122.3\" font-family=\"Times,serif\" font-size=\"14.00\">a</text>\n</g>\n<!-- CLinearDepthGreaterThan&#45;&gt;a_G6 -->\n<g id=\"edge6\" class=\"edge\">\n<title>CLinearDepthGreaterThan:e-&gt;a_G6:w</title>\n<path fill=\"none\" stroke=\"black\" d=\"M207,-110C224.22,-110 225.97,-124.77 241.98,-125.93\"/>\n<ellipse fill=\"black\" stroke=\"black\" cx=\"243\" cy=\"-125.96\" rx=\"1\" ry=\"1\"/>\n<text text-anchor=\"middle\" x=\"225.5\" y=\"-121\" font-family=\"Times,serif\" font-size=\"10.00\">5</text>\n</g>\n<!-- b_G5 -->\n<g id=\"node8\" class=\"node\">\n<title>b_G5</title>\n<text text-anchor=\"middle\" x=\"271\" y=\"-68.3\" font-family=\"Times,serif\" font-size=\"14.00\">b</text>\n</g>\n<!-- CLinearDepthGreaterThan&#45;&gt;b_G5 -->\n<g id=\"edge7\" class=\"edge\">\n<title>CLinearDepthGreaterThan:e-&gt;b_G5:w</title>\n<path fill=\"none\" stroke=\"black\" d=\"M207,-88C224.22,-88 225.97,-73.23 241.98,-72.07\"/>\n<ellipse fill=\"black\" stroke=\"black\" cx=\"243\" cy=\"-72.04\" rx=\"1\" ry=\"1\"/>\n<text text-anchor=\"middle\" x=\"225.5\" y=\"-83\" font-family=\"Times,serif\" font-size=\"10.00\">5</text>\n</g>\n<!-- target_G7 -->\n<g id=\"node9\" class=\"node\">\n<title>target_G7</title>\n<text text-anchor=\"middle\" x=\"271\" y=\"-14.3\" font-family=\"Times,serif\" font-size=\"14.00\">target</text>\n</g>\n<!-- CLinearDepthGreaterThan&#45;&gt;target_G7 -->\n<g id=\"edge8\" class=\"edge\">\n<title>CLinearDepthGreaterThan:e-&gt;target_G7:w</title>\n<path fill=\"none\" stroke=\"black\" d=\"M207,-67C233.54,-67 217.64,-20.64 241.86,-18.11\"/>\n<ellipse fill=\"black\" stroke=\"black\" cx=\"243\" cy=\"-18.05\" rx=\"1\" ry=\"1\"/>\n<text text-anchor=\"middle\" x=\"225.5\" y=\"-47\" font-family=\"Times,serif\" font-size=\"10.00\">1</text>\n</g>\n</g>\n</svg>",
          "text/plain": "<IPython.core.display.SVG object>"
         },
         "metadata": {},
         "output_type": "display_data"
        }
       ],
       "tabbable": null,
       "tooltip": null
      }
     },
     "aeb8224b0f644ed0b1ea5f82fa893678": {
      "model_module": "@jupyter-widgets/output",
      "model_module_version": "1.0.0",
      "model_name": "OutputModel",
      "state": {
       "_dom_classes": [],
       "_model_module": "@jupyter-widgets/output",
       "_model_module_version": "1.0.0",
       "_model_name": "OutputModel",
       "_view_count": null,
       "_view_module": "@jupyter-widgets/output",
       "_view_module_version": "1.0.0",
       "_view_name": "OutputView",
       "layout": "IPY_MODEL_c4871f14a2dd4292ae46ec736e64d24e",
       "msg_id": "",
       "outputs": [
        {
         "data": {
          "text/markdown": "`gt_k`",
          "text/plain": "<IPython.core.display.Markdown object>"
         },
         "metadata": {},
         "output_type": "display_data"
        },
        {
         "data": {
          "image/svg+xml": "<svg xmlns=\"http://www.w3.org/2000/svg\" xmlns:xlink=\"http://www.w3.org/1999/xlink\" width=\"284pt\" height=\"98pt\" viewBox=\"0.00 0.00 284.00 98.00\">\n<g id=\"graph0\" class=\"graph\" transform=\"scale(1 1) rotate(0) translate(4 94)\">\n<title>my_graph</title>\n<polygon fill=\"white\" stroke=\"transparent\" points=\"-4,4 -4,-94 280,-94 280,4 -4,4\"/>\n<!-- x_G4 -->\n<g id=\"node1\" class=\"node\">\n<title>x_G4</title>\n<text text-anchor=\"middle\" x=\"27\" y=\"-68.3\" font-family=\"Times,serif\" font-size=\"14.00\">x</text>\n</g>\n<!-- GreaterThanConstant -->\n<g id=\"node3\" class=\"node\">\n<title>GreaterThanConstant</title>\n<polygon fill=\"none\" stroke=\"black\" points=\"91,-66 91,-83 185,-83 185,-66 91,-66\"/>\n<text text-anchor=\"start\" x=\"94\" y=\"-72\" font-family=\"Times,serif\" font-size=\"10.00\">GreaterThanConstant</text>\n<polygon fill=\"none\" stroke=\"black\" points=\"91,-45 91,-66 185,-66 185,-45 91,-45\"/>\n<text text-anchor=\"start\" x=\"134.5\" y=\"-51.8\" font-family=\"Times,serif\" font-size=\"14.00\">x</text>\n<polygon fill=\"none\" stroke=\"black\" points=\"91,-24 91,-45 185,-45 185,-24 91,-24\"/>\n<text text-anchor=\"start\" x=\"122.5\" y=\"-30.8\" font-family=\"Times,serif\" font-size=\"14.00\">target</text>\n</g>\n<!-- x_G4&#45;&gt;GreaterThanConstant -->\n<g id=\"edge1\" class=\"edge\">\n<title>x_G4:e-&gt;GreaterThanConstant:w</title>\n<path fill=\"none\" stroke=\"black\" d=\"M54,-72C71.22,-72 72.97,-57.23 88.98,-56.07\"/>\n<ellipse fill=\"black\" stroke=\"black\" cx=\"90\" cy=\"-56.04\" rx=\"1\" ry=\"1\"/>\n<text text-anchor=\"middle\" x=\"72.5\" y=\"-67\" font-family=\"Times,serif\" font-size=\"10.00\">4</text>\n</g>\n<!-- target_G1 -->\n<g id=\"node2\" class=\"node\">\n<title>target_G1</title>\n<text text-anchor=\"middle\" x=\"27\" y=\"-14.3\" font-family=\"Times,serif\" font-size=\"14.00\">target</text>\n</g>\n<!-- target_G1&#45;&gt;GreaterThanConstant -->\n<g id=\"edge2\" class=\"edge\">\n<title>target_G1:e-&gt;GreaterThanConstant:w</title>\n<path fill=\"none\" stroke=\"black\" d=\"M54,-18C71.22,-18 72.97,-32.77 88.98,-33.93\"/>\n<ellipse fill=\"black\" stroke=\"black\" cx=\"90\" cy=\"-33.96\" rx=\"1\" ry=\"1\"/>\n<text text-anchor=\"middle\" x=\"72.5\" y=\"-29\" font-family=\"Times,serif\" font-size=\"10.00\">1</text>\n</g>\n<!-- x_G3 -->\n<g id=\"node4\" class=\"node\">\n<title>x_G3</title>\n<text text-anchor=\"middle\" x=\"249\" y=\"-68.3\" font-family=\"Times,serif\" font-size=\"14.00\">x</text>\n</g>\n<!-- GreaterThanConstant&#45;&gt;x_G3 -->\n<g id=\"edge3\" class=\"edge\">\n<title>GreaterThanConstant:e-&gt;x_G3:w</title>\n<path fill=\"none\" stroke=\"black\" d=\"M185,-56C202.22,-56 203.97,-70.77 219.98,-71.93\"/>\n<ellipse fill=\"black\" stroke=\"black\" cx=\"221\" cy=\"-71.96\" rx=\"1\" ry=\"1\"/>\n<text text-anchor=\"middle\" x=\"203.5\" y=\"-67\" font-family=\"Times,serif\" font-size=\"10.00\">4</text>\n</g>\n<!-- target_G2 -->\n<g id=\"node5\" class=\"node\">\n<title>target_G2</title>\n<text text-anchor=\"middle\" x=\"249\" y=\"-14.3\" font-family=\"Times,serif\" font-size=\"14.00\">target</text>\n</g>\n<!-- GreaterThanConstant&#45;&gt;target_G2 -->\n<g id=\"edge4\" class=\"edge\">\n<title>GreaterThanConstant:e-&gt;target_G2:w</title>\n<path fill=\"none\" stroke=\"black\" d=\"M185,-34C202.22,-34 203.97,-19.23 219.98,-18.07\"/>\n<ellipse fill=\"black\" stroke=\"black\" cx=\"221\" cy=\"-18.04\" rx=\"1\" ry=\"1\"/>\n<text text-anchor=\"middle\" x=\"203.5\" y=\"-29\" font-family=\"Times,serif\" font-size=\"10.00\">1</text>\n</g>\n</g>\n</svg>",
          "text/plain": "<IPython.core.display.SVG object>"
         },
         "metadata": {},
         "output_type": "display_data"
        }
       ],
       "tabbable": null,
       "tooltip": null
      }
     },
     "befaf24d679749e8b7ef2be82d3e222f": {
      "model_module": "@jupyter-widgets/base",
      "model_module_version": "2.0.0",
      "model_name": "LayoutModel",
      "state": {
       "_model_module": "@jupyter-widgets/base",
       "_model_module_version": "2.0.0",
       "_model_name": "LayoutModel",
       "_view_count": null,
       "_view_module": "@jupyter-widgets/base",
       "_view_module_version": "2.0.0",
       "_view_name": "LayoutView",
       "align_content": null,
       "align_items": null,
       "align_self": null,
       "border_bottom": null,
       "border_left": null,
       "border_right": null,
       "border_top": null,
       "bottom": null,
       "display": null,
       "flex": null,
       "flex_flow": null,
       "grid_area": null,
       "grid_auto_columns": null,
       "grid_auto_flow": null,
       "grid_auto_rows": null,
       "grid_column": null,
       "grid_gap": null,
       "grid_row": null,
       "grid_template_areas": null,
       "grid_template_columns": null,
       "grid_template_rows": null,
       "height": null,
       "justify_content": null,
       "justify_items": null,
       "left": null,
       "margin": null,
       "max_height": null,
       "max_width": null,
       "min_height": null,
       "min_width": null,
       "object_fit": null,
       "object_position": null,
       "order": null,
       "overflow": null,
       "padding": null,
       "right": null,
       "top": null,
       "visibility": null,
       "width": null
      }
     },
     "c02328dfd85d4f19bb22b6406500238d": {
      "model_module": "@jupyter-widgets/base",
      "model_module_version": "2.0.0",
      "model_name": "LayoutModel",
      "state": {
       "_model_module": "@jupyter-widgets/base",
       "_model_module_version": "2.0.0",
       "_model_name": "LayoutModel",
       "_view_count": null,
       "_view_module": "@jupyter-widgets/base",
       "_view_module_version": "2.0.0",
       "_view_name": "LayoutView",
       "align_content": null,
       "align_items": null,
       "align_self": null,
       "border_bottom": null,
       "border_left": null,
       "border_right": null,
       "border_top": null,
       "bottom": null,
       "display": null,
       "flex": null,
       "flex_flow": null,
       "grid_area": null,
       "grid_auto_columns": null,
       "grid_auto_flow": null,
       "grid_auto_rows": null,
       "grid_column": null,
       "grid_gap": null,
       "grid_row": null,
       "grid_template_areas": null,
       "grid_template_columns": null,
       "grid_template_rows": null,
       "height": null,
       "justify_content": null,
       "justify_items": null,
       "left": null,
       "margin": null,
       "max_height": null,
       "max_width": null,
       "min_height": null,
       "min_width": null,
       "object_fit": null,
       "object_position": null,
       "order": null,
       "overflow": null,
       "padding": null,
       "right": null,
       "top": null,
       "visibility": null,
       "width": null
      }
     },
     "c4871f14a2dd4292ae46ec736e64d24e": {
      "model_module": "@jupyter-widgets/base",
      "model_module_version": "2.0.0",
      "model_name": "LayoutModel",
      "state": {
       "_model_module": "@jupyter-widgets/base",
       "_model_module_version": "2.0.0",
       "_model_name": "LayoutModel",
       "_view_count": null,
       "_view_module": "@jupyter-widgets/base",
       "_view_module_version": "2.0.0",
       "_view_name": "LayoutView",
       "align_content": null,
       "align_items": null,
       "align_self": null,
       "border_bottom": null,
       "border_left": null,
       "border_right": null,
       "border_top": null,
       "bottom": null,
       "display": null,
       "flex": null,
       "flex_flow": null,
       "grid_area": null,
       "grid_auto_columns": null,
       "grid_auto_flow": null,
       "grid_auto_rows": null,
       "grid_column": null,
       "grid_gap": null,
       "grid_row": null,
       "grid_template_areas": null,
       "grid_template_columns": null,
       "grid_template_rows": null,
       "height": null,
       "justify_content": null,
       "justify_items": null,
       "left": null,
       "margin": null,
       "max_height": null,
       "max_width": null,
       "min_height": null,
       "min_width": null,
       "object_fit": null,
       "object_position": null,
       "order": null,
       "overflow": null,
       "padding": null,
       "right": null,
       "top": null,
       "visibility": null,
       "width": null
      }
     },
     "d0a2e2ed28104ac3981bc5481a63c148": {
      "model_module": "@jupyter-widgets/output",
      "model_module_version": "1.0.0",
      "model_name": "OutputModel",
      "state": {
       "_dom_classes": [],
       "_model_module": "@jupyter-widgets/output",
       "_model_module_version": "1.0.0",
       "_model_name": "OutputModel",
       "_view_count": null,
       "_view_module": "@jupyter-widgets/output",
       "_view_module_version": "1.0.0",
       "_view_name": "OutputView",
       "layout": "IPY_MODEL_c02328dfd85d4f19bb22b6406500238d",
       "msg_id": "",
       "outputs": [
        {
         "data": {
          "text/markdown": "`sq_cmp`",
          "text/plain": "<IPython.core.display.Markdown object>"
         },
         "metadata": {},
         "output_type": "display_data"
        },
        {
         "data": {
          "image/svg+xml": "<svg xmlns=\"http://www.w3.org/2000/svg\" xmlns:xlink=\"http://www.w3.org/1999/xlink\" width=\"314pt\" height=\"206pt\" viewBox=\"0.00 0.00 314.00 206.00\">\n<g id=\"graph0\" class=\"graph\" transform=\"scale(1 1) rotate(0) translate(4 202)\">\n<title>my_graph</title>\n<polygon fill=\"white\" stroke=\"transparent\" points=\"-4,4 -4,-202 310,-202 310,4 -4,4\"/>\n<!-- a_G1 -->\n<g id=\"node1\" class=\"node\">\n<title>a_G1</title>\n<text text-anchor=\"middle\" x=\"27\" y=\"-143.3\" font-family=\"Times,serif\" font-size=\"14.00\">a</text>\n</g>\n<!-- SingleQubitCompare -->\n<g id=\"node3\" class=\"node\">\n<title>SingleQubitCompare</title>\n<polygon fill=\"none\" stroke=\"black\" points=\"91,-141 91,-158 185,-158 185,-141 91,-141\"/>\n<text text-anchor=\"start\" x=\"94\" y=\"-147\" font-family=\"Times,serif\" font-size=\"10.00\">SingleQubitCompare</text>\n<polygon fill=\"none\" stroke=\"black\" points=\"91,-120 91,-141 185,-141 185,-120 91,-120\"/>\n<text text-anchor=\"start\" x=\"134.5\" y=\"-126.8\" font-family=\"Times,serif\" font-size=\"14.00\">a</text>\n<polygon fill=\"none\" stroke=\"black\" points=\"91,-99 91,-120 185,-120 185,-99 91,-99\"/>\n<text text-anchor=\"start\" x=\"134.5\" y=\"-105.8\" font-family=\"Times,serif\" font-size=\"14.00\">b</text>\n<polygon fill=\"none\" stroke=\"black\" points=\"91,-78 91,-99 104,-99 104,-78 91,-78\"/>\n<polygon fill=\"none\" stroke=\"black\" points=\"104,-78 104,-99 185,-99 185,-78 104,-78\"/>\n<text text-anchor=\"start\" x=\"119\" y=\"-84.8\" font-family=\"Times,serif\" font-size=\"14.00\">less_than</text>\n<polygon fill=\"none\" stroke=\"black\" points=\"91,-57 91,-78 104,-78 104,-57 91,-57\"/>\n<polygon fill=\"none\" stroke=\"black\" points=\"104,-57 104,-78 185,-78 185,-57 104,-57\"/>\n<text text-anchor=\"start\" x=\"110.5\" y=\"-63.8\" font-family=\"Times,serif\" font-size=\"14.00\">greater_than</text>\n</g>\n<!-- a_G1&#45;&gt;SingleQubitCompare -->\n<g id=\"edge1\" class=\"edge\">\n<title>a_G1:e-&gt;SingleQubitCompare:w</title>\n<path fill=\"none\" stroke=\"black\" d=\"M54,-147C71.22,-147 72.97,-132.23 88.98,-131.07\"/>\n<ellipse fill=\"black\" stroke=\"black\" cx=\"90\" cy=\"-131.04\" rx=\"1\" ry=\"1\"/>\n<text text-anchor=\"middle\" x=\"72.5\" y=\"-142\" font-family=\"Times,serif\" font-size=\"10.00\">1</text>\n</g>\n<!-- b_G7 -->\n<g id=\"node2\" class=\"node\">\n<title>b_G7</title>\n<text text-anchor=\"middle\" x=\"27\" y=\"-89.3\" font-family=\"Times,serif\" font-size=\"14.00\">b</text>\n</g>\n<!-- b_G7&#45;&gt;SingleQubitCompare -->\n<g id=\"edge2\" class=\"edge\">\n<title>b_G7:e-&gt;SingleQubitCompare:w</title>\n<path fill=\"none\" stroke=\"black\" d=\"M54,-93C71.39,-93 72.81,-108.7 88.96,-109.92\"/>\n<ellipse fill=\"black\" stroke=\"black\" cx=\"90\" cy=\"-109.96\" rx=\"1\" ry=\"1\"/>\n<text text-anchor=\"middle\" x=\"72.5\" y=\"-104\" font-family=\"Times,serif\" font-size=\"10.00\">1</text>\n</g>\n<!-- a_G3 -->\n<g id=\"node4\" class=\"node\">\n<title>a_G3</title>\n<text text-anchor=\"middle\" x=\"264\" y=\"-176.3\" font-family=\"Times,serif\" font-size=\"14.00\">a</text>\n</g>\n<!-- SingleQubitCompare&#45;&gt;a_G3 -->\n<g id=\"edge3\" class=\"edge\">\n<title>SingleQubitCompare:e-&gt;a_G3:w</title>\n<path fill=\"none\" stroke=\"black\" d=\"M185,-131C215.7,-131 205.1,-177.73 233.86,-179.92\"/>\n<ellipse fill=\"black\" stroke=\"black\" cx=\"235\" cy=\"-179.96\" rx=\"1\" ry=\"1\"/>\n<text text-anchor=\"middle\" x=\"203.5\" y=\"-144\" font-family=\"Times,serif\" font-size=\"10.00\">1</text>\n</g>\n<!-- b_G9 -->\n<g id=\"node5\" class=\"node\">\n<title>b_G9</title>\n<text text-anchor=\"middle\" x=\"264\" y=\"-122.3\" font-family=\"Times,serif\" font-size=\"14.00\">b</text>\n</g>\n<!-- SingleQubitCompare&#45;&gt;b_G9 -->\n<g id=\"edge4\" class=\"edge\">\n<title>SingleQubitCompare:e-&gt;b_G9:w</title>\n<path fill=\"none\" stroke=\"black\" d=\"M185,-110C208.01,-110 212.01,-125.02 233.83,-125.95\"/>\n<ellipse fill=\"black\" stroke=\"black\" cx=\"235\" cy=\"-125.98\" rx=\"1\" ry=\"1\"/>\n<text text-anchor=\"middle\" x=\"203.5\" y=\"-117\" font-family=\"Times,serif\" font-size=\"10.00\">1</text>\n</g>\n<!-- less_than_G5 -->\n<g id=\"node6\" class=\"node\">\n<title>less_than_G5</title>\n<text text-anchor=\"middle\" x=\"264\" y=\"-68.3\" font-family=\"Times,serif\" font-size=\"14.00\">less_than</text>\n</g>\n<!-- SingleQubitCompare&#45;&gt;less_than_G5 -->\n<g id=\"edge5\" class=\"edge\">\n<title>SingleQubitCompare:e-&gt;less_than_G5:w</title>\n<path fill=\"none\" stroke=\"black\" d=\"M185,-88C205,-88 207.98,-73.23 226.64,-72.07\"/>\n<ellipse fill=\"black\" stroke=\"black\" cx=\"228\" cy=\"-72.03\" rx=\"1\" ry=\"1\"/>\n<text text-anchor=\"middle\" x=\"203.5\" y=\"-85\" font-family=\"Times,serif\" font-size=\"10.00\">1</text>\n</g>\n<!-- greater_than_G6 -->\n<g id=\"node7\" class=\"node\">\n<title>greater_than_G6</title>\n<text text-anchor=\"middle\" x=\"264\" y=\"-14.3\" font-family=\"Times,serif\" font-size=\"14.00\">greater_than</text>\n</g>\n<!-- SingleQubitCompare&#45;&gt;greater_than_G6 -->\n<g id=\"edge6\" class=\"edge\">\n<title>SingleQubitCompare:e-&gt;greater_than_G6:w</title>\n<path fill=\"none\" stroke=\"black\" d=\"M185,-67C211.54,-67 195.64,-20.64 219.86,-18.11\"/>\n<ellipse fill=\"black\" stroke=\"black\" cx=\"221\" cy=\"-18.05\" rx=\"1\" ry=\"1\"/>\n<text text-anchor=\"middle\" x=\"203.5\" y=\"-47\" font-family=\"Times,serif\" font-size=\"10.00\">1</text>\n</g>\n</g>\n</svg>",
          "text/plain": "<IPython.core.display.SVG object>"
         },
         "metadata": {},
         "output_type": "display_data"
        }
       ],
       "tabbable": null,
       "tooltip": null
      }
     },
     "da521b31ff32457686ae4190b1c5aeaf": {
      "model_module": "@jupyter-widgets/base",
      "model_module_version": "2.0.0",
      "model_name": "LayoutModel",
      "state": {
       "_model_module": "@jupyter-widgets/base",
       "_model_module_version": "2.0.0",
       "_model_name": "LayoutModel",
       "_view_count": null,
       "_view_module": "@jupyter-widgets/base",
       "_view_module_version": "2.0.0",
       "_view_name": "LayoutView",
       "align_content": null,
       "align_items": null,
       "align_self": null,
       "border_bottom": null,
       "border_left": null,
       "border_right": null,
       "border_top": null,
       "bottom": null,
       "display": null,
       "flex": null,
       "flex_flow": null,
       "grid_area": null,
       "grid_auto_columns": null,
       "grid_auto_flow": null,
       "grid_auto_rows": null,
       "grid_column": null,
       "grid_gap": null,
       "grid_row": null,
       "grid_template_areas": null,
       "grid_template_columns": null,
       "grid_template_rows": null,
       "height": null,
       "justify_content": null,
       "justify_items": null,
       "left": null,
       "margin": null,
       "max_height": null,
       "max_width": null,
       "min_height": null,
       "min_width": null,
       "object_fit": null,
       "object_position": null,
       "order": null,
       "overflow": null,
       "padding": null,
       "right": null,
       "top": null,
       "visibility": null,
       "width": null
      }
     },
     "dc0fc72ee20a4a6c803c6b1432b31096": {
      "model_module": "@jupyter-widgets/output",
      "model_module_version": "1.0.0",
      "model_name": "OutputModel",
      "state": {
       "_dom_classes": [],
       "_model_module": "@jupyter-widgets/output",
       "_model_module_version": "1.0.0",
       "_model_name": "OutputModel",
       "_view_count": null,
       "_view_module": "@jupyter-widgets/output",
       "_view_module_version": "1.0.0",
       "_view_name": "OutputView",
       "layout": "IPY_MODEL_fd79635501704841a3635193b6e09007",
       "msg_id": "",
       "outputs": [
        {
         "data": {
          "text/markdown": "`bi_qubits_mixer`",
          "text/plain": "<IPython.core.display.Markdown object>"
         },
         "metadata": {},
         "output_type": "display_data"
        },
        {
         "data": {
          "image/svg+xml": "<svg xmlns=\"http://www.w3.org/2000/svg\" xmlns:xlink=\"http://www.w3.org/1999/xlink\" width=\"259pt\" height=\"152pt\" viewBox=\"0.00 0.00 259.00 152.00\">\n<g id=\"graph0\" class=\"graph\" transform=\"scale(1 1) rotate(0) translate(4 148)\">\n<title>my_graph</title>\n<polygon fill=\"white\" stroke=\"transparent\" points=\"-4,4 -4,-148 255,-148 255,4 -4,4\"/>\n<!-- x_G6 -->\n<g id=\"node1\" class=\"node\">\n<title>x_G6</title>\n<text text-anchor=\"middle\" x=\"27\" y=\"-106.3\" font-family=\"Times,serif\" font-size=\"14.00\">x</text>\n</g>\n<!-- BiQubitsMixer -->\n<g id=\"node3\" class=\"node\">\n<title>BiQubitsMixer</title>\n<polygon fill=\"none\" stroke=\"black\" points=\"91.5,-104 91.5,-121 160.5,-121 160.5,-104 91.5,-104\"/>\n<text text-anchor=\"start\" x=\"94.5\" y=\"-110\" font-family=\"Times,serif\" font-size=\"10.00\">BiQubitsMixer</text>\n<polygon fill=\"none\" stroke=\"black\" points=\"91.5,-83 91.5,-104 160.5,-104 160.5,-83 91.5,-83\"/>\n<text text-anchor=\"start\" x=\"122.5\" y=\"-89.8\" font-family=\"Times,serif\" font-size=\"14.00\">x</text>\n<polygon fill=\"none\" stroke=\"black\" points=\"91.5,-62 91.5,-83 160.5,-83 160.5,-62 91.5,-62\"/>\n<text text-anchor=\"start\" x=\"122.5\" y=\"-68.8\" font-family=\"Times,serif\" font-size=\"14.00\">y</text>\n<polygon fill=\"none\" stroke=\"black\" points=\"91.5,-41 91.5,-62 107.5,-62 107.5,-41 91.5,-41\"/>\n<polygon fill=\"none\" stroke=\"black\" points=\"107.5,-41 107.5,-62 160.5,-62 160.5,-41 107.5,-41\"/>\n<text text-anchor=\"start\" x=\"115.5\" y=\"-47.8\" font-family=\"Times,serif\" font-size=\"14.00\">ancilla</text>\n</g>\n<!-- x_G6&#45;&gt;BiQubitsMixer -->\n<g id=\"edge1\" class=\"edge\">\n<title>x_G6:e-&gt;BiQubitsMixer:w</title>\n<path fill=\"none\" stroke=\"black\" d=\"M54,-110C71.22,-110 72.97,-95.23 88.98,-94.07\"/>\n<ellipse fill=\"black\" stroke=\"black\" cx=\"90\" cy=\"-94.04\" rx=\"1\" ry=\"1\"/>\n<text text-anchor=\"middle\" x=\"72.5\" y=\"-105\" font-family=\"Times,serif\" font-size=\"10.00\">2</text>\n</g>\n<!-- y_G0 -->\n<g id=\"node2\" class=\"node\">\n<title>y_G0</title>\n<text text-anchor=\"middle\" x=\"27\" y=\"-52.3\" font-family=\"Times,serif\" font-size=\"14.00\">y</text>\n</g>\n<!-- y_G0&#45;&gt;BiQubitsMixer -->\n<g id=\"edge2\" class=\"edge\">\n<title>y_G0:e-&gt;BiQubitsMixer:w</title>\n<path fill=\"none\" stroke=\"black\" d=\"M54,-56C71.22,-56 72.97,-70.77 88.98,-71.93\"/>\n<ellipse fill=\"black\" stroke=\"black\" cx=\"90\" cy=\"-71.96\" rx=\"1\" ry=\"1\"/>\n<text text-anchor=\"middle\" x=\"72.5\" y=\"-68\" font-family=\"Times,serif\" font-size=\"10.00\">2</text>\n</g>\n<!-- x_G5 -->\n<g id=\"node4\" class=\"node\">\n<title>x_G5</title>\n<text text-anchor=\"middle\" x=\"224\" y=\"-122.3\" font-family=\"Times,serif\" font-size=\"14.00\">x</text>\n</g>\n<!-- BiQubitsMixer&#45;&gt;x_G5 -->\n<g id=\"edge3\" class=\"edge\">\n<title>BiQubitsMixer:e-&gt;x_G5:w</title>\n<path fill=\"none\" stroke=\"black\" d=\"M160,-94C180.89,-94 175.72,-123.55 194.58,-125.86\"/>\n<ellipse fill=\"black\" stroke=\"black\" cx=\"196\" cy=\"-125.94\" rx=\"1\" ry=\"1\"/>\n<text text-anchor=\"middle\" x=\"178.5\" y=\"-113\" font-family=\"Times,serif\" font-size=\"10.00\">2</text>\n</g>\n<!-- y_G4 -->\n<g id=\"node5\" class=\"node\">\n<title>y_G4</title>\n<text text-anchor=\"middle\" x=\"224\" y=\"-68.3\" font-family=\"Times,serif\" font-size=\"14.00\">y</text>\n</g>\n<!-- BiQubitsMixer&#45;&gt;y_G4 -->\n<g id=\"edge4\" class=\"edge\">\n<title>BiQubitsMixer:e-&gt;y_G4:w</title>\n<path fill=\"none\" stroke=\"black\" d=\"M160,-72C175.67,-72 180.14,-72 194.77,-72\"/>\n<ellipse fill=\"black\" stroke=\"black\" cx=\"196\" cy=\"-72\" rx=\"1\" ry=\"1\"/>\n<text text-anchor=\"middle\" x=\"178.5\" y=\"-75\" font-family=\"Times,serif\" font-size=\"10.00\">2</text>\n</g>\n<!-- ancilla_G7 -->\n<g id=\"node6\" class=\"node\">\n<title>ancilla_G7</title>\n<text text-anchor=\"middle\" x=\"224\" y=\"-14.3\" font-family=\"Times,serif\" font-size=\"14.00\">ancilla</text>\n</g>\n<!-- BiQubitsMixer&#45;&gt;ancilla_G7 -->\n<g id=\"edge5\" class=\"edge\">\n<title>BiQubitsMixer:e-&gt;ancilla_G7:w</title>\n<path fill=\"none\" stroke=\"black\" d=\"M160,-51C181.17,-51 175.47,-20.53 194.55,-18.15\"/>\n<ellipse fill=\"black\" stroke=\"black\" cx=\"196\" cy=\"-18.06\" rx=\"1\" ry=\"1\"/>\n<text text-anchor=\"middle\" x=\"178.5\" y=\"-39\" font-family=\"Times,serif\" font-size=\"10.00\">3</text>\n</g>\n</g>\n</svg>",
          "text/plain": "<IPython.core.display.SVG object>"
         },
         "metadata": {},
         "output_type": "display_data"
        }
       ],
       "tabbable": null,
       "tooltip": null
      }
     },
     "dc5d2ab2239b44f6809120b010c3a750": {
      "model_module": "@jupyter-widgets/base",
      "model_module_version": "2.0.0",
      "model_name": "LayoutModel",
      "state": {
       "_model_module": "@jupyter-widgets/base",
       "_model_module_version": "2.0.0",
       "_model_name": "LayoutModel",
       "_view_count": null,
       "_view_module": "@jupyter-widgets/base",
       "_view_module_version": "2.0.0",
       "_view_name": "LayoutView",
       "align_content": null,
       "align_items": null,
       "align_self": null,
       "border_bottom": null,
       "border_left": null,
       "border_right": null,
       "border_top": null,
       "bottom": null,
       "display": null,
       "flex": null,
       "flex_flow": null,
       "grid_area": null,
       "grid_auto_columns": null,
       "grid_auto_flow": null,
       "grid_auto_rows": null,
       "grid_column": null,
       "grid_gap": null,
       "grid_row": null,
       "grid_template_areas": null,
       "grid_template_columns": null,
       "grid_template_rows": null,
       "height": null,
       "justify_content": null,
       "justify_items": null,
       "left": null,
       "margin": null,
       "max_height": null,
       "max_width": null,
       "min_height": null,
       "min_width": null,
       "object_fit": null,
       "object_position": null,
       "order": null,
       "overflow": null,
       "padding": null,
       "right": null,
       "top": null,
       "visibility": null,
       "width": null
      }
     },
     "e08737ab097c439b90ae95da30d4e751": {
      "model_module": "@jupyter-widgets/base",
      "model_module_version": "2.0.0",
      "model_name": "LayoutModel",
      "state": {
       "_model_module": "@jupyter-widgets/base",
       "_model_module_version": "2.0.0",
       "_model_name": "LayoutModel",
       "_view_count": null,
       "_view_module": "@jupyter-widgets/base",
       "_view_module_version": "2.0.0",
       "_view_name": "LayoutView",
       "align_content": null,
       "align_items": null,
       "align_self": null,
       "border_bottom": null,
       "border_left": null,
       "border_right": null,
       "border_top": null,
       "bottom": null,
       "display": null,
       "flex": null,
       "flex_flow": null,
       "grid_area": null,
       "grid_auto_columns": null,
       "grid_auto_flow": null,
       "grid_auto_rows": null,
       "grid_column": null,
       "grid_gap": null,
       "grid_row": null,
       "grid_template_areas": null,
       "grid_template_columns": null,
       "grid_template_rows": null,
       "height": null,
       "justify_content": null,
       "justify_items": null,
       "left": null,
       "margin": null,
       "max_height": null,
       "max_width": null,
       "min_height": null,
       "min_width": null,
       "object_fit": null,
       "object_position": null,
       "order": null,
       "overflow": null,
       "padding": null,
       "right": null,
       "top": null,
       "visibility": null,
       "width": null
      }
     },
     "f09e2346823e456798e7b1e28a91ddad": {
      "model_module": "@jupyter-widgets/controls",
      "model_module_version": "2.0.0",
      "model_name": "HBoxModel",
      "state": {
       "_dom_classes": [],
       "_model_module": "@jupyter-widgets/controls",
       "_model_module_version": "2.0.0",
       "_model_name": "HBoxModel",
       "_view_count": null,
       "_view_module": "@jupyter-widgets/controls",
       "_view_module_version": "2.0.0",
       "_view_name": "HBoxView",
       "box_style": "",
       "children": [
        "IPY_MODEL_8e319da8343c42f1b3748dfb2b6eb645",
        "IPY_MODEL_82f85a74c1ca4ad3bbf287463570dfaa"
       ],
       "layout": "IPY_MODEL_34a09501733a4a31baf4a64270a1614f",
       "tabbable": null,
       "tooltip": null
      }
     },
     "f771e2cebc794d098891b017cb62c1b3": {
      "model_module": "@jupyter-widgets/base",
      "model_module_version": "2.0.0",
      "model_name": "LayoutModel",
      "state": {
       "_model_module": "@jupyter-widgets/base",
       "_model_module_version": "2.0.0",
       "_model_name": "LayoutModel",
       "_view_count": null,
       "_view_module": "@jupyter-widgets/base",
       "_view_module_version": "2.0.0",
       "_view_name": "LayoutView",
       "align_content": null,
       "align_items": null,
       "align_self": null,
       "border_bottom": null,
       "border_left": null,
       "border_right": null,
       "border_top": null,
       "bottom": null,
       "display": null,
       "flex": null,
       "flex_flow": null,
       "grid_area": null,
       "grid_auto_columns": null,
       "grid_auto_flow": null,
       "grid_auto_rows": null,
       "grid_column": null,
       "grid_gap": null,
       "grid_row": null,
       "grid_template_areas": null,
       "grid_template_columns": null,
       "grid_template_rows": null,
       "height": null,
       "justify_content": null,
       "justify_items": null,
       "left": null,
       "margin": null,
       "max_height": null,
       "max_width": null,
       "min_height": null,
       "min_width": null,
       "object_fit": null,
       "object_position": null,
       "order": null,
       "overflow": null,
       "padding": null,
       "right": null,
       "top": null,
       "visibility": null,
       "width": null
      }
     },
     "fd79635501704841a3635193b6e09007": {
      "model_module": "@jupyter-widgets/base",
      "model_module_version": "2.0.0",
      "model_name": "LayoutModel",
      "state": {
       "_model_module": "@jupyter-widgets/base",
       "_model_module_version": "2.0.0",
       "_model_name": "LayoutModel",
       "_view_count": null,
       "_view_module": "@jupyter-widgets/base",
       "_view_module_version": "2.0.0",
       "_view_name": "LayoutView",
       "align_content": null,
       "align_items": null,
       "align_self": null,
       "border_bottom": null,
       "border_left": null,
       "border_right": null,
       "border_top": null,
       "bottom": null,
       "display": null,
       "flex": null,
       "flex_flow": null,
       "grid_area": null,
       "grid_auto_columns": null,
       "grid_auto_flow": null,
       "grid_auto_rows": null,
       "grid_column": null,
       "grid_gap": null,
       "grid_row": null,
       "grid_template_areas": null,
       "grid_template_columns": null,
       "grid_template_rows": null,
       "height": null,
       "justify_content": null,
       "justify_items": null,
       "left": null,
       "margin": null,
       "max_height": null,
       "max_width": null,
       "min_height": null,
       "min_width": null,
       "object_fit": null,
       "object_position": null,
       "order": null,
       "overflow": null,
       "padding": null,
       "right": null,
       "top": null,
       "visibility": null,
       "width": null
      }
     }
    },
    "version_major": 2,
    "version_minor": 0
   }
  }
 },
 "nbformat": 4,
 "nbformat_minor": 5
}
