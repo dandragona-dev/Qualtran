{
 "cells": [
  {
   "cell_type": "markdown",
   "id": "3f62c768",
   "metadata": {
    "cq.autogen": "title_cell"
   },
   "source": [
    "# Subtraction"
   ]
  },
  {
   "cell_type": "code",
   "execution_count": 1,
   "id": "1e50eeb1",
   "metadata": {
    "cq.autogen": "top_imports"
   },
   "outputs": [],
   "source": [
    "from qualtran import Bloq, CompositeBloq, BloqBuilder, Signature, Register\n",
    "from qualtran import QBit, QInt, QUInt, QAny\n",
    "from qualtran.drawing import show_bloq, show_call_graph, show_counts_sigma\n",
    "from typing import *\n",
    "import numpy as np\n",
    "import sympy\n",
    "import cirq"
   ]
  },
  {
   "cell_type": "markdown",
   "id": "9c974476",
   "metadata": {
    "cq.autogen": "Subtract.bloq_doc.md"
   },
   "source": [
    "## `Subtract`\n",
    "An n-bit subtraction gate.\n",
    "\n",
    "Implements $U|a\\rangle|b\\rangle \\rightarrow |a\\rangle|a-b\\rangle$ using $4n - 4$ T gates.\n",
    "\n",
    "This construction uses the relation `a - b = ~(~a + b)` to turn the operation into addition. This relation is used in\n",
    "[Compilation of Fault-Tolerant Quantum Heuristics for Combinatorial Optimization](https://arxiv.org/pdf/2007.07391)\n",
    "to turn addition into subtraction conditioned on a qubit.\n",
    "\n",
    "#### Parameters\n",
    " - `a_dtype`: Quantum datatype used to represent the integer a.\n",
    " - `b_dtype`: Quantum datatype used to represent the integer b. Must be large enough to hold the result in the output register of a - b, or else it simply drops the most significant bits. If not specified, b_dtype is set to a_dtype. \n",
    "\n",
    "#### Registers\n",
    " - `a`: A a_dtype.bitsize-sized input register (register a above).\n",
    " - `b`: A b_dtype.bitsize-sized input/output register (register b above). \n",
    "\n",
    "#### References\n",
    " - [Compilation of Fault-Tolerant Quantum Heuristics for Combinatorial Optimization](https://arxiv.org/abs/2007.07391). Page 9.\n"
   ]
  },
  {
   "cell_type": "code",
   "execution_count": 2,
   "id": "0af034cf",
   "metadata": {
    "cq.autogen": "Subtract.bloq_doc.py"
   },
   "outputs": [],
   "source": [
    "from qualtran.bloqs.arithmetic import Subtract"
   ]
  },
  {
   "cell_type": "markdown",
   "id": "9156f4e7",
   "metadata": {
    "cq.autogen": "Subtract.example_instances.md"
   },
   "source": [
    "### Example Instances"
   ]
  },
  {
   "cell_type": "code",
   "execution_count": 3,
   "id": "135553b1",
   "metadata": {
    "cq.autogen": "Subtract.sub_symb"
   },
   "outputs": [],
   "source": [
    "n = sympy.Symbol('n')\n",
    "sub_symb = Subtract(QInt(bitsize=n))"
   ]
  },
  {
   "cell_type": "code",
   "execution_count": 4,
   "id": "84c7207a",
   "metadata": {
    "cq.autogen": "Subtract.sub_small"
   },
   "outputs": [],
   "source": [
    "sub_small = Subtract(QInt(bitsize=4))"
   ]
  },
  {
   "cell_type": "code",
   "execution_count": 5,
   "id": "e98b3206",
   "metadata": {
    "cq.autogen": "Subtract.sub_large"
   },
   "outputs": [],
   "source": [
    "sub_large = Subtract(QInt(bitsize=64))"
   ]
  },
  {
   "cell_type": "code",
   "execution_count": 6,
   "id": "e003f5ad",
   "metadata": {
    "cq.autogen": "Subtract.sub_diff_size_regs"
   },
   "outputs": [],
   "source": [
    "sub_diff_size_regs = Subtract(QInt(bitsize=4), QInt(bitsize=16))"
   ]
  },
  {
   "cell_type": "code",
   "execution_count": 7,
   "id": "4aabfa98",
   "metadata": {
    "cq.autogen": "Subtract.sub_symp_decomposition"
   },
   "outputs": [],
   "source": [
    "n = sympy.Symbol('n')\n",
    "sub_symp_decomposition = Subtract(QInt(bitsize=n)).decompose_bloq()"
   ]
  },
  {
   "cell_type": "markdown",
   "id": "9b580c5b",
   "metadata": {
    "cq.autogen": "Subtract.graphical_signature.md"
   },
   "source": [
    "#### Graphical Signature"
   ]
  },
  {
   "cell_type": "code",
   "execution_count": 8,
   "id": "aa412d69",
   "metadata": {
    "cq.autogen": "Subtract.graphical_signature.py"
   },
   "outputs": [
    {
     "data": {
      "application/vnd.jupyter.widget-view+json": {
       "model_id": "55b58ecd5e424aacb19c7238adc38c8e",
       "version_major": 2,
       "version_minor": 0
      },
      "text/plain": [
       "HBox(children=(Output(outputs=({'output_type': 'display_data', 'data': {'text/plain': '<IPython.core.display.M…"
      ]
     },
     "metadata": {},
     "output_type": "display_data"
    }
   ],
   "source": [
    "from qualtran.drawing import show_bloqs\n",
    "show_bloqs([sub_symb, sub_small, sub_large, sub_diff_size_regs, sub_symp_decomposition],\n",
    "           ['`sub_symb`', '`sub_small`', '`sub_large`', '`sub_diff_size_regs`', '`sub_symp_decomposition`'])"
   ]
  },
  {
   "cell_type": "markdown",
   "id": "6fad45f3",
   "metadata": {
    "cq.autogen": "Subtract.call_graph.md"
   },
   "source": [
    "### Call Graph"
   ]
  },
  {
   "cell_type": "code",
   "execution_count": 9,
   "id": "6a3d1dbc",
   "metadata": {
    "cq.autogen": "Subtract.call_graph.py"
   },
   "outputs": [
    {
     "data": {
      "image/svg+xml": [
       "<svg xmlns=\"http://www.w3.org/2000/svg\" xmlns:xlink=\"http://www.w3.org/1999/xlink\" width=\"152pt\" height=\"131pt\" viewBox=\"0.00 0.00 152.00 131.00\">\n",
       "<g id=\"graph0\" class=\"graph\" transform=\"scale(1 1) rotate(0) translate(4 127)\">\n",
       "<title>counts</title>\n",
       "<polygon fill=\"white\" stroke=\"transparent\" points=\"-4,4 -4,-127 148,-127 148,4 -4,4\"/>\n",
       "<!-- b0 -->\n",
       "<g id=\"node1\" class=\"node\">\n",
       "<title>b0</title>\n",
       "<polygon fill=\"none\" stroke=\"black\" points=\"53,-93 53,-116 99,-116 99,-93 53,-93\"/>\n",
       "<text text-anchor=\"start\" x=\"59\" y=\"-102\" font-family=\"Times,serif\" font-size=\"10.00\">Subtract</text>\n",
       "</g>\n",
       "<!-- b1 -->\n",
       "<g id=\"node2\" class=\"node\">\n",
       "<title>b1</title>\n",
       "<polygon fill=\"none\" stroke=\"black\" points=\"8,-6 8,-29 64,-29 64,-6 8,-6\"/>\n",
       "<text text-anchor=\"start\" x=\"14.5\" y=\"-15\" font-family=\"Times,serif\" font-size=\"10.00\">XGate⨂n</text>\n",
       "</g>\n",
       "<!-- b0&#45;&gt;b1 -->\n",
       "<g id=\"edge1\" class=\"edge\">\n",
       "<title>b0-&gt;b1</title>\n",
       "<path fill=\"none\" stroke=\"black\" d=\"M67.91,-86.8C62.32,-74.93 54.79,-58.93 48.45,-45.45\"/>\n",
       "<polygon fill=\"black\" stroke=\"black\" points=\"51.51,-43.73 44.08,-36.18 45.17,-46.71 51.51,-43.73\"/>\n",
       "<text text-anchor=\"middle\" x=\"62.5\" y=\"-57.8\" font-family=\"Times,serif\" font-size=\"14.00\">3</text>\n",
       "</g>\n",
       "<!-- b2 -->\n",
       "<g id=\"node3\" class=\"node\">\n",
       "<title>b2</title>\n",
       "<polygon fill=\"none\" stroke=\"black\" points=\"101,-6 101,-29 133,-29 133,-6 101,-6\"/>\n",
       "<text text-anchor=\"start\" x=\"107.5\" y=\"-15\" font-family=\"Times,serif\" font-size=\"10.00\">Add</text>\n",
       "</g>\n",
       "<!-- b0&#45;&gt;b2 -->\n",
       "<g id=\"edge2\" class=\"edge\">\n",
       "<title>b0-&gt;b2</title>\n",
       "<path fill=\"none\" stroke=\"black\" d=\"M84.3,-86.8C90.02,-74.93 97.74,-58.93 104.24,-45.45\"/>\n",
       "<polygon fill=\"black\" stroke=\"black\" points=\"107.52,-46.7 108.72,-36.18 101.22,-43.66 107.52,-46.7\"/>\n",
       "<text text-anchor=\"middle\" x=\"101.5\" y=\"-57.8\" font-family=\"Times,serif\" font-size=\"14.00\">1</text>\n",
       "</g>\n",
       "</g>\n",
       "</svg>"
      ],
      "text/plain": [
       "<IPython.core.display.SVG object>"
      ]
     },
     "metadata": {},
     "output_type": "display_data"
    },
    {
     "data": {
      "text/markdown": [
       "#### Counts totals:\n",
       " - `Add`: 1\n",
       " - `XGate⨂n`: 3"
      ],
      "text/plain": [
       "<IPython.core.display.Markdown object>"
      ]
     },
     "metadata": {},
     "output_type": "display_data"
    }
   ],
   "source": [
    "from qualtran.resource_counting.generalizers import ignore_split_join\n",
    "sub_symb_g, sub_symb_sigma = sub_symb.call_graph(max_depth=1, generalizer=ignore_split_join)\n",
    "show_call_graph(sub_symb_g)\n",
    "show_counts_sigma(sub_symb_sigma)"
   ]
  },
  {
   "cell_type": "markdown",
   "id": "c4da55d6",
   "metadata": {
    "cq.autogen": "SubtractFrom.bloq_doc.md"
   },
   "source": [
    "## `SubtractFrom`\n",
    "A version of `Subtract` that subtracts the first register from the second in place.\n",
    "\n",
    "Implements $U|a\n",
    "angle|b\n",
    "angle\n",
    "ightarrow |a\n",
    "angle|b - a\n",
    "angle$, essentially equivalent to\n",
    "the statement `b -= a`.\n",
    "\n",
    "#### Parameters\n",
    " - `dtype`: Quantum datatype used to represent the integers a, b, and b - a. \n",
    "\n",
    "#### Registers\n",
    " - `a`: A dtype.bitsize-sized input register (register a above).\n",
    " - `b`: A dtype.bitsize-sized input/output register (register b above).\n"
   ]
  },
  {
   "cell_type": "code",
   "execution_count": 10,
   "id": "ccc21662",
   "metadata": {
    "cq.autogen": "SubtractFrom.bloq_doc.py"
   },
   "outputs": [],
   "source": [
    "from qualtran.bloqs.arithmetic import SubtractFrom"
   ]
  },
  {
   "cell_type": "markdown",
   "id": "b8182c9f",
   "metadata": {
    "cq.autogen": "SubtractFrom.example_instances.md"
   },
   "source": [
    "### Example Instances"
   ]
  },
  {
   "cell_type": "code",
   "execution_count": 11,
   "id": "4b56cde9",
   "metadata": {
    "cq.autogen": "SubtractFrom.sub_from_symb"
   },
   "outputs": [],
   "source": [
    "n = sympy.Symbol('n')\n",
    "sub_from_symb = SubtractFrom(QInt(bitsize=n))"
   ]
  },
  {
   "cell_type": "code",
   "execution_count": 12,
   "id": "cc45ae49",
   "metadata": {
    "cq.autogen": "SubtractFrom.sub_from_small"
   },
   "outputs": [],
   "source": [
    "sub_from_small = SubtractFrom(QInt(bitsize=4))"
   ]
  },
  {
   "cell_type": "code",
   "execution_count": 13,
   "id": "8e40b0fb",
   "metadata": {
    "cq.autogen": "SubtractFrom.sub_from_large"
   },
   "outputs": [],
   "source": [
    "sub_from_large = SubtractFrom(QInt(bitsize=64))"
   ]
  },
  {
   "cell_type": "markdown",
   "id": "6d965b01",
   "metadata": {
    "cq.autogen": "SubtractFrom.graphical_signature.md"
   },
   "source": [
    "#### Graphical Signature"
   ]
  },
  {
   "cell_type": "code",
   "execution_count": 14,
   "id": "093d2a0d",
   "metadata": {
    "cq.autogen": "SubtractFrom.graphical_signature.py"
   },
   "outputs": [
    {
     "data": {
      "application/vnd.jupyter.widget-view+json": {
       "model_id": "e1825d4efcfd4cd582a54dad60e08cbc",
       "version_major": 2,
       "version_minor": 0
      },
      "text/plain": [
       "HBox(children=(Output(outputs=({'output_type': 'display_data', 'data': {'text/plain': '<IPython.core.display.M…"
      ]
     },
     "metadata": {},
     "output_type": "display_data"
    }
   ],
   "source": [
    "from qualtran.drawing import show_bloqs\n",
    "show_bloqs([sub_from_symb, sub_from_small, sub_from_large],\n",
    "           ['`sub_from_symb`', '`sub_from_small`', '`sub_from_large`'])"
   ]
  },
  {
   "cell_type": "markdown",
   "id": "420fd950",
   "metadata": {
    "cq.autogen": "SubtractFrom.call_graph.md"
   },
   "source": [
    "### Call Graph"
   ]
  },
  {
   "cell_type": "code",
   "execution_count": 15,
   "id": "7d1b9b0e",
   "metadata": {
    "cq.autogen": "SubtractFrom.call_graph.py"
   },
   "outputs": [
    {
     "data": {
      "image/svg+xml": [
       "<svg xmlns=\"http://www.w3.org/2000/svg\" xmlns:xlink=\"http://www.w3.org/1999/xlink\" width=\"156pt\" height=\"131pt\" viewBox=\"0.00 0.00 156.00 131.00\">\n",
       "<g id=\"graph0\" class=\"graph\" transform=\"scale(1 1) rotate(0) translate(4 127)\">\n",
       "<title>counts</title>\n",
       "<polygon fill=\"white\" stroke=\"transparent\" points=\"-4,4 -4,-127 152,-127 152,4 -4,4\"/>\n",
       "<!-- b0 -->\n",
       "<g id=\"node1\" class=\"node\">\n",
       "<title>b0</title>\n",
       "<polygon fill=\"none\" stroke=\"black\" points=\"45,-93 45,-116 113,-116 113,-93 45,-93\"/>\n",
       "<text text-anchor=\"start\" x=\"51.5\" y=\"-102\" font-family=\"Times,serif\" font-size=\"10.00\">SubtractFrom</text>\n",
       "</g>\n",
       "<!-- b1 -->\n",
       "<g id=\"node2\" class=\"node\">\n",
       "<title>b1</title>\n",
       "<polygon fill=\"none\" stroke=\"black\" points=\"8,-6 8,-29 68,-29 68,-6 8,-6\"/>\n",
       "<text text-anchor=\"start\" x=\"14\" y=\"-15\" font-family=\"Times,serif\" font-size=\"10.00\">BitwiseNot</text>\n",
       "</g>\n",
       "<!-- b0&#45;&gt;b1 -->\n",
       "<g id=\"edge1\" class=\"edge\">\n",
       "<title>b0-&gt;b1</title>\n",
       "<path fill=\"none\" stroke=\"black\" d=\"M70.7,-86.8C64.98,-74.93 57.26,-58.93 50.76,-45.45\"/>\n",
       "<polygon fill=\"black\" stroke=\"black\" points=\"53.78,-43.66 46.28,-36.18 47.48,-46.7 53.78,-43.66\"/>\n",
       "<text text-anchor=\"middle\" x=\"64.5\" y=\"-57.8\" font-family=\"Times,serif\" font-size=\"14.00\">2</text>\n",
       "</g>\n",
       "<!-- b2 -->\n",
       "<g id=\"node3\" class=\"node\">\n",
       "<title>b2</title>\n",
       "<polygon fill=\"none\" stroke=\"black\" points=\"105,-6 105,-29 137,-29 137,-6 105,-6\"/>\n",
       "<text text-anchor=\"start\" x=\"111.5\" y=\"-15\" font-family=\"Times,serif\" font-size=\"10.00\">Add</text>\n",
       "</g>\n",
       "<!-- b0&#45;&gt;b2 -->\n",
       "<g id=\"edge2\" class=\"edge\">\n",
       "<title>b0-&gt;b2</title>\n",
       "<path fill=\"none\" stroke=\"black\" d=\"M87.5,-86.8C93.36,-74.93 101.27,-58.93 107.93,-45.45\"/>\n",
       "<polygon fill=\"black\" stroke=\"black\" points=\"111.22,-46.69 112.51,-36.18 104.95,-43.59 111.22,-46.69\"/>\n",
       "<text text-anchor=\"middle\" x=\"105.5\" y=\"-57.8\" font-family=\"Times,serif\" font-size=\"14.00\">1</text>\n",
       "</g>\n",
       "</g>\n",
       "</svg>"
      ],
      "text/plain": [
       "<IPython.core.display.SVG object>"
      ]
     },
     "metadata": {},
     "output_type": "display_data"
    },
    {
     "data": {
      "text/markdown": [
       "#### Counts totals:\n",
       " - `Add`: 1\n",
       " - `BitwiseNot`: 2"
      ],
      "text/plain": [
       "<IPython.core.display.Markdown object>"
      ]
     },
     "metadata": {},
     "output_type": "display_data"
    }
   ],
   "source": [
    "from qualtran.resource_counting.generalizers import ignore_split_join\n",
    "sub_from_symb_g, sub_from_symb_sigma = sub_from_symb.call_graph(max_depth=1, generalizer=ignore_split_join)\n",
    "show_call_graph(sub_from_symb_g)\n",
    "show_counts_sigma(sub_from_symb_sigma)"
   ]
  }
 ],
 "metadata": {
  "kernelspec": {
   "display_name": "Python 3",
   "language": "python",
   "name": "python3"
  },
  "language_info": {
   "codemirror_mode": {
    "name": "ipython",
    "version": 3
   },
   "file_extension": ".py",
   "mimetype": "text/x-python",
   "name": "python",
   "nbconvert_exporter": "python",
   "pygments_lexer": "ipython3",
   "version": "3.11.8"
  },
  "widgets": {
   "application/vnd.jupyter.widget-state+json": {
    "state": {
     "07eb70ecd5164367a961ace787db28ac": {
      "model_module": "@jupyter-widgets/output",
      "model_module_version": "1.0.0",
      "model_name": "OutputModel",
      "state": {
       "_dom_classes": [],
       "_model_module": "@jupyter-widgets/output",
       "_model_module_version": "1.0.0",
       "_model_name": "OutputModel",
       "_view_count": null,
       "_view_module": "@jupyter-widgets/output",
       "_view_module_version": "1.0.0",
       "_view_name": "OutputView",
       "layout": "IPY_MODEL_c1da4f4b199d4bf5a9f3c11f320d43d8",
       "msg_id": "",
       "outputs": [
        {
         "data": {
          "text/markdown": "`sub_large`",
          "text/plain": "<IPython.core.display.Markdown object>"
         },
         "metadata": {},
         "output_type": "display_data"
        },
        {
         "data": {
          "image/svg+xml": "<svg xmlns=\"http://www.w3.org/2000/svg\" xmlns:xlink=\"http://www.w3.org/1999/xlink\" width=\"230pt\" height=\"98pt\" viewBox=\"0.00 0.00 230.00 98.00\">\n<g id=\"graph0\" class=\"graph\" transform=\"scale(1 1) rotate(0) translate(4 94)\">\n<title>my_graph</title>\n<polygon fill=\"white\" stroke=\"transparent\" points=\"-4,4 -4,-94 226,-94 226,4 -4,4\"/>\n<!-- a_G1 -->\n<g id=\"node1\" class=\"node\">\n<title>a_G1</title>\n<text text-anchor=\"middle\" x=\"27\" y=\"-68.3\" font-family=\"Times,serif\" font-size=\"14.00\">a</text>\n</g>\n<!-- Subtract -->\n<g id=\"node3\" class=\"node\">\n<title>Subtract</title>\n<polygon fill=\"none\" stroke=\"black\" points=\"91,-66 91,-83 131,-83 131,-66 91,-66\"/>\n<text text-anchor=\"start\" x=\"94\" y=\"-72\" font-family=\"Times,serif\" font-size=\"10.00\">Subtract</text>\n<polygon fill=\"none\" stroke=\"black\" points=\"91,-45 91,-66 131,-66 131,-45 91,-45\"/>\n<text text-anchor=\"start\" x=\"107.5\" y=\"-51.8\" font-family=\"Times,serif\" font-size=\"14.00\">a</text>\n<polygon fill=\"none\" stroke=\"black\" points=\"91,-24 91,-45 131,-45 131,-24 91,-24\"/>\n<text text-anchor=\"start\" x=\"107.5\" y=\"-30.8\" font-family=\"Times,serif\" font-size=\"14.00\">b</text>\n</g>\n<!-- a_G1&#45;&gt;Subtract -->\n<g id=\"edge1\" class=\"edge\">\n<title>a_G1:e-&gt;Subtract:w</title>\n<path fill=\"none\" stroke=\"black\" d=\"M54,-72C71.22,-72 72.97,-57.23 88.98,-56.07\"/>\n<ellipse fill=\"black\" stroke=\"black\" cx=\"90\" cy=\"-56.04\" rx=\"1\" ry=\"1\"/>\n<text text-anchor=\"middle\" x=\"72.5\" y=\"-67\" font-family=\"Times,serif\" font-size=\"10.00\">64</text>\n</g>\n<!-- b_G0 -->\n<g id=\"node2\" class=\"node\">\n<title>b_G0</title>\n<text text-anchor=\"middle\" x=\"27\" y=\"-14.3\" font-family=\"Times,serif\" font-size=\"14.00\">b</text>\n</g>\n<!-- b_G0&#45;&gt;Subtract -->\n<g id=\"edge2\" class=\"edge\">\n<title>b_G0:e-&gt;Subtract:w</title>\n<path fill=\"none\" stroke=\"black\" d=\"M54,-18C71.22,-18 72.97,-32.77 88.98,-33.93\"/>\n<ellipse fill=\"black\" stroke=\"black\" cx=\"90\" cy=\"-33.96\" rx=\"1\" ry=\"1\"/>\n<text text-anchor=\"middle\" x=\"72.5\" y=\"-29\" font-family=\"Times,serif\" font-size=\"10.00\">64</text>\n</g>\n<!-- a_G4 -->\n<g id=\"node4\" class=\"node\">\n<title>a_G4</title>\n<text text-anchor=\"middle\" x=\"195\" y=\"-68.3\" font-family=\"Times,serif\" font-size=\"14.00\">a</text>\n</g>\n<!-- Subtract&#45;&gt;a_G4 -->\n<g id=\"edge3\" class=\"edge\">\n<title>Subtract:e-&gt;a_G4:w</title>\n<path fill=\"none\" stroke=\"black\" d=\"M131,-56C148.22,-56 149.97,-70.77 165.98,-71.93\"/>\n<ellipse fill=\"black\" stroke=\"black\" cx=\"167\" cy=\"-71.96\" rx=\"1\" ry=\"1\"/>\n<text text-anchor=\"middle\" x=\"149.5\" y=\"-67\" font-family=\"Times,serif\" font-size=\"10.00\">64</text>\n</g>\n<!-- b_G3 -->\n<g id=\"node5\" class=\"node\">\n<title>b_G3</title>\n<text text-anchor=\"middle\" x=\"195\" y=\"-14.3\" font-family=\"Times,serif\" font-size=\"14.00\">b</text>\n</g>\n<!-- Subtract&#45;&gt;b_G3 -->\n<g id=\"edge4\" class=\"edge\">\n<title>Subtract:e-&gt;b_G3:w</title>\n<path fill=\"none\" stroke=\"black\" d=\"M131,-34C148.22,-34 149.97,-19.23 165.98,-18.07\"/>\n<ellipse fill=\"black\" stroke=\"black\" cx=\"167\" cy=\"-18.04\" rx=\"1\" ry=\"1\"/>\n<text text-anchor=\"middle\" x=\"149.5\" y=\"-29\" font-family=\"Times,serif\" font-size=\"10.00\">64</text>\n</g>\n</g>\n</svg>",
          "text/plain": "<IPython.core.display.SVG object>"
         },
         "metadata": {},
         "output_type": "display_data"
        }
       ],
       "tabbable": null,
       "tooltip": null
      }
     },
     "081aed4fe8054b11939f91a3a8394188": {
      "model_module": "@jupyter-widgets/output",
      "model_module_version": "1.0.0",
      "model_name": "OutputModel",
      "state": {
       "_dom_classes": [],
       "_model_module": "@jupyter-widgets/output",
       "_model_module_version": "1.0.0",
       "_model_name": "OutputModel",
       "_view_count": null,
       "_view_module": "@jupyter-widgets/output",
       "_view_module_version": "1.0.0",
       "_view_name": "OutputView",
       "layout": "IPY_MODEL_0c927bd79f1143bc8c2008aebb9119f8",
       "msg_id": "",
       "outputs": [
        {
         "data": {
          "text/markdown": "`sub_diff_size_regs`",
          "text/plain": "<IPython.core.display.Markdown object>"
         },
         "metadata": {},
         "output_type": "display_data"
        },
        {
         "data": {
          "image/svg+xml": "<svg xmlns=\"http://www.w3.org/2000/svg\" xmlns:xlink=\"http://www.w3.org/1999/xlink\" width=\"230pt\" height=\"98pt\" viewBox=\"0.00 0.00 230.00 98.00\">\n<g id=\"graph0\" class=\"graph\" transform=\"scale(1 1) rotate(0) translate(4 94)\">\n<title>my_graph</title>\n<polygon fill=\"white\" stroke=\"transparent\" points=\"-4,4 -4,-94 226,-94 226,4 -4,4\"/>\n<!-- a_G4 -->\n<g id=\"node1\" class=\"node\">\n<title>a_G4</title>\n<text text-anchor=\"middle\" x=\"27\" y=\"-68.3\" font-family=\"Times,serif\" font-size=\"14.00\">a</text>\n</g>\n<!-- Subtract -->\n<g id=\"node3\" class=\"node\">\n<title>Subtract</title>\n<polygon fill=\"none\" stroke=\"black\" points=\"91,-66 91,-83 131,-83 131,-66 91,-66\"/>\n<text text-anchor=\"start\" x=\"94\" y=\"-72\" font-family=\"Times,serif\" font-size=\"10.00\">Subtract</text>\n<polygon fill=\"none\" stroke=\"black\" points=\"91,-45 91,-66 131,-66 131,-45 91,-45\"/>\n<text text-anchor=\"start\" x=\"107.5\" y=\"-51.8\" font-family=\"Times,serif\" font-size=\"14.00\">a</text>\n<polygon fill=\"none\" stroke=\"black\" points=\"91,-24 91,-45 131,-45 131,-24 91,-24\"/>\n<text text-anchor=\"start\" x=\"107.5\" y=\"-30.8\" font-family=\"Times,serif\" font-size=\"14.00\">b</text>\n</g>\n<!-- a_G4&#45;&gt;Subtract -->\n<g id=\"edge1\" class=\"edge\">\n<title>a_G4:e-&gt;Subtract:w</title>\n<path fill=\"none\" stroke=\"black\" d=\"M54,-72C71.22,-72 72.97,-57.23 88.98,-56.07\"/>\n<ellipse fill=\"black\" stroke=\"black\" cx=\"90\" cy=\"-56.04\" rx=\"1\" ry=\"1\"/>\n<text text-anchor=\"middle\" x=\"72.5\" y=\"-67\" font-family=\"Times,serif\" font-size=\"10.00\">4</text>\n</g>\n<!-- b_G2 -->\n<g id=\"node2\" class=\"node\">\n<title>b_G2</title>\n<text text-anchor=\"middle\" x=\"27\" y=\"-14.3\" font-family=\"Times,serif\" font-size=\"14.00\">b</text>\n</g>\n<!-- b_G2&#45;&gt;Subtract -->\n<g id=\"edge2\" class=\"edge\">\n<title>b_G2:e-&gt;Subtract:w</title>\n<path fill=\"none\" stroke=\"black\" d=\"M54,-18C71.22,-18 72.97,-32.77 88.98,-33.93\"/>\n<ellipse fill=\"black\" stroke=\"black\" cx=\"90\" cy=\"-33.96\" rx=\"1\" ry=\"1\"/>\n<text text-anchor=\"middle\" x=\"72.5\" y=\"-29\" font-family=\"Times,serif\" font-size=\"10.00\">16</text>\n</g>\n<!-- a_G3 -->\n<g id=\"node4\" class=\"node\">\n<title>a_G3</title>\n<text text-anchor=\"middle\" x=\"195\" y=\"-68.3\" font-family=\"Times,serif\" font-size=\"14.00\">a</text>\n</g>\n<!-- Subtract&#45;&gt;a_G3 -->\n<g id=\"edge3\" class=\"edge\">\n<title>Subtract:e-&gt;a_G3:w</title>\n<path fill=\"none\" stroke=\"black\" d=\"M131,-56C148.22,-56 149.97,-70.77 165.98,-71.93\"/>\n<ellipse fill=\"black\" stroke=\"black\" cx=\"167\" cy=\"-71.96\" rx=\"1\" ry=\"1\"/>\n<text text-anchor=\"middle\" x=\"149.5\" y=\"-67\" font-family=\"Times,serif\" font-size=\"10.00\">4</text>\n</g>\n<!-- b_G1 -->\n<g id=\"node5\" class=\"node\">\n<title>b_G1</title>\n<text text-anchor=\"middle\" x=\"195\" y=\"-14.3\" font-family=\"Times,serif\" font-size=\"14.00\">b</text>\n</g>\n<!-- Subtract&#45;&gt;b_G1 -->\n<g id=\"edge4\" class=\"edge\">\n<title>Subtract:e-&gt;b_G1:w</title>\n<path fill=\"none\" stroke=\"black\" d=\"M131,-34C148.22,-34 149.97,-19.23 165.98,-18.07\"/>\n<ellipse fill=\"black\" stroke=\"black\" cx=\"167\" cy=\"-18.04\" rx=\"1\" ry=\"1\"/>\n<text text-anchor=\"middle\" x=\"149.5\" y=\"-29\" font-family=\"Times,serif\" font-size=\"10.00\">16</text>\n</g>\n</g>\n</svg>",
          "text/plain": "<IPython.core.display.SVG object>"
         },
         "metadata": {},
         "output_type": "display_data"
        }
       ],
       "tabbable": null,
       "tooltip": null
      }
     },
     "0c927bd79f1143bc8c2008aebb9119f8": {
      "model_module": "@jupyter-widgets/base",
      "model_module_version": "2.0.0",
      "model_name": "LayoutModel",
      "state": {
       "_model_module": "@jupyter-widgets/base",
       "_model_module_version": "2.0.0",
       "_model_name": "LayoutModel",
       "_view_count": null,
       "_view_module": "@jupyter-widgets/base",
       "_view_module_version": "2.0.0",
       "_view_name": "LayoutView",
       "align_content": null,
       "align_items": null,
       "align_self": null,
       "border_bottom": null,
       "border_left": null,
       "border_right": null,
       "border_top": null,
       "bottom": null,
       "display": null,
       "flex": null,
       "flex_flow": null,
       "grid_area": null,
       "grid_auto_columns": null,
       "grid_auto_flow": null,
       "grid_auto_rows": null,
       "grid_column": null,
       "grid_gap": null,
       "grid_row": null,
       "grid_template_areas": null,
       "grid_template_columns": null,
       "grid_template_rows": null,
       "height": null,
       "justify_content": null,
       "justify_items": null,
       "left": null,
       "margin": null,
       "max_height": null,
       "max_width": null,
       "min_height": null,
       "min_width": null,
       "object_fit": null,
       "object_position": null,
       "order": null,
       "overflow": null,
       "padding": null,
       "right": null,
       "top": null,
       "visibility": null,
       "width": null
      }
     },
     "256bbcc7d41d40f39319a1a213fd9bfb": {
      "model_module": "@jupyter-widgets/output",
      "model_module_version": "1.0.0",
      "model_name": "OutputModel",
      "state": {
       "_dom_classes": [],
       "_model_module": "@jupyter-widgets/output",
       "_model_module_version": "1.0.0",
       "_model_name": "OutputModel",
       "_view_count": null,
       "_view_module": "@jupyter-widgets/output",
       "_view_module_version": "1.0.0",
       "_view_name": "OutputView",
       "layout": "IPY_MODEL_5c0d12cc31ec4b888af850309a283338",
       "msg_id": "",
       "outputs": [
        {
         "data": {
          "text/markdown": "`sub_small`",
          "text/plain": "<IPython.core.display.Markdown object>"
         },
         "metadata": {},
         "output_type": "display_data"
        },
        {
         "data": {
          "image/svg+xml": "<svg xmlns=\"http://www.w3.org/2000/svg\" xmlns:xlink=\"http://www.w3.org/1999/xlink\" width=\"230pt\" height=\"98pt\" viewBox=\"0.00 0.00 230.00 98.00\">\n<g id=\"graph0\" class=\"graph\" transform=\"scale(1 1) rotate(0) translate(4 94)\">\n<title>my_graph</title>\n<polygon fill=\"white\" stroke=\"transparent\" points=\"-4,4 -4,-94 226,-94 226,4 -4,4\"/>\n<!-- a_G1 -->\n<g id=\"node1\" class=\"node\">\n<title>a_G1</title>\n<text text-anchor=\"middle\" x=\"27\" y=\"-68.3\" font-family=\"Times,serif\" font-size=\"14.00\">a</text>\n</g>\n<!-- Subtract -->\n<g id=\"node3\" class=\"node\">\n<title>Subtract</title>\n<polygon fill=\"none\" stroke=\"black\" points=\"91,-66 91,-83 131,-83 131,-66 91,-66\"/>\n<text text-anchor=\"start\" x=\"94\" y=\"-72\" font-family=\"Times,serif\" font-size=\"10.00\">Subtract</text>\n<polygon fill=\"none\" stroke=\"black\" points=\"91,-45 91,-66 131,-66 131,-45 91,-45\"/>\n<text text-anchor=\"start\" x=\"107.5\" y=\"-51.8\" font-family=\"Times,serif\" font-size=\"14.00\">a</text>\n<polygon fill=\"none\" stroke=\"black\" points=\"91,-24 91,-45 131,-45 131,-24 91,-24\"/>\n<text text-anchor=\"start\" x=\"107.5\" y=\"-30.8\" font-family=\"Times,serif\" font-size=\"14.00\">b</text>\n</g>\n<!-- a_G1&#45;&gt;Subtract -->\n<g id=\"edge1\" class=\"edge\">\n<title>a_G1:e-&gt;Subtract:w</title>\n<path fill=\"none\" stroke=\"black\" d=\"M54,-72C71.22,-72 72.97,-57.23 88.98,-56.07\"/>\n<ellipse fill=\"black\" stroke=\"black\" cx=\"90\" cy=\"-56.04\" rx=\"1\" ry=\"1\"/>\n<text text-anchor=\"middle\" x=\"72.5\" y=\"-67\" font-family=\"Times,serif\" font-size=\"10.00\">4</text>\n</g>\n<!-- b_G5 -->\n<g id=\"node2\" class=\"node\">\n<title>b_G5</title>\n<text text-anchor=\"middle\" x=\"27\" y=\"-14.3\" font-family=\"Times,serif\" font-size=\"14.00\">b</text>\n</g>\n<!-- b_G5&#45;&gt;Subtract -->\n<g id=\"edge2\" class=\"edge\">\n<title>b_G5:e-&gt;Subtract:w</title>\n<path fill=\"none\" stroke=\"black\" d=\"M54,-18C71.22,-18 72.97,-32.77 88.98,-33.93\"/>\n<ellipse fill=\"black\" stroke=\"black\" cx=\"90\" cy=\"-33.96\" rx=\"1\" ry=\"1\"/>\n<text text-anchor=\"middle\" x=\"72.5\" y=\"-29\" font-family=\"Times,serif\" font-size=\"10.00\">4</text>\n</g>\n<!-- a_G2 -->\n<g id=\"node4\" class=\"node\">\n<title>a_G2</title>\n<text text-anchor=\"middle\" x=\"195\" y=\"-68.3\" font-family=\"Times,serif\" font-size=\"14.00\">a</text>\n</g>\n<!-- Subtract&#45;&gt;a_G2 -->\n<g id=\"edge3\" class=\"edge\">\n<title>Subtract:e-&gt;a_G2:w</title>\n<path fill=\"none\" stroke=\"black\" d=\"M131,-56C148.22,-56 149.97,-70.77 165.98,-71.93\"/>\n<ellipse fill=\"black\" stroke=\"black\" cx=\"167\" cy=\"-71.96\" rx=\"1\" ry=\"1\"/>\n<text text-anchor=\"middle\" x=\"149.5\" y=\"-67\" font-family=\"Times,serif\" font-size=\"10.00\">4</text>\n</g>\n<!-- b_G4 -->\n<g id=\"node5\" class=\"node\">\n<title>b_G4</title>\n<text text-anchor=\"middle\" x=\"195\" y=\"-14.3\" font-family=\"Times,serif\" font-size=\"14.00\">b</text>\n</g>\n<!-- Subtract&#45;&gt;b_G4 -->\n<g id=\"edge4\" class=\"edge\">\n<title>Subtract:e-&gt;b_G4:w</title>\n<path fill=\"none\" stroke=\"black\" d=\"M131,-34C148.22,-34 149.97,-19.23 165.98,-18.07\"/>\n<ellipse fill=\"black\" stroke=\"black\" cx=\"167\" cy=\"-18.04\" rx=\"1\" ry=\"1\"/>\n<text text-anchor=\"middle\" x=\"149.5\" y=\"-29\" font-family=\"Times,serif\" font-size=\"10.00\">4</text>\n</g>\n</g>\n</svg>",
          "text/plain": "<IPython.core.display.SVG object>"
         },
         "metadata": {},
         "output_type": "display_data"
        }
       ],
       "tabbable": null,
       "tooltip": null
      }
     },
     "42b06fb4636f48699242221e31b0dc8e": {
      "model_module": "@jupyter-widgets/base",
      "model_module_version": "2.0.0",
      "model_name": "LayoutModel",
      "state": {
       "_model_module": "@jupyter-widgets/base",
       "_model_module_version": "2.0.0",
       "_model_name": "LayoutModel",
       "_view_count": null,
       "_view_module": "@jupyter-widgets/base",
       "_view_module_version": "2.0.0",
       "_view_name": "LayoutView",
       "align_content": null,
       "align_items": null,
       "align_self": null,
       "border_bottom": null,
       "border_left": null,
       "border_right": null,
       "border_top": null,
       "bottom": null,
       "display": null,
       "flex": null,
       "flex_flow": null,
       "grid_area": null,
       "grid_auto_columns": null,
       "grid_auto_flow": null,
       "grid_auto_rows": null,
       "grid_column": null,
       "grid_gap": null,
       "grid_row": null,
       "grid_template_areas": null,
       "grid_template_columns": null,
       "grid_template_rows": null,
       "height": null,
       "justify_content": null,
       "justify_items": null,
       "left": null,
       "margin": null,
       "max_height": null,
       "max_width": null,
       "min_height": null,
       "min_width": null,
       "object_fit": null,
       "object_position": null,
       "order": null,
       "overflow": null,
       "padding": null,
       "right": null,
       "top": null,
       "visibility": null,
       "width": null
      }
     },
     "55b58ecd5e424aacb19c7238adc38c8e": {
      "model_module": "@jupyter-widgets/controls",
      "model_module_version": "2.0.0",
      "model_name": "HBoxModel",
      "state": {
       "_dom_classes": [],
       "_model_module": "@jupyter-widgets/controls",
       "_model_module_version": "2.0.0",
       "_model_name": "HBoxModel",
       "_view_count": null,
       "_view_module": "@jupyter-widgets/controls",
       "_view_module_version": "2.0.0",
       "_view_name": "HBoxView",
       "box_style": "",
       "children": [
        "IPY_MODEL_bf6469a37d3d469b90c801df5e3d3be9",
        "IPY_MODEL_256bbcc7d41d40f39319a1a213fd9bfb",
        "IPY_MODEL_07eb70ecd5164367a961ace787db28ac",
        "IPY_MODEL_081aed4fe8054b11939f91a3a8394188",
        "IPY_MODEL_b433dcebe07b49dcb0a76bbe639da2f6"
       ],
       "layout": "IPY_MODEL_efdef96cbc2441acb22d7e28fd67f672",
       "tabbable": null,
       "tooltip": null
      }
     },
     "5c0d12cc31ec4b888af850309a283338": {
      "model_module": "@jupyter-widgets/base",
      "model_module_version": "2.0.0",
      "model_name": "LayoutModel",
      "state": {
       "_model_module": "@jupyter-widgets/base",
       "_model_module_version": "2.0.0",
       "_model_name": "LayoutModel",
       "_view_count": null,
       "_view_module": "@jupyter-widgets/base",
       "_view_module_version": "2.0.0",
       "_view_name": "LayoutView",
       "align_content": null,
       "align_items": null,
       "align_self": null,
       "border_bottom": null,
       "border_left": null,
       "border_right": null,
       "border_top": null,
       "bottom": null,
       "display": null,
       "flex": null,
       "flex_flow": null,
       "grid_area": null,
       "grid_auto_columns": null,
       "grid_auto_flow": null,
       "grid_auto_rows": null,
       "grid_column": null,
       "grid_gap": null,
       "grid_row": null,
       "grid_template_areas": null,
       "grid_template_columns": null,
       "grid_template_rows": null,
       "height": null,
       "justify_content": null,
       "justify_items": null,
       "left": null,
       "margin": null,
       "max_height": null,
       "max_width": null,
       "min_height": null,
       "min_width": null,
       "object_fit": null,
       "object_position": null,
       "order": null,
       "overflow": null,
       "padding": null,
       "right": null,
       "top": null,
       "visibility": null,
       "width": null
      }
     },
     "7b2feac5c0254314a2dc1a3b02ce8526": {
      "model_module": "@jupyter-widgets/base",
      "model_module_version": "2.0.0",
      "model_name": "LayoutModel",
      "state": {
       "_model_module": "@jupyter-widgets/base",
       "_model_module_version": "2.0.0",
       "_model_name": "LayoutModel",
       "_view_count": null,
       "_view_module": "@jupyter-widgets/base",
       "_view_module_version": "2.0.0",
       "_view_name": "LayoutView",
       "align_content": null,
       "align_items": null,
       "align_self": null,
       "border_bottom": null,
       "border_left": null,
       "border_right": null,
       "border_top": null,
       "bottom": null,
       "display": null,
       "flex": null,
       "flex_flow": null,
       "grid_area": null,
       "grid_auto_columns": null,
       "grid_auto_flow": null,
       "grid_auto_rows": null,
       "grid_column": null,
       "grid_gap": null,
       "grid_row": null,
       "grid_template_areas": null,
       "grid_template_columns": null,
       "grid_template_rows": null,
       "height": null,
       "justify_content": null,
       "justify_items": null,
       "left": null,
       "margin": null,
       "max_height": null,
       "max_width": null,
       "min_height": null,
       "min_width": null,
       "object_fit": null,
       "object_position": null,
       "order": null,
       "overflow": null,
       "padding": null,
       "right": null,
       "top": null,
       "visibility": null,
       "width": null
      }
     },
     "7d81e15f48c646cb855c1b15cad9fca6": {
      "model_module": "@jupyter-widgets/base",
      "model_module_version": "2.0.0",
      "model_name": "LayoutModel",
      "state": {
       "_model_module": "@jupyter-widgets/base",
       "_model_module_version": "2.0.0",
       "_model_name": "LayoutModel",
       "_view_count": null,
       "_view_module": "@jupyter-widgets/base",
       "_view_module_version": "2.0.0",
       "_view_name": "LayoutView",
       "align_content": null,
       "align_items": null,
       "align_self": null,
       "border_bottom": null,
       "border_left": null,
       "border_right": null,
       "border_top": null,
       "bottom": null,
       "display": null,
       "flex": null,
       "flex_flow": null,
       "grid_area": null,
       "grid_auto_columns": null,
       "grid_auto_flow": null,
       "grid_auto_rows": null,
       "grid_column": null,
       "grid_gap": null,
       "grid_row": null,
       "grid_template_areas": null,
       "grid_template_columns": null,
       "grid_template_rows": null,
       "height": null,
       "justify_content": null,
       "justify_items": null,
       "left": null,
       "margin": null,
       "max_height": null,
       "max_width": null,
       "min_height": null,
       "min_width": null,
       "object_fit": null,
       "object_position": null,
       "order": null,
       "overflow": null,
       "padding": null,
       "right": null,
       "top": null,
       "visibility": null,
       "width": null
      }
     },
     "83742c2d022b40828790e58afdb85dda": {
      "model_module": "@jupyter-widgets/output",
      "model_module_version": "1.0.0",
      "model_name": "OutputModel",
      "state": {
       "_dom_classes": [],
       "_model_module": "@jupyter-widgets/output",
       "_model_module_version": "1.0.0",
       "_model_name": "OutputModel",
       "_view_count": null,
       "_view_module": "@jupyter-widgets/output",
       "_view_module_version": "1.0.0",
       "_view_name": "OutputView",
       "layout": "IPY_MODEL_a8236eba0db244f4b2a6e71e40ea7b56",
       "msg_id": "",
       "outputs": [
        {
         "data": {
          "text/markdown": "`sub_from_symb`",
          "text/plain": "<IPython.core.display.Markdown object>"
         },
         "metadata": {},
         "output_type": "display_data"
        },
        {
         "data": {
          "image/svg+xml": "<svg xmlns=\"http://www.w3.org/2000/svg\" xmlns:xlink=\"http://www.w3.org/1999/xlink\" width=\"251pt\" height=\"98pt\" viewBox=\"0.00 0.00 251.00 98.00\">\n<g id=\"graph0\" class=\"graph\" transform=\"scale(1 1) rotate(0) translate(4 94)\">\n<title>my_graph</title>\n<polygon fill=\"white\" stroke=\"transparent\" points=\"-4,4 -4,-94 247,-94 247,4 -4,4\"/>\n<!-- a_G1 -->\n<g id=\"node1\" class=\"node\">\n<title>a_G1</title>\n<text text-anchor=\"middle\" x=\"27\" y=\"-68.3\" font-family=\"Times,serif\" font-size=\"14.00\">a</text>\n</g>\n<!-- SubtractFrom -->\n<g id=\"node3\" class=\"node\">\n<title>SubtractFrom</title>\n<polygon fill=\"none\" stroke=\"black\" points=\"91.5,-66 91.5,-83 152.5,-83 152.5,-66 91.5,-66\"/>\n<text text-anchor=\"start\" x=\"94.5\" y=\"-72\" font-family=\"Times,serif\" font-size=\"10.00\">SubtractFrom</text>\n<polygon fill=\"none\" stroke=\"black\" points=\"91.5,-45 91.5,-66 152.5,-66 152.5,-45 91.5,-45\"/>\n<text text-anchor=\"start\" x=\"118.5\" y=\"-51.8\" font-family=\"Times,serif\" font-size=\"14.00\">a</text>\n<polygon fill=\"none\" stroke=\"black\" points=\"91.5,-24 91.5,-45 152.5,-45 152.5,-24 91.5,-24\"/>\n<text text-anchor=\"start\" x=\"118.5\" y=\"-30.8\" font-family=\"Times,serif\" font-size=\"14.00\">b</text>\n</g>\n<!-- a_G1&#45;&gt;SubtractFrom -->\n<g id=\"edge1\" class=\"edge\">\n<title>a_G1:e-&gt;SubtractFrom:w</title>\n<path fill=\"none\" stroke=\"black\" d=\"M54,-72C71.22,-72 72.97,-57.23 88.98,-56.07\"/>\n<ellipse fill=\"black\" stroke=\"black\" cx=\"90\" cy=\"-56.04\" rx=\"1\" ry=\"1\"/>\n<text text-anchor=\"middle\" x=\"72.5\" y=\"-67\" font-family=\"Times,serif\" font-size=\"10.00\">n</text>\n</g>\n<!-- b_G2 -->\n<g id=\"node2\" class=\"node\">\n<title>b_G2</title>\n<text text-anchor=\"middle\" x=\"27\" y=\"-14.3\" font-family=\"Times,serif\" font-size=\"14.00\">b</text>\n</g>\n<!-- b_G2&#45;&gt;SubtractFrom -->\n<g id=\"edge2\" class=\"edge\">\n<title>b_G2:e-&gt;SubtractFrom:w</title>\n<path fill=\"none\" stroke=\"black\" d=\"M54,-18C71.22,-18 72.97,-32.77 88.98,-33.93\"/>\n<ellipse fill=\"black\" stroke=\"black\" cx=\"90\" cy=\"-33.96\" rx=\"1\" ry=\"1\"/>\n<text text-anchor=\"middle\" x=\"72.5\" y=\"-29\" font-family=\"Times,serif\" font-size=\"10.00\">n</text>\n</g>\n<!-- a_G0 -->\n<g id=\"node4\" class=\"node\">\n<title>a_G0</title>\n<text text-anchor=\"middle\" x=\"216\" y=\"-68.3\" font-family=\"Times,serif\" font-size=\"14.00\">a</text>\n</g>\n<!-- SubtractFrom&#45;&gt;a_G0 -->\n<g id=\"edge3\" class=\"edge\">\n<title>SubtractFrom:e-&gt;a_G0:w</title>\n<path fill=\"none\" stroke=\"black\" d=\"M152,-56C169.22,-56 170.97,-70.77 186.98,-71.93\"/>\n<ellipse fill=\"black\" stroke=\"black\" cx=\"188\" cy=\"-71.96\" rx=\"1\" ry=\"1\"/>\n<text text-anchor=\"middle\" x=\"170.5\" y=\"-67\" font-family=\"Times,serif\" font-size=\"10.00\">n</text>\n</g>\n<!-- b_G4 -->\n<g id=\"node5\" class=\"node\">\n<title>b_G4</title>\n<text text-anchor=\"middle\" x=\"216\" y=\"-14.3\" font-family=\"Times,serif\" font-size=\"14.00\">b</text>\n</g>\n<!-- SubtractFrom&#45;&gt;b_G4 -->\n<g id=\"edge4\" class=\"edge\">\n<title>SubtractFrom:e-&gt;b_G4:w</title>\n<path fill=\"none\" stroke=\"black\" d=\"M152,-34C169.22,-34 170.97,-19.23 186.98,-18.07\"/>\n<ellipse fill=\"black\" stroke=\"black\" cx=\"188\" cy=\"-18.04\" rx=\"1\" ry=\"1\"/>\n<text text-anchor=\"middle\" x=\"170.5\" y=\"-29\" font-family=\"Times,serif\" font-size=\"10.00\">n</text>\n</g>\n</g>\n</svg>",
          "text/plain": "<IPython.core.display.SVG object>"
         },
         "metadata": {},
         "output_type": "display_data"
        }
       ],
       "tabbable": null,
       "tooltip": null
      }
     },
     "8b8caf389e9c494880da660ae4e1b908": {
      "model_module": "@jupyter-widgets/output",
      "model_module_version": "1.0.0",
      "model_name": "OutputModel",
      "state": {
       "_dom_classes": [],
       "_model_module": "@jupyter-widgets/output",
       "_model_module_version": "1.0.0",
       "_model_name": "OutputModel",
       "_view_count": null,
       "_view_module": "@jupyter-widgets/output",
       "_view_module_version": "1.0.0",
       "_view_name": "OutputView",
       "layout": "IPY_MODEL_7b2feac5c0254314a2dc1a3b02ce8526",
       "msg_id": "",
       "outputs": [
        {
         "data": {
          "text/markdown": "`sub_from_large`",
          "text/plain": "<IPython.core.display.Markdown object>"
         },
         "metadata": {},
         "output_type": "display_data"
        },
        {
         "data": {
          "image/svg+xml": "<svg xmlns=\"http://www.w3.org/2000/svg\" xmlns:xlink=\"http://www.w3.org/1999/xlink\" width=\"251pt\" height=\"98pt\" viewBox=\"0.00 0.00 251.00 98.00\">\n<g id=\"graph0\" class=\"graph\" transform=\"scale(1 1) rotate(0) translate(4 94)\">\n<title>my_graph</title>\n<polygon fill=\"white\" stroke=\"transparent\" points=\"-4,4 -4,-94 247,-94 247,4 -4,4\"/>\n<!-- a_G5 -->\n<g id=\"node1\" class=\"node\">\n<title>a_G5</title>\n<text text-anchor=\"middle\" x=\"27\" y=\"-68.3\" font-family=\"Times,serif\" font-size=\"14.00\">a</text>\n</g>\n<!-- SubtractFrom -->\n<g id=\"node3\" class=\"node\">\n<title>SubtractFrom</title>\n<polygon fill=\"none\" stroke=\"black\" points=\"91.5,-66 91.5,-83 152.5,-83 152.5,-66 91.5,-66\"/>\n<text text-anchor=\"start\" x=\"94.5\" y=\"-72\" font-family=\"Times,serif\" font-size=\"10.00\">SubtractFrom</text>\n<polygon fill=\"none\" stroke=\"black\" points=\"91.5,-45 91.5,-66 152.5,-66 152.5,-45 91.5,-45\"/>\n<text text-anchor=\"start\" x=\"118.5\" y=\"-51.8\" font-family=\"Times,serif\" font-size=\"14.00\">a</text>\n<polygon fill=\"none\" stroke=\"black\" points=\"91.5,-24 91.5,-45 152.5,-45 152.5,-24 91.5,-24\"/>\n<text text-anchor=\"start\" x=\"118.5\" y=\"-30.8\" font-family=\"Times,serif\" font-size=\"14.00\">b</text>\n</g>\n<!-- a_G5&#45;&gt;SubtractFrom -->\n<g id=\"edge1\" class=\"edge\">\n<title>a_G5:e-&gt;SubtractFrom:w</title>\n<path fill=\"none\" stroke=\"black\" d=\"M54,-72C71.22,-72 72.97,-57.23 88.98,-56.07\"/>\n<ellipse fill=\"black\" stroke=\"black\" cx=\"90\" cy=\"-56.04\" rx=\"1\" ry=\"1\"/>\n<text text-anchor=\"middle\" x=\"72.5\" y=\"-67\" font-family=\"Times,serif\" font-size=\"10.00\">64</text>\n</g>\n<!-- b_G0 -->\n<g id=\"node2\" class=\"node\">\n<title>b_G0</title>\n<text text-anchor=\"middle\" x=\"27\" y=\"-14.3\" font-family=\"Times,serif\" font-size=\"14.00\">b</text>\n</g>\n<!-- b_G0&#45;&gt;SubtractFrom -->\n<g id=\"edge2\" class=\"edge\">\n<title>b_G0:e-&gt;SubtractFrom:w</title>\n<path fill=\"none\" stroke=\"black\" d=\"M54,-18C71.22,-18 72.97,-32.77 88.98,-33.93\"/>\n<ellipse fill=\"black\" stroke=\"black\" cx=\"90\" cy=\"-33.96\" rx=\"1\" ry=\"1\"/>\n<text text-anchor=\"middle\" x=\"72.5\" y=\"-29\" font-family=\"Times,serif\" font-size=\"10.00\">64</text>\n</g>\n<!-- a_G4 -->\n<g id=\"node4\" class=\"node\">\n<title>a_G4</title>\n<text text-anchor=\"middle\" x=\"216\" y=\"-68.3\" font-family=\"Times,serif\" font-size=\"14.00\">a</text>\n</g>\n<!-- SubtractFrom&#45;&gt;a_G4 -->\n<g id=\"edge3\" class=\"edge\">\n<title>SubtractFrom:e-&gt;a_G4:w</title>\n<path fill=\"none\" stroke=\"black\" d=\"M152,-56C169.22,-56 170.97,-70.77 186.98,-71.93\"/>\n<ellipse fill=\"black\" stroke=\"black\" cx=\"188\" cy=\"-71.96\" rx=\"1\" ry=\"1\"/>\n<text text-anchor=\"middle\" x=\"170.5\" y=\"-67\" font-family=\"Times,serif\" font-size=\"10.00\">64</text>\n</g>\n<!-- b_G3 -->\n<g id=\"node5\" class=\"node\">\n<title>b_G3</title>\n<text text-anchor=\"middle\" x=\"216\" y=\"-14.3\" font-family=\"Times,serif\" font-size=\"14.00\">b</text>\n</g>\n<!-- SubtractFrom&#45;&gt;b_G3 -->\n<g id=\"edge4\" class=\"edge\">\n<title>SubtractFrom:e-&gt;b_G3:w</title>\n<path fill=\"none\" stroke=\"black\" d=\"M152,-34C169.22,-34 170.97,-19.23 186.98,-18.07\"/>\n<ellipse fill=\"black\" stroke=\"black\" cx=\"188\" cy=\"-18.04\" rx=\"1\" ry=\"1\"/>\n<text text-anchor=\"middle\" x=\"170.5\" y=\"-29\" font-family=\"Times,serif\" font-size=\"10.00\">64</text>\n</g>\n</g>\n</svg>",
          "text/plain": "<IPython.core.display.SVG object>"
         },
         "metadata": {},
         "output_type": "display_data"
        }
       ],
       "tabbable": null,
       "tooltip": null
      }
     },
     "a8236eba0db244f4b2a6e71e40ea7b56": {
      "model_module": "@jupyter-widgets/base",
      "model_module_version": "2.0.0",
      "model_name": "LayoutModel",
      "state": {
       "_model_module": "@jupyter-widgets/base",
       "_model_module_version": "2.0.0",
       "_model_name": "LayoutModel",
       "_view_count": null,
       "_view_module": "@jupyter-widgets/base",
       "_view_module_version": "2.0.0",
       "_view_name": "LayoutView",
       "align_content": null,
       "align_items": null,
       "align_self": null,
       "border_bottom": null,
       "border_left": null,
       "border_right": null,
       "border_top": null,
       "bottom": null,
       "display": null,
       "flex": null,
       "flex_flow": null,
       "grid_area": null,
       "grid_auto_columns": null,
       "grid_auto_flow": null,
       "grid_auto_rows": null,
       "grid_column": null,
       "grid_gap": null,
       "grid_row": null,
       "grid_template_areas": null,
       "grid_template_columns": null,
       "grid_template_rows": null,
       "height": null,
       "justify_content": null,
       "justify_items": null,
       "left": null,
       "margin": null,
       "max_height": null,
       "max_width": null,
       "min_height": null,
       "min_width": null,
       "object_fit": null,
       "object_position": null,
       "order": null,
       "overflow": null,
       "padding": null,
       "right": null,
       "top": null,
       "visibility": null,
       "width": null
      }
     },
     "b433dcebe07b49dcb0a76bbe639da2f6": {
      "model_module": "@jupyter-widgets/output",
      "model_module_version": "1.0.0",
      "model_name": "OutputModel",
      "state": {
       "_dom_classes": [],
       "_model_module": "@jupyter-widgets/output",
       "_model_module_version": "1.0.0",
       "_model_name": "OutputModel",
       "_view_count": null,
       "_view_module": "@jupyter-widgets/output",
       "_view_module_version": "1.0.0",
       "_view_name": "OutputView",
       "layout": "IPY_MODEL_f82eab3c3ff34fbdb29139b0247c996b",
       "msg_id": "",
       "outputs": [
        {
         "data": {
          "text/markdown": "`sub_symp_decomposition`",
          "text/plain": "<IPython.core.display.Markdown object>"
         },
         "metadata": {},
         "output_type": "display_data"
        },
        {
         "data": {
          "image/svg+xml": "<svg xmlns=\"http://www.w3.org/2000/svg\" xmlns:xlink=\"http://www.w3.org/1999/xlink\" width=\"604pt\" height=\"111pt\" viewBox=\"0.00 0.00 604.00 111.00\">\n<g id=\"graph0\" class=\"graph\" transform=\"scale(1 1) rotate(0) translate(4 107)\">\n<title>my_graph</title>\n<polygon fill=\"white\" stroke=\"transparent\" points=\"-4,4 -4,-107 600,-107 600,4 -4,4\"/>\n<!-- a_G17 -->\n<g id=\"node1\" class=\"node\">\n<title>a_G17</title>\n<text text-anchor=\"middle\" x=\"27\" y=\"-68.3\" font-family=\"Times,serif\" font-size=\"14.00\">a</text>\n</g>\n<!-- Cast -->\n<g id=\"node3\" class=\"node\">\n<title>Cast</title>\n<polygon fill=\"none\" stroke=\"black\" points=\"91,-82 91,-99 139,-99 139,-82 91,-82\"/>\n<text text-anchor=\"start\" x=\"105.5\" y=\"-88\" font-family=\"Times,serif\" font-size=\"10.00\">Cast</text>\n<polygon fill=\"none\" stroke=\"black\" points=\"91,-61 91,-82 115,-82 115,-61 91,-61\"/>\n<text text-anchor=\"start\" x=\"94\" y=\"-67.8\" font-family=\"Times,serif\" font-size=\"14.00\">reg</text>\n<polygon fill=\"none\" stroke=\"black\" points=\"115,-61 115,-82 139,-82 139,-61 115,-61\"/>\n<text text-anchor=\"start\" x=\"118\" y=\"-67.8\" font-family=\"Times,serif\" font-size=\"14.00\">reg</text>\n</g>\n<!-- a_G17&#45;&gt;Cast -->\n<g id=\"edge1\" class=\"edge\">\n<title>a_G17:e-&gt;Cast:w</title>\n<path fill=\"none\" stroke=\"black\" d=\"M54,-72C69.68,-72 74.14,-71.09 88.77,-71.01\"/>\n<ellipse fill=\"black\" stroke=\"black\" cx=\"90\" cy=\"-71\" rx=\"1\" ry=\"1\"/>\n<text text-anchor=\"middle\" x=\"72.5\" y=\"-74\" font-family=\"Times,serif\" font-size=\"10.00\">n</text>\n</g>\n<!-- b_G22 -->\n<g id=\"node2\" class=\"node\">\n<title>b_G22</title>\n<text text-anchor=\"middle\" x=\"27\" y=\"-14.3\" font-family=\"Times,serif\" font-size=\"14.00\">b</text>\n</g>\n<!-- Cast_G6 -->\n<g id=\"node8\" class=\"node\">\n<title>Cast_G6</title>\n<polygon fill=\"none\" stroke=\"black\" points=\"157,-30 157,-47 205,-47 205,-30 157,-30\"/>\n<text text-anchor=\"start\" x=\"171.5\" y=\"-36\" font-family=\"Times,serif\" font-size=\"10.00\">Cast</text>\n<polygon fill=\"none\" stroke=\"black\" points=\"157,-9 157,-30 181,-30 181,-9 157,-9\"/>\n<text text-anchor=\"start\" x=\"160\" y=\"-15.8\" font-family=\"Times,serif\" font-size=\"14.00\">reg</text>\n<polygon fill=\"none\" stroke=\"black\" points=\"181,-9 181,-30 205,-30 205,-9 181,-9\"/>\n<text text-anchor=\"start\" x=\"184\" y=\"-15.8\" font-family=\"Times,serif\" font-size=\"14.00\">reg</text>\n</g>\n<!-- b_G22&#45;&gt;Cast_G6 -->\n<g id=\"edge2\" class=\"edge\">\n<title>b_G22:e-&gt;Cast_G6:w</title>\n<path fill=\"none\" stroke=\"black\" d=\"M54,-18C99.06,-18 110.85,-18.97 154.88,-19\"/>\n<ellipse fill=\"black\" stroke=\"black\" cx=\"156\" cy=\"-19\" rx=\"1\" ry=\"1\"/>\n<text text-anchor=\"middle\" x=\"72.5\" y=\"-21\" font-family=\"Times,serif\" font-size=\"10.00\">n</text>\n</g>\n<!-- OnEach -->\n<g id=\"node5\" class=\"node\">\n<title>OnEach</title>\n<polygon fill=\"none\" stroke=\"black\" points=\"223.5,-78 223.5,-95 272.5,-95 272.5,-78 223.5,-78\"/>\n<text text-anchor=\"start\" x=\"226.5\" y=\"-84\" font-family=\"Times,serif\" font-size=\"10.00\">XGate⨂n</text>\n<polygon fill=\"none\" stroke=\"black\" points=\"223.5,-57 223.5,-78 272.5,-78 272.5,-57 223.5,-57\"/>\n<text text-anchor=\"start\" x=\"244.5\" y=\"-63.8\" font-family=\"Times,serif\" font-size=\"14.00\">q</text>\n</g>\n<!-- Cast&#45;&gt;OnEach -->\n<g id=\"edge3\" class=\"edge\">\n<title>Cast:e-&gt;OnEach:w</title>\n<path fill=\"none\" stroke=\"black\" d=\"M139,-71C175.65,-71 185.25,-67.15 220.84,-67\"/>\n<ellipse fill=\"black\" stroke=\"black\" cx=\"222\" cy=\"-67\" rx=\"1\" ry=\"1\"/>\n<text text-anchor=\"middle\" x=\"181\" y=\"-73\" font-family=\"Times,serif\" font-size=\"10.00\">n</text>\n</g>\n<!-- Cast_G0 -->\n<g id=\"node4\" class=\"node\">\n<title>Cast_G0</title>\n<polygon fill=\"none\" stroke=\"black\" points=\"457,-86 457,-103 505,-103 505,-86 457,-86\"/>\n<text text-anchor=\"start\" x=\"471.5\" y=\"-92\" font-family=\"Times,serif\" font-size=\"10.00\">Cast</text>\n<polygon fill=\"none\" stroke=\"black\" points=\"457,-65 457,-86 481,-86 481,-65 457,-65\"/>\n<text text-anchor=\"start\" x=\"460\" y=\"-71.8\" font-family=\"Times,serif\" font-size=\"14.00\">reg</text>\n<polygon fill=\"none\" stroke=\"black\" points=\"481,-65 481,-86 505,-86 505,-65 481,-65\"/>\n<text text-anchor=\"start\" x=\"484\" y=\"-71.8\" font-family=\"Times,serif\" font-size=\"14.00\">reg</text>\n</g>\n<!-- a_G16 -->\n<g id=\"node11\" class=\"node\">\n<title>a_G16</title>\n<text text-anchor=\"middle\" x=\"569\" y=\"-71.3\" font-family=\"Times,serif\" font-size=\"14.00\">a</text>\n</g>\n<!-- Cast_G0&#45;&gt;a_G16 -->\n<g id=\"edge10\" class=\"edge\">\n<title>Cast_G0:e-&gt;a_G16:w</title>\n<path fill=\"none\" stroke=\"black\" d=\"M505,-75C520.67,-75 525.14,-75 539.77,-75\"/>\n<ellipse fill=\"black\" stroke=\"black\" cx=\"541\" cy=\"-75\" rx=\"1\" ry=\"1\"/>\n<text text-anchor=\"middle\" x=\"523.5\" y=\"-78\" font-family=\"Times,serif\" font-size=\"10.00\">n</text>\n</g>\n<!-- Add -->\n<g id=\"node9\" class=\"node\">\n<title>Add</title>\n<polygon fill=\"none\" stroke=\"black\" points=\"309.5,-60 309.5,-77 334.5,-77 334.5,-60 309.5,-60\"/>\n<text text-anchor=\"start\" x=\"312.5\" y=\"-66\" font-family=\"Times,serif\" font-size=\"10.00\">Add</text>\n<polygon fill=\"none\" stroke=\"black\" points=\"309.5,-39 309.5,-60 334.5,-60 334.5,-39 309.5,-39\"/>\n<text text-anchor=\"start\" x=\"318.5\" y=\"-45.8\" font-family=\"Times,serif\" font-size=\"14.00\">a</text>\n<polygon fill=\"none\" stroke=\"black\" points=\"309.5,-18 309.5,-39 334.5,-39 334.5,-18 309.5,-18\"/>\n<text text-anchor=\"start\" x=\"318.5\" y=\"-24.8\" font-family=\"Times,serif\" font-size=\"14.00\">b</text>\n</g>\n<!-- OnEach&#45;&gt;Add -->\n<g id=\"edge4\" class=\"edge\">\n<title>OnEach:e-&gt;Add:w</title>\n<path fill=\"none\" stroke=\"black\" d=\"M272,-67C289.39,-67 290.81,-51.3 306.96,-50.08\"/>\n<ellipse fill=\"black\" stroke=\"black\" cx=\"308\" cy=\"-50.04\" rx=\"1\" ry=\"1\"/>\n<text text-anchor=\"middle\" x=\"290.5\" y=\"-61\" font-family=\"Times,serif\" font-size=\"10.00\">n</text>\n</g>\n<!-- OnEach_G2 -->\n<g id=\"node6\" class=\"node\">\n<title>OnEach_G2</title>\n<polygon fill=\"none\" stroke=\"black\" points=\"371.5,-86 371.5,-103 420.5,-103 420.5,-86 371.5,-86\"/>\n<text text-anchor=\"start\" x=\"374.5\" y=\"-92\" font-family=\"Times,serif\" font-size=\"10.00\">XGate⨂n</text>\n<polygon fill=\"none\" stroke=\"black\" points=\"371.5,-65 371.5,-86 420.5,-86 420.5,-65 371.5,-65\"/>\n<text text-anchor=\"start\" x=\"392.5\" y=\"-71.8\" font-family=\"Times,serif\" font-size=\"14.00\">q</text>\n</g>\n<!-- OnEach_G2&#45;&gt;Cast_G0 -->\n<g id=\"edge9\" class=\"edge\">\n<title>OnEach_G2:e-&gt;Cast_G0:w</title>\n<path fill=\"none\" stroke=\"black\" d=\"M420,-75C435.67,-75 440.14,-75 454.77,-75\"/>\n<ellipse fill=\"black\" stroke=\"black\" cx=\"456\" cy=\"-75\" rx=\"1\" ry=\"1\"/>\n<text text-anchor=\"middle\" x=\"438.5\" y=\"-78\" font-family=\"Times,serif\" font-size=\"10.00\">n</text>\n</g>\n<!-- Cast_G4 -->\n<g id=\"node7\" class=\"node\">\n<title>Cast_G4</title>\n<polygon fill=\"none\" stroke=\"black\" points=\"457,-30 457,-47 505,-47 505,-30 457,-30\"/>\n<text text-anchor=\"start\" x=\"471.5\" y=\"-36\" font-family=\"Times,serif\" font-size=\"10.00\">Cast</text>\n<polygon fill=\"none\" stroke=\"black\" points=\"457,-9 457,-30 481,-30 481,-9 457,-9\"/>\n<text text-anchor=\"start\" x=\"460\" y=\"-15.8\" font-family=\"Times,serif\" font-size=\"14.00\">reg</text>\n<polygon fill=\"none\" stroke=\"black\" points=\"481,-9 481,-30 505,-30 505,-9 481,-9\"/>\n<text text-anchor=\"start\" x=\"484\" y=\"-15.8\" font-family=\"Times,serif\" font-size=\"14.00\">reg</text>\n</g>\n<!-- b_G13 -->\n<g id=\"node12\" class=\"node\">\n<title>b_G13</title>\n<text text-anchor=\"middle\" x=\"569\" y=\"-15.3\" font-family=\"Times,serif\" font-size=\"14.00\">b</text>\n</g>\n<!-- Cast_G4&#45;&gt;b_G13 -->\n<g id=\"edge11\" class=\"edge\">\n<title>Cast_G4:e-&gt;b_G13:w</title>\n<path fill=\"none\" stroke=\"black\" d=\"M505,-19C520.67,-19 525.14,-19 539.77,-19\"/>\n<ellipse fill=\"black\" stroke=\"black\" cx=\"541\" cy=\"-19\" rx=\"1\" ry=\"1\"/>\n<text text-anchor=\"middle\" x=\"523.5\" y=\"-22\" font-family=\"Times,serif\" font-size=\"10.00\">n</text>\n</g>\n<!-- Cast_G6&#45;&gt;Add -->\n<g id=\"edge5\" class=\"edge\">\n<title>Cast_G6:e-&gt;Add:w</title>\n<path fill=\"none\" stroke=\"black\" d=\"M205,-19C250.67,-19 262.25,-27.72 306.85,-27.99\"/>\n<ellipse fill=\"black\" stroke=\"black\" cx=\"308\" cy=\"-28\" rx=\"1\" ry=\"1\"/>\n<text text-anchor=\"middle\" x=\"247.5\" y=\"-28\" font-family=\"Times,serif\" font-size=\"10.00\">n</text>\n</g>\n<!-- Add&#45;&gt;OnEach_G2 -->\n<g id=\"edge7\" class=\"edge\">\n<title>Add:e-&gt;OnEach_G2:w</title>\n<path fill=\"none\" stroke=\"black\" d=\"M334,-50C353.07,-50 351.33,-73.09 368.77,-74.89\"/>\n<ellipse fill=\"black\" stroke=\"black\" cx=\"370\" cy=\"-74.95\" rx=\"1\" ry=\"1\"/>\n<text text-anchor=\"middle\" x=\"352.5\" y=\"-65\" font-family=\"Times,serif\" font-size=\"10.00\">n</text>\n</g>\n<!-- OnEach_G8 -->\n<g id=\"node10\" class=\"node\">\n<title>OnEach_G8</title>\n<polygon fill=\"none\" stroke=\"black\" points=\"371.5,-30 371.5,-47 420.5,-47 420.5,-30 371.5,-30\"/>\n<text text-anchor=\"start\" x=\"374.5\" y=\"-36\" font-family=\"Times,serif\" font-size=\"10.00\">XGate⨂n</text>\n<polygon fill=\"none\" stroke=\"black\" points=\"371.5,-9 371.5,-30 420.5,-30 420.5,-9 371.5,-9\"/>\n<text text-anchor=\"start\" x=\"392.5\" y=\"-15.8\" font-family=\"Times,serif\" font-size=\"14.00\">q</text>\n</g>\n<!-- Add&#45;&gt;OnEach_G8 -->\n<g id=\"edge6\" class=\"edge\">\n<title>Add:e-&gt;OnEach_G8:w</title>\n<path fill=\"none\" stroke=\"black\" d=\"M334,-28C350.13,-28 353.75,-19.82 368.71,-19.06\"/>\n<ellipse fill=\"black\" stroke=\"black\" cx=\"370\" cy=\"-19.03\" rx=\"1\" ry=\"1\"/>\n<text text-anchor=\"middle\" x=\"352.5\" y=\"-26\" font-family=\"Times,serif\" font-size=\"10.00\">n</text>\n</g>\n<!-- OnEach_G8&#45;&gt;Cast_G4 -->\n<g id=\"edge8\" class=\"edge\">\n<title>OnEach_G8:e-&gt;Cast_G4:w</title>\n<path fill=\"none\" stroke=\"black\" d=\"M420,-19C435.67,-19 440.14,-19 454.77,-19\"/>\n<ellipse fill=\"black\" stroke=\"black\" cx=\"456\" cy=\"-19\" rx=\"1\" ry=\"1\"/>\n<text text-anchor=\"middle\" x=\"438.5\" y=\"-22\" font-family=\"Times,serif\" font-size=\"10.00\">n</text>\n</g>\n</g>\n</svg>",
          "text/plain": "<IPython.core.display.SVG object>"
         },
         "metadata": {},
         "output_type": "display_data"
        }
       ],
       "tabbable": null,
       "tooltip": null
      }
     },
     "b9ab22d895684052b4332acd0504984d": {
      "model_module": "@jupyter-widgets/output",
      "model_module_version": "1.0.0",
      "model_name": "OutputModel",
      "state": {
       "_dom_classes": [],
       "_model_module": "@jupyter-widgets/output",
       "_model_module_version": "1.0.0",
       "_model_name": "OutputModel",
       "_view_count": null,
       "_view_module": "@jupyter-widgets/output",
       "_view_module_version": "1.0.0",
       "_view_name": "OutputView",
       "layout": "IPY_MODEL_f4a1cd19fe46405fbfc29e0a5ed8952d",
       "msg_id": "",
       "outputs": [
        {
         "data": {
          "text/markdown": "`sub_from_small`",
          "text/plain": "<IPython.core.display.Markdown object>"
         },
         "metadata": {},
         "output_type": "display_data"
        },
        {
         "data": {
          "image/svg+xml": "<svg xmlns=\"http://www.w3.org/2000/svg\" xmlns:xlink=\"http://www.w3.org/1999/xlink\" width=\"251pt\" height=\"98pt\" viewBox=\"0.00 0.00 251.00 98.00\">\n<g id=\"graph0\" class=\"graph\" transform=\"scale(1 1) rotate(0) translate(4 94)\">\n<title>my_graph</title>\n<polygon fill=\"white\" stroke=\"transparent\" points=\"-4,4 -4,-94 247,-94 247,4 -4,4\"/>\n<!-- a_G2 -->\n<g id=\"node1\" class=\"node\">\n<title>a_G2</title>\n<text text-anchor=\"middle\" x=\"27\" y=\"-68.3\" font-family=\"Times,serif\" font-size=\"14.00\">a</text>\n</g>\n<!-- SubtractFrom -->\n<g id=\"node3\" class=\"node\">\n<title>SubtractFrom</title>\n<polygon fill=\"none\" stroke=\"black\" points=\"91.5,-66 91.5,-83 152.5,-83 152.5,-66 91.5,-66\"/>\n<text text-anchor=\"start\" x=\"94.5\" y=\"-72\" font-family=\"Times,serif\" font-size=\"10.00\">SubtractFrom</text>\n<polygon fill=\"none\" stroke=\"black\" points=\"91.5,-45 91.5,-66 152.5,-66 152.5,-45 91.5,-45\"/>\n<text text-anchor=\"start\" x=\"118.5\" y=\"-51.8\" font-family=\"Times,serif\" font-size=\"14.00\">a</text>\n<polygon fill=\"none\" stroke=\"black\" points=\"91.5,-24 91.5,-45 152.5,-45 152.5,-24 91.5,-24\"/>\n<text text-anchor=\"start\" x=\"118.5\" y=\"-30.8\" font-family=\"Times,serif\" font-size=\"14.00\">b</text>\n</g>\n<!-- a_G2&#45;&gt;SubtractFrom -->\n<g id=\"edge1\" class=\"edge\">\n<title>a_G2:e-&gt;SubtractFrom:w</title>\n<path fill=\"none\" stroke=\"black\" d=\"M54,-72C71.22,-72 72.97,-57.23 88.98,-56.07\"/>\n<ellipse fill=\"black\" stroke=\"black\" cx=\"90\" cy=\"-56.04\" rx=\"1\" ry=\"1\"/>\n<text text-anchor=\"middle\" x=\"72.5\" y=\"-67\" font-family=\"Times,serif\" font-size=\"10.00\">4</text>\n</g>\n<!-- b_G5 -->\n<g id=\"node2\" class=\"node\">\n<title>b_G5</title>\n<text text-anchor=\"middle\" x=\"27\" y=\"-14.3\" font-family=\"Times,serif\" font-size=\"14.00\">b</text>\n</g>\n<!-- b_G5&#45;&gt;SubtractFrom -->\n<g id=\"edge2\" class=\"edge\">\n<title>b_G5:e-&gt;SubtractFrom:w</title>\n<path fill=\"none\" stroke=\"black\" d=\"M54,-18C71.22,-18 72.97,-32.77 88.98,-33.93\"/>\n<ellipse fill=\"black\" stroke=\"black\" cx=\"90\" cy=\"-33.96\" rx=\"1\" ry=\"1\"/>\n<text text-anchor=\"middle\" x=\"72.5\" y=\"-29\" font-family=\"Times,serif\" font-size=\"10.00\">4</text>\n</g>\n<!-- a_G1 -->\n<g id=\"node4\" class=\"node\">\n<title>a_G1</title>\n<text text-anchor=\"middle\" x=\"216\" y=\"-68.3\" font-family=\"Times,serif\" font-size=\"14.00\">a</text>\n</g>\n<!-- SubtractFrom&#45;&gt;a_G1 -->\n<g id=\"edge3\" class=\"edge\">\n<title>SubtractFrom:e-&gt;a_G1:w</title>\n<path fill=\"none\" stroke=\"black\" d=\"M152,-56C169.22,-56 170.97,-70.77 186.98,-71.93\"/>\n<ellipse fill=\"black\" stroke=\"black\" cx=\"188\" cy=\"-71.96\" rx=\"1\" ry=\"1\"/>\n<text text-anchor=\"middle\" x=\"170.5\" y=\"-67\" font-family=\"Times,serif\" font-size=\"10.00\">4</text>\n</g>\n<!-- b_G4 -->\n<g id=\"node5\" class=\"node\">\n<title>b_G4</title>\n<text text-anchor=\"middle\" x=\"216\" y=\"-14.3\" font-family=\"Times,serif\" font-size=\"14.00\">b</text>\n</g>\n<!-- SubtractFrom&#45;&gt;b_G4 -->\n<g id=\"edge4\" class=\"edge\">\n<title>SubtractFrom:e-&gt;b_G4:w</title>\n<path fill=\"none\" stroke=\"black\" d=\"M152,-34C169.22,-34 170.97,-19.23 186.98,-18.07\"/>\n<ellipse fill=\"black\" stroke=\"black\" cx=\"188\" cy=\"-18.04\" rx=\"1\" ry=\"1\"/>\n<text text-anchor=\"middle\" x=\"170.5\" y=\"-29\" font-family=\"Times,serif\" font-size=\"10.00\">4</text>\n</g>\n</g>\n</svg>",
          "text/plain": "<IPython.core.display.SVG object>"
         },
         "metadata": {},
         "output_type": "display_data"
        }
       ],
       "tabbable": null,
       "tooltip": null
      }
     },
     "bf6469a37d3d469b90c801df5e3d3be9": {
      "model_module": "@jupyter-widgets/output",
      "model_module_version": "1.0.0",
      "model_name": "OutputModel",
      "state": {
       "_dom_classes": [],
       "_model_module": "@jupyter-widgets/output",
       "_model_module_version": "1.0.0",
       "_model_name": "OutputModel",
       "_view_count": null,
       "_view_module": "@jupyter-widgets/output",
       "_view_module_version": "1.0.0",
       "_view_name": "OutputView",
       "layout": "IPY_MODEL_42b06fb4636f48699242221e31b0dc8e",
       "msg_id": "",
       "outputs": [
        {
         "data": {
          "text/markdown": "`sub_symb`",
          "text/plain": "<IPython.core.display.Markdown object>"
         },
         "metadata": {},
         "output_type": "display_data"
        },
        {
         "data": {
          "image/svg+xml": "<svg xmlns=\"http://www.w3.org/2000/svg\" xmlns:xlink=\"http://www.w3.org/1999/xlink\" width=\"230pt\" height=\"98pt\" viewBox=\"0.00 0.00 230.00 98.00\">\n<g id=\"graph0\" class=\"graph\" transform=\"scale(1 1) rotate(0) translate(4 94)\">\n<title>my_graph</title>\n<polygon fill=\"white\" stroke=\"transparent\" points=\"-4,4 -4,-94 226,-94 226,4 -4,4\"/>\n<!-- a_G1 -->\n<g id=\"node1\" class=\"node\">\n<title>a_G1</title>\n<text text-anchor=\"middle\" x=\"27\" y=\"-68.3\" font-family=\"Times,serif\" font-size=\"14.00\">a</text>\n</g>\n<!-- Subtract -->\n<g id=\"node3\" class=\"node\">\n<title>Subtract</title>\n<polygon fill=\"none\" stroke=\"black\" points=\"91,-66 91,-83 131,-83 131,-66 91,-66\"/>\n<text text-anchor=\"start\" x=\"94\" y=\"-72\" font-family=\"Times,serif\" font-size=\"10.00\">Subtract</text>\n<polygon fill=\"none\" stroke=\"black\" points=\"91,-45 91,-66 131,-66 131,-45 91,-45\"/>\n<text text-anchor=\"start\" x=\"107.5\" y=\"-51.8\" font-family=\"Times,serif\" font-size=\"14.00\">a</text>\n<polygon fill=\"none\" stroke=\"black\" points=\"91,-24 91,-45 131,-45 131,-24 91,-24\"/>\n<text text-anchor=\"start\" x=\"107.5\" y=\"-30.8\" font-family=\"Times,serif\" font-size=\"14.00\">b</text>\n</g>\n<!-- a_G1&#45;&gt;Subtract -->\n<g id=\"edge1\" class=\"edge\">\n<title>a_G1:e-&gt;Subtract:w</title>\n<path fill=\"none\" stroke=\"black\" d=\"M54,-72C71.22,-72 72.97,-57.23 88.98,-56.07\"/>\n<ellipse fill=\"black\" stroke=\"black\" cx=\"90\" cy=\"-56.04\" rx=\"1\" ry=\"1\"/>\n<text text-anchor=\"middle\" x=\"72.5\" y=\"-67\" font-family=\"Times,serif\" font-size=\"10.00\">n</text>\n</g>\n<!-- b_G3 -->\n<g id=\"node2\" class=\"node\">\n<title>b_G3</title>\n<text text-anchor=\"middle\" x=\"27\" y=\"-14.3\" font-family=\"Times,serif\" font-size=\"14.00\">b</text>\n</g>\n<!-- b_G3&#45;&gt;Subtract -->\n<g id=\"edge2\" class=\"edge\">\n<title>b_G3:e-&gt;Subtract:w</title>\n<path fill=\"none\" stroke=\"black\" d=\"M54,-18C71.22,-18 72.97,-32.77 88.98,-33.93\"/>\n<ellipse fill=\"black\" stroke=\"black\" cx=\"90\" cy=\"-33.96\" rx=\"1\" ry=\"1\"/>\n<text text-anchor=\"middle\" x=\"72.5\" y=\"-29\" font-family=\"Times,serif\" font-size=\"10.00\">n</text>\n</g>\n<!-- a_G0 -->\n<g id=\"node4\" class=\"node\">\n<title>a_G0</title>\n<text text-anchor=\"middle\" x=\"195\" y=\"-68.3\" font-family=\"Times,serif\" font-size=\"14.00\">a</text>\n</g>\n<!-- Subtract&#45;&gt;a_G0 -->\n<g id=\"edge3\" class=\"edge\">\n<title>Subtract:e-&gt;a_G0:w</title>\n<path fill=\"none\" stroke=\"black\" d=\"M131,-56C148.22,-56 149.97,-70.77 165.98,-71.93\"/>\n<ellipse fill=\"black\" stroke=\"black\" cx=\"167\" cy=\"-71.96\" rx=\"1\" ry=\"1\"/>\n<text text-anchor=\"middle\" x=\"149.5\" y=\"-67\" font-family=\"Times,serif\" font-size=\"10.00\">n</text>\n</g>\n<!-- b_G4 -->\n<g id=\"node5\" class=\"node\">\n<title>b_G4</title>\n<text text-anchor=\"middle\" x=\"195\" y=\"-14.3\" font-family=\"Times,serif\" font-size=\"14.00\">b</text>\n</g>\n<!-- Subtract&#45;&gt;b_G4 -->\n<g id=\"edge4\" class=\"edge\">\n<title>Subtract:e-&gt;b_G4:w</title>\n<path fill=\"none\" stroke=\"black\" d=\"M131,-34C148.22,-34 149.97,-19.23 165.98,-18.07\"/>\n<ellipse fill=\"black\" stroke=\"black\" cx=\"167\" cy=\"-18.04\" rx=\"1\" ry=\"1\"/>\n<text text-anchor=\"middle\" x=\"149.5\" y=\"-29\" font-family=\"Times,serif\" font-size=\"10.00\">n</text>\n</g>\n</g>\n</svg>",
          "text/plain": "<IPython.core.display.SVG object>"
         },
         "metadata": {},
         "output_type": "display_data"
        }
       ],
       "tabbable": null,
       "tooltip": null
      }
     },
     "c1da4f4b199d4bf5a9f3c11f320d43d8": {
      "model_module": "@jupyter-widgets/base",
      "model_module_version": "2.0.0",
      "model_name": "LayoutModel",
      "state": {
       "_model_module": "@jupyter-widgets/base",
       "_model_module_version": "2.0.0",
       "_model_name": "LayoutModel",
       "_view_count": null,
       "_view_module": "@jupyter-widgets/base",
       "_view_module_version": "2.0.0",
       "_view_name": "LayoutView",
       "align_content": null,
       "align_items": null,
       "align_self": null,
       "border_bottom": null,
       "border_left": null,
       "border_right": null,
       "border_top": null,
       "bottom": null,
       "display": null,
       "flex": null,
       "flex_flow": null,
       "grid_area": null,
       "grid_auto_columns": null,
       "grid_auto_flow": null,
       "grid_auto_rows": null,
       "grid_column": null,
       "grid_gap": null,
       "grid_row": null,
       "grid_template_areas": null,
       "grid_template_columns": null,
       "grid_template_rows": null,
       "height": null,
       "justify_content": null,
       "justify_items": null,
       "left": null,
       "margin": null,
       "max_height": null,
       "max_width": null,
       "min_height": null,
       "min_width": null,
       "object_fit": null,
       "object_position": null,
       "order": null,
       "overflow": null,
       "padding": null,
       "right": null,
       "top": null,
       "visibility": null,
       "width": null
      }
     },
     "e1825d4efcfd4cd582a54dad60e08cbc": {
      "model_module": "@jupyter-widgets/controls",
      "model_module_version": "2.0.0",
      "model_name": "HBoxModel",
      "state": {
       "_dom_classes": [],
       "_model_module": "@jupyter-widgets/controls",
       "_model_module_version": "2.0.0",
       "_model_name": "HBoxModel",
       "_view_count": null,
       "_view_module": "@jupyter-widgets/controls",
       "_view_module_version": "2.0.0",
       "_view_name": "HBoxView",
       "box_style": "",
       "children": [
        "IPY_MODEL_83742c2d022b40828790e58afdb85dda",
        "IPY_MODEL_b9ab22d895684052b4332acd0504984d",
        "IPY_MODEL_8b8caf389e9c494880da660ae4e1b908"
       ],
       "layout": "IPY_MODEL_7d81e15f48c646cb855c1b15cad9fca6",
       "tabbable": null,
       "tooltip": null
      }
     },
     "efdef96cbc2441acb22d7e28fd67f672": {
      "model_module": "@jupyter-widgets/base",
      "model_module_version": "2.0.0",
      "model_name": "LayoutModel",
      "state": {
       "_model_module": "@jupyter-widgets/base",
       "_model_module_version": "2.0.0",
       "_model_name": "LayoutModel",
       "_view_count": null,
       "_view_module": "@jupyter-widgets/base",
       "_view_module_version": "2.0.0",
       "_view_name": "LayoutView",
       "align_content": null,
       "align_items": null,
       "align_self": null,
       "border_bottom": null,
       "border_left": null,
       "border_right": null,
       "border_top": null,
       "bottom": null,
       "display": null,
       "flex": null,
       "flex_flow": null,
       "grid_area": null,
       "grid_auto_columns": null,
       "grid_auto_flow": null,
       "grid_auto_rows": null,
       "grid_column": null,
       "grid_gap": null,
       "grid_row": null,
       "grid_template_areas": null,
       "grid_template_columns": null,
       "grid_template_rows": null,
       "height": null,
       "justify_content": null,
       "justify_items": null,
       "left": null,
       "margin": null,
       "max_height": null,
       "max_width": null,
       "min_height": null,
       "min_width": null,
       "object_fit": null,
       "object_position": null,
       "order": null,
       "overflow": null,
       "padding": null,
       "right": null,
       "top": null,
       "visibility": null,
       "width": null
      }
     },
     "f4a1cd19fe46405fbfc29e0a5ed8952d": {
      "model_module": "@jupyter-widgets/base",
      "model_module_version": "2.0.0",
      "model_name": "LayoutModel",
      "state": {
       "_model_module": "@jupyter-widgets/base",
       "_model_module_version": "2.0.0",
       "_model_name": "LayoutModel",
       "_view_count": null,
       "_view_module": "@jupyter-widgets/base",
       "_view_module_version": "2.0.0",
       "_view_name": "LayoutView",
       "align_content": null,
       "align_items": null,
       "align_self": null,
       "border_bottom": null,
       "border_left": null,
       "border_right": null,
       "border_top": null,
       "bottom": null,
       "display": null,
       "flex": null,
       "flex_flow": null,
       "grid_area": null,
       "grid_auto_columns": null,
       "grid_auto_flow": null,
       "grid_auto_rows": null,
       "grid_column": null,
       "grid_gap": null,
       "grid_row": null,
       "grid_template_areas": null,
       "grid_template_columns": null,
       "grid_template_rows": null,
       "height": null,
       "justify_content": null,
       "justify_items": null,
       "left": null,
       "margin": null,
       "max_height": null,
       "max_width": null,
       "min_height": null,
       "min_width": null,
       "object_fit": null,
       "object_position": null,
       "order": null,
       "overflow": null,
       "padding": null,
       "right": null,
       "top": null,
       "visibility": null,
       "width": null
      }
     },
     "f82eab3c3ff34fbdb29139b0247c996b": {
      "model_module": "@jupyter-widgets/base",
      "model_module_version": "2.0.0",
      "model_name": "LayoutModel",
      "state": {
       "_model_module": "@jupyter-widgets/base",
       "_model_module_version": "2.0.0",
       "_model_name": "LayoutModel",
       "_view_count": null,
       "_view_module": "@jupyter-widgets/base",
       "_view_module_version": "2.0.0",
       "_view_name": "LayoutView",
       "align_content": null,
       "align_items": null,
       "align_self": null,
       "border_bottom": null,
       "border_left": null,
       "border_right": null,
       "border_top": null,
       "bottom": null,
       "display": null,
       "flex": null,
       "flex_flow": null,
       "grid_area": null,
       "grid_auto_columns": null,
       "grid_auto_flow": null,
       "grid_auto_rows": null,
       "grid_column": null,
       "grid_gap": null,
       "grid_row": null,
       "grid_template_areas": null,
       "grid_template_columns": null,
       "grid_template_rows": null,
       "height": null,
       "justify_content": null,
       "justify_items": null,
       "left": null,
       "margin": null,
       "max_height": null,
       "max_width": null,
       "min_height": null,
       "min_width": null,
       "object_fit": null,
       "object_position": null,
       "order": null,
       "overflow": null,
       "padding": null,
       "right": null,
       "top": null,
       "visibility": null,
       "width": null
      }
     }
    },
    "version_major": 2,
    "version_minor": 0
   }
  }
 },
 "nbformat": 4,
 "nbformat_minor": 5
}
