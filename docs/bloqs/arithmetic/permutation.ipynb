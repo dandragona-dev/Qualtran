{
 "cells": [
  {
   "cell_type": "markdown",
   "id": "a697fa0f",
   "metadata": {
    "cq.autogen": "title_cell"
   },
   "source": [
    "# Permutations"
   ]
  },
  {
   "cell_type": "code",
   "execution_count": 1,
   "id": "f3a56020",
   "metadata": {
    "cq.autogen": "top_imports"
   },
   "outputs": [],
   "source": [
    "from qualtran import Bloq, CompositeBloq, BloqBuilder, Signature, Register\n",
    "from qualtran import QBit, QInt, QUInt, QAny\n",
    "from qualtran.drawing import show_bloq, show_call_graph, show_counts_sigma\n",
    "from typing import *\n",
    "import numpy as np\n",
    "import sympy\n",
    "import cirq"
   ]
  },
  {
   "cell_type": "markdown",
   "id": "39be898d",
   "metadata": {
    "cq.autogen": "Permutation.bloq_doc.md"
   },
   "source": [
    "## `Permutation`\n",
    "Apply a permutation of [0, N - 1] on the basis states.\n",
    "\n",
    "Given a permutation $P : [0, N - 1] \\to [0, N - 1]$, this bloq applies the unitary:\n",
    "\n",
    "$$\n",
    "    U|x\\rangle = |P(x)\\rangle\n",
    "$$\n",
    "\n",
    "Decomposes a permutation into cycles and applies them in order.\n",
    "See :meth:`from_dense_permutation` to construct this bloq from a permutation,\n",
    "and :meth:`from_partial_permutation_map` to construct it from a mapping.\n",
    "\n",
    "#### Parameters\n",
    " - `N`: the total size the permutation acts on.\n",
    " - `cycles`: a sequence of permutation cycles that form the permutation.\n",
    " - `bitsize`: number of bits to store the indices, defaults to $\\ceil(\\log_2(N))$. \n",
    "\n",
    "#### Registers\n",
    " - `x`: integer register storing a value in [0, ..., N - 1] \n",
    "\n",
    "#### References\n",
    " - [A simple quantum algorithm to efficiently prepare sparse states](https://arxiv.org/abs/2310.19309v1). Appendix B.\n"
   ]
  },
  {
   "cell_type": "code",
   "execution_count": 2,
   "id": "88b7712d",
   "metadata": {
    "cq.autogen": "Permutation.bloq_doc.py"
   },
   "outputs": [],
   "source": [
    "from qualtran.bloqs.arithmetic.permutation import Permutation"
   ]
  },
  {
   "cell_type": "markdown",
   "id": "5c4722c6",
   "metadata": {
    "cq.autogen": "Permutation.example_instances.md"
   },
   "source": [
    "### Example Instances"
   ]
  },
  {
   "cell_type": "code",
   "execution_count": 3,
   "id": "8e38bf3a",
   "metadata": {
    "cq.autogen": "Permutation.permutation"
   },
   "outputs": [],
   "source": [
    "permutation = Permutation.from_dense_permutation([1, 3, 0, 2])"
   ]
  },
  {
   "cell_type": "code",
   "execution_count": 4,
   "id": "52218544",
   "metadata": {
    "cq.autogen": "Permutation.permutation_symb"
   },
   "outputs": [],
   "source": [
    "import sympy\n",
    "\n",
    "from qualtran.symbolics import Shaped\n",
    "\n",
    "N, k = sympy.symbols(\"N k\", positive=True, integer=True)\n",
    "permutation_symb = Permutation(N, Shaped((k,)))"
   ]
  },
  {
   "cell_type": "code",
   "execution_count": 5,
   "id": "cb1a6988",
   "metadata": {
    "cq.autogen": "Permutation.permutation_symb_with_cycles"
   },
   "outputs": [],
   "source": [
    "import sympy\n",
    "\n",
    "from qualtran.symbolics import Shaped\n",
    "\n",
    "N = sympy.symbols(\"N\", positive=True, integer=True)\n",
    "n_cycles = 4\n",
    "d = sympy.IndexedBase('d', shape=(n_cycles,))\n",
    "permutation_symb_with_cycles = Permutation(N, tuple(Shaped((d[i],)) for i in range(n_cycles)))"
   ]
  },
  {
   "cell_type": "code",
   "execution_count": 6,
   "id": "f58b58f7",
   "metadata": {
    "cq.autogen": "Permutation.sparse_permutation"
   },
   "outputs": [],
   "source": [
    "sparse_permutation = Permutation.from_partial_permutation_map(\n",
    "    16, {0: 1, 1: 3, 2: 8, 3: 15, 4: 12}\n",
    ")"
   ]
  },
  {
   "cell_type": "code",
   "execution_count": 7,
   "id": "e644f2ac",
   "metadata": {
    "cq.autogen": "Permutation.sparse_permutation_with_symbolic_N"
   },
   "outputs": [],
   "source": [
    "import sympy\n",
    "\n",
    "N = sympy.symbols(\"N\", positive=True, integer=True)\n",
    "sparse_permutation_with_symbolic_N = Permutation.from_partial_permutation_map(\n",
    "    N, {0: 1, 1: 3, 2: 4, 3: 7}\n",
    ")"
   ]
  },
  {
   "cell_type": "markdown",
   "id": "ace174d5",
   "metadata": {
    "cq.autogen": "Permutation.graphical_signature.md"
   },
   "source": [
    "#### Graphical Signature"
   ]
  },
  {
   "cell_type": "code",
   "execution_count": 8,
   "id": "1e55dcd4",
   "metadata": {
    "cq.autogen": "Permutation.graphical_signature.py"
   },
   "outputs": [
    {
     "data": {
      "application/vnd.jupyter.widget-view+json": {
       "model_id": "982b755261ec4a20bf7d8c6bbd05fd0a",
       "version_major": 2,
       "version_minor": 0
      },
      "text/plain": [
       "HBox(children=(Output(outputs=({'output_type': 'display_data', 'data': {'text/plain': '<IPython.core.display.M…"
      ]
     },
     "metadata": {},
     "output_type": "display_data"
    }
   ],
   "source": [
    "from qualtran.drawing import show_bloqs\n",
    "show_bloqs([permutation, permutation_symb, permutation_symb_with_cycles, sparse_permutation, sparse_permutation_with_symbolic_N],\n",
    "           ['`permutation`', '`permutation_symb`', '`permutation_symb_with_cycles`', '`sparse_permutation`', '`sparse_permutation_with_symbolic_N`'])"
   ]
  },
  {
   "cell_type": "markdown",
   "id": "32e2b5dd",
   "metadata": {
    "cq.autogen": "Permutation.call_graph.md"
   },
   "source": [
    "### Call Graph"
   ]
  },
  {
   "cell_type": "code",
   "execution_count": 9,
   "id": "fab3fd69",
   "metadata": {
    "cq.autogen": "Permutation.call_graph.py"
   },
   "outputs": [
    {
     "data": {
      "image/svg+xml": [
       "<svg xmlns=\"http://www.w3.org/2000/svg\" xmlns:xlink=\"http://www.w3.org/1999/xlink\" width=\"110pt\" height=\"131pt\" viewBox=\"0.00 0.00 110.00 131.00\">\n",
       "<g id=\"graph0\" class=\"graph\" transform=\"scale(1 1) rotate(0) translate(4 127)\">\n",
       "<title>counts</title>\n",
       "<polygon fill=\"white\" stroke=\"transparent\" points=\"-4,4 -4,-127 106,-127 106,4 -4,4\"/>\n",
       "<!-- b0 -->\n",
       "<g id=\"node1\" class=\"node\">\n",
       "<title>b0</title>\n",
       "<polygon fill=\"none\" stroke=\"black\" points=\"20,-93 20,-116 82,-116 82,-93 20,-93\"/>\n",
       "<text text-anchor=\"start\" x=\"26\" y=\"-102\" font-family=\"Times,serif\" font-size=\"10.00\">Permutation</text>\n",
       "</g>\n",
       "<!-- b1 -->\n",
       "<g id=\"node2\" class=\"node\">\n",
       "<title>b1</title>\n",
       "<polygon fill=\"none\" stroke=\"black\" points=\"8,-6 8,-29 94,-29 94,-6 8,-6\"/>\n",
       "<text text-anchor=\"start\" x=\"14\" y=\"-15\" font-family=\"Times,serif\" font-size=\"10.00\">PermutationCycle</text>\n",
       "</g>\n",
       "<!-- b0&#45;&gt;b1 -->\n",
       "<g id=\"edge1\" class=\"edge\">\n",
       "<title>b0-&gt;b1</title>\n",
       "<path fill=\"none\" stroke=\"black\" d=\"M51,-86.8C51,-75.16 51,-59.55 51,-46.24\"/>\n",
       "<polygon fill=\"black\" stroke=\"black\" points=\"54.5,-46.18 51,-36.18 47.5,-46.18 54.5,-46.18\"/>\n",
       "<text text-anchor=\"middle\" x=\"54.5\" y=\"-57.8\" font-family=\"Times,serif\" font-size=\"14.00\">1</text>\n",
       "</g>\n",
       "</g>\n",
       "</svg>"
      ],
      "text/plain": [
       "<IPython.core.display.SVG object>"
      ]
     },
     "metadata": {},
     "output_type": "display_data"
    },
    {
     "data": {
      "text/markdown": [
       "#### Counts totals:\n",
       " - `PermutationCycle`: 1"
      ],
      "text/plain": [
       "<IPython.core.display.Markdown object>"
      ]
     },
     "metadata": {},
     "output_type": "display_data"
    }
   ],
   "source": [
    "from qualtran.resource_counting.generalizers import ignore_split_join\n",
    "permutation_g, permutation_sigma = permutation.call_graph(max_depth=1, generalizer=ignore_split_join)\n",
    "show_call_graph(permutation_g)\n",
    "show_counts_sigma(permutation_sigma)"
   ]
  },
  {
   "cell_type": "markdown",
   "id": "408e209c",
   "metadata": {
    "cq.autogen": "PermutationCycle.bloq_doc.md"
   },
   "source": [
    "## `PermutationCycle`\n",
    "Apply a single permutation cycle on the basis states.\n",
    "\n",
    "Given a permutation cycle $C = (v_0 v_2 \\ldots v_{k - 1})$, applies the following unitary:\n",
    "\n",
    "    $$\n",
    "        U|v_i\\rangle \\mapsto |v_{(i + 1)\\mod k}\\rangle\n",
    "    $$\n",
    "\n",
    "for each $i \\in [0, k)$, and\n",
    "\n",
    "    $$\n",
    "        U|x\\rangle \\mapsto |x\\rangle\n",
    "    $$\n",
    "\n",
    "and for every $x \\not\\in C$.\n",
    "\n",
    "#### Parameters\n",
    " - `N`: the total size the permutation acts on.\n",
    " - `cycle`: the permutation cycle to apply.\n",
    " - `bitsize`: number of bits to store the indices, defaults to $\\ceil(\\log_2(N))$. \n",
    "\n",
    "#### Registers\n",
    " - `x`: integer register storing a value in [0, ..., N - 1] \n",
    "\n",
    "#### References\n",
    " - [A simple quantum algorithm to efficiently prepare sparse states](https://arxiv.org/abs/2310.19309v1). Appendix B, Algorithm 7.\n"
   ]
  },
  {
   "cell_type": "code",
   "execution_count": 10,
   "id": "bc68fccd",
   "metadata": {
    "cq.autogen": "PermutationCycle.bloq_doc.py"
   },
   "outputs": [],
   "source": [
    "from qualtran.bloqs.arithmetic.permutation import PermutationCycle"
   ]
  },
  {
   "cell_type": "markdown",
   "id": "de4c7922",
   "metadata": {
    "cq.autogen": "PermutationCycle.example_instances.md"
   },
   "source": [
    "### Example Instances"
   ]
  },
  {
   "cell_type": "code",
   "execution_count": 11,
   "id": "071de1e1",
   "metadata": {
    "cq.autogen": "PermutationCycle.permutation_cycle_symb_N"
   },
   "outputs": [],
   "source": [
    "import sympy\n",
    "\n",
    "N = sympy.symbols(\"n\", positive=True, integer=True)\n",
    "cycle = (3, 1, 2)\n",
    "permutation_cycle_symb_N = PermutationCycle(N, cycle)"
   ]
  },
  {
   "cell_type": "code",
   "execution_count": 12,
   "id": "fd61e92a",
   "metadata": {
    "cq.autogen": "PermutationCycle.permutation_cycle_symb"
   },
   "outputs": [],
   "source": [
    "import sympy\n",
    "\n",
    "from qualtran.symbolics import Shaped\n",
    "\n",
    "N, L = sympy.symbols(\"N L\", positive=True, integer=True)\n",
    "cycle = Shaped((L,))\n",
    "permutation_cycle_symb = PermutationCycle(N, cycle)"
   ]
  },
  {
   "cell_type": "code",
   "execution_count": 13,
   "id": "b818f3b1",
   "metadata": {
    "cq.autogen": "PermutationCycle.permutation_cycle"
   },
   "outputs": [],
   "source": [
    "permutation_cycle = PermutationCycle(4, (0, 1, 2))"
   ]
  },
  {
   "cell_type": "markdown",
   "id": "3d3c3e1b",
   "metadata": {
    "cq.autogen": "PermutationCycle.graphical_signature.md"
   },
   "source": [
    "#### Graphical Signature"
   ]
  },
  {
   "cell_type": "code",
   "execution_count": 14,
   "id": "de967993",
   "metadata": {
    "cq.autogen": "PermutationCycle.graphical_signature.py"
   },
   "outputs": [
    {
     "data": {
      "application/vnd.jupyter.widget-view+json": {
       "model_id": "acd6046f4d464c28b6b0c0d7a84b23df",
       "version_major": 2,
       "version_minor": 0
      },
      "text/plain": [
       "HBox(children=(Output(outputs=({'output_type': 'display_data', 'data': {'text/plain': '<IPython.core.display.M…"
      ]
     },
     "metadata": {},
     "output_type": "display_data"
    }
   ],
   "source": [
    "from qualtran.drawing import show_bloqs\n",
    "show_bloqs([permutation_cycle_symb_N, permutation_cycle_symb, permutation_cycle],\n",
    "           ['`permutation_cycle_symb_N`', '`permutation_cycle_symb`', '`permutation_cycle`'])"
   ]
  },
  {
   "cell_type": "markdown",
   "id": "58deda5c",
   "metadata": {
    "cq.autogen": "PermutationCycle.call_graph.md"
   },
   "source": [
    "### Call Graph"
   ]
  },
  {
   "cell_type": "code",
   "execution_count": 15,
   "id": "ec16903f",
   "metadata": {
    "cq.autogen": "PermutationCycle.call_graph.py"
   },
   "outputs": [
    {
     "data": {
      "image/svg+xml": [
       "<svg xmlns=\"http://www.w3.org/2000/svg\" xmlns:xlink=\"http://www.w3.org/1999/xlink\" width=\"756pt\" height=\"131pt\" viewBox=\"0.00 0.00 756.00 131.00\">\n",
       "<g id=\"graph0\" class=\"graph\" transform=\"scale(1 1) rotate(0) translate(4 127)\">\n",
       "<title>counts</title>\n",
       "<polygon fill=\"white\" stroke=\"transparent\" points=\"-4,4 -4,-127 752,-127 752,4 -4,4\"/>\n",
       "<!-- b0 -->\n",
       "<g id=\"node1\" class=\"node\">\n",
       "<title>b0</title>\n",
       "<polygon fill=\"none\" stroke=\"black\" points=\"354,-93 354,-116 440,-116 440,-93 354,-93\"/>\n",
       "<text text-anchor=\"start\" x=\"360\" y=\"-102\" font-family=\"Times,serif\" font-size=\"10.00\">PermutationCycle</text>\n",
       "</g>\n",
       "<!-- b1 -->\n",
       "<g id=\"node2\" class=\"node\">\n",
       "<title>b1</title>\n",
       "<polygon fill=\"none\" stroke=\"black\" points=\"8,-6 8,-29 56,-29 56,-6 8,-6\"/>\n",
       "<text text-anchor=\"start\" x=\"14\" y=\"-15\" font-family=\"Times,serif\" font-size=\"10.00\">Allocate</text>\n",
       "</g>\n",
       "<!-- b0&#45;&gt;b1 -->\n",
       "<g id=\"edge1\" class=\"edge\">\n",
       "<title>b0-&gt;b1</title>\n",
       "<path fill=\"none\" stroke=\"black\" d=\"M345.75,-96.28C283.25,-86.19 174.51,-66.49 73.75,-35.93\"/>\n",
       "<polygon fill=\"black\" stroke=\"black\" points=\"74.61,-32.53 64.02,-32.94 72.55,-39.23 74.61,-32.53\"/>\n",
       "<text text-anchor=\"middle\" x=\"200.5\" y=\"-57.8\" font-family=\"Times,serif\" font-size=\"14.00\">1</text>\n",
       "</g>\n",
       "<!-- b2 -->\n",
       "<g id=\"node3\" class=\"node\">\n",
       "<title>b2</title>\n",
       "<polygon fill=\"none\" stroke=\"black\" points=\"90,-6 90,-29 176,-29 176,-6 90,-6\"/>\n",
       "<text text-anchor=\"start\" x=\"96.5\" y=\"-15\" font-family=\"Times,serif\" font-size=\"10.00\">EqualsAConstant</text>\n",
       "</g>\n",
       "<!-- b0&#45;&gt;b2 -->\n",
       "<g id=\"edge2\" class=\"edge\">\n",
       "<title>b0-&gt;b2</title>\n",
       "<path fill=\"none\" stroke=\"black\" d=\"M345.79,-87.51C302.25,-73.49 239.66,-53.34 193.63,-38.52\"/>\n",
       "<polygon fill=\"black\" stroke=\"black\" points=\"194.66,-35.18 184.07,-35.44 192.52,-41.84 194.66,-35.18\"/>\n",
       "<text text-anchor=\"middle\" x=\"284.5\" y=\"-57.8\" font-family=\"Times,serif\" font-size=\"14.00\">1</text>\n",
       "</g>\n",
       "<!-- b3 -->\n",
       "<g id=\"node4\" class=\"node\">\n",
       "<title>b3</title>\n",
       "<polygon fill=\"none\" stroke=\"black\" points=\"210,-6 210,-29 296,-29 296,-6 210,-6\"/>\n",
       "<text text-anchor=\"start\" x=\"216.5\" y=\"-15\" font-family=\"Times,serif\" font-size=\"10.00\">EqualsAConstant</text>\n",
       "</g>\n",
       "<!-- b0&#45;&gt;b3 -->\n",
       "<g id=\"edge3\" class=\"edge\">\n",
       "<title>b0-&gt;b3</title>\n",
       "<path fill=\"none\" stroke=\"black\" d=\"M367.86,-86.8C345.71,-73.72 315.04,-55.62 290.97,-41.41\"/>\n",
       "<polygon fill=\"black\" stroke=\"black\" points=\"292.49,-38.24 282.1,-36.18 288.93,-44.27 292.49,-38.24\"/>\n",
       "<text text-anchor=\"middle\" x=\"337.5\" y=\"-57.8\" font-family=\"Times,serif\" font-size=\"14.00\">2</text>\n",
       "</g>\n",
       "<!-- b4 -->\n",
       "<g id=\"node5\" class=\"node\">\n",
       "<title>b4</title>\n",
       "<polygon fill=\"none\" stroke=\"black\" points=\"330,-6 330,-29 380,-29 380,-6 330,-6\"/>\n",
       "<text text-anchor=\"start\" x=\"336.5\" y=\"-15\" font-family=\"Times,serif\" font-size=\"10.00\">C[XorK]</text>\n",
       "</g>\n",
       "<!-- b0&#45;&gt;b4 -->\n",
       "<g id=\"edge4\" class=\"edge\">\n",
       "<title>b0-&gt;b4</title>\n",
       "<path fill=\"none\" stroke=\"black\" d=\"M388.5,-86.8C382.64,-74.93 374.73,-58.93 368.07,-45.45\"/>\n",
       "<polygon fill=\"black\" stroke=\"black\" points=\"371.05,-43.59 363.49,-36.18 364.78,-46.69 371.05,-43.59\"/>\n",
       "<text text-anchor=\"middle\" x=\"382.5\" y=\"-57.8\" font-family=\"Times,serif\" font-size=\"14.00\">1</text>\n",
       "</g>\n",
       "<!-- b5 -->\n",
       "<g id=\"node6\" class=\"node\">\n",
       "<title>b5</title>\n",
       "<polygon fill=\"none\" stroke=\"black\" points=\"414,-6 414,-29 464,-29 464,-6 414,-6\"/>\n",
       "<text text-anchor=\"start\" x=\"420.5\" y=\"-15\" font-family=\"Times,serif\" font-size=\"10.00\">C[XorK]</text>\n",
       "</g>\n",
       "<!-- b0&#45;&gt;b5 -->\n",
       "<g id=\"edge5\" class=\"edge\">\n",
       "<title>b0-&gt;b5</title>\n",
       "<path fill=\"none\" stroke=\"black\" d=\"M405.5,-86.8C411.36,-74.93 419.27,-58.93 425.93,-45.45\"/>\n",
       "<polygon fill=\"black\" stroke=\"black\" points=\"429.22,-46.69 430.51,-36.18 422.95,-43.59 429.22,-46.69\"/>\n",
       "<text text-anchor=\"middle\" x=\"424.5\" y=\"-57.8\" font-family=\"Times,serif\" font-size=\"14.00\">1</text>\n",
       "</g>\n",
       "<!-- b6 -->\n",
       "<g id=\"node7\" class=\"node\">\n",
       "<title>b6</title>\n",
       "<polygon fill=\"none\" stroke=\"black\" points=\"502,-6 502,-29 532,-29 532,-6 502,-6\"/>\n",
       "<text text-anchor=\"start\" x=\"508\" y=\"-15\" font-family=\"Times,serif\" font-size=\"10.00\">Free</text>\n",
       "</g>\n",
       "<!-- b0&#45;&gt;b6 -->\n",
       "<g id=\"edge6\" class=\"edge\">\n",
       "<title>b0-&gt;b6</title>\n",
       "<path fill=\"none\" stroke=\"black\" d=\"M421.28,-86.8C439.5,-73.9 464.62,-56.1 484.56,-41.98\"/>\n",
       "<polygon fill=\"black\" stroke=\"black\" points=\"486.62,-44.81 492.75,-36.18 482.57,-39.1 486.62,-44.81\"/>\n",
       "<text text-anchor=\"middle\" x=\"468.5\" y=\"-57.8\" font-family=\"Times,serif\" font-size=\"14.00\">1</text>\n",
       "</g>\n",
       "<!-- b7 -->\n",
       "<g id=\"node8\" class=\"node\">\n",
       "<title>b7</title>\n",
       "<polygon fill=\"none\" stroke=\"black\" points=\"570,-6 570,-29 620,-29 620,-6 570,-6\"/>\n",
       "<text text-anchor=\"start\" x=\"576.5\" y=\"-15\" font-family=\"Times,serif\" font-size=\"10.00\">C[XorK]</text>\n",
       "</g>\n",
       "<!-- b0&#45;&gt;b7 -->\n",
       "<g id=\"edge7\" class=\"edge\">\n",
       "<title>b0-&gt;b7</title>\n",
       "<path fill=\"none\" stroke=\"black\" d=\"M437.07,-86.8C470.64,-72.39 518.42,-51.88 552.62,-37.19\"/>\n",
       "<polygon fill=\"black\" stroke=\"black\" points=\"554.08,-40.38 561.88,-33.22 551.31,-33.95 554.08,-40.38\"/>\n",
       "<text text-anchor=\"middle\" x=\"510.5\" y=\"-57.8\" font-family=\"Times,serif\" font-size=\"14.00\">1</text>\n",
       "</g>\n",
       "<!-- b8 -->\n",
       "<g id=\"node9\" class=\"node\">\n",
       "<title>b8</title>\n",
       "<polygon fill=\"none\" stroke=\"black\" points=\"654,-6 654,-29 740,-29 740,-6 654,-6\"/>\n",
       "<text text-anchor=\"start\" x=\"660.5\" y=\"-15\" font-family=\"Times,serif\" font-size=\"10.00\">EqualsAConstant</text>\n",
       "</g>\n",
       "<!-- b0&#45;&gt;b8 -->\n",
       "<g id=\"edge8\" class=\"edge\">\n",
       "<title>b0-&gt;b8</title>\n",
       "<path fill=\"none\" stroke=\"black\" d=\"M448.23,-89.48C500.33,-74.72 581.04,-51.85 636.31,-36.2\"/>\n",
       "<polygon fill=\"black\" stroke=\"black\" points=\"637.31,-39.55 645.98,-33.46 635.4,-32.81 637.31,-39.55\"/>\n",
       "<text text-anchor=\"middle\" x=\"567.5\" y=\"-57.8\" font-family=\"Times,serif\" font-size=\"14.00\">1</text>\n",
       "</g>\n",
       "</g>\n",
       "</svg>"
      ],
      "text/plain": [
       "<IPython.core.display.SVG object>"
      ]
     },
     "metadata": {},
     "output_type": "display_data"
    },
    {
     "data": {
      "text/markdown": [
       "#### Counts totals:\n",
       " - `Allocate`: 1\n",
       " - `C[XorK]`: 1\n",
       " - `C[XorK]`: 1\n",
       " - `C[XorK]`: 1\n",
       " - `EqualsAConstant`: 1\n",
       " - `EqualsAConstant`: 1\n",
       " - `EqualsAConstant`: 2\n",
       " - `Free`: 1"
      ],
      "text/plain": [
       "<IPython.core.display.Markdown object>"
      ]
     },
     "metadata": {},
     "output_type": "display_data"
    }
   ],
   "source": [
    "from qualtran.resource_counting.generalizers import ignore_split_join\n",
    "permutation_cycle_symb_N_g, permutation_cycle_symb_N_sigma = permutation_cycle_symb_N.call_graph(max_depth=1, generalizer=ignore_split_join)\n",
    "show_call_graph(permutation_cycle_symb_N_g)\n",
    "show_counts_sigma(permutation_cycle_symb_N_sigma)"
   ]
  }
 ],
 "metadata": {
  "kernelspec": {
   "display_name": "Python 3",
   "language": "python",
   "name": "python3"
  },
  "language_info": {
   "codemirror_mode": {
    "name": "ipython",
    "version": 3
   },
   "file_extension": ".py",
   "mimetype": "text/x-python",
   "name": "python",
   "nbconvert_exporter": "python",
   "pygments_lexer": "ipython3",
   "version": "3.11.8"
  },
  "widgets": {
   "application/vnd.jupyter.widget-state+json": {
    "state": {
     "03f5ddd65cae40bf9c49cc54968d0875": {
      "model_module": "@jupyter-widgets/base",
      "model_module_version": "2.0.0",
      "model_name": "LayoutModel",
      "state": {
       "_model_module": "@jupyter-widgets/base",
       "_model_module_version": "2.0.0",
       "_model_name": "LayoutModel",
       "_view_count": null,
       "_view_module": "@jupyter-widgets/base",
       "_view_module_version": "2.0.0",
       "_view_name": "LayoutView",
       "align_content": null,
       "align_items": null,
       "align_self": null,
       "border_bottom": null,
       "border_left": null,
       "border_right": null,
       "border_top": null,
       "bottom": null,
       "display": null,
       "flex": null,
       "flex_flow": null,
       "grid_area": null,
       "grid_auto_columns": null,
       "grid_auto_flow": null,
       "grid_auto_rows": null,
       "grid_column": null,
       "grid_gap": null,
       "grid_row": null,
       "grid_template_areas": null,
       "grid_template_columns": null,
       "grid_template_rows": null,
       "height": null,
       "justify_content": null,
       "justify_items": null,
       "left": null,
       "margin": null,
       "max_height": null,
       "max_width": null,
       "min_height": null,
       "min_width": null,
       "object_fit": null,
       "object_position": null,
       "order": null,
       "overflow": null,
       "padding": null,
       "right": null,
       "top": null,
       "visibility": null,
       "width": null
      }
     },
     "1a499c907d074ef0907ca5314788d2da": {
      "model_module": "@jupyter-widgets/base",
      "model_module_version": "2.0.0",
      "model_name": "LayoutModel",
      "state": {
       "_model_module": "@jupyter-widgets/base",
       "_model_module_version": "2.0.0",
       "_model_name": "LayoutModel",
       "_view_count": null,
       "_view_module": "@jupyter-widgets/base",
       "_view_module_version": "2.0.0",
       "_view_name": "LayoutView",
       "align_content": null,
       "align_items": null,
       "align_self": null,
       "border_bottom": null,
       "border_left": null,
       "border_right": null,
       "border_top": null,
       "bottom": null,
       "display": null,
       "flex": null,
       "flex_flow": null,
       "grid_area": null,
       "grid_auto_columns": null,
       "grid_auto_flow": null,
       "grid_auto_rows": null,
       "grid_column": null,
       "grid_gap": null,
       "grid_row": null,
       "grid_template_areas": null,
       "grid_template_columns": null,
       "grid_template_rows": null,
       "height": null,
       "justify_content": null,
       "justify_items": null,
       "left": null,
       "margin": null,
       "max_height": null,
       "max_width": null,
       "min_height": null,
       "min_width": null,
       "object_fit": null,
       "object_position": null,
       "order": null,
       "overflow": null,
       "padding": null,
       "right": null,
       "top": null,
       "visibility": null,
       "width": null
      }
     },
     "333f1c3dc1654ff08853828220566220": {
      "model_module": "@jupyter-widgets/base",
      "model_module_version": "2.0.0",
      "model_name": "LayoutModel",
      "state": {
       "_model_module": "@jupyter-widgets/base",
       "_model_module_version": "2.0.0",
       "_model_name": "LayoutModel",
       "_view_count": null,
       "_view_module": "@jupyter-widgets/base",
       "_view_module_version": "2.0.0",
       "_view_name": "LayoutView",
       "align_content": null,
       "align_items": null,
       "align_self": null,
       "border_bottom": null,
       "border_left": null,
       "border_right": null,
       "border_top": null,
       "bottom": null,
       "display": null,
       "flex": null,
       "flex_flow": null,
       "grid_area": null,
       "grid_auto_columns": null,
       "grid_auto_flow": null,
       "grid_auto_rows": null,
       "grid_column": null,
       "grid_gap": null,
       "grid_row": null,
       "grid_template_areas": null,
       "grid_template_columns": null,
       "grid_template_rows": null,
       "height": null,
       "justify_content": null,
       "justify_items": null,
       "left": null,
       "margin": null,
       "max_height": null,
       "max_width": null,
       "min_height": null,
       "min_width": null,
       "object_fit": null,
       "object_position": null,
       "order": null,
       "overflow": null,
       "padding": null,
       "right": null,
       "top": null,
       "visibility": null,
       "width": null
      }
     },
     "33c0829b7c514f1381bdfd7db492feca": {
      "model_module": "@jupyter-widgets/base",
      "model_module_version": "2.0.0",
      "model_name": "LayoutModel",
      "state": {
       "_model_module": "@jupyter-widgets/base",
       "_model_module_version": "2.0.0",
       "_model_name": "LayoutModel",
       "_view_count": null,
       "_view_module": "@jupyter-widgets/base",
       "_view_module_version": "2.0.0",
       "_view_name": "LayoutView",
       "align_content": null,
       "align_items": null,
       "align_self": null,
       "border_bottom": null,
       "border_left": null,
       "border_right": null,
       "border_top": null,
       "bottom": null,
       "display": null,
       "flex": null,
       "flex_flow": null,
       "grid_area": null,
       "grid_auto_columns": null,
       "grid_auto_flow": null,
       "grid_auto_rows": null,
       "grid_column": null,
       "grid_gap": null,
       "grid_row": null,
       "grid_template_areas": null,
       "grid_template_columns": null,
       "grid_template_rows": null,
       "height": null,
       "justify_content": null,
       "justify_items": null,
       "left": null,
       "margin": null,
       "max_height": null,
       "max_width": null,
       "min_height": null,
       "min_width": null,
       "object_fit": null,
       "object_position": null,
       "order": null,
       "overflow": null,
       "padding": null,
       "right": null,
       "top": null,
       "visibility": null,
       "width": null
      }
     },
     "3d28ac82198c4ead9bc349381fa9222d": {
      "model_module": "@jupyter-widgets/base",
      "model_module_version": "2.0.0",
      "model_name": "LayoutModel",
      "state": {
       "_model_module": "@jupyter-widgets/base",
       "_model_module_version": "2.0.0",
       "_model_name": "LayoutModel",
       "_view_count": null,
       "_view_module": "@jupyter-widgets/base",
       "_view_module_version": "2.0.0",
       "_view_name": "LayoutView",
       "align_content": null,
       "align_items": null,
       "align_self": null,
       "border_bottom": null,
       "border_left": null,
       "border_right": null,
       "border_top": null,
       "bottom": null,
       "display": null,
       "flex": null,
       "flex_flow": null,
       "grid_area": null,
       "grid_auto_columns": null,
       "grid_auto_flow": null,
       "grid_auto_rows": null,
       "grid_column": null,
       "grid_gap": null,
       "grid_row": null,
       "grid_template_areas": null,
       "grid_template_columns": null,
       "grid_template_rows": null,
       "height": null,
       "justify_content": null,
       "justify_items": null,
       "left": null,
       "margin": null,
       "max_height": null,
       "max_width": null,
       "min_height": null,
       "min_width": null,
       "object_fit": null,
       "object_position": null,
       "order": null,
       "overflow": null,
       "padding": null,
       "right": null,
       "top": null,
       "visibility": null,
       "width": null
      }
     },
     "3fd4719ee8604d20bf42d6836cbe31c9": {
      "model_module": "@jupyter-widgets/output",
      "model_module_version": "1.0.0",
      "model_name": "OutputModel",
      "state": {
       "_dom_classes": [],
       "_model_module": "@jupyter-widgets/output",
       "_model_module_version": "1.0.0",
       "_model_name": "OutputModel",
       "_view_count": null,
       "_view_module": "@jupyter-widgets/output",
       "_view_module_version": "1.0.0",
       "_view_name": "OutputView",
       "layout": "IPY_MODEL_62f80fdb99354fc294db077aa3e61491",
       "msg_id": "",
       "outputs": [
        {
         "data": {
          "text/markdown": "`permutation_cycle`",
          "text/plain": "<IPython.core.display.Markdown object>"
         },
         "metadata": {},
         "output_type": "display_data"
        },
        {
         "data": {
          "image/svg+xml": "<svg xmlns=\"http://www.w3.org/2000/svg\" xmlns:xlink=\"http://www.w3.org/1999/xlink\" width=\"270pt\" height=\"54pt\" viewBox=\"0.00 0.00 270.00 54.00\">\n<g id=\"graph0\" class=\"graph\" transform=\"scale(1 1) rotate(0) translate(4 50)\">\n<title>my_graph</title>\n<polygon fill=\"white\" stroke=\"transparent\" points=\"-4,4 -4,-50 266,-50 266,4 -4,4\"/>\n<!-- x_G1 -->\n<g id=\"node1\" class=\"node\">\n<title>x_G1</title>\n<text text-anchor=\"middle\" x=\"27\" y=\"-14.3\" font-family=\"Times,serif\" font-size=\"14.00\">x</text>\n</g>\n<!-- PermutationCycle -->\n<g id=\"node2\" class=\"node\">\n<title>PermutationCycle</title>\n<polygon fill=\"none\" stroke=\"black\" points=\"91,-29 91,-46 171,-46 171,-29 91,-29\"/>\n<text text-anchor=\"start\" x=\"94\" y=\"-35\" font-family=\"Times,serif\" font-size=\"10.00\">PermutationCycle</text>\n<polygon fill=\"none\" stroke=\"black\" points=\"91,-8 91,-29 171,-29 171,-8 91,-8\"/>\n<text text-anchor=\"start\" x=\"127.5\" y=\"-14.8\" font-family=\"Times,serif\" font-size=\"14.00\">x</text>\n</g>\n<!-- x_G1&#45;&gt;PermutationCycle -->\n<g id=\"edge1\" class=\"edge\">\n<title>x_G1:e-&gt;PermutationCycle:w</title>\n<path fill=\"none\" stroke=\"black\" d=\"M54,-18C69.67,-18 74.14,-18 88.77,-18\"/>\n<ellipse fill=\"black\" stroke=\"black\" cx=\"90\" cy=\"-18\" rx=\"1\" ry=\"1\"/>\n<text text-anchor=\"middle\" x=\"72.5\" y=\"-21\" font-family=\"Times,serif\" font-size=\"10.00\">2</text>\n</g>\n<!-- x_G2 -->\n<g id=\"node3\" class=\"node\">\n<title>x_G2</title>\n<text text-anchor=\"middle\" x=\"235\" y=\"-14.3\" font-family=\"Times,serif\" font-size=\"14.00\">x</text>\n</g>\n<!-- PermutationCycle&#45;&gt;x_G2 -->\n<g id=\"edge2\" class=\"edge\">\n<title>PermutationCycle:e-&gt;x_G2:w</title>\n<path fill=\"none\" stroke=\"black\" d=\"M171,-18C186.67,-18 191.14,-18 205.77,-18\"/>\n<ellipse fill=\"black\" stroke=\"black\" cx=\"207\" cy=\"-18\" rx=\"1\" ry=\"1\"/>\n<text text-anchor=\"middle\" x=\"189.5\" y=\"-21\" font-family=\"Times,serif\" font-size=\"10.00\">2</text>\n</g>\n</g>\n</svg>",
          "text/plain": "<IPython.core.display.SVG object>"
         },
         "metadata": {},
         "output_type": "display_data"
        }
       ],
       "tabbable": null,
       "tooltip": null
      }
     },
     "4ac3da52fef0424fbf730e90174b9953": {
      "model_module": "@jupyter-widgets/output",
      "model_module_version": "1.0.0",
      "model_name": "OutputModel",
      "state": {
       "_dom_classes": [],
       "_model_module": "@jupyter-widgets/output",
       "_model_module_version": "1.0.0",
       "_model_name": "OutputModel",
       "_view_count": null,
       "_view_module": "@jupyter-widgets/output",
       "_view_module_version": "1.0.0",
       "_view_name": "OutputView",
       "layout": "IPY_MODEL_aac9b3962212462b8a4658e91d4e5fc3",
       "msg_id": "",
       "outputs": [
        {
         "data": {
          "text/markdown": "`sparse_permutation_with_symbolic_N`",
          "text/plain": "<IPython.core.display.Markdown object>"
         },
         "metadata": {},
         "output_type": "display_data"
        },
        {
         "data": {
          "image/svg+xml": "<svg xmlns=\"http://www.w3.org/2000/svg\" xmlns:xlink=\"http://www.w3.org/1999/xlink\" width=\"246pt\" height=\"54pt\" viewBox=\"0.00 0.00 246.00 54.00\">\n<g id=\"graph0\" class=\"graph\" transform=\"scale(1 1) rotate(0) translate(4 50)\">\n<title>my_graph</title>\n<polygon fill=\"white\" stroke=\"transparent\" points=\"-4,4 -4,-50 242,-50 242,4 -4,4\"/>\n<!-- x_G2 -->\n<g id=\"node1\" class=\"node\">\n<title>x_G2</title>\n<text text-anchor=\"middle\" x=\"27\" y=\"-14.3\" font-family=\"Times,serif\" font-size=\"14.00\">x</text>\n</g>\n<!-- Permutation -->\n<g id=\"node2\" class=\"node\">\n<title>Permutation</title>\n<polygon fill=\"none\" stroke=\"black\" points=\"91,-29 91,-46 147,-46 147,-29 91,-29\"/>\n<text text-anchor=\"start\" x=\"94\" y=\"-35\" font-family=\"Times,serif\" font-size=\"10.00\">Permutation</text>\n<polygon fill=\"none\" stroke=\"black\" points=\"91,-8 91,-29 147,-29 147,-8 91,-8\"/>\n<text text-anchor=\"start\" x=\"115.5\" y=\"-14.8\" font-family=\"Times,serif\" font-size=\"14.00\">x</text>\n</g>\n<!-- x_G2&#45;&gt;Permutation -->\n<g id=\"edge1\" class=\"edge\">\n<title>x_G2:e-&gt;Permutation:w</title>\n<path fill=\"none\" stroke=\"black\" d=\"M54,-18C69.67,-18 74.14,-18 88.77,-18\"/>\n<ellipse fill=\"black\" stroke=\"black\" cx=\"90\" cy=\"-18\" rx=\"1\" ry=\"1\"/>\n<text text-anchor=\"middle\" x=\"72.5\" y=\"-21\" font-family=\"Times,serif\" font-size=\"10.00\">ceiling(log2(N))</text>\n</g>\n<!-- x_G1 -->\n<g id=\"node3\" class=\"node\">\n<title>x_G1</title>\n<text text-anchor=\"middle\" x=\"211\" y=\"-14.3\" font-family=\"Times,serif\" font-size=\"14.00\">x</text>\n</g>\n<!-- Permutation&#45;&gt;x_G1 -->\n<g id=\"edge2\" class=\"edge\">\n<title>Permutation:e-&gt;x_G1:w</title>\n<path fill=\"none\" stroke=\"black\" d=\"M147,-18C162.67,-18 167.14,-18 181.77,-18\"/>\n<ellipse fill=\"black\" stroke=\"black\" cx=\"183\" cy=\"-18\" rx=\"1\" ry=\"1\"/>\n<text text-anchor=\"middle\" x=\"165.5\" y=\"-21\" font-family=\"Times,serif\" font-size=\"10.00\">ceiling(log2(N))</text>\n</g>\n</g>\n</svg>",
          "text/plain": "<IPython.core.display.SVG object>"
         },
         "metadata": {},
         "output_type": "display_data"
        }
       ],
       "tabbable": null,
       "tooltip": null
      }
     },
     "554a66d1777042a0a55a1e2334f1d263": {
      "model_module": "@jupyter-widgets/output",
      "model_module_version": "1.0.0",
      "model_name": "OutputModel",
      "state": {
       "_dom_classes": [],
       "_model_module": "@jupyter-widgets/output",
       "_model_module_version": "1.0.0",
       "_model_name": "OutputModel",
       "_view_count": null,
       "_view_module": "@jupyter-widgets/output",
       "_view_module_version": "1.0.0",
       "_view_name": "OutputView",
       "layout": "IPY_MODEL_94d718cf2c5a4dce9294c85180292387",
       "msg_id": "",
       "outputs": [
        {
         "data": {
          "text/markdown": "`permutation`",
          "text/plain": "<IPython.core.display.Markdown object>"
         },
         "metadata": {},
         "output_type": "display_data"
        },
        {
         "data": {
          "image/svg+xml": "<svg xmlns=\"http://www.w3.org/2000/svg\" xmlns:xlink=\"http://www.w3.org/1999/xlink\" width=\"246pt\" height=\"54pt\" viewBox=\"0.00 0.00 246.00 54.00\">\n<g id=\"graph0\" class=\"graph\" transform=\"scale(1 1) rotate(0) translate(4 50)\">\n<title>my_graph</title>\n<polygon fill=\"white\" stroke=\"transparent\" points=\"-4,4 -4,-50 242,-50 242,4 -4,4\"/>\n<!-- x_G1 -->\n<g id=\"node1\" class=\"node\">\n<title>x_G1</title>\n<text text-anchor=\"middle\" x=\"27\" y=\"-14.3\" font-family=\"Times,serif\" font-size=\"14.00\">x</text>\n</g>\n<!-- Permutation -->\n<g id=\"node2\" class=\"node\">\n<title>Permutation</title>\n<polygon fill=\"none\" stroke=\"black\" points=\"91,-29 91,-46 147,-46 147,-29 91,-29\"/>\n<text text-anchor=\"start\" x=\"94\" y=\"-35\" font-family=\"Times,serif\" font-size=\"10.00\">Permutation</text>\n<polygon fill=\"none\" stroke=\"black\" points=\"91,-8 91,-29 147,-29 147,-8 91,-8\"/>\n<text text-anchor=\"start\" x=\"115.5\" y=\"-14.8\" font-family=\"Times,serif\" font-size=\"14.00\">x</text>\n</g>\n<!-- x_G1&#45;&gt;Permutation -->\n<g id=\"edge1\" class=\"edge\">\n<title>x_G1:e-&gt;Permutation:w</title>\n<path fill=\"none\" stroke=\"black\" d=\"M54,-18C69.67,-18 74.14,-18 88.77,-18\"/>\n<ellipse fill=\"black\" stroke=\"black\" cx=\"90\" cy=\"-18\" rx=\"1\" ry=\"1\"/>\n<text text-anchor=\"middle\" x=\"72.5\" y=\"-21\" font-family=\"Times,serif\" font-size=\"10.00\">2</text>\n</g>\n<!-- x_G2 -->\n<g id=\"node3\" class=\"node\">\n<title>x_G2</title>\n<text text-anchor=\"middle\" x=\"211\" y=\"-14.3\" font-family=\"Times,serif\" font-size=\"14.00\">x</text>\n</g>\n<!-- Permutation&#45;&gt;x_G2 -->\n<g id=\"edge2\" class=\"edge\">\n<title>Permutation:e-&gt;x_G2:w</title>\n<path fill=\"none\" stroke=\"black\" d=\"M147,-18C162.67,-18 167.14,-18 181.77,-18\"/>\n<ellipse fill=\"black\" stroke=\"black\" cx=\"183\" cy=\"-18\" rx=\"1\" ry=\"1\"/>\n<text text-anchor=\"middle\" x=\"165.5\" y=\"-21\" font-family=\"Times,serif\" font-size=\"10.00\">2</text>\n</g>\n</g>\n</svg>",
          "text/plain": "<IPython.core.display.SVG object>"
         },
         "metadata": {},
         "output_type": "display_data"
        }
       ],
       "tabbable": null,
       "tooltip": null
      }
     },
     "594b434c5be340069ccccc49dcf8cf44": {
      "model_module": "@jupyter-widgets/output",
      "model_module_version": "1.0.0",
      "model_name": "OutputModel",
      "state": {
       "_dom_classes": [],
       "_model_module": "@jupyter-widgets/output",
       "_model_module_version": "1.0.0",
       "_model_name": "OutputModel",
       "_view_count": null,
       "_view_module": "@jupyter-widgets/output",
       "_view_module_version": "1.0.0",
       "_view_name": "OutputView",
       "layout": "IPY_MODEL_3d28ac82198c4ead9bc349381fa9222d",
       "msg_id": "",
       "outputs": [
        {
         "data": {
          "text/markdown": "`permutation_symb_with_cycles`",
          "text/plain": "<IPython.core.display.Markdown object>"
         },
         "metadata": {},
         "output_type": "display_data"
        },
        {
         "data": {
          "image/svg+xml": "<svg xmlns=\"http://www.w3.org/2000/svg\" xmlns:xlink=\"http://www.w3.org/1999/xlink\" width=\"246pt\" height=\"54pt\" viewBox=\"0.00 0.00 246.00 54.00\">\n<g id=\"graph0\" class=\"graph\" transform=\"scale(1 1) rotate(0) translate(4 50)\">\n<title>my_graph</title>\n<polygon fill=\"white\" stroke=\"transparent\" points=\"-4,4 -4,-50 242,-50 242,4 -4,4\"/>\n<!-- x_G2 -->\n<g id=\"node1\" class=\"node\">\n<title>x_G2</title>\n<text text-anchor=\"middle\" x=\"27\" y=\"-14.3\" font-family=\"Times,serif\" font-size=\"14.00\">x</text>\n</g>\n<!-- Permutation -->\n<g id=\"node2\" class=\"node\">\n<title>Permutation</title>\n<polygon fill=\"none\" stroke=\"black\" points=\"91,-29 91,-46 147,-46 147,-29 91,-29\"/>\n<text text-anchor=\"start\" x=\"94\" y=\"-35\" font-family=\"Times,serif\" font-size=\"10.00\">Permutation</text>\n<polygon fill=\"none\" stroke=\"black\" points=\"91,-8 91,-29 147,-29 147,-8 91,-8\"/>\n<text text-anchor=\"start\" x=\"115.5\" y=\"-14.8\" font-family=\"Times,serif\" font-size=\"14.00\">x</text>\n</g>\n<!-- x_G2&#45;&gt;Permutation -->\n<g id=\"edge1\" class=\"edge\">\n<title>x_G2:e-&gt;Permutation:w</title>\n<path fill=\"none\" stroke=\"black\" d=\"M54,-18C69.67,-18 74.14,-18 88.77,-18\"/>\n<ellipse fill=\"black\" stroke=\"black\" cx=\"90\" cy=\"-18\" rx=\"1\" ry=\"1\"/>\n<text text-anchor=\"middle\" x=\"72.5\" y=\"-21\" font-family=\"Times,serif\" font-size=\"10.00\">ceiling(log2(N))</text>\n</g>\n<!-- x_G1 -->\n<g id=\"node3\" class=\"node\">\n<title>x_G1</title>\n<text text-anchor=\"middle\" x=\"211\" y=\"-14.3\" font-family=\"Times,serif\" font-size=\"14.00\">x</text>\n</g>\n<!-- Permutation&#45;&gt;x_G1 -->\n<g id=\"edge2\" class=\"edge\">\n<title>Permutation:e-&gt;x_G1:w</title>\n<path fill=\"none\" stroke=\"black\" d=\"M147,-18C162.67,-18 167.14,-18 181.77,-18\"/>\n<ellipse fill=\"black\" stroke=\"black\" cx=\"183\" cy=\"-18\" rx=\"1\" ry=\"1\"/>\n<text text-anchor=\"middle\" x=\"165.5\" y=\"-21\" font-family=\"Times,serif\" font-size=\"10.00\">ceiling(log2(N))</text>\n</g>\n</g>\n</svg>",
          "text/plain": "<IPython.core.display.SVG object>"
         },
         "metadata": {},
         "output_type": "display_data"
        }
       ],
       "tabbable": null,
       "tooltip": null
      }
     },
     "62f80fdb99354fc294db077aa3e61491": {
      "model_module": "@jupyter-widgets/base",
      "model_module_version": "2.0.0",
      "model_name": "LayoutModel",
      "state": {
       "_model_module": "@jupyter-widgets/base",
       "_model_module_version": "2.0.0",
       "_model_name": "LayoutModel",
       "_view_count": null,
       "_view_module": "@jupyter-widgets/base",
       "_view_module_version": "2.0.0",
       "_view_name": "LayoutView",
       "align_content": null,
       "align_items": null,
       "align_self": null,
       "border_bottom": null,
       "border_left": null,
       "border_right": null,
       "border_top": null,
       "bottom": null,
       "display": null,
       "flex": null,
       "flex_flow": null,
       "grid_area": null,
       "grid_auto_columns": null,
       "grid_auto_flow": null,
       "grid_auto_rows": null,
       "grid_column": null,
       "grid_gap": null,
       "grid_row": null,
       "grid_template_areas": null,
       "grid_template_columns": null,
       "grid_template_rows": null,
       "height": null,
       "justify_content": null,
       "justify_items": null,
       "left": null,
       "margin": null,
       "max_height": null,
       "max_width": null,
       "min_height": null,
       "min_width": null,
       "object_fit": null,
       "object_position": null,
       "order": null,
       "overflow": null,
       "padding": null,
       "right": null,
       "top": null,
       "visibility": null,
       "width": null
      }
     },
     "65fa5d1e59a8448790f1ca570844a9ba": {
      "model_module": "@jupyter-widgets/output",
      "model_module_version": "1.0.0",
      "model_name": "OutputModel",
      "state": {
       "_dom_classes": [],
       "_model_module": "@jupyter-widgets/output",
       "_model_module_version": "1.0.0",
       "_model_name": "OutputModel",
       "_view_count": null,
       "_view_module": "@jupyter-widgets/output",
       "_view_module_version": "1.0.0",
       "_view_name": "OutputView",
       "layout": "IPY_MODEL_87efbbe1f4ee4d7b865e7aa272e34677",
       "msg_id": "",
       "outputs": [
        {
         "data": {
          "text/markdown": "`permutation_cycle_symb_N`",
          "text/plain": "<IPython.core.display.Markdown object>"
         },
         "metadata": {},
         "output_type": "display_data"
        },
        {
         "data": {
          "image/svg+xml": "<svg xmlns=\"http://www.w3.org/2000/svg\" xmlns:xlink=\"http://www.w3.org/1999/xlink\" width=\"270pt\" height=\"54pt\" viewBox=\"0.00 0.00 270.00 54.00\">\n<g id=\"graph0\" class=\"graph\" transform=\"scale(1 1) rotate(0) translate(4 50)\">\n<title>my_graph</title>\n<polygon fill=\"white\" stroke=\"transparent\" points=\"-4,4 -4,-50 266,-50 266,4 -4,4\"/>\n<!-- x_G0 -->\n<g id=\"node1\" class=\"node\">\n<title>x_G0</title>\n<text text-anchor=\"middle\" x=\"27\" y=\"-14.3\" font-family=\"Times,serif\" font-size=\"14.00\">x</text>\n</g>\n<!-- PermutationCycle -->\n<g id=\"node2\" class=\"node\">\n<title>PermutationCycle</title>\n<polygon fill=\"none\" stroke=\"black\" points=\"91,-29 91,-46 171,-46 171,-29 91,-29\"/>\n<text text-anchor=\"start\" x=\"94\" y=\"-35\" font-family=\"Times,serif\" font-size=\"10.00\">PermutationCycle</text>\n<polygon fill=\"none\" stroke=\"black\" points=\"91,-8 91,-29 171,-29 171,-8 91,-8\"/>\n<text text-anchor=\"start\" x=\"127.5\" y=\"-14.8\" font-family=\"Times,serif\" font-size=\"14.00\">x</text>\n</g>\n<!-- x_G0&#45;&gt;PermutationCycle -->\n<g id=\"edge1\" class=\"edge\">\n<title>x_G0:e-&gt;PermutationCycle:w</title>\n<path fill=\"none\" stroke=\"black\" d=\"M54,-18C69.67,-18 74.14,-18 88.77,-18\"/>\n<ellipse fill=\"black\" stroke=\"black\" cx=\"90\" cy=\"-18\" rx=\"1\" ry=\"1\"/>\n<text text-anchor=\"middle\" x=\"72.5\" y=\"-21\" font-family=\"Times,serif\" font-size=\"10.00\">ceiling(log2(n))</text>\n</g>\n<!-- x_G1 -->\n<g id=\"node3\" class=\"node\">\n<title>x_G1</title>\n<text text-anchor=\"middle\" x=\"235\" y=\"-14.3\" font-family=\"Times,serif\" font-size=\"14.00\">x</text>\n</g>\n<!-- PermutationCycle&#45;&gt;x_G1 -->\n<g id=\"edge2\" class=\"edge\">\n<title>PermutationCycle:e-&gt;x_G1:w</title>\n<path fill=\"none\" stroke=\"black\" d=\"M171,-18C186.67,-18 191.14,-18 205.77,-18\"/>\n<ellipse fill=\"black\" stroke=\"black\" cx=\"207\" cy=\"-18\" rx=\"1\" ry=\"1\"/>\n<text text-anchor=\"middle\" x=\"189.5\" y=\"-21\" font-family=\"Times,serif\" font-size=\"10.00\">ceiling(log2(n))</text>\n</g>\n</g>\n</svg>",
          "text/plain": "<IPython.core.display.SVG object>"
         },
         "metadata": {},
         "output_type": "display_data"
        }
       ],
       "tabbable": null,
       "tooltip": null
      }
     },
     "878ad5fdb5d34d8ea14d190327ceb3be": {
      "model_module": "@jupyter-widgets/base",
      "model_module_version": "2.0.0",
      "model_name": "LayoutModel",
      "state": {
       "_model_module": "@jupyter-widgets/base",
       "_model_module_version": "2.0.0",
       "_model_name": "LayoutModel",
       "_view_count": null,
       "_view_module": "@jupyter-widgets/base",
       "_view_module_version": "2.0.0",
       "_view_name": "LayoutView",
       "align_content": null,
       "align_items": null,
       "align_self": null,
       "border_bottom": null,
       "border_left": null,
       "border_right": null,
       "border_top": null,
       "bottom": null,
       "display": null,
       "flex": null,
       "flex_flow": null,
       "grid_area": null,
       "grid_auto_columns": null,
       "grid_auto_flow": null,
       "grid_auto_rows": null,
       "grid_column": null,
       "grid_gap": null,
       "grid_row": null,
       "grid_template_areas": null,
       "grid_template_columns": null,
       "grid_template_rows": null,
       "height": null,
       "justify_content": null,
       "justify_items": null,
       "left": null,
       "margin": null,
       "max_height": null,
       "max_width": null,
       "min_height": null,
       "min_width": null,
       "object_fit": null,
       "object_position": null,
       "order": null,
       "overflow": null,
       "padding": null,
       "right": null,
       "top": null,
       "visibility": null,
       "width": null
      }
     },
     "87efbbe1f4ee4d7b865e7aa272e34677": {
      "model_module": "@jupyter-widgets/base",
      "model_module_version": "2.0.0",
      "model_name": "LayoutModel",
      "state": {
       "_model_module": "@jupyter-widgets/base",
       "_model_module_version": "2.0.0",
       "_model_name": "LayoutModel",
       "_view_count": null,
       "_view_module": "@jupyter-widgets/base",
       "_view_module_version": "2.0.0",
       "_view_name": "LayoutView",
       "align_content": null,
       "align_items": null,
       "align_self": null,
       "border_bottom": null,
       "border_left": null,
       "border_right": null,
       "border_top": null,
       "bottom": null,
       "display": null,
       "flex": null,
       "flex_flow": null,
       "grid_area": null,
       "grid_auto_columns": null,
       "grid_auto_flow": null,
       "grid_auto_rows": null,
       "grid_column": null,
       "grid_gap": null,
       "grid_row": null,
       "grid_template_areas": null,
       "grid_template_columns": null,
       "grid_template_rows": null,
       "height": null,
       "justify_content": null,
       "justify_items": null,
       "left": null,
       "margin": null,
       "max_height": null,
       "max_width": null,
       "min_height": null,
       "min_width": null,
       "object_fit": null,
       "object_position": null,
       "order": null,
       "overflow": null,
       "padding": null,
       "right": null,
       "top": null,
       "visibility": null,
       "width": null
      }
     },
     "94d718cf2c5a4dce9294c85180292387": {
      "model_module": "@jupyter-widgets/base",
      "model_module_version": "2.0.0",
      "model_name": "LayoutModel",
      "state": {
       "_model_module": "@jupyter-widgets/base",
       "_model_module_version": "2.0.0",
       "_model_name": "LayoutModel",
       "_view_count": null,
       "_view_module": "@jupyter-widgets/base",
       "_view_module_version": "2.0.0",
       "_view_name": "LayoutView",
       "align_content": null,
       "align_items": null,
       "align_self": null,
       "border_bottom": null,
       "border_left": null,
       "border_right": null,
       "border_top": null,
       "bottom": null,
       "display": null,
       "flex": null,
       "flex_flow": null,
       "grid_area": null,
       "grid_auto_columns": null,
       "grid_auto_flow": null,
       "grid_auto_rows": null,
       "grid_column": null,
       "grid_gap": null,
       "grid_row": null,
       "grid_template_areas": null,
       "grid_template_columns": null,
       "grid_template_rows": null,
       "height": null,
       "justify_content": null,
       "justify_items": null,
       "left": null,
       "margin": null,
       "max_height": null,
       "max_width": null,
       "min_height": null,
       "min_width": null,
       "object_fit": null,
       "object_position": null,
       "order": null,
       "overflow": null,
       "padding": null,
       "right": null,
       "top": null,
       "visibility": null,
       "width": null
      }
     },
     "982b755261ec4a20bf7d8c6bbd05fd0a": {
      "model_module": "@jupyter-widgets/controls",
      "model_module_version": "2.0.0",
      "model_name": "HBoxModel",
      "state": {
       "_dom_classes": [],
       "_model_module": "@jupyter-widgets/controls",
       "_model_module_version": "2.0.0",
       "_model_name": "HBoxModel",
       "_view_count": null,
       "_view_module": "@jupyter-widgets/controls",
       "_view_module_version": "2.0.0",
       "_view_name": "HBoxView",
       "box_style": "",
       "children": [
        "IPY_MODEL_554a66d1777042a0a55a1e2334f1d263",
        "IPY_MODEL_9eb79ea119f248378c02f9969965147c",
        "IPY_MODEL_594b434c5be340069ccccc49dcf8cf44",
        "IPY_MODEL_b86e19e602494f3484d9ab7e9847c894",
        "IPY_MODEL_4ac3da52fef0424fbf730e90174b9953"
       ],
       "layout": "IPY_MODEL_33c0829b7c514f1381bdfd7db492feca",
       "tabbable": null,
       "tooltip": null
      }
     },
     "9eb79ea119f248378c02f9969965147c": {
      "model_module": "@jupyter-widgets/output",
      "model_module_version": "1.0.0",
      "model_name": "OutputModel",
      "state": {
       "_dom_classes": [],
       "_model_module": "@jupyter-widgets/output",
       "_model_module_version": "1.0.0",
       "_model_name": "OutputModel",
       "_view_count": null,
       "_view_module": "@jupyter-widgets/output",
       "_view_module_version": "1.0.0",
       "_view_name": "OutputView",
       "layout": "IPY_MODEL_03f5ddd65cae40bf9c49cc54968d0875",
       "msg_id": "",
       "outputs": [
        {
         "data": {
          "text/markdown": "`permutation_symb`",
          "text/plain": "<IPython.core.display.Markdown object>"
         },
         "metadata": {},
         "output_type": "display_data"
        },
        {
         "data": {
          "image/svg+xml": "<svg xmlns=\"http://www.w3.org/2000/svg\" xmlns:xlink=\"http://www.w3.org/1999/xlink\" width=\"246pt\" height=\"54pt\" viewBox=\"0.00 0.00 246.00 54.00\">\n<g id=\"graph0\" class=\"graph\" transform=\"scale(1 1) rotate(0) translate(4 50)\">\n<title>my_graph</title>\n<polygon fill=\"white\" stroke=\"transparent\" points=\"-4,4 -4,-50 242,-50 242,4 -4,4\"/>\n<!-- x_G2 -->\n<g id=\"node1\" class=\"node\">\n<title>x_G2</title>\n<text text-anchor=\"middle\" x=\"27\" y=\"-14.3\" font-family=\"Times,serif\" font-size=\"14.00\">x</text>\n</g>\n<!-- Permutation -->\n<g id=\"node2\" class=\"node\">\n<title>Permutation</title>\n<polygon fill=\"none\" stroke=\"black\" points=\"91,-29 91,-46 147,-46 147,-29 91,-29\"/>\n<text text-anchor=\"start\" x=\"94\" y=\"-35\" font-family=\"Times,serif\" font-size=\"10.00\">Permutation</text>\n<polygon fill=\"none\" stroke=\"black\" points=\"91,-8 91,-29 147,-29 147,-8 91,-8\"/>\n<text text-anchor=\"start\" x=\"115.5\" y=\"-14.8\" font-family=\"Times,serif\" font-size=\"14.00\">x</text>\n</g>\n<!-- x_G2&#45;&gt;Permutation -->\n<g id=\"edge1\" class=\"edge\">\n<title>x_G2:e-&gt;Permutation:w</title>\n<path fill=\"none\" stroke=\"black\" d=\"M54,-18C69.67,-18 74.14,-18 88.77,-18\"/>\n<ellipse fill=\"black\" stroke=\"black\" cx=\"90\" cy=\"-18\" rx=\"1\" ry=\"1\"/>\n<text text-anchor=\"middle\" x=\"72.5\" y=\"-21\" font-family=\"Times,serif\" font-size=\"10.00\">ceiling(log2(N))</text>\n</g>\n<!-- x_G1 -->\n<g id=\"node3\" class=\"node\">\n<title>x_G1</title>\n<text text-anchor=\"middle\" x=\"211\" y=\"-14.3\" font-family=\"Times,serif\" font-size=\"14.00\">x</text>\n</g>\n<!-- Permutation&#45;&gt;x_G1 -->\n<g id=\"edge2\" class=\"edge\">\n<title>Permutation:e-&gt;x_G1:w</title>\n<path fill=\"none\" stroke=\"black\" d=\"M147,-18C162.67,-18 167.14,-18 181.77,-18\"/>\n<ellipse fill=\"black\" stroke=\"black\" cx=\"183\" cy=\"-18\" rx=\"1\" ry=\"1\"/>\n<text text-anchor=\"middle\" x=\"165.5\" y=\"-21\" font-family=\"Times,serif\" font-size=\"10.00\">ceiling(log2(N))</text>\n</g>\n</g>\n</svg>",
          "text/plain": "<IPython.core.display.SVG object>"
         },
         "metadata": {},
         "output_type": "display_data"
        }
       ],
       "tabbable": null,
       "tooltip": null
      }
     },
     "aac9b3962212462b8a4658e91d4e5fc3": {
      "model_module": "@jupyter-widgets/base",
      "model_module_version": "2.0.0",
      "model_name": "LayoutModel",
      "state": {
       "_model_module": "@jupyter-widgets/base",
       "_model_module_version": "2.0.0",
       "_model_name": "LayoutModel",
       "_view_count": null,
       "_view_module": "@jupyter-widgets/base",
       "_view_module_version": "2.0.0",
       "_view_name": "LayoutView",
       "align_content": null,
       "align_items": null,
       "align_self": null,
       "border_bottom": null,
       "border_left": null,
       "border_right": null,
       "border_top": null,
       "bottom": null,
       "display": null,
       "flex": null,
       "flex_flow": null,
       "grid_area": null,
       "grid_auto_columns": null,
       "grid_auto_flow": null,
       "grid_auto_rows": null,
       "grid_column": null,
       "grid_gap": null,
       "grid_row": null,
       "grid_template_areas": null,
       "grid_template_columns": null,
       "grid_template_rows": null,
       "height": null,
       "justify_content": null,
       "justify_items": null,
       "left": null,
       "margin": null,
       "max_height": null,
       "max_width": null,
       "min_height": null,
       "min_width": null,
       "object_fit": null,
       "object_position": null,
       "order": null,
       "overflow": null,
       "padding": null,
       "right": null,
       "top": null,
       "visibility": null,
       "width": null
      }
     },
     "acd6046f4d464c28b6b0c0d7a84b23df": {
      "model_module": "@jupyter-widgets/controls",
      "model_module_version": "2.0.0",
      "model_name": "HBoxModel",
      "state": {
       "_dom_classes": [],
       "_model_module": "@jupyter-widgets/controls",
       "_model_module_version": "2.0.0",
       "_model_name": "HBoxModel",
       "_view_count": null,
       "_view_module": "@jupyter-widgets/controls",
       "_view_module_version": "2.0.0",
       "_view_name": "HBoxView",
       "box_style": "",
       "children": [
        "IPY_MODEL_65fa5d1e59a8448790f1ca570844a9ba",
        "IPY_MODEL_d066d72e3387433b97ff2cda8011ed9b",
        "IPY_MODEL_3fd4719ee8604d20bf42d6836cbe31c9"
       ],
       "layout": "IPY_MODEL_1a499c907d074ef0907ca5314788d2da",
       "tabbable": null,
       "tooltip": null
      }
     },
     "b86e19e602494f3484d9ab7e9847c894": {
      "model_module": "@jupyter-widgets/output",
      "model_module_version": "1.0.0",
      "model_name": "OutputModel",
      "state": {
       "_dom_classes": [],
       "_model_module": "@jupyter-widgets/output",
       "_model_module_version": "1.0.0",
       "_model_name": "OutputModel",
       "_view_count": null,
       "_view_module": "@jupyter-widgets/output",
       "_view_module_version": "1.0.0",
       "_view_name": "OutputView",
       "layout": "IPY_MODEL_333f1c3dc1654ff08853828220566220",
       "msg_id": "",
       "outputs": [
        {
         "data": {
          "text/markdown": "`sparse_permutation`",
          "text/plain": "<IPython.core.display.Markdown object>"
         },
         "metadata": {},
         "output_type": "display_data"
        },
        {
         "data": {
          "image/svg+xml": "<svg xmlns=\"http://www.w3.org/2000/svg\" xmlns:xlink=\"http://www.w3.org/1999/xlink\" width=\"246pt\" height=\"54pt\" viewBox=\"0.00 0.00 246.00 54.00\">\n<g id=\"graph0\" class=\"graph\" transform=\"scale(1 1) rotate(0) translate(4 50)\">\n<title>my_graph</title>\n<polygon fill=\"white\" stroke=\"transparent\" points=\"-4,4 -4,-50 242,-50 242,4 -4,4\"/>\n<!-- x_G1 -->\n<g id=\"node1\" class=\"node\">\n<title>x_G1</title>\n<text text-anchor=\"middle\" x=\"27\" y=\"-14.3\" font-family=\"Times,serif\" font-size=\"14.00\">x</text>\n</g>\n<!-- Permutation -->\n<g id=\"node2\" class=\"node\">\n<title>Permutation</title>\n<polygon fill=\"none\" stroke=\"black\" points=\"91,-29 91,-46 147,-46 147,-29 91,-29\"/>\n<text text-anchor=\"start\" x=\"94\" y=\"-35\" font-family=\"Times,serif\" font-size=\"10.00\">Permutation</text>\n<polygon fill=\"none\" stroke=\"black\" points=\"91,-8 91,-29 147,-29 147,-8 91,-8\"/>\n<text text-anchor=\"start\" x=\"115.5\" y=\"-14.8\" font-family=\"Times,serif\" font-size=\"14.00\">x</text>\n</g>\n<!-- x_G1&#45;&gt;Permutation -->\n<g id=\"edge1\" class=\"edge\">\n<title>x_G1:e-&gt;Permutation:w</title>\n<path fill=\"none\" stroke=\"black\" d=\"M54,-18C69.67,-18 74.14,-18 88.77,-18\"/>\n<ellipse fill=\"black\" stroke=\"black\" cx=\"90\" cy=\"-18\" rx=\"1\" ry=\"1\"/>\n<text text-anchor=\"middle\" x=\"72.5\" y=\"-21\" font-family=\"Times,serif\" font-size=\"10.00\">4</text>\n</g>\n<!-- x_G2 -->\n<g id=\"node3\" class=\"node\">\n<title>x_G2</title>\n<text text-anchor=\"middle\" x=\"211\" y=\"-14.3\" font-family=\"Times,serif\" font-size=\"14.00\">x</text>\n</g>\n<!-- Permutation&#45;&gt;x_G2 -->\n<g id=\"edge2\" class=\"edge\">\n<title>Permutation:e-&gt;x_G2:w</title>\n<path fill=\"none\" stroke=\"black\" d=\"M147,-18C162.67,-18 167.14,-18 181.77,-18\"/>\n<ellipse fill=\"black\" stroke=\"black\" cx=\"183\" cy=\"-18\" rx=\"1\" ry=\"1\"/>\n<text text-anchor=\"middle\" x=\"165.5\" y=\"-21\" font-family=\"Times,serif\" font-size=\"10.00\">4</text>\n</g>\n</g>\n</svg>",
          "text/plain": "<IPython.core.display.SVG object>"
         },
         "metadata": {},
         "output_type": "display_data"
        }
       ],
       "tabbable": null,
       "tooltip": null
      }
     },
     "d066d72e3387433b97ff2cda8011ed9b": {
      "model_module": "@jupyter-widgets/output",
      "model_module_version": "1.0.0",
      "model_name": "OutputModel",
      "state": {
       "_dom_classes": [],
       "_model_module": "@jupyter-widgets/output",
       "_model_module_version": "1.0.0",
       "_model_name": "OutputModel",
       "_view_count": null,
       "_view_module": "@jupyter-widgets/output",
       "_view_module_version": "1.0.0",
       "_view_name": "OutputView",
       "layout": "IPY_MODEL_878ad5fdb5d34d8ea14d190327ceb3be",
       "msg_id": "",
       "outputs": [
        {
         "data": {
          "text/markdown": "`permutation_cycle_symb`",
          "text/plain": "<IPython.core.display.Markdown object>"
         },
         "metadata": {},
         "output_type": "display_data"
        },
        {
         "data": {
          "image/svg+xml": "<svg xmlns=\"http://www.w3.org/2000/svg\" xmlns:xlink=\"http://www.w3.org/1999/xlink\" width=\"270pt\" height=\"54pt\" viewBox=\"0.00 0.00 270.00 54.00\">\n<g id=\"graph0\" class=\"graph\" transform=\"scale(1 1) rotate(0) translate(4 50)\">\n<title>my_graph</title>\n<polygon fill=\"white\" stroke=\"transparent\" points=\"-4,4 -4,-50 266,-50 266,4 -4,4\"/>\n<!-- x_G2 -->\n<g id=\"node1\" class=\"node\">\n<title>x_G2</title>\n<text text-anchor=\"middle\" x=\"27\" y=\"-14.3\" font-family=\"Times,serif\" font-size=\"14.00\">x</text>\n</g>\n<!-- PermutationCycle -->\n<g id=\"node2\" class=\"node\">\n<title>PermutationCycle</title>\n<polygon fill=\"none\" stroke=\"black\" points=\"91,-29 91,-46 171,-46 171,-29 91,-29\"/>\n<text text-anchor=\"start\" x=\"94\" y=\"-35\" font-family=\"Times,serif\" font-size=\"10.00\">PermutationCycle</text>\n<polygon fill=\"none\" stroke=\"black\" points=\"91,-8 91,-29 171,-29 171,-8 91,-8\"/>\n<text text-anchor=\"start\" x=\"127.5\" y=\"-14.8\" font-family=\"Times,serif\" font-size=\"14.00\">x</text>\n</g>\n<!-- x_G2&#45;&gt;PermutationCycle -->\n<g id=\"edge1\" class=\"edge\">\n<title>x_G2:e-&gt;PermutationCycle:w</title>\n<path fill=\"none\" stroke=\"black\" d=\"M54,-18C69.67,-18 74.14,-18 88.77,-18\"/>\n<ellipse fill=\"black\" stroke=\"black\" cx=\"90\" cy=\"-18\" rx=\"1\" ry=\"1\"/>\n<text text-anchor=\"middle\" x=\"72.5\" y=\"-21\" font-family=\"Times,serif\" font-size=\"10.00\">ceiling(log2(N))</text>\n</g>\n<!-- x_G1 -->\n<g id=\"node3\" class=\"node\">\n<title>x_G1</title>\n<text text-anchor=\"middle\" x=\"235\" y=\"-14.3\" font-family=\"Times,serif\" font-size=\"14.00\">x</text>\n</g>\n<!-- PermutationCycle&#45;&gt;x_G1 -->\n<g id=\"edge2\" class=\"edge\">\n<title>PermutationCycle:e-&gt;x_G1:w</title>\n<path fill=\"none\" stroke=\"black\" d=\"M171,-18C186.67,-18 191.14,-18 205.77,-18\"/>\n<ellipse fill=\"black\" stroke=\"black\" cx=\"207\" cy=\"-18\" rx=\"1\" ry=\"1\"/>\n<text text-anchor=\"middle\" x=\"189.5\" y=\"-21\" font-family=\"Times,serif\" font-size=\"10.00\">ceiling(log2(N))</text>\n</g>\n</g>\n</svg>",
          "text/plain": "<IPython.core.display.SVG object>"
         },
         "metadata": {},
         "output_type": "display_data"
        }
       ],
       "tabbable": null,
       "tooltip": null
      }
     }
    },
    "version_major": 2,
    "version_minor": 0
   }
  }
 },
 "nbformat": 4,
 "nbformat_minor": 5
}
