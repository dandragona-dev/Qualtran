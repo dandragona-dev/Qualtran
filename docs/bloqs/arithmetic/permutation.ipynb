{
 "cells": [
  {
   "cell_type": "markdown",
   "id": "a697fa0f",
   "metadata": {
    "cq.autogen": "title_cell"
   },
   "source": [
    "# Permutations"
   ]
  },
  {
   "cell_type": "code",
   "execution_count": 1,
   "id": "f3a56020",
   "metadata": {
    "cq.autogen": "top_imports"
   },
   "outputs": [],
   "source": [
    "from qualtran import Bloq, CompositeBloq, BloqBuilder, Signature, Register\n",
    "from qualtran import QBit, QInt, QUInt, QAny\n",
    "from qualtran.drawing import show_bloq, show_call_graph, show_counts_sigma\n",
    "from typing import *\n",
    "import numpy as np\n",
    "import sympy\n",
    "import cirq"
   ]
  },
  {
   "cell_type": "markdown",
   "id": "39be898d",
   "metadata": {
    "cq.autogen": "Permutation.bloq_doc.md"
   },
   "source": [
    "## `Permutation`\n",
    "Apply a permutation of [0, N - 1] on the basis states.\n",
    "\n",
    "Given a permutation $P : [0, N - 1] \\to [0, N - 1]$, this bloq applies the unitary:\n",
    "\n",
    "$$\n",
    "    U|x\\rangle = |P(x)\\rangle\n",
    "$$\n",
    "\n",
    "Decomposes a permutation into cycles and applies them in order.\n",
    "See :meth:`from_dense_permutation` to construct this bloq from a permutation,\n",
    "and :meth:`from_partial_permutation_map` to construct it from a mapping.\n",
    "\n",
    "#### Parameters\n",
    " - `N`: the total size the permutation acts on.\n",
    " - `cycles`: a sequence of permutation cycles that form the permutation. \n",
    "\n",
    "#### Registers\n",
    " - `x`: integer register storing a value in [0, ..., N - 1] \n",
    "\n",
    "#### References\n",
    " - [A simple quantum algorithm to efficiently prepare sparse states](https://arxiv.org/abs/2310.19309v1). Appendix B.\n"
   ]
  },
  {
   "cell_type": "code",
   "execution_count": 2,
   "id": "88b7712d",
   "metadata": {
    "cq.autogen": "Permutation.bloq_doc.py"
   },
   "outputs": [],
   "source": [
    "from qualtran.bloqs.arithmetic.permutation import Permutation"
   ]
  },
  {
   "cell_type": "markdown",
   "id": "5c4722c6",
   "metadata": {
    "cq.autogen": "Permutation.example_instances.md"
   },
   "source": [
    "### Example Instances"
   ]
  },
  {
   "cell_type": "code",
   "execution_count": 3,
   "id": "8e38bf3a",
   "metadata": {
    "cq.autogen": "Permutation.permutation"
   },
   "outputs": [],
   "source": [
    "permutation = Permutation.from_dense_permutation([1, 3, 0, 2])"
   ]
  },
  {
   "cell_type": "code",
   "execution_count": 4,
   "id": "52218544",
   "metadata": {
    "cq.autogen": "Permutation.permutation_symb"
   },
   "outputs": [],
   "source": [
    "import sympy\n",
    "\n",
    "from qualtran.symbolics import Shaped\n",
    "\n",
    "N, k = sympy.symbols(\"N k\", positive=True, integer=True)\n",
    "permutation_symb = Permutation(N, Shaped((k,)))"
   ]
  },
  {
   "cell_type": "code",
   "execution_count": 5,
   "id": "cb1a6988",
   "metadata": {
    "cq.autogen": "Permutation.permutation_symb_with_cycles"
   },
   "outputs": [],
   "source": [
    "import sympy\n",
    "\n",
    "from qualtran.symbolics import Shaped\n",
    "\n",
    "N = sympy.symbols(\"N\", positive=True, integer=True)\n",
    "n_cycles = 4\n",
    "d = sympy.IndexedBase('d', shape=(n_cycles,))\n",
    "permutation_symb_with_cycles = Permutation(N, tuple(Shaped((d[i],)) for i in range(n_cycles)))"
   ]
  },
  {
   "cell_type": "code",
   "execution_count": 6,
   "id": "f58b58f7",
   "metadata": {
    "cq.autogen": "Permutation.sparse_permutation"
   },
   "outputs": [],
   "source": [
    "sparse_permutation = Permutation.from_partial_permutation_map(\n",
    "    16, {0: 1, 1: 3, 2: 8, 3: 15, 4: 12}\n",
    ")"
   ]
  },
  {
   "cell_type": "code",
   "execution_count": 7,
   "id": "e644f2ac",
   "metadata": {
    "cq.autogen": "Permutation.sparse_permutation_with_symbolic_N"
   },
   "outputs": [],
   "source": [
    "import sympy\n",
    "\n",
    "N = sympy.symbols(\"N\", positive=True, integer=True)\n",
    "sparse_permutation_with_symbolic_N = Permutation.from_partial_permutation_map(\n",
    "    N, {0: 1, 1: 3, 2: 4, 3: 7}\n",
    ")"
   ]
  },
  {
   "cell_type": "markdown",
   "id": "ace174d5",
   "metadata": {
    "cq.autogen": "Permutation.graphical_signature.md"
   },
   "source": [
    "#### Graphical Signature"
   ]
  },
  {
   "cell_type": "code",
   "execution_count": 8,
   "id": "1e55dcd4",
   "metadata": {
    "cq.autogen": "Permutation.graphical_signature.py"
   },
   "outputs": [
    {
     "data": {
      "application/vnd.jupyter.widget-view+json": {
       "model_id": "1f3f477fce004ed9a6b939b29a48e51e",
       "version_major": 2,
       "version_minor": 0
      },
      "text/plain": [
       "HBox(children=(Output(outputs=({'output_type': 'display_data', 'data': {'text/plain': '<IPython.core.display.M…"
      ]
     },
     "metadata": {},
     "output_type": "display_data"
    }
   ],
   "source": [
    "from qualtran.drawing import show_bloqs\n",
    "show_bloqs([permutation, permutation_symb, permutation_symb_with_cycles, sparse_permutation, sparse_permutation_with_symbolic_N],\n",
    "           ['`permutation`', '`permutation_symb`', '`permutation_symb_with_cycles`', '`sparse_permutation`', '`sparse_permutation_with_symbolic_N`'])"
   ]
  },
  {
   "cell_type": "markdown",
   "id": "32e2b5dd",
   "metadata": {
    "cq.autogen": "Permutation.call_graph.md"
   },
   "source": [
    "### Call Graph"
   ]
  },
  {
   "cell_type": "code",
   "execution_count": 9,
   "id": "fab3fd69",
   "metadata": {
    "cq.autogen": "Permutation.call_graph.py"
   },
   "outputs": [
    {
     "data": {
      "image/svg+xml": [
       "<svg xmlns=\"http://www.w3.org/2000/svg\" xmlns:xlink=\"http://www.w3.org/1999/xlink\" width=\"169pt\" height=\"131pt\" viewBox=\"0.00 0.00 169.00 131.00\">\n",
       "<g id=\"graph0\" class=\"graph\" transform=\"scale(1 1) rotate(0) translate(4 127)\">\n",
       "<title>counts</title>\n",
       "<polygon fill=\"white\" stroke=\"transparent\" points=\"-4,4 -4,-127 165,-127 165,4 -4,4\"/>\n",
       "<!-- b0 -->\n",
       "<g id=\"node1\" class=\"node\">\n",
       "<title>b0</title>\n",
       "<polygon fill=\"none\" stroke=\"black\" points=\"161,-123 0,-123 0,-87 161,-87 161,-123\"/>\n",
       "<text text-anchor=\"start\" x=\"47\" y=\"-106.8\" font-family=\"Times,serif\" font-size=\"14.00\">Permutation</text>\n",
       "<text text-anchor=\"start\" x=\"8\" y=\"-96\" font-family=\"monospace\" font-size=\"10.00\">N=4, cycles=((0, 1,  ...</text>\n",
       "</g>\n",
       "<!-- b1 -->\n",
       "<g id=\"node2\" class=\"node\">\n",
       "<title>b1</title>\n",
       "<polygon fill=\"none\" stroke=\"black\" points=\"158,-36 3,-36 3,0 158,0 158,-36\"/>\n",
       "<text text-anchor=\"start\" x=\"31\" y=\"-19.8\" font-family=\"Times,serif\" font-size=\"14.00\">PermutationCycle</text>\n",
       "<text text-anchor=\"start\" x=\"11\" y=\"-9\" font-family=\"monospace\" font-size=\"10.00\">N=4, cycle=(0, 1, 3, 2)</text>\n",
       "</g>\n",
       "<!-- b0&#45;&gt;b1 -->\n",
       "<g id=\"edge1\" class=\"edge\">\n",
       "<title>b0-&gt;b1</title>\n",
       "<path fill=\"none\" stroke=\"black\" d=\"M80.5,-86.8C80.5,-75.16 80.5,-59.55 80.5,-46.24\"/>\n",
       "<polygon fill=\"black\" stroke=\"black\" points=\"84,-46.18 80.5,-36.18 77,-46.18 84,-46.18\"/>\n",
       "<text text-anchor=\"middle\" x=\"84\" y=\"-57.8\" font-family=\"Times,serif\" font-size=\"14.00\">1</text>\n",
       "</g>\n",
       "</g>\n",
       "</svg>"
      ],
      "text/plain": [
       "<IPython.core.display.SVG object>"
      ]
     },
     "metadata": {},
     "output_type": "display_data"
    },
    {
     "data": {
      "text/markdown": [
       "#### Counts totals:\n",
       " - `PermutationCycle`: 1"
      ],
      "text/plain": [
       "<IPython.core.display.Markdown object>"
      ]
     },
     "metadata": {},
     "output_type": "display_data"
    }
   ],
   "source": [
    "from qualtran.resource_counting.generalizers import ignore_split_join\n",
    "permutation_g, permutation_sigma = permutation.call_graph(max_depth=1, generalizer=ignore_split_join)\n",
    "show_call_graph(permutation_g)\n",
    "show_counts_sigma(permutation_sigma)"
   ]
  },
  {
   "cell_type": "markdown",
   "id": "408e209c",
   "metadata": {
    "cq.autogen": "PermutationCycle.bloq_doc.md"
   },
   "source": [
    "## `PermutationCycle`\n",
    "Apply a single permutation cycle on the basis states.\n",
    "\n",
    "Given a permutation cycle $C = (v_0 v_2 \\ldots v_{k - 1})$, applies the following unitary:\n",
    "\n",
    "    $$\n",
    "        U|v_i\\rangle \\mapsto |v_{(i + 1)\\mod k}\\rangle\n",
    "    $$\n",
    "\n",
    "for each $i \\in [0, k)$, and\n",
    "\n",
    "    $$\n",
    "        U|x\\rangle \\mapsto |x\\rangle\n",
    "    $$\n",
    "\n",
    "and for every $x \\not\\in C$.\n",
    "\n",
    "#### Parameters\n",
    " - `N`: the total size the permutation acts on.\n",
    " - `cycle`: the permutation cycle to apply. \n",
    "\n",
    "#### Registers\n",
    " - `x`: integer register storing a value in [0, ..., N - 1] \n",
    "\n",
    "#### References\n",
    " - [A simple quantum algorithm to efficiently prepare sparse states](https://arxiv.org/abs/2310.19309v1). Appendix B, Algorithm 7.\n"
   ]
  },
  {
   "cell_type": "code",
   "execution_count": 10,
   "id": "bc68fccd",
   "metadata": {
    "cq.autogen": "PermutationCycle.bloq_doc.py"
   },
   "outputs": [],
   "source": [
    "from qualtran.bloqs.arithmetic.permutation import PermutationCycle"
   ]
  },
  {
   "cell_type": "markdown",
   "id": "de4c7922",
   "metadata": {
    "cq.autogen": "PermutationCycle.example_instances.md"
   },
   "source": [
    "### Example Instances"
   ]
  },
  {
   "cell_type": "code",
   "execution_count": 11,
   "id": "071de1e1",
   "metadata": {
    "cq.autogen": "PermutationCycle.permutation_cycle_symb_N"
   },
   "outputs": [],
   "source": [
    "import sympy\n",
    "\n",
    "N = sympy.symbols(\"n\", positive=True, integer=True)\n",
    "cycle = (3, 1, 2)\n",
    "permutation_cycle_symb_N = PermutationCycle(N, cycle)"
   ]
  },
  {
   "cell_type": "code",
   "execution_count": 12,
   "id": "fd61e92a",
   "metadata": {
    "cq.autogen": "PermutationCycle.permutation_cycle_symb"
   },
   "outputs": [],
   "source": [
    "import sympy\n",
    "\n",
    "from qualtran.symbolics import Shaped\n",
    "\n",
    "N, L = sympy.symbols(\"N L\", positive=True, integer=True)\n",
    "cycle = Shaped((L,))\n",
    "permutation_cycle_symb = PermutationCycle(N, cycle)"
   ]
  },
  {
   "cell_type": "code",
   "execution_count": 13,
   "id": "b818f3b1",
   "metadata": {
    "cq.autogen": "PermutationCycle.permutation_cycle"
   },
   "outputs": [],
   "source": [
    "permutation_cycle = PermutationCycle(4, (0, 1, 2))"
   ]
  },
  {
   "cell_type": "markdown",
   "id": "3d3c3e1b",
   "metadata": {
    "cq.autogen": "PermutationCycle.graphical_signature.md"
   },
   "source": [
    "#### Graphical Signature"
   ]
  },
  {
   "cell_type": "code",
   "execution_count": 14,
   "id": "de967993",
   "metadata": {
    "cq.autogen": "PermutationCycle.graphical_signature.py"
   },
   "outputs": [
    {
     "data": {
      "application/vnd.jupyter.widget-view+json": {
       "model_id": "af9dac682c4b4d9293971796efe89ef9",
       "version_major": 2,
       "version_minor": 0
      },
      "text/plain": [
       "HBox(children=(Output(outputs=({'output_type': 'display_data', 'data': {'text/plain': '<IPython.core.display.M…"
      ]
     },
     "metadata": {},
     "output_type": "display_data"
    }
   ],
   "source": [
    "from qualtran.drawing import show_bloqs\n",
    "show_bloqs([permutation_cycle_symb_N, permutation_cycle_symb, permutation_cycle],\n",
    "           ['`permutation_cycle_symb_N`', '`permutation_cycle_symb`', '`permutation_cycle`'])"
   ]
  },
  {
   "cell_type": "markdown",
   "id": "58deda5c",
   "metadata": {
    "cq.autogen": "PermutationCycle.call_graph.md"
   },
   "source": [
    "### Call Graph"
   ]
  },
  {
   "cell_type": "code",
   "execution_count": 15,
   "id": "ec16903f",
   "metadata": {
    "cq.autogen": "PermutationCycle.call_graph.py"
   },
   "outputs": [
    {
     "data": {
      "image/svg+xml": [
       "<svg xmlns=\"http://www.w3.org/2000/svg\" xmlns:xlink=\"http://www.w3.org/1999/xlink\" width=\"1848pt\" height=\"131pt\" viewBox=\"0.00 0.00 1848.00 131.00\">\n",
       "<g id=\"graph0\" class=\"graph\" transform=\"scale(1 1) rotate(0) translate(4 127)\">\n",
       "<title>counts</title>\n",
       "<polygon fill=\"white\" stroke=\"transparent\" points=\"-4,4 -4,-127 1844,-127 1844,4 -4,4\"/>\n",
       "<!-- b0 -->\n",
       "<g id=\"node1\" class=\"node\">\n",
       "<title>b0</title>\n",
       "<polygon fill=\"none\" stroke=\"black\" points=\"940,-123 803,-123 803,-87 940,-87 940,-123\"/>\n",
       "<text text-anchor=\"start\" x=\"822\" y=\"-106.8\" font-family=\"Times,serif\" font-size=\"14.00\">PermutationCycle</text>\n",
       "<text text-anchor=\"start\" x=\"811\" y=\"-96\" font-family=\"monospace\" font-size=\"10.00\">N=n, cycle=(3, 1, 2)</text>\n",
       "</g>\n",
       "<!-- b1 -->\n",
       "<g id=\"node2\" class=\"node\">\n",
       "<title>b1</title>\n",
       "<polygon fill=\"none\" stroke=\"black\" points=\"179,-36 0,-36 0,0 179,0 179,-36\"/>\n",
       "<text text-anchor=\"start\" x=\"42\" y=\"-19.8\" font-family=\"Times,serif\" font-size=\"14.00\">EqualsAConstant</text>\n",
       "<text text-anchor=\"start\" x=\"8\" y=\"-9\" font-family=\"monospace\" font-size=\"10.00\">bitsize=ceiling( ..., val=1</text>\n",
       "</g>\n",
       "<!-- b0&#45;&gt;b1 -->\n",
       "<g id=\"edge1\" class=\"edge\">\n",
       "<title>b0-&gt;b1</title>\n",
       "<path fill=\"none\" stroke=\"black\" d=\"M802.84,-99.02C681.16,-89.78 419.55,-68.12 189.43,-36.23\"/>\n",
       "<polygon fill=\"black\" stroke=\"black\" points=\"189.57,-32.71 179.19,-34.8 188.61,-39.65 189.57,-32.71\"/>\n",
       "<text text-anchor=\"middle\" x=\"454\" y=\"-57.8\" font-family=\"Times,serif\" font-size=\"14.00\">1</text>\n",
       "</g>\n",
       "<!-- b2 -->\n",
       "<g id=\"node3\" class=\"node\">\n",
       "<title>b2</title>\n",
       "<polygon fill=\"none\" stroke=\"black\" points=\"376,-36 197,-36 197,0 376,0 376,-36\"/>\n",
       "<text text-anchor=\"start\" x=\"239\" y=\"-19.8\" font-family=\"Times,serif\" font-size=\"14.00\">EqualsAConstant</text>\n",
       "<text text-anchor=\"start\" x=\"205\" y=\"-9\" font-family=\"monospace\" font-size=\"10.00\">bitsize=ceiling( ..., val=3</text>\n",
       "</g>\n",
       "<!-- b0&#45;&gt;b2 -->\n",
       "<g id=\"edge2\" class=\"edge\">\n",
       "<title>b0-&gt;b2</title>\n",
       "<path fill=\"none\" stroke=\"black\" d=\"M802.84,-95.14C710.48,-83.06 540.85,-60.3 386.36,-36.27\"/>\n",
       "<polygon fill=\"black\" stroke=\"black\" points=\"386.62,-32.77 376.2,-34.68 385.54,-39.68 386.62,-32.77\"/>\n",
       "<text text-anchor=\"middle\" x=\"602\" y=\"-57.8\" font-family=\"Times,serif\" font-size=\"14.00\">2</text>\n",
       "</g>\n",
       "<!-- b3 -->\n",
       "<g id=\"node4\" class=\"node\">\n",
       "<title>b3</title>\n",
       "<polygon fill=\"none\" stroke=\"black\" points=\"675,-36 394,-36 394,0 675,0 675,-36\"/>\n",
       "<text text-anchor=\"start\" x=\"510\" y=\"-19.8\" font-family=\"Times,serif\" font-size=\"14.00\">C[XorK]</text>\n",
       "<text text-anchor=\"start\" x=\"402\" y=\"-9\" font-family=\"monospace\" font-size=\"10.00\">subbloq=XorK(dty ..., ctrl_spec=CtrlSpec ...</text>\n",
       "</g>\n",
       "<!-- b0&#45;&gt;b3 -->\n",
       "<g id=\"edge3\" class=\"edge\">\n",
       "<title>b0-&gt;b3</title>\n",
       "<path fill=\"none\" stroke=\"black\" d=\"M803.71,-86.9C748.29,-72.92 669.92,-53.16 612.02,-38.55\"/>\n",
       "<polygon fill=\"black\" stroke=\"black\" points=\"612.74,-35.12 602.18,-36.07 611.02,-41.91 612.74,-35.12\"/>\n",
       "<text text-anchor=\"middle\" x=\"727\" y=\"-57.8\" font-family=\"Times,serif\" font-size=\"14.00\">1</text>\n",
       "</g>\n",
       "<!-- b4 -->\n",
       "<g id=\"node5\" class=\"node\">\n",
       "<title>b4</title>\n",
       "<polygon fill=\"none\" stroke=\"black\" points=\"860,-36 693,-36 693,0 860,0 860,-36\"/>\n",
       "<text text-anchor=\"start\" x=\"753.5\" y=\"-19.8\" font-family=\"Times,serif\" font-size=\"14.00\">Allocate</text>\n",
       "<text text-anchor=\"start\" x=\"701\" y=\"-9\" font-family=\"monospace\" font-size=\"10.00\">dtype=QBit(), dirty=False</text>\n",
       "</g>\n",
       "<!-- b0&#45;&gt;b4 -->\n",
       "<g id=\"edge4\" class=\"edge\">\n",
       "<title>b0-&gt;b4</title>\n",
       "<path fill=\"none\" stroke=\"black\" d=\"M852.28,-86.8C838.24,-74.24 819.03,-57.05 803.46,-43.12\"/>\n",
       "<polygon fill=\"black\" stroke=\"black\" points=\"805.48,-40.24 795.7,-36.18 800.81,-45.45 805.48,-40.24\"/>\n",
       "<text text-anchor=\"middle\" x=\"834\" y=\"-57.8\" font-family=\"Times,serif\" font-size=\"14.00\">1</text>\n",
       "</g>\n",
       "<!-- b5 -->\n",
       "<g id=\"node6\" class=\"node\">\n",
       "<title>b5</title>\n",
       "<polygon fill=\"none\" stroke=\"black\" points=\"1057,-36 878,-36 878,0 1057,0 1057,-36\"/>\n",
       "<text text-anchor=\"start\" x=\"920\" y=\"-19.8\" font-family=\"Times,serif\" font-size=\"14.00\">EqualsAConstant</text>\n",
       "<text text-anchor=\"start\" x=\"886\" y=\"-9\" font-family=\"monospace\" font-size=\"10.00\">bitsize=ceiling( ..., val=2</text>\n",
       "</g>\n",
       "<!-- b0&#45;&gt;b5 -->\n",
       "<g id=\"edge5\" class=\"edge\">\n",
       "<title>b0-&gt;b5</title>\n",
       "<path fill=\"none\" stroke=\"black\" d=\"M890.93,-86.8C905.11,-74.24 924.53,-57.05 940.26,-43.12\"/>\n",
       "<polygon fill=\"black\" stroke=\"black\" points=\"942.94,-45.43 948.1,-36.18 938.29,-40.18 942.94,-45.43\"/>\n",
       "<text text-anchor=\"middle\" x=\"929\" y=\"-57.8\" font-family=\"Times,serif\" font-size=\"14.00\">1</text>\n",
       "</g>\n",
       "<!-- b6 -->\n",
       "<g id=\"node7\" class=\"node\">\n",
       "<title>b6</title>\n",
       "<polygon fill=\"none\" stroke=\"black\" points=\"1356,-36 1075,-36 1075,0 1356,0 1356,-36\"/>\n",
       "<text text-anchor=\"start\" x=\"1191\" y=\"-19.8\" font-family=\"Times,serif\" font-size=\"14.00\">C[XorK]</text>\n",
       "<text text-anchor=\"start\" x=\"1083\" y=\"-9\" font-family=\"monospace\" font-size=\"10.00\">subbloq=XorK(dty ..., ctrl_spec=CtrlSpec ...</text>\n",
       "</g>\n",
       "<!-- b0&#45;&gt;b6 -->\n",
       "<g id=\"edge6\" class=\"edge\">\n",
       "<title>b0-&gt;b6</title>\n",
       "<path fill=\"none\" stroke=\"black\" d=\"M940.29,-87C996.91,-73.01 1077.22,-53.17 1136.47,-38.53\"/>\n",
       "<polygon fill=\"black\" stroke=\"black\" points=\"1137.67,-41.84 1146.54,-36.04 1135.99,-35.04 1137.67,-41.84\"/>\n",
       "<text text-anchor=\"middle\" x=\"1068\" y=\"-57.8\" font-family=\"Times,serif\" font-size=\"14.00\">1</text>\n",
       "</g>\n",
       "<!-- b7 -->\n",
       "<g id=\"node8\" class=\"node\">\n",
       "<title>b7</title>\n",
       "<polygon fill=\"none\" stroke=\"black\" points=\"1541,-36 1374,-36 1374,0 1541,0 1541,-36\"/>\n",
       "<text text-anchor=\"start\" x=\"1445\" y=\"-19.8\" font-family=\"Times,serif\" font-size=\"14.00\">Free</text>\n",
       "<text text-anchor=\"start\" x=\"1382\" y=\"-9\" font-family=\"monospace\" font-size=\"10.00\">dtype=QBit(), dirty=False</text>\n",
       "</g>\n",
       "<!-- b0&#45;&gt;b7 -->\n",
       "<g id=\"edge7\" class=\"edge\">\n",
       "<title>b0-&gt;b7</title>\n",
       "<path fill=\"none\" stroke=\"black\" d=\"M940.23,-95.48C1033.67,-83.69 1206.24,-61.15 1363.99,-36.04\"/>\n",
       "<polygon fill=\"black\" stroke=\"black\" points=\"1364.56,-39.5 1373.88,-34.46 1363.45,-32.59 1364.56,-39.5\"/>\n",
       "<text text-anchor=\"middle\" x=\"1247\" y=\"-57.8\" font-family=\"Times,serif\" font-size=\"14.00\">1</text>\n",
       "</g>\n",
       "<!-- b8 -->\n",
       "<g id=\"node9\" class=\"node\">\n",
       "<title>b8</title>\n",
       "<polygon fill=\"none\" stroke=\"black\" points=\"1840,-36 1559,-36 1559,0 1840,0 1840,-36\"/>\n",
       "<text text-anchor=\"start\" x=\"1675\" y=\"-19.8\" font-family=\"Times,serif\" font-size=\"14.00\">C[XorK]</text>\n",
       "<text text-anchor=\"start\" x=\"1567\" y=\"-9\" font-family=\"monospace\" font-size=\"10.00\">subbloq=XorK(dty ..., ctrl_spec=CtrlSpec ...</text>\n",
       "</g>\n",
       "<!-- b0&#45;&gt;b8 -->\n",
       "<g id=\"edge8\" class=\"edge\">\n",
       "<title>b0-&gt;b8</title>\n",
       "<path fill=\"none\" stroke=\"black\" d=\"M940.03,-98.16C1016.7,-91.53 1144.56,-80.17 1254.5,-69 1382.55,-55.99 1416.75,-51.01 1548.87,-36.07\"/>\n",
       "<polygon fill=\"black\" stroke=\"black\" points=\"1549.43,-39.53 1558.98,-34.93 1548.65,-32.58 1549.43,-39.53\"/>\n",
       "<text text-anchor=\"middle\" x=\"1396\" y=\"-57.8\" font-family=\"Times,serif\" font-size=\"14.00\">1</text>\n",
       "</g>\n",
       "</g>\n",
       "</svg>"
      ],
      "text/plain": [
       "<IPython.core.display.SVG object>"
      ]
     },
     "metadata": {},
     "output_type": "display_data"
    },
    {
     "data": {
      "text/markdown": [
       "#### Counts totals:\n",
       " - `Allocate`: 1\n",
       " - `C[XorK]`: 1\n",
       " - `C[XorK]`: 1\n",
       " - `C[XorK]`: 1\n",
       " - `EqualsAConstant`: 1\n",
       " - `EqualsAConstant`: 1\n",
       " - `EqualsAConstant`: 2\n",
       " - `Free`: 1"
      ],
      "text/plain": [
       "<IPython.core.display.Markdown object>"
      ]
     },
     "metadata": {},
     "output_type": "display_data"
    }
   ],
   "source": [
    "from qualtran.resource_counting.generalizers import ignore_split_join\n",
    "permutation_cycle_symb_N_g, permutation_cycle_symb_N_sigma = permutation_cycle_symb_N.call_graph(max_depth=1, generalizer=ignore_split_join)\n",
    "show_call_graph(permutation_cycle_symb_N_g)\n",
    "show_counts_sigma(permutation_cycle_symb_N_sigma)"
   ]
  }
 ],
 "metadata": {
  "kernelspec": {
   "display_name": "Python 3",
   "language": "python",
   "name": "python3"
  },
  "language_info": {
   "codemirror_mode": {
    "name": "ipython",
    "version": 3
   },
   "file_extension": ".py",
   "mimetype": "text/x-python",
   "name": "python",
   "nbconvert_exporter": "python",
   "pygments_lexer": "ipython3",
   "version": "3.11.8"
  },
  "widgets": {
   "application/vnd.jupyter.widget-state+json": {
    "state": {
     "05a81c4d95284e7ea372b64adea68cda": {
      "model_module": "@jupyter-widgets/base",
      "model_module_version": "2.0.0",
      "model_name": "LayoutModel",
      "state": {
       "_model_module": "@jupyter-widgets/base",
       "_model_module_version": "2.0.0",
       "_model_name": "LayoutModel",
       "_view_count": null,
       "_view_module": "@jupyter-widgets/base",
       "_view_module_version": "2.0.0",
       "_view_name": "LayoutView",
       "align_content": null,
       "align_items": null,
       "align_self": null,
       "border_bottom": null,
       "border_left": null,
       "border_right": null,
       "border_top": null,
       "bottom": null,
       "display": null,
       "flex": null,
       "flex_flow": null,
       "grid_area": null,
       "grid_auto_columns": null,
       "grid_auto_flow": null,
       "grid_auto_rows": null,
       "grid_column": null,
       "grid_gap": null,
       "grid_row": null,
       "grid_template_areas": null,
       "grid_template_columns": null,
       "grid_template_rows": null,
       "height": null,
       "justify_content": null,
       "justify_items": null,
       "left": null,
       "margin": null,
       "max_height": null,
       "max_width": null,
       "min_height": null,
       "min_width": null,
       "object_fit": null,
       "object_position": null,
       "order": null,
       "overflow": null,
       "padding": null,
       "right": null,
       "top": null,
       "visibility": null,
       "width": null
      }
     },
     "0fb4e59816674b4992b45205761140c2": {
      "model_module": "@jupyter-widgets/output",
      "model_module_version": "1.0.0",
      "model_name": "OutputModel",
      "state": {
       "_dom_classes": [],
       "_model_module": "@jupyter-widgets/output",
       "_model_module_version": "1.0.0",
       "_model_name": "OutputModel",
       "_view_count": null,
       "_view_module": "@jupyter-widgets/output",
       "_view_module_version": "1.0.0",
       "_view_name": "OutputView",
       "layout": "IPY_MODEL_9ce2dd00e96d4913a34c5ac3e31bc21a",
       "msg_id": "",
       "outputs": [
        {
         "data": {
          "text/markdown": "`permutation_symb`",
          "text/plain": "<IPython.core.display.Markdown object>"
         },
         "metadata": {},
         "output_type": "display_data"
        },
        {
         "data": {
          "image/svg+xml": "<svg xmlns=\"http://www.w3.org/2000/svg\" xmlns:xlink=\"http://www.w3.org/1999/xlink\" width=\"246pt\" height=\"54pt\" viewBox=\"0.00 0.00 246.00 54.00\">\n<g id=\"graph0\" class=\"graph\" transform=\"scale(1 1) rotate(0) translate(4 50)\">\n<title>my_graph</title>\n<polygon fill=\"white\" stroke=\"transparent\" points=\"-4,4 -4,-50 242,-50 242,4 -4,4\"/>\n<!-- x_G0 -->\n<g id=\"node1\" class=\"node\">\n<title>x_G0</title>\n<text text-anchor=\"middle\" x=\"27\" y=\"-14.3\" font-family=\"Times,serif\" font-size=\"14.00\">x</text>\n</g>\n<!-- Permutation -->\n<g id=\"node2\" class=\"node\">\n<title>Permutation</title>\n<polygon fill=\"none\" stroke=\"black\" points=\"91,-29 91,-46 147,-46 147,-29 91,-29\"/>\n<text text-anchor=\"start\" x=\"94\" y=\"-35\" font-family=\"Times,serif\" font-size=\"10.00\">Permutation</text>\n<polygon fill=\"none\" stroke=\"black\" points=\"91,-8 91,-29 147,-29 147,-8 91,-8\"/>\n<text text-anchor=\"start\" x=\"115.5\" y=\"-14.8\" font-family=\"Times,serif\" font-size=\"14.00\">x</text>\n</g>\n<!-- x_G0&#45;&gt;Permutation -->\n<g id=\"edge1\" class=\"edge\">\n<title>x_G0:e-&gt;Permutation:w</title>\n<path fill=\"none\" stroke=\"black\" d=\"M54,-18C69.67,-18 74.14,-18 88.77,-18\"/>\n<ellipse fill=\"black\" stroke=\"black\" cx=\"90\" cy=\"-18\" rx=\"1\" ry=\"1\"/>\n<text text-anchor=\"middle\" x=\"72.5\" y=\"-21\" font-family=\"Times,serif\" font-size=\"10.00\">ceiling(log2(N))</text>\n</g>\n<!-- x_G2 -->\n<g id=\"node3\" class=\"node\">\n<title>x_G2</title>\n<text text-anchor=\"middle\" x=\"211\" y=\"-14.3\" font-family=\"Times,serif\" font-size=\"14.00\">x</text>\n</g>\n<!-- Permutation&#45;&gt;x_G2 -->\n<g id=\"edge2\" class=\"edge\">\n<title>Permutation:e-&gt;x_G2:w</title>\n<path fill=\"none\" stroke=\"black\" d=\"M147,-18C162.67,-18 167.14,-18 181.77,-18\"/>\n<ellipse fill=\"black\" stroke=\"black\" cx=\"183\" cy=\"-18\" rx=\"1\" ry=\"1\"/>\n<text text-anchor=\"middle\" x=\"165.5\" y=\"-21\" font-family=\"Times,serif\" font-size=\"10.00\">ceiling(log2(N))</text>\n</g>\n</g>\n</svg>",
          "text/plain": "<IPython.core.display.SVG object>"
         },
         "metadata": {},
         "output_type": "display_data"
        }
       ],
       "tabbable": null,
       "tooltip": null
      }
     },
     "1c6321d90643406a85d4f14205cab3ed": {
      "model_module": "@jupyter-widgets/output",
      "model_module_version": "1.0.0",
      "model_name": "OutputModel",
      "state": {
       "_dom_classes": [],
       "_model_module": "@jupyter-widgets/output",
       "_model_module_version": "1.0.0",
       "_model_name": "OutputModel",
       "_view_count": null,
       "_view_module": "@jupyter-widgets/output",
       "_view_module_version": "1.0.0",
       "_view_name": "OutputView",
       "layout": "IPY_MODEL_05a81c4d95284e7ea372b64adea68cda",
       "msg_id": "",
       "outputs": [
        {
         "data": {
          "text/markdown": "`permutation_cycle_symb`",
          "text/plain": "<IPython.core.display.Markdown object>"
         },
         "metadata": {},
         "output_type": "display_data"
        },
        {
         "data": {
          "image/svg+xml": "<svg xmlns=\"http://www.w3.org/2000/svg\" xmlns:xlink=\"http://www.w3.org/1999/xlink\" width=\"270pt\" height=\"54pt\" viewBox=\"0.00 0.00 270.00 54.00\">\n<g id=\"graph0\" class=\"graph\" transform=\"scale(1 1) rotate(0) translate(4 50)\">\n<title>my_graph</title>\n<polygon fill=\"white\" stroke=\"transparent\" points=\"-4,4 -4,-50 266,-50 266,4 -4,4\"/>\n<!-- x_G0 -->\n<g id=\"node1\" class=\"node\">\n<title>x_G0</title>\n<text text-anchor=\"middle\" x=\"27\" y=\"-14.3\" font-family=\"Times,serif\" font-size=\"14.00\">x</text>\n</g>\n<!-- PermutationCycle -->\n<g id=\"node2\" class=\"node\">\n<title>PermutationCycle</title>\n<polygon fill=\"none\" stroke=\"black\" points=\"91,-29 91,-46 171,-46 171,-29 91,-29\"/>\n<text text-anchor=\"start\" x=\"94\" y=\"-35\" font-family=\"Times,serif\" font-size=\"10.00\">PermutationCycle</text>\n<polygon fill=\"none\" stroke=\"black\" points=\"91,-8 91,-29 171,-29 171,-8 91,-8\"/>\n<text text-anchor=\"start\" x=\"127.5\" y=\"-14.8\" font-family=\"Times,serif\" font-size=\"14.00\">x</text>\n</g>\n<!-- x_G0&#45;&gt;PermutationCycle -->\n<g id=\"edge1\" class=\"edge\">\n<title>x_G0:e-&gt;PermutationCycle:w</title>\n<path fill=\"none\" stroke=\"black\" d=\"M54,-18C69.67,-18 74.14,-18 88.77,-18\"/>\n<ellipse fill=\"black\" stroke=\"black\" cx=\"90\" cy=\"-18\" rx=\"1\" ry=\"1\"/>\n<text text-anchor=\"middle\" x=\"72.5\" y=\"-21\" font-family=\"Times,serif\" font-size=\"10.00\">ceiling(log2(N))</text>\n</g>\n<!-- x_G1 -->\n<g id=\"node3\" class=\"node\">\n<title>x_G1</title>\n<text text-anchor=\"middle\" x=\"235\" y=\"-14.3\" font-family=\"Times,serif\" font-size=\"14.00\">x</text>\n</g>\n<!-- PermutationCycle&#45;&gt;x_G1 -->\n<g id=\"edge2\" class=\"edge\">\n<title>PermutationCycle:e-&gt;x_G1:w</title>\n<path fill=\"none\" stroke=\"black\" d=\"M171,-18C186.67,-18 191.14,-18 205.77,-18\"/>\n<ellipse fill=\"black\" stroke=\"black\" cx=\"207\" cy=\"-18\" rx=\"1\" ry=\"1\"/>\n<text text-anchor=\"middle\" x=\"189.5\" y=\"-21\" font-family=\"Times,serif\" font-size=\"10.00\">ceiling(log2(N))</text>\n</g>\n</g>\n</svg>",
          "text/plain": "<IPython.core.display.SVG object>"
         },
         "metadata": {},
         "output_type": "display_data"
        }
       ],
       "tabbable": null,
       "tooltip": null
      }
     },
     "1f3f477fce004ed9a6b939b29a48e51e": {
      "model_module": "@jupyter-widgets/controls",
      "model_module_version": "2.0.0",
      "model_name": "HBoxModel",
      "state": {
       "_dom_classes": [],
       "_model_module": "@jupyter-widgets/controls",
       "_model_module_version": "2.0.0",
       "_model_name": "HBoxModel",
       "_view_count": null,
       "_view_module": "@jupyter-widgets/controls",
       "_view_module_version": "2.0.0",
       "_view_name": "HBoxView",
       "box_style": "",
       "children": [
        "IPY_MODEL_6cae0ee25b8a499f910ca1b94f181a15",
        "IPY_MODEL_0fb4e59816674b4992b45205761140c2",
        "IPY_MODEL_948eafecb0344616ace7ead5e862ac8f",
        "IPY_MODEL_6e154feb83424d3688633f19c7342822",
        "IPY_MODEL_f9ab8af3205a4089b8975c4ba8c8be32"
       ],
       "layout": "IPY_MODEL_81a33222453a422497893d37e51ae5cb",
       "tabbable": null,
       "tooltip": null
      }
     },
     "316352ccdae44653b1cba18a281d017f": {
      "model_module": "@jupyter-widgets/output",
      "model_module_version": "1.0.0",
      "model_name": "OutputModel",
      "state": {
       "_dom_classes": [],
       "_model_module": "@jupyter-widgets/output",
       "_model_module_version": "1.0.0",
       "_model_name": "OutputModel",
       "_view_count": null,
       "_view_module": "@jupyter-widgets/output",
       "_view_module_version": "1.0.0",
       "_view_name": "OutputView",
       "layout": "IPY_MODEL_8b86b38da45e4ef38809f7eb4429b050",
       "msg_id": "",
       "outputs": [
        {
         "data": {
          "text/markdown": "`permutation_cycle_symb_N`",
          "text/plain": "<IPython.core.display.Markdown object>"
         },
         "metadata": {},
         "output_type": "display_data"
        },
        {
         "data": {
          "image/svg+xml": "<svg xmlns=\"http://www.w3.org/2000/svg\" xmlns:xlink=\"http://www.w3.org/1999/xlink\" width=\"270pt\" height=\"54pt\" viewBox=\"0.00 0.00 270.00 54.00\">\n<g id=\"graph0\" class=\"graph\" transform=\"scale(1 1) rotate(0) translate(4 50)\">\n<title>my_graph</title>\n<polygon fill=\"white\" stroke=\"transparent\" points=\"-4,4 -4,-50 266,-50 266,4 -4,4\"/>\n<!-- x_G0 -->\n<g id=\"node1\" class=\"node\">\n<title>x_G0</title>\n<text text-anchor=\"middle\" x=\"27\" y=\"-14.3\" font-family=\"Times,serif\" font-size=\"14.00\">x</text>\n</g>\n<!-- PermutationCycle -->\n<g id=\"node2\" class=\"node\">\n<title>PermutationCycle</title>\n<polygon fill=\"none\" stroke=\"black\" points=\"91,-29 91,-46 171,-46 171,-29 91,-29\"/>\n<text text-anchor=\"start\" x=\"94\" y=\"-35\" font-family=\"Times,serif\" font-size=\"10.00\">PermutationCycle</text>\n<polygon fill=\"none\" stroke=\"black\" points=\"91,-8 91,-29 171,-29 171,-8 91,-8\"/>\n<text text-anchor=\"start\" x=\"127.5\" y=\"-14.8\" font-family=\"Times,serif\" font-size=\"14.00\">x</text>\n</g>\n<!-- x_G0&#45;&gt;PermutationCycle -->\n<g id=\"edge1\" class=\"edge\">\n<title>x_G0:e-&gt;PermutationCycle:w</title>\n<path fill=\"none\" stroke=\"black\" d=\"M54,-18C69.67,-18 74.14,-18 88.77,-18\"/>\n<ellipse fill=\"black\" stroke=\"black\" cx=\"90\" cy=\"-18\" rx=\"1\" ry=\"1\"/>\n<text text-anchor=\"middle\" x=\"72.5\" y=\"-21\" font-family=\"Times,serif\" font-size=\"10.00\">ceiling(log2(n))</text>\n</g>\n<!-- x_G2 -->\n<g id=\"node3\" class=\"node\">\n<title>x_G2</title>\n<text text-anchor=\"middle\" x=\"235\" y=\"-14.3\" font-family=\"Times,serif\" font-size=\"14.00\">x</text>\n</g>\n<!-- PermutationCycle&#45;&gt;x_G2 -->\n<g id=\"edge2\" class=\"edge\">\n<title>PermutationCycle:e-&gt;x_G2:w</title>\n<path fill=\"none\" stroke=\"black\" d=\"M171,-18C186.67,-18 191.14,-18 205.77,-18\"/>\n<ellipse fill=\"black\" stroke=\"black\" cx=\"207\" cy=\"-18\" rx=\"1\" ry=\"1\"/>\n<text text-anchor=\"middle\" x=\"189.5\" y=\"-21\" font-family=\"Times,serif\" font-size=\"10.00\">ceiling(log2(n))</text>\n</g>\n</g>\n</svg>",
          "text/plain": "<IPython.core.display.SVG object>"
         },
         "metadata": {},
         "output_type": "display_data"
        }
       ],
       "tabbable": null,
       "tooltip": null
      }
     },
     "370c0bce04f349819976babeec8f30c5": {
      "model_module": "@jupyter-widgets/base",
      "model_module_version": "2.0.0",
      "model_name": "LayoutModel",
      "state": {
       "_model_module": "@jupyter-widgets/base",
       "_model_module_version": "2.0.0",
       "_model_name": "LayoutModel",
       "_view_count": null,
       "_view_module": "@jupyter-widgets/base",
       "_view_module_version": "2.0.0",
       "_view_name": "LayoutView",
       "align_content": null,
       "align_items": null,
       "align_self": null,
       "border_bottom": null,
       "border_left": null,
       "border_right": null,
       "border_top": null,
       "bottom": null,
       "display": null,
       "flex": null,
       "flex_flow": null,
       "grid_area": null,
       "grid_auto_columns": null,
       "grid_auto_flow": null,
       "grid_auto_rows": null,
       "grid_column": null,
       "grid_gap": null,
       "grid_row": null,
       "grid_template_areas": null,
       "grid_template_columns": null,
       "grid_template_rows": null,
       "height": null,
       "justify_content": null,
       "justify_items": null,
       "left": null,
       "margin": null,
       "max_height": null,
       "max_width": null,
       "min_height": null,
       "min_width": null,
       "object_fit": null,
       "object_position": null,
       "order": null,
       "overflow": null,
       "padding": null,
       "right": null,
       "top": null,
       "visibility": null,
       "width": null
      }
     },
     "62bbf85f1ce24c03be906188f2e1ddd4": {
      "model_module": "@jupyter-widgets/base",
      "model_module_version": "2.0.0",
      "model_name": "LayoutModel",
      "state": {
       "_model_module": "@jupyter-widgets/base",
       "_model_module_version": "2.0.0",
       "_model_name": "LayoutModel",
       "_view_count": null,
       "_view_module": "@jupyter-widgets/base",
       "_view_module_version": "2.0.0",
       "_view_name": "LayoutView",
       "align_content": null,
       "align_items": null,
       "align_self": null,
       "border_bottom": null,
       "border_left": null,
       "border_right": null,
       "border_top": null,
       "bottom": null,
       "display": null,
       "flex": null,
       "flex_flow": null,
       "grid_area": null,
       "grid_auto_columns": null,
       "grid_auto_flow": null,
       "grid_auto_rows": null,
       "grid_column": null,
       "grid_gap": null,
       "grid_row": null,
       "grid_template_areas": null,
       "grid_template_columns": null,
       "grid_template_rows": null,
       "height": null,
       "justify_content": null,
       "justify_items": null,
       "left": null,
       "margin": null,
       "max_height": null,
       "max_width": null,
       "min_height": null,
       "min_width": null,
       "object_fit": null,
       "object_position": null,
       "order": null,
       "overflow": null,
       "padding": null,
       "right": null,
       "top": null,
       "visibility": null,
       "width": null
      }
     },
     "6cae0ee25b8a499f910ca1b94f181a15": {
      "model_module": "@jupyter-widgets/output",
      "model_module_version": "1.0.0",
      "model_name": "OutputModel",
      "state": {
       "_dom_classes": [],
       "_model_module": "@jupyter-widgets/output",
       "_model_module_version": "1.0.0",
       "_model_name": "OutputModel",
       "_view_count": null,
       "_view_module": "@jupyter-widgets/output",
       "_view_module_version": "1.0.0",
       "_view_name": "OutputView",
       "layout": "IPY_MODEL_62bbf85f1ce24c03be906188f2e1ddd4",
       "msg_id": "",
       "outputs": [
        {
         "data": {
          "text/markdown": "`permutation`",
          "text/plain": "<IPython.core.display.Markdown object>"
         },
         "metadata": {},
         "output_type": "display_data"
        },
        {
         "data": {
          "image/svg+xml": "<svg xmlns=\"http://www.w3.org/2000/svg\" xmlns:xlink=\"http://www.w3.org/1999/xlink\" width=\"246pt\" height=\"54pt\" viewBox=\"0.00 0.00 246.00 54.00\">\n<g id=\"graph0\" class=\"graph\" transform=\"scale(1 1) rotate(0) translate(4 50)\">\n<title>my_graph</title>\n<polygon fill=\"white\" stroke=\"transparent\" points=\"-4,4 -4,-50 242,-50 242,4 -4,4\"/>\n<!-- x_G0 -->\n<g id=\"node1\" class=\"node\">\n<title>x_G0</title>\n<text text-anchor=\"middle\" x=\"27\" y=\"-14.3\" font-family=\"Times,serif\" font-size=\"14.00\">x</text>\n</g>\n<!-- Permutation -->\n<g id=\"node2\" class=\"node\">\n<title>Permutation</title>\n<polygon fill=\"none\" stroke=\"black\" points=\"91,-29 91,-46 147,-46 147,-29 91,-29\"/>\n<text text-anchor=\"start\" x=\"94\" y=\"-35\" font-family=\"Times,serif\" font-size=\"10.00\">Permutation</text>\n<polygon fill=\"none\" stroke=\"black\" points=\"91,-8 91,-29 147,-29 147,-8 91,-8\"/>\n<text text-anchor=\"start\" x=\"115.5\" y=\"-14.8\" font-family=\"Times,serif\" font-size=\"14.00\">x</text>\n</g>\n<!-- x_G0&#45;&gt;Permutation -->\n<g id=\"edge1\" class=\"edge\">\n<title>x_G0:e-&gt;Permutation:w</title>\n<path fill=\"none\" stroke=\"black\" d=\"M54,-18C69.67,-18 74.14,-18 88.77,-18\"/>\n<ellipse fill=\"black\" stroke=\"black\" cx=\"90\" cy=\"-18\" rx=\"1\" ry=\"1\"/>\n<text text-anchor=\"middle\" x=\"72.5\" y=\"-21\" font-family=\"Times,serif\" font-size=\"10.00\">2</text>\n</g>\n<!-- x_G1 -->\n<g id=\"node3\" class=\"node\">\n<title>x_G1</title>\n<text text-anchor=\"middle\" x=\"211\" y=\"-14.3\" font-family=\"Times,serif\" font-size=\"14.00\">x</text>\n</g>\n<!-- Permutation&#45;&gt;x_G1 -->\n<g id=\"edge2\" class=\"edge\">\n<title>Permutation:e-&gt;x_G1:w</title>\n<path fill=\"none\" stroke=\"black\" d=\"M147,-18C162.67,-18 167.14,-18 181.77,-18\"/>\n<ellipse fill=\"black\" stroke=\"black\" cx=\"183\" cy=\"-18\" rx=\"1\" ry=\"1\"/>\n<text text-anchor=\"middle\" x=\"165.5\" y=\"-21\" font-family=\"Times,serif\" font-size=\"10.00\">2</text>\n</g>\n</g>\n</svg>",
          "text/plain": "<IPython.core.display.SVG object>"
         },
         "metadata": {},
         "output_type": "display_data"
        }
       ],
       "tabbable": null,
       "tooltip": null
      }
     },
     "6e154feb83424d3688633f19c7342822": {
      "model_module": "@jupyter-widgets/output",
      "model_module_version": "1.0.0",
      "model_name": "OutputModel",
      "state": {
       "_dom_classes": [],
       "_model_module": "@jupyter-widgets/output",
       "_model_module_version": "1.0.0",
       "_model_name": "OutputModel",
       "_view_count": null,
       "_view_module": "@jupyter-widgets/output",
       "_view_module_version": "1.0.0",
       "_view_name": "OutputView",
       "layout": "IPY_MODEL_c2abeae6c5b54d5990e784aba0a87c9a",
       "msg_id": "",
       "outputs": [
        {
         "data": {
          "text/markdown": "`sparse_permutation`",
          "text/plain": "<IPython.core.display.Markdown object>"
         },
         "metadata": {},
         "output_type": "display_data"
        },
        {
         "data": {
          "image/svg+xml": "<svg xmlns=\"http://www.w3.org/2000/svg\" xmlns:xlink=\"http://www.w3.org/1999/xlink\" width=\"246pt\" height=\"54pt\" viewBox=\"0.00 0.00 246.00 54.00\">\n<g id=\"graph0\" class=\"graph\" transform=\"scale(1 1) rotate(0) translate(4 50)\">\n<title>my_graph</title>\n<polygon fill=\"white\" stroke=\"transparent\" points=\"-4,4 -4,-50 242,-50 242,4 -4,4\"/>\n<!-- x_G1 -->\n<g id=\"node1\" class=\"node\">\n<title>x_G1</title>\n<text text-anchor=\"middle\" x=\"27\" y=\"-14.3\" font-family=\"Times,serif\" font-size=\"14.00\">x</text>\n</g>\n<!-- Permutation -->\n<g id=\"node2\" class=\"node\">\n<title>Permutation</title>\n<polygon fill=\"none\" stroke=\"black\" points=\"91,-29 91,-46 147,-46 147,-29 91,-29\"/>\n<text text-anchor=\"start\" x=\"94\" y=\"-35\" font-family=\"Times,serif\" font-size=\"10.00\">Permutation</text>\n<polygon fill=\"none\" stroke=\"black\" points=\"91,-8 91,-29 147,-29 147,-8 91,-8\"/>\n<text text-anchor=\"start\" x=\"115.5\" y=\"-14.8\" font-family=\"Times,serif\" font-size=\"14.00\">x</text>\n</g>\n<!-- x_G1&#45;&gt;Permutation -->\n<g id=\"edge1\" class=\"edge\">\n<title>x_G1:e-&gt;Permutation:w</title>\n<path fill=\"none\" stroke=\"black\" d=\"M54,-18C69.67,-18 74.14,-18 88.77,-18\"/>\n<ellipse fill=\"black\" stroke=\"black\" cx=\"90\" cy=\"-18\" rx=\"1\" ry=\"1\"/>\n<text text-anchor=\"middle\" x=\"72.5\" y=\"-21\" font-family=\"Times,serif\" font-size=\"10.00\">4</text>\n</g>\n<!-- x_G0 -->\n<g id=\"node3\" class=\"node\">\n<title>x_G0</title>\n<text text-anchor=\"middle\" x=\"211\" y=\"-14.3\" font-family=\"Times,serif\" font-size=\"14.00\">x</text>\n</g>\n<!-- Permutation&#45;&gt;x_G0 -->\n<g id=\"edge2\" class=\"edge\">\n<title>Permutation:e-&gt;x_G0:w</title>\n<path fill=\"none\" stroke=\"black\" d=\"M147,-18C162.67,-18 167.14,-18 181.77,-18\"/>\n<ellipse fill=\"black\" stroke=\"black\" cx=\"183\" cy=\"-18\" rx=\"1\" ry=\"1\"/>\n<text text-anchor=\"middle\" x=\"165.5\" y=\"-21\" font-family=\"Times,serif\" font-size=\"10.00\">4</text>\n</g>\n</g>\n</svg>",
          "text/plain": "<IPython.core.display.SVG object>"
         },
         "metadata": {},
         "output_type": "display_data"
        }
       ],
       "tabbable": null,
       "tooltip": null
      }
     },
     "81a33222453a422497893d37e51ae5cb": {
      "model_module": "@jupyter-widgets/base",
      "model_module_version": "2.0.0",
      "model_name": "LayoutModel",
      "state": {
       "_model_module": "@jupyter-widgets/base",
       "_model_module_version": "2.0.0",
       "_model_name": "LayoutModel",
       "_view_count": null,
       "_view_module": "@jupyter-widgets/base",
       "_view_module_version": "2.0.0",
       "_view_name": "LayoutView",
       "align_content": null,
       "align_items": null,
       "align_self": null,
       "border_bottom": null,
       "border_left": null,
       "border_right": null,
       "border_top": null,
       "bottom": null,
       "display": null,
       "flex": null,
       "flex_flow": null,
       "grid_area": null,
       "grid_auto_columns": null,
       "grid_auto_flow": null,
       "grid_auto_rows": null,
       "grid_column": null,
       "grid_gap": null,
       "grid_row": null,
       "grid_template_areas": null,
       "grid_template_columns": null,
       "grid_template_rows": null,
       "height": null,
       "justify_content": null,
       "justify_items": null,
       "left": null,
       "margin": null,
       "max_height": null,
       "max_width": null,
       "min_height": null,
       "min_width": null,
       "object_fit": null,
       "object_position": null,
       "order": null,
       "overflow": null,
       "padding": null,
       "right": null,
       "top": null,
       "visibility": null,
       "width": null
      }
     },
     "8b86b38da45e4ef38809f7eb4429b050": {
      "model_module": "@jupyter-widgets/base",
      "model_module_version": "2.0.0",
      "model_name": "LayoutModel",
      "state": {
       "_model_module": "@jupyter-widgets/base",
       "_model_module_version": "2.0.0",
       "_model_name": "LayoutModel",
       "_view_count": null,
       "_view_module": "@jupyter-widgets/base",
       "_view_module_version": "2.0.0",
       "_view_name": "LayoutView",
       "align_content": null,
       "align_items": null,
       "align_self": null,
       "border_bottom": null,
       "border_left": null,
       "border_right": null,
       "border_top": null,
       "bottom": null,
       "display": null,
       "flex": null,
       "flex_flow": null,
       "grid_area": null,
       "grid_auto_columns": null,
       "grid_auto_flow": null,
       "grid_auto_rows": null,
       "grid_column": null,
       "grid_gap": null,
       "grid_row": null,
       "grid_template_areas": null,
       "grid_template_columns": null,
       "grid_template_rows": null,
       "height": null,
       "justify_content": null,
       "justify_items": null,
       "left": null,
       "margin": null,
       "max_height": null,
       "max_width": null,
       "min_height": null,
       "min_width": null,
       "object_fit": null,
       "object_position": null,
       "order": null,
       "overflow": null,
       "padding": null,
       "right": null,
       "top": null,
       "visibility": null,
       "width": null
      }
     },
     "948eafecb0344616ace7ead5e862ac8f": {
      "model_module": "@jupyter-widgets/output",
      "model_module_version": "1.0.0",
      "model_name": "OutputModel",
      "state": {
       "_dom_classes": [],
       "_model_module": "@jupyter-widgets/output",
       "_model_module_version": "1.0.0",
       "_model_name": "OutputModel",
       "_view_count": null,
       "_view_module": "@jupyter-widgets/output",
       "_view_module_version": "1.0.0",
       "_view_name": "OutputView",
       "layout": "IPY_MODEL_96d85e20c9a547a483b9df855753e3b2",
       "msg_id": "",
       "outputs": [
        {
         "data": {
          "text/markdown": "`permutation_symb_with_cycles`",
          "text/plain": "<IPython.core.display.Markdown object>"
         },
         "metadata": {},
         "output_type": "display_data"
        },
        {
         "data": {
          "image/svg+xml": "<svg xmlns=\"http://www.w3.org/2000/svg\" xmlns:xlink=\"http://www.w3.org/1999/xlink\" width=\"246pt\" height=\"54pt\" viewBox=\"0.00 0.00 246.00 54.00\">\n<g id=\"graph0\" class=\"graph\" transform=\"scale(1 1) rotate(0) translate(4 50)\">\n<title>my_graph</title>\n<polygon fill=\"white\" stroke=\"transparent\" points=\"-4,4 -4,-50 242,-50 242,4 -4,4\"/>\n<!-- x_G0 -->\n<g id=\"node1\" class=\"node\">\n<title>x_G0</title>\n<text text-anchor=\"middle\" x=\"27\" y=\"-14.3\" font-family=\"Times,serif\" font-size=\"14.00\">x</text>\n</g>\n<!-- Permutation -->\n<g id=\"node2\" class=\"node\">\n<title>Permutation</title>\n<polygon fill=\"none\" stroke=\"black\" points=\"91,-29 91,-46 147,-46 147,-29 91,-29\"/>\n<text text-anchor=\"start\" x=\"94\" y=\"-35\" font-family=\"Times,serif\" font-size=\"10.00\">Permutation</text>\n<polygon fill=\"none\" stroke=\"black\" points=\"91,-8 91,-29 147,-29 147,-8 91,-8\"/>\n<text text-anchor=\"start\" x=\"115.5\" y=\"-14.8\" font-family=\"Times,serif\" font-size=\"14.00\">x</text>\n</g>\n<!-- x_G0&#45;&gt;Permutation -->\n<g id=\"edge1\" class=\"edge\">\n<title>x_G0:e-&gt;Permutation:w</title>\n<path fill=\"none\" stroke=\"black\" d=\"M54,-18C69.67,-18 74.14,-18 88.77,-18\"/>\n<ellipse fill=\"black\" stroke=\"black\" cx=\"90\" cy=\"-18\" rx=\"1\" ry=\"1\"/>\n<text text-anchor=\"middle\" x=\"72.5\" y=\"-21\" font-family=\"Times,serif\" font-size=\"10.00\">ceiling(log2(N))</text>\n</g>\n<!-- x_G1 -->\n<g id=\"node3\" class=\"node\">\n<title>x_G1</title>\n<text text-anchor=\"middle\" x=\"211\" y=\"-14.3\" font-family=\"Times,serif\" font-size=\"14.00\">x</text>\n</g>\n<!-- Permutation&#45;&gt;x_G1 -->\n<g id=\"edge2\" class=\"edge\">\n<title>Permutation:e-&gt;x_G1:w</title>\n<path fill=\"none\" stroke=\"black\" d=\"M147,-18C162.67,-18 167.14,-18 181.77,-18\"/>\n<ellipse fill=\"black\" stroke=\"black\" cx=\"183\" cy=\"-18\" rx=\"1\" ry=\"1\"/>\n<text text-anchor=\"middle\" x=\"165.5\" y=\"-21\" font-family=\"Times,serif\" font-size=\"10.00\">ceiling(log2(N))</text>\n</g>\n</g>\n</svg>",
          "text/plain": "<IPython.core.display.SVG object>"
         },
         "metadata": {},
         "output_type": "display_data"
        }
       ],
       "tabbable": null,
       "tooltip": null
      }
     },
     "96d85e20c9a547a483b9df855753e3b2": {
      "model_module": "@jupyter-widgets/base",
      "model_module_version": "2.0.0",
      "model_name": "LayoutModel",
      "state": {
       "_model_module": "@jupyter-widgets/base",
       "_model_module_version": "2.0.0",
       "_model_name": "LayoutModel",
       "_view_count": null,
       "_view_module": "@jupyter-widgets/base",
       "_view_module_version": "2.0.0",
       "_view_name": "LayoutView",
       "align_content": null,
       "align_items": null,
       "align_self": null,
       "border_bottom": null,
       "border_left": null,
       "border_right": null,
       "border_top": null,
       "bottom": null,
       "display": null,
       "flex": null,
       "flex_flow": null,
       "grid_area": null,
       "grid_auto_columns": null,
       "grid_auto_flow": null,
       "grid_auto_rows": null,
       "grid_column": null,
       "grid_gap": null,
       "grid_row": null,
       "grid_template_areas": null,
       "grid_template_columns": null,
       "grid_template_rows": null,
       "height": null,
       "justify_content": null,
       "justify_items": null,
       "left": null,
       "margin": null,
       "max_height": null,
       "max_width": null,
       "min_height": null,
       "min_width": null,
       "object_fit": null,
       "object_position": null,
       "order": null,
       "overflow": null,
       "padding": null,
       "right": null,
       "top": null,
       "visibility": null,
       "width": null
      }
     },
     "97e1414c1c5041f39a6121038c484163": {
      "model_module": "@jupyter-widgets/base",
      "model_module_version": "2.0.0",
      "model_name": "LayoutModel",
      "state": {
       "_model_module": "@jupyter-widgets/base",
       "_model_module_version": "2.0.0",
       "_model_name": "LayoutModel",
       "_view_count": null,
       "_view_module": "@jupyter-widgets/base",
       "_view_module_version": "2.0.0",
       "_view_name": "LayoutView",
       "align_content": null,
       "align_items": null,
       "align_self": null,
       "border_bottom": null,
       "border_left": null,
       "border_right": null,
       "border_top": null,
       "bottom": null,
       "display": null,
       "flex": null,
       "flex_flow": null,
       "grid_area": null,
       "grid_auto_columns": null,
       "grid_auto_flow": null,
       "grid_auto_rows": null,
       "grid_column": null,
       "grid_gap": null,
       "grid_row": null,
       "grid_template_areas": null,
       "grid_template_columns": null,
       "grid_template_rows": null,
       "height": null,
       "justify_content": null,
       "justify_items": null,
       "left": null,
       "margin": null,
       "max_height": null,
       "max_width": null,
       "min_height": null,
       "min_width": null,
       "object_fit": null,
       "object_position": null,
       "order": null,
       "overflow": null,
       "padding": null,
       "right": null,
       "top": null,
       "visibility": null,
       "width": null
      }
     },
     "9ce2dd00e96d4913a34c5ac3e31bc21a": {
      "model_module": "@jupyter-widgets/base",
      "model_module_version": "2.0.0",
      "model_name": "LayoutModel",
      "state": {
       "_model_module": "@jupyter-widgets/base",
       "_model_module_version": "2.0.0",
       "_model_name": "LayoutModel",
       "_view_count": null,
       "_view_module": "@jupyter-widgets/base",
       "_view_module_version": "2.0.0",
       "_view_name": "LayoutView",
       "align_content": null,
       "align_items": null,
       "align_self": null,
       "border_bottom": null,
       "border_left": null,
       "border_right": null,
       "border_top": null,
       "bottom": null,
       "display": null,
       "flex": null,
       "flex_flow": null,
       "grid_area": null,
       "grid_auto_columns": null,
       "grid_auto_flow": null,
       "grid_auto_rows": null,
       "grid_column": null,
       "grid_gap": null,
       "grid_row": null,
       "grid_template_areas": null,
       "grid_template_columns": null,
       "grid_template_rows": null,
       "height": null,
       "justify_content": null,
       "justify_items": null,
       "left": null,
       "margin": null,
       "max_height": null,
       "max_width": null,
       "min_height": null,
       "min_width": null,
       "object_fit": null,
       "object_position": null,
       "order": null,
       "overflow": null,
       "padding": null,
       "right": null,
       "top": null,
       "visibility": null,
       "width": null
      }
     },
     "a64cc2efebcc4ee493be2c84028cb6fd": {
      "model_module": "@jupyter-widgets/base",
      "model_module_version": "2.0.0",
      "model_name": "LayoutModel",
      "state": {
       "_model_module": "@jupyter-widgets/base",
       "_model_module_version": "2.0.0",
       "_model_name": "LayoutModel",
       "_view_count": null,
       "_view_module": "@jupyter-widgets/base",
       "_view_module_version": "2.0.0",
       "_view_name": "LayoutView",
       "align_content": null,
       "align_items": null,
       "align_self": null,
       "border_bottom": null,
       "border_left": null,
       "border_right": null,
       "border_top": null,
       "bottom": null,
       "display": null,
       "flex": null,
       "flex_flow": null,
       "grid_area": null,
       "grid_auto_columns": null,
       "grid_auto_flow": null,
       "grid_auto_rows": null,
       "grid_column": null,
       "grid_gap": null,
       "grid_row": null,
       "grid_template_areas": null,
       "grid_template_columns": null,
       "grid_template_rows": null,
       "height": null,
       "justify_content": null,
       "justify_items": null,
       "left": null,
       "margin": null,
       "max_height": null,
       "max_width": null,
       "min_height": null,
       "min_width": null,
       "object_fit": null,
       "object_position": null,
       "order": null,
       "overflow": null,
       "padding": null,
       "right": null,
       "top": null,
       "visibility": null,
       "width": null
      }
     },
     "af9dac682c4b4d9293971796efe89ef9": {
      "model_module": "@jupyter-widgets/controls",
      "model_module_version": "2.0.0",
      "model_name": "HBoxModel",
      "state": {
       "_dom_classes": [],
       "_model_module": "@jupyter-widgets/controls",
       "_model_module_version": "2.0.0",
       "_model_name": "HBoxModel",
       "_view_count": null,
       "_view_module": "@jupyter-widgets/controls",
       "_view_module_version": "2.0.0",
       "_view_name": "HBoxView",
       "box_style": "",
       "children": [
        "IPY_MODEL_316352ccdae44653b1cba18a281d017f",
        "IPY_MODEL_1c6321d90643406a85d4f14205cab3ed",
        "IPY_MODEL_fdb5954190e345258302e353f1d832c2"
       ],
       "layout": "IPY_MODEL_370c0bce04f349819976babeec8f30c5",
       "tabbable": null,
       "tooltip": null
      }
     },
     "c2abeae6c5b54d5990e784aba0a87c9a": {
      "model_module": "@jupyter-widgets/base",
      "model_module_version": "2.0.0",
      "model_name": "LayoutModel",
      "state": {
       "_model_module": "@jupyter-widgets/base",
       "_model_module_version": "2.0.0",
       "_model_name": "LayoutModel",
       "_view_count": null,
       "_view_module": "@jupyter-widgets/base",
       "_view_module_version": "2.0.0",
       "_view_name": "LayoutView",
       "align_content": null,
       "align_items": null,
       "align_self": null,
       "border_bottom": null,
       "border_left": null,
       "border_right": null,
       "border_top": null,
       "bottom": null,
       "display": null,
       "flex": null,
       "flex_flow": null,
       "grid_area": null,
       "grid_auto_columns": null,
       "grid_auto_flow": null,
       "grid_auto_rows": null,
       "grid_column": null,
       "grid_gap": null,
       "grid_row": null,
       "grid_template_areas": null,
       "grid_template_columns": null,
       "grid_template_rows": null,
       "height": null,
       "justify_content": null,
       "justify_items": null,
       "left": null,
       "margin": null,
       "max_height": null,
       "max_width": null,
       "min_height": null,
       "min_width": null,
       "object_fit": null,
       "object_position": null,
       "order": null,
       "overflow": null,
       "padding": null,
       "right": null,
       "top": null,
       "visibility": null,
       "width": null
      }
     },
     "f9ab8af3205a4089b8975c4ba8c8be32": {
      "model_module": "@jupyter-widgets/output",
      "model_module_version": "1.0.0",
      "model_name": "OutputModel",
      "state": {
       "_dom_classes": [],
       "_model_module": "@jupyter-widgets/output",
       "_model_module_version": "1.0.0",
       "_model_name": "OutputModel",
       "_view_count": null,
       "_view_module": "@jupyter-widgets/output",
       "_view_module_version": "1.0.0",
       "_view_name": "OutputView",
       "layout": "IPY_MODEL_97e1414c1c5041f39a6121038c484163",
       "msg_id": "",
       "outputs": [
        {
         "data": {
          "text/markdown": "`sparse_permutation_with_symbolic_N`",
          "text/plain": "<IPython.core.display.Markdown object>"
         },
         "metadata": {},
         "output_type": "display_data"
        },
        {
         "data": {
          "image/svg+xml": "<svg xmlns=\"http://www.w3.org/2000/svg\" xmlns:xlink=\"http://www.w3.org/1999/xlink\" width=\"246pt\" height=\"54pt\" viewBox=\"0.00 0.00 246.00 54.00\">\n<g id=\"graph0\" class=\"graph\" transform=\"scale(1 1) rotate(0) translate(4 50)\">\n<title>my_graph</title>\n<polygon fill=\"white\" stroke=\"transparent\" points=\"-4,4 -4,-50 242,-50 242,4 -4,4\"/>\n<!-- x_G0 -->\n<g id=\"node1\" class=\"node\">\n<title>x_G0</title>\n<text text-anchor=\"middle\" x=\"27\" y=\"-14.3\" font-family=\"Times,serif\" font-size=\"14.00\">x</text>\n</g>\n<!-- Permutation -->\n<g id=\"node2\" class=\"node\">\n<title>Permutation</title>\n<polygon fill=\"none\" stroke=\"black\" points=\"91,-29 91,-46 147,-46 147,-29 91,-29\"/>\n<text text-anchor=\"start\" x=\"94\" y=\"-35\" font-family=\"Times,serif\" font-size=\"10.00\">Permutation</text>\n<polygon fill=\"none\" stroke=\"black\" points=\"91,-8 91,-29 147,-29 147,-8 91,-8\"/>\n<text text-anchor=\"start\" x=\"115.5\" y=\"-14.8\" font-family=\"Times,serif\" font-size=\"14.00\">x</text>\n</g>\n<!-- x_G0&#45;&gt;Permutation -->\n<g id=\"edge1\" class=\"edge\">\n<title>x_G0:e-&gt;Permutation:w</title>\n<path fill=\"none\" stroke=\"black\" d=\"M54,-18C69.67,-18 74.14,-18 88.77,-18\"/>\n<ellipse fill=\"black\" stroke=\"black\" cx=\"90\" cy=\"-18\" rx=\"1\" ry=\"1\"/>\n<text text-anchor=\"middle\" x=\"72.5\" y=\"-21\" font-family=\"Times,serif\" font-size=\"10.00\">ceiling(log2(N))</text>\n</g>\n<!-- x_G2 -->\n<g id=\"node3\" class=\"node\">\n<title>x_G2</title>\n<text text-anchor=\"middle\" x=\"211\" y=\"-14.3\" font-family=\"Times,serif\" font-size=\"14.00\">x</text>\n</g>\n<!-- Permutation&#45;&gt;x_G2 -->\n<g id=\"edge2\" class=\"edge\">\n<title>Permutation:e-&gt;x_G2:w</title>\n<path fill=\"none\" stroke=\"black\" d=\"M147,-18C162.67,-18 167.14,-18 181.77,-18\"/>\n<ellipse fill=\"black\" stroke=\"black\" cx=\"183\" cy=\"-18\" rx=\"1\" ry=\"1\"/>\n<text text-anchor=\"middle\" x=\"165.5\" y=\"-21\" font-family=\"Times,serif\" font-size=\"10.00\">ceiling(log2(N))</text>\n</g>\n</g>\n</svg>",
          "text/plain": "<IPython.core.display.SVG object>"
         },
         "metadata": {},
         "output_type": "display_data"
        }
       ],
       "tabbable": null,
       "tooltip": null
      }
     },
     "fdb5954190e345258302e353f1d832c2": {
      "model_module": "@jupyter-widgets/output",
      "model_module_version": "1.0.0",
      "model_name": "OutputModel",
      "state": {
       "_dom_classes": [],
       "_model_module": "@jupyter-widgets/output",
       "_model_module_version": "1.0.0",
       "_model_name": "OutputModel",
       "_view_count": null,
       "_view_module": "@jupyter-widgets/output",
       "_view_module_version": "1.0.0",
       "_view_name": "OutputView",
       "layout": "IPY_MODEL_a64cc2efebcc4ee493be2c84028cb6fd",
       "msg_id": "",
       "outputs": [
        {
         "data": {
          "text/markdown": "`permutation_cycle`",
          "text/plain": "<IPython.core.display.Markdown object>"
         },
         "metadata": {},
         "output_type": "display_data"
        },
        {
         "data": {
          "image/svg+xml": "<svg xmlns=\"http://www.w3.org/2000/svg\" xmlns:xlink=\"http://www.w3.org/1999/xlink\" width=\"270pt\" height=\"54pt\" viewBox=\"0.00 0.00 270.00 54.00\">\n<g id=\"graph0\" class=\"graph\" transform=\"scale(1 1) rotate(0) translate(4 50)\">\n<title>my_graph</title>\n<polygon fill=\"white\" stroke=\"transparent\" points=\"-4,4 -4,-50 266,-50 266,4 -4,4\"/>\n<!-- x_G0 -->\n<g id=\"node1\" class=\"node\">\n<title>x_G0</title>\n<text text-anchor=\"middle\" x=\"27\" y=\"-14.3\" font-family=\"Times,serif\" font-size=\"14.00\">x</text>\n</g>\n<!-- PermutationCycle -->\n<g id=\"node2\" class=\"node\">\n<title>PermutationCycle</title>\n<polygon fill=\"none\" stroke=\"black\" points=\"91,-29 91,-46 171,-46 171,-29 91,-29\"/>\n<text text-anchor=\"start\" x=\"94\" y=\"-35\" font-family=\"Times,serif\" font-size=\"10.00\">PermutationCycle</text>\n<polygon fill=\"none\" stroke=\"black\" points=\"91,-8 91,-29 171,-29 171,-8 91,-8\"/>\n<text text-anchor=\"start\" x=\"127.5\" y=\"-14.8\" font-family=\"Times,serif\" font-size=\"14.00\">x</text>\n</g>\n<!-- x_G0&#45;&gt;PermutationCycle -->\n<g id=\"edge1\" class=\"edge\">\n<title>x_G0:e-&gt;PermutationCycle:w</title>\n<path fill=\"none\" stroke=\"black\" d=\"M54,-18C69.67,-18 74.14,-18 88.77,-18\"/>\n<ellipse fill=\"black\" stroke=\"black\" cx=\"90\" cy=\"-18\" rx=\"1\" ry=\"1\"/>\n<text text-anchor=\"middle\" x=\"72.5\" y=\"-21\" font-family=\"Times,serif\" font-size=\"10.00\">2</text>\n</g>\n<!-- x_G1 -->\n<g id=\"node3\" class=\"node\">\n<title>x_G1</title>\n<text text-anchor=\"middle\" x=\"235\" y=\"-14.3\" font-family=\"Times,serif\" font-size=\"14.00\">x</text>\n</g>\n<!-- PermutationCycle&#45;&gt;x_G1 -->\n<g id=\"edge2\" class=\"edge\">\n<title>PermutationCycle:e-&gt;x_G1:w</title>\n<path fill=\"none\" stroke=\"black\" d=\"M171,-18C186.67,-18 191.14,-18 205.77,-18\"/>\n<ellipse fill=\"black\" stroke=\"black\" cx=\"207\" cy=\"-18\" rx=\"1\" ry=\"1\"/>\n<text text-anchor=\"middle\" x=\"189.5\" y=\"-21\" font-family=\"Times,serif\" font-size=\"10.00\">2</text>\n</g>\n</g>\n</svg>",
          "text/plain": "<IPython.core.display.SVG object>"
         },
         "metadata": {},
         "output_type": "display_data"
        }
       ],
       "tabbable": null,
       "tooltip": null
      }
     }
    },
    "version_major": 2,
    "version_minor": 0
   }
  }
 },
 "nbformat": 4,
 "nbformat_minor": 5
}
