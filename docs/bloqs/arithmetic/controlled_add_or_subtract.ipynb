{
 "cells": [
  {
   "cell_type": "markdown",
   "id": "3f5866ad",
   "metadata": {
    "cq.autogen": "title_cell"
   },
   "source": [
    "# Controlled Add-or-Subtract"
   ]
  },
  {
   "cell_type": "code",
   "execution_count": 1,
   "id": "2cd93efb",
   "metadata": {
    "cq.autogen": "top_imports"
   },
   "outputs": [],
   "source": [
    "from qualtran import Bloq, CompositeBloq, BloqBuilder, Signature, Register\n",
    "from qualtran import QBit, QInt, QUInt, QAny\n",
    "from qualtran.drawing import show_bloq, show_call_graph, show_counts_sigma\n",
    "from typing import *\n",
    "import numpy as np\n",
    "import sympy\n",
    "import cirq"
   ]
  },
  {
   "cell_type": "markdown",
   "id": "bab535ef",
   "metadata": {
    "cq.autogen": "ControlledAddOrSubtract.bloq_doc.md"
   },
   "source": [
    "## `ControlledAddOrSubtract`\n",
    "Adds or subtracts in-place into the target, based on a control bit.\n",
    "\n",
    "Applies the transformation\n",
    "\n",
    "$$\n",
    "    |1\\rangle |a\\rangle |b\\rangle \\mapsto |1\\rangle |a\\rangle |b + a\\rangle \\\\\n",
    "    |0\\rangle |a\\rangle |b\\rangle \\mapsto |0\\rangle |a\\rangle |b - a\\rangle\n",
    "$$\n",
    "\n",
    "Given two numbers `a`, `b` and a control bit `ctrl`, this bloq computes:\n",
    "\n",
    "- the sum `b + a` when `ctrl=1`,\n",
    "- the difference `b - a` when `ctrl=0`,\n",
    "\n",
    "and stores the result in the second register (`b`).\n",
    "\n",
    "This uses an uncontrolled `Add` surrounded by controlled `BitwiseNot`s, and only\n",
    "the `Add` requires T gates, which has half the T-cost of a controlled `Add`.\n",
    "\n",
    "\n",
    "#### Parameters\n",
    " - `a_dtype`: dtype of the lhs `a`\n",
    " - `b_dtype`: dtype of the rhs `b`. If it is not big enough to store the result, the most significant bits are dropped on overflow.\n",
    " - `add_when_ctrl_is_on`: If True (default), add when `ctrl=1` and subtract when `ctrl=0`. If False, do the opposite: subtract when `ctrl=0` and add when `ctrl=1`. \n",
    "\n",
    "#### Registers\n",
    " - `ctrl`: a single control bit\n",
    " - `a`: an integer value.\n",
    " - `b`: an integer value. \n",
    "\n",
    "#### References\n",
    " - [Compilation of Fault-Tolerant Quantum Heuristics for Combinatorial Optimization](https://arxiv.org/abs/2007.07391). Sanders et. al. Section II-A-1, Algorithm 1.\n"
   ]
  },
  {
   "cell_type": "code",
   "execution_count": 2,
   "id": "759a4cb5",
   "metadata": {
    "cq.autogen": "ControlledAddOrSubtract.bloq_doc.py"
   },
   "outputs": [],
   "source": [
    "from qualtran.bloqs.arithmetic.controlled_add_or_subtract import ControlledAddOrSubtract"
   ]
  },
  {
   "cell_type": "markdown",
   "id": "e2e9a2be",
   "metadata": {
    "cq.autogen": "ControlledAddOrSubtract.example_instances.md"
   },
   "source": [
    "### Example Instances"
   ]
  },
  {
   "cell_type": "code",
   "execution_count": 3,
   "id": "77844520",
   "metadata": {
    "cq.autogen": "ControlledAddOrSubtract.ctrl_add_or_sub_unsigned"
   },
   "outputs": [],
   "source": [
    "ctrl_add_or_sub_unsigned = ControlledAddOrSubtract(QUInt(8), QUInt(8))"
   ]
  },
  {
   "cell_type": "code",
   "execution_count": 4,
   "id": "871ae83f",
   "metadata": {
    "cq.autogen": "ControlledAddOrSubtract.ctrl_add_or_sub_signed"
   },
   "outputs": [],
   "source": [
    "ctrl_add_or_sub_signed = ControlledAddOrSubtract(QInt(8), QInt(8))"
   ]
  },
  {
   "cell_type": "code",
   "execution_count": 5,
   "id": "0df1d5cb",
   "metadata": {
    "cq.autogen": "ControlledAddOrSubtract.ctrl_add_or_sub_signed_symb"
   },
   "outputs": [],
   "source": [
    "import sympy\n",
    "\n",
    "n = sympy.Symbol(\"n\")\n",
    "ctrl_add_or_sub_signed_symb = ControlledAddOrSubtract(QInt(n), QInt(n))"
   ]
  },
  {
   "cell_type": "markdown",
   "id": "a4f0e47e",
   "metadata": {
    "cq.autogen": "ControlledAddOrSubtract.graphical_signature.md"
   },
   "source": [
    "#### Graphical Signature"
   ]
  },
  {
   "cell_type": "code",
   "execution_count": 6,
   "id": "76c8da21",
   "metadata": {
    "cq.autogen": "ControlledAddOrSubtract.graphical_signature.py"
   },
   "outputs": [
    {
     "data": {
      "application/vnd.jupyter.widget-view+json": {
       "model_id": "72dbc87ef1074ccc8b164660fd7ab7b8",
       "version_major": 2,
       "version_minor": 0
      },
      "text/plain": [
       "HBox(children=(Output(outputs=({'output_type': 'display_data', 'data': {'text/plain': '<IPython.core.display.M…"
      ]
     },
     "metadata": {},
     "output_type": "display_data"
    }
   ],
   "source": [
    "from qualtran.drawing import show_bloqs\n",
    "show_bloqs([ctrl_add_or_sub_signed_symb, ctrl_add_or_sub_unsigned, ctrl_add_or_sub_signed],\n",
    "           ['`ctrl_add_or_sub_signed_symb`', '`ctrl_add_or_sub_unsigned`', '`ctrl_add_or_sub_signed`'])"
   ]
  },
  {
   "cell_type": "markdown",
   "id": "a0d571ad",
   "metadata": {
    "cq.autogen": "ControlledAddOrSubtract.call_graph.md"
   },
   "source": [
    "### Call Graph"
   ]
  },
  {
   "cell_type": "code",
   "execution_count": 7,
   "id": "eb6944d0",
   "metadata": {
    "cq.autogen": "ControlledAddOrSubtract.call_graph.py"
   },
   "outputs": [
    {
     "data": {
      "image/svg+xml": [
       "<svg xmlns=\"http://www.w3.org/2000/svg\" xmlns:xlink=\"http://www.w3.org/1999/xlink\" width=\"649pt\" height=\"131pt\" viewBox=\"0.00 0.00 648.50 131.00\">\n",
       "<g id=\"graph0\" class=\"graph\" transform=\"scale(1 1) rotate(0) translate(4 127)\">\n",
       "<title>counts</title>\n",
       "<polygon fill=\"white\" stroke=\"transparent\" points=\"-4,4 -4,-127 644.5,-127 644.5,4 -4,4\"/>\n",
       "<!-- b0 -->\n",
       "<g id=\"node1\" class=\"node\">\n",
       "<title>b0</title>\n",
       "<polygon fill=\"none\" stroke=\"black\" points=\"347.5,-123 78.5,-123 78.5,-87 347.5,-87 347.5,-123\"/>\n",
       "<text text-anchor=\"start\" x=\"142.5\" y=\"-106.8\" font-family=\"Times,serif\" font-size=\"14.00\">ControlledAddOrSubtract</text>\n",
       "<text text-anchor=\"start\" x=\"86.5\" y=\"-96\" font-family=\"monospace\" font-size=\"10.00\">a_dtype=QInt(bit ..., b_dtype=QInt(bit ...</text>\n",
       "</g>\n",
       "<!-- b1 -->\n",
       "<g id=\"node2\" class=\"node\">\n",
       "<title>b1</title>\n",
       "<polygon fill=\"none\" stroke=\"black\" points=\"54,-36 0,-36 0,0 54,0 54,-36\"/>\n",
       "<text text-anchor=\"start\" x=\"9\" y=\"-14.3\" font-family=\"Times,serif\" font-size=\"14.00\">XGate</text>\n",
       "</g>\n",
       "<!-- b0&#45;&gt;b1 -->\n",
       "<g id=\"edge1\" class=\"edge\">\n",
       "<title>b0-&gt;b1</title>\n",
       "<path fill=\"none\" stroke=\"black\" d=\"M175.01,-86.98C146.66,-74.22 106.75,-56.18 63.4,-36.16\"/>\n",
       "<polygon fill=\"black\" stroke=\"black\" points=\"64.65,-32.88 54.11,-31.86 61.71,-39.23 64.65,-32.88\"/>\n",
       "<text text-anchor=\"middle\" x=\"136.5\" y=\"-57.8\" font-family=\"Times,serif\" font-size=\"14.00\">2</text>\n",
       "</g>\n",
       "<!-- b2 -->\n",
       "<g id=\"node3\" class=\"node\">\n",
       "<title>b2</title>\n",
       "<polygon fill=\"none\" stroke=\"black\" points=\"353.5,-36 72.5,-36 72.5,0 353.5,0 353.5,-36\"/>\n",
       "<text text-anchor=\"start\" x=\"173\" y=\"-19.8\" font-family=\"Times,serif\" font-size=\"14.00\">C[BitwiseNot]</text>\n",
       "<text text-anchor=\"start\" x=\"80.5\" y=\"-9\" font-family=\"monospace\" font-size=\"10.00\">subbloq=BitwiseN ..., ctrl_spec=CtrlSpec ...</text>\n",
       "</g>\n",
       "<!-- b0&#45;&gt;b2 -->\n",
       "<g id=\"edge2\" class=\"edge\">\n",
       "<title>b0-&gt;b2</title>\n",
       "<path fill=\"none\" stroke=\"black\" d=\"M213,-86.8C213,-75.16 213,-59.55 213,-46.24\"/>\n",
       "<polygon fill=\"black\" stroke=\"black\" points=\"216.5,-46.18 213,-36.18 209.5,-46.18 216.5,-46.18\"/>\n",
       "<text text-anchor=\"middle\" x=\"216.5\" y=\"-57.8\" font-family=\"Times,serif\" font-size=\"14.00\">2</text>\n",
       "</g>\n",
       "<!-- b3 -->\n",
       "<g id=\"node4\" class=\"node\">\n",
       "<title>b3</title>\n",
       "<polygon fill=\"none\" stroke=\"black\" points=\"640.5,-36 371.5,-36 371.5,0 640.5,0 640.5,-36\"/>\n",
       "<text text-anchor=\"start\" x=\"494\" y=\"-19.8\" font-family=\"Times,serif\" font-size=\"14.00\">Add</text>\n",
       "<text text-anchor=\"start\" x=\"379.5\" y=\"-9\" font-family=\"monospace\" font-size=\"10.00\">a_dtype=QInt(bit ..., b_dtype=QInt(bit ...</text>\n",
       "</g>\n",
       "<!-- b0&#45;&gt;b3 -->\n",
       "<g id=\"edge3\" class=\"edge\">\n",
       "<title>b0-&gt;b3</title>\n",
       "<path fill=\"none\" stroke=\"black\" d=\"M271.94,-86.9C319.72,-73.04 387.14,-53.48 437.35,-38.92\"/>\n",
       "<polygon fill=\"black\" stroke=\"black\" points=\"438.52,-42.22 447.15,-36.07 436.57,-35.5 438.52,-42.22\"/>\n",
       "<text text-anchor=\"middle\" x=\"381.5\" y=\"-57.8\" font-family=\"Times,serif\" font-size=\"14.00\">1</text>\n",
       "</g>\n",
       "</g>\n",
       "</svg>"
      ],
      "text/plain": [
       "<IPython.core.display.SVG object>"
      ]
     },
     "metadata": {},
     "output_type": "display_data"
    },
    {
     "data": {
      "text/markdown": [
       "#### Counts totals:\n",
       " - `Add`: 1\n",
       " - `C[BitwiseNot]`: 2\n",
       " - `XGate`: 2"
      ],
      "text/plain": [
       "<IPython.core.display.Markdown object>"
      ]
     },
     "metadata": {},
     "output_type": "display_data"
    }
   ],
   "source": [
    "from qualtran.resource_counting.generalizers import ignore_split_join\n",
    "ctrl_add_or_sub_signed_symb_g, ctrl_add_or_sub_signed_symb_sigma = ctrl_add_or_sub_signed_symb.call_graph(max_depth=1, generalizer=ignore_split_join)\n",
    "show_call_graph(ctrl_add_or_sub_signed_symb_g)\n",
    "show_counts_sigma(ctrl_add_or_sub_signed_symb_sigma)"
   ]
  }
 ],
 "metadata": {
  "kernelspec": {
   "display_name": "Python 3",
   "language": "python",
   "name": "python3"
  },
  "language_info": {
   "codemirror_mode": {
    "name": "ipython",
    "version": 3
   },
   "file_extension": ".py",
   "mimetype": "text/x-python",
   "name": "python",
   "nbconvert_exporter": "python",
   "pygments_lexer": "ipython3",
   "version": "3.11.8"
  },
  "widgets": {
   "application/vnd.jupyter.widget-state+json": {
    "state": {
     "2975b1c4ae4f4052b3a70db5bcffae1b": {
      "model_module": "@jupyter-widgets/output",
      "model_module_version": "1.0.0",
      "model_name": "OutputModel",
      "state": {
       "_dom_classes": [],
       "_model_module": "@jupyter-widgets/output",
       "_model_module_version": "1.0.0",
       "_model_name": "OutputModel",
       "_view_count": null,
       "_view_module": "@jupyter-widgets/output",
       "_view_module_version": "1.0.0",
       "_view_name": "OutputView",
       "layout": "IPY_MODEL_36b2b378f9c544fc8337157fafd2aa5f",
       "msg_id": "",
       "outputs": [
        {
         "data": {
          "text/markdown": "`ctrl_add_or_sub_signed`",
          "text/plain": "<IPython.core.display.Markdown object>"
         },
         "metadata": {},
         "output_type": "display_data"
        },
        {
         "data": {
          "image/svg+xml": "<svg xmlns=\"http://www.w3.org/2000/svg\" xmlns:xlink=\"http://www.w3.org/1999/xlink\" width=\"303pt\" height=\"152pt\" viewBox=\"0.00 0.00 303.00 152.00\">\n<g id=\"graph0\" class=\"graph\" transform=\"scale(1 1) rotate(0) translate(4 148)\">\n<title>my_graph</title>\n<polygon fill=\"white\" stroke=\"transparent\" points=\"-4,4 -4,-148 299,-148 299,4 -4,4\"/>\n<!-- ctrl_G3 -->\n<g id=\"node1\" class=\"node\">\n<title>ctrl_G3</title>\n<text text-anchor=\"middle\" x=\"27\" y=\"-122.3\" font-family=\"Times,serif\" font-size=\"14.00\">ctrl</text>\n</g>\n<!-- ControlledAddOrSubtract -->\n<g id=\"node4\" class=\"node\">\n<title>ControlledAddOrSubtract</title>\n<polygon fill=\"none\" stroke=\"black\" points=\"91.5,-104 91.5,-121 204.5,-121 204.5,-104 91.5,-104\"/>\n<text text-anchor=\"start\" x=\"94.5\" y=\"-110\" font-family=\"Times,serif\" font-size=\"10.00\">ControlledAddOrSubtract</text>\n<polygon fill=\"none\" stroke=\"black\" points=\"91.5,-83 91.5,-104 204.5,-104 204.5,-83 91.5,-83\"/>\n<text text-anchor=\"start\" x=\"138.5\" y=\"-89.8\" font-family=\"Times,serif\" font-size=\"14.00\">ctrl</text>\n<polygon fill=\"none\" stroke=\"black\" points=\"91.5,-62 91.5,-83 204.5,-83 204.5,-62 91.5,-62\"/>\n<text text-anchor=\"start\" x=\"144.5\" y=\"-68.8\" font-family=\"Times,serif\" font-size=\"14.00\">a</text>\n<polygon fill=\"none\" stroke=\"black\" points=\"91.5,-41 91.5,-62 204.5,-62 204.5,-41 91.5,-41\"/>\n<text text-anchor=\"start\" x=\"144.5\" y=\"-47.8\" font-family=\"Times,serif\" font-size=\"14.00\">b</text>\n</g>\n<!-- ctrl_G3&#45;&gt;ControlledAddOrSubtract -->\n<g id=\"edge1\" class=\"edge\">\n<title>ctrl_G3:e-&gt;ControlledAddOrSubtract:w</title>\n<path fill=\"none\" stroke=\"black\" d=\"M54,-126C74.89,-126 69.72,-96.45 88.58,-94.14\"/>\n<ellipse fill=\"black\" stroke=\"black\" cx=\"90\" cy=\"-94.06\" rx=\"1\" ry=\"1\"/>\n<text text-anchor=\"middle\" x=\"72.5\" y=\"-113\" font-family=\"Times,serif\" font-size=\"10.00\">1</text>\n</g>\n<!-- a_G8 -->\n<g id=\"node2\" class=\"node\">\n<title>a_G8</title>\n<text text-anchor=\"middle\" x=\"27\" y=\"-68.3\" font-family=\"Times,serif\" font-size=\"14.00\">a</text>\n</g>\n<!-- a_G8&#45;&gt;ControlledAddOrSubtract -->\n<g id=\"edge2\" class=\"edge\">\n<title>a_G8:e-&gt;ControlledAddOrSubtract:w</title>\n<path fill=\"none\" stroke=\"black\" d=\"M54,-72C69.67,-72 74.14,-72 88.77,-72\"/>\n<ellipse fill=\"black\" stroke=\"black\" cx=\"90\" cy=\"-72\" rx=\"1\" ry=\"1\"/>\n<text text-anchor=\"middle\" x=\"72.5\" y=\"-75\" font-family=\"Times,serif\" font-size=\"10.00\">8</text>\n</g>\n<!-- b_G1 -->\n<g id=\"node3\" class=\"node\">\n<title>b_G1</title>\n<text text-anchor=\"middle\" x=\"27\" y=\"-14.3\" font-family=\"Times,serif\" font-size=\"14.00\">b</text>\n</g>\n<!-- b_G1&#45;&gt;ControlledAddOrSubtract -->\n<g id=\"edge3\" class=\"edge\">\n<title>b_G1:e-&gt;ControlledAddOrSubtract:w</title>\n<path fill=\"none\" stroke=\"black\" d=\"M54,-18C75.17,-18 69.47,-48.47 88.55,-50.85\"/>\n<ellipse fill=\"black\" stroke=\"black\" cx=\"90\" cy=\"-50.94\" rx=\"1\" ry=\"1\"/>\n<text text-anchor=\"middle\" x=\"72.5\" y=\"-39\" font-family=\"Times,serif\" font-size=\"10.00\">8</text>\n</g>\n<!-- ctrl_G5 -->\n<g id=\"node5\" class=\"node\">\n<title>ctrl_G5</title>\n<text text-anchor=\"middle\" x=\"268\" y=\"-122.3\" font-family=\"Times,serif\" font-size=\"14.00\">ctrl</text>\n</g>\n<!-- ControlledAddOrSubtract&#45;&gt;ctrl_G5 -->\n<g id=\"edge4\" class=\"edge\">\n<title>ControlledAddOrSubtract:e-&gt;ctrl_G5:w</title>\n<path fill=\"none\" stroke=\"black\" d=\"M204,-94C224.89,-94 219.72,-123.55 238.58,-125.86\"/>\n<ellipse fill=\"black\" stroke=\"black\" cx=\"240\" cy=\"-125.94\" rx=\"1\" ry=\"1\"/>\n<text text-anchor=\"middle\" x=\"222.5\" y=\"-113\" font-family=\"Times,serif\" font-size=\"10.00\">1</text>\n</g>\n<!-- a_G6 -->\n<g id=\"node6\" class=\"node\">\n<title>a_G6</title>\n<text text-anchor=\"middle\" x=\"268\" y=\"-68.3\" font-family=\"Times,serif\" font-size=\"14.00\">a</text>\n</g>\n<!-- ControlledAddOrSubtract&#45;&gt;a_G6 -->\n<g id=\"edge5\" class=\"edge\">\n<title>ControlledAddOrSubtract:e-&gt;a_G6:w</title>\n<path fill=\"none\" stroke=\"black\" d=\"M204,-72C219.67,-72 224.14,-72 238.77,-72\"/>\n<ellipse fill=\"black\" stroke=\"black\" cx=\"240\" cy=\"-72\" rx=\"1\" ry=\"1\"/>\n<text text-anchor=\"middle\" x=\"222.5\" y=\"-75\" font-family=\"Times,serif\" font-size=\"10.00\">8</text>\n</g>\n<!-- b_G0 -->\n<g id=\"node7\" class=\"node\">\n<title>b_G0</title>\n<text text-anchor=\"middle\" x=\"268\" y=\"-14.3\" font-family=\"Times,serif\" font-size=\"14.00\">b</text>\n</g>\n<!-- ControlledAddOrSubtract&#45;&gt;b_G0 -->\n<g id=\"edge6\" class=\"edge\">\n<title>ControlledAddOrSubtract:e-&gt;b_G0:w</title>\n<path fill=\"none\" stroke=\"black\" d=\"M204,-51C225.17,-51 219.47,-20.53 238.55,-18.15\"/>\n<ellipse fill=\"black\" stroke=\"black\" cx=\"240\" cy=\"-18.06\" rx=\"1\" ry=\"1\"/>\n<text text-anchor=\"middle\" x=\"222.5\" y=\"-39\" font-family=\"Times,serif\" font-size=\"10.00\">8</text>\n</g>\n</g>\n</svg>",
          "text/plain": "<IPython.core.display.SVG object>"
         },
         "metadata": {},
         "output_type": "display_data"
        }
       ],
       "tabbable": null,
       "tooltip": null
      }
     },
     "36b2b378f9c544fc8337157fafd2aa5f": {
      "model_module": "@jupyter-widgets/base",
      "model_module_version": "2.0.0",
      "model_name": "LayoutModel",
      "state": {
       "_model_module": "@jupyter-widgets/base",
       "_model_module_version": "2.0.0",
       "_model_name": "LayoutModel",
       "_view_count": null,
       "_view_module": "@jupyter-widgets/base",
       "_view_module_version": "2.0.0",
       "_view_name": "LayoutView",
       "align_content": null,
       "align_items": null,
       "align_self": null,
       "border_bottom": null,
       "border_left": null,
       "border_right": null,
       "border_top": null,
       "bottom": null,
       "display": null,
       "flex": null,
       "flex_flow": null,
       "grid_area": null,
       "grid_auto_columns": null,
       "grid_auto_flow": null,
       "grid_auto_rows": null,
       "grid_column": null,
       "grid_gap": null,
       "grid_row": null,
       "grid_template_areas": null,
       "grid_template_columns": null,
       "grid_template_rows": null,
       "height": null,
       "justify_content": null,
       "justify_items": null,
       "left": null,
       "margin": null,
       "max_height": null,
       "max_width": null,
       "min_height": null,
       "min_width": null,
       "object_fit": null,
       "object_position": null,
       "order": null,
       "overflow": null,
       "padding": null,
       "right": null,
       "top": null,
       "visibility": null,
       "width": null
      }
     },
     "4e85e957b84741aea3b3519e20977ecc": {
      "model_module": "@jupyter-widgets/output",
      "model_module_version": "1.0.0",
      "model_name": "OutputModel",
      "state": {
       "_dom_classes": [],
       "_model_module": "@jupyter-widgets/output",
       "_model_module_version": "1.0.0",
       "_model_name": "OutputModel",
       "_view_count": null,
       "_view_module": "@jupyter-widgets/output",
       "_view_module_version": "1.0.0",
       "_view_name": "OutputView",
       "layout": "IPY_MODEL_5a68d801ff6941bf98994b5ffa5658ad",
       "msg_id": "",
       "outputs": [
        {
         "data": {
          "text/markdown": "`ctrl_add_or_sub_unsigned`",
          "text/plain": "<IPython.core.display.Markdown object>"
         },
         "metadata": {},
         "output_type": "display_data"
        },
        {
         "data": {
          "image/svg+xml": "<svg xmlns=\"http://www.w3.org/2000/svg\" xmlns:xlink=\"http://www.w3.org/1999/xlink\" width=\"303pt\" height=\"152pt\" viewBox=\"0.00 0.00 303.00 152.00\">\n<g id=\"graph0\" class=\"graph\" transform=\"scale(1 1) rotate(0) translate(4 148)\">\n<title>my_graph</title>\n<polygon fill=\"white\" stroke=\"transparent\" points=\"-4,4 -4,-148 299,-148 299,4 -4,4\"/>\n<!-- ctrl_G4 -->\n<g id=\"node1\" class=\"node\">\n<title>ctrl_G4</title>\n<text text-anchor=\"middle\" x=\"27\" y=\"-122.3\" font-family=\"Times,serif\" font-size=\"14.00\">ctrl</text>\n</g>\n<!-- ControlledAddOrSubtract -->\n<g id=\"node4\" class=\"node\">\n<title>ControlledAddOrSubtract</title>\n<polygon fill=\"none\" stroke=\"black\" points=\"91.5,-104 91.5,-121 204.5,-121 204.5,-104 91.5,-104\"/>\n<text text-anchor=\"start\" x=\"94.5\" y=\"-110\" font-family=\"Times,serif\" font-size=\"10.00\">ControlledAddOrSubtract</text>\n<polygon fill=\"none\" stroke=\"black\" points=\"91.5,-83 91.5,-104 204.5,-104 204.5,-83 91.5,-83\"/>\n<text text-anchor=\"start\" x=\"138.5\" y=\"-89.8\" font-family=\"Times,serif\" font-size=\"14.00\">ctrl</text>\n<polygon fill=\"none\" stroke=\"black\" points=\"91.5,-62 91.5,-83 204.5,-83 204.5,-62 91.5,-62\"/>\n<text text-anchor=\"start\" x=\"144.5\" y=\"-68.8\" font-family=\"Times,serif\" font-size=\"14.00\">a</text>\n<polygon fill=\"none\" stroke=\"black\" points=\"91.5,-41 91.5,-62 204.5,-62 204.5,-41 91.5,-41\"/>\n<text text-anchor=\"start\" x=\"144.5\" y=\"-47.8\" font-family=\"Times,serif\" font-size=\"14.00\">b</text>\n</g>\n<!-- ctrl_G4&#45;&gt;ControlledAddOrSubtract -->\n<g id=\"edge1\" class=\"edge\">\n<title>ctrl_G4:e-&gt;ControlledAddOrSubtract:w</title>\n<path fill=\"none\" stroke=\"black\" d=\"M54,-126C74.89,-126 69.72,-96.45 88.58,-94.14\"/>\n<ellipse fill=\"black\" stroke=\"black\" cx=\"90\" cy=\"-94.06\" rx=\"1\" ry=\"1\"/>\n<text text-anchor=\"middle\" x=\"72.5\" y=\"-113\" font-family=\"Times,serif\" font-size=\"10.00\">1</text>\n</g>\n<!-- a_G5 -->\n<g id=\"node2\" class=\"node\">\n<title>a_G5</title>\n<text text-anchor=\"middle\" x=\"27\" y=\"-68.3\" font-family=\"Times,serif\" font-size=\"14.00\">a</text>\n</g>\n<!-- a_G5&#45;&gt;ControlledAddOrSubtract -->\n<g id=\"edge2\" class=\"edge\">\n<title>a_G5:e-&gt;ControlledAddOrSubtract:w</title>\n<path fill=\"none\" stroke=\"black\" d=\"M54,-72C69.67,-72 74.14,-72 88.77,-72\"/>\n<ellipse fill=\"black\" stroke=\"black\" cx=\"90\" cy=\"-72\" rx=\"1\" ry=\"1\"/>\n<text text-anchor=\"middle\" x=\"72.5\" y=\"-75\" font-family=\"Times,serif\" font-size=\"10.00\">8</text>\n</g>\n<!-- b_G1 -->\n<g id=\"node3\" class=\"node\">\n<title>b_G1</title>\n<text text-anchor=\"middle\" x=\"27\" y=\"-14.3\" font-family=\"Times,serif\" font-size=\"14.00\">b</text>\n</g>\n<!-- b_G1&#45;&gt;ControlledAddOrSubtract -->\n<g id=\"edge3\" class=\"edge\">\n<title>b_G1:e-&gt;ControlledAddOrSubtract:w</title>\n<path fill=\"none\" stroke=\"black\" d=\"M54,-18C75.17,-18 69.47,-48.47 88.55,-50.85\"/>\n<ellipse fill=\"black\" stroke=\"black\" cx=\"90\" cy=\"-50.94\" rx=\"1\" ry=\"1\"/>\n<text text-anchor=\"middle\" x=\"72.5\" y=\"-39\" font-family=\"Times,serif\" font-size=\"10.00\">8</text>\n</g>\n<!-- ctrl_G6 -->\n<g id=\"node5\" class=\"node\">\n<title>ctrl_G6</title>\n<text text-anchor=\"middle\" x=\"268\" y=\"-122.3\" font-family=\"Times,serif\" font-size=\"14.00\">ctrl</text>\n</g>\n<!-- ControlledAddOrSubtract&#45;&gt;ctrl_G6 -->\n<g id=\"edge4\" class=\"edge\">\n<title>ControlledAddOrSubtract:e-&gt;ctrl_G6:w</title>\n<path fill=\"none\" stroke=\"black\" d=\"M204,-94C224.89,-94 219.72,-123.55 238.58,-125.86\"/>\n<ellipse fill=\"black\" stroke=\"black\" cx=\"240\" cy=\"-125.94\" rx=\"1\" ry=\"1\"/>\n<text text-anchor=\"middle\" x=\"222.5\" y=\"-113\" font-family=\"Times,serif\" font-size=\"10.00\">1</text>\n</g>\n<!-- a_G0 -->\n<g id=\"node6\" class=\"node\">\n<title>a_G0</title>\n<text text-anchor=\"middle\" x=\"268\" y=\"-68.3\" font-family=\"Times,serif\" font-size=\"14.00\">a</text>\n</g>\n<!-- ControlledAddOrSubtract&#45;&gt;a_G0 -->\n<g id=\"edge5\" class=\"edge\">\n<title>ControlledAddOrSubtract:e-&gt;a_G0:w</title>\n<path fill=\"none\" stroke=\"black\" d=\"M204,-72C219.67,-72 224.14,-72 238.77,-72\"/>\n<ellipse fill=\"black\" stroke=\"black\" cx=\"240\" cy=\"-72\" rx=\"1\" ry=\"1\"/>\n<text text-anchor=\"middle\" x=\"222.5\" y=\"-75\" font-family=\"Times,serif\" font-size=\"10.00\">8</text>\n</g>\n<!-- b_G7 -->\n<g id=\"node7\" class=\"node\">\n<title>b_G7</title>\n<text text-anchor=\"middle\" x=\"268\" y=\"-14.3\" font-family=\"Times,serif\" font-size=\"14.00\">b</text>\n</g>\n<!-- ControlledAddOrSubtract&#45;&gt;b_G7 -->\n<g id=\"edge6\" class=\"edge\">\n<title>ControlledAddOrSubtract:e-&gt;b_G7:w</title>\n<path fill=\"none\" stroke=\"black\" d=\"M204,-51C225.17,-51 219.47,-20.53 238.55,-18.15\"/>\n<ellipse fill=\"black\" stroke=\"black\" cx=\"240\" cy=\"-18.06\" rx=\"1\" ry=\"1\"/>\n<text text-anchor=\"middle\" x=\"222.5\" y=\"-39\" font-family=\"Times,serif\" font-size=\"10.00\">8</text>\n</g>\n</g>\n</svg>",
          "text/plain": "<IPython.core.display.SVG object>"
         },
         "metadata": {},
         "output_type": "display_data"
        }
       ],
       "tabbable": null,
       "tooltip": null
      }
     },
     "5a68d801ff6941bf98994b5ffa5658ad": {
      "model_module": "@jupyter-widgets/base",
      "model_module_version": "2.0.0",
      "model_name": "LayoutModel",
      "state": {
       "_model_module": "@jupyter-widgets/base",
       "_model_module_version": "2.0.0",
       "_model_name": "LayoutModel",
       "_view_count": null,
       "_view_module": "@jupyter-widgets/base",
       "_view_module_version": "2.0.0",
       "_view_name": "LayoutView",
       "align_content": null,
       "align_items": null,
       "align_self": null,
       "border_bottom": null,
       "border_left": null,
       "border_right": null,
       "border_top": null,
       "bottom": null,
       "display": null,
       "flex": null,
       "flex_flow": null,
       "grid_area": null,
       "grid_auto_columns": null,
       "grid_auto_flow": null,
       "grid_auto_rows": null,
       "grid_column": null,
       "grid_gap": null,
       "grid_row": null,
       "grid_template_areas": null,
       "grid_template_columns": null,
       "grid_template_rows": null,
       "height": null,
       "justify_content": null,
       "justify_items": null,
       "left": null,
       "margin": null,
       "max_height": null,
       "max_width": null,
       "min_height": null,
       "min_width": null,
       "object_fit": null,
       "object_position": null,
       "order": null,
       "overflow": null,
       "padding": null,
       "right": null,
       "top": null,
       "visibility": null,
       "width": null
      }
     },
     "5e3c392558cb4b619fe117078e4b8c9d": {
      "model_module": "@jupyter-widgets/base",
      "model_module_version": "2.0.0",
      "model_name": "LayoutModel",
      "state": {
       "_model_module": "@jupyter-widgets/base",
       "_model_module_version": "2.0.0",
       "_model_name": "LayoutModel",
       "_view_count": null,
       "_view_module": "@jupyter-widgets/base",
       "_view_module_version": "2.0.0",
       "_view_name": "LayoutView",
       "align_content": null,
       "align_items": null,
       "align_self": null,
       "border_bottom": null,
       "border_left": null,
       "border_right": null,
       "border_top": null,
       "bottom": null,
       "display": null,
       "flex": null,
       "flex_flow": null,
       "grid_area": null,
       "grid_auto_columns": null,
       "grid_auto_flow": null,
       "grid_auto_rows": null,
       "grid_column": null,
       "grid_gap": null,
       "grid_row": null,
       "grid_template_areas": null,
       "grid_template_columns": null,
       "grid_template_rows": null,
       "height": null,
       "justify_content": null,
       "justify_items": null,
       "left": null,
       "margin": null,
       "max_height": null,
       "max_width": null,
       "min_height": null,
       "min_width": null,
       "object_fit": null,
       "object_position": null,
       "order": null,
       "overflow": null,
       "padding": null,
       "right": null,
       "top": null,
       "visibility": null,
       "width": null
      }
     },
     "72dbc87ef1074ccc8b164660fd7ab7b8": {
      "model_module": "@jupyter-widgets/controls",
      "model_module_version": "2.0.0",
      "model_name": "HBoxModel",
      "state": {
       "_dom_classes": [],
       "_model_module": "@jupyter-widgets/controls",
       "_model_module_version": "2.0.0",
       "_model_name": "HBoxModel",
       "_view_count": null,
       "_view_module": "@jupyter-widgets/controls",
       "_view_module_version": "2.0.0",
       "_view_name": "HBoxView",
       "box_style": "",
       "children": [
        "IPY_MODEL_ce8b1b4217914655b3582b1a15893e22",
        "IPY_MODEL_4e85e957b84741aea3b3519e20977ecc",
        "IPY_MODEL_2975b1c4ae4f4052b3a70db5bcffae1b"
       ],
       "layout": "IPY_MODEL_5e3c392558cb4b619fe117078e4b8c9d",
       "tabbable": null,
       "tooltip": null
      }
     },
     "b56e61e0ffd549e9ad1548dc022f591a": {
      "model_module": "@jupyter-widgets/base",
      "model_module_version": "2.0.0",
      "model_name": "LayoutModel",
      "state": {
       "_model_module": "@jupyter-widgets/base",
       "_model_module_version": "2.0.0",
       "_model_name": "LayoutModel",
       "_view_count": null,
       "_view_module": "@jupyter-widgets/base",
       "_view_module_version": "2.0.0",
       "_view_name": "LayoutView",
       "align_content": null,
       "align_items": null,
       "align_self": null,
       "border_bottom": null,
       "border_left": null,
       "border_right": null,
       "border_top": null,
       "bottom": null,
       "display": null,
       "flex": null,
       "flex_flow": null,
       "grid_area": null,
       "grid_auto_columns": null,
       "grid_auto_flow": null,
       "grid_auto_rows": null,
       "grid_column": null,
       "grid_gap": null,
       "grid_row": null,
       "grid_template_areas": null,
       "grid_template_columns": null,
       "grid_template_rows": null,
       "height": null,
       "justify_content": null,
       "justify_items": null,
       "left": null,
       "margin": null,
       "max_height": null,
       "max_width": null,
       "min_height": null,
       "min_width": null,
       "object_fit": null,
       "object_position": null,
       "order": null,
       "overflow": null,
       "padding": null,
       "right": null,
       "top": null,
       "visibility": null,
       "width": null
      }
     },
     "ce8b1b4217914655b3582b1a15893e22": {
      "model_module": "@jupyter-widgets/output",
      "model_module_version": "1.0.0",
      "model_name": "OutputModel",
      "state": {
       "_dom_classes": [],
       "_model_module": "@jupyter-widgets/output",
       "_model_module_version": "1.0.0",
       "_model_name": "OutputModel",
       "_view_count": null,
       "_view_module": "@jupyter-widgets/output",
       "_view_module_version": "1.0.0",
       "_view_name": "OutputView",
       "layout": "IPY_MODEL_b56e61e0ffd549e9ad1548dc022f591a",
       "msg_id": "",
       "outputs": [
        {
         "data": {
          "text/markdown": "`ctrl_add_or_sub_signed_symb`",
          "text/plain": "<IPython.core.display.Markdown object>"
         },
         "metadata": {},
         "output_type": "display_data"
        },
        {
         "data": {
          "image/svg+xml": "<svg xmlns=\"http://www.w3.org/2000/svg\" xmlns:xlink=\"http://www.w3.org/1999/xlink\" width=\"303pt\" height=\"152pt\" viewBox=\"0.00 0.00 303.00 152.00\">\n<g id=\"graph0\" class=\"graph\" transform=\"scale(1 1) rotate(0) translate(4 148)\">\n<title>my_graph</title>\n<polygon fill=\"white\" stroke=\"transparent\" points=\"-4,4 -4,-148 299,-148 299,4 -4,4\"/>\n<!-- ctrl_G3 -->\n<g id=\"node1\" class=\"node\">\n<title>ctrl_G3</title>\n<text text-anchor=\"middle\" x=\"27\" y=\"-122.3\" font-family=\"Times,serif\" font-size=\"14.00\">ctrl</text>\n</g>\n<!-- ControlledAddOrSubtract -->\n<g id=\"node4\" class=\"node\">\n<title>ControlledAddOrSubtract</title>\n<polygon fill=\"none\" stroke=\"black\" points=\"91.5,-104 91.5,-121 204.5,-121 204.5,-104 91.5,-104\"/>\n<text text-anchor=\"start\" x=\"94.5\" y=\"-110\" font-family=\"Times,serif\" font-size=\"10.00\">ControlledAddOrSubtract</text>\n<polygon fill=\"none\" stroke=\"black\" points=\"91.5,-83 91.5,-104 204.5,-104 204.5,-83 91.5,-83\"/>\n<text text-anchor=\"start\" x=\"138.5\" y=\"-89.8\" font-family=\"Times,serif\" font-size=\"14.00\">ctrl</text>\n<polygon fill=\"none\" stroke=\"black\" points=\"91.5,-62 91.5,-83 204.5,-83 204.5,-62 91.5,-62\"/>\n<text text-anchor=\"start\" x=\"144.5\" y=\"-68.8\" font-family=\"Times,serif\" font-size=\"14.00\">a</text>\n<polygon fill=\"none\" stroke=\"black\" points=\"91.5,-41 91.5,-62 204.5,-62 204.5,-41 91.5,-41\"/>\n<text text-anchor=\"start\" x=\"144.5\" y=\"-47.8\" font-family=\"Times,serif\" font-size=\"14.00\">b</text>\n</g>\n<!-- ctrl_G3&#45;&gt;ControlledAddOrSubtract -->\n<g id=\"edge1\" class=\"edge\">\n<title>ctrl_G3:e-&gt;ControlledAddOrSubtract:w</title>\n<path fill=\"none\" stroke=\"black\" d=\"M54,-126C74.89,-126 69.72,-96.45 88.58,-94.14\"/>\n<ellipse fill=\"black\" stroke=\"black\" cx=\"90\" cy=\"-94.06\" rx=\"1\" ry=\"1\"/>\n<text text-anchor=\"middle\" x=\"72.5\" y=\"-113\" font-family=\"Times,serif\" font-size=\"10.00\">1</text>\n</g>\n<!-- a_G7 -->\n<g id=\"node2\" class=\"node\">\n<title>a_G7</title>\n<text text-anchor=\"middle\" x=\"27\" y=\"-68.3\" font-family=\"Times,serif\" font-size=\"14.00\">a</text>\n</g>\n<!-- a_G7&#45;&gt;ControlledAddOrSubtract -->\n<g id=\"edge2\" class=\"edge\">\n<title>a_G7:e-&gt;ControlledAddOrSubtract:w</title>\n<path fill=\"none\" stroke=\"black\" d=\"M54,-72C69.67,-72 74.14,-72 88.77,-72\"/>\n<ellipse fill=\"black\" stroke=\"black\" cx=\"90\" cy=\"-72\" rx=\"1\" ry=\"1\"/>\n<text text-anchor=\"middle\" x=\"72.5\" y=\"-75\" font-family=\"Times,serif\" font-size=\"10.00\">n</text>\n</g>\n<!-- b_G1 -->\n<g id=\"node3\" class=\"node\">\n<title>b_G1</title>\n<text text-anchor=\"middle\" x=\"27\" y=\"-14.3\" font-family=\"Times,serif\" font-size=\"14.00\">b</text>\n</g>\n<!-- b_G1&#45;&gt;ControlledAddOrSubtract -->\n<g id=\"edge3\" class=\"edge\">\n<title>b_G1:e-&gt;ControlledAddOrSubtract:w</title>\n<path fill=\"none\" stroke=\"black\" d=\"M54,-18C75.17,-18 69.47,-48.47 88.55,-50.85\"/>\n<ellipse fill=\"black\" stroke=\"black\" cx=\"90\" cy=\"-50.94\" rx=\"1\" ry=\"1\"/>\n<text text-anchor=\"middle\" x=\"72.5\" y=\"-39\" font-family=\"Times,serif\" font-size=\"10.00\">n</text>\n</g>\n<!-- ctrl_G6 -->\n<g id=\"node5\" class=\"node\">\n<title>ctrl_G6</title>\n<text text-anchor=\"middle\" x=\"268\" y=\"-122.3\" font-family=\"Times,serif\" font-size=\"14.00\">ctrl</text>\n</g>\n<!-- ControlledAddOrSubtract&#45;&gt;ctrl_G6 -->\n<g id=\"edge4\" class=\"edge\">\n<title>ControlledAddOrSubtract:e-&gt;ctrl_G6:w</title>\n<path fill=\"none\" stroke=\"black\" d=\"M204,-94C224.89,-94 219.72,-123.55 238.58,-125.86\"/>\n<ellipse fill=\"black\" stroke=\"black\" cx=\"240\" cy=\"-125.94\" rx=\"1\" ry=\"1\"/>\n<text text-anchor=\"middle\" x=\"222.5\" y=\"-113\" font-family=\"Times,serif\" font-size=\"10.00\">1</text>\n</g>\n<!-- a_G0 -->\n<g id=\"node6\" class=\"node\">\n<title>a_G0</title>\n<text text-anchor=\"middle\" x=\"268\" y=\"-68.3\" font-family=\"Times,serif\" font-size=\"14.00\">a</text>\n</g>\n<!-- ControlledAddOrSubtract&#45;&gt;a_G0 -->\n<g id=\"edge5\" class=\"edge\">\n<title>ControlledAddOrSubtract:e-&gt;a_G0:w</title>\n<path fill=\"none\" stroke=\"black\" d=\"M204,-72C219.67,-72 224.14,-72 238.77,-72\"/>\n<ellipse fill=\"black\" stroke=\"black\" cx=\"240\" cy=\"-72\" rx=\"1\" ry=\"1\"/>\n<text text-anchor=\"middle\" x=\"222.5\" y=\"-75\" font-family=\"Times,serif\" font-size=\"10.00\">n</text>\n</g>\n<!-- b_G4 -->\n<g id=\"node7\" class=\"node\">\n<title>b_G4</title>\n<text text-anchor=\"middle\" x=\"268\" y=\"-14.3\" font-family=\"Times,serif\" font-size=\"14.00\">b</text>\n</g>\n<!-- ControlledAddOrSubtract&#45;&gt;b_G4 -->\n<g id=\"edge6\" class=\"edge\">\n<title>ControlledAddOrSubtract:e-&gt;b_G4:w</title>\n<path fill=\"none\" stroke=\"black\" d=\"M204,-51C225.17,-51 219.47,-20.53 238.55,-18.15\"/>\n<ellipse fill=\"black\" stroke=\"black\" cx=\"240\" cy=\"-18.06\" rx=\"1\" ry=\"1\"/>\n<text text-anchor=\"middle\" x=\"222.5\" y=\"-39\" font-family=\"Times,serif\" font-size=\"10.00\">n</text>\n</g>\n</g>\n</svg>",
          "text/plain": "<IPython.core.display.SVG object>"
         },
         "metadata": {},
         "output_type": "display_data"
        }
       ],
       "tabbable": null,
       "tooltip": null
      }
     }
    },
    "version_major": 2,
    "version_minor": 0
   }
  }
 },
 "nbformat": 4,
 "nbformat_minor": 5
}
