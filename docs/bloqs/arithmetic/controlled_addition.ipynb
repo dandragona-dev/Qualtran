{
 "cells": [
  {
   "cell_type": "markdown",
   "id": "064ac84d",
   "metadata": {
    "cq.autogen": "title_cell"
   },
   "source": [
    "# Controlled Addition"
   ]
  },
  {
   "cell_type": "code",
   "execution_count": 1,
   "id": "a283d3fb",
   "metadata": {
    "cq.autogen": "top_imports"
   },
   "outputs": [],
   "source": [
    "from qualtran import Bloq, CompositeBloq, BloqBuilder, Signature, Register\n",
    "from qualtran import QBit, QInt, QUInt, QAny\n",
    "from qualtran.drawing import show_bloq, show_call_graph, show_counts_sigma\n",
    "from typing import *\n",
    "import numpy as np\n",
    "import sympy\n",
    "import cirq"
   ]
  },
  {
   "cell_type": "markdown",
   "id": "d85b6f41",
   "metadata": {
    "cq.autogen": "CAdd.bloq_doc.md"
   },
   "source": [
    "## `CAdd`\n",
    "An n-bit controlled-addition gate.\n",
    "\n",
    "#### Parameters\n",
    " - `a_dtype`: Quantum datatype used to represent the integer a.\n",
    " - `b_dtype`: Quantum datatype used to represent the integer b. Must be large enough to hold the result in the output register of a + b, or else it simply drops the most significant bits. If not specified, b_dtype is set to a_dtype.\n",
    " - `cv`: When controlled=0, this bloq is active when the ctrl register is 0. When controlled=1, this bloq is active when the ctrl register is 1. \n",
    "\n",
    "#### Registers\n",
    " - `ctrl`: the control bit for the addition\n",
    " - `a`: A a_dtype.bitsize-sized input register (register a above).\n",
    " - `b`: A b_dtype.bitsize-sized input/output register (register b above). \n",
    "\n",
    "#### References\n",
    " - [Halving the cost of quantum addition](https://arxiv.org/abs/1709.06648). \n"
   ]
  },
  {
   "cell_type": "code",
   "execution_count": 2,
   "id": "1e441ac2",
   "metadata": {
    "cq.autogen": "CAdd.bloq_doc.py"
   },
   "outputs": [],
   "source": [
    "from qualtran.bloqs.arithmetic import CAdd"
   ]
  },
  {
   "cell_type": "markdown",
   "id": "801cf1e1",
   "metadata": {
    "cq.autogen": "CAdd.example_instances.md"
   },
   "source": [
    "### Example Instances"
   ]
  },
  {
   "cell_type": "code",
   "execution_count": 3,
   "id": "854ba572",
   "metadata": {
    "cq.autogen": "CAdd.cadd_small"
   },
   "outputs": [],
   "source": [
    "cadd_small = CAdd(QUInt(3))"
   ]
  },
  {
   "cell_type": "code",
   "execution_count": 4,
   "id": "0a4d89b2",
   "metadata": {
    "cq.autogen": "CAdd.cadd_large"
   },
   "outputs": [],
   "source": [
    "cadd_large = CAdd(QUInt(1000), QUInt(1000))"
   ]
  },
  {
   "cell_type": "markdown",
   "id": "25c1ed97",
   "metadata": {
    "cq.autogen": "CAdd.graphical_signature.md"
   },
   "source": [
    "#### Graphical Signature"
   ]
  },
  {
   "cell_type": "code",
   "execution_count": 5,
   "id": "03b6c6a6",
   "metadata": {
    "cq.autogen": "CAdd.graphical_signature.py"
   },
   "outputs": [
    {
     "data": {
      "application/vnd.jupyter.widget-view+json": {
       "model_id": "b8802bf1894545888fcbee7cfccdb244",
       "version_major": 2,
       "version_minor": 0
      },
      "text/plain": [
       "HBox(children=(Output(outputs=({'output_type': 'display_data', 'data': {'text/plain': '<IPython.core.display.M…"
      ]
     },
     "metadata": {},
     "output_type": "display_data"
    }
   ],
   "source": [
    "from qualtran.drawing import show_bloqs\n",
    "show_bloqs([cadd_small, cadd_large],\n",
    "           ['`cadd_small`', '`cadd_large`'])"
   ]
  },
  {
   "cell_type": "markdown",
   "id": "3bd7842e",
   "metadata": {
    "cq.autogen": "CAdd.call_graph.md"
   },
   "source": [
    "### Call Graph"
   ]
  },
  {
   "cell_type": "code",
   "execution_count": 6,
   "id": "80c50e8b",
   "metadata": {
    "cq.autogen": "CAdd.call_graph.py"
   },
   "outputs": [
    {
     "data": {
      "image/svg+xml": [
       "<svg xmlns=\"http://www.w3.org/2000/svg\" xmlns:xlink=\"http://www.w3.org/1999/xlink\" width=\"689pt\" height=\"131pt\" viewBox=\"0.00 0.00 689.00 131.00\">\n",
       "<g id=\"graph0\" class=\"graph\" transform=\"scale(1 1) rotate(0) translate(4 127)\">\n",
       "<title>counts</title>\n",
       "<polygon fill=\"white\" stroke=\"transparent\" points=\"-4,4 -4,-127 685,-127 685,4 -4,4\"/>\n",
       "<!-- b0 -->\n",
       "<g id=\"node1\" class=\"node\">\n",
       "<title>b0</title>\n",
       "<polygon fill=\"none\" stroke=\"black\" points=\"496,-123 191,-123 191,-87 496,-87 496,-123\"/>\n",
       "<text text-anchor=\"start\" x=\"327\" y=\"-106.8\" font-family=\"Times,serif\" font-size=\"14.00\">CAdd</text>\n",
       "<text text-anchor=\"start\" x=\"199\" y=\"-96\" font-family=\"monospace\" font-size=\"10.00\">a_dtype=QUInt(bi ..., b_dtype=QUInt(bi ..., cv=1</text>\n",
       "</g>\n",
       "<!-- b1 -->\n",
       "<g id=\"node2\" class=\"node\">\n",
       "<title>b1</title>\n",
       "<polygon fill=\"none\" stroke=\"black\" points=\"191,-36 0,-36 0,0 191,0 191,-36\"/>\n",
       "<text text-anchor=\"start\" x=\"83.5\" y=\"-19.8\" font-family=\"Times,serif\" font-size=\"14.00\">And</text>\n",
       "<text text-anchor=\"start\" x=\"8\" y=\"-9\" font-family=\"monospace\" font-size=\"10.00\">cv1=1, cv2=1, uncompute=False</text>\n",
       "</g>\n",
       "<!-- b0&#45;&gt;b1 -->\n",
       "<g id=\"edge1\" class=\"edge\">\n",
       "<title>b0-&gt;b1</title>\n",
       "<path fill=\"none\" stroke=\"black\" d=\"M293.61,-86.9C253.59,-73.18 197.29,-53.89 154.94,-39.37\"/>\n",
       "<polygon fill=\"black\" stroke=\"black\" points=\"155.9,-36 145.31,-36.07 153.63,-42.62 155.9,-36\"/>\n",
       "<text text-anchor=\"middle\" x=\"238\" y=\"-57.8\" font-family=\"Times,serif\" font-size=\"14.00\">3</text>\n",
       "</g>\n",
       "<!-- b2 -->\n",
       "<g id=\"node3\" class=\"node\">\n",
       "<title>b2</title>\n",
       "<polygon fill=\"none\" stroke=\"black\" points=\"478,-36 209,-36 209,0 478,0 478,-36\"/>\n",
       "<text text-anchor=\"start\" x=\"331.5\" y=\"-19.8\" font-family=\"Times,serif\" font-size=\"14.00\">Add</text>\n",
       "<text text-anchor=\"start\" x=\"217\" y=\"-9\" font-family=\"monospace\" font-size=\"10.00\">a_dtype=QUInt(bi ..., b_dtype=QUInt(bi ...</text>\n",
       "</g>\n",
       "<!-- b0&#45;&gt;b2 -->\n",
       "<g id=\"edge2\" class=\"edge\">\n",
       "<title>b0-&gt;b2</title>\n",
       "<path fill=\"none\" stroke=\"black\" d=\"M343.5,-86.8C343.5,-75.16 343.5,-59.55 343.5,-46.24\"/>\n",
       "<polygon fill=\"black\" stroke=\"black\" points=\"347,-46.18 343.5,-36.18 340,-46.18 347,-46.18\"/>\n",
       "<text text-anchor=\"middle\" x=\"347\" y=\"-57.8\" font-family=\"Times,serif\" font-size=\"14.00\">1</text>\n",
       "</g>\n",
       "<!-- b3 -->\n",
       "<g id=\"node4\" class=\"node\">\n",
       "<title>b3</title>\n",
       "<polygon fill=\"none\" stroke=\"black\" points=\"681,-36 496,-36 496,0 681,0 681,-36\"/>\n",
       "<text text-anchor=\"start\" x=\"573\" y=\"-19.8\" font-family=\"Times,serif\" font-size=\"14.00\">And†</text>\n",
       "<text text-anchor=\"start\" x=\"504\" y=\"-9\" font-family=\"monospace\" font-size=\"10.00\">cv1=1, cv2=1, uncompute=True</text>\n",
       "</g>\n",
       "<!-- b0&#45;&gt;b3 -->\n",
       "<g id=\"edge3\" class=\"edge\">\n",
       "<title>b0-&gt;b3</title>\n",
       "<path fill=\"none\" stroke=\"black\" d=\"M392.78,-86.9C432.32,-73.18 487.94,-53.89 529.78,-39.37\"/>\n",
       "<polygon fill=\"black\" stroke=\"black\" points=\"530.99,-42.66 539.29,-36.07 528.7,-36.04 530.99,-42.66\"/>\n",
       "<text text-anchor=\"middle\" x=\"485\" y=\"-57.8\" font-family=\"Times,serif\" font-size=\"14.00\">3</text>\n",
       "</g>\n",
       "</g>\n",
       "</svg>"
      ],
      "text/plain": [
       "<IPython.core.display.SVG object>"
      ]
     },
     "metadata": {},
     "output_type": "display_data"
    },
    {
     "data": {
      "text/markdown": [
       "#### Counts totals:\n",
       " - `Add`: 1\n",
       " - `And`: 3\n",
       " - `And†`: 3"
      ],
      "text/plain": [
       "<IPython.core.display.Markdown object>"
      ]
     },
     "metadata": {},
     "output_type": "display_data"
    }
   ],
   "source": [
    "from qualtran.resource_counting.generalizers import ignore_split_join\n",
    "cadd_small_g, cadd_small_sigma = cadd_small.call_graph(max_depth=1, generalizer=ignore_split_join)\n",
    "show_call_graph(cadd_small_g)\n",
    "show_counts_sigma(cadd_small_sigma)"
   ]
  }
 ],
 "metadata": {
  "kernelspec": {
   "display_name": "Python 3",
   "language": "python",
   "name": "python3"
  },
  "language_info": {
   "codemirror_mode": {
    "name": "ipython",
    "version": 3
   },
   "file_extension": ".py",
   "mimetype": "text/x-python",
   "name": "python",
   "nbconvert_exporter": "python",
   "pygments_lexer": "ipython3",
   "version": "3.11.8"
  },
  "widgets": {
   "application/vnd.jupyter.widget-state+json": {
    "state": {
     "0335f434e7b04fa287bff4796f9c5975": {
      "model_module": "@jupyter-widgets/output",
      "model_module_version": "1.0.0",
      "model_name": "OutputModel",
      "state": {
       "_dom_classes": [],
       "_model_module": "@jupyter-widgets/output",
       "_model_module_version": "1.0.0",
       "_model_name": "OutputModel",
       "_view_count": null,
       "_view_module": "@jupyter-widgets/output",
       "_view_module_version": "1.0.0",
       "_view_name": "OutputView",
       "layout": "IPY_MODEL_f5b2cd6f415446e5bc0ef5d5be4bab86",
       "msg_id": "",
       "outputs": [
        {
         "data": {
          "text/markdown": "`cadd_large`",
          "text/plain": "<IPython.core.display.Markdown object>"
         },
         "metadata": {},
         "output_type": "display_data"
        },
        {
         "data": {
          "image/svg+xml": "<svg xmlns=\"http://www.w3.org/2000/svg\" xmlns:xlink=\"http://www.w3.org/1999/xlink\" width=\"221pt\" height=\"152pt\" viewBox=\"0.00 0.00 221.00 152.00\">\n<g id=\"graph0\" class=\"graph\" transform=\"scale(1 1) rotate(0) translate(4 148)\">\n<title>my_graph</title>\n<polygon fill=\"white\" stroke=\"transparent\" points=\"-4,4 -4,-148 217,-148 217,4 -4,4\"/>\n<!-- ctrl_G5 -->\n<g id=\"node1\" class=\"node\">\n<title>ctrl_G5</title>\n<text text-anchor=\"middle\" x=\"27\" y=\"-122.3\" font-family=\"Times,serif\" font-size=\"14.00\">ctrl</text>\n</g>\n<!-- CAdd -->\n<g id=\"node4\" class=\"node\">\n<title>CAdd</title>\n<polygon fill=\"none\" stroke=\"black\" points=\"91.5,-104 91.5,-121 122.5,-121 122.5,-104 91.5,-104\"/>\n<text text-anchor=\"start\" x=\"94.5\" y=\"-110\" font-family=\"Times,serif\" font-size=\"10.00\">CAdd</text>\n<polygon fill=\"none\" stroke=\"black\" points=\"91.5,-83 91.5,-104 122.5,-104 122.5,-83 91.5,-83\"/>\n<text text-anchor=\"start\" x=\"97.5\" y=\"-89.8\" font-family=\"Times,serif\" font-size=\"14.00\">ctrl</text>\n<polygon fill=\"none\" stroke=\"black\" points=\"91.5,-62 91.5,-83 122.5,-83 122.5,-62 91.5,-62\"/>\n<text text-anchor=\"start\" x=\"103.5\" y=\"-68.8\" font-family=\"Times,serif\" font-size=\"14.00\">a</text>\n<polygon fill=\"none\" stroke=\"black\" points=\"91.5,-41 91.5,-62 122.5,-62 122.5,-41 91.5,-41\"/>\n<text text-anchor=\"start\" x=\"103.5\" y=\"-47.8\" font-family=\"Times,serif\" font-size=\"14.00\">b</text>\n</g>\n<!-- ctrl_G5&#45;&gt;CAdd -->\n<g id=\"edge1\" class=\"edge\">\n<title>ctrl_G5:e-&gt;CAdd:w</title>\n<path fill=\"none\" stroke=\"black\" d=\"M54,-126C74.89,-126 69.72,-96.45 88.58,-94.14\"/>\n<ellipse fill=\"black\" stroke=\"black\" cx=\"90\" cy=\"-94.06\" rx=\"1\" ry=\"1\"/>\n<text text-anchor=\"middle\" x=\"72.5\" y=\"-113\" font-family=\"Times,serif\" font-size=\"10.00\">1</text>\n</g>\n<!-- a_G8 -->\n<g id=\"node2\" class=\"node\">\n<title>a_G8</title>\n<text text-anchor=\"middle\" x=\"27\" y=\"-68.3\" font-family=\"Times,serif\" font-size=\"14.00\">a</text>\n</g>\n<!-- a_G8&#45;&gt;CAdd -->\n<g id=\"edge2\" class=\"edge\">\n<title>a_G8:e-&gt;CAdd:w</title>\n<path fill=\"none\" stroke=\"black\" d=\"M54,-72C69.67,-72 74.14,-72 88.77,-72\"/>\n<ellipse fill=\"black\" stroke=\"black\" cx=\"90\" cy=\"-72\" rx=\"1\" ry=\"1\"/>\n<text text-anchor=\"middle\" x=\"72.5\" y=\"-75\" font-family=\"Times,serif\" font-size=\"10.00\">1000</text>\n</g>\n<!-- b_G1 -->\n<g id=\"node3\" class=\"node\">\n<title>b_G1</title>\n<text text-anchor=\"middle\" x=\"27\" y=\"-14.3\" font-family=\"Times,serif\" font-size=\"14.00\">b</text>\n</g>\n<!-- b_G1&#45;&gt;CAdd -->\n<g id=\"edge3\" class=\"edge\">\n<title>b_G1:e-&gt;CAdd:w</title>\n<path fill=\"none\" stroke=\"black\" d=\"M54,-18C75.17,-18 69.47,-48.47 88.55,-50.85\"/>\n<ellipse fill=\"black\" stroke=\"black\" cx=\"90\" cy=\"-50.94\" rx=\"1\" ry=\"1\"/>\n<text text-anchor=\"middle\" x=\"72.5\" y=\"-39\" font-family=\"Times,serif\" font-size=\"10.00\">1000</text>\n</g>\n<!-- ctrl_G0 -->\n<g id=\"node5\" class=\"node\">\n<title>ctrl_G0</title>\n<text text-anchor=\"middle\" x=\"186\" y=\"-122.3\" font-family=\"Times,serif\" font-size=\"14.00\">ctrl</text>\n</g>\n<!-- CAdd&#45;&gt;ctrl_G0 -->\n<g id=\"edge4\" class=\"edge\">\n<title>CAdd:e-&gt;ctrl_G0:w</title>\n<path fill=\"none\" stroke=\"black\" d=\"M122,-94C142.89,-94 137.72,-123.55 156.58,-125.86\"/>\n<ellipse fill=\"black\" stroke=\"black\" cx=\"158\" cy=\"-125.94\" rx=\"1\" ry=\"1\"/>\n<text text-anchor=\"middle\" x=\"140.5\" y=\"-113\" font-family=\"Times,serif\" font-size=\"10.00\">1</text>\n</g>\n<!-- a_G7 -->\n<g id=\"node6\" class=\"node\">\n<title>a_G7</title>\n<text text-anchor=\"middle\" x=\"186\" y=\"-68.3\" font-family=\"Times,serif\" font-size=\"14.00\">a</text>\n</g>\n<!-- CAdd&#45;&gt;a_G7 -->\n<g id=\"edge5\" class=\"edge\">\n<title>CAdd:e-&gt;a_G7:w</title>\n<path fill=\"none\" stroke=\"black\" d=\"M122,-72C137.67,-72 142.14,-72 156.77,-72\"/>\n<ellipse fill=\"black\" stroke=\"black\" cx=\"158\" cy=\"-72\" rx=\"1\" ry=\"1\"/>\n<text text-anchor=\"middle\" x=\"140.5\" y=\"-75\" font-family=\"Times,serif\" font-size=\"10.00\">1000</text>\n</g>\n<!-- b_G4 -->\n<g id=\"node7\" class=\"node\">\n<title>b_G4</title>\n<text text-anchor=\"middle\" x=\"186\" y=\"-14.3\" font-family=\"Times,serif\" font-size=\"14.00\">b</text>\n</g>\n<!-- CAdd&#45;&gt;b_G4 -->\n<g id=\"edge6\" class=\"edge\">\n<title>CAdd:e-&gt;b_G4:w</title>\n<path fill=\"none\" stroke=\"black\" d=\"M122,-51C143.17,-51 137.47,-20.53 156.55,-18.15\"/>\n<ellipse fill=\"black\" stroke=\"black\" cx=\"158\" cy=\"-18.06\" rx=\"1\" ry=\"1\"/>\n<text text-anchor=\"middle\" x=\"140.5\" y=\"-39\" font-family=\"Times,serif\" font-size=\"10.00\">1000</text>\n</g>\n</g>\n</svg>",
          "text/plain": "<IPython.core.display.SVG object>"
         },
         "metadata": {},
         "output_type": "display_data"
        }
       ],
       "tabbable": null,
       "tooltip": null
      }
     },
     "750eba06e6794c42918d3840ac211c3b": {
      "model_module": "@jupyter-widgets/base",
      "model_module_version": "2.0.0",
      "model_name": "LayoutModel",
      "state": {
       "_model_module": "@jupyter-widgets/base",
       "_model_module_version": "2.0.0",
       "_model_name": "LayoutModel",
       "_view_count": null,
       "_view_module": "@jupyter-widgets/base",
       "_view_module_version": "2.0.0",
       "_view_name": "LayoutView",
       "align_content": null,
       "align_items": null,
       "align_self": null,
       "border_bottom": null,
       "border_left": null,
       "border_right": null,
       "border_top": null,
       "bottom": null,
       "display": null,
       "flex": null,
       "flex_flow": null,
       "grid_area": null,
       "grid_auto_columns": null,
       "grid_auto_flow": null,
       "grid_auto_rows": null,
       "grid_column": null,
       "grid_gap": null,
       "grid_row": null,
       "grid_template_areas": null,
       "grid_template_columns": null,
       "grid_template_rows": null,
       "height": null,
       "justify_content": null,
       "justify_items": null,
       "left": null,
       "margin": null,
       "max_height": null,
       "max_width": null,
       "min_height": null,
       "min_width": null,
       "object_fit": null,
       "object_position": null,
       "order": null,
       "overflow": null,
       "padding": null,
       "right": null,
       "top": null,
       "visibility": null,
       "width": null
      }
     },
     "9bd740e295a94dfd81e2d2a69aa6e1b2": {
      "model_module": "@jupyter-widgets/output",
      "model_module_version": "1.0.0",
      "model_name": "OutputModel",
      "state": {
       "_dom_classes": [],
       "_model_module": "@jupyter-widgets/output",
       "_model_module_version": "1.0.0",
       "_model_name": "OutputModel",
       "_view_count": null,
       "_view_module": "@jupyter-widgets/output",
       "_view_module_version": "1.0.0",
       "_view_name": "OutputView",
       "layout": "IPY_MODEL_750eba06e6794c42918d3840ac211c3b",
       "msg_id": "",
       "outputs": [
        {
         "data": {
          "text/markdown": "`cadd_small`",
          "text/plain": "<IPython.core.display.Markdown object>"
         },
         "metadata": {},
         "output_type": "display_data"
        },
        {
         "data": {
          "image/svg+xml": "<svg xmlns=\"http://www.w3.org/2000/svg\" xmlns:xlink=\"http://www.w3.org/1999/xlink\" width=\"221pt\" height=\"152pt\" viewBox=\"0.00 0.00 221.00 152.00\">\n<g id=\"graph0\" class=\"graph\" transform=\"scale(1 1) rotate(0) translate(4 148)\">\n<title>my_graph</title>\n<polygon fill=\"white\" stroke=\"transparent\" points=\"-4,4 -4,-148 217,-148 217,4 -4,4\"/>\n<!-- ctrl_G5 -->\n<g id=\"node1\" class=\"node\">\n<title>ctrl_G5</title>\n<text text-anchor=\"middle\" x=\"27\" y=\"-122.3\" font-family=\"Times,serif\" font-size=\"14.00\">ctrl</text>\n</g>\n<!-- CAdd -->\n<g id=\"node4\" class=\"node\">\n<title>CAdd</title>\n<polygon fill=\"none\" stroke=\"black\" points=\"91.5,-104 91.5,-121 122.5,-121 122.5,-104 91.5,-104\"/>\n<text text-anchor=\"start\" x=\"94.5\" y=\"-110\" font-family=\"Times,serif\" font-size=\"10.00\">CAdd</text>\n<polygon fill=\"none\" stroke=\"black\" points=\"91.5,-83 91.5,-104 122.5,-104 122.5,-83 91.5,-83\"/>\n<text text-anchor=\"start\" x=\"97.5\" y=\"-89.8\" font-family=\"Times,serif\" font-size=\"14.00\">ctrl</text>\n<polygon fill=\"none\" stroke=\"black\" points=\"91.5,-62 91.5,-83 122.5,-83 122.5,-62 91.5,-62\"/>\n<text text-anchor=\"start\" x=\"103.5\" y=\"-68.8\" font-family=\"Times,serif\" font-size=\"14.00\">a</text>\n<polygon fill=\"none\" stroke=\"black\" points=\"91.5,-41 91.5,-62 122.5,-62 122.5,-41 91.5,-41\"/>\n<text text-anchor=\"start\" x=\"103.5\" y=\"-47.8\" font-family=\"Times,serif\" font-size=\"14.00\">b</text>\n</g>\n<!-- ctrl_G5&#45;&gt;CAdd -->\n<g id=\"edge1\" class=\"edge\">\n<title>ctrl_G5:e-&gt;CAdd:w</title>\n<path fill=\"none\" stroke=\"black\" d=\"M54,-126C74.89,-126 69.72,-96.45 88.58,-94.14\"/>\n<ellipse fill=\"black\" stroke=\"black\" cx=\"90\" cy=\"-94.06\" rx=\"1\" ry=\"1\"/>\n<text text-anchor=\"middle\" x=\"72.5\" y=\"-113\" font-family=\"Times,serif\" font-size=\"10.00\">1</text>\n</g>\n<!-- a_G2 -->\n<g id=\"node2\" class=\"node\">\n<title>a_G2</title>\n<text text-anchor=\"middle\" x=\"27\" y=\"-68.3\" font-family=\"Times,serif\" font-size=\"14.00\">a</text>\n</g>\n<!-- a_G2&#45;&gt;CAdd -->\n<g id=\"edge2\" class=\"edge\">\n<title>a_G2:e-&gt;CAdd:w</title>\n<path fill=\"none\" stroke=\"black\" d=\"M54,-72C69.67,-72 74.14,-72 88.77,-72\"/>\n<ellipse fill=\"black\" stroke=\"black\" cx=\"90\" cy=\"-72\" rx=\"1\" ry=\"1\"/>\n<text text-anchor=\"middle\" x=\"72.5\" y=\"-75\" font-family=\"Times,serif\" font-size=\"10.00\">3</text>\n</g>\n<!-- b_G7 -->\n<g id=\"node3\" class=\"node\">\n<title>b_G7</title>\n<text text-anchor=\"middle\" x=\"27\" y=\"-14.3\" font-family=\"Times,serif\" font-size=\"14.00\">b</text>\n</g>\n<!-- b_G7&#45;&gt;CAdd -->\n<g id=\"edge3\" class=\"edge\">\n<title>b_G7:e-&gt;CAdd:w</title>\n<path fill=\"none\" stroke=\"black\" d=\"M54,-18C75.17,-18 69.47,-48.47 88.55,-50.85\"/>\n<ellipse fill=\"black\" stroke=\"black\" cx=\"90\" cy=\"-50.94\" rx=\"1\" ry=\"1\"/>\n<text text-anchor=\"middle\" x=\"72.5\" y=\"-39\" font-family=\"Times,serif\" font-size=\"10.00\">3</text>\n</g>\n<!-- ctrl_G0 -->\n<g id=\"node5\" class=\"node\">\n<title>ctrl_G0</title>\n<text text-anchor=\"middle\" x=\"186\" y=\"-122.3\" font-family=\"Times,serif\" font-size=\"14.00\">ctrl</text>\n</g>\n<!-- CAdd&#45;&gt;ctrl_G0 -->\n<g id=\"edge4\" class=\"edge\">\n<title>CAdd:e-&gt;ctrl_G0:w</title>\n<path fill=\"none\" stroke=\"black\" d=\"M122,-94C142.89,-94 137.72,-123.55 156.58,-125.86\"/>\n<ellipse fill=\"black\" stroke=\"black\" cx=\"158\" cy=\"-125.94\" rx=\"1\" ry=\"1\"/>\n<text text-anchor=\"middle\" x=\"140.5\" y=\"-113\" font-family=\"Times,serif\" font-size=\"10.00\">1</text>\n</g>\n<!-- a_G8 -->\n<g id=\"node6\" class=\"node\">\n<title>a_G8</title>\n<text text-anchor=\"middle\" x=\"186\" y=\"-68.3\" font-family=\"Times,serif\" font-size=\"14.00\">a</text>\n</g>\n<!-- CAdd&#45;&gt;a_G8 -->\n<g id=\"edge5\" class=\"edge\">\n<title>CAdd:e-&gt;a_G8:w</title>\n<path fill=\"none\" stroke=\"black\" d=\"M122,-72C137.67,-72 142.14,-72 156.77,-72\"/>\n<ellipse fill=\"black\" stroke=\"black\" cx=\"158\" cy=\"-72\" rx=\"1\" ry=\"1\"/>\n<text text-anchor=\"middle\" x=\"140.5\" y=\"-75\" font-family=\"Times,serif\" font-size=\"10.00\">3</text>\n</g>\n<!-- b_G6 -->\n<g id=\"node7\" class=\"node\">\n<title>b_G6</title>\n<text text-anchor=\"middle\" x=\"186\" y=\"-14.3\" font-family=\"Times,serif\" font-size=\"14.00\">b</text>\n</g>\n<!-- CAdd&#45;&gt;b_G6 -->\n<g id=\"edge6\" class=\"edge\">\n<title>CAdd:e-&gt;b_G6:w</title>\n<path fill=\"none\" stroke=\"black\" d=\"M122,-51C143.17,-51 137.47,-20.53 156.55,-18.15\"/>\n<ellipse fill=\"black\" stroke=\"black\" cx=\"158\" cy=\"-18.06\" rx=\"1\" ry=\"1\"/>\n<text text-anchor=\"middle\" x=\"140.5\" y=\"-39\" font-family=\"Times,serif\" font-size=\"10.00\">3</text>\n</g>\n</g>\n</svg>",
          "text/plain": "<IPython.core.display.SVG object>"
         },
         "metadata": {},
         "output_type": "display_data"
        }
       ],
       "tabbable": null,
       "tooltip": null
      }
     },
     "b51f985e9bf74596b530adf22c52f2dc": {
      "model_module": "@jupyter-widgets/base",
      "model_module_version": "2.0.0",
      "model_name": "LayoutModel",
      "state": {
       "_model_module": "@jupyter-widgets/base",
       "_model_module_version": "2.0.0",
       "_model_name": "LayoutModel",
       "_view_count": null,
       "_view_module": "@jupyter-widgets/base",
       "_view_module_version": "2.0.0",
       "_view_name": "LayoutView",
       "align_content": null,
       "align_items": null,
       "align_self": null,
       "border_bottom": null,
       "border_left": null,
       "border_right": null,
       "border_top": null,
       "bottom": null,
       "display": null,
       "flex": null,
       "flex_flow": null,
       "grid_area": null,
       "grid_auto_columns": null,
       "grid_auto_flow": null,
       "grid_auto_rows": null,
       "grid_column": null,
       "grid_gap": null,
       "grid_row": null,
       "grid_template_areas": null,
       "grid_template_columns": null,
       "grid_template_rows": null,
       "height": null,
       "justify_content": null,
       "justify_items": null,
       "left": null,
       "margin": null,
       "max_height": null,
       "max_width": null,
       "min_height": null,
       "min_width": null,
       "object_fit": null,
       "object_position": null,
       "order": null,
       "overflow": null,
       "padding": null,
       "right": null,
       "top": null,
       "visibility": null,
       "width": null
      }
     },
     "b8802bf1894545888fcbee7cfccdb244": {
      "model_module": "@jupyter-widgets/controls",
      "model_module_version": "2.0.0",
      "model_name": "HBoxModel",
      "state": {
       "_dom_classes": [],
       "_model_module": "@jupyter-widgets/controls",
       "_model_module_version": "2.0.0",
       "_model_name": "HBoxModel",
       "_view_count": null,
       "_view_module": "@jupyter-widgets/controls",
       "_view_module_version": "2.0.0",
       "_view_name": "HBoxView",
       "box_style": "",
       "children": [
        "IPY_MODEL_9bd740e295a94dfd81e2d2a69aa6e1b2",
        "IPY_MODEL_0335f434e7b04fa287bff4796f9c5975"
       ],
       "layout": "IPY_MODEL_b51f985e9bf74596b530adf22c52f2dc",
       "tabbable": null,
       "tooltip": null
      }
     },
     "f5b2cd6f415446e5bc0ef5d5be4bab86": {
      "model_module": "@jupyter-widgets/base",
      "model_module_version": "2.0.0",
      "model_name": "LayoutModel",
      "state": {
       "_model_module": "@jupyter-widgets/base",
       "_model_module_version": "2.0.0",
       "_model_name": "LayoutModel",
       "_view_count": null,
       "_view_module": "@jupyter-widgets/base",
       "_view_module_version": "2.0.0",
       "_view_name": "LayoutView",
       "align_content": null,
       "align_items": null,
       "align_self": null,
       "border_bottom": null,
       "border_left": null,
       "border_right": null,
       "border_top": null,
       "bottom": null,
       "display": null,
       "flex": null,
       "flex_flow": null,
       "grid_area": null,
       "grid_auto_columns": null,
       "grid_auto_flow": null,
       "grid_auto_rows": null,
       "grid_column": null,
       "grid_gap": null,
       "grid_row": null,
       "grid_template_areas": null,
       "grid_template_columns": null,
       "grid_template_rows": null,
       "height": null,
       "justify_content": null,
       "justify_items": null,
       "left": null,
       "margin": null,
       "max_height": null,
       "max_width": null,
       "min_height": null,
       "min_width": null,
       "object_fit": null,
       "object_position": null,
       "order": null,
       "overflow": null,
       "padding": null,
       "right": null,
       "top": null,
       "visibility": null,
       "width": null
      }
     }
    },
    "version_major": 2,
    "version_minor": 0
   }
  }
 },
 "nbformat": 4,
 "nbformat_minor": 5
}
