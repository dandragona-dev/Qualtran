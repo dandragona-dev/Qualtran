{
 "cells": [
  {
   "cell_type": "markdown",
   "id": "84254116",
   "metadata": {
    "cq.autogen": "title_cell"
   },
   "source": [
    "# Optimal resource states for Phase Estimation by A. Luis and J. Peřina\n",
    "\n",
    "Resource states proposed by A. Luis and J. Peřina (1996) for optimal phase measurements"
   ]
  },
  {
   "cell_type": "code",
   "execution_count": 1,
   "id": "911d8f72",
   "metadata": {
    "cq.autogen": "top_imports"
   },
   "outputs": [],
   "source": [
    "from qualtran import Bloq, CompositeBloq, BloqBuilder, Signature, Register\n",
    "from qualtran import QBit, QInt, QUInt, QAny\n",
    "from qualtran.drawing import show_bloq, show_call_graph, show_counts_sigma\n",
    "from typing import *\n",
    "import numpy as np\n",
    "import sympy\n",
    "import cirq"
   ]
  },
  {
   "cell_type": "markdown",
   "id": "88cd4ee5",
   "metadata": {
    "cq.autogen": "LPRSInterimPrep.bloq_doc.md"
   },
   "source": [
    "## `LPRSInterimPrep`\n",
    "Helper Bloq to prepare an intermediate resource state which can be used in AA\n",
    "\n",
    "Specifically, this prepares the state\n",
    "\n",
    "$$\n",
    "    \\sqrt{\\frac{1}{2^{m}}}\\sum_{n=0}^{2^m - 1}\\left(\\cos{\\left(\\frac{\\pi(n+1)}{2^m+1}\\right)}\n",
    "    |n\\rangle|0\\rangle + i\\sin{\\left(\\frac{\\pi(n+1)}{2^m+1}\\right)}|n\\rangle|1\\rangle\\right)\n",
    "$$\n",
    "\n",
    "This is the state obtained after applying the Hadamard on the flag qubit as described in\n",
    "Eq 19 of https://arxiv.org/pdf/1805.03662.pdf, which can then be used in a single round of\n",
    "Amplitude Amplification to boost the amplitude of desired resource state to 1."
   ]
  },
  {
   "cell_type": "code",
   "execution_count": 2,
   "id": "14b96f3c",
   "metadata": {
    "cq.autogen": "LPRSInterimPrep.bloq_doc.py"
   },
   "outputs": [],
   "source": [
    "from qualtran.bloqs.phase_estimation.lp_resource_state import LPRSInterimPrep"
   ]
  },
  {
   "cell_type": "markdown",
   "id": "3010bc2b",
   "metadata": {
    "cq.autogen": "LPRSInterimPrep.example_instances.md"
   },
   "source": [
    "### Example Instances"
   ]
  },
  {
   "cell_type": "code",
   "execution_count": 3,
   "id": "e464fe0a",
   "metadata": {
    "cq.autogen": "LPRSInterimPrep.lprs_interim_prep"
   },
   "outputs": [],
   "source": [
    "lprs_interim_prep = LPRSInterimPrep(5)"
   ]
  },
  {
   "cell_type": "markdown",
   "id": "3e0b5c82",
   "metadata": {
    "cq.autogen": "LPRSInterimPrep.graphical_signature.md"
   },
   "source": [
    "#### Graphical Signature"
   ]
  },
  {
   "cell_type": "code",
   "execution_count": 4,
   "id": "0765c81a",
   "metadata": {
    "cq.autogen": "LPRSInterimPrep.graphical_signature.py"
   },
   "outputs": [
    {
     "data": {
      "application/vnd.jupyter.widget-view+json": {
       "model_id": "7dae516d40f34687b299f29ddd758358",
       "version_major": 2,
       "version_minor": 0
      },
      "text/plain": [
       "HBox(children=(Output(outputs=({'output_type': 'display_data', 'data': {'text/plain': '<IPython.core.display.M…"
      ]
     },
     "metadata": {},
     "output_type": "display_data"
    }
   ],
   "source": [
    "from qualtran.drawing import show_bloqs\n",
    "show_bloqs([lprs_interim_prep],\n",
    "           ['`lprs_interim_prep`'])"
   ]
  },
  {
   "cell_type": "markdown",
   "id": "95cefe6c",
   "metadata": {
    "cq.autogen": "LPRSInterimPrep.call_graph.md"
   },
   "source": [
    "### Call Graph"
   ]
  },
  {
   "cell_type": "code",
   "execution_count": 5,
   "id": "2f4c201a",
   "metadata": {
    "cq.autogen": "LPRSInterimPrep.call_graph.py"
   },
   "outputs": [
    {
     "data": {
      "image/svg+xml": [
       "<svg xmlns=\"http://www.w3.org/2000/svg\" xmlns:xlink=\"http://www.w3.org/1999/xlink\" width=\"2036pt\" height=\"131pt\" viewBox=\"0.00 0.00 2036.00 131.00\">\n",
       "<g id=\"graph0\" class=\"graph\" transform=\"scale(1 1) rotate(0) translate(4 127)\">\n",
       "<title>counts</title>\n",
       "<polygon fill=\"white\" stroke=\"transparent\" points=\"-4,4 -4,-127 2032,-127 2032,4 -4,4\"/>\n",
       "<!-- b0 -->\n",
       "<g id=\"node1\" class=\"node\">\n",
       "<title>b0</title>\n",
       "<polygon fill=\"none\" stroke=\"black\" points=\"909,-123 772,-123 772,-87 909,-87 909,-123\"/>\n",
       "<text text-anchor=\"start\" x=\"791.5\" y=\"-106.8\" font-family=\"Times,serif\" font-size=\"14.00\">LPRSInterimPrep</text>\n",
       "<text text-anchor=\"start\" x=\"780\" y=\"-96\" font-family=\"monospace\" font-size=\"10.00\">bitsize=5, eps=1e-11</text>\n",
       "</g>\n",
       "<!-- b1 -->\n",
       "<g id=\"node2\" class=\"node\">\n",
       "<title>b1</title>\n",
       "<polygon fill=\"none\" stroke=\"black\" points=\"191,-36 0,-36 0,0 191,0 191,-36\"/>\n",
       "<text text-anchor=\"start\" x=\"18.5\" y=\"-19.8\" font-family=\"Times,serif\" font-size=\"14.00\">Rz(-0.19039955476301776)</text>\n",
       "<text text-anchor=\"start\" x=\"8\" y=\"-9\" font-family=\"monospace\" font-size=\"10.00\">angle=-0.19039 ..., eps=1e-11</text>\n",
       "</g>\n",
       "<!-- b0&#45;&gt;b1 -->\n",
       "<g id=\"edge1\" class=\"edge\">\n",
       "<title>b0-&gt;b1</title>\n",
       "<path fill=\"none\" stroke=\"black\" d=\"M771.57,-98.01C655.81,-87.66 414.83,-64.87 201.38,-36.22\"/>\n",
       "<polygon fill=\"black\" stroke=\"black\" points=\"201.62,-32.72 191.24,-34.85 200.68,-39.66 201.62,-32.72\"/>\n",
       "<text text-anchor=\"middle\" x=\"467\" y=\"-57.8\" font-family=\"Times,serif\" font-size=\"14.00\">1</text>\n",
       "</g>\n",
       "<!-- b2 -->\n",
       "<g id=\"node3\" class=\"node\">\n",
       "<title>b2</title>\n",
       "<polygon fill=\"none\" stroke=\"black\" points=\"460,-36 209,-36 209,0 460,0 460,-36\"/>\n",
       "<text text-anchor=\"start\" x=\"318.5\" y=\"-19.8\" font-family=\"Times,serif\" font-size=\"14.00\">H⨂5</text>\n",
       "<text text-anchor=\"start\" x=\"217\" y=\"-9\" font-family=\"monospace\" font-size=\"10.00\">n=5, gate=Hadamard(), target_dtype=None</text>\n",
       "</g>\n",
       "<!-- b0&#45;&gt;b2 -->\n",
       "<g id=\"edge2\" class=\"edge\">\n",
       "<title>b0-&gt;b2</title>\n",
       "<path fill=\"none\" stroke=\"black\" d=\"M771.98,-95.1C722.78,-88.49 654.94,-78.93 595.5,-69 539.84,-59.7 477.78,-47.87 428.14,-38.05\"/>\n",
       "<polygon fill=\"black\" stroke=\"black\" points=\"428.56,-34.57 418.07,-36.05 427.2,-41.43 428.56,-34.57\"/>\n",
       "<text text-anchor=\"middle\" x=\"599\" y=\"-57.8\" font-family=\"Times,serif\" font-size=\"14.00\">1</text>\n",
       "</g>\n",
       "<!-- b3 -->\n",
       "<g id=\"node4\" class=\"node\">\n",
       "<title>b3</title>\n",
       "<polygon fill=\"none\" stroke=\"black\" points=\"532.5,-36 478.5,-36 478.5,0 532.5,0 532.5,-36\"/>\n",
       "<text text-anchor=\"start\" x=\"500.5\" y=\"-14.3\" font-family=\"Times,serif\" font-size=\"14.00\">H</text>\n",
       "</g>\n",
       "<!-- b0&#45;&gt;b3 -->\n",
       "<g id=\"edge3\" class=\"edge\">\n",
       "<title>b0-&gt;b3</title>\n",
       "<path fill=\"none\" stroke=\"black\" d=\"M771.93,-92.8C712.83,-82.15 625.4,-64.03 542.34,-35.92\"/>\n",
       "<polygon fill=\"black\" stroke=\"black\" points=\"543.36,-32.57 532.76,-32.62 541.08,-39.19 543.36,-32.57\"/>\n",
       "<text text-anchor=\"middle\" x=\"659\" y=\"-57.8\" font-family=\"Times,serif\" font-size=\"14.00\">2</text>\n",
       "</g>\n",
       "<!-- b4 -->\n",
       "<g id=\"node5\" class=\"node\">\n",
       "<title>b4</title>\n",
       "<polygon fill=\"none\" stroke=\"black\" points=\"832,-36 551,-36 551,0 832,0 832,-36\"/>\n",
       "<text text-anchor=\"start\" x=\"605.5\" y=\"-19.8\" font-family=\"Times,serif\" font-size=\"14.00\">C[Rz(-0.19039955476301776)]</text>\n",
       "<text text-anchor=\"start\" x=\"559\" y=\"-9\" font-family=\"monospace\" font-size=\"10.00\">subbloq=Rz(angle ..., ctrl_spec=CtrlSpec ...</text>\n",
       "</g>\n",
       "<!-- b0&#45;&gt;b4 -->\n",
       "<g id=\"edge4\" class=\"edge\">\n",
       "<title>b0-&gt;b4</title>\n",
       "<path fill=\"none\" stroke=\"black\" d=\"M810.35,-86.8C787.25,-73.62 755.21,-55.34 730.21,-41.08\"/>\n",
       "<polygon fill=\"black\" stroke=\"black\" points=\"731.77,-37.95 721.35,-36.03 728.3,-44.03 731.77,-37.95\"/>\n",
       "<text text-anchor=\"middle\" x=\"779\" y=\"-57.8\" font-family=\"Times,serif\" font-size=\"14.00\">1</text>\n",
       "</g>\n",
       "<!-- b5 -->\n",
       "<g id=\"node6\" class=\"node\">\n",
       "<title>b5</title>\n",
       "<polygon fill=\"none\" stroke=\"black\" points=\"1131,-36 850,-36 850,0 1131,0 1131,-36\"/>\n",
       "<text text-anchor=\"start\" x=\"907.5\" y=\"-19.8\" font-family=\"Times,serif\" font-size=\"14.00\">C[Rz(-0.3807991095260355)]</text>\n",
       "<text text-anchor=\"start\" x=\"858\" y=\"-9\" font-family=\"monospace\" font-size=\"10.00\">subbloq=Rz(angle ..., ctrl_spec=CtrlSpec ...</text>\n",
       "</g>\n",
       "<!-- b0&#45;&gt;b5 -->\n",
       "<g id=\"edge5\" class=\"edge\">\n",
       "<title>b0-&gt;b5</title>\n",
       "<path fill=\"none\" stroke=\"black\" d=\"M870.85,-86.8C894.11,-73.62 926.37,-55.34 951.53,-41.08\"/>\n",
       "<polygon fill=\"black\" stroke=\"black\" points=\"953.47,-44.01 960.45,-36.03 950.02,-37.92 953.47,-44.01\"/>\n",
       "<text text-anchor=\"middle\" x=\"928\" y=\"-57.8\" font-family=\"Times,serif\" font-size=\"14.00\">1</text>\n",
       "</g>\n",
       "<!-- b6 -->\n",
       "<g id=\"node7\" class=\"node\">\n",
       "<title>b6</title>\n",
       "<polygon fill=\"none\" stroke=\"black\" points=\"1430,-36 1149,-36 1149,0 1430,0 1430,-36\"/>\n",
       "<text text-anchor=\"start\" x=\"1210\" y=\"-19.8\" font-family=\"Times,serif\" font-size=\"14.00\">C[Rz(-0.761598219052071)]</text>\n",
       "<text text-anchor=\"start\" x=\"1157\" y=\"-9\" font-family=\"monospace\" font-size=\"10.00\">subbloq=Rz(angle ..., ctrl_spec=CtrlSpec ...</text>\n",
       "</g>\n",
       "<!-- b0&#45;&gt;b6 -->\n",
       "<g id=\"edge6\" class=\"edge\">\n",
       "<title>b0-&gt;b6</title>\n",
       "<path fill=\"none\" stroke=\"black\" d=\"M909.18,-91C983.97,-76.84 1104.29,-54.06 1189.55,-37.92\"/>\n",
       "<polygon fill=\"black\" stroke=\"black\" points=\"1190.33,-41.34 1199.5,-36.04 1189.03,-34.46 1190.33,-41.34\"/>\n",
       "<text text-anchor=\"middle\" x=\"1096\" y=\"-57.8\" font-family=\"Times,serif\" font-size=\"14.00\">1</text>\n",
       "</g>\n",
       "<!-- b7 -->\n",
       "<g id=\"node8\" class=\"node\">\n",
       "<title>b7</title>\n",
       "<polygon fill=\"none\" stroke=\"black\" points=\"1729,-36 1448,-36 1448,0 1729,0 1729,-36\"/>\n",
       "<text text-anchor=\"start\" x=\"1509\" y=\"-19.8\" font-family=\"Times,serif\" font-size=\"14.00\">C[Rz(-1.523196438104142)]</text>\n",
       "<text text-anchor=\"start\" x=\"1456\" y=\"-9\" font-family=\"monospace\" font-size=\"10.00\">subbloq=Rz(angle ..., ctrl_spec=CtrlSpec ...</text>\n",
       "</g>\n",
       "<!-- b0&#45;&gt;b7 -->\n",
       "<g id=\"edge7\" class=\"edge\">\n",
       "<title>b0-&gt;b7</title>\n",
       "<path fill=\"none\" stroke=\"black\" d=\"M909.2,-96.19C1028.5,-82.64 1276.63,-54.44 1437.68,-36.14\"/>\n",
       "<polygon fill=\"black\" stroke=\"black\" points=\"1438.14,-39.61 1447.68,-35 1437.35,-32.65 1438.14,-39.61\"/>\n",
       "<text text-anchor=\"middle\" x=\"1263\" y=\"-57.8\" font-family=\"Times,serif\" font-size=\"14.00\">1</text>\n",
       "</g>\n",
       "<!-- b8 -->\n",
       "<g id=\"node9\" class=\"node\">\n",
       "<title>b8</title>\n",
       "<polygon fill=\"none\" stroke=\"black\" points=\"2028,-36 1747,-36 1747,0 2028,0 2028,-36\"/>\n",
       "<text text-anchor=\"start\" x=\"1808\" y=\"-19.8\" font-family=\"Times,serif\" font-size=\"14.00\">C[Rz(-3.046392876208284)]</text>\n",
       "<text text-anchor=\"start\" x=\"1755\" y=\"-9\" font-family=\"monospace\" font-size=\"10.00\">subbloq=Rz(angle ..., ctrl_spec=CtrlSpec ...</text>\n",
       "</g>\n",
       "<!-- b0&#45;&gt;b8 -->\n",
       "<g id=\"edge8\" class=\"edge\">\n",
       "<title>b0-&gt;b8</title>\n",
       "<path fill=\"none\" stroke=\"black\" d=\"M909.22,-99.67C1057.94,-90.09 1420.96,-65.71 1736.72,-36.05\"/>\n",
       "<polygon fill=\"black\" stroke=\"black\" points=\"1737.36,-39.51 1746.99,-35.08 1736.71,-32.54 1737.36,-39.51\"/>\n",
       "<text text-anchor=\"middle\" x=\"1520\" y=\"-57.8\" font-family=\"Times,serif\" font-size=\"14.00\">1</text>\n",
       "</g>\n",
       "</g>\n",
       "</svg>"
      ],
      "text/plain": [
       "<IPython.core.display.SVG object>"
      ]
     },
     "metadata": {},
     "output_type": "display_data"
    },
    {
     "data": {
      "text/markdown": [
       "#### Counts totals:\n",
       " - `C[Rz(-0.19039955476301776)]`: 1\n",
       " - `C[Rz(-0.3807991095260355)]`: 1\n",
       " - `C[Rz(-0.761598219052071)]`: 1\n",
       " - `C[Rz(-1.523196438104142)]`: 1\n",
       " - `C[Rz(-3.046392876208284)]`: 1\n",
       " - `H`: 2\n",
       " - `H⨂5`: 1\n",
       " - `Rz(-0.19039955476301776)`: 1"
      ],
      "text/plain": [
       "<IPython.core.display.Markdown object>"
      ]
     },
     "metadata": {},
     "output_type": "display_data"
    }
   ],
   "source": [
    "from qualtran.resource_counting.generalizers import ignore_split_join\n",
    "lprs_interim_prep_g, lprs_interim_prep_sigma = lprs_interim_prep.call_graph(max_depth=1, generalizer=ignore_split_join)\n",
    "show_call_graph(lprs_interim_prep_g)\n",
    "show_counts_sigma(lprs_interim_prep_sigma)"
   ]
  },
  {
   "cell_type": "markdown",
   "id": "a7241381",
   "metadata": {
    "cq.autogen": "LPResourceState.bloq_doc.md"
   },
   "source": [
    "## `LPResourceState`\n",
    "Prepares optimal resource state $\\chi_{m}$ proposed by A. Luis and J. Peřina (1996)\n",
    "\n",
    "Uses a single round of amplitude amplification, as described in Ref 2, to prepare the\n",
    "resource state from Ref 1 described as\n",
    "\n",
    "$$\n",
    "\\chi_{m} = \\sqrt{\\frac{2}{2^m + 1}}\\sum_{n=0}^{2^m - 1}\\sin{\\frac{\\pi(n+1)}{2^m+1}}|n\\rangle\n",
    "$$\n",
    "\n",
    "#### Parameters\n",
    " - `bitsize`: The size of the phase register to prepare the resource state on.  \n",
    "\n",
    "#### References\n",
    " - [Optimum phase-shift estimation and the quantum description of the phase difference](https://journals.aps.org/pra/abstract/10.1103/PhysRevA.54.4564). \n",
    " - [Encoding Electronic Spectra in Quantum Circuits with Linear T Complexity](https://arxiv.org/abs/1805.03662). Section II-B\n"
   ]
  },
  {
   "cell_type": "code",
   "execution_count": 6,
   "id": "6c5516d2",
   "metadata": {
    "cq.autogen": "LPResourceState.bloq_doc.py"
   },
   "outputs": [],
   "source": [
    "from qualtran.bloqs.phase_estimation.lp_resource_state import LPResourceState"
   ]
  },
  {
   "cell_type": "markdown",
   "id": "cfbba478",
   "metadata": {
    "cq.autogen": "LPResourceState.example_instances.md"
   },
   "source": [
    "### Example Instances"
   ]
  },
  {
   "cell_type": "code",
   "execution_count": 7,
   "id": "c240f76f",
   "metadata": {
    "cq.autogen": "LPResourceState.lp_resource_state_small"
   },
   "outputs": [],
   "source": [
    "lp_resource_state_small = LPResourceState(5)"
   ]
  },
  {
   "cell_type": "code",
   "execution_count": 8,
   "id": "dca73bc2",
   "metadata": {
    "cq.autogen": "LPResourceState.lp_resource_state_symbolic"
   },
   "outputs": [],
   "source": [
    "import sympy\n",
    "\n",
    "lp_resource_state_symbolic = LPResourceState(sympy.Symbol('n'))"
   ]
  },
  {
   "cell_type": "markdown",
   "id": "88c02acd",
   "metadata": {
    "cq.autogen": "LPResourceState.graphical_signature.md"
   },
   "source": [
    "#### Graphical Signature"
   ]
  },
  {
   "cell_type": "code",
   "execution_count": 9,
   "id": "68ccc4f5",
   "metadata": {
    "cq.autogen": "LPResourceState.graphical_signature.py"
   },
   "outputs": [
    {
     "data": {
      "application/vnd.jupyter.widget-view+json": {
       "model_id": "053ef3b697774a0ab90a3c1abe7d7cce",
       "version_major": 2,
       "version_minor": 0
      },
      "text/plain": [
       "HBox(children=(Output(outputs=({'output_type': 'display_data', 'data': {'text/plain': '<IPython.core.display.M…"
      ]
     },
     "metadata": {},
     "output_type": "display_data"
    }
   ],
   "source": [
    "from qualtran.drawing import show_bloqs\n",
    "show_bloqs([lp_resource_state_small, lp_resource_state_symbolic],\n",
    "           ['`lp_resource_state_small`', '`lp_resource_state_symbolic`'])"
   ]
  },
  {
   "cell_type": "markdown",
   "id": "3784b8e4",
   "metadata": {
    "cq.autogen": "LPResourceState.call_graph.md"
   },
   "source": [
    "### Call Graph"
   ]
  },
  {
   "cell_type": "code",
   "execution_count": 10,
   "id": "ce116ae5",
   "metadata": {
    "cq.autogen": "LPResourceState.call_graph.py"
   },
   "outputs": [
    {
     "data": {
      "image/svg+xml": [
       "<svg xmlns=\"http://www.w3.org/2000/svg\" xmlns:xlink=\"http://www.w3.org/1999/xlink\" width=\"1324pt\" height=\"131pt\" viewBox=\"0.00 0.00 1323.50 131.00\">\n",
       "<g id=\"graph0\" class=\"graph\" transform=\"scale(1 1) rotate(0) translate(4 127)\">\n",
       "<title>counts</title>\n",
       "<polygon fill=\"white\" stroke=\"transparent\" points=\"-4,4 -4,-127 1319.5,-127 1319.5,4 -4,4\"/>\n",
       "<!-- b0 -->\n",
       "<g id=\"node1\" class=\"node\">\n",
       "<title>b0</title>\n",
       "<polygon fill=\"none\" stroke=\"black\" points=\"669.5,-123 559.5,-123 559.5,-87 669.5,-87 669.5,-123\"/>\n",
       "<text text-anchor=\"start\" x=\"567.5\" y=\"-106.8\" font-family=\"Times,serif\" font-size=\"14.00\">LPResourceState</text>\n",
       "<text text-anchor=\"start\" x=\"587\" y=\"-96\" font-family=\"monospace\" font-size=\"10.00\">bitsize=5</text>\n",
       "</g>\n",
       "<!-- b1 -->\n",
       "<g id=\"node2\" class=\"node\">\n",
       "<title>b1</title>\n",
       "<polygon fill=\"none\" stroke=\"black\" points=\"137,-36 0,-36 0,0 137,0 137,-36\"/>\n",
       "<text text-anchor=\"start\" x=\"19.5\" y=\"-19.8\" font-family=\"Times,serif\" font-size=\"14.00\">LPRSInterimPrep</text>\n",
       "<text text-anchor=\"start\" x=\"8\" y=\"-9\" font-family=\"monospace\" font-size=\"10.00\">bitsize=5, eps=1e-11</text>\n",
       "</g>\n",
       "<!-- b0&#45;&gt;b1 -->\n",
       "<g id=\"edge1\" class=\"edge\">\n",
       "<title>b0-&gt;b1</title>\n",
       "<path fill=\"none\" stroke=\"black\" d=\"M559.41,-97.34C473.44,-86.66 301.99,-64.19 147.45,-36.3\"/>\n",
       "<polygon fill=\"black\" stroke=\"black\" points=\"147.76,-32.8 137.3,-34.45 146.51,-39.68 147.76,-32.8\"/>\n",
       "<text text-anchor=\"middle\" x=\"342\" y=\"-57.8\" font-family=\"Times,serif\" font-size=\"14.00\">2</text>\n",
       "</g>\n",
       "<!-- b2 -->\n",
       "<g id=\"node3\" class=\"node\">\n",
       "<title>b2</title>\n",
       "<polygon fill=\"none\" stroke=\"black\" points=\"292,-36 155,-36 155,0 292,0 292,-36\"/>\n",
       "<text text-anchor=\"start\" x=\"171\" y=\"-19.8\" font-family=\"Times,serif\" font-size=\"14.00\">LPRSInterimPrep†</text>\n",
       "<text text-anchor=\"start\" x=\"163\" y=\"-9\" font-family=\"monospace\" font-size=\"10.00\">subbloq=LPRSInte ...</text>\n",
       "</g>\n",
       "<!-- b0&#45;&gt;b2 -->\n",
       "<g id=\"edge2\" class=\"edge\">\n",
       "<title>b0-&gt;b2</title>\n",
       "<path fill=\"none\" stroke=\"black\" d=\"M559.47,-92.15C498.84,-79.09 398.19,-57.34 302.21,-36.37\"/>\n",
       "<polygon fill=\"black\" stroke=\"black\" points=\"302.86,-32.93 292.34,-34.21 301.37,-39.77 302.86,-32.93\"/>\n",
       "<text text-anchor=\"middle\" x=\"451\" y=\"-57.8\" font-family=\"Times,serif\" font-size=\"14.00\">1</text>\n",
       "</g>\n",
       "<!-- b3 -->\n",
       "<g id=\"node4\" class=\"node\">\n",
       "<title>b3</title>\n",
       "<polygon fill=\"none\" stroke=\"black\" points=\"501,-36 310,-36 310,0 501,0 501,-36\"/>\n",
       "<text text-anchor=\"start\" x=\"333.5\" y=\"-19.8\" font-family=\"Times,serif\" font-size=\"14.00\">Ry(1.5404886568287097)</text>\n",
       "<text text-anchor=\"start\" x=\"318\" y=\"-9\" font-family=\"monospace\" font-size=\"10.00\">angle=1.540488 ..., eps=1e-11</text>\n",
       "</g>\n",
       "<!-- b0&#45;&gt;b3 -->\n",
       "<g id=\"edge3\" class=\"edge\">\n",
       "<title>b0-&gt;b3</title>\n",
       "<path fill=\"none\" stroke=\"black\" d=\"M572.46,-86.9C539.22,-73.39 492.68,-54.46 457.18,-40.02\"/>\n",
       "<polygon fill=\"black\" stroke=\"black\" points=\"458.06,-36.6 447.48,-36.07 455.42,-43.08 458.06,-36.6\"/>\n",
       "<text text-anchor=\"middle\" x=\"527\" y=\"-57.8\" font-family=\"Times,serif\" font-size=\"14.00\">2</text>\n",
       "</g>\n",
       "<!-- b4 -->\n",
       "<g id=\"node5\" class=\"node\">\n",
       "<title>b4</title>\n",
       "<polygon fill=\"none\" stroke=\"black\" points=\"710,-36 519,-36 519,0 710,0 710,-36\"/>\n",
       "<text text-anchor=\"start\" x=\"540.5\" y=\"-19.8\" font-family=\"Times,serif\" font-size=\"14.00\">Ry(-1.5404886568287097)</text>\n",
       "<text text-anchor=\"start\" x=\"527\" y=\"-9\" font-family=\"monospace\" font-size=\"10.00\">angle=-1.54048 ..., eps=1e-11</text>\n",
       "</g>\n",
       "<!-- b0&#45;&gt;b4 -->\n",
       "<g id=\"edge4\" class=\"edge\">\n",
       "<title>b0-&gt;b4</title>\n",
       "<path fill=\"none\" stroke=\"black\" d=\"M614.5,-86.8C614.5,-75.16 614.5,-59.55 614.5,-46.24\"/>\n",
       "<polygon fill=\"black\" stroke=\"black\" points=\"618,-46.18 614.5,-36.18 611,-46.18 618,-46.18\"/>\n",
       "<text text-anchor=\"middle\" x=\"618\" y=\"-57.8\" font-family=\"Times,serif\" font-size=\"14.00\">1</text>\n",
       "</g>\n",
       "<!-- b5 -->\n",
       "<g id=\"node6\" class=\"node\">\n",
       "<title>b5</title>\n",
       "<polygon fill=\"none\" stroke=\"black\" points=\"1171,-36 728,-36 728,0 1171,0 1171,-36\"/>\n",
       "<text text-anchor=\"start\" x=\"884.5\" y=\"-19.8\" font-family=\"Times,serif\" font-size=\"14.00\">ReflectionUsingPrepare</text>\n",
       "<text text-anchor=\"start\" x=\"736\" y=\"-9\" font-family=\"monospace\" font-size=\"10.00\">prepare_gate=PrepareI ..., control_val=None, global_phase=1j, eps=1e-11</text>\n",
       "</g>\n",
       "<!-- b0&#45;&gt;b5 -->\n",
       "<g id=\"edge5\" class=\"edge\">\n",
       "<title>b0-&gt;b5</title>\n",
       "<path fill=\"none\" stroke=\"black\" d=\"M669.82,-89.96C725.12,-75.93 810.62,-54.24 872.53,-38.53\"/>\n",
       "<polygon fill=\"black\" stroke=\"black\" points=\"873.42,-41.91 882.25,-36.06 871.7,-35.13 873.42,-41.91\"/>\n",
       "<text text-anchor=\"middle\" x=\"806\" y=\"-57.8\" font-family=\"Times,serif\" font-size=\"14.00\">1</text>\n",
       "</g>\n",
       "<!-- b6 -->\n",
       "<g id=\"node7\" class=\"node\">\n",
       "<title>b6</title>\n",
       "<polygon fill=\"none\" stroke=\"black\" points=\"1243.5,-36 1189.5,-36 1189.5,0 1243.5,0 1243.5,-36\"/>\n",
       "<text text-anchor=\"start\" x=\"1198.5\" y=\"-14.3\" font-family=\"Times,serif\" font-size=\"14.00\">XGate</text>\n",
       "</g>\n",
       "<!-- b0&#45;&gt;b6 -->\n",
       "<g id=\"edge6\" class=\"edge\">\n",
       "<title>b0-&gt;b6</title>\n",
       "<path fill=\"none\" stroke=\"black\" d=\"M669.75,-103.01C772.18,-99.93 997.66,-87.35 1179.5,-36 1179.6,-35.97 1179.7,-35.94 1179.81,-35.91\"/>\n",
       "<polygon fill=\"black\" stroke=\"black\" points=\"1181.07,-39.18 1189.38,-32.6 1178.79,-32.56 1181.07,-39.18\"/>\n",
       "<text text-anchor=\"middle\" x=\"1109\" y=\"-57.8\" font-family=\"Times,serif\" font-size=\"14.00\">2</text>\n",
       "</g>\n",
       "<!-- b7 -->\n",
       "<g id=\"node8\" class=\"node\">\n",
       "<title>b7</title>\n",
       "<polygon fill=\"none\" stroke=\"black\" points=\"1315.5,-36 1261.5,-36 1261.5,0 1315.5,0 1315.5,-36\"/>\n",
       "<text text-anchor=\"start\" x=\"1279.5\" y=\"-14.3\" font-family=\"Times,serif\" font-size=\"14.00\">CZ</text>\n",
       "</g>\n",
       "<!-- b0&#45;&gt;b7 -->\n",
       "<g id=\"edge7\" class=\"edge\">\n",
       "<title>b0-&gt;b7</title>\n",
       "<path fill=\"none\" stroke=\"black\" d=\"M669.81,-103.18C762.65,-101.13 955.49,-93.97 1116.5,-69 1174.96,-59.94 1192.19,-57 1251.71,-35.97\"/>\n",
       "<polygon fill=\"black\" stroke=\"black\" points=\"1252.98,-39.23 1261.22,-32.58 1250.63,-32.64 1252.98,-39.23\"/>\n",
       "<text text-anchor=\"middle\" x=\"1199\" y=\"-57.8\" font-family=\"Times,serif\" font-size=\"14.00\">1</text>\n",
       "</g>\n",
       "</g>\n",
       "</svg>"
      ],
      "text/plain": [
       "<IPython.core.display.SVG object>"
      ]
     },
     "metadata": {},
     "output_type": "display_data"
    },
    {
     "data": {
      "text/markdown": [
       "#### Counts totals:\n",
       " - `Adjoint(subbloq=LPRSInterimPrep)`: 1\n",
       " - `CZ`: 1\n",
       " - `LPRSInterimPrep`: 2\n",
       " - `ReflectionUsingPrepare`: 1\n",
       " - `Ry(-1.5404886568287097)`: 1\n",
       " - `Ry(1.5404886568287097)`: 2\n",
       " - `XGate`: 2"
      ],
      "text/plain": [
       "<IPython.core.display.Markdown object>"
      ]
     },
     "metadata": {},
     "output_type": "display_data"
    }
   ],
   "source": [
    "from qualtran.resource_counting.generalizers import ignore_split_join\n",
    "lp_resource_state_small_g, lp_resource_state_small_sigma = lp_resource_state_small.call_graph(max_depth=1, generalizer=ignore_split_join)\n",
    "show_call_graph(lp_resource_state_small_g)\n",
    "show_counts_sigma(lp_resource_state_small_sigma)"
   ]
  }
 ],
 "metadata": {
  "kernelspec": {
   "display_name": "Python 3",
   "language": "python",
   "name": "python3"
  },
  "language_info": {
   "codemirror_mode": {
    "name": "ipython",
    "version": 3
   },
   "file_extension": ".py",
   "mimetype": "text/x-python",
   "name": "python",
   "nbconvert_exporter": "python",
   "pygments_lexer": "ipython3",
   "version": "3.11.8"
  },
  "widgets": {
   "application/vnd.jupyter.widget-state+json": {
    "state": {
     "027e0de2f71a47acaf04cdcbe0c668da": {
      "model_module": "@jupyter-widgets/base",
      "model_module_version": "2.0.0",
      "model_name": "LayoutModel",
      "state": {
       "_model_module": "@jupyter-widgets/base",
       "_model_module_version": "2.0.0",
       "_model_name": "LayoutModel",
       "_view_count": null,
       "_view_module": "@jupyter-widgets/base",
       "_view_module_version": "2.0.0",
       "_view_name": "LayoutView",
       "align_content": null,
       "align_items": null,
       "align_self": null,
       "border_bottom": null,
       "border_left": null,
       "border_right": null,
       "border_top": null,
       "bottom": null,
       "display": null,
       "flex": null,
       "flex_flow": null,
       "grid_area": null,
       "grid_auto_columns": null,
       "grid_auto_flow": null,
       "grid_auto_rows": null,
       "grid_column": null,
       "grid_gap": null,
       "grid_row": null,
       "grid_template_areas": null,
       "grid_template_columns": null,
       "grid_template_rows": null,
       "height": null,
       "justify_content": null,
       "justify_items": null,
       "left": null,
       "margin": null,
       "max_height": null,
       "max_width": null,
       "min_height": null,
       "min_width": null,
       "object_fit": null,
       "object_position": null,
       "order": null,
       "overflow": null,
       "padding": null,
       "right": null,
       "top": null,
       "visibility": null,
       "width": null
      }
     },
     "053ef3b697774a0ab90a3c1abe7d7cce": {
      "model_module": "@jupyter-widgets/controls",
      "model_module_version": "2.0.0",
      "model_name": "HBoxModel",
      "state": {
       "_dom_classes": [],
       "_model_module": "@jupyter-widgets/controls",
       "_model_module_version": "2.0.0",
       "_model_name": "HBoxModel",
       "_view_count": null,
       "_view_module": "@jupyter-widgets/controls",
       "_view_module_version": "2.0.0",
       "_view_name": "HBoxView",
       "box_style": "",
       "children": [
        "IPY_MODEL_8151c4bb7ad14b37be57d95be0c02829",
        "IPY_MODEL_8e4b1c313dad42e4a623678ff96f3032"
       ],
       "layout": "IPY_MODEL_998577762a474f03904e57f1cc1c2188",
       "tabbable": null,
       "tooltip": null
      }
     },
     "62958ed52fa841c7bcd1ad4ee12389a6": {
      "model_module": "@jupyter-widgets/output",
      "model_module_version": "1.0.0",
      "model_name": "OutputModel",
      "state": {
       "_dom_classes": [],
       "_model_module": "@jupyter-widgets/output",
       "_model_module_version": "1.0.0",
       "_model_name": "OutputModel",
       "_view_count": null,
       "_view_module": "@jupyter-widgets/output",
       "_view_module_version": "1.0.0",
       "_view_name": "OutputView",
       "layout": "IPY_MODEL_dc4f065994034c8483c4df4f7144d107",
       "msg_id": "",
       "outputs": [
        {
         "data": {
          "text/markdown": "`lprs_interim_prep`",
          "text/plain": "<IPython.core.display.Markdown object>"
         },
         "metadata": {},
         "output_type": "display_data"
        },
        {
         "data": {
          "image/svg+xml": "<svg xmlns=\"http://www.w3.org/2000/svg\" xmlns:xlink=\"http://www.w3.org/1999/xlink\" width=\"267pt\" height=\"98pt\" viewBox=\"0.00 0.00 267.00 98.00\">\n<g id=\"graph0\" class=\"graph\" transform=\"scale(1 1) rotate(0) translate(4 94)\">\n<title>my_graph</title>\n<polygon fill=\"white\" stroke=\"transparent\" points=\"-4,4 -4,-94 263,-94 263,4 -4,4\"/>\n<!-- m_G0 -->\n<g id=\"node1\" class=\"node\">\n<title>m_G0</title>\n<text text-anchor=\"middle\" x=\"27\" y=\"-68.3\" font-family=\"Times,serif\" font-size=\"14.00\">m</text>\n</g>\n<!-- LPRSInterimPrep -->\n<g id=\"node3\" class=\"node\">\n<title>LPRSInterimPrep</title>\n<polygon fill=\"none\" stroke=\"black\" points=\"91.5,-66 91.5,-83 168.5,-83 168.5,-66 91.5,-66\"/>\n<text text-anchor=\"start\" x=\"94.5\" y=\"-72\" font-family=\"Times,serif\" font-size=\"10.00\">LPRSInterimPrep</text>\n<polygon fill=\"none\" stroke=\"black\" points=\"91.5,-45 91.5,-66 168.5,-66 168.5,-45 91.5,-45\"/>\n<text text-anchor=\"start\" x=\"124\" y=\"-51.8\" font-family=\"Times,serif\" font-size=\"14.00\">m</text>\n<polygon fill=\"none\" stroke=\"black\" points=\"91.5,-24 91.5,-45 168.5,-45 168.5,-24 91.5,-24\"/>\n<text text-anchor=\"start\" x=\"120.5\" y=\"-30.8\" font-family=\"Times,serif\" font-size=\"14.00\">anc</text>\n</g>\n<!-- m_G0&#45;&gt;LPRSInterimPrep -->\n<g id=\"edge1\" class=\"edge\">\n<title>m_G0:e-&gt;LPRSInterimPrep:w</title>\n<path fill=\"none\" stroke=\"black\" d=\"M54,-72C71.22,-72 72.97,-57.23 88.98,-56.07\"/>\n<ellipse fill=\"black\" stroke=\"black\" cx=\"90\" cy=\"-56.04\" rx=\"1\" ry=\"1\"/>\n<text text-anchor=\"middle\" x=\"72.5\" y=\"-67\" font-family=\"Times,serif\" font-size=\"10.00\">5</text>\n</g>\n<!-- anc_G1 -->\n<g id=\"node2\" class=\"node\">\n<title>anc_G1</title>\n<text text-anchor=\"middle\" x=\"27\" y=\"-14.3\" font-family=\"Times,serif\" font-size=\"14.00\">anc</text>\n</g>\n<!-- anc_G1&#45;&gt;LPRSInterimPrep -->\n<g id=\"edge2\" class=\"edge\">\n<title>anc_G1:e-&gt;LPRSInterimPrep:w</title>\n<path fill=\"none\" stroke=\"black\" d=\"M54,-18C71.22,-18 72.97,-32.77 88.98,-33.93\"/>\n<ellipse fill=\"black\" stroke=\"black\" cx=\"90\" cy=\"-33.96\" rx=\"1\" ry=\"1\"/>\n<text text-anchor=\"middle\" x=\"72.5\" y=\"-29\" font-family=\"Times,serif\" font-size=\"10.00\">1</text>\n</g>\n<!-- m_G3 -->\n<g id=\"node4\" class=\"node\">\n<title>m_G3</title>\n<text text-anchor=\"middle\" x=\"232\" y=\"-68.3\" font-family=\"Times,serif\" font-size=\"14.00\">m</text>\n</g>\n<!-- LPRSInterimPrep&#45;&gt;m_G3 -->\n<g id=\"edge3\" class=\"edge\">\n<title>LPRSInterimPrep:e-&gt;m_G3:w</title>\n<path fill=\"none\" stroke=\"black\" d=\"M168,-56C185.22,-56 186.97,-70.77 202.98,-71.93\"/>\n<ellipse fill=\"black\" stroke=\"black\" cx=\"204\" cy=\"-71.96\" rx=\"1\" ry=\"1\"/>\n<text text-anchor=\"middle\" x=\"186.5\" y=\"-67\" font-family=\"Times,serif\" font-size=\"10.00\">5</text>\n</g>\n<!-- anc_G4 -->\n<g id=\"node5\" class=\"node\">\n<title>anc_G4</title>\n<text text-anchor=\"middle\" x=\"232\" y=\"-14.3\" font-family=\"Times,serif\" font-size=\"14.00\">anc</text>\n</g>\n<!-- LPRSInterimPrep&#45;&gt;anc_G4 -->\n<g id=\"edge4\" class=\"edge\">\n<title>LPRSInterimPrep:e-&gt;anc_G4:w</title>\n<path fill=\"none\" stroke=\"black\" d=\"M168,-34C185.22,-34 186.97,-19.23 202.98,-18.07\"/>\n<ellipse fill=\"black\" stroke=\"black\" cx=\"204\" cy=\"-18.04\" rx=\"1\" ry=\"1\"/>\n<text text-anchor=\"middle\" x=\"186.5\" y=\"-29\" font-family=\"Times,serif\" font-size=\"10.00\">1</text>\n</g>\n</g>\n</svg>",
          "text/plain": "<IPython.core.display.SVG object>"
         },
         "metadata": {},
         "output_type": "display_data"
        }
       ],
       "tabbable": null,
       "tooltip": null
      }
     },
     "7dae516d40f34687b299f29ddd758358": {
      "model_module": "@jupyter-widgets/controls",
      "model_module_version": "2.0.0",
      "model_name": "HBoxModel",
      "state": {
       "_dom_classes": [],
       "_model_module": "@jupyter-widgets/controls",
       "_model_module_version": "2.0.0",
       "_model_name": "HBoxModel",
       "_view_count": null,
       "_view_module": "@jupyter-widgets/controls",
       "_view_module_version": "2.0.0",
       "_view_name": "HBoxView",
       "box_style": "",
       "children": [
        "IPY_MODEL_62958ed52fa841c7bcd1ad4ee12389a6"
       ],
       "layout": "IPY_MODEL_b90813ca28344162b105581f8e9854a0",
       "tabbable": null,
       "tooltip": null
      }
     },
     "8151c4bb7ad14b37be57d95be0c02829": {
      "model_module": "@jupyter-widgets/output",
      "model_module_version": "1.0.0",
      "model_name": "OutputModel",
      "state": {
       "_dom_classes": [],
       "_model_module": "@jupyter-widgets/output",
       "_model_module_version": "1.0.0",
       "_model_name": "OutputModel",
       "_view_count": null,
       "_view_module": "@jupyter-widgets/output",
       "_view_module_version": "1.0.0",
       "_view_name": "OutputView",
       "layout": "IPY_MODEL_ad373bd91e004d4f8fc4312308f71ba5",
       "msg_id": "",
       "outputs": [
        {
         "data": {
          "text/markdown": "`lp_resource_state_small`",
          "text/plain": "<IPython.core.display.Markdown object>"
         },
         "metadata": {},
         "output_type": "display_data"
        },
        {
         "data": {
          "image/svg+xml": "<svg xmlns=\"http://www.w3.org/2000/svg\" xmlns:xlink=\"http://www.w3.org/1999/xlink\" width=\"181pt\" height=\"54pt\" viewBox=\"0.00 0.00 181.00 54.00\">\n<g id=\"graph0\" class=\"graph\" transform=\"scale(1 1) rotate(0) translate(4 50)\">\n<title>my_graph</title>\n<polygon fill=\"white\" stroke=\"transparent\" points=\"-4,4 -4,-50 177,-50 177,4 -4,4\"/>\n<!-- LPResourceState -->\n<g id=\"node1\" class=\"node\">\n<title>LPResourceState</title>\n<polygon fill=\"none\" stroke=\"black\" points=\"0,-29 0,-46 76,-46 76,-29 0,-29\"/>\n<text text-anchor=\"start\" x=\"3\" y=\"-35\" font-family=\"Times,serif\" font-size=\"10.00\">LPResourceState</text>\n<polygon fill=\"none\" stroke=\"black\" points=\"0,-8 0,-29 16,-29 16,-8 0,-8\"/>\n<polygon fill=\"none\" stroke=\"black\" points=\"16,-8 16,-29 76,-29 76,-8 16,-8\"/>\n<text text-anchor=\"start\" x=\"24\" y=\"-14.8\" font-family=\"Times,serif\" font-size=\"14.00\">qpe_reg</text>\n</g>\n<!-- qpe_reg_G0 -->\n<g id=\"node2\" class=\"node\">\n<title>qpe_reg_G0</title>\n<text text-anchor=\"middle\" x=\"143\" y=\"-14.3\" font-family=\"Times,serif\" font-size=\"14.00\">qpe_reg</text>\n</g>\n<!-- LPResourceState&#45;&gt;qpe_reg_G0 -->\n<g id=\"edge1\" class=\"edge\">\n<title>LPResourceState:e-&gt;qpe_reg_G0:w</title>\n<path fill=\"none\" stroke=\"black\" d=\"M76,-18C91.67,-18 96.14,-18 110.77,-18\"/>\n<ellipse fill=\"black\" stroke=\"black\" cx=\"112\" cy=\"-18\" rx=\"1\" ry=\"1\"/>\n<text text-anchor=\"middle\" x=\"94.5\" y=\"-21\" font-family=\"Times,serif\" font-size=\"10.00\">5</text>\n</g>\n</g>\n</svg>",
          "text/plain": "<IPython.core.display.SVG object>"
         },
         "metadata": {},
         "output_type": "display_data"
        }
       ],
       "tabbable": null,
       "tooltip": null
      }
     },
     "8e4b1c313dad42e4a623678ff96f3032": {
      "model_module": "@jupyter-widgets/output",
      "model_module_version": "1.0.0",
      "model_name": "OutputModel",
      "state": {
       "_dom_classes": [],
       "_model_module": "@jupyter-widgets/output",
       "_model_module_version": "1.0.0",
       "_model_name": "OutputModel",
       "_view_count": null,
       "_view_module": "@jupyter-widgets/output",
       "_view_module_version": "1.0.0",
       "_view_name": "OutputView",
       "layout": "IPY_MODEL_027e0de2f71a47acaf04cdcbe0c668da",
       "msg_id": "",
       "outputs": [
        {
         "data": {
          "text/markdown": "`lp_resource_state_symbolic`",
          "text/plain": "<IPython.core.display.Markdown object>"
         },
         "metadata": {},
         "output_type": "display_data"
        },
        {
         "data": {
          "image/svg+xml": "<svg xmlns=\"http://www.w3.org/2000/svg\" xmlns:xlink=\"http://www.w3.org/1999/xlink\" width=\"181pt\" height=\"54pt\" viewBox=\"0.00 0.00 181.00 54.00\">\n<g id=\"graph0\" class=\"graph\" transform=\"scale(1 1) rotate(0) translate(4 50)\">\n<title>my_graph</title>\n<polygon fill=\"white\" stroke=\"transparent\" points=\"-4,4 -4,-50 177,-50 177,4 -4,4\"/>\n<!-- LPResourceState -->\n<g id=\"node1\" class=\"node\">\n<title>LPResourceState</title>\n<polygon fill=\"none\" stroke=\"black\" points=\"0,-29 0,-46 76,-46 76,-29 0,-29\"/>\n<text text-anchor=\"start\" x=\"3\" y=\"-35\" font-family=\"Times,serif\" font-size=\"10.00\">LPResourceState</text>\n<polygon fill=\"none\" stroke=\"black\" points=\"0,-8 0,-29 16,-29 16,-8 0,-8\"/>\n<polygon fill=\"none\" stroke=\"black\" points=\"16,-8 16,-29 76,-29 76,-8 16,-8\"/>\n<text text-anchor=\"start\" x=\"24\" y=\"-14.8\" font-family=\"Times,serif\" font-size=\"14.00\">qpe_reg</text>\n</g>\n<!-- qpe_reg_G1 -->\n<g id=\"node2\" class=\"node\">\n<title>qpe_reg_G1</title>\n<text text-anchor=\"middle\" x=\"143\" y=\"-14.3\" font-family=\"Times,serif\" font-size=\"14.00\">qpe_reg</text>\n</g>\n<!-- LPResourceState&#45;&gt;qpe_reg_G1 -->\n<g id=\"edge1\" class=\"edge\">\n<title>LPResourceState:e-&gt;qpe_reg_G1:w</title>\n<path fill=\"none\" stroke=\"black\" d=\"M76,-18C91.67,-18 96.14,-18 110.77,-18\"/>\n<ellipse fill=\"black\" stroke=\"black\" cx=\"112\" cy=\"-18\" rx=\"1\" ry=\"1\"/>\n<text text-anchor=\"middle\" x=\"94.5\" y=\"-21\" font-family=\"Times,serif\" font-size=\"10.00\">n</text>\n</g>\n</g>\n</svg>",
          "text/plain": "<IPython.core.display.SVG object>"
         },
         "metadata": {},
         "output_type": "display_data"
        }
       ],
       "tabbable": null,
       "tooltip": null
      }
     },
     "998577762a474f03904e57f1cc1c2188": {
      "model_module": "@jupyter-widgets/base",
      "model_module_version": "2.0.0",
      "model_name": "LayoutModel",
      "state": {
       "_model_module": "@jupyter-widgets/base",
       "_model_module_version": "2.0.0",
       "_model_name": "LayoutModel",
       "_view_count": null,
       "_view_module": "@jupyter-widgets/base",
       "_view_module_version": "2.0.0",
       "_view_name": "LayoutView",
       "align_content": null,
       "align_items": null,
       "align_self": null,
       "border_bottom": null,
       "border_left": null,
       "border_right": null,
       "border_top": null,
       "bottom": null,
       "display": null,
       "flex": null,
       "flex_flow": null,
       "grid_area": null,
       "grid_auto_columns": null,
       "grid_auto_flow": null,
       "grid_auto_rows": null,
       "grid_column": null,
       "grid_gap": null,
       "grid_row": null,
       "grid_template_areas": null,
       "grid_template_columns": null,
       "grid_template_rows": null,
       "height": null,
       "justify_content": null,
       "justify_items": null,
       "left": null,
       "margin": null,
       "max_height": null,
       "max_width": null,
       "min_height": null,
       "min_width": null,
       "object_fit": null,
       "object_position": null,
       "order": null,
       "overflow": null,
       "padding": null,
       "right": null,
       "top": null,
       "visibility": null,
       "width": null
      }
     },
     "ad373bd91e004d4f8fc4312308f71ba5": {
      "model_module": "@jupyter-widgets/base",
      "model_module_version": "2.0.0",
      "model_name": "LayoutModel",
      "state": {
       "_model_module": "@jupyter-widgets/base",
       "_model_module_version": "2.0.0",
       "_model_name": "LayoutModel",
       "_view_count": null,
       "_view_module": "@jupyter-widgets/base",
       "_view_module_version": "2.0.0",
       "_view_name": "LayoutView",
       "align_content": null,
       "align_items": null,
       "align_self": null,
       "border_bottom": null,
       "border_left": null,
       "border_right": null,
       "border_top": null,
       "bottom": null,
       "display": null,
       "flex": null,
       "flex_flow": null,
       "grid_area": null,
       "grid_auto_columns": null,
       "grid_auto_flow": null,
       "grid_auto_rows": null,
       "grid_column": null,
       "grid_gap": null,
       "grid_row": null,
       "grid_template_areas": null,
       "grid_template_columns": null,
       "grid_template_rows": null,
       "height": null,
       "justify_content": null,
       "justify_items": null,
       "left": null,
       "margin": null,
       "max_height": null,
       "max_width": null,
       "min_height": null,
       "min_width": null,
       "object_fit": null,
       "object_position": null,
       "order": null,
       "overflow": null,
       "padding": null,
       "right": null,
       "top": null,
       "visibility": null,
       "width": null
      }
     },
     "b90813ca28344162b105581f8e9854a0": {
      "model_module": "@jupyter-widgets/base",
      "model_module_version": "2.0.0",
      "model_name": "LayoutModel",
      "state": {
       "_model_module": "@jupyter-widgets/base",
       "_model_module_version": "2.0.0",
       "_model_name": "LayoutModel",
       "_view_count": null,
       "_view_module": "@jupyter-widgets/base",
       "_view_module_version": "2.0.0",
       "_view_name": "LayoutView",
       "align_content": null,
       "align_items": null,
       "align_self": null,
       "border_bottom": null,
       "border_left": null,
       "border_right": null,
       "border_top": null,
       "bottom": null,
       "display": null,
       "flex": null,
       "flex_flow": null,
       "grid_area": null,
       "grid_auto_columns": null,
       "grid_auto_flow": null,
       "grid_auto_rows": null,
       "grid_column": null,
       "grid_gap": null,
       "grid_row": null,
       "grid_template_areas": null,
       "grid_template_columns": null,
       "grid_template_rows": null,
       "height": null,
       "justify_content": null,
       "justify_items": null,
       "left": null,
       "margin": null,
       "max_height": null,
       "max_width": null,
       "min_height": null,
       "min_width": null,
       "object_fit": null,
       "object_position": null,
       "order": null,
       "overflow": null,
       "padding": null,
       "right": null,
       "top": null,
       "visibility": null,
       "width": null
      }
     },
     "dc4f065994034c8483c4df4f7144d107": {
      "model_module": "@jupyter-widgets/base",
      "model_module_version": "2.0.0",
      "model_name": "LayoutModel",
      "state": {
       "_model_module": "@jupyter-widgets/base",
       "_model_module_version": "2.0.0",
       "_model_name": "LayoutModel",
       "_view_count": null,
       "_view_module": "@jupyter-widgets/base",
       "_view_module_version": "2.0.0",
       "_view_name": "LayoutView",
       "align_content": null,
       "align_items": null,
       "align_self": null,
       "border_bottom": null,
       "border_left": null,
       "border_right": null,
       "border_top": null,
       "bottom": null,
       "display": null,
       "flex": null,
       "flex_flow": null,
       "grid_area": null,
       "grid_auto_columns": null,
       "grid_auto_flow": null,
       "grid_auto_rows": null,
       "grid_column": null,
       "grid_gap": null,
       "grid_row": null,
       "grid_template_areas": null,
       "grid_template_columns": null,
       "grid_template_rows": null,
       "height": null,
       "justify_content": null,
       "justify_items": null,
       "left": null,
       "margin": null,
       "max_height": null,
       "max_width": null,
       "min_height": null,
       "min_width": null,
       "object_fit": null,
       "object_position": null,
       "order": null,
       "overflow": null,
       "padding": null,
       "right": null,
       "top": null,
       "visibility": null,
       "width": null
      }
     }
    },
    "version_major": 2,
    "version_minor": 0
   }
  }
 },
 "nbformat": 4,
 "nbformat_minor": 5
}
