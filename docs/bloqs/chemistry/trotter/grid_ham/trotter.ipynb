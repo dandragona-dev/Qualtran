{
 "cells": [
  {
   "cell_type": "markdown",
   "id": "c1a23dc3",
   "metadata": {
    "cq.autogen": "title_cell"
   },
   "source": [
    "# Trotter Bloqs\n",
    "\n",
    "Bloqs for Trotter simulation of the real space grid Hamiltonian."
   ]
  },
  {
   "cell_type": "code",
   "execution_count": 1,
   "id": "9a92a195",
   "metadata": {
    "cq.autogen": "top_imports"
   },
   "outputs": [],
   "source": [
    "from qualtran import Bloq, CompositeBloq, BloqBuilder, Signature, Register\n",
    "from qualtran import QBit, QInt, QUInt, QAny\n",
    "from qualtran.drawing import show_bloq, show_call_graph, show_counts_sigma\n",
    "from typing import *\n",
    "import numpy as np\n",
    "import sympy\n",
    "import cirq"
   ]
  },
  {
   "cell_type": "markdown",
   "id": "03ff98e4",
   "metadata": {
    "cq.autogen": "PolynmomialEvaluationInverseSquareRoot.bloq_doc.md"
   },
   "source": [
    "## `PolynmomialEvaluationInverseSquareRoot`\n",
    "Bloq to evaluate a polynomial approximation to inverse Square root from QROM.\n",
    "\n",
    "#### Parameters\n",
    " - `in_bitsize`: The number of bits encoding the input registers.\n",
    " - `out_bitsize`: The number of bits encoding the input registers. \n",
    "\n",
    "#### Registers\n",
    " - `in_c{0,1,2,3}`: QROM input containing the 4 polynomial coefficients.\n",
    " - `out`: Output register to store polynomial approximation to inverse square root. \n",
    "\n",
    "#### References\n",
    " - [Quantum computation of stopping power for inertial fusion target design](     https://arxiv.org/pdf/2308.12352.pdf)\n"
   ]
  },
  {
   "cell_type": "code",
   "execution_count": 2,
   "id": "c6c171f4",
   "metadata": {
    "cq.autogen": "PolynmomialEvaluationInverseSquareRoot.bloq_doc.py"
   },
   "outputs": [],
   "source": [
    "from qualtran.bloqs.chemistry.trotter.grid_ham.inverse_sqrt import PolynmomialEvaluationInverseSquareRoot"
   ]
  },
  {
   "cell_type": "markdown",
   "id": "b474b1b2",
   "metadata": {
    "cq.autogen": "PolynmomialEvaluationInverseSquareRoot.example_instances.md"
   },
   "source": [
    "### Example Instances"
   ]
  },
  {
   "cell_type": "code",
   "execution_count": 3,
   "id": "61c0ce9e",
   "metadata": {
    "cq.autogen": "PolynmomialEvaluationInverseSquareRoot.poly_inv_sqrt"
   },
   "outputs": [],
   "source": [
    "poly_inv_sqrt = PolynmomialEvaluationInverseSquareRoot(7, 8, 12)"
   ]
  },
  {
   "cell_type": "markdown",
   "id": "48cb524e",
   "metadata": {
    "cq.autogen": "PolynmomialEvaluationInverseSquareRoot.graphical_signature.md"
   },
   "source": [
    "#### Graphical Signature"
   ]
  },
  {
   "cell_type": "code",
   "execution_count": 4,
   "id": "2b06d812",
   "metadata": {
    "cq.autogen": "PolynmomialEvaluationInverseSquareRoot.graphical_signature.py"
   },
   "outputs": [
    {
     "data": {
      "application/vnd.jupyter.widget-view+json": {
       "model_id": "43788a593e4e4a3d8856febca4bebe4e",
       "version_major": 2,
       "version_minor": 0
      },
      "text/plain": [
       "HBox(children=(Output(outputs=({'output_type': 'display_data', 'data': {'text/plain': '<IPython.core.display.M…"
      ]
     },
     "metadata": {},
     "output_type": "display_data"
    }
   ],
   "source": [
    "from qualtran.drawing import show_bloqs\n",
    "show_bloqs([poly_inv_sqrt],\n",
    "           ['`poly_inv_sqrt`'])"
   ]
  },
  {
   "cell_type": "markdown",
   "id": "bfdeaf9a",
   "metadata": {
    "cq.autogen": "PolynmomialEvaluationInverseSquareRoot.call_graph.md"
   },
   "source": [
    "### Call Graph"
   ]
  },
  {
   "cell_type": "code",
   "execution_count": 5,
   "id": "bfe3ebb2",
   "metadata": {
    "cq.autogen": "PolynmomialEvaluationInverseSquareRoot.call_graph.py"
   },
   "outputs": [
    {
     "data": {
      "image/svg+xml": [
       "<svg xmlns=\"http://www.w3.org/2000/svg\" xmlns:xlink=\"http://www.w3.org/1999/xlink\" width=\"414pt\" height=\"131pt\" viewBox=\"0.00 0.00 414.00 131.00\">\n",
       "<g id=\"graph0\" class=\"graph\" transform=\"scale(1 1) rotate(0) translate(4 127)\">\n",
       "<title>counts</title>\n",
       "<polygon fill=\"white\" stroke=\"transparent\" points=\"-4,4 -4,-127 410,-127 410,4 -4,4\"/>\n",
       "<!-- b0 -->\n",
       "<g id=\"node1\" class=\"node\">\n",
       "<title>b0</title>\n",
       "<polygon fill=\"none\" stroke=\"black\" points=\"312,-123 19,-123 19,-87 312,-87 312,-123\"/>\n",
       "<text text-anchor=\"start\" x=\"130\" y=\"-106.8\" font-family=\"Times,serif\" font-size=\"14.00\">y ~ x^{-1/2}</text>\n",
       "<text text-anchor=\"start\" x=\"27\" y=\"-96\" font-family=\"monospace\" font-size=\"10.00\">x_sq_bitsize=7, poly_bitsize=8, out_bitsize=12</text>\n",
       "</g>\n",
       "<!-- b1 -->\n",
       "<g id=\"node2\" class=\"node\">\n",
       "<title>b1</title>\n",
       "<polygon fill=\"none\" stroke=\"black\" points=\"119,-36 0,-36 0,0 119,0 119,-36\"/>\n",
       "<text text-anchor=\"start\" x=\"8\" y=\"-19.8\" font-family=\"Times,serif\" font-size=\"14.00\">MultiplyTwoReals</text>\n",
       "<text text-anchor=\"start\" x=\"32\" y=\"-9\" font-family=\"monospace\" font-size=\"10.00\">bitsize=8</text>\n",
       "</g>\n",
       "<!-- b0&#45;&gt;b1 -->\n",
       "<g id=\"edge1\" class=\"edge\">\n",
       "<title>b0-&gt;b1</title>\n",
       "<path fill=\"none\" stroke=\"black\" d=\"M144.05,-86.8C128.24,-74.13 106.56,-56.73 89.1,-42.74\"/>\n",
       "<polygon fill=\"black\" stroke=\"black\" points=\"90.91,-39.7 80.92,-36.18 86.53,-45.16 90.91,-39.7\"/>\n",
       "<text text-anchor=\"middle\" x=\"123\" y=\"-57.8\" font-family=\"Times,serif\" font-size=\"14.00\">3</text>\n",
       "</g>\n",
       "<!-- b2 -->\n",
       "<g id=\"node3\" class=\"node\">\n",
       "<title>b2</title>\n",
       "<polygon fill=\"none\" stroke=\"black\" points=\"406,-36 137,-36 137,0 406,0 406,-36\"/>\n",
       "<text text-anchor=\"start\" x=\"259.5\" y=\"-19.8\" font-family=\"Times,serif\" font-size=\"14.00\">Add</text>\n",
       "<text text-anchor=\"start\" x=\"145\" y=\"-9\" font-family=\"monospace\" font-size=\"10.00\">a_dtype=QInt(bit ..., b_dtype=QInt(bit ...</text>\n",
       "</g>\n",
       "<!-- b0&#45;&gt;b2 -->\n",
       "<g id=\"edge2\" class=\"edge\">\n",
       "<title>b0-&gt;b2</title>\n",
       "<path fill=\"none\" stroke=\"black\" d=\"M186.95,-86.8C202.76,-74.13 224.44,-56.73 241.9,-42.74\"/>\n",
       "<polygon fill=\"black\" stroke=\"black\" points=\"244.47,-45.16 250.08,-36.18 240.09,-39.7 244.47,-45.16\"/>\n",
       "<text text-anchor=\"middle\" x=\"229\" y=\"-57.8\" font-family=\"Times,serif\" font-size=\"14.00\">3</text>\n",
       "</g>\n",
       "</g>\n",
       "</svg>"
      ],
      "text/plain": [
       "<IPython.core.display.SVG object>"
      ]
     },
     "metadata": {},
     "output_type": "display_data"
    },
    {
     "data": {
      "text/markdown": [
       "#### Counts totals:\n",
       " - `Add`: 3\n",
       " - `MultiplyTwoReals`: 3"
      ],
      "text/plain": [
       "<IPython.core.display.Markdown object>"
      ]
     },
     "metadata": {},
     "output_type": "display_data"
    }
   ],
   "source": [
    "from qualtran.resource_counting.generalizers import ignore_split_join\n",
    "poly_inv_sqrt_g, poly_inv_sqrt_sigma = poly_inv_sqrt.call_graph(max_depth=1, generalizer=ignore_split_join)\n",
    "show_call_graph(poly_inv_sqrt_g)\n",
    "show_counts_sigma(poly_inv_sqrt_sigma)"
   ]
  },
  {
   "cell_type": "markdown",
   "id": "308c0f7a",
   "metadata": {
    "cq.autogen": "NewtonRaphsonApproxInverseSquareRoot.bloq_doc.md"
   },
   "source": [
    "## `NewtonRaphsonApproxInverseSquareRoot`\n",
    "Bloq implementing a single Newton-Raphson step to approximate the inverse square root.\n",
    "\n",
    "Given a (polynomial) approximation for $1/\\sqrt{x}$ (which will be $y_0$)\n",
    "below we can approximate the inverse square root by\n",
    "\n",
    "$$\n",
    "    y_{n+1} = \\frac{1}{2}y_n\\left(3-y_n^2 x\\right)\n",
    "$$\n",
    "\n",
    "For the case of computing the Coulomb potential we want\n",
    "\n",
    "$$\n",
    "    \\frac{1}{|r_i-r_j|} = \\frac{1}{\\sqrt{\\sum_k^3 (x^{k}_i-x^{k}_j)^2}}\n",
    "$$\n",
    "where $x^{k}_i$ is the $i$-th electron's coordinate in 3D and $k \\in \\{x,y,z\\}$.\n",
    "Thus the input register should store $\\sum_{k=x,y,z} (x^{k}_i-x^{k}_j)^2$.\n",
    "\n",
    "#### Parameters\n",
    " - `x_sq_bitsize`: The number of bits encoding the input (integer) register holding (x^2).\n",
    " - `poly_bitsize`: The number of bits encoding the input (fp-real) register holding y0 (the output of PolynomialEvaluation).\n",
    " - `output_bitsize`: The number of bits to store the output of the NewtonRaphson step. \n",
    "\n",
    "#### Registers\n",
    " - `x_sq`: an input_bitsize size register storing the value x^2.\n",
    " - `poly`: an poly_bitsize size register storing the value x^2.\n",
    " - `target`: a target_bitsize size register storing the output of the newton raphson step. \n",
    "\n",
    "#### References\n",
    " - [Faster quantum chemistry simulation on fault-tolerant quantum     computers](https://iopscience.iop.org/article/10.1088/1367-2630/14/11/115023/meta). \n"
   ]
  },
  {
   "cell_type": "code",
   "execution_count": 6,
   "id": "de625b9d",
   "metadata": {
    "cq.autogen": "NewtonRaphsonApproxInverseSquareRoot.bloq_doc.py"
   },
   "outputs": [],
   "source": [
    "from qualtran.bloqs.chemistry.trotter.grid_ham.inverse_sqrt import NewtonRaphsonApproxInverseSquareRoot"
   ]
  },
  {
   "cell_type": "markdown",
   "id": "b782fa6b",
   "metadata": {
    "cq.autogen": "NewtonRaphsonApproxInverseSquareRoot.example_instances.md"
   },
   "source": [
    "### Example Instances"
   ]
  },
  {
   "cell_type": "code",
   "execution_count": 7,
   "id": "f4464632",
   "metadata": {
    "cq.autogen": "NewtonRaphsonApproxInverseSquareRoot.nr_inv_sqrt"
   },
   "outputs": [],
   "source": [
    "nr_inv_sqrt = NewtonRaphsonApproxInverseSquareRoot(7, 8, 12)"
   ]
  },
  {
   "cell_type": "markdown",
   "id": "854f9e6c",
   "metadata": {
    "cq.autogen": "NewtonRaphsonApproxInverseSquareRoot.graphical_signature.md"
   },
   "source": [
    "#### Graphical Signature"
   ]
  },
  {
   "cell_type": "code",
   "execution_count": 8,
   "id": "115b41c5",
   "metadata": {
    "cq.autogen": "NewtonRaphsonApproxInverseSquareRoot.graphical_signature.py"
   },
   "outputs": [
    {
     "data": {
      "application/vnd.jupyter.widget-view+json": {
       "model_id": "d3885713e4964138a1de9305e7e86a1a",
       "version_major": 2,
       "version_minor": 0
      },
      "text/plain": [
       "HBox(children=(Output(outputs=({'output_type': 'display_data', 'data': {'text/plain': '<IPython.core.display.M…"
      ]
     },
     "metadata": {},
     "output_type": "display_data"
    }
   ],
   "source": [
    "from qualtran.drawing import show_bloqs\n",
    "show_bloqs([nr_inv_sqrt],\n",
    "           ['`nr_inv_sqrt`'])"
   ]
  },
  {
   "cell_type": "markdown",
   "id": "dea2dd4a",
   "metadata": {
    "cq.autogen": "NewtonRaphsonApproxInverseSquareRoot.call_graph.md"
   },
   "source": [
    "### Call Graph"
   ]
  },
  {
   "cell_type": "code",
   "execution_count": 9,
   "id": "7c28f4e7",
   "metadata": {
    "cq.autogen": "NewtonRaphsonApproxInverseSquareRoot.call_graph.py"
   },
   "outputs": [
    {
     "data": {
      "image/svg+xml": [
       "<svg xmlns=\"http://www.w3.org/2000/svg\" xmlns:xlink=\"http://www.w3.org/1999/xlink\" width=\"736pt\" height=\"131pt\" viewBox=\"0.00 0.00 735.50 131.00\">\n",
       "<g id=\"graph0\" class=\"graph\" transform=\"scale(1 1) rotate(0) translate(4 127)\">\n",
       "<title>counts</title>\n",
       "<polygon fill=\"white\" stroke=\"transparent\" points=\"-4,4 -4,-127 731.5,-127 731.5,4 -4,4\"/>\n",
       "<!-- b0 -->\n",
       "<g id=\"node1\" class=\"node\">\n",
       "<title>b0</title>\n",
       "<polygon fill=\"none\" stroke=\"black\" points=\"457.5,-123 146.5,-123 146.5,-87 457.5,-87 457.5,-123\"/>\n",
       "<text text-anchor=\"start\" x=\"266\" y=\"-106.8\" font-family=\"Times,serif\" font-size=\"14.00\">y = x^{-1/2}</text>\n",
       "<text text-anchor=\"start\" x=\"154.5\" y=\"-96\" font-family=\"monospace\" font-size=\"10.00\">x_sq_bitsize=7, poly_bitsize=8, target_bitsize=12</text>\n",
       "</g>\n",
       "<!-- b1 -->\n",
       "<g id=\"node2\" class=\"node\">\n",
       "<title>b1</title>\n",
       "<polygon fill=\"none\" stroke=\"black\" points=\"124,-36 0,-36 0,0 124,0 124,-36\"/>\n",
       "<text text-anchor=\"start\" x=\"8\" y=\"-19.8\" font-family=\"Times,serif\" font-size=\"14.00\">SquareRealNumber</text>\n",
       "<text text-anchor=\"start\" x=\"34.5\" y=\"-9\" font-family=\"monospace\" font-size=\"10.00\">bitsize=8</text>\n",
       "</g>\n",
       "<!-- b0&#45;&gt;b1 -->\n",
       "<g id=\"edge1\" class=\"edge\">\n",
       "<title>b0-&gt;b1</title>\n",
       "<path fill=\"none\" stroke=\"black\" d=\"M253.72,-86.9C215.07,-73.21 160.74,-53.97 119.78,-39.46\"/>\n",
       "<polygon fill=\"black\" stroke=\"black\" points=\"120.8,-36.11 110.2,-36.07 118.46,-42.71 120.8,-36.11\"/>\n",
       "<text text-anchor=\"middle\" x=\"200.5\" y=\"-57.8\" font-family=\"Times,serif\" font-size=\"14.00\">1</text>\n",
       "</g>\n",
       "<!-- b2 -->\n",
       "<g id=\"node3\" class=\"node\">\n",
       "<title>b2</title>\n",
       "<polygon fill=\"none\" stroke=\"black\" points=\"303.5,-36 142.5,-36 142.5,0 303.5,0 303.5,-36\"/>\n",
       "<text text-anchor=\"start\" x=\"180.5\" y=\"-19.8\" font-family=\"Times,serif\" font-size=\"14.00\">ScaleIntByReal</text>\n",
       "<text text-anchor=\"start\" x=\"150.5\" y=\"-9\" font-family=\"monospace\" font-size=\"10.00\">r_bitsize=8, i_bitsize=7</text>\n",
       "</g>\n",
       "<!-- b0&#45;&gt;b2 -->\n",
       "<g id=\"edge2\" class=\"edge\">\n",
       "<title>b0-&gt;b2</title>\n",
       "<path fill=\"none\" stroke=\"black\" d=\"M286.01,-86.8C274.45,-74.36 258.66,-57.36 245.77,-43.5\"/>\n",
       "<polygon fill=\"black\" stroke=\"black\" points=\"248.33,-41.12 238.96,-36.18 243.21,-45.88 248.33,-41.12\"/>\n",
       "<text text-anchor=\"middle\" x=\"271.5\" y=\"-57.8\" font-family=\"Times,serif\" font-size=\"14.00\">1</text>\n",
       "</g>\n",
       "<!-- b3 -->\n",
       "<g id=\"node4\" class=\"node\">\n",
       "<title>b3</title>\n",
       "<polygon fill=\"none\" stroke=\"black\" points=\"440.5,-36 321.5,-36 321.5,0 440.5,0 440.5,-36\"/>\n",
       "<text text-anchor=\"start\" x=\"329.5\" y=\"-19.8\" font-family=\"Times,serif\" font-size=\"14.00\">MultiplyTwoReals</text>\n",
       "<text text-anchor=\"start\" x=\"350.5\" y=\"-9\" font-family=\"monospace\" font-size=\"10.00\">bitsize=12</text>\n",
       "</g>\n",
       "<!-- b0&#45;&gt;b3 -->\n",
       "<g id=\"edge3\" class=\"edge\">\n",
       "<title>b0-&gt;b3</title>\n",
       "<path fill=\"none\" stroke=\"black\" d=\"M317.99,-86.8C329.55,-74.36 345.34,-57.36 358.23,-43.5\"/>\n",
       "<polygon fill=\"black\" stroke=\"black\" points=\"360.79,-45.88 365.04,-36.18 355.67,-41.12 360.79,-45.88\"/>\n",
       "<text text-anchor=\"middle\" x=\"350.5\" y=\"-57.8\" font-family=\"Times,serif\" font-size=\"14.00\">2</text>\n",
       "</g>\n",
       "<!-- b4 -->\n",
       "<g id=\"node5\" class=\"node\">\n",
       "<title>b4</title>\n",
       "<polygon fill=\"none\" stroke=\"black\" points=\"727.5,-36 458.5,-36 458.5,0 727.5,0 727.5,-36\"/>\n",
       "<text text-anchor=\"start\" x=\"581\" y=\"-19.8\" font-family=\"Times,serif\" font-size=\"14.00\">Add</text>\n",
       "<text text-anchor=\"start\" x=\"466.5\" y=\"-9\" font-family=\"monospace\" font-size=\"10.00\">a_dtype=QInt(bit ..., b_dtype=QInt(bit ...</text>\n",
       "</g>\n",
       "<!-- b0&#45;&gt;b4 -->\n",
       "<g id=\"edge4\" class=\"edge\">\n",
       "<title>b0-&gt;b4</title>\n",
       "<path fill=\"none\" stroke=\"black\" d=\"M360.54,-86.9C408,-73.04 474.95,-53.48 524.82,-38.92\"/>\n",
       "<polygon fill=\"black\" stroke=\"black\" points=\"525.94,-42.23 534.56,-36.07 523.98,-35.52 525.94,-42.23\"/>\n",
       "<text text-anchor=\"middle\" x=\"468.5\" y=\"-57.8\" font-family=\"Times,serif\" font-size=\"14.00\">1</text>\n",
       "</g>\n",
       "</g>\n",
       "</svg>"
      ],
      "text/plain": [
       "<IPython.core.display.SVG object>"
      ]
     },
     "metadata": {},
     "output_type": "display_data"
    },
    {
     "data": {
      "text/markdown": [
       "#### Counts totals:\n",
       " - `Add`: 1\n",
       " - `MultiplyTwoReals`: 2\n",
       " - `ScaleIntByReal`: 1\n",
       " - `SquareRealNumber`: 1"
      ],
      "text/plain": [
       "<IPython.core.display.Markdown object>"
      ]
     },
     "metadata": {},
     "output_type": "display_data"
    }
   ],
   "source": [
    "from qualtran.resource_counting.generalizers import ignore_split_join\n",
    "nr_inv_sqrt_g, nr_inv_sqrt_sigma = nr_inv_sqrt.call_graph(max_depth=1, generalizer=ignore_split_join)\n",
    "show_call_graph(nr_inv_sqrt_g)\n",
    "show_counts_sigma(nr_inv_sqrt_sigma)"
   ]
  },
  {
   "cell_type": "markdown",
   "id": "1068ae9e",
   "metadata": {
    "cq.autogen": "QuantumVariableRotation.bloq_doc.md"
   },
   "source": [
    "## `QuantumVariableRotation`\n",
    "Bloq implementing Quantum Variable Rotation\n",
    "\n",
    "$$\n",
    "    \\sum_j c_j|\\phi_j\\rangle \\rightarrow \\sum_j e^{i \\xi \\phi_j}  c_j | \\phi_j\\rangle\n",
    "$$\n",
    "\n",
    "This is the basic implementation in Fig. 14 of the reference.\n",
    "\n",
    "#### Parameters\n",
    " - `bitsize`: The number of bits encoding the phase angle $\\phi_j$. \n",
    "\n",
    "#### Registers\n",
    " - `phi`: a bitsize size register storing the angle $\\phi_j$. \n",
    "\n",
    "#### References\n",
    " - [Faster quantum chemistry simulation on fault-tolerant quantum     computers](https://iopscience.iop.org/article/10.1088/1367-2630/14/11/115023/meta).     Fig 14.\n"
   ]
  },
  {
   "cell_type": "code",
   "execution_count": 10,
   "id": "846d0bd8",
   "metadata": {
    "cq.autogen": "QuantumVariableRotation.bloq_doc.py"
   },
   "outputs": [],
   "source": [
    "from qualtran.bloqs.chemistry.trotter.grid_ham.qvr import QuantumVariableRotation"
   ]
  },
  {
   "cell_type": "markdown",
   "id": "f774d42b",
   "metadata": {
    "cq.autogen": "QuantumVariableRotation.example_instances.md"
   },
   "source": [
    "### Example Instances"
   ]
  },
  {
   "cell_type": "code",
   "execution_count": 11,
   "id": "fcb030c5",
   "metadata": {
    "cq.autogen": "QuantumVariableRotation.qvr"
   },
   "outputs": [],
   "source": [
    "qvr = QuantumVariableRotation(12)"
   ]
  },
  {
   "cell_type": "markdown",
   "id": "f137e98c",
   "metadata": {
    "cq.autogen": "QuantumVariableRotation.graphical_signature.md"
   },
   "source": [
    "#### Graphical Signature"
   ]
  },
  {
   "cell_type": "code",
   "execution_count": 12,
   "id": "46447039",
   "metadata": {
    "cq.autogen": "QuantumVariableRotation.graphical_signature.py"
   },
   "outputs": [
    {
     "data": {
      "application/vnd.jupyter.widget-view+json": {
       "model_id": "6441bd60bf25410fa2e487c801ca344c",
       "version_major": 2,
       "version_minor": 0
      },
      "text/plain": [
       "HBox(children=(Output(outputs=({'output_type': 'display_data', 'data': {'text/plain': '<IPython.core.display.M…"
      ]
     },
     "metadata": {},
     "output_type": "display_data"
    }
   ],
   "source": [
    "from qualtran.drawing import show_bloqs\n",
    "show_bloqs([qvr],\n",
    "           ['`qvr`'])"
   ]
  },
  {
   "cell_type": "markdown",
   "id": "6d0dfb35",
   "metadata": {
    "cq.autogen": "QuantumVariableRotation.call_graph.md"
   },
   "source": [
    "### Call Graph"
   ]
  },
  {
   "cell_type": "code",
   "execution_count": 13,
   "id": "bd149558",
   "metadata": {
    "cq.autogen": "QuantumVariableRotation.call_graph.py"
   },
   "outputs": [
    {
     "data": {
      "image/svg+xml": [
       "<svg xmlns=\"http://www.w3.org/2000/svg\" xmlns:xlink=\"http://www.w3.org/1999/xlink\" width=\"169pt\" height=\"131pt\" viewBox=\"0.00 0.00 169.00 131.00\">\n",
       "<g id=\"graph0\" class=\"graph\" transform=\"scale(1 1) rotate(0) translate(4 127)\">\n",
       "<title>counts</title>\n",
       "<polygon fill=\"white\" stroke=\"transparent\" points=\"-4,4 -4,-127 165,-127 165,4 -4,4\"/>\n",
       "<!-- b0 -->\n",
       "<g id=\"node1\" class=\"node\">\n",
       "<title>b0</title>\n",
       "<polygon fill=\"none\" stroke=\"black\" points=\"131,-123 30,-123 30,-87 131,-87 131,-123\"/>\n",
       "<text text-anchor=\"start\" x=\"53\" y=\"-106.8\" font-family=\"Times,serif\" font-size=\"14.00\">e^{i*phi}</text>\n",
       "<text text-anchor=\"start\" x=\"38\" y=\"-96\" font-family=\"monospace\" font-size=\"10.00\">phi_bitsize=12</text>\n",
       "</g>\n",
       "<!-- b1 -->\n",
       "<g id=\"node2\" class=\"node\">\n",
       "<title>b1</title>\n",
       "<polygon fill=\"none\" stroke=\"black\" points=\"161,-36 0,-36 0,0 161,0 161,-36\"/>\n",
       "<text text-anchor=\"start\" x=\"48.5\" y=\"-19.8\" font-family=\"Times,serif\" font-size=\"14.00\">Rz(_theta0)</text>\n",
       "<text text-anchor=\"start\" x=\"8\" y=\"-9\" font-family=\"monospace\" font-size=\"10.00\">angle=_theta0, eps=1e-11</text>\n",
       "</g>\n",
       "<!-- b0&#45;&gt;b1 -->\n",
       "<g id=\"edge1\" class=\"edge\">\n",
       "<title>b0-&gt;b1</title>\n",
       "<path fill=\"none\" stroke=\"black\" d=\"M80.5,-86.8C80.5,-75.16 80.5,-59.55 80.5,-46.24\"/>\n",
       "<polygon fill=\"black\" stroke=\"black\" points=\"84,-46.18 80.5,-36.18 77,-46.18 84,-46.18\"/>\n",
       "<text text-anchor=\"middle\" x=\"87.5\" y=\"-57.8\" font-family=\"Times,serif\" font-size=\"14.00\">12</text>\n",
       "</g>\n",
       "</g>\n",
       "</svg>"
      ],
      "text/plain": [
       "<IPython.core.display.SVG object>"
      ]
     },
     "metadata": {},
     "output_type": "display_data"
    },
    {
     "data": {
      "text/markdown": [
       "#### Counts totals:\n",
       " - `Rz(_theta0)`: 12"
      ],
      "text/plain": [
       "<IPython.core.display.Markdown object>"
      ]
     },
     "metadata": {},
     "output_type": "display_data"
    }
   ],
   "source": [
    "from qualtran.resource_counting.generalizers import ignore_split_join\n",
    "qvr_g, qvr_sigma = qvr.call_graph(max_depth=1, generalizer=ignore_split_join)\n",
    "show_call_graph(qvr_g)\n",
    "show_counts_sigma(qvr_sigma)"
   ]
  },
  {
   "cell_type": "markdown",
   "id": "b5e724f9",
   "metadata": {
    "cq.autogen": "KineticEnergy.bloq_doc.md"
   },
   "source": [
    "## `KineticEnergy`\n",
    "Bloq for the Kinetic energy unitary defined in the reference.\n",
    "\n",
    "#### Parameters\n",
    " - `num_elec`: The number of electrons.\n",
    " - `num_grid`: The number of grid points in each of the x, y and z directions. In total, for a cubic grid, there are $N = \\mathrm{num\\_grid}^3$ grid points. The number of bits required (in each spatial dimension) is thus log N + 1, where the + 1 is for the sign bit. \n",
    "\n",
    "#### Registers\n",
    " - `system`: The system register of size eta * 3 * nb \n",
    "\n",
    "#### References\n",
    " - [Faster quantum chemistry simulation on fault-tolerant quantum     computers](https://iopscience.iop.org/article/10.1088/1367-2630/14/11/115023/meta). \n"
   ]
  },
  {
   "cell_type": "code",
   "execution_count": 14,
   "id": "65d49288",
   "metadata": {
    "cq.autogen": "KineticEnergy.bloq_doc.py"
   },
   "outputs": [],
   "source": [
    "from qualtran.bloqs.chemistry.trotter.grid_ham import KineticEnergy"
   ]
  },
  {
   "cell_type": "markdown",
   "id": "af274bd4",
   "metadata": {
    "cq.autogen": "KineticEnergy.example_instances.md"
   },
   "source": [
    "### Example Instances"
   ]
  },
  {
   "cell_type": "code",
   "execution_count": 15,
   "id": "1f178e10",
   "metadata": {
    "cq.autogen": "KineticEnergy.kinetic_energy"
   },
   "outputs": [],
   "source": [
    "nelec = 12\n",
    "ngrid_x = 2 * 8 + 1\n",
    "kinetic_energy = KineticEnergy(nelec, ngrid_x)"
   ]
  },
  {
   "cell_type": "markdown",
   "id": "d4504521",
   "metadata": {
    "cq.autogen": "KineticEnergy.graphical_signature.md"
   },
   "source": [
    "#### Graphical Signature"
   ]
  },
  {
   "cell_type": "code",
   "execution_count": 16,
   "id": "363afaa8",
   "metadata": {
    "cq.autogen": "KineticEnergy.graphical_signature.py"
   },
   "outputs": [
    {
     "data": {
      "application/vnd.jupyter.widget-view+json": {
       "model_id": "5d0fdda8f2d3440fb431b5207164bbfd",
       "version_major": 2,
       "version_minor": 0
      },
      "text/plain": [
       "HBox(children=(Output(outputs=({'output_type': 'display_data', 'data': {'text/plain': '<IPython.core.display.M…"
      ]
     },
     "metadata": {},
     "output_type": "display_data"
    }
   ],
   "source": [
    "from qualtran.drawing import show_bloqs\n",
    "show_bloqs([kinetic_energy],\n",
    "           ['`kinetic_energy`'])"
   ]
  },
  {
   "cell_type": "markdown",
   "id": "e98215d5",
   "metadata": {
    "cq.autogen": "KineticEnergy.call_graph.md"
   },
   "source": [
    "### Call Graph"
   ]
  },
  {
   "cell_type": "code",
   "execution_count": 17,
   "id": "c9556aab",
   "metadata": {
    "cq.autogen": "KineticEnergy.call_graph.py"
   },
   "outputs": [
    {
     "data": {
      "image/svg+xml": [
       "<svg xmlns=\"http://www.w3.org/2000/svg\" xmlns:xlink=\"http://www.w3.org/1999/xlink\" width=\"449pt\" height=\"131pt\" viewBox=\"0.00 0.00 449.00 131.00\">\n",
       "<g id=\"graph0\" class=\"graph\" transform=\"scale(1 1) rotate(0) translate(4 127)\">\n",
       "<title>counts</title>\n",
       "<polygon fill=\"white\" stroke=\"transparent\" points=\"-4,4 -4,-127 445,-127 445,4 -4,4\"/>\n",
       "<!-- b0 -->\n",
       "<g id=\"node1\" class=\"node\">\n",
       "<title>b0</title>\n",
       "<polygon fill=\"none\" stroke=\"black\" points=\"250,-123 89,-123 89,-87 250,-87 250,-123\"/>\n",
       "<text text-anchor=\"start\" x=\"147\" y=\"-106.8\" font-family=\"Times,serif\" font-size=\"14.00\">U_T(dt)</text>\n",
       "<text text-anchor=\"start\" x=\"97\" y=\"-96\" font-family=\"monospace\" font-size=\"10.00\">num_elec=12, num_grid=17</text>\n",
       "</g>\n",
       "<!-- b1 -->\n",
       "<g id=\"node2\" class=\"node\">\n",
       "<title>b1</title>\n",
       "<polygon fill=\"none\" stroke=\"black\" points=\"101,-36 0,-36 0,0 101,0 101,-36\"/>\n",
       "<text text-anchor=\"start\" x=\"23\" y=\"-19.8\" font-family=\"Times,serif\" font-size=\"14.00\">e^{i*phi}</text>\n",
       "<text text-anchor=\"start\" x=\"8\" y=\"-9\" font-family=\"monospace\" font-size=\"10.00\">phi_bitsize=14</text>\n",
       "</g>\n",
       "<!-- b0&#45;&gt;b1 -->\n",
       "<g id=\"edge1\" class=\"edge\">\n",
       "<title>b0-&gt;b1</title>\n",
       "<path fill=\"none\" stroke=\"black\" d=\"M145.42,-86.8C127.43,-73.95 102.66,-56.26 82.93,-42.17\"/>\n",
       "<polygon fill=\"black\" stroke=\"black\" points=\"84.72,-39.14 74.55,-36.18 80.65,-44.84 84.72,-39.14\"/>\n",
       "<text text-anchor=\"middle\" x=\"124.5\" y=\"-57.8\" font-family=\"Times,serif\" font-size=\"14.00\">12</text>\n",
       "</g>\n",
       "<!-- b2 -->\n",
       "<g id=\"node3\" class=\"node\">\n",
       "<title>b2</title>\n",
       "<polygon fill=\"none\" stroke=\"black\" points=\"220,-36 119,-36 119,0 220,0 220,-36\"/>\n",
       "<text text-anchor=\"start\" x=\"128\" y=\"-19.8\" font-family=\"Times,serif\" font-size=\"14.00\">SumOfSquares</text>\n",
       "<text text-anchor=\"start\" x=\"127\" y=\"-9\" font-family=\"monospace\" font-size=\"10.00\">bitsize=6, k=3</text>\n",
       "</g>\n",
       "<!-- b0&#45;&gt;b2 -->\n",
       "<g id=\"edge2\" class=\"edge\">\n",
       "<title>b0-&gt;b2</title>\n",
       "<path fill=\"none\" stroke=\"black\" d=\"M169.5,-86.8C169.5,-75.16 169.5,-59.55 169.5,-46.24\"/>\n",
       "<polygon fill=\"black\" stroke=\"black\" points=\"173,-46.18 169.5,-36.18 166,-46.18 173,-46.18\"/>\n",
       "<text text-anchor=\"middle\" x=\"176.5\" y=\"-57.8\" font-family=\"Times,serif\" font-size=\"14.00\">12</text>\n",
       "</g>\n",
       "<!-- b3 -->\n",
       "<g id=\"node4\" class=\"node\">\n",
       "<title>b3</title>\n",
       "<polygon fill=\"none\" stroke=\"black\" points=\"441,-36 238,-36 238,0 441,0 441,-36\"/>\n",
       "<text text-anchor=\"start\" x=\"327\" y=\"-19.8\" font-family=\"Times,serif\" font-size=\"14.00\">Free</text>\n",
       "<text text-anchor=\"start\" x=\"246\" y=\"-9\" font-family=\"monospace\" font-size=\"10.00\">dtype=QAny(bit ..., dirty=False</text>\n",
       "</g>\n",
       "<!-- b0&#45;&gt;b3 -->\n",
       "<g id=\"edge3\" class=\"edge\">\n",
       "<title>b0-&gt;b3</title>\n",
       "<path fill=\"none\" stroke=\"black\" d=\"M203.9,-86.8C230.6,-73.45 267.78,-54.86 296.45,-40.52\"/>\n",
       "<polygon fill=\"black\" stroke=\"black\" points=\"298.06,-43.63 305.44,-36.03 294.93,-37.37 298.06,-43.63\"/>\n",
       "<text text-anchor=\"middle\" x=\"272.5\" y=\"-57.8\" font-family=\"Times,serif\" font-size=\"14.00\">12</text>\n",
       "</g>\n",
       "</g>\n",
       "</svg>"
      ],
      "text/plain": [
       "<IPython.core.display.SVG object>"
      ]
     },
     "metadata": {},
     "output_type": "display_data"
    },
    {
     "data": {
      "text/markdown": [
       "#### Counts totals:\n",
       " - `Free`: 12\n",
       " - `QuantumVariableRotation`: 12\n",
       " - `SumOfSquares`: 12"
      ],
      "text/plain": [
       "<IPython.core.display.Markdown object>"
      ]
     },
     "metadata": {},
     "output_type": "display_data"
    }
   ],
   "source": [
    "from qualtran.resource_counting.generalizers import ignore_split_join\n",
    "kinetic_energy_g, kinetic_energy_sigma = kinetic_energy.call_graph(max_depth=1, generalizer=ignore_split_join)\n",
    "show_call_graph(kinetic_energy_g)\n",
    "show_counts_sigma(kinetic_energy_sigma)"
   ]
  },
  {
   "cell_type": "markdown",
   "id": "23977639",
   "metadata": {
    "cq.autogen": "PairPotential.bloq_doc.md"
   },
   "source": [
    "## `PairPotential`\n",
    "Potential Energy bloq for single pair of particles i and j.\n",
    "\n",
    "#### Parameters\n",
    " - `bitsize`: The number of bits for a single component of the system register.\n",
    " - `qrom_data`: The polynomial coefficients to load by QROM.\n",
    " - `poly_bitsize`: The number of bits of precision for the polynomial coefficients.\n",
    " - `label`: A label for the bloqs short name. The potential bloq can encode any sort of Coulomb interaction (electron-electron, election-ion, ion-ion,...) so can be reused. This label is to distinguish these different cases. \n",
    "\n",
    "#### Registers\n",
    " - `system_i`: The ith electron's register.\n",
    " - `system_j`: The jth electron's register. \n",
    "\n",
    "#### References\n",
    " - [Faster quantum chemistry simulation on fault-tolerant quantum     computers](https://iopscience.iop.org/article/10.1088/1367-2630/14/11/115023/meta). \n"
   ]
  },
  {
   "cell_type": "code",
   "execution_count": 18,
   "id": "d9319ec8",
   "metadata": {
    "cq.autogen": "PairPotential.bloq_doc.py"
   },
   "outputs": [],
   "source": [
    "from qualtran.bloqs.chemistry.trotter.grid_ham.potential import PairPotential, build_qrom_data_for_poly_fit\n",
    "from qualtran.bloqs.chemistry.trotter.grid_ham.inverse_sqrt import get_inverse_square_root_poly_coeffs"
   ]
  },
  {
   "cell_type": "markdown",
   "id": "2cb5c95b",
   "metadata": {
    "cq.autogen": "PairPotential.example_instances.md"
   },
   "source": [
    "### Example Instances"
   ]
  },
  {
   "cell_type": "code",
   "execution_count": 19,
   "id": "ed901b4c",
   "metadata": {
    "cq.autogen": "PairPotential.pair_potential"
   },
   "outputs": [],
   "source": [
    "bitsize = 7\n",
    "poly_bitsize = 15\n",
    "poly_coeffs = get_inverse_square_root_poly_coeffs()\n",
    "qrom_data = build_qrom_data_for_poly_fit(2 * bitsize + 2, poly_bitsize, poly_coeffs)\n",
    "qrom_data = tuple(tuple(int(k) for k in d) for d in qrom_data)\n",
    "pair_potential = PairPotential(bitsize=bitsize, qrom_data=qrom_data, poly_bitsize=poly_bitsize)"
   ]
  },
  {
   "cell_type": "markdown",
   "id": "451bf52f",
   "metadata": {
    "cq.autogen": "PairPotential.graphical_signature.md"
   },
   "source": [
    "#### Graphical Signature"
   ]
  },
  {
   "cell_type": "code",
   "execution_count": 20,
   "id": "e89df3ef",
   "metadata": {
    "cq.autogen": "PairPotential.graphical_signature.py"
   },
   "outputs": [
    {
     "data": {
      "application/vnd.jupyter.widget-view+json": {
       "model_id": "4fae9a52fea24e6fbc88c7606b5b1d63",
       "version_major": 2,
       "version_minor": 0
      },
      "text/plain": [
       "HBox(children=(Output(outputs=({'output_type': 'display_data', 'data': {'text/plain': '<IPython.core.display.M…"
      ]
     },
     "metadata": {},
     "output_type": "display_data"
    }
   ],
   "source": [
    "from qualtran.drawing import show_bloqs\n",
    "show_bloqs([pair_potential],\n",
    "           ['`pair_potential`'])"
   ]
  },
  {
   "cell_type": "markdown",
   "id": "18a392ea",
   "metadata": {
    "cq.autogen": "PairPotential.call_graph.md"
   },
   "source": [
    "### Call Graph"
   ]
  },
  {
   "cell_type": "code",
   "execution_count": 21,
   "id": "feceece7",
   "metadata": {
    "cq.autogen": "PairPotential.call_graph.py"
   },
   "outputs": [
    {
     "data": {
      "image/svg+xml": [
       "<svg xmlns=\"http://www.w3.org/2000/svg\" xmlns:xlink=\"http://www.w3.org/1999/xlink\" width=\"3176pt\" height=\"131pt\" viewBox=\"0.00 0.00 3176.00 131.00\">\n",
       "<g id=\"graph0\" class=\"graph\" transform=\"scale(1 1) rotate(0) translate(4 127)\">\n",
       "<title>counts</title>\n",
       "<polygon fill=\"white\" stroke=\"transparent\" points=\"-4,4 -4,-127 3172,-127 3172,4 -4,4\"/>\n",
       "<!-- b0 -->\n",
       "<g id=\"node1\" class=\"node\">\n",
       "<title>b0</title>\n",
       "<polygon fill=\"none\" stroke=\"black\" points=\"2131,-123 1622,-123 1622,-87 2131,-87 2131,-123\"/>\n",
       "<text text-anchor=\"start\" x=\"1841.5\" y=\"-106.8\" font-family=\"Times,serif\" font-size=\"14.00\">PairPotential</text>\n",
       "<text text-anchor=\"start\" x=\"1630\" y=\"-96\" font-family=\"monospace\" font-size=\"10.00\">bitsize=7, qrom_data=((0, 327 ..., poly_bitsize=15, inv_sqrt_bitsize=24, label='V'</text>\n",
       "</g>\n",
       "<!-- b1 -->\n",
       "<g id=\"node2\" class=\"node\">\n",
       "<title>b1</title>\n",
       "<polygon fill=\"none\" stroke=\"black\" points=\"203,-36 0,-36 0,0 203,0 203,-36\"/>\n",
       "<text text-anchor=\"start\" x=\"78.5\" y=\"-19.8\" font-family=\"Times,serif\" font-size=\"14.00\">Allocate</text>\n",
       "<text text-anchor=\"start\" x=\"8\" y=\"-9\" font-family=\"monospace\" font-size=\"10.00\">dtype=QAny(bit ..., dirty=False</text>\n",
       "</g>\n",
       "<!-- b0&#45;&gt;b1 -->\n",
       "<g id=\"edge1\" class=\"edge\">\n",
       "<title>b0-&gt;b1</title>\n",
       "<path fill=\"none\" stroke=\"black\" d=\"M1621.99,-100.63C1369.88,-96.41 972.83,-87.36 629.5,-69 446.68,-59.22 398.29,-57.63 213.12,-36.15\"/>\n",
       "<polygon fill=\"black\" stroke=\"black\" points=\"213.39,-32.66 203.05,-34.98 212.58,-39.61 213.39,-32.66\"/>\n",
       "<text text-anchor=\"middle\" x=\"633\" y=\"-57.8\" font-family=\"Times,serif\" font-size=\"14.00\">5</text>\n",
       "</g>\n",
       "<!-- b2 -->\n",
       "<g id=\"node3\" class=\"node\">\n",
       "<title>b2</title>\n",
       "<polygon fill=\"none\" stroke=\"black\" points=\"544,-36 221,-36 221,0 544,0 544,-36\"/>\n",
       "<text text-anchor=\"start\" x=\"346.5\" y=\"-19.8\" font-family=\"Times,serif\" font-size=\"14.00\">y = x^{-1/2}</text>\n",
       "<text text-anchor=\"start\" x=\"229\" y=\"-9\" font-family=\"monospace\" font-size=\"10.00\">x_sq_bitsize=18, poly_bitsize=15, target_bitsize=24</text>\n",
       "</g>\n",
       "<!-- b0&#45;&gt;b2 -->\n",
       "<g id=\"edge2\" class=\"edge\">\n",
       "<title>b0-&gt;b2</title>\n",
       "<path fill=\"none\" stroke=\"black\" d=\"M1621.88,-102.47C1400.13,-99.56 1070.14,-91.41 783.5,-69 690.27,-61.71 585.4,-48.46 506.3,-37.42\"/>\n",
       "<polygon fill=\"black\" stroke=\"black\" points=\"506.68,-33.94 496.3,-36.02 505.71,-40.88 506.68,-33.94\"/>\n",
       "<text text-anchor=\"middle\" x=\"787\" y=\"-57.8\" font-family=\"Times,serif\" font-size=\"14.00\">1</text>\n",
       "</g>\n",
       "<!-- b3 -->\n",
       "<g id=\"node4\" class=\"node\">\n",
       "<title>b3</title>\n",
       "<polygon fill=\"none\" stroke=\"black\" points=\"663,-36 562,-36 562,0 663,0 663,-36\"/>\n",
       "<text text-anchor=\"start\" x=\"585\" y=\"-19.8\" font-family=\"Times,serif\" font-size=\"14.00\">e^{i*phi}</text>\n",
       "<text text-anchor=\"start\" x=\"570\" y=\"-9\" font-family=\"monospace\" font-size=\"10.00\">phi_bitsize=24</text>\n",
       "</g>\n",
       "<!-- b0&#45;&gt;b3 -->\n",
       "<g id=\"edge3\" class=\"edge\">\n",
       "<title>b0-&gt;b3</title>\n",
       "<path fill=\"none\" stroke=\"black\" d=\"M1621.94,-95.53C1463.03,-89.6 1254.24,-80.66 1069.5,-69 895.64,-58.03 847.84,-67.69 673.24,-36.13\"/>\n",
       "<polygon fill=\"black\" stroke=\"black\" points=\"673.66,-32.65 663.2,-34.3 672.4,-39.54 673.66,-32.65\"/>\n",
       "<text text-anchor=\"middle\" x=\"1073\" y=\"-57.8\" font-family=\"Times,serif\" font-size=\"14.00\">1</text>\n",
       "</g>\n",
       "<!-- b4 -->\n",
       "<g id=\"node5\" class=\"node\">\n",
       "<title>b4</title>\n",
       "<polygon fill=\"none\" stroke=\"black\" points=\"884,-36 681,-36 681,0 884,0 884,-36\"/>\n",
       "<text text-anchor=\"start\" x=\"770\" y=\"-19.8\" font-family=\"Times,serif\" font-size=\"14.00\">Free</text>\n",
       "<text text-anchor=\"start\" x=\"689\" y=\"-9\" font-family=\"monospace\" font-size=\"10.00\">dtype=QAny(bit ..., dirty=False</text>\n",
       "</g>\n",
       "<!-- b0&#45;&gt;b4 -->\n",
       "<g id=\"edge4\" class=\"edge\">\n",
       "<title>b0-&gt;b4</title>\n",
       "<path fill=\"none\" stroke=\"black\" d=\"M1621.89,-92.31C1425.53,-81.89 1147.04,-64.06 894.17,-36.14\"/>\n",
       "<polygon fill=\"black\" stroke=\"black\" points=\"894.37,-32.64 884.05,-35.01 893.6,-39.6 894.37,-32.64\"/>\n",
       "<text text-anchor=\"middle\" x=\"1248\" y=\"-57.8\" font-family=\"Times,serif\" font-size=\"14.00\">5</text>\n",
       "</g>\n",
       "<!-- b5 -->\n",
       "<g id=\"node6\" class=\"node\">\n",
       "<title>b5</title>\n",
       "<polygon fill=\"none\" stroke=\"black\" points=\"1675,-36 902,-36 902,0 1675,0 1675,-36\"/>\n",
       "<text text-anchor=\"start\" x=\"1267.5\" y=\"-19.8\" font-family=\"Times,serif\" font-size=\"14.00\">QROM</text>\n",
       "<text text-anchor=\"start\" x=\"910\" y=\"-9\" font-family=\"monospace\" font-size=\"10.00\">data_or_shape=(array([ ..., selection_bitsizes=(18,), target_bitsizes=(15, 15, ..., target_shapes=((), (), ..., num_controls=0</text>\n",
       "</g>\n",
       "<!-- b0&#45;&gt;b5 -->\n",
       "<g id=\"edge5\" class=\"edge\">\n",
       "<title>b0-&gt;b5</title>\n",
       "<path fill=\"none\" stroke=\"black\" d=\"M1758.57,-86.95C1659.45,-72.62 1518.06,-52.18 1416.27,-37.47\"/>\n",
       "<polygon fill=\"black\" stroke=\"black\" points=\"1416.63,-33.99 1406.23,-36.02 1415.63,-40.91 1416.63,-33.99\"/>\n",
       "<text text-anchor=\"middle\" x=\"1622\" y=\"-57.8\" font-family=\"Times,serif\" font-size=\"14.00\">1</text>\n",
       "</g>\n",
       "<!-- b6 -->\n",
       "<g id=\"node7\" class=\"node\">\n",
       "<title>b6</title>\n",
       "<polygon fill=\"none\" stroke=\"black\" points=\"1866,-36 1693,-36 1693,0 1866,0 1866,-36\"/>\n",
       "<text text-anchor=\"start\" x=\"1730.5\" y=\"-19.8\" font-family=\"Times,serif\" font-size=\"14.00\">OutOfPlaceAdder</text>\n",
       "<text text-anchor=\"start\" x=\"1701\" y=\"-9\" font-family=\"monospace\" font-size=\"10.00\">bitsize=7, is_adjoint=True</text>\n",
       "</g>\n",
       "<!-- b0&#45;&gt;b6 -->\n",
       "<g id=\"edge6\" class=\"edge\">\n",
       "<title>b0-&gt;b6</title>\n",
       "<path fill=\"none\" stroke=\"black\" d=\"M1856.87,-86.8C1842.54,-74.24 1822.92,-57.05 1807.03,-43.12\"/>\n",
       "<polygon fill=\"black\" stroke=\"black\" points=\"1808.93,-40.13 1799.1,-36.18 1804.31,-45.4 1808.93,-40.13\"/>\n",
       "<text text-anchor=\"middle\" x=\"1838\" y=\"-57.8\" font-family=\"Times,serif\" font-size=\"14.00\">3</text>\n",
       "</g>\n",
       "<!-- b7 -->\n",
       "<g id=\"node8\" class=\"node\">\n",
       "<title>b7</title>\n",
       "<polygon fill=\"none\" stroke=\"black\" points=\"2063,-36 1884,-36 1884,0 2063,0 2063,-36\"/>\n",
       "<text text-anchor=\"start\" x=\"1924.5\" y=\"-19.8\" font-family=\"Times,serif\" font-size=\"14.00\">OutOfPlaceAdder</text>\n",
       "<text text-anchor=\"start\" x=\"1892\" y=\"-9\" font-family=\"monospace\" font-size=\"10.00\">bitsize=7, is_adjoint=False</text>\n",
       "</g>\n",
       "<!-- b0&#45;&gt;b7 -->\n",
       "<g id=\"edge7\" class=\"edge\">\n",
       "<title>b0-&gt;b7</title>\n",
       "<path fill=\"none\" stroke=\"black\" d=\"M1896.13,-86.8C1910.46,-74.24 1930.08,-57.05 1945.97,-43.12\"/>\n",
       "<polygon fill=\"black\" stroke=\"black\" points=\"1948.69,-45.4 1953.9,-36.18 1944.07,-40.13 1948.69,-45.4\"/>\n",
       "<text text-anchor=\"middle\" x=\"1935\" y=\"-57.8\" font-family=\"Times,serif\" font-size=\"14.00\">3</text>\n",
       "</g>\n",
       "<!-- b8 -->\n",
       "<g id=\"node9\" class=\"node\">\n",
       "<title>b8</title>\n",
       "<polygon fill=\"none\" stroke=\"black\" points=\"2284,-36 2081,-36 2081,0 2284,0 2284,-36\"/>\n",
       "<text text-anchor=\"start\" x=\"2170\" y=\"-19.8\" font-family=\"Times,serif\" font-size=\"14.00\">Free</text>\n",
       "<text text-anchor=\"start\" x=\"2089\" y=\"-9\" font-family=\"monospace\" font-size=\"10.00\">dtype=QAny(bit ..., dirty=False</text>\n",
       "</g>\n",
       "<!-- b0&#45;&gt;b8 -->\n",
       "<g id=\"edge8\" class=\"edge\">\n",
       "<title>b0-&gt;b8</title>\n",
       "<path fill=\"none\" stroke=\"black\" d=\"M1938.06,-86.9C1988.06,-73.01 2058.66,-53.4 2111.13,-38.82\"/>\n",
       "<polygon fill=\"black\" stroke=\"black\" points=\"2112.34,-42.12 2121.04,-36.07 2110.47,-35.38 2112.34,-42.12\"/>\n",
       "<text text-anchor=\"middle\" x=\"2052\" y=\"-57.8\" font-family=\"Times,serif\" font-size=\"14.00\">1</text>\n",
       "</g>\n",
       "<!-- b9 -->\n",
       "<g id=\"node10\" class=\"node\">\n",
       "<title>b9</title>\n",
       "<polygon fill=\"none\" stroke=\"black\" points=\"2403,-36 2302,-36 2302,0 2403,0 2403,-36\"/>\n",
       "<text text-anchor=\"start\" x=\"2311\" y=\"-19.8\" font-family=\"Times,serif\" font-size=\"14.00\">SumOfSquares</text>\n",
       "<text text-anchor=\"start\" x=\"2310\" y=\"-9\" font-family=\"monospace\" font-size=\"10.00\">bitsize=8, k=3</text>\n",
       "</g>\n",
       "<!-- b0&#45;&gt;b9 -->\n",
       "<g id=\"edge9\" class=\"edge\">\n",
       "<title>b0-&gt;b9</title>\n",
       "<path fill=\"none\" stroke=\"black\" d=\"M2004.21,-86.98C2084.3,-75.38 2189.77,-58.45 2291.98,-35.98\"/>\n",
       "<polygon fill=\"black\" stroke=\"black\" points=\"2292.86,-39.37 2301.86,-33.79 2291.34,-32.53 2292.86,-39.37\"/>\n",
       "<text text-anchor=\"middle\" x=\"2206\" y=\"-57.8\" font-family=\"Times,serif\" font-size=\"14.00\">1</text>\n",
       "</g>\n",
       "<!-- b10 -->\n",
       "<g id=\"node11\" class=\"node\">\n",
       "<title>b10</title>\n",
       "<polygon fill=\"none\" stroke=\"black\" points=\"2624,-36 2421,-36 2421,0 2624,0 2624,-36\"/>\n",
       "<text text-anchor=\"start\" x=\"2499.5\" y=\"-19.8\" font-family=\"Times,serif\" font-size=\"14.00\">Allocate</text>\n",
       "<text text-anchor=\"start\" x=\"2429\" y=\"-9\" font-family=\"monospace\" font-size=\"10.00\">dtype=QAny(bit ..., dirty=False</text>\n",
       "</g>\n",
       "<!-- b0&#45;&gt;b10 -->\n",
       "<g id=\"edge10\" class=\"edge\">\n",
       "<title>b0-&gt;b10</title>\n",
       "<path fill=\"none\" stroke=\"black\" d=\"M2059.05,-86.96C2109.18,-81.75 2163.5,-75.64 2213.5,-69 2281.1,-60.03 2356.68,-47.84 2416.17,-37.74\"/>\n",
       "<polygon fill=\"black\" stroke=\"black\" points=\"2417.05,-41.14 2426.32,-36.01 2415.88,-34.24 2417.05,-41.14\"/>\n",
       "<text text-anchor=\"middle\" x=\"2320\" y=\"-57.8\" font-family=\"Times,serif\" font-size=\"14.00\">1</text>\n",
       "</g>\n",
       "<!-- b11 -->\n",
       "<g id=\"node12\" class=\"node\">\n",
       "<title>b11</title>\n",
       "<polygon fill=\"none\" stroke=\"black\" points=\"2845,-36 2642,-36 2642,0 2845,0 2845,-36\"/>\n",
       "<text text-anchor=\"start\" x=\"2731\" y=\"-19.8\" font-family=\"Times,serif\" font-size=\"14.00\">Free</text>\n",
       "<text text-anchor=\"start\" x=\"2650\" y=\"-9\" font-family=\"monospace\" font-size=\"10.00\">dtype=QAny(bit ..., dirty=False</text>\n",
       "</g>\n",
       "<!-- b0&#45;&gt;b11 -->\n",
       "<g id=\"edge11\" class=\"edge\">\n",
       "<title>b0-&gt;b11</title>\n",
       "<path fill=\"none\" stroke=\"black\" d=\"M2121.33,-86.99C2266.84,-75.66 2455.17,-58.87 2631.89,-36.04\"/>\n",
       "<polygon fill=\"black\" stroke=\"black\" points=\"2632.44,-39.5 2641.9,-34.74 2631.53,-32.56 2632.44,-39.5\"/>\n",
       "<text text-anchor=\"middle\" x=\"2471\" y=\"-57.8\" font-family=\"Times,serif\" font-size=\"14.00\">1</text>\n",
       "</g>\n",
       "<!-- b12 -->\n",
       "<g id=\"node13\" class=\"node\">\n",
       "<title>b12</title>\n",
       "<polygon fill=\"none\" stroke=\"black\" points=\"3168,-36 2863,-36 2863,0 3168,0 3168,-36\"/>\n",
       "<text text-anchor=\"start\" x=\"2980\" y=\"-19.8\" font-family=\"Times,serif\" font-size=\"14.00\">y ~ x^{-1/2}</text>\n",
       "<text text-anchor=\"start\" x=\"2871\" y=\"-9\" font-family=\"monospace\" font-size=\"10.00\">x_sq_bitsize=18, poly_bitsize=15, out_bitsize=15</text>\n",
       "</g>\n",
       "<!-- b0&#45;&gt;b12 -->\n",
       "<g id=\"edge12\" class=\"edge\">\n",
       "<title>b0-&gt;b12</title>\n",
       "<path fill=\"none\" stroke=\"black\" d=\"M2131.08,-90.86C2238.37,-84.9 2364.56,-77.31 2478.5,-69 2642.54,-57.04 2685.85,-52.33 2852.84,-36.16\"/>\n",
       "<polygon fill=\"black\" stroke=\"black\" points=\"2853.35,-39.62 2862.97,-35.18 2852.68,-32.65 2853.35,-39.62\"/>\n",
       "<text text-anchor=\"middle\" x=\"2664\" y=\"-57.8\" font-family=\"Times,serif\" font-size=\"14.00\">1</text>\n",
       "</g>\n",
       "</g>\n",
       "</svg>"
      ],
      "text/plain": [
       "<IPython.core.display.SVG object>"
      ]
     },
     "metadata": {},
     "output_type": "display_data"
    },
    {
     "data": {
      "text/markdown": [
       "#### Counts totals:\n",
       " - `Allocate`: 1\n",
       " - `Allocate`: 5\n",
       " - `Free`: 1\n",
       " - `Free`: 1\n",
       " - `Free`: 5\n",
       " - `NewtonRaphsonApproxInverseSquareRoot`: 1\n",
       " - `OutOfPlaceAdder`: 3\n",
       " - `OutOfPlaceAdder`: 3\n",
       " - `PolynmomialEvaluationInverseSquareRoot`: 1\n",
       " - `QROM`: 1\n",
       " - `QuantumVariableRotation`: 1\n",
       " - `SumOfSquares`: 1"
      ],
      "text/plain": [
       "<IPython.core.display.Markdown object>"
      ]
     },
     "metadata": {},
     "output_type": "display_data"
    }
   ],
   "source": [
    "from qualtran.resource_counting.generalizers import ignore_split_join\n",
    "pair_potential_g, pair_potential_sigma = pair_potential.call_graph(max_depth=1, generalizer=ignore_split_join)\n",
    "show_call_graph(pair_potential_g)\n",
    "show_counts_sigma(pair_potential_sigma)"
   ]
  },
  {
   "cell_type": "markdown",
   "id": "a3728b06",
   "metadata": {
    "cq.autogen": "PotentialEnergy.bloq_doc.md"
   },
   "source": [
    "## `PotentialEnergy`\n",
    "Bloq for a Coulombic Unitary.\n",
    "\n",
    "This is a basic implementation which just iterates through num_elec *\n",
    "(num_elec - 1) electron pairs.\n",
    "\n",
    "#### Parameters\n",
    " - `num_elec`: The number of electrons.\n",
    " - `num_grid`: The number of grid points in each of the x, y and z directions. In total, for a cubic grid there are N = num_grid**3 grid points. The number of bits required (in each spatial dimension) is thus log N + 1, where the + 1 is for the sign bit.\n",
    " - `label`: A label for the bloqs short name. The potential bloq can encode any sort of Coulomb interaction (electron-electron, election-ion, ion-ion,...) so can be reused. This label is to distinguish these different cases. \n",
    "\n",
    "#### Registers\n",
    " - `system`: The system register of size eta * 3 * nb \n",
    "\n",
    "#### References\n",
    " - [Faster quantum chemistry simulation on fault-tolerant quantum     computers](https://iopscience.iop.org/article/10.1088/1367-2630/14/11/115023/meta). \n"
   ]
  },
  {
   "cell_type": "code",
   "execution_count": 22,
   "id": "107f7336",
   "metadata": {
    "cq.autogen": "PotentialEnergy.bloq_doc.py"
   },
   "outputs": [],
   "source": [
    "from qualtran.bloqs.chemistry.trotter.grid_ham import PotentialEnergy"
   ]
  },
  {
   "cell_type": "markdown",
   "id": "86aa0dec",
   "metadata": {
    "cq.autogen": "PotentialEnergy.example_instances.md"
   },
   "source": [
    "### Example Instances"
   ]
  },
  {
   "cell_type": "code",
   "execution_count": 23,
   "id": "f2c8ba5e",
   "metadata": {
    "cq.autogen": "PotentialEnergy.potential_energy"
   },
   "outputs": [],
   "source": [
    "nelec = 12\n",
    "ngrid_x = 2 * 8 + 1\n",
    "potential_energy = PotentialEnergy(nelec, ngrid_x)"
   ]
  },
  {
   "cell_type": "markdown",
   "id": "c74d2828",
   "metadata": {
    "cq.autogen": "PotentialEnergy.graphical_signature.md"
   },
   "source": [
    "#### Graphical Signature"
   ]
  },
  {
   "cell_type": "code",
   "execution_count": 24,
   "id": "7509a7f3",
   "metadata": {
    "cq.autogen": "PotentialEnergy.graphical_signature.py"
   },
   "outputs": [
    {
     "data": {
      "application/vnd.jupyter.widget-view+json": {
       "model_id": "4554ac8dbf7941a6bcdf96dd68a7f924",
       "version_major": 2,
       "version_minor": 0
      },
      "text/plain": [
       "HBox(children=(Output(outputs=({'output_type': 'display_data', 'data': {'text/plain': '<IPython.core.display.M…"
      ]
     },
     "metadata": {},
     "output_type": "display_data"
    }
   ],
   "source": [
    "from qualtran.drawing import show_bloqs\n",
    "show_bloqs([potential_energy],\n",
    "           ['`potential_energy`'])"
   ]
  },
  {
   "cell_type": "markdown",
   "id": "278e75f6",
   "metadata": {
    "cq.autogen": "PotentialEnergy.call_graph.md"
   },
   "source": [
    "### Call Graph"
   ]
  },
  {
   "cell_type": "code",
   "execution_count": 25,
   "id": "c7ee3593",
   "metadata": {
    "cq.autogen": "PotentialEnergy.call_graph.py"
   },
   "outputs": [
    {
     "data": {
      "image/svg+xml": [
       "<svg xmlns=\"http://www.w3.org/2000/svg\" xmlns:xlink=\"http://www.w3.org/1999/xlink\" width=\"517pt\" height=\"131pt\" viewBox=\"0.00 0.00 517.00 131.00\">\n",
       "<g id=\"graph0\" class=\"graph\" transform=\"scale(1 1) rotate(0) translate(4 127)\">\n",
       "<title>counts</title>\n",
       "<polygon fill=\"white\" stroke=\"transparent\" points=\"-4,4 -4,-127 513,-127 513,4 -4,4\"/>\n",
       "<!-- b0 -->\n",
       "<g id=\"node1\" class=\"node\">\n",
       "<title>b0</title>\n",
       "<polygon fill=\"none\" stroke=\"black\" points=\"419,-123 90,-123 90,-87 419,-87 419,-123\"/>\n",
       "<text text-anchor=\"start\" x=\"210.5\" y=\"-106.8\" font-family=\"Times,serif\" font-size=\"14.00\">PotentialEnergy</text>\n",
       "<text text-anchor=\"start\" x=\"98\" y=\"-96\" font-family=\"monospace\" font-size=\"10.00\">num_elec=12, num_grid=17, poly_bitsize=15, label='V'</text>\n",
       "</g>\n",
       "<!-- b1 -->\n",
       "<g id=\"node2\" class=\"node\">\n",
       "<title>b1</title>\n",
       "<polygon fill=\"none\" stroke=\"black\" points=\"509,-36 0,-36 0,0 509,0 509,-36\"/>\n",
       "<text text-anchor=\"start\" x=\"219.5\" y=\"-19.8\" font-family=\"Times,serif\" font-size=\"14.00\">PairPotential</text>\n",
       "<text text-anchor=\"start\" x=\"8\" y=\"-9\" font-family=\"monospace\" font-size=\"10.00\">bitsize=6, qrom_data=((0, 327 ..., poly_bitsize=15, inv_sqrt_bitsize=24, label='V'</text>\n",
       "</g>\n",
       "<!-- b0&#45;&gt;b1 -->\n",
       "<g id=\"edge1\" class=\"edge\">\n",
       "<title>b0-&gt;b1</title>\n",
       "<path fill=\"none\" stroke=\"black\" d=\"M254.5,-86.8C254.5,-75.16 254.5,-59.55 254.5,-46.24\"/>\n",
       "<polygon fill=\"black\" stroke=\"black\" points=\"258,-46.18 254.5,-36.18 251,-46.18 258,-46.18\"/>\n",
       "<text text-anchor=\"middle\" x=\"261.5\" y=\"-57.8\" font-family=\"Times,serif\" font-size=\"14.00\">66</text>\n",
       "</g>\n",
       "</g>\n",
       "</svg>"
      ],
      "text/plain": [
       "<IPython.core.display.SVG object>"
      ]
     },
     "metadata": {},
     "output_type": "display_data"
    },
    {
     "data": {
      "text/markdown": [
       "#### Counts totals:\n",
       " - `PairPotential`: 66"
      ],
      "text/plain": [
       "<IPython.core.display.Markdown object>"
      ]
     },
     "metadata": {},
     "output_type": "display_data"
    }
   ],
   "source": [
    "from qualtran.resource_counting.generalizers import ignore_split_join\n",
    "potential_energy_g, potential_energy_sigma = potential_energy.call_graph(max_depth=1, generalizer=ignore_split_join)\n",
    "show_call_graph(potential_energy_g)\n",
    "show_counts_sigma(potential_energy_sigma)"
   ]
  }
 ],
 "metadata": {
  "kernelspec": {
   "display_name": "Python 3",
   "language": "python",
   "name": "python3"
  },
  "language_info": {
   "codemirror_mode": {
    "name": "ipython",
    "version": 3
   },
   "file_extension": ".py",
   "mimetype": "text/x-python",
   "name": "python",
   "nbconvert_exporter": "python",
   "pygments_lexer": "ipython3",
   "version": "3.11.8"
  },
  "widgets": {
   "application/vnd.jupyter.widget-state+json": {
    "state": {
     "0e7c494283494ef1a92c6d9c304e2343": {
      "model_module": "@jupyter-widgets/base",
      "model_module_version": "2.0.0",
      "model_name": "LayoutModel",
      "state": {
       "_model_module": "@jupyter-widgets/base",
       "_model_module_version": "2.0.0",
       "_model_name": "LayoutModel",
       "_view_count": null,
       "_view_module": "@jupyter-widgets/base",
       "_view_module_version": "2.0.0",
       "_view_name": "LayoutView",
       "align_content": null,
       "align_items": null,
       "align_self": null,
       "border_bottom": null,
       "border_left": null,
       "border_right": null,
       "border_top": null,
       "bottom": null,
       "display": null,
       "flex": null,
       "flex_flow": null,
       "grid_area": null,
       "grid_auto_columns": null,
       "grid_auto_flow": null,
       "grid_auto_rows": null,
       "grid_column": null,
       "grid_gap": null,
       "grid_row": null,
       "grid_template_areas": null,
       "grid_template_columns": null,
       "grid_template_rows": null,
       "height": null,
       "justify_content": null,
       "justify_items": null,
       "left": null,
       "margin": null,
       "max_height": null,
       "max_width": null,
       "min_height": null,
       "min_width": null,
       "object_fit": null,
       "object_position": null,
       "order": null,
       "overflow": null,
       "padding": null,
       "right": null,
       "top": null,
       "visibility": null,
       "width": null
      }
     },
     "2623e49e7914417ab19a99605b74d4bc": {
      "model_module": "@jupyter-widgets/base",
      "model_module_version": "2.0.0",
      "model_name": "LayoutModel",
      "state": {
       "_model_module": "@jupyter-widgets/base",
       "_model_module_version": "2.0.0",
       "_model_name": "LayoutModel",
       "_view_count": null,
       "_view_module": "@jupyter-widgets/base",
       "_view_module_version": "2.0.0",
       "_view_name": "LayoutView",
       "align_content": null,
       "align_items": null,
       "align_self": null,
       "border_bottom": null,
       "border_left": null,
       "border_right": null,
       "border_top": null,
       "bottom": null,
       "display": null,
       "flex": null,
       "flex_flow": null,
       "grid_area": null,
       "grid_auto_columns": null,
       "grid_auto_flow": null,
       "grid_auto_rows": null,
       "grid_column": null,
       "grid_gap": null,
       "grid_row": null,
       "grid_template_areas": null,
       "grid_template_columns": null,
       "grid_template_rows": null,
       "height": null,
       "justify_content": null,
       "justify_items": null,
       "left": null,
       "margin": null,
       "max_height": null,
       "max_width": null,
       "min_height": null,
       "min_width": null,
       "object_fit": null,
       "object_position": null,
       "order": null,
       "overflow": null,
       "padding": null,
       "right": null,
       "top": null,
       "visibility": null,
       "width": null
      }
     },
     "412d84249e9c45b2b07e2f95e2706bfa": {
      "model_module": "@jupyter-widgets/base",
      "model_module_version": "2.0.0",
      "model_name": "LayoutModel",
      "state": {
       "_model_module": "@jupyter-widgets/base",
       "_model_module_version": "2.0.0",
       "_model_name": "LayoutModel",
       "_view_count": null,
       "_view_module": "@jupyter-widgets/base",
       "_view_module_version": "2.0.0",
       "_view_name": "LayoutView",
       "align_content": null,
       "align_items": null,
       "align_self": null,
       "border_bottom": null,
       "border_left": null,
       "border_right": null,
       "border_top": null,
       "bottom": null,
       "display": null,
       "flex": null,
       "flex_flow": null,
       "grid_area": null,
       "grid_auto_columns": null,
       "grid_auto_flow": null,
       "grid_auto_rows": null,
       "grid_column": null,
       "grid_gap": null,
       "grid_row": null,
       "grid_template_areas": null,
       "grid_template_columns": null,
       "grid_template_rows": null,
       "height": null,
       "justify_content": null,
       "justify_items": null,
       "left": null,
       "margin": null,
       "max_height": null,
       "max_width": null,
       "min_height": null,
       "min_width": null,
       "object_fit": null,
       "object_position": null,
       "order": null,
       "overflow": null,
       "padding": null,
       "right": null,
       "top": null,
       "visibility": null,
       "width": null
      }
     },
     "43788a593e4e4a3d8856febca4bebe4e": {
      "model_module": "@jupyter-widgets/controls",
      "model_module_version": "2.0.0",
      "model_name": "HBoxModel",
      "state": {
       "_dom_classes": [],
       "_model_module": "@jupyter-widgets/controls",
       "_model_module_version": "2.0.0",
       "_model_name": "HBoxModel",
       "_view_count": null,
       "_view_module": "@jupyter-widgets/controls",
       "_view_module_version": "2.0.0",
       "_view_name": "HBoxView",
       "box_style": "",
       "children": [
        "IPY_MODEL_bd614d4942e04bebb4b15a0f82e95773"
       ],
       "layout": "IPY_MODEL_4f9c2d9c5fb244faa0883f6102239dad",
       "tabbable": null,
       "tooltip": null
      }
     },
     "4554ac8dbf7941a6bcdf96dd68a7f924": {
      "model_module": "@jupyter-widgets/controls",
      "model_module_version": "2.0.0",
      "model_name": "HBoxModel",
      "state": {
       "_dom_classes": [],
       "_model_module": "@jupyter-widgets/controls",
       "_model_module_version": "2.0.0",
       "_model_name": "HBoxModel",
       "_view_count": null,
       "_view_module": "@jupyter-widgets/controls",
       "_view_module_version": "2.0.0",
       "_view_name": "HBoxView",
       "box_style": "",
       "children": [
        "IPY_MODEL_de261e719a7c496ea285bba39500f37b"
       ],
       "layout": "IPY_MODEL_8cf5d0a3b56347578d5ac9db1b192127",
       "tabbable": null,
       "tooltip": null
      }
     },
     "4f9c2d9c5fb244faa0883f6102239dad": {
      "model_module": "@jupyter-widgets/base",
      "model_module_version": "2.0.0",
      "model_name": "LayoutModel",
      "state": {
       "_model_module": "@jupyter-widgets/base",
       "_model_module_version": "2.0.0",
       "_model_name": "LayoutModel",
       "_view_count": null,
       "_view_module": "@jupyter-widgets/base",
       "_view_module_version": "2.0.0",
       "_view_name": "LayoutView",
       "align_content": null,
       "align_items": null,
       "align_self": null,
       "border_bottom": null,
       "border_left": null,
       "border_right": null,
       "border_top": null,
       "bottom": null,
       "display": null,
       "flex": null,
       "flex_flow": null,
       "grid_area": null,
       "grid_auto_columns": null,
       "grid_auto_flow": null,
       "grid_auto_rows": null,
       "grid_column": null,
       "grid_gap": null,
       "grid_row": null,
       "grid_template_areas": null,
       "grid_template_columns": null,
       "grid_template_rows": null,
       "height": null,
       "justify_content": null,
       "justify_items": null,
       "left": null,
       "margin": null,
       "max_height": null,
       "max_width": null,
       "min_height": null,
       "min_width": null,
       "object_fit": null,
       "object_position": null,
       "order": null,
       "overflow": null,
       "padding": null,
       "right": null,
       "top": null,
       "visibility": null,
       "width": null
      }
     },
     "4fae9a52fea24e6fbc88c7606b5b1d63": {
      "model_module": "@jupyter-widgets/controls",
      "model_module_version": "2.0.0",
      "model_name": "HBoxModel",
      "state": {
       "_dom_classes": [],
       "_model_module": "@jupyter-widgets/controls",
       "_model_module_version": "2.0.0",
       "_model_name": "HBoxModel",
       "_view_count": null,
       "_view_module": "@jupyter-widgets/controls",
       "_view_module_version": "2.0.0",
       "_view_name": "HBoxView",
       "box_style": "",
       "children": [
        "IPY_MODEL_e4a8237dbc2d4abcaba1b7e6594eaade"
       ],
       "layout": "IPY_MODEL_77a16e7cb74841af8bde0ee873edb350",
       "tabbable": null,
       "tooltip": null
      }
     },
     "500fa964c11f4f89b09809a8cc8ae350": {
      "model_module": "@jupyter-widgets/base",
      "model_module_version": "2.0.0",
      "model_name": "LayoutModel",
      "state": {
       "_model_module": "@jupyter-widgets/base",
       "_model_module_version": "2.0.0",
       "_model_name": "LayoutModel",
       "_view_count": null,
       "_view_module": "@jupyter-widgets/base",
       "_view_module_version": "2.0.0",
       "_view_name": "LayoutView",
       "align_content": null,
       "align_items": null,
       "align_self": null,
       "border_bottom": null,
       "border_left": null,
       "border_right": null,
       "border_top": null,
       "bottom": null,
       "display": null,
       "flex": null,
       "flex_flow": null,
       "grid_area": null,
       "grid_auto_columns": null,
       "grid_auto_flow": null,
       "grid_auto_rows": null,
       "grid_column": null,
       "grid_gap": null,
       "grid_row": null,
       "grid_template_areas": null,
       "grid_template_columns": null,
       "grid_template_rows": null,
       "height": null,
       "justify_content": null,
       "justify_items": null,
       "left": null,
       "margin": null,
       "max_height": null,
       "max_width": null,
       "min_height": null,
       "min_width": null,
       "object_fit": null,
       "object_position": null,
       "order": null,
       "overflow": null,
       "padding": null,
       "right": null,
       "top": null,
       "visibility": null,
       "width": null
      }
     },
     "5a66c9dc3cad455a97316b3d179f0e79": {
      "model_module": "@jupyter-widgets/base",
      "model_module_version": "2.0.0",
      "model_name": "LayoutModel",
      "state": {
       "_model_module": "@jupyter-widgets/base",
       "_model_module_version": "2.0.0",
       "_model_name": "LayoutModel",
       "_view_count": null,
       "_view_module": "@jupyter-widgets/base",
       "_view_module_version": "2.0.0",
       "_view_name": "LayoutView",
       "align_content": null,
       "align_items": null,
       "align_self": null,
       "border_bottom": null,
       "border_left": null,
       "border_right": null,
       "border_top": null,
       "bottom": null,
       "display": null,
       "flex": null,
       "flex_flow": null,
       "grid_area": null,
       "grid_auto_columns": null,
       "grid_auto_flow": null,
       "grid_auto_rows": null,
       "grid_column": null,
       "grid_gap": null,
       "grid_row": null,
       "grid_template_areas": null,
       "grid_template_columns": null,
       "grid_template_rows": null,
       "height": null,
       "justify_content": null,
       "justify_items": null,
       "left": null,
       "margin": null,
       "max_height": null,
       "max_width": null,
       "min_height": null,
       "min_width": null,
       "object_fit": null,
       "object_position": null,
       "order": null,
       "overflow": null,
       "padding": null,
       "right": null,
       "top": null,
       "visibility": null,
       "width": null
      }
     },
     "5d0fdda8f2d3440fb431b5207164bbfd": {
      "model_module": "@jupyter-widgets/controls",
      "model_module_version": "2.0.0",
      "model_name": "HBoxModel",
      "state": {
       "_dom_classes": [],
       "_model_module": "@jupyter-widgets/controls",
       "_model_module_version": "2.0.0",
       "_model_name": "HBoxModel",
       "_view_count": null,
       "_view_module": "@jupyter-widgets/controls",
       "_view_module_version": "2.0.0",
       "_view_name": "HBoxView",
       "box_style": "",
       "children": [
        "IPY_MODEL_fc7d86cec530411fa2fd3040a8df6eb6"
       ],
       "layout": "IPY_MODEL_8e1f65cfd6b14ccd8a0ecc0e64d4b081",
       "tabbable": null,
       "tooltip": null
      }
     },
     "6373b05a1ac84ffc8f67fbe24430823f": {
      "model_module": "@jupyter-widgets/base",
      "model_module_version": "2.0.0",
      "model_name": "LayoutModel",
      "state": {
       "_model_module": "@jupyter-widgets/base",
       "_model_module_version": "2.0.0",
       "_model_name": "LayoutModel",
       "_view_count": null,
       "_view_module": "@jupyter-widgets/base",
       "_view_module_version": "2.0.0",
       "_view_name": "LayoutView",
       "align_content": null,
       "align_items": null,
       "align_self": null,
       "border_bottom": null,
       "border_left": null,
       "border_right": null,
       "border_top": null,
       "bottom": null,
       "display": null,
       "flex": null,
       "flex_flow": null,
       "grid_area": null,
       "grid_auto_columns": null,
       "grid_auto_flow": null,
       "grid_auto_rows": null,
       "grid_column": null,
       "grid_gap": null,
       "grid_row": null,
       "grid_template_areas": null,
       "grid_template_columns": null,
       "grid_template_rows": null,
       "height": null,
       "justify_content": null,
       "justify_items": null,
       "left": null,
       "margin": null,
       "max_height": null,
       "max_width": null,
       "min_height": null,
       "min_width": null,
       "object_fit": null,
       "object_position": null,
       "order": null,
       "overflow": null,
       "padding": null,
       "right": null,
       "top": null,
       "visibility": null,
       "width": null
      }
     },
     "640b9b4fa63c4c47a06772187fd9f1a3": {
      "model_module": "@jupyter-widgets/base",
      "model_module_version": "2.0.0",
      "model_name": "LayoutModel",
      "state": {
       "_model_module": "@jupyter-widgets/base",
       "_model_module_version": "2.0.0",
       "_model_name": "LayoutModel",
       "_view_count": null,
       "_view_module": "@jupyter-widgets/base",
       "_view_module_version": "2.0.0",
       "_view_name": "LayoutView",
       "align_content": null,
       "align_items": null,
       "align_self": null,
       "border_bottom": null,
       "border_left": null,
       "border_right": null,
       "border_top": null,
       "bottom": null,
       "display": null,
       "flex": null,
       "flex_flow": null,
       "grid_area": null,
       "grid_auto_columns": null,
       "grid_auto_flow": null,
       "grid_auto_rows": null,
       "grid_column": null,
       "grid_gap": null,
       "grid_row": null,
       "grid_template_areas": null,
       "grid_template_columns": null,
       "grid_template_rows": null,
       "height": null,
       "justify_content": null,
       "justify_items": null,
       "left": null,
       "margin": null,
       "max_height": null,
       "max_width": null,
       "min_height": null,
       "min_width": null,
       "object_fit": null,
       "object_position": null,
       "order": null,
       "overflow": null,
       "padding": null,
       "right": null,
       "top": null,
       "visibility": null,
       "width": null
      }
     },
     "6441bd60bf25410fa2e487c801ca344c": {
      "model_module": "@jupyter-widgets/controls",
      "model_module_version": "2.0.0",
      "model_name": "HBoxModel",
      "state": {
       "_dom_classes": [],
       "_model_module": "@jupyter-widgets/controls",
       "_model_module_version": "2.0.0",
       "_model_name": "HBoxModel",
       "_view_count": null,
       "_view_module": "@jupyter-widgets/controls",
       "_view_module_version": "2.0.0",
       "_view_name": "HBoxView",
       "box_style": "",
       "children": [
        "IPY_MODEL_a7eafff930a847e5aadc99b8a0405c70"
       ],
       "layout": "IPY_MODEL_5a66c9dc3cad455a97316b3d179f0e79",
       "tabbable": null,
       "tooltip": null
      }
     },
     "77a16e7cb74841af8bde0ee873edb350": {
      "model_module": "@jupyter-widgets/base",
      "model_module_version": "2.0.0",
      "model_name": "LayoutModel",
      "state": {
       "_model_module": "@jupyter-widgets/base",
       "_model_module_version": "2.0.0",
       "_model_name": "LayoutModel",
       "_view_count": null,
       "_view_module": "@jupyter-widgets/base",
       "_view_module_version": "2.0.0",
       "_view_name": "LayoutView",
       "align_content": null,
       "align_items": null,
       "align_self": null,
       "border_bottom": null,
       "border_left": null,
       "border_right": null,
       "border_top": null,
       "bottom": null,
       "display": null,
       "flex": null,
       "flex_flow": null,
       "grid_area": null,
       "grid_auto_columns": null,
       "grid_auto_flow": null,
       "grid_auto_rows": null,
       "grid_column": null,
       "grid_gap": null,
       "grid_row": null,
       "grid_template_areas": null,
       "grid_template_columns": null,
       "grid_template_rows": null,
       "height": null,
       "justify_content": null,
       "justify_items": null,
       "left": null,
       "margin": null,
       "max_height": null,
       "max_width": null,
       "min_height": null,
       "min_width": null,
       "object_fit": null,
       "object_position": null,
       "order": null,
       "overflow": null,
       "padding": null,
       "right": null,
       "top": null,
       "visibility": null,
       "width": null
      }
     },
     "8cf5d0a3b56347578d5ac9db1b192127": {
      "model_module": "@jupyter-widgets/base",
      "model_module_version": "2.0.0",
      "model_name": "LayoutModel",
      "state": {
       "_model_module": "@jupyter-widgets/base",
       "_model_module_version": "2.0.0",
       "_model_name": "LayoutModel",
       "_view_count": null,
       "_view_module": "@jupyter-widgets/base",
       "_view_module_version": "2.0.0",
       "_view_name": "LayoutView",
       "align_content": null,
       "align_items": null,
       "align_self": null,
       "border_bottom": null,
       "border_left": null,
       "border_right": null,
       "border_top": null,
       "bottom": null,
       "display": null,
       "flex": null,
       "flex_flow": null,
       "grid_area": null,
       "grid_auto_columns": null,
       "grid_auto_flow": null,
       "grid_auto_rows": null,
       "grid_column": null,
       "grid_gap": null,
       "grid_row": null,
       "grid_template_areas": null,
       "grid_template_columns": null,
       "grid_template_rows": null,
       "height": null,
       "justify_content": null,
       "justify_items": null,
       "left": null,
       "margin": null,
       "max_height": null,
       "max_width": null,
       "min_height": null,
       "min_width": null,
       "object_fit": null,
       "object_position": null,
       "order": null,
       "overflow": null,
       "padding": null,
       "right": null,
       "top": null,
       "visibility": null,
       "width": null
      }
     },
     "8e1f65cfd6b14ccd8a0ecc0e64d4b081": {
      "model_module": "@jupyter-widgets/base",
      "model_module_version": "2.0.0",
      "model_name": "LayoutModel",
      "state": {
       "_model_module": "@jupyter-widgets/base",
       "_model_module_version": "2.0.0",
       "_model_name": "LayoutModel",
       "_view_count": null,
       "_view_module": "@jupyter-widgets/base",
       "_view_module_version": "2.0.0",
       "_view_name": "LayoutView",
       "align_content": null,
       "align_items": null,
       "align_self": null,
       "border_bottom": null,
       "border_left": null,
       "border_right": null,
       "border_top": null,
       "bottom": null,
       "display": null,
       "flex": null,
       "flex_flow": null,
       "grid_area": null,
       "grid_auto_columns": null,
       "grid_auto_flow": null,
       "grid_auto_rows": null,
       "grid_column": null,
       "grid_gap": null,
       "grid_row": null,
       "grid_template_areas": null,
       "grid_template_columns": null,
       "grid_template_rows": null,
       "height": null,
       "justify_content": null,
       "justify_items": null,
       "left": null,
       "margin": null,
       "max_height": null,
       "max_width": null,
       "min_height": null,
       "min_width": null,
       "object_fit": null,
       "object_position": null,
       "order": null,
       "overflow": null,
       "padding": null,
       "right": null,
       "top": null,
       "visibility": null,
       "width": null
      }
     },
     "a7eafff930a847e5aadc99b8a0405c70": {
      "model_module": "@jupyter-widgets/output",
      "model_module_version": "1.0.0",
      "model_name": "OutputModel",
      "state": {
       "_dom_classes": [],
       "_model_module": "@jupyter-widgets/output",
       "_model_module_version": "1.0.0",
       "_model_name": "OutputModel",
       "_view_count": null,
       "_view_module": "@jupyter-widgets/output",
       "_view_module_version": "1.0.0",
       "_view_name": "OutputView",
       "layout": "IPY_MODEL_0e7c494283494ef1a92c6d9c304e2343",
       "msg_id": "",
       "outputs": [
        {
         "data": {
          "text/markdown": "`qvr`",
          "text/plain": "<IPython.core.display.Markdown object>"
         },
         "metadata": {},
         "output_type": "display_data"
        },
        {
         "data": {
          "image/svg+xml": "<svg xmlns=\"http://www.w3.org/2000/svg\" xmlns:xlink=\"http://www.w3.org/1999/xlink\" width=\"305pt\" height=\"54pt\" viewBox=\"0.00 0.00 305.00 54.00\">\n<g id=\"graph0\" class=\"graph\" transform=\"scale(1 1) rotate(0) translate(4 50)\">\n<title>my_graph</title>\n<polygon fill=\"white\" stroke=\"transparent\" points=\"-4,4 -4,-50 301,-50 301,4 -4,4\"/>\n<!-- phi_G0 -->\n<g id=\"node1\" class=\"node\">\n<title>phi_G0</title>\n<text text-anchor=\"middle\" x=\"27\" y=\"-14.3\" font-family=\"Times,serif\" font-size=\"14.00\">phi</text>\n</g>\n<!-- QuantumVariableRotation -->\n<g id=\"node2\" class=\"node\">\n<title>QuantumVariableRotation</title>\n<polygon fill=\"none\" stroke=\"black\" points=\"91.5,-29 91.5,-46 206.5,-46 206.5,-29 91.5,-29\"/>\n<text text-anchor=\"start\" x=\"94.5\" y=\"-35\" font-family=\"Times,serif\" font-size=\"10.00\">QuantumVariableRotation</text>\n<polygon fill=\"none\" stroke=\"black\" points=\"91.5,-8 91.5,-29 206.5,-29 206.5,-8 91.5,-8\"/>\n<text text-anchor=\"start\" x=\"140\" y=\"-14.8\" font-family=\"Times,serif\" font-size=\"14.00\">phi</text>\n</g>\n<!-- phi_G0&#45;&gt;QuantumVariableRotation -->\n<g id=\"edge1\" class=\"edge\">\n<title>phi_G0:e-&gt;QuantumVariableRotation:w</title>\n<path fill=\"none\" stroke=\"black\" d=\"M54,-18C69.67,-18 74.14,-18 88.77,-18\"/>\n<ellipse fill=\"black\" stroke=\"black\" cx=\"90\" cy=\"-18\" rx=\"1\" ry=\"1\"/>\n<text text-anchor=\"middle\" x=\"72.5\" y=\"-21\" font-family=\"Times,serif\" font-size=\"10.00\">12</text>\n</g>\n<!-- phi_G1 -->\n<g id=\"node3\" class=\"node\">\n<title>phi_G1</title>\n<text text-anchor=\"middle\" x=\"270\" y=\"-14.3\" font-family=\"Times,serif\" font-size=\"14.00\">phi</text>\n</g>\n<!-- QuantumVariableRotation&#45;&gt;phi_G1 -->\n<g id=\"edge2\" class=\"edge\">\n<title>QuantumVariableRotation:e-&gt;phi_G1:w</title>\n<path fill=\"none\" stroke=\"black\" d=\"M206,-18C221.67,-18 226.14,-18 240.77,-18\"/>\n<ellipse fill=\"black\" stroke=\"black\" cx=\"242\" cy=\"-18\" rx=\"1\" ry=\"1\"/>\n<text text-anchor=\"middle\" x=\"224.5\" y=\"-21\" font-family=\"Times,serif\" font-size=\"10.00\">12</text>\n</g>\n</g>\n</svg>",
          "text/plain": "<IPython.core.display.SVG object>"
         },
         "metadata": {},
         "output_type": "display_data"
        }
       ],
       "tabbable": null,
       "tooltip": null
      }
     },
     "aba0caf7e61e470fb770b4932661170a": {
      "model_module": "@jupyter-widgets/output",
      "model_module_version": "1.0.0",
      "model_name": "OutputModel",
      "state": {
       "_dom_classes": [],
       "_model_module": "@jupyter-widgets/output",
       "_model_module_version": "1.0.0",
       "_model_name": "OutputModel",
       "_view_count": null,
       "_view_module": "@jupyter-widgets/output",
       "_view_module_version": "1.0.0",
       "_view_name": "OutputView",
       "layout": "IPY_MODEL_d43c304a1e3c48bfae2d974d5fb7f90c",
       "msg_id": "",
       "outputs": [
        {
         "data": {
          "text/markdown": "`nr_inv_sqrt`",
          "text/plain": "<IPython.core.display.Markdown object>"
         },
         "metadata": {},
         "output_type": "display_data"
        },
        {
         "data": {
          "image/svg+xml": "<svg xmlns=\"http://www.w3.org/2000/svg\" xmlns:xlink=\"http://www.w3.org/1999/xlink\" width=\"374pt\" height=\"152pt\" viewBox=\"0.00 0.00 374.00 152.00\">\n<g id=\"graph0\" class=\"graph\" transform=\"scale(1 1) rotate(0) translate(4 148)\">\n<title>my_graph</title>\n<polygon fill=\"white\" stroke=\"transparent\" points=\"-4,4 -4,-148 370,-148 370,4 -4,4\"/>\n<!-- x_sq_G3 -->\n<g id=\"node1\" class=\"node\">\n<title>x_sq_G3</title>\n<text text-anchor=\"middle\" x=\"27\" y=\"-122.3\" font-family=\"Times,serif\" font-size=\"14.00\">x_sq</text>\n</g>\n<!-- NewtonRaphsonApproxInverseSquareRoot -->\n<g id=\"node4\" class=\"node\">\n<title>NewtonRaphsonApproxInverseSquareRoot</title>\n<polygon fill=\"none\" stroke=\"black\" points=\"91,-104 91,-121 275,-121 275,-104 91,-104\"/>\n<text text-anchor=\"start\" x=\"94\" y=\"-110\" font-family=\"Times,serif\" font-size=\"10.00\">NewtonRaphsonApproxInverseSquareRoot</text>\n<polygon fill=\"none\" stroke=\"black\" points=\"91,-83 91,-104 275,-104 275,-83 91,-83\"/>\n<text text-anchor=\"start\" x=\"170\" y=\"-89.8\" font-family=\"Times,serif\" font-size=\"14.00\">x_sq</text>\n<polygon fill=\"none\" stroke=\"black\" points=\"91,-62 91,-83 275,-83 275,-62 91,-62\"/>\n<text text-anchor=\"start\" x=\"170.5\" y=\"-68.8\" font-family=\"Times,serif\" font-size=\"14.00\">poly</text>\n<polygon fill=\"none\" stroke=\"black\" points=\"91,-41 91,-62 275,-62 275,-41 91,-41\"/>\n<text text-anchor=\"start\" x=\"167.5\" y=\"-47.8\" font-family=\"Times,serif\" font-size=\"14.00\">target</text>\n</g>\n<!-- x_sq_G3&#45;&gt;NewtonRaphsonApproxInverseSquareRoot -->\n<g id=\"edge1\" class=\"edge\">\n<title>x_sq_G3:e-&gt;NewtonRaphsonApproxInverseSquareRoot:w</title>\n<path fill=\"none\" stroke=\"black\" d=\"M54,-126C74.89,-126 69.72,-96.45 88.58,-94.14\"/>\n<ellipse fill=\"black\" stroke=\"black\" cx=\"90\" cy=\"-94.06\" rx=\"1\" ry=\"1\"/>\n<text text-anchor=\"middle\" x=\"72.5\" y=\"-113\" font-family=\"Times,serif\" font-size=\"10.00\">7</text>\n</g>\n<!-- poly_G6 -->\n<g id=\"node2\" class=\"node\">\n<title>poly_G6</title>\n<text text-anchor=\"middle\" x=\"27\" y=\"-68.3\" font-family=\"Times,serif\" font-size=\"14.00\">poly</text>\n</g>\n<!-- poly_G6&#45;&gt;NewtonRaphsonApproxInverseSquareRoot -->\n<g id=\"edge2\" class=\"edge\">\n<title>poly_G6:e-&gt;NewtonRaphsonApproxInverseSquareRoot:w</title>\n<path fill=\"none\" stroke=\"black\" d=\"M54,-72C69.67,-72 74.14,-72 88.77,-72\"/>\n<ellipse fill=\"black\" stroke=\"black\" cx=\"90\" cy=\"-72\" rx=\"1\" ry=\"1\"/>\n<text text-anchor=\"middle\" x=\"72.5\" y=\"-75\" font-family=\"Times,serif\" font-size=\"10.00\">8</text>\n</g>\n<!-- target_G5 -->\n<g id=\"node3\" class=\"node\">\n<title>target_G5</title>\n<text text-anchor=\"middle\" x=\"27\" y=\"-14.3\" font-family=\"Times,serif\" font-size=\"14.00\">target</text>\n</g>\n<!-- target_G5&#45;&gt;NewtonRaphsonApproxInverseSquareRoot -->\n<g id=\"edge3\" class=\"edge\">\n<title>target_G5:e-&gt;NewtonRaphsonApproxInverseSquareRoot:w</title>\n<path fill=\"none\" stroke=\"black\" d=\"M54,-18C75.17,-18 69.47,-48.47 88.55,-50.85\"/>\n<ellipse fill=\"black\" stroke=\"black\" cx=\"90\" cy=\"-50.94\" rx=\"1\" ry=\"1\"/>\n<text text-anchor=\"middle\" x=\"72.5\" y=\"-39\" font-family=\"Times,serif\" font-size=\"10.00\">12</text>\n</g>\n<!-- x_sq_G2 -->\n<g id=\"node5\" class=\"node\">\n<title>x_sq_G2</title>\n<text text-anchor=\"middle\" x=\"339\" y=\"-122.3\" font-family=\"Times,serif\" font-size=\"14.00\">x_sq</text>\n</g>\n<!-- NewtonRaphsonApproxInverseSquareRoot&#45;&gt;x_sq_G2 -->\n<g id=\"edge4\" class=\"edge\">\n<title>NewtonRaphsonApproxInverseSquareRoot:e-&gt;x_sq_G2:w</title>\n<path fill=\"none\" stroke=\"black\" d=\"M275,-94C295.89,-94 290.72,-123.55 309.58,-125.86\"/>\n<ellipse fill=\"black\" stroke=\"black\" cx=\"311\" cy=\"-125.94\" rx=\"1\" ry=\"1\"/>\n<text text-anchor=\"middle\" x=\"293.5\" y=\"-113\" font-family=\"Times,serif\" font-size=\"10.00\">7</text>\n</g>\n<!-- poly_G0 -->\n<g id=\"node6\" class=\"node\">\n<title>poly_G0</title>\n<text text-anchor=\"middle\" x=\"339\" y=\"-68.3\" font-family=\"Times,serif\" font-size=\"14.00\">poly</text>\n</g>\n<!-- NewtonRaphsonApproxInverseSquareRoot&#45;&gt;poly_G0 -->\n<g id=\"edge5\" class=\"edge\">\n<title>NewtonRaphsonApproxInverseSquareRoot:e-&gt;poly_G0:w</title>\n<path fill=\"none\" stroke=\"black\" d=\"M275,-72C290.67,-72 295.14,-72 309.77,-72\"/>\n<ellipse fill=\"black\" stroke=\"black\" cx=\"311\" cy=\"-72\" rx=\"1\" ry=\"1\"/>\n<text text-anchor=\"middle\" x=\"293.5\" y=\"-75\" font-family=\"Times,serif\" font-size=\"10.00\">8</text>\n</g>\n<!-- target_G7 -->\n<g id=\"node7\" class=\"node\">\n<title>target_G7</title>\n<text text-anchor=\"middle\" x=\"339\" y=\"-14.3\" font-family=\"Times,serif\" font-size=\"14.00\">target</text>\n</g>\n<!-- NewtonRaphsonApproxInverseSquareRoot&#45;&gt;target_G7 -->\n<g id=\"edge6\" class=\"edge\">\n<title>NewtonRaphsonApproxInverseSquareRoot:e-&gt;target_G7:w</title>\n<path fill=\"none\" stroke=\"black\" d=\"M275,-51C296.17,-51 290.47,-20.53 309.55,-18.15\"/>\n<ellipse fill=\"black\" stroke=\"black\" cx=\"311\" cy=\"-18.06\" rx=\"1\" ry=\"1\"/>\n<text text-anchor=\"middle\" x=\"293.5\" y=\"-39\" font-family=\"Times,serif\" font-size=\"10.00\">12</text>\n</g>\n</g>\n</svg>",
          "text/plain": "<IPython.core.display.SVG object>"
         },
         "metadata": {},
         "output_type": "display_data"
        }
       ],
       "tabbable": null,
       "tooltip": null
      }
     },
     "bd614d4942e04bebb4b15a0f82e95773": {
      "model_module": "@jupyter-widgets/output",
      "model_module_version": "1.0.0",
      "model_name": "OutputModel",
      "state": {
       "_dom_classes": [],
       "_model_module": "@jupyter-widgets/output",
       "_model_module_version": "1.0.0",
       "_model_name": "OutputModel",
       "_view_count": null,
       "_view_module": "@jupyter-widgets/output",
       "_view_module_version": "1.0.0",
       "_view_name": "OutputView",
       "layout": "IPY_MODEL_6373b05a1ac84ffc8f67fbe24430823f",
       "msg_id": "",
       "outputs": [
        {
         "data": {
          "text/markdown": "`poly_inv_sqrt`",
          "text/plain": "<IPython.core.display.Markdown object>"
         },
         "metadata": {},
         "output_type": "display_data"
        },
        {
         "data": {
          "image/svg+xml": "<svg xmlns=\"http://www.w3.org/2000/svg\" xmlns:xlink=\"http://www.w3.org/1999/xlink\" width=\"420pt\" height=\"314pt\" viewBox=\"0.00 0.00 420.00 314.00\">\n<g id=\"graph0\" class=\"graph\" transform=\"scale(1 1) rotate(0) translate(4 310)\">\n<title>my_graph</title>\n<polygon fill=\"white\" stroke=\"transparent\" points=\"-4,4 -4,-310 416,-310 416,4 -4,4\"/>\n<!-- x_sq_G12 -->\n<g id=\"node1\" class=\"node\">\n<title>x_sq_G12</title>\n<text text-anchor=\"middle\" x=\"38.5\" y=\"-284.3\" font-family=\"Times,serif\" font-size=\"14.00\">x_sq</text>\n</g>\n<!-- PolynmomialEvaluationInverseSquareRoot -->\n<g id=\"node7\" class=\"node\">\n<title>PolynmomialEvaluationInverseSquareRoot</title>\n<polygon fill=\"none\" stroke=\"black\" points=\"114,-216 114,-233 298,-233 298,-216 114,-216\"/>\n<text text-anchor=\"start\" x=\"117\" y=\"-222\" font-family=\"Times,serif\" font-size=\"10.00\">PolynmomialEvaluationInverseSquareRoot</text>\n<polygon fill=\"none\" stroke=\"black\" points=\"114,-195 114,-216 298,-216 298,-195 114,-195\"/>\n<text text-anchor=\"start\" x=\"193\" y=\"-201.8\" font-family=\"Times,serif\" font-size=\"14.00\">x_sq</text>\n<polygon fill=\"none\" stroke=\"black\" points=\"114,-174 114,-195 298,-195 298,-174 114,-174\"/>\n<text text-anchor=\"start\" x=\"175.5\" y=\"-180.8\" font-family=\"Times,serif\" font-size=\"14.00\">in_coeff[0]</text>\n<polygon fill=\"none\" stroke=\"black\" points=\"114,-153 114,-174 298,-174 298,-153 114,-153\"/>\n<text text-anchor=\"start\" x=\"175.5\" y=\"-159.8\" font-family=\"Times,serif\" font-size=\"14.00\">in_coeff[1]</text>\n<polygon fill=\"none\" stroke=\"black\" points=\"114,-132 114,-153 298,-153 298,-132 114,-132\"/>\n<text text-anchor=\"start\" x=\"175.5\" y=\"-138.8\" font-family=\"Times,serif\" font-size=\"14.00\">in_coeff[2]</text>\n<polygon fill=\"none\" stroke=\"black\" points=\"114,-111 114,-132 298,-132 298,-111 114,-111\"/>\n<text text-anchor=\"start\" x=\"175.5\" y=\"-117.8\" font-family=\"Times,serif\" font-size=\"14.00\">in_coeff[3]</text>\n<polygon fill=\"none\" stroke=\"black\" points=\"114,-90 114,-111 298,-111 298,-90 114,-90\"/>\n<text text-anchor=\"start\" x=\"197\" y=\"-96.8\" font-family=\"Times,serif\" font-size=\"14.00\">out</text>\n</g>\n<!-- x_sq_G12&#45;&gt;PolynmomialEvaluationInverseSquareRoot -->\n<g id=\"edge1\" class=\"edge\">\n<title>x_sq_G12:e-&gt;PolynmomialEvaluationInverseSquareRoot:w</title>\n<path fill=\"none\" stroke=\"black\" d=\"M66.5,-288C107.79,-288 73.29,-209.17 111.62,-206.09\"/>\n<ellipse fill=\"black\" stroke=\"black\" cx=\"113\" cy=\"-206.04\" rx=\"1\" ry=\"1\"/>\n<text text-anchor=\"middle\" x=\"95.5\" y=\"-220\" font-family=\"Times,serif\" font-size=\"10.00\">7</text>\n</g>\n<!-- in_coeff_G15 -->\n<g id=\"node2\" class=\"node\">\n<title>in_coeff_G15</title>\n<text text-anchor=\"middle\" x=\"38.5\" y=\"-230.3\" font-family=\"Times,serif\" font-size=\"14.00\">in_coeff[0]</text>\n</g>\n<!-- in_coeff_G15&#45;&gt;PolynmomialEvaluationInverseSquareRoot -->\n<g id=\"edge2\" class=\"edge\">\n<title>in_coeff_G15:e-&gt;PolynmomialEvaluationInverseSquareRoot:w</title>\n<path fill=\"none\" stroke=\"black\" d=\"M77,-234C103.54,-234 87.64,-187.64 111.86,-185.11\"/>\n<ellipse fill=\"black\" stroke=\"black\" cx=\"113\" cy=\"-185.05\" rx=\"1\" ry=\"1\"/>\n<text text-anchor=\"middle\" x=\"95.5\" y=\"-213\" font-family=\"Times,serif\" font-size=\"10.00\">8</text>\n</g>\n<!-- in_coeff_G13 -->\n<g id=\"node3\" class=\"node\">\n<title>in_coeff_G13</title>\n<text text-anchor=\"middle\" x=\"38.5\" y=\"-176.3\" font-family=\"Times,serif\" font-size=\"14.00\">in_coeff[1]</text>\n</g>\n<!-- in_coeff_G13&#45;&gt;PolynmomialEvaluationInverseSquareRoot -->\n<g id=\"edge3\" class=\"edge\">\n<title>in_coeff_G13:e-&gt;PolynmomialEvaluationInverseSquareRoot:w</title>\n<path fill=\"none\" stroke=\"black\" d=\"M77,-180C94.22,-180 95.97,-165.23 111.98,-164.07\"/>\n<ellipse fill=\"black\" stroke=\"black\" cx=\"113\" cy=\"-164.04\" rx=\"1\" ry=\"1\"/>\n<text text-anchor=\"middle\" x=\"95.5\" y=\"-175\" font-family=\"Times,serif\" font-size=\"10.00\">8</text>\n</g>\n<!-- in_coeff_G1 -->\n<g id=\"node4\" class=\"node\">\n<title>in_coeff_G1</title>\n<text text-anchor=\"middle\" x=\"38.5\" y=\"-122.3\" font-family=\"Times,serif\" font-size=\"14.00\">in_coeff[2]</text>\n</g>\n<!-- in_coeff_G1&#45;&gt;PolynmomialEvaluationInverseSquareRoot -->\n<g id=\"edge4\" class=\"edge\">\n<title>in_coeff_G1:e-&gt;PolynmomialEvaluationInverseSquareRoot:w</title>\n<path fill=\"none\" stroke=\"black\" d=\"M77,-126C94.22,-126 95.97,-140.77 111.98,-141.93\"/>\n<ellipse fill=\"black\" stroke=\"black\" cx=\"113\" cy=\"-141.96\" rx=\"1\" ry=\"1\"/>\n<text text-anchor=\"middle\" x=\"95.5\" y=\"-137\" font-family=\"Times,serif\" font-size=\"10.00\">8</text>\n</g>\n<!-- in_coeff_G5 -->\n<g id=\"node5\" class=\"node\">\n<title>in_coeff_G5</title>\n<text text-anchor=\"middle\" x=\"38.5\" y=\"-68.3\" font-family=\"Times,serif\" font-size=\"14.00\">in_coeff[3]</text>\n</g>\n<!-- in_coeff_G5&#45;&gt;PolynmomialEvaluationInverseSquareRoot -->\n<g id=\"edge5\" class=\"edge\">\n<title>in_coeff_G5:e-&gt;PolynmomialEvaluationInverseSquareRoot:w</title>\n<path fill=\"none\" stroke=\"black\" d=\"M77,-72C103.54,-72 87.64,-118.36 111.86,-120.89\"/>\n<ellipse fill=\"black\" stroke=\"black\" cx=\"113\" cy=\"-120.95\" rx=\"1\" ry=\"1\"/>\n<text text-anchor=\"middle\" x=\"95.5\" y=\"-100\" font-family=\"Times,serif\" font-size=\"10.00\">8</text>\n</g>\n<!-- out_G3 -->\n<g id=\"node6\" class=\"node\">\n<title>out_G3</title>\n<text text-anchor=\"middle\" x=\"38.5\" y=\"-14.3\" font-family=\"Times,serif\" font-size=\"14.00\">out</text>\n</g>\n<!-- out_G3&#45;&gt;PolynmomialEvaluationInverseSquareRoot -->\n<g id=\"edge6\" class=\"edge\">\n<title>out_G3:e-&gt;PolynmomialEvaluationInverseSquareRoot:w</title>\n<path fill=\"none\" stroke=\"black\" d=\"M66.5,-18C107.79,-18 73.29,-96.83 111.62,-99.91\"/>\n<ellipse fill=\"black\" stroke=\"black\" cx=\"113\" cy=\"-99.96\" rx=\"1\" ry=\"1\"/>\n<text text-anchor=\"middle\" x=\"95.5\" y=\"-92\" font-family=\"Times,serif\" font-size=\"10.00\">12</text>\n</g>\n<!-- x_sq_G4 -->\n<g id=\"node8\" class=\"node\">\n<title>x_sq_G4</title>\n<text text-anchor=\"middle\" x=\"373.5\" y=\"-284.3\" font-family=\"Times,serif\" font-size=\"14.00\">x_sq</text>\n</g>\n<!-- PolynmomialEvaluationInverseSquareRoot&#45;&gt;x_sq_G4 -->\n<g id=\"edge7\" class=\"edge\">\n<title>PolynmomialEvaluationInverseSquareRoot:e-&gt;x_sq_G4:w</title>\n<path fill=\"none\" stroke=\"black\" d=\"M298,-206C339.29,-206 304.79,-284.83 343.12,-287.91\"/>\n<ellipse fill=\"black\" stroke=\"black\" cx=\"344.5\" cy=\"-287.96\" rx=\"1\" ry=\"1\"/>\n<text text-anchor=\"middle\" x=\"316.5\" y=\"-220\" font-family=\"Times,serif\" font-size=\"10.00\">7</text>\n</g>\n<!-- in_coeff_G9 -->\n<g id=\"node9\" class=\"node\">\n<title>in_coeff_G9</title>\n<text text-anchor=\"middle\" x=\"373.5\" y=\"-230.3\" font-family=\"Times,serif\" font-size=\"14.00\">in_coeff[0]</text>\n</g>\n<!-- PolynmomialEvaluationInverseSquareRoot&#45;&gt;in_coeff_G9 -->\n<g id=\"edge8\" class=\"edge\">\n<title>PolynmomialEvaluationInverseSquareRoot:e-&gt;in_coeff_G9:w</title>\n<path fill=\"none\" stroke=\"black\" d=\"M298,-185C324.54,-185 308.64,-231.36 332.86,-233.89\"/>\n<ellipse fill=\"black\" stroke=\"black\" cx=\"334\" cy=\"-233.95\" rx=\"1\" ry=\"1\"/>\n<text text-anchor=\"middle\" x=\"316.5\" y=\"-213\" font-family=\"Times,serif\" font-size=\"10.00\">8</text>\n</g>\n<!-- in_coeff_G7 -->\n<g id=\"node10\" class=\"node\">\n<title>in_coeff_G7</title>\n<text text-anchor=\"middle\" x=\"373.5\" y=\"-176.3\" font-family=\"Times,serif\" font-size=\"14.00\">in_coeff[1]</text>\n</g>\n<!-- PolynmomialEvaluationInverseSquareRoot&#45;&gt;in_coeff_G7 -->\n<g id=\"edge9\" class=\"edge\">\n<title>PolynmomialEvaluationInverseSquareRoot:e-&gt;in_coeff_G7:w</title>\n<path fill=\"none\" stroke=\"black\" d=\"M298,-164C315.22,-164 316.97,-178.77 332.98,-179.93\"/>\n<ellipse fill=\"black\" stroke=\"black\" cx=\"334\" cy=\"-179.96\" rx=\"1\" ry=\"1\"/>\n<text text-anchor=\"middle\" x=\"316.5\" y=\"-175\" font-family=\"Times,serif\" font-size=\"10.00\">8</text>\n</g>\n<!-- in_coeff_G10 -->\n<g id=\"node11\" class=\"node\">\n<title>in_coeff_G10</title>\n<text text-anchor=\"middle\" x=\"373.5\" y=\"-122.3\" font-family=\"Times,serif\" font-size=\"14.00\">in_coeff[2]</text>\n</g>\n<!-- PolynmomialEvaluationInverseSquareRoot&#45;&gt;in_coeff_G10 -->\n<g id=\"edge10\" class=\"edge\">\n<title>PolynmomialEvaluationInverseSquareRoot:e-&gt;in_coeff_G10:w</title>\n<path fill=\"none\" stroke=\"black\" d=\"M298,-142C315.22,-142 316.97,-127.23 332.98,-126.07\"/>\n<ellipse fill=\"black\" stroke=\"black\" cx=\"334\" cy=\"-126.04\" rx=\"1\" ry=\"1\"/>\n<text text-anchor=\"middle\" x=\"316.5\" y=\"-137\" font-family=\"Times,serif\" font-size=\"10.00\">8</text>\n</g>\n<!-- in_coeff_G0 -->\n<g id=\"node12\" class=\"node\">\n<title>in_coeff_G0</title>\n<text text-anchor=\"middle\" x=\"373.5\" y=\"-68.3\" font-family=\"Times,serif\" font-size=\"14.00\">in_coeff[3]</text>\n</g>\n<!-- PolynmomialEvaluationInverseSquareRoot&#45;&gt;in_coeff_G0 -->\n<g id=\"edge11\" class=\"edge\">\n<title>PolynmomialEvaluationInverseSquareRoot:e-&gt;in_coeff_G0:w</title>\n<path fill=\"none\" stroke=\"black\" d=\"M298,-121C324.54,-121 308.64,-74.64 332.86,-72.11\"/>\n<ellipse fill=\"black\" stroke=\"black\" cx=\"334\" cy=\"-72.05\" rx=\"1\" ry=\"1\"/>\n<text text-anchor=\"middle\" x=\"316.5\" y=\"-100\" font-family=\"Times,serif\" font-size=\"10.00\">8</text>\n</g>\n<!-- out_G16 -->\n<g id=\"node13\" class=\"node\">\n<title>out_G16</title>\n<text text-anchor=\"middle\" x=\"373.5\" y=\"-14.3\" font-family=\"Times,serif\" font-size=\"14.00\">out</text>\n</g>\n<!-- PolynmomialEvaluationInverseSquareRoot&#45;&gt;out_G16 -->\n<g id=\"edge12\" class=\"edge\">\n<title>PolynmomialEvaluationInverseSquareRoot:e-&gt;out_G16:w</title>\n<path fill=\"none\" stroke=\"black\" d=\"M298,-100C339.29,-100 304.79,-21.17 343.12,-18.09\"/>\n<ellipse fill=\"black\" stroke=\"black\" cx=\"344.5\" cy=\"-18.04\" rx=\"1\" ry=\"1\"/>\n<text text-anchor=\"middle\" x=\"316.5\" y=\"-92\" font-family=\"Times,serif\" font-size=\"10.00\">12</text>\n</g>\n</g>\n</svg>",
          "text/plain": "<IPython.core.display.SVG object>"
         },
         "metadata": {},
         "output_type": "display_data"
        }
       ],
       "tabbable": null,
       "tooltip": null
      }
     },
     "d3885713e4964138a1de9305e7e86a1a": {
      "model_module": "@jupyter-widgets/controls",
      "model_module_version": "2.0.0",
      "model_name": "HBoxModel",
      "state": {
       "_dom_classes": [],
       "_model_module": "@jupyter-widgets/controls",
       "_model_module_version": "2.0.0",
       "_model_name": "HBoxModel",
       "_view_count": null,
       "_view_module": "@jupyter-widgets/controls",
       "_view_module_version": "2.0.0",
       "_view_name": "HBoxView",
       "box_style": "",
       "children": [
        "IPY_MODEL_aba0caf7e61e470fb770b4932661170a"
       ],
       "layout": "IPY_MODEL_412d84249e9c45b2b07e2f95e2706bfa",
       "tabbable": null,
       "tooltip": null
      }
     },
     "d43c304a1e3c48bfae2d974d5fb7f90c": {
      "model_module": "@jupyter-widgets/base",
      "model_module_version": "2.0.0",
      "model_name": "LayoutModel",
      "state": {
       "_model_module": "@jupyter-widgets/base",
       "_model_module_version": "2.0.0",
       "_model_name": "LayoutModel",
       "_view_count": null,
       "_view_module": "@jupyter-widgets/base",
       "_view_module_version": "2.0.0",
       "_view_name": "LayoutView",
       "align_content": null,
       "align_items": null,
       "align_self": null,
       "border_bottom": null,
       "border_left": null,
       "border_right": null,
       "border_top": null,
       "bottom": null,
       "display": null,
       "flex": null,
       "flex_flow": null,
       "grid_area": null,
       "grid_auto_columns": null,
       "grid_auto_flow": null,
       "grid_auto_rows": null,
       "grid_column": null,
       "grid_gap": null,
       "grid_row": null,
       "grid_template_areas": null,
       "grid_template_columns": null,
       "grid_template_rows": null,
       "height": null,
       "justify_content": null,
       "justify_items": null,
       "left": null,
       "margin": null,
       "max_height": null,
       "max_width": null,
       "min_height": null,
       "min_width": null,
       "object_fit": null,
       "object_position": null,
       "order": null,
       "overflow": null,
       "padding": null,
       "right": null,
       "top": null,
       "visibility": null,
       "width": null
      }
     },
     "de261e719a7c496ea285bba39500f37b": {
      "model_module": "@jupyter-widgets/output",
      "model_module_version": "1.0.0",
      "model_name": "OutputModel",
      "state": {
       "_dom_classes": [],
       "_model_module": "@jupyter-widgets/output",
       "_model_module_version": "1.0.0",
       "_model_name": "OutputModel",
       "_view_count": null,
       "_view_module": "@jupyter-widgets/output",
       "_view_module_version": "1.0.0",
       "_view_name": "OutputView",
       "layout": "IPY_MODEL_2623e49e7914417ab19a99605b74d4bc",
       "msg_id": "",
       "outputs": [
        {
         "data": {
          "text/markdown": "`potential_energy`",
          "text/plain": "<IPython.core.display.Markdown object>"
         },
         "metadata": {},
         "output_type": "display_data"
        },
        {
         "data": {
          "image/svg+xml": "<svg xmlns=\"http://www.w3.org/2000/svg\" xmlns:xlink=\"http://www.w3.org/1999/xlink\" width=\"348pt\" height=\"1934pt\" viewBox=\"0.00 0.00 348.00 1934.00\">\n<g id=\"graph0\" class=\"graph\" transform=\"scale(1 1) rotate(0) translate(4 1930)\">\n<title>my_graph</title>\n<polygon fill=\"white\" stroke=\"transparent\" points=\"-4,4 -4,-1930 344,-1930 344,4 -4,4\"/>\n<!-- system_G87 -->\n<g id=\"node1\" class=\"node\">\n<title>system_G87</title>\n<text text-anchor=\"middle\" x=\"46\" y=\"-1904.3\" font-family=\"Times,serif\" font-size=\"14.00\">system[0, 0]</text>\n</g>\n<!-- PotentialEnergy -->\n<g id=\"node37\" class=\"node\">\n<title>PotentialEnergy</title>\n<polygon fill=\"none\" stroke=\"black\" points=\"129,-1341 129,-1358 211,-1358 211,-1341 129,-1341\"/>\n<text text-anchor=\"start\" x=\"136.5\" y=\"-1347\" font-family=\"Times,serif\" font-size=\"10.00\">PotentialEnergy</text>\n<polygon fill=\"none\" stroke=\"black\" points=\"129,-1320 129,-1341 211,-1341 211,-1320 129,-1320\"/>\n<text text-anchor=\"start\" x=\"135.5\" y=\"-1326.8\" font-family=\"Times,serif\" font-size=\"14.00\">system[0, 0]</text>\n<polygon fill=\"none\" stroke=\"black\" points=\"129,-1299 129,-1320 211,-1320 211,-1299 129,-1299\"/>\n<text text-anchor=\"start\" x=\"135.5\" y=\"-1305.8\" font-family=\"Times,serif\" font-size=\"14.00\">system[0, 1]</text>\n<polygon fill=\"none\" stroke=\"black\" points=\"129,-1278 129,-1299 211,-1299 211,-1278 129,-1278\"/>\n<text text-anchor=\"start\" x=\"135.5\" y=\"-1284.8\" font-family=\"Times,serif\" font-size=\"14.00\">system[0, 2]</text>\n<polygon fill=\"none\" stroke=\"black\" points=\"129,-1257 129,-1278 211,-1278 211,-1257 129,-1257\"/>\n<text text-anchor=\"start\" x=\"135.5\" y=\"-1263.8\" font-family=\"Times,serif\" font-size=\"14.00\">system[1, 0]</text>\n<polygon fill=\"none\" stroke=\"black\" points=\"129,-1236 129,-1257 211,-1257 211,-1236 129,-1236\"/>\n<text text-anchor=\"start\" x=\"135.5\" y=\"-1242.8\" font-family=\"Times,serif\" font-size=\"14.00\">system[1, 1]</text>\n<polygon fill=\"none\" stroke=\"black\" points=\"129,-1215 129,-1236 211,-1236 211,-1215 129,-1215\"/>\n<text text-anchor=\"start\" x=\"135.5\" y=\"-1221.8\" font-family=\"Times,serif\" font-size=\"14.00\">system[1, 2]</text>\n<polygon fill=\"none\" stroke=\"black\" points=\"129,-1194 129,-1215 211,-1215 211,-1194 129,-1194\"/>\n<text text-anchor=\"start\" x=\"135.5\" y=\"-1200.8\" font-family=\"Times,serif\" font-size=\"14.00\">system[2, 0]</text>\n<polygon fill=\"none\" stroke=\"black\" points=\"129,-1173 129,-1194 211,-1194 211,-1173 129,-1173\"/>\n<text text-anchor=\"start\" x=\"135.5\" y=\"-1179.8\" font-family=\"Times,serif\" font-size=\"14.00\">system[2, 1]</text>\n<polygon fill=\"none\" stroke=\"black\" points=\"129,-1152 129,-1173 211,-1173 211,-1152 129,-1152\"/>\n<text text-anchor=\"start\" x=\"135.5\" y=\"-1158.8\" font-family=\"Times,serif\" font-size=\"14.00\">system[2, 2]</text>\n<polygon fill=\"none\" stroke=\"black\" points=\"129,-1131 129,-1152 211,-1152 211,-1131 129,-1131\"/>\n<text text-anchor=\"start\" x=\"135.5\" y=\"-1137.8\" font-family=\"Times,serif\" font-size=\"14.00\">system[3, 0]</text>\n<polygon fill=\"none\" stroke=\"black\" points=\"129,-1110 129,-1131 211,-1131 211,-1110 129,-1110\"/>\n<text text-anchor=\"start\" x=\"135.5\" y=\"-1116.8\" font-family=\"Times,serif\" font-size=\"14.00\">system[3, 1]</text>\n<polygon fill=\"none\" stroke=\"black\" points=\"129,-1089 129,-1110 211,-1110 211,-1089 129,-1089\"/>\n<text text-anchor=\"start\" x=\"135.5\" y=\"-1095.8\" font-family=\"Times,serif\" font-size=\"14.00\">system[3, 2]</text>\n<polygon fill=\"none\" stroke=\"black\" points=\"129,-1068 129,-1089 211,-1089 211,-1068 129,-1068\"/>\n<text text-anchor=\"start\" x=\"135.5\" y=\"-1074.8\" font-family=\"Times,serif\" font-size=\"14.00\">system[4, 0]</text>\n<polygon fill=\"none\" stroke=\"black\" points=\"129,-1047 129,-1068 211,-1068 211,-1047 129,-1047\"/>\n<text text-anchor=\"start\" x=\"135.5\" y=\"-1053.8\" font-family=\"Times,serif\" font-size=\"14.00\">system[4, 1]</text>\n<polygon fill=\"none\" stroke=\"black\" points=\"129,-1026 129,-1047 211,-1047 211,-1026 129,-1026\"/>\n<text text-anchor=\"start\" x=\"135.5\" y=\"-1032.8\" font-family=\"Times,serif\" font-size=\"14.00\">system[4, 2]</text>\n<polygon fill=\"none\" stroke=\"black\" points=\"129,-1005 129,-1026 211,-1026 211,-1005 129,-1005\"/>\n<text text-anchor=\"start\" x=\"135.5\" y=\"-1011.8\" font-family=\"Times,serif\" font-size=\"14.00\">system[5, 0]</text>\n<polygon fill=\"none\" stroke=\"black\" points=\"129,-984 129,-1005 211,-1005 211,-984 129,-984\"/>\n<text text-anchor=\"start\" x=\"135.5\" y=\"-990.8\" font-family=\"Times,serif\" font-size=\"14.00\">system[5, 1]</text>\n<polygon fill=\"none\" stroke=\"black\" points=\"129,-963 129,-984 211,-984 211,-963 129,-963\"/>\n<text text-anchor=\"start\" x=\"135.5\" y=\"-969.8\" font-family=\"Times,serif\" font-size=\"14.00\">system[5, 2]</text>\n<polygon fill=\"none\" stroke=\"black\" points=\"129,-942 129,-963 211,-963 211,-942 129,-942\"/>\n<text text-anchor=\"start\" x=\"135.5\" y=\"-948.8\" font-family=\"Times,serif\" font-size=\"14.00\">system[6, 0]</text>\n<polygon fill=\"none\" stroke=\"black\" points=\"129,-921 129,-942 211,-942 211,-921 129,-921\"/>\n<text text-anchor=\"start\" x=\"135.5\" y=\"-927.8\" font-family=\"Times,serif\" font-size=\"14.00\">system[6, 1]</text>\n<polygon fill=\"none\" stroke=\"black\" points=\"129,-900 129,-921 211,-921 211,-900 129,-900\"/>\n<text text-anchor=\"start\" x=\"135.5\" y=\"-906.8\" font-family=\"Times,serif\" font-size=\"14.00\">system[6, 2]</text>\n<polygon fill=\"none\" stroke=\"black\" points=\"129,-879 129,-900 211,-900 211,-879 129,-879\"/>\n<text text-anchor=\"start\" x=\"135.5\" y=\"-885.8\" font-family=\"Times,serif\" font-size=\"14.00\">system[7, 0]</text>\n<polygon fill=\"none\" stroke=\"black\" points=\"129,-858 129,-879 211,-879 211,-858 129,-858\"/>\n<text text-anchor=\"start\" x=\"135.5\" y=\"-864.8\" font-family=\"Times,serif\" font-size=\"14.00\">system[7, 1]</text>\n<polygon fill=\"none\" stroke=\"black\" points=\"129,-837 129,-858 211,-858 211,-837 129,-837\"/>\n<text text-anchor=\"start\" x=\"135.5\" y=\"-843.8\" font-family=\"Times,serif\" font-size=\"14.00\">system[7, 2]</text>\n<polygon fill=\"none\" stroke=\"black\" points=\"129,-816 129,-837 211,-837 211,-816 129,-816\"/>\n<text text-anchor=\"start\" x=\"135.5\" y=\"-822.8\" font-family=\"Times,serif\" font-size=\"14.00\">system[8, 0]</text>\n<polygon fill=\"none\" stroke=\"black\" points=\"129,-795 129,-816 211,-816 211,-795 129,-795\"/>\n<text text-anchor=\"start\" x=\"135.5\" y=\"-801.8\" font-family=\"Times,serif\" font-size=\"14.00\">system[8, 1]</text>\n<polygon fill=\"none\" stroke=\"black\" points=\"129,-774 129,-795 211,-795 211,-774 129,-774\"/>\n<text text-anchor=\"start\" x=\"135.5\" y=\"-780.8\" font-family=\"Times,serif\" font-size=\"14.00\">system[8, 2]</text>\n<polygon fill=\"none\" stroke=\"black\" points=\"129,-753 129,-774 211,-774 211,-753 129,-753\"/>\n<text text-anchor=\"start\" x=\"135.5\" y=\"-759.8\" font-family=\"Times,serif\" font-size=\"14.00\">system[9, 0]</text>\n<polygon fill=\"none\" stroke=\"black\" points=\"129,-732 129,-753 211,-753 211,-732 129,-732\"/>\n<text text-anchor=\"start\" x=\"135.5\" y=\"-738.8\" font-family=\"Times,serif\" font-size=\"14.00\">system[9, 1]</text>\n<polygon fill=\"none\" stroke=\"black\" points=\"129,-711 129,-732 211,-732 211,-711 129,-711\"/>\n<text text-anchor=\"start\" x=\"135.5\" y=\"-717.8\" font-family=\"Times,serif\" font-size=\"14.00\">system[9, 2]</text>\n<polygon fill=\"none\" stroke=\"black\" points=\"129,-690 129,-711 211,-711 211,-690 129,-690\"/>\n<text text-anchor=\"start\" x=\"132\" y=\"-696.8\" font-family=\"Times,serif\" font-size=\"14.00\">system[10, 0]</text>\n<polygon fill=\"none\" stroke=\"black\" points=\"129,-669 129,-690 211,-690 211,-669 129,-669\"/>\n<text text-anchor=\"start\" x=\"132\" y=\"-675.8\" font-family=\"Times,serif\" font-size=\"14.00\">system[10, 1]</text>\n<polygon fill=\"none\" stroke=\"black\" points=\"129,-648 129,-669 211,-669 211,-648 129,-648\"/>\n<text text-anchor=\"start\" x=\"132\" y=\"-654.8\" font-family=\"Times,serif\" font-size=\"14.00\">system[10, 2]</text>\n<polygon fill=\"none\" stroke=\"black\" points=\"129,-627 129,-648 211,-648 211,-627 129,-627\"/>\n<text text-anchor=\"start\" x=\"132\" y=\"-633.8\" font-family=\"Times,serif\" font-size=\"14.00\">system[11, 0]</text>\n<polygon fill=\"none\" stroke=\"black\" points=\"129,-606 129,-627 211,-627 211,-606 129,-606\"/>\n<text text-anchor=\"start\" x=\"132\" y=\"-612.8\" font-family=\"Times,serif\" font-size=\"14.00\">system[11, 1]</text>\n<polygon fill=\"none\" stroke=\"black\" points=\"129,-585 129,-606 211,-606 211,-585 129,-585\"/>\n<text text-anchor=\"start\" x=\"132\" y=\"-591.8\" font-family=\"Times,serif\" font-size=\"14.00\">system[11, 2]</text>\n</g>\n<!-- system_G87&#45;&gt;PotentialEnergy -->\n<g id=\"edge1\" class=\"edge\">\n<title>system_G87:e-&gt;PotentialEnergy:w</title>\n<path fill=\"none\" stroke=\"black\" d=\"M90,-1908C105.56,-1908 112.5,-1366.5 127.52,-1332.66\"/>\n<ellipse fill=\"black\" stroke=\"black\" cx=\"128.33\" cy=\"-1331.75\" rx=\"1\" ry=\"1\"/>\n<text text-anchor=\"middle\" x=\"110.5\" y=\"-1605\" font-family=\"Times,serif\" font-size=\"10.00\">6</text>\n</g>\n<!-- system_G95 -->\n<g id=\"node2\" class=\"node\">\n<title>system_G95</title>\n<text text-anchor=\"middle\" x=\"46\" y=\"-1850.3\" font-family=\"Times,serif\" font-size=\"14.00\">system[0, 1]</text>\n</g>\n<!-- system_G95&#45;&gt;PotentialEnergy -->\n<g id=\"edge2\" class=\"edge\">\n<title>system_G95:e-&gt;PotentialEnergy:w</title>\n<path fill=\"none\" stroke=\"black\" d=\"M90,-1854C104.68,-1854 113.3,-1343.47 127.6,-1311.56\"/>\n<ellipse fill=\"black\" stroke=\"black\" cx=\"128.33\" cy=\"-1310.74\" rx=\"1\" ry=\"1\"/>\n<text text-anchor=\"middle\" x=\"110.5\" y=\"-1568\" font-family=\"Times,serif\" font-size=\"10.00\">6</text>\n</g>\n<!-- system_G63 -->\n<g id=\"node3\" class=\"node\">\n<title>system_G63</title>\n<text text-anchor=\"middle\" x=\"46\" y=\"-1796.3\" font-family=\"Times,serif\" font-size=\"14.00\">system[0, 2]</text>\n</g>\n<!-- system_G63&#45;&gt;PotentialEnergy -->\n<g id=\"edge3\" class=\"edge\">\n<title>system_G63:e-&gt;PotentialEnergy:w</title>\n<path fill=\"none\" stroke=\"black\" d=\"M90,-1800C103.74,-1800 114.02,-1324.3 127.51,-1290.85\"/>\n<ellipse fill=\"black\" stroke=\"black\" cx=\"128.37\" cy=\"-1289.78\" rx=\"1\" ry=\"1\"/>\n<text text-anchor=\"middle\" x=\"110.5\" y=\"-1532\" font-family=\"Times,serif\" font-size=\"10.00\">6</text>\n</g>\n<!-- system_G73 -->\n<g id=\"node4\" class=\"node\">\n<title>system_G73</title>\n<text text-anchor=\"middle\" x=\"46\" y=\"-1742.3\" font-family=\"Times,serif\" font-size=\"14.00\">system[1, 0]</text>\n</g>\n<!-- system_G73&#45;&gt;PotentialEnergy -->\n<g id=\"edge4\" class=\"edge\">\n<title>system_G73:e-&gt;PotentialEnergy:w</title>\n<path fill=\"none\" stroke=\"black\" d=\"M90,-1746C115.92,-1746 103.11,-1293.78 126.9,-1269.05\"/>\n<ellipse fill=\"black\" stroke=\"black\" cx=\"128.11\" cy=\"-1268.45\" rx=\"1\" ry=\"1\"/>\n<text text-anchor=\"middle\" x=\"110.5\" y=\"-1481\" font-family=\"Times,serif\" font-size=\"10.00\">6</text>\n</g>\n<!-- system_G22 -->\n<g id=\"node5\" class=\"node\">\n<title>system_G22</title>\n<text text-anchor=\"middle\" x=\"46\" y=\"-1688.3\" font-family=\"Times,serif\" font-size=\"14.00\">system[1, 1]</text>\n</g>\n<!-- system_G22&#45;&gt;PotentialEnergy -->\n<g id=\"edge5\" class=\"edge\">\n<title>system_G22:e-&gt;PotentialEnergy:w</title>\n<path fill=\"none\" stroke=\"black\" d=\"M90,-1692C114.14,-1692 104.74,-1271 127.04,-1247.98\"/>\n<ellipse fill=\"black\" stroke=\"black\" cx=\"128.11\" cy=\"-1247.45\" rx=\"1\" ry=\"1\"/>\n<text text-anchor=\"middle\" x=\"110.5\" y=\"-1445\" font-family=\"Times,serif\" font-size=\"10.00\">6</text>\n</g>\n<!-- system_G28 -->\n<g id=\"node6\" class=\"node\">\n<title>system_G28</title>\n<text text-anchor=\"middle\" x=\"46\" y=\"-1634.3\" font-family=\"Times,serif\" font-size=\"14.00\">system[1, 2]</text>\n</g>\n<!-- system_G28&#45;&gt;PotentialEnergy -->\n<g id=\"edge6\" class=\"edge\">\n<title>system_G28:e-&gt;PotentialEnergy:w</title>\n<path fill=\"none\" stroke=\"black\" d=\"M90,-1638C112.36,-1638 106.37,-1248.22 127.18,-1226.91\"/>\n<ellipse fill=\"black\" stroke=\"black\" cx=\"128.11\" cy=\"-1226.45\" rx=\"1\" ry=\"1\"/>\n<text text-anchor=\"middle\" x=\"110.5\" y=\"-1410\" font-family=\"Times,serif\" font-size=\"10.00\">6</text>\n</g>\n<!-- system_G54 -->\n<g id=\"node7\" class=\"node\">\n<title>system_G54</title>\n<text text-anchor=\"middle\" x=\"46\" y=\"-1580.3\" font-family=\"Times,serif\" font-size=\"14.00\">system[2, 0]</text>\n</g>\n<!-- system_G54&#45;&gt;PotentialEnergy -->\n<g id=\"edge7\" class=\"edge\">\n<title>system_G54:e-&gt;PotentialEnergy:w</title>\n<path fill=\"none\" stroke=\"black\" d=\"M90,-1584C110.51,-1584 108.02,-1228.32 127.09,-1206.09\"/>\n<ellipse fill=\"black\" stroke=\"black\" cx=\"128.13\" cy=\"-1205.49\" rx=\"1\" ry=\"1\"/>\n<text text-anchor=\"middle\" x=\"110.5\" y=\"-1386\" font-family=\"Times,serif\" font-size=\"10.00\">6</text>\n</g>\n<!-- system_G20 -->\n<g id=\"node8\" class=\"node\">\n<title>system_G20</title>\n<text text-anchor=\"middle\" x=\"46\" y=\"-1526.3\" font-family=\"Times,serif\" font-size=\"14.00\">system[2, 1]</text>\n</g>\n<!-- system_G20&#45;&gt;PotentialEnergy -->\n<g id=\"edge8\" class=\"edge\">\n<title>system_G20:e-&gt;PotentialEnergy:w</title>\n<path fill=\"none\" stroke=\"black\" d=\"M90,-1530C108.74,-1530 109.62,-1205.29 127.24,-1184.99\"/>\n<ellipse fill=\"black\" stroke=\"black\" cx=\"128.13\" cy=\"-1184.49\" rx=\"1\" ry=\"1\"/>\n<text text-anchor=\"middle\" x=\"110.5\" y=\"-1349\" font-family=\"Times,serif\" font-size=\"10.00\">6</text>\n</g>\n<!-- system_G23 -->\n<g id=\"node9\" class=\"node\">\n<title>system_G23</title>\n<text text-anchor=\"middle\" x=\"46\" y=\"-1472.3\" font-family=\"Times,serif\" font-size=\"14.00\">system[2, 2]</text>\n</g>\n<!-- system_G23&#45;&gt;PotentialEnergy -->\n<g id=\"edge9\" class=\"edge\">\n<title>system_G23:e-&gt;PotentialEnergy:w</title>\n<path fill=\"none\" stroke=\"black\" d=\"M90,-1476C106.91,-1476 111.18,-1184.62 127.2,-1164.13\"/>\n<ellipse fill=\"black\" stroke=\"black\" cx=\"128.15\" cy=\"-1163.53\" rx=\"1\" ry=\"1\"/>\n<text text-anchor=\"middle\" x=\"110.5\" y=\"-1313\" font-family=\"Times,serif\" font-size=\"10.00\">6</text>\n</g>\n<!-- system_G36 -->\n<g id=\"node10\" class=\"node\">\n<title>system_G36</title>\n<text text-anchor=\"middle\" x=\"46\" y=\"-1418.3\" font-family=\"Times,serif\" font-size=\"14.00\">system[3, 0]</text>\n</g>\n<!-- system_G36&#45;&gt;PotentialEnergy -->\n<g id=\"edge10\" class=\"edge\">\n<title>system_G36:e-&gt;PotentialEnergy:w</title>\n<path fill=\"none\" stroke=\"black\" d=\"M90,-1422C120.68,-1422 98.67,-1154.97 126.88,-1142.45\"/>\n<ellipse fill=\"black\" stroke=\"black\" cx=\"128.02\" cy=\"-1142.21\" rx=\"1\" ry=\"1\"/>\n<text text-anchor=\"middle\" x=\"110.5\" y=\"-1259\" font-family=\"Times,serif\" font-size=\"10.00\">6</text>\n</g>\n<!-- system_G102 -->\n<g id=\"node11\" class=\"node\">\n<title>system_G102</title>\n<text text-anchor=\"middle\" x=\"46\" y=\"-1364.3\" font-family=\"Times,serif\" font-size=\"14.00\">system[3, 1]</text>\n</g>\n<!-- system_G102&#45;&gt;PotentialEnergy -->\n<g id=\"edge11\" class=\"edge\">\n<title>system_G102:e-&gt;PotentialEnergy:w</title>\n<path fill=\"none\" stroke=\"black\" d=\"M90,-1368C117.02,-1368 102.09,-1134.32 126.82,-1121.54\"/>\n<ellipse fill=\"black\" stroke=\"black\" cx=\"128.03\" cy=\"-1121.24\" rx=\"1\" ry=\"1\"/>\n<text text-anchor=\"middle\" x=\"110.5\" y=\"-1232\" font-family=\"Times,serif\" font-size=\"10.00\">6</text>\n</g>\n<!-- system_G53 -->\n<g id=\"node12\" class=\"node\">\n<title>system_G53</title>\n<text text-anchor=\"middle\" x=\"46\" y=\"-1310.3\" font-family=\"Times,serif\" font-size=\"14.00\">system[3, 2]</text>\n</g>\n<!-- system_G53&#45;&gt;PotentialEnergy -->\n<g id=\"edge12\" class=\"edge\">\n<title>system_G53:e-&gt;PotentialEnergy:w</title>\n<path fill=\"none\" stroke=\"black\" d=\"M90,-1314C113.41,-1314 105.38,-1113.17 126.83,-1100.61\"/>\n<ellipse fill=\"black\" stroke=\"black\" cx=\"128.04\" cy=\"-1100.27\" rx=\"1\" ry=\"1\"/>\n<text text-anchor=\"middle\" x=\"110.5\" y=\"-1197\" font-family=\"Times,serif\" font-size=\"10.00\">6</text>\n</g>\n<!-- system_G12 -->\n<g id=\"node13\" class=\"node\">\n<title>system_G12</title>\n<text text-anchor=\"middle\" x=\"46\" y=\"-1256.3\" font-family=\"Times,serif\" font-size=\"14.00\">system[4, 0]</text>\n</g>\n<!-- system_G12&#45;&gt;PotentialEnergy -->\n<g id=\"edge13\" class=\"edge\">\n<title>system_G12:e-&gt;PotentialEnergy:w</title>\n<path fill=\"none\" stroke=\"black\" d=\"M90,-1260C109.77,-1260 108.56,-1092.86 126.69,-1079.81\"/>\n<ellipse fill=\"black\" stroke=\"black\" cx=\"128.06\" cy=\"-1079.33\" rx=\"1\" ry=\"1\"/>\n<text text-anchor=\"middle\" x=\"110.5\" y=\"-1167\" font-family=\"Times,serif\" font-size=\"10.00\">6</text>\n</g>\n<!-- system_G77 -->\n<g id=\"node14\" class=\"node\">\n<title>system_G77</title>\n<text text-anchor=\"middle\" x=\"46\" y=\"-1202.3\" font-family=\"Times,serif\" font-size=\"14.00\">system[4, 1]</text>\n</g>\n<!-- system_G77&#45;&gt;PotentialEnergy -->\n<g id=\"edge14\" class=\"edge\">\n<title>system_G77:e-&gt;PotentialEnergy:w</title>\n<path fill=\"none\" stroke=\"black\" d=\"M90,-1206C119.94,-1206 103.19,-1170.9 111,-1142 115.79,-1124.29 110.37,-1063.05 126.88,-1058.29\"/>\n<ellipse fill=\"black\" stroke=\"black\" cx=\"128.01\" cy=\"-1058.14\" rx=\"1\" ry=\"1\"/>\n<text text-anchor=\"middle\" x=\"110.5\" y=\"-1148\" font-family=\"Times,serif\" font-size=\"10.00\">6</text>\n</g>\n<!-- system_G47 -->\n<g id=\"node15\" class=\"node\">\n<title>system_G47</title>\n<text text-anchor=\"middle\" x=\"46\" y=\"-1148.3\" font-family=\"Times,serif\" font-size=\"14.00\">system[4, 2]</text>\n</g>\n<!-- system_G47&#45;&gt;PotentialEnergy -->\n<g id=\"edge15\" class=\"edge\">\n<title>system_G47:e-&gt;PotentialEnergy:w</title>\n<path fill=\"none\" stroke=\"black\" d=\"M90,-1152C143.23,-1152 76.89,-1040.12 126.85,-1037.06\"/>\n<ellipse fill=\"black\" stroke=\"black\" cx=\"128\" cy=\"-1037.03\" rx=\"1\" ry=\"1\"/>\n<text text-anchor=\"middle\" x=\"110.5\" y=\"-1140\" font-family=\"Times,serif\" font-size=\"10.00\">6</text>\n</g>\n<!-- system_G61 -->\n<g id=\"node16\" class=\"node\">\n<title>system_G61</title>\n<text text-anchor=\"middle\" x=\"46\" y=\"-1094.3\" font-family=\"Times,serif\" font-size=\"14.00\">system[5, 0]</text>\n</g>\n<!-- system_G61&#45;&gt;PotentialEnergy -->\n<g id=\"edge16\" class=\"edge\">\n<title>system_G61:e-&gt;PotentialEnergy:w</title>\n<path fill=\"none\" stroke=\"black\" d=\"M90,-1098C129.57,-1098 90.24,-1019.17 126.73,-1016.09\"/>\n<ellipse fill=\"black\" stroke=\"black\" cx=\"128\" cy=\"-1016.04\" rx=\"1\" ry=\"1\"/>\n<text text-anchor=\"middle\" x=\"110.5\" y=\"-1038\" font-family=\"Times,serif\" font-size=\"10.00\">6</text>\n</g>\n<!-- system_G66 -->\n<g id=\"node17\" class=\"node\">\n<title>system_G66</title>\n<text text-anchor=\"middle\" x=\"46\" y=\"-1040.3\" font-family=\"Times,serif\" font-size=\"14.00\">system[5, 1]</text>\n</g>\n<!-- system_G66&#45;&gt;PotentialEnergy -->\n<g id=\"edge17\" class=\"edge\">\n<title>system_G66:e-&gt;PotentialEnergy:w</title>\n<path fill=\"none\" stroke=\"black\" d=\"M90,-1044C117.07,-1044 102.04,-997.64 126.81,-995.11\"/>\n<ellipse fill=\"black\" stroke=\"black\" cx=\"128\" cy=\"-995.05\" rx=\"1\" ry=\"1\"/>\n<text text-anchor=\"middle\" x=\"110.5\" y=\"-1019\" font-family=\"Times,serif\" font-size=\"10.00\">6</text>\n</g>\n<!-- system_G32 -->\n<g id=\"node18\" class=\"node\">\n<title>system_G32</title>\n<text text-anchor=\"middle\" x=\"46\" y=\"-986.3\" font-family=\"Times,serif\" font-size=\"14.00\">system[5, 2]</text>\n</g>\n<!-- system_G32&#45;&gt;PotentialEnergy -->\n<g id=\"edge18\" class=\"edge\">\n<title>system_G32:e-&gt;PotentialEnergy:w</title>\n<path fill=\"none\" stroke=\"black\" d=\"M90,-990C108,-990 110.12,-975.23 126.88,-974.07\"/>\n<ellipse fill=\"black\" stroke=\"black\" cx=\"128\" cy=\"-974.03\" rx=\"1\" ry=\"1\"/>\n<text text-anchor=\"middle\" x=\"110.5\" y=\"-984\" font-family=\"Times,serif\" font-size=\"10.00\">6</text>\n</g>\n<!-- system_G44 -->\n<g id=\"node19\" class=\"node\">\n<title>system_G44</title>\n<text text-anchor=\"middle\" x=\"46\" y=\"-932.3\" font-family=\"Times,serif\" font-size=\"14.00\">system[6, 0]</text>\n</g>\n<!-- system_G44&#45;&gt;PotentialEnergy -->\n<g id=\"edge19\" class=\"edge\">\n<title>system_G44:e-&gt;PotentialEnergy:w</title>\n<path fill=\"none\" stroke=\"black\" d=\"M90,-936C108,-936 110.12,-950.77 126.88,-951.93\"/>\n<ellipse fill=\"black\" stroke=\"black\" cx=\"128\" cy=\"-951.97\" rx=\"1\" ry=\"1\"/>\n<text text-anchor=\"middle\" x=\"110.5\" y=\"-947\" font-family=\"Times,serif\" font-size=\"10.00\">6</text>\n</g>\n<!-- system_G104 -->\n<g id=\"node20\" class=\"node\">\n<title>system_G104</title>\n<text text-anchor=\"middle\" x=\"46\" y=\"-878.3\" font-family=\"Times,serif\" font-size=\"14.00\">system[6, 1]</text>\n</g>\n<!-- system_G104&#45;&gt;PotentialEnergy -->\n<g id=\"edge20\" class=\"edge\">\n<title>system_G104:e-&gt;PotentialEnergy:w</title>\n<path fill=\"none\" stroke=\"black\" d=\"M90,-882C117.07,-882 102.04,-928.36 126.81,-930.89\"/>\n<ellipse fill=\"black\" stroke=\"black\" cx=\"128\" cy=\"-930.95\" rx=\"1\" ry=\"1\"/>\n<text text-anchor=\"middle\" x=\"110.5\" y=\"-915\" font-family=\"Times,serif\" font-size=\"10.00\">6</text>\n</g>\n<!-- system_G58 -->\n<g id=\"node21\" class=\"node\">\n<title>system_G58</title>\n<text text-anchor=\"middle\" x=\"46\" y=\"-824.3\" font-family=\"Times,serif\" font-size=\"14.00\">system[6, 2]</text>\n</g>\n<!-- system_G58&#45;&gt;PotentialEnergy -->\n<g id=\"edge21\" class=\"edge\">\n<title>system_G58:e-&gt;PotentialEnergy:w</title>\n<path fill=\"none\" stroke=\"black\" d=\"M90,-828C129.57,-828 90.24,-906.83 126.73,-909.91\"/>\n<ellipse fill=\"black\" stroke=\"black\" cx=\"128\" cy=\"-909.96\" rx=\"1\" ry=\"1\"/>\n<text text-anchor=\"middle\" x=\"110.5\" y=\"-897\" font-family=\"Times,serif\" font-size=\"10.00\">6</text>\n</g>\n<!-- system_G19 -->\n<g id=\"node22\" class=\"node\">\n<title>system_G19</title>\n<text text-anchor=\"middle\" x=\"46\" y=\"-770.3\" font-family=\"Times,serif\" font-size=\"14.00\">system[7, 0]</text>\n</g>\n<!-- system_G19&#45;&gt;PotentialEnergy -->\n<g id=\"edge22\" class=\"edge\">\n<title>system_G19:e-&gt;PotentialEnergy:w</title>\n<path fill=\"none\" stroke=\"black\" d=\"M90,-774C143.23,-774 76.89,-885.88 126.85,-888.94\"/>\n<ellipse fill=\"black\" stroke=\"black\" cx=\"128\" cy=\"-888.97\" rx=\"1\" ry=\"1\"/>\n<text text-anchor=\"middle\" x=\"110.5\" y=\"-882\" font-family=\"Times,serif\" font-size=\"10.00\">6</text>\n</g>\n<!-- system_G25 -->\n<g id=\"node23\" class=\"node\">\n<title>system_G25</title>\n<text text-anchor=\"middle\" x=\"46\" y=\"-716.3\" font-family=\"Times,serif\" font-size=\"14.00\">system[7, 1]</text>\n</g>\n<!-- system_G25&#45;&gt;PotentialEnergy -->\n<g id=\"edge23\" class=\"edge\">\n<title>system_G25:e-&gt;PotentialEnergy:w</title>\n<path fill=\"none\" stroke=\"black\" d=\"M90,-720C119.51,-720 103.26,-754.52 111,-783 115.86,-800.9 110.17,-862.89 126.85,-867.7\"/>\n<ellipse fill=\"black\" stroke=\"black\" cx=\"128.01\" cy=\"-867.86\" rx=\"1\" ry=\"1\"/>\n<text text-anchor=\"middle\" x=\"110.5\" y=\"-786\" font-family=\"Times,serif\" font-size=\"10.00\">6</text>\n</g>\n<!-- system_G90 -->\n<g id=\"node24\" class=\"node\">\n<title>system_G90</title>\n<text text-anchor=\"middle\" x=\"46\" y=\"-662.3\" font-family=\"Times,serif\" font-size=\"14.00\">system[7, 2]</text>\n</g>\n<!-- system_G90&#45;&gt;PotentialEnergy -->\n<g id=\"edge24\" class=\"edge\">\n<title>system_G90:e-&gt;PotentialEnergy:w</title>\n<path fill=\"none\" stroke=\"black\" d=\"M90,-666C109.77,-666 108.56,-833.14 126.69,-846.19\"/>\n<ellipse fill=\"black\" stroke=\"black\" cx=\"128.06\" cy=\"-846.67\" rx=\"1\" ry=\"1\"/>\n<text text-anchor=\"middle\" x=\"110.5\" y=\"-770\" font-family=\"Times,serif\" font-size=\"10.00\">6</text>\n</g>\n<!-- system_G4 -->\n<g id=\"node25\" class=\"node\">\n<title>system_G4</title>\n<text text-anchor=\"middle\" x=\"46\" y=\"-608.3\" font-family=\"Times,serif\" font-size=\"14.00\">system[8, 0]</text>\n</g>\n<!-- system_G4&#45;&gt;PotentialEnergy -->\n<g id=\"edge25\" class=\"edge\">\n<title>system_G4:e-&gt;PotentialEnergy:w</title>\n<path fill=\"none\" stroke=\"black\" d=\"M90,-612C113.41,-612 105.38,-812.83 126.83,-825.39\"/>\n<ellipse fill=\"black\" stroke=\"black\" cx=\"128.04\" cy=\"-825.73\" rx=\"1\" ry=\"1\"/>\n<text text-anchor=\"middle\" x=\"110.5\" y=\"-741\" font-family=\"Times,serif\" font-size=\"10.00\">6</text>\n</g>\n<!-- system_G69 -->\n<g id=\"node26\" class=\"node\">\n<title>system_G69</title>\n<text text-anchor=\"middle\" x=\"46\" y=\"-554.3\" font-family=\"Times,serif\" font-size=\"14.00\">system[8, 1]</text>\n</g>\n<!-- system_G69&#45;&gt;PotentialEnergy -->\n<g id=\"edge26\" class=\"edge\">\n<title>system_G69:e-&gt;PotentialEnergy:w</title>\n<path fill=\"none\" stroke=\"black\" d=\"M90,-558C117.02,-558 102.09,-791.68 126.82,-804.46\"/>\n<ellipse fill=\"black\" stroke=\"black\" cx=\"128.03\" cy=\"-804.76\" rx=\"1\" ry=\"1\"/>\n<text text-anchor=\"middle\" x=\"110.5\" y=\"-713\" font-family=\"Times,serif\" font-size=\"10.00\">6</text>\n</g>\n<!-- system_G18 -->\n<g id=\"node27\" class=\"node\">\n<title>system_G18</title>\n<text text-anchor=\"middle\" x=\"46\" y=\"-500.3\" font-family=\"Times,serif\" font-size=\"14.00\">system[8, 2]</text>\n</g>\n<!-- system_G18&#45;&gt;PotentialEnergy -->\n<g id=\"edge27\" class=\"edge\">\n<title>system_G18:e-&gt;PotentialEnergy:w</title>\n<path fill=\"none\" stroke=\"black\" d=\"M90,-504C105.09,-504 112.69,-762.55 127.2,-782.75\"/>\n<ellipse fill=\"black\" stroke=\"black\" cx=\"128.18\" cy=\"-783.43\" rx=\"1\" ry=\"1\"/>\n<text text-anchor=\"middle\" x=\"110.5\" y=\"-663\" font-family=\"Times,serif\" font-size=\"10.00\">6</text>\n</g>\n<!-- system_G96 -->\n<g id=\"node28\" class=\"node\">\n<title>system_G96</title>\n<text text-anchor=\"middle\" x=\"46\" y=\"-446.3\" font-family=\"Times,serif\" font-size=\"14.00\">system[9, 0]</text>\n</g>\n<!-- system_G96&#45;&gt;PotentialEnergy -->\n<g id=\"edge28\" class=\"edge\">\n<title>system_G96:e-&gt;PotentialEnergy:w</title>\n<path fill=\"none\" stroke=\"black\" d=\"M90,-450C106.91,-450 111.18,-741.38 127.2,-761.87\"/>\n<ellipse fill=\"black\" stroke=\"black\" cx=\"128.15\" cy=\"-762.47\" rx=\"1\" ry=\"1\"/>\n<text text-anchor=\"middle\" x=\"110.5\" y=\"-628\" font-family=\"Times,serif\" font-size=\"10.00\">6</text>\n</g>\n<!-- system_G50 -->\n<g id=\"node29\" class=\"node\">\n<title>system_G50</title>\n<text text-anchor=\"middle\" x=\"46\" y=\"-392.3\" font-family=\"Times,serif\" font-size=\"14.00\">system[9, 1]</text>\n</g>\n<!-- system_G50&#45;&gt;PotentialEnergy -->\n<g id=\"edge29\" class=\"edge\">\n<title>system_G50:e-&gt;PotentialEnergy:w</title>\n<path fill=\"none\" stroke=\"black\" d=\"M90,-396C108.74,-396 109.62,-720.71 127.24,-741.01\"/>\n<ellipse fill=\"black\" stroke=\"black\" cx=\"128.13\" cy=\"-741.51\" rx=\"1\" ry=\"1\"/>\n<text text-anchor=\"middle\" x=\"110.5\" y=\"-592\" font-family=\"Times,serif\" font-size=\"10.00\">6</text>\n</g>\n<!-- system_G106 -->\n<g id=\"node30\" class=\"node\">\n<title>system_G106</title>\n<text text-anchor=\"middle\" x=\"46\" y=\"-338.3\" font-family=\"Times,serif\" font-size=\"14.00\">system[9, 2]</text>\n</g>\n<!-- system_G106&#45;&gt;PotentialEnergy -->\n<g id=\"edge30\" class=\"edge\">\n<title>system_G106:e-&gt;PotentialEnergy:w</title>\n<path fill=\"none\" stroke=\"black\" d=\"M90,-342C110.51,-342 108.02,-697.68 127.09,-719.91\"/>\n<ellipse fill=\"black\" stroke=\"black\" cx=\"128.13\" cy=\"-720.51\" rx=\"1\" ry=\"1\"/>\n<text text-anchor=\"middle\" x=\"110.5\" y=\"-557\" font-family=\"Times,serif\" font-size=\"10.00\">6</text>\n</g>\n<!-- system_G26 -->\n<g id=\"node31\" class=\"node\">\n<title>system_G26</title>\n<text text-anchor=\"middle\" x=\"46\" y=\"-284.3\" font-family=\"Times,serif\" font-size=\"14.00\">system[10, 0]</text>\n</g>\n<!-- system_G26&#45;&gt;PotentialEnergy -->\n<g id=\"edge31\" class=\"edge\">\n<title>system_G26:e-&gt;PotentialEnergy:w</title>\n<path fill=\"none\" stroke=\"black\" d=\"M92,-288C114.35,-288 106.49,-677.78 127.19,-699.09\"/>\n<ellipse fill=\"black\" stroke=\"black\" cx=\"128.11\" cy=\"-699.55\" rx=\"1\" ry=\"1\"/>\n<text text-anchor=\"middle\" x=\"110.5\" y=\"-509\" font-family=\"Times,serif\" font-size=\"10.00\">6</text>\n</g>\n<!-- system_G35 -->\n<g id=\"node32\" class=\"node\">\n<title>system_G35</title>\n<text text-anchor=\"middle\" x=\"46\" y=\"-230.3\" font-family=\"Times,serif\" font-size=\"14.00\">system[10, 1]</text>\n</g>\n<!-- system_G35&#45;&gt;PotentialEnergy -->\n<g id=\"edge32\" class=\"edge\">\n<title>system_G35:e-&gt;PotentialEnergy:w</title>\n<path fill=\"none\" stroke=\"black\" d=\"M92,-234C116.13,-234 104.85,-655 127.05,-678.02\"/>\n<ellipse fill=\"black\" stroke=\"black\" cx=\"128.11\" cy=\"-678.55\" rx=\"1\" ry=\"1\"/>\n<text text-anchor=\"middle\" x=\"110.5\" y=\"-472\" font-family=\"Times,serif\" font-size=\"10.00\">6</text>\n</g>\n<!-- system_G98 -->\n<g id=\"node33\" class=\"node\">\n<title>system_G98</title>\n<text text-anchor=\"middle\" x=\"46\" y=\"-176.3\" font-family=\"Times,serif\" font-size=\"14.00\">system[10, 2]</text>\n</g>\n<!-- system_G98&#45;&gt;PotentialEnergy -->\n<g id=\"edge33\" class=\"edge\">\n<title>system_G98:e-&gt;PotentialEnergy:w</title>\n<path fill=\"none\" stroke=\"black\" d=\"M92,-180C104.85,-180 114.95,-624.98 127.61,-656.27\"/>\n<ellipse fill=\"black\" stroke=\"black\" cx=\"128.37\" cy=\"-657.22\" rx=\"1\" ry=\"1\"/>\n<text text-anchor=\"middle\" x=\"110.5\" y=\"-422\" font-family=\"Times,serif\" font-size=\"10.00\">6</text>\n</g>\n<!-- system_G60 -->\n<g id=\"node34\" class=\"node\">\n<title>system_G60</title>\n<text text-anchor=\"middle\" x=\"46\" y=\"-122.3\" font-family=\"Times,serif\" font-size=\"14.00\">system[11, 0]</text>\n</g>\n<!-- system_G60&#45;&gt;PotentialEnergy -->\n<g id=\"edge34\" class=\"edge\">\n<title>system_G60:e-&gt;PotentialEnergy:w</title>\n<path fill=\"none\" stroke=\"black\" d=\"M92,-126C119.8,-126 101.44,-613.33 127.08,-636.17\"/>\n<ellipse fill=\"black\" stroke=\"black\" cx=\"128.08\" cy=\"-636.6\" rx=\"1\" ry=\"1\"/>\n<text text-anchor=\"middle\" x=\"110.5\" y=\"-399\" font-family=\"Times,serif\" font-size=\"10.00\">6</text>\n</g>\n<!-- system_G10 -->\n<g id=\"node35\" class=\"node\">\n<title>system_G10</title>\n<text text-anchor=\"middle\" x=\"46\" y=\"-68.3\" font-family=\"Times,serif\" font-size=\"14.00\">system[11, 1]</text>\n</g>\n<!-- system_G10&#45;&gt;PotentialEnergy -->\n<g id=\"edge35\" class=\"edge\">\n<title>system_G10:e-&gt;PotentialEnergy:w</title>\n<path fill=\"none\" stroke=\"black\" d=\"M92,-72C106.67,-72 113.43,-582.53 127.6,-614.44\"/>\n<ellipse fill=\"black\" stroke=\"black\" cx=\"128.33\" cy=\"-615.25\" rx=\"1\" ry=\"1\"/>\n<text text-anchor=\"middle\" x=\"110.5\" y=\"-347\" font-family=\"Times,serif\" font-size=\"10.00\">6</text>\n</g>\n<!-- system_G92 -->\n<g id=\"node36\" class=\"node\">\n<title>system_G92</title>\n<text text-anchor=\"middle\" x=\"46\" y=\"-14.3\" font-family=\"Times,serif\" font-size=\"14.00\">system[11, 2]</text>\n</g>\n<!-- system_G92&#45;&gt;PotentialEnergy -->\n<g id=\"edge36\" class=\"edge\">\n<title>system_G92:e-&gt;PotentialEnergy:w</title>\n<path fill=\"none\" stroke=\"black\" d=\"M92,-18C107.56,-18 112.62,-559.5 127.53,-593.34\"/>\n<ellipse fill=\"black\" stroke=\"black\" cx=\"128.34\" cy=\"-594.25\" rx=\"1\" ry=\"1\"/>\n<text text-anchor=\"middle\" x=\"110.5\" y=\"-310\" font-family=\"Times,serif\" font-size=\"10.00\">6</text>\n</g>\n<!-- system_G76 -->\n<g id=\"node38\" class=\"node\">\n<title>system_G76</title>\n<text text-anchor=\"middle\" x=\"294\" y=\"-1904.3\" font-family=\"Times,serif\" font-size=\"14.00\">system[0, 0]</text>\n</g>\n<!-- PotentialEnergy&#45;&gt;system_G76 -->\n<g id=\"edge37\" class=\"edge\">\n<title>PotentialEnergy:e-&gt;system_G76:w</title>\n<path fill=\"none\" stroke=\"black\" d=\"M211,-1331C226.56,-1331 233.5,-1872.5 248.52,-1906.34\"/>\n<ellipse fill=\"black\" stroke=\"black\" cx=\"249.33\" cy=\"-1907.25\" rx=\"1\" ry=\"1\"/>\n<text text-anchor=\"middle\" x=\"229.5\" y=\"-1605\" font-family=\"Times,serif\" font-size=\"10.00\">6</text>\n</g>\n<!-- system_G30 -->\n<g id=\"node39\" class=\"node\">\n<title>system_G30</title>\n<text text-anchor=\"middle\" x=\"294\" y=\"-1850.3\" font-family=\"Times,serif\" font-size=\"14.00\">system[0, 1]</text>\n</g>\n<!-- PotentialEnergy&#45;&gt;system_G30 -->\n<g id=\"edge38\" class=\"edge\">\n<title>PotentialEnergy:e-&gt;system_G30:w</title>\n<path fill=\"none\" stroke=\"black\" d=\"M211,-1310C225.68,-1310 234.3,-1820.53 248.6,-1852.44\"/>\n<ellipse fill=\"black\" stroke=\"black\" cx=\"249.33\" cy=\"-1853.26\" rx=\"1\" ry=\"1\"/>\n<text text-anchor=\"middle\" x=\"229.5\" y=\"-1568\" font-family=\"Times,serif\" font-size=\"10.00\">6</text>\n</g>\n<!-- system_G107 -->\n<g id=\"node40\" class=\"node\">\n<title>system_G107</title>\n<text text-anchor=\"middle\" x=\"294\" y=\"-1796.3\" font-family=\"Times,serif\" font-size=\"14.00\">system[0, 2]</text>\n</g>\n<!-- PotentialEnergy&#45;&gt;system_G107 -->\n<g id=\"edge39\" class=\"edge\">\n<title>PotentialEnergy:e-&gt;system_G107:w</title>\n<path fill=\"none\" stroke=\"black\" d=\"M211,-1289C224.74,-1289 235.02,-1764.7 248.51,-1798.15\"/>\n<ellipse fill=\"black\" stroke=\"black\" cx=\"249.37\" cy=\"-1799.22\" rx=\"1\" ry=\"1\"/>\n<text text-anchor=\"middle\" x=\"229.5\" y=\"-1532\" font-family=\"Times,serif\" font-size=\"10.00\">6</text>\n</g>\n<!-- system_G9 -->\n<g id=\"node41\" class=\"node\">\n<title>system_G9</title>\n<text text-anchor=\"middle\" x=\"294\" y=\"-1742.3\" font-family=\"Times,serif\" font-size=\"14.00\">system[1, 0]</text>\n</g>\n<!-- PotentialEnergy&#45;&gt;system_G9 -->\n<g id=\"edge40\" class=\"edge\">\n<title>PotentialEnergy:e-&gt;system_G9:w</title>\n<path fill=\"none\" stroke=\"black\" d=\"M211,-1268C236.92,-1268 224.11,-1720.22 247.9,-1744.95\"/>\n<ellipse fill=\"black\" stroke=\"black\" cx=\"249.11\" cy=\"-1745.55\" rx=\"1\" ry=\"1\"/>\n<text text-anchor=\"middle\" x=\"229.5\" y=\"-1481\" font-family=\"Times,serif\" font-size=\"10.00\">6</text>\n</g>\n<!-- system_G72 -->\n<g id=\"node42\" class=\"node\">\n<title>system_G72</title>\n<text text-anchor=\"middle\" x=\"294\" y=\"-1688.3\" font-family=\"Times,serif\" font-size=\"14.00\">system[1, 1]</text>\n</g>\n<!-- PotentialEnergy&#45;&gt;system_G72 -->\n<g id=\"edge41\" class=\"edge\">\n<title>PotentialEnergy:e-&gt;system_G72:w</title>\n<path fill=\"none\" stroke=\"black\" d=\"M211,-1247C235.14,-1247 225.74,-1668 248.04,-1691.02\"/>\n<ellipse fill=\"black\" stroke=\"black\" cx=\"249.11\" cy=\"-1691.55\" rx=\"1\" ry=\"1\"/>\n<text text-anchor=\"middle\" x=\"229.5\" y=\"-1445\" font-family=\"Times,serif\" font-size=\"10.00\">6</text>\n</g>\n<!-- system_G79 -->\n<g id=\"node43\" class=\"node\">\n<title>system_G79</title>\n<text text-anchor=\"middle\" x=\"294\" y=\"-1634.3\" font-family=\"Times,serif\" font-size=\"14.00\">system[1, 2]</text>\n</g>\n<!-- PotentialEnergy&#45;&gt;system_G79 -->\n<g id=\"edge42\" class=\"edge\">\n<title>PotentialEnergy:e-&gt;system_G79:w</title>\n<path fill=\"none\" stroke=\"black\" d=\"M211,-1226C233.36,-1226 227.37,-1615.78 248.18,-1637.09\"/>\n<ellipse fill=\"black\" stroke=\"black\" cx=\"249.11\" cy=\"-1637.55\" rx=\"1\" ry=\"1\"/>\n<text text-anchor=\"middle\" x=\"229.5\" y=\"-1410\" font-family=\"Times,serif\" font-size=\"10.00\">6</text>\n</g>\n<!-- system_G45 -->\n<g id=\"node44\" class=\"node\">\n<title>system_G45</title>\n<text text-anchor=\"middle\" x=\"294\" y=\"-1580.3\" font-family=\"Times,serif\" font-size=\"14.00\">system[2, 0]</text>\n</g>\n<!-- PotentialEnergy&#45;&gt;system_G45 -->\n<g id=\"edge43\" class=\"edge\">\n<title>PotentialEnergy:e-&gt;system_G45:w</title>\n<path fill=\"none\" stroke=\"black\" d=\"M211,-1205C231.51,-1205 229.02,-1560.68 248.09,-1582.91\"/>\n<ellipse fill=\"black\" stroke=\"black\" cx=\"249.13\" cy=\"-1583.51\" rx=\"1\" ry=\"1\"/>\n<text text-anchor=\"middle\" x=\"229.5\" y=\"-1386\" font-family=\"Times,serif\" font-size=\"10.00\">6</text>\n</g>\n<!-- system_G11 -->\n<g id=\"node45\" class=\"node\">\n<title>system_G11</title>\n<text text-anchor=\"middle\" x=\"294\" y=\"-1526.3\" font-family=\"Times,serif\" font-size=\"14.00\">system[2, 1]</text>\n</g>\n<!-- PotentialEnergy&#45;&gt;system_G11 -->\n<g id=\"edge44\" class=\"edge\">\n<title>PotentialEnergy:e-&gt;system_G11:w</title>\n<path fill=\"none\" stroke=\"black\" d=\"M211,-1184C229.74,-1184 230.62,-1508.71 248.24,-1529.01\"/>\n<ellipse fill=\"black\" stroke=\"black\" cx=\"249.13\" cy=\"-1529.51\" rx=\"1\" ry=\"1\"/>\n<text text-anchor=\"middle\" x=\"229.5\" y=\"-1349\" font-family=\"Times,serif\" font-size=\"10.00\">6</text>\n</g>\n<!-- system_G74 -->\n<g id=\"node46\" class=\"node\">\n<title>system_G74</title>\n<text text-anchor=\"middle\" x=\"294\" y=\"-1472.3\" font-family=\"Times,serif\" font-size=\"14.00\">system[2, 2]</text>\n</g>\n<!-- PotentialEnergy&#45;&gt;system_G74 -->\n<g id=\"edge45\" class=\"edge\">\n<title>PotentialEnergy:e-&gt;system_G74:w</title>\n<path fill=\"none\" stroke=\"black\" d=\"M211,-1163C227.91,-1163 232.18,-1454.38 248.2,-1474.87\"/>\n<ellipse fill=\"black\" stroke=\"black\" cx=\"249.15\" cy=\"-1475.47\" rx=\"1\" ry=\"1\"/>\n<text text-anchor=\"middle\" x=\"229.5\" y=\"-1313\" font-family=\"Times,serif\" font-size=\"10.00\">6</text>\n</g>\n<!-- system_G85 -->\n<g id=\"node47\" class=\"node\">\n<title>system_G85</title>\n<text text-anchor=\"middle\" x=\"294\" y=\"-1418.3\" font-family=\"Times,serif\" font-size=\"14.00\">system[3, 0]</text>\n</g>\n<!-- PotentialEnergy&#45;&gt;system_G85 -->\n<g id=\"edge46\" class=\"edge\">\n<title>PotentialEnergy:e-&gt;system_G85:w</title>\n<path fill=\"none\" stroke=\"black\" d=\"M211,-1142C241.68,-1142 219.67,-1409.03 247.88,-1421.55\"/>\n<ellipse fill=\"black\" stroke=\"black\" cx=\"249.02\" cy=\"-1421.79\" rx=\"1\" ry=\"1\"/>\n<text text-anchor=\"middle\" x=\"229.5\" y=\"-1259\" font-family=\"Times,serif\" font-size=\"10.00\">6</text>\n</g>\n<!-- system_G93 -->\n<g id=\"node48\" class=\"node\">\n<title>system_G93</title>\n<text text-anchor=\"middle\" x=\"294\" y=\"-1364.3\" font-family=\"Times,serif\" font-size=\"14.00\">system[3, 1]</text>\n</g>\n<!-- PotentialEnergy&#45;&gt;system_G93 -->\n<g id=\"edge47\" class=\"edge\">\n<title>PotentialEnergy:e-&gt;system_G93:w</title>\n<path fill=\"none\" stroke=\"black\" d=\"M211,-1121C238.02,-1121 223.09,-1354.68 247.82,-1367.46\"/>\n<ellipse fill=\"black\" stroke=\"black\" cx=\"249.03\" cy=\"-1367.76\" rx=\"1\" ry=\"1\"/>\n<text text-anchor=\"middle\" x=\"229.5\" y=\"-1232\" font-family=\"Times,serif\" font-size=\"10.00\">6</text>\n</g>\n<!-- system_G42 -->\n<g id=\"node49\" class=\"node\">\n<title>system_G42</title>\n<text text-anchor=\"middle\" x=\"294\" y=\"-1310.3\" font-family=\"Times,serif\" font-size=\"14.00\">system[3, 2]</text>\n</g>\n<!-- PotentialEnergy&#45;&gt;system_G42 -->\n<g id=\"edge48\" class=\"edge\">\n<title>PotentialEnergy:e-&gt;system_G42:w</title>\n<path fill=\"none\" stroke=\"black\" d=\"M211,-1100C234.41,-1100 226.38,-1300.83 247.83,-1313.39\"/>\n<ellipse fill=\"black\" stroke=\"black\" cx=\"249.04\" cy=\"-1313.73\" rx=\"1\" ry=\"1\"/>\n<text text-anchor=\"middle\" x=\"229.5\" y=\"-1197\" font-family=\"Times,serif\" font-size=\"10.00\">6</text>\n</g>\n<!-- system_G64 -->\n<g id=\"node50\" class=\"node\">\n<title>system_G64</title>\n<text text-anchor=\"middle\" x=\"294\" y=\"-1256.3\" font-family=\"Times,serif\" font-size=\"14.00\">system[4, 0]</text>\n</g>\n<!-- PotentialEnergy&#45;&gt;system_G64 -->\n<g id=\"edge49\" class=\"edge\">\n<title>PotentialEnergy:e-&gt;system_G64:w</title>\n<path fill=\"none\" stroke=\"black\" d=\"M211,-1079C230.77,-1079 229.56,-1246.14 247.69,-1259.19\"/>\n<ellipse fill=\"black\" stroke=\"black\" cx=\"249.06\" cy=\"-1259.67\" rx=\"1\" ry=\"1\"/>\n<text text-anchor=\"middle\" x=\"229.5\" y=\"-1167\" font-family=\"Times,serif\" font-size=\"10.00\">6</text>\n</g>\n<!-- system_G70 -->\n<g id=\"node51\" class=\"node\">\n<title>system_G70</title>\n<text text-anchor=\"middle\" x=\"294\" y=\"-1202.3\" font-family=\"Times,serif\" font-size=\"14.00\">system[4, 1]</text>\n</g>\n<!-- PotentialEnergy&#45;&gt;system_G70 -->\n<g id=\"edge50\" class=\"edge\">\n<title>PotentialEnergy:e-&gt;system_G70:w</title>\n<path fill=\"none\" stroke=\"black\" d=\"M211,-1058C230.09,-1058 224.02,-1123.57 229,-1142 236.63,-1170.22 220.84,-1204.36 247.97,-1205.94\"/>\n<ellipse fill=\"black\" stroke=\"black\" cx=\"249\" cy=\"-1205.97\" rx=\"1\" ry=\"1\"/>\n<text text-anchor=\"middle\" x=\"229.5\" y=\"-1148\" font-family=\"Times,serif\" font-size=\"10.00\">6</text>\n</g>\n<!-- system_G38 -->\n<g id=\"node52\" class=\"node\">\n<title>system_G38</title>\n<text text-anchor=\"middle\" x=\"294\" y=\"-1148.3\" font-family=\"Times,serif\" font-size=\"14.00\">system[4, 2]</text>\n</g>\n<!-- PotentialEnergy&#45;&gt;system_G38 -->\n<g id=\"edge51\" class=\"edge\">\n<title>PotentialEnergy:e-&gt;system_G38:w</title>\n<path fill=\"none\" stroke=\"black\" d=\"M211,-1037C264.23,-1037 197.89,-1148.88 247.85,-1151.94\"/>\n<ellipse fill=\"black\" stroke=\"black\" cx=\"249\" cy=\"-1151.97\" rx=\"1\" ry=\"1\"/>\n<text text-anchor=\"middle\" x=\"229.5\" y=\"-1140\" font-family=\"Times,serif\" font-size=\"10.00\">6</text>\n</g>\n<!-- system_G52 -->\n<g id=\"node53\" class=\"node\">\n<title>system_G52</title>\n<text text-anchor=\"middle\" x=\"294\" y=\"-1094.3\" font-family=\"Times,serif\" font-size=\"14.00\">system[5, 0]</text>\n</g>\n<!-- PotentialEnergy&#45;&gt;system_G52 -->\n<g id=\"edge52\" class=\"edge\">\n<title>PotentialEnergy:e-&gt;system_G52:w</title>\n<path fill=\"none\" stroke=\"black\" d=\"M211,-1016C250.57,-1016 211.24,-1094.83 247.73,-1097.91\"/>\n<ellipse fill=\"black\" stroke=\"black\" cx=\"249\" cy=\"-1097.96\" rx=\"1\" ry=\"1\"/>\n<text text-anchor=\"middle\" x=\"229.5\" y=\"-1038\" font-family=\"Times,serif\" font-size=\"10.00\">6</text>\n</g>\n<!-- system_G3 -->\n<g id=\"node54\" class=\"node\">\n<title>system_G3</title>\n<text text-anchor=\"middle\" x=\"294\" y=\"-1040.3\" font-family=\"Times,serif\" font-size=\"14.00\">system[5, 1]</text>\n</g>\n<!-- PotentialEnergy&#45;&gt;system_G3 -->\n<g id=\"edge53\" class=\"edge\">\n<title>PotentialEnergy:e-&gt;system_G3:w</title>\n<path fill=\"none\" stroke=\"black\" d=\"M211,-995C238.07,-995 223.04,-1041.36 247.81,-1043.89\"/>\n<ellipse fill=\"black\" stroke=\"black\" cx=\"249\" cy=\"-1043.95\" rx=\"1\" ry=\"1\"/>\n<text text-anchor=\"middle\" x=\"229.5\" y=\"-1019\" font-family=\"Times,serif\" font-size=\"10.00\">6</text>\n</g>\n<!-- system_G81 -->\n<g id=\"node55\" class=\"node\">\n<title>system_G81</title>\n<text text-anchor=\"middle\" x=\"294\" y=\"-986.3\" font-family=\"Times,serif\" font-size=\"14.00\">system[5, 2]</text>\n</g>\n<!-- PotentialEnergy&#45;&gt;system_G81 -->\n<g id=\"edge54\" class=\"edge\">\n<title>PotentialEnergy:e-&gt;system_G81:w</title>\n<path fill=\"none\" stroke=\"black\" d=\"M211,-974C229,-974 231.12,-988.77 247.88,-989.93\"/>\n<ellipse fill=\"black\" stroke=\"black\" cx=\"249\" cy=\"-989.97\" rx=\"1\" ry=\"1\"/>\n<text text-anchor=\"middle\" x=\"229.5\" y=\"-984\" font-family=\"Times,serif\" font-size=\"10.00\">6</text>\n</g>\n<!-- system_G94 -->\n<g id=\"node56\" class=\"node\">\n<title>system_G94</title>\n<text text-anchor=\"middle\" x=\"294\" y=\"-932.3\" font-family=\"Times,serif\" font-size=\"14.00\">system[6, 0]</text>\n</g>\n<!-- PotentialEnergy&#45;&gt;system_G94 -->\n<g id=\"edge55\" class=\"edge\">\n<title>PotentialEnergy:e-&gt;system_G94:w</title>\n<path fill=\"none\" stroke=\"black\" d=\"M211,-952C229,-952 231.12,-937.23 247.88,-936.07\"/>\n<ellipse fill=\"black\" stroke=\"black\" cx=\"249\" cy=\"-936.03\" rx=\"1\" ry=\"1\"/>\n<text text-anchor=\"middle\" x=\"229.5\" y=\"-947\" font-family=\"Times,serif\" font-size=\"10.00\">6</text>\n</g>\n<!-- system_G43 -->\n<g id=\"node57\" class=\"node\">\n<title>system_G43</title>\n<text text-anchor=\"middle\" x=\"294\" y=\"-878.3\" font-family=\"Times,serif\" font-size=\"14.00\">system[6, 1]</text>\n</g>\n<!-- PotentialEnergy&#45;&gt;system_G43 -->\n<g id=\"edge56\" class=\"edge\">\n<title>PotentialEnergy:e-&gt;system_G43:w</title>\n<path fill=\"none\" stroke=\"black\" d=\"M211,-931C238.07,-931 223.04,-884.64 247.81,-882.11\"/>\n<ellipse fill=\"black\" stroke=\"black\" cx=\"249\" cy=\"-882.05\" rx=\"1\" ry=\"1\"/>\n<text text-anchor=\"middle\" x=\"229.5\" y=\"-915\" font-family=\"Times,serif\" font-size=\"10.00\">6</text>\n</g>\n<!-- system_G51 -->\n<g id=\"node58\" class=\"node\">\n<title>system_G51</title>\n<text text-anchor=\"middle\" x=\"294\" y=\"-824.3\" font-family=\"Times,serif\" font-size=\"14.00\">system[6, 2]</text>\n</g>\n<!-- PotentialEnergy&#45;&gt;system_G51 -->\n<g id=\"edge57\" class=\"edge\">\n<title>PotentialEnergy:e-&gt;system_G51:w</title>\n<path fill=\"none\" stroke=\"black\" d=\"M211,-910C250.57,-910 211.24,-831.17 247.73,-828.09\"/>\n<ellipse fill=\"black\" stroke=\"black\" cx=\"249\" cy=\"-828.04\" rx=\"1\" ry=\"1\"/>\n<text text-anchor=\"middle\" x=\"229.5\" y=\"-897\" font-family=\"Times,serif\" font-size=\"10.00\">6</text>\n</g>\n<!-- system_G8 -->\n<g id=\"node59\" class=\"node\">\n<title>system_G8</title>\n<text text-anchor=\"middle\" x=\"294\" y=\"-770.3\" font-family=\"Times,serif\" font-size=\"14.00\">system[7, 0]</text>\n</g>\n<!-- PotentialEnergy&#45;&gt;system_G8 -->\n<g id=\"edge58\" class=\"edge\">\n<title>PotentialEnergy:e-&gt;system_G8:w</title>\n<path fill=\"none\" stroke=\"black\" d=\"M211,-889C264.23,-889 197.89,-777.12 247.85,-774.06\"/>\n<ellipse fill=\"black\" stroke=\"black\" cx=\"249\" cy=\"-774.03\" rx=\"1\" ry=\"1\"/>\n<text text-anchor=\"middle\" x=\"229.5\" y=\"-882\" font-family=\"Times,serif\" font-size=\"10.00\">6</text>\n</g>\n<!-- system_G75 -->\n<g id=\"node60\" class=\"node\">\n<title>system_G75</title>\n<text text-anchor=\"middle\" x=\"294\" y=\"-716.3\" font-family=\"Times,serif\" font-size=\"14.00\">system[7, 1]</text>\n</g>\n<!-- PotentialEnergy&#45;&gt;system_G75 -->\n<g id=\"edge59\" class=\"edge\">\n<title>PotentialEnergy:e-&gt;system_G75:w</title>\n<path fill=\"none\" stroke=\"black\" d=\"M211,-868C230.31,-868 223.94,-801.63 229,-783 236.55,-755.18 221.23,-721.61 248,-720.06\"/>\n<ellipse fill=\"black\" stroke=\"black\" cx=\"249\" cy=\"-720.03\" rx=\"1\" ry=\"1\"/>\n<text text-anchor=\"middle\" x=\"229.5\" y=\"-786\" font-family=\"Times,serif\" font-size=\"10.00\">6</text>\n</g>\n<!-- system_G24 -->\n<g id=\"node61\" class=\"node\">\n<title>system_G24</title>\n<text text-anchor=\"middle\" x=\"294\" y=\"-662.3\" font-family=\"Times,serif\" font-size=\"14.00\">system[7, 2]</text>\n</g>\n<!-- PotentialEnergy&#45;&gt;system_G24 -->\n<g id=\"edge60\" class=\"edge\">\n<title>PotentialEnergy:e-&gt;system_G24:w</title>\n<path fill=\"none\" stroke=\"black\" d=\"M211,-847C230.77,-847 229.56,-679.86 247.69,-666.81\"/>\n<ellipse fill=\"black\" stroke=\"black\" cx=\"249.06\" cy=\"-666.33\" rx=\"1\" ry=\"1\"/>\n<text text-anchor=\"middle\" x=\"229.5\" y=\"-770\" font-family=\"Times,serif\" font-size=\"10.00\">6</text>\n</g>\n<!-- system_G56 -->\n<g id=\"node62\" class=\"node\">\n<title>system_G56</title>\n<text text-anchor=\"middle\" x=\"294\" y=\"-608.3\" font-family=\"Times,serif\" font-size=\"14.00\">system[8, 0]</text>\n</g>\n<!-- PotentialEnergy&#45;&gt;system_G56 -->\n<g id=\"edge61\" class=\"edge\">\n<title>PotentialEnergy:e-&gt;system_G56:w</title>\n<path fill=\"none\" stroke=\"black\" d=\"M211,-826C234.41,-826 226.38,-625.17 247.83,-612.61\"/>\n<ellipse fill=\"black\" stroke=\"black\" cx=\"249.04\" cy=\"-612.27\" rx=\"1\" ry=\"1\"/>\n<text text-anchor=\"middle\" x=\"229.5\" y=\"-741\" font-family=\"Times,serif\" font-size=\"10.00\">6</text>\n</g>\n<!-- system_G62 -->\n<g id=\"node63\" class=\"node\">\n<title>system_G62</title>\n<text text-anchor=\"middle\" x=\"294\" y=\"-554.3\" font-family=\"Times,serif\" font-size=\"14.00\">system[8, 1]</text>\n</g>\n<!-- PotentialEnergy&#45;&gt;system_G62 -->\n<g id=\"edge62\" class=\"edge\">\n<title>PotentialEnergy:e-&gt;system_G62:w</title>\n<path fill=\"none\" stroke=\"black\" d=\"M211,-805C238.02,-805 223.09,-571.32 247.82,-558.54\"/>\n<ellipse fill=\"black\" stroke=\"black\" cx=\"249.03\" cy=\"-558.24\" rx=\"1\" ry=\"1\"/>\n<text text-anchor=\"middle\" x=\"229.5\" y=\"-713\" font-family=\"Times,serif\" font-size=\"10.00\">6</text>\n</g>\n<!-- system_G7 -->\n<g id=\"node64\" class=\"node\">\n<title>system_G7</title>\n<text text-anchor=\"middle\" x=\"294\" y=\"-500.3\" font-family=\"Times,serif\" font-size=\"14.00\">system[8, 2]</text>\n</g>\n<!-- PotentialEnergy&#45;&gt;system_G7 -->\n<g id=\"edge63\" class=\"edge\">\n<title>PotentialEnergy:e-&gt;system_G7:w</title>\n<path fill=\"none\" stroke=\"black\" d=\"M211,-784C226.09,-784 233.69,-525.45 248.2,-505.25\"/>\n<ellipse fill=\"black\" stroke=\"black\" cx=\"249.18\" cy=\"-504.57\" rx=\"1\" ry=\"1\"/>\n<text text-anchor=\"middle\" x=\"229.5\" y=\"-663\" font-family=\"Times,serif\" font-size=\"10.00\">6</text>\n</g>\n<!-- system_G31 -->\n<g id=\"node65\" class=\"node\">\n<title>system_G31</title>\n<text text-anchor=\"middle\" x=\"294\" y=\"-446.3\" font-family=\"Times,serif\" font-size=\"14.00\">system[9, 0]</text>\n</g>\n<!-- PotentialEnergy&#45;&gt;system_G31 -->\n<g id=\"edge64\" class=\"edge\">\n<title>PotentialEnergy:e-&gt;system_G31:w</title>\n<path fill=\"none\" stroke=\"black\" d=\"M211,-763C227.91,-763 232.18,-471.62 248.2,-451.13\"/>\n<ellipse fill=\"black\" stroke=\"black\" cx=\"249.15\" cy=\"-450.53\" rx=\"1\" ry=\"1\"/>\n<text text-anchor=\"middle\" x=\"229.5\" y=\"-628\" font-family=\"Times,serif\" font-size=\"10.00\">6</text>\n</g>\n<!-- system_G39 -->\n<g id=\"node66\" class=\"node\">\n<title>system_G39</title>\n<text text-anchor=\"middle\" x=\"294\" y=\"-392.3\" font-family=\"Times,serif\" font-size=\"14.00\">system[9, 1]</text>\n</g>\n<!-- PotentialEnergy&#45;&gt;system_G39 -->\n<g id=\"edge65\" class=\"edge\">\n<title>PotentialEnergy:e-&gt;system_G39:w</title>\n<path fill=\"none\" stroke=\"black\" d=\"M211,-742C229.74,-742 230.62,-417.29 248.24,-396.99\"/>\n<ellipse fill=\"black\" stroke=\"black\" cx=\"249.13\" cy=\"-396.49\" rx=\"1\" ry=\"1\"/>\n<text text-anchor=\"middle\" x=\"229.5\" y=\"-592\" font-family=\"Times,serif\" font-size=\"10.00\">6</text>\n</g>\n<!-- system_G101 -->\n<g id=\"node67\" class=\"node\">\n<title>system_G101</title>\n<text text-anchor=\"middle\" x=\"294\" y=\"-338.3\" font-family=\"Times,serif\" font-size=\"14.00\">system[9, 2]</text>\n</g>\n<!-- PotentialEnergy&#45;&gt;system_G101 -->\n<g id=\"edge66\" class=\"edge\">\n<title>PotentialEnergy:e-&gt;system_G101:w</title>\n<path fill=\"none\" stroke=\"black\" d=\"M211,-721C231.51,-721 229.02,-365.32 248.09,-343.09\"/>\n<ellipse fill=\"black\" stroke=\"black\" cx=\"249.13\" cy=\"-342.49\" rx=\"1\" ry=\"1\"/>\n<text text-anchor=\"middle\" x=\"229.5\" y=\"-557\" font-family=\"Times,serif\" font-size=\"10.00\">6</text>\n</g>\n<!-- system_G16 -->\n<g id=\"node68\" class=\"node\">\n<title>system_G16</title>\n<text text-anchor=\"middle\" x=\"294\" y=\"-284.3\" font-family=\"Times,serif\" font-size=\"14.00\">system[10, 0]</text>\n</g>\n<!-- PotentialEnergy&#45;&gt;system_G16 -->\n<g id=\"edge67\" class=\"edge\">\n<title>PotentialEnergy:e-&gt;system_G16:w</title>\n<path fill=\"none\" stroke=\"black\" d=\"M211,-700C233.35,-700 225.49,-310.22 246.19,-288.91\"/>\n<ellipse fill=\"black\" stroke=\"black\" cx=\"247.11\" cy=\"-288.45\" rx=\"1\" ry=\"1\"/>\n<text text-anchor=\"middle\" x=\"229.5\" y=\"-509\" font-family=\"Times,serif\" font-size=\"10.00\">6</text>\n</g>\n<!-- system_G83 -->\n<g id=\"node69\" class=\"node\">\n<title>system_G83</title>\n<text text-anchor=\"middle\" x=\"294\" y=\"-230.3\" font-family=\"Times,serif\" font-size=\"14.00\">system[10, 1]</text>\n</g>\n<!-- PotentialEnergy&#45;&gt;system_G83 -->\n<g id=\"edge68\" class=\"edge\">\n<title>PotentialEnergy:e-&gt;system_G83:w</title>\n<path fill=\"none\" stroke=\"black\" d=\"M211,-679C235.13,-679 223.85,-258 246.05,-234.98\"/>\n<ellipse fill=\"black\" stroke=\"black\" cx=\"247.11\" cy=\"-234.45\" rx=\"1\" ry=\"1\"/>\n<text text-anchor=\"middle\" x=\"229.5\" y=\"-472\" font-family=\"Times,serif\" font-size=\"10.00\">6</text>\n</g>\n<!-- system_G34 -->\n<g id=\"node70\" class=\"node\">\n<title>system_G34</title>\n<text text-anchor=\"middle\" x=\"294\" y=\"-176.3\" font-family=\"Times,serif\" font-size=\"14.00\">system[10, 2]</text>\n</g>\n<!-- PotentialEnergy&#45;&gt;system_G34 -->\n<g id=\"edge69\" class=\"edge\">\n<title>PotentialEnergy:e-&gt;system_G34:w</title>\n<path fill=\"none\" stroke=\"black\" d=\"M211,-658C223.85,-658 233.95,-213.02 246.61,-181.73\"/>\n<ellipse fill=\"black\" stroke=\"black\" cx=\"247.37\" cy=\"-180.78\" rx=\"1\" ry=\"1\"/>\n<text text-anchor=\"middle\" x=\"229.5\" y=\"-422\" font-family=\"Times,serif\" font-size=\"10.00\">6</text>\n</g>\n<!-- system_G105 -->\n<g id=\"node71\" class=\"node\">\n<title>system_G105</title>\n<text text-anchor=\"middle\" x=\"294\" y=\"-122.3\" font-family=\"Times,serif\" font-size=\"14.00\">system[11, 0]</text>\n</g>\n<!-- PotentialEnergy&#45;&gt;system_G105 -->\n<g id=\"edge70\" class=\"edge\">\n<title>PotentialEnergy:e-&gt;system_G105:w</title>\n<path fill=\"none\" stroke=\"black\" d=\"M211,-637C238.8,-637 220.44,-149.67 246.08,-126.83\"/>\n<ellipse fill=\"black\" stroke=\"black\" cx=\"247.08\" cy=\"-126.4\" rx=\"1\" ry=\"1\"/>\n<text text-anchor=\"middle\" x=\"229.5\" y=\"-399\" font-family=\"Times,serif\" font-size=\"10.00\">6</text>\n</g>\n<!-- system_G2 -->\n<g id=\"node72\" class=\"node\">\n<title>system_G2</title>\n<text text-anchor=\"middle\" x=\"294\" y=\"-68.3\" font-family=\"Times,serif\" font-size=\"14.00\">system[11, 1]</text>\n</g>\n<!-- PotentialEnergy&#45;&gt;system_G2 -->\n<g id=\"edge71\" class=\"edge\">\n<title>PotentialEnergy:e-&gt;system_G2:w</title>\n<path fill=\"none\" stroke=\"black\" d=\"M211,-616C225.67,-616 232.43,-105.47 246.6,-73.56\"/>\n<ellipse fill=\"black\" stroke=\"black\" cx=\"247.33\" cy=\"-72.75\" rx=\"1\" ry=\"1\"/>\n<text text-anchor=\"middle\" x=\"229.5\" y=\"-347\" font-family=\"Times,serif\" font-size=\"10.00\">6</text>\n</g>\n<!-- system_G27 -->\n<g id=\"node73\" class=\"node\">\n<title>system_G27</title>\n<text text-anchor=\"middle\" x=\"294\" y=\"-14.3\" font-family=\"Times,serif\" font-size=\"14.00\">system[11, 2]</text>\n</g>\n<!-- PotentialEnergy&#45;&gt;system_G27 -->\n<g id=\"edge72\" class=\"edge\">\n<title>PotentialEnergy:e-&gt;system_G27:w</title>\n<path fill=\"none\" stroke=\"black\" d=\"M211,-595C226.56,-595 231.62,-53.5 246.53,-19.66\"/>\n<ellipse fill=\"black\" stroke=\"black\" cx=\"247.34\" cy=\"-18.75\" rx=\"1\" ry=\"1\"/>\n<text text-anchor=\"middle\" x=\"229.5\" y=\"-310\" font-family=\"Times,serif\" font-size=\"10.00\">6</text>\n</g>\n</g>\n</svg>",
          "text/plain": "<IPython.core.display.SVG object>"
         },
         "metadata": {},
         "output_type": "display_data"
        }
       ],
       "tabbable": null,
       "tooltip": null
      }
     },
     "e4a8237dbc2d4abcaba1b7e6594eaade": {
      "model_module": "@jupyter-widgets/output",
      "model_module_version": "1.0.0",
      "model_name": "OutputModel",
      "state": {
       "_dom_classes": [],
       "_model_module": "@jupyter-widgets/output",
       "_model_module_version": "1.0.0",
       "_model_name": "OutputModel",
       "_view_count": null,
       "_view_module": "@jupyter-widgets/output",
       "_view_module_version": "1.0.0",
       "_view_name": "OutputView",
       "layout": "IPY_MODEL_500fa964c11f4f89b09809a8cc8ae350",
       "msg_id": "",
       "outputs": [
        {
         "data": {
          "text/markdown": "`pair_potential`",
          "text/plain": "<IPython.core.display.Markdown object>"
         },
         "metadata": {},
         "output_type": "display_data"
        },
        {
         "data": {
          "image/svg+xml": "<svg xmlns=\"http://www.w3.org/2000/svg\" xmlns:xlink=\"http://www.w3.org/1999/xlink\" width=\"315pt\" height=\"314pt\" viewBox=\"0.00 0.00 315.00 314.00\">\n<g id=\"graph0\" class=\"graph\" transform=\"scale(1 1) rotate(0) translate(4 310)\">\n<title>my_graph</title>\n<polygon fill=\"white\" stroke=\"transparent\" points=\"-4,4 -4,-310 311,-310 311,4 -4,4\"/>\n<!-- system_i_G16 -->\n<g id=\"node1\" class=\"node\">\n<title>system_i_G16</title>\n<text text-anchor=\"middle\" x=\"40.5\" y=\"-284.3\" font-family=\"Times,serif\" font-size=\"14.00\">system_i[0]</text>\n</g>\n<!-- PairPotential -->\n<g id=\"node7\" class=\"node\">\n<title>PairPotential</title>\n<polygon fill=\"none\" stroke=\"black\" points=\"118.5,-216 118.5,-233 189.5,-233 189.5,-216 118.5,-216\"/>\n<text text-anchor=\"start\" x=\"127.5\" y=\"-222\" font-family=\"Times,serif\" font-size=\"10.00\">PairPotential</text>\n<polygon fill=\"none\" stroke=\"black\" points=\"118.5,-195 118.5,-216 189.5,-216 189.5,-195 118.5,-195\"/>\n<text text-anchor=\"start\" x=\"121.5\" y=\"-201.8\" font-family=\"Times,serif\" font-size=\"14.00\">system_i[0]</text>\n<polygon fill=\"none\" stroke=\"black\" points=\"118.5,-174 118.5,-195 189.5,-195 189.5,-174 118.5,-174\"/>\n<text text-anchor=\"start\" x=\"121.5\" y=\"-180.8\" font-family=\"Times,serif\" font-size=\"14.00\">system_i[1]</text>\n<polygon fill=\"none\" stroke=\"black\" points=\"118.5,-153 118.5,-174 189.5,-174 189.5,-153 118.5,-153\"/>\n<text text-anchor=\"start\" x=\"121.5\" y=\"-159.8\" font-family=\"Times,serif\" font-size=\"14.00\">system_i[2]</text>\n<polygon fill=\"none\" stroke=\"black\" points=\"118.5,-132 118.5,-153 189.5,-153 189.5,-132 118.5,-132\"/>\n<text text-anchor=\"start\" x=\"121.5\" y=\"-138.8\" font-family=\"Times,serif\" font-size=\"14.00\">system_j[0]</text>\n<polygon fill=\"none\" stroke=\"black\" points=\"118.5,-111 118.5,-132 189.5,-132 189.5,-111 118.5,-111\"/>\n<text text-anchor=\"start\" x=\"121.5\" y=\"-117.8\" font-family=\"Times,serif\" font-size=\"14.00\">system_j[1]</text>\n<polygon fill=\"none\" stroke=\"black\" points=\"118.5,-90 118.5,-111 189.5,-111 189.5,-90 118.5,-90\"/>\n<text text-anchor=\"start\" x=\"121.5\" y=\"-96.8\" font-family=\"Times,serif\" font-size=\"14.00\">system_j[2]</text>\n</g>\n<!-- system_i_G16&#45;&gt;PairPotential -->\n<g id=\"edge1\" class=\"edge\">\n<title>system_i_G16:e-&gt;PairPotential:w</title>\n<path fill=\"none\" stroke=\"black\" d=\"M81,-288C120.2,-288 79.66,-209.17 115.75,-206.09\"/>\n<ellipse fill=\"black\" stroke=\"black\" cx=\"117\" cy=\"-206.04\" rx=\"1\" ry=\"1\"/>\n<text text-anchor=\"middle\" x=\"99.5\" y=\"-273\" font-family=\"Times,serif\" font-size=\"10.00\">7</text>\n</g>\n<!-- system_i_G11 -->\n<g id=\"node2\" class=\"node\">\n<title>system_i_G11</title>\n<text text-anchor=\"middle\" x=\"40.5\" y=\"-230.3\" font-family=\"Times,serif\" font-size=\"14.00\">system_i[1]</text>\n</g>\n<!-- system_i_G11&#45;&gt;PairPotential -->\n<g id=\"edge2\" class=\"edge\">\n<title>system_i_G11:e-&gt;PairPotential:w</title>\n<path fill=\"none\" stroke=\"black\" d=\"M81,-234C107.54,-234 91.64,-187.64 115.86,-185.11\"/>\n<ellipse fill=\"black\" stroke=\"black\" cx=\"117\" cy=\"-185.05\" rx=\"1\" ry=\"1\"/>\n<text text-anchor=\"middle\" x=\"99.5\" y=\"-213\" font-family=\"Times,serif\" font-size=\"10.00\">7</text>\n</g>\n<!-- system_i_G17 -->\n<g id=\"node3\" class=\"node\">\n<title>system_i_G17</title>\n<text text-anchor=\"middle\" x=\"40.5\" y=\"-176.3\" font-family=\"Times,serif\" font-size=\"14.00\">system_i[2]</text>\n</g>\n<!-- system_i_G17&#45;&gt;PairPotential -->\n<g id=\"edge3\" class=\"edge\">\n<title>system_i_G17:e-&gt;PairPotential:w</title>\n<path fill=\"none\" stroke=\"black\" d=\"M81,-180C98.22,-180 99.97,-165.23 115.98,-164.07\"/>\n<ellipse fill=\"black\" stroke=\"black\" cx=\"117\" cy=\"-164.04\" rx=\"1\" ry=\"1\"/>\n<text text-anchor=\"middle\" x=\"99.5\" y=\"-175\" font-family=\"Times,serif\" font-size=\"10.00\">7</text>\n</g>\n<!-- system_j_G4 -->\n<g id=\"node4\" class=\"node\">\n<title>system_j_G4</title>\n<text text-anchor=\"middle\" x=\"40.5\" y=\"-122.3\" font-family=\"Times,serif\" font-size=\"14.00\">system_j[0]</text>\n</g>\n<!-- system_j_G4&#45;&gt;PairPotential -->\n<g id=\"edge4\" class=\"edge\">\n<title>system_j_G4:e-&gt;PairPotential:w</title>\n<path fill=\"none\" stroke=\"black\" d=\"M81,-126C98.22,-126 99.97,-140.77 115.98,-141.93\"/>\n<ellipse fill=\"black\" stroke=\"black\" cx=\"117\" cy=\"-141.96\" rx=\"1\" ry=\"1\"/>\n<text text-anchor=\"middle\" x=\"99.5\" y=\"-137\" font-family=\"Times,serif\" font-size=\"10.00\">7</text>\n</g>\n<!-- system_j_G2 -->\n<g id=\"node5\" class=\"node\">\n<title>system_j_G2</title>\n<text text-anchor=\"middle\" x=\"40.5\" y=\"-68.3\" font-family=\"Times,serif\" font-size=\"14.00\">system_j[1]</text>\n</g>\n<!-- system_j_G2&#45;&gt;PairPotential -->\n<g id=\"edge5\" class=\"edge\">\n<title>system_j_G2:e-&gt;PairPotential:w</title>\n<path fill=\"none\" stroke=\"black\" d=\"M81,-72C107.54,-72 91.64,-118.36 115.86,-120.89\"/>\n<ellipse fill=\"black\" stroke=\"black\" cx=\"117\" cy=\"-120.95\" rx=\"1\" ry=\"1\"/>\n<text text-anchor=\"middle\" x=\"99.5\" y=\"-100\" font-family=\"Times,serif\" font-size=\"10.00\">7</text>\n</g>\n<!-- system_j_G5 -->\n<g id=\"node6\" class=\"node\">\n<title>system_j_G5</title>\n<text text-anchor=\"middle\" x=\"40.5\" y=\"-14.3\" font-family=\"Times,serif\" font-size=\"14.00\">system_j[2]</text>\n</g>\n<!-- system_j_G5&#45;&gt;PairPotential -->\n<g id=\"edge6\" class=\"edge\">\n<title>system_j_G5:e-&gt;PairPotential:w</title>\n<path fill=\"none\" stroke=\"black\" d=\"M81,-18C120.2,-18 79.66,-96.83 115.75,-99.91\"/>\n<ellipse fill=\"black\" stroke=\"black\" cx=\"117\" cy=\"-99.96\" rx=\"1\" ry=\"1\"/>\n<text text-anchor=\"middle\" x=\"99.5\" y=\"-85\" font-family=\"Times,serif\" font-size=\"10.00\">7</text>\n</g>\n<!-- system_i_G8 -->\n<g id=\"node8\" class=\"node\">\n<title>system_i_G8</title>\n<text text-anchor=\"middle\" x=\"266.5\" y=\"-284.3\" font-family=\"Times,serif\" font-size=\"14.00\">system_i[0]</text>\n</g>\n<!-- PairPotential&#45;&gt;system_i_G8 -->\n<g id=\"edge7\" class=\"edge\">\n<title>PairPotential:e-&gt;system_i_G8:w</title>\n<path fill=\"none\" stroke=\"black\" d=\"M189,-206C228.2,-206 187.66,-284.83 223.75,-287.91\"/>\n<ellipse fill=\"black\" stroke=\"black\" cx=\"225\" cy=\"-287.96\" rx=\"1\" ry=\"1\"/>\n<text text-anchor=\"middle\" x=\"207.5\" y=\"-273\" font-family=\"Times,serif\" font-size=\"10.00\">7</text>\n</g>\n<!-- system_i_G6 -->\n<g id=\"node9\" class=\"node\">\n<title>system_i_G6</title>\n<text text-anchor=\"middle\" x=\"266.5\" y=\"-230.3\" font-family=\"Times,serif\" font-size=\"14.00\">system_i[1]</text>\n</g>\n<!-- PairPotential&#45;&gt;system_i_G6 -->\n<g id=\"edge8\" class=\"edge\">\n<title>PairPotential:e-&gt;system_i_G6:w</title>\n<path fill=\"none\" stroke=\"black\" d=\"M189,-185C215.54,-185 199.64,-231.36 223.86,-233.89\"/>\n<ellipse fill=\"black\" stroke=\"black\" cx=\"225\" cy=\"-233.95\" rx=\"1\" ry=\"1\"/>\n<text text-anchor=\"middle\" x=\"207.5\" y=\"-213\" font-family=\"Times,serif\" font-size=\"10.00\">7</text>\n</g>\n<!-- system_i_G10 -->\n<g id=\"node10\" class=\"node\">\n<title>system_i_G10</title>\n<text text-anchor=\"middle\" x=\"266.5\" y=\"-176.3\" font-family=\"Times,serif\" font-size=\"14.00\">system_i[2]</text>\n</g>\n<!-- PairPotential&#45;&gt;system_i_G10 -->\n<g id=\"edge9\" class=\"edge\">\n<title>PairPotential:e-&gt;system_i_G10:w</title>\n<path fill=\"none\" stroke=\"black\" d=\"M189,-164C206.22,-164 207.97,-178.77 223.98,-179.93\"/>\n<ellipse fill=\"black\" stroke=\"black\" cx=\"225\" cy=\"-179.96\" rx=\"1\" ry=\"1\"/>\n<text text-anchor=\"middle\" x=\"207.5\" y=\"-175\" font-family=\"Times,serif\" font-size=\"10.00\">7</text>\n</g>\n<!-- system_j_G13 -->\n<g id=\"node11\" class=\"node\">\n<title>system_j_G13</title>\n<text text-anchor=\"middle\" x=\"266.5\" y=\"-122.3\" font-family=\"Times,serif\" font-size=\"14.00\">system_j[0]</text>\n</g>\n<!-- PairPotential&#45;&gt;system_j_G13 -->\n<g id=\"edge10\" class=\"edge\">\n<title>PairPotential:e-&gt;system_j_G13:w</title>\n<path fill=\"none\" stroke=\"black\" d=\"M189,-142C206.22,-142 207.97,-127.23 223.98,-126.07\"/>\n<ellipse fill=\"black\" stroke=\"black\" cx=\"225\" cy=\"-126.04\" rx=\"1\" ry=\"1\"/>\n<text text-anchor=\"middle\" x=\"207.5\" y=\"-137\" font-family=\"Times,serif\" font-size=\"10.00\">7</text>\n</g>\n<!-- system_j_G9 -->\n<g id=\"node12\" class=\"node\">\n<title>system_j_G9</title>\n<text text-anchor=\"middle\" x=\"266.5\" y=\"-68.3\" font-family=\"Times,serif\" font-size=\"14.00\">system_j[1]</text>\n</g>\n<!-- PairPotential&#45;&gt;system_j_G9 -->\n<g id=\"edge11\" class=\"edge\">\n<title>PairPotential:e-&gt;system_j_G9:w</title>\n<path fill=\"none\" stroke=\"black\" d=\"M189,-121C215.54,-121 199.64,-74.64 223.86,-72.11\"/>\n<ellipse fill=\"black\" stroke=\"black\" cx=\"225\" cy=\"-72.05\" rx=\"1\" ry=\"1\"/>\n<text text-anchor=\"middle\" x=\"207.5\" y=\"-100\" font-family=\"Times,serif\" font-size=\"10.00\">7</text>\n</g>\n<!-- system_j_G15 -->\n<g id=\"node13\" class=\"node\">\n<title>system_j_G15</title>\n<text text-anchor=\"middle\" x=\"266.5\" y=\"-14.3\" font-family=\"Times,serif\" font-size=\"14.00\">system_j[2]</text>\n</g>\n<!-- PairPotential&#45;&gt;system_j_G15 -->\n<g id=\"edge12\" class=\"edge\">\n<title>PairPotential:e-&gt;system_j_G15:w</title>\n<path fill=\"none\" stroke=\"black\" d=\"M189,-100C228.2,-100 187.66,-21.17 223.75,-18.09\"/>\n<ellipse fill=\"black\" stroke=\"black\" cx=\"225\" cy=\"-18.04\" rx=\"1\" ry=\"1\"/>\n<text text-anchor=\"middle\" x=\"207.5\" y=\"-85\" font-family=\"Times,serif\" font-size=\"10.00\">7</text>\n</g>\n</g>\n</svg>",
          "text/plain": "<IPython.core.display.SVG object>"
         },
         "metadata": {},
         "output_type": "display_data"
        }
       ],
       "tabbable": null,
       "tooltip": null
      }
     },
     "fc7d86cec530411fa2fd3040a8df6eb6": {
      "model_module": "@jupyter-widgets/output",
      "model_module_version": "1.0.0",
      "model_name": "OutputModel",
      "state": {
       "_dom_classes": [],
       "_model_module": "@jupyter-widgets/output",
       "_model_module_version": "1.0.0",
       "_model_name": "OutputModel",
       "_view_count": null,
       "_view_module": "@jupyter-widgets/output",
       "_view_module_version": "1.0.0",
       "_view_name": "OutputView",
       "layout": "IPY_MODEL_640b9b4fa63c4c47a06772187fd9f1a3",
       "msg_id": "",
       "outputs": [
        {
         "data": {
          "text/markdown": "`kinetic_energy`",
          "text/plain": "<IPython.core.display.Markdown object>"
         },
         "metadata": {},
         "output_type": "display_data"
        },
        {
         "data": {
          "image/svg+xml": "<svg xmlns=\"http://www.w3.org/2000/svg\" xmlns:xlink=\"http://www.w3.org/1999/xlink\" width=\"348pt\" height=\"1934pt\" viewBox=\"0.00 0.00 348.00 1934.00\">\n<g id=\"graph0\" class=\"graph\" transform=\"scale(1 1) rotate(0) translate(4 1930)\">\n<title>my_graph</title>\n<polygon fill=\"white\" stroke=\"transparent\" points=\"-4,4 -4,-1930 344,-1930 344,4 -4,4\"/>\n<!-- system_G84 -->\n<g id=\"node1\" class=\"node\">\n<title>system_G84</title>\n<text text-anchor=\"middle\" x=\"46\" y=\"-1904.3\" font-family=\"Times,serif\" font-size=\"14.00\">system[0, 0]</text>\n</g>\n<!-- KineticEnergy -->\n<g id=\"node37\" class=\"node\">\n<title>KineticEnergy</title>\n<polygon fill=\"none\" stroke=\"black\" points=\"129,-1341 129,-1358 211,-1358 211,-1341 129,-1341\"/>\n<text text-anchor=\"start\" x=\"139.5\" y=\"-1347\" font-family=\"Times,serif\" font-size=\"10.00\">KineticEnergy</text>\n<polygon fill=\"none\" stroke=\"black\" points=\"129,-1320 129,-1341 211,-1341 211,-1320 129,-1320\"/>\n<text text-anchor=\"start\" x=\"135.5\" y=\"-1326.8\" font-family=\"Times,serif\" font-size=\"14.00\">system[0, 0]</text>\n<polygon fill=\"none\" stroke=\"black\" points=\"129,-1299 129,-1320 211,-1320 211,-1299 129,-1299\"/>\n<text text-anchor=\"start\" x=\"135.5\" y=\"-1305.8\" font-family=\"Times,serif\" font-size=\"14.00\">system[0, 1]</text>\n<polygon fill=\"none\" stroke=\"black\" points=\"129,-1278 129,-1299 211,-1299 211,-1278 129,-1278\"/>\n<text text-anchor=\"start\" x=\"135.5\" y=\"-1284.8\" font-family=\"Times,serif\" font-size=\"14.00\">system[0, 2]</text>\n<polygon fill=\"none\" stroke=\"black\" points=\"129,-1257 129,-1278 211,-1278 211,-1257 129,-1257\"/>\n<text text-anchor=\"start\" x=\"135.5\" y=\"-1263.8\" font-family=\"Times,serif\" font-size=\"14.00\">system[1, 0]</text>\n<polygon fill=\"none\" stroke=\"black\" points=\"129,-1236 129,-1257 211,-1257 211,-1236 129,-1236\"/>\n<text text-anchor=\"start\" x=\"135.5\" y=\"-1242.8\" font-family=\"Times,serif\" font-size=\"14.00\">system[1, 1]</text>\n<polygon fill=\"none\" stroke=\"black\" points=\"129,-1215 129,-1236 211,-1236 211,-1215 129,-1215\"/>\n<text text-anchor=\"start\" x=\"135.5\" y=\"-1221.8\" font-family=\"Times,serif\" font-size=\"14.00\">system[1, 2]</text>\n<polygon fill=\"none\" stroke=\"black\" points=\"129,-1194 129,-1215 211,-1215 211,-1194 129,-1194\"/>\n<text text-anchor=\"start\" x=\"135.5\" y=\"-1200.8\" font-family=\"Times,serif\" font-size=\"14.00\">system[2, 0]</text>\n<polygon fill=\"none\" stroke=\"black\" points=\"129,-1173 129,-1194 211,-1194 211,-1173 129,-1173\"/>\n<text text-anchor=\"start\" x=\"135.5\" y=\"-1179.8\" font-family=\"Times,serif\" font-size=\"14.00\">system[2, 1]</text>\n<polygon fill=\"none\" stroke=\"black\" points=\"129,-1152 129,-1173 211,-1173 211,-1152 129,-1152\"/>\n<text text-anchor=\"start\" x=\"135.5\" y=\"-1158.8\" font-family=\"Times,serif\" font-size=\"14.00\">system[2, 2]</text>\n<polygon fill=\"none\" stroke=\"black\" points=\"129,-1131 129,-1152 211,-1152 211,-1131 129,-1131\"/>\n<text text-anchor=\"start\" x=\"135.5\" y=\"-1137.8\" font-family=\"Times,serif\" font-size=\"14.00\">system[3, 0]</text>\n<polygon fill=\"none\" stroke=\"black\" points=\"129,-1110 129,-1131 211,-1131 211,-1110 129,-1110\"/>\n<text text-anchor=\"start\" x=\"135.5\" y=\"-1116.8\" font-family=\"Times,serif\" font-size=\"14.00\">system[3, 1]</text>\n<polygon fill=\"none\" stroke=\"black\" points=\"129,-1089 129,-1110 211,-1110 211,-1089 129,-1089\"/>\n<text text-anchor=\"start\" x=\"135.5\" y=\"-1095.8\" font-family=\"Times,serif\" font-size=\"14.00\">system[3, 2]</text>\n<polygon fill=\"none\" stroke=\"black\" points=\"129,-1068 129,-1089 211,-1089 211,-1068 129,-1068\"/>\n<text text-anchor=\"start\" x=\"135.5\" y=\"-1074.8\" font-family=\"Times,serif\" font-size=\"14.00\">system[4, 0]</text>\n<polygon fill=\"none\" stroke=\"black\" points=\"129,-1047 129,-1068 211,-1068 211,-1047 129,-1047\"/>\n<text text-anchor=\"start\" x=\"135.5\" y=\"-1053.8\" font-family=\"Times,serif\" font-size=\"14.00\">system[4, 1]</text>\n<polygon fill=\"none\" stroke=\"black\" points=\"129,-1026 129,-1047 211,-1047 211,-1026 129,-1026\"/>\n<text text-anchor=\"start\" x=\"135.5\" y=\"-1032.8\" font-family=\"Times,serif\" font-size=\"14.00\">system[4, 2]</text>\n<polygon fill=\"none\" stroke=\"black\" points=\"129,-1005 129,-1026 211,-1026 211,-1005 129,-1005\"/>\n<text text-anchor=\"start\" x=\"135.5\" y=\"-1011.8\" font-family=\"Times,serif\" font-size=\"14.00\">system[5, 0]</text>\n<polygon fill=\"none\" stroke=\"black\" points=\"129,-984 129,-1005 211,-1005 211,-984 129,-984\"/>\n<text text-anchor=\"start\" x=\"135.5\" y=\"-990.8\" font-family=\"Times,serif\" font-size=\"14.00\">system[5, 1]</text>\n<polygon fill=\"none\" stroke=\"black\" points=\"129,-963 129,-984 211,-984 211,-963 129,-963\"/>\n<text text-anchor=\"start\" x=\"135.5\" y=\"-969.8\" font-family=\"Times,serif\" font-size=\"14.00\">system[5, 2]</text>\n<polygon fill=\"none\" stroke=\"black\" points=\"129,-942 129,-963 211,-963 211,-942 129,-942\"/>\n<text text-anchor=\"start\" x=\"135.5\" y=\"-948.8\" font-family=\"Times,serif\" font-size=\"14.00\">system[6, 0]</text>\n<polygon fill=\"none\" stroke=\"black\" points=\"129,-921 129,-942 211,-942 211,-921 129,-921\"/>\n<text text-anchor=\"start\" x=\"135.5\" y=\"-927.8\" font-family=\"Times,serif\" font-size=\"14.00\">system[6, 1]</text>\n<polygon fill=\"none\" stroke=\"black\" points=\"129,-900 129,-921 211,-921 211,-900 129,-900\"/>\n<text text-anchor=\"start\" x=\"135.5\" y=\"-906.8\" font-family=\"Times,serif\" font-size=\"14.00\">system[6, 2]</text>\n<polygon fill=\"none\" stroke=\"black\" points=\"129,-879 129,-900 211,-900 211,-879 129,-879\"/>\n<text text-anchor=\"start\" x=\"135.5\" y=\"-885.8\" font-family=\"Times,serif\" font-size=\"14.00\">system[7, 0]</text>\n<polygon fill=\"none\" stroke=\"black\" points=\"129,-858 129,-879 211,-879 211,-858 129,-858\"/>\n<text text-anchor=\"start\" x=\"135.5\" y=\"-864.8\" font-family=\"Times,serif\" font-size=\"14.00\">system[7, 1]</text>\n<polygon fill=\"none\" stroke=\"black\" points=\"129,-837 129,-858 211,-858 211,-837 129,-837\"/>\n<text text-anchor=\"start\" x=\"135.5\" y=\"-843.8\" font-family=\"Times,serif\" font-size=\"14.00\">system[7, 2]</text>\n<polygon fill=\"none\" stroke=\"black\" points=\"129,-816 129,-837 211,-837 211,-816 129,-816\"/>\n<text text-anchor=\"start\" x=\"135.5\" y=\"-822.8\" font-family=\"Times,serif\" font-size=\"14.00\">system[8, 0]</text>\n<polygon fill=\"none\" stroke=\"black\" points=\"129,-795 129,-816 211,-816 211,-795 129,-795\"/>\n<text text-anchor=\"start\" x=\"135.5\" y=\"-801.8\" font-family=\"Times,serif\" font-size=\"14.00\">system[8, 1]</text>\n<polygon fill=\"none\" stroke=\"black\" points=\"129,-774 129,-795 211,-795 211,-774 129,-774\"/>\n<text text-anchor=\"start\" x=\"135.5\" y=\"-780.8\" font-family=\"Times,serif\" font-size=\"14.00\">system[8, 2]</text>\n<polygon fill=\"none\" stroke=\"black\" points=\"129,-753 129,-774 211,-774 211,-753 129,-753\"/>\n<text text-anchor=\"start\" x=\"135.5\" y=\"-759.8\" font-family=\"Times,serif\" font-size=\"14.00\">system[9, 0]</text>\n<polygon fill=\"none\" stroke=\"black\" points=\"129,-732 129,-753 211,-753 211,-732 129,-732\"/>\n<text text-anchor=\"start\" x=\"135.5\" y=\"-738.8\" font-family=\"Times,serif\" font-size=\"14.00\">system[9, 1]</text>\n<polygon fill=\"none\" stroke=\"black\" points=\"129,-711 129,-732 211,-732 211,-711 129,-711\"/>\n<text text-anchor=\"start\" x=\"135.5\" y=\"-717.8\" font-family=\"Times,serif\" font-size=\"14.00\">system[9, 2]</text>\n<polygon fill=\"none\" stroke=\"black\" points=\"129,-690 129,-711 211,-711 211,-690 129,-690\"/>\n<text text-anchor=\"start\" x=\"132\" y=\"-696.8\" font-family=\"Times,serif\" font-size=\"14.00\">system[10, 0]</text>\n<polygon fill=\"none\" stroke=\"black\" points=\"129,-669 129,-690 211,-690 211,-669 129,-669\"/>\n<text text-anchor=\"start\" x=\"132\" y=\"-675.8\" font-family=\"Times,serif\" font-size=\"14.00\">system[10, 1]</text>\n<polygon fill=\"none\" stroke=\"black\" points=\"129,-648 129,-669 211,-669 211,-648 129,-648\"/>\n<text text-anchor=\"start\" x=\"132\" y=\"-654.8\" font-family=\"Times,serif\" font-size=\"14.00\">system[10, 2]</text>\n<polygon fill=\"none\" stroke=\"black\" points=\"129,-627 129,-648 211,-648 211,-627 129,-627\"/>\n<text text-anchor=\"start\" x=\"132\" y=\"-633.8\" font-family=\"Times,serif\" font-size=\"14.00\">system[11, 0]</text>\n<polygon fill=\"none\" stroke=\"black\" points=\"129,-606 129,-627 211,-627 211,-606 129,-606\"/>\n<text text-anchor=\"start\" x=\"132\" y=\"-612.8\" font-family=\"Times,serif\" font-size=\"14.00\">system[11, 1]</text>\n<polygon fill=\"none\" stroke=\"black\" points=\"129,-585 129,-606 211,-606 211,-585 129,-585\"/>\n<text text-anchor=\"start\" x=\"132\" y=\"-591.8\" font-family=\"Times,serif\" font-size=\"14.00\">system[11, 2]</text>\n</g>\n<!-- system_G84&#45;&gt;KineticEnergy -->\n<g id=\"edge1\" class=\"edge\">\n<title>system_G84:e-&gt;KineticEnergy:w</title>\n<path fill=\"none\" stroke=\"black\" d=\"M90,-1908C105.56,-1908 112.5,-1366.5 127.52,-1332.66\"/>\n<ellipse fill=\"black\" stroke=\"black\" cx=\"128.33\" cy=\"-1331.75\" rx=\"1\" ry=\"1\"/>\n<text text-anchor=\"middle\" x=\"110.5\" y=\"-1605\" font-family=\"Times,serif\" font-size=\"10.00\">6</text>\n</g>\n<!-- system_G90 -->\n<g id=\"node2\" class=\"node\">\n<title>system_G90</title>\n<text text-anchor=\"middle\" x=\"46\" y=\"-1850.3\" font-family=\"Times,serif\" font-size=\"14.00\">system[0, 1]</text>\n</g>\n<!-- system_G90&#45;&gt;KineticEnergy -->\n<g id=\"edge2\" class=\"edge\">\n<title>system_G90:e-&gt;KineticEnergy:w</title>\n<path fill=\"none\" stroke=\"black\" d=\"M90,-1854C104.68,-1854 113.3,-1343.47 127.6,-1311.56\"/>\n<ellipse fill=\"black\" stroke=\"black\" cx=\"128.33\" cy=\"-1310.74\" rx=\"1\" ry=\"1\"/>\n<text text-anchor=\"middle\" x=\"110.5\" y=\"-1568\" font-family=\"Times,serif\" font-size=\"10.00\">6</text>\n</g>\n<!-- system_G61 -->\n<g id=\"node3\" class=\"node\">\n<title>system_G61</title>\n<text text-anchor=\"middle\" x=\"46\" y=\"-1796.3\" font-family=\"Times,serif\" font-size=\"14.00\">system[0, 2]</text>\n</g>\n<!-- system_G61&#45;&gt;KineticEnergy -->\n<g id=\"edge3\" class=\"edge\">\n<title>system_G61:e-&gt;KineticEnergy:w</title>\n<path fill=\"none\" stroke=\"black\" d=\"M90,-1800C103.74,-1800 114.02,-1324.3 127.51,-1290.85\"/>\n<ellipse fill=\"black\" stroke=\"black\" cx=\"128.37\" cy=\"-1289.78\" rx=\"1\" ry=\"1\"/>\n<text text-anchor=\"middle\" x=\"110.5\" y=\"-1532\" font-family=\"Times,serif\" font-size=\"10.00\">6</text>\n</g>\n<!-- system_G72 -->\n<g id=\"node4\" class=\"node\">\n<title>system_G72</title>\n<text text-anchor=\"middle\" x=\"46\" y=\"-1742.3\" font-family=\"Times,serif\" font-size=\"14.00\">system[1, 0]</text>\n</g>\n<!-- system_G72&#45;&gt;KineticEnergy -->\n<g id=\"edge4\" class=\"edge\">\n<title>system_G72:e-&gt;KineticEnergy:w</title>\n<path fill=\"none\" stroke=\"black\" d=\"M90,-1746C115.92,-1746 103.11,-1293.78 126.9,-1269.05\"/>\n<ellipse fill=\"black\" stroke=\"black\" cx=\"128.11\" cy=\"-1268.45\" rx=\"1\" ry=\"1\"/>\n<text text-anchor=\"middle\" x=\"110.5\" y=\"-1481\" font-family=\"Times,serif\" font-size=\"10.00\">6</text>\n</g>\n<!-- system_G18 -->\n<g id=\"node5\" class=\"node\">\n<title>system_G18</title>\n<text text-anchor=\"middle\" x=\"46\" y=\"-1688.3\" font-family=\"Times,serif\" font-size=\"14.00\">system[1, 1]</text>\n</g>\n<!-- system_G18&#45;&gt;KineticEnergy -->\n<g id=\"edge5\" class=\"edge\">\n<title>system_G18:e-&gt;KineticEnergy:w</title>\n<path fill=\"none\" stroke=\"black\" d=\"M90,-1692C114.14,-1692 104.74,-1271 127.04,-1247.98\"/>\n<ellipse fill=\"black\" stroke=\"black\" cx=\"128.11\" cy=\"-1247.45\" rx=\"1\" ry=\"1\"/>\n<text text-anchor=\"middle\" x=\"110.5\" y=\"-1445\" font-family=\"Times,serif\" font-size=\"10.00\">6</text>\n</g>\n<!-- system_G26 -->\n<g id=\"node6\" class=\"node\">\n<title>system_G26</title>\n<text text-anchor=\"middle\" x=\"46\" y=\"-1634.3\" font-family=\"Times,serif\" font-size=\"14.00\">system[1, 2]</text>\n</g>\n<!-- system_G26&#45;&gt;KineticEnergy -->\n<g id=\"edge6\" class=\"edge\">\n<title>system_G26:e-&gt;KineticEnergy:w</title>\n<path fill=\"none\" stroke=\"black\" d=\"M90,-1638C112.36,-1638 106.37,-1248.22 127.18,-1226.91\"/>\n<ellipse fill=\"black\" stroke=\"black\" cx=\"128.11\" cy=\"-1226.45\" rx=\"1\" ry=\"1\"/>\n<text text-anchor=\"middle\" x=\"110.5\" y=\"-1410\" font-family=\"Times,serif\" font-size=\"10.00\">6</text>\n</g>\n<!-- system_G52 -->\n<g id=\"node7\" class=\"node\">\n<title>system_G52</title>\n<text text-anchor=\"middle\" x=\"46\" y=\"-1580.3\" font-family=\"Times,serif\" font-size=\"14.00\">system[2, 0]</text>\n</g>\n<!-- system_G52&#45;&gt;KineticEnergy -->\n<g id=\"edge7\" class=\"edge\">\n<title>system_G52:e-&gt;KineticEnergy:w</title>\n<path fill=\"none\" stroke=\"black\" d=\"M90,-1584C110.51,-1584 108.02,-1228.32 127.09,-1206.09\"/>\n<ellipse fill=\"black\" stroke=\"black\" cx=\"128.13\" cy=\"-1205.49\" rx=\"1\" ry=\"1\"/>\n<text text-anchor=\"middle\" x=\"110.5\" y=\"-1386\" font-family=\"Times,serif\" font-size=\"10.00\">6</text>\n</g>\n<!-- system_G16 -->\n<g id=\"node8\" class=\"node\">\n<title>system_G16</title>\n<text text-anchor=\"middle\" x=\"46\" y=\"-1526.3\" font-family=\"Times,serif\" font-size=\"14.00\">system[2, 1]</text>\n</g>\n<!-- system_G16&#45;&gt;KineticEnergy -->\n<g id=\"edge8\" class=\"edge\">\n<title>system_G16:e-&gt;KineticEnergy:w</title>\n<path fill=\"none\" stroke=\"black\" d=\"M90,-1530C108.74,-1530 109.62,-1205.29 127.24,-1184.99\"/>\n<ellipse fill=\"black\" stroke=\"black\" cx=\"128.13\" cy=\"-1184.49\" rx=\"1\" ry=\"1\"/>\n<text text-anchor=\"middle\" x=\"110.5\" y=\"-1349\" font-family=\"Times,serif\" font-size=\"10.00\">6</text>\n</g>\n<!-- system_G20 -->\n<g id=\"node9\" class=\"node\">\n<title>system_G20</title>\n<text text-anchor=\"middle\" x=\"46\" y=\"-1472.3\" font-family=\"Times,serif\" font-size=\"14.00\">system[2, 2]</text>\n</g>\n<!-- system_G20&#45;&gt;KineticEnergy -->\n<g id=\"edge9\" class=\"edge\">\n<title>system_G20:e-&gt;KineticEnergy:w</title>\n<path fill=\"none\" stroke=\"black\" d=\"M90,-1476C106.91,-1476 111.18,-1184.62 127.2,-1164.13\"/>\n<ellipse fill=\"black\" stroke=\"black\" cx=\"128.15\" cy=\"-1163.53\" rx=\"1\" ry=\"1\"/>\n<text text-anchor=\"middle\" x=\"110.5\" y=\"-1313\" font-family=\"Times,serif\" font-size=\"10.00\">6</text>\n</g>\n<!-- system_G35 -->\n<g id=\"node10\" class=\"node\">\n<title>system_G35</title>\n<text text-anchor=\"middle\" x=\"46\" y=\"-1418.3\" font-family=\"Times,serif\" font-size=\"14.00\">system[3, 0]</text>\n</g>\n<!-- system_G35&#45;&gt;KineticEnergy -->\n<g id=\"edge10\" class=\"edge\">\n<title>system_G35:e-&gt;KineticEnergy:w</title>\n<path fill=\"none\" stroke=\"black\" d=\"M90,-1422C120.68,-1422 98.67,-1154.97 126.88,-1142.45\"/>\n<ellipse fill=\"black\" stroke=\"black\" cx=\"128.02\" cy=\"-1142.21\" rx=\"1\" ry=\"1\"/>\n<text text-anchor=\"middle\" x=\"110.5\" y=\"-1259\" font-family=\"Times,serif\" font-size=\"10.00\">6</text>\n</g>\n<!-- system_G97 -->\n<g id=\"node11\" class=\"node\">\n<title>system_G97</title>\n<text text-anchor=\"middle\" x=\"46\" y=\"-1364.3\" font-family=\"Times,serif\" font-size=\"14.00\">system[3, 1]</text>\n</g>\n<!-- system_G97&#45;&gt;KineticEnergy -->\n<g id=\"edge11\" class=\"edge\">\n<title>system_G97:e-&gt;KineticEnergy:w</title>\n<path fill=\"none\" stroke=\"black\" d=\"M90,-1368C117.02,-1368 102.09,-1134.32 126.82,-1121.54\"/>\n<ellipse fill=\"black\" stroke=\"black\" cx=\"128.03\" cy=\"-1121.24\" rx=\"1\" ry=\"1\"/>\n<text text-anchor=\"middle\" x=\"110.5\" y=\"-1232\" font-family=\"Times,serif\" font-size=\"10.00\">6</text>\n</g>\n<!-- system_G51 -->\n<g id=\"node12\" class=\"node\">\n<title>system_G51</title>\n<text text-anchor=\"middle\" x=\"46\" y=\"-1310.3\" font-family=\"Times,serif\" font-size=\"14.00\">system[3, 2]</text>\n</g>\n<!-- system_G51&#45;&gt;KineticEnergy -->\n<g id=\"edge12\" class=\"edge\">\n<title>system_G51:e-&gt;KineticEnergy:w</title>\n<path fill=\"none\" stroke=\"black\" d=\"M90,-1314C113.41,-1314 105.38,-1113.17 126.83,-1100.61\"/>\n<ellipse fill=\"black\" stroke=\"black\" cx=\"128.04\" cy=\"-1100.27\" rx=\"1\" ry=\"1\"/>\n<text text-anchor=\"middle\" x=\"110.5\" y=\"-1197\" font-family=\"Times,serif\" font-size=\"10.00\">6</text>\n</g>\n<!-- system_G10 -->\n<g id=\"node13\" class=\"node\">\n<title>system_G10</title>\n<text text-anchor=\"middle\" x=\"46\" y=\"-1256.3\" font-family=\"Times,serif\" font-size=\"14.00\">system[4, 0]</text>\n</g>\n<!-- system_G10&#45;&gt;KineticEnergy -->\n<g id=\"edge13\" class=\"edge\">\n<title>system_G10:e-&gt;KineticEnergy:w</title>\n<path fill=\"none\" stroke=\"black\" d=\"M90,-1260C109.77,-1260 108.56,-1092.86 126.69,-1079.81\"/>\n<ellipse fill=\"black\" stroke=\"black\" cx=\"128.06\" cy=\"-1079.33\" rx=\"1\" ry=\"1\"/>\n<text text-anchor=\"middle\" x=\"110.5\" y=\"-1167\" font-family=\"Times,serif\" font-size=\"10.00\">6</text>\n</g>\n<!-- system_G77 -->\n<g id=\"node14\" class=\"node\">\n<title>system_G77</title>\n<text text-anchor=\"middle\" x=\"46\" y=\"-1202.3\" font-family=\"Times,serif\" font-size=\"14.00\">system[4, 1]</text>\n</g>\n<!-- system_G77&#45;&gt;KineticEnergy -->\n<g id=\"edge14\" class=\"edge\">\n<title>system_G77:e-&gt;KineticEnergy:w</title>\n<path fill=\"none\" stroke=\"black\" d=\"M90,-1206C119.94,-1206 103.19,-1170.9 111,-1142 115.79,-1124.29 110.37,-1063.05 126.88,-1058.29\"/>\n<ellipse fill=\"black\" stroke=\"black\" cx=\"128.01\" cy=\"-1058.14\" rx=\"1\" ry=\"1\"/>\n<text text-anchor=\"middle\" x=\"110.5\" y=\"-1148\" font-family=\"Times,serif\" font-size=\"10.00\">6</text>\n</g>\n<!-- system_G46 -->\n<g id=\"node15\" class=\"node\">\n<title>system_G46</title>\n<text text-anchor=\"middle\" x=\"46\" y=\"-1148.3\" font-family=\"Times,serif\" font-size=\"14.00\">system[4, 2]</text>\n</g>\n<!-- system_G46&#45;&gt;KineticEnergy -->\n<g id=\"edge15\" class=\"edge\">\n<title>system_G46:e-&gt;KineticEnergy:w</title>\n<path fill=\"none\" stroke=\"black\" d=\"M90,-1152C143.23,-1152 76.89,-1040.12 126.85,-1037.06\"/>\n<ellipse fill=\"black\" stroke=\"black\" cx=\"128\" cy=\"-1037.03\" rx=\"1\" ry=\"1\"/>\n<text text-anchor=\"middle\" x=\"110.5\" y=\"-1140\" font-family=\"Times,serif\" font-size=\"10.00\">6</text>\n</g>\n<!-- system_G59 -->\n<g id=\"node16\" class=\"node\">\n<title>system_G59</title>\n<text text-anchor=\"middle\" x=\"46\" y=\"-1094.3\" font-family=\"Times,serif\" font-size=\"14.00\">system[5, 0]</text>\n</g>\n<!-- system_G59&#45;&gt;KineticEnergy -->\n<g id=\"edge16\" class=\"edge\">\n<title>system_G59:e-&gt;KineticEnergy:w</title>\n<path fill=\"none\" stroke=\"black\" d=\"M90,-1098C129.57,-1098 90.24,-1019.17 126.73,-1016.09\"/>\n<ellipse fill=\"black\" stroke=\"black\" cx=\"128\" cy=\"-1016.04\" rx=\"1\" ry=\"1\"/>\n<text text-anchor=\"middle\" x=\"110.5\" y=\"-1038\" font-family=\"Times,serif\" font-size=\"10.00\">6</text>\n</g>\n<!-- system_G65 -->\n<g id=\"node17\" class=\"node\">\n<title>system_G65</title>\n<text text-anchor=\"middle\" x=\"46\" y=\"-1040.3\" font-family=\"Times,serif\" font-size=\"14.00\">system[5, 1]</text>\n</g>\n<!-- system_G65&#45;&gt;KineticEnergy -->\n<g id=\"edge17\" class=\"edge\">\n<title>system_G65:e-&gt;KineticEnergy:w</title>\n<path fill=\"none\" stroke=\"black\" d=\"M90,-1044C117.07,-1044 102.04,-997.64 126.81,-995.11\"/>\n<ellipse fill=\"black\" stroke=\"black\" cx=\"128\" cy=\"-995.05\" rx=\"1\" ry=\"1\"/>\n<text text-anchor=\"middle\" x=\"110.5\" y=\"-1019\" font-family=\"Times,serif\" font-size=\"10.00\">6</text>\n</g>\n<!-- system_G30 -->\n<g id=\"node18\" class=\"node\">\n<title>system_G30</title>\n<text text-anchor=\"middle\" x=\"46\" y=\"-986.3\" font-family=\"Times,serif\" font-size=\"14.00\">system[5, 2]</text>\n</g>\n<!-- system_G30&#45;&gt;KineticEnergy -->\n<g id=\"edge18\" class=\"edge\">\n<title>system_G30:e-&gt;KineticEnergy:w</title>\n<path fill=\"none\" stroke=\"black\" d=\"M90,-990C108,-990 110.12,-975.23 126.88,-974.07\"/>\n<ellipse fill=\"black\" stroke=\"black\" cx=\"128\" cy=\"-974.03\" rx=\"1\" ry=\"1\"/>\n<text text-anchor=\"middle\" x=\"110.5\" y=\"-984\" font-family=\"Times,serif\" font-size=\"10.00\">6</text>\n</g>\n<!-- system_G42 -->\n<g id=\"node19\" class=\"node\">\n<title>system_G42</title>\n<text text-anchor=\"middle\" x=\"46\" y=\"-932.3\" font-family=\"Times,serif\" font-size=\"14.00\">system[6, 0]</text>\n</g>\n<!-- system_G42&#45;&gt;KineticEnergy -->\n<g id=\"edge19\" class=\"edge\">\n<title>system_G42:e-&gt;KineticEnergy:w</title>\n<path fill=\"none\" stroke=\"black\" d=\"M90,-936C108,-936 110.12,-950.77 126.88,-951.93\"/>\n<ellipse fill=\"black\" stroke=\"black\" cx=\"128\" cy=\"-951.97\" rx=\"1\" ry=\"1\"/>\n<text text-anchor=\"middle\" x=\"110.5\" y=\"-947\" font-family=\"Times,serif\" font-size=\"10.00\">6</text>\n</g>\n<!-- system_G100 -->\n<g id=\"node20\" class=\"node\">\n<title>system_G100</title>\n<text text-anchor=\"middle\" x=\"46\" y=\"-878.3\" font-family=\"Times,serif\" font-size=\"14.00\">system[6, 1]</text>\n</g>\n<!-- system_G100&#45;&gt;KineticEnergy -->\n<g id=\"edge20\" class=\"edge\">\n<title>system_G100:e-&gt;KineticEnergy:w</title>\n<path fill=\"none\" stroke=\"black\" d=\"M90,-882C117.07,-882 102.04,-928.36 126.81,-930.89\"/>\n<ellipse fill=\"black\" stroke=\"black\" cx=\"128\" cy=\"-930.95\" rx=\"1\" ry=\"1\"/>\n<text text-anchor=\"middle\" x=\"110.5\" y=\"-915\" font-family=\"Times,serif\" font-size=\"10.00\">6</text>\n</g>\n<!-- system_G56 -->\n<g id=\"node21\" class=\"node\">\n<title>system_G56</title>\n<text text-anchor=\"middle\" x=\"46\" y=\"-824.3\" font-family=\"Times,serif\" font-size=\"14.00\">system[6, 2]</text>\n</g>\n<!-- system_G56&#45;&gt;KineticEnergy -->\n<g id=\"edge21\" class=\"edge\">\n<title>system_G56:e-&gt;KineticEnergy:w</title>\n<path fill=\"none\" stroke=\"black\" d=\"M90,-828C129.57,-828 90.24,-906.83 126.73,-909.91\"/>\n<ellipse fill=\"black\" stroke=\"black\" cx=\"128\" cy=\"-909.96\" rx=\"1\" ry=\"1\"/>\n<text text-anchor=\"middle\" x=\"110.5\" y=\"-897\" font-family=\"Times,serif\" font-size=\"10.00\">6</text>\n</g>\n<!-- system_G15 -->\n<g id=\"node22\" class=\"node\">\n<title>system_G15</title>\n<text text-anchor=\"middle\" x=\"46\" y=\"-770.3\" font-family=\"Times,serif\" font-size=\"14.00\">system[7, 0]</text>\n</g>\n<!-- system_G15&#45;&gt;KineticEnergy -->\n<g id=\"edge22\" class=\"edge\">\n<title>system_G15:e-&gt;KineticEnergy:w</title>\n<path fill=\"none\" stroke=\"black\" d=\"M90,-774C143.23,-774 76.89,-885.88 126.85,-888.94\"/>\n<ellipse fill=\"black\" stroke=\"black\" cx=\"128\" cy=\"-888.97\" rx=\"1\" ry=\"1\"/>\n<text text-anchor=\"middle\" x=\"110.5\" y=\"-882\" font-family=\"Times,serif\" font-size=\"10.00\">6</text>\n</g>\n<!-- system_G22 -->\n<g id=\"node23\" class=\"node\">\n<title>system_G22</title>\n<text text-anchor=\"middle\" x=\"46\" y=\"-716.3\" font-family=\"Times,serif\" font-size=\"14.00\">system[7, 1]</text>\n</g>\n<!-- system_G22&#45;&gt;KineticEnergy -->\n<g id=\"edge23\" class=\"edge\">\n<title>system_G22:e-&gt;KineticEnergy:w</title>\n<path fill=\"none\" stroke=\"black\" d=\"M90,-720C119.51,-720 103.26,-754.52 111,-783 115.86,-800.9 110.17,-862.89 126.85,-867.7\"/>\n<ellipse fill=\"black\" stroke=\"black\" cx=\"128.01\" cy=\"-867.86\" rx=\"1\" ry=\"1\"/>\n<text text-anchor=\"middle\" x=\"110.5\" y=\"-786\" font-family=\"Times,serif\" font-size=\"10.00\">6</text>\n</g>\n<!-- system_G85 -->\n<g id=\"node24\" class=\"node\">\n<title>system_G85</title>\n<text text-anchor=\"middle\" x=\"46\" y=\"-662.3\" font-family=\"Times,serif\" font-size=\"14.00\">system[7, 2]</text>\n</g>\n<!-- system_G85&#45;&gt;KineticEnergy -->\n<g id=\"edge24\" class=\"edge\">\n<title>system_G85:e-&gt;KineticEnergy:w</title>\n<path fill=\"none\" stroke=\"black\" d=\"M90,-666C109.77,-666 108.56,-833.14 126.69,-846.19\"/>\n<ellipse fill=\"black\" stroke=\"black\" cx=\"128.06\" cy=\"-846.67\" rx=\"1\" ry=\"1\"/>\n<text text-anchor=\"middle\" x=\"110.5\" y=\"-770\" font-family=\"Times,serif\" font-size=\"10.00\">6</text>\n</g>\n<!-- system_G3 -->\n<g id=\"node25\" class=\"node\">\n<title>system_G3</title>\n<text text-anchor=\"middle\" x=\"46\" y=\"-608.3\" font-family=\"Times,serif\" font-size=\"14.00\">system[8, 0]</text>\n</g>\n<!-- system_G3&#45;&gt;KineticEnergy -->\n<g id=\"edge25\" class=\"edge\">\n<title>system_G3:e-&gt;KineticEnergy:w</title>\n<path fill=\"none\" stroke=\"black\" d=\"M90,-612C113.41,-612 105.38,-812.83 126.83,-825.39\"/>\n<ellipse fill=\"black\" stroke=\"black\" cx=\"128.04\" cy=\"-825.73\" rx=\"1\" ry=\"1\"/>\n<text text-anchor=\"middle\" x=\"110.5\" y=\"-741\" font-family=\"Times,serif\" font-size=\"10.00\">6</text>\n</g>\n<!-- system_G67 -->\n<g id=\"node26\" class=\"node\">\n<title>system_G67</title>\n<text text-anchor=\"middle\" x=\"46\" y=\"-554.3\" font-family=\"Times,serif\" font-size=\"14.00\">system[8, 1]</text>\n</g>\n<!-- system_G67&#45;&gt;KineticEnergy -->\n<g id=\"edge26\" class=\"edge\">\n<title>system_G67:e-&gt;KineticEnergy:w</title>\n<path fill=\"none\" stroke=\"black\" d=\"M90,-558C117.02,-558 102.09,-791.68 126.82,-804.46\"/>\n<ellipse fill=\"black\" stroke=\"black\" cx=\"128.03\" cy=\"-804.76\" rx=\"1\" ry=\"1\"/>\n<text text-anchor=\"middle\" x=\"110.5\" y=\"-713\" font-family=\"Times,serif\" font-size=\"10.00\">6</text>\n</g>\n<!-- system_G14 -->\n<g id=\"node27\" class=\"node\">\n<title>system_G14</title>\n<text text-anchor=\"middle\" x=\"46\" y=\"-500.3\" font-family=\"Times,serif\" font-size=\"14.00\">system[8, 2]</text>\n</g>\n<!-- system_G14&#45;&gt;KineticEnergy -->\n<g id=\"edge27\" class=\"edge\">\n<title>system_G14:e-&gt;KineticEnergy:w</title>\n<path fill=\"none\" stroke=\"black\" d=\"M90,-504C105.09,-504 112.69,-762.55 127.2,-782.75\"/>\n<ellipse fill=\"black\" stroke=\"black\" cx=\"128.18\" cy=\"-783.43\" rx=\"1\" ry=\"1\"/>\n<text text-anchor=\"middle\" x=\"110.5\" y=\"-663\" font-family=\"Times,serif\" font-size=\"10.00\">6</text>\n</g>\n<!-- system_G91 -->\n<g id=\"node28\" class=\"node\">\n<title>system_G91</title>\n<text text-anchor=\"middle\" x=\"46\" y=\"-446.3\" font-family=\"Times,serif\" font-size=\"14.00\">system[9, 0]</text>\n</g>\n<!-- system_G91&#45;&gt;KineticEnergy -->\n<g id=\"edge28\" class=\"edge\">\n<title>system_G91:e-&gt;KineticEnergy:w</title>\n<path fill=\"none\" stroke=\"black\" d=\"M90,-450C106.91,-450 111.18,-741.38 127.2,-761.87\"/>\n<ellipse fill=\"black\" stroke=\"black\" cx=\"128.15\" cy=\"-762.47\" rx=\"1\" ry=\"1\"/>\n<text text-anchor=\"middle\" x=\"110.5\" y=\"-628\" font-family=\"Times,serif\" font-size=\"10.00\">6</text>\n</g>\n<!-- system_G48 -->\n<g id=\"node29\" class=\"node\">\n<title>system_G48</title>\n<text text-anchor=\"middle\" x=\"46\" y=\"-392.3\" font-family=\"Times,serif\" font-size=\"14.00\">system[9, 1]</text>\n</g>\n<!-- system_G48&#45;&gt;KineticEnergy -->\n<g id=\"edge29\" class=\"edge\">\n<title>system_G48:e-&gt;KineticEnergy:w</title>\n<path fill=\"none\" stroke=\"black\" d=\"M90,-396C108.74,-396 109.62,-720.71 127.24,-741.01\"/>\n<ellipse fill=\"black\" stroke=\"black\" cx=\"128.13\" cy=\"-741.51\" rx=\"1\" ry=\"1\"/>\n<text text-anchor=\"middle\" x=\"110.5\" y=\"-592\" font-family=\"Times,serif\" font-size=\"10.00\">6</text>\n</g>\n<!-- system_G105 -->\n<g id=\"node30\" class=\"node\">\n<title>system_G105</title>\n<text text-anchor=\"middle\" x=\"46\" y=\"-338.3\" font-family=\"Times,serif\" font-size=\"14.00\">system[9, 2]</text>\n</g>\n<!-- system_G105&#45;&gt;KineticEnergy -->\n<g id=\"edge30\" class=\"edge\">\n<title>system_G105:e-&gt;KineticEnergy:w</title>\n<path fill=\"none\" stroke=\"black\" d=\"M90,-342C110.51,-342 108.02,-697.68 127.09,-719.91\"/>\n<ellipse fill=\"black\" stroke=\"black\" cx=\"128.13\" cy=\"-720.51\" rx=\"1\" ry=\"1\"/>\n<text text-anchor=\"middle\" x=\"110.5\" y=\"-557\" font-family=\"Times,serif\" font-size=\"10.00\">6</text>\n</g>\n<!-- system_G23 -->\n<g id=\"node31\" class=\"node\">\n<title>system_G23</title>\n<text text-anchor=\"middle\" x=\"46\" y=\"-284.3\" font-family=\"Times,serif\" font-size=\"14.00\">system[10, 0]</text>\n</g>\n<!-- system_G23&#45;&gt;KineticEnergy -->\n<g id=\"edge31\" class=\"edge\">\n<title>system_G23:e-&gt;KineticEnergy:w</title>\n<path fill=\"none\" stroke=\"black\" d=\"M92,-288C114.35,-288 106.49,-677.78 127.19,-699.09\"/>\n<ellipse fill=\"black\" stroke=\"black\" cx=\"128.11\" cy=\"-699.55\" rx=\"1\" ry=\"1\"/>\n<text text-anchor=\"middle\" x=\"110.5\" y=\"-509\" font-family=\"Times,serif\" font-size=\"10.00\">6</text>\n</g>\n<!-- system_G33 -->\n<g id=\"node32\" class=\"node\">\n<title>system_G33</title>\n<text text-anchor=\"middle\" x=\"46\" y=\"-230.3\" font-family=\"Times,serif\" font-size=\"14.00\">system[10, 1]</text>\n</g>\n<!-- system_G33&#45;&gt;KineticEnergy -->\n<g id=\"edge32\" class=\"edge\">\n<title>system_G33:e-&gt;KineticEnergy:w</title>\n<path fill=\"none\" stroke=\"black\" d=\"M92,-234C116.13,-234 104.85,-655 127.05,-678.02\"/>\n<ellipse fill=\"black\" stroke=\"black\" cx=\"128.11\" cy=\"-678.55\" rx=\"1\" ry=\"1\"/>\n<text text-anchor=\"middle\" x=\"110.5\" y=\"-472\" font-family=\"Times,serif\" font-size=\"10.00\">6</text>\n</g>\n<!-- system_G93 -->\n<g id=\"node33\" class=\"node\">\n<title>system_G93</title>\n<text text-anchor=\"middle\" x=\"46\" y=\"-176.3\" font-family=\"Times,serif\" font-size=\"14.00\">system[10, 2]</text>\n</g>\n<!-- system_G93&#45;&gt;KineticEnergy -->\n<g id=\"edge33\" class=\"edge\">\n<title>system_G93:e-&gt;KineticEnergy:w</title>\n<path fill=\"none\" stroke=\"black\" d=\"M92,-180C104.85,-180 114.95,-624.98 127.61,-656.27\"/>\n<ellipse fill=\"black\" stroke=\"black\" cx=\"128.37\" cy=\"-657.22\" rx=\"1\" ry=\"1\"/>\n<text text-anchor=\"middle\" x=\"110.5\" y=\"-422\" font-family=\"Times,serif\" font-size=\"10.00\">6</text>\n</g>\n<!-- system_G58 -->\n<g id=\"node34\" class=\"node\">\n<title>system_G58</title>\n<text text-anchor=\"middle\" x=\"46\" y=\"-122.3\" font-family=\"Times,serif\" font-size=\"14.00\">system[11, 0]</text>\n</g>\n<!-- system_G58&#45;&gt;KineticEnergy -->\n<g id=\"edge34\" class=\"edge\">\n<title>system_G58:e-&gt;KineticEnergy:w</title>\n<path fill=\"none\" stroke=\"black\" d=\"M92,-126C119.8,-126 101.44,-613.33 127.08,-636.17\"/>\n<ellipse fill=\"black\" stroke=\"black\" cx=\"128.08\" cy=\"-636.6\" rx=\"1\" ry=\"1\"/>\n<text text-anchor=\"middle\" x=\"110.5\" y=\"-399\" font-family=\"Times,serif\" font-size=\"10.00\">6</text>\n</g>\n<!-- system_G8 -->\n<g id=\"node35\" class=\"node\">\n<title>system_G8</title>\n<text text-anchor=\"middle\" x=\"46\" y=\"-68.3\" font-family=\"Times,serif\" font-size=\"14.00\">system[11, 1]</text>\n</g>\n<!-- system_G8&#45;&gt;KineticEnergy -->\n<g id=\"edge35\" class=\"edge\">\n<title>system_G8:e-&gt;KineticEnergy:w</title>\n<path fill=\"none\" stroke=\"black\" d=\"M92,-72C106.67,-72 113.43,-582.53 127.6,-614.44\"/>\n<ellipse fill=\"black\" stroke=\"black\" cx=\"128.33\" cy=\"-615.25\" rx=\"1\" ry=\"1\"/>\n<text text-anchor=\"middle\" x=\"110.5\" y=\"-347\" font-family=\"Times,serif\" font-size=\"10.00\">6</text>\n</g>\n<!-- system_G87 -->\n<g id=\"node36\" class=\"node\">\n<title>system_G87</title>\n<text text-anchor=\"middle\" x=\"46\" y=\"-14.3\" font-family=\"Times,serif\" font-size=\"14.00\">system[11, 2]</text>\n</g>\n<!-- system_G87&#45;&gt;KineticEnergy -->\n<g id=\"edge36\" class=\"edge\">\n<title>system_G87:e-&gt;KineticEnergy:w</title>\n<path fill=\"none\" stroke=\"black\" d=\"M92,-18C107.56,-18 112.62,-559.5 127.53,-593.34\"/>\n<ellipse fill=\"black\" stroke=\"black\" cx=\"128.34\" cy=\"-594.25\" rx=\"1\" ry=\"1\"/>\n<text text-anchor=\"middle\" x=\"110.5\" y=\"-310\" font-family=\"Times,serif\" font-size=\"10.00\">6</text>\n</g>\n<!-- system_G76 -->\n<g id=\"node38\" class=\"node\">\n<title>system_G76</title>\n<text text-anchor=\"middle\" x=\"294\" y=\"-1904.3\" font-family=\"Times,serif\" font-size=\"14.00\">system[0, 0]</text>\n</g>\n<!-- KineticEnergy&#45;&gt;system_G76 -->\n<g id=\"edge37\" class=\"edge\">\n<title>KineticEnergy:e-&gt;system_G76:w</title>\n<path fill=\"none\" stroke=\"black\" d=\"M211,-1331C226.56,-1331 233.5,-1872.5 248.52,-1906.34\"/>\n<ellipse fill=\"black\" stroke=\"black\" cx=\"249.33\" cy=\"-1907.25\" rx=\"1\" ry=\"1\"/>\n<text text-anchor=\"middle\" x=\"229.5\" y=\"-1605\" font-family=\"Times,serif\" font-size=\"10.00\">6</text>\n</g>\n<!-- system_G27 -->\n<g id=\"node39\" class=\"node\">\n<title>system_G27</title>\n<text text-anchor=\"middle\" x=\"294\" y=\"-1850.3\" font-family=\"Times,serif\" font-size=\"14.00\">system[0, 1]</text>\n</g>\n<!-- KineticEnergy&#45;&gt;system_G27 -->\n<g id=\"edge38\" class=\"edge\">\n<title>KineticEnergy:e-&gt;system_G27:w</title>\n<path fill=\"none\" stroke=\"black\" d=\"M211,-1310C225.68,-1310 234.3,-1820.53 248.6,-1852.44\"/>\n<ellipse fill=\"black\" stroke=\"black\" cx=\"249.33\" cy=\"-1853.26\" rx=\"1\" ry=\"1\"/>\n<text text-anchor=\"middle\" x=\"229.5\" y=\"-1568\" font-family=\"Times,serif\" font-size=\"10.00\">6</text>\n</g>\n<!-- system_G106 -->\n<g id=\"node40\" class=\"node\">\n<title>system_G106</title>\n<text text-anchor=\"middle\" x=\"294\" y=\"-1796.3\" font-family=\"Times,serif\" font-size=\"14.00\">system[0, 2]</text>\n</g>\n<!-- KineticEnergy&#45;&gt;system_G106 -->\n<g id=\"edge39\" class=\"edge\">\n<title>KineticEnergy:e-&gt;system_G106:w</title>\n<path fill=\"none\" stroke=\"black\" d=\"M211,-1289C224.74,-1289 235.02,-1764.7 248.51,-1798.15\"/>\n<ellipse fill=\"black\" stroke=\"black\" cx=\"249.37\" cy=\"-1799.22\" rx=\"1\" ry=\"1\"/>\n<text text-anchor=\"middle\" x=\"229.5\" y=\"-1532\" font-family=\"Times,serif\" font-size=\"10.00\">6</text>\n</g>\n<!-- system_G7 -->\n<g id=\"node41\" class=\"node\">\n<title>system_G7</title>\n<text text-anchor=\"middle\" x=\"294\" y=\"-1742.3\" font-family=\"Times,serif\" font-size=\"14.00\">system[1, 0]</text>\n</g>\n<!-- KineticEnergy&#45;&gt;system_G7 -->\n<g id=\"edge40\" class=\"edge\">\n<title>KineticEnergy:e-&gt;system_G7:w</title>\n<path fill=\"none\" stroke=\"black\" d=\"M211,-1268C236.92,-1268 224.11,-1720.22 247.9,-1744.95\"/>\n<ellipse fill=\"black\" stroke=\"black\" cx=\"249.11\" cy=\"-1745.55\" rx=\"1\" ry=\"1\"/>\n<text text-anchor=\"middle\" x=\"229.5\" y=\"-1481\" font-family=\"Times,serif\" font-size=\"10.00\">6</text>\n</g>\n<!-- system_G71 -->\n<g id=\"node42\" class=\"node\">\n<title>system_G71</title>\n<text text-anchor=\"middle\" x=\"294\" y=\"-1688.3\" font-family=\"Times,serif\" font-size=\"14.00\">system[1, 1]</text>\n</g>\n<!-- KineticEnergy&#45;&gt;system_G71 -->\n<g id=\"edge41\" class=\"edge\">\n<title>KineticEnergy:e-&gt;system_G71:w</title>\n<path fill=\"none\" stroke=\"black\" d=\"M211,-1247C235.14,-1247 225.74,-1668 248.04,-1691.02\"/>\n<ellipse fill=\"black\" stroke=\"black\" cx=\"249.11\" cy=\"-1691.55\" rx=\"1\" ry=\"1\"/>\n<text text-anchor=\"middle\" x=\"229.5\" y=\"-1445\" font-family=\"Times,serif\" font-size=\"10.00\">6</text>\n</g>\n<!-- system_G78 -->\n<g id=\"node43\" class=\"node\">\n<title>system_G78</title>\n<text text-anchor=\"middle\" x=\"294\" y=\"-1634.3\" font-family=\"Times,serif\" font-size=\"14.00\">system[1, 2]</text>\n</g>\n<!-- KineticEnergy&#45;&gt;system_G78 -->\n<g id=\"edge42\" class=\"edge\">\n<title>KineticEnergy:e-&gt;system_G78:w</title>\n<path fill=\"none\" stroke=\"black\" d=\"M211,-1226C233.36,-1226 227.37,-1615.78 248.18,-1637.09\"/>\n<ellipse fill=\"black\" stroke=\"black\" cx=\"249.11\" cy=\"-1637.55\" rx=\"1\" ry=\"1\"/>\n<text text-anchor=\"middle\" x=\"229.5\" y=\"-1410\" font-family=\"Times,serif\" font-size=\"10.00\">6</text>\n</g>\n<!-- system_G43 -->\n<g id=\"node44\" class=\"node\">\n<title>system_G43</title>\n<text text-anchor=\"middle\" x=\"294\" y=\"-1580.3\" font-family=\"Times,serif\" font-size=\"14.00\">system[2, 0]</text>\n</g>\n<!-- KineticEnergy&#45;&gt;system_G43 -->\n<g id=\"edge43\" class=\"edge\">\n<title>KineticEnergy:e-&gt;system_G43:w</title>\n<path fill=\"none\" stroke=\"black\" d=\"M211,-1205C231.51,-1205 229.02,-1560.68 248.09,-1582.91\"/>\n<ellipse fill=\"black\" stroke=\"black\" cx=\"249.13\" cy=\"-1583.51\" rx=\"1\" ry=\"1\"/>\n<text text-anchor=\"middle\" x=\"229.5\" y=\"-1386\" font-family=\"Times,serif\" font-size=\"10.00\">6</text>\n</g>\n<!-- system_G9 -->\n<g id=\"node45\" class=\"node\">\n<title>system_G9</title>\n<text text-anchor=\"middle\" x=\"294\" y=\"-1526.3\" font-family=\"Times,serif\" font-size=\"14.00\">system[2, 1]</text>\n</g>\n<!-- KineticEnergy&#45;&gt;system_G9 -->\n<g id=\"edge44\" class=\"edge\">\n<title>KineticEnergy:e-&gt;system_G9:w</title>\n<path fill=\"none\" stroke=\"black\" d=\"M211,-1184C229.74,-1184 230.62,-1508.71 248.24,-1529.01\"/>\n<ellipse fill=\"black\" stroke=\"black\" cx=\"249.13\" cy=\"-1529.51\" rx=\"1\" ry=\"1\"/>\n<text text-anchor=\"middle\" x=\"229.5\" y=\"-1349\" font-family=\"Times,serif\" font-size=\"10.00\">6</text>\n</g>\n<!-- system_G73 -->\n<g id=\"node46\" class=\"node\">\n<title>system_G73</title>\n<text text-anchor=\"middle\" x=\"294\" y=\"-1472.3\" font-family=\"Times,serif\" font-size=\"14.00\">system[2, 2]</text>\n</g>\n<!-- KineticEnergy&#45;&gt;system_G73 -->\n<g id=\"edge45\" class=\"edge\">\n<title>KineticEnergy:e-&gt;system_G73:w</title>\n<path fill=\"none\" stroke=\"black\" d=\"M211,-1163C227.91,-1163 232.18,-1454.38 248.2,-1474.87\"/>\n<ellipse fill=\"black\" stroke=\"black\" cx=\"249.15\" cy=\"-1475.47\" rx=\"1\" ry=\"1\"/>\n<text text-anchor=\"middle\" x=\"229.5\" y=\"-1313\" font-family=\"Times,serif\" font-size=\"10.00\">6</text>\n</g>\n<!-- system_G82 -->\n<g id=\"node47\" class=\"node\">\n<title>system_G82</title>\n<text text-anchor=\"middle\" x=\"294\" y=\"-1418.3\" font-family=\"Times,serif\" font-size=\"14.00\">system[3, 0]</text>\n</g>\n<!-- KineticEnergy&#45;&gt;system_G82 -->\n<g id=\"edge46\" class=\"edge\">\n<title>KineticEnergy:e-&gt;system_G82:w</title>\n<path fill=\"none\" stroke=\"black\" d=\"M211,-1142C241.68,-1142 219.67,-1409.03 247.88,-1421.55\"/>\n<ellipse fill=\"black\" stroke=\"black\" cx=\"249.02\" cy=\"-1421.79\" rx=\"1\" ry=\"1\"/>\n<text text-anchor=\"middle\" x=\"229.5\" y=\"-1259\" font-family=\"Times,serif\" font-size=\"10.00\">6</text>\n</g>\n<!-- system_G88 -->\n<g id=\"node48\" class=\"node\">\n<title>system_G88</title>\n<text text-anchor=\"middle\" x=\"294\" y=\"-1364.3\" font-family=\"Times,serif\" font-size=\"14.00\">system[3, 1]</text>\n</g>\n<!-- KineticEnergy&#45;&gt;system_G88 -->\n<g id=\"edge47\" class=\"edge\">\n<title>KineticEnergy:e-&gt;system_G88:w</title>\n<path fill=\"none\" stroke=\"black\" d=\"M211,-1121C238.02,-1121 223.09,-1354.68 247.82,-1367.46\"/>\n<ellipse fill=\"black\" stroke=\"black\" cx=\"249.03\" cy=\"-1367.76\" rx=\"1\" ry=\"1\"/>\n<text text-anchor=\"middle\" x=\"229.5\" y=\"-1232\" font-family=\"Times,serif\" font-size=\"10.00\">6</text>\n</g>\n<!-- system_G40 -->\n<g id=\"node49\" class=\"node\">\n<title>system_G40</title>\n<text text-anchor=\"middle\" x=\"294\" y=\"-1310.3\" font-family=\"Times,serif\" font-size=\"14.00\">system[3, 2]</text>\n</g>\n<!-- KineticEnergy&#45;&gt;system_G40 -->\n<g id=\"edge48\" class=\"edge\">\n<title>KineticEnergy:e-&gt;system_G40:w</title>\n<path fill=\"none\" stroke=\"black\" d=\"M211,-1100C234.41,-1100 226.38,-1300.83 247.83,-1313.39\"/>\n<ellipse fill=\"black\" stroke=\"black\" cx=\"249.04\" cy=\"-1313.73\" rx=\"1\" ry=\"1\"/>\n<text text-anchor=\"middle\" x=\"229.5\" y=\"-1197\" font-family=\"Times,serif\" font-size=\"10.00\">6</text>\n</g>\n<!-- system_G63 -->\n<g id=\"node50\" class=\"node\">\n<title>system_G63</title>\n<text text-anchor=\"middle\" x=\"294\" y=\"-1256.3\" font-family=\"Times,serif\" font-size=\"14.00\">system[4, 0]</text>\n</g>\n<!-- KineticEnergy&#45;&gt;system_G63 -->\n<g id=\"edge49\" class=\"edge\">\n<title>KineticEnergy:e-&gt;system_G63:w</title>\n<path fill=\"none\" stroke=\"black\" d=\"M211,-1079C230.77,-1079 229.56,-1246.14 247.69,-1259.19\"/>\n<ellipse fill=\"black\" stroke=\"black\" cx=\"249.06\" cy=\"-1259.67\" rx=\"1\" ry=\"1\"/>\n<text text-anchor=\"middle\" x=\"229.5\" y=\"-1167\" font-family=\"Times,serif\" font-size=\"10.00\">6</text>\n</g>\n<!-- system_G68 -->\n<g id=\"node51\" class=\"node\">\n<title>system_G68</title>\n<text text-anchor=\"middle\" x=\"294\" y=\"-1202.3\" font-family=\"Times,serif\" font-size=\"14.00\">system[4, 1]</text>\n</g>\n<!-- KineticEnergy&#45;&gt;system_G68 -->\n<g id=\"edge50\" class=\"edge\">\n<title>KineticEnergy:e-&gt;system_G68:w</title>\n<path fill=\"none\" stroke=\"black\" d=\"M211,-1058C230.09,-1058 224.02,-1123.57 229,-1142 236.63,-1170.22 220.84,-1204.36 247.97,-1205.94\"/>\n<ellipse fill=\"black\" stroke=\"black\" cx=\"249\" cy=\"-1205.97\" rx=\"1\" ry=\"1\"/>\n<text text-anchor=\"middle\" x=\"229.5\" y=\"-1148\" font-family=\"Times,serif\" font-size=\"10.00\">6</text>\n</g>\n<!-- system_G36 -->\n<g id=\"node52\" class=\"node\">\n<title>system_G36</title>\n<text text-anchor=\"middle\" x=\"294\" y=\"-1148.3\" font-family=\"Times,serif\" font-size=\"14.00\">system[4, 2]</text>\n</g>\n<!-- KineticEnergy&#45;&gt;system_G36 -->\n<g id=\"edge51\" class=\"edge\">\n<title>KineticEnergy:e-&gt;system_G36:w</title>\n<path fill=\"none\" stroke=\"black\" d=\"M211,-1037C264.23,-1037 197.89,-1148.88 247.85,-1151.94\"/>\n<ellipse fill=\"black\" stroke=\"black\" cx=\"249\" cy=\"-1151.97\" rx=\"1\" ry=\"1\"/>\n<text text-anchor=\"middle\" x=\"229.5\" y=\"-1140\" font-family=\"Times,serif\" font-size=\"10.00\">6</text>\n</g>\n<!-- system_G50 -->\n<g id=\"node53\" class=\"node\">\n<title>system_G50</title>\n<text text-anchor=\"middle\" x=\"294\" y=\"-1094.3\" font-family=\"Times,serif\" font-size=\"14.00\">system[5, 0]</text>\n</g>\n<!-- KineticEnergy&#45;&gt;system_G50 -->\n<g id=\"edge52\" class=\"edge\">\n<title>KineticEnergy:e-&gt;system_G50:w</title>\n<path fill=\"none\" stroke=\"black\" d=\"M211,-1016C250.57,-1016 211.24,-1094.83 247.73,-1097.91\"/>\n<ellipse fill=\"black\" stroke=\"black\" cx=\"249\" cy=\"-1097.96\" rx=\"1\" ry=\"1\"/>\n<text text-anchor=\"middle\" x=\"229.5\" y=\"-1038\" font-family=\"Times,serif\" font-size=\"10.00\">6</text>\n</g>\n<!-- system_G1 -->\n<g id=\"node54\" class=\"node\">\n<title>system_G1</title>\n<text text-anchor=\"middle\" x=\"294\" y=\"-1040.3\" font-family=\"Times,serif\" font-size=\"14.00\">system[5, 1]</text>\n</g>\n<!-- KineticEnergy&#45;&gt;system_G1 -->\n<g id=\"edge53\" class=\"edge\">\n<title>KineticEnergy:e-&gt;system_G1:w</title>\n<path fill=\"none\" stroke=\"black\" d=\"M211,-995C238.07,-995 223.04,-1041.36 247.81,-1043.89\"/>\n<ellipse fill=\"black\" stroke=\"black\" cx=\"249\" cy=\"-1043.95\" rx=\"1\" ry=\"1\"/>\n<text text-anchor=\"middle\" x=\"229.5\" y=\"-1019\" font-family=\"Times,serif\" font-size=\"10.00\">6</text>\n</g>\n<!-- system_G80 -->\n<g id=\"node55\" class=\"node\">\n<title>system_G80</title>\n<text text-anchor=\"middle\" x=\"294\" y=\"-986.3\" font-family=\"Times,serif\" font-size=\"14.00\">system[5, 2]</text>\n</g>\n<!-- KineticEnergy&#45;&gt;system_G80 -->\n<g id=\"edge54\" class=\"edge\">\n<title>KineticEnergy:e-&gt;system_G80:w</title>\n<path fill=\"none\" stroke=\"black\" d=\"M211,-974C229,-974 231.12,-988.77 247.88,-989.93\"/>\n<ellipse fill=\"black\" stroke=\"black\" cx=\"249\" cy=\"-989.97\" rx=\"1\" ry=\"1\"/>\n<text text-anchor=\"middle\" x=\"229.5\" y=\"-984\" font-family=\"Times,serif\" font-size=\"10.00\">6</text>\n</g>\n<!-- system_G89 -->\n<g id=\"node56\" class=\"node\">\n<title>system_G89</title>\n<text text-anchor=\"middle\" x=\"294\" y=\"-932.3\" font-family=\"Times,serif\" font-size=\"14.00\">system[6, 0]</text>\n</g>\n<!-- KineticEnergy&#45;&gt;system_G89 -->\n<g id=\"edge55\" class=\"edge\">\n<title>KineticEnergy:e-&gt;system_G89:w</title>\n<path fill=\"none\" stroke=\"black\" d=\"M211,-952C229,-952 231.12,-937.23 247.88,-936.07\"/>\n<ellipse fill=\"black\" stroke=\"black\" cx=\"249\" cy=\"-936.03\" rx=\"1\" ry=\"1\"/>\n<text text-anchor=\"middle\" x=\"229.5\" y=\"-947\" font-family=\"Times,serif\" font-size=\"10.00\">6</text>\n</g>\n<!-- system_G41 -->\n<g id=\"node57\" class=\"node\">\n<title>system_G41</title>\n<text text-anchor=\"middle\" x=\"294\" y=\"-878.3\" font-family=\"Times,serif\" font-size=\"14.00\">system[6, 1]</text>\n</g>\n<!-- KineticEnergy&#45;&gt;system_G41 -->\n<g id=\"edge56\" class=\"edge\">\n<title>KineticEnergy:e-&gt;system_G41:w</title>\n<path fill=\"none\" stroke=\"black\" d=\"M211,-931C238.07,-931 223.04,-884.64 247.81,-882.11\"/>\n<ellipse fill=\"black\" stroke=\"black\" cx=\"249\" cy=\"-882.05\" rx=\"1\" ry=\"1\"/>\n<text text-anchor=\"middle\" x=\"229.5\" y=\"-915\" font-family=\"Times,serif\" font-size=\"10.00\">6</text>\n</g>\n<!-- system_G49 -->\n<g id=\"node58\" class=\"node\">\n<title>system_G49</title>\n<text text-anchor=\"middle\" x=\"294\" y=\"-824.3\" font-family=\"Times,serif\" font-size=\"14.00\">system[6, 2]</text>\n</g>\n<!-- KineticEnergy&#45;&gt;system_G49 -->\n<g id=\"edge57\" class=\"edge\">\n<title>KineticEnergy:e-&gt;system_G49:w</title>\n<path fill=\"none\" stroke=\"black\" d=\"M211,-910C250.57,-910 211.24,-831.17 247.73,-828.09\"/>\n<ellipse fill=\"black\" stroke=\"black\" cx=\"249\" cy=\"-828.04\" rx=\"1\" ry=\"1\"/>\n<text text-anchor=\"middle\" x=\"229.5\" y=\"-897\" font-family=\"Times,serif\" font-size=\"10.00\">6</text>\n</g>\n<!-- system_G6 -->\n<g id=\"node59\" class=\"node\">\n<title>system_G6</title>\n<text text-anchor=\"middle\" x=\"294\" y=\"-770.3\" font-family=\"Times,serif\" font-size=\"14.00\">system[7, 0]</text>\n</g>\n<!-- KineticEnergy&#45;&gt;system_G6 -->\n<g id=\"edge58\" class=\"edge\">\n<title>KineticEnergy:e-&gt;system_G6:w</title>\n<path fill=\"none\" stroke=\"black\" d=\"M211,-889C264.23,-889 197.89,-777.12 247.85,-774.06\"/>\n<ellipse fill=\"black\" stroke=\"black\" cx=\"249\" cy=\"-774.03\" rx=\"1\" ry=\"1\"/>\n<text text-anchor=\"middle\" x=\"229.5\" y=\"-882\" font-family=\"Times,serif\" font-size=\"10.00\">6</text>\n</g>\n<!-- system_G74 -->\n<g id=\"node60\" class=\"node\">\n<title>system_G74</title>\n<text text-anchor=\"middle\" x=\"294\" y=\"-716.3\" font-family=\"Times,serif\" font-size=\"14.00\">system[7, 1]</text>\n</g>\n<!-- KineticEnergy&#45;&gt;system_G74 -->\n<g id=\"edge59\" class=\"edge\">\n<title>KineticEnergy:e-&gt;system_G74:w</title>\n<path fill=\"none\" stroke=\"black\" d=\"M211,-868C230.31,-868 223.94,-801.63 229,-783 236.55,-755.18 221.23,-721.61 248,-720.06\"/>\n<ellipse fill=\"black\" stroke=\"black\" cx=\"249\" cy=\"-720.03\" rx=\"1\" ry=\"1\"/>\n<text text-anchor=\"middle\" x=\"229.5\" y=\"-786\" font-family=\"Times,serif\" font-size=\"10.00\">6</text>\n</g>\n<!-- system_G21 -->\n<g id=\"node61\" class=\"node\">\n<title>system_G21</title>\n<text text-anchor=\"middle\" x=\"294\" y=\"-662.3\" font-family=\"Times,serif\" font-size=\"14.00\">system[7, 2]</text>\n</g>\n<!-- KineticEnergy&#45;&gt;system_G21 -->\n<g id=\"edge60\" class=\"edge\">\n<title>KineticEnergy:e-&gt;system_G21:w</title>\n<path fill=\"none\" stroke=\"black\" d=\"M211,-847C230.77,-847 229.56,-679.86 247.69,-666.81\"/>\n<ellipse fill=\"black\" stroke=\"black\" cx=\"249.06\" cy=\"-666.33\" rx=\"1\" ry=\"1\"/>\n<text text-anchor=\"middle\" x=\"229.5\" y=\"-770\" font-family=\"Times,serif\" font-size=\"10.00\">6</text>\n</g>\n<!-- system_G54 -->\n<g id=\"node62\" class=\"node\">\n<title>system_G54</title>\n<text text-anchor=\"middle\" x=\"294\" y=\"-608.3\" font-family=\"Times,serif\" font-size=\"14.00\">system[8, 0]</text>\n</g>\n<!-- KineticEnergy&#45;&gt;system_G54 -->\n<g id=\"edge61\" class=\"edge\">\n<title>KineticEnergy:e-&gt;system_G54:w</title>\n<path fill=\"none\" stroke=\"black\" d=\"M211,-826C234.41,-826 226.38,-625.17 247.83,-612.61\"/>\n<ellipse fill=\"black\" stroke=\"black\" cx=\"249.04\" cy=\"-612.27\" rx=\"1\" ry=\"1\"/>\n<text text-anchor=\"middle\" x=\"229.5\" y=\"-741\" font-family=\"Times,serif\" font-size=\"10.00\">6</text>\n</g>\n<!-- system_G60 -->\n<g id=\"node63\" class=\"node\">\n<title>system_G60</title>\n<text text-anchor=\"middle\" x=\"294\" y=\"-554.3\" font-family=\"Times,serif\" font-size=\"14.00\">system[8, 1]</text>\n</g>\n<!-- KineticEnergy&#45;&gt;system_G60 -->\n<g id=\"edge62\" class=\"edge\">\n<title>KineticEnergy:e-&gt;system_G60:w</title>\n<path fill=\"none\" stroke=\"black\" d=\"M211,-805C238.02,-805 223.09,-571.32 247.82,-558.54\"/>\n<ellipse fill=\"black\" stroke=\"black\" cx=\"249.03\" cy=\"-558.24\" rx=\"1\" ry=\"1\"/>\n<text text-anchor=\"middle\" x=\"229.5\" y=\"-713\" font-family=\"Times,serif\" font-size=\"10.00\">6</text>\n</g>\n<!-- system_G5 -->\n<g id=\"node64\" class=\"node\">\n<title>system_G5</title>\n<text text-anchor=\"middle\" x=\"294\" y=\"-500.3\" font-family=\"Times,serif\" font-size=\"14.00\">system[8, 2]</text>\n</g>\n<!-- KineticEnergy&#45;&gt;system_G5 -->\n<g id=\"edge63\" class=\"edge\">\n<title>KineticEnergy:e-&gt;system_G5:w</title>\n<path fill=\"none\" stroke=\"black\" d=\"M211,-784C226.09,-784 233.69,-525.45 248.2,-505.25\"/>\n<ellipse fill=\"black\" stroke=\"black\" cx=\"249.18\" cy=\"-504.57\" rx=\"1\" ry=\"1\"/>\n<text text-anchor=\"middle\" x=\"229.5\" y=\"-663\" font-family=\"Times,serif\" font-size=\"10.00\">6</text>\n</g>\n<!-- system_G29 -->\n<g id=\"node65\" class=\"node\">\n<title>system_G29</title>\n<text text-anchor=\"middle\" x=\"294\" y=\"-446.3\" font-family=\"Times,serif\" font-size=\"14.00\">system[9, 0]</text>\n</g>\n<!-- KineticEnergy&#45;&gt;system_G29 -->\n<g id=\"edge64\" class=\"edge\">\n<title>KineticEnergy:e-&gt;system_G29:w</title>\n<path fill=\"none\" stroke=\"black\" d=\"M211,-763C227.91,-763 232.18,-471.62 248.2,-451.13\"/>\n<ellipse fill=\"black\" stroke=\"black\" cx=\"249.15\" cy=\"-450.53\" rx=\"1\" ry=\"1\"/>\n<text text-anchor=\"middle\" x=\"229.5\" y=\"-628\" font-family=\"Times,serif\" font-size=\"10.00\">6</text>\n</g>\n<!-- system_G37 -->\n<g id=\"node66\" class=\"node\">\n<title>system_G37</title>\n<text text-anchor=\"middle\" x=\"294\" y=\"-392.3\" font-family=\"Times,serif\" font-size=\"14.00\">system[9, 1]</text>\n</g>\n<!-- KineticEnergy&#45;&gt;system_G37 -->\n<g id=\"edge65\" class=\"edge\">\n<title>KineticEnergy:e-&gt;system_G37:w</title>\n<path fill=\"none\" stroke=\"black\" d=\"M211,-742C229.74,-742 230.62,-417.29 248.24,-396.99\"/>\n<ellipse fill=\"black\" stroke=\"black\" cx=\"249.13\" cy=\"-396.49\" rx=\"1\" ry=\"1\"/>\n<text text-anchor=\"middle\" x=\"229.5\" y=\"-592\" font-family=\"Times,serif\" font-size=\"10.00\">6</text>\n</g>\n<!-- system_G95 -->\n<g id=\"node67\" class=\"node\">\n<title>system_G95</title>\n<text text-anchor=\"middle\" x=\"294\" y=\"-338.3\" font-family=\"Times,serif\" font-size=\"14.00\">system[9, 2]</text>\n</g>\n<!-- KineticEnergy&#45;&gt;system_G95 -->\n<g id=\"edge66\" class=\"edge\">\n<title>KineticEnergy:e-&gt;system_G95:w</title>\n<path fill=\"none\" stroke=\"black\" d=\"M211,-721C231.51,-721 229.02,-365.32 248.09,-343.09\"/>\n<ellipse fill=\"black\" stroke=\"black\" cx=\"249.13\" cy=\"-342.49\" rx=\"1\" ry=\"1\"/>\n<text text-anchor=\"middle\" x=\"229.5\" y=\"-557\" font-family=\"Times,serif\" font-size=\"10.00\">6</text>\n</g>\n<!-- system_G13 -->\n<g id=\"node68\" class=\"node\">\n<title>system_G13</title>\n<text text-anchor=\"middle\" x=\"294\" y=\"-284.3\" font-family=\"Times,serif\" font-size=\"14.00\">system[10, 0]</text>\n</g>\n<!-- KineticEnergy&#45;&gt;system_G13 -->\n<g id=\"edge67\" class=\"edge\">\n<title>KineticEnergy:e-&gt;system_G13:w</title>\n<path fill=\"none\" stroke=\"black\" d=\"M211,-700C233.35,-700 225.49,-310.22 246.19,-288.91\"/>\n<ellipse fill=\"black\" stroke=\"black\" cx=\"247.11\" cy=\"-288.45\" rx=\"1\" ry=\"1\"/>\n<text text-anchor=\"middle\" x=\"229.5\" y=\"-509\" font-family=\"Times,serif\" font-size=\"10.00\">6</text>\n</g>\n<!-- system_G81 -->\n<g id=\"node69\" class=\"node\">\n<title>system_G81</title>\n<text text-anchor=\"middle\" x=\"294\" y=\"-230.3\" font-family=\"Times,serif\" font-size=\"14.00\">system[10, 1]</text>\n</g>\n<!-- KineticEnergy&#45;&gt;system_G81 -->\n<g id=\"edge68\" class=\"edge\">\n<title>KineticEnergy:e-&gt;system_G81:w</title>\n<path fill=\"none\" stroke=\"black\" d=\"M211,-679C235.13,-679 223.85,-258 246.05,-234.98\"/>\n<ellipse fill=\"black\" stroke=\"black\" cx=\"247.11\" cy=\"-234.45\" rx=\"1\" ry=\"1\"/>\n<text text-anchor=\"middle\" x=\"229.5\" y=\"-472\" font-family=\"Times,serif\" font-size=\"10.00\">6</text>\n</g>\n<!-- system_G32 -->\n<g id=\"node70\" class=\"node\">\n<title>system_G32</title>\n<text text-anchor=\"middle\" x=\"294\" y=\"-176.3\" font-family=\"Times,serif\" font-size=\"14.00\">system[10, 2]</text>\n</g>\n<!-- KineticEnergy&#45;&gt;system_G32 -->\n<g id=\"edge69\" class=\"edge\">\n<title>KineticEnergy:e-&gt;system_G32:w</title>\n<path fill=\"none\" stroke=\"black\" d=\"M211,-658C223.85,-658 233.95,-213.02 246.61,-181.73\"/>\n<ellipse fill=\"black\" stroke=\"black\" cx=\"247.37\" cy=\"-180.78\" rx=\"1\" ry=\"1\"/>\n<text text-anchor=\"middle\" x=\"229.5\" y=\"-422\" font-family=\"Times,serif\" font-size=\"10.00\">6</text>\n</g>\n<!-- system_G104 -->\n<g id=\"node71\" class=\"node\">\n<title>system_G104</title>\n<text text-anchor=\"middle\" x=\"294\" y=\"-122.3\" font-family=\"Times,serif\" font-size=\"14.00\">system[11, 0]</text>\n</g>\n<!-- KineticEnergy&#45;&gt;system_G104 -->\n<g id=\"edge70\" class=\"edge\">\n<title>KineticEnergy:e-&gt;system_G104:w</title>\n<path fill=\"none\" stroke=\"black\" d=\"M211,-637C238.8,-637 220.44,-149.67 246.08,-126.83\"/>\n<ellipse fill=\"black\" stroke=\"black\" cx=\"247.08\" cy=\"-126.4\" rx=\"1\" ry=\"1\"/>\n<text text-anchor=\"middle\" x=\"229.5\" y=\"-399\" font-family=\"Times,serif\" font-size=\"10.00\">6</text>\n</g>\n<!-- system_G0 -->\n<g id=\"node72\" class=\"node\">\n<title>system_G0</title>\n<text text-anchor=\"middle\" x=\"294\" y=\"-68.3\" font-family=\"Times,serif\" font-size=\"14.00\">system[11, 1]</text>\n</g>\n<!-- KineticEnergy&#45;&gt;system_G0 -->\n<g id=\"edge71\" class=\"edge\">\n<title>KineticEnergy:e-&gt;system_G0:w</title>\n<path fill=\"none\" stroke=\"black\" d=\"M211,-616C225.67,-616 232.43,-105.47 246.6,-73.56\"/>\n<ellipse fill=\"black\" stroke=\"black\" cx=\"247.33\" cy=\"-72.75\" rx=\"1\" ry=\"1\"/>\n<text text-anchor=\"middle\" x=\"229.5\" y=\"-347\" font-family=\"Times,serif\" font-size=\"10.00\">6</text>\n</g>\n<!-- system_G24 -->\n<g id=\"node73\" class=\"node\">\n<title>system_G24</title>\n<text text-anchor=\"middle\" x=\"294\" y=\"-14.3\" font-family=\"Times,serif\" font-size=\"14.00\">system[11, 2]</text>\n</g>\n<!-- KineticEnergy&#45;&gt;system_G24 -->\n<g id=\"edge72\" class=\"edge\">\n<title>KineticEnergy:e-&gt;system_G24:w</title>\n<path fill=\"none\" stroke=\"black\" d=\"M211,-595C226.56,-595 231.62,-53.5 246.53,-19.66\"/>\n<ellipse fill=\"black\" stroke=\"black\" cx=\"247.34\" cy=\"-18.75\" rx=\"1\" ry=\"1\"/>\n<text text-anchor=\"middle\" x=\"229.5\" y=\"-310\" font-family=\"Times,serif\" font-size=\"10.00\">6</text>\n</g>\n</g>\n</svg>",
          "text/plain": "<IPython.core.display.SVG object>"
         },
         "metadata": {},
         "output_type": "display_data"
        }
       ],
       "tabbable": null,
       "tooltip": null
      }
     }
    },
    "version_major": 2,
    "version_minor": 0
   }
  }
 },
 "nbformat": 4,
 "nbformat_minor": 5
}
