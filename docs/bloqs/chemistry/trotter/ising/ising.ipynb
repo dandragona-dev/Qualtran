{
 "cells": [
  {
   "cell_type": "markdown",
   "id": "ad96f2d3",
   "metadata": {
    "cq.autogen": "title_cell"
   },
   "source": [
    "# Ising Trotter Bloqs\n",
    "\n",
    "Bloqs implementing Trotter steps for the 1D Ising model under periodic boundary conditions. \n",
    "\n",
    "The Ising model is given as\n",
    "$$\n",
    "H = -J\\sum_{k=0}^{L-1}\\sigma_{k}^{Z}\\sigma_{(k+1)}^{Z} - \\Gamma\\sum_{k=0}^{L-1}\\sigma_{k}^{X}\n",
    "$$\n",
    "\n",
    "where $J$ and $\\Gamma$ are coupling parameters."
   ]
  },
  {
   "cell_type": "code",
   "execution_count": 1,
   "id": "2aac1d54",
   "metadata": {
    "cq.autogen": "top_imports"
   },
   "outputs": [],
   "source": [
    "from qualtran import Bloq, CompositeBloq, BloqBuilder, Signature, Register\n",
    "from qualtran import QBit, QInt, QUInt, QAny\n",
    "from qualtran.drawing import show_bloq, show_call_graph, show_counts_sigma\n",
    "from typing import *\n",
    "import numpy as np\n",
    "import sympy\n",
    "import cirq"
   ]
  },
  {
   "cell_type": "markdown",
   "id": "43d04f44",
   "metadata": {
    "cq.autogen": "IsingXUnitary.bloq_doc.md"
   },
   "source": [
    "## `IsingXUnitary`\n",
    "Implents the unitary $e^{-i \\alpha H_X}$.\n",
    "\n",
    "#### Parameters\n",
    " - `nsites`: The number of lattice sites.\n",
    " - `angle`: The angle of the rotation. $\\alpha$ in the docstring.\n",
    " - `eps`: The tolerance for the rotation. \n",
    "\n",
    "#### Registers\n",
    " - `system`: The system register to apply the unitary to.\n"
   ]
  },
  {
   "cell_type": "code",
   "execution_count": 2,
   "id": "d151e87f",
   "metadata": {
    "cq.autogen": "IsingXUnitary.bloq_doc.py"
   },
   "outputs": [],
   "source": [
    "from qualtran.bloqs.chemistry.trotter.ising import IsingXUnitary"
   ]
  },
  {
   "cell_type": "markdown",
   "id": "5bcfe4b5",
   "metadata": {
    "cq.autogen": "IsingXUnitary.example_instances.md"
   },
   "source": [
    "### Example Instances"
   ]
  },
  {
   "cell_type": "code",
   "execution_count": 3,
   "id": "fcef2d6d",
   "metadata": {
    "cq.autogen": "IsingXUnitary.ising_x"
   },
   "outputs": [],
   "source": [
    "nsites = 3\n",
    "j_zz = 2\n",
    "dt = 0.01\n",
    "ising_x = IsingXUnitary(nsites=nsites, angle=2 * dt * j_zz)"
   ]
  },
  {
   "cell_type": "markdown",
   "id": "19bb70ff",
   "metadata": {
    "cq.autogen": "IsingXUnitary.graphical_signature.md"
   },
   "source": [
    "#### Graphical Signature"
   ]
  },
  {
   "cell_type": "code",
   "execution_count": 4,
   "id": "eaa1eeae",
   "metadata": {
    "cq.autogen": "IsingXUnitary.graphical_signature.py"
   },
   "outputs": [
    {
     "data": {
      "application/vnd.jupyter.widget-view+json": {
       "model_id": "c22e4a159d9146beb9b223f3ff82bb79",
       "version_major": 2,
       "version_minor": 0
      },
      "text/plain": [
       "HBox(children=(Output(outputs=({'output_type': 'display_data', 'data': {'text/plain': '<IPython.core.display.M…"
      ]
     },
     "metadata": {},
     "output_type": "display_data"
    }
   ],
   "source": [
    "from qualtran.drawing import show_bloqs\n",
    "show_bloqs([ising_x],\n",
    "           ['`ising_x`'])"
   ]
  },
  {
   "cell_type": "markdown",
   "id": "16cc82cd",
   "metadata": {
    "cq.autogen": "IsingXUnitary.call_graph.md"
   },
   "source": [
    "### Call Graph"
   ]
  },
  {
   "cell_type": "code",
   "execution_count": 5,
   "id": "296d9905",
   "metadata": {
    "cq.autogen": "IsingXUnitary.call_graph.py"
   },
   "outputs": [
    {
     "data": {
      "image/svg+xml": [
       "<svg xmlns=\"http://www.w3.org/2000/svg\" xmlns:xlink=\"http://www.w3.org/1999/xlink\" width=\"211pt\" height=\"131pt\" viewBox=\"0.00 0.00 211.00 131.00\">\n",
       "<g id=\"graph0\" class=\"graph\" transform=\"scale(1 1) rotate(0) translate(4 127)\">\n",
       "<title>counts</title>\n",
       "<polygon fill=\"white\" stroke=\"transparent\" points=\"-4,4 -4,-127 207,-127 207,4 -4,4\"/>\n",
       "<!-- b0 -->\n",
       "<g id=\"node1\" class=\"node\">\n",
       "<title>b0</title>\n",
       "<polygon fill=\"none\" stroke=\"black\" points=\"203,-123 0,-123 0,-87 203,-87 203,-123\"/>\n",
       "<text text-anchor=\"start\" x=\"88\" y=\"-106.8\" font-family=\"Times,serif\" font-size=\"14.00\">U_X</text>\n",
       "<text text-anchor=\"start\" x=\"8\" y=\"-96\" font-family=\"monospace\" font-size=\"10.00\">nsites=3, angle=0.04, eps=1e-10</text>\n",
       "</g>\n",
       "<!-- b1 -->\n",
       "<g id=\"node2\" class=\"node\">\n",
       "<title>b1</title>\n",
       "<polygon fill=\"none\" stroke=\"black\" points=\"173,-36 30,-36 30,0 173,0 173,-36\"/>\n",
       "<text text-anchor=\"start\" x=\"77\" y=\"-19.8\" font-family=\"Times,serif\" font-size=\"14.00\">Rx(0.04)</text>\n",
       "<text text-anchor=\"start\" x=\"38\" y=\"-9\" font-family=\"monospace\" font-size=\"10.00\">angle=0.04, eps=1e-11</text>\n",
       "</g>\n",
       "<!-- b0&#45;&gt;b1 -->\n",
       "<g id=\"edge1\" class=\"edge\">\n",
       "<title>b0-&gt;b1</title>\n",
       "<path fill=\"none\" stroke=\"black\" d=\"M101.5,-86.8C101.5,-75.16 101.5,-59.55 101.5,-46.24\"/>\n",
       "<polygon fill=\"black\" stroke=\"black\" points=\"105,-46.18 101.5,-36.18 98,-46.18 105,-46.18\"/>\n",
       "<text text-anchor=\"middle\" x=\"105\" y=\"-57.8\" font-family=\"Times,serif\" font-size=\"14.00\">3</text>\n",
       "</g>\n",
       "</g>\n",
       "</svg>"
      ],
      "text/plain": [
       "<IPython.core.display.SVG object>"
      ]
     },
     "metadata": {},
     "output_type": "display_data"
    },
    {
     "data": {
      "text/markdown": [
       "#### Counts totals:\n",
       " - `Rx(0.04)`: 3"
      ],
      "text/plain": [
       "<IPython.core.display.Markdown object>"
      ]
     },
     "metadata": {},
     "output_type": "display_data"
    }
   ],
   "source": [
    "from qualtran.resource_counting.generalizers import ignore_split_join\n",
    "ising_x_g, ising_x_sigma = ising_x.call_graph(max_depth=1, generalizer=ignore_split_join)\n",
    "show_call_graph(ising_x_g)\n",
    "show_counts_sigma(ising_x_sigma)"
   ]
  },
  {
   "cell_type": "markdown",
   "id": "40962444",
   "metadata": {
    "cq.autogen": "IsingZZUnitary.bloq_doc.md"
   },
   "source": [
    "## `IsingZZUnitary`\n",
    "Implents the unitary $e^{-i \\alpha H_{ZZ}}$.\n",
    "\n",
    "#### Parameters\n",
    " - `nsites`: The number of lattice sites.\n",
    " - `angle`: The angle of the rotation. $\\alpha$ in the docstring.\n",
    " - `eps`: The tolerance for the rotation. \n",
    "\n",
    "#### Registers\n",
    " - `system`: The system register to apply the unitary to.\n"
   ]
  },
  {
   "cell_type": "code",
   "execution_count": 6,
   "id": "08068c33",
   "metadata": {
    "cq.autogen": "IsingZZUnitary.bloq_doc.py"
   },
   "outputs": [],
   "source": [
    "from qualtran.bloqs.chemistry.trotter.ising.unitaries import IsingZZUnitary"
   ]
  },
  {
   "cell_type": "markdown",
   "id": "de23fed5",
   "metadata": {
    "cq.autogen": "IsingZZUnitary.example_instances.md"
   },
   "source": [
    "### Example Instances"
   ]
  },
  {
   "cell_type": "code",
   "execution_count": 7,
   "id": "3d815779",
   "metadata": {
    "cq.autogen": "IsingZZUnitary.ising_zz"
   },
   "outputs": [],
   "source": [
    "nsites = 3\n",
    "j_zz = 2\n",
    "dt = 0.01\n",
    "ising_zz = IsingZZUnitary(nsites=nsites, angle=2 * dt * j_zz)"
   ]
  },
  {
   "cell_type": "markdown",
   "id": "1def9c5a",
   "metadata": {
    "cq.autogen": "IsingZZUnitary.graphical_signature.md"
   },
   "source": [
    "#### Graphical Signature"
   ]
  },
  {
   "cell_type": "code",
   "execution_count": 8,
   "id": "99c71623",
   "metadata": {
    "cq.autogen": "IsingZZUnitary.graphical_signature.py"
   },
   "outputs": [
    {
     "data": {
      "application/vnd.jupyter.widget-view+json": {
       "model_id": "7c826d8f76a44e7a9d72cfe04f916420",
       "version_major": 2,
       "version_minor": 0
      },
      "text/plain": [
       "HBox(children=(Output(outputs=({'output_type': 'display_data', 'data': {'text/plain': '<IPython.core.display.M…"
      ]
     },
     "metadata": {},
     "output_type": "display_data"
    }
   ],
   "source": [
    "from qualtran.drawing import show_bloqs\n",
    "show_bloqs([ising_zz],\n",
    "           ['`ising_zz`'])"
   ]
  },
  {
   "cell_type": "markdown",
   "id": "3232c32a",
   "metadata": {
    "cq.autogen": "IsingZZUnitary.call_graph.md"
   },
   "source": [
    "### Call Graph"
   ]
  },
  {
   "cell_type": "code",
   "execution_count": 9,
   "id": "fae6ee4a",
   "metadata": {
    "cq.autogen": "IsingZZUnitary.call_graph.py"
   },
   "outputs": [
    {
     "data": {
      "image/svg+xml": [
       "<svg xmlns=\"http://www.w3.org/2000/svg\" xmlns:xlink=\"http://www.w3.org/1999/xlink\" width=\"240pt\" height=\"131pt\" viewBox=\"0.00 0.00 240.00 131.00\">\n",
       "<g id=\"graph0\" class=\"graph\" transform=\"scale(1 1) rotate(0) translate(4 127)\">\n",
       "<title>counts</title>\n",
       "<polygon fill=\"white\" stroke=\"transparent\" points=\"-4,4 -4,-127 236,-127 236,4 -4,4\"/>\n",
       "<!-- b0 -->\n",
       "<g id=\"node1\" class=\"node\">\n",
       "<title>b0</title>\n",
       "<polygon fill=\"none\" stroke=\"black\" points=\"203,-123 0,-123 0,-87 203,-87 203,-123\"/>\n",
       "<text text-anchor=\"start\" x=\"84.5\" y=\"-106.8\" font-family=\"Times,serif\" font-size=\"14.00\">U_ZZ</text>\n",
       "<text text-anchor=\"start\" x=\"8\" y=\"-96\" font-family=\"monospace\" font-size=\"10.00\">nsites=3, angle=0.04, eps=1e-10</text>\n",
       "</g>\n",
       "<!-- b1 -->\n",
       "<g id=\"node2\" class=\"node\">\n",
       "<title>b1</title>\n",
       "<polygon fill=\"none\" stroke=\"black\" points=\"70.5,-36 16.5,-36 16.5,0 70.5,0 70.5,-36\"/>\n",
       "<text text-anchor=\"start\" x=\"25\" y=\"-14.3\" font-family=\"Times,serif\" font-size=\"14.00\">CNOT</text>\n",
       "</g>\n",
       "<!-- b0&#45;&gt;b1 -->\n",
       "<g id=\"edge1\" class=\"edge\">\n",
       "<title>b0-&gt;b1</title>\n",
       "<path fill=\"none\" stroke=\"black\" d=\"M89.76,-86.8C81.51,-74.7 70.32,-58.3 61.01,-44.67\"/>\n",
       "<polygon fill=\"black\" stroke=\"black\" points=\"63.75,-42.46 55.22,-36.18 57.97,-46.41 63.75,-42.46\"/>\n",
       "<text text-anchor=\"middle\" x=\"80\" y=\"-57.8\" font-family=\"Times,serif\" font-size=\"14.00\">6</text>\n",
       "</g>\n",
       "<!-- b2 -->\n",
       "<g id=\"node3\" class=\"node\">\n",
       "<title>b2</title>\n",
       "<polygon fill=\"none\" stroke=\"black\" points=\"232,-36 89,-36 89,0 232,0 232,-36\"/>\n",
       "<text text-anchor=\"start\" x=\"136\" y=\"-19.8\" font-family=\"Times,serif\" font-size=\"14.00\">Rz(0.04)</text>\n",
       "<text text-anchor=\"start\" x=\"97\" y=\"-9\" font-family=\"monospace\" font-size=\"10.00\">angle=0.04, eps=1e-10</text>\n",
       "</g>\n",
       "<!-- b0&#45;&gt;b2 -->\n",
       "<g id=\"edge2\" class=\"edge\">\n",
       "<title>b0-&gt;b2</title>\n",
       "<path fill=\"none\" stroke=\"black\" d=\"M113.44,-86.8C121.84,-74.7 133.22,-58.3 142.68,-44.67\"/>\n",
       "<polygon fill=\"black\" stroke=\"black\" points=\"145.75,-46.39 148.58,-36.18 140,-42.39 145.75,-46.39\"/>\n",
       "<text text-anchor=\"middle\" x=\"138\" y=\"-57.8\" font-family=\"Times,serif\" font-size=\"14.00\">3</text>\n",
       "</g>\n",
       "</g>\n",
       "</svg>"
      ],
      "text/plain": [
       "<IPython.core.display.SVG object>"
      ]
     },
     "metadata": {},
     "output_type": "display_data"
    },
    {
     "data": {
      "text/markdown": [
       "#### Counts totals:\n",
       " - `CNOT`: 6\n",
       " - `Rz(0.04)`: 3"
      ],
      "text/plain": [
       "<IPython.core.display.Markdown object>"
      ]
     },
     "metadata": {},
     "output_type": "display_data"
    }
   ],
   "source": [
    "from qualtran.resource_counting.generalizers import ignore_split_join\n",
    "ising_zz_g, ising_zz_sigma = ising_zz.call_graph(max_depth=1, generalizer=ignore_split_join)\n",
    "show_call_graph(ising_zz_g)\n",
    "show_counts_sigma(ising_zz_sigma)"
   ]
  }
 ],
 "metadata": {
  "kernelspec": {
   "display_name": "Python 3",
   "language": "python",
   "name": "python3"
  },
  "language_info": {
   "codemirror_mode": {
    "name": "ipython",
    "version": 3
   },
   "file_extension": ".py",
   "mimetype": "text/x-python",
   "name": "python",
   "nbconvert_exporter": "python",
   "pygments_lexer": "ipython3",
   "version": "3.11.8"
  },
  "widgets": {
   "application/vnd.jupyter.widget-state+json": {
    "state": {
     "27862cf0f96f4a89bf958499b7c96b3d": {
      "model_module": "@jupyter-widgets/base",
      "model_module_version": "2.0.0",
      "model_name": "LayoutModel",
      "state": {
       "_model_module": "@jupyter-widgets/base",
       "_model_module_version": "2.0.0",
       "_model_name": "LayoutModel",
       "_view_count": null,
       "_view_module": "@jupyter-widgets/base",
       "_view_module_version": "2.0.0",
       "_view_name": "LayoutView",
       "align_content": null,
       "align_items": null,
       "align_self": null,
       "border_bottom": null,
       "border_left": null,
       "border_right": null,
       "border_top": null,
       "bottom": null,
       "display": null,
       "flex": null,
       "flex_flow": null,
       "grid_area": null,
       "grid_auto_columns": null,
       "grid_auto_flow": null,
       "grid_auto_rows": null,
       "grid_column": null,
       "grid_gap": null,
       "grid_row": null,
       "grid_template_areas": null,
       "grid_template_columns": null,
       "grid_template_rows": null,
       "height": null,
       "justify_content": null,
       "justify_items": null,
       "left": null,
       "margin": null,
       "max_height": null,
       "max_width": null,
       "min_height": null,
       "min_width": null,
       "object_fit": null,
       "object_position": null,
       "order": null,
       "overflow": null,
       "padding": null,
       "right": null,
       "top": null,
       "visibility": null,
       "width": null
      }
     },
     "45c2593230094e7c9809d71bfc879012": {
      "model_module": "@jupyter-widgets/output",
      "model_module_version": "1.0.0",
      "model_name": "OutputModel",
      "state": {
       "_dom_classes": [],
       "_model_module": "@jupyter-widgets/output",
       "_model_module_version": "1.0.0",
       "_model_name": "OutputModel",
       "_view_count": null,
       "_view_module": "@jupyter-widgets/output",
       "_view_module_version": "1.0.0",
       "_view_name": "OutputView",
       "layout": "IPY_MODEL_9866e061b3144b73bd8f19354b0ba83b",
       "msg_id": "",
       "outputs": [
        {
         "data": {
          "text/markdown": "`ising_zz`",
          "text/plain": "<IPython.core.display.Markdown object>"
         },
         "metadata": {},
         "output_type": "display_data"
        },
        {
         "data": {
          "image/svg+xml": "<svg xmlns=\"http://www.w3.org/2000/svg\" xmlns:xlink=\"http://www.w3.org/1999/xlink\" width=\"262pt\" height=\"54pt\" viewBox=\"0.00 0.00 262.00 54.00\">\n<g id=\"graph0\" class=\"graph\" transform=\"scale(1 1) rotate(0) translate(4 50)\">\n<title>my_graph</title>\n<polygon fill=\"white\" stroke=\"transparent\" points=\"-4,4 -4,-50 258,-50 258,4 -4,4\"/>\n<!-- system_G0 -->\n<g id=\"node1\" class=\"node\">\n<title>system_G0</title>\n<text text-anchor=\"middle\" x=\"27.5\" y=\"-14.3\" font-family=\"Times,serif\" font-size=\"14.00\">system</text>\n</g>\n<!-- IsingZZUnitary -->\n<g id=\"node2\" class=\"node\">\n<title>IsingZZUnitary</title>\n<polygon fill=\"none\" stroke=\"black\" points=\"92,-29 92,-46 162,-46 162,-29 92,-29\"/>\n<text text-anchor=\"start\" x=\"95\" y=\"-35\" font-family=\"Times,serif\" font-size=\"10.00\">IsingZZUnitary</text>\n<polygon fill=\"none\" stroke=\"black\" points=\"92,-8 92,-29 162,-29 162,-8 92,-8\"/>\n<text text-anchor=\"start\" x=\"107.5\" y=\"-14.8\" font-family=\"Times,serif\" font-size=\"14.00\">system</text>\n</g>\n<!-- system_G0&#45;&gt;IsingZZUnitary -->\n<g id=\"edge1\" class=\"edge\">\n<title>system_G0:e-&gt;IsingZZUnitary:w</title>\n<path fill=\"none\" stroke=\"black\" d=\"M55,-18C70.67,-18 75.14,-18 89.77,-18\"/>\n<ellipse fill=\"black\" stroke=\"black\" cx=\"91\" cy=\"-18\" rx=\"1\" ry=\"1\"/>\n<text text-anchor=\"middle\" x=\"73.5\" y=\"-21\" font-family=\"Times,serif\" font-size=\"10.00\">3</text>\n</g>\n<!-- system_G1 -->\n<g id=\"node3\" class=\"node\">\n<title>system_G1</title>\n<text text-anchor=\"middle\" x=\"226.5\" y=\"-14.3\" font-family=\"Times,serif\" font-size=\"14.00\">system</text>\n</g>\n<!-- IsingZZUnitary&#45;&gt;system_G1 -->\n<g id=\"edge2\" class=\"edge\">\n<title>IsingZZUnitary:e-&gt;system_G1:w</title>\n<path fill=\"none\" stroke=\"black\" d=\"M162,-18C177.67,-18 182.14,-18 196.77,-18\"/>\n<ellipse fill=\"black\" stroke=\"black\" cx=\"198\" cy=\"-18\" rx=\"1\" ry=\"1\"/>\n<text text-anchor=\"middle\" x=\"180.5\" y=\"-21\" font-family=\"Times,serif\" font-size=\"10.00\">3</text>\n</g>\n</g>\n</svg>",
          "text/plain": "<IPython.core.display.SVG object>"
         },
         "metadata": {},
         "output_type": "display_data"
        }
       ],
       "tabbable": null,
       "tooltip": null
      }
     },
     "7c826d8f76a44e7a9d72cfe04f916420": {
      "model_module": "@jupyter-widgets/controls",
      "model_module_version": "2.0.0",
      "model_name": "HBoxModel",
      "state": {
       "_dom_classes": [],
       "_model_module": "@jupyter-widgets/controls",
       "_model_module_version": "2.0.0",
       "_model_name": "HBoxModel",
       "_view_count": null,
       "_view_module": "@jupyter-widgets/controls",
       "_view_module_version": "2.0.0",
       "_view_name": "HBoxView",
       "box_style": "",
       "children": [
        "IPY_MODEL_45c2593230094e7c9809d71bfc879012"
       ],
       "layout": "IPY_MODEL_27862cf0f96f4a89bf958499b7c96b3d",
       "tabbable": null,
       "tooltip": null
      }
     },
     "9866e061b3144b73bd8f19354b0ba83b": {
      "model_module": "@jupyter-widgets/base",
      "model_module_version": "2.0.0",
      "model_name": "LayoutModel",
      "state": {
       "_model_module": "@jupyter-widgets/base",
       "_model_module_version": "2.0.0",
       "_model_name": "LayoutModel",
       "_view_count": null,
       "_view_module": "@jupyter-widgets/base",
       "_view_module_version": "2.0.0",
       "_view_name": "LayoutView",
       "align_content": null,
       "align_items": null,
       "align_self": null,
       "border_bottom": null,
       "border_left": null,
       "border_right": null,
       "border_top": null,
       "bottom": null,
       "display": null,
       "flex": null,
       "flex_flow": null,
       "grid_area": null,
       "grid_auto_columns": null,
       "grid_auto_flow": null,
       "grid_auto_rows": null,
       "grid_column": null,
       "grid_gap": null,
       "grid_row": null,
       "grid_template_areas": null,
       "grid_template_columns": null,
       "grid_template_rows": null,
       "height": null,
       "justify_content": null,
       "justify_items": null,
       "left": null,
       "margin": null,
       "max_height": null,
       "max_width": null,
       "min_height": null,
       "min_width": null,
       "object_fit": null,
       "object_position": null,
       "order": null,
       "overflow": null,
       "padding": null,
       "right": null,
       "top": null,
       "visibility": null,
       "width": null
      }
     },
     "a4ad12e567144e54ae191cc1d7ba6044": {
      "model_module": "@jupyter-widgets/base",
      "model_module_version": "2.0.0",
      "model_name": "LayoutModel",
      "state": {
       "_model_module": "@jupyter-widgets/base",
       "_model_module_version": "2.0.0",
       "_model_name": "LayoutModel",
       "_view_count": null,
       "_view_module": "@jupyter-widgets/base",
       "_view_module_version": "2.0.0",
       "_view_name": "LayoutView",
       "align_content": null,
       "align_items": null,
       "align_self": null,
       "border_bottom": null,
       "border_left": null,
       "border_right": null,
       "border_top": null,
       "bottom": null,
       "display": null,
       "flex": null,
       "flex_flow": null,
       "grid_area": null,
       "grid_auto_columns": null,
       "grid_auto_flow": null,
       "grid_auto_rows": null,
       "grid_column": null,
       "grid_gap": null,
       "grid_row": null,
       "grid_template_areas": null,
       "grid_template_columns": null,
       "grid_template_rows": null,
       "height": null,
       "justify_content": null,
       "justify_items": null,
       "left": null,
       "margin": null,
       "max_height": null,
       "max_width": null,
       "min_height": null,
       "min_width": null,
       "object_fit": null,
       "object_position": null,
       "order": null,
       "overflow": null,
       "padding": null,
       "right": null,
       "top": null,
       "visibility": null,
       "width": null
      }
     },
     "c22e4a159d9146beb9b223f3ff82bb79": {
      "model_module": "@jupyter-widgets/controls",
      "model_module_version": "2.0.0",
      "model_name": "HBoxModel",
      "state": {
       "_dom_classes": [],
       "_model_module": "@jupyter-widgets/controls",
       "_model_module_version": "2.0.0",
       "_model_name": "HBoxModel",
       "_view_count": null,
       "_view_module": "@jupyter-widgets/controls",
       "_view_module_version": "2.0.0",
       "_view_name": "HBoxView",
       "box_style": "",
       "children": [
        "IPY_MODEL_d645b8fa3b254f83a18b5df9a3360a48"
       ],
       "layout": "IPY_MODEL_f690892d4eb148f1a1cab97a55b1975c",
       "tabbable": null,
       "tooltip": null
      }
     },
     "d645b8fa3b254f83a18b5df9a3360a48": {
      "model_module": "@jupyter-widgets/output",
      "model_module_version": "1.0.0",
      "model_name": "OutputModel",
      "state": {
       "_dom_classes": [],
       "_model_module": "@jupyter-widgets/output",
       "_model_module_version": "1.0.0",
       "_model_name": "OutputModel",
       "_view_count": null,
       "_view_module": "@jupyter-widgets/output",
       "_view_module_version": "1.0.0",
       "_view_name": "OutputView",
       "layout": "IPY_MODEL_a4ad12e567144e54ae191cc1d7ba6044",
       "msg_id": "",
       "outputs": [
        {
         "data": {
          "text/markdown": "`ising_x`",
          "text/plain": "<IPython.core.display.Markdown object>"
         },
         "metadata": {},
         "output_type": "display_data"
        },
        {
         "data": {
          "image/svg+xml": "<svg xmlns=\"http://www.w3.org/2000/svg\" xmlns:xlink=\"http://www.w3.org/1999/xlink\" width=\"258pt\" height=\"54pt\" viewBox=\"0.00 0.00 258.00 54.00\">\n<g id=\"graph0\" class=\"graph\" transform=\"scale(1 1) rotate(0) translate(4 50)\">\n<title>my_graph</title>\n<polygon fill=\"white\" stroke=\"transparent\" points=\"-4,4 -4,-50 254,-50 254,4 -4,4\"/>\n<!-- system_G1 -->\n<g id=\"node1\" class=\"node\">\n<title>system_G1</title>\n<text text-anchor=\"middle\" x=\"27.5\" y=\"-14.3\" font-family=\"Times,serif\" font-size=\"14.00\">system</text>\n</g>\n<!-- IsingXUnitary -->\n<g id=\"node2\" class=\"node\">\n<title>IsingXUnitary</title>\n<polygon fill=\"none\" stroke=\"black\" points=\"92,-29 92,-46 158,-46 158,-29 92,-29\"/>\n<text text-anchor=\"start\" x=\"95\" y=\"-35\" font-family=\"Times,serif\" font-size=\"10.00\">IsingXUnitary</text>\n<polygon fill=\"none\" stroke=\"black\" points=\"92,-8 92,-29 158,-29 158,-8 92,-8\"/>\n<text text-anchor=\"start\" x=\"105.5\" y=\"-14.8\" font-family=\"Times,serif\" font-size=\"14.00\">system</text>\n</g>\n<!-- system_G1&#45;&gt;IsingXUnitary -->\n<g id=\"edge1\" class=\"edge\">\n<title>system_G1:e-&gt;IsingXUnitary:w</title>\n<path fill=\"none\" stroke=\"black\" d=\"M55,-18C70.67,-18 75.14,-18 89.77,-18\"/>\n<ellipse fill=\"black\" stroke=\"black\" cx=\"91\" cy=\"-18\" rx=\"1\" ry=\"1\"/>\n<text text-anchor=\"middle\" x=\"73.5\" y=\"-21\" font-family=\"Times,serif\" font-size=\"10.00\">3</text>\n</g>\n<!-- system_G2 -->\n<g id=\"node3\" class=\"node\">\n<title>system_G2</title>\n<text text-anchor=\"middle\" x=\"222.5\" y=\"-14.3\" font-family=\"Times,serif\" font-size=\"14.00\">system</text>\n</g>\n<!-- IsingXUnitary&#45;&gt;system_G2 -->\n<g id=\"edge2\" class=\"edge\">\n<title>IsingXUnitary:e-&gt;system_G2:w</title>\n<path fill=\"none\" stroke=\"black\" d=\"M158,-18C173.67,-18 178.14,-18 192.77,-18\"/>\n<ellipse fill=\"black\" stroke=\"black\" cx=\"194\" cy=\"-18\" rx=\"1\" ry=\"1\"/>\n<text text-anchor=\"middle\" x=\"176.5\" y=\"-21\" font-family=\"Times,serif\" font-size=\"10.00\">3</text>\n</g>\n</g>\n</svg>",
          "text/plain": "<IPython.core.display.SVG object>"
         },
         "metadata": {},
         "output_type": "display_data"
        }
       ],
       "tabbable": null,
       "tooltip": null
      }
     },
     "f690892d4eb148f1a1cab97a55b1975c": {
      "model_module": "@jupyter-widgets/base",
      "model_module_version": "2.0.0",
      "model_name": "LayoutModel",
      "state": {
       "_model_module": "@jupyter-widgets/base",
       "_model_module_version": "2.0.0",
       "_model_name": "LayoutModel",
       "_view_count": null,
       "_view_module": "@jupyter-widgets/base",
       "_view_module_version": "2.0.0",
       "_view_name": "LayoutView",
       "align_content": null,
       "align_items": null,
       "align_self": null,
       "border_bottom": null,
       "border_left": null,
       "border_right": null,
       "border_top": null,
       "bottom": null,
       "display": null,
       "flex": null,
       "flex_flow": null,
       "grid_area": null,
       "grid_auto_columns": null,
       "grid_auto_flow": null,
       "grid_auto_rows": null,
       "grid_column": null,
       "grid_gap": null,
       "grid_row": null,
       "grid_template_areas": null,
       "grid_template_columns": null,
       "grid_template_rows": null,
       "height": null,
       "justify_content": null,
       "justify_items": null,
       "left": null,
       "margin": null,
       "max_height": null,
       "max_width": null,
       "min_height": null,
       "min_width": null,
       "object_fit": null,
       "object_position": null,
       "order": null,
       "overflow": null,
       "padding": null,
       "right": null,
       "top": null,
       "visibility": null,
       "width": null
      }
     }
    },
    "version_major": 2,
    "version_minor": 0
   }
  }
 },
 "nbformat": 4,
 "nbformat_minor": 5
}
