{
 "cells": [
  {
   "cell_type": "markdown",
   "id": "03f883e6",
   "metadata": {
    "cq.autogen": "title_cell"
   },
   "source": [
    "# Trotterization\n",
    "\n",
    "Bloq for building a Trotterized unitary"
   ]
  },
  {
   "cell_type": "code",
   "execution_count": 1,
   "id": "5009f0be",
   "metadata": {
    "cq.autogen": "top_imports"
   },
   "outputs": [],
   "source": [
    "from qualtran import Bloq, CompositeBloq, BloqBuilder, Signature, Register\n",
    "from qualtran import QBit, QInt, QUInt, QAny\n",
    "from qualtran.drawing import show_bloq, show_call_graph, show_counts_sigma\n",
    "from typing import *\n",
    "import numpy as np\n",
    "import sympy\n",
    "import cirq"
   ]
  },
  {
   "cell_type": "markdown",
   "id": "85005986",
   "metadata": {
    "cq.autogen": "TrotterizedUnitary.bloq_doc.md"
   },
   "source": [
    "## `TrotterizedUnitary`\n",
    "Implement arbitrary trotterized unitary given any Trotter splitting of the Hamiltonian.\n",
    "\n",
    "Given an arbitrary splitting of the Hamiltonian into $\\Gamma$ terms\n",
    "\n",
    "$$\n",
    "    H = \\sum_{\\gamma=1}^\\Gamma H_\\gamma\n",
    "$$\n",
    "\n",
    "then the unitary $e^{-i t H}$ can be approximately implemented via a $p$-th order product\n",
    "formula\n",
    "\n",
    "$$\n",
    "    S_p(t) = \\prod_{v=1}^{\\Upsilon}\\prod_{\\gamma=1}^\\Gamma e^{-it a_{v,\\gamma} H_{\\pi_v(\\gamma)}}\n",
    "$$\n",
    "\n",
    "where $\\Upsilon$ is the number of `stages`, $a_{v, \\gamma}$ are real numbers\n",
    "and $\\pi_v(\\gamma)$ is a permutation of the Hamiltonian term labels.\n",
    "\n",
    "In practice, to construct the unitary we adopt the convention from the second reference\n",
    "which expands the product above and merges neighbouring unitaries where\n",
    "possible.\n",
    "In particular, the trotterized unitary can be specified by\n",
    "\n",
    "$$\n",
    "    S_p(t) = \\prod_{k}^M e^{-it c_k H_{l_k}}\n",
    "$$\n",
    "\n",
    "where the coefficients $c_k$ are real numbers and $l_k$ is an integer\n",
    "indexing which term of the Hamiltonian to apply.\n",
    "\n",
    "For example, the second order Suzuki splitting would have indicies $(l)$ = (0, 1, 0)\n",
    "and coeffs = $(c)$ = (0.5, 1, 0.5), which would build\n",
    "\n",
    "$$\n",
    "    e^{-i \\frac{t}{2} H_0} e^{-i t H_1} e^{-i \\frac{t}{2} H_0}\n",
    "$$\n",
    "\n",
    "#### Parameters\n",
    " - `bloqs`: A tuple of bloqs of length $\\Gamma$ which implement the unitaries for each term in the Hamiltonian. Each bloq should be a frozen attrs dataclass, have an `angle` parameter. All bloqs should have the same signature.\n",
    " - `indices`: A tuple of integers which specifies which bloq to apply when forming the unitary as a product of unitaries.\n",
    " - `coeffs`: The coefficients $a$ which appear in the expression for the unitary.\n",
    " - `timestep`: The timestep $t$. \n",
    "\n",
    "#### Registers\n",
    " - `system`: The system register to which to apply the unitary. \n",
    "\n",
    "#### References\n",
    " - [Theory of Trotter Error with Commutator Scaling](     https://journals.aps.org/prx/abstract/10.1103/PhysRevX.11.011020) Eq. 12 page 7.\n",
    " - [Trotter error with commutator scaling for the Fermi-Hubbard model](     https://arxiv.org/abs/2306.10603) see github repo for software to produce splittings.\n"
   ]
  },
  {
   "cell_type": "code",
   "execution_count": 2,
   "id": "ea48a0a6",
   "metadata": {
    "cq.autogen": "TrotterizedUnitary.bloq_doc.py"
   },
   "outputs": [],
   "source": [
    "from qualtran.bloqs.chemistry.trotter.trotterized_unitary import TrotterizedUnitary"
   ]
  },
  {
   "cell_type": "markdown",
   "id": "9869f4e8",
   "metadata": {
    "cq.autogen": "TrotterizedUnitary.example_instances.md"
   },
   "source": [
    "### Example Instances"
   ]
  },
  {
   "cell_type": "code",
   "execution_count": 3,
   "id": "2a8750ba",
   "metadata": {
    "cq.autogen": "TrotterizedUnitary.trott_unitary"
   },
   "outputs": [],
   "source": [
    "from qualtran.bloqs.chemistry.trotter.ising import IsingXUnitary, IsingZZUnitary\n",
    "\n",
    "nsites = 3\n",
    "j_zz = 2\n",
    "gamma_x = 0.1\n",
    "dt = 0.01\n",
    "indices = (0, 1, 0)\n",
    "coeffs = (0.5 * gamma_x, j_zz, 0.5 * gamma_x)\n",
    "# The angles for the Trotter bloqs will be overwritten, so these are placeholder values.\n",
    "zz_bloq = IsingZZUnitary(nsites=nsites, angle=2 * dt * j_zz)\n",
    "x_bloq = IsingXUnitary(nsites=nsites, angle=0.5 * 2 * dt * gamma_x)\n",
    "trott_unitary = TrotterizedUnitary(\n",
    "    bloqs=(x_bloq, zz_bloq), indices=indices, coeffs=coeffs, timestep=dt\n",
    ")"
   ]
  },
  {
   "cell_type": "markdown",
   "id": "bb4ac0ab",
   "metadata": {
    "cq.autogen": "TrotterizedUnitary.graphical_signature.md"
   },
   "source": [
    "#### Graphical Signature"
   ]
  },
  {
   "cell_type": "code",
   "execution_count": 4,
   "id": "d58e9b46",
   "metadata": {
    "cq.autogen": "TrotterizedUnitary.graphical_signature.py"
   },
   "outputs": [
    {
     "data": {
      "application/vnd.jupyter.widget-view+json": {
       "model_id": "a7b9670d54a047fc9cb522bb8b1c0add",
       "version_major": 2,
       "version_minor": 0
      },
      "text/plain": [
       "HBox(children=(Output(outputs=({'output_type': 'display_data', 'data': {'text/plain': '<IPython.core.display.M…"
      ]
     },
     "metadata": {},
     "output_type": "display_data"
    }
   ],
   "source": [
    "from qualtran.drawing import show_bloqs\n",
    "show_bloqs([trott_unitary],\n",
    "           ['`trott_unitary`'])"
   ]
  },
  {
   "cell_type": "markdown",
   "id": "1b84ae91",
   "metadata": {
    "cq.autogen": "TrotterizedUnitary.call_graph.md"
   },
   "source": [
    "### Call Graph"
   ]
  },
  {
   "cell_type": "code",
   "execution_count": 5,
   "id": "bfbcd7b1",
   "metadata": {
    "cq.autogen": "TrotterizedUnitary.call_graph.py"
   },
   "outputs": [
    {
     "data": {
      "image/svg+xml": [
       "<svg xmlns=\"http://www.w3.org/2000/svg\" xmlns:xlink=\"http://www.w3.org/1999/xlink\" width=\"463pt\" height=\"131pt\" viewBox=\"0.00 0.00 463.00 131.00\">\n",
       "<g id=\"graph0\" class=\"graph\" transform=\"scale(1 1) rotate(0) translate(4 127)\">\n",
       "<title>counts</title>\n",
       "<polygon fill=\"white\" stroke=\"transparent\" points=\"-4,4 -4,-127 459,-127 459,4 -4,4\"/>\n",
       "<!-- b0 -->\n",
       "<g id=\"node1\" class=\"node\">\n",
       "<title>b0</title>\n",
       "<polygon fill=\"none\" stroke=\"black\" points=\"455,-123 0,-123 0,-87 455,-87 455,-123\"/>\n",
       "<text text-anchor=\"start\" x=\"176.5\" y=\"-106.8\" font-family=\"Times,serif\" font-size=\"14.00\">TrotterizedUnitary</text>\n",
       "<text text-anchor=\"start\" x=\"8\" y=\"-96\" font-family=\"monospace\" font-size=\"10.00\">bloqs=(IsingXU ..., indices=(0, 1, 0), coeffs=(0.05, 2 ..., timestep=0.01</text>\n",
       "</g>\n",
       "<!-- b1 -->\n",
       "<g id=\"node2\" class=\"node\">\n",
       "<title>b1</title>\n",
       "<polygon fill=\"none\" stroke=\"black\" points=\"220,-36 11,-36 11,0 220,0 220,-36\"/>\n",
       "<text text-anchor=\"start\" x=\"102\" y=\"-19.8\" font-family=\"Times,serif\" font-size=\"14.00\">U_X</text>\n",
       "<text text-anchor=\"start\" x=\"19\" y=\"-9\" font-family=\"monospace\" font-size=\"10.00\">nsites=3, angle=0.001, eps=1e-10</text>\n",
       "</g>\n",
       "<!-- b0&#45;&gt;b1 -->\n",
       "<g id=\"edge1\" class=\"edge\">\n",
       "<title>b0-&gt;b1</title>\n",
       "<path fill=\"none\" stroke=\"black\" d=\"M204.84,-86.8C187.98,-74.01 164.8,-56.42 146.28,-42.36\"/>\n",
       "<polygon fill=\"black\" stroke=\"black\" points=\"148.21,-39.43 138.13,-36.18 143.98,-45.01 148.21,-39.43\"/>\n",
       "<text text-anchor=\"middle\" x=\"182\" y=\"-57.8\" font-family=\"Times,serif\" font-size=\"14.00\">2</text>\n",
       "</g>\n",
       "<!-- b2 -->\n",
       "<g id=\"node3\" class=\"node\">\n",
       "<title>b2</title>\n",
       "<polygon fill=\"none\" stroke=\"black\" points=\"441,-36 238,-36 238,0 441,0 441,-36\"/>\n",
       "<text text-anchor=\"start\" x=\"322.5\" y=\"-19.8\" font-family=\"Times,serif\" font-size=\"14.00\">U_ZZ</text>\n",
       "<text text-anchor=\"start\" x=\"246\" y=\"-9\" font-family=\"monospace\" font-size=\"10.00\">nsites=3, angle=0.04, eps=1e-10</text>\n",
       "</g>\n",
       "<!-- b0&#45;&gt;b2 -->\n",
       "<g id=\"edge2\" class=\"edge\">\n",
       "<title>b0-&gt;b2</title>\n",
       "<path fill=\"none\" stroke=\"black\" d=\"M250.16,-86.8C267.02,-74.01 290.2,-56.42 308.72,-42.36\"/>\n",
       "<polygon fill=\"black\" stroke=\"black\" points=\"311.02,-45.01 316.87,-36.18 306.79,-39.43 311.02,-45.01\"/>\n",
       "<text text-anchor=\"middle\" x=\"294\" y=\"-57.8\" font-family=\"Times,serif\" font-size=\"14.00\">1</text>\n",
       "</g>\n",
       "</g>\n",
       "</svg>"
      ],
      "text/plain": [
       "<IPython.core.display.SVG object>"
      ]
     },
     "metadata": {},
     "output_type": "display_data"
    },
    {
     "data": {
      "text/markdown": [
       "#### Counts totals:\n",
       " - `IsingXUnitary`: 2\n",
       " - `IsingZZUnitary`: 1"
      ],
      "text/plain": [
       "<IPython.core.display.Markdown object>"
      ]
     },
     "metadata": {},
     "output_type": "display_data"
    }
   ],
   "source": [
    "from qualtran.resource_counting.generalizers import ignore_split_join\n",
    "trott_unitary_g, trott_unitary_sigma = trott_unitary.call_graph(max_depth=1, generalizer=ignore_split_join)\n",
    "show_call_graph(trott_unitary_g)\n",
    "show_counts_sigma(trott_unitary_sigma)"
   ]
  }
 ],
 "metadata": {
  "kernelspec": {
   "display_name": "Python 3",
   "language": "python",
   "name": "python3"
  },
  "language_info": {
   "codemirror_mode": {
    "name": "ipython",
    "version": 3
   },
   "file_extension": ".py",
   "mimetype": "text/x-python",
   "name": "python",
   "nbconvert_exporter": "python",
   "pygments_lexer": "ipython3",
   "version": "3.11.8"
  },
  "widgets": {
   "application/vnd.jupyter.widget-state+json": {
    "state": {
     "400afa3d4fda4df2b4aacc7eb3fed33b": {
      "model_module": "@jupyter-widgets/base",
      "model_module_version": "2.0.0",
      "model_name": "LayoutModel",
      "state": {
       "_model_module": "@jupyter-widgets/base",
       "_model_module_version": "2.0.0",
       "_model_name": "LayoutModel",
       "_view_count": null,
       "_view_module": "@jupyter-widgets/base",
       "_view_module_version": "2.0.0",
       "_view_name": "LayoutView",
       "align_content": null,
       "align_items": null,
       "align_self": null,
       "border_bottom": null,
       "border_left": null,
       "border_right": null,
       "border_top": null,
       "bottom": null,
       "display": null,
       "flex": null,
       "flex_flow": null,
       "grid_area": null,
       "grid_auto_columns": null,
       "grid_auto_flow": null,
       "grid_auto_rows": null,
       "grid_column": null,
       "grid_gap": null,
       "grid_row": null,
       "grid_template_areas": null,
       "grid_template_columns": null,
       "grid_template_rows": null,
       "height": null,
       "justify_content": null,
       "justify_items": null,
       "left": null,
       "margin": null,
       "max_height": null,
       "max_width": null,
       "min_height": null,
       "min_width": null,
       "object_fit": null,
       "object_position": null,
       "order": null,
       "overflow": null,
       "padding": null,
       "right": null,
       "top": null,
       "visibility": null,
       "width": null
      }
     },
     "7d8dc81630ad430c854f3d144dd99c74": {
      "model_module": "@jupyter-widgets/base",
      "model_module_version": "2.0.0",
      "model_name": "LayoutModel",
      "state": {
       "_model_module": "@jupyter-widgets/base",
       "_model_module_version": "2.0.0",
       "_model_name": "LayoutModel",
       "_view_count": null,
       "_view_module": "@jupyter-widgets/base",
       "_view_module_version": "2.0.0",
       "_view_name": "LayoutView",
       "align_content": null,
       "align_items": null,
       "align_self": null,
       "border_bottom": null,
       "border_left": null,
       "border_right": null,
       "border_top": null,
       "bottom": null,
       "display": null,
       "flex": null,
       "flex_flow": null,
       "grid_area": null,
       "grid_auto_columns": null,
       "grid_auto_flow": null,
       "grid_auto_rows": null,
       "grid_column": null,
       "grid_gap": null,
       "grid_row": null,
       "grid_template_areas": null,
       "grid_template_columns": null,
       "grid_template_rows": null,
       "height": null,
       "justify_content": null,
       "justify_items": null,
       "left": null,
       "margin": null,
       "max_height": null,
       "max_width": null,
       "min_height": null,
       "min_width": null,
       "object_fit": null,
       "object_position": null,
       "order": null,
       "overflow": null,
       "padding": null,
       "right": null,
       "top": null,
       "visibility": null,
       "width": null
      }
     },
     "a7b9670d54a047fc9cb522bb8b1c0add": {
      "model_module": "@jupyter-widgets/controls",
      "model_module_version": "2.0.0",
      "model_name": "HBoxModel",
      "state": {
       "_dom_classes": [],
       "_model_module": "@jupyter-widgets/controls",
       "_model_module_version": "2.0.0",
       "_model_name": "HBoxModel",
       "_view_count": null,
       "_view_module": "@jupyter-widgets/controls",
       "_view_module_version": "2.0.0",
       "_view_name": "HBoxView",
       "box_style": "",
       "children": [
        "IPY_MODEL_b793c463c9e54fcb84199da5a9e16269"
       ],
       "layout": "IPY_MODEL_400afa3d4fda4df2b4aacc7eb3fed33b",
       "tabbable": null,
       "tooltip": null
      }
     },
     "b793c463c9e54fcb84199da5a9e16269": {
      "model_module": "@jupyter-widgets/output",
      "model_module_version": "1.0.0",
      "model_name": "OutputModel",
      "state": {
       "_dom_classes": [],
       "_model_module": "@jupyter-widgets/output",
       "_model_module_version": "1.0.0",
       "_model_name": "OutputModel",
       "_view_count": null,
       "_view_module": "@jupyter-widgets/output",
       "_view_module_version": "1.0.0",
       "_view_name": "OutputView",
       "layout": "IPY_MODEL_7d8dc81630ad430c854f3d144dd99c74",
       "msg_id": "",
       "outputs": [
        {
         "data": {
          "text/markdown": "`trott_unitary`",
          "text/plain": "<IPython.core.display.Markdown object>"
         },
         "metadata": {},
         "output_type": "display_data"
        },
        {
         "data": {
          "image/svg+xml": "<svg xmlns=\"http://www.w3.org/2000/svg\" xmlns:xlink=\"http://www.w3.org/1999/xlink\" width=\"275pt\" height=\"54pt\" viewBox=\"0.00 0.00 275.00 54.00\">\n<g id=\"graph0\" class=\"graph\" transform=\"scale(1 1) rotate(0) translate(4 50)\">\n<title>my_graph</title>\n<polygon fill=\"white\" stroke=\"transparent\" points=\"-4,4 -4,-50 271,-50 271,4 -4,4\"/>\n<!-- system_G2 -->\n<g id=\"node1\" class=\"node\">\n<title>system_G2</title>\n<text text-anchor=\"middle\" x=\"27.5\" y=\"-14.3\" font-family=\"Times,serif\" font-size=\"14.00\">system</text>\n</g>\n<!-- TrotterizedUnitary -->\n<g id=\"node2\" class=\"node\">\n<title>TrotterizedUnitary</title>\n<polygon fill=\"none\" stroke=\"black\" points=\"92.5,-29 92.5,-46 175.5,-46 175.5,-29 92.5,-29\"/>\n<text text-anchor=\"start\" x=\"95.5\" y=\"-35\" font-family=\"Times,serif\" font-size=\"10.00\">TrotterizedUnitary</text>\n<polygon fill=\"none\" stroke=\"black\" points=\"92.5,-8 92.5,-29 175.5,-29 175.5,-8 92.5,-8\"/>\n<text text-anchor=\"start\" x=\"114.5\" y=\"-14.8\" font-family=\"Times,serif\" font-size=\"14.00\">system</text>\n</g>\n<!-- system_G2&#45;&gt;TrotterizedUnitary -->\n<g id=\"edge1\" class=\"edge\">\n<title>system_G2:e-&gt;TrotterizedUnitary:w</title>\n<path fill=\"none\" stroke=\"black\" d=\"M55,-18C70.67,-18 75.14,-18 89.77,-18\"/>\n<ellipse fill=\"black\" stroke=\"black\" cx=\"91\" cy=\"-18\" rx=\"1\" ry=\"1\"/>\n<text text-anchor=\"middle\" x=\"73.5\" y=\"-21\" font-family=\"Times,serif\" font-size=\"10.00\">3</text>\n</g>\n<!-- system_G0 -->\n<g id=\"node3\" class=\"node\">\n<title>system_G0</title>\n<text text-anchor=\"middle\" x=\"239.5\" y=\"-14.3\" font-family=\"Times,serif\" font-size=\"14.00\">system</text>\n</g>\n<!-- TrotterizedUnitary&#45;&gt;system_G0 -->\n<g id=\"edge2\" class=\"edge\">\n<title>TrotterizedUnitary:e-&gt;system_G0:w</title>\n<path fill=\"none\" stroke=\"black\" d=\"M175,-18C190.67,-18 195.14,-18 209.77,-18\"/>\n<ellipse fill=\"black\" stroke=\"black\" cx=\"211\" cy=\"-18\" rx=\"1\" ry=\"1\"/>\n<text text-anchor=\"middle\" x=\"193.5\" y=\"-21\" font-family=\"Times,serif\" font-size=\"10.00\">3</text>\n</g>\n</g>\n</svg>",
          "text/plain": "<IPython.core.display.SVG object>"
         },
         "metadata": {},
         "output_type": "display_data"
        }
       ],
       "tabbable": null,
       "tooltip": null
      }
     }
    },
    "version_major": 2,
    "version_minor": 0
   }
  }
 },
 "nbformat": 4,
 "nbformat_minor": 5
}
