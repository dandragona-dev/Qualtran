{
 "cells": [
  {
   "cell_type": "markdown",
   "id": "6ce87bae",
   "metadata": {
    "cq.autogen": "title_cell"
   },
   "source": [
    "# Sparse\n",
    "\n",
    "SELECT and PREPARE for the second quantized sparse chemistry Hamiltonian.\n",
    "\n",
    "Starting from the traditional second quantized chemistry Hamiltonian\n",
    "$$\n",
    "H = \\sum_\\sigma \\sum_{pq} T_{pq} a_{p\\sigma}^\\dagger a_{q\\sigma}\n",
    "+\n",
    "\\frac{1}{2}\\sum_{\\alpha\\beta}\n",
    "\\sum_{pqrs}\n",
    "V_{pqrs} a_{p\\sigma}^\\dagger a_{r\\beta}^\\dagger a_{s\\beta} a_{q\\alpha},\n",
    "$$\n",
    "where $a_{p\\sigma}$ ($a_{q\\sigma}^\\dagger$) annihilate (create) an electron in the\n",
    "$p$-th orbital of spin $\\sigma$.\n",
    "We can rewrite this expression using the Jordan-Wigner transformation as\n",
    "$$\n",
    "H = T' + V',\n",
    "$$\n",
    "where\n",
    "$$\n",
    "T' = \\frac{1}{2} \\sum_\\sigma \\sum_{pq} T_{pq}'Q_{pq\\sigma},\n",
    "$$\n",
    "$$\n",
    "V' = \\sum_{\\alpha\\beta}\\sum_{pqrs}V_{pqrs}Q_{pq\\alpha}Q_{rs\\beta},\n",
    "$$\n",
    "and $V = (pq|rs)$ are the usual two-electron integrals in chemist's notation,\n",
    "$$\n",
    "T'_{pq} = T_{pq} - \\sum_r V_{pqrr},\n",
    "$$\n",
    "and\n",
    "$$\n",
    "Q_{pq\\sigma} =\n",
    "\\begin{cases}\n",
    "X_{p\\sigma}\\vec{Z}X_{q\\sigma} & p < q \\\\\n",
    "Y_{p\\sigma}\\vec{Z}Y_{q\\sigma} & p > q \\\\\n",
    "-Z_{p\\sigma} & p = q\n",
    "\\end{cases}.\n",
    "$$\n",
    "The sparse Hamiltonian simply sets to zero any term in the Hamiltonian where\n",
    "$|V_{pqrs}|$ is less than some threshold. This reduces the\n",
    "amount of data that is required to be loaded during state preparation as only\n",
    "non-zero symmetry inequivalent terms are required (the two electron integrals\n",
    "exhibit 8-fold permutational symmetry). Symmetries are restored by initially\n",
    "appropriately weighting these non-zero terms and then using $|+\\rangle$ states\n",
    "to perform control swaps between the $pqrs$ registers."
   ]
  },
  {
   "cell_type": "code",
   "execution_count": 1,
   "id": "d176a9ce",
   "metadata": {
    "cq.autogen": "top_imports"
   },
   "outputs": [],
   "source": [
    "from qualtran import Bloq, CompositeBloq, BloqBuilder, Signature, Register\n",
    "from qualtran import QBit, QInt, QUInt, QAny\n",
    "from qualtran.drawing import show_bloq, show_call_graph, show_counts_sigma\n",
    "from typing import *\n",
    "import numpy as np\n",
    "import sympy\n",
    "import cirq"
   ]
  },
  {
   "cell_type": "markdown",
   "id": "aede18a0",
   "metadata": {
    "cq.autogen": "PrepareSparse.bloq_doc.md"
   },
   "source": [
    "## `PrepareSparse`\n",
    "Prepare oracle for the sparse chemistry Hamiltonian\n",
    "\n",
    "Prepare the state:\n",
    "\n",
    "$$\n",
    "    |0\\rangle|+\\rangle|0\\rangle|0\\rangle\n",
    "    \\sum_{\\sigma}\\sum_{pq}\n",
    "    \\sqrt{\\frac{T_{pq}'}{2\\lambda}}\n",
    "    |\\theta_{pq}^T\\rangle|pq\\sigma\\rangle|000\\rangle\n",
    "    +|1\\rangle|+\\rangle|+\\rangle|+\\rangle\n",
    "    \\sum_{\\alpha\\beta}\n",
    "    \\sum_{pqrs}\n",
    "    \\sqrt{\\frac{\\tilde{V}_{pqrs}'}{2\\lambda}}\n",
    "    |\\theta_{pqrs}^V\\rangle|pq\\alpha\\rangle|rs\\beta\\rangle\n",
    "$$\n",
    "\n",
    "#### Parameters\n",
    " - `num_spin_orb`: The number of spin orbitals.\n",
    " - `num_non_zero`: The number of non-zero matrix elements.\n",
    " - `num_bits_state_prep`: the number of bits of precision for state preparation. This will control the size of the keep register.\n",
    " - `num_bits_rot_aa`: The number of bits of precision for the single-qubit rotation for amplitude amplification during the uniform state preparation. Default 8.\n",
    " - `is_adjoint`: Whether we are apply PREPARE or PREPARE^dag\n",
    " - `log_block_size`: qroam (log) block size. \n",
    "\n",
    "#### Registers\n",
    " - `d`: the register indexing non-zero matrix elements.\n",
    " - `pqrs`: the register to store the spatial orbital index.\n",
    " - `sigma`: the register prepared for alias sampling.\n",
    " - `alpha`: spin for (pq) indicies.\n",
    " - `beta`: spin for (rs) indicies.\n",
    " - `rot_aa`: the qubit rotated for amplitude amplification.\n",
    " - `swap_pq`: a |+> state to restore the symmetries of the p and q indices.\n",
    " - `swap_rs`: a |+> state to restore the symmetries of the r and s indices.\n",
    " - `swap_pqrs`: a |+> state to restore the symmetries of between (pq) and (rs).\n",
    " - `theta`: sign qubit.\n",
    " - `alt_pqrs`: the register to store the alternate values for the spatial orbital indices.\n",
    " - `theta`: A two qubit register for the sign bit and it's alternate value.\n",
    " - `keep`: The register containing the keep values for alias sampling.\n",
    " - `less_than`: A single qubit for the result of the inequality test during alias sampling.\n",
    " - `flag_1b`: a single qubit register indicating whether to apply only the one-body SELECT.\n",
    " - `alt_flag_1b`: alternate value for flag_1b \n",
    "\n",
    "Refererences:\n",
    "    [Even More Efficient Quantum Computations of Chemistry Through Tensor\n",
    "        hypercontraction](https://arxiv.org/abs/2011.03494) Eq. A11."
   ]
  },
  {
   "cell_type": "code",
   "execution_count": 2,
   "id": "7bf1a246",
   "metadata": {
    "cq.autogen": "PrepareSparse.bloq_doc.py"
   },
   "outputs": [],
   "source": [
    "from qualtran.bloqs.chemistry.sparse import PrepareSparse"
   ]
  },
  {
   "cell_type": "markdown",
   "id": "65741ad4",
   "metadata": {
    "cq.autogen": "PrepareSparse.example_instances.md"
   },
   "source": [
    "### Example Instances"
   ]
  },
  {
   "cell_type": "code",
   "execution_count": 3,
   "id": "31ff8735",
   "metadata": {
    "cq.autogen": "PrepareSparse.prep_sparse"
   },
   "outputs": [],
   "source": [
    "from qualtran.bloqs.chemistry.sparse.prepare_test import build_random_test_integrals\n",
    "\n",
    "num_spin_orb = 6\n",
    "tpq, eris = build_random_test_integrals(num_spin_orb // 2)\n",
    "prep_sparse = PrepareSparse.from_hamiltonian_coeffs(\n",
    "    num_spin_orb, tpq, eris, num_bits_state_prep=4, log_block_size=1\n",
    ")"
   ]
  },
  {
   "cell_type": "markdown",
   "id": "60980ea8",
   "metadata": {
    "cq.autogen": "PrepareSparse.graphical_signature.md"
   },
   "source": [
    "#### Graphical Signature"
   ]
  },
  {
   "cell_type": "code",
   "execution_count": 4,
   "id": "b3182720",
   "metadata": {
    "cq.autogen": "PrepareSparse.graphical_signature.py"
   },
   "outputs": [
    {
     "data": {
      "application/vnd.jupyter.widget-view+json": {
       "model_id": "7f480cdfcc0f49508fa41a9fd6ecae4b",
       "version_major": 2,
       "version_minor": 0
      },
      "text/plain": [
       "HBox(children=(Output(outputs=({'output_type': 'display_data', 'data': {'text/plain': '<IPython.core.display.M…"
      ]
     },
     "metadata": {},
     "output_type": "display_data"
    }
   ],
   "source": [
    "from qualtran.drawing import show_bloqs\n",
    "show_bloqs([prep_sparse],\n",
    "           ['`prep_sparse`'])"
   ]
  },
  {
   "cell_type": "markdown",
   "id": "e69da753",
   "metadata": {
    "cq.autogen": "PrepareSparse.call_graph.md"
   },
   "source": [
    "### Call Graph"
   ]
  },
  {
   "cell_type": "code",
   "execution_count": 5,
   "id": "64a63e15",
   "metadata": {
    "cq.autogen": "PrepareSparse.call_graph.py"
   },
   "outputs": [
    {
     "data": {
      "image/svg+xml": [
       "<svg xmlns=\"http://www.w3.org/2000/svg\" xmlns:xlink=\"http://www.w3.org/1999/xlink\" width=\"1690pt\" height=\"131pt\" viewBox=\"0.00 0.00 1689.50 131.00\">\n",
       "<g id=\"graph0\" class=\"graph\" transform=\"scale(1 1) rotate(0) translate(4 127)\">\n",
       "<title>counts</title>\n",
       "<polygon fill=\"white\" stroke=\"transparent\" points=\"-4,4 -4,-127 1685.5,-127 1685.5,4 -4,4\"/>\n",
       "<!-- b0 -->\n",
       "<g id=\"node1\" class=\"node\">\n",
       "<title>b0</title>\n",
       "<polygon fill=\"none\" stroke=\"black\" points=\"1593.5,-123 1000.5,-123 1000.5,-87 1593.5,-87 1593.5,-123\"/>\n",
       "<text text-anchor=\"start\" x=\"1258\" y=\"-106.8\" font-family=\"Times,serif\" font-size=\"14.00\">PrepareSparse</text>\n",
       "<text text-anchor=\"start\" x=\"1008.5\" y=\"-96\" font-family=\"monospace\" font-size=\"10.00\">num_spin_orb=6, num_non_zero=27, num_bits_state_prep=4, alt_pqrs=((1, 1,  ..., [9 addtl fields].</text>\n",
       "</g>\n",
       "<!-- b1 -->\n",
       "<g id=\"node2\" class=\"node\">\n",
       "<title>b1</title>\n",
       "<polygon fill=\"none\" stroke=\"black\" points=\"180,-36 0,-36 0,0 180,0 180,-36\"/>\n",
       "<text text-anchor=\"start\" x=\"8\" y=\"-19.8\" font-family=\"Times,serif\" font-size=\"14.00\">PrepareUniformSuperposition</text>\n",
       "<text text-anchor=\"start\" x=\"53.5\" y=\"-9\" font-family=\"monospace\" font-size=\"10.00\">n=27, cvs=()</text>\n",
       "</g>\n",
       "<!-- b0&#45;&gt;b1 -->\n",
       "<g id=\"edge1\" class=\"edge\">\n",
       "<title>b0-&gt;b1</title>\n",
       "<path fill=\"none\" stroke=\"black\" d=\"M1000.25,-94.71C779.18,-85.67 469.87,-68.52 190.53,-36.23\"/>\n",
       "<polygon fill=\"black\" stroke=\"black\" points=\"190.53,-32.71 180.19,-35.03 189.72,-39.66 190.53,-32.71\"/>\n",
       "<text text-anchor=\"middle\" x=\"526.5\" y=\"-57.8\" font-family=\"Times,serif\" font-size=\"14.00\">1</text>\n",
       "</g>\n",
       "<!-- b2 -->\n",
       "<g id=\"node3\" class=\"node\">\n",
       "<title>b2</title>\n",
       "<polygon fill=\"none\" stroke=\"black\" points=\"982.5,-36 197.5,-36 197.5,0 982.5,0 982.5,-36\"/>\n",
       "<text text-anchor=\"start\" x=\"548.5\" y=\"-19.8\" font-family=\"Times,serif\" font-size=\"14.00\">QROAMClean</text>\n",
       "<text text-anchor=\"start\" x=\"205.5\" y=\"-9\" font-family=\"monospace\" font-size=\"10.00\">data_or_shape=(array([ ..., selection_bitsizes=(5,), target_bitsizes=(2, 2, 2 ..., target_shapes=((), (), ..., [3 addtl fields].</text>\n",
       "</g>\n",
       "<!-- b0&#45;&gt;b2 -->\n",
       "<g id=\"edge2\" class=\"edge\">\n",
       "<title>b0-&gt;b2</title>\n",
       "<path fill=\"none\" stroke=\"black\" d=\"M1155.2,-86.95C1035.42,-72.55 864.3,-51.98 741.78,-37.25\"/>\n",
       "<polygon fill=\"black\" stroke=\"black\" points=\"741.91,-33.74 731.56,-36.02 741.07,-40.69 741.91,-33.74\"/>\n",
       "<text text-anchor=\"middle\" x=\"989.5\" y=\"-57.8\" font-family=\"Times,serif\" font-size=\"14.00\">1</text>\n",
       "</g>\n",
       "<!-- b3 -->\n",
       "<g id=\"node4\" class=\"node\">\n",
       "<title>b3</title>\n",
       "<polygon fill=\"none\" stroke=\"black\" points=\"1251.5,-36 1000.5,-36 1000.5,0 1251.5,0 1251.5,-36\"/>\n",
       "<text text-anchor=\"start\" x=\"1110\" y=\"-19.8\" font-family=\"Times,serif\" font-size=\"14.00\">H⨂4</text>\n",
       "<text text-anchor=\"start\" x=\"1008.5\" y=\"-9\" font-family=\"monospace\" font-size=\"10.00\">n=4, gate=Hadamard(), target_dtype=None</text>\n",
       "</g>\n",
       "<!-- b0&#45;&gt;b3 -->\n",
       "<g id=\"edge3\" class=\"edge\">\n",
       "<title>b0-&gt;b3</title>\n",
       "<path fill=\"none\" stroke=\"black\" d=\"M1262.4,-86.8C1235.54,-73.45 1198.14,-54.86 1169.3,-40.52\"/>\n",
       "<polygon fill=\"black\" stroke=\"black\" points=\"1170.77,-37.35 1160.26,-36.03 1167.66,-43.62 1170.77,-37.35\"/>\n",
       "<text text-anchor=\"middle\" x=\"1225.5\" y=\"-57.8\" font-family=\"Times,serif\" font-size=\"14.00\">1</text>\n",
       "</g>\n",
       "<!-- b4 -->\n",
       "<g id=\"node5\" class=\"node\">\n",
       "<title>b4</title>\n",
       "<polygon fill=\"none\" stroke=\"black\" points=\"1324,-36 1270,-36 1270,0 1324,0 1324,-36\"/>\n",
       "<text text-anchor=\"start\" x=\"1292\" y=\"-14.3\" font-family=\"Times,serif\" font-size=\"14.00\">H</text>\n",
       "</g>\n",
       "<!-- b0&#45;&gt;b4 -->\n",
       "<g id=\"edge4\" class=\"edge\">\n",
       "<title>b0-&gt;b4</title>\n",
       "<path fill=\"none\" stroke=\"black\" d=\"M1297,-86.8C1297,-75.16 1297,-59.55 1297,-46.24\"/>\n",
       "<polygon fill=\"black\" stroke=\"black\" points=\"1300.5,-46.18 1297,-36.18 1293.5,-46.18 1300.5,-46.18\"/>\n",
       "<text text-anchor=\"middle\" x=\"1300.5\" y=\"-57.8\" font-family=\"Times,serif\" font-size=\"14.00\">3</text>\n",
       "</g>\n",
       "<!-- b5 -->\n",
       "<g id=\"node6\" class=\"node\">\n",
       "<title>b5</title>\n",
       "<polygon fill=\"none\" stroke=\"black\" points=\"1413.5,-36 1342.5,-36 1342.5,0 1413.5,0 1413.5,-36\"/>\n",
       "<text text-anchor=\"start\" x=\"1358\" y=\"-19.8\" font-family=\"Times,serif\" font-size=\"14.00\">CSwap</text>\n",
       "<text text-anchor=\"start\" x=\"1350.5\" y=\"-9\" font-family=\"monospace\" font-size=\"10.00\">bitsize=1</text>\n",
       "</g>\n",
       "<!-- b0&#45;&gt;b5 -->\n",
       "<g id=\"edge5\" class=\"edge\">\n",
       "<title>b0-&gt;b5</title>\n",
       "<path fill=\"none\" stroke=\"black\" d=\"M1313.39,-86.8C1325.25,-74.36 1341.44,-57.36 1354.65,-43.5\"/>\n",
       "<polygon fill=\"black\" stroke=\"black\" points=\"1357.27,-45.83 1361.63,-36.18 1352.2,-41 1357.27,-45.83\"/>\n",
       "<text text-anchor=\"middle\" x=\"1346.5\" y=\"-57.8\" font-family=\"Times,serif\" font-size=\"14.00\">1</text>\n",
       "</g>\n",
       "<!-- b6 -->\n",
       "<g id=\"node7\" class=\"node\">\n",
       "<title>b6</title>\n",
       "<polygon fill=\"none\" stroke=\"black\" points=\"1502.5,-36 1431.5,-36 1431.5,0 1502.5,0 1502.5,-36\"/>\n",
       "<text text-anchor=\"start\" x=\"1447\" y=\"-19.8\" font-family=\"Times,serif\" font-size=\"14.00\">CSwap</text>\n",
       "<text text-anchor=\"start\" x=\"1439.5\" y=\"-9\" font-family=\"monospace\" font-size=\"10.00\">bitsize=2</text>\n",
       "</g>\n",
       "<!-- b0&#45;&gt;b6 -->\n",
       "<g id=\"edge6\" class=\"edge\">\n",
       "<title>b0-&gt;b6</title>\n",
       "<path fill=\"none\" stroke=\"black\" d=\"M1331.4,-86.8C1358.1,-73.45 1395.28,-54.86 1423.95,-40.52\"/>\n",
       "<polygon fill=\"black\" stroke=\"black\" points=\"1425.56,-43.63 1432.94,-36.03 1422.43,-37.37 1425.56,-43.63\"/>\n",
       "<text text-anchor=\"middle\" x=\"1396.5\" y=\"-57.8\" font-family=\"Times,serif\" font-size=\"14.00\">8</text>\n",
       "</g>\n",
       "<!-- b7 -->\n",
       "<g id=\"node8\" class=\"node\">\n",
       "<title>b7</title>\n",
       "<polygon fill=\"none\" stroke=\"black\" points=\"1681.5,-36 1520.5,-36 1520.5,0 1681.5,0 1681.5,-36\"/>\n",
       "<text text-anchor=\"start\" x=\"1558.5\" y=\"-19.8\" font-family=\"Times,serif\" font-size=\"14.00\">LessThanEqual</text>\n",
       "<text text-anchor=\"start\" x=\"1528.5\" y=\"-9\" font-family=\"monospace\" font-size=\"10.00\">x_bitsize=4, y_bitsize=4</text>\n",
       "</g>\n",
       "<!-- b0&#45;&gt;b7 -->\n",
       "<g id=\"edge7\" class=\"edge\">\n",
       "<title>b0-&gt;b7</title>\n",
       "<path fill=\"none\" stroke=\"black\" d=\"M1358.15,-86.9C1407.83,-73.01 1477.97,-53.4 1530.1,-38.82\"/>\n",
       "<polygon fill=\"black\" stroke=\"black\" points=\"1531.26,-42.14 1539.94,-36.07 1529.37,-35.39 1531.26,-42.14\"/>\n",
       "<text text-anchor=\"middle\" x=\"1471.5\" y=\"-57.8\" font-family=\"Times,serif\" font-size=\"14.00\">1</text>\n",
       "</g>\n",
       "</g>\n",
       "</svg>"
      ],
      "text/plain": [
       "<IPython.core.display.SVG object>"
      ]
     },
     "metadata": {},
     "output_type": "display_data"
    },
    {
     "data": {
      "text/markdown": [
       "#### Counts totals:\n",
       " - `CSwap`: 1\n",
       " - `CSwap`: 8\n",
       " - `H`: 3\n",
       " - `H⨂4`: 1\n",
       " - `LessThanEqual`: 1\n",
       " - `PrepareUniformSuperposition`: 1\n",
       " - `QROAMClean`: 1"
      ],
      "text/plain": [
       "<IPython.core.display.Markdown object>"
      ]
     },
     "metadata": {},
     "output_type": "display_data"
    }
   ],
   "source": [
    "from qualtran.resource_counting.generalizers import ignore_split_join\n",
    "prep_sparse_g, prep_sparse_sigma = prep_sparse.call_graph(max_depth=1, generalizer=ignore_split_join)\n",
    "show_call_graph(prep_sparse_g)\n",
    "show_counts_sigma(prep_sparse_sigma)"
   ]
  },
  {
   "cell_type": "markdown",
   "id": "e9458750",
   "metadata": {
    "cq.autogen": "SelectSparse.bloq_doc.md"
   },
   "source": [
    "## `SelectSparse`\n",
    "SELECT oracle for the sparse Hamiltonian.\n",
    "\n",
    "Implements the two applications of Fig. 13.\n",
    "\n",
    "#### Parameters\n",
    " - `num_spin_orb`: The number of spin orbitals. Typically called N.\n",
    " - `control_val`: The control value. If None, then the bloq is not controlled. \n",
    "\n",
    "#### Registers\n",
    " - `flag_1b`: a single qubit to flag whether the one-body Hamiltonian is to be applied or not during SELECT.\n",
    " - `swap_pq`: a |+> state to restore the symmetries of the p and q indices.\n",
    " - `swap_rs`: a |+> state to restore the symmetries of the r and s indices.\n",
    " - `swap_pqrs`: a |+> state to restore the symmetries of between (pq) and (rs).\n",
    " - `theta`: sign qubit.\n",
    " - `pqrs`: the register to store the spatial orbital index.\n",
    " - `alpha`: spin for (pq) indicies.\n",
    " - `beta`: spin for (rs) indicies. \n",
    "\n",
    "Refererences:\n",
    "    [Even More Efficient Quantum Computations of Chemistry Through Tensor\n",
    "        hypercontraction](https://arxiv.org/abs/2011.03494) Fig 13."
   ]
  },
  {
   "cell_type": "code",
   "execution_count": 6,
   "id": "51d1ee6f",
   "metadata": {
    "cq.autogen": "SelectSparse.bloq_doc.py"
   },
   "outputs": [],
   "source": [
    "from qualtran.bloqs.chemistry.sparse import SelectSparse"
   ]
  },
  {
   "cell_type": "markdown",
   "id": "678e33e3",
   "metadata": {
    "cq.autogen": "SelectSparse.example_instances.md"
   },
   "source": [
    "### Example Instances"
   ]
  },
  {
   "cell_type": "code",
   "execution_count": 7,
   "id": "3855993c",
   "metadata": {
    "cq.autogen": "SelectSparse.sel_sparse"
   },
   "outputs": [],
   "source": [
    "num_spin_orb = 4\n",
    "sel_sparse = SelectSparse(num_spin_orb)"
   ]
  },
  {
   "cell_type": "markdown",
   "id": "98285824",
   "metadata": {
    "cq.autogen": "SelectSparse.graphical_signature.md"
   },
   "source": [
    "#### Graphical Signature"
   ]
  },
  {
   "cell_type": "code",
   "execution_count": 8,
   "id": "d004038c",
   "metadata": {
    "cq.autogen": "SelectSparse.graphical_signature.py"
   },
   "outputs": [
    {
     "data": {
      "application/vnd.jupyter.widget-view+json": {
       "model_id": "d448f94eecc84ae58a1b74d4564dd69c",
       "version_major": 2,
       "version_minor": 0
      },
      "text/plain": [
       "HBox(children=(Output(outputs=({'output_type': 'display_data', 'data': {'text/plain': '<IPython.core.display.M…"
      ]
     },
     "metadata": {},
     "output_type": "display_data"
    }
   ],
   "source": [
    "from qualtran.drawing import show_bloqs\n",
    "show_bloqs([sel_sparse],\n",
    "           ['`sel_sparse`'])"
   ]
  },
  {
   "cell_type": "markdown",
   "id": "e424340b",
   "metadata": {
    "cq.autogen": "SelectSparse.call_graph.md"
   },
   "source": [
    "### Call Graph"
   ]
  },
  {
   "cell_type": "code",
   "execution_count": 9,
   "id": "7039385b",
   "metadata": {
    "cq.autogen": "SelectSparse.call_graph.py"
   },
   "outputs": [
    {
     "data": {
      "image/svg+xml": [
       "<svg xmlns=\"http://www.w3.org/2000/svg\" xmlns:xlink=\"http://www.w3.org/1999/xlink\" width=\"1917pt\" height=\"131pt\" viewBox=\"0.00 0.00 1917.00 131.00\">\n",
       "<g id=\"graph0\" class=\"graph\" transform=\"scale(1 1) rotate(0) translate(4 127)\">\n",
       "<title>counts</title>\n",
       "<polygon fill=\"white\" stroke=\"transparent\" points=\"-4,4 -4,-127 1913,-127 1913,4 -4,4\"/>\n",
       "<!-- b0 -->\n",
       "<g id=\"node1\" class=\"node\">\n",
       "<title>b0</title>\n",
       "<polygon fill=\"none\" stroke=\"black\" points=\"885,-123 676,-123 676,-87 885,-87 885,-123\"/>\n",
       "<text text-anchor=\"start\" x=\"745.5\" y=\"-106.8\" font-family=\"Times,serif\" font-size=\"14.00\">SelectSparse</text>\n",
       "<text text-anchor=\"start\" x=\"684\" y=\"-96\" font-family=\"monospace\" font-size=\"10.00\">num_spin_orb=4, control_val=None</text>\n",
       "</g>\n",
       "<!-- b1 -->\n",
       "<g id=\"node2\" class=\"node\">\n",
       "<title>b1</title>\n",
       "<polygon fill=\"none\" stroke=\"black\" points=\"113,-36 0,-36 0,0 113,0 113,-36\"/>\n",
       "<text text-anchor=\"start\" x=\"52.5\" y=\"-19.8\" font-family=\"Times,serif\" font-size=\"14.00\">S</text>\n",
       "<text text-anchor=\"start\" x=\"8\" y=\"-9\" font-family=\"monospace\" font-size=\"10.00\">is_adjoint=False</text>\n",
       "</g>\n",
       "<!-- b0&#45;&gt;b1 -->\n",
       "<g id=\"edge1\" class=\"edge\">\n",
       "<title>b0-&gt;b1</title>\n",
       "<path fill=\"none\" stroke=\"black\" d=\"M675.94,-98.16C547.55,-89.88 323.19,-71.8 123.21,-36.17\"/>\n",
       "<polygon fill=\"black\" stroke=\"black\" points=\"123.57,-32.68 113.11,-34.35 122.33,-39.57 123.57,-32.68\"/>\n",
       "<text text-anchor=\"middle\" x=\"342\" y=\"-57.8\" font-family=\"Times,serif\" font-size=\"14.00\">1</text>\n",
       "</g>\n",
       "<!-- b2 -->\n",
       "<g id=\"node3\" class=\"node\">\n",
       "<title>b2</title>\n",
       "<polygon fill=\"none\" stroke=\"black\" points=\"532,-36 131,-36 131,0 532,0 532,-36\"/>\n",
       "<text text-anchor=\"start\" x=\"249.5\" y=\"-19.8\" font-family=\"Times,serif\" font-size=\"14.00\">SelectedMajoranaFermion(X)</text>\n",
       "<text text-anchor=\"start\" x=\"139\" y=\"-9\" font-family=\"monospace\" font-size=\"10.00\">selection_regs=(Registe ..., control_regs=(), target_gate=cirq.X</text>\n",
       "</g>\n",
       "<!-- b0&#45;&gt;b2 -->\n",
       "<g id=\"edge2\" class=\"edge\">\n",
       "<title>b0-&gt;b2</title>\n",
       "<path fill=\"none\" stroke=\"black\" d=\"M690.45,-86.95C615.6,-72.78 509.19,-52.64 431.66,-37.96\"/>\n",
       "<polygon fill=\"black\" stroke=\"black\" points=\"431.88,-34.44 421.4,-36.02 430.58,-41.32 431.88,-34.44\"/>\n",
       "<text text-anchor=\"middle\" x=\"587\" y=\"-57.8\" font-family=\"Times,serif\" font-size=\"14.00\">1</text>\n",
       "</g>\n",
       "<!-- b3 -->\n",
       "<g id=\"node4\" class=\"node\">\n",
       "<title>b3</title>\n",
       "<polygon fill=\"none\" stroke=\"black\" points=\"1011,-36 550,-36 550,0 1011,0 1011,-36\"/>\n",
       "<text text-anchor=\"start\" x=\"698.5\" y=\"-19.8\" font-family=\"Times,serif\" font-size=\"14.00\">SelectedMajoranaFermion(X)</text>\n",
       "<text text-anchor=\"start\" x=\"558\" y=\"-9\" font-family=\"monospace\" font-size=\"10.00\">selection_regs=(Registe ..., control_regs=(Registe ..., target_gate=cirq.X</text>\n",
       "</g>\n",
       "<!-- b0&#45;&gt;b3 -->\n",
       "<g id=\"edge3\" class=\"edge\">\n",
       "<title>b0-&gt;b3</title>\n",
       "<path fill=\"none\" stroke=\"black\" d=\"M780.5,-86.8C780.5,-75.16 780.5,-59.55 780.5,-46.24\"/>\n",
       "<polygon fill=\"black\" stroke=\"black\" points=\"784,-46.18 780.5,-36.18 777,-46.18 784,-46.18\"/>\n",
       "<text text-anchor=\"middle\" x=\"784\" y=\"-57.8\" font-family=\"Times,serif\" font-size=\"14.00\">1</text>\n",
       "</g>\n",
       "<!-- b4 -->\n",
       "<g id=\"node5\" class=\"node\">\n",
       "<title>b4</title>\n",
       "<polygon fill=\"none\" stroke=\"black\" points=\"1430,-36 1029,-36 1029,0 1430,0 1430,-36\"/>\n",
       "<text text-anchor=\"start\" x=\"1147.5\" y=\"-19.8\" font-family=\"Times,serif\" font-size=\"14.00\">SelectedMajoranaFermion(Y)</text>\n",
       "<text text-anchor=\"start\" x=\"1037\" y=\"-9\" font-family=\"monospace\" font-size=\"10.00\">selection_regs=(Registe ..., control_regs=(), target_gate=cirq.Y</text>\n",
       "</g>\n",
       "<!-- b0&#45;&gt;b4 -->\n",
       "<g id=\"edge4\" class=\"edge\">\n",
       "<title>b0-&gt;b4</title>\n",
       "<path fill=\"none\" stroke=\"black\" d=\"M870.55,-86.95C945.4,-72.78 1051.81,-52.64 1129.34,-37.96\"/>\n",
       "<polygon fill=\"black\" stroke=\"black\" points=\"1130.42,-41.32 1139.6,-36.02 1129.12,-34.44 1130.42,-41.32\"/>\n",
       "<text text-anchor=\"middle\" x=\"1036\" y=\"-57.8\" font-family=\"Times,serif\" font-size=\"14.00\">1</text>\n",
       "</g>\n",
       "<!-- b5 -->\n",
       "<g id=\"node6\" class=\"node\">\n",
       "<title>b5</title>\n",
       "<polygon fill=\"none\" stroke=\"black\" points=\"1909,-36 1448,-36 1448,0 1909,0 1909,-36\"/>\n",
       "<text text-anchor=\"start\" x=\"1596.5\" y=\"-19.8\" font-family=\"Times,serif\" font-size=\"14.00\">SelectedMajoranaFermion(Y)</text>\n",
       "<text text-anchor=\"start\" x=\"1456\" y=\"-9\" font-family=\"monospace\" font-size=\"10.00\">selection_regs=(Registe ..., control_regs=(Registe ..., target_gate=cirq.Y</text>\n",
       "</g>\n",
       "<!-- b0&#45;&gt;b5 -->\n",
       "<g id=\"edge5\" class=\"edge\">\n",
       "<title>b0-&gt;b5</title>\n",
       "<path fill=\"none\" stroke=\"black\" d=\"M885.27,-94.08C1032.92,-80.11 1304.68,-54.38 1488.47,-36.99\"/>\n",
       "<polygon fill=\"black\" stroke=\"black\" points=\"1488.9,-40.46 1498.53,-36.04 1488.24,-33.49 1488.9,-40.46\"/>\n",
       "<text text-anchor=\"middle\" x=\"1287\" y=\"-57.8\" font-family=\"Times,serif\" font-size=\"14.00\">1</text>\n",
       "</g>\n",
       "</g>\n",
       "</svg>"
      ],
      "text/plain": [
       "<IPython.core.display.SVG object>"
      ]
     },
     "metadata": {},
     "output_type": "display_data"
    },
    {
     "data": {
      "text/markdown": [
       "#### Counts totals:\n",
       " - `S`: 1\n",
       " - `SelectedMajoranaFermion(X)`: 1\n",
       " - `SelectedMajoranaFermion(X)`: 1\n",
       " - `SelectedMajoranaFermion(Y)`: 1\n",
       " - `SelectedMajoranaFermion(Y)`: 1"
      ],
      "text/plain": [
       "<IPython.core.display.Markdown object>"
      ]
     },
     "metadata": {},
     "output_type": "display_data"
    }
   ],
   "source": [
    "from qualtran.resource_counting.generalizers import ignore_split_join\n",
    "sel_sparse_g, sel_sparse_sigma = sel_sparse.call_graph(max_depth=1, generalizer=ignore_split_join)\n",
    "show_call_graph(sel_sparse_g)\n",
    "show_counts_sigma(sel_sparse_sigma)"
   ]
  }
 ],
 "metadata": {
  "kernelspec": {
   "display_name": "Python 3",
   "language": "python",
   "name": "python3"
  },
  "language_info": {
   "codemirror_mode": {
    "name": "ipython",
    "version": 3
   },
   "file_extension": ".py",
   "mimetype": "text/x-python",
   "name": "python",
   "nbconvert_exporter": "python",
   "pygments_lexer": "ipython3",
   "version": "3.11.8"
  },
  "widgets": {
   "application/vnd.jupyter.widget-state+json": {
    "state": {
     "229c4eb65568420da6166e52d4f6db91": {
      "model_module": "@jupyter-widgets/output",
      "model_module_version": "1.0.0",
      "model_name": "OutputModel",
      "state": {
       "_dom_classes": [],
       "_model_module": "@jupyter-widgets/output",
       "_model_module_version": "1.0.0",
       "_model_name": "OutputModel",
       "_view_count": null,
       "_view_module": "@jupyter-widgets/output",
       "_view_module_version": "1.0.0",
       "_view_name": "OutputView",
       "layout": "IPY_MODEL_916fb2a579af4a5eb7a0da6da7906568",
       "msg_id": "",
       "outputs": [
        {
         "data": {
          "text/markdown": "`prep_sparse`",
          "text/plain": "<IPython.core.display.Markdown object>"
         },
         "metadata": {},
         "output_type": "display_data"
        },
        {
         "data": {
          "image/svg+xml": "<svg xmlns=\"http://www.w3.org/2000/svg\" xmlns:xlink=\"http://www.w3.org/1999/xlink\" width=\"388pt\" height=\"1880pt\" viewBox=\"0.00 0.00 388.00 1880.00\">\n<g id=\"graph0\" class=\"graph\" transform=\"scale(1 1) rotate(0) translate(4 1876)\">\n<title>my_graph</title>\n<polygon fill=\"white\" stroke=\"transparent\" points=\"-4,4 -4,-1876 384,-1876 384,4 -4,4\"/>\n<!-- d_G12 -->\n<g id=\"node1\" class=\"node\">\n<title>d_G12</title>\n<text text-anchor=\"middle\" x=\"37\" y=\"-1422.3\" font-family=\"Times,serif\" font-size=\"14.00\">d</text>\n</g>\n<!-- PrepareSparse -->\n<g id=\"node10\" class=\"node\">\n<title>PrepareSparse</title>\n<polygon fill=\"none\" stroke=\"black\" points=\"111,-1304 111,-1321 225,-1321 225,-1304 111,-1304\"/>\n<text text-anchor=\"start\" x=\"139.5\" y=\"-1310\" font-family=\"Times,serif\" font-size=\"10.00\">PrepareSparse</text>\n<polygon fill=\"none\" stroke=\"black\" points=\"111,-1283 111,-1304 225,-1304 225,-1283 111,-1283\"/>\n<text text-anchor=\"start\" x=\"164.5\" y=\"-1289.8\" font-family=\"Times,serif\" font-size=\"14.00\">d</text>\n<polygon fill=\"none\" stroke=\"black\" points=\"111,-1262 111,-1283 225,-1283 225,-1262 111,-1262\"/>\n<text text-anchor=\"start\" x=\"151\" y=\"-1268.8\" font-family=\"Times,serif\" font-size=\"14.00\">sigma</text>\n<polygon fill=\"none\" stroke=\"black\" points=\"111,-1241 111,-1262 225,-1262 225,-1241 111,-1241\"/>\n<text text-anchor=\"start\" x=\"153\" y=\"-1247.8\" font-family=\"Times,serif\" font-size=\"14.00\">alpha</text>\n<polygon fill=\"none\" stroke=\"black\" points=\"111,-1220 111,-1241 225,-1241 225,-1220 111,-1220\"/>\n<text text-anchor=\"start\" x=\"156.5\" y=\"-1226.8\" font-family=\"Times,serif\" font-size=\"14.00\">beta</text>\n<polygon fill=\"none\" stroke=\"black\" points=\"111,-1199 111,-1220 225,-1220 225,-1199 111,-1199\"/>\n<text text-anchor=\"start\" x=\"151\" y=\"-1205.8\" font-family=\"Times,serif\" font-size=\"14.00\">rot_aa</text>\n<polygon fill=\"none\" stroke=\"black\" points=\"111,-1178 111,-1199 225,-1199 225,-1178 111,-1178\"/>\n<text text-anchor=\"start\" x=\"143.5\" y=\"-1184.8\" font-family=\"Times,serif\" font-size=\"14.00\">swap_pq</text>\n<polygon fill=\"none\" stroke=\"black\" points=\"111,-1157 111,-1178 225,-1178 225,-1157 111,-1157\"/>\n<text text-anchor=\"start\" x=\"145.5\" y=\"-1163.8\" font-family=\"Times,serif\" font-size=\"14.00\">swap_rs</text>\n<polygon fill=\"none\" stroke=\"black\" points=\"111,-1136 111,-1157 225,-1157 225,-1136 111,-1136\"/>\n<text text-anchor=\"start\" x=\"139\" y=\"-1142.8\" font-family=\"Times,serif\" font-size=\"14.00\">swap_pqrs</text>\n<polygon fill=\"none\" stroke=\"black\" points=\"111,-1115 111,-1136 225,-1136 225,-1115 111,-1115\"/>\n<text text-anchor=\"start\" x=\"142.5\" y=\"-1121.8\" font-family=\"Times,serif\" font-size=\"14.00\">less_than</text>\n<polygon fill=\"none\" stroke=\"black\" points=\"111,-1094 111,-1115 117,-1115 117,-1094 111,-1094\"/>\n<polygon fill=\"none\" stroke=\"black\" points=\"117,-1094 117,-1115 225,-1115 225,-1094 117,-1094\"/>\n<text text-anchor=\"start\" x=\"167.5\" y=\"-1100.8\" font-family=\"Times,serif\" font-size=\"14.00\">p</text>\n<polygon fill=\"none\" stroke=\"black\" points=\"111,-1073 111,-1094 117,-1094 117,-1073 111,-1073\"/>\n<polygon fill=\"none\" stroke=\"black\" points=\"117,-1073 117,-1094 225,-1094 225,-1073 117,-1073\"/>\n<text text-anchor=\"start\" x=\"167.5\" y=\"-1079.8\" font-family=\"Times,serif\" font-size=\"14.00\">q</text>\n<polygon fill=\"none\" stroke=\"black\" points=\"111,-1052 111,-1073 117,-1073 117,-1052 111,-1052\"/>\n<polygon fill=\"none\" stroke=\"black\" points=\"117,-1052 117,-1073 225,-1073 225,-1052 117,-1052\"/>\n<text text-anchor=\"start\" x=\"168.5\" y=\"-1058.8\" font-family=\"Times,serif\" font-size=\"14.00\">r</text>\n<polygon fill=\"none\" stroke=\"black\" points=\"111,-1031 111,-1052 117,-1052 117,-1031 111,-1031\"/>\n<polygon fill=\"none\" stroke=\"black\" points=\"117,-1031 117,-1052 225,-1052 225,-1031 117,-1031\"/>\n<text text-anchor=\"start\" x=\"168\" y=\"-1037.8\" font-family=\"Times,serif\" font-size=\"14.00\">s</text>\n<polygon fill=\"none\" stroke=\"black\" points=\"111,-1010 111,-1031 117,-1031 117,-1010 111,-1010\"/>\n<polygon fill=\"none\" stroke=\"black\" points=\"117,-1010 117,-1031 225,-1031 225,-1010 117,-1010\"/>\n<text text-anchor=\"start\" x=\"157.5\" y=\"-1016.8\" font-family=\"Times,serif\" font-size=\"14.00\">theta</text>\n<polygon fill=\"none\" stroke=\"black\" points=\"111,-989 111,-1010 117,-1010 117,-989 111,-989\"/>\n<polygon fill=\"none\" stroke=\"black\" points=\"117,-989 117,-1010 225,-1010 225,-989 117,-989\"/>\n<text text-anchor=\"start\" x=\"150\" y=\"-995.8\" font-family=\"Times,serif\" font-size=\"14.00\">flag_1b</text>\n<polygon fill=\"none\" stroke=\"black\" points=\"111,-968 111,-989 117,-989 117,-968 111,-968\"/>\n<polygon fill=\"none\" stroke=\"black\" points=\"117,-968 117,-989 225,-989 225,-968 117,-968\"/>\n<text text-anchor=\"start\" x=\"157\" y=\"-974.8\" font-family=\"Times,serif\" font-size=\"14.00\">alt_p</text>\n<polygon fill=\"none\" stroke=\"black\" points=\"111,-947 111,-968 117,-968 117,-947 111,-947\"/>\n<polygon fill=\"none\" stroke=\"black\" points=\"117,-947 117,-968 225,-968 225,-947 117,-947\"/>\n<text text-anchor=\"start\" x=\"157\" y=\"-953.8\" font-family=\"Times,serif\" font-size=\"14.00\">alt_q</text>\n<polygon fill=\"none\" stroke=\"black\" points=\"111,-926 111,-947 117,-947 117,-926 111,-926\"/>\n<polygon fill=\"none\" stroke=\"black\" points=\"117,-926 117,-947 225,-947 225,-926 117,-926\"/>\n<text text-anchor=\"start\" x=\"158.5\" y=\"-932.8\" font-family=\"Times,serif\" font-size=\"14.00\">alt_r</text>\n<polygon fill=\"none\" stroke=\"black\" points=\"111,-905 111,-926 117,-926 117,-905 111,-905\"/>\n<polygon fill=\"none\" stroke=\"black\" points=\"117,-905 117,-926 225,-926 225,-905 117,-905\"/>\n<text text-anchor=\"start\" x=\"158\" y=\"-911.8\" font-family=\"Times,serif\" font-size=\"14.00\">alt_s</text>\n<polygon fill=\"none\" stroke=\"black\" points=\"111,-884 111,-905 117,-905 117,-884 111,-884\"/>\n<polygon fill=\"none\" stroke=\"black\" points=\"117,-884 117,-905 225,-905 225,-884 117,-884\"/>\n<text text-anchor=\"start\" x=\"147.5\" y=\"-890.8\" font-family=\"Times,serif\" font-size=\"14.00\">alt_theta</text>\n<polygon fill=\"none\" stroke=\"black\" points=\"111,-863 111,-884 117,-884 117,-863 111,-863\"/>\n<polygon fill=\"none\" stroke=\"black\" points=\"117,-863 117,-884 225,-884 225,-863 117,-863\"/>\n<text text-anchor=\"start\" x=\"140\" y=\"-869.8\" font-family=\"Times,serif\" font-size=\"14.00\">alt_flag_1b</text>\n<polygon fill=\"none\" stroke=\"black\" points=\"111,-842 111,-863 117,-863 117,-842 111,-842\"/>\n<polygon fill=\"none\" stroke=\"black\" points=\"117,-842 117,-863 225,-863 225,-842 117,-842\"/>\n<text text-anchor=\"start\" x=\"158\" y=\"-848.8\" font-family=\"Times,serif\" font-size=\"14.00\">keep</text>\n<polygon fill=\"none\" stroke=\"black\" points=\"111,-821 111,-842 117,-842 117,-821 111,-821\"/>\n<polygon fill=\"none\" stroke=\"black\" points=\"117,-821 117,-842 225,-842 225,-821 117,-821\"/>\n<text text-anchor=\"start\" x=\"147.5\" y=\"-827.8\" font-family=\"Times,serif\" font-size=\"14.00\">jnk_p[0]</text>\n<polygon fill=\"none\" stroke=\"black\" points=\"111,-800 111,-821 117,-821 117,-800 111,-800\"/>\n<polygon fill=\"none\" stroke=\"black\" points=\"117,-800 117,-821 225,-821 225,-800 117,-800\"/>\n<text text-anchor=\"start\" x=\"147.5\" y=\"-806.8\" font-family=\"Times,serif\" font-size=\"14.00\">jnk_q[0]</text>\n<polygon fill=\"none\" stroke=\"black\" points=\"111,-779 111,-800 117,-800 117,-779 111,-779\"/>\n<polygon fill=\"none\" stroke=\"black\" points=\"117,-779 117,-800 225,-800 225,-779 117,-779\"/>\n<text text-anchor=\"start\" x=\"148.5\" y=\"-785.8\" font-family=\"Times,serif\" font-size=\"14.00\">jnk_r[0]</text>\n<polygon fill=\"none\" stroke=\"black\" points=\"111,-758 111,-779 117,-779 117,-758 111,-758\"/>\n<polygon fill=\"none\" stroke=\"black\" points=\"117,-758 117,-779 225,-779 225,-758 117,-758\"/>\n<text text-anchor=\"start\" x=\"148\" y=\"-764.8\" font-family=\"Times,serif\" font-size=\"14.00\">jnk_s[0]</text>\n<polygon fill=\"none\" stroke=\"black\" points=\"111,-737 111,-758 117,-758 117,-737 111,-737\"/>\n<polygon fill=\"none\" stroke=\"black\" points=\"117,-737 117,-758 225,-758 225,-737 117,-737\"/>\n<text text-anchor=\"start\" x=\"137.5\" y=\"-743.8\" font-family=\"Times,serif\" font-size=\"14.00\">jnk_theta[0]</text>\n<polygon fill=\"none\" stroke=\"black\" points=\"111,-716 111,-737 117,-737 117,-716 111,-716\"/>\n<polygon fill=\"none\" stroke=\"black\" points=\"117,-716 117,-737 225,-737 225,-716 117,-716\"/>\n<text text-anchor=\"start\" x=\"130\" y=\"-722.8\" font-family=\"Times,serif\" font-size=\"14.00\">jnk_flag_1b[0]</text>\n<polygon fill=\"none\" stroke=\"black\" points=\"111,-695 111,-716 117,-716 117,-695 111,-695\"/>\n<polygon fill=\"none\" stroke=\"black\" points=\"117,-695 117,-716 225,-716 225,-695 117,-695\"/>\n<text text-anchor=\"start\" x=\"137.5\" y=\"-701.8\" font-family=\"Times,serif\" font-size=\"14.00\">jnk_alt_p[0]</text>\n<polygon fill=\"none\" stroke=\"black\" points=\"111,-674 111,-695 117,-695 117,-674 111,-674\"/>\n<polygon fill=\"none\" stroke=\"black\" points=\"117,-674 117,-695 225,-695 225,-674 117,-674\"/>\n<text text-anchor=\"start\" x=\"137.5\" y=\"-680.8\" font-family=\"Times,serif\" font-size=\"14.00\">jnk_alt_q[0]</text>\n<polygon fill=\"none\" stroke=\"black\" points=\"111,-653 111,-674 117,-674 117,-653 111,-653\"/>\n<polygon fill=\"none\" stroke=\"black\" points=\"117,-653 117,-674 225,-674 225,-653 117,-653\"/>\n<text text-anchor=\"start\" x=\"138.5\" y=\"-659.8\" font-family=\"Times,serif\" font-size=\"14.00\">jnk_alt_r[0]</text>\n<polygon fill=\"none\" stroke=\"black\" points=\"111,-632 111,-653 117,-653 117,-632 111,-632\"/>\n<polygon fill=\"none\" stroke=\"black\" points=\"117,-632 117,-653 225,-653 225,-632 117,-632\"/>\n<text text-anchor=\"start\" x=\"138\" y=\"-638.8\" font-family=\"Times,serif\" font-size=\"14.00\">jnk_alt_s[0]</text>\n<polygon fill=\"none\" stroke=\"black\" points=\"111,-611 111,-632 117,-632 117,-611 111,-611\"/>\n<polygon fill=\"none\" stroke=\"black\" points=\"117,-611 117,-632 225,-632 225,-611 117,-611\"/>\n<text text-anchor=\"start\" x=\"127.5\" y=\"-617.8\" font-family=\"Times,serif\" font-size=\"14.00\">jnk_alt_theta[0]</text>\n<polygon fill=\"none\" stroke=\"black\" points=\"111,-590 111,-611 117,-611 117,-590 111,-590\"/>\n<polygon fill=\"none\" stroke=\"black\" points=\"117,-590 117,-611 225,-611 225,-590 117,-590\"/>\n<text text-anchor=\"start\" x=\"120\" y=\"-596.8\" font-family=\"Times,serif\" font-size=\"14.00\">jnk_alt_flag_1b[0]</text>\n<polygon fill=\"none\" stroke=\"black\" points=\"111,-569 111,-590 117,-590 117,-569 111,-569\"/>\n<polygon fill=\"none\" stroke=\"black\" points=\"117,-569 117,-590 225,-590 225,-569 117,-569\"/>\n<text text-anchor=\"start\" x=\"138\" y=\"-575.8\" font-family=\"Times,serif\" font-size=\"14.00\">jnk_keep[0]</text>\n</g>\n<!-- d_G12&#45;&gt;PrepareSparse -->\n<g id=\"edge1\" class=\"edge\">\n<title>d_G12:e-&gt;PrepareSparse:w</title>\n<path fill=\"none\" stroke=\"black\" d=\"M65,-1426C126.4,-1426 50.69,-1297.08 108.87,-1294.05\"/>\n<ellipse fill=\"black\" stroke=\"black\" cx=\"110\" cy=\"-1294.03\" rx=\"1\" ry=\"1\"/>\n<text text-anchor=\"middle\" x=\"92.5\" y=\"-1304\" font-family=\"Times,serif\" font-size=\"10.00\">5</text>\n</g>\n<!-- sigma_G10 -->\n<g id=\"node2\" class=\"node\">\n<title>sigma_G10</title>\n<text text-anchor=\"middle\" x=\"37\" y=\"-1368.3\" font-family=\"Times,serif\" font-size=\"14.00\">sigma</text>\n</g>\n<!-- sigma_G10&#45;&gt;PrepareSparse -->\n<g id=\"edge2\" class=\"edge\">\n<title>sigma_G10:e-&gt;PrepareSparse:w</title>\n<path fill=\"none\" stroke=\"black\" d=\"M65,-1372C112.76,-1372 64.05,-1276.07 108.8,-1273.07\"/>\n<ellipse fill=\"black\" stroke=\"black\" cx=\"110\" cy=\"-1273.03\" rx=\"1\" ry=\"1\"/>\n<text text-anchor=\"middle\" x=\"92.5\" y=\"-1286\" font-family=\"Times,serif\" font-size=\"10.00\">4</text>\n</g>\n<!-- alpha_G75 -->\n<g id=\"node3\" class=\"node\">\n<title>alpha_G75</title>\n<text text-anchor=\"middle\" x=\"37\" y=\"-1314.3\" font-family=\"Times,serif\" font-size=\"14.00\">alpha</text>\n</g>\n<!-- alpha_G75&#45;&gt;PrepareSparse -->\n<g id=\"edge3\" class=\"edge\">\n<title>alpha_G75:e-&gt;PrepareSparse:w</title>\n<path fill=\"none\" stroke=\"black\" d=\"M65,-1318C100.06,-1318 76.22,-1254.55 108.97,-1252.07\"/>\n<ellipse fill=\"black\" stroke=\"black\" cx=\"110\" cy=\"-1252.04\" rx=\"1\" ry=\"1\"/>\n<text text-anchor=\"middle\" x=\"92.5\" y=\"-1269\" font-family=\"Times,serif\" font-size=\"10.00\">1</text>\n</g>\n<!-- beta_G26 -->\n<g id=\"node4\" class=\"node\">\n<title>beta_G26</title>\n<text text-anchor=\"middle\" x=\"37\" y=\"-1260.3\" font-family=\"Times,serif\" font-size=\"14.00\">beta</text>\n</g>\n<!-- beta_G26&#45;&gt;PrepareSparse -->\n<g id=\"edge4\" class=\"edge\">\n<title>beta_G26:e-&gt;PrepareSparse:w</title>\n<path fill=\"none\" stroke=\"black\" d=\"M65,-1264C89.47,-1264 86.05,-1232.78 109,-1231.07\"/>\n<ellipse fill=\"black\" stroke=\"black\" cx=\"110\" cy=\"-1231.04\" rx=\"1\" ry=\"1\"/>\n<text text-anchor=\"middle\" x=\"92.5\" y=\"-1243\" font-family=\"Times,serif\" font-size=\"10.00\">1</text>\n</g>\n<!-- rot_aa_G17 -->\n<g id=\"node5\" class=\"node\">\n<title>rot_aa_G17</title>\n<text text-anchor=\"middle\" x=\"37\" y=\"-1206.3\" font-family=\"Times,serif\" font-size=\"14.00\">rot_aa</text>\n</g>\n<!-- rot_aa_G17&#45;&gt;PrepareSparse -->\n<g id=\"edge5\" class=\"edge\">\n<title>rot_aa_G17:e-&gt;PrepareSparse:w</title>\n<path fill=\"none\" stroke=\"black\" d=\"M65,-1210C84.65,-1210 90.13,-1210 108.67,-1210\"/>\n<ellipse fill=\"black\" stroke=\"black\" cx=\"110\" cy=\"-1210\" rx=\"1\" ry=\"1\"/>\n<text text-anchor=\"middle\" x=\"92.5\" y=\"-1213\" font-family=\"Times,serif\" font-size=\"10.00\">1</text>\n</g>\n<!-- swap_pq_G67 -->\n<g id=\"node6\" class=\"node\">\n<title>swap_pq_G67</title>\n<text text-anchor=\"middle\" x=\"37\" y=\"-1152.3\" font-family=\"Times,serif\" font-size=\"14.00\">swap_pq</text>\n</g>\n<!-- swap_pq_G67&#45;&gt;PrepareSparse -->\n<g id=\"edge6\" class=\"edge\">\n<title>swap_pq_G67:e-&gt;PrepareSparse:w</title>\n<path fill=\"none\" stroke=\"black\" d=\"M71,-1156C93.33,-1156 88.31,-1186.97 108.92,-1188.91\"/>\n<ellipse fill=\"black\" stroke=\"black\" cx=\"110\" cy=\"-1188.95\" rx=\"1\" ry=\"1\"/>\n<text text-anchor=\"middle\" x=\"92.5\" y=\"-1178\" font-family=\"Times,serif\" font-size=\"10.00\">1</text>\n</g>\n<!-- swap_rs_G31 -->\n<g id=\"node7\" class=\"node\">\n<title>swap_rs_G31</title>\n<text text-anchor=\"middle\" x=\"37\" y=\"-1098.3\" font-family=\"Times,serif\" font-size=\"14.00\">swap_rs</text>\n</g>\n<!-- swap_rs_G31&#45;&gt;PrepareSparse -->\n<g id=\"edge7\" class=\"edge\">\n<title>swap_rs_G31:e-&gt;PrepareSparse:w</title>\n<path fill=\"none\" stroke=\"black\" d=\"M69,-1102C86.42,-1102 83.64,-1118.3 93,-1133 101.95,-1147.06 94.3,-1166.11 108.71,-1167.87\"/>\n<ellipse fill=\"black\" stroke=\"black\" cx=\"110\" cy=\"-1167.94\" rx=\"1\" ry=\"1\"/>\n<text text-anchor=\"middle\" x=\"92.5\" y=\"-1136\" font-family=\"Times,serif\" font-size=\"10.00\">1</text>\n</g>\n<!-- swap_pqrs_G21 -->\n<g id=\"node8\" class=\"node\">\n<title>swap_pqrs_G21</title>\n<text text-anchor=\"middle\" x=\"37\" y=\"-1044.3\" font-family=\"Times,serif\" font-size=\"14.00\">swap_pqrs</text>\n</g>\n<!-- swap_pqrs_G21&#45;&gt;PrepareSparse -->\n<g id=\"edge8\" class=\"edge\">\n<title>swap_pqrs_G21:e-&gt;PrepareSparse:w</title>\n<path fill=\"none\" stroke=\"black\" d=\"M74,-1048C90.16,-1048 86.64,-1064.14 93,-1079 105.01,-1107.07 80.91,-1145.17 108.89,-1146.94\"/>\n<ellipse fill=\"black\" stroke=\"black\" cx=\"110\" cy=\"-1146.97\" rx=\"1\" ry=\"1\"/>\n<text text-anchor=\"middle\" x=\"92.5\" y=\"-1082\" font-family=\"Times,serif\" font-size=\"10.00\">1</text>\n</g>\n<!-- less_than_G45 -->\n<g id=\"node9\" class=\"node\">\n<title>less_than_G45</title>\n<text text-anchor=\"middle\" x=\"37\" y=\"-990.3\" font-family=\"Times,serif\" font-size=\"14.00\">less_than</text>\n</g>\n<!-- less_than_G45&#45;&gt;PrepareSparse -->\n<g id=\"edge9\" class=\"edge\">\n<title>less_than_G45:e-&gt;PrepareSparse:w</title>\n<path fill=\"none\" stroke=\"black\" d=\"M72,-994C88.64,-994 86.74,-1009.58 93,-1025 101.31,-1045.46 89.02,-1121.06 108.97,-1125.77\"/>\n<ellipse fill=\"black\" stroke=\"black\" cx=\"110.01\" cy=\"-1125.89\" rx=\"1\" ry=\"1\"/>\n<text text-anchor=\"middle\" x=\"92.5\" y=\"-1028\" font-family=\"Times,serif\" font-size=\"10.00\">1</text>\n</g>\n<!-- d_G60 -->\n<g id=\"node11\" class=\"node\">\n<title>d_G60</title>\n<text text-anchor=\"middle\" x=\"321\" y=\"-1850.3\" font-family=\"Times,serif\" font-size=\"14.00\">d</text>\n</g>\n<!-- PrepareSparse&#45;&gt;d_G60 -->\n<g id=\"edge10\" class=\"edge\">\n<title>PrepareSparse:e-&gt;d_G60:w</title>\n<path fill=\"none\" stroke=\"black\" d=\"M225,-1294C284.36,-1294 235.55,-1773.85 262,-1827 269.82,-1842.72 274.37,-1853.16 290.92,-1853.95\"/>\n<ellipse fill=\"black\" stroke=\"black\" cx=\"292\" cy=\"-1853.98\" rx=\"1\" ry=\"1\"/>\n<text text-anchor=\"middle\" x=\"243.5\" y=\"-1319\" font-family=\"Times,serif\" font-size=\"10.00\">5</text>\n</g>\n<!-- sigma_G56 -->\n<g id=\"node12\" class=\"node\">\n<title>sigma_G56</title>\n<text text-anchor=\"middle\" x=\"321\" y=\"-1796.3\" font-family=\"Times,serif\" font-size=\"14.00\">sigma</text>\n</g>\n<!-- PrepareSparse&#45;&gt;sigma_G56 -->\n<g id=\"edge11\" class=\"edge\">\n<title>PrepareSparse:e-&gt;sigma_G56:w</title>\n<path fill=\"none\" stroke=\"black\" d=\"M225,-1273C280.71,-1273 237.07,-1723.18 262,-1773 269.86,-1788.7 274.37,-1799.16 290.92,-1799.95\"/>\n<ellipse fill=\"black\" stroke=\"black\" cx=\"292\" cy=\"-1799.98\" rx=\"1\" ry=\"1\"/>\n<text text-anchor=\"middle\" x=\"243.5\" y=\"-1300\" font-family=\"Times,serif\" font-size=\"10.00\">4</text>\n</g>\n<!-- alpha_G7 -->\n<g id=\"node13\" class=\"node\">\n<title>alpha_G7</title>\n<text text-anchor=\"middle\" x=\"321\" y=\"-1742.3\" font-family=\"Times,serif\" font-size=\"14.00\">alpha</text>\n</g>\n<!-- PrepareSparse&#45;&gt;alpha_G7 -->\n<g id=\"edge12\" class=\"edge\">\n<title>PrepareSparse:e-&gt;alpha_G7:w</title>\n<path fill=\"none\" stroke=\"black\" d=\"M225,-1252C277.05,-1252 238.58,-1672.51 262,-1719 269.9,-1734.68 274.37,-1745.16 290.92,-1745.95\"/>\n<ellipse fill=\"black\" stroke=\"black\" cx=\"292\" cy=\"-1745.98\" rx=\"1\" ry=\"1\"/>\n<text text-anchor=\"middle\" x=\"243.5\" y=\"-1284\" font-family=\"Times,serif\" font-size=\"10.00\">1</text>\n</g>\n<!-- beta_G35 -->\n<g id=\"node14\" class=\"node\">\n<title>beta_G35</title>\n<text text-anchor=\"middle\" x=\"321\" y=\"-1688.3\" font-family=\"Times,serif\" font-size=\"14.00\">beta</text>\n</g>\n<!-- PrepareSparse&#45;&gt;beta_G35 -->\n<g id=\"edge13\" class=\"edge\">\n<title>PrepareSparse:e-&gt;beta_G35:w</title>\n<path fill=\"none\" stroke=\"black\" d=\"M225,-1231C273.4,-1231 240.1,-1621.84 262,-1665 269.95,-1680.66 274.37,-1691.15 290.92,-1691.95\"/>\n<ellipse fill=\"black\" stroke=\"black\" cx=\"292\" cy=\"-1691.98\" rx=\"1\" ry=\"1\"/>\n<text text-anchor=\"middle\" x=\"243.5\" y=\"-1267\" font-family=\"Times,serif\" font-size=\"10.00\">1</text>\n</g>\n<!-- rot_aa_G25 -->\n<g id=\"node15\" class=\"node\">\n<title>rot_aa_G25</title>\n<text text-anchor=\"middle\" x=\"321\" y=\"-1634.3\" font-family=\"Times,serif\" font-size=\"14.00\">rot_aa</text>\n</g>\n<!-- PrepareSparse&#45;&gt;rot_aa_G25 -->\n<g id=\"edge14\" class=\"edge\">\n<title>PrepareSparse:e-&gt;rot_aa_G25:w</title>\n<path fill=\"none\" stroke=\"black\" d=\"M225,-1210C269.74,-1210 241.61,-1571.17 262,-1611 270,-1626.63 274.38,-1637.15 290.92,-1637.95\"/>\n<ellipse fill=\"black\" stroke=\"black\" cx=\"292\" cy=\"-1637.98\" rx=\"1\" ry=\"1\"/>\n<text text-anchor=\"middle\" x=\"243.5\" y=\"-1247\" font-family=\"Times,serif\" font-size=\"10.00\">1</text>\n</g>\n<!-- swap_pq_G23 -->\n<g id=\"node16\" class=\"node\">\n<title>swap_pq_G23</title>\n<text text-anchor=\"middle\" x=\"321\" y=\"-1580.3\" font-family=\"Times,serif\" font-size=\"14.00\">swap_pq</text>\n</g>\n<!-- PrepareSparse&#45;&gt;swap_pq_G23 -->\n<g id=\"edge15\" class=\"edge\">\n<title>PrepareSparse:e-&gt;swap_pq_G23:w</title>\n<path fill=\"none\" stroke=\"black\" d=\"M225,-1189C313.16,-1189 199.94,-1577.85 284.95,-1583.93\"/>\n<ellipse fill=\"black\" stroke=\"black\" cx=\"286\" cy=\"-1583.96\" rx=\"1\" ry=\"1\"/>\n<text text-anchor=\"middle\" x=\"243.5\" y=\"-1200\" font-family=\"Times,serif\" font-size=\"10.00\">1</text>\n</g>\n<!-- swap_rs_G44 -->\n<g id=\"node17\" class=\"node\">\n<title>swap_rs_G44</title>\n<text text-anchor=\"middle\" x=\"321\" y=\"-1526.3\" font-family=\"Times,serif\" font-size=\"14.00\">swap_rs</text>\n</g>\n<!-- PrepareSparse&#45;&gt;swap_rs_G44 -->\n<g id=\"edge16\" class=\"edge\">\n<title>PrepareSparse:e-&gt;swap_rs_G44:w</title>\n<path fill=\"none\" stroke=\"black\" d=\"M225,-1168C305.89,-1168 209.23,-1522.96 286.66,-1529.9\"/>\n<ellipse fill=\"black\" stroke=\"black\" cx=\"288\" cy=\"-1529.96\" rx=\"1\" ry=\"1\"/>\n<text text-anchor=\"middle\" x=\"243.5\" y=\"-1180\" font-family=\"Times,serif\" font-size=\"10.00\">1</text>\n</g>\n<!-- swap_pqrs_G29 -->\n<g id=\"node18\" class=\"node\">\n<title>swap_pqrs_G29</title>\n<text text-anchor=\"middle\" x=\"321\" y=\"-1472.3\" font-family=\"Times,serif\" font-size=\"14.00\">swap_pqrs</text>\n</g>\n<!-- PrepareSparse&#45;&gt;swap_pqrs_G29 -->\n<g id=\"edge17\" class=\"edge\">\n<title>PrepareSparse:e-&gt;swap_pqrs_G29:w</title>\n<path fill=\"none\" stroke=\"black\" d=\"M225,-1147C298.51,-1147 210.51,-1469.61 280.87,-1475.91\"/>\n<ellipse fill=\"black\" stroke=\"black\" cx=\"282\" cy=\"-1475.96\" rx=\"1\" ry=\"1\"/>\n<text text-anchor=\"middle\" x=\"243.5\" y=\"-1161\" font-family=\"Times,serif\" font-size=\"10.00\">1</text>\n</g>\n<!-- less_than_G15 -->\n<g id=\"node19\" class=\"node\">\n<title>less_than_G15</title>\n<text text-anchor=\"middle\" x=\"321\" y=\"-1418.3\" font-family=\"Times,serif\" font-size=\"14.00\">less_than</text>\n</g>\n<!-- PrepareSparse&#45;&gt;less_than_G15 -->\n<g id=\"edge18\" class=\"edge\">\n<title>PrepareSparse:e-&gt;less_than_G15:w</title>\n<path fill=\"none\" stroke=\"black\" d=\"M225,-1126C291.37,-1126 220.54,-1415.1 283.7,-1421.88\"/>\n<ellipse fill=\"black\" stroke=\"black\" cx=\"285\" cy=\"-1421.95\" rx=\"1\" ry=\"1\"/>\n<text text-anchor=\"middle\" x=\"243.5\" y=\"-1140\" font-family=\"Times,serif\" font-size=\"10.00\">1</text>\n</g>\n<!-- p_G46 -->\n<g id=\"node20\" class=\"node\">\n<title>p_G46</title>\n<text text-anchor=\"middle\" x=\"321\" y=\"-1364.3\" font-family=\"Times,serif\" font-size=\"14.00\">p</text>\n</g>\n<!-- PrepareSparse&#45;&gt;p_G46 -->\n<g id=\"edge19\" class=\"edge\">\n<title>PrepareSparse:e-&gt;p_G46:w</title>\n<path fill=\"none\" stroke=\"black\" d=\"M225,-1105C278.09,-1105 236.32,-1294.54 262,-1341 270.49,-1356.37 274.42,-1367.13 290.92,-1367.95\"/>\n<ellipse fill=\"black\" stroke=\"black\" cx=\"292\" cy=\"-1367.98\" rx=\"1\" ry=\"1\"/>\n<text text-anchor=\"middle\" x=\"243.5\" y=\"-1121\" font-family=\"Times,serif\" font-size=\"10.00\">2</text>\n</g>\n<!-- q_G24 -->\n<g id=\"node21\" class=\"node\">\n<title>q_G24</title>\n<text text-anchor=\"middle\" x=\"321\" y=\"-1310.3\" font-family=\"Times,serif\" font-size=\"14.00\">q</text>\n</g>\n<!-- PrepareSparse&#45;&gt;q_G24 -->\n<g id=\"edge20\" class=\"edge\">\n<title>PrepareSparse:e-&gt;q_G24:w</title>\n<path fill=\"none\" stroke=\"black\" d=\"M225,-1084C270.85,-1084 239.32,-1247.14 262,-1287 270.68,-1302.26 274.43,-1313.12 290.92,-1313.95\"/>\n<ellipse fill=\"black\" stroke=\"black\" cx=\"292\" cy=\"-1313.98\" rx=\"1\" ry=\"1\"/>\n<text text-anchor=\"middle\" x=\"243.5\" y=\"-1101\" font-family=\"Times,serif\" font-size=\"10.00\">2</text>\n</g>\n<!-- r_G20 -->\n<g id=\"node22\" class=\"node\">\n<title>r_G20</title>\n<text text-anchor=\"middle\" x=\"321\" y=\"-1256.3\" font-family=\"Times,serif\" font-size=\"14.00\">r</text>\n</g>\n<!-- PrepareSparse&#45;&gt;r_G20 -->\n<g id=\"edge21\" class=\"edge\">\n<title>PrepareSparse:e-&gt;r_G20:w</title>\n<path fill=\"none\" stroke=\"black\" d=\"M225,-1063C302.32,-1063 222.62,-1166.45 262,-1233 270.94,-1248.11 274.45,-1259.11 290.93,-1259.95\"/>\n<ellipse fill=\"black\" stroke=\"black\" cx=\"292\" cy=\"-1259.98\" rx=\"1\" ry=\"1\"/>\n<text text-anchor=\"middle\" x=\"243.5\" y=\"-1068\" font-family=\"Times,serif\" font-size=\"10.00\">2</text>\n</g>\n<!-- s_G8 -->\n<g id=\"node23\" class=\"node\">\n<title>s_G8</title>\n<text text-anchor=\"middle\" x=\"321\" y=\"-1202.3\" font-family=\"Times,serif\" font-size=\"14.00\">s</text>\n</g>\n<!-- PrepareSparse&#45;&gt;s_G8 -->\n<g id=\"edge22\" class=\"edge\">\n<title>PrepareSparse:e-&gt;s_G8:w</title>\n<path fill=\"none\" stroke=\"black\" d=\"M225,-1042C303.14,-1042 215.83,-1202.81 290.74,-1205.95\"/>\n<ellipse fill=\"black\" stroke=\"black\" cx=\"292\" cy=\"-1205.98\" rx=\"1\" ry=\"1\"/>\n<text text-anchor=\"middle\" x=\"243.5\" y=\"-1049\" font-family=\"Times,serif\" font-size=\"10.00\">2</text>\n</g>\n<!-- theta_G64 -->\n<g id=\"node24\" class=\"node\">\n<title>theta_G64</title>\n<text text-anchor=\"middle\" x=\"321\" y=\"-1148.3\" font-family=\"Times,serif\" font-size=\"14.00\">theta</text>\n</g>\n<!-- PrepareSparse&#45;&gt;theta_G64 -->\n<g id=\"edge23\" class=\"edge\">\n<title>PrepareSparse:e-&gt;theta_G64:w</title>\n<path fill=\"none\" stroke=\"black\" d=\"M225,-1021C274.06,-1021 234.38,-1084.45 262,-1125 271.88,-1139.51 274.53,-1151.07 290.93,-1151.95\"/>\n<ellipse fill=\"black\" stroke=\"black\" cx=\"292\" cy=\"-1151.97\" rx=\"1\" ry=\"1\"/>\n<text text-anchor=\"middle\" x=\"243.5\" y=\"-1029\" font-family=\"Times,serif\" font-size=\"10.00\">1</text>\n</g>\n<!-- flag_1b_G22 -->\n<g id=\"node25\" class=\"node\">\n<title>flag_1b_G22</title>\n<text text-anchor=\"middle\" x=\"321\" y=\"-1094.3\" font-family=\"Times,serif\" font-size=\"14.00\">flag_1b</text>\n</g>\n<!-- PrepareSparse&#45;&gt;flag_1b_G22 -->\n<g id=\"edge24\" class=\"edge\">\n<title>PrepareSparse:e-&gt;flag_1b_G22:w</title>\n<path fill=\"none\" stroke=\"black\" d=\"M225,-1000C276.79,-1000 239.54,-1095.34 288.9,-1097.95\"/>\n<ellipse fill=\"black\" stroke=\"black\" cx=\"290\" cy=\"-1097.97\" rx=\"1\" ry=\"1\"/>\n<text text-anchor=\"middle\" x=\"243.5\" y=\"-1009\" font-family=\"Times,serif\" font-size=\"10.00\">1</text>\n</g>\n<!-- alt_p_G54 -->\n<g id=\"node26\" class=\"node\">\n<title>alt_p_G54</title>\n<text text-anchor=\"middle\" x=\"321\" y=\"-1040.3\" font-family=\"Times,serif\" font-size=\"14.00\">alt_p</text>\n</g>\n<!-- PrepareSparse&#45;&gt;alt_p_G54 -->\n<g id=\"edge25\" class=\"edge\">\n<title>PrepareSparse:e-&gt;alt_p_G54:w</title>\n<path fill=\"none\" stroke=\"black\" d=\"M225,-979C265.99,-979 251.78,-1041.49 290.62,-1043.93\"/>\n<ellipse fill=\"black\" stroke=\"black\" cx=\"292\" cy=\"-1043.97\" rx=\"1\" ry=\"1\"/>\n<text text-anchor=\"middle\" x=\"243.5\" y=\"-988\" font-family=\"Times,serif\" font-size=\"10.00\">2</text>\n</g>\n<!-- alt_q_G36 -->\n<g id=\"node27\" class=\"node\">\n<title>alt_q_G36</title>\n<text text-anchor=\"middle\" x=\"321\" y=\"-986.3\" font-family=\"Times,serif\" font-size=\"14.00\">alt_q</text>\n</g>\n<!-- PrepareSparse&#45;&gt;alt_q_G36 -->\n<g id=\"edge26\" class=\"edge\">\n<title>PrepareSparse:e-&gt;alt_q_G36:w</title>\n<path fill=\"none\" stroke=\"black\" d=\"M225,-958C257.62,-958 259.52,-988.52 290.7,-989.95\"/>\n<ellipse fill=\"black\" stroke=\"black\" cx=\"292\" cy=\"-989.98\" rx=\"1\" ry=\"1\"/>\n<text text-anchor=\"middle\" x=\"243.5\" y=\"-964\" font-family=\"Times,serif\" font-size=\"10.00\">2</text>\n</g>\n<!-- alt_r_G33 -->\n<g id=\"node28\" class=\"node\">\n<title>alt_r_G33</title>\n<text text-anchor=\"middle\" x=\"321\" y=\"-932.3\" font-family=\"Times,serif\" font-size=\"14.00\">alt_r</text>\n</g>\n<!-- PrepareSparse&#45;&gt;alt_r_G33 -->\n<g id=\"edge27\" class=\"edge\">\n<title>PrepareSparse:e-&gt;alt_r_G33:w</title>\n<path fill=\"none\" stroke=\"black\" d=\"M225,-936C254.51,-936 262.41,-936 290.91,-936\"/>\n<ellipse fill=\"black\" stroke=\"black\" cx=\"292\" cy=\"-936\" rx=\"1\" ry=\"1\"/>\n<text text-anchor=\"middle\" x=\"243.5\" y=\"-939\" font-family=\"Times,serif\" font-size=\"10.00\">2</text>\n</g>\n<!-- alt_s_G4 -->\n<g id=\"node29\" class=\"node\">\n<title>alt_s_G4</title>\n<text text-anchor=\"middle\" x=\"321\" y=\"-878.3\" font-family=\"Times,serif\" font-size=\"14.00\">alt_s</text>\n</g>\n<!-- PrepareSparse&#45;&gt;alt_s_G4 -->\n<g id=\"edge28\" class=\"edge\">\n<title>PrepareSparse:e-&gt;alt_s_G4:w</title>\n<path fill=\"none\" stroke=\"black\" d=\"M225,-915C257.81,-915 259.35,-883.53 290.69,-882.05\"/>\n<ellipse fill=\"black\" stroke=\"black\" cx=\"292\" cy=\"-882.02\" rx=\"1\" ry=\"1\"/>\n<text text-anchor=\"middle\" x=\"243.5\" y=\"-913\" font-family=\"Times,serif\" font-size=\"10.00\">2</text>\n</g>\n<!-- alt_theta_G65 -->\n<g id=\"node30\" class=\"node\">\n<title>alt_theta_G65</title>\n<text text-anchor=\"middle\" x=\"321\" y=\"-824.3\" font-family=\"Times,serif\" font-size=\"14.00\">alt_theta</text>\n</g>\n<!-- PrepareSparse&#45;&gt;alt_theta_G65 -->\n<g id=\"edge29\" class=\"edge\">\n<title>PrepareSparse:e-&gt;alt_theta_G65:w</title>\n<path fill=\"none\" stroke=\"black\" d=\"M225,-894C264.76,-894 248.13,-830.55 285.69,-828.07\"/>\n<ellipse fill=\"black\" stroke=\"black\" cx=\"287\" cy=\"-828.03\" rx=\"1\" ry=\"1\"/>\n<text text-anchor=\"middle\" x=\"243.5\" y=\"-890\" font-family=\"Times,serif\" font-size=\"10.00\">1</text>\n</g>\n<!-- alt_flag_1b_G47 -->\n<g id=\"node31\" class=\"node\">\n<title>alt_flag_1b_G47</title>\n<text text-anchor=\"middle\" x=\"321\" y=\"-770.3\" font-family=\"Times,serif\" font-size=\"14.00\">alt_flag_1b</text>\n</g>\n<!-- PrepareSparse&#45;&gt;alt_flag_1b_G47 -->\n<g id=\"edge30\" class=\"edge\">\n<title>PrepareSparse:e-&gt;alt_flag_1b_G47:w</title>\n<path fill=\"none\" stroke=\"black\" d=\"M225,-873C274.86,-873 231.66,-776.69 278.98,-774.06\"/>\n<ellipse fill=\"black\" stroke=\"black\" cx=\"280\" cy=\"-774.03\" rx=\"1\" ry=\"1\"/>\n<text text-anchor=\"middle\" x=\"243.5\" y=\"-868\" font-family=\"Times,serif\" font-size=\"10.00\">1</text>\n</g>\n<!-- keep_G6 -->\n<g id=\"node32\" class=\"node\">\n<title>keep_G6</title>\n<text text-anchor=\"middle\" x=\"321\" y=\"-716.3\" font-family=\"Times,serif\" font-size=\"14.00\">keep</text>\n</g>\n<!-- PrepareSparse&#45;&gt;keep_G6 -->\n<g id=\"edge31\" class=\"edge\">\n<title>PrepareSparse:e-&gt;keep_G6:w</title>\n<path fill=\"none\" stroke=\"black\" d=\"M225,-852C274.48,-852 234.2,-787.93 262,-747 271.86,-732.48 274.52,-720.93 290.93,-720.05\"/>\n<ellipse fill=\"black\" stroke=\"black\" cx=\"292\" cy=\"-720.03\" rx=\"1\" ry=\"1\"/>\n<text text-anchor=\"middle\" x=\"243.5\" y=\"-849\" font-family=\"Times,serif\" font-size=\"10.00\">4</text>\n</g>\n<!-- jnk_p_G51 -->\n<g id=\"node33\" class=\"node\">\n<title>jnk_p_G51</title>\n<text text-anchor=\"middle\" x=\"321\" y=\"-662.3\" font-family=\"Times,serif\" font-size=\"14.00\">jnk_p[0]</text>\n</g>\n<!-- PrepareSparse&#45;&gt;jnk_p_G51 -->\n<g id=\"edge32\" class=\"edge\">\n<title>PrepareSparse:e-&gt;jnk_p_G51:w</title>\n<path fill=\"none\" stroke=\"black\" d=\"M225,-831C302.73,-831 211.32,-669.21 285.75,-666.05\"/>\n<ellipse fill=\"black\" stroke=\"black\" cx=\"287\" cy=\"-666.02\" rx=\"1\" ry=\"1\"/>\n<text text-anchor=\"middle\" x=\"243.5\" y=\"-829\" font-family=\"Times,serif\" font-size=\"10.00\">2</text>\n</g>\n<!-- jnk_q_G74 -->\n<g id=\"node34\" class=\"node\">\n<title>jnk_q_G74</title>\n<text text-anchor=\"middle\" x=\"321\" y=\"-608.3\" font-family=\"Times,serif\" font-size=\"14.00\">jnk_q[0]</text>\n</g>\n<!-- PrepareSparse&#45;&gt;jnk_q_G74 -->\n<g id=\"edge33\" class=\"edge\">\n<title>PrepareSparse:e-&gt;jnk_q_G74:w</title>\n<path fill=\"none\" stroke=\"black\" d=\"M225,-810C316.63,-810 197.54,-615.08 285.87,-612.04\"/>\n<ellipse fill=\"black\" stroke=\"black\" cx=\"287\" cy=\"-612.02\" rx=\"1\" ry=\"1\"/>\n<text text-anchor=\"middle\" x=\"243.5\" y=\"-809\" font-family=\"Times,serif\" font-size=\"10.00\">2</text>\n</g>\n<!-- jnk_r_G43 -->\n<g id=\"node35\" class=\"node\">\n<title>jnk_r_G43</title>\n<text text-anchor=\"middle\" x=\"321\" y=\"-554.3\" font-family=\"Times,serif\" font-size=\"14.00\">jnk_r[0]</text>\n</g>\n<!-- PrepareSparse&#45;&gt;jnk_r_G43 -->\n<g id=\"edge34\" class=\"edge\">\n<title>PrepareSparse:e-&gt;jnk_r_G43:w</title>\n<path fill=\"none\" stroke=\"black\" d=\"M225,-789C271.07,-789 240.63,-625.82 262,-585 269.5,-570.67 271.81,-559.13 286.71,-558.08\"/>\n<ellipse fill=\"black\" stroke=\"black\" cx=\"288\" cy=\"-558.03\" rx=\"1\" ry=\"1\"/>\n<text text-anchor=\"middle\" x=\"243.5\" y=\"-777\" font-family=\"Times,serif\" font-size=\"10.00\">2</text>\n</g>\n<!-- jnk_s_G38 -->\n<g id=\"node36\" class=\"node\">\n<title>jnk_s_G38</title>\n<text text-anchor=\"middle\" x=\"321\" y=\"-500.3\" font-family=\"Times,serif\" font-size=\"14.00\">jnk_s[0]</text>\n</g>\n<!-- PrepareSparse&#45;&gt;jnk_s_G38 -->\n<g id=\"edge35\" class=\"edge\">\n<title>PrepareSparse:e-&gt;jnk_s_G38:w</title>\n<path fill=\"none\" stroke=\"black\" d=\"M225,-768C278.3,-768 237.85,-578.52 262,-531 269.33,-516.58 271.8,-505.12 286.71,-504.08\"/>\n<ellipse fill=\"black\" stroke=\"black\" cx=\"288\" cy=\"-504.03\" rx=\"1\" ry=\"1\"/>\n<text text-anchor=\"middle\" x=\"243.5\" y=\"-759\" font-family=\"Times,serif\" font-size=\"10.00\">2</text>\n</g>\n<!-- jnk_theta_G57 -->\n<g id=\"node37\" class=\"node\">\n<title>jnk_theta_G57</title>\n<text text-anchor=\"middle\" x=\"321\" y=\"-446.3\" font-family=\"Times,serif\" font-size=\"14.00\">jnk_theta[0]</text>\n</g>\n<!-- PrepareSparse&#45;&gt;jnk_theta_G57 -->\n<g id=\"edge36\" class=\"edge\">\n<title>PrepareSparse:e-&gt;jnk_theta_G57:w</title>\n<path fill=\"none\" stroke=\"black\" d=\"M225,-747C291.26,-747 212.84,-456.92 275.7,-450.12\"/>\n<ellipse fill=\"black\" stroke=\"black\" cx=\"277\" cy=\"-450.05\" rx=\"1\" ry=\"1\"/>\n<text text-anchor=\"middle\" x=\"243.5\" y=\"-738\" font-family=\"Times,serif\" font-size=\"10.00\">1</text>\n</g>\n<!-- jnk_flag_1b_G49 -->\n<g id=\"node38\" class=\"node\">\n<title>jnk_flag_1b_G49</title>\n<text text-anchor=\"middle\" x=\"321\" y=\"-392.3\" font-family=\"Times,serif\" font-size=\"14.00\">jnk_flag_1b[0]</text>\n</g>\n<!-- PrepareSparse&#45;&gt;jnk_flag_1b_G49 -->\n<g id=\"edge37\" class=\"edge\">\n<title>PrepareSparse:e-&gt;jnk_flag_1b_G49:w</title>\n<path fill=\"none\" stroke=\"black\" d=\"M225,-726C298.32,-726 198.93,-402.41 268.88,-396.09\"/>\n<ellipse fill=\"black\" stroke=\"black\" cx=\"270\" cy=\"-396.04\" rx=\"1\" ry=\"1\"/>\n<text text-anchor=\"middle\" x=\"243.5\" y=\"-505\" font-family=\"Times,serif\" font-size=\"10.00\">1</text>\n</g>\n<!-- jnk_alt_p_G41 -->\n<g id=\"node39\" class=\"node\">\n<title>jnk_alt_p_G41</title>\n<text text-anchor=\"middle\" x=\"321\" y=\"-338.3\" font-family=\"Times,serif\" font-size=\"14.00\">jnk_alt_p[0]</text>\n</g>\n<!-- PrepareSparse&#45;&gt;jnk_alt_p_G41 -->\n<g id=\"edge38\" class=\"edge\">\n<title>PrepareSparse:e-&gt;jnk_alt_p_G41:w</title>\n<path fill=\"none\" stroke=\"black\" d=\"M225,-705C240.2,-705 240.29,-446.96 243,-432 250.51,-390.6 235.68,-343.86 275.55,-342.05\"/>\n<ellipse fill=\"black\" stroke=\"black\" cx=\"277\" cy=\"-342.02\" rx=\"1\" ry=\"1\"/>\n<text text-anchor=\"middle\" x=\"243.5\" y=\"-435\" font-family=\"Times,serif\" font-size=\"10.00\">2</text>\n</g>\n<!-- jnk_alt_q_G53 -->\n<g id=\"node40\" class=\"node\">\n<title>jnk_alt_q_G53</title>\n<text text-anchor=\"middle\" x=\"321\" y=\"-284.3\" font-family=\"Times,serif\" font-size=\"14.00\">jnk_alt_q[0]</text>\n</g>\n<!-- PrepareSparse&#45;&gt;jnk_alt_q_G53 -->\n<g id=\"edge39\" class=\"edge\">\n<title>PrepareSparse:e-&gt;jnk_alt_q_G53:w</title>\n<path fill=\"none\" stroke=\"black\" d=\"M225,-684C239.59,-684 241.22,-436.48 243,-422 250.41,-361.62 217.24,-289.71 275.88,-288.03\"/>\n<ellipse fill=\"black\" stroke=\"black\" cx=\"277\" cy=\"-288.01\" rx=\"1\" ry=\"1\"/>\n<text text-anchor=\"middle\" x=\"243.5\" y=\"-425\" font-family=\"Times,serif\" font-size=\"10.00\">2</text>\n</g>\n<!-- jnk_alt_r_G3 -->\n<g id=\"node41\" class=\"node\">\n<title>jnk_alt_r_G3</title>\n<text text-anchor=\"middle\" x=\"321\" y=\"-230.3\" font-family=\"Times,serif\" font-size=\"14.00\">jnk_alt_r[0]</text>\n</g>\n<!-- PrepareSparse&#45;&gt;jnk_alt_r_G3 -->\n<g id=\"edge40\" class=\"edge\">\n<title>PrepareSparse:e-&gt;jnk_alt_r_G3:w</title>\n<path fill=\"none\" stroke=\"black\" d=\"M225,-663C245.02,-663 238.29,-322.46 243,-303 250.94,-270.17 244.72,-235.66 276.64,-234.06\"/>\n<ellipse fill=\"black\" stroke=\"black\" cx=\"278\" cy=\"-234.02\" rx=\"1\" ry=\"1\"/>\n<text text-anchor=\"middle\" x=\"243.5\" y=\"-306\" font-family=\"Times,serif\" font-size=\"10.00\">2</text>\n</g>\n<!-- jnk_alt_s_G13 -->\n<g id=\"node42\" class=\"node\">\n<title>jnk_alt_s_G13</title>\n<text text-anchor=\"middle\" x=\"321\" y=\"-176.3\" font-family=\"Times,serif\" font-size=\"14.00\">jnk_alt_s[0]</text>\n</g>\n<!-- PrepareSparse&#45;&gt;jnk_alt_s_G13 -->\n<g id=\"edge41\" class=\"edge\">\n<title>PrepareSparse:e-&gt;jnk_alt_s_G13:w</title>\n<path fill=\"none\" stroke=\"black\" d=\"M225,-642C244.36,-642 240.43,-313.19 243,-294 249.97,-242.06 226.52,-181.68 276.86,-180.03\"/>\n<ellipse fill=\"black\" stroke=\"black\" cx=\"278\" cy=\"-180.02\" rx=\"1\" ry=\"1\"/>\n<text text-anchor=\"middle\" x=\"243.5\" y=\"-297\" font-family=\"Times,serif\" font-size=\"10.00\">2</text>\n</g>\n<!-- jnk_alt_theta_G62 -->\n<g id=\"node43\" class=\"node\">\n<title>jnk_alt_theta_G62</title>\n<text text-anchor=\"middle\" x=\"321\" y=\"-122.3\" font-family=\"Times,serif\" font-size=\"14.00\">jnk_alt_theta[0]</text>\n</g>\n<!-- PrepareSparse&#45;&gt;jnk_alt_theta_G62 -->\n<g id=\"edge42\" class=\"edge\">\n<title>PrepareSparse:e-&gt;jnk_alt_theta_G62:w</title>\n<path fill=\"none\" stroke=\"black\" d=\"M225,-621C247.86,-621 239.21,-232.54 243,-210 249.33,-172.34 229.84,-127.78 265.78,-126.05\"/>\n<ellipse fill=\"black\" stroke=\"black\" cx=\"267\" cy=\"-126.02\" rx=\"1\" ry=\"1\"/>\n<text text-anchor=\"middle\" x=\"243.5\" y=\"-213\" font-family=\"Times,serif\" font-size=\"10.00\">1</text>\n</g>\n<!-- jnk_alt_flag_1b_G16 -->\n<g id=\"node44\" class=\"node\">\n<title>jnk_alt_flag_1b_G16</title>\n<text text-anchor=\"middle\" x=\"321\" y=\"-68.3\" font-family=\"Times,serif\" font-size=\"14.00\">jnk_alt_flag_1b[0]</text>\n</g>\n<!-- PrepareSparse&#45;&gt;jnk_alt_flag_1b_G16 -->\n<g id=\"edge43\" class=\"edge\">\n<title>PrepareSparse:e-&gt;jnk_alt_flag_1b_G16:w</title>\n<path fill=\"none\" stroke=\"black\" d=\"M225,-600C250.46,-600 239.14,-167.17 243,-142 247.77,-110.88 230.6,-73.78 259.82,-72.06\"/>\n<ellipse fill=\"black\" stroke=\"black\" cx=\"261\" cy=\"-72.03\" rx=\"1\" ry=\"1\"/>\n<text text-anchor=\"middle\" x=\"243.5\" y=\"-145\" font-family=\"Times,serif\" font-size=\"10.00\">1</text>\n</g>\n<!-- jnk_keep_G30 -->\n<g id=\"node45\" class=\"node\">\n<title>jnk_keep_G30</title>\n<text text-anchor=\"middle\" x=\"321\" y=\"-14.3\" font-family=\"Times,serif\" font-size=\"14.00\">jnk_keep[0]</text>\n</g>\n<!-- PrepareSparse&#45;&gt;jnk_keep_G30 -->\n<g id=\"edge44\" class=\"edge\">\n<title>PrepareSparse:e-&gt;jnk_keep_G30:w</title>\n<path fill=\"none\" stroke=\"black\" d=\"M225,-579C252.8,-579 235.51,-105.77 243,-79 251.28,-49.39 247.7,-19.44 276.84,-18.05\"/>\n<ellipse fill=\"black\" stroke=\"black\" cx=\"278\" cy=\"-18.02\" rx=\"1\" ry=\"1\"/>\n<text text-anchor=\"middle\" x=\"243.5\" y=\"-82\" font-family=\"Times,serif\" font-size=\"10.00\">4</text>\n</g>\n</g>\n</svg>",
          "text/plain": "<IPython.core.display.SVG object>"
         },
         "metadata": {},
         "output_type": "display_data"
        }
       ],
       "tabbable": null,
       "tooltip": null
      }
     },
     "74df30a96dcf4d2b9a72de92ae90a443": {
      "model_module": "@jupyter-widgets/base",
      "model_module_version": "2.0.0",
      "model_name": "LayoutModel",
      "state": {
       "_model_module": "@jupyter-widgets/base",
       "_model_module_version": "2.0.0",
       "_model_name": "LayoutModel",
       "_view_count": null,
       "_view_module": "@jupyter-widgets/base",
       "_view_module_version": "2.0.0",
       "_view_name": "LayoutView",
       "align_content": null,
       "align_items": null,
       "align_self": null,
       "border_bottom": null,
       "border_left": null,
       "border_right": null,
       "border_top": null,
       "bottom": null,
       "display": null,
       "flex": null,
       "flex_flow": null,
       "grid_area": null,
       "grid_auto_columns": null,
       "grid_auto_flow": null,
       "grid_auto_rows": null,
       "grid_column": null,
       "grid_gap": null,
       "grid_row": null,
       "grid_template_areas": null,
       "grid_template_columns": null,
       "grid_template_rows": null,
       "height": null,
       "justify_content": null,
       "justify_items": null,
       "left": null,
       "margin": null,
       "max_height": null,
       "max_width": null,
       "min_height": null,
       "min_width": null,
       "object_fit": null,
       "object_position": null,
       "order": null,
       "overflow": null,
       "padding": null,
       "right": null,
       "top": null,
       "visibility": null,
       "width": null
      }
     },
     "7f480cdfcc0f49508fa41a9fd6ecae4b": {
      "model_module": "@jupyter-widgets/controls",
      "model_module_version": "2.0.0",
      "model_name": "HBoxModel",
      "state": {
       "_dom_classes": [],
       "_model_module": "@jupyter-widgets/controls",
       "_model_module_version": "2.0.0",
       "_model_name": "HBoxModel",
       "_view_count": null,
       "_view_module": "@jupyter-widgets/controls",
       "_view_module_version": "2.0.0",
       "_view_name": "HBoxView",
       "box_style": "",
       "children": [
        "IPY_MODEL_229c4eb65568420da6166e52d4f6db91"
       ],
       "layout": "IPY_MODEL_d0aa0ff43897418e9a0277a2223697d3",
       "tabbable": null,
       "tooltip": null
      }
     },
     "916fb2a579af4a5eb7a0da6da7906568": {
      "model_module": "@jupyter-widgets/base",
      "model_module_version": "2.0.0",
      "model_name": "LayoutModel",
      "state": {
       "_model_module": "@jupyter-widgets/base",
       "_model_module_version": "2.0.0",
       "_model_name": "LayoutModel",
       "_view_count": null,
       "_view_module": "@jupyter-widgets/base",
       "_view_module_version": "2.0.0",
       "_view_name": "LayoutView",
       "align_content": null,
       "align_items": null,
       "align_self": null,
       "border_bottom": null,
       "border_left": null,
       "border_right": null,
       "border_top": null,
       "bottom": null,
       "display": null,
       "flex": null,
       "flex_flow": null,
       "grid_area": null,
       "grid_auto_columns": null,
       "grid_auto_flow": null,
       "grid_auto_rows": null,
       "grid_column": null,
       "grid_gap": null,
       "grid_row": null,
       "grid_template_areas": null,
       "grid_template_columns": null,
       "grid_template_rows": null,
       "height": null,
       "justify_content": null,
       "justify_items": null,
       "left": null,
       "margin": null,
       "max_height": null,
       "max_width": null,
       "min_height": null,
       "min_width": null,
       "object_fit": null,
       "object_position": null,
       "order": null,
       "overflow": null,
       "padding": null,
       "right": null,
       "top": null,
       "visibility": null,
       "width": null
      }
     },
     "d0aa0ff43897418e9a0277a2223697d3": {
      "model_module": "@jupyter-widgets/base",
      "model_module_version": "2.0.0",
      "model_name": "LayoutModel",
      "state": {
       "_model_module": "@jupyter-widgets/base",
       "_model_module_version": "2.0.0",
       "_model_name": "LayoutModel",
       "_view_count": null,
       "_view_module": "@jupyter-widgets/base",
       "_view_module_version": "2.0.0",
       "_view_name": "LayoutView",
       "align_content": null,
       "align_items": null,
       "align_self": null,
       "border_bottom": null,
       "border_left": null,
       "border_right": null,
       "border_top": null,
       "bottom": null,
       "display": null,
       "flex": null,
       "flex_flow": null,
       "grid_area": null,
       "grid_auto_columns": null,
       "grid_auto_flow": null,
       "grid_auto_rows": null,
       "grid_column": null,
       "grid_gap": null,
       "grid_row": null,
       "grid_template_areas": null,
       "grid_template_columns": null,
       "grid_template_rows": null,
       "height": null,
       "justify_content": null,
       "justify_items": null,
       "left": null,
       "margin": null,
       "max_height": null,
       "max_width": null,
       "min_height": null,
       "min_width": null,
       "object_fit": null,
       "object_position": null,
       "order": null,
       "overflow": null,
       "padding": null,
       "right": null,
       "top": null,
       "visibility": null,
       "width": null
      }
     },
     "d448f94eecc84ae58a1b74d4564dd69c": {
      "model_module": "@jupyter-widgets/controls",
      "model_module_version": "2.0.0",
      "model_name": "HBoxModel",
      "state": {
       "_dom_classes": [],
       "_model_module": "@jupyter-widgets/controls",
       "_model_module_version": "2.0.0",
       "_model_name": "HBoxModel",
       "_view_count": null,
       "_view_module": "@jupyter-widgets/controls",
       "_view_module_version": "2.0.0",
       "_view_name": "HBoxView",
       "box_style": "",
       "children": [
        "IPY_MODEL_f05d7f60a21d4fcd84bcacfe29120172"
       ],
       "layout": "IPY_MODEL_74df30a96dcf4d2b9a72de92ae90a443",
       "tabbable": null,
       "tooltip": null
      }
     },
     "f05d7f60a21d4fcd84bcacfe29120172": {
      "model_module": "@jupyter-widgets/output",
      "model_module_version": "1.0.0",
      "model_name": "OutputModel",
      "state": {
       "_dom_classes": [],
       "_model_module": "@jupyter-widgets/output",
       "_model_module_version": "1.0.0",
       "_model_name": "OutputModel",
       "_view_count": null,
       "_view_module": "@jupyter-widgets/output",
       "_view_module_version": "1.0.0",
       "_view_name": "OutputView",
       "layout": "IPY_MODEL_f28023f67617444ea2f181fe77a5cfe3",
       "msg_id": "",
       "outputs": [
        {
         "data": {
          "text/markdown": "`sel_sparse`",
          "text/plain": "<IPython.core.display.Markdown object>"
         },
         "metadata": {},
         "output_type": "display_data"
        },
        {
         "data": {
          "image/svg+xml": "<svg xmlns=\"http://www.w3.org/2000/svg\" xmlns:xlink=\"http://www.w3.org/1999/xlink\" width=\"256pt\" height=\"422pt\" viewBox=\"0.00 0.00 256.00 422.00\">\n<g id=\"graph0\" class=\"graph\" transform=\"scale(1 1) rotate(0) translate(4 418)\">\n<title>my_graph</title>\n<polygon fill=\"white\" stroke=\"transparent\" points=\"-4,4 -4,-418 252,-418 252,4 -4,4\"/>\n<!-- p_G4 -->\n<g id=\"node1\" class=\"node\">\n<title>p_G4</title>\n<text text-anchor=\"middle\" x=\"29\" y=\"-392.3\" font-family=\"Times,serif\" font-size=\"14.00\">p</text>\n</g>\n<!-- SelectSparse -->\n<g id=\"node9\" class=\"node\">\n<title>SelectSparse</title>\n<polygon fill=\"none\" stroke=\"black\" points=\"95,-291 95,-308 153,-308 153,-291 95,-291\"/>\n<text text-anchor=\"start\" x=\"98\" y=\"-297\" font-family=\"Times,serif\" font-size=\"10.00\">SelectSparse</text>\n<polygon fill=\"none\" stroke=\"black\" points=\"95,-270 95,-291 153,-291 153,-270 95,-270\"/>\n<text text-anchor=\"start\" x=\"120.5\" y=\"-276.8\" font-family=\"Times,serif\" font-size=\"14.00\">p</text>\n<polygon fill=\"none\" stroke=\"black\" points=\"95,-249 95,-270 153,-270 153,-249 95,-249\"/>\n<text text-anchor=\"start\" x=\"120.5\" y=\"-255.8\" font-family=\"Times,serif\" font-size=\"14.00\">q</text>\n<polygon fill=\"none\" stroke=\"black\" points=\"95,-228 95,-249 153,-249 153,-228 95,-228\"/>\n<text text-anchor=\"start\" x=\"121.5\" y=\"-234.8\" font-family=\"Times,serif\" font-size=\"14.00\">r</text>\n<polygon fill=\"none\" stroke=\"black\" points=\"95,-207 95,-228 153,-228 153,-207 95,-207\"/>\n<text text-anchor=\"start\" x=\"121\" y=\"-213.8\" font-family=\"Times,serif\" font-size=\"14.00\">s</text>\n<polygon fill=\"none\" stroke=\"black\" points=\"95,-186 95,-207 153,-207 153,-186 95,-186\"/>\n<text text-anchor=\"start\" x=\"109\" y=\"-192.8\" font-family=\"Times,serif\" font-size=\"14.00\">alpha</text>\n<polygon fill=\"none\" stroke=\"black\" points=\"95,-165 95,-186 153,-186 153,-165 95,-165\"/>\n<text text-anchor=\"start\" x=\"112.5\" y=\"-171.8\" font-family=\"Times,serif\" font-size=\"14.00\">beta</text>\n<polygon fill=\"none\" stroke=\"black\" points=\"95,-144 95,-165 153,-165 153,-144 95,-144\"/>\n<text text-anchor=\"start\" x=\"103\" y=\"-150.8\" font-family=\"Times,serif\" font-size=\"14.00\">flag_1b</text>\n<polygon fill=\"none\" stroke=\"black\" points=\"95,-123 95,-144 153,-144 153,-123 95,-123\"/>\n<text text-anchor=\"start\" x=\"115\" y=\"-129.8\" font-family=\"Times,serif\" font-size=\"14.00\">sys</text>\n</g>\n<!-- p_G4&#45;&gt;SelectSparse -->\n<g id=\"edge1\" class=\"edge\">\n<title>p_G4:e-&gt;SelectSparse:w</title>\n<path fill=\"none\" stroke=\"black\" d=\"M57,-396C83.18,-396 68.92,-287.2 92.89,-281.25\"/>\n<ellipse fill=\"black\" stroke=\"black\" cx=\"94.01\" cy=\"-281.12\" rx=\"1\" ry=\"1\"/>\n<text text-anchor=\"middle\" x=\"76.5\" y=\"-341\" font-family=\"Times,serif\" font-size=\"10.00\">1</text>\n</g>\n<!-- q_G6 -->\n<g id=\"node2\" class=\"node\">\n<title>q_G6</title>\n<text text-anchor=\"middle\" x=\"29\" y=\"-338.3\" font-family=\"Times,serif\" font-size=\"14.00\">q</text>\n</g>\n<!-- q_G6&#45;&gt;SelectSparse -->\n<g id=\"edge2\" class=\"edge\">\n<title>q_G6:e-&gt;SelectSparse:w</title>\n<path fill=\"none\" stroke=\"black\" d=\"M57,-342C96.38,-342 56.45,-263.17 92.74,-260.09\"/>\n<ellipse fill=\"black\" stroke=\"black\" cx=\"94\" cy=\"-260.04\" rx=\"1\" ry=\"1\"/>\n<text text-anchor=\"middle\" x=\"76.5\" y=\"-320\" font-family=\"Times,serif\" font-size=\"10.00\">1</text>\n</g>\n<!-- r_G17 -->\n<g id=\"node3\" class=\"node\">\n<title>r_G17</title>\n<text text-anchor=\"middle\" x=\"29\" y=\"-284.3\" font-family=\"Times,serif\" font-size=\"14.00\">r</text>\n</g>\n<!-- r_G17&#45;&gt;SelectSparse -->\n<g id=\"edge3\" class=\"edge\">\n<title>r_G17:e-&gt;SelectSparse:w</title>\n<path fill=\"none\" stroke=\"black\" d=\"M57,-288C83.81,-288 68.34,-241.64 92.84,-239.11\"/>\n<ellipse fill=\"black\" stroke=\"black\" cx=\"94\" cy=\"-239.05\" rx=\"1\" ry=\"1\"/>\n<text text-anchor=\"middle\" x=\"76.5\" y=\"-266\" font-family=\"Times,serif\" font-size=\"10.00\">1</text>\n</g>\n<!-- s_G9 -->\n<g id=\"node4\" class=\"node\">\n<title>s_G9</title>\n<text text-anchor=\"middle\" x=\"29\" y=\"-230.3\" font-family=\"Times,serif\" font-size=\"14.00\">s</text>\n</g>\n<!-- s_G9&#45;&gt;SelectSparse -->\n<g id=\"edge4\" class=\"edge\">\n<title>s_G9:e-&gt;SelectSparse:w</title>\n<path fill=\"none\" stroke=\"black\" d=\"M57,-234C74.61,-234 76.54,-219.23 92.93,-218.07\"/>\n<ellipse fill=\"black\" stroke=\"black\" cx=\"94\" cy=\"-218.03\" rx=\"1\" ry=\"1\"/>\n<text text-anchor=\"middle\" x=\"76.5\" y=\"-229\" font-family=\"Times,serif\" font-size=\"10.00\">1</text>\n</g>\n<!-- alpha_G20 -->\n<g id=\"node5\" class=\"node\">\n<title>alpha_G20</title>\n<text text-anchor=\"middle\" x=\"29\" y=\"-176.3\" font-family=\"Times,serif\" font-size=\"14.00\">alpha</text>\n</g>\n<!-- alpha_G20&#45;&gt;SelectSparse -->\n<g id=\"edge5\" class=\"edge\">\n<title>alpha_G20:e-&gt;SelectSparse:w</title>\n<path fill=\"none\" stroke=\"black\" d=\"M57,-180C74.61,-180 76.54,-194.77 92.93,-195.93\"/>\n<ellipse fill=\"black\" stroke=\"black\" cx=\"94\" cy=\"-195.97\" rx=\"1\" ry=\"1\"/>\n<text text-anchor=\"middle\" x=\"76.5\" y=\"-191\" font-family=\"Times,serif\" font-size=\"10.00\">1</text>\n</g>\n<!-- beta_G5 -->\n<g id=\"node6\" class=\"node\">\n<title>beta_G5</title>\n<text text-anchor=\"middle\" x=\"29\" y=\"-122.3\" font-family=\"Times,serif\" font-size=\"14.00\">beta</text>\n</g>\n<!-- beta_G5&#45;&gt;SelectSparse -->\n<g id=\"edge6\" class=\"edge\">\n<title>beta_G5:e-&gt;SelectSparse:w</title>\n<path fill=\"none\" stroke=\"black\" d=\"M57,-126C83.81,-126 68.34,-172.36 92.84,-174.89\"/>\n<ellipse fill=\"black\" stroke=\"black\" cx=\"94\" cy=\"-174.95\" rx=\"1\" ry=\"1\"/>\n<text text-anchor=\"middle\" x=\"76.5\" y=\"-157\" font-family=\"Times,serif\" font-size=\"10.00\">1</text>\n</g>\n<!-- flag_1b_G1 -->\n<g id=\"node7\" class=\"node\">\n<title>flag_1b_G1</title>\n<text text-anchor=\"middle\" x=\"29\" y=\"-68.3\" font-family=\"Times,serif\" font-size=\"14.00\">flag_1b</text>\n</g>\n<!-- flag_1b_G1&#45;&gt;SelectSparse -->\n<g id=\"edge7\" class=\"edge\">\n<title>flag_1b_G1:e-&gt;SelectSparse:w</title>\n<path fill=\"none\" stroke=\"black\" d=\"M58,-72C97.2,-72 56.66,-150.83 92.75,-153.91\"/>\n<ellipse fill=\"black\" stroke=\"black\" cx=\"94\" cy=\"-153.96\" rx=\"1\" ry=\"1\"/>\n<text text-anchor=\"middle\" x=\"76.5\" y=\"-139\" font-family=\"Times,serif\" font-size=\"10.00\">1</text>\n</g>\n<!-- sys_G3 -->\n<g id=\"node8\" class=\"node\">\n<title>sys_G3</title>\n<text text-anchor=\"middle\" x=\"29\" y=\"-14.3\" font-family=\"Times,serif\" font-size=\"14.00\">sys</text>\n</g>\n<!-- sys_G3&#45;&gt;SelectSparse -->\n<g id=\"edge8\" class=\"edge\">\n<title>sys_G3:e-&gt;SelectSparse:w</title>\n<path fill=\"none\" stroke=\"black\" d=\"M57,-18C69.83,-18 80.5,-122.47 93.12,-132.27\"/>\n<ellipse fill=\"black\" stroke=\"black\" cx=\"94.07\" cy=\"-132.64\" rx=\"1\" ry=\"1\"/>\n<text text-anchor=\"middle\" x=\"76.5\" y=\"-82\" font-family=\"Times,serif\" font-size=\"10.00\">4</text>\n</g>\n<!-- p_G12 -->\n<g id=\"node10\" class=\"node\">\n<title>p_G12</title>\n<text text-anchor=\"middle\" x=\"219\" y=\"-392.3\" font-family=\"Times,serif\" font-size=\"14.00\">p</text>\n</g>\n<!-- SelectSparse&#45;&gt;p_G12 -->\n<g id=\"edge9\" class=\"edge\">\n<title>SelectSparse:e-&gt;p_G12:w</title>\n<path fill=\"none\" stroke=\"black\" d=\"M153,-281C179.18,-281 164.92,-389.8 188.89,-395.75\"/>\n<ellipse fill=\"black\" stroke=\"black\" cx=\"190.01\" cy=\"-395.88\" rx=\"1\" ry=\"1\"/>\n<text text-anchor=\"middle\" x=\"171.5\" y=\"-341\" font-family=\"Times,serif\" font-size=\"10.00\">1</text>\n</g>\n<!-- q_G14 -->\n<g id=\"node11\" class=\"node\">\n<title>q_G14</title>\n<text text-anchor=\"middle\" x=\"219\" y=\"-338.3\" font-family=\"Times,serif\" font-size=\"14.00\">q</text>\n</g>\n<!-- SelectSparse&#45;&gt;q_G14 -->\n<g id=\"edge10\" class=\"edge\">\n<title>SelectSparse:e-&gt;q_G14:w</title>\n<path fill=\"none\" stroke=\"black\" d=\"M153,-260C192.38,-260 152.45,-338.83 188.74,-341.91\"/>\n<ellipse fill=\"black\" stroke=\"black\" cx=\"190\" cy=\"-341.96\" rx=\"1\" ry=\"1\"/>\n<text text-anchor=\"middle\" x=\"171.5\" y=\"-320\" font-family=\"Times,serif\" font-size=\"10.00\">1</text>\n</g>\n<!-- r_G7 -->\n<g id=\"node12\" class=\"node\">\n<title>r_G7</title>\n<text text-anchor=\"middle\" x=\"219\" y=\"-284.3\" font-family=\"Times,serif\" font-size=\"14.00\">r</text>\n</g>\n<!-- SelectSparse&#45;&gt;r_G7 -->\n<g id=\"edge11\" class=\"edge\">\n<title>SelectSparse:e-&gt;r_G7:w</title>\n<path fill=\"none\" stroke=\"black\" d=\"M153,-239C179.81,-239 164.34,-285.36 188.84,-287.89\"/>\n<ellipse fill=\"black\" stroke=\"black\" cx=\"190\" cy=\"-287.95\" rx=\"1\" ry=\"1\"/>\n<text text-anchor=\"middle\" x=\"171.5\" y=\"-266\" font-family=\"Times,serif\" font-size=\"10.00\">1</text>\n</g>\n<!-- s_G0 -->\n<g id=\"node13\" class=\"node\">\n<title>s_G0</title>\n<text text-anchor=\"middle\" x=\"219\" y=\"-230.3\" font-family=\"Times,serif\" font-size=\"14.00\">s</text>\n</g>\n<!-- SelectSparse&#45;&gt;s_G0 -->\n<g id=\"edge12\" class=\"edge\">\n<title>SelectSparse:e-&gt;s_G0:w</title>\n<path fill=\"none\" stroke=\"black\" d=\"M153,-218C170.61,-218 172.54,-232.77 188.93,-233.93\"/>\n<ellipse fill=\"black\" stroke=\"black\" cx=\"190\" cy=\"-233.97\" rx=\"1\" ry=\"1\"/>\n<text text-anchor=\"middle\" x=\"171.5\" y=\"-229\" font-family=\"Times,serif\" font-size=\"10.00\">1</text>\n</g>\n<!-- alpha_G2 -->\n<g id=\"node14\" class=\"node\">\n<title>alpha_G2</title>\n<text text-anchor=\"middle\" x=\"219\" y=\"-176.3\" font-family=\"Times,serif\" font-size=\"14.00\">alpha</text>\n</g>\n<!-- SelectSparse&#45;&gt;alpha_G2 -->\n<g id=\"edge13\" class=\"edge\">\n<title>SelectSparse:e-&gt;alpha_G2:w</title>\n<path fill=\"none\" stroke=\"black\" d=\"M153,-196C170.61,-196 172.54,-181.23 188.93,-180.07\"/>\n<ellipse fill=\"black\" stroke=\"black\" cx=\"190\" cy=\"-180.03\" rx=\"1\" ry=\"1\"/>\n<text text-anchor=\"middle\" x=\"171.5\" y=\"-191\" font-family=\"Times,serif\" font-size=\"10.00\">1</text>\n</g>\n<!-- beta_G19 -->\n<g id=\"node15\" class=\"node\">\n<title>beta_G19</title>\n<text text-anchor=\"middle\" x=\"219\" y=\"-122.3\" font-family=\"Times,serif\" font-size=\"14.00\">beta</text>\n</g>\n<!-- SelectSparse&#45;&gt;beta_G19 -->\n<g id=\"edge14\" class=\"edge\">\n<title>SelectSparse:e-&gt;beta_G19:w</title>\n<path fill=\"none\" stroke=\"black\" d=\"M153,-175C179.81,-175 164.34,-128.64 188.84,-126.11\"/>\n<ellipse fill=\"black\" stroke=\"black\" cx=\"190\" cy=\"-126.05\" rx=\"1\" ry=\"1\"/>\n<text text-anchor=\"middle\" x=\"171.5\" y=\"-157\" font-family=\"Times,serif\" font-size=\"10.00\">1</text>\n</g>\n<!-- flag_1b_G21 -->\n<g id=\"node16\" class=\"node\">\n<title>flag_1b_G21</title>\n<text text-anchor=\"middle\" x=\"219\" y=\"-68.3\" font-family=\"Times,serif\" font-size=\"14.00\">flag_1b</text>\n</g>\n<!-- SelectSparse&#45;&gt;flag_1b_G21 -->\n<g id=\"edge15\" class=\"edge\">\n<title>SelectSparse:e-&gt;flag_1b_G21:w</title>\n<path fill=\"none\" stroke=\"black\" d=\"M153,-154C192.2,-154 151.66,-75.17 187.75,-72.09\"/>\n<ellipse fill=\"black\" stroke=\"black\" cx=\"189\" cy=\"-72.04\" rx=\"1\" ry=\"1\"/>\n<text text-anchor=\"middle\" x=\"171.5\" y=\"-139\" font-family=\"Times,serif\" font-size=\"10.00\">1</text>\n</g>\n<!-- sys_G23 -->\n<g id=\"node17\" class=\"node\">\n<title>sys_G23</title>\n<text text-anchor=\"middle\" x=\"219\" y=\"-14.3\" font-family=\"Times,serif\" font-size=\"14.00\">sys</text>\n</g>\n<!-- SelectSparse&#45;&gt;sys_G23 -->\n<g id=\"edge16\" class=\"edge\">\n<title>SelectSparse:e-&gt;sys_G23:w</title>\n<path fill=\"none\" stroke=\"black\" d=\"M153,-133C165.83,-133 176.5,-28.53 189.12,-18.73\"/>\n<ellipse fill=\"black\" stroke=\"black\" cx=\"190.07\" cy=\"-18.36\" rx=\"1\" ry=\"1\"/>\n<text text-anchor=\"middle\" x=\"171.5\" y=\"-82\" font-family=\"Times,serif\" font-size=\"10.00\">4</text>\n</g>\n</g>\n</svg>",
          "text/plain": "<IPython.core.display.SVG object>"
         },
         "metadata": {},
         "output_type": "display_data"
        }
       ],
       "tabbable": null,
       "tooltip": null
      }
     },
     "f28023f67617444ea2f181fe77a5cfe3": {
      "model_module": "@jupyter-widgets/base",
      "model_module_version": "2.0.0",
      "model_name": "LayoutModel",
      "state": {
       "_model_module": "@jupyter-widgets/base",
       "_model_module_version": "2.0.0",
       "_model_name": "LayoutModel",
       "_view_count": null,
       "_view_module": "@jupyter-widgets/base",
       "_view_module_version": "2.0.0",
       "_view_name": "LayoutView",
       "align_content": null,
       "align_items": null,
       "align_self": null,
       "border_bottom": null,
       "border_left": null,
       "border_right": null,
       "border_top": null,
       "bottom": null,
       "display": null,
       "flex": null,
       "flex_flow": null,
       "grid_area": null,
       "grid_auto_columns": null,
       "grid_auto_flow": null,
       "grid_auto_rows": null,
       "grid_column": null,
       "grid_gap": null,
       "grid_row": null,
       "grid_template_areas": null,
       "grid_template_columns": null,
       "grid_template_rows": null,
       "height": null,
       "justify_content": null,
       "justify_items": null,
       "left": null,
       "margin": null,
       "max_height": null,
       "max_width": null,
       "min_height": null,
       "min_width": null,
       "object_fit": null,
       "object_position": null,
       "order": null,
       "overflow": null,
       "padding": null,
       "right": null,
       "top": null,
       "visibility": null,
       "width": null
      }
     }
    },
    "version_major": 2,
    "version_minor": 0
   }
  }
 },
 "nbformat": 4,
 "nbformat_minor": 5
}
