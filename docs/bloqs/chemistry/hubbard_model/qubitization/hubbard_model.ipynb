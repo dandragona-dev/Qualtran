{
 "cells": [
  {
   "cell_type": "markdown",
   "id": "69133d73",
   "metadata": {
    "cq.autogen": "title_cell"
   },
   "source": [
    "# Qubitized Hubbard Model\n",
    "\n",
    "Simulating the Hubbard model Hamiltonian using qubitization.\n",
    "\n",
    "This module follows section V. of Encoding Electronic Spectra in Quantum Circuits with Linear T\n",
    "Complexity. Babbush et al. 2018. [arxiv:1805.03662](https://arxiv.org/abs/1805.03662).\n",
    "\n",
    "The 2D Hubbard model is a special case of the electronic structure Hamiltonian\n",
    "restricted to spins on a planar grid.\n",
    "\n",
    "$$\n",
    "H = -t \\sum_{\\langle p,q \\rangle, \\sigma} a_{p,\\sigma}^\\dagger a_{q,\\sigma}\n",
    "    + \\frac{u}{2} \\sum_{p,\\alpha\\ne\\beta} n_{p, \\alpha} n_{p, \\beta}\n",
    "$$\n",
    "\n",
    "Under the Jordan-Wigner transformation to Pauli operators, this is\n",
    "\n",
    "$$\n",
    "\\def\\Zvec{\\overrightarrow{Z}}\n",
    "\\def\\hop#1{#1_{p,\\sigma} \\Zvec #1_{q,\\sigma}}\n",
    "H = -\\frac{t}{2} \\sum_{\\langle p,q \\rangle, \\sigma} (\\hop{X} + \\hop{Y})\n",
    "  + \\frac{u}{8} \\sum_{p,\\alpha\\ne\\beta} Z_{p,\\alpha}Z_{p,\\beta}\n",
    "  - \\frac{u}{4} \\sum_{p,\\sigma} Z_{p,\\sigma} + \\frac{uN}{4}\\mathbb{1}\n",
    "$$\n",
    "\n",
    "This can be simulated using a qubitization circuit, which consists of PREPARE and SELECT\n",
    "operations. This module contains `SelectHubbard` and `PrepareHubbard`, with particular\n",
    "compilation optimizations for the Hubbard model. For more insight into how Select and Prepare\n",
    "operations can be combined into a quantum walk, please see\n",
    "[Qubitization Walk Operator](./qubitization_walk_operator.ipynb).\n",
    "\n",
    "With these operators, our selection register has indices\n",
    "for $p$, $\\alpha$, $q$, and $\\beta$ as well as two indicator bits $U$ and $V$. There are four cases\n",
    "considered in both the PREPARE and SELECT operations corresponding to the terms in the Hamiltonian:\n",
    "\n",
    " - $U=1$, single-body Z\n",
    " - $V=1$, spin-spin ZZ term\n",
    " - $p<q$, XZX term\n",
    " - $p>q$, YZY term."
   ]
  },
  {
   "cell_type": "code",
   "execution_count": 1,
   "id": "1159189f",
   "metadata": {
    "cq.autogen": "top_imports"
   },
   "outputs": [],
   "source": [
    "from qualtran import Bloq, CompositeBloq, BloqBuilder, Signature, Register\n",
    "from qualtran import QBit, QInt, QUInt, QAny\n",
    "from qualtran.drawing import show_bloq, show_call_graph, show_counts_sigma\n",
    "from typing import *\n",
    "import numpy as np\n",
    "import sympy\n",
    "import cirq"
   ]
  },
  {
   "cell_type": "markdown",
   "id": "b715659d",
   "metadata": {
    "cq.autogen": "SelectHubbard.bloq_doc.md"
   },
   "source": [
    "## `SelectHubbard`\n",
    "The SELECT operation optimized for the 2D Hubbard model.\n",
    "\n",
    "In contrast to SELECT for an arbitrary chemistry Hamiltonian, we:\n",
    " - explicitly consider the two dimensions of indices to permit optimization of the circuits.\n",
    " - dispense with the `theta` index for phases.\n",
    "\n",
    "If neither $U$ nor $V$ is set we apply the kinetic terms of the Hamiltonian:\n",
    "\n",
    "$$\n",
    "-\\hop{X} \\quad p < q \\\\\n",
    "-\\hop{Y} \\quad p > q\n",
    "$$\n",
    "\n",
    "If $U$ is set we know $(p,\\alpha)=(q,\\beta)$ and apply the single-body term: $-Z_{p,\\alpha}$.\n",
    "If $V$ is set we know $p=q, \\alpha=0$, and $\\beta=1$ and apply the spin term:\n",
    "$Z_{p,\\alpha}Z_{p,\\beta}$\n",
    "\n",
    "`SelectHubbard`'s construction uses $10 * N + log(N)$ T-gates.\n",
    "\n",
    "#### Parameters\n",
    " - `x_dim`: the number of sites along the x axis.\n",
    " - `y_dim`: the number of sites along the y axis.\n",
    " - `control_val`: Optional bit specifying the control value for constructing a controlled version of this gate. Defaults to None, which means un-controlled. \n",
    "\n",
    "#### Registers\n",
    " - `control`: A control bit for the entire gate.\n",
    " - `U`: Whether we're applying the single-site part of the potential.\n",
    " - `V`: Whether we're applying the pairwise part of the potential.\n",
    " - `p_x`: First set of site indices, x component.\n",
    " - `p_y`: First set of site indices, y component.\n",
    " - `alpha`: First set of sites' spin indicator.\n",
    " - `q_x`: Second set of site indices, x component.\n",
    " - `q_y`: Second set of site indices, y component.\n",
    " - `beta`: Second set of sites' spin indicator.\n",
    " - `target`: The system register to apply the select operation. \n",
    "\n",
    "#### References\n",
    " - [Encoding Electronic Spectra in Quantum Circuits with Linear T Complexity](https://arxiv.org/abs/1805.03662). Section V. and Fig. 19.\n"
   ]
  },
  {
   "cell_type": "code",
   "execution_count": 2,
   "id": "24845fa2",
   "metadata": {
    "cq.autogen": "SelectHubbard.bloq_doc.py"
   },
   "outputs": [],
   "source": [
    "from qualtran.bloqs.chemistry.hubbard_model.qubitization import SelectHubbard"
   ]
  },
  {
   "cell_type": "markdown",
   "id": "1fc9d9ec",
   "metadata": {
    "cq.autogen": "SelectHubbard.example_instances.md"
   },
   "source": [
    "### Example Instances"
   ]
  },
  {
   "cell_type": "code",
   "execution_count": 3,
   "id": "f8513a4b",
   "metadata": {
    "cq.autogen": "SelectHubbard.sel_hubb"
   },
   "outputs": [],
   "source": [
    "x_dim = 4\n",
    "y_dim = 4\n",
    "sel_hubb = SelectHubbard(x_dim, y_dim)"
   ]
  },
  {
   "cell_type": "markdown",
   "id": "084571f0",
   "metadata": {
    "cq.autogen": "SelectHubbard.graphical_signature.md"
   },
   "source": [
    "#### Graphical Signature"
   ]
  },
  {
   "cell_type": "code",
   "execution_count": 4,
   "id": "564970cd",
   "metadata": {
    "cq.autogen": "SelectHubbard.graphical_signature.py"
   },
   "outputs": [
    {
     "data": {
      "application/vnd.jupyter.widget-view+json": {
       "model_id": "3384fa4c66124aa48ae32e1cb48460df",
       "version_major": 2,
       "version_minor": 0
      },
      "text/plain": [
       "HBox(children=(Output(outputs=({'output_type': 'display_data', 'data': {'text/plain': '<IPython.core.display.M…"
      ]
     },
     "metadata": {},
     "output_type": "display_data"
    }
   ],
   "source": [
    "from qualtran.drawing import show_bloqs\n",
    "show_bloqs([sel_hubb],\n",
    "           ['`sel_hubb`'])"
   ]
  },
  {
   "cell_type": "markdown",
   "id": "541a6b1b",
   "metadata": {
    "cq.autogen": "SelectHubbard.call_graph.md"
   },
   "source": [
    "### Call Graph"
   ]
  },
  {
   "cell_type": "code",
   "execution_count": 5,
   "id": "49bcec57",
   "metadata": {
    "cq.autogen": "SelectHubbard.call_graph.py"
   },
   "outputs": [
    {
     "data": {
      "image/svg+xml": [
       "<svg xmlns=\"http://www.w3.org/2000/svg\" xmlns:xlink=\"http://www.w3.org/1999/xlink\" width=\"898pt\" height=\"131pt\" viewBox=\"0.00 0.00 898.00 131.00\">\n",
       "<g id=\"graph0\" class=\"graph\" transform=\"scale(1 1) rotate(0) translate(4 127)\">\n",
       "<title>counts</title>\n",
       "<polygon fill=\"white\" stroke=\"transparent\" points=\"-4,4 -4,-127 894,-127 894,4 -4,4\"/>\n",
       "<!-- b0 -->\n",
       "<g id=\"node1\" class=\"node\">\n",
       "<title>b0</title>\n",
       "<polygon fill=\"none\" stroke=\"black\" points=\"432,-93 432,-116 526,-116 526,-93 432,-93\"/>\n",
       "<text text-anchor=\"start\" x=\"438\" y=\"-102\" font-family=\"Times,serif\" font-size=\"10.00\">SelectHubbard(4, 4)</text>\n",
       "</g>\n",
       "<!-- b1 -->\n",
       "<g id=\"node2\" class=\"node\">\n",
       "<title>b1</title>\n",
       "<polygon fill=\"none\" stroke=\"black\" points=\"8,-6 8,-29 50,-29 50,-6 8,-6\"/>\n",
       "<text text-anchor=\"start\" x=\"14\" y=\"-15\" font-family=\"Times,serif\" font-size=\"10.00\">CSwap</text>\n",
       "</g>\n",
       "<!-- b0&#45;&gt;b1 -->\n",
       "<g id=\"edge1\" class=\"edge\">\n",
       "<title>b0-&gt;b1</title>\n",
       "<path fill=\"none\" stroke=\"black\" d=\"M424,-99.45C345.99,-92.01 199.02,-74.36 67.98,-35.87\"/>\n",
       "<polygon fill=\"black\" stroke=\"black\" points=\"68.76,-32.45 58.17,-32.94 66.75,-39.16 68.76,-32.45\"/>\n",
       "<text text-anchor=\"middle\" x=\"204.5\" y=\"-57.8\" font-family=\"Times,serif\" font-size=\"14.00\">4</text>\n",
       "</g>\n",
       "<!-- b2 -->\n",
       "<g id=\"node3\" class=\"node\">\n",
       "<title>b2</title>\n",
       "<polygon fill=\"none\" stroke=\"black\" points=\"84,-6 84,-29 218,-29 218,-6 84,-6\"/>\n",
       "<text text-anchor=\"start\" x=\"90.5\" y=\"-15\" font-family=\"Times,serif\" font-size=\"10.00\">SelectedMajoranaFermion(Y)</text>\n",
       "</g>\n",
       "<!-- b0&#45;&gt;b2 -->\n",
       "<g id=\"edge2\" class=\"edge\">\n",
       "<title>b0-&gt;b2</title>\n",
       "<path fill=\"none\" stroke=\"black\" d=\"M423.73,-89.68C369.6,-75.65 286.7,-54.17 226.51,-38.57\"/>\n",
       "<polygon fill=\"black\" stroke=\"black\" points=\"227.23,-35.14 216.68,-36.02 225.48,-41.92 227.23,-35.14\"/>\n",
       "<text text-anchor=\"middle\" x=\"338.5\" y=\"-57.8\" font-family=\"Times,serif\" font-size=\"14.00\">1</text>\n",
       "</g>\n",
       "<!-- b3 -->\n",
       "<g id=\"node4\" class=\"node\">\n",
       "<title>b3</title>\n",
       "<polygon fill=\"none\" stroke=\"black\" points=\"252,-6 252,-29 424,-29 424,-6 252,-6\"/>\n",
       "<text text-anchor=\"start\" x=\"258.5\" y=\"-15\" font-family=\"Times,serif\" font-size=\"10.00\">GPhase((6.123233995736766e-17-1j))</text>\n",
       "</g>\n",
       "<!-- b0&#45;&gt;b3 -->\n",
       "<g id=\"edge3\" class=\"edge\">\n",
       "<title>b0-&gt;b3</title>\n",
       "<path fill=\"none\" stroke=\"black\" d=\"M450.47,-86.8C428.77,-73.72 398.75,-55.62 375.18,-41.41\"/>\n",
       "<polygon fill=\"black\" stroke=\"black\" points=\"376.86,-38.34 366.49,-36.18 373.25,-44.34 376.86,-38.34\"/>\n",
       "<text text-anchor=\"middle\" x=\"420.5\" y=\"-57.8\" font-family=\"Times,serif\" font-size=\"14.00\">1</text>\n",
       "</g>\n",
       "<!-- b4 -->\n",
       "<g id=\"node5\" class=\"node\">\n",
       "<title>b4</title>\n",
       "<polygon fill=\"none\" stroke=\"black\" points=\"458,-6 458,-29 500,-29 500,-6 458,-6\"/>\n",
       "<text text-anchor=\"start\" x=\"464\" y=\"-15\" font-family=\"Times,serif\" font-size=\"10.00\">CSwap</text>\n",
       "</g>\n",
       "<!-- b0&#45;&gt;b4 -->\n",
       "<g id=\"edge4\" class=\"edge\">\n",
       "<title>b0-&gt;b4</title>\n",
       "<path fill=\"none\" stroke=\"black\" d=\"M479,-86.8C479,-75.16 479,-59.55 479,-46.24\"/>\n",
       "<polygon fill=\"black\" stroke=\"black\" points=\"482.5,-46.18 479,-36.18 475.5,-46.18 482.5,-46.18\"/>\n",
       "<text text-anchor=\"middle\" x=\"482.5\" y=\"-57.8\" font-family=\"Times,serif\" font-size=\"14.00\">2</text>\n",
       "</g>\n",
       "<!-- b5 -->\n",
       "<g id=\"node6\" class=\"node\">\n",
       "<title>b5</title>\n",
       "<polygon fill=\"none\" stroke=\"black\" points=\"534,-6 534,-29 572,-29 572,-6 534,-6\"/>\n",
       "<text text-anchor=\"start\" x=\"540\" y=\"-15\" font-family=\"Times,serif\" font-size=\"10.00\">ZGate</text>\n",
       "</g>\n",
       "<!-- b0&#45;&gt;b5 -->\n",
       "<g id=\"edge5\" class=\"edge\">\n",
       "<title>b0-&gt;b5</title>\n",
       "<path fill=\"none\" stroke=\"black\" d=\"M493.98,-86.8C504.71,-74.47 519.33,-57.68 531.33,-43.89\"/>\n",
       "<polygon fill=\"black\" stroke=\"black\" points=\"534.12,-46.02 538.05,-36.18 528.84,-41.42 534.12,-46.02\"/>\n",
       "<text text-anchor=\"middle\" x=\"524.5\" y=\"-57.8\" font-family=\"Times,serif\" font-size=\"14.00\">1</text>\n",
       "</g>\n",
       "<!-- b6 -->\n",
       "<g id=\"node7\" class=\"node\">\n",
       "<title>b6</title>\n",
       "<polygon fill=\"none\" stroke=\"black\" points=\"606,-6 606,-29 740,-29 740,-6 606,-6\"/>\n",
       "<text text-anchor=\"start\" x=\"612.5\" y=\"-15\" font-family=\"Times,serif\" font-size=\"10.00\">SelectedMajoranaFermion(X)</text>\n",
       "</g>\n",
       "<!-- b0&#45;&gt;b6 -->\n",
       "<g id=\"edge6\" class=\"edge\">\n",
       "<title>b0-&gt;b6</title>\n",
       "<path fill=\"none\" stroke=\"black\" d=\"M518.26,-86.8C548.99,-73.33 591.89,-54.54 624.72,-40.15\"/>\n",
       "<polygon fill=\"black\" stroke=\"black\" points=\"626.38,-43.25 634.13,-36.03 623.57,-36.84 626.38,-43.25\"/>\n",
       "<text text-anchor=\"middle\" x=\"591.5\" y=\"-57.8\" font-family=\"Times,serif\" font-size=\"14.00\">1</text>\n",
       "</g>\n",
       "<!-- b7 -->\n",
       "<g id=\"node8\" class=\"node\">\n",
       "<title>b7</title>\n",
       "<polygon fill=\"none\" stroke=\"black\" points=\"774,-6 774,-29 882,-29 882,-6 774,-6\"/>\n",
       "<text text-anchor=\"start\" x=\"780.5\" y=\"-15\" font-family=\"Times,serif\" font-size=\"10.00\">ApplyGateToLthQubit</text>\n",
       "</g>\n",
       "<!-- b0&#45;&gt;b7 -->\n",
       "<g id=\"edge7\" class=\"edge\">\n",
       "<title>b0-&gt;b7</title>\n",
       "<path fill=\"none\" stroke=\"black\" d=\"M534.3,-90.53C594.26,-75.93 690.2,-52.56 756.01,-36.53\"/>\n",
       "<polygon fill=\"black\" stroke=\"black\" points=\"757.01,-39.89 765.89,-34.13 755.35,-33.09 757.01,-39.89\"/>\n",
       "<text text-anchor=\"middle\" x=\"678.5\" y=\"-57.8\" font-family=\"Times,serif\" font-size=\"14.00\">1</text>\n",
       "</g>\n",
       "</g>\n",
       "</svg>"
      ],
      "text/plain": [
       "<IPython.core.display.SVG object>"
      ]
     },
     "metadata": {},
     "output_type": "display_data"
    },
    {
     "data": {
      "text/markdown": [
       "#### Counts totals:\n",
       " - `ApplyGateToLthQubit`: 1\n",
       " - `CSwap`: 2\n",
       " - `CSwap`: 4\n",
       " - `GPhase((6.123233995736766e-17-1j))`: 1\n",
       " - `SelectedMajoranaFermion(X)`: 1\n",
       " - `SelectedMajoranaFermion(Y)`: 1\n",
       " - `ZGate`: 1"
      ],
      "text/plain": [
       "<IPython.core.display.Markdown object>"
      ]
     },
     "metadata": {},
     "output_type": "display_data"
    }
   ],
   "source": [
    "from qualtran.resource_counting.generalizers import ignore_split_join\n",
    "sel_hubb_g, sel_hubb_sigma = sel_hubb.call_graph(max_depth=1, generalizer=ignore_split_join)\n",
    "show_call_graph(sel_hubb_g)\n",
    "show_counts_sigma(sel_hubb_sigma)"
   ]
  },
  {
   "cell_type": "markdown",
   "id": "61d5efd1",
   "metadata": {
    "cq.autogen": "PrepareHubbard.bloq_doc.md"
   },
   "source": [
    "## `PrepareHubbard`\n",
    "The PREPARE operation optimized for the 2D Hubbard model.\n",
    "\n",
    "In contrast to PREPARE for an arbitrary chemistry Hamiltonian, we:\n",
    " - explicitly consider the two dimensions of indices to permit optimization of the circuits.\n",
    " - dispense with the `theta` index for phases.\n",
    "\n",
    "`PrepareHubbard` uses $O(\\log(N))$ T gates and $O(1)$ single-qubit rotations.\n",
    "\n",
    "#### Parameters\n",
    " - `x_dim`: the number of sites along the x axis.\n",
    " - `y_dim`: the number of sites along the y axis.\n",
    " - `t`: coefficient for hopping terms in the Hubbard model hamiltonian.\n",
    " - `u`: coefficient for single body Z term and two-body ZZ terms in the Hubbard model hamiltonian. \n",
    "\n",
    "#### Registers\n",
    " - `control`: A control bit for the entire gate.\n",
    " - `U`: Whether we're applying the single-site part of the potential.\n",
    " - `V`: Whether we're applying the pairwise part of the potential.\n",
    " - `p_x`: First set of site indices, x component.\n",
    " - `p_y`: First set of site indices, y component.\n",
    " - `alpha`: First set of sites' spin indicator.\n",
    " - `q_x`: Second set of site indices, x component.\n",
    " - `q_y`: Second set of site indices, y component.\n",
    " - `beta`: Second set of sites' spin indicator.\n",
    " - `target`: The system register to apply the select operation.\n",
    " - `junk`: Temporary Work space. \n",
    "\n",
    "#### References\n",
    " - [Encoding Electronic Spectra in Quantum Circuits with Linear T Complexity](https://arxiv.org/abs/1805.03662). Section V. and Fig. 20.\n"
   ]
  },
  {
   "cell_type": "code",
   "execution_count": 6,
   "id": "df46d758",
   "metadata": {
    "cq.autogen": "PrepareHubbard.bloq_doc.py"
   },
   "outputs": [],
   "source": [
    "from qualtran.bloqs.chemistry.hubbard_model.qubitization import PrepareHubbard"
   ]
  },
  {
   "cell_type": "markdown",
   "id": "480bd24c",
   "metadata": {
    "cq.autogen": "PrepareHubbard.example_instances.md"
   },
   "source": [
    "### Example Instances"
   ]
  },
  {
   "cell_type": "code",
   "execution_count": 7,
   "id": "48bb8a87",
   "metadata": {
    "cq.autogen": "PrepareHubbard.prep_hubb"
   },
   "outputs": [],
   "source": [
    "x_dim = 4\n",
    "y_dim = 4\n",
    "t = 1.0\n",
    "u = 4.0 / t\n",
    "prep_hubb = PrepareHubbard(x_dim, y_dim, t=t, u=u)"
   ]
  },
  {
   "cell_type": "markdown",
   "id": "32fcb935",
   "metadata": {
    "cq.autogen": "PrepareHubbard.graphical_signature.md"
   },
   "source": [
    "#### Graphical Signature"
   ]
  },
  {
   "cell_type": "code",
   "execution_count": 8,
   "id": "305f3934",
   "metadata": {
    "cq.autogen": "PrepareHubbard.graphical_signature.py"
   },
   "outputs": [
    {
     "data": {
      "application/vnd.jupyter.widget-view+json": {
       "model_id": "ac90eb0ccc2b42bd9a6244dbc7336d4c",
       "version_major": 2,
       "version_minor": 0
      },
      "text/plain": [
       "HBox(children=(Output(outputs=({'output_type': 'display_data', 'data': {'text/plain': '<IPython.core.display.M…"
      ]
     },
     "metadata": {},
     "output_type": "display_data"
    }
   ],
   "source": [
    "from qualtran.drawing import show_bloqs\n",
    "show_bloqs([prep_hubb],\n",
    "           ['`prep_hubb`'])"
   ]
  },
  {
   "cell_type": "markdown",
   "id": "8325e95d",
   "metadata": {
    "cq.autogen": "PrepareHubbard.call_graph.md"
   },
   "source": [
    "### Call Graph"
   ]
  },
  {
   "cell_type": "code",
   "execution_count": 9,
   "id": "89bb04df",
   "metadata": {
    "cq.autogen": "PrepareHubbard.call_graph.py"
   },
   "outputs": [
    {
     "data": {
      "image/svg+xml": [
       "<svg xmlns=\"http://www.w3.org/2000/svg\" xmlns:xlink=\"http://www.w3.org/1999/xlink\" width=\"1264pt\" height=\"131pt\" viewBox=\"0.00 0.00 1264.00 131.00\">\n",
       "<g id=\"graph0\" class=\"graph\" transform=\"scale(1 1) rotate(0) translate(4 127)\">\n",
       "<title>counts</title>\n",
       "<polygon fill=\"white\" stroke=\"transparent\" points=\"-4,4 -4,-127 1260,-127 1260,4 -4,4\"/>\n",
       "<!-- b0 -->\n",
       "<g id=\"node1\" class=\"node\">\n",
       "<title>b0</title>\n",
       "<polygon fill=\"none\" stroke=\"black\" points=\"532,-93 532,-116 612,-116 612,-93 532,-93\"/>\n",
       "<text text-anchor=\"start\" x=\"538.5\" y=\"-102\" font-family=\"Times,serif\" font-size=\"10.00\">PrepareHubbard</text>\n",
       "</g>\n",
       "<!-- b1 -->\n",
       "<g id=\"node2\" class=\"node\">\n",
       "<title>b1</title>\n",
       "<polygon fill=\"none\" stroke=\"black\" points=\"8,-6 8,-29 70,-29 70,-6 8,-6\"/>\n",
       "<text text-anchor=\"start\" x=\"14.5\" y=\"-15\" font-family=\"Times,serif\" font-size=\"10.00\">CHadamard</text>\n",
       "</g>\n",
       "<!-- b0&#45;&gt;b1 -->\n",
       "<g id=\"edge1\" class=\"edge\">\n",
       "<title>b0-&gt;b1</title>\n",
       "<path fill=\"none\" stroke=\"black\" d=\"M523.93,-101.89C454.25,-98.26 321.37,-89.18 210,-69 157.24,-59.44 142.57,-53.45 87.75,-36.16\"/>\n",
       "<polygon fill=\"black\" stroke=\"black\" points=\"88.8,-32.82 78.21,-33.17 86.7,-39.5 88.8,-32.82\"/>\n",
       "<text text-anchor=\"middle\" x=\"213.5\" y=\"-57.8\" font-family=\"Times,serif\" font-size=\"14.00\">1</text>\n",
       "</g>\n",
       "<!-- b2 -->\n",
       "<g id=\"node3\" class=\"node\">\n",
       "<title>b2</title>\n",
       "<polygon fill=\"none\" stroke=\"black\" points=\"104,-6 104,-29 146,-29 146,-6 104,-6\"/>\n",
       "<text text-anchor=\"start\" x=\"110\" y=\"-15\" font-family=\"Times,serif\" font-size=\"10.00\">CSwap</text>\n",
       "</g>\n",
       "<!-- b0&#45;&gt;b2 -->\n",
       "<g id=\"edge2\" class=\"edge\">\n",
       "<title>b0-&gt;b2</title>\n",
       "<path fill=\"none\" stroke=\"black\" d=\"M523.88,-100.02C467.32,-94.88 370.8,-84.7 289,-69 235.15,-58.67 219.26,-55.54 163.89,-36.07\"/>\n",
       "<polygon fill=\"black\" stroke=\"black\" points=\"164.86,-32.7 154.26,-32.66 162.52,-39.3 164.86,-32.7\"/>\n",
       "<text text-anchor=\"middle\" x=\"292.5\" y=\"-57.8\" font-family=\"Times,serif\" font-size=\"14.00\">1</text>\n",
       "</g>\n",
       "<!-- b3 -->\n",
       "<g id=\"node4\" class=\"node\">\n",
       "<title>b3</title>\n",
       "<polygon fill=\"none\" stroke=\"black\" points=\"180,-6 180,-29 220,-29 220,-6 180,-6\"/>\n",
       "<text text-anchor=\"start\" x=\"186\" y=\"-15\" font-family=\"Times,serif\" font-size=\"10.00\">CNOT</text>\n",
       "</g>\n",
       "<!-- b0&#45;&gt;b3 -->\n",
       "<g id=\"edge3\" class=\"edge\">\n",
       "<title>b0-&gt;b3</title>\n",
       "<path fill=\"none\" stroke=\"black\" d=\"M523.9,-98.81C459.65,-90.89 342.66,-73.01 237.57,-35.89\"/>\n",
       "<polygon fill=\"black\" stroke=\"black\" points=\"238.68,-32.57 228.08,-32.47 236.31,-39.16 238.68,-32.57\"/>\n",
       "<text text-anchor=\"middle\" x=\"348.5\" y=\"-57.8\" font-family=\"Times,serif\" font-size=\"14.00\">7</text>\n",
       "</g>\n",
       "<!-- b4 -->\n",
       "<g id=\"node5\" class=\"node\">\n",
       "<title>b4</title>\n",
       "<polygon fill=\"none\" stroke=\"black\" points=\"254,-6 254,-29 294,-29 294,-6 254,-6\"/>\n",
       "<text text-anchor=\"start\" x=\"260\" y=\"-15\" font-family=\"Times,serif\" font-size=\"10.00\">XGate</text>\n",
       "</g>\n",
       "<!-- b0&#45;&gt;b4 -->\n",
       "<g id=\"edge4\" class=\"edge\">\n",
       "<title>b0-&gt;b4</title>\n",
       "<path fill=\"none\" stroke=\"black\" d=\"M523.61,-94.07C472.7,-83.03 390.3,-63.49 311.64,-35.92\"/>\n",
       "<polygon fill=\"black\" stroke=\"black\" points=\"312.66,-32.57 302.07,-32.52 310.32,-39.16 312.66,-32.57\"/>\n",
       "<text text-anchor=\"middle\" x=\"421.5\" y=\"-57.8\" font-family=\"Times,serif\" font-size=\"14.00\">3</text>\n",
       "</g>\n",
       "<!-- b5 -->\n",
       "<g id=\"node6\" class=\"node\">\n",
       "<title>b5</title>\n",
       "<polygon fill=\"none\" stroke=\"black\" points=\"328,-6 328,-29 462,-29 462,-6 328,-6\"/>\n",
       "<text text-anchor=\"start\" x=\"334\" y=\"-15\" font-family=\"Times,serif\" font-size=\"10.00\">PrepareUniformSuperposition</text>\n",
       "</g>\n",
       "<!-- b0&#45;&gt;b5 -->\n",
       "<g id=\"edge5\" class=\"edge\">\n",
       "<title>b0-&gt;b5</title>\n",
       "<path fill=\"none\" stroke=\"black\" d=\"M536.18,-86.8C508.38,-73.45 469.67,-54.86 439.82,-40.52\"/>\n",
       "<polygon fill=\"black\" stroke=\"black\" points=\"440.99,-37.2 430.46,-36.03 437.96,-43.51 440.99,-37.2\"/>\n",
       "<text text-anchor=\"middle\" x=\"498.5\" y=\"-57.8\" font-family=\"Times,serif\" font-size=\"14.00\">2</text>\n",
       "</g>\n",
       "<!-- b6 -->\n",
       "<g id=\"node7\" class=\"node\">\n",
       "<title>b6</title>\n",
       "<polygon fill=\"none\" stroke=\"black\" points=\"505,-6 505,-29 525,-29 525,-6 505,-6\"/>\n",
       "<text text-anchor=\"start\" x=\"511\" y=\"-15\" font-family=\"Times,serif\" font-size=\"10.00\">H</text>\n",
       "</g>\n",
       "<!-- b0&#45;&gt;b6 -->\n",
       "<g id=\"edge6\" class=\"edge\">\n",
       "<title>b0-&gt;b6</title>\n",
       "<path fill=\"none\" stroke=\"black\" d=\"M560.47,-86.8C552.35,-74.7 541.36,-58.3 532.21,-44.67\"/>\n",
       "<polygon fill=\"black\" stroke=\"black\" points=\"534.99,-42.53 526.52,-36.18 529.18,-46.43 534.99,-42.53\"/>\n",
       "<text text-anchor=\"middle\" x=\"550.5\" y=\"-57.8\" font-family=\"Times,serif\" font-size=\"14.00\">2</text>\n",
       "</g>\n",
       "<!-- b7 -->\n",
       "<g id=\"node8\" class=\"node\">\n",
       "<title>b7</title>\n",
       "<polygon fill=\"none\" stroke=\"black\" points=\"568,-6 568,-29 690,-29 690,-6 568,-6\"/>\n",
       "<text text-anchor=\"start\" x=\"574.5\" y=\"-15\" font-family=\"Times,serif\" font-size=\"10.00\">Ry(2.0943951023931957)</text>\n",
       "</g>\n",
       "<!-- b0&#45;&gt;b7 -->\n",
       "<g id=\"edge7\" class=\"edge\">\n",
       "<title>b0-&gt;b7</title>\n",
       "<path fill=\"none\" stroke=\"black\" d=\"M583.53,-86.8C591.65,-74.7 602.64,-58.3 611.79,-44.67\"/>\n",
       "<polygon fill=\"black\" stroke=\"black\" points=\"614.82,-46.43 617.48,-36.18 609.01,-42.53 614.82,-46.43\"/>\n",
       "<text text-anchor=\"middle\" x=\"607.5\" y=\"-57.8\" font-family=\"Times,serif\" font-size=\"14.00\">1</text>\n",
       "</g>\n",
       "<!-- b8 -->\n",
       "<g id=\"node9\" class=\"node\">\n",
       "<title>b8</title>\n",
       "<polygon fill=\"none\" stroke=\"black\" points=\"724,-6 724,-29 766,-29 766,-6 724,-6\"/>\n",
       "<text text-anchor=\"start\" x=\"730\" y=\"-15\" font-family=\"Times,serif\" font-size=\"10.00\">CSwap</text>\n",
       "</g>\n",
       "<!-- b0&#45;&gt;b8 -->\n",
       "<g id=\"edge8\" class=\"edge\">\n",
       "<title>b0-&gt;b8</title>\n",
       "<path fill=\"none\" stroke=\"black\" d=\"M607.01,-86.8C635.87,-72.62 676.77,-52.52 706.54,-37.9\"/>\n",
       "<polygon fill=\"black\" stroke=\"black\" points=\"708.36,-40.9 715.79,-33.35 705.27,-34.62 708.36,-40.9\"/>\n",
       "<text text-anchor=\"middle\" x=\"672.5\" y=\"-57.8\" font-family=\"Times,serif\" font-size=\"14.00\">2</text>\n",
       "</g>\n",
       "<!-- b9 -->\n",
       "<g id=\"node10\" class=\"node\">\n",
       "<title>b9</title>\n",
       "<polygon fill=\"none\" stroke=\"black\" points=\"800,-6 800,-29 930,-29 930,-6 800,-6\"/>\n",
       "<text text-anchor=\"start\" x=\"806.5\" y=\"-15\" font-family=\"Times,serif\" font-size=\"10.00\">C[Ry(2.214297435588181)]</text>\n",
       "</g>\n",
       "<!-- b0&#45;&gt;b9 -->\n",
       "<g id=\"edge9\" class=\"edge\">\n",
       "<title>b0-&gt;b9</title>\n",
       "<path fill=\"none\" stroke=\"black\" d=\"M620.05,-90.06C668.05,-76.14 742.27,-54.6 796.44,-38.89\"/>\n",
       "<polygon fill=\"black\" stroke=\"black\" points=\"797.68,-42.17 806.31,-36.03 795.73,-35.45 797.68,-42.17\"/>\n",
       "<text text-anchor=\"middle\" x=\"740.5\" y=\"-57.8\" font-family=\"Times,serif\" font-size=\"14.00\">1</text>\n",
       "</g>\n",
       "<!-- b10 -->\n",
       "<g id=\"node11\" class=\"node\">\n",
       "<title>b10</title>\n",
       "<polygon fill=\"none\" stroke=\"black\" points=\"964,-6 964,-29 1022,-29 1022,-6 964,-6\"/>\n",
       "<text text-anchor=\"start\" x=\"970\" y=\"-15\" font-family=\"Times,serif\" font-size=\"10.00\">ModAddK</text>\n",
       "</g>\n",
       "<!-- b0&#45;&gt;b10 -->\n",
       "<g id=\"edge10\" class=\"edge\">\n",
       "<title>b0-&gt;b10</title>\n",
       "<path fill=\"none\" stroke=\"black\" d=\"M620.25,-98C690.34,-88.68 824.33,-68.61 945.92,-36.05\"/>\n",
       "<polygon fill=\"black\" stroke=\"black\" points=\"947.04,-39.37 955.77,-33.38 945.2,-32.62 947.04,-39.37\"/>\n",
       "<text text-anchor=\"middle\" x=\"869.5\" y=\"-57.8\" font-family=\"Times,serif\" font-size=\"14.00\">1</text>\n",
       "</g>\n",
       "<!-- b11 -->\n",
       "<g id=\"node12\" class=\"node\">\n",
       "<title>b11</title>\n",
       "<polygon fill=\"none\" stroke=\"black\" points=\"1056,-6 1056,-29 1132,-29 1132,-6 1056,-6\"/>\n",
       "<text text-anchor=\"start\" x=\"1062\" y=\"-15\" font-family=\"Times,serif\" font-size=\"10.00\">MultiAnd(n=3)</text>\n",
       "</g>\n",
       "<!-- b0&#45;&gt;b11 -->\n",
       "<g id=\"edge11\" class=\"edge\">\n",
       "<title>b0-&gt;b11</title>\n",
       "<path fill=\"none\" stroke=\"black\" d=\"M620.05,-100.38C703.69,-93.34 881.3,-75.18 1038.06,-36.1\"/>\n",
       "<polygon fill=\"black\" stroke=\"black\" points=\"1039.04,-39.46 1047.88,-33.62 1037.33,-32.68 1039.04,-39.46\"/>\n",
       "<text text-anchor=\"middle\" x=\"953.5\" y=\"-57.8\" font-family=\"Times,serif\" font-size=\"14.00\">1</text>\n",
       "</g>\n",
       "<!-- b12 -->\n",
       "<g id=\"node13\" class=\"node\">\n",
       "<title>b12</title>\n",
       "<polygon fill=\"none\" stroke=\"black\" points=\"1166,-6 1166,-29 1248,-29 1248,-6 1166,-6\"/>\n",
       "<text text-anchor=\"start\" x=\"1172\" y=\"-15\" font-family=\"Times,serif\" font-size=\"10.00\">MultiAnd(n=3)†</text>\n",
       "</g>\n",
       "<!-- b0&#45;&gt;b12 -->\n",
       "<g id=\"edge12\" class=\"edge\">\n",
       "<title>b0-&gt;b12</title>\n",
       "<path fill=\"none\" stroke=\"black\" d=\"M620.12,-101.97C718.32,-97.06 948.66,-81.53 1147.97,-36.1\"/>\n",
       "<polygon fill=\"black\" stroke=\"black\" points=\"1148.78,-39.51 1157.74,-33.84 1147.21,-32.68 1148.78,-39.51\"/>\n",
       "<text text-anchor=\"middle\" x=\"1058.5\" y=\"-57.8\" font-family=\"Times,serif\" font-size=\"14.00\">1</text>\n",
       "</g>\n",
       "</g>\n",
       "</svg>"
      ],
      "text/plain": [
       "<IPython.core.display.SVG object>"
      ]
     },
     "metadata": {},
     "output_type": "display_data"
    },
    {
     "data": {
      "text/markdown": [
       "#### Counts totals:\n",
       " - `CHadamard`: 1\n",
       " - `CNOT`: 7\n",
       " - `CSwap`: 1\n",
       " - `CSwap`: 2\n",
       " - `C[Ry(2.214297435588181)]`: 1\n",
       " - `H`: 2\n",
       " - `ModAddK`: 1\n",
       " - `MultiAnd(n=3)`: 1\n",
       " - `MultiAnd(n=3)†`: 1\n",
       " - `PrepareUniformSuperposition`: 2\n",
       " - `Ry(2.0943951023931957)`: 1\n",
       " - `XGate`: 3"
      ],
      "text/plain": [
       "<IPython.core.display.Markdown object>"
      ]
     },
     "metadata": {},
     "output_type": "display_data"
    }
   ],
   "source": [
    "from qualtran.resource_counting.generalizers import ignore_split_join\n",
    "prep_hubb_g, prep_hubb_sigma = prep_hubb.call_graph(max_depth=1, generalizer=ignore_split_join)\n",
    "show_call_graph(prep_hubb_g)\n",
    "show_counts_sigma(prep_hubb_sigma)"
   ]
  }
 ],
 "metadata": {
  "kernelspec": {
   "display_name": "Python 3",
   "language": "python",
   "name": "python3"
  },
  "language_info": {
   "codemirror_mode": {
    "name": "ipython",
    "version": 3
   },
   "file_extension": ".py",
   "mimetype": "text/x-python",
   "name": "python",
   "nbconvert_exporter": "python",
   "pygments_lexer": "ipython3",
   "version": "3.11.8"
  },
  "widgets": {
   "application/vnd.jupyter.widget-state+json": {
    "state": {
     "3384fa4c66124aa48ae32e1cb48460df": {
      "model_module": "@jupyter-widgets/controls",
      "model_module_version": "2.0.0",
      "model_name": "HBoxModel",
      "state": {
       "_dom_classes": [],
       "_model_module": "@jupyter-widgets/controls",
       "_model_module_version": "2.0.0",
       "_model_name": "HBoxModel",
       "_view_count": null,
       "_view_module": "@jupyter-widgets/controls",
       "_view_module_version": "2.0.0",
       "_view_name": "HBoxView",
       "box_style": "",
       "children": [
        "IPY_MODEL_e04792435f3c4d86adac869def9664ab"
       ],
       "layout": "IPY_MODEL_dfc5cd418bee4f3791094f5416d31bd7",
       "tabbable": null,
       "tooltip": null
      }
     },
     "6626c94ce3ad4f7f8bb49a45a51d0a30": {
      "model_module": "@jupyter-widgets/output",
      "model_module_version": "1.0.0",
      "model_name": "OutputModel",
      "state": {
       "_dom_classes": [],
       "_model_module": "@jupyter-widgets/output",
       "_model_module_version": "1.0.0",
       "_model_name": "OutputModel",
       "_view_count": null,
       "_view_module": "@jupyter-widgets/output",
       "_view_module_version": "1.0.0",
       "_view_name": "OutputView",
       "layout": "IPY_MODEL_b8376a12c5e748619b1d1660f93ca4ba",
       "msg_id": "",
       "outputs": [
        {
         "data": {
          "text/markdown": "`prep_hubb`",
          "text/plain": "<IPython.core.display.Markdown object>"
         },
         "metadata": {},
         "output_type": "display_data"
        },
        {
         "data": {
          "image/svg+xml": "<svg xmlns=\"http://www.w3.org/2000/svg\" xmlns:xlink=\"http://www.w3.org/1999/xlink\" width=\"263pt\" height=\"476pt\" viewBox=\"0.00 0.00 263.00 476.00\">\n<g id=\"graph0\" class=\"graph\" transform=\"scale(1 1) rotate(0) translate(4 472)\">\n<title>my_graph</title>\n<polygon fill=\"white\" stroke=\"transparent\" points=\"-4,4 -4,-472 259,-472 259,4 -4,4\"/>\n<!-- U_G8 -->\n<g id=\"node1\" class=\"node\">\n<title>U_G8</title>\n<text text-anchor=\"middle\" x=\"27\" y=\"-446.3\" font-family=\"Times,serif\" font-size=\"14.00\">U</text>\n</g>\n<!-- PrepareHubbard -->\n<g id=\"node10\" class=\"node\">\n<title>PrepareHubbard</title>\n<polygon fill=\"none\" stroke=\"black\" points=\"91.5,-329 91.5,-346 164.5,-346 164.5,-329 91.5,-329\"/>\n<text text-anchor=\"start\" x=\"94.5\" y=\"-335\" font-family=\"Times,serif\" font-size=\"10.00\">PrepareHubbard</text>\n<polygon fill=\"none\" stroke=\"black\" points=\"91.5,-308 91.5,-329 164.5,-329 164.5,-308 91.5,-308\"/>\n<text text-anchor=\"start\" x=\"123\" y=\"-314.8\" font-family=\"Times,serif\" font-size=\"14.00\">U</text>\n<polygon fill=\"none\" stroke=\"black\" points=\"91.5,-287 91.5,-308 164.5,-308 164.5,-287 91.5,-287\"/>\n<text text-anchor=\"start\" x=\"123\" y=\"-293.8\" font-family=\"Times,serif\" font-size=\"14.00\">V</text>\n<polygon fill=\"none\" stroke=\"black\" points=\"91.5,-266 91.5,-287 164.5,-287 164.5,-266 91.5,-266\"/>\n<text text-anchor=\"start\" x=\"117.5\" y=\"-272.8\" font-family=\"Times,serif\" font-size=\"14.00\">p_x</text>\n<polygon fill=\"none\" stroke=\"black\" points=\"91.5,-245 91.5,-266 164.5,-266 164.5,-245 91.5,-245\"/>\n<text text-anchor=\"start\" x=\"117.5\" y=\"-251.8\" font-family=\"Times,serif\" font-size=\"14.00\">p_y</text>\n<polygon fill=\"none\" stroke=\"black\" points=\"91.5,-224 91.5,-245 164.5,-245 164.5,-224 91.5,-224\"/>\n<text text-anchor=\"start\" x=\"113\" y=\"-230.8\" font-family=\"Times,serif\" font-size=\"14.00\">alpha</text>\n<polygon fill=\"none\" stroke=\"black\" points=\"91.5,-203 91.5,-224 164.5,-224 164.5,-203 91.5,-203\"/>\n<text text-anchor=\"start\" x=\"117.5\" y=\"-209.8\" font-family=\"Times,serif\" font-size=\"14.00\">q_x</text>\n<polygon fill=\"none\" stroke=\"black\" points=\"91.5,-182 91.5,-203 164.5,-203 164.5,-182 91.5,-182\"/>\n<text text-anchor=\"start\" x=\"117.5\" y=\"-188.8\" font-family=\"Times,serif\" font-size=\"14.00\">q_y</text>\n<polygon fill=\"none\" stroke=\"black\" points=\"91.5,-161 91.5,-182 164.5,-182 164.5,-161 91.5,-161\"/>\n<text text-anchor=\"start\" x=\"116.5\" y=\"-167.8\" font-family=\"Times,serif\" font-size=\"14.00\">beta</text>\n<polygon fill=\"none\" stroke=\"black\" points=\"91.5,-140 91.5,-161 164.5,-161 164.5,-140 91.5,-140\"/>\n<text text-anchor=\"start\" x=\"114\" y=\"-146.8\" font-family=\"Times,serif\" font-size=\"14.00\">temp</text>\n</g>\n<!-- U_G8&#45;&gt;PrepareHubbard -->\n<g id=\"edge1\" class=\"edge\">\n<title>U_G8:e-&gt;PrepareHubbard:w</title>\n<path fill=\"none\" stroke=\"black\" d=\"M54,-450C83.54,-450 61.82,-325.07 88.96,-319.21\"/>\n<ellipse fill=\"black\" stroke=\"black\" cx=\"90.01\" cy=\"-319.1\" rx=\"1\" ry=\"1\"/>\n<text text-anchor=\"middle\" x=\"72.5\" y=\"-395\" font-family=\"Times,serif\" font-size=\"10.00\">1</text>\n</g>\n<!-- V_G26 -->\n<g id=\"node2\" class=\"node\">\n<title>V_G26</title>\n<text text-anchor=\"middle\" x=\"27\" y=\"-392.3\" font-family=\"Times,serif\" font-size=\"14.00\">V</text>\n</g>\n<!-- V_G26&#45;&gt;PrepareHubbard -->\n<g id=\"edge2\" class=\"edge\">\n<title>V_G26:e-&gt;PrepareHubbard:w</title>\n<path fill=\"none\" stroke=\"black\" d=\"M54,-396C76.55,-396 68.29,-304.03 88.91,-298.28\"/>\n<ellipse fill=\"black\" stroke=\"black\" cx=\"90.01\" cy=\"-298.13\" rx=\"1\" ry=\"1\"/>\n<text text-anchor=\"middle\" x=\"72.5\" y=\"-352\" font-family=\"Times,serif\" font-size=\"10.00\">1</text>\n</g>\n<!-- p_x_G13 -->\n<g id=\"node3\" class=\"node\">\n<title>p_x_G13</title>\n<text text-anchor=\"middle\" x=\"27\" y=\"-338.3\" font-family=\"Times,serif\" font-size=\"14.00\">p_x</text>\n</g>\n<!-- p_x_G13&#45;&gt;PrepareHubbard -->\n<g id=\"edge3\" class=\"edge\">\n<title>p_x_G13:e-&gt;PrepareHubbard:w</title>\n<path fill=\"none\" stroke=\"black\" d=\"M54,-342C86.46,-342 59.11,-280.01 88.76,-277.11\"/>\n<ellipse fill=\"black\" stroke=\"black\" cx=\"90\" cy=\"-277.05\" rx=\"1\" ry=\"1\"/>\n<text text-anchor=\"middle\" x=\"72.5\" y=\"-318\" font-family=\"Times,serif\" font-size=\"10.00\">2</text>\n</g>\n<!-- p_y_G2 -->\n<g id=\"node4\" class=\"node\">\n<title>p_y_G2</title>\n<text text-anchor=\"middle\" x=\"27\" y=\"-284.3\" font-family=\"Times,serif\" font-size=\"14.00\">p_y</text>\n</g>\n<!-- p_y_G2&#45;&gt;PrepareHubbard -->\n<g id=\"edge4\" class=\"edge\">\n<title>p_y_G2:e-&gt;PrepareHubbard:w</title>\n<path fill=\"none\" stroke=\"black\" d=\"M54,-288C74.89,-288 69.72,-258.45 88.58,-256.14\"/>\n<ellipse fill=\"black\" stroke=\"black\" cx=\"90\" cy=\"-256.06\" rx=\"1\" ry=\"1\"/>\n<text text-anchor=\"middle\" x=\"72.5\" y=\"-275\" font-family=\"Times,serif\" font-size=\"10.00\">2</text>\n</g>\n<!-- alpha_G19 -->\n<g id=\"node5\" class=\"node\">\n<title>alpha_G19</title>\n<text text-anchor=\"middle\" x=\"27\" y=\"-230.3\" font-family=\"Times,serif\" font-size=\"14.00\">alpha</text>\n</g>\n<!-- alpha_G19&#45;&gt;PrepareHubbard -->\n<g id=\"edge5\" class=\"edge\">\n<title>alpha_G19:e-&gt;PrepareHubbard:w</title>\n<path fill=\"none\" stroke=\"black\" d=\"M54,-234C69.67,-234 74.14,-234 88.77,-234\"/>\n<ellipse fill=\"black\" stroke=\"black\" cx=\"90\" cy=\"-234\" rx=\"1\" ry=\"1\"/>\n<text text-anchor=\"middle\" x=\"72.5\" y=\"-237\" font-family=\"Times,serif\" font-size=\"10.00\">1</text>\n</g>\n<!-- q_x_G23 -->\n<g id=\"node6\" class=\"node\">\n<title>q_x_G23</title>\n<text text-anchor=\"middle\" x=\"27\" y=\"-176.3\" font-family=\"Times,serif\" font-size=\"14.00\">q_x</text>\n</g>\n<!-- q_x_G23&#45;&gt;PrepareHubbard -->\n<g id=\"edge6\" class=\"edge\">\n<title>q_x_G23:e-&gt;PrepareHubbard:w</title>\n<path fill=\"none\" stroke=\"black\" d=\"M54,-180C75.17,-180 69.47,-210.47 88.55,-212.85\"/>\n<ellipse fill=\"black\" stroke=\"black\" cx=\"90\" cy=\"-212.94\" rx=\"1\" ry=\"1\"/>\n<text text-anchor=\"middle\" x=\"72.5\" y=\"-200\" font-family=\"Times,serif\" font-size=\"10.00\">2</text>\n</g>\n<!-- q_y_G16 -->\n<g id=\"node7\" class=\"node\">\n<title>q_y_G16</title>\n<text text-anchor=\"middle\" x=\"27\" y=\"-122.3\" font-family=\"Times,serif\" font-size=\"14.00\">q_y</text>\n</g>\n<!-- q_y_G16&#45;&gt;PrepareHubbard -->\n<g id=\"edge7\" class=\"edge\">\n<title>q_y_G16:e-&gt;PrepareHubbard:w</title>\n<path fill=\"none\" stroke=\"black\" d=\"M54,-126C86.84,-126 58.75,-188.94 88.74,-191.89\"/>\n<ellipse fill=\"black\" stroke=\"black\" cx=\"90\" cy=\"-191.95\" rx=\"1\" ry=\"1\"/>\n<text text-anchor=\"middle\" x=\"72.5\" y=\"-169\" font-family=\"Times,serif\" font-size=\"10.00\">2</text>\n</g>\n<!-- beta_G24 -->\n<g id=\"node8\" class=\"node\">\n<title>beta_G24</title>\n<text text-anchor=\"middle\" x=\"27\" y=\"-68.3\" font-family=\"Times,serif\" font-size=\"14.00\">beta</text>\n</g>\n<!-- beta_G24&#45;&gt;PrepareHubbard -->\n<g id=\"edge8\" class=\"edge\">\n<title>beta_G24:e-&gt;PrepareHubbard:w</title>\n<path fill=\"none\" stroke=\"black\" d=\"M54,-72C76.75,-72 68.1,-164.91 88.89,-170.72\"/>\n<ellipse fill=\"black\" stroke=\"black\" cx=\"90.01\" cy=\"-170.87\" rx=\"1\" ry=\"1\"/>\n<text text-anchor=\"middle\" x=\"72.5\" y=\"-127\" font-family=\"Times,serif\" font-size=\"10.00\">1</text>\n</g>\n<!-- temp_G3 -->\n<g id=\"node9\" class=\"node\">\n<title>temp_G3</title>\n<text text-anchor=\"middle\" x=\"27\" y=\"-14.3\" font-family=\"Times,serif\" font-size=\"14.00\">temp</text>\n</g>\n<!-- temp_G3&#45;&gt;PrepareHubbard -->\n<g id=\"edge9\" class=\"edge\">\n<title>temp_G3:e-&gt;PrepareHubbard:w</title>\n<path fill=\"none\" stroke=\"black\" d=\"M54,-18C83.75,-18 61.63,-143.89 88.95,-149.79\"/>\n<ellipse fill=\"black\" stroke=\"black\" cx=\"90.01\" cy=\"-149.9\" rx=\"1\" ry=\"1\"/>\n<text text-anchor=\"middle\" x=\"72.5\" y=\"-95\" font-family=\"Times,serif\" font-size=\"10.00\">2</text>\n</g>\n<!-- U_G18 -->\n<g id=\"node11\" class=\"node\">\n<title>U_G18</title>\n<text text-anchor=\"middle\" x=\"228\" y=\"-446.3\" font-family=\"Times,serif\" font-size=\"14.00\">U</text>\n</g>\n<!-- PrepareHubbard&#45;&gt;U_G18 -->\n<g id=\"edge10\" class=\"edge\">\n<title>PrepareHubbard:e-&gt;U_G18:w</title>\n<path fill=\"none\" stroke=\"black\" d=\"M164,-319C193.54,-319 171.82,-443.93 198.96,-449.79\"/>\n<ellipse fill=\"black\" stroke=\"black\" cx=\"200.01\" cy=\"-449.9\" rx=\"1\" ry=\"1\"/>\n<text text-anchor=\"middle\" x=\"182.5\" y=\"-395\" font-family=\"Times,serif\" font-size=\"10.00\">1</text>\n</g>\n<!-- V_G9 -->\n<g id=\"node12\" class=\"node\">\n<title>V_G9</title>\n<text text-anchor=\"middle\" x=\"228\" y=\"-392.3\" font-family=\"Times,serif\" font-size=\"14.00\">V</text>\n</g>\n<!-- PrepareHubbard&#45;&gt;V_G9 -->\n<g id=\"edge11\" class=\"edge\">\n<title>PrepareHubbard:e-&gt;V_G9:w</title>\n<path fill=\"none\" stroke=\"black\" d=\"M164,-298C186.55,-298 178.29,-389.97 198.91,-395.72\"/>\n<ellipse fill=\"black\" stroke=\"black\" cx=\"200.01\" cy=\"-395.87\" rx=\"1\" ry=\"1\"/>\n<text text-anchor=\"middle\" x=\"182.5\" y=\"-352\" font-family=\"Times,serif\" font-size=\"10.00\">1</text>\n</g>\n<!-- p_x_G10 -->\n<g id=\"node13\" class=\"node\">\n<title>p_x_G10</title>\n<text text-anchor=\"middle\" x=\"228\" y=\"-338.3\" font-family=\"Times,serif\" font-size=\"14.00\">p_x</text>\n</g>\n<!-- PrepareHubbard&#45;&gt;p_x_G10 -->\n<g id=\"edge12\" class=\"edge\">\n<title>PrepareHubbard:e-&gt;p_x_G10:w</title>\n<path fill=\"none\" stroke=\"black\" d=\"M164,-277C196.46,-277 169.11,-338.99 198.76,-341.89\"/>\n<ellipse fill=\"black\" stroke=\"black\" cx=\"200\" cy=\"-341.95\" rx=\"1\" ry=\"1\"/>\n<text text-anchor=\"middle\" x=\"182.5\" y=\"-318\" font-family=\"Times,serif\" font-size=\"10.00\">2</text>\n</g>\n<!-- p_y_G12 -->\n<g id=\"node14\" class=\"node\">\n<title>p_y_G12</title>\n<text text-anchor=\"middle\" x=\"228\" y=\"-284.3\" font-family=\"Times,serif\" font-size=\"14.00\">p_y</text>\n</g>\n<!-- PrepareHubbard&#45;&gt;p_y_G12 -->\n<g id=\"edge13\" class=\"edge\">\n<title>PrepareHubbard:e-&gt;p_y_G12:w</title>\n<path fill=\"none\" stroke=\"black\" d=\"M164,-256C184.89,-256 179.72,-285.55 198.58,-287.86\"/>\n<ellipse fill=\"black\" stroke=\"black\" cx=\"200\" cy=\"-287.94\" rx=\"1\" ry=\"1\"/>\n<text text-anchor=\"middle\" x=\"182.5\" y=\"-275\" font-family=\"Times,serif\" font-size=\"10.00\">2</text>\n</g>\n<!-- alpha_G20 -->\n<g id=\"node15\" class=\"node\">\n<title>alpha_G20</title>\n<text text-anchor=\"middle\" x=\"228\" y=\"-230.3\" font-family=\"Times,serif\" font-size=\"14.00\">alpha</text>\n</g>\n<!-- PrepareHubbard&#45;&gt;alpha_G20 -->\n<g id=\"edge14\" class=\"edge\">\n<title>PrepareHubbard:e-&gt;alpha_G20:w</title>\n<path fill=\"none\" stroke=\"black\" d=\"M164,-234C179.67,-234 184.14,-234 198.77,-234\"/>\n<ellipse fill=\"black\" stroke=\"black\" cx=\"200\" cy=\"-234\" rx=\"1\" ry=\"1\"/>\n<text text-anchor=\"middle\" x=\"182.5\" y=\"-237\" font-family=\"Times,serif\" font-size=\"10.00\">1</text>\n</g>\n<!-- q_x_G1 -->\n<g id=\"node16\" class=\"node\">\n<title>q_x_G1</title>\n<text text-anchor=\"middle\" x=\"228\" y=\"-176.3\" font-family=\"Times,serif\" font-size=\"14.00\">q_x</text>\n</g>\n<!-- PrepareHubbard&#45;&gt;q_x_G1 -->\n<g id=\"edge15\" class=\"edge\">\n<title>PrepareHubbard:e-&gt;q_x_G1:w</title>\n<path fill=\"none\" stroke=\"black\" d=\"M164,-213C185.17,-213 179.47,-182.53 198.55,-180.15\"/>\n<ellipse fill=\"black\" stroke=\"black\" cx=\"200\" cy=\"-180.06\" rx=\"1\" ry=\"1\"/>\n<text text-anchor=\"middle\" x=\"182.5\" y=\"-200\" font-family=\"Times,serif\" font-size=\"10.00\">2</text>\n</g>\n<!-- q_y_G25 -->\n<g id=\"node17\" class=\"node\">\n<title>q_y_G25</title>\n<text text-anchor=\"middle\" x=\"228\" y=\"-122.3\" font-family=\"Times,serif\" font-size=\"14.00\">q_y</text>\n</g>\n<!-- PrepareHubbard&#45;&gt;q_y_G25 -->\n<g id=\"edge16\" class=\"edge\">\n<title>PrepareHubbard:e-&gt;q_y_G25:w</title>\n<path fill=\"none\" stroke=\"black\" d=\"M164,-192C196.84,-192 168.75,-129.06 198.74,-126.11\"/>\n<ellipse fill=\"black\" stroke=\"black\" cx=\"200\" cy=\"-126.05\" rx=\"1\" ry=\"1\"/>\n<text text-anchor=\"middle\" x=\"182.5\" y=\"-169\" font-family=\"Times,serif\" font-size=\"10.00\">2</text>\n</g>\n<!-- beta_G4 -->\n<g id=\"node18\" class=\"node\">\n<title>beta_G4</title>\n<text text-anchor=\"middle\" x=\"228\" y=\"-68.3\" font-family=\"Times,serif\" font-size=\"14.00\">beta</text>\n</g>\n<!-- PrepareHubbard&#45;&gt;beta_G4 -->\n<g id=\"edge17\" class=\"edge\">\n<title>PrepareHubbard:e-&gt;beta_G4:w</title>\n<path fill=\"none\" stroke=\"black\" d=\"M164,-171C186.75,-171 178.1,-78.09 198.89,-72.28\"/>\n<ellipse fill=\"black\" stroke=\"black\" cx=\"200.01\" cy=\"-72.13\" rx=\"1\" ry=\"1\"/>\n<text text-anchor=\"middle\" x=\"182.5\" y=\"-127\" font-family=\"Times,serif\" font-size=\"10.00\">1</text>\n</g>\n<!-- temp_G5 -->\n<g id=\"node19\" class=\"node\">\n<title>temp_G5</title>\n<text text-anchor=\"middle\" x=\"228\" y=\"-14.3\" font-family=\"Times,serif\" font-size=\"14.00\">temp</text>\n</g>\n<!-- PrepareHubbard&#45;&gt;temp_G5 -->\n<g id=\"edge18\" class=\"edge\">\n<title>PrepareHubbard:e-&gt;temp_G5:w</title>\n<path fill=\"none\" stroke=\"black\" d=\"M164,-150C193.75,-150 171.63,-24.11 198.95,-18.21\"/>\n<ellipse fill=\"black\" stroke=\"black\" cx=\"200.01\" cy=\"-18.1\" rx=\"1\" ry=\"1\"/>\n<text text-anchor=\"middle\" x=\"182.5\" y=\"-95\" font-family=\"Times,serif\" font-size=\"10.00\">2</text>\n</g>\n</g>\n</svg>",
          "text/plain": "<IPython.core.display.SVG object>"
         },
         "metadata": {},
         "output_type": "display_data"
        }
       ],
       "tabbable": null,
       "tooltip": null
      }
     },
     "a6dd69ab49a7483d9ab8d3c112889d63": {
      "model_module": "@jupyter-widgets/base",
      "model_module_version": "2.0.0",
      "model_name": "LayoutModel",
      "state": {
       "_model_module": "@jupyter-widgets/base",
       "_model_module_version": "2.0.0",
       "_model_name": "LayoutModel",
       "_view_count": null,
       "_view_module": "@jupyter-widgets/base",
       "_view_module_version": "2.0.0",
       "_view_name": "LayoutView",
       "align_content": null,
       "align_items": null,
       "align_self": null,
       "border_bottom": null,
       "border_left": null,
       "border_right": null,
       "border_top": null,
       "bottom": null,
       "display": null,
       "flex": null,
       "flex_flow": null,
       "grid_area": null,
       "grid_auto_columns": null,
       "grid_auto_flow": null,
       "grid_auto_rows": null,
       "grid_column": null,
       "grid_gap": null,
       "grid_row": null,
       "grid_template_areas": null,
       "grid_template_columns": null,
       "grid_template_rows": null,
       "height": null,
       "justify_content": null,
       "justify_items": null,
       "left": null,
       "margin": null,
       "max_height": null,
       "max_width": null,
       "min_height": null,
       "min_width": null,
       "object_fit": null,
       "object_position": null,
       "order": null,
       "overflow": null,
       "padding": null,
       "right": null,
       "top": null,
       "visibility": null,
       "width": null
      }
     },
     "ac90eb0ccc2b42bd9a6244dbc7336d4c": {
      "model_module": "@jupyter-widgets/controls",
      "model_module_version": "2.0.0",
      "model_name": "HBoxModel",
      "state": {
       "_dom_classes": [],
       "_model_module": "@jupyter-widgets/controls",
       "_model_module_version": "2.0.0",
       "_model_name": "HBoxModel",
       "_view_count": null,
       "_view_module": "@jupyter-widgets/controls",
       "_view_module_version": "2.0.0",
       "_view_name": "HBoxView",
       "box_style": "",
       "children": [
        "IPY_MODEL_6626c94ce3ad4f7f8bb49a45a51d0a30"
       ],
       "layout": "IPY_MODEL_a6dd69ab49a7483d9ab8d3c112889d63",
       "tabbable": null,
       "tooltip": null
      }
     },
     "b8376a12c5e748619b1d1660f93ca4ba": {
      "model_module": "@jupyter-widgets/base",
      "model_module_version": "2.0.0",
      "model_name": "LayoutModel",
      "state": {
       "_model_module": "@jupyter-widgets/base",
       "_model_module_version": "2.0.0",
       "_model_name": "LayoutModel",
       "_view_count": null,
       "_view_module": "@jupyter-widgets/base",
       "_view_module_version": "2.0.0",
       "_view_name": "LayoutView",
       "align_content": null,
       "align_items": null,
       "align_self": null,
       "border_bottom": null,
       "border_left": null,
       "border_right": null,
       "border_top": null,
       "bottom": null,
       "display": null,
       "flex": null,
       "flex_flow": null,
       "grid_area": null,
       "grid_auto_columns": null,
       "grid_auto_flow": null,
       "grid_auto_rows": null,
       "grid_column": null,
       "grid_gap": null,
       "grid_row": null,
       "grid_template_areas": null,
       "grid_template_columns": null,
       "grid_template_rows": null,
       "height": null,
       "justify_content": null,
       "justify_items": null,
       "left": null,
       "margin": null,
       "max_height": null,
       "max_width": null,
       "min_height": null,
       "min_width": null,
       "object_fit": null,
       "object_position": null,
       "order": null,
       "overflow": null,
       "padding": null,
       "right": null,
       "top": null,
       "visibility": null,
       "width": null
      }
     },
     "dfc5cd418bee4f3791094f5416d31bd7": {
      "model_module": "@jupyter-widgets/base",
      "model_module_version": "2.0.0",
      "model_name": "LayoutModel",
      "state": {
       "_model_module": "@jupyter-widgets/base",
       "_model_module_version": "2.0.0",
       "_model_name": "LayoutModel",
       "_view_count": null,
       "_view_module": "@jupyter-widgets/base",
       "_view_module_version": "2.0.0",
       "_view_name": "LayoutView",
       "align_content": null,
       "align_items": null,
       "align_self": null,
       "border_bottom": null,
       "border_left": null,
       "border_right": null,
       "border_top": null,
       "bottom": null,
       "display": null,
       "flex": null,
       "flex_flow": null,
       "grid_area": null,
       "grid_auto_columns": null,
       "grid_auto_flow": null,
       "grid_auto_rows": null,
       "grid_column": null,
       "grid_gap": null,
       "grid_row": null,
       "grid_template_areas": null,
       "grid_template_columns": null,
       "grid_template_rows": null,
       "height": null,
       "justify_content": null,
       "justify_items": null,
       "left": null,
       "margin": null,
       "max_height": null,
       "max_width": null,
       "min_height": null,
       "min_width": null,
       "object_fit": null,
       "object_position": null,
       "order": null,
       "overflow": null,
       "padding": null,
       "right": null,
       "top": null,
       "visibility": null,
       "width": null
      }
     },
     "e04792435f3c4d86adac869def9664ab": {
      "model_module": "@jupyter-widgets/output",
      "model_module_version": "1.0.0",
      "model_name": "OutputModel",
      "state": {
       "_dom_classes": [],
       "_model_module": "@jupyter-widgets/output",
       "_model_module_version": "1.0.0",
       "_model_name": "OutputModel",
       "_view_count": null,
       "_view_module": "@jupyter-widgets/output",
       "_view_module_version": "1.0.0",
       "_view_name": "OutputView",
       "layout": "IPY_MODEL_e182ae791b084228a91428806cc2051b",
       "msg_id": "",
       "outputs": [
        {
         "data": {
          "text/markdown": "`sel_hubb`",
          "text/plain": "<IPython.core.display.Markdown object>"
         },
         "metadata": {},
         "output_type": "display_data"
        },
        {
         "data": {
          "image/svg+xml": "<svg xmlns=\"http://www.w3.org/2000/svg\" xmlns:xlink=\"http://www.w3.org/1999/xlink\" width=\"278pt\" height=\"476pt\" viewBox=\"0.00 0.00 278.00 476.00\">\n<g id=\"graph0\" class=\"graph\" transform=\"scale(1 1) rotate(0) translate(4 472)\">\n<title>my_graph</title>\n<polygon fill=\"white\" stroke=\"transparent\" points=\"-4,4 -4,-472 274,-472 274,4 -4,4\"/>\n<!-- U_G8 -->\n<g id=\"node1\" class=\"node\">\n<title>U_G8</title>\n<text text-anchor=\"middle\" x=\"27\" y=\"-446.3\" font-family=\"Times,serif\" font-size=\"14.00\">U</text>\n</g>\n<!-- SelectHubbard -->\n<g id=\"node10\" class=\"node\">\n<title>SelectHubbard</title>\n<polygon fill=\"none\" stroke=\"black\" points=\"91,-329 91,-346 179,-346 179,-329 91,-329\"/>\n<text text-anchor=\"start\" x=\"94\" y=\"-335\" font-family=\"Times,serif\" font-size=\"10.00\">SelectHubbard(4, 4)</text>\n<polygon fill=\"none\" stroke=\"black\" points=\"91,-308 91,-329 179,-329 179,-308 91,-308\"/>\n<text text-anchor=\"start\" x=\"130\" y=\"-314.8\" font-family=\"Times,serif\" font-size=\"14.00\">U</text>\n<polygon fill=\"none\" stroke=\"black\" points=\"91,-287 91,-308 179,-308 179,-287 91,-287\"/>\n<text text-anchor=\"start\" x=\"130\" y=\"-293.8\" font-family=\"Times,serif\" font-size=\"14.00\">V</text>\n<polygon fill=\"none\" stroke=\"black\" points=\"91,-266 91,-287 179,-287 179,-266 91,-266\"/>\n<text text-anchor=\"start\" x=\"124.5\" y=\"-272.8\" font-family=\"Times,serif\" font-size=\"14.00\">p_x</text>\n<polygon fill=\"none\" stroke=\"black\" points=\"91,-245 91,-266 179,-266 179,-245 91,-245\"/>\n<text text-anchor=\"start\" x=\"124.5\" y=\"-251.8\" font-family=\"Times,serif\" font-size=\"14.00\">p_y</text>\n<polygon fill=\"none\" stroke=\"black\" points=\"91,-224 91,-245 179,-245 179,-224 91,-224\"/>\n<text text-anchor=\"start\" x=\"120\" y=\"-230.8\" font-family=\"Times,serif\" font-size=\"14.00\">alpha</text>\n<polygon fill=\"none\" stroke=\"black\" points=\"91,-203 91,-224 179,-224 179,-203 91,-203\"/>\n<text text-anchor=\"start\" x=\"124.5\" y=\"-209.8\" font-family=\"Times,serif\" font-size=\"14.00\">q_x</text>\n<polygon fill=\"none\" stroke=\"black\" points=\"91,-182 91,-203 179,-203 179,-182 91,-182\"/>\n<text text-anchor=\"start\" x=\"124.5\" y=\"-188.8\" font-family=\"Times,serif\" font-size=\"14.00\">q_y</text>\n<polygon fill=\"none\" stroke=\"black\" points=\"91,-161 91,-182 179,-182 179,-161 91,-161\"/>\n<text text-anchor=\"start\" x=\"123.5\" y=\"-167.8\" font-family=\"Times,serif\" font-size=\"14.00\">beta</text>\n<polygon fill=\"none\" stroke=\"black\" points=\"91,-140 91,-161 179,-161 179,-140 91,-140\"/>\n<text text-anchor=\"start\" x=\"119.5\" y=\"-146.8\" font-family=\"Times,serif\" font-size=\"14.00\">target</text>\n</g>\n<!-- U_G8&#45;&gt;SelectHubbard -->\n<g id=\"edge1\" class=\"edge\">\n<title>U_G8:e-&gt;SelectHubbard:w</title>\n<path fill=\"none\" stroke=\"black\" d=\"M54,-450C83.54,-450 61.82,-325.07 88.96,-319.21\"/>\n<ellipse fill=\"black\" stroke=\"black\" cx=\"90.01\" cy=\"-319.1\" rx=\"1\" ry=\"1\"/>\n<text text-anchor=\"middle\" x=\"72.5\" y=\"-395\" font-family=\"Times,serif\" font-size=\"10.00\">1</text>\n</g>\n<!-- V_G1 -->\n<g id=\"node2\" class=\"node\">\n<title>V_G1</title>\n<text text-anchor=\"middle\" x=\"27\" y=\"-392.3\" font-family=\"Times,serif\" font-size=\"14.00\">V</text>\n</g>\n<!-- V_G1&#45;&gt;SelectHubbard -->\n<g id=\"edge2\" class=\"edge\">\n<title>V_G1:e-&gt;SelectHubbard:w</title>\n<path fill=\"none\" stroke=\"black\" d=\"M54,-396C76.55,-396 68.29,-304.03 88.91,-298.28\"/>\n<ellipse fill=\"black\" stroke=\"black\" cx=\"90.01\" cy=\"-298.13\" rx=\"1\" ry=\"1\"/>\n<text text-anchor=\"middle\" x=\"72.5\" y=\"-352\" font-family=\"Times,serif\" font-size=\"10.00\">1</text>\n</g>\n<!-- p_x_G13 -->\n<g id=\"node3\" class=\"node\">\n<title>p_x_G13</title>\n<text text-anchor=\"middle\" x=\"27\" y=\"-338.3\" font-family=\"Times,serif\" font-size=\"14.00\">p_x</text>\n</g>\n<!-- p_x_G13&#45;&gt;SelectHubbard -->\n<g id=\"edge3\" class=\"edge\">\n<title>p_x_G13:e-&gt;SelectHubbard:w</title>\n<path fill=\"none\" stroke=\"black\" d=\"M54,-342C86.46,-342 59.11,-280.01 88.76,-277.11\"/>\n<ellipse fill=\"black\" stroke=\"black\" cx=\"90\" cy=\"-277.05\" rx=\"1\" ry=\"1\"/>\n<text text-anchor=\"middle\" x=\"72.5\" y=\"-318\" font-family=\"Times,serif\" font-size=\"10.00\">2</text>\n</g>\n<!-- p_y_G4 -->\n<g id=\"node4\" class=\"node\">\n<title>p_y_G4</title>\n<text text-anchor=\"middle\" x=\"27\" y=\"-284.3\" font-family=\"Times,serif\" font-size=\"14.00\">p_y</text>\n</g>\n<!-- p_y_G4&#45;&gt;SelectHubbard -->\n<g id=\"edge4\" class=\"edge\">\n<title>p_y_G4:e-&gt;SelectHubbard:w</title>\n<path fill=\"none\" stroke=\"black\" d=\"M54,-288C74.89,-288 69.72,-258.45 88.58,-256.14\"/>\n<ellipse fill=\"black\" stroke=\"black\" cx=\"90\" cy=\"-256.06\" rx=\"1\" ry=\"1\"/>\n<text text-anchor=\"middle\" x=\"72.5\" y=\"-275\" font-family=\"Times,serif\" font-size=\"10.00\">2</text>\n</g>\n<!-- alpha_G17 -->\n<g id=\"node5\" class=\"node\">\n<title>alpha_G17</title>\n<text text-anchor=\"middle\" x=\"27\" y=\"-230.3\" font-family=\"Times,serif\" font-size=\"14.00\">alpha</text>\n</g>\n<!-- alpha_G17&#45;&gt;SelectHubbard -->\n<g id=\"edge5\" class=\"edge\">\n<title>alpha_G17:e-&gt;SelectHubbard:w</title>\n<path fill=\"none\" stroke=\"black\" d=\"M54,-234C69.67,-234 74.14,-234 88.77,-234\"/>\n<ellipse fill=\"black\" stroke=\"black\" cx=\"90\" cy=\"-234\" rx=\"1\" ry=\"1\"/>\n<text text-anchor=\"middle\" x=\"72.5\" y=\"-237\" font-family=\"Times,serif\" font-size=\"10.00\">1</text>\n</g>\n<!-- q_x_G21 -->\n<g id=\"node6\" class=\"node\">\n<title>q_x_G21</title>\n<text text-anchor=\"middle\" x=\"27\" y=\"-176.3\" font-family=\"Times,serif\" font-size=\"14.00\">q_x</text>\n</g>\n<!-- q_x_G21&#45;&gt;SelectHubbard -->\n<g id=\"edge6\" class=\"edge\">\n<title>q_x_G21:e-&gt;SelectHubbard:w</title>\n<path fill=\"none\" stroke=\"black\" d=\"M54,-180C75.17,-180 69.47,-210.47 88.55,-212.85\"/>\n<ellipse fill=\"black\" stroke=\"black\" cx=\"90\" cy=\"-212.94\" rx=\"1\" ry=\"1\"/>\n<text text-anchor=\"middle\" x=\"72.5\" y=\"-200\" font-family=\"Times,serif\" font-size=\"10.00\">2</text>\n</g>\n<!-- q_y_G15 -->\n<g id=\"node7\" class=\"node\">\n<title>q_y_G15</title>\n<text text-anchor=\"middle\" x=\"27\" y=\"-122.3\" font-family=\"Times,serif\" font-size=\"14.00\">q_y</text>\n</g>\n<!-- q_y_G15&#45;&gt;SelectHubbard -->\n<g id=\"edge7\" class=\"edge\">\n<title>q_y_G15:e-&gt;SelectHubbard:w</title>\n<path fill=\"none\" stroke=\"black\" d=\"M54,-126C86.84,-126 58.75,-188.94 88.74,-191.89\"/>\n<ellipse fill=\"black\" stroke=\"black\" cx=\"90\" cy=\"-191.95\" rx=\"1\" ry=\"1\"/>\n<text text-anchor=\"middle\" x=\"72.5\" y=\"-169\" font-family=\"Times,serif\" font-size=\"10.00\">2</text>\n</g>\n<!-- beta_G22 -->\n<g id=\"node8\" class=\"node\">\n<title>beta_G22</title>\n<text text-anchor=\"middle\" x=\"27\" y=\"-68.3\" font-family=\"Times,serif\" font-size=\"14.00\">beta</text>\n</g>\n<!-- beta_G22&#45;&gt;SelectHubbard -->\n<g id=\"edge8\" class=\"edge\">\n<title>beta_G22:e-&gt;SelectHubbard:w</title>\n<path fill=\"none\" stroke=\"black\" d=\"M54,-72C76.75,-72 68.1,-164.91 88.89,-170.72\"/>\n<ellipse fill=\"black\" stroke=\"black\" cx=\"90.01\" cy=\"-170.87\" rx=\"1\" ry=\"1\"/>\n<text text-anchor=\"middle\" x=\"72.5\" y=\"-127\" font-family=\"Times,serif\" font-size=\"10.00\">1</text>\n</g>\n<!-- target_G26 -->\n<g id=\"node9\" class=\"node\">\n<title>target_G26</title>\n<text text-anchor=\"middle\" x=\"27\" y=\"-14.3\" font-family=\"Times,serif\" font-size=\"14.00\">target</text>\n</g>\n<!-- target_G26&#45;&gt;SelectHubbard -->\n<g id=\"edge9\" class=\"edge\">\n<title>target_G26:e-&gt;SelectHubbard:w</title>\n<path fill=\"none\" stroke=\"black\" d=\"M54,-18C83.75,-18 61.63,-143.89 88.95,-149.79\"/>\n<ellipse fill=\"black\" stroke=\"black\" cx=\"90.01\" cy=\"-149.9\" rx=\"1\" ry=\"1\"/>\n<text text-anchor=\"middle\" x=\"72.5\" y=\"-95\" font-family=\"Times,serif\" font-size=\"10.00\">32</text>\n</g>\n<!-- U_G16 -->\n<g id=\"node11\" class=\"node\">\n<title>U_G16</title>\n<text text-anchor=\"middle\" x=\"243\" y=\"-446.3\" font-family=\"Times,serif\" font-size=\"14.00\">U</text>\n</g>\n<!-- SelectHubbard&#45;&gt;U_G16 -->\n<g id=\"edge10\" class=\"edge\">\n<title>SelectHubbard:e-&gt;U_G16:w</title>\n<path fill=\"none\" stroke=\"black\" d=\"M179,-319C208.54,-319 186.82,-443.93 213.96,-449.79\"/>\n<ellipse fill=\"black\" stroke=\"black\" cx=\"215.01\" cy=\"-449.9\" rx=\"1\" ry=\"1\"/>\n<text text-anchor=\"middle\" x=\"197.5\" y=\"-395\" font-family=\"Times,serif\" font-size=\"10.00\">1</text>\n</g>\n<!-- V_G9 -->\n<g id=\"node12\" class=\"node\">\n<title>V_G9</title>\n<text text-anchor=\"middle\" x=\"243\" y=\"-392.3\" font-family=\"Times,serif\" font-size=\"14.00\">V</text>\n</g>\n<!-- SelectHubbard&#45;&gt;V_G9 -->\n<g id=\"edge11\" class=\"edge\">\n<title>SelectHubbard:e-&gt;V_G9:w</title>\n<path fill=\"none\" stroke=\"black\" d=\"M179,-298C201.55,-298 193.29,-389.97 213.91,-395.72\"/>\n<ellipse fill=\"black\" stroke=\"black\" cx=\"215.01\" cy=\"-395.87\" rx=\"1\" ry=\"1\"/>\n<text text-anchor=\"middle\" x=\"197.5\" y=\"-352\" font-family=\"Times,serif\" font-size=\"10.00\">1</text>\n</g>\n<!-- p_x_G10 -->\n<g id=\"node13\" class=\"node\">\n<title>p_x_G10</title>\n<text text-anchor=\"middle\" x=\"243\" y=\"-338.3\" font-family=\"Times,serif\" font-size=\"14.00\">p_x</text>\n</g>\n<!-- SelectHubbard&#45;&gt;p_x_G10 -->\n<g id=\"edge12\" class=\"edge\">\n<title>SelectHubbard:e-&gt;p_x_G10:w</title>\n<path fill=\"none\" stroke=\"black\" d=\"M179,-277C211.46,-277 184.11,-338.99 213.76,-341.89\"/>\n<ellipse fill=\"black\" stroke=\"black\" cx=\"215\" cy=\"-341.95\" rx=\"1\" ry=\"1\"/>\n<text text-anchor=\"middle\" x=\"197.5\" y=\"-318\" font-family=\"Times,serif\" font-size=\"10.00\">2</text>\n</g>\n<!-- p_y_G11 -->\n<g id=\"node14\" class=\"node\">\n<title>p_y_G11</title>\n<text text-anchor=\"middle\" x=\"243\" y=\"-284.3\" font-family=\"Times,serif\" font-size=\"14.00\">p_y</text>\n</g>\n<!-- SelectHubbard&#45;&gt;p_y_G11 -->\n<g id=\"edge13\" class=\"edge\">\n<title>SelectHubbard:e-&gt;p_y_G11:w</title>\n<path fill=\"none\" stroke=\"black\" d=\"M179,-256C199.89,-256 194.72,-285.55 213.58,-287.86\"/>\n<ellipse fill=\"black\" stroke=\"black\" cx=\"215\" cy=\"-287.94\" rx=\"1\" ry=\"1\"/>\n<text text-anchor=\"middle\" x=\"197.5\" y=\"-275\" font-family=\"Times,serif\" font-size=\"10.00\">2</text>\n</g>\n<!-- alpha_G18 -->\n<g id=\"node15\" class=\"node\">\n<title>alpha_G18</title>\n<text text-anchor=\"middle\" x=\"243\" y=\"-230.3\" font-family=\"Times,serif\" font-size=\"14.00\">alpha</text>\n</g>\n<!-- SelectHubbard&#45;&gt;alpha_G18 -->\n<g id=\"edge14\" class=\"edge\">\n<title>SelectHubbard:e-&gt;alpha_G18:w</title>\n<path fill=\"none\" stroke=\"black\" d=\"M179,-234C194.67,-234 199.14,-234 213.77,-234\"/>\n<ellipse fill=\"black\" stroke=\"black\" cx=\"215\" cy=\"-234\" rx=\"1\" ry=\"1\"/>\n<text text-anchor=\"middle\" x=\"197.5\" y=\"-237\" font-family=\"Times,serif\" font-size=\"10.00\">1</text>\n</g>\n<!-- q_x_G3 -->\n<g id=\"node16\" class=\"node\">\n<title>q_x_G3</title>\n<text text-anchor=\"middle\" x=\"243\" y=\"-176.3\" font-family=\"Times,serif\" font-size=\"14.00\">q_x</text>\n</g>\n<!-- SelectHubbard&#45;&gt;q_x_G3 -->\n<g id=\"edge15\" class=\"edge\">\n<title>SelectHubbard:e-&gt;q_x_G3:w</title>\n<path fill=\"none\" stroke=\"black\" d=\"M179,-213C200.17,-213 194.47,-182.53 213.55,-180.15\"/>\n<ellipse fill=\"black\" stroke=\"black\" cx=\"215\" cy=\"-180.06\" rx=\"1\" ry=\"1\"/>\n<text text-anchor=\"middle\" x=\"197.5\" y=\"-200\" font-family=\"Times,serif\" font-size=\"10.00\">2</text>\n</g>\n<!-- q_y_G23 -->\n<g id=\"node17\" class=\"node\">\n<title>q_y_G23</title>\n<text text-anchor=\"middle\" x=\"243\" y=\"-122.3\" font-family=\"Times,serif\" font-size=\"14.00\">q_y</text>\n</g>\n<!-- SelectHubbard&#45;&gt;q_y_G23 -->\n<g id=\"edge16\" class=\"edge\">\n<title>SelectHubbard:e-&gt;q_y_G23:w</title>\n<path fill=\"none\" stroke=\"black\" d=\"M179,-192C211.84,-192 183.75,-129.06 213.74,-126.11\"/>\n<ellipse fill=\"black\" stroke=\"black\" cx=\"215\" cy=\"-126.05\" rx=\"1\" ry=\"1\"/>\n<text text-anchor=\"middle\" x=\"197.5\" y=\"-169\" font-family=\"Times,serif\" font-size=\"10.00\">2</text>\n</g>\n<!-- beta_G5 -->\n<g id=\"node18\" class=\"node\">\n<title>beta_G5</title>\n<text text-anchor=\"middle\" x=\"243\" y=\"-68.3\" font-family=\"Times,serif\" font-size=\"14.00\">beta</text>\n</g>\n<!-- SelectHubbard&#45;&gt;beta_G5 -->\n<g id=\"edge17\" class=\"edge\">\n<title>SelectHubbard:e-&gt;beta_G5:w</title>\n<path fill=\"none\" stroke=\"black\" d=\"M179,-171C201.75,-171 193.1,-78.09 213.89,-72.28\"/>\n<ellipse fill=\"black\" stroke=\"black\" cx=\"215.01\" cy=\"-72.13\" rx=\"1\" ry=\"1\"/>\n<text text-anchor=\"middle\" x=\"197.5\" y=\"-127\" font-family=\"Times,serif\" font-size=\"10.00\">1</text>\n</g>\n<!-- target_G24 -->\n<g id=\"node19\" class=\"node\">\n<title>target_G24</title>\n<text text-anchor=\"middle\" x=\"243\" y=\"-14.3\" font-family=\"Times,serif\" font-size=\"14.00\">target</text>\n</g>\n<!-- SelectHubbard&#45;&gt;target_G24 -->\n<g id=\"edge18\" class=\"edge\">\n<title>SelectHubbard:e-&gt;target_G24:w</title>\n<path fill=\"none\" stroke=\"black\" d=\"M179,-150C208.75,-150 186.63,-24.11 213.95,-18.21\"/>\n<ellipse fill=\"black\" stroke=\"black\" cx=\"215.01\" cy=\"-18.1\" rx=\"1\" ry=\"1\"/>\n<text text-anchor=\"middle\" x=\"197.5\" y=\"-95\" font-family=\"Times,serif\" font-size=\"10.00\">32</text>\n</g>\n</g>\n</svg>",
          "text/plain": "<IPython.core.display.SVG object>"
         },
         "metadata": {},
         "output_type": "display_data"
        }
       ],
       "tabbable": null,
       "tooltip": null
      }
     },
     "e182ae791b084228a91428806cc2051b": {
      "model_module": "@jupyter-widgets/base",
      "model_module_version": "2.0.0",
      "model_name": "LayoutModel",
      "state": {
       "_model_module": "@jupyter-widgets/base",
       "_model_module_version": "2.0.0",
       "_model_name": "LayoutModel",
       "_view_count": null,
       "_view_module": "@jupyter-widgets/base",
       "_view_module_version": "2.0.0",
       "_view_name": "LayoutView",
       "align_content": null,
       "align_items": null,
       "align_self": null,
       "border_bottom": null,
       "border_left": null,
       "border_right": null,
       "border_top": null,
       "bottom": null,
       "display": null,
       "flex": null,
       "flex_flow": null,
       "grid_area": null,
       "grid_auto_columns": null,
       "grid_auto_flow": null,
       "grid_auto_rows": null,
       "grid_column": null,
       "grid_gap": null,
       "grid_row": null,
       "grid_template_areas": null,
       "grid_template_columns": null,
       "grid_template_rows": null,
       "height": null,
       "justify_content": null,
       "justify_items": null,
       "left": null,
       "margin": null,
       "max_height": null,
       "max_width": null,
       "min_height": null,
       "min_width": null,
       "object_fit": null,
       "object_position": null,
       "order": null,
       "overflow": null,
       "padding": null,
       "right": null,
       "top": null,
       "visibility": null,
       "width": null
      }
     }
    },
    "version_major": 2,
    "version_minor": 0
   }
  }
 },
 "nbformat": 4,
 "nbformat_minor": 5
}
