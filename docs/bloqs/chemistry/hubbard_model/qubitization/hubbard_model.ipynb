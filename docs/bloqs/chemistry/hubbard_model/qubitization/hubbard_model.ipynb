{
 "cells": [
  {
   "cell_type": "markdown",
   "id": "69133d73",
   "metadata": {
    "cq.autogen": "title_cell"
   },
   "source": [
    "# Qubitized Hubbard Model\n",
    "\n",
    "Simulating the Hubbard model Hamiltonian using qubitization.\n",
    "\n",
    "This module follows section V. of Encoding Electronic Spectra in Quantum Circuits with Linear T\n",
    "Complexity. Babbush et. al. 2018. [arxiv:1805.03662](https://arxiv.org/abs/1805.03662).\n",
    "\n",
    "The 2D Hubbard model is a special case of the electronic structure Hamiltonian\n",
    "restricted to spins on a planar grid.\n",
    "\n",
    "$$\n",
    "H = -t \\sum_{\\langle p,q \\rangle, \\sigma} a_{p,\\sigma}^\\dagger a_{q,\\sigma}\n",
    "    + \\frac{u}{2} \\sum_{p,\\alpha\\ne\\beta} n_{p, \\alpha} n_{p, \\beta}\n",
    "$$\n",
    "\n",
    "Under the Jordan-Wigner transformation to Pauli operators, this is\n",
    "\n",
    "$$\n",
    "\\def\\Zvec{\\overrightarrow{Z}}\n",
    "\\def\\hop#1{#1_{p,\\sigma} \\Zvec #1_{q,\\sigma}}\n",
    "H = -\\frac{t}{2} \\sum_{\\langle p,q \\rangle, \\sigma} (\\hop{X} + \\hop{Y})\n",
    "  + \\frac{u}{8} \\sum_{p,\\alpha\\ne\\beta} Z_{p,\\alpha}Z_{p,\\beta}\n",
    "  - \\frac{u}{4} \\sum_{p,\\sigma} Z_{p,\\sigma} + \\frac{uN}{4}\\mathbb{1}\n",
    "$$\n",
    "\n",
    "This can be simulated using a qubitization circuit, which consists of PREPARE and SELECT\n",
    "operations. This module contains `SelectHubbard` and `PrepareHubbard`, with particular\n",
    "compilation optimizations for the Hubbard model. For more insight into how Select and Prepare\n",
    "operations can be combined into a quantum walk, please see\n",
    "[Qubitization Walk Operator](./qubitization_walk_operator.ipynb).\n",
    "\n",
    "With these operators, our selection register has indices\n",
    "for $p$, $\\alpha$, $q$, and $\\beta$ as well as two indicator bits $U$ and $V$. There are four cases\n",
    "considered in both the PREPARE and SELECT operations corresponding to the terms in the Hamiltonian:\n",
    "\n",
    " - $U=1$, single-body Z\n",
    " - $V=1$, spin-spin ZZ term\n",
    " - $p<q$, XZX term\n",
    " - $p>q$, YZY term."
   ]
  },
  {
   "cell_type": "code",
   "execution_count": 1,
   "id": "1159189f",
   "metadata": {
    "cq.autogen": "top_imports"
   },
   "outputs": [],
   "source": [
    "from qualtran import Bloq, CompositeBloq, BloqBuilder, Signature, Register\n",
    "from qualtran import QBit, QInt, QUInt, QAny\n",
    "from qualtran.drawing import show_bloq, show_call_graph, show_counts_sigma\n",
    "from typing import *\n",
    "import numpy as np\n",
    "import sympy\n",
    "import cirq"
   ]
  },
  {
   "cell_type": "markdown",
   "id": "b715659d",
   "metadata": {
    "cq.autogen": "SelectHubbard.bloq_doc.md"
   },
   "source": [
    "## `SelectHubbard`\n",
    "The SELECT operation optimized for the 2D Hubbard model.\n",
    "\n",
    "In contrast to SELECT for an arbitrary chemistry Hamiltonian, we:\n",
    " - explicitly consider the two dimensions of indices to permit optimization of the circuits.\n",
    " - dispense with the `theta` index for phases.\n",
    "\n",
    "If neither $U$ nor $V$ is set we apply the kinetic terms of the Hamiltonian:\n",
    "\n",
    "$$\n",
    "-\\hop{X} \\quad p < q \\\\\n",
    "-\\hop{Y} \\quad p > q\n",
    "$$\n",
    "\n",
    "If $U$ is set we know $(p,\\alpha)=(q,\\beta)$ and apply the single-body term: $-Z_{p,\\alpha}$.\n",
    "If $V$ is set we know $p=q, \\alpha=0$, and $\\beta=1$ and apply the spin term:\n",
    "$Z_{p,\\alpha}Z_{p,\\beta}$\n",
    "\n",
    "`SelectHubbard`'s construction uses $10 * N + log(N)$ T-gates.\n",
    "\n",
    "#### Parameters\n",
    " - `x_dim`: the number of sites along the x axis.\n",
    " - `y_dim`: the number of sites along the y axis.\n",
    " - `control_val`: Optional bit specifying the control value for constructing a controlled version of this gate. Defaults to None, which means un-controlled. \n",
    "\n",
    "#### Registers\n",
    " - `control`: A control bit for the entire gate.\n",
    " - `U`: Whether we're applying the single-site part of the potential.\n",
    " - `V`: Whether we're applying the pairwise part of the potential.\n",
    " - `p_x`: First set of site indices, x component.\n",
    " - `p_y`: First set of site indices, y component.\n",
    " - `alpha`: First set of sites' spin indicator.\n",
    " - `q_x`: Second set of site indices, x component.\n",
    " - `q_y`: Second set of site indices, y component.\n",
    " - `beta`: Second set of sites' spin indicator.\n",
    " - `target`: The system register to apply the select operation. \n",
    "\n",
    "#### References\n",
    " - [Encoding Electronic Spectra in Quantum Circuits with Linear T Complexity](https://arxiv.org/abs/1805.03662). Section V. and Fig. 19.\n"
   ]
  },
  {
   "cell_type": "code",
   "execution_count": 2,
   "id": "24845fa2",
   "metadata": {
    "cq.autogen": "SelectHubbard.bloq_doc.py"
   },
   "outputs": [],
   "source": [
    "from qualtran.bloqs.chemistry.hubbard_model.qubitization import SelectHubbard"
   ]
  },
  {
   "cell_type": "markdown",
   "id": "1fc9d9ec",
   "metadata": {
    "cq.autogen": "SelectHubbard.example_instances.md"
   },
   "source": [
    "### Example Instances"
   ]
  },
  {
   "cell_type": "code",
   "execution_count": 3,
   "id": "f8513a4b",
   "metadata": {
    "cq.autogen": "SelectHubbard.sel_hubb"
   },
   "outputs": [],
   "source": [
    "x_dim = 4\n",
    "y_dim = 4\n",
    "sel_hubb = SelectHubbard(x_dim, y_dim)"
   ]
  },
  {
   "cell_type": "markdown",
   "id": "084571f0",
   "metadata": {
    "cq.autogen": "SelectHubbard.graphical_signature.md"
   },
   "source": [
    "#### Graphical Signature"
   ]
  },
  {
   "cell_type": "code",
   "execution_count": 4,
   "id": "564970cd",
   "metadata": {
    "cq.autogen": "SelectHubbard.graphical_signature.py"
   },
   "outputs": [
    {
     "data": {
      "application/vnd.jupyter.widget-view+json": {
       "model_id": "88f473d499f84582b4b1b5858f507c4f",
       "version_major": 2,
       "version_minor": 0
      },
      "text/plain": [
       "HBox(children=(Output(outputs=({'output_type': 'display_data', 'data': {'text/plain': '<IPython.core.display.M…"
      ]
     },
     "metadata": {},
     "output_type": "display_data"
    }
   ],
   "source": [
    "from qualtran.drawing import show_bloqs\n",
    "show_bloqs([sel_hubb],\n",
    "           ['`sel_hubb`'])"
   ]
  },
  {
   "cell_type": "markdown",
   "id": "541a6b1b",
   "metadata": {
    "cq.autogen": "SelectHubbard.call_graph.md"
   },
   "source": [
    "### Call Graph"
   ]
  },
  {
   "cell_type": "code",
   "execution_count": 5,
   "id": "49bcec57",
   "metadata": {
    "cq.autogen": "SelectHubbard.call_graph.py"
   },
   "outputs": [
    {
     "data": {
      "image/svg+xml": [
       "<svg xmlns=\"http://www.w3.org/2000/svg\" xmlns:xlink=\"http://www.w3.org/1999/xlink\" width=\"1820pt\" height=\"131pt\" viewBox=\"0.00 0.00 1820.00 131.00\">\n",
       "<g id=\"graph0\" class=\"graph\" transform=\"scale(1 1) rotate(0) translate(4 127)\">\n",
       "<title>counts</title>\n",
       "<polygon fill=\"white\" stroke=\"transparent\" points=\"-4,4 -4,-127 1816,-127 1816,4 -4,4\"/>\n",
       "<!-- b0 -->\n",
       "<g id=\"node1\" class=\"node\">\n",
       "<title>b0</title>\n",
       "<polygon fill=\"none\" stroke=\"black\" points=\"1316,-123 1095,-123 1095,-87 1316,-87 1316,-123\"/>\n",
       "<text text-anchor=\"start\" x=\"1150\" y=\"-106.8\" font-family=\"Times,serif\" font-size=\"14.00\">SelectHubbard(4, 4)</text>\n",
       "<text text-anchor=\"start\" x=\"1103\" y=\"-96\" font-family=\"monospace\" font-size=\"10.00\">x_dim=4, y_dim=4, control_val=None</text>\n",
       "</g>\n",
       "<!-- b1 -->\n",
       "<g id=\"node2\" class=\"node\">\n",
       "<title>b1</title>\n",
       "<polygon fill=\"none\" stroke=\"black\" points=\"71,-36 0,-36 0,0 71,0 71,-36\"/>\n",
       "<text text-anchor=\"start\" x=\"15.5\" y=\"-19.8\" font-family=\"Times,serif\" font-size=\"14.00\">CSwap</text>\n",
       "<text text-anchor=\"start\" x=\"8\" y=\"-9\" font-family=\"monospace\" font-size=\"10.00\">bitsize=2</text>\n",
       "</g>\n",
       "<!-- b0&#45;&gt;b1 -->\n",
       "<g id=\"edge1\" class=\"edge\">\n",
       "<title>b0-&gt;b1</title>\n",
       "<path fill=\"none\" stroke=\"black\" d=\"M1094.9,-101.65C854.41,-95.84 289.45,-78.27 81.18,-35.94\"/>\n",
       "<polygon fill=\"black\" stroke=\"black\" points=\"81.75,-32.48 71.24,-33.84 80.3,-39.33 81.75,-32.48\"/>\n",
       "<text text-anchor=\"middle\" x=\"349\" y=\"-57.8\" font-family=\"Times,serif\" font-size=\"14.00\">4</text>\n",
       "</g>\n",
       "<!-- b2 -->\n",
       "<g id=\"node3\" class=\"node\">\n",
       "<title>b2</title>\n",
       "<polygon fill=\"none\" stroke=\"black\" points=\"490,-36 89,-36 89,0 490,0 490,-36\"/>\n",
       "<text text-anchor=\"start\" x=\"207.5\" y=\"-19.8\" font-family=\"Times,serif\" font-size=\"14.00\">SelectedMajoranaFermion(X)</text>\n",
       "<text text-anchor=\"start\" x=\"97\" y=\"-9\" font-family=\"monospace\" font-size=\"10.00\">selection_regs=(Registe ..., control_regs=(), target_gate=cirq.X</text>\n",
       "</g>\n",
       "<!-- b0&#45;&gt;b2 -->\n",
       "<g id=\"edge2\" class=\"edge\">\n",
       "<title>b0-&gt;b2</title>\n",
       "<path fill=\"none\" stroke=\"black\" d=\"M1094.55,-93.7C943.02,-79.64 668.96,-54.21 483.16,-36.97\"/>\n",
       "<polygon fill=\"black\" stroke=\"black\" points=\"483.28,-33.47 473,-36.03 482.63,-40.44 483.28,-33.47\"/>\n",
       "<text text-anchor=\"middle\" x=\"806\" y=\"-57.8\" font-family=\"Times,serif\" font-size=\"14.00\">1</text>\n",
       "</g>\n",
       "<!-- b3 -->\n",
       "<g id=\"node4\" class=\"node\">\n",
       "<title>b3</title>\n",
       "<polygon fill=\"none\" stroke=\"black\" points=\"987,-36 508,-36 508,0 987,0 987,-36\"/>\n",
       "<text text-anchor=\"start\" x=\"685.5\" y=\"-19.8\" font-family=\"Times,serif\" font-size=\"14.00\">ApplyGateToLthQubit</text>\n",
       "<text text-anchor=\"start\" x=\"516\" y=\"-9\" font-family=\"monospace\" font-size=\"10.00\">selection_regs=(Registe ..., nth_gate=&lt;functio ..., control_regs=(Registe ...</text>\n",
       "</g>\n",
       "<!-- b0&#45;&gt;b3 -->\n",
       "<g id=\"edge3\" class=\"edge\">\n",
       "<title>b0-&gt;b3</title>\n",
       "<path fill=\"none\" stroke=\"black\" d=\"M1113.64,-86.95C1037.14,-72.75 928.3,-52.56 849.19,-37.87\"/>\n",
       "<polygon fill=\"black\" stroke=\"black\" points=\"849.68,-34.4 839.2,-36.02 848.4,-41.29 849.68,-34.4\"/>\n",
       "<text text-anchor=\"middle\" x=\"1008\" y=\"-57.8\" font-family=\"Times,serif\" font-size=\"14.00\">1</text>\n",
       "</g>\n",
       "<!-- b4 -->\n",
       "<g id=\"node5\" class=\"node\">\n",
       "<title>b4</title>\n",
       "<polygon fill=\"none\" stroke=\"black\" points=\"1406,-36 1005,-36 1005,0 1406,0 1406,-36\"/>\n",
       "<text text-anchor=\"start\" x=\"1123.5\" y=\"-19.8\" font-family=\"Times,serif\" font-size=\"14.00\">SelectedMajoranaFermion(Y)</text>\n",
       "<text text-anchor=\"start\" x=\"1013\" y=\"-9\" font-family=\"monospace\" font-size=\"10.00\">selection_regs=(Registe ..., control_regs=(), target_gate=cirq.Y</text>\n",
       "</g>\n",
       "<!-- b0&#45;&gt;b4 -->\n",
       "<g id=\"edge4\" class=\"edge\">\n",
       "<title>b0-&gt;b4</title>\n",
       "<path fill=\"none\" stroke=\"black\" d=\"M1205.5,-86.8C1205.5,-75.16 1205.5,-59.55 1205.5,-46.24\"/>\n",
       "<polygon fill=\"black\" stroke=\"black\" points=\"1209,-46.18 1205.5,-36.18 1202,-46.18 1209,-46.18\"/>\n",
       "<text text-anchor=\"middle\" x=\"1209\" y=\"-57.8\" font-family=\"Times,serif\" font-size=\"14.00\">1</text>\n",
       "</g>\n",
       "<!-- b5 -->\n",
       "<g id=\"node6\" class=\"node\">\n",
       "<title>b5</title>\n",
       "<polygon fill=\"none\" stroke=\"black\" points=\"1477.5,-36 1423.5,-36 1423.5,0 1477.5,0 1477.5,-36\"/>\n",
       "<text text-anchor=\"start\" x=\"1433.5\" y=\"-14.3\" font-family=\"Times,serif\" font-size=\"14.00\">ZGate</text>\n",
       "</g>\n",
       "<!-- b0&#45;&gt;b5 -->\n",
       "<g id=\"edge5\" class=\"edge\">\n",
       "<title>b0-&gt;b5</title>\n",
       "<path fill=\"none\" stroke=\"black\" d=\"M1264.76,-86.91C1304.69,-74.89 1358.57,-57.71 1413.58,-36.14\"/>\n",
       "<polygon fill=\"black\" stroke=\"black\" points=\"1415.13,-39.3 1423.14,-32.36 1412.55,-32.79 1415.13,-39.3\"/>\n",
       "<text text-anchor=\"middle\" x=\"1368\" y=\"-57.8\" font-family=\"Times,serif\" font-size=\"14.00\">1</text>\n",
       "</g>\n",
       "<!-- b6 -->\n",
       "<g id=\"node7\" class=\"node\">\n",
       "<title>b6</title>\n",
       "<polygon fill=\"none\" stroke=\"black\" points=\"1723,-36 1496,-36 1496,0 1723,0 1723,-36\"/>\n",
       "<text text-anchor=\"start\" x=\"1504\" y=\"-19.8\" font-family=\"Times,serif\" font-size=\"14.00\">GPhase((6.123233995736766e-17-1j))</text>\n",
       "<text text-anchor=\"start\" x=\"1537\" y=\"-9\" font-family=\"monospace\" font-size=\"10.00\">exponent=-0.5, eps=1e-11</text>\n",
       "</g>\n",
       "<!-- b0&#45;&gt;b6 -->\n",
       "<g id=\"edge6\" class=\"edge\">\n",
       "<title>b0-&gt;b6</title>\n",
       "<path fill=\"none\" stroke=\"black\" d=\"M1288.97,-86.95C1316.53,-81.28 1347.34,-74.91 1375.5,-69 1423.4,-58.95 1476.78,-47.56 1520.44,-38.19\"/>\n",
       "<polygon fill=\"black\" stroke=\"black\" points=\"1521.42,-41.56 1530.46,-36.04 1519.95,-34.72 1521.42,-41.56\"/>\n",
       "<text text-anchor=\"middle\" x=\"1450\" y=\"-57.8\" font-family=\"Times,serif\" font-size=\"14.00\">1</text>\n",
       "</g>\n",
       "<!-- b7 -->\n",
       "<g id=\"node8\" class=\"node\">\n",
       "<title>b7</title>\n",
       "<polygon fill=\"none\" stroke=\"black\" points=\"1812,-36 1741,-36 1741,0 1812,0 1812,-36\"/>\n",
       "<text text-anchor=\"start\" x=\"1756.5\" y=\"-19.8\" font-family=\"Times,serif\" font-size=\"14.00\">CSwap</text>\n",
       "<text text-anchor=\"start\" x=\"1749\" y=\"-9\" font-family=\"monospace\" font-size=\"10.00\">bitsize=1</text>\n",
       "</g>\n",
       "<!-- b0&#45;&gt;b7 -->\n",
       "<g id=\"edge7\" class=\"edge\">\n",
       "<title>b0-&gt;b7</title>\n",
       "<path fill=\"none\" stroke=\"black\" d=\"M1316.19,-97.2C1421.29,-89.03 1583.43,-71.97 1731.17,-35.73\"/>\n",
       "<polygon fill=\"black\" stroke=\"black\" points=\"1732.02,-39.12 1740.88,-33.31 1730.33,-32.33 1732.02,-39.12\"/>\n",
       "<text text-anchor=\"middle\" x=\"1651\" y=\"-57.8\" font-family=\"Times,serif\" font-size=\"14.00\">2</text>\n",
       "</g>\n",
       "</g>\n",
       "</svg>"
      ],
      "text/plain": [
       "<IPython.core.display.SVG object>"
      ]
     },
     "metadata": {},
     "output_type": "display_data"
    },
    {
     "data": {
      "text/markdown": [
       "#### Counts totals:\n",
       " - `ApplyGateToLthQubit`: 1\n",
       " - `CSwap`: 2\n",
       " - `CSwap`: 4\n",
       " - `GPhase((6.123233995736766e-17-1j))`: 1\n",
       " - `SelectedMajoranaFermion(X)`: 1\n",
       " - `SelectedMajoranaFermion(Y)`: 1\n",
       " - `ZGate`: 1"
      ],
      "text/plain": [
       "<IPython.core.display.Markdown object>"
      ]
     },
     "metadata": {},
     "output_type": "display_data"
    }
   ],
   "source": [
    "from qualtran.resource_counting.generalizers import ignore_split_join\n",
    "sel_hubb_g, sel_hubb_sigma = sel_hubb.call_graph(max_depth=1, generalizer=ignore_split_join)\n",
    "show_call_graph(sel_hubb_g)\n",
    "show_counts_sigma(sel_hubb_sigma)"
   ]
  },
  {
   "cell_type": "markdown",
   "id": "61d5efd1",
   "metadata": {
    "cq.autogen": "PrepareHubbard.bloq_doc.md"
   },
   "source": [
    "## `PrepareHubbard`\n",
    "The PREPARE operation optimized for the 2D Hubbard model.\n",
    "\n",
    "In contrast to PREPARE for an arbitrary chemistry Hamiltonian, we:\n",
    " - explicitly consider the two dimensions of indices to permit optimization of the circuits.\n",
    " - dispense with the `theta` index for phases.\n",
    "\n",
    "`PrepareHubbard` uses $O(\\log(N))$ T gates and $O(1)$ single-qubit rotations.\n",
    "\n",
    "#### Parameters\n",
    " - `x_dim`: the number of sites along the x axis.\n",
    " - `y_dim`: the number of sites along the y axis.\n",
    " - `t`: coefficient for hopping terms in the Hubbard model hamiltonian.\n",
    " - `u`: coefficient for single body Z term and two-body ZZ terms in the Hubbard model hamiltonian. \n",
    "\n",
    "#### Registers\n",
    " - `control`: A control bit for the entire gate.\n",
    " - `U`: Whether we're applying the single-site part of the potential.\n",
    " - `V`: Whether we're applying the pairwise part of the potential.\n",
    " - `p_x`: First set of site indices, x component.\n",
    " - `p_y`: First set of site indices, y component.\n",
    " - `alpha`: First set of sites' spin indicator.\n",
    " - `q_x`: Second set of site indices, x component.\n",
    " - `q_y`: Second set of site indices, y component.\n",
    " - `beta`: Second set of sites' spin indicator.\n",
    " - `target`: The system register to apply the select operation.\n",
    " - `junk`: Temporary Work space. \n",
    "\n",
    "#### References\n",
    " - [Encoding Electronic Spectra in Quantum Circuits with Linear T Complexity](https://arxiv.org/abs/1805.03662). Section V. and Fig. 20.\n"
   ]
  },
  {
   "cell_type": "code",
   "execution_count": 6,
   "id": "df46d758",
   "metadata": {
    "cq.autogen": "PrepareHubbard.bloq_doc.py"
   },
   "outputs": [],
   "source": [
    "from qualtran.bloqs.chemistry.hubbard_model.qubitization import PrepareHubbard"
   ]
  },
  {
   "cell_type": "markdown",
   "id": "480bd24c",
   "metadata": {
    "cq.autogen": "PrepareHubbard.example_instances.md"
   },
   "source": [
    "### Example Instances"
   ]
  },
  {
   "cell_type": "code",
   "execution_count": 7,
   "id": "48bb8a87",
   "metadata": {
    "cq.autogen": "PrepareHubbard.prep_hubb"
   },
   "outputs": [],
   "source": [
    "x_dim = 4\n",
    "y_dim = 4\n",
    "t = 1.0\n",
    "u = 4.0 / t\n",
    "prep_hubb = PrepareHubbard(x_dim, y_dim, t=t, u=u)"
   ]
  },
  {
   "cell_type": "markdown",
   "id": "32fcb935",
   "metadata": {
    "cq.autogen": "PrepareHubbard.graphical_signature.md"
   },
   "source": [
    "#### Graphical Signature"
   ]
  },
  {
   "cell_type": "code",
   "execution_count": 8,
   "id": "305f3934",
   "metadata": {
    "cq.autogen": "PrepareHubbard.graphical_signature.py"
   },
   "outputs": [
    {
     "data": {
      "application/vnd.jupyter.widget-view+json": {
       "model_id": "a2627f453cc34b1587152d32e8a891b9",
       "version_major": 2,
       "version_minor": 0
      },
      "text/plain": [
       "HBox(children=(Output(outputs=({'output_type': 'display_data', 'data': {'text/plain': '<IPython.core.display.M…"
      ]
     },
     "metadata": {},
     "output_type": "display_data"
    }
   ],
   "source": [
    "from qualtran.drawing import show_bloqs\n",
    "show_bloqs([prep_hubb],\n",
    "           ['`prep_hubb`'])"
   ]
  },
  {
   "cell_type": "markdown",
   "id": "8325e95d",
   "metadata": {
    "cq.autogen": "PrepareHubbard.call_graph.md"
   },
   "source": [
    "### Call Graph"
   ]
  },
  {
   "cell_type": "code",
   "execution_count": 9,
   "id": "89bb04df",
   "metadata": {
    "cq.autogen": "PrepareHubbard.call_graph.py"
   },
   "outputs": [
    {
     "data": {
      "image/svg+xml": [
       "<svg xmlns=\"http://www.w3.org/2000/svg\" xmlns:xlink=\"http://www.w3.org/1999/xlink\" width=\"1737pt\" height=\"131pt\" viewBox=\"0.00 0.00 1737.00 131.00\">\n",
       "<g id=\"graph0\" class=\"graph\" transform=\"scale(1 1) rotate(0) translate(4 127)\">\n",
       "<title>counts</title>\n",
       "<polygon fill=\"white\" stroke=\"transparent\" points=\"-4,4 -4,-127 1733,-127 1733,4 -4,4\"/>\n",
       "<!-- b0 -->\n",
       "<g id=\"node1\" class=\"node\">\n",
       "<title>b0</title>\n",
       "<polygon fill=\"none\" stroke=\"black\" points=\"1041.5,-123 844.5,-123 844.5,-87 1041.5,-87 1041.5,-123\"/>\n",
       "<text text-anchor=\"start\" x=\"898.5\" y=\"-106.8\" font-family=\"Times,serif\" font-size=\"14.00\">PrepareHubbard</text>\n",
       "<text text-anchor=\"start\" x=\"852.5\" y=\"-96\" font-family=\"monospace\" font-size=\"10.00\">x_dim=4, y_dim=4, t=1.0, u=4.0</text>\n",
       "</g>\n",
       "<!-- b1 -->\n",
       "<g id=\"node2\" class=\"node\">\n",
       "<title>b1</title>\n",
       "<polygon fill=\"none\" stroke=\"black\" points=\"180,-36 0,-36 0,0 180,0 180,-36\"/>\n",
       "<text text-anchor=\"start\" x=\"8\" y=\"-19.8\" font-family=\"Times,serif\" font-size=\"14.00\">PrepareUniformSuperposition</text>\n",
       "<text text-anchor=\"start\" x=\"56.5\" y=\"-9\" font-family=\"monospace\" font-size=\"10.00\">n=4, cvs=()</text>\n",
       "</g>\n",
       "<!-- b0&#45;&gt;b1 -->\n",
       "<g id=\"edge1\" class=\"edge\">\n",
       "<title>b0-&gt;b1</title>\n",
       "<path fill=\"none\" stroke=\"black\" d=\"M844.44,-98.26C702.07,-89.26 430.5,-69.47 190.05,-36.1\"/>\n",
       "<polygon fill=\"black\" stroke=\"black\" points=\"190.46,-32.62 180.07,-34.7 189.49,-39.56 190.46,-32.62\"/>\n",
       "<text text-anchor=\"middle\" x=\"461.5\" y=\"-57.8\" font-family=\"Times,serif\" font-size=\"14.00\">2</text>\n",
       "</g>\n",
       "<!-- b2 -->\n",
       "<g id=\"node3\" class=\"node\">\n",
       "<title>b2</title>\n",
       "<polygon fill=\"none\" stroke=\"black\" points=\"449.5,-36 198.5,-36 198.5,0 449.5,0 449.5,-36\"/>\n",
       "<text text-anchor=\"start\" x=\"294\" y=\"-19.8\" font-family=\"Times,serif\" font-size=\"14.00\">ModAddK</text>\n",
       "<text text-anchor=\"start\" x=\"206.5\" y=\"-9\" font-family=\"monospace\" font-size=\"10.00\">bitsize=2, mod=4, add_val=1, cvs=(0, 0)</text>\n",
       "</g>\n",
       "<!-- b0&#45;&gt;b2 -->\n",
       "<g id=\"edge2\" class=\"edge\">\n",
       "<title>b0-&gt;b2</title>\n",
       "<path fill=\"none\" stroke=\"black\" d=\"M844.22,-96.74C772.38,-90.87 672.91,-81.53 586,-69 528.1,-60.65 463.54,-48.37 413,-38.07\"/>\n",
       "<polygon fill=\"black\" stroke=\"black\" points=\"413.58,-34.61 403.08,-36.03 412.18,-41.47 413.58,-34.61\"/>\n",
       "<text text-anchor=\"middle\" x=\"589.5\" y=\"-57.8\" font-family=\"Times,serif\" font-size=\"14.00\">1</text>\n",
       "</g>\n",
       "<!-- b3 -->\n",
       "<g id=\"node4\" class=\"node\">\n",
       "<title>b3</title>\n",
       "<polygon fill=\"none\" stroke=\"black\" points=\"522,-36 468,-36 468,0 522,0 522,-36\"/>\n",
       "<text text-anchor=\"start\" x=\"476.5\" y=\"-14.3\" font-family=\"Times,serif\" font-size=\"14.00\">CNOT</text>\n",
       "</g>\n",
       "<!-- b0&#45;&gt;b3 -->\n",
       "<g id=\"edge3\" class=\"edge\">\n",
       "<title>b0-&gt;b3</title>\n",
       "<path fill=\"none\" stroke=\"black\" d=\"M844.44,-97.51C761.83,-89.85 641.44,-73.49 531.83,-35.92\"/>\n",
       "<polygon fill=\"black\" stroke=\"black\" points=\"532.87,-32.58 522.28,-32.58 530.56,-39.18 532.87,-32.58\"/>\n",
       "<text text-anchor=\"middle\" x=\"645.5\" y=\"-57.8\" font-family=\"Times,serif\" font-size=\"14.00\">7</text>\n",
       "</g>\n",
       "<!-- b4 -->\n",
       "<g id=\"node5\" class=\"node\">\n",
       "<title>b4</title>\n",
       "<polygon fill=\"none\" stroke=\"black\" points=\"611.5,-36 540.5,-36 540.5,0 611.5,0 611.5,-36\"/>\n",
       "<text text-anchor=\"start\" x=\"556\" y=\"-19.8\" font-family=\"Times,serif\" font-size=\"14.00\">CSwap</text>\n",
       "<text text-anchor=\"start\" x=\"548.5\" y=\"-9\" font-family=\"monospace\" font-size=\"10.00\">bitsize=2</text>\n",
       "</g>\n",
       "<!-- b0&#45;&gt;b4 -->\n",
       "<g id=\"edge4\" class=\"edge\">\n",
       "<title>b0-&gt;b4</title>\n",
       "<path fill=\"none\" stroke=\"black\" d=\"M844.37,-89.63C809.92,-84.01 771.1,-76.98 736,-69 687.09,-57.88 673.03,-53.27 621.47,-36.06\"/>\n",
       "<polygon fill=\"black\" stroke=\"black\" points=\"622.36,-32.66 611.77,-32.81 620.14,-39.3 622.36,-32.66\"/>\n",
       "<text text-anchor=\"middle\" x=\"739.5\" y=\"-57.8\" font-family=\"Times,serif\" font-size=\"14.00\">2</text>\n",
       "</g>\n",
       "<!-- b5 -->\n",
       "<g id=\"node6\" class=\"node\">\n",
       "<title>b5</title>\n",
       "<polygon fill=\"none\" stroke=\"black\" points=\"684,-36 630,-36 630,0 684,0 684,-36\"/>\n",
       "<text text-anchor=\"start\" x=\"652\" y=\"-14.3\" font-family=\"Times,serif\" font-size=\"14.00\">H</text>\n",
       "</g>\n",
       "<!-- b0&#45;&gt;b5 -->\n",
       "<g id=\"edge5\" class=\"edge\">\n",
       "<title>b0-&gt;b5</title>\n",
       "<path fill=\"none\" stroke=\"black\" d=\"M866.7,-86.94C819.07,-75.43 756.54,-58.78 693.94,-36.05\"/>\n",
       "<polygon fill=\"black\" stroke=\"black\" points=\"694.9,-32.67 684.3,-32.5 692.48,-39.24 694.9,-32.67\"/>\n",
       "<text text-anchor=\"middle\" x=\"798.5\" y=\"-57.8\" font-family=\"Times,serif\" font-size=\"14.00\">2</text>\n",
       "</g>\n",
       "<!-- b6 -->\n",
       "<g id=\"node7\" class=\"node\">\n",
       "<title>b6</title>\n",
       "<polygon fill=\"none\" stroke=\"black\" points=\"983.5,-36 702.5,-36 702.5,0 983.5,0 983.5,-36\"/>\n",
       "<text text-anchor=\"start\" x=\"765.5\" y=\"-19.8\" font-family=\"Times,serif\" font-size=\"14.00\">C[Ry(2.214297435588181)]</text>\n",
       "<text text-anchor=\"start\" x=\"710.5\" y=\"-9\" font-family=\"monospace\" font-size=\"10.00\">subbloq=Ry(angle ..., ctrl_spec=CtrlSpec ...</text>\n",
       "</g>\n",
       "<!-- b0&#45;&gt;b6 -->\n",
       "<g id=\"edge6\" class=\"edge\">\n",
       "<title>b0-&gt;b6</title>\n",
       "<path fill=\"none\" stroke=\"black\" d=\"M922.76,-86.8C907.85,-74.13 887.39,-56.73 870.93,-42.74\"/>\n",
       "<polygon fill=\"black\" stroke=\"black\" points=\"873.09,-39.99 863.21,-36.18 868.56,-45.32 873.09,-39.99\"/>\n",
       "<text text-anchor=\"middle\" x=\"902.5\" y=\"-57.8\" font-family=\"Times,serif\" font-size=\"14.00\">1</text>\n",
       "</g>\n",
       "<!-- b7 -->\n",
       "<g id=\"node8\" class=\"node\">\n",
       "<title>b7</title>\n",
       "<polygon fill=\"none\" stroke=\"black\" points=\"1084.5,-36 1001.5,-36 1001.5,0 1084.5,0 1084.5,-36\"/>\n",
       "<text text-anchor=\"start\" x=\"1009.5\" y=\"-14.3\" font-family=\"Times,serif\" font-size=\"14.00\">CHadamard</text>\n",
       "</g>\n",
       "<!-- b0&#45;&gt;b7 -->\n",
       "<g id=\"edge7\" class=\"edge\">\n",
       "<title>b0-&gt;b7</title>\n",
       "<path fill=\"none\" stroke=\"black\" d=\"M963.24,-86.8C978.15,-74.13 998.61,-56.73 1015.07,-42.74\"/>\n",
       "<polygon fill=\"black\" stroke=\"black\" points=\"1017.44,-45.32 1022.79,-36.18 1012.91,-39.99 1017.44,-45.32\"/>\n",
       "<text text-anchor=\"middle\" x=\"1002.5\" y=\"-57.8\" font-family=\"Times,serif\" font-size=\"14.00\">1</text>\n",
       "</g>\n",
       "<!-- b8 -->\n",
       "<g id=\"node9\" class=\"node\">\n",
       "<title>b8</title>\n",
       "<polygon fill=\"none\" stroke=\"black\" points=\"1239.5,-36 1102.5,-36 1102.5,0 1239.5,0 1239.5,-36\"/>\n",
       "<text text-anchor=\"start\" x=\"1125\" y=\"-19.8\" font-family=\"Times,serif\" font-size=\"14.00\">MultiAnd(n=3)†</text>\n",
       "<text text-anchor=\"start\" x=\"1110.5\" y=\"-9\" font-family=\"monospace\" font-size=\"10.00\">subbloq=MultiAnd ...</text>\n",
       "</g>\n",
       "<!-- b0&#45;&gt;b8 -->\n",
       "<g id=\"edge8\" class=\"edge\">\n",
       "<title>b0-&gt;b8</title>\n",
       "<path fill=\"none\" stroke=\"black\" d=\"M988.86,-86.9C1025.43,-73.27 1076.76,-54.13 1115.62,-39.65\"/>\n",
       "<polygon fill=\"black\" stroke=\"black\" points=\"1117.06,-42.84 1125.21,-36.07 1114.62,-36.29 1117.06,-42.84\"/>\n",
       "<text text-anchor=\"middle\" x=\"1074.5\" y=\"-57.8\" font-family=\"Times,serif\" font-size=\"14.00\">1</text>\n",
       "</g>\n",
       "<!-- b9 -->\n",
       "<g id=\"node10\" class=\"node\">\n",
       "<title>b9</title>\n",
       "<polygon fill=\"none\" stroke=\"black\" points=\"1448.5,-36 1257.5,-36 1257.5,0 1448.5,0 1448.5,-36\"/>\n",
       "<text text-anchor=\"start\" x=\"1281\" y=\"-19.8\" font-family=\"Times,serif\" font-size=\"14.00\">Ry(2.0943951023931957)</text>\n",
       "<text text-anchor=\"start\" x=\"1265.5\" y=\"-9\" font-family=\"monospace\" font-size=\"10.00\">angle=2.094395 ..., eps=1e-11</text>\n",
       "</g>\n",
       "<!-- b0&#45;&gt;b9 -->\n",
       "<g id=\"edge9\" class=\"edge\">\n",
       "<title>b0-&gt;b9</title>\n",
       "<path fill=\"none\" stroke=\"black\" d=\"M1025.48,-86.9C1093.45,-72.81 1189.82,-52.83 1260.43,-38.19\"/>\n",
       "<polygon fill=\"black\" stroke=\"black\" points=\"1261.57,-41.53 1270.66,-36.07 1260.15,-34.67 1261.57,-41.53\"/>\n",
       "<text text-anchor=\"middle\" x=\"1176.5\" y=\"-57.8\" font-family=\"Times,serif\" font-size=\"14.00\">1</text>\n",
       "</g>\n",
       "<!-- b10 -->\n",
       "<g id=\"node11\" class=\"node\">\n",
       "<title>b10</title>\n",
       "<polygon fill=\"none\" stroke=\"black\" points=\"1537.5,-36 1466.5,-36 1466.5,0 1537.5,0 1537.5,-36\"/>\n",
       "<text text-anchor=\"start\" x=\"1482\" y=\"-19.8\" font-family=\"Times,serif\" font-size=\"14.00\">CSwap</text>\n",
       "<text text-anchor=\"start\" x=\"1474.5\" y=\"-9\" font-family=\"monospace\" font-size=\"10.00\">bitsize=5</text>\n",
       "</g>\n",
       "<!-- b0&#45;&gt;b10 -->\n",
       "<g id=\"edge10\" class=\"edge\">\n",
       "<title>b0-&gt;b10</title>\n",
       "<path fill=\"none\" stroke=\"black\" d=\"M1041.84,-97.69C1144.03,-89.63 1307.92,-72.43 1456.6,-35.75\"/>\n",
       "<polygon fill=\"black\" stroke=\"black\" points=\"1457.52,-39.13 1466.38,-33.3 1455.83,-32.34 1457.52,-39.13\"/>\n",
       "<text text-anchor=\"middle\" x=\"1378.5\" y=\"-57.8\" font-family=\"Times,serif\" font-size=\"14.00\">1</text>\n",
       "</g>\n",
       "<!-- b11 -->\n",
       "<g id=\"node12\" class=\"node\">\n",
       "<title>b11</title>\n",
       "<polygon fill=\"none\" stroke=\"black\" points=\"1656.5,-36 1555.5,-36 1555.5,0 1656.5,0 1656.5,-36\"/>\n",
       "<text text-anchor=\"start\" x=\"1563.5\" y=\"-19.8\" font-family=\"Times,serif\" font-size=\"14.00\">MultiAnd(n=3)</text>\n",
       "<text text-anchor=\"start\" x=\"1566.5\" y=\"-9\" font-family=\"monospace\" font-size=\"10.00\">cvs=(0, 0, 1)</text>\n",
       "</g>\n",
       "<!-- b0&#45;&gt;b11 -->\n",
       "<g id=\"edge11\" class=\"edge\">\n",
       "<title>b0-&gt;b11</title>\n",
       "<path fill=\"none\" stroke=\"black\" d=\"M1041.92,-99.72C1131.95,-94.98 1268.37,-85.71 1386,-69 1454.8,-59.23 1473.86,-53.73 1545.37,-36.09\"/>\n",
       "<polygon fill=\"black\" stroke=\"black\" points=\"1546.46,-39.42 1555.33,-33.64 1544.78,-32.63 1546.46,-39.42\"/>\n",
       "<text text-anchor=\"middle\" x=\"1473.5\" y=\"-57.8\" font-family=\"Times,serif\" font-size=\"14.00\">1</text>\n",
       "</g>\n",
       "<!-- b12 -->\n",
       "<g id=\"node13\" class=\"node\">\n",
       "<title>b12</title>\n",
       "<polygon fill=\"none\" stroke=\"black\" points=\"1729,-36 1675,-36 1675,0 1729,0 1729,-36\"/>\n",
       "<text text-anchor=\"start\" x=\"1684\" y=\"-14.3\" font-family=\"Times,serif\" font-size=\"14.00\">XGate</text>\n",
       "</g>\n",
       "<!-- b0&#45;&gt;b12 -->\n",
       "<g id=\"edge12\" class=\"edge\">\n",
       "<title>b0-&gt;b12</title>\n",
       "<path fill=\"none\" stroke=\"black\" d=\"M1041.97,-100.9C1150.14,-96.73 1328.39,-87.59 1481,-69 1563.47,-58.95 1585.73,-60.88 1665,-36 1665.1,-35.97 1665.2,-35.94 1665.3,-35.9\"/>\n",
       "<polygon fill=\"black\" stroke=\"black\" points=\"1666.64,-39.14 1674.83,-32.42 1664.23,-32.57 1666.64,-39.14\"/>\n",
       "<text text-anchor=\"middle\" x=\"1600.5\" y=\"-57.8\" font-family=\"Times,serif\" font-size=\"14.00\">3</text>\n",
       "</g>\n",
       "</g>\n",
       "</svg>"
      ],
      "text/plain": [
       "<IPython.core.display.SVG object>"
      ]
     },
     "metadata": {},
     "output_type": "display_data"
    },
    {
     "data": {
      "text/markdown": [
       "#### Counts totals:\n",
       " - `Adjoint(subbloq=MultiAnd(n=3))`: 1\n",
       " - `CHadamard`: 1\n",
       " - `CNOT`: 7\n",
       " - `CSwap`: 1\n",
       " - `CSwap`: 2\n",
       " - `C[Ry(2.214297435588181)]`: 1\n",
       " - `H`: 2\n",
       " - `ModAddK`: 1\n",
       " - `MultiAnd(n=3)`: 1\n",
       " - `PrepareUniformSuperposition`: 2\n",
       " - `Ry(2.0943951023931957)`: 1\n",
       " - `XGate`: 3"
      ],
      "text/plain": [
       "<IPython.core.display.Markdown object>"
      ]
     },
     "metadata": {},
     "output_type": "display_data"
    }
   ],
   "source": [
    "from qualtran.resource_counting.generalizers import ignore_split_join\n",
    "prep_hubb_g, prep_hubb_sigma = prep_hubb.call_graph(max_depth=1, generalizer=ignore_split_join)\n",
    "show_call_graph(prep_hubb_g)\n",
    "show_counts_sigma(prep_hubb_sigma)"
   ]
  }
 ],
 "metadata": {
  "kernelspec": {
   "display_name": "Python 3",
   "language": "python",
   "name": "python3"
  },
  "language_info": {
   "codemirror_mode": {
    "name": "ipython",
    "version": 3
   },
   "file_extension": ".py",
   "mimetype": "text/x-python",
   "name": "python",
   "nbconvert_exporter": "python",
   "pygments_lexer": "ipython3",
   "version": "3.11.8"
  },
  "widgets": {
   "application/vnd.jupyter.widget-state+json": {
    "state": {
     "241fa01fbcac4ee1ae2262f076d800c4": {
      "model_module": "@jupyter-widgets/base",
      "model_module_version": "2.0.0",
      "model_name": "LayoutModel",
      "state": {
       "_model_module": "@jupyter-widgets/base",
       "_model_module_version": "2.0.0",
       "_model_name": "LayoutModel",
       "_view_count": null,
       "_view_module": "@jupyter-widgets/base",
       "_view_module_version": "2.0.0",
       "_view_name": "LayoutView",
       "align_content": null,
       "align_items": null,
       "align_self": null,
       "border_bottom": null,
       "border_left": null,
       "border_right": null,
       "border_top": null,
       "bottom": null,
       "display": null,
       "flex": null,
       "flex_flow": null,
       "grid_area": null,
       "grid_auto_columns": null,
       "grid_auto_flow": null,
       "grid_auto_rows": null,
       "grid_column": null,
       "grid_gap": null,
       "grid_row": null,
       "grid_template_areas": null,
       "grid_template_columns": null,
       "grid_template_rows": null,
       "height": null,
       "justify_content": null,
       "justify_items": null,
       "left": null,
       "margin": null,
       "max_height": null,
       "max_width": null,
       "min_height": null,
       "min_width": null,
       "object_fit": null,
       "object_position": null,
       "order": null,
       "overflow": null,
       "padding": null,
       "right": null,
       "top": null,
       "visibility": null,
       "width": null
      }
     },
     "5c55f0c47d8c44d59c753fb387130282": {
      "model_module": "@jupyter-widgets/output",
      "model_module_version": "1.0.0",
      "model_name": "OutputModel",
      "state": {
       "_dom_classes": [],
       "_model_module": "@jupyter-widgets/output",
       "_model_module_version": "1.0.0",
       "_model_name": "OutputModel",
       "_view_count": null,
       "_view_module": "@jupyter-widgets/output",
       "_view_module_version": "1.0.0",
       "_view_name": "OutputView",
       "layout": "IPY_MODEL_a8b44420cac64b75a2ee02d9b3fd1a5e",
       "msg_id": "",
       "outputs": [
        {
         "data": {
          "text/markdown": "`sel_hubb`",
          "text/plain": "<IPython.core.display.Markdown object>"
         },
         "metadata": {},
         "output_type": "display_data"
        },
        {
         "data": {
          "image/svg+xml": "<svg xmlns=\"http://www.w3.org/2000/svg\" xmlns:xlink=\"http://www.w3.org/1999/xlink\" width=\"278pt\" height=\"476pt\" viewBox=\"0.00 0.00 278.00 476.00\">\n<g id=\"graph0\" class=\"graph\" transform=\"scale(1 1) rotate(0) translate(4 472)\">\n<title>my_graph</title>\n<polygon fill=\"white\" stroke=\"transparent\" points=\"-4,4 -4,-472 274,-472 274,4 -4,4\"/>\n<!-- U_G23 -->\n<g id=\"node1\" class=\"node\">\n<title>U_G23</title>\n<text text-anchor=\"middle\" x=\"27\" y=\"-446.3\" font-family=\"Times,serif\" font-size=\"14.00\">U</text>\n</g>\n<!-- SelectHubbard -->\n<g id=\"node10\" class=\"node\">\n<title>SelectHubbard</title>\n<polygon fill=\"none\" stroke=\"black\" points=\"91,-329 91,-346 179,-346 179,-329 91,-329\"/>\n<text text-anchor=\"start\" x=\"94\" y=\"-335\" font-family=\"Times,serif\" font-size=\"10.00\">SelectHubbard(4, 4)</text>\n<polygon fill=\"none\" stroke=\"black\" points=\"91,-308 91,-329 179,-329 179,-308 91,-308\"/>\n<text text-anchor=\"start\" x=\"130\" y=\"-314.8\" font-family=\"Times,serif\" font-size=\"14.00\">U</text>\n<polygon fill=\"none\" stroke=\"black\" points=\"91,-287 91,-308 179,-308 179,-287 91,-287\"/>\n<text text-anchor=\"start\" x=\"130\" y=\"-293.8\" font-family=\"Times,serif\" font-size=\"14.00\">V</text>\n<polygon fill=\"none\" stroke=\"black\" points=\"91,-266 91,-287 179,-287 179,-266 91,-266\"/>\n<text text-anchor=\"start\" x=\"124.5\" y=\"-272.8\" font-family=\"Times,serif\" font-size=\"14.00\">p_x</text>\n<polygon fill=\"none\" stroke=\"black\" points=\"91,-245 91,-266 179,-266 179,-245 91,-245\"/>\n<text text-anchor=\"start\" x=\"124.5\" y=\"-251.8\" font-family=\"Times,serif\" font-size=\"14.00\">p_y</text>\n<polygon fill=\"none\" stroke=\"black\" points=\"91,-224 91,-245 179,-245 179,-224 91,-224\"/>\n<text text-anchor=\"start\" x=\"120\" y=\"-230.8\" font-family=\"Times,serif\" font-size=\"14.00\">alpha</text>\n<polygon fill=\"none\" stroke=\"black\" points=\"91,-203 91,-224 179,-224 179,-203 91,-203\"/>\n<text text-anchor=\"start\" x=\"124.5\" y=\"-209.8\" font-family=\"Times,serif\" font-size=\"14.00\">q_x</text>\n<polygon fill=\"none\" stroke=\"black\" points=\"91,-182 91,-203 179,-203 179,-182 91,-182\"/>\n<text text-anchor=\"start\" x=\"124.5\" y=\"-188.8\" font-family=\"Times,serif\" font-size=\"14.00\">q_y</text>\n<polygon fill=\"none\" stroke=\"black\" points=\"91,-161 91,-182 179,-182 179,-161 91,-161\"/>\n<text text-anchor=\"start\" x=\"123.5\" y=\"-167.8\" font-family=\"Times,serif\" font-size=\"14.00\">beta</text>\n<polygon fill=\"none\" stroke=\"black\" points=\"91,-140 91,-161 179,-161 179,-140 91,-140\"/>\n<text text-anchor=\"start\" x=\"119.5\" y=\"-146.8\" font-family=\"Times,serif\" font-size=\"14.00\">target</text>\n</g>\n<!-- U_G23&#45;&gt;SelectHubbard -->\n<g id=\"edge1\" class=\"edge\">\n<title>U_G23:e-&gt;SelectHubbard:w</title>\n<path fill=\"none\" stroke=\"black\" d=\"M54,-450C83.54,-450 61.82,-325.07 88.96,-319.21\"/>\n<ellipse fill=\"black\" stroke=\"black\" cx=\"90.01\" cy=\"-319.1\" rx=\"1\" ry=\"1\"/>\n<text text-anchor=\"middle\" x=\"72.5\" y=\"-395\" font-family=\"Times,serif\" font-size=\"10.00\">1</text>\n</g>\n<!-- V_G24 -->\n<g id=\"node2\" class=\"node\">\n<title>V_G24</title>\n<text text-anchor=\"middle\" x=\"27\" y=\"-392.3\" font-family=\"Times,serif\" font-size=\"14.00\">V</text>\n</g>\n<!-- V_G24&#45;&gt;SelectHubbard -->\n<g id=\"edge2\" class=\"edge\">\n<title>V_G24:e-&gt;SelectHubbard:w</title>\n<path fill=\"none\" stroke=\"black\" d=\"M54,-396C76.55,-396 68.29,-304.03 88.91,-298.28\"/>\n<ellipse fill=\"black\" stroke=\"black\" cx=\"90.01\" cy=\"-298.13\" rx=\"1\" ry=\"1\"/>\n<text text-anchor=\"middle\" x=\"72.5\" y=\"-352\" font-family=\"Times,serif\" font-size=\"10.00\">1</text>\n</g>\n<!-- p_x_G16 -->\n<g id=\"node3\" class=\"node\">\n<title>p_x_G16</title>\n<text text-anchor=\"middle\" x=\"27\" y=\"-338.3\" font-family=\"Times,serif\" font-size=\"14.00\">p_x</text>\n</g>\n<!-- p_x_G16&#45;&gt;SelectHubbard -->\n<g id=\"edge3\" class=\"edge\">\n<title>p_x_G16:e-&gt;SelectHubbard:w</title>\n<path fill=\"none\" stroke=\"black\" d=\"M54,-342C86.46,-342 59.11,-280.01 88.76,-277.11\"/>\n<ellipse fill=\"black\" stroke=\"black\" cx=\"90\" cy=\"-277.05\" rx=\"1\" ry=\"1\"/>\n<text text-anchor=\"middle\" x=\"72.5\" y=\"-318\" font-family=\"Times,serif\" font-size=\"10.00\">2</text>\n</g>\n<!-- p_y_G6 -->\n<g id=\"node4\" class=\"node\">\n<title>p_y_G6</title>\n<text text-anchor=\"middle\" x=\"27\" y=\"-284.3\" font-family=\"Times,serif\" font-size=\"14.00\">p_y</text>\n</g>\n<!-- p_y_G6&#45;&gt;SelectHubbard -->\n<g id=\"edge4\" class=\"edge\">\n<title>p_y_G6:e-&gt;SelectHubbard:w</title>\n<path fill=\"none\" stroke=\"black\" d=\"M54,-288C74.89,-288 69.72,-258.45 88.58,-256.14\"/>\n<ellipse fill=\"black\" stroke=\"black\" cx=\"90\" cy=\"-256.06\" rx=\"1\" ry=\"1\"/>\n<text text-anchor=\"middle\" x=\"72.5\" y=\"-275\" font-family=\"Times,serif\" font-size=\"10.00\">2</text>\n</g>\n<!-- alpha_G4 -->\n<g id=\"node5\" class=\"node\">\n<title>alpha_G4</title>\n<text text-anchor=\"middle\" x=\"27\" y=\"-230.3\" font-family=\"Times,serif\" font-size=\"14.00\">alpha</text>\n</g>\n<!-- alpha_G4&#45;&gt;SelectHubbard -->\n<g id=\"edge5\" class=\"edge\">\n<title>alpha_G4:e-&gt;SelectHubbard:w</title>\n<path fill=\"none\" stroke=\"black\" d=\"M54,-234C69.67,-234 74.14,-234 88.77,-234\"/>\n<ellipse fill=\"black\" stroke=\"black\" cx=\"90\" cy=\"-234\" rx=\"1\" ry=\"1\"/>\n<text text-anchor=\"middle\" x=\"72.5\" y=\"-237\" font-family=\"Times,serif\" font-size=\"10.00\">1</text>\n</g>\n<!-- q_x_G14 -->\n<g id=\"node6\" class=\"node\">\n<title>q_x_G14</title>\n<text text-anchor=\"middle\" x=\"27\" y=\"-176.3\" font-family=\"Times,serif\" font-size=\"14.00\">q_x</text>\n</g>\n<!-- q_x_G14&#45;&gt;SelectHubbard -->\n<g id=\"edge6\" class=\"edge\">\n<title>q_x_G14:e-&gt;SelectHubbard:w</title>\n<path fill=\"none\" stroke=\"black\" d=\"M54,-180C75.17,-180 69.47,-210.47 88.55,-212.85\"/>\n<ellipse fill=\"black\" stroke=\"black\" cx=\"90\" cy=\"-212.94\" rx=\"1\" ry=\"1\"/>\n<text text-anchor=\"middle\" x=\"72.5\" y=\"-200\" font-family=\"Times,serif\" font-size=\"10.00\">2</text>\n</g>\n<!-- q_y_G0 -->\n<g id=\"node7\" class=\"node\">\n<title>q_y_G0</title>\n<text text-anchor=\"middle\" x=\"27\" y=\"-122.3\" font-family=\"Times,serif\" font-size=\"14.00\">q_y</text>\n</g>\n<!-- q_y_G0&#45;&gt;SelectHubbard -->\n<g id=\"edge7\" class=\"edge\">\n<title>q_y_G0:e-&gt;SelectHubbard:w</title>\n<path fill=\"none\" stroke=\"black\" d=\"M54,-126C86.84,-126 58.75,-188.94 88.74,-191.89\"/>\n<ellipse fill=\"black\" stroke=\"black\" cx=\"90\" cy=\"-191.95\" rx=\"1\" ry=\"1\"/>\n<text text-anchor=\"middle\" x=\"72.5\" y=\"-169\" font-family=\"Times,serif\" font-size=\"10.00\">2</text>\n</g>\n<!-- beta_G11 -->\n<g id=\"node8\" class=\"node\">\n<title>beta_G11</title>\n<text text-anchor=\"middle\" x=\"27\" y=\"-68.3\" font-family=\"Times,serif\" font-size=\"14.00\">beta</text>\n</g>\n<!-- beta_G11&#45;&gt;SelectHubbard -->\n<g id=\"edge8\" class=\"edge\">\n<title>beta_G11:e-&gt;SelectHubbard:w</title>\n<path fill=\"none\" stroke=\"black\" d=\"M54,-72C76.75,-72 68.1,-164.91 88.89,-170.72\"/>\n<ellipse fill=\"black\" stroke=\"black\" cx=\"90.01\" cy=\"-170.87\" rx=\"1\" ry=\"1\"/>\n<text text-anchor=\"middle\" x=\"72.5\" y=\"-127\" font-family=\"Times,serif\" font-size=\"10.00\">1</text>\n</g>\n<!-- target_G10 -->\n<g id=\"node9\" class=\"node\">\n<title>target_G10</title>\n<text text-anchor=\"middle\" x=\"27\" y=\"-14.3\" font-family=\"Times,serif\" font-size=\"14.00\">target</text>\n</g>\n<!-- target_G10&#45;&gt;SelectHubbard -->\n<g id=\"edge9\" class=\"edge\">\n<title>target_G10:e-&gt;SelectHubbard:w</title>\n<path fill=\"none\" stroke=\"black\" d=\"M54,-18C83.75,-18 61.63,-143.89 88.95,-149.79\"/>\n<ellipse fill=\"black\" stroke=\"black\" cx=\"90.01\" cy=\"-149.9\" rx=\"1\" ry=\"1\"/>\n<text text-anchor=\"middle\" x=\"72.5\" y=\"-95\" font-family=\"Times,serif\" font-size=\"10.00\">32</text>\n</g>\n<!-- U_G2 -->\n<g id=\"node11\" class=\"node\">\n<title>U_G2</title>\n<text text-anchor=\"middle\" x=\"243\" y=\"-446.3\" font-family=\"Times,serif\" font-size=\"14.00\">U</text>\n</g>\n<!-- SelectHubbard&#45;&gt;U_G2 -->\n<g id=\"edge10\" class=\"edge\">\n<title>SelectHubbard:e-&gt;U_G2:w</title>\n<path fill=\"none\" stroke=\"black\" d=\"M179,-319C208.54,-319 186.82,-443.93 213.96,-449.79\"/>\n<ellipse fill=\"black\" stroke=\"black\" cx=\"215.01\" cy=\"-449.9\" rx=\"1\" ry=\"1\"/>\n<text text-anchor=\"middle\" x=\"197.5\" y=\"-395\" font-family=\"Times,serif\" font-size=\"10.00\">1</text>\n</g>\n<!-- V_G5 -->\n<g id=\"node12\" class=\"node\">\n<title>V_G5</title>\n<text text-anchor=\"middle\" x=\"243\" y=\"-392.3\" font-family=\"Times,serif\" font-size=\"14.00\">V</text>\n</g>\n<!-- SelectHubbard&#45;&gt;V_G5 -->\n<g id=\"edge11\" class=\"edge\">\n<title>SelectHubbard:e-&gt;V_G5:w</title>\n<path fill=\"none\" stroke=\"black\" d=\"M179,-298C201.55,-298 193.29,-389.97 213.91,-395.72\"/>\n<ellipse fill=\"black\" stroke=\"black\" cx=\"215.01\" cy=\"-395.87\" rx=\"1\" ry=\"1\"/>\n<text text-anchor=\"middle\" x=\"197.5\" y=\"-352\" font-family=\"Times,serif\" font-size=\"10.00\">1</text>\n</g>\n<!-- p_x_G21 -->\n<g id=\"node13\" class=\"node\">\n<title>p_x_G21</title>\n<text text-anchor=\"middle\" x=\"243\" y=\"-338.3\" font-family=\"Times,serif\" font-size=\"14.00\">p_x</text>\n</g>\n<!-- SelectHubbard&#45;&gt;p_x_G21 -->\n<g id=\"edge12\" class=\"edge\">\n<title>SelectHubbard:e-&gt;p_x_G21:w</title>\n<path fill=\"none\" stroke=\"black\" d=\"M179,-277C211.46,-277 184.11,-338.99 213.76,-341.89\"/>\n<ellipse fill=\"black\" stroke=\"black\" cx=\"215\" cy=\"-341.95\" rx=\"1\" ry=\"1\"/>\n<text text-anchor=\"middle\" x=\"197.5\" y=\"-318\" font-family=\"Times,serif\" font-size=\"10.00\">2</text>\n</g>\n<!-- p_y_G13 -->\n<g id=\"node14\" class=\"node\">\n<title>p_y_G13</title>\n<text text-anchor=\"middle\" x=\"243\" y=\"-284.3\" font-family=\"Times,serif\" font-size=\"14.00\">p_y</text>\n</g>\n<!-- SelectHubbard&#45;&gt;p_y_G13 -->\n<g id=\"edge13\" class=\"edge\">\n<title>SelectHubbard:e-&gt;p_y_G13:w</title>\n<path fill=\"none\" stroke=\"black\" d=\"M179,-256C199.89,-256 194.72,-285.55 213.58,-287.86\"/>\n<ellipse fill=\"black\" stroke=\"black\" cx=\"215\" cy=\"-287.94\" rx=\"1\" ry=\"1\"/>\n<text text-anchor=\"middle\" x=\"197.5\" y=\"-275\" font-family=\"Times,serif\" font-size=\"10.00\">2</text>\n</g>\n<!-- alpha_G8 -->\n<g id=\"node15\" class=\"node\">\n<title>alpha_G8</title>\n<text text-anchor=\"middle\" x=\"243\" y=\"-230.3\" font-family=\"Times,serif\" font-size=\"14.00\">alpha</text>\n</g>\n<!-- SelectHubbard&#45;&gt;alpha_G8 -->\n<g id=\"edge14\" class=\"edge\">\n<title>SelectHubbard:e-&gt;alpha_G8:w</title>\n<path fill=\"none\" stroke=\"black\" d=\"M179,-234C194.67,-234 199.14,-234 213.77,-234\"/>\n<ellipse fill=\"black\" stroke=\"black\" cx=\"215\" cy=\"-234\" rx=\"1\" ry=\"1\"/>\n<text text-anchor=\"middle\" x=\"197.5\" y=\"-237\" font-family=\"Times,serif\" font-size=\"10.00\">1</text>\n</g>\n<!-- q_x_G25 -->\n<g id=\"node16\" class=\"node\">\n<title>q_x_G25</title>\n<text text-anchor=\"middle\" x=\"243\" y=\"-176.3\" font-family=\"Times,serif\" font-size=\"14.00\">q_x</text>\n</g>\n<!-- SelectHubbard&#45;&gt;q_x_G25 -->\n<g id=\"edge15\" class=\"edge\">\n<title>SelectHubbard:e-&gt;q_x_G25:w</title>\n<path fill=\"none\" stroke=\"black\" d=\"M179,-213C200.17,-213 194.47,-182.53 213.55,-180.15\"/>\n<ellipse fill=\"black\" stroke=\"black\" cx=\"215\" cy=\"-180.06\" rx=\"1\" ry=\"1\"/>\n<text text-anchor=\"middle\" x=\"197.5\" y=\"-200\" font-family=\"Times,serif\" font-size=\"10.00\">2</text>\n</g>\n<!-- q_y_G17 -->\n<g id=\"node17\" class=\"node\">\n<title>q_y_G17</title>\n<text text-anchor=\"middle\" x=\"243\" y=\"-122.3\" font-family=\"Times,serif\" font-size=\"14.00\">q_y</text>\n</g>\n<!-- SelectHubbard&#45;&gt;q_y_G17 -->\n<g id=\"edge16\" class=\"edge\">\n<title>SelectHubbard:e-&gt;q_y_G17:w</title>\n<path fill=\"none\" stroke=\"black\" d=\"M179,-192C211.84,-192 183.75,-129.06 213.74,-126.11\"/>\n<ellipse fill=\"black\" stroke=\"black\" cx=\"215\" cy=\"-126.05\" rx=\"1\" ry=\"1\"/>\n<text text-anchor=\"middle\" x=\"197.5\" y=\"-169\" font-family=\"Times,serif\" font-size=\"10.00\">2</text>\n</g>\n<!-- beta_G7 -->\n<g id=\"node18\" class=\"node\">\n<title>beta_G7</title>\n<text text-anchor=\"middle\" x=\"243\" y=\"-68.3\" font-family=\"Times,serif\" font-size=\"14.00\">beta</text>\n</g>\n<!-- SelectHubbard&#45;&gt;beta_G7 -->\n<g id=\"edge17\" class=\"edge\">\n<title>SelectHubbard:e-&gt;beta_G7:w</title>\n<path fill=\"none\" stroke=\"black\" d=\"M179,-171C201.75,-171 193.1,-78.09 213.89,-72.28\"/>\n<ellipse fill=\"black\" stroke=\"black\" cx=\"215.01\" cy=\"-72.13\" rx=\"1\" ry=\"1\"/>\n<text text-anchor=\"middle\" x=\"197.5\" y=\"-127\" font-family=\"Times,serif\" font-size=\"10.00\">1</text>\n</g>\n<!-- target_G12 -->\n<g id=\"node19\" class=\"node\">\n<title>target_G12</title>\n<text text-anchor=\"middle\" x=\"243\" y=\"-14.3\" font-family=\"Times,serif\" font-size=\"14.00\">target</text>\n</g>\n<!-- SelectHubbard&#45;&gt;target_G12 -->\n<g id=\"edge18\" class=\"edge\">\n<title>SelectHubbard:e-&gt;target_G12:w</title>\n<path fill=\"none\" stroke=\"black\" d=\"M179,-150C208.75,-150 186.63,-24.11 213.95,-18.21\"/>\n<ellipse fill=\"black\" stroke=\"black\" cx=\"215.01\" cy=\"-18.1\" rx=\"1\" ry=\"1\"/>\n<text text-anchor=\"middle\" x=\"197.5\" y=\"-95\" font-family=\"Times,serif\" font-size=\"10.00\">32</text>\n</g>\n</g>\n</svg>",
          "text/plain": "<IPython.core.display.SVG object>"
         },
         "metadata": {},
         "output_type": "display_data"
        }
       ],
       "tabbable": null,
       "tooltip": null
      }
     },
     "636af6946a2342c89278230e353325bb": {
      "model_module": "@jupyter-widgets/output",
      "model_module_version": "1.0.0",
      "model_name": "OutputModel",
      "state": {
       "_dom_classes": [],
       "_model_module": "@jupyter-widgets/output",
       "_model_module_version": "1.0.0",
       "_model_name": "OutputModel",
       "_view_count": null,
       "_view_module": "@jupyter-widgets/output",
       "_view_module_version": "1.0.0",
       "_view_name": "OutputView",
       "layout": "IPY_MODEL_241fa01fbcac4ee1ae2262f076d800c4",
       "msg_id": "",
       "outputs": [
        {
         "data": {
          "text/markdown": "`prep_hubb`",
          "text/plain": "<IPython.core.display.Markdown object>"
         },
         "metadata": {},
         "output_type": "display_data"
        },
        {
         "data": {
          "image/svg+xml": "<svg xmlns=\"http://www.w3.org/2000/svg\" xmlns:xlink=\"http://www.w3.org/1999/xlink\" width=\"263pt\" height=\"476pt\" viewBox=\"0.00 0.00 263.00 476.00\">\n<g id=\"graph0\" class=\"graph\" transform=\"scale(1 1) rotate(0) translate(4 472)\">\n<title>my_graph</title>\n<polygon fill=\"white\" stroke=\"transparent\" points=\"-4,4 -4,-472 259,-472 259,4 -4,4\"/>\n<!-- U_G21 -->\n<g id=\"node1\" class=\"node\">\n<title>U_G21</title>\n<text text-anchor=\"middle\" x=\"27\" y=\"-446.3\" font-family=\"Times,serif\" font-size=\"14.00\">U</text>\n</g>\n<!-- PrepareHubbard -->\n<g id=\"node10\" class=\"node\">\n<title>PrepareHubbard</title>\n<polygon fill=\"none\" stroke=\"black\" points=\"91.5,-329 91.5,-346 164.5,-346 164.5,-329 91.5,-329\"/>\n<text text-anchor=\"start\" x=\"94.5\" y=\"-335\" font-family=\"Times,serif\" font-size=\"10.00\">PrepareHubbard</text>\n<polygon fill=\"none\" stroke=\"black\" points=\"91.5,-308 91.5,-329 164.5,-329 164.5,-308 91.5,-308\"/>\n<text text-anchor=\"start\" x=\"123\" y=\"-314.8\" font-family=\"Times,serif\" font-size=\"14.00\">U</text>\n<polygon fill=\"none\" stroke=\"black\" points=\"91.5,-287 91.5,-308 164.5,-308 164.5,-287 91.5,-287\"/>\n<text text-anchor=\"start\" x=\"123\" y=\"-293.8\" font-family=\"Times,serif\" font-size=\"14.00\">V</text>\n<polygon fill=\"none\" stroke=\"black\" points=\"91.5,-266 91.5,-287 164.5,-287 164.5,-266 91.5,-266\"/>\n<text text-anchor=\"start\" x=\"117.5\" y=\"-272.8\" font-family=\"Times,serif\" font-size=\"14.00\">p_x</text>\n<polygon fill=\"none\" stroke=\"black\" points=\"91.5,-245 91.5,-266 164.5,-266 164.5,-245 91.5,-245\"/>\n<text text-anchor=\"start\" x=\"117.5\" y=\"-251.8\" font-family=\"Times,serif\" font-size=\"14.00\">p_y</text>\n<polygon fill=\"none\" stroke=\"black\" points=\"91.5,-224 91.5,-245 164.5,-245 164.5,-224 91.5,-224\"/>\n<text text-anchor=\"start\" x=\"113\" y=\"-230.8\" font-family=\"Times,serif\" font-size=\"14.00\">alpha</text>\n<polygon fill=\"none\" stroke=\"black\" points=\"91.5,-203 91.5,-224 164.5,-224 164.5,-203 91.5,-203\"/>\n<text text-anchor=\"start\" x=\"117.5\" y=\"-209.8\" font-family=\"Times,serif\" font-size=\"14.00\">q_x</text>\n<polygon fill=\"none\" stroke=\"black\" points=\"91.5,-182 91.5,-203 164.5,-203 164.5,-182 91.5,-182\"/>\n<text text-anchor=\"start\" x=\"117.5\" y=\"-188.8\" font-family=\"Times,serif\" font-size=\"14.00\">q_y</text>\n<polygon fill=\"none\" stroke=\"black\" points=\"91.5,-161 91.5,-182 164.5,-182 164.5,-161 91.5,-161\"/>\n<text text-anchor=\"start\" x=\"116.5\" y=\"-167.8\" font-family=\"Times,serif\" font-size=\"14.00\">beta</text>\n<polygon fill=\"none\" stroke=\"black\" points=\"91.5,-140 91.5,-161 164.5,-161 164.5,-140 91.5,-140\"/>\n<text text-anchor=\"start\" x=\"114\" y=\"-146.8\" font-family=\"Times,serif\" font-size=\"14.00\">temp</text>\n</g>\n<!-- U_G21&#45;&gt;PrepareHubbard -->\n<g id=\"edge1\" class=\"edge\">\n<title>U_G21:e-&gt;PrepareHubbard:w</title>\n<path fill=\"none\" stroke=\"black\" d=\"M54,-450C83.54,-450 61.82,-325.07 88.96,-319.21\"/>\n<ellipse fill=\"black\" stroke=\"black\" cx=\"90.01\" cy=\"-319.1\" rx=\"1\" ry=\"1\"/>\n<text text-anchor=\"middle\" x=\"72.5\" y=\"-395\" font-family=\"Times,serif\" font-size=\"10.00\">1</text>\n</g>\n<!-- V_G23 -->\n<g id=\"node2\" class=\"node\">\n<title>V_G23</title>\n<text text-anchor=\"middle\" x=\"27\" y=\"-392.3\" font-family=\"Times,serif\" font-size=\"14.00\">V</text>\n</g>\n<!-- V_G23&#45;&gt;PrepareHubbard -->\n<g id=\"edge2\" class=\"edge\">\n<title>V_G23:e-&gt;PrepareHubbard:w</title>\n<path fill=\"none\" stroke=\"black\" d=\"M54,-396C76.55,-396 68.29,-304.03 88.91,-298.28\"/>\n<ellipse fill=\"black\" stroke=\"black\" cx=\"90.01\" cy=\"-298.13\" rx=\"1\" ry=\"1\"/>\n<text text-anchor=\"middle\" x=\"72.5\" y=\"-352\" font-family=\"Times,serif\" font-size=\"10.00\">1</text>\n</g>\n<!-- p_x_G14 -->\n<g id=\"node3\" class=\"node\">\n<title>p_x_G14</title>\n<text text-anchor=\"middle\" x=\"27\" y=\"-338.3\" font-family=\"Times,serif\" font-size=\"14.00\">p_x</text>\n</g>\n<!-- p_x_G14&#45;&gt;PrepareHubbard -->\n<g id=\"edge3\" class=\"edge\">\n<title>p_x_G14:e-&gt;PrepareHubbard:w</title>\n<path fill=\"none\" stroke=\"black\" d=\"M54,-342C86.46,-342 59.11,-280.01 88.76,-277.11\"/>\n<ellipse fill=\"black\" stroke=\"black\" cx=\"90\" cy=\"-277.05\" rx=\"1\" ry=\"1\"/>\n<text text-anchor=\"middle\" x=\"72.5\" y=\"-318\" font-family=\"Times,serif\" font-size=\"10.00\">2</text>\n</g>\n<!-- p_y_G6 -->\n<g id=\"node4\" class=\"node\">\n<title>p_y_G6</title>\n<text text-anchor=\"middle\" x=\"27\" y=\"-284.3\" font-family=\"Times,serif\" font-size=\"14.00\">p_y</text>\n</g>\n<!-- p_y_G6&#45;&gt;PrepareHubbard -->\n<g id=\"edge4\" class=\"edge\">\n<title>p_y_G6:e-&gt;PrepareHubbard:w</title>\n<path fill=\"none\" stroke=\"black\" d=\"M54,-288C74.89,-288 69.72,-258.45 88.58,-256.14\"/>\n<ellipse fill=\"black\" stroke=\"black\" cx=\"90\" cy=\"-256.06\" rx=\"1\" ry=\"1\"/>\n<text text-anchor=\"middle\" x=\"72.5\" y=\"-275\" font-family=\"Times,serif\" font-size=\"10.00\">2</text>\n</g>\n<!-- alpha_G3 -->\n<g id=\"node5\" class=\"node\">\n<title>alpha_G3</title>\n<text text-anchor=\"middle\" x=\"27\" y=\"-230.3\" font-family=\"Times,serif\" font-size=\"14.00\">alpha</text>\n</g>\n<!-- alpha_G3&#45;&gt;PrepareHubbard -->\n<g id=\"edge5\" class=\"edge\">\n<title>alpha_G3:e-&gt;PrepareHubbard:w</title>\n<path fill=\"none\" stroke=\"black\" d=\"M54,-234C69.67,-234 74.14,-234 88.77,-234\"/>\n<ellipse fill=\"black\" stroke=\"black\" cx=\"90\" cy=\"-234\" rx=\"1\" ry=\"1\"/>\n<text text-anchor=\"middle\" x=\"72.5\" y=\"-237\" font-family=\"Times,serif\" font-size=\"10.00\">1</text>\n</g>\n<!-- q_x_G12 -->\n<g id=\"node6\" class=\"node\">\n<title>q_x_G12</title>\n<text text-anchor=\"middle\" x=\"27\" y=\"-176.3\" font-family=\"Times,serif\" font-size=\"14.00\">q_x</text>\n</g>\n<!-- q_x_G12&#45;&gt;PrepareHubbard -->\n<g id=\"edge6\" class=\"edge\">\n<title>q_x_G12:e-&gt;PrepareHubbard:w</title>\n<path fill=\"none\" stroke=\"black\" d=\"M54,-180C75.17,-180 69.47,-210.47 88.55,-212.85\"/>\n<ellipse fill=\"black\" stroke=\"black\" cx=\"90\" cy=\"-212.94\" rx=\"1\" ry=\"1\"/>\n<text text-anchor=\"middle\" x=\"72.5\" y=\"-200\" font-family=\"Times,serif\" font-size=\"10.00\">2</text>\n</g>\n<!-- q_y_G0 -->\n<g id=\"node7\" class=\"node\">\n<title>q_y_G0</title>\n<text text-anchor=\"middle\" x=\"27\" y=\"-122.3\" font-family=\"Times,serif\" font-size=\"14.00\">q_y</text>\n</g>\n<!-- q_y_G0&#45;&gt;PrepareHubbard -->\n<g id=\"edge7\" class=\"edge\">\n<title>q_y_G0:e-&gt;PrepareHubbard:w</title>\n<path fill=\"none\" stroke=\"black\" d=\"M54,-126C86.84,-126 58.75,-188.94 88.74,-191.89\"/>\n<ellipse fill=\"black\" stroke=\"black\" cx=\"90\" cy=\"-191.95\" rx=\"1\" ry=\"1\"/>\n<text text-anchor=\"middle\" x=\"72.5\" y=\"-169\" font-family=\"Times,serif\" font-size=\"10.00\">2</text>\n</g>\n<!-- beta_G10 -->\n<g id=\"node8\" class=\"node\">\n<title>beta_G10</title>\n<text text-anchor=\"middle\" x=\"27\" y=\"-68.3\" font-family=\"Times,serif\" font-size=\"14.00\">beta</text>\n</g>\n<!-- beta_G10&#45;&gt;PrepareHubbard -->\n<g id=\"edge8\" class=\"edge\">\n<title>beta_G10:e-&gt;PrepareHubbard:w</title>\n<path fill=\"none\" stroke=\"black\" d=\"M54,-72C76.75,-72 68.1,-164.91 88.89,-170.72\"/>\n<ellipse fill=\"black\" stroke=\"black\" cx=\"90.01\" cy=\"-170.87\" rx=\"1\" ry=\"1\"/>\n<text text-anchor=\"middle\" x=\"72.5\" y=\"-127\" font-family=\"Times,serif\" font-size=\"10.00\">1</text>\n</g>\n<!-- temp_G16 -->\n<g id=\"node9\" class=\"node\">\n<title>temp_G16</title>\n<text text-anchor=\"middle\" x=\"27\" y=\"-14.3\" font-family=\"Times,serif\" font-size=\"14.00\">temp</text>\n</g>\n<!-- temp_G16&#45;&gt;PrepareHubbard -->\n<g id=\"edge9\" class=\"edge\">\n<title>temp_G16:e-&gt;PrepareHubbard:w</title>\n<path fill=\"none\" stroke=\"black\" d=\"M54,-18C83.75,-18 61.63,-143.89 88.95,-149.79\"/>\n<ellipse fill=\"black\" stroke=\"black\" cx=\"90.01\" cy=\"-149.9\" rx=\"1\" ry=\"1\"/>\n<text text-anchor=\"middle\" x=\"72.5\" y=\"-95\" font-family=\"Times,serif\" font-size=\"10.00\">2</text>\n</g>\n<!-- U_G1 -->\n<g id=\"node11\" class=\"node\">\n<title>U_G1</title>\n<text text-anchor=\"middle\" x=\"228\" y=\"-446.3\" font-family=\"Times,serif\" font-size=\"14.00\">U</text>\n</g>\n<!-- PrepareHubbard&#45;&gt;U_G1 -->\n<g id=\"edge10\" class=\"edge\">\n<title>PrepareHubbard:e-&gt;U_G1:w</title>\n<path fill=\"none\" stroke=\"black\" d=\"M164,-319C193.54,-319 171.82,-443.93 198.96,-449.79\"/>\n<ellipse fill=\"black\" stroke=\"black\" cx=\"200.01\" cy=\"-449.9\" rx=\"1\" ry=\"1\"/>\n<text text-anchor=\"middle\" x=\"182.5\" y=\"-395\" font-family=\"Times,serif\" font-size=\"10.00\">1</text>\n</g>\n<!-- V_G4 -->\n<g id=\"node12\" class=\"node\">\n<title>V_G4</title>\n<text text-anchor=\"middle\" x=\"228\" y=\"-392.3\" font-family=\"Times,serif\" font-size=\"14.00\">V</text>\n</g>\n<!-- PrepareHubbard&#45;&gt;V_G4 -->\n<g id=\"edge11\" class=\"edge\">\n<title>PrepareHubbard:e-&gt;V_G4:w</title>\n<path fill=\"none\" stroke=\"black\" d=\"M164,-298C186.55,-298 178.29,-389.97 198.91,-395.72\"/>\n<ellipse fill=\"black\" stroke=\"black\" cx=\"200.01\" cy=\"-395.87\" rx=\"1\" ry=\"1\"/>\n<text text-anchor=\"middle\" x=\"182.5\" y=\"-352\" font-family=\"Times,serif\" font-size=\"10.00\">1</text>\n</g>\n<!-- p_x_G19 -->\n<g id=\"node13\" class=\"node\">\n<title>p_x_G19</title>\n<text text-anchor=\"middle\" x=\"228\" y=\"-338.3\" font-family=\"Times,serif\" font-size=\"14.00\">p_x</text>\n</g>\n<!-- PrepareHubbard&#45;&gt;p_x_G19 -->\n<g id=\"edge12\" class=\"edge\">\n<title>PrepareHubbard:e-&gt;p_x_G19:w</title>\n<path fill=\"none\" stroke=\"black\" d=\"M164,-277C196.46,-277 169.11,-338.99 198.76,-341.89\"/>\n<ellipse fill=\"black\" stroke=\"black\" cx=\"200\" cy=\"-341.95\" rx=\"1\" ry=\"1\"/>\n<text text-anchor=\"middle\" x=\"182.5\" y=\"-318\" font-family=\"Times,serif\" font-size=\"10.00\">2</text>\n</g>\n<!-- p_y_G11 -->\n<g id=\"node14\" class=\"node\">\n<title>p_y_G11</title>\n<text text-anchor=\"middle\" x=\"228\" y=\"-284.3\" font-family=\"Times,serif\" font-size=\"14.00\">p_y</text>\n</g>\n<!-- PrepareHubbard&#45;&gt;p_y_G11 -->\n<g id=\"edge13\" class=\"edge\">\n<title>PrepareHubbard:e-&gt;p_y_G11:w</title>\n<path fill=\"none\" stroke=\"black\" d=\"M164,-256C184.89,-256 179.72,-285.55 198.58,-287.86\"/>\n<ellipse fill=\"black\" stroke=\"black\" cx=\"200\" cy=\"-287.94\" rx=\"1\" ry=\"1\"/>\n<text text-anchor=\"middle\" x=\"182.5\" y=\"-275\" font-family=\"Times,serif\" font-size=\"10.00\">2</text>\n</g>\n<!-- alpha_G8 -->\n<g id=\"node15\" class=\"node\">\n<title>alpha_G8</title>\n<text text-anchor=\"middle\" x=\"228\" y=\"-230.3\" font-family=\"Times,serif\" font-size=\"14.00\">alpha</text>\n</g>\n<!-- PrepareHubbard&#45;&gt;alpha_G8 -->\n<g id=\"edge14\" class=\"edge\">\n<title>PrepareHubbard:e-&gt;alpha_G8:w</title>\n<path fill=\"none\" stroke=\"black\" d=\"M164,-234C179.67,-234 184.14,-234 198.77,-234\"/>\n<ellipse fill=\"black\" stroke=\"black\" cx=\"200\" cy=\"-234\" rx=\"1\" ry=\"1\"/>\n<text text-anchor=\"middle\" x=\"182.5\" y=\"-237\" font-family=\"Times,serif\" font-size=\"10.00\">1</text>\n</g>\n<!-- q_x_G24 -->\n<g id=\"node16\" class=\"node\">\n<title>q_x_G24</title>\n<text text-anchor=\"middle\" x=\"228\" y=\"-176.3\" font-family=\"Times,serif\" font-size=\"14.00\">q_x</text>\n</g>\n<!-- PrepareHubbard&#45;&gt;q_x_G24 -->\n<g id=\"edge15\" class=\"edge\">\n<title>PrepareHubbard:e-&gt;q_x_G24:w</title>\n<path fill=\"none\" stroke=\"black\" d=\"M164,-213C185.17,-213 179.47,-182.53 198.55,-180.15\"/>\n<ellipse fill=\"black\" stroke=\"black\" cx=\"200\" cy=\"-180.06\" rx=\"1\" ry=\"1\"/>\n<text text-anchor=\"middle\" x=\"182.5\" y=\"-200\" font-family=\"Times,serif\" font-size=\"10.00\">2</text>\n</g>\n<!-- q_y_G13 -->\n<g id=\"node17\" class=\"node\">\n<title>q_y_G13</title>\n<text text-anchor=\"middle\" x=\"228\" y=\"-122.3\" font-family=\"Times,serif\" font-size=\"14.00\">q_y</text>\n</g>\n<!-- PrepareHubbard&#45;&gt;q_y_G13 -->\n<g id=\"edge16\" class=\"edge\">\n<title>PrepareHubbard:e-&gt;q_y_G13:w</title>\n<path fill=\"none\" stroke=\"black\" d=\"M164,-192C196.84,-192 168.75,-129.06 198.74,-126.11\"/>\n<ellipse fill=\"black\" stroke=\"black\" cx=\"200\" cy=\"-126.05\" rx=\"1\" ry=\"1\"/>\n<text text-anchor=\"middle\" x=\"182.5\" y=\"-169\" font-family=\"Times,serif\" font-size=\"10.00\">2</text>\n</g>\n<!-- beta_G7 -->\n<g id=\"node18\" class=\"node\">\n<title>beta_G7</title>\n<text text-anchor=\"middle\" x=\"228\" y=\"-68.3\" font-family=\"Times,serif\" font-size=\"14.00\">beta</text>\n</g>\n<!-- PrepareHubbard&#45;&gt;beta_G7 -->\n<g id=\"edge17\" class=\"edge\">\n<title>PrepareHubbard:e-&gt;beta_G7:w</title>\n<path fill=\"none\" stroke=\"black\" d=\"M164,-171C186.75,-171 178.1,-78.09 198.89,-72.28\"/>\n<ellipse fill=\"black\" stroke=\"black\" cx=\"200.01\" cy=\"-72.13\" rx=\"1\" ry=\"1\"/>\n<text text-anchor=\"middle\" x=\"182.5\" y=\"-127\" font-family=\"Times,serif\" font-size=\"10.00\">1</text>\n</g>\n<!-- temp_G26 -->\n<g id=\"node19\" class=\"node\">\n<title>temp_G26</title>\n<text text-anchor=\"middle\" x=\"228\" y=\"-14.3\" font-family=\"Times,serif\" font-size=\"14.00\">temp</text>\n</g>\n<!-- PrepareHubbard&#45;&gt;temp_G26 -->\n<g id=\"edge18\" class=\"edge\">\n<title>PrepareHubbard:e-&gt;temp_G26:w</title>\n<path fill=\"none\" stroke=\"black\" d=\"M164,-150C193.75,-150 171.63,-24.11 198.95,-18.21\"/>\n<ellipse fill=\"black\" stroke=\"black\" cx=\"200.01\" cy=\"-18.1\" rx=\"1\" ry=\"1\"/>\n<text text-anchor=\"middle\" x=\"182.5\" y=\"-95\" font-family=\"Times,serif\" font-size=\"10.00\">2</text>\n</g>\n</g>\n</svg>",
          "text/plain": "<IPython.core.display.SVG object>"
         },
         "metadata": {},
         "output_type": "display_data"
        }
       ],
       "tabbable": null,
       "tooltip": null
      }
     },
     "88f473d499f84582b4b1b5858f507c4f": {
      "model_module": "@jupyter-widgets/controls",
      "model_module_version": "2.0.0",
      "model_name": "HBoxModel",
      "state": {
       "_dom_classes": [],
       "_model_module": "@jupyter-widgets/controls",
       "_model_module_version": "2.0.0",
       "_model_name": "HBoxModel",
       "_view_count": null,
       "_view_module": "@jupyter-widgets/controls",
       "_view_module_version": "2.0.0",
       "_view_name": "HBoxView",
       "box_style": "",
       "children": [
        "IPY_MODEL_5c55f0c47d8c44d59c753fb387130282"
       ],
       "layout": "IPY_MODEL_df8c7e527f6a42c289af00c8d037062d",
       "tabbable": null,
       "tooltip": null
      }
     },
     "a2627f453cc34b1587152d32e8a891b9": {
      "model_module": "@jupyter-widgets/controls",
      "model_module_version": "2.0.0",
      "model_name": "HBoxModel",
      "state": {
       "_dom_classes": [],
       "_model_module": "@jupyter-widgets/controls",
       "_model_module_version": "2.0.0",
       "_model_name": "HBoxModel",
       "_view_count": null,
       "_view_module": "@jupyter-widgets/controls",
       "_view_module_version": "2.0.0",
       "_view_name": "HBoxView",
       "box_style": "",
       "children": [
        "IPY_MODEL_636af6946a2342c89278230e353325bb"
       ],
       "layout": "IPY_MODEL_dd4ca4d0eb8543de811b5a3dbbeb4ed5",
       "tabbable": null,
       "tooltip": null
      }
     },
     "a8b44420cac64b75a2ee02d9b3fd1a5e": {
      "model_module": "@jupyter-widgets/base",
      "model_module_version": "2.0.0",
      "model_name": "LayoutModel",
      "state": {
       "_model_module": "@jupyter-widgets/base",
       "_model_module_version": "2.0.0",
       "_model_name": "LayoutModel",
       "_view_count": null,
       "_view_module": "@jupyter-widgets/base",
       "_view_module_version": "2.0.0",
       "_view_name": "LayoutView",
       "align_content": null,
       "align_items": null,
       "align_self": null,
       "border_bottom": null,
       "border_left": null,
       "border_right": null,
       "border_top": null,
       "bottom": null,
       "display": null,
       "flex": null,
       "flex_flow": null,
       "grid_area": null,
       "grid_auto_columns": null,
       "grid_auto_flow": null,
       "grid_auto_rows": null,
       "grid_column": null,
       "grid_gap": null,
       "grid_row": null,
       "grid_template_areas": null,
       "grid_template_columns": null,
       "grid_template_rows": null,
       "height": null,
       "justify_content": null,
       "justify_items": null,
       "left": null,
       "margin": null,
       "max_height": null,
       "max_width": null,
       "min_height": null,
       "min_width": null,
       "object_fit": null,
       "object_position": null,
       "order": null,
       "overflow": null,
       "padding": null,
       "right": null,
       "top": null,
       "visibility": null,
       "width": null
      }
     },
     "dd4ca4d0eb8543de811b5a3dbbeb4ed5": {
      "model_module": "@jupyter-widgets/base",
      "model_module_version": "2.0.0",
      "model_name": "LayoutModel",
      "state": {
       "_model_module": "@jupyter-widgets/base",
       "_model_module_version": "2.0.0",
       "_model_name": "LayoutModel",
       "_view_count": null,
       "_view_module": "@jupyter-widgets/base",
       "_view_module_version": "2.0.0",
       "_view_name": "LayoutView",
       "align_content": null,
       "align_items": null,
       "align_self": null,
       "border_bottom": null,
       "border_left": null,
       "border_right": null,
       "border_top": null,
       "bottom": null,
       "display": null,
       "flex": null,
       "flex_flow": null,
       "grid_area": null,
       "grid_auto_columns": null,
       "grid_auto_flow": null,
       "grid_auto_rows": null,
       "grid_column": null,
       "grid_gap": null,
       "grid_row": null,
       "grid_template_areas": null,
       "grid_template_columns": null,
       "grid_template_rows": null,
       "height": null,
       "justify_content": null,
       "justify_items": null,
       "left": null,
       "margin": null,
       "max_height": null,
       "max_width": null,
       "min_height": null,
       "min_width": null,
       "object_fit": null,
       "object_position": null,
       "order": null,
       "overflow": null,
       "padding": null,
       "right": null,
       "top": null,
       "visibility": null,
       "width": null
      }
     },
     "df8c7e527f6a42c289af00c8d037062d": {
      "model_module": "@jupyter-widgets/base",
      "model_module_version": "2.0.0",
      "model_name": "LayoutModel",
      "state": {
       "_model_module": "@jupyter-widgets/base",
       "_model_module_version": "2.0.0",
       "_model_name": "LayoutModel",
       "_view_count": null,
       "_view_module": "@jupyter-widgets/base",
       "_view_module_version": "2.0.0",
       "_view_name": "LayoutView",
       "align_content": null,
       "align_items": null,
       "align_self": null,
       "border_bottom": null,
       "border_left": null,
       "border_right": null,
       "border_top": null,
       "bottom": null,
       "display": null,
       "flex": null,
       "flex_flow": null,
       "grid_area": null,
       "grid_auto_columns": null,
       "grid_auto_flow": null,
       "grid_auto_rows": null,
       "grid_column": null,
       "grid_gap": null,
       "grid_row": null,
       "grid_template_areas": null,
       "grid_template_columns": null,
       "grid_template_rows": null,
       "height": null,
       "justify_content": null,
       "justify_items": null,
       "left": null,
       "margin": null,
       "max_height": null,
       "max_width": null,
       "min_height": null,
       "min_width": null,
       "object_fit": null,
       "object_position": null,
       "order": null,
       "overflow": null,
       "padding": null,
       "right": null,
       "top": null,
       "visibility": null,
       "width": null
      }
     }
    },
    "version_major": 2,
    "version_minor": 0
   }
  }
 },
 "nbformat": 4,
 "nbformat_minor": 5
}
