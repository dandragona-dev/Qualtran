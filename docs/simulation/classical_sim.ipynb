{
 "cells": [
  {
   "cell_type": "markdown",
   "id": "19c8aede",
   "metadata": {},
   "source": [
    "# Classical Simulation\n",
    "\n",
    "Many quantum information subroutines are reversible classical operations. The catch is that they are operated on superpositions of classical bitstrings. However, we can unit test these operations by checking against specific bitstrings through the `call_classically` bloqs protocol."
   ]
  },
  {
   "cell_type": "code",
   "execution_count": 1,
   "id": "689149fc",
   "metadata": {},
   "outputs": [],
   "source": [
    "from typing import *\n",
    "\n",
    "import numpy as np\n",
    "from attrs import frozen\n",
    "from numpy.typing import NDArray\n",
    "\n",
    "from qualtran import Bloq, BloqBuilder, Register, Signature, Side\n",
    "from qualtran.drawing import show_bloq"
   ]
  },
  {
   "cell_type": "markdown",
   "id": "71193328",
   "metadata": {},
   "source": [
    "## CNOT\n",
    "\n",
    "The simplest classical gate is the controlled not. This flips the target bit if `ctrl` is set. We can implement the `on_classical_vals` method to encode this behavior."
   ]
  },
  {
   "cell_type": "code",
   "execution_count": 2,
   "id": "3f251026",
   "metadata": {},
   "outputs": [],
   "source": [
    "@frozen\n",
    "class CNOTExample(Bloq):\n",
    "    @property\n",
    "    def signature(self) -> 'Signature':\n",
    "        return Signature.build(ctrl=1, target=1)\n",
    "\n",
    "    def on_classical_vals(\n",
    "        self, ctrl: NDArray[np.uint8], target: NDArray[np.uint8]\n",
    "    ) -> Dict[str, NDArray[np.uint8]]:\n",
    "        target_out = (ctrl + target) % 2\n",
    "        return {'ctrl': ctrl, 'target': target_out}"
   ]
  },
  {
   "cell_type": "markdown",
   "id": "62a974c9",
   "metadata": {},
   "source": [
    "We can call the Bloq on classical inputs by using `Bloq.call_classically()`. "
   ]
  },
  {
   "cell_type": "code",
   "execution_count": 3,
   "id": "84d2ee13",
   "metadata": {},
   "outputs": [
    {
     "data": {
      "text/plain": [
       "(1, 1)"
      ]
     },
     "execution_count": 3,
     "metadata": {},
     "output_type": "execute_result"
    }
   ],
   "source": [
    "CNOTExample().call_classically(ctrl=1, target=0)"
   ]
  },
  {
   "cell_type": "code",
   "execution_count": 4,
   "id": "4d5fd4dc",
   "metadata": {},
   "outputs": [
    {
     "name": "stdout",
     "output_type": "stream",
     "text": [
      "00 -> 00\n",
      "01 -> 01\n",
      "10 -> 11\n",
      "11 -> 10\n"
     ]
    }
   ],
   "source": [
    "import itertools\n",
    "for c, t in itertools.product([0,1], repeat=2):\n",
    "    out_c, out_t = CNOTExample().call_classically(ctrl=c, target=t)\n",
    "    print(f'{c}{t} -> {out_c}{out_t}')"
   ]
  },
  {
   "cell_type": "markdown",
   "id": "5a9e2ec0",
   "metadata": {},
   "source": [
    "### Drawing\n",
    "\n",
    "We can draw the flow of classical values as well using `ClassicalSimGraphDrawer`"
   ]
  },
  {
   "cell_type": "code",
   "execution_count": 5,
   "id": "4653d4f9",
   "metadata": {},
   "outputs": [
    {
     "data": {
      "image/svg+xml": [
       "<svg xmlns=\"http://www.w3.org/2000/svg\" xmlns:xlink=\"http://www.w3.org/1999/xlink\" width=\"260pt\" height=\"98pt\" viewBox=\"0.00 0.00 260.00 98.00\">\n",
       "<g id=\"graph0\" class=\"graph\" transform=\"scale(1 1) rotate(0) translate(4 94)\">\n",
       "<title>my_graph</title>\n",
       "<polygon fill=\"white\" stroke=\"transparent\" points=\"-4,4 -4,-94 256,-94 256,4 -4,4\"/>\n",
       "<!-- ctrl_G1 -->\n",
       "<g id=\"node1\" class=\"node\">\n",
       "<title>ctrl_G1</title>\n",
       "<text text-anchor=\"middle\" x=\"27\" y=\"-68.3\" font-family=\"Times,serif\" font-size=\"14.00\">ctrl</text>\n",
       "</g>\n",
       "<!-- CNOTExample -->\n",
       "<g id=\"node3\" class=\"node\">\n",
       "<title>CNOTExample</title>\n",
       "<polygon fill=\"none\" stroke=\"black\" points=\"91,-66 91,-83 161,-83 161,-66 91,-66\"/>\n",
       "<text text-anchor=\"start\" x=\"94\" y=\"-72\" font-family=\"Times,serif\" font-size=\"10.00\">CNOTExample</text>\n",
       "<polygon fill=\"none\" stroke=\"black\" points=\"91,-45 91,-66 161,-66 161,-45 91,-45\"/>\n",
       "<text text-anchor=\"start\" x=\"116.5\" y=\"-51.8\" font-family=\"Times,serif\" font-size=\"14.00\">ctrl</text>\n",
       "<polygon fill=\"none\" stroke=\"black\" points=\"91,-24 91,-45 161,-45 161,-24 91,-24\"/>\n",
       "<text text-anchor=\"start\" x=\"110.5\" y=\"-30.8\" font-family=\"Times,serif\" font-size=\"14.00\">target</text>\n",
       "</g>\n",
       "<!-- ctrl_G1&#45;&gt;CNOTExample -->\n",
       "<g id=\"edge1\" class=\"edge\">\n",
       "<title>ctrl_G1:e-&gt;CNOTExample:w</title>\n",
       "<path fill=\"none\" stroke=\"black\" d=\"M54,-72C71.22,-72 72.97,-57.23 88.98,-56.07\"/>\n",
       "<ellipse fill=\"black\" stroke=\"black\" cx=\"90\" cy=\"-56.04\" rx=\"1\" ry=\"1\"/>\n",
       "<text text-anchor=\"middle\" x=\"72.5\" y=\"-67\" font-family=\"Times,serif\" font-size=\"10.00\" fill=\"darkblue\">1</text>\n",
       "</g>\n",
       "<!-- target_G4 -->\n",
       "<g id=\"node2\" class=\"node\">\n",
       "<title>target_G4</title>\n",
       "<text text-anchor=\"middle\" x=\"27\" y=\"-14.3\" font-family=\"Times,serif\" font-size=\"14.00\">target</text>\n",
       "</g>\n",
       "<!-- target_G4&#45;&gt;CNOTExample -->\n",
       "<g id=\"edge2\" class=\"edge\">\n",
       "<title>target_G4:e-&gt;CNOTExample:w</title>\n",
       "<path fill=\"none\" stroke=\"black\" d=\"M54,-18C71.22,-18 72.97,-32.77 88.98,-33.93\"/>\n",
       "<ellipse fill=\"black\" stroke=\"black\" cx=\"90\" cy=\"-33.96\" rx=\"1\" ry=\"1\"/>\n",
       "<text text-anchor=\"middle\" x=\"72.5\" y=\"-29\" font-family=\"Times,serif\" font-size=\"10.00\" fill=\"darkblue\">0</text>\n",
       "</g>\n",
       "<!-- ctrl_G5 -->\n",
       "<g id=\"node4\" class=\"node\">\n",
       "<title>ctrl_G5</title>\n",
       "<text text-anchor=\"middle\" x=\"225\" y=\"-68.3\" font-family=\"Times,serif\" font-size=\"14.00\">ctrl</text>\n",
       "</g>\n",
       "<!-- CNOTExample&#45;&gt;ctrl_G5 -->\n",
       "<g id=\"edge3\" class=\"edge\">\n",
       "<title>CNOTExample:e-&gt;ctrl_G5:w</title>\n",
       "<path fill=\"none\" stroke=\"black\" d=\"M161,-56C178.22,-56 179.97,-70.77 195.98,-71.93\"/>\n",
       "<ellipse fill=\"black\" stroke=\"black\" cx=\"197\" cy=\"-71.96\" rx=\"1\" ry=\"1\"/>\n",
       "<text text-anchor=\"middle\" x=\"179.5\" y=\"-67\" font-family=\"Times,serif\" font-size=\"10.00\" fill=\"darkblue\">1</text>\n",
       "</g>\n",
       "<!-- target_G2 -->\n",
       "<g id=\"node5\" class=\"node\">\n",
       "<title>target_G2</title>\n",
       "<text text-anchor=\"middle\" x=\"225\" y=\"-14.3\" font-family=\"Times,serif\" font-size=\"14.00\">target</text>\n",
       "</g>\n",
       "<!-- CNOTExample&#45;&gt;target_G2 -->\n",
       "<g id=\"edge4\" class=\"edge\">\n",
       "<title>CNOTExample:e-&gt;target_G2:w</title>\n",
       "<path fill=\"none\" stroke=\"black\" d=\"M161,-34C178.22,-34 179.97,-19.23 195.98,-18.07\"/>\n",
       "<ellipse fill=\"black\" stroke=\"black\" cx=\"197\" cy=\"-18.04\" rx=\"1\" ry=\"1\"/>\n",
       "<text text-anchor=\"middle\" x=\"179.5\" y=\"-29\" font-family=\"Times,serif\" font-size=\"10.00\" fill=\"darkblue\">1</text>\n",
       "</g>\n",
       "</g>\n",
       "</svg>"
      ],
      "text/plain": [
       "<IPython.core.display.SVG object>"
      ]
     },
     "execution_count": 5,
     "metadata": {},
     "output_type": "execute_result"
    }
   ],
   "source": [
    "from qualtran.drawing import ClassicalSimGraphDrawer\n",
    "\n",
    "drawer = ClassicalSimGraphDrawer(CNOTExample(), vals=dict(ctrl=1, target=0))\n",
    "drawer.get_svg()"
   ]
  },
  {
   "cell_type": "code",
   "execution_count": 6,
   "id": "8b62e282",
   "metadata": {},
   "outputs": [
    {
     "data": {
      "image/svg+xml": [
       "<svg xmlns=\"http://www.w3.org/2000/svg\" xmlns:xlink=\"http://www.w3.org/1999/xlink\" width=\"474pt\" height=\"98pt\" viewBox=\"0.00 0.00 474.00 98.00\">\n",
       "<g id=\"graph0\" class=\"graph\" transform=\"scale(1 1) rotate(0) translate(4 94)\">\n",
       "<title>my_graph</title>\n",
       "<polygon fill=\"white\" stroke=\"transparent\" points=\"-4,4 -4,-94 470,-94 470,4 -4,4\"/>\n",
       "<!-- q0_G12 -->\n",
       "<g id=\"node1\" class=\"node\">\n",
       "<title>q0_G12</title>\n",
       "<text text-anchor=\"middle\" x=\"27\" y=\"-68.3\" font-family=\"Times,serif\" font-size=\"14.00\">q0</text>\n",
       "</g>\n",
       "<!-- CNOTExample -->\n",
       "<g id=\"node3\" class=\"node\">\n",
       "<title>CNOTExample</title>\n",
       "<polygon fill=\"none\" stroke=\"black\" points=\"91,-66 91,-83 161,-83 161,-66 91,-66\"/>\n",
       "<text text-anchor=\"start\" x=\"94\" y=\"-72\" font-family=\"Times,serif\" font-size=\"10.00\">CNOTExample</text>\n",
       "<polygon fill=\"none\" stroke=\"black\" points=\"91,-45 91,-66 161,-66 161,-45 91,-45\"/>\n",
       "<text text-anchor=\"start\" x=\"116.5\" y=\"-51.8\" font-family=\"Times,serif\" font-size=\"14.00\">ctrl</text>\n",
       "<polygon fill=\"none\" stroke=\"black\" points=\"91,-24 91,-45 161,-45 161,-24 91,-24\"/>\n",
       "<text text-anchor=\"start\" x=\"110.5\" y=\"-30.8\" font-family=\"Times,serif\" font-size=\"14.00\">target</text>\n",
       "</g>\n",
       "<!-- q0_G12&#45;&gt;CNOTExample -->\n",
       "<g id=\"edge1\" class=\"edge\">\n",
       "<title>q0_G12:e-&gt;CNOTExample:w</title>\n",
       "<path fill=\"none\" stroke=\"black\" d=\"M54,-72C71.22,-72 72.97,-57.23 88.98,-56.07\"/>\n",
       "<ellipse fill=\"black\" stroke=\"black\" cx=\"90\" cy=\"-56.04\" rx=\"1\" ry=\"1\"/>\n",
       "<text text-anchor=\"middle\" x=\"72.5\" y=\"-67\" font-family=\"Times,serif\" font-size=\"10.00\" fill=\"darkblue\">1</text>\n",
       "</g>\n",
       "<!-- q1 -->\n",
       "<g id=\"node2\" class=\"node\">\n",
       "<title>q1</title>\n",
       "<text text-anchor=\"middle\" x=\"27\" y=\"-14.3\" font-family=\"Times,serif\" font-size=\"14.00\">q1</text>\n",
       "</g>\n",
       "<!-- q1&#45;&gt;CNOTExample -->\n",
       "<g id=\"edge2\" class=\"edge\">\n",
       "<title>q1:e-&gt;CNOTExample:w</title>\n",
       "<path fill=\"none\" stroke=\"black\" d=\"M54,-18C71.22,-18 72.97,-32.77 88.98,-33.93\"/>\n",
       "<ellipse fill=\"black\" stroke=\"black\" cx=\"90\" cy=\"-33.96\" rx=\"1\" ry=\"1\"/>\n",
       "<text text-anchor=\"middle\" x=\"72.5\" y=\"-29\" font-family=\"Times,serif\" font-size=\"10.00\" fill=\"darkblue\">0</text>\n",
       "</g>\n",
       "<!-- CNOTExample_G0 -->\n",
       "<g id=\"node4\" class=\"node\">\n",
       "<title>CNOTExample_G0</title>\n",
       "<polygon fill=\"none\" stroke=\"black\" points=\"198,-66 198,-83 268,-83 268,-66 198,-66\"/>\n",
       "<text text-anchor=\"start\" x=\"201\" y=\"-72\" font-family=\"Times,serif\" font-size=\"10.00\">CNOTExample</text>\n",
       "<polygon fill=\"none\" stroke=\"black\" points=\"198,-45 198,-66 268,-66 268,-45 198,-45\"/>\n",
       "<text text-anchor=\"start\" x=\"223.5\" y=\"-51.8\" font-family=\"Times,serif\" font-size=\"14.00\">ctrl</text>\n",
       "<polygon fill=\"none\" stroke=\"black\" points=\"198,-24 198,-45 268,-45 268,-24 198,-24\"/>\n",
       "<text text-anchor=\"start\" x=\"217.5\" y=\"-30.8\" font-family=\"Times,serif\" font-size=\"14.00\">target</text>\n",
       "</g>\n",
       "<!-- CNOTExample&#45;&gt;CNOTExample_G0 -->\n",
       "<g id=\"edge3\" class=\"edge\">\n",
       "<title>CNOTExample:e-&gt;CNOTExample_G0:w</title>\n",
       "<path fill=\"none\" stroke=\"black\" d=\"M161,-34C170.16,-34 172.09,-37.37 180,-42 188.06,-46.72 187.94,-54.64 195.82,-55.84\"/>\n",
       "<ellipse fill=\"black\" stroke=\"black\" cx=\"197\" cy=\"-55.93\" rx=\"1\" ry=\"1\"/>\n",
       "<text text-anchor=\"middle\" x=\"179.5\" y=\"-45\" font-family=\"Times,serif\" font-size=\"10.00\" fill=\"darkblue\">1</text>\n",
       "</g>\n",
       "<!-- CNOTExample&#45;&gt;CNOTExample_G0 -->\n",
       "<g id=\"edge4\" class=\"edge\">\n",
       "<title>CNOTExample:e-&gt;CNOTExample_G0:w</title>\n",
       "<path fill=\"none\" stroke=\"black\" d=\"M161,-56C179.38,-56 178.94,-35.69 195.85,-34.1\"/>\n",
       "<ellipse fill=\"black\" stroke=\"black\" cx=\"197\" cy=\"-34.05\" rx=\"1\" ry=\"1\"/>\n",
       "<text text-anchor=\"middle\" x=\"179.5\" y=\"-48\" font-family=\"Times,serif\" font-size=\"10.00\" fill=\"darkblue\">1</text>\n",
       "</g>\n",
       "<!-- CNOTExample_G3 -->\n",
       "<g id=\"node5\" class=\"node\">\n",
       "<title>CNOTExample_G3</title>\n",
       "<polygon fill=\"none\" stroke=\"black\" points=\"305,-66 305,-83 375,-83 375,-66 305,-66\"/>\n",
       "<text text-anchor=\"start\" x=\"308\" y=\"-72\" font-family=\"Times,serif\" font-size=\"10.00\">CNOTExample</text>\n",
       "<polygon fill=\"none\" stroke=\"black\" points=\"305,-45 305,-66 375,-66 375,-45 305,-45\"/>\n",
       "<text text-anchor=\"start\" x=\"330.5\" y=\"-51.8\" font-family=\"Times,serif\" font-size=\"14.00\">ctrl</text>\n",
       "<polygon fill=\"none\" stroke=\"black\" points=\"305,-24 305,-45 375,-45 375,-24 305,-24\"/>\n",
       "<text text-anchor=\"start\" x=\"324.5\" y=\"-30.8\" font-family=\"Times,serif\" font-size=\"14.00\">target</text>\n",
       "</g>\n",
       "<!-- CNOTExample_G0&#45;&gt;CNOTExample_G3 -->\n",
       "<g id=\"edge5\" class=\"edge\">\n",
       "<title>CNOTExample_G0:e-&gt;CNOTExample_G3:w</title>\n",
       "<path fill=\"none\" stroke=\"black\" d=\"M268,-34C277.16,-34 279.09,-37.37 287,-42 295.06,-46.72 294.94,-54.64 302.82,-55.84\"/>\n",
       "<ellipse fill=\"black\" stroke=\"black\" cx=\"304\" cy=\"-55.93\" rx=\"1\" ry=\"1\"/>\n",
       "<text text-anchor=\"middle\" x=\"286.5\" y=\"-45\" font-family=\"Times,serif\" font-size=\"10.00\" fill=\"darkblue\">0</text>\n",
       "</g>\n",
       "<!-- CNOTExample_G0&#45;&gt;CNOTExample_G3 -->\n",
       "<g id=\"edge6\" class=\"edge\">\n",
       "<title>CNOTExample_G0:e-&gt;CNOTExample_G3:w</title>\n",
       "<path fill=\"none\" stroke=\"black\" d=\"M268,-56C286.38,-56 285.94,-35.69 302.85,-34.1\"/>\n",
       "<ellipse fill=\"black\" stroke=\"black\" cx=\"304\" cy=\"-34.05\" rx=\"1\" ry=\"1\"/>\n",
       "<text text-anchor=\"middle\" x=\"286.5\" y=\"-48\" font-family=\"Times,serif\" font-size=\"10.00\" fill=\"darkblue\">1</text>\n",
       "</g>\n",
       "<!-- q0 -->\n",
       "<g id=\"node6\" class=\"node\">\n",
       "<title>q0</title>\n",
       "<text text-anchor=\"middle\" x=\"439\" y=\"-68.3\" font-family=\"Times,serif\" font-size=\"14.00\">q0</text>\n",
       "</g>\n",
       "<!-- CNOTExample_G3&#45;&gt;q0 -->\n",
       "<g id=\"edge7\" class=\"edge\">\n",
       "<title>CNOTExample_G3:e-&gt;q0:w</title>\n",
       "<path fill=\"none\" stroke=\"black\" d=\"M375,-56C392.22,-56 393.97,-70.77 409.98,-71.93\"/>\n",
       "<ellipse fill=\"black\" stroke=\"black\" cx=\"411\" cy=\"-71.96\" rx=\"1\" ry=\"1\"/>\n",
       "<text text-anchor=\"middle\" x=\"393.5\" y=\"-67\" font-family=\"Times,serif\" font-size=\"10.00\" fill=\"darkblue\">0</text>\n",
       "</g>\n",
       "<!-- q1_G8 -->\n",
       "<g id=\"node7\" class=\"node\">\n",
       "<title>q1_G8</title>\n",
       "<text text-anchor=\"middle\" x=\"439\" y=\"-14.3\" font-family=\"Times,serif\" font-size=\"14.00\">q1</text>\n",
       "</g>\n",
       "<!-- CNOTExample_G3&#45;&gt;q1_G8 -->\n",
       "<g id=\"edge8\" class=\"edge\">\n",
       "<title>CNOTExample_G3:e-&gt;q1_G8:w</title>\n",
       "<path fill=\"none\" stroke=\"black\" d=\"M375,-34C392.22,-34 393.97,-19.23 409.98,-18.07\"/>\n",
       "<ellipse fill=\"black\" stroke=\"black\" cx=\"411\" cy=\"-18.04\" rx=\"1\" ry=\"1\"/>\n",
       "<text text-anchor=\"middle\" x=\"393.5\" y=\"-29\" font-family=\"Times,serif\" font-size=\"10.00\" fill=\"darkblue\">1</text>\n",
       "</g>\n",
       "</g>\n",
       "</svg>"
      ],
      "text/plain": [
       "<IPython.core.display.SVG object>"
      ]
     },
     "execution_count": 6,
     "metadata": {},
     "output_type": "execute_result"
    }
   ],
   "source": [
    "# Build a SWAP circuit\n",
    "bb = BloqBuilder()\n",
    "q0 = bb.add_register('q0', 1)\n",
    "q1 = bb.add_register('q1', 1)\n",
    "q0, q1 = bb.add(CNOTExample(), ctrl=q0, target=q1)\n",
    "q1, q0 = bb.add(CNOTExample(), ctrl=q1, target=q0)\n",
    "q0, q1 = bb.add(CNOTExample(), ctrl=q0, target=q1)\n",
    "cbloq = bb.finalize(q0=q0, q1=q1)\n",
    "\n",
    "drawer = ClassicalSimGraphDrawer(cbloq, vals=dict(q0=1, q1=0))\n",
    "drawer.get_svg()"
   ]
  },
  {
   "cell_type": "markdown",
   "id": "10",
   "metadata": {},
   "source": [
    "## Quantum Data Types\n",
    "\n",
    "To convert back and forth between classical values and bitstrings, we use the `QDType.to_bits` and `QDType.from_bits` functions.\n",
    "\n",
    "\n",
    "### QFxp classical values\n",
    "\n",
    "Currently, QFxp classical values are represented as fixed-width integers.\n",
    "See the class docstring for QFxp for precise details.\n",
    "To convert from true floating point values to this representation and vice-versa,\n",
    "users can use `QFxp.to_fixed_width_int` and `QFxp.float_from_fixed_width_int` respectively."
   ]
  },
  {
   "cell_type": "code",
   "execution_count": 7,
   "id": "11",
   "metadata": {},
   "outputs": [],
   "source": [
    "from qualtran import QFxp\n",
    "\n",
    "@frozen\n",
    "class DoubleFxp(Bloq):\n",
    "    \"\"\"Bloq with a QFxp of 4 bits (0 int, 4 frac).\n",
    "    \n",
    "    This bloq doubles the input value inplace, discarding any overflow\n",
    "    \"\"\"\n",
    "    num_frac: int = 4\n",
    "    \n",
    "    @property\n",
    "    def signature(self) -> Signature:\n",
    "        return Signature.build_from_dtypes(x=QFxp(self.num_frac, self.num_frac))\n",
    "    \n",
    "    def on_classical_vals(self, x) -> dict[str, 'ClassicalValT']:\n",
    "        \"\"\"Double the input value, discarding overflow\"\"\"\n",
    "        return {'x': (x * 2) % (2**self.num_frac)}\n",
    "\n",
    "\n",
    "bloq_with_qfxp = DoubleFxp()\n",
    "x_float = 0.25\n",
    "x_as_int = QFxp(4, 4).to_fixed_width_int(x_float)\n",
    "(x_out_as_int,) = bloq_with_qfxp.call_classically(x=x_as_int)\n",
    "x_out_float = QFxp(4, 4).float_from_fixed_width_int(x_out_as_int)\n",
    "assert x_out_float == 0.5"
   ]
  }
 ],
 "metadata": {
  "kernelspec": {
   "display_name": "Python 3 (ipykernel)",
   "language": "python",
   "name": "python3"
  },
  "language_info": {
   "codemirror_mode": {
    "name": "ipython",
    "version": 3
   },
   "file_extension": ".py",
   "mimetype": "text/x-python",
   "name": "python",
   "nbconvert_exporter": "python",
   "pygments_lexer": "ipython3",
   "version": "3.11.8"
  }
 },
 "nbformat": 4,
 "nbformat_minor": 5
}
