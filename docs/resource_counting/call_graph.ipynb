{
 "cells": [
  {
   "cell_type": "markdown",
   "id": "1fd2bad2",
   "metadata": {},
   "source": [
    "# The Call Graph Protocol\n",
    "\n",
    "The call graph protocol lets you query which subbloq are called in a bloq's decomposition. Proper accounting of the quantity of subroutine calls is a crucial tool in estimating resource requirements for an algorithm. For example, the number of 'expensive' gates like `TGate` or `Toffoli` required by a bloq is the sum of the number of those gates used by the bloq's callees."
   ]
  },
  {
   "cell_type": "code",
   "execution_count": 1,
   "id": "2482bd7e",
   "metadata": {},
   "outputs": [
    {
     "data": {
      "image/svg+xml": [
       "<svg xmlns=\"http://www.w3.org/2000/svg\" xmlns:xlink=\"http://www.w3.org/1999/xlink\" width=\"222pt\" height=\"318pt\" viewBox=\"0.00 0.00 222.00 318.00\">\n",
       "<g id=\"graph0\" class=\"graph\" transform=\"scale(1 1) rotate(0) translate(4 314)\">\n",
       "<title>counts</title>\n",
       "<polygon fill=\"white\" stroke=\"transparent\" points=\"-4,4 -4,-314 218,-314 218,4 -4,4\"/>\n",
       "<!-- b0 -->\n",
       "<g id=\"node1\" class=\"node\">\n",
       "<title>b0</title>\n",
       "<polygon fill=\"none\" stroke=\"black\" points=\"81,-282.5 81,-305.5 157,-305.5 157,-282.5 81,-282.5\"/>\n",
       "<text text-anchor=\"start\" x=\"87\" y=\"-291.5\" font-family=\"Times,serif\" font-size=\"10.00\">MultiAnd(n=6)</text>\n",
       "<polygon fill=\"none\" stroke=\"black\" points=\"81,-259.5 81,-282.5 128,-282.5 128,-259.5 81,-259.5\"/>\n",
       "<text text-anchor=\"start\" x=\"90.5\" y=\"-268.5\" font-family=\"Times,serif\" font-size=\"10.00\">Qubits</text>\n",
       "<polygon fill=\"none\" stroke=\"black\" points=\"128,-259.5 128,-282.5 157,-282.5 157,-259.5 128,-259.5\"/>\n",
       "<text text-anchor=\"start\" x=\"137.5\" y=\"-268.5\" font-family=\"Times,serif\" font-size=\"10.00\">11</text>\n",
       "<polygon fill=\"none\" stroke=\"black\" points=\"81,-236.5 81,-259.5 128,-259.5 128,-236.5 81,-236.5\"/>\n",
       "<text text-anchor=\"start\" x=\"93.5\" y=\"-245.5\" font-family=\"Times,serif\" font-size=\"10.00\">Ands</text>\n",
       "<polygon fill=\"none\" stroke=\"black\" points=\"128,-236.5 128,-259.5 157,-259.5 157,-236.5 128,-236.5\"/>\n",
       "<text text-anchor=\"start\" x=\"139.5\" y=\"-245.5\" font-family=\"Times,serif\" font-size=\"10.00\">5</text>\n",
       "</g>\n",
       "<!-- b1 -->\n",
       "<g id=\"node2\" class=\"node\">\n",
       "<title>b1</title>\n",
       "<polygon fill=\"none\" stroke=\"black\" points=\"90,-154.5 90,-177.5 148,-177.5 148,-154.5 90,-154.5\"/>\n",
       "<text text-anchor=\"start\" x=\"109.5\" y=\"-163.5\" font-family=\"Times,serif\" font-size=\"10.00\">And</text>\n",
       "<polygon fill=\"none\" stroke=\"black\" points=\"90,-131.5 90,-154.5 130,-154.5 130,-131.5 90,-131.5\"/>\n",
       "<text text-anchor=\"start\" x=\"96\" y=\"-140.5\" font-family=\"Times,serif\" font-size=\"10.00\">Qubits</text>\n",
       "<polygon fill=\"none\" stroke=\"black\" points=\"130,-131.5 130,-154.5 148,-154.5 148,-131.5 130,-131.5\"/>\n",
       "<text text-anchor=\"start\" x=\"136\" y=\"-140.5\" font-family=\"Times,serif\" font-size=\"10.00\">3</text>\n",
       "<polygon fill=\"none\" stroke=\"black\" points=\"90,-108.5 90,-131.5 130,-131.5 130,-108.5 90,-108.5\"/>\n",
       "<text text-anchor=\"start\" x=\"99\" y=\"-117.5\" font-family=\"Times,serif\" font-size=\"10.00\">Ands</text>\n",
       "<polygon fill=\"none\" stroke=\"black\" points=\"130,-108.5 130,-131.5 148,-131.5 148,-108.5 130,-108.5\"/>\n",
       "<text text-anchor=\"start\" x=\"136\" y=\"-117.5\" font-family=\"Times,serif\" font-size=\"10.00\">1</text>\n",
       "</g>\n",
       "<!-- b0&#45;&gt;b1 -->\n",
       "<g id=\"edge1\" class=\"edge\">\n",
       "<title>b0-&gt;b1</title>\n",
       "<path fill=\"none\" stroke=\"black\" d=\"M119,-232.7C119,-220.11 119,-205.92 119,-192.66\"/>\n",
       "<polygon fill=\"black\" stroke=\"black\" points=\"122.5,-192.28 119,-182.28 115.5,-192.28 122.5,-192.28\"/>\n",
       "<text text-anchor=\"middle\" x=\"122.5\" y=\"-203.8\" font-family=\"Times,serif\" font-size=\"14.00\">5</text>\n",
       "</g>\n",
       "<!-- b2 -->\n",
       "<g id=\"node3\" class=\"node\">\n",
       "<title>b2</title>\n",
       "<polygon fill=\"none\" stroke=\"black\" points=\"8,-15 8,-38 114,-38 114,-15 8,-15\"/>\n",
       "<text text-anchor=\"start\" x=\"14.5\" y=\"-24\" font-family=\"Times,serif\" font-size=\"10.00\">ArbitraryClifford(n=2)</text>\n",
       "</g>\n",
       "<!-- b1&#45;&gt;b2 -->\n",
       "<g id=\"edge2\" class=\"edge\">\n",
       "<title>b1-&gt;b2</title>\n",
       "<path fill=\"none\" stroke=\"black\" d=\"M99.85,-104.69C91.51,-88.23 81.94,-69.34 74.39,-54.43\"/>\n",
       "<polygon fill=\"black\" stroke=\"black\" points=\"77.39,-52.61 69.75,-45.27 71.14,-55.77 77.39,-52.61\"/>\n",
       "<text text-anchor=\"middle\" x=\"93.5\" y=\"-75.8\" font-family=\"Times,serif\" font-size=\"14.00\">9</text>\n",
       "</g>\n",
       "<!-- b3 -->\n",
       "<g id=\"node4\" class=\"node\">\n",
       "<title>b3</title>\n",
       "<polygon fill=\"none\" stroke=\"black\" points=\"148,-27 148,-50 206,-50 206,-27 148,-27\"/>\n",
       "<text text-anchor=\"start\" x=\"173.5\" y=\"-36\" font-family=\"Times,serif\" font-size=\"10.00\">T</text>\n",
       "<polygon fill=\"none\" stroke=\"black\" points=\"148,-4 148,-27 188,-27 188,-4 148,-4\"/>\n",
       "<text text-anchor=\"start\" x=\"154\" y=\"-13\" font-family=\"Times,serif\" font-size=\"10.00\">Qubits</text>\n",
       "<polygon fill=\"none\" stroke=\"black\" points=\"188,-4 188,-27 206,-27 206,-4 188,-4\"/>\n",
       "<text text-anchor=\"start\" x=\"194\" y=\"-13\" font-family=\"Times,serif\" font-size=\"10.00\">1</text>\n",
       "</g>\n",
       "<!-- b1&#45;&gt;b3 -->\n",
       "<g id=\"edge3\" class=\"edge\">\n",
       "<title>b1-&gt;b3</title>\n",
       "<path fill=\"none\" stroke=\"black\" d=\"M138.15,-104.69C144.9,-91.38 152.45,-76.47 159.08,-63.37\"/>\n",
       "<polygon fill=\"black\" stroke=\"black\" points=\"162.34,-64.69 163.73,-54.19 156.09,-61.53 162.34,-64.69\"/>\n",
       "<text text-anchor=\"middle\" x=\"156.5\" y=\"-75.8\" font-family=\"Times,serif\" font-size=\"14.00\">4</text>\n",
       "</g>\n",
       "</g>\n",
       "</svg>"
      ],
      "text/plain": [
       "<IPython.core.display.SVG object>"
      ]
     },
     "metadata": {},
     "output_type": "display_data"
    }
   ],
   "source": [
    "from qualtran.drawing import show_call_graph, show_counts_sigma\n",
    "from qualtran.bloqs.mcmt import MultiAnd, And\n",
    "\n",
    "bloq = MultiAnd(cvs=(1,)*6)\n",
    "show_call_graph(bloq)"
   ]
  },
  {
   "cell_type": "markdown",
   "id": "ae6d16de",
   "metadata": {},
   "source": [
    "## Interface\n",
    "\n",
    "The primary method for accessing the call graph of a bloq is `Bloq.call_graph()`. It returns a networkx graph as well as an accounting of total bloq counts for \"leaf\" bloqs. "
   ]
  },
  {
   "cell_type": "code",
   "execution_count": 2,
   "id": "d95b9366-cdd2-4c79-be40-10944720b586",
   "metadata": {},
   "outputs": [
    {
     "name": "stdout",
     "output_type": "stream",
     "text": [
      "DiGraph with 4 nodes and 3 edges\n"
     ]
    }
   ],
   "source": [
    "graph, sigma = bloq.call_graph()\n",
    "print(graph)"
   ]
  },
  {
   "cell_type": "markdown",
   "id": "4b44715e-2cbe-4076-b91b-22f6f36c8d48",
   "metadata": {},
   "source": [
    "Another method is `Bloq.bloq_counts`, which will return a dictionary of immediate children."
   ]
  },
  {
   "cell_type": "code",
   "execution_count": 3,
   "id": "22557f46",
   "metadata": {},
   "outputs": [
    {
     "data": {
      "text/plain": [
       "{ArbitraryClifford(n=2): 9, TGate(is_adjoint=False): 4}"
      ]
     },
     "execution_count": 3,
     "metadata": {},
     "output_type": "execute_result"
    }
   ],
   "source": [
    "And().bloq_counts()"
   ]
  },
  {
   "cell_type": "markdown",
   "id": "2e4aa56b",
   "metadata": {},
   "source": [
    "These methods both take a `generalizer` argument.\n",
    "\n",
    "Often, bloqs have attributes that are important for describing their specific action but don't affect the bloq's resource cost. For example, `Rx(0.12)` and `Rx(0.13)` should probably be considered equal when counting the number of operations. Another example is given below where we group all two-bit `And` operations no matter their control values. \n",
    "\n",
    "The `generalizer` argument is an optional callable that takes specific bloqs to general bloqs. In the next cell, we build a call graph with non-homogenous control values for `MultiAnd` which results in two different nodes for two-bit `And` showing up in the call-graph."
   ]
  },
  {
   "cell_type": "code",
   "execution_count": 4,
   "id": "3c9f2b05",
   "metadata": {},
   "outputs": [
    {
     "data": {
      "image/svg+xml": [
       "<svg xmlns=\"http://www.w3.org/2000/svg\" xmlns:xlink=\"http://www.w3.org/1999/xlink\" width=\"319pt\" height=\"218pt\" viewBox=\"0.00 0.00 318.50 218.00\">\n",
       "<g id=\"graph0\" class=\"graph\" transform=\"scale(1 1) rotate(0) translate(4 214)\">\n",
       "<title>counts</title>\n",
       "<polygon fill=\"white\" stroke=\"transparent\" points=\"-4,4 -4,-214 314.5,-214 314.5,4 -4,4\"/>\n",
       "<!-- b0 -->\n",
       "<g id=\"node1\" class=\"node\">\n",
       "<title>b0</title>\n",
       "<polygon fill=\"none\" stroke=\"black\" points=\"270,-210 157,-210 157,-174 270,-174 270,-210\"/>\n",
       "<text text-anchor=\"start\" x=\"171\" y=\"-193.8\" font-family=\"Times,serif\" font-size=\"14.00\">MultiAnd(n=6)</text>\n",
       "<text text-anchor=\"start\" x=\"165\" y=\"-183\" font-family=\"monospace\" font-size=\"10.00\">cvs=(1, 0, 1 ...</text>\n",
       "</g>\n",
       "<!-- b1 -->\n",
       "<g id=\"node2\" class=\"node\">\n",
       "<title>b1</title>\n",
       "<polygon fill=\"none\" stroke=\"black\" points=\"238,-123 47,-123 47,-87 238,-87 238,-123\"/>\n",
       "<text text-anchor=\"start\" x=\"130.5\" y=\"-106.8\" font-family=\"Times,serif\" font-size=\"14.00\">And</text>\n",
       "<text text-anchor=\"start\" x=\"55\" y=\"-96\" font-family=\"monospace\" font-size=\"10.00\">cv1=1, cv2=1, uncompute=False</text>\n",
       "</g>\n",
       "<!-- b0&#45;&gt;b1 -->\n",
       "<g id=\"edge1\" class=\"edge\">\n",
       "<title>b0-&gt;b1</title>\n",
       "<path fill=\"none\" stroke=\"black\" d=\"M199.13,-173.8C188.83,-161.47 174.81,-144.68 163.29,-130.89\"/>\n",
       "<polygon fill=\"black\" stroke=\"black\" points=\"165.94,-128.61 156.85,-123.18 160.57,-133.09 165.94,-128.61\"/>\n",
       "<text text-anchor=\"middle\" x=\"186\" y=\"-144.8\" font-family=\"Times,serif\" font-size=\"14.00\">5</text>\n",
       "</g>\n",
       "<!-- b2 -->\n",
       "<g id=\"node3\" class=\"node\">\n",
       "<title>b2</title>\n",
       "<polygon fill=\"none\" stroke=\"black\" points=\"310.5,-123 256.5,-123 256.5,-87 310.5,-87 310.5,-123\"/>\n",
       "<text text-anchor=\"start\" x=\"265.5\" y=\"-101.3\" font-family=\"Times,serif\" font-size=\"14.00\">XGate</text>\n",
       "</g>\n",
       "<!-- b0&#45;&gt;b2 -->\n",
       "<g id=\"edge2\" class=\"edge\">\n",
       "<title>b0-&gt;b2</title>\n",
       "<path fill=\"none\" stroke=\"black\" d=\"M227.67,-173.8C237.72,-161.59 251.39,-144.99 262.68,-131.28\"/>\n",
       "<polygon fill=\"black\" stroke=\"black\" points=\"265.7,-133.12 269.36,-123.18 260.3,-128.67 265.7,-133.12\"/>\n",
       "<text text-anchor=\"middle\" x=\"257\" y=\"-144.8\" font-family=\"Times,serif\" font-size=\"14.00\">6</text>\n",
       "</g>\n",
       "<!-- b3 -->\n",
       "<g id=\"node4\" class=\"node\">\n",
       "<title>b3</title>\n",
       "<polygon fill=\"none\" stroke=\"black\" points=\"141,-36 0,-36 0,0 141,0 141,-36\"/>\n",
       "<text text-anchor=\"start\" x=\"8\" y=\"-19.8\" font-family=\"Times,serif\" font-size=\"14.00\">ArbitraryClifford(n=2)</text>\n",
       "<text text-anchor=\"start\" x=\"61\" y=\"-9\" font-family=\"monospace\" font-size=\"10.00\">n=2</text>\n",
       "</g>\n",
       "<!-- b1&#45;&gt;b3 -->\n",
       "<g id=\"edge3\" class=\"edge\">\n",
       "<title>b1-&gt;b3</title>\n",
       "<path fill=\"none\" stroke=\"black\" d=\"M127.93,-86.8C117.49,-74.47 103.26,-57.68 91.58,-43.89\"/>\n",
       "<polygon fill=\"black\" stroke=\"black\" points=\"94.18,-41.54 85.05,-36.18 88.84,-46.07 94.18,-41.54\"/>\n",
       "<text text-anchor=\"middle\" x=\"115\" y=\"-57.8\" font-family=\"Times,serif\" font-size=\"14.00\">9</text>\n",
       "</g>\n",
       "<!-- b4 -->\n",
       "<g id=\"node5\" class=\"node\">\n",
       "<title>b4</title>\n",
       "<polygon fill=\"none\" stroke=\"black\" points=\"272,-36 159,-36 159,0 272,0 272,-36\"/>\n",
       "<text text-anchor=\"start\" x=\"211\" y=\"-19.8\" font-family=\"Times,serif\" font-size=\"14.00\">T</text>\n",
       "<text text-anchor=\"start\" x=\"167\" y=\"-9\" font-family=\"monospace\" font-size=\"10.00\">is_adjoint=False</text>\n",
       "</g>\n",
       "<!-- b1&#45;&gt;b4 -->\n",
       "<g id=\"edge4\" class=\"edge\">\n",
       "<title>b1-&gt;b4</title>\n",
       "<path fill=\"none\" stroke=\"black\" d=\"M157.27,-86.8C167.86,-74.47 182.28,-57.68 194.12,-43.89\"/>\n",
       "<polygon fill=\"black\" stroke=\"black\" points=\"196.89,-46.04 200.75,-36.18 191.58,-41.48 196.89,-46.04\"/>\n",
       "<text text-anchor=\"middle\" x=\"187\" y=\"-57.8\" font-family=\"Times,serif\" font-size=\"14.00\">4</text>\n",
       "</g>\n",
       "</g>\n",
       "</svg>"
      ],
      "text/plain": [
       "<IPython.core.display.SVG object>"
      ]
     },
     "metadata": {},
     "output_type": "display_data"
    },
    {
     "data": {
      "text/markdown": [
       "#### Counts totals:\n",
       " - `ArbitraryClifford(n=2)`: 45\n",
       " - `T`: 20\n",
       " - `XGate`: 6"
      ],
      "text/plain": [
       "<IPython.core.display.Markdown object>"
      ]
     },
     "metadata": {},
     "output_type": "display_data"
    }
   ],
   "source": [
    "graph, sigma = MultiAnd(cvs=(1,0)*3).call_graph()\n",
    "show_call_graph(graph)\n",
    "show_counts_sigma(sigma)"
   ]
  },
  {
   "cell_type": "markdown",
   "id": "8ae5743b",
   "metadata": {},
   "source": [
    "This level of detail might not be relevant for your particular research. Below, we define a `generalize` function that replaces all control values with placeholder symbol values."
   ]
  },
  {
   "cell_type": "code",
   "execution_count": 5,
   "id": "f5e33995",
   "metadata": {},
   "outputs": [
    {
     "data": {
      "image/svg+xml": [
       "<svg xmlns=\"http://www.w3.org/2000/svg\" xmlns:xlink=\"http://www.w3.org/1999/xlink\" width=\"343pt\" height=\"218pt\" viewBox=\"0.00 0.00 342.50 218.00\">\n",
       "<g id=\"graph0\" class=\"graph\" transform=\"scale(1 1) rotate(0) translate(4 214)\">\n",
       "<title>counts</title>\n",
       "<polygon fill=\"white\" stroke=\"transparent\" points=\"-4,4 -4,-214 338.5,-214 338.5,4 -4,4\"/>\n",
       "<!-- b0 -->\n",
       "<g id=\"node1\" class=\"node\">\n",
       "<title>b0</title>\n",
       "<polygon fill=\"none\" stroke=\"black\" points=\"282,-210 169,-210 169,-174 282,-174 282,-210\"/>\n",
       "<text text-anchor=\"start\" x=\"183\" y=\"-193.8\" font-family=\"Times,serif\" font-size=\"14.00\">MultiAnd(n=6)</text>\n",
       "<text text-anchor=\"start\" x=\"177\" y=\"-183\" font-family=\"monospace\" font-size=\"10.00\">cvs=(1, 0, 1 ...</text>\n",
       "</g>\n",
       "<!-- b1 -->\n",
       "<g id=\"node2\" class=\"node\">\n",
       "<title>b1</title>\n",
       "<polygon fill=\"none\" stroke=\"black\" points=\"262,-123 23,-123 23,-87 262,-87 262,-123\"/>\n",
       "<text text-anchor=\"start\" x=\"130.5\" y=\"-106.8\" font-family=\"Times,serif\" font-size=\"14.00\">And</text>\n",
       "<text text-anchor=\"start\" x=\"31\" y=\"-96\" font-family=\"monospace\" font-size=\"10.00\">cv1=_cv10, cv2=_cv20, uncompute=False</text>\n",
       "</g>\n",
       "<!-- b0&#45;&gt;b1 -->\n",
       "<g id=\"edge1\" class=\"edge\">\n",
       "<title>b0-&gt;b1</title>\n",
       "<path fill=\"none\" stroke=\"black\" d=\"M208.7,-173.8C196.55,-161.36 179.96,-144.36 166.43,-130.5\"/>\n",
       "<polygon fill=\"black\" stroke=\"black\" points=\"168.76,-127.88 159.27,-123.18 163.75,-132.78 168.76,-127.88\"/>\n",
       "<text text-anchor=\"middle\" x=\"193\" y=\"-144.8\" font-family=\"Times,serif\" font-size=\"14.00\">5</text>\n",
       "</g>\n",
       "<!-- b2 -->\n",
       "<g id=\"node3\" class=\"node\">\n",
       "<title>b2</title>\n",
       "<polygon fill=\"none\" stroke=\"black\" points=\"334.5,-123 280.5,-123 280.5,-87 334.5,-87 334.5,-123\"/>\n",
       "<text text-anchor=\"start\" x=\"289.5\" y=\"-101.3\" font-family=\"Times,serif\" font-size=\"14.00\">XGate</text>\n",
       "</g>\n",
       "<!-- b0&#45;&gt;b2 -->\n",
       "<g id=\"edge2\" class=\"edge\">\n",
       "<title>b0-&gt;b2</title>\n",
       "<path fill=\"none\" stroke=\"black\" d=\"M242.09,-173.8C254.1,-161.36 270.49,-144.36 283.86,-130.5\"/>\n",
       "<polygon fill=\"black\" stroke=\"black\" points=\"286.51,-132.8 290.93,-123.18 281.47,-127.94 286.51,-132.8\"/>\n",
       "<text text-anchor=\"middle\" x=\"275\" y=\"-144.8\" font-family=\"Times,serif\" font-size=\"14.00\">6</text>\n",
       "</g>\n",
       "<!-- b3 -->\n",
       "<g id=\"node4\" class=\"node\">\n",
       "<title>b3</title>\n",
       "<polygon fill=\"none\" stroke=\"black\" points=\"141,-36 0,-36 0,0 141,0 141,-36\"/>\n",
       "<text text-anchor=\"start\" x=\"8\" y=\"-19.8\" font-family=\"Times,serif\" font-size=\"14.00\">ArbitraryClifford(n=2)</text>\n",
       "<text text-anchor=\"start\" x=\"61\" y=\"-9\" font-family=\"monospace\" font-size=\"10.00\">n=2</text>\n",
       "</g>\n",
       "<!-- b1&#45;&gt;b3 -->\n",
       "<g id=\"edge3\" class=\"edge\">\n",
       "<title>b1-&gt;b3</title>\n",
       "<path fill=\"none\" stroke=\"black\" d=\"M127.93,-86.8C117.49,-74.47 103.26,-57.68 91.58,-43.89\"/>\n",
       "<polygon fill=\"black\" stroke=\"black\" points=\"94.18,-41.54 85.05,-36.18 88.84,-46.07 94.18,-41.54\"/>\n",
       "<text text-anchor=\"middle\" x=\"124.5\" y=\"-57.8\" font-family=\"Times,serif\" font-size=\"14.00\">O(1)</text>\n",
       "</g>\n",
       "<!-- b4 -->\n",
       "<g id=\"node5\" class=\"node\">\n",
       "<title>b4</title>\n",
       "<polygon fill=\"none\" stroke=\"black\" points=\"272,-36 159,-36 159,0 272,0 272,-36\"/>\n",
       "<text text-anchor=\"start\" x=\"211\" y=\"-19.8\" font-family=\"Times,serif\" font-size=\"14.00\">T</text>\n",
       "<text text-anchor=\"start\" x=\"167\" y=\"-9\" font-family=\"monospace\" font-size=\"10.00\">is_adjoint=False</text>\n",
       "</g>\n",
       "<!-- b1&#45;&gt;b4 -->\n",
       "<g id=\"edge4\" class=\"edge\">\n",
       "<title>b1-&gt;b4</title>\n",
       "<path fill=\"none\" stroke=\"black\" d=\"M157.27,-86.8C167.86,-74.47 182.28,-57.68 194.12,-43.89\"/>\n",
       "<polygon fill=\"black\" stroke=\"black\" points=\"196.89,-46.04 200.75,-36.18 191.58,-41.48 196.89,-46.04\"/>\n",
       "<text text-anchor=\"middle\" x=\"187\" y=\"-57.8\" font-family=\"Times,serif\" font-size=\"14.00\">4</text>\n",
       "</g>\n",
       "</g>\n",
       "</svg>"
      ],
      "text/plain": [
       "<IPython.core.display.SVG object>"
      ]
     },
     "metadata": {},
     "output_type": "display_data"
    },
    {
     "data": {
      "text/markdown": [
       "#### Counts totals:\n",
       " - `ArbitraryClifford(n=2)`: $\\displaystyle O\\left(1\\right)$\n",
       " - `T`: 20\n",
       " - `XGate`: 6"
      ],
      "text/plain": [
       "<IPython.core.display.Markdown object>"
      ]
     },
     "metadata": {},
     "output_type": "display_data"
    }
   ],
   "source": [
    "from qualtran.resource_counting import SympySymbolAllocator\n",
    "import attrs\n",
    "\n",
    "ssa = SympySymbolAllocator()\n",
    "cv1 = ssa.new_symbol('cv1')\n",
    "cv2 = ssa.new_symbol('cv2')\n",
    "\n",
    "def ignore_cv(bloq):\n",
    "    if isinstance(bloq, And):\n",
    "        return attrs.evolve(bloq, cv1=cv1, cv2=cv2)\n",
    "    \n",
    "    return bloq\n",
    "\n",
    "graph, sigma = MultiAnd(cvs=(1,0)*3).call_graph(generalizer=ignore_cv)\n",
    "show_call_graph(graph)\n",
    "show_counts_sigma(sigma)"
   ]
  },
  {
   "cell_type": "markdown",
   "id": "0f649914",
   "metadata": {},
   "source": [
    "We no longer have a specific clifford count (it has been replaced with `O(1)`), but we have a much simpler graph topology."
   ]
  },
  {
   "cell_type": "markdown",
   "id": "efcaaac7",
   "metadata": {},
   "source": [
    "## Additional functionality"
   ]
  },
  {
   "cell_type": "markdown",
   "id": "3c02f2e1",
   "metadata": {},
   "source": [
    "The `qualtran.resource_counting` module provides the functionality for building and manipulating call graphs."
   ]
  },
  {
   "cell_type": "markdown",
   "id": "d9cc2b96",
   "metadata": {},
   "source": [
    "## Implementation"
   ]
  },
  {
   "cell_type": "markdown",
   "id": "7ea0cb33",
   "metadata": {},
   "source": [
    "The call graph functionality relies on the `Bloq.build_call_graph(...)` method to implement the protocol. This is where a given bloq's callees is actually encoded.\n",
    "\n",
    "Bloq authors may want to override this method. The system will provide a `SympySymbolAllocator` when calling this method to assist with symbolic resource estimates. Below, we sketch out a bloq with custom bloq counts."
   ]
  },
  {
   "cell_type": "code",
   "execution_count": 6,
   "id": "7211add4",
   "metadata": {},
   "outputs": [],
   "source": [
    "from functools import cached_property\n",
    "from typing import Dict, Optional, Set, Union\n",
    "\n",
    "from attrs import frozen\n",
    "\n",
    "from qualtran import Bloq, BloqBuilder, Register, Side, Signature, SoquetT\n",
    "from qualtran.resource_counting import BloqCountT, SympySymbolAllocator\n",
    "\n",
    "import sympy\n",
    "\n",
    "from qualtran.bloqs.basic_gates import CNOT\n",
    "\n",
    "@frozen\n",
    "class MyFunc(Bloq):\n",
    "    n: Union[int, sympy.Expr]\n",
    "\n",
    "    @cached_property\n",
    "    def signature(self) -> 'Signature':\n",
    "        return Signature.build(x=self.n)\n",
    "\n",
    "    def build_call_graph(self, ssa: 'SympySymbolAllocator') -> Set['BloqCountT']:\n",
    "        return {\n",
    "            (And(), 2*self.n),\n",
    "            (CNOT(), 5),\n",
    "        }"
   ]
  },
  {
   "cell_type": "code",
   "execution_count": 7,
   "id": "ef5d73b6",
   "metadata": {},
   "outputs": [
    {
     "data": {
      "image/svg+xml": [
       "<svg xmlns=\"http://www.w3.org/2000/svg\" xmlns:xlink=\"http://www.w3.org/1999/xlink\" width=\"305pt\" height=\"218pt\" viewBox=\"0.00 0.00 304.50 218.00\">\n",
       "<g id=\"graph0\" class=\"graph\" transform=\"scale(1 1) rotate(0) translate(4 214)\">\n",
       "<title>counts</title>\n",
       "<polygon fill=\"white\" stroke=\"transparent\" points=\"-4,4 -4,-214 300.5,-214 300.5,4 -4,4\"/>\n",
       "<!-- b0 -->\n",
       "<g id=\"node1\" class=\"node\">\n",
       "<title>b0</title>\n",
       "<polygon fill=\"none\" stroke=\"black\" points=\"73.5,-210 10.5,-210 10.5,-174 73.5,-174 73.5,-210\"/>\n",
       "<text text-anchor=\"start\" x=\"18.5\" y=\"-193.8\" font-family=\"Times,serif\" font-size=\"14.00\">MyFunc</text>\n",
       "<text text-anchor=\"start\" x=\"32.5\" y=\"-183\" font-family=\"monospace\" font-size=\"10.00\">n=n</text>\n",
       "</g>\n",
       "<!-- b1 -->\n",
       "<g id=\"node2\" class=\"node\">\n",
       "<title>b1</title>\n",
       "<polygon fill=\"none\" stroke=\"black\" points=\"54,-123 0,-123 0,-87 54,-87 54,-123\"/>\n",
       "<text text-anchor=\"start\" x=\"8.5\" y=\"-101.3\" font-family=\"Times,serif\" font-size=\"14.00\">CNOT</text>\n",
       "</g>\n",
       "<!-- b0&#45;&gt;b1 -->\n",
       "<g id=\"edge1\" class=\"edge\">\n",
       "<title>b0-&gt;b1</title>\n",
       "<path fill=\"none\" stroke=\"black\" d=\"M38.96,-173.8C36.91,-162.16 34.16,-146.55 31.81,-133.24\"/>\n",
       "<polygon fill=\"black\" stroke=\"black\" points=\"35.22,-132.41 30.03,-123.18 28.32,-133.63 35.22,-132.41\"/>\n",
       "<text text-anchor=\"middle\" x=\"39.5\" y=\"-144.8\" font-family=\"Times,serif\" font-size=\"14.00\">5</text>\n",
       "</g>\n",
       "<!-- b2 -->\n",
       "<g id=\"node3\" class=\"node\">\n",
       "<title>b2</title>\n",
       "<polygon fill=\"none\" stroke=\"black\" points=\"263.5,-123 72.5,-123 72.5,-87 263.5,-87 263.5,-123\"/>\n",
       "<text text-anchor=\"start\" x=\"156\" y=\"-106.8\" font-family=\"Times,serif\" font-size=\"14.00\">And</text>\n",
       "<text text-anchor=\"start\" x=\"80.5\" y=\"-96\" font-family=\"monospace\" font-size=\"10.00\">cv1=1, cv2=1, uncompute=False</text>\n",
       "</g>\n",
       "<!-- b0&#45;&gt;b2 -->\n",
       "<g id=\"edge2\" class=\"edge\">\n",
       "<title>b0-&gt;b2</title>\n",
       "<path fill=\"none\" stroke=\"black\" d=\"M67.5,-173.8C86.71,-160.84 113.24,-142.94 134.22,-128.79\"/>\n",
       "<polygon fill=\"black\" stroke=\"black\" points=\"136.21,-131.67 142.54,-123.18 132.29,-125.87 136.21,-131.67\"/>\n",
       "<text text-anchor=\"middle\" x=\"122.5\" y=\"-144.8\" font-family=\"Times,serif\" font-size=\"14.00\">2⋅n</text>\n",
       "</g>\n",
       "<!-- b3 -->\n",
       "<g id=\"node4\" class=\"node\">\n",
       "<title>b3</title>\n",
       "<polygon fill=\"none\" stroke=\"black\" points=\"165.5,-36 24.5,-36 24.5,0 165.5,0 165.5,-36\"/>\n",
       "<text text-anchor=\"start\" x=\"32.5\" y=\"-19.8\" font-family=\"Times,serif\" font-size=\"14.00\">ArbitraryClifford(n=2)</text>\n",
       "<text text-anchor=\"start\" x=\"85.5\" y=\"-9\" font-family=\"monospace\" font-size=\"10.00\">n=2</text>\n",
       "</g>\n",
       "<!-- b2&#45;&gt;b3 -->\n",
       "<g id=\"edge3\" class=\"edge\">\n",
       "<title>b2-&gt;b3</title>\n",
       "<path fill=\"none\" stroke=\"black\" d=\"M153.23,-86.8C142.64,-74.47 128.22,-57.68 116.38,-43.89\"/>\n",
       "<polygon fill=\"black\" stroke=\"black\" points=\"118.92,-41.48 109.75,-36.18 113.61,-46.04 118.92,-41.48\"/>\n",
       "<text text-anchor=\"middle\" x=\"139.5\" y=\"-57.8\" font-family=\"Times,serif\" font-size=\"14.00\">9</text>\n",
       "</g>\n",
       "<!-- b4 -->\n",
       "<g id=\"node5\" class=\"node\">\n",
       "<title>b4</title>\n",
       "<polygon fill=\"none\" stroke=\"black\" points=\"296.5,-36 183.5,-36 183.5,0 296.5,0 296.5,-36\"/>\n",
       "<text text-anchor=\"start\" x=\"235.5\" y=\"-19.8\" font-family=\"Times,serif\" font-size=\"14.00\">T</text>\n",
       "<text text-anchor=\"start\" x=\"191.5\" y=\"-9\" font-family=\"monospace\" font-size=\"10.00\">is_adjoint=False</text>\n",
       "</g>\n",
       "<!-- b2&#45;&gt;b4 -->\n",
       "<g id=\"edge4\" class=\"edge\">\n",
       "<title>b2-&gt;b4</title>\n",
       "<path fill=\"none\" stroke=\"black\" d=\"M182.57,-86.8C193.01,-74.47 207.24,-57.68 218.92,-43.89\"/>\n",
       "<polygon fill=\"black\" stroke=\"black\" points=\"221.66,-46.07 225.45,-36.18 216.32,-41.54 221.66,-46.07\"/>\n",
       "<text text-anchor=\"middle\" x=\"212.5\" y=\"-57.8\" font-family=\"Times,serif\" font-size=\"14.00\">4</text>\n",
       "</g>\n",
       "</g>\n",
       "</svg>"
      ],
      "text/plain": [
       "<IPython.core.display.SVG object>"
      ]
     },
     "metadata": {},
     "output_type": "display_data"
    }
   ],
   "source": [
    "myfunc = MyFunc(n=sympy.sympify('n'))\n",
    "graph, sigma = myfunc.call_graph()\n",
    "show_call_graph(graph)"
   ]
  },
  {
   "cell_type": "markdown",
   "id": "df53c923",
   "metadata": {},
   "source": [
    "## Default Fallback\n",
    "\n",
    "If a bloq does not override `build_call_graph(...)`, the default fallback will be used by Qualtran to support the call graph protocol.\n",
    "\n",
    "By default, Qualtran will extract the call graph from the full decomposition. For example, below we author a `SWAP` bloq. We define a decomposition but do not explicitly override `build_call_graph`."
   ]
  },
  {
   "cell_type": "code",
   "execution_count": 8,
   "id": "2621b1eb",
   "metadata": {},
   "outputs": [],
   "source": [
    "@frozen\n",
    "class MySwap(Bloq):\n",
    "\n",
    "    @cached_property\n",
    "    def signature(self) -> 'Signature':\n",
    "        return Signature.build(q0=1, q1=1)\n",
    "    \n",
    "    def build_composite_bloq(self, bb, q0, q1):\n",
    "        q0, q1 = bb.add(CNOT(), ctrl=q0, target=q1)\n",
    "        q1, q0 = bb.add(CNOT(), ctrl=q1, target=q0)\n",
    "        q0, q1 = bb.add(CNOT(), ctrl=q0, target=q1)\n",
    "        return {'q0': q0, 'q1': q1}"
   ]
  },
  {
   "cell_type": "markdown",
   "id": "c66f0fd2",
   "metadata": {},
   "source": [
    "The system will simply decompose the bloq and count up the children."
   ]
  },
  {
   "cell_type": "code",
   "execution_count": 9,
   "id": "a6226763",
   "metadata": {},
   "outputs": [
    {
     "data": {
      "image/svg+xml": [
       "<svg xmlns=\"http://www.w3.org/2000/svg\" xmlns:xlink=\"http://www.w3.org/1999/xlink\" width=\"74pt\" height=\"131pt\" viewBox=\"0.00 0.00 74.00 131.00\">\n",
       "<g id=\"graph0\" class=\"graph\" transform=\"scale(1 1) rotate(0) translate(4 127)\">\n",
       "<title>counts</title>\n",
       "<polygon fill=\"white\" stroke=\"transparent\" points=\"-4,4 -4,-127 70,-127 70,4 -4,4\"/>\n",
       "<!-- b0 -->\n",
       "<g id=\"node1\" class=\"node\">\n",
       "<title>b0</title>\n",
       "<polygon fill=\"none\" stroke=\"black\" points=\"66,-123 0,-123 0,-87 66,-87 66,-123\"/>\n",
       "<text text-anchor=\"start\" x=\"8\" y=\"-101.3\" font-family=\"Times,serif\" font-size=\"14.00\">MySwap</text>\n",
       "</g>\n",
       "<!-- b1 -->\n",
       "<g id=\"node2\" class=\"node\">\n",
       "<title>b1</title>\n",
       "<polygon fill=\"none\" stroke=\"black\" points=\"60,-36 6,-36 6,0 60,0 60,-36\"/>\n",
       "<text text-anchor=\"start\" x=\"14.5\" y=\"-14.3\" font-family=\"Times,serif\" font-size=\"14.00\">CNOT</text>\n",
       "</g>\n",
       "<!-- b0&#45;&gt;b1 -->\n",
       "<g id=\"edge1\" class=\"edge\">\n",
       "<title>b0-&gt;b1</title>\n",
       "<path fill=\"none\" stroke=\"black\" d=\"M33,-86.8C33,-75.16 33,-59.55 33,-46.24\"/>\n",
       "<polygon fill=\"black\" stroke=\"black\" points=\"36.5,-46.18 33,-36.18 29.5,-46.18 36.5,-46.18\"/>\n",
       "<text text-anchor=\"middle\" x=\"36.5\" y=\"-57.8\" font-family=\"Times,serif\" font-size=\"14.00\">3</text>\n",
       "</g>\n",
       "</g>\n",
       "</svg>"
      ],
      "text/plain": [
       "<IPython.core.display.SVG object>"
      ]
     },
     "metadata": {},
     "output_type": "display_data"
    },
    {
     "data": {
      "text/markdown": [
       "#### Counts totals:\n",
       " - `CNOT`: 3"
      ],
      "text/plain": [
       "<IPython.core.display.Markdown object>"
      ]
     },
     "metadata": {},
     "output_type": "display_data"
    }
   ],
   "source": [
    "graph, sigma = MySwap().call_graph()\n",
    "show_call_graph(graph)\n",
    "show_counts_sigma(sigma)"
   ]
  },
  {
   "cell_type": "markdown",
   "id": "250474d1",
   "metadata": {},
   "source": [
    "## Testing\n",
    "\n",
    "`qlt_testing.check_equivalent_bloq_example_counts` is used to automatically compare manually-annotated counts against those derived from the bloq's decomposition. If they match, the check returns `PASS`. If there is only one source of bloq counts, the check returns `UNVERIFIED`. If there are no bloq counts (either via annotation or decomposition), the check returns `MISSING`. If the bloq counts do not match, the check returns `FAIL` with more information about the mismatch. \n",
    "\n",
    "`BloqExample`s have an optional `generalizer` attribute that this check will use during the comparison."
   ]
  },
  {
   "cell_type": "code",
   "execution_count": 10,
   "id": "6c88072d",
   "metadata": {},
   "outputs": [
    {
     "data": {
      "text/plain": [
       "(<BloqCheckResult.PASS: 0>, '')"
      ]
     },
     "execution_count": 10,
     "metadata": {},
     "output_type": "execute_result"
    }
   ],
   "source": [
    "import qualtran.testing as qlt_testing\n",
    "from qualtran.bloqs.mcmt.and_bloq import _multi_and as MULTI_AND_BLOQ_EXAMPLE\n",
    "\n",
    "qlt_testing.check_equivalent_bloq_example_counts(MULTI_AND_BLOQ_EXAMPLE)"
   ]
  }
 ],
 "metadata": {
  "kernelspec": {
   "display_name": "Python 3 (ipykernel)",
   "language": "python",
   "name": "python3"
  },
  "language_info": {
   "codemirror_mode": {
    "name": "ipython",
    "version": 3
   },
   "file_extension": ".py",
   "mimetype": "text/x-python",
   "name": "python",
   "nbconvert_exporter": "python",
   "pygments_lexer": "ipython3",
   "version": "3.11.8"
  }
 },
 "nbformat": 4,
 "nbformat_minor": 5
}
