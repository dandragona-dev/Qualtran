{
 "cells": [
  {
   "cell_type": "markdown",
   "id": "c3a2e0b1-d7f3-4761-aaf7-9fe1b4202c63",
   "metadata": {},
   "source": [
    "# Qubit Counts\n",
    "\n",
    "The number of qubits is an important cost for running a quantum algorithm. The provided `QubitCounts()` cost key can efficiently estimate the qubit count of even large-scale algorithms by exploiting the hierarchical structure of bloq decomposition.\n",
    "\n",
    "\n",
    "The number of qubits is bounded from below by the number of qubits implied by the signature.\n",
    "If a bloq has no callees, the size implied by the signature will be returned. Otherwise,\n",
    "`QubitCounts()` will try to compute the number of qubits by inspecting the decomposition.\n",
    "\n",
    "In the decomposition, each (sub)bloq is considered to be executed sequentially. The \"width\"\n",
    "of the circuit (i.e. the number of qubits) at each sequence point is the number of qubits\n",
    "required by the subbloq (computed recursively) plus any \"bystander\" idling wires.\n",
    "\n",
    "This is an estimate for the number of qubits required by an algorithm. Specifically:\n",
    " - Bloqs are assumed to be executed sequentially, minimizing the number of qubits potentially\n",
    "   at the expense of greater circuit depth or execution time.\n",
    " - We do not consider \"tetris-ing\" subbloqs. In a decomposition, each subbloq is assumed\n",
    "   to be using all of its qubits for the duration of its execution. This could potentially\n",
    "   overestimate the total number of qubits.\n",
    "\n",
    "This Min-Max style estimate can provide a good balance between accuracy and scalability\n",
    "of the accounting. To fully account for each qubit and manage space-vs-time trade-offs,\n",
    "you must comprehensively decompose your algorithm to a `cirq.Circuit` of basic gates and\n",
    "use a `cirq.QubitManager` to manage trade-offs. This may be computationally expensive for\n",
    "large algorithms."
   ]
  },
  {
   "cell_type": "code",
   "execution_count": 1,
   "id": "ddb82393-8bb0-42d1-9b84-6b3e22455f7e",
   "metadata": {},
   "outputs": [],
   "source": [
    "import sympy\n",
    "\n",
    "from qualtran.drawing import show_bloq\n",
    "\n",
    "from qualtran.bloqs.for_testing.interior_alloc import InteriorAlloc\n",
    "from qualtran.resource_counting import get_cost_value, query_costs, QubitCount"
   ]
  },
  {
   "cell_type": "markdown",
   "id": "58f0823f-f76f-4adb-8f2a-a25d1e2ee070",
   "metadata": {},
   "source": [
    "## Example: a bloq with an interior allocation\n",
    "\n",
    "For illustrative purposes, we use a bloq that has two $n$ bit registers, but allocates an additional $n$ bit register as part of its decomposition. Looking purely at the signature, you would conclude that the bloq uses $2n$ qubits; but by looking at the decomposition we can see that at its maximum circuit width it uses $3n$ qubits. "
   ]
  },
  {
   "cell_type": "code",
   "execution_count": 2,
   "id": "2a5768b5-7f2e-4851-bc15-3be8a66df4f5",
   "metadata": {},
   "outputs": [
    {
     "data": {
      "image/svg+xml": [
       "<svg xmlns=\"http://www.w3.org/2000/svg\" xmlns:xlink=\"http://www.w3.org/1999/xlink\" width=\"250pt\" height=\"98pt\" viewBox=\"0.00 0.00 250.00 98.00\">\n",
       "<g id=\"graph0\" class=\"graph\" transform=\"scale(1 1) rotate(0) translate(4 94)\">\n",
       "<title>my_graph</title>\n",
       "<polygon fill=\"white\" stroke=\"transparent\" points=\"-4,4 -4,-94 246,-94 246,4 -4,4\"/>\n",
       "<!-- x_G5 -->\n",
       "<g id=\"node1\" class=\"node\">\n",
       "<title>x_G5</title>\n",
       "<text text-anchor=\"middle\" x=\"27\" y=\"-68.3\" font-family=\"Times,serif\" font-size=\"14.00\">x</text>\n",
       "</g>\n",
       "<!-- InteriorAlloc -->\n",
       "<g id=\"node3\" class=\"node\">\n",
       "<title>InteriorAlloc</title>\n",
       "<polygon fill=\"none\" stroke=\"black\" points=\"91,-66 91,-83 151,-83 151,-66 91,-66\"/>\n",
       "<text text-anchor=\"start\" x=\"94\" y=\"-72\" font-family=\"Times,serif\" font-size=\"10.00\">InteriorAlloc</text>\n",
       "<polygon fill=\"none\" stroke=\"black\" points=\"91,-45 91,-66 151,-66 151,-45 91,-45\"/>\n",
       "<text text-anchor=\"start\" x=\"117.5\" y=\"-51.8\" font-family=\"Times,serif\" font-size=\"14.00\">x</text>\n",
       "<polygon fill=\"none\" stroke=\"black\" points=\"91,-24 91,-45 151,-45 151,-24 91,-24\"/>\n",
       "<text text-anchor=\"start\" x=\"117.5\" y=\"-30.8\" font-family=\"Times,serif\" font-size=\"14.00\">y</text>\n",
       "</g>\n",
       "<!-- x_G5&#45;&gt;InteriorAlloc -->\n",
       "<g id=\"edge1\" class=\"edge\">\n",
       "<title>x_G5:e-&gt;InteriorAlloc:w</title>\n",
       "<path fill=\"none\" stroke=\"black\" d=\"M54,-72C71.22,-72 72.97,-57.23 88.98,-56.07\"/>\n",
       "<ellipse fill=\"black\" stroke=\"black\" cx=\"90\" cy=\"-56.04\" rx=\"1\" ry=\"1\"/>\n",
       "<text text-anchor=\"middle\" x=\"72.5\" y=\"-67\" font-family=\"Times,serif\" font-size=\"10.00\">n</text>\n",
       "</g>\n",
       "<!-- y_G1 -->\n",
       "<g id=\"node2\" class=\"node\">\n",
       "<title>y_G1</title>\n",
       "<text text-anchor=\"middle\" x=\"27\" y=\"-14.3\" font-family=\"Times,serif\" font-size=\"14.00\">y</text>\n",
       "</g>\n",
       "<!-- y_G1&#45;&gt;InteriorAlloc -->\n",
       "<g id=\"edge2\" class=\"edge\">\n",
       "<title>y_G1:e-&gt;InteriorAlloc:w</title>\n",
       "<path fill=\"none\" stroke=\"black\" d=\"M54,-18C71.22,-18 72.97,-32.77 88.98,-33.93\"/>\n",
       "<ellipse fill=\"black\" stroke=\"black\" cx=\"90\" cy=\"-33.96\" rx=\"1\" ry=\"1\"/>\n",
       "<text text-anchor=\"middle\" x=\"72.5\" y=\"-29\" font-family=\"Times,serif\" font-size=\"10.00\">n</text>\n",
       "</g>\n",
       "<!-- x_G4 -->\n",
       "<g id=\"node4\" class=\"node\">\n",
       "<title>x_G4</title>\n",
       "<text text-anchor=\"middle\" x=\"215\" y=\"-68.3\" font-family=\"Times,serif\" font-size=\"14.00\">x</text>\n",
       "</g>\n",
       "<!-- InteriorAlloc&#45;&gt;x_G4 -->\n",
       "<g id=\"edge3\" class=\"edge\">\n",
       "<title>InteriorAlloc:e-&gt;x_G4:w</title>\n",
       "<path fill=\"none\" stroke=\"black\" d=\"M151,-56C168.22,-56 169.97,-70.77 185.98,-71.93\"/>\n",
       "<ellipse fill=\"black\" stroke=\"black\" cx=\"187\" cy=\"-71.96\" rx=\"1\" ry=\"1\"/>\n",
       "<text text-anchor=\"middle\" x=\"169.5\" y=\"-67\" font-family=\"Times,serif\" font-size=\"10.00\">n</text>\n",
       "</g>\n",
       "<!-- y_G3 -->\n",
       "<g id=\"node5\" class=\"node\">\n",
       "<title>y_G3</title>\n",
       "<text text-anchor=\"middle\" x=\"215\" y=\"-14.3\" font-family=\"Times,serif\" font-size=\"14.00\">y</text>\n",
       "</g>\n",
       "<!-- InteriorAlloc&#45;&gt;y_G3 -->\n",
       "<g id=\"edge4\" class=\"edge\">\n",
       "<title>InteriorAlloc:e-&gt;y_G3:w</title>\n",
       "<path fill=\"none\" stroke=\"black\" d=\"M151,-34C168.22,-34 169.97,-19.23 185.98,-18.07\"/>\n",
       "<ellipse fill=\"black\" stroke=\"black\" cx=\"187\" cy=\"-18.04\" rx=\"1\" ry=\"1\"/>\n",
       "<text text-anchor=\"middle\" x=\"169.5\" y=\"-29\" font-family=\"Times,serif\" font-size=\"10.00\">n</text>\n",
       "</g>\n",
       "</g>\n",
       "</svg>"
      ],
      "text/plain": [
       "<IPython.core.display.SVG object>"
      ]
     },
     "metadata": {},
     "output_type": "display_data"
    },
    {
     "data": {
      "image/png": "[encoded data removed]",
      "text/plain": [
       "<Figure size 560x280 with 1 Axes>"
      ]
     },
     "metadata": {},
     "output_type": "display_data"
    }
   ],
   "source": [
    "n = sympy.Symbol('n', positive=True, integer=True)\n",
    "bloq = InteriorAlloc(n=n)\n",
    "show_bloq(bloq)\n",
    "show_bloq(bloq.decompose_bloq(), 'musical_score')"
   ]
  },
  {
   "cell_type": "code",
   "execution_count": 3,
   "id": "329c02d8-35b0-4ed8-881b-0bb5e6856813",
   "metadata": {},
   "outputs": [
    {
     "data": {
      "text/latex": [
       "$\\displaystyle 3 n$"
      ],
      "text/plain": [
       "3*n"
      ]
     },
     "execution_count": 3,
     "metadata": {},
     "output_type": "execute_result"
    }
   ],
   "source": [
    "get_cost_value(bloq, QubitCount())"
   ]
  },
  {
   "cell_type": "code",
   "execution_count": 4,
   "id": "21a84a95-1ed6-4ce1-8c43-512621efdbdf",
   "metadata": {},
   "outputs": [
    {
     "data": {
      "image/svg+xml": [
       "<svg xmlns=\"http://www.w3.org/2000/svg\" xmlns:xlink=\"http://www.w3.org/1999/xlink\" width=\"336pt\" height=\"272pt\" viewBox=\"0.00 0.00 336.00 272.00\">\n",
       "<g id=\"graph0\" class=\"graph\" transform=\"scale(1 1) rotate(0) translate(4 268)\">\n",
       "<title>counts</title>\n",
       "<polygon fill=\"white\" stroke=\"transparent\" points=\"-4,4 -4,-268 332,-268 332,4 -4,4\"/>\n",
       "<!-- b0 -->\n",
       "<g id=\"node1\" class=\"node\">\n",
       "<title>b0</title>\n",
       "<polygon fill=\"none\" stroke=\"black\" points=\"125,-237 125,-260 213,-260 213,-237 125,-237\"/>\n",
       "<text text-anchor=\"start\" x=\"142\" y=\"-246\" font-family=\"Times,serif\" font-size=\"10.00\">InteriorAlloc</text>\n",
       "<polygon fill=\"none\" stroke=\"black\" points=\"125,-214 125,-237 185,-237 185,-214 125,-214\"/>\n",
       "<text text-anchor=\"start\" x=\"131\" y=\"-223\" font-family=\"Times,serif\" font-size=\"10.00\">qubit count</text>\n",
       "<polygon fill=\"none\" stroke=\"black\" points=\"185,-214 185,-237 213,-237 213,-214 185,-214\"/>\n",
       "<text text-anchor=\"start\" x=\"191\" y=\"-223\" font-family=\"Times,serif\" font-size=\"10.00\">3*n</text>\n",
       "</g>\n",
       "<!-- b1 -->\n",
       "<g id=\"node2\" class=\"node\">\n",
       "<title>b1</title>\n",
       "<polygon fill=\"none\" stroke=\"black\" points=\"8,-132 8,-155 96,-155 96,-132 8,-132\"/>\n",
       "<text text-anchor=\"start\" x=\"40.5\" y=\"-141\" font-family=\"Times,serif\" font-size=\"10.00\">Swap</text>\n",
       "<polygon fill=\"none\" stroke=\"black\" points=\"8,-109 8,-132 68,-132 68,-109 8,-109\"/>\n",
       "<text text-anchor=\"start\" x=\"14\" y=\"-118\" font-family=\"Times,serif\" font-size=\"10.00\">qubit count</text>\n",
       "<polygon fill=\"none\" stroke=\"black\" points=\"68,-109 68,-132 96,-132 96,-109 68,-109\"/>\n",
       "<text text-anchor=\"start\" x=\"74\" y=\"-118\" font-family=\"Times,serif\" font-size=\"10.00\">2*n</text>\n",
       "</g>\n",
       "<!-- b0&#45;&gt;b1 -->\n",
       "<g id=\"edge1\" class=\"edge\">\n",
       "<title>b0-&gt;b1</title>\n",
       "<path fill=\"none\" stroke=\"black\" d=\"M139.17,-209.74C124.05,-196.42 105.52,-180.12 89.44,-165.96\"/>\n",
       "<polygon fill=\"black\" stroke=\"black\" points=\"91.59,-163.19 81.77,-159.21 86.97,-168.44 91.59,-163.19\"/>\n",
       "<text text-anchor=\"middle\" x=\"121.5\" y=\"-180.8\" font-family=\"Times,serif\" font-size=\"14.00\">2</text>\n",
       "</g>\n",
       "<!-- b2 -->\n",
       "<g id=\"node3\" class=\"node\">\n",
       "<title>b2</title>\n",
       "<polygon fill=\"none\" stroke=\"black\" points=\"130,-132 130,-155 208,-155 208,-132 130,-132\"/>\n",
       "<text text-anchor=\"start\" x=\"160\" y=\"-141\" font-family=\"Times,serif\" font-size=\"10.00\">Free</text>\n",
       "<polygon fill=\"none\" stroke=\"black\" points=\"130,-109 130,-132 190,-132 190,-109 130,-109\"/>\n",
       "<text text-anchor=\"start\" x=\"136\" y=\"-118\" font-family=\"Times,serif\" font-size=\"10.00\">qubit count</text>\n",
       "<polygon fill=\"none\" stroke=\"black\" points=\"190,-109 190,-132 208,-132 208,-109 190,-109\"/>\n",
       "<text text-anchor=\"start\" x=\"196\" y=\"-118\" font-family=\"Times,serif\" font-size=\"10.00\">n</text>\n",
       "</g>\n",
       "<!-- b0&#45;&gt;b2 -->\n",
       "<g id=\"edge2\" class=\"edge\">\n",
       "<title>b0-&gt;b2</title>\n",
       "<path fill=\"none\" stroke=\"black\" d=\"M169,-209.74C169,-197.51 169,-182.76 169,-169.48\"/>\n",
       "<polygon fill=\"black\" stroke=\"black\" points=\"172.5,-169.21 169,-159.21 165.5,-169.21 172.5,-169.21\"/>\n",
       "<text text-anchor=\"middle\" x=\"172.5\" y=\"-180.8\" font-family=\"Times,serif\" font-size=\"14.00\">1</text>\n",
       "</g>\n",
       "<!-- b3 -->\n",
       "<g id=\"node4\" class=\"node\">\n",
       "<title>b3</title>\n",
       "<polygon fill=\"none\" stroke=\"black\" points=\"242,-132 242,-155 320,-155 320,-132 242,-132\"/>\n",
       "<text text-anchor=\"start\" x=\"263\" y=\"-141\" font-family=\"Times,serif\" font-size=\"10.00\">Allocate</text>\n",
       "<polygon fill=\"none\" stroke=\"black\" points=\"242,-109 242,-132 302,-132 302,-109 242,-109\"/>\n",
       "<text text-anchor=\"start\" x=\"248\" y=\"-118\" font-family=\"Times,serif\" font-size=\"10.00\">qubit count</text>\n",
       "<polygon fill=\"none\" stroke=\"black\" points=\"302,-109 302,-132 320,-132 320,-109 302,-109\"/>\n",
       "<text text-anchor=\"start\" x=\"308\" y=\"-118\" font-family=\"Times,serif\" font-size=\"10.00\">n</text>\n",
       "</g>\n",
       "<!-- b0&#45;&gt;b3 -->\n",
       "<g id=\"edge3\" class=\"edge\">\n",
       "<title>b0-&gt;b3</title>\n",
       "<path fill=\"none\" stroke=\"black\" d=\"M197.55,-209.74C211.9,-196.55 229.45,-180.41 244.74,-166.35\"/>\n",
       "<polygon fill=\"black\" stroke=\"black\" points=\"247.51,-168.56 252.5,-159.21 242.77,-163.4 247.51,-168.56\"/>\n",
       "<text text-anchor=\"middle\" x=\"234.5\" y=\"-180.8\" font-family=\"Times,serif\" font-size=\"14.00\">1</text>\n",
       "</g>\n",
       "<!-- b4 -->\n",
       "<g id=\"node5\" class=\"node\">\n",
       "<title>b4</title>\n",
       "<polygon fill=\"none\" stroke=\"black\" points=\"13,-27 13,-50 91,-50 91,-27 13,-27\"/>\n",
       "<text text-anchor=\"start\" x=\"25\" y=\"-36\" font-family=\"Times,serif\" font-size=\"10.00\">TwoBitSwap</text>\n",
       "<polygon fill=\"none\" stroke=\"black\" points=\"13,-4 13,-27 73,-27 73,-4 13,-4\"/>\n",
       "<text text-anchor=\"start\" x=\"19\" y=\"-13\" font-family=\"Times,serif\" font-size=\"10.00\">qubit count</text>\n",
       "<polygon fill=\"none\" stroke=\"black\" points=\"73,-4 73,-27 91,-27 91,-4 73,-4\"/>\n",
       "<text text-anchor=\"start\" x=\"79\" y=\"-13\" font-family=\"Times,serif\" font-size=\"10.00\">2</text>\n",
       "</g>\n",
       "<!-- b1&#45;&gt;b4 -->\n",
       "<g id=\"edge4\" class=\"edge\">\n",
       "<title>b1-&gt;b4</title>\n",
       "<path fill=\"none\" stroke=\"black\" d=\"M52,-104.74C52,-92.51 52,-77.76 52,-64.48\"/>\n",
       "<polygon fill=\"black\" stroke=\"black\" points=\"55.5,-64.21 52,-54.21 48.5,-64.21 55.5,-64.21\"/>\n",
       "<text text-anchor=\"middle\" x=\"55.5\" y=\"-75.8\" font-family=\"Times,serif\" font-size=\"14.00\">n</text>\n",
       "</g>\n",
       "</g>\n",
       "</svg>"
      ],
      "text/plain": [
       "<IPython.core.display.SVG object>"
      ]
     },
     "execution_count": 4,
     "metadata": {},
     "output_type": "execute_result"
    }
   ],
   "source": [
    "from qualtran.drawing import GraphvizCallGraph\n",
    "\n",
    "g, _ = bloq.call_graph()\n",
    "costs = query_costs(bloq, [QubitCount()])\n",
    "GraphvizCallGraph(g, costs).get_svg()"
   ]
  },
  {
   "cell_type": "markdown",
   "id": "e421621b-cbb4-4603-acab-2b65f8cbf08c",
   "metadata": {},
   "source": [
    "You can call `get_cost_value` on a composite bloq directly."
   ]
  },
  {
   "cell_type": "code",
   "execution_count": 5,
   "id": "a7666cc8-4023-4c15-a946-acbaae3443d0",
   "metadata": {},
   "outputs": [
    {
     "data": {
      "text/latex": [
       "$\\displaystyle 3 n$"
      ],
      "text/plain": [
       "3*n"
      ]
     },
     "execution_count": 5,
     "metadata": {},
     "output_type": "execute_result"
    }
   ],
   "source": [
    "cbloq = bloq.decompose_bloq()\n",
    "get_cost_value(cbloq, QubitCount())"
   ]
  }
 ],
 "metadata": {
  "kernelspec": {
   "display_name": "Python 3 (ipykernel)",
   "language": "python",
   "name": "python3"
  },
  "language_info": {
   "codemirror_mode": {
    "name": "ipython",
    "version": 3
   },
   "file_extension": ".py",
   "mimetype": "text/x-python",
   "name": "python",
   "nbconvert_exporter": "python",
   "pygments_lexer": "ipython3",
   "version": "3.11.8"
  }
 },
 "nbformat": 4,
 "nbformat_minor": 5
}
