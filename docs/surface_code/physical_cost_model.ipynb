{
 "cells": [
  {
   "cell_type": "markdown",
   "id": "b7d5a67e-f8bd-4531-9469-a6202fec3770",
   "metadata": {},
   "source": [
    "# Architecture-dependent physical costs\n",
    "\n",
    "While Qualtran provides tooling for expressing and reasoning about quantum algorithms, a\n",
    "particularly compelling use case for such a software tool is to provide estimates of resource\n",
    "requirements for quantum algorithms that could be executed on a future quantum computer. In\n",
    "particular, we’re interested in resource estimates compatible with the hardware roadmaps of quantum\n",
    "hardware providers. \n",
    "\n",
    "A complete quantum computing system will be built with layers of abstraction\n",
    "Algorithms expressed as Qualtran bloqs are encoded at the\n",
    "architecture-agnostic level \"application\" and \"logical\" levels of abstraction. We anticipate that\n",
    "future tools or interoperability software will consume the output of a full decomposition of a\n",
    "Qualtran program and explicitly compile it to a specific error-corrected architecture or platform.\n",
    "\n",
    "In lieu of the existence of such tools, we provide access to common literature models for converting\n",
    "\"logical costs\" to \"physical costs\". We define these terms: logical costs are hardware\n",
    "architecture-agnostic properties of an algorithm that we desire to minimize. Common logical costs\n",
    "are the number of (logical) qubits or the number of (logical) gates. Physical costs are those that\n",
    "matter in the physical world, such as the number of physical qubits (e.g. individual transmons or\n",
    "trapped ions) and the wall-clock time required to physically execute an algorithm."
   ]
  },
  {
   "cell_type": "markdown",
   "id": "24e10c34-ef6c-48c9-a25f-953d6560a93f",
   "metadata": {},
   "source": [
    "## `PhysicalCostModel`\n",
    "\n",
    "We contain all the components for doing an estimation of physical costs within the\n",
    "`qualtran.surface_code.PhysicalCostModel` class.\n",
    "The model is parameterized by 1) properties of the target hardware architecture and 2) Execution protocol design choices.\n",
    "We further factor the design choices into a) the data block design for storing\n",
    "algorithm qubits, b) the magic state factory construction, and c) the error suppression\n",
    "ability of the code. In total, the model is composed of\n",
    "\n",
    " - `physical_params: PhysicalParameters`\n",
    " - `data_block: DataBlock`\n",
    " - `factory: MagicStateFactory`\n",
    " - `qec_scheme: QECScheme`\n",
    "\n",
    "Each method for computing physical costs take algorithmcounts inputs: the number of\n",
    "algorithm qubits and the number of algorithm gates. Output quantities\n",
    "include the wall-clock time, the number of physical qubits, and the probability of failure\n",
    "due to the physical realization of the algorithm."
   ]
  },
  {
   "cell_type": "code",
   "execution_count": 1,
   "id": "89e99ea2-2359-4ea8-8c51-da617e40c746",
   "metadata": {},
   "outputs": [],
   "source": [
    "from qualtran.surface_code import AlgorithmSummary\n",
    "from qualtran.resource_counting import GateCounts\n",
    "\n",
    "# Set up some example parameters\n",
    "alg = AlgorithmSummary(\n",
    "    n_algo_qubits=100,\n",
    "    n_logical_gates=GateCounts(toffoli=1e8),\n",
    ")"
   ]
  },
  {
   "cell_type": "code",
   "execution_count": 2,
   "id": "111b15b8-3b22-4af5-b9b9-e1c558de744a",
   "metadata": {},
   "outputs": [
    {
     "name": "stdout",
     "output_type": "stream",
     "text": [
      "Duration 4.74 hr \n",
      "Physical Qubits 335,404 \n",
      "Error 0.031\n"
     ]
    }
   ],
   "source": [
    "from qualtran.surface_code import PhysicalCostModel\n",
    "\n",
    "# For minimal configuration, you can use a set of defaults from\n",
    "# the literature. Here: Gidney and Fowler (2018).\n",
    "cost_model = PhysicalCostModel.make_gidney_fowler(data_d=25)\n",
    "\n",
    "print(\n",
    "    f'Duration {cost_model.duration_hr(alg):.2f} hr',\n",
    "    f'\\nPhysical Qubits {cost_model.n_phys_qubits(alg):,d}',\n",
    "    f'\\nError {cost_model.error(alg):.2g}'\n",
    ")"
   ]
  },
  {
   "cell_type": "code",
   "execution_count": 3,
   "id": "dc41868c-20d4-4d7a-b5b0-010f5f11d294",
   "metadata": {},
   "outputs": [
    {
     "name": "stdout",
     "output_type": "stream",
     "text": [
      "Duration 2.50 hr \n",
      "Physical Qubits 188,646 \n",
      "Error 8.1e+03\n"
     ]
    }
   ],
   "source": [
    "# Compare with the defaults based on another set of literature-based defaults\n",
    "cost_model_2 = PhysicalCostModel.make_beverland_et_al(data_d=25)\n",
    "\n",
    "print(\n",
    "    f'Duration {cost_model_2.duration_hr(alg):.2f} hr',\n",
    "    f'\\nPhysical Qubits {cost_model_2.n_phys_qubits(alg):,d}',\n",
    "    f'\\nError {cost_model_2.error(alg):.2g}'\n",
    ")"
   ]
  },
  {
   "cell_type": "markdown",
   "id": "979618b3-1a16-4ede-86fe-bd702466c0d4",
   "metadata": {},
   "source": [
    "## `DataBlock`\n",
    "\n",
    "The `DataBlock` interface prescribes methods for modeling the costs of the data block of a surface code compilation.\n",
    "\n",
    "The number of algorithm qubits is reported by Qualtran as a logical cost of a bloq. The\n",
    "surface code is a rate-1 code, so each bit of data needs at least one surface code tile. Due\n",
    "to locality constraints imposed by the 2D surface code combined with the need to interact\n",
    "qubits that aren’t necessarily local, additional tiles are needed to actually execute a program.\n",
    "\n",
    "Each data block is responsible for reporting the number of tiles required to store a certain\n",
    "number of algorithm qubits; as well as the number of time steps required to consume a magic\n",
    "state. Different data blocks exist in the literature, and data block provides a different\n",
    "space-time tradeoff.\n",
    "\n",
    "The space occupied by the data block is to be contrasted with the space used for magic\n",
    "state distillation."
   ]
  },
  {
   "cell_type": "code",
   "execution_count": 4,
   "id": "27ac134b-771f-4f2d-827e-7298fd06417f",
   "metadata": {},
   "outputs": [
    {
     "data": {
      "text/plain": [
       "86700"
      ]
     },
     "execution_count": 4,
     "metadata": {},
     "output_type": "execute_result"
    }
   ],
   "source": [
    "from qualtran.surface_code import SimpleDataBlock, FastDataBlock\n",
    "\n",
    "simple_data_block = SimpleDataBlock(\n",
    "    data_d=17,\n",
    "    routing_overhead=0.5\n",
    ")\n",
    "simple_data_block.n_physical_qubits(n_algo_qubits=100)"
   ]
  },
  {
   "cell_type": "code",
   "execution_count": 5,
   "id": "c66b42dc-edd9-4036-a12a-9c71e0312d2e",
   "metadata": {},
   "outputs": [
    {
     "data": {
      "text/plain": [
       "132940"
      ]
     },
     "execution_count": 5,
     "metadata": {},
     "output_type": "execute_result"
    }
   ],
   "source": [
    "fast_data_block = FastDataBlock(data_d=17)\n",
    "fast_data_block.n_physical_qubits(n_algo_qubits=100)"
   ]
  },
  {
   "cell_type": "markdown",
   "id": "a7515d8f-99fa-40f8-89af-f3ce498a99dc",
   "metadata": {},
   "source": [
    "## `MagicStateFactory`\n",
    "\n",
    "The `MagicStateFactory` interface prescribes methods for modeling the costs of the magic state factories of a surface code compilation.\n",
    "\n",
    "An important consideration for a surface code compilation is how to execute arbitrary gates\n",
    "to run the desired algorithm. The surface code can execute Clifford gates in a fault-tolerant\n",
    "manner. Non-Clifford gates like the T gate, Toffoli or CCZ gate, or non-Clifford rotation\n",
    "gates require more expensive gadgets to implement. Executing a T or CCZ gate requires first\n",
    "using the technique of state distillation in an area of the computation called a \"magic state\n",
    "factory\" to distill a noisy T or CCZ state into a \"magic state\" of sufficiently low error.\n",
    "Such quantum states can be used to enact the non-Clifford quantum gate through gate\n",
    "teleportation.\n",
    "\n",
    "Magic state production is thought to be an important runtime and qubit-count bottleneck in\n",
    "foreseeable fault-tolerant quantum computers.\n",
    "\n",
    "This abstract interface specifies that each magic state factory must report its required\n",
    "number of physical qubits, the number of error correction cycles to produce enough magic\n",
    "states to enact a given number of logical gates and an error model, and the expected error\n",
    "associated with generating those magic states."
   ]
  },
  {
   "cell_type": "code",
   "execution_count": 6,
   "id": "e79e04c5-5199-48d2-910e-419174cdce71",
   "metadata": {},
   "outputs": [],
   "source": [
    "from qualtran.surface_code import LogicalErrorModel, QECScheme\n",
    "err_model = LogicalErrorModel(qec_scheme=QECScheme.make_gidney_fowler(), physical_error=1e-3)"
   ]
  },
  {
   "cell_type": "code",
   "execution_count": 7,
   "id": "19cd3152-4a4c-45f9-a0d5-fc2361827ba8",
   "metadata": {},
   "outputs": [
    {
     "data": {
      "text/plain": [
       "170500000000"
      ]
     },
     "execution_count": 7,
     "metadata": {},
     "output_type": "execute_result"
    }
   ],
   "source": [
    "from qualtran.resource_counting import GateCounts\n",
    "from qualtran.surface_code import CCZ2TFactory, FifteenToOne\n",
    "\n",
    "gate_counts = GateCounts(toffoli=1e9)\n",
    "ccz_factory = CCZ2TFactory(distillation_l1_d=15, distillation_l2_d=31)\n",
    "ccz_factory.n_cycles(gate_counts, logical_error_model=err_model)"
   ]
  },
  {
   "cell_type": "markdown",
   "id": "30f4b175-e4e6-4478-bd63-ecf269acf425",
   "metadata": {},
   "source": [
    "## `QECScheme`\n",
    "\n",
    "Error correcting codes suppress error but do not eliminate it. The construction of the\n",
    "surface code takes a parameter $d$ that scales the amount of error suppression by using more\n",
    "physical qubits per tile. The exact relationship between $d$ and the resulting logical\n",
    "error rate will likely be experimentally determined when sufficiently large quantum\n",
    "computers are available, but in the interim we can model the relationship with an\n",
    "equation of the form\n",
    "\\begin{equation} \\label{eq:logical_error_rate}\n",
    "p_l(d) = A \\left(\\frac{p_p}{p^*}\\right)^\\frac{d + 1}{2}\n",
    "\\end{equation}\n",
    "relating the logical error rate $p_l$ to the physical error rate $p_p$\n",
    "for a code distance $d$. The coefficients $A$ and $p^*$ can be fit to\n",
    "numerical simulations of a surface code, but common resource estimates in the\n",
    "literature use back of the envelope values. $p^*$ is sometimes identified with\n",
    "the error threshold of the surface code. Sometimes $p^*/p_p = \\Lambda$ is treated as the fit\n",
    "parameter.\n",
    "\n",
    "In Qualtran, we provide presets for Fowler parameters $A=0.1$, $p^*=0.01$ and\n",
    "Beverland parameters $A=0.03$, $p^*=0.01$.\n"
   ]
  },
  {
   "cell_type": "code",
   "execution_count": 8,
   "id": "f012a1b9-8ad2-40f4-96b1-9fd1d7c1ef36",
   "metadata": {},
   "outputs": [
    {
     "name": "stdout",
     "output_type": "stream",
     "text": [
      "Gidney Fowler     QECScheme(error_rate_scaler=0.1, error_rate_threshold=0.01)\n",
      "Beverland et. al. QECScheme(error_rate_scaler=0.03, error_rate_threshold=0.01)\n"
     ]
    }
   ],
   "source": [
    "print(\"Gidney Fowler    \", QECScheme.make_gidney_fowler())\n",
    "print(\"Beverland et. al.\", QECScheme.make_beverland_et_al())"
   ]
  },
  {
   "cell_type": "markdown",
   "id": "47ac0d49-21f8-4c1e-9b67-87d4c4fb70ff",
   "metadata": {},
   "source": [
    "## `PhysicalParameters`\n",
    "\n",
    "The physical parameters of the device include the physical error rate and the cycle time."
   ]
  },
  {
   "cell_type": "code",
   "execution_count": 9,
   "id": "5b782138-f1fa-4525-aecb-ec8782cfd552",
   "metadata": {},
   "outputs": [
    {
     "name": "stdout",
     "output_type": "stream",
     "text": [
      "Beverland el. al. PhysicalParameters(physical_error=0.001, cycle_time_us=0.4)\n",
      "Gidney Fowler     PhysicalParameters(physical_error=0.001, cycle_time_us=1.0)\n"
     ]
    }
   ],
   "source": [
    "from qualtran.surface_code import PhysicalParameters\n",
    "\n",
    "print('Beverland el. al.', PhysicalParameters.make_beverland_et_al())\n",
    "print('Gidney Fowler    ', PhysicalParameters.make_gidney_fowler())"
   ]
  },
  {
   "cell_type": "markdown",
   "id": "a5a938fb-76ef-4ad7-9cd8-4039beffbff5",
   "metadata": {},
   "source": [
    "## Modeling details\n",
    "\n",
    "### Time costs\n",
    "\n",
    "The amount of time to run an algorithm is modeled as the greater of two quantities:\n",
    "The number of cycles required to generate enough magic states (via the `factory`), and\n",
    "the number of cycles required to consume the magic states (via the `data_block`). The model\n",
    "assumes that the rate of magic state generation is slower than the reaction limit. Each\n",
    "cycle takes a fixed amount of wall-clock time, given by the physical parameters."
   ]
  },
  {
   "cell_type": "markdown",
   "id": "350b235d-fe6b-4ca6-b770-a5e3c7e955bd",
   "metadata": {},
   "source": [
    "### Space costs\n",
    "\n",
    "The number of physical qubits is the sum of the number of factory qubits and data block qubits."
   ]
  },
  {
   "cell_type": "markdown",
   "id": "ab026bae-a2d2-4a92-9fd3-a2f667ecbe19",
   "metadata": {},
   "source": [
    "### Error\n",
    "\n",
    "We assume the constituent error probabilities are sufficiently low to permit a first-order\n",
    "approximation for combining sources of error. The total error is the sum of error probabilities\n",
    "due to magic state production (via `factory`) and data errors (via `data_block`). Note that\n",
    "the total error in data storage depends on the number of cycles, which depends on the\n",
    "factory design."
   ]
  },
  {
   "cell_type": "markdown",
   "id": "f552589f-697d-4ed5-8667-b2bc00dcddc5",
   "metadata": {},
   "source": [
    "## Mixing and Matching\n",
    "\n",
    "In this section of the notebook, we show how the various components can be interchanged to explore the variety of the modelling space -- even when just using the default parameters and a fixed code distance $d$. Additional variety can be found by adjusting the design parameters."
   ]
  },
  {
   "cell_type": "code",
   "execution_count": 10,
   "id": "f5c17f8e-3762-45b5-a02e-b42bc9acdb3b",
   "metadata": {},
   "outputs": [],
   "source": [
    "from qualtran.surface_code import SimpleDataBlock, CompactDataBlock, FastDataBlock\n",
    "\n",
    "data_d = 25\n",
    "data_blocks = [\n",
    "    SimpleDataBlock(data_d=data_d),\n",
    "    CompactDataBlock(data_d=data_d),\n",
    "    FastDataBlock(data_d=data_d),\n",
    "]\n",
    "\n",
    "from qualtran.surface_code import CCZ2TFactory, FifteenToOne\n",
    "factories = [\n",
    "    CCZ2TFactory(),\n",
    "    FifteenToOne(data_d, data_d, data_d),\n",
    "]\n",
    "\n",
    "schemes = [\n",
    "    QECScheme.make_gidney_fowler(),\n",
    "    QECScheme.make_beverland_et_al(),\n",
    "]\n",
    "\n",
    "phys_params = [\n",
    "    PhysicalParameters.make_beverland_et_al(),\n",
    "    PhysicalParameters.make_beverland_et_al(optimistic_err_rate=True),\n",
    "    PhysicalParameters.make_gidney_fowler(),\n",
    "    PhysicalParameters.make_gidney_fowler(optimistic_err_rate=True),\n",
    "]"
   ]
  },
  {
   "cell_type": "code",
   "execution_count": 11,
   "id": "453ba8ae-7507-4e8f-a86d-780e56a40a81",
   "metadata": {},
   "outputs": [
    {
     "data": {
      "image/png": "[encoded data removed]",
      "text/plain": [
       "<Figure size 640x480 with 1 Axes>"
      ]
     },
     "metadata": {},
     "output_type": "display_data"
    }
   ],
   "source": [
    "import itertools\n",
    "\n",
    "duration_hr_estimates = []\n",
    "n_physical_qubits_estimates = []\n",
    "for data_block, factory, scheme, phys in itertools.product(data_blocks, factories, schemes, phys_params):\n",
    "    model = PhysicalCostModel(data_block=data_block, factory=factory, qec_scheme=scheme, physical_params=phys)\n",
    "\n",
    "    duration_hr_estimates.append(model.duration_hr(alg))\n",
    "    n_physical_qubits_estimates.append(model.n_phys_qubits(alg))\n",
    "    \n",
    "\n",
    "from matplotlib import pyplot as plt\n",
    "import numpy as np\n",
    "plt.scatter(np.array(n_physical_qubits_estimates)/1e6, duration_hr_estimates)\n",
    "plt.xlabel('# Physical Qubits / million')\n",
    "plt.ylabel('Duration / hr')\n",
    "plt.tight_layout()"
   ]
  }
 ],
 "metadata": {
  "kernelspec": {
   "display_name": "Python 3 (ipykernel)",
   "language": "python",
   "name": "python3"
  },
  "language_info": {
   "codemirror_mode": {
    "name": "ipython",
    "version": 3
   },
   "file_extension": ".py",
   "mimetype": "text/x-python",
   "name": "python",
   "nbconvert_exporter": "python",
   "pygments_lexer": "ipython3",
   "version": "3.11.8"
  }
 },
 "nbformat": 4,
 "nbformat_minor": 5
}
